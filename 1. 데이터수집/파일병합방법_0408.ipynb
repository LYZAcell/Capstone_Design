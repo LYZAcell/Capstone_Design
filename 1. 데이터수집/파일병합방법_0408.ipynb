{
 "cells": [
  {
   "cell_type": "markdown",
   "metadata": {},
   "source": [
    "- noti_janghak.csv와 test.csv합쳐보기\n",
    "- append 해보기"
   ]
  },
  {
   "cell_type": "code",
   "execution_count": 1,
   "metadata": {},
   "outputs": [],
   "source": [
    "import pandas as pd\n",
    "\n",
    "# 첫 번째 CSV 파일 읽기\n",
    "df1 = pd.read_csv(\"noti_janghak.csv\")\n",
    "\n",
    "# 두 번째 CSV 파일 읽기\n",
    "df2 = pd.read_csv(\"test.csv\")\n",
    "\n",
    "# 두 데이터프레임 합치기\n",
    "merged_df = pd.concat([df1, df2], ignore_index=True)\n",
    "\n",
    "# 합쳐진 데이터프레임을 CSV 파일로 저장\n",
    "merged_df.to_csv(\"merged.csv\", index=False)\n"
   ]
  },
  {
   "cell_type": "code",
   "execution_count": 2,
   "metadata": {},
   "outputs": [
    {
     "data": {
      "text/html": [
       "<div>\n",
       "<style scoped>\n",
       "    .dataframe tbody tr th:only-of-type {\n",
       "        vertical-align: middle;\n",
       "    }\n",
       "\n",
       "    .dataframe tbody tr th {\n",
       "        vertical-align: top;\n",
       "    }\n",
       "\n",
       "    .dataframe thead th {\n",
       "        text-align: right;\n",
       "    }\n",
       "</style>\n",
       "<table border=\"1\" class=\"dataframe\">\n",
       "  <thead>\n",
       "    <tr style=\"text-align: right;\">\n",
       "      <th></th>\n",
       "      <th>index</th>\n",
       "      <th>date</th>\n",
       "      <th>title</th>\n",
       "      <th>content</th>\n",
       "    </tr>\n",
       "  </thead>\n",
       "  <tbody>\n",
       "    <tr>\n",
       "      <th>0</th>\n",
       "      <td>1260</td>\n",
       "      <td>2024.03.28</td>\n",
       "      <td>[공통][교내]2024-1 윤강로 장학금 장학생 모집 안내(~4/17)</td>\n",
       "      <td>\\n2024-1윤강로 장학금 장학생 모집 안내\\n\\n아래와 같이2024-1학기 윤강...</td>\n",
       "    </tr>\n",
       "    <tr>\n",
       "      <th>1</th>\n",
       "      <td>1259</td>\n",
       "      <td>2024.03.28</td>\n",
       "      <td>[공통][교내]2024-1 故장경자 장학금 장학생 모집 안내(~4/17)</td>\n",
       "      <td>\\n2024-1故장경자 장학금 장학생 모집 안내\\n\\n아래와 같이2024-1학기故장...</td>\n",
       "    </tr>\n",
       "    <tr>\n",
       "      <th>2</th>\n",
       "      <td>1229</td>\n",
       "      <td>2024.02.20</td>\n",
       "      <td>객원강의교수, 특임강의교수 초빙 합격자 발표(2024-1학기 2차)</td>\n",
       "      <td>\\n객원강의교수, 특임강의교수 초빙 합격자 발표(2024-1학기 2차)\\n\\n합격자...</td>\n",
       "    </tr>\n",
       "    <tr>\n",
       "      <th>3</th>\n",
       "      <td>1228</td>\n",
       "      <td>2024.02.20</td>\n",
       "      <td>강사 초빙 합격자 발표(2024-1학기 2차)</td>\n",
       "      <td>\\n강사 초빙 합격자 발표(2024-1학기 2차)\\n\\n합격자 확인하기\\n\\n\\n한...</td>\n",
       "    </tr>\n",
       "  </tbody>\n",
       "</table>\n",
       "</div>"
      ],
      "text/plain": [
       "   index        date                                     title  \\\n",
       "0   1260  2024.03.28   [공통][교내]2024-1 윤강로 장학금 장학생 모집 안내(~4/17)   \n",
       "1   1259  2024.03.28  [공통][교내]2024-1 故장경자 장학금 장학생 모집 안내(~4/17)   \n",
       "2   1229  2024.02.20     객원강의교수, 특임강의교수 초빙 합격자 발표(2024-1학기 2차)   \n",
       "3   1228  2024.02.20                 강사 초빙 합격자 발표(2024-1학기 2차)   \n",
       "\n",
       "                                             content  \n",
       "0  \\n2024-1윤강로 장학금 장학생 모집 안내\\n\\n아래와 같이2024-1학기 윤강...  \n",
       "1  \\n2024-1故장경자 장학금 장학생 모집 안내\\n\\n아래와 같이2024-1학기故장...  \n",
       "2  \\n객원강의교수, 특임강의교수 초빙 합격자 발표(2024-1학기 2차)\\n\\n합격자...  \n",
       "3  \\n강사 초빙 합격자 발표(2024-1학기 2차)\\n\\n합격자 확인하기\\n\\n\\n한...  "
      ]
     },
     "execution_count": 2,
     "metadata": {},
     "output_type": "execute_result"
    }
   ],
   "source": [
    "merged_df"
   ]
  },
  {
   "cell_type": "code",
   "execution_count": 7,
   "metadata": {},
   "outputs": [],
   "source": [
    "import pandas as pd\n",
    "\n",
    "# 데이터 생성\n",
    "data = {\n",
    "    'index': ['2220', '100'],\n",
    "    'date': ['2019.05.06', '2018.12.25'],\n",
    "    'title': ['인문100년어쩌구', '가족장학어쩌구'],\n",
    "    'content': ['안내좀 읽어', '잉잉어려워']\n",
    "}\n",
    "\n",
    "# 데이터프레임 생성\n",
    "df = pd.DataFrame(data)\n",
    "\n",
    "# CSV 파일로 저장\n",
    "df.to_csv('./toy_data/new_test.csv', index=False)\n"
   ]
  },
  {
   "cell_type": "code",
   "execution_count": 15,
   "metadata": {},
   "outputs": [
    {
     "data": {
      "text/html": [
       "<div>\n",
       "<style scoped>\n",
       "    .dataframe tbody tr th:only-of-type {\n",
       "        vertical-align: middle;\n",
       "    }\n",
       "\n",
       "    .dataframe tbody tr th {\n",
       "        vertical-align: top;\n",
       "    }\n",
       "\n",
       "    .dataframe thead th {\n",
       "        text-align: right;\n",
       "    }\n",
       "</style>\n",
       "<table border=\"1\" class=\"dataframe\">\n",
       "  <thead>\n",
       "    <tr style=\"text-align: right;\">\n",
       "      <th></th>\n",
       "      <th>index</th>\n",
       "      <th>date</th>\n",
       "      <th>title</th>\n",
       "      <th>content</th>\n",
       "    </tr>\n",
       "  </thead>\n",
       "  <tbody>\n",
       "    <tr>\n",
       "      <th>0</th>\n",
       "      <td>2220</td>\n",
       "      <td>2019-05-06</td>\n",
       "      <td>인문100년어쩌구</td>\n",
       "      <td>안내좀 읽어</td>\n",
       "    </tr>\n",
       "    <tr>\n",
       "      <th>1</th>\n",
       "      <td>100</td>\n",
       "      <td>2018-12-25</td>\n",
       "      <td>가족장학어쩌구</td>\n",
       "      <td>잉잉어려워</td>\n",
       "    </tr>\n",
       "    <tr>\n",
       "      <th>2</th>\n",
       "      <td>101</td>\n",
       "      <td>2025-01-01</td>\n",
       "      <td>나 추가할래</td>\n",
       "      <td>가능?</td>\n",
       "    </tr>\n",
       "  </tbody>\n",
       "</table>\n",
       "</div>"
      ],
      "text/plain": [
       "   index        date      title content\n",
       "0   2220  2019-05-06  인문100년어쩌구  안내좀 읽어\n",
       "1    100  2018-12-25    가족장학어쩌구   잉잉어려워\n",
       "2    101  2025-01-01     나 추가할래     가능?"
      ]
     },
     "execution_count": 15,
     "metadata": {},
     "output_type": "execute_result"
    }
   ],
   "source": [
    "df3 = pd.read_csv('./toy_data/new_test.csv', encoding='cp949')\n",
    "df3"
   ]
  },
  {
   "cell_type": "code",
   "execution_count": 21,
   "metadata": {},
   "outputs": [],
   "source": [
    "merged_df_1 = pd.concat([df3, merged_df], ignore_index=True)\n",
    "# 합쳐진 데이터프레임을 CSV 파일로 저장\n",
    "merged_df_1.to_csv(\"merged_1.csv\", index=False)"
   ]
  },
  {
   "cell_type": "code",
   "execution_count": 20,
   "metadata": {},
   "outputs": [
    {
     "data": {
      "text/html": [
       "<div>\n",
       "<style scoped>\n",
       "    .dataframe tbody tr th:only-of-type {\n",
       "        vertical-align: middle;\n",
       "    }\n",
       "\n",
       "    .dataframe tbody tr th {\n",
       "        vertical-align: top;\n",
       "    }\n",
       "\n",
       "    .dataframe thead th {\n",
       "        text-align: right;\n",
       "    }\n",
       "</style>\n",
       "<table border=\"1\" class=\"dataframe\">\n",
       "  <thead>\n",
       "    <tr style=\"text-align: right;\">\n",
       "      <th></th>\n",
       "      <th>index</th>\n",
       "      <th>date</th>\n",
       "      <th>title</th>\n",
       "      <th>content</th>\n",
       "    </tr>\n",
       "  </thead>\n",
       "  <tbody>\n",
       "    <tr>\n",
       "      <th>0</th>\n",
       "      <td>2220</td>\n",
       "      <td>2019-05-06</td>\n",
       "      <td>인문100년어쩌구</td>\n",
       "      <td>안내좀 읽어</td>\n",
       "    </tr>\n",
       "    <tr>\n",
       "      <th>1</th>\n",
       "      <td>100</td>\n",
       "      <td>2018-12-25</td>\n",
       "      <td>가족장학어쩌구</td>\n",
       "      <td>잉잉어려워</td>\n",
       "    </tr>\n",
       "    <tr>\n",
       "      <th>2</th>\n",
       "      <td>101</td>\n",
       "      <td>2025-01-01</td>\n",
       "      <td>나 추가할래</td>\n",
       "      <td>가능?</td>\n",
       "    </tr>\n",
       "    <tr>\n",
       "      <th>3</th>\n",
       "      <td>1260</td>\n",
       "      <td>2024.03.28</td>\n",
       "      <td>[공통][교내]2024-1 윤강로 장학금 장학생 모집 안내(~4/17)</td>\n",
       "      <td>\\n2024-1윤강로 장학금 장학생 모집 안내\\n\\n아래와 같이2024-1학기 윤강...</td>\n",
       "    </tr>\n",
       "    <tr>\n",
       "      <th>4</th>\n",
       "      <td>1259</td>\n",
       "      <td>2024.03.28</td>\n",
       "      <td>[공통][교내]2024-1 故장경자 장학금 장학생 모집 안내(~4/17)</td>\n",
       "      <td>\\n2024-1故장경자 장학금 장학생 모집 안내\\n\\n아래와 같이2024-1학기故장...</td>\n",
       "    </tr>\n",
       "    <tr>\n",
       "      <th>5</th>\n",
       "      <td>1229</td>\n",
       "      <td>2024.02.20</td>\n",
       "      <td>객원강의교수, 특임강의교수 초빙 합격자 발표(2024-1학기 2차)</td>\n",
       "      <td>\\n객원강의교수, 특임강의교수 초빙 합격자 발표(2024-1학기 2차)\\n\\n합격자...</td>\n",
       "    </tr>\n",
       "    <tr>\n",
       "      <th>6</th>\n",
       "      <td>1228</td>\n",
       "      <td>2024.02.20</td>\n",
       "      <td>강사 초빙 합격자 발표(2024-1학기 2차)</td>\n",
       "      <td>\\n강사 초빙 합격자 발표(2024-1학기 2차)\\n\\n합격자 확인하기\\n\\n\\n한...</td>\n",
       "    </tr>\n",
       "  </tbody>\n",
       "</table>\n",
       "</div>"
      ],
      "text/plain": [
       "   index        date                                     title  \\\n",
       "0   2220  2019-05-06                                 인문100년어쩌구   \n",
       "1    100  2018-12-25                                   가족장학어쩌구   \n",
       "2    101  2025-01-01                                    나 추가할래   \n",
       "3   1260  2024.03.28   [공통][교내]2024-1 윤강로 장학금 장학생 모집 안내(~4/17)   \n",
       "4   1259  2024.03.28  [공통][교내]2024-1 故장경자 장학금 장학생 모집 안내(~4/17)   \n",
       "5   1229  2024.02.20     객원강의교수, 특임강의교수 초빙 합격자 발표(2024-1학기 2차)   \n",
       "6   1228  2024.02.20                 강사 초빙 합격자 발표(2024-1학기 2차)   \n",
       "\n",
       "                                             content  \n",
       "0                                             안내좀 읽어  \n",
       "1                                              잉잉어려워  \n",
       "2                                                가능?  \n",
       "3  \\n2024-1윤강로 장학금 장학생 모집 안내\\n\\n아래와 같이2024-1학기 윤강...  \n",
       "4  \\n2024-1故장경자 장학금 장학생 모집 안내\\n\\n아래와 같이2024-1학기故장...  \n",
       "5  \\n객원강의교수, 특임강의교수 초빙 합격자 발표(2024-1학기 2차)\\n\\n합격자...  \n",
       "6  \\n강사 초빙 합격자 발표(2024-1학기 2차)\\n\\n합격자 확인하기\\n\\n\\n한...  "
      ]
     },
     "execution_count": 20,
     "metadata": {},
     "output_type": "execute_result"
    }
   ],
   "source": [
    "# 손수 추가해도 합치기 가능. 다만 csv파일로 만들고 꼭 할 것.\n",
    "df4 = pd.read_csv('merged_1.csv')\n",
    "df4"
   ]
  },
  {
   "cell_type": "markdown",
   "metadata": {},
   "source": [
    "### 방법론\n",
    "- 이미지 추출 -> pandas로 인덱스 지정 및 첫 줄 데이터 첨부해주기 -> 아마 엔코딩이 깨질 것\n",
    "    - 엑셀 켜서 파일 양식 바꿔서 다른이름 저장 -> 이후 엑셀로 켜서 쭉쭉 넣어주기\n",
    "- 중간에 한번씩 잘 들어가는지, 다른데이터와 병합 잘되는지 확인할 것. \n",
    "- 깨지면 encoding utf-8. cp949, or 아예 encoding 안하는 것 확인"
   ]
  },
  {
   "cell_type": "code",
   "execution_count": null,
   "metadata": {},
   "outputs": [],
   "source": []
  }
 ],
 "metadata": {
  "kernelspec": {
   "display_name": "Python 3",
   "language": "python",
   "name": "python3"
  },
  "language_info": {
   "codemirror_mode": {
    "name": "ipython",
    "version": 3
   },
   "file_extension": ".py",
   "mimetype": "text/x-python",
   "name": "python",
   "nbconvert_exporter": "python",
   "pygments_lexer": "ipython3",
   "version": "3.7.6"
  }
 },
 "nbformat": 4,
 "nbformat_minor": 4
}
