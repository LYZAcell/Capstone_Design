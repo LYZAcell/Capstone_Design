{
  "nbformat": 4,
  "nbformat_minor": 0,
  "metadata": {
    "colab": {
      "provenance": [],
      "collapsed_sections": [
        "ruXhbiMVTSzV",
        "FwZoIET0GDA3",
        "zqan3NAPfjlF",
        "lGIakClFy_fu",
        "TwmPtKBOvK4-",
        "OScF9DEDtZ5R",
        "Z7OGJ-A4ZbqM",
        "EvZtfKhkuz6n"
      ]
    },
    "kernelspec": {
      "name": "python3",
      "display_name": "Python 3"
    },
    "language_info": {
      "name": "python"
    }
  },
  "cells": [
    {
      "cell_type": "markdown",
      "source": [
        "# 수연님 파일 사본\n",
        "- 이가영 복사"
      ],
      "metadata": {
        "id": "W0BIqLxJMDJr"
      }
    },
    {
      "cell_type": "markdown",
      "source": [
        "# OKT 사용자 사전"
      ],
      "metadata": {
        "id": "gTeZQ43OmZ4Y"
      }
    },
    {
      "cell_type": "code",
      "source": [
        "import os\n",
        "#마운트\n",
        "from google.colab import drive\n",
        "drive.mount('/content/drive')"
      ],
      "metadata": {
        "id": "avn4VT_Dtcee",
        "colab": {
          "base_uri": "https://localhost:8080/"
        },
        "outputId": "442d02ec-958f-49a8-a875-f955eeeb173e"
      },
      "execution_count": 409,
      "outputs": [
        {
          "output_type": "stream",
          "name": "stdout",
          "text": [
            "Drive already mounted at /content/drive; to attempt to forcibly remount, call drive.mount(\"/content/drive\", force_remount=True).\n"
          ]
        }
      ]
    },
    {
      "cell_type": "code",
      "source": [
        "pwd"
      ],
      "metadata": {
        "colab": {
          "base_uri": "https://localhost:8080/",
          "height": 35
        },
        "id": "4qDbnNUWMSZV",
        "outputId": "5347805d-b517-4539-d094-e09d8d17551f"
      },
      "execution_count": 410,
      "outputs": [
        {
          "output_type": "execute_result",
          "data": {
            "text/plain": [
              "'/usr/local/lib/python3.10/dist-packages/konlpy/java'"
            ],
            "application/vnd.google.colaboratory.intrinsic+json": {
              "type": "string"
            }
          },
          "metadata": {},
          "execution_count": 410
        }
      ]
    },
    {
      "cell_type": "code",
      "source": [
        "#현재 경로. 보통 ./content일거에요!\n",
        "os.getcwd()\n",
        "#os.chdir('..')\n",
        "os.chdir(\"./drive/MyDrive/csv모음\")\n",
        "#os.getcwd()"
      ],
      "metadata": {
        "id": "btQD6QFCtc5O",
        "colab": {
          "base_uri": "https://localhost:8080/",
          "height": 202
        },
        "outputId": "0d827d9b-20f4-4196-f17b-9a28443d3758"
      },
      "execution_count": 411,
      "outputs": [
        {
          "output_type": "error",
          "ename": "FileNotFoundError",
          "evalue": "[Errno 2] No such file or directory: './drive/MyDrive/csv모음'",
          "traceback": [
            "\u001b[0;31m---------------------------------------------------------------------------\u001b[0m",
            "\u001b[0;31mFileNotFoundError\u001b[0m                         Traceback (most recent call last)",
            "\u001b[0;32m<ipython-input-411-08ced8daba4b>\u001b[0m in \u001b[0;36m<cell line: 4>\u001b[0;34m()\u001b[0m\n\u001b[1;32m      2\u001b[0m \u001b[0mos\u001b[0m\u001b[0;34m.\u001b[0m\u001b[0mgetcwd\u001b[0m\u001b[0;34m(\u001b[0m\u001b[0;34m)\u001b[0m\u001b[0;34m\u001b[0m\u001b[0;34m\u001b[0m\u001b[0m\n\u001b[1;32m      3\u001b[0m \u001b[0;31m#os.chdir('..')\u001b[0m\u001b[0;34m\u001b[0m\u001b[0;34m\u001b[0m\u001b[0m\n\u001b[0;32m----> 4\u001b[0;31m \u001b[0mos\u001b[0m\u001b[0;34m.\u001b[0m\u001b[0mchdir\u001b[0m\u001b[0;34m(\u001b[0m\u001b[0;34m\"./drive/MyDrive/csv모음\"\u001b[0m\u001b[0;34m)\u001b[0m\u001b[0;34m\u001b[0m\u001b[0;34m\u001b[0m\u001b[0m\n\u001b[0m\u001b[1;32m      5\u001b[0m \u001b[0;31m#os.getcwd()\u001b[0m\u001b[0;34m\u001b[0m\u001b[0;34m\u001b[0m\u001b[0m\n",
            "\u001b[0;31mFileNotFoundError\u001b[0m: [Errno 2] No such file or directory: './drive/MyDrive/csv모음'"
          ]
        }
      ]
    },
    {
      "cell_type": "code",
      "source": [
        "#konlpy 다운 및 호출\n",
        "#1. Konlpy에서 Okt\n",
        "!pip install konlpy\n",
        "#2. konlpy 실행을 위한 자바어쩌구 다운\n",
        "!apt-get install openjdk-8-jdk-headless -qq > /dev/null\n",
        "#3. 필요한 설정\n",
        "import os\n",
        "os.environ[\"JAVA_HOME\"] = \"/usr/lib/jvm/java-8-openjdk-amd64\"\n",
        "from konlpy.tag import Okt"
      ],
      "metadata": {
        "id": "gfHulj0wtc7W"
      },
      "execution_count": null,
      "outputs": []
    },
    {
      "cell_type": "code",
      "source": [
        "okt = Okt()"
      ],
      "metadata": {
        "id": "BmpHnw45tc-F"
      },
      "execution_count": 406,
      "outputs": []
    },
    {
      "cell_type": "code",
      "source": [
        "# 사용자 사전 찾아가기 및 경로 설정 _ 여기서 오류가 날 시 코랩에서 폴더 열어서 usr,local 찾아가보시며 폴더명이 일치하는지 확인해보세요! 보통 파이썬 버전이 다릅니다.\n",
        "os.chdir('/usr/local/lib/python3.10/dist-packages/konlpy/java')\n",
        "os.getcwd()"
      ],
      "metadata": {
        "colab": {
          "base_uri": "https://localhost:8080/",
          "height": 35
        },
        "id": "5oGI1OAKtdBm",
        "outputId": "9962c9ac-9b0e-4e42-e861-00d2e0bfe359"
      },
      "execution_count": 407,
      "outputs": [
        {
          "output_type": "execute_result",
          "data": {
            "text/plain": [
              "'/usr/local/lib/python3.10/dist-packages/konlpy/java'"
            ],
            "application/vnd.google.colaboratory.intrinsic+json": {
              "type": "string"
            }
          },
          "metadata": {},
          "execution_count": 407
        }
      ]
    },
    {
      "cell_type": "code",
      "source": [
        "pwd"
      ],
      "metadata": {
        "colab": {
          "base_uri": "https://localhost:8080/",
          "height": 35
        },
        "id": "maHxkibQV3_m",
        "outputId": "2cedd90c-e037-4e15-faca-be195ca11852"
      },
      "execution_count": 412,
      "outputs": [
        {
          "output_type": "execute_result",
          "data": {
            "text/plain": [
              "'/usr/local/lib/python3.10/dist-packages/konlpy/java'"
            ],
            "application/vnd.google.colaboratory.intrinsic+json": {
              "type": "string"
            }
          },
          "metadata": {},
          "execution_count": 412
        }
      ]
    },
    {
      "cell_type": "code",
      "source": [
        "#jar파일을 풀어줄 폴더이름을 정합니다. 저는 temp_fix로 했어요!\n",
        "#os.makedirs('./temp_fix')\n",
        "os.chdir('./temp_fix')\n",
        "os.getcwd()"
      ],
      "metadata": {
        "colab": {
          "base_uri": "https://localhost:8080/",
          "height": 35
        },
        "id": "Oi6tN-WjtdD4",
        "outputId": "1281305f-ff87-468f-a8fe-8cc5004d4d9c"
      },
      "execution_count": 413,
      "outputs": [
        {
          "output_type": "execute_result",
          "data": {
            "text/plain": [
              "'/usr/local/lib/python3.10/dist-packages/konlpy/java/temp_fix'"
            ],
            "application/vnd.google.colaboratory.intrinsic+json": {
              "type": "string"
            }
          },
          "metadata": {},
          "execution_count": 413
        }
      ]
    },
    {
      "cell_type": "code",
      "source": [
        "#inflated어쩌고 쭉뜨고 맨끝에 에러 없으면 잘된겁니다!\n",
        "!jar xvf ../open-korean-text-2.1.0.jar"
      ],
      "metadata": {
        "colab": {
          "base_uri": "https://localhost:8080/"
        },
        "id": "NBMYB5JbtdFa",
        "outputId": "fa61f89c-998b-4c49-d31b-cb2af1154b54"
      },
      "execution_count": 414,
      "outputs": [
        {
          "output_type": "stream",
          "name": "stdout",
          "text": [
            "  created: META-INF/\n",
            " inflated: META-INF/MANIFEST.MF\n",
            "  created: META-INF/maven/\n",
            "  created: META-INF/maven/org.openkoreantext/\n",
            "  created: META-INF/maven/org.openkoreantext/open-korean-text/\n",
            " inflated: META-INF/maven/org.openkoreantext/open-korean-text/pom.xml\n",
            " inflated: META-INF/maven/org.openkoreantext/open-korean-text/pom.properties\n",
            "  created: org/\n",
            "  created: org/openkoreantext/\n",
            "  created: org/openkoreantext/processor/\n",
            " inflated: org/openkoreantext/processor/OpenKoreanTextProcessorJava.class\n",
            " inflated: org/openkoreantext/processor/KoreanPosJava.class\n",
            "  created: org/openkoreantext/processor/tokenizer/\n",
            " inflated: org/openkoreantext/processor/tokenizer/KoreanTokenizer$KoreanToken$.class\n",
            " inflated: org/openkoreantext/processor/tokenizer/KoreanTokenizer$.class\n",
            " inflated: org/openkoreantext/processor/tokenizer/KoreanChunker.class\n",
            " inflated: org/openkoreantext/processor/tokenizer/KoreanTokenizer$PossibleTrie$.class\n",
            " inflated: org/openkoreantext/processor/tokenizer/KoreanChunker$.class\n",
            " inflated: org/openkoreantext/processor/tokenizer/TokenizerProfile$.class\n",
            " inflated: org/openkoreantext/processor/tokenizer/TokenizerProfile.class\n",
            " inflated: org/openkoreantext/processor/tokenizer/KoreanChunker$ChunkMatch.class\n",
            " inflated: org/openkoreantext/processor/tokenizer/KoreanDetokenizer.class\n",
            " inflated: org/openkoreantext/processor/tokenizer/ParsedChunk.class\n",
            " inflated: org/openkoreantext/processor/tokenizer/Sentence$.class\n",
            " inflated: org/openkoreantext/processor/tokenizer/KoreanTokenizer$CandidateParse$.class\n",
            " inflated: org/openkoreantext/processor/tokenizer/KoreanChunk$.class\n",
            " inflated: org/openkoreantext/processor/tokenizer/KoreanTokenizer.class\n",
            " inflated: org/openkoreantext/processor/tokenizer/KoreanDetokenizer$.class\n",
            " inflated: org/openkoreantext/processor/tokenizer/Sentence.class\n",
            " inflated: org/openkoreantext/processor/tokenizer/KoreanSentenceSplitter.class\n",
            " inflated: org/openkoreantext/processor/tokenizer/KoreanChunker$ChunkMatch$.class\n",
            " inflated: org/openkoreantext/processor/tokenizer/KoreanTokenizer$PossibleTrie.class\n",
            " inflated: org/openkoreantext/processor/tokenizer/ParsedChunk$.class\n",
            " inflated: org/openkoreantext/processor/tokenizer/KoreanSentenceSplitter$.class\n",
            " inflated: org/openkoreantext/processor/tokenizer/KoreanTokenizer$KoreanToken.class\n",
            " inflated: org/openkoreantext/processor/tokenizer/KoreanTokenizer$CandidateParse.class\n",
            " inflated: org/openkoreantext/processor/tokenizer/KoreanChunk.class\n",
            "  created: org/openkoreantext/processor/qa/\n",
            " inflated: org/openkoreantext/processor/qa/BatchGetUnknownNouns.class\n",
            " inflated: org/openkoreantext/processor/qa/KoreanProcessorSandbox.class\n",
            " inflated: org/openkoreantext/processor/qa/BatchTokenizeTweets$ParseTime.class\n",
            " inflated: org/openkoreantext/processor/qa/KoreanProcessorSandbox$.class\n",
            " inflated: org/openkoreantext/processor/qa/BatchTokenizeTweets$ParseTime$.class\n",
            " inflated: org/openkoreantext/processor/qa/BatchGetUnknownNouns$ChunkWithTweet.class\n",
            " inflated: org/openkoreantext/processor/qa/BatchGetUnknownNouns$ChunkWithTweet$.class\n",
            " inflated: org/openkoreantext/processor/qa/BatchGetUnknownNouns$.class\n",
            " inflated: org/openkoreantext/processor/qa/BatchTokenizeTweets.class\n",
            " inflated: org/openkoreantext/processor/qa/BatchTokenizeTweets$.class\n",
            " inflated: org/openkoreantext/processor/KoreanTokenJava.class\n",
            "  created: org/openkoreantext/processor/util/\n",
            "  created: org/openkoreantext/processor/util/typos/\n",
            " inflated: org/openkoreantext/processor/util/typos/typos.txt\n",
            " inflated: org/openkoreantext/processor/util/KoreanSubstantive$.class\n",
            " inflated: org/openkoreantext/processor/util/KoreanDictionaryProvider.class\n",
            "  created: org/openkoreantext/processor/util/auxiliary/\n",
            " inflated: org/openkoreantext/processor/util/auxiliary/exclamation.txt\n",
            " inflated: org/openkoreantext/processor/util/auxiliary/conjunctions.txt\n",
            " inflated: org/openkoreantext/processor/util/auxiliary/determiner.txt\n",
            " inflated: org/openkoreantext/processor/util/example_chunks.txt\n",
            " inflated: org/openkoreantext/processor/util/CharacterUtils$Java4CharacterUtils.class\n",
            "  created: org/openkoreantext/processor/util/substantives/\n",
            " inflated: org/openkoreantext/processor/util/substantives/family_names.txt\n",
            " inflated: org/openkoreantext/processor/util/substantives/given_names.txt\n",
            " inflated: org/openkoreantext/processor/util/substantives/suffix.txt\n",
            " inflated: org/openkoreantext/processor/util/substantives/modifier.txt\n",
            "  created: org/openkoreantext/processor/util/adverb/\n",
            " inflated: org/openkoreantext/processor/util/adverb/adverb.txt\n",
            "  created: org/openkoreantext/processor/util/freq/\n",
            " inflated: org/openkoreantext/processor/util/freq/entity-freq.txt.gz\n",
            "  created: org/openkoreantext/processor/util/adjective/\n",
            " inflated: org/openkoreantext/processor/util/adjective/adjective.txt\n",
            " inflated: org/openkoreantext/processor/util/KoreanConjugation$.class\n",
            " inflated: org/openkoreantext/processor/util/CharArrayMap.class\n",
            " inflated: org/openkoreantext/processor/util/CharArrayMap$UnmodifiableCharArrayMap.class\n",
            " inflated: org/openkoreantext/processor/util/Hangul$DoubleCoda.class\n",
            " inflated: org/openkoreantext/processor/util/CharArrayMap$1.class\n",
            " inflated: org/openkoreantext/processor/util/example_tweets.txt\n",
            "  created: org/openkoreantext/processor/util/verb/\n",
            " inflated: org/openkoreantext/processor/util/verb/eomi.txt\n",
            " inflated: org/openkoreantext/processor/util/verb/pre_eomi.txt\n",
            " inflated: org/openkoreantext/processor/util/verb/verb_prefix.txt\n",
            " inflated: org/openkoreantext/processor/util/verb/verb.txt\n",
            " inflated: org/openkoreantext/processor/util/Hangul$HangulChar.class\n",
            " inflated: org/openkoreantext/processor/util/CharacterUtils.class\n",
            " inflated: org/openkoreantext/processor/util/CharArrayMap$MapEntry.class\n",
            " inflated: org/openkoreantext/processor/util/CharacterUtils$Java5CharacterUtils.class\n",
            " inflated: org/openkoreantext/processor/util/Hangul.class\n",
            " inflated: org/openkoreantext/processor/util/KoreanSubstantive.class\n",
            " inflated: org/openkoreantext/processor/util/CharArrayMap$EntrySet.class\n",
            " inflated: org/openkoreantext/processor/util/Hangul$HangulChar$.class\n",
            "  created: org/openkoreantext/processor/util/noun/\n",
            " inflated: org/openkoreantext/processor/util/noun/twitter.txt\n",
            " inflated: org/openkoreantext/processor/util/noun/bible.txt\n",
            " inflated: org/openkoreantext/processor/util/noun/company_names.txt\n",
            " inflated: org/openkoreantext/processor/util/noun/geolocations.txt\n",
            " inflated: org/openkoreantext/processor/util/noun/foreign.txt\n",
            " inflated: org/openkoreantext/processor/util/noun/names.txt\n",
            " inflated: org/openkoreantext/processor/util/noun/entities.txt\n",
            " inflated: org/openkoreantext/processor/util/noun/lol.txt\n",
            " inflated: org/openkoreantext/processor/util/noun/congress.txt\n",
            " inflated: org/openkoreantext/processor/util/noun/profane.txt\n",
            " inflated: org/openkoreantext/processor/util/noun/kpop.txt\n",
            " inflated: org/openkoreantext/processor/util/noun/pokemon.txt\n",
            " inflated: org/openkoreantext/processor/util/noun/slangs.txt\n",
            " inflated: org/openkoreantext/processor/util/noun/nouns.txt\n",
            " inflated: org/openkoreantext/processor/util/noun/wikipedia_title_nouns.txt\n",
            " inflated: org/openkoreantext/processor/util/noun/spam.txt\n",
            " inflated: org/openkoreantext/processor/util/KoreanPos$.class\n",
            "  created: org/openkoreantext/processor/util/josa/\n",
            " inflated: org/openkoreantext/processor/util/josa/josa.txt\n",
            " inflated: org/openkoreantext/processor/util/CharArrayMap$EntryIterator.class\n",
            " inflated: org/openkoreantext/processor/util/CharArraySet.class\n",
            " inflated: org/openkoreantext/processor/util/KoreanPos$KoreanPosTrie.class\n",
            " inflated: org/openkoreantext/processor/util/Hangul$.class\n",
            " inflated: org/openkoreantext/processor/util/KoreanDictionaryProvider$.class\n",
            " inflated: org/openkoreantext/processor/util/CharacterUtils$CharacterBuffer.class\n",
            " inflated: org/openkoreantext/processor/util/CharArrayMap$EmptyCharArrayMap.class\n",
            " inflated: org/openkoreantext/processor/util/Hangul$DoubleCoda$.class\n",
            " inflated: org/openkoreantext/processor/util/KoreanConjugation.class\n",
            " inflated: org/openkoreantext/processor/util/KoreanPos.class\n",
            " inflated: org/openkoreantext/processor/util/KoreanPos$KoreanPosTrie$.class\n",
            "  created: org/openkoreantext/processor/phrase_extractor/\n",
            " inflated: org/openkoreantext/processor/phrase_extractor/KoreanPhraseExtractor$PhraseBuffer$.class\n",
            " inflated: org/openkoreantext/processor/phrase_extractor/KoreanPhraseExtractor$KoreanPhrase.class\n",
            " inflated: org/openkoreantext/processor/phrase_extractor/KoreanPhraseExtractor$PhraseBuffer.class\n",
            " inflated: org/openkoreantext/processor/phrase_extractor/KoreanPhraseExtractor$KoreanPhrase$.class\n",
            " inflated: org/openkoreantext/processor/phrase_extractor/KoreanPhraseExtractor.class\n",
            " inflated: org/openkoreantext/processor/phrase_extractor/KoreanPhraseExtractor$.class\n",
            "  created: org/openkoreantext/processor/stemmer/\n",
            " inflated: org/openkoreantext/processor/stemmer/KoreanStemmer.class\n",
            " inflated: org/openkoreantext/processor/stemmer/KoreanStemmer$.class\n",
            " inflated: org/openkoreantext/processor/OpenKoreanTextProcessor.class\n",
            " inflated: org/openkoreantext/processor/OpenKoreanTextProcessor$.class\n",
            "  created: org/openkoreantext/processor/normalizer/\n",
            " inflated: org/openkoreantext/processor/normalizer/KoreanNormalizer$.class\n",
            " inflated: org/openkoreantext/processor/normalizer/KoreanNormalizer.class\n",
            " inflated: org/openkoreantext/processor/normalizer/KoreanNormalizer$Segment$.class\n",
            " inflated: org/openkoreantext/processor/normalizer/KoreanNormalizer$Segment.class\n",
            "  created: org/openkoreantext/processor/tools/\n",
            " inflated: org/openkoreantext/processor/tools/UpdateAllTheExamples.class\n",
            " inflated: org/openkoreantext/processor/tools/Runnable.class\n",
            " inflated: org/openkoreantext/processor/tools/CreateParsingExamples$ParsingExample.class\n",
            " inflated: org/openkoreantext/processor/tools/CreatePhraseExtractionExamples$.class\n",
            " inflated: org/openkoreantext/processor/tools/CreateParsingExamples.class\n",
            " inflated: org/openkoreantext/processor/tools/UpdateAllTheExamples$.class\n",
            " inflated: org/openkoreantext/processor/tools/CreateConjugationExamples.class\n",
            " inflated: org/openkoreantext/processor/tools/CreatePhraseExtractionExamples$PhraseExample$.class\n",
            " inflated: org/openkoreantext/processor/tools/DeduplicateAndSortDictionaries.class\n",
            " inflated: org/openkoreantext/processor/tools/CreateConjugationExamples$.class\n",
            " inflated: org/openkoreantext/processor/tools/CreateParsingExamples$.class\n",
            " inflated: org/openkoreantext/processor/tools/CreateConjugationExamples$ConjugationExample.class\n",
            " inflated: org/openkoreantext/processor/tools/CreatePhraseExtractionExamples$PhraseExample.class\n",
            " inflated: org/openkoreantext/processor/tools/CreatePhraseExtractionExamples.class\n",
            " inflated: org/openkoreantext/processor/tools/CreateChunkParsingCandidates$.class\n",
            " inflated: org/openkoreantext/processor/tools/DeduplicateAndSortDictionaries$.class\n",
            " inflated: org/openkoreantext/processor/tools/CreateParsingExamples$ParsingExample$.class\n",
            " inflated: org/openkoreantext/processor/tools/CreateChunkParsingCandidates.class\n",
            " inflated: org/openkoreantext/processor/tools/CreateConjugationExamples$ConjugationExample$.class\n"
          ]
        }
      ]
    },
    {
      "cell_type": "code",
      "source": [
        "# 사용자 사전 열기\n",
        "with open(f\"/usr/local/lib/python3.10/dist-packages/konlpy/java/temp_fix/org/openkoreantext/processor/util/noun/names.txt\") as f:\n",
        "    data = f.read()\n",
        "data"
      ],
      "metadata": {
        "colab": {
          "base_uri": "https://localhost:8080/",
          "height": 146
        },
        "id": "29CLbx7HtdH7",
        "outputId": "3c68010c-1f20-4e1e-dfc5-a61891e66737"
      },
      "execution_count": 415,
      "outputs": [
        {
          "output_type": "execute_result",
          "data": {
            "text/plain": [
              "'가몽\\n가온\\n갓세븐\\n강새이\\n게임닉가\\n관우\\n귀여미\\n규\\n김유이\\n김준면\\n까까런\\n노컷\\n누너예\\n니노\\n다마고치\\n다이무스\\n대학생\\n데이브\\n도요토미\\n동운\\n동이\\n두주니\\n디시인사이드\\n디오\\n라몹\\n라스\\n라옵\\n멍구\\n메이든\\n명덕\\n명량\\n문민정부\\n미네\\n방엘리\\n병헌\\n붓다\\n비정상회담\\n빼빼로\\n삼풍\\n샤인온미\\n성식\\n성열\\n세라문\\n세라복\\n세종대왕\\n손권\\n손책\\n쇼미더머니\\n쇼챔\\n순규\\n스라소니\\n신동아\\n신쓰패밀리\\n신아라\\n아베\\n안상홍\\n안홍준\\n여누\\n여랑\\n여포\\n연합\\n오꾸닭\\n요섭\\n웃찾사\\n원식\\n유병언\\n유비\\n유이\\n윤기형\\n이나단\\n이명박\\n이완용\\n임창용\\n자괴\\n자니윤\\n자대련\\n자유\\n재중이\\n전교조\\n정윤회\\n제갈량\\n조자룡\\n조조\\n준면\\n지오디\\n지존파\\n진영오\\n차작가\\n차트\\n창섭\\n챠트\\n첸\\n코르사주\\n하무열\\n하용파쿠\\n혁재\\n현이\\n현태\\n혜미\\n한국외국어대학교\\n한국외대\\n안내\\\\종합정보시스템\\\\공고\\n이수\\n학기\\n대하여\\n아래\\n수강편람\\n이중전공\\n수강신청함\\n수강신청\\n예비수강신청\\n교무처장\\n수강료\\n등록기간\\n수강신청자\\n한하다\\n미수강신청자\\n납부불가\\n핫링크\\n고지서출력\\n가상계좌\\n붙임파일\\n모바일앱\\n내역\\n인터넷뱅킹\\n텔레뱅킹\\n개시일\\n신청\\n마감\\n마감일\\n수강취소\\n수강변경\\\\종합정보화면\\n계절학기\\n부분환불\\n계절학기\\\\학년도\\n접수일\\n학석사\\n학사\\n석사\\n연계\\n과정생\\n접수처\\n학사종합지원센터\\n양캠퍼스\\n통번역\\n이수\\n미배정\\n부전공\\\\여석\\n이수\\n지원\\n학사종합지원센터\\n한국예술종합학교\\n특성화\\n수강편람\\n실용외국어\\n공동교양\\n여석\\\\졸업\\n사정\\n결과\\n확정자\\n불가자\\n개강일\\n우리대학교\\n우리대학\\n안내문\\n학위\\n학위증\\n코로나바이러스\\n신종코로나바이러스\\nHUFS\\n양캠퍼스\\n서울캠퍼스\\n글로벌캠퍼스\\n서울글로벌캠퍼스\\n서울·글로벌캠퍼스\\n우리은행\\n단과대학\\n졸업시험\\n논문\\n제적\\n졸업요건\\n지역학사\\n지역전문가과정\\n수료졸업대기\\nELLT학과\\n영어학과\\n아랍어과\\n미디어커뮤니케이션학부\\n영어전공\\n영미문학문화학과\\n태국어과\\n경제학부\\nEICC학과\\n영어통번역학과\\n베트남어과\\n국제통상학과\\\\이란어과\\n경영학부\\n프랑스어학부\\n인도어과\\n영어교육과\\n독일어과\\n터키아제르바이잔어과\\n프랑스어교육과\\n노어과\\n몽골어과\\n독일어교육과\\n스페인어과\\n중국언어문화학부\\n한국어교육과\\n이탈리아어과\\n중국외교통상학부\\n국제학부\\n포르투갈어과\\n그리스불가리아학과\\n일본언어문화학부\\n사회과학전공\\n네덜란드어과\\n융합일본지역학부\\nLD전공\\n스칸디나비아어과\\n정치외교학과\\nLT전공\\n말레이인도네시아어과\\n행정학과\\n서양어대학\\n아시아언어문화대학\\n중국어대학\\n일본어대학\\n사회과학\\n상경\\n경영\\n국제학부\\n사회과학전공\\n사범대학\\n교직n실용외국어\\n군입대\\n입영통지서\\n미비\\n미충족\\n등록휴학\\n휴학\\n전역일\\n증빙서류\\n1학기\\n2학기\\n개강\\n종강\\n학사일정\\n행사명\\n조치사항\\n참고사항\\n공고\\n부서명\\n학년도\\n개설학과\\n학수번호\\\\교과목명\\\\시간\\n교강사명\\n강의시간\\n폐강공고\\n일정\\n단과대\\n배부처\\n문의\\n동유럽학대학\\n국제지역대학\\n어문학관\\n통번역대학\\n인문대학\\n경상대학\\n자연과학대학\\n학생회관\\n공과대학\\n바이오메디컬공학부\\n졸업증명서\\n문의\\n전화\\\\문의전화\\n원스톱서비스센터\\n졸업예정증명서\\n편입생\\n신입생\\n신편입생\\n아래\\nQR코드\\n지양하다\\n투명성\\n공정성\\n외국인교환학생\\n외국인방문학생\\n첫학기\\n영어진단평가\\n원격\\n비대면\\ne-Class\\neclass\\n이클래스\\n안내하다\\n전자출결\\n전자출결시스템\\n체계적인\\n엄정성\\n공고\\n코로나19\\n일반휴학\\n신청\\n별도문의\\nCOVID-19\\nCovid19\\\\covid19\\n중간시험\\\\기말시험\\n응시인원\\nCommunicativeEnglish\\nLS\\nL/S\\n우리대학\\n콜로키움\\nEU연구소\\n인문사회연구사업단\\n온·오프라인\\n온오프라인\\nHK+사업단\\n국제관\\n인도연구소\\n패널티\\n수습국원\\n추가모집\\n게시물\\n외대교육방송국\\n교수학습개발원\\nFBS\\\\주한브라질대사관\\n세계여성의날\\\\스마트도서관\\n휠라아쿠쉬네트홀\\n영화\\n상영\\n한국어자막\\\\대학혁신지원사업\\n아이디어톤\\n수도권역\\n미래대학투모로우솔루션\\n미네르바헬스장\\n교육생\\n휴관\\n금모닝\\n글로벌캠퍼스\\n누구나\\n회차별\\n보건실\\n대한적십자사\\n헌혈증\\n헌혈자\\n성격유형검사\\n핵심역량통합관리시스템\\nHufsability\\n교과\\n비교과\\n서울학생상담센터\\n추후공지\\n청년몽땅정보통\\n마이페이지\\n문의처\\n다산콜센터\\\\특별전형\\n일반전형\\n면접전형\\n등록예치금\\n예치금\\n모집\\n학과\\n전공\\nTESOL대학원\\n세미오시스연구센터\\n서울학생상담센터\\n전문\\n경영대학원\\n해당일\\n접수마감일\\n해당학기\\n졸업자\\n졸업예정자\\n외국대학n소지자\\n한국어능력시험\\n입증서류\\n출신학교\\n주한공관영사\\n입증서류\\n학사학위\\n학사\\n최종학력\\n증명\\n학위증서\\n개인정보이용및제공동의서\\n기타서류\\n해당자\\n추천서\\n경력증명서\\n외국국적지원자\\n성적증명서\\n총점\\n사이버외대\\n군인공제회직원\\n학교교직원\\n첫학기\\n입학금\\n운영위원회\\n전형료\\n우편접수\\n입학원서\\n본인날인\\n서명함\\n수험표\\n지참\\n제출서류\\n외국어교육센터\\nK-Zone\\nNoshow\\n출석차감\\n1교시\\n2교시\\n3교시\\n4교시\\n5교시\\n6교시\\n7교시\\n8교시\\n9교시\\n10교시\\n11교시\\n12교시\\n작문\\n대학영어\\n중간시험\\n보충수업\\n추가모집\\n창업자\\nAI/SW\\n모집공고\\n모집분야\\n일반창업\\n스펙업\\n졸업대기자\\n수료생\\nSW중심대학사업단\\nAI교육원\\nSW관련학과\\n컴퓨터공학부\\n정보통신공학부\\nGBT전공\\nELLT학과\\nAI융합전공\\n데이터사이언스전공\\n바이오데이터사이언스전공\\nICT&AI세부모듈\\n수혜제외\\n초과학기생\\n초과학기\\n9학기\\n1학기\\n2학기\\n3학기\\n4학기\\n5학기\\n6학기\\n7학기\\n8학기\\n지원사항\\n팀별\\n개인별\\n사업자등록증n최종보고서\\n학기말\\n학기초\\n전세계\\n삼성그룹\\nLG그룹\\n주기적\\n인증테스트\\n비교과\\n굿즈\\n코로나19\\n경제적\\n지원\\n타지역\\n이에\\n랜선나눔캠퍼스\\n활동개요\\n신청기간\\n비합격\\n비선발자\\n최종합격자\\n활동불가자\\n활동혜택\\n자기소개서\\n1부\\n학습계획서\\n증빙자료\\n재학증명서\\n1차합격\\n2차합격\\n스캔\\n활동비\\\\소득세\\n지방소득세\\n문의처\\n추후공지\\n공공인재개발원\\n개인사물함\\n행정입법고시\\n2차모의고사\\n수험서적\\n사민재\\n세미나실\\n국제학생회\\n본교생\\n외국인교환학생\\n정기총회\\n뵨교재학생\\n버디프로그램\\n홍보팀\\n 기획컬처팀\\n국제교류처\\n국제교류처장\\n불합격자\\n코로나-19\\n양성판정\\n음성판정\\n양성\\n음성\\n최종합격자\\nQ&A\\n필참\\n퇴출\\n정기활동\\n이메일접수\\n시험일정\\n구분\\n시간\\n비고\\n시험장소\\n입실완료\\n인문과학관\\n졸업유예생\\n학부생들\\n코로나-19\\n글로벌캠퍼스\\n보건실\\n학생부종합전형\\n합격수기\\n선배들\\n글로벌창업지원단\\n창업인재양성센터\\n창업동아리\\n미디어커뮤니케이션대학원\\n대학원장\\nCulture&Technology융합대학n지원자격\\n지원서\\n접수\\n평가요소\\n영자신문사\\nTheArgus\\n수습기자\\n디아거스\\n공식홈페이지\\n공식인스타그램\\n사회봉사센터\\n국제학사\\n우편접수\\n서울시동대문구이문로107\\n대학안전관리계획\\n붙임팡리\\n안전보건관리팀\\n동원번역상\\n한국외국어대학교\\n한국외대\\n안내\\\\종합정보시스템\\\\공고\\n이수\\n학기\\n대하여\\\\장학재단\\n장학생\\n지원불가\\n자녀학자금\\n다자녀\\n지자체\\nHUFS앱\\n한국외대앱\\n부모\\n인문사회계열\\n제출서류\\n장학생신청서\\n추천서\\n추천소견\\n총장직인\\n자기소개서\\n전공분야\\n학습계획\\n졸업후진로\\n자유양식\\nA4\\n이내\\n주민등록등본\\n개인정보\\n기초생활수급권자\\n기초생활수급자증명서\\n기초생활수급자\\\\차상위계층\\n모자가정\\n부자가정\\n주민센터\\n한부모가정\\n건강보험증\\n건강보험자격확인서\\n과세자\\n급여생활자\\n원천징수\\n근로소득\\\\근무처\\n비사업자\\n수상내역\\n어학성적\\n입상경력증명서\\n봉사활동내역확인서\\n심신장애증명서\\n장애인등록수첩\\n장애인카드\\n직계가족\\n임대차계약서\\n학생지원팀\\n무이자\\n농어업인\\n농어업\\n융자금\\n정규학기\\n건강보험료\\n한국장학재단\\n학자금대출\\n지원자격\\n직전학기\\n학부모\\n1구간\\n2구간\\n3구간\\x04구간\\n5구간\\n6구간\\n7구간\\n8구간\\n9구간\\n10구간\\n지원대상\\n다문화가족\\n다자녀가구\\n소득구간\\n거주자\\n4년제\\n정규대학\\n중증\\n석박사\\n이공계\\n직전학기\\n등록금납입영수증\\n등록금납입\\n통장사본\\n기획홍보팀\\n사회복지사\\n학생인재개발처\\n추가등록\\n등록기간\\n\\n법인사무처\\n사업관리팀n서울시 동대문구 이문로 107\\n등기부등본\\n인감 도장\\n설명회\\n제고\\n임대환경\\n관리비\\n전세\\n가감율n수수료율\\n총액\\n전후\\n점수\\n기타사항\\n발주처\\n제3자\\n대원빌딩\\n서울특별시 테헤란로 98길 11\\n근린 생활 시설n리모델링\\nBRICs(브릭스)전공\\nEU(유럽연합)전공\\n동북아외교통상전공\\n문화콘텐츠학전공\\n국가리더전공\\n세계문화예술경영전공\\n디지털인문한국학전공\\nAI융합전공\\n데이터사이언스전공\\n바이오데이터사이언스전공\\n상담·UX심리 융합전공\\n지역경제개발협력전공\\n보험계리학전공\\nCulture & Technology융합대학\\n바이오메디컬공학부\\n글로벌자유전공학부\\n기후변화융합학부\\n전략기획팀\\n예산조정팀\\n평가감사팀\\n국책사업통합추진단\\nIT개발팀(서울)\\nIT인프라팀(서울)\\n정보통신팀(글로벌)\\n디지털서비스팀(서울∙글로벌)\\n지식출판콘텐츠팀\\n혁신지원팀수강자\\n재무회계팀\\n학부생\\n재입학생\\n분할납부자\\n분할납부\\n졸업유예\\n졸업\\n장학팀\\n미취업자\\n건강보험\\n특별승인\\n자격요건\\n학생지원팀\\n동문\\n장학회\\n장학금명\\n학비조달\\n조달\\n소득구간확인서\\n봉사활동확인서\\n개인정보수집이용동의서\\n지원기간\\n제출방법\\n방문접수\\n장학팀\\n모현읍\\n외대로\\n수혜내역\\n수혜액\\n수혜\\n등록휴학생\\n재학증명서\\n건강보험료납부확인서\\n양식없음\\n종료일\\n국가근로\\n타대학생\\n백분위\\n학자금\\n지원구간\\n신청유형\\n상반기\\n하반기\\n운영\\n위원회\\n장학금\\n진흥원\\n울산시\\nHUFS\\n양캠퍼스\\n서울캠퍼스\\n글로벌캠퍼스\\n서울글로벌캠퍼스\\n서울·글로벌캠퍼스\\n우리은행\\n단과대학\\n졸업시험\\n논문\\n제적\\n졸업요건\\n지역학사\\n지역전문가과정\\n수료졸업대기\\nELLT학과\\n영어학과\\n아랍어과\\n미디어커뮤니케이션학부\\n영어전공\\n영미문학문화학과\\n태국어과\\n경제학부\\nEICC학과\\n영어통번역학과\\n베트남어과\\n국제통상학과\\\\이란어과\\n경영학부\\n프랑스어학부\\n인도어과\\n영어교육과\\n독일어과\\n터키아제르바이잔어과\\n프랑스어교육과\\n노어과\\n몽골어과\\n독일어교육과\\n스페인어과\\n중국언어문화학부\\n한국어교육과\\n이탈리아어과\\n중국외교통상학부\\n국제학부\\n포르투갈어과\\n그리스불가리아학과\\n일본언어문화학부\\n사회과학전공\\n네덜란드어과\\n융합일본지역학부\\nLD전공\\n스칸디나비아어과\\n정치외교학과\\nLT전공\\n말레이인도네시아어과\\n행정학과\\n서양어대학\\n아시아언어문화대학\\n중국어대학\\n일본어대학\\n사회과학\\n상경\\n경영\\n국제학부\\n사회과학전공\\n사범대학\\n교직\\n실용외국어\\n군입대\\n입영통지서\\n미비\\n미충족\\n등록휴학\\n휴학\\n전역일\\n증빙서류\\n1학기\\n2학기\\n개강\\n종강\\n학사일정\\n행사명\\n조치사항\\n참고사항\\n공고\\n부서명\\n학년도\\n개설학과\\n학수번호\\\\교과목명\\\\시간\\n교강사명\\n강의시간\\n폐강공고\\n일정\\n단과대\\n배부처\\n문의\\n동유럽학대학\\n국제지역대학\\n어문학관\\n통번역대학\\n인문대학\\n경상대학\\n자연과학대학\\n학생회관\\n공과대학\\n바이오메디컬공학부\\n졸업증명서\\n문의\\n전화\\\\문의전화\\n원스톱서비스센터\\n졸업예정증명서\\n편입생\\n신입생\\n신편입생\\n아래\\nQR코드\\n지양하다\\n비고\\n입학금\\n기타\\n코딩존\\n기초과학연구소\\n정보산업공학연구소\\n한국외국어대학교\\n한국외대\\n안내\\\\종합정보시스템\\\\공고\\n이수\\n학기\\n대하여\\\\장학재단\\n장학생\\n지원불가\\n자녀학자금\\n다자녀\\n지자체\\nHUFS앱\\n한국외대앱\\n부모\\n인문사회계열\\n제출서류\\n장학생신청서\\n추천서\\n추천소견\\n총장직인\\n자기소개서\\n전공분야\\n학습계획\\n졸업후진로\\n자유양식\\nA4\\n이내\\n주민등록등본\\n개인정보\\n기초생활수급권자\\n기초생활수급자증명서\\n기초생활수급자\\\\차상위계층\\n모자가정\\n부자가정\\n주민센터\\n한부모가정\\n건강보험증\\n건강보험자격확인서\\n과세자\\n급여생활자\\n원천징수\\n근로소득\\\\근무처\\n비사업자\\n수상내역\\n어학성적\\n입상경력증명서\\n봉사활동내역확인서\\n심신장애증명서\\n장애인등록수첩\\n장애인카드\\n직계가족\\n임대차계약서\\n학생지원팀\\n무이자\\n농어업인\\n농어업\\n융자금\\n정규학기\\n건강보험료\\n한국장학재단\\n학자금대출\\n지원자격\\n직전학기\\n학부모\\n1구간\\n2구간\\n3구간\\x04구간\\n5구간\\n6구간\\n7구간\\n8구간\\n9구간\\n10구간\\n지원대상\\n다문화가족\\n다자녀가구\\n소득구간\\n거주자\\n4년제\\n정규대학\\n중증\\n석박사\\n이공계\\n직전학기\\n등록금납입영수증\\n등록금납입\\n통장사본\\n기획홍보팀\\n사회복지사\\n학생인재개발처\\n추가등록\\n등록기간\\n\\n법인사무처\\n사업관리팀n서울시 동대문구 이문로 107\\n등기부등본\\n인감 도장\\n설명회\\n제고\\n임대환경\\n관리비\\n전세\\n가감율n수수료율\\n총액\\n전후\\n점수\\n기타사항\\n발주처\\n제3자\\n대원빌딩\\n서울특별시 테헤란로 98길 11\\n근린 생활 시설n리모델링\\nBRICs(브릭스)전공\\nEU(유럽연합)전공\\n동북아외교통상전공\\n문화콘텐츠학전공\\n국가리더전공\\n세계문화예술경영전공\\n디지털인문한국학전공\\nAI융합전공\\n데이터사이언스전공\\n바이오데이터사이언스전공\\n상담·UX심리 융합전공\\n지역경제개발협력전공\\n보험계리학전공\\nCulture & Technology융합대학\\n바이오메디컬공학부\\n글로벌자유전공학부\\n기후변화융합학부\\n전략기획팀\\n예산조정팀\\n평가감사팀\\n국책사업통합추진단\\nIT개발팀(서울)\\nIT인프라팀(서울)\\n정보통신팀(글로벌)\\n디지털서비스팀(서울∙글로벌)\\n지식출판콘텐츠팀\\n혁신지원팀수강자\\n재무회계팀\\n학부생\\n재입학생\\n분할납부자\\n분할납부\\n졸업유예\\n졸업\\n장학팀\\n미취업자\\n건강보험\\n특별승인\\n자격요건\\n학생지원팀\\n동문\\n장학회\\n장학금명\\n학비조달\\n조달\\n소득구간확인서\\n봉사활동확인서\\n개인정보수집이용동의서\\n지원기간\\n제출방법\\n방문접수\\n장학팀\\n모현읍\\n외대로\\n수혜내역\\n수혜액\\n수혜\\n등록휴학생\\n재학증명서\\n건강보험료납부확인서\\n양식없음\\n종료일\\n국가근로\\n타대학생\\n백분위\\n학자금\\n지원구간\\n신청유형\\n상반기\\n하반기\\n운영\\n위원회\\n장학금\\n진흥원\\n울산시\\nHUFS\\n양캠퍼스\\n서울캠퍼스\\n글로벌캠퍼스\\n서울글로벌캠퍼스\\n서울·글로벌캠퍼스\\n우리은행\\n단과대학\\n졸업시험\\n논문\\n제적\\n졸업요건\\n지역학사\\n지역전문가과정\\n수료졸업대기\\nELLT학과\\n영어학과\\n아랍어과\\n미디어커뮤니케이션학부\\n영어전공\\n영미문학문화학과\\n태국어과\\n경제학부\\nEICC학과\\n영어통번역학과\\n베트남어과\\n국제통상학과\\\\이란어과\\n경영학부\\n프랑스어학부\\n인도어과\\n영어교육과\\n독일어과\\n터키아제르바이잔어과\\n프랑스어교육과\\n노어과\\n몽골어과\\n독일어교육과\\n스페인어과\\n중국언어문화학부\\n한국어교육과\\n이탈리아어과\\n중국외교통상학부\\n국제학부\\n포르투갈어과\\n그리스불가리아학과\\n일본언어문화학부\\n사회과학전공\\n네덜란드어과\\n융합일본지역학부\\nLD전공\\n스칸디나비아어과\\n정치외교학과\\nLT전공\\n말레이인도네시아어과\\n행정학과\\n서양어대학\\n아시아언어문화대학\\n중국어대학\\n일본어대학\\n사회과학\\n상경\\n경영\\n국제학부\\n사회과학전공\\n사범대학\\n교직\\n실용외국어\\n군입대\\n입영통지서\\n미비\\n미충족\\n등록휴학\\n휴학\\n전역일\\n증빙서류\\n1학기\\n2학기\\n개강\\n종강\\n학사일정\\n행사명\\n조치사항\\n참고사항\\n공고\\n부서명\\n학년도\\n개설학과\\n학수번호\\\\교과목명\\\\시간\\n교강사명\\n강의시간\\n폐강공고\\n일정\\n단과대\\n배부처\\n문의\\n동유럽학대학\\n국제지역대학\\n어문학관\\n통번역대학\\n인문대학\\n경상대학\\n자연과학대학\\n학생회관\\n공과대학\\n바이오메디컬공학부\\n졸업증명서\\n문의\\n전화\\\\문의전화\\n원스톱서비스센터\\n졸업예정증명서\\n편입생\\n신입생\\n신편입생\\n아래\\nQR코드\\n지양하다\\n비고\\n입학금\\n기타\\n코딩존\\n기초과학연구소\\n정보산업공학연구소\\n모집공고\\n지원자격\\n일반사항\\n국제학사장\\n영어학부\\n전임조교\\n사이버외대\\n사이버한국외국어대학교\\n주요업무\\n행정업무\\n신청기한\\n개인정보수집이용제공동의서\\\\유첨파일\\n지원사업\\n모집분야\\n사회\\n문화\\n역사\\n4대보험\\n급여조건\\n근무시간\\n근무조건\\n채용\\n채용예정일\\n적격자\\n인사팀\\n구직자\\n공정화\\n시행규칙\\n근무\\n여름학기\\n겨울학기\\n기재내용\\n행정지원처장\\n결격사유\\n서류전형\\n학술정보팀\\n근무지\\n적임자\\n계약직\\n학생인재개발처\\n진로취업센터\\n개별연락\\n풀근무\\n선발\\n우선선발\\n외국어연수평가원\\n국제교육원\\n인력풀\\n시수\\n행정지원처장\\n인사팀\\n계약직\\n허위사실\\n기타문의\\n입사지원서\\n행정지원처장\\n서울런\\n캠프\\n한국인\\n보조교사\\n서류합격자\\n합격자\\n면접\\n한국외국어대학교\\n한국외대\\n계약직\\n사업본부운영1팀\\n외국어연수평가원\\n세르반테스문화원\\n사업지원팀\\n국제입학관리팀\\nFULLTIME\\n근무 학기\\n기숙사생\\n기숙사비품\\n소모품\\n공과금고지서\\n민원\\n담당 업무\\n근무 기간\\n근무 혜택\\n기숙사비\\n선 납부\\n근무 종료\\n장학금\\n지원서\\n기타\\n문의사항\\n한국어문화교육원\\n인사팀\\n학생상담센터\\n인문데이터연구센터\\n중남미연구소\\n산업경영공학과\\n공통지원자격\\n직원인사규정\\n결격사유\\n채용 조건\\n글로벌 캠퍼스\\n학사종합지원센터\\n용인시 처인구\\n단축근무\\n계약연장\\n계약기간\\n만료\\n근무성적평가\\n일정기간\\n통근버스\\n버스탑승\\n서류전형\\n심층면접\\n소정양식\\n인터넷 접수\\n입사지원서\\n자기소개서\\n자격증\\n경력사항\\n취업보호대상자\\n해당자\\n본교\\\\본교 홈페이지\\n채용시스템\\n공고문\\n바로가기 배너\\n피성년후견인\\n금고 이상의 형\\n병역기피자\\n신체검사결과\\n부적당\\n부적합\\n기재내용\\n허위 사실\\n허위사실\\n기타 문의\\n인사팀\\n행정지원처장\\n전임강사\\n채용분야\\n인원\\n한국어문화교육원\\n전임강사\\n외국어로서의한국어교육\\n공통지원자격\\n사업본부\\n임용기준\\n성 관련 범죄\\n박사학위\\n외국어로서의 한국어교육전공\\n부속기관\\\\한국어교원자격증\\n자격증\\n발행기관\\n책임시간\\n서울캠퍼스\\n채용일\\n추후 협의\\n증빙서류\\n제출목록\\n지원서\\n온라인지원\\n졸업증명서\\n성적증명서\\n학사\\n석사\\n박사\\n업로드\\n성범죄 경력조회서\\n경력증명서\\n발급본\\n지원 기간\\n접수 방법\\n사업본부\\n개별 통보\\n개별 통지\\n연구보조원\\n숙련자\\n웹페이지\\nKMOOC\\n인문사회계열\\n전형방법\\n서류전형\\n면접대상자\\n줌주소\\n실습데이터\\nZOOM데스크탑앱\\n포트폴리오\\n지원서 접수\\n압축파일\\nzip\\n학생상담센터\\n개인상담\\n집단상담\\n대학혁신지원사업\\n상담센터\\n석사학위\\n소지자\\n경력(재직)증명서\\n개인정보동의서\\n별첨양식\\n교직원 출퇴근 셔틀버스\\n출퇴근\\n교직원\\n이문동\\n잠실\\n분당\\n노선\\n오피스\\n스페인어\\n포르투갈어\\n석사\\n재학생\\nHK연구소\\n중남미연구소\\n내부규정\\n급여\\n계약기간\\n교내외장학금\\n사회 배려계층\\n교무행정팀\\n객원상담원\\n겸임교수\\n초빙교수\\n초빙공고\\n정보통신공학과\\n재공고\\n시설관리팀\\n수목관리\\n직원인사규정\\n제11조\\n임용결격사유\\n1종보통 운전면허\\n외국인학생\\n여름방학\\n민원응대\\n봉사장학금\\n장학금지급규정\\n등록금 범위내\\n국제학사\\nGlobeeDorm\\n학사운영팀\\n중국연구소\\n전임연구원\\n최종학위증명서\\n이력서\\n자율양식\\n경력증명서\\n채용예정일\\n지식출판콘텐츠원\\n채용공고\\n경영기획팀\\n행정\\n학사학위\\n국고사업\\n관련법\\n연구산학협력단\\n러시아연구소\\n초빙분야\\n세부전공\\n인센티브\\n4대 보험\\n한국연구재단\\n인문한국플로스지원사업\\n사립학교\\n해당 분야\\n기초심사\\n전공면접\\n경기도 용인시 처인구 모현면 외대로 81\\n국제사회교육원\\n러시아연구소\\n육아휴직\\n학술정보팀\\n퇴직금\\nTESOL\\nFLEX센터\\n능숙자\\nOA프로그램\\n영어회화\\n관련업무\\n유경험자\\n근무 가능자\\\\근무 가능\\n장학생\\n재학생\\n언어 능력\\n설명회\\n선착순\\n국제입학관리팀\\n한국외국어대학교\\n한국외대\\n안내\\\\종합정보시스템\\\\공고\\n이수\\n학기\\n대하여\\n아래\\n수강편람\\n이중전공\\n수강신청함\\n수강신청\\n예비수강신청\\n교무처장\\n수강료\\n등록기간\\n수강신청자\\n한하다\\n미수강신청자\\n납부불가\\n핫링크\\n고지서출력\\n가상계좌\\n붙임파일\\n모바일앱\\n내역\\n인터넷뱅킹\\n텔레뱅킹\\n개시일\\n신청\\n마감\\n마감일\\n수강취소\\n수강변경\\\\종합정보화면\\n계절학기\\n부분환불\\n계절학기\\\\학년도\\n접수일\\n학석사\\n학사\\n석사\\n연계\\n과정생\\n접수처\\n학사종합지원센터\\n양캠퍼스\\n통번역\\n이수\\n미배정\\n부전공\\\\여석\\n이수\\n지원\\n학사종합지원센터\\n한국예술종합학교\\n특성화\\n수강편람\\n실용외국어\\n공동교양\\n여석\\\\졸업\\n사정\\n결과\\n확정자\\n불가자\\n개강일\\n우리대학교\\n우리대학\\n안내문\\n학위\\n학위증\\n코로나바이러스\\n신종코로나바이러스\\nHUFS\\n양캠퍼스\\n서울캠퍼스\\n글로벌캠퍼스\\n서울글로벌캠퍼스\\n서울·글로벌캠퍼스\\n우리은행\\n단과대학\\n졸업시험\\n논문\\n제적\\n졸업요건\\n지역학사\\n지역전문가과정\\n수료졸업대기\\nELLT학과\\n영어학과\\n아랍어과\\n미디어커뮤니케이션학부\\n영어전공\\n영미문학문화학과\\n태국어과\\n경제학부\\nEICC학과\\n영어통번역학과\\n베트남어과\\n국제통상학과\\\\이란어과\\n경영학부\\n프랑스어학부\\n인도어과\\n영어교육과\\n독일어과\\n터키아제르바이잔어과\\n프랑스어교육과\\n노어과\\n몽골어과\\n독일어교육과\\n스페인어과\\n중국언어문화학부\\n한국어교육과\\n이탈리아어과\\n중국외교통상학부\\n국제학부\\n포르투갈어과\\n그리스불가리아학과\\n일본언어문화학부\\n사회과학전공\\n네덜란드어과\\n융합일본지역학부\\nLD전공\\n스칸디나비아어과\\n정치외교학과\\nLT전공\\n말레이인도네시아어과\\n행정학과\\n서양어대학\\n아시아언어문화대학\\n중국어대학\\n일본어대학\\n사회과학\\n상경\\n경영\\n국제학부\\n사회과학전공\\n사범대학\\n교직n실용외국어\\n군입대\\n입영통지서\\n미비\\n미충족\\n등록휴학\\n휴학\\n전역일\\n증빙서류\\n1학기\\n2학기\\n개강\\n종강\\n학사일정\\n행사명\\n조치사항\\n참고사항\\n공고\\n부서명\\n학년도\\n개설학과\\n학수번호\\\\교과목명\\\\시간\\n교강사명\\n강의시간\\n폐강공고\\n일정\\n단과대\\n배부처\\n문의\\n동유럽학대학\\n국제지역대학\\n어문학관\\n통번역대학\\n인문대학\\n경상대학\\n자연과학대학\\n학생회관\\n공과대학\\n바이오메디컬공학부\\n졸업증명서\\n문의\\n전화\\\\문의전화\\n원스톱서비스센터\\n졸업예정증명서\\n편입생\\n신입생\\n신편입생\\n아래\\nQR코드\\n지양하다\\n투명성\\n공정성\\n외국인교환학생\\n외국인방문학생\\n첫학기\\n영어진단평가\\n원격\\n비대면\\ne-Class\\neclass\\n이클래스\\n안내하다\\n전자출결\\n전자출결시스템\\n체계적인\\n엄정성\\n공고\\n코로나19\\n일반휴학\\n신청\\n별도문의\\nCOVID-19\\nCovid19\\\\covid19\\n중간시험\\\\기말시험\\n응시인원\\nCommunicativeEnglish\\nLS\\nL/S\\n우리대학\\n콜로키움\\nEU연구소\\n인문사회연구사업단\\n온·오프라인\\n온오프라인\\nHK+사업단\\n국제관\\n인도연구소\\n패널티\\n수습국원\\n추가모집\\n게시물\\n외대교육방송국\\n교수학습개발원\\nFBS\\\\주한브라질대사관\\n세계여성의날\\\\스마트도서관\\n휠라아쿠쉬네트홀\\n영화\\n상영\\n한국어자막\\\\대학혁신지원사업\\n아이디어톤\\n수도권역\\n미래대학투모로우솔루션\\n미네르바헬스장\\n교육생\\n휴관\\n금모닝\\n글로벌캠퍼스\\n누구나\\n회차별\\n보건실\\n대한적십자사\\n헌혈증\\n헌혈자\\n성격유형검사\\n핵심역량통합관리시스템\\nHufsability\\n교과\\n비교과\\n서울학생상담센터\\n추후공지\\n청년몽땅정보통\\n마이페이지\\n문의처\\n다산콜센터\\\\특별전형\\n일반전형\\n면접전형\\n등록예치금\\n예치금\\n모집\\n학과\\n전공\\nTESOL대학원\\n세미오시스연구센터\\n서울학생상담센터\\n전문\\n경영대학원\\n해당일\\n접수마감일\\n해당학기\\n졸업자\\n졸업예정자\\n외국대학n소지자\\n한국어능력시험\\n입증서류\\n출신학교\\n주한공관영사\\n입증서류\\n학사학위\\n학사\\n최종학력\\n증명\\n학위증서\\n개인정보이용및제공동의서\\n기타서류\\n해당자\\n추천서\\n경력증명서\\n외국국적지원자\\n성적증명서\\n총점\\n사이버외대\\n군인공제회직원\\n학교교직원\\n첫학기\\n입학금\\n운영위원회\\n전형료\\n우편접수\\n입학원서\\n본인날인\\n서명함\\n수험표\\n지참\\n제출서류\\n외국어교육센터\\nK-Zone\\nNoshow\\n출석차감\\n1교시\\n2교시\\n3교시\\n4교시\\n5교시\\n6교시\\n7교시\\n8교시\\n9교시\\n10교시\\n11교시\\n12교시\\n작문\\n대학영어\\n중간시험\\n보충수업\\n추가모집\\n창업자\\nAI/SW\\n모집공고\\n모집분야\\n일반창업\\n스펙업\\n졸업대기자\\n수료생\\nSW중심대학사업단\\nAI교육원\\nSW관련학과\\n컴퓨터공학부\\n정보통신공학부\\nGBT전공\\nELLT학과\\nAI융합전공\\n데이터사이언스전공\\n바이오데이터사이언스전공\\nICT&AI세부모듈\\n수혜제외\\n초과학기생\\n초과학기\\n9학기\\n1학기\\n2학기\\n3학기\\n4학기\\n5학기\\n6학기\\n7학기\\n8학기\\n지원사항\\n팀별\\n개인별\\n사업자등록증n최종보고서\\n학기말\\n학기초\\n전세계\\n삼성그룹\\nLG그룹\\n주기적\\n인증테스트\\n비교과\\n굿즈\\n코로나19\\n경제적\\n지원\\n타지역\\n이에\\n랜선나눔캠퍼스\\n활동개요\\n신청기간\\n비합격\\n비선발자\\n최종합격자\\n활동불가자\\n활동혜택\\n자기소개서\\n1부\\n학습계획서\\n증빙자료\\n재학증명서\\n1차합격\\n2차합격\\n스캔\\n활동비\\\\소득세\\n지방소득세\\n문의처\\n추후공지\\n공공인재개발원\\n개인사물함\\n행정입법고시\\n2차모의고사\\n수험서적\\n사민재\\n세미나실\\n국제학생회\\n본교생\\n외국인교환학생\\n정기총회\\n뵨교재학생\\n버디프로그램\\n홍보팀\\n 기획컬처팀\\n국제교류처\\n국제교류처장\\n불합격자\\n코로나-19\\n양성판정\\n음성판정\\n양성\\n음성\\n최종합격자\\nQ&A\\n필참\\n퇴출\\n정기활동\\n이메일접수\\n시험일정\\n구분\\n시간\\n비고\\n시험장소\\n입실완료\\n인문과학관\\n졸업유예생\\n학부생들\\n코로나-19\\n글로벌캠퍼스\\n보건실\\n학생부종합전형\\n합격수기\\n선배들\\n글로벌창업지원단\\n창업인재양성센터\\n창업동아리\\n미디어커뮤니케이션대학원\\n대학원장\\nCulture&Technology융합대학n지원자격\\n지원서\\n접수\\n평가요소\\n영자신문사\\nTheArgus\\n수습기자\\n디아거스\\n공식홈페이지\\n공식인스타그램\\n사회봉사센터\\n국제학사\\n우편접수\\n서울시동대문구이문로107\\n대학안전관리계획\\n붙임팡리\\n안전보건관리팀\\n동원번역상\\n한국외국어대학교\\n한국외대\\n안내\\\\종합정보시스템\\\\공고\\n이수\\n학기\\n대하여\\\\장학재단\\n장학생\\n지원불가\\n자녀학자금\\n다자녀\\n지자체\\nHUFS앱\\n한국외대앱\\n부모\\n인문사회계열\\n제출서류\\n장학생신청서\\n추천서\\n추천소견\\n총장직인\\n자기소개서\\n전공분야\\n학습계획\\n졸업후진로\\n자유양식\\nA4\\n이내\\n주민등록등본\\n개인정보\\n기초생활수급권자\\n기초생활수급자증명서\\n기초생활수급자\\\\차상위계층\\n모자가정\\n부자가정\\n주민센터\\n한부모가정\\n건강보험증\\n건강보험자격확인서\\n과세자\\n급여생활자\\n원천징수\\n근로소득\\\\근무처\\n비사업자\\n수상내역\\n어학성적\\n입상경력증명서\\n봉사활동내역확인서\\n심신장애증명서\\n장애인등록수첩\\n장애인카드\\n직계가족\\n임대차계약서\\n학생지원팀\\n무이자\\n농어업인\\n농어업\\n융자금\\n정규학기\\n건강보험료\\n한국장학재단\\n학자금대출\\n지원자격\\n직전학기\\n학부모\\n1구간\\n2구간\\n3구간\\x04구간\\n5구간\\n6구간\\n7구간\\n8구간\\n9구간\\n10구간\\n지원대상\\n다문화가족\\n다자녀가구\\n소득구간\\n거주자\\n4년제\\n정규대학\\n중증\\n석박사\\n이공계\\n직전학기\\n등록금납입영수증\\n등록금납입\\n통장사본\\n기획홍보팀\\n사회복지사\\n학생인재개발처\\n추가등록\\n등록기간\\n\\n법인사무처\\n사업관리팀n서울시 동대문구 이문로 107\\n등기부등본\\n인감 도장\\n설명회\\n제고\\n임대환경\\n관리비\\n전세\\n가감율n수수료율\\n총액\\n전후\\n점수\\n기타사항\\n발주처\\n제3자\\n대원빌딩\\n서울특별시 테헤란로 98길 11\\n근린 생활 시설n리모델링\\nBRICs(브릭스)전공\\nEU(유럽연합)전공\\n동북아외교통상전공\\n문화콘텐츠학전공\\n국가리더전공\\n세계문화예술경영전공\\n디지털인문한국학전공\\nAI융합전공\\n데이터사이언스전공\\n바이오데이터사이언스전공\\n상담·UX심리 융합전공\\n지역경제개발협력전공\\n보험계리학전공\\nCulture & Technology융합대학\\n바이오메디컬공학부\\n글로벌자유전공학부\\n기후변화융합학부\\n전략기획팀\\n예산조정팀\\n평가감사팀\\n국책사업통합추진단\\nIT개발팀(서울)\\nIT인프라팀(서울)\\n정보통신팀(글로벌)\\n디지털서비스팀(서울∙글로벌)\\n지식출판콘텐츠팀\\n혁신지원팀수강자\\n재무회계팀\\n학부생\\n재입학생\\n분할납부자\\n분할납부\\n졸업유예\\n졸업\\n장학팀\\n미취업자\\n건강보험\\n특별승인\\n자격요건\\n학생지원팀\\n동문\\n장학회\\n장학금명\\n학비조달\\n조달\\n소득구간확인서\\n봉사활동확인서\\n개인정보수집이용동의서\\n지원기간\\n제출방법\\n방문접수\\n장학팀\\n모현읍\\n외대로\\n수혜내역\\n수혜액\\n수혜\\n등록휴학생\\n재학증명서\\n건강보험료납부확인서\\n양식없음\\n종료일\\n국가근로\\n타대학생\\n백분위\\n학자금\\n지원구간\\n신청유형\\n상반기\\n하반기\\n운영\\n위원회\\n장학금\\n진흥원\\n울산시\\nHUFS\\n양캠퍼스\\n서울캠퍼스\\n글로벌캠퍼스\\n서울글로벌캠퍼스\\n서울·글로벌캠퍼스\\n우리은행\\n단과대학\\n졸업시험\\n논문\\n제적\\n졸업요건\\n지역학사\\n지역전문가과정\\n수료졸업대기\\nELLT학과\\n영어학과\\n아랍어과\\n미디어커뮤니케이션학부\\n영어전공\\n영미문학문화학과\\n태국어과\\n경제학부\\nEICC학과\\n영어통번역학과\\n베트남어과\\n국제통상학과\\\\이란어과\\n경영학부\\n프랑스어학부\\n인도어과\\n영어교육과\\n독일어과\\n터키아제르바이잔어과\\n프랑스어교육과\\n노어과\\n몽골어과\\n독일어교육과\\n스페인어과\\n중국언어문화학부\\n한국어교육과\\n이탈리아어과\\n중국외교통상학부\\n국제학부\\n포르투갈어과\\n그리스불가리아학과\\n일본언어문화학부\\n사회과학전공\\n네덜란드어과\\n융합일본지역학부\\nLD전공\\n스칸디나비아어과\\n정치외교학과\\nLT전공\\n말레이인도네시아어과\\n행정학과\\n서양어대학\\n아시아언어문화대학\\n중국어대학\\n일본어대학\\n사회과학\\n상경\\n경영\\n국제학부\\n사회과학전공\\n사범대학\\n교직\\n실용외국어\\n군입대\\n입영통지서\\n미비\\n미충족\\n등록휴학\\n휴학\\n전역일\\n증빙서류\\n1학기\\n2학기\\n개강\\n종강\\n학사일정\\n행사명\\n조치사항\\n참고사항\\n공고\\n부서명\\n학년도\\n개설학과\\n학수번호\\\\교과목명\\\\시간\\n교강사명\\n강의시간\\n폐강공고\\n일정\\n단과대\\n배부처\\n문의\\n동유럽학대학\\n국제지역대학\\n어문학관\\n통번역대학\\n인문대학\\n경상대학\\n자연과학대학\\n학생회관\\n공과대학\\n바이오메디컬공학부\\n졸업증명서\\n문의\\n전화\\\\문의전화\\n원스톱서비스센터\\n졸업예정증명서\\n편입생\\n신입생\\n신편입생\\n아래\\nQR코드\\n지양하다\\n비고\\n입학금\\n기타\\n코딩존\\n기초과학연구소\\n정보산업공학연구소\\n한국외국어대학교\\n한국외대\\n안내\\\\종합정보시스템\\\\공고\\n이수\\n학기\\n대하여\\\\장학재단\\n장학생\\n지원불가\\n자녀학자금\\n다자녀\\n지자체\\nHUFS앱\\n한국외대앱\\n부모\\n인문사회계열\\n제출서류\\n장학생신청서\\n추천서\\n추천소견\\n총장직인\\n자기소개서\\n전공분야\\n학습계획\\n졸업후진로\\n자유양식\\nA4\\n이내\\n주민등록등본\\n개인정보\\n기초생활수급권자\\n기초생활수급자증명서\\n기초생활수급자\\\\차상위계층\\n모자가정\\n부자가정\\n주민센터\\n한부모가정\\n건강보험증\\n건강보험자격확인서\\n과세자\\n급여생활자\\n원천징수\\n근로소득\\\\근무처\\n비사업자\\n수상내역\\n어학성적\\n입상경력증명서\\n봉사활동내역확인서\\n심신장애증명서\\n장애인등록수첩\\n장애인카드\\n직계가족\\n임대차계약서\\n학생지원팀\\n무이자\\n농어업인\\n농어업\\n융자금\\n정규학기\\n건강보험료\\n한국장학재단\\n학자금대출\\n지원자격\\n직전학기\\n학부모\\n1구간\\n2구간\\n3구간\\x04구간\\n5구간\\n6구간\\n7구간\\n8구간\\n9구간\\n10구간\\n지원대상\\n다문화가족\\n다자녀가구\\n소득구간\\n거주자\\n4년제\\n정규대학\\n중증\\n석박사\\n이공계\\n직전학기\\n등록금납입영수증\\n등록금납입\\n통장사본\\n기획홍보팀\\n사회복지사\\n학생인재개발처\\n추가등록\\n등록기간\\n\\n법인사무처\\n사업관리팀n서울시 동대문구 이문로 107\\n등기부등본\\n인감 도장\\n설명회\\n제고\\n임대환경\\n관리비\\n전세\\n가감율n수수료율\\n총액\\n전후\\n점수\\n기타사항\\n발주처\\n제3자\\n대원빌딩\\n서울특별시 테헤란로 98길 11\\n근린 생활 시설n리모델링\\nBRICs(브릭스)전공\\nEU(유럽연합)전공\\n동북아외교통상전공\\n문화콘텐츠학전공\\n국가리더전공\\n세계문화예술경영전공\\n디지털인문한국학전공\\nAI융합전공\\n데이터사이언스전공n바이오데이터사이언스전공\\n상담·UX심리 융합전공\\n지역경제개발협력전공\\n보험계리학전공\\nCulture & Technology융합대학\\n바이오메디컬공학부\\n글로벌자유전공학부\\n기후변화융합학부\\n전략기획팀\\n예산조정팀\\n평가감사팀\\n국책사업통합추진단\\nIT개발팀(서울)\\nIT인프라팀(서울)\\n정보통신팀(글로벌)\\n디지털서비스팀(서울∙글로벌)\\n지식출판콘텐츠팀\\n혁신지원팀수강자\\n재무회계팀\\n학부생\\n재입학생\\n분할납부자\\n분할납부\\n졸업유예\\n졸업\\n장학팀\\n미취업자\\n건강보험\\n특별승인\\n자격요건\\n학생지원팀\\n동문\\n장학회\\n장학금명\\n학비조달\\n조달\\n소득구간확인서\\n봉사활동확인서\\n개인정보수집이용동의서\\n지원기간\\n제출방법\\n방문접수\\n장학팀\\n모현읍\\n외대로\\n수혜내역\\n수혜액\\n수혜n등록휴학생\\n재학증명서\\n건강보험료납부확인서\\n양식없음\\n종료일\\n국가근로\\n타대학생\\n백분위\\n학자금\\n지원구간\\n신청유형\\n상반기\\n하반기\\n운영\\n위원회\\n장학금\\n진흥원\\n울산시\\nHUFS\\n양캠퍼스\\n서울캠퍼스\\n글로벌캠퍼스\\n서울글로벌캠퍼스\\n서울·글로벌캠퍼스\\n우리은행\\n단과대학\\n졸업시험\\n논문\\n제적\\n졸업요건\\n지역학사\\n지역전문가과정\\n수료졸업대기\\nELLT학과\\n영어학과\\n아랍어과\\n미디어커뮤니케이션학부\\n영어전공\\n영미문학문화학과\\n태국어과\\n경제학부\\nEICC학과\\n영어통번역학과\\n베트남어과\\n국제통상학과\\\\이란어과\\n경영학부\\n프랑스어학부\\n인도어과\\n영어교육과\\n독일어과\\n터키아제르바이잔어과\\n프랑스어교육과\\n노어과\\n몽골어과\\n독일어교육과\\n스페인어과\\n중국언어문화학부\\n한국어교육과\\n이탈리아어과\\n중국외교통상학부\\n국제학부\\n포르투갈어과\\n그리스불가리아학과\\n일본언어문화학부\\n사회과학전공\\n네덜란드어과\\n융합일본지역학부\\nLD전공\\n스칸디나비아어과\\n정치외교학과\\nLT전공\\n말레이인도네시아어과\\n행정학과\\n서양어대학\\n아시아언어문화대학\\n중국어대학\\n일본어대학\\n사회과학\\n상경\\n경영\\n국제학부\\n사회과학전공\\n사범대학\\n교직\\n실용외국어\\n군입대\\n입영통지서\\n미비\\n미충족\\n등록휴학\\n휴학\\n전역일\\n증빙서류\\n1학기\\n2학기\\n개강\\n종강\\n학사일정\\n행사명\\n조치사항\\n참고사항\\n공고\\n부서명\\n학년도\\n개설학과\\n학수번호\\\\교과목명\\\\시간\\n교강사명\\n강의시간\\n폐강공고\\n일정\\n단과대\\n배부처\\n문의\\n동유럽학대학\\n국제지역대학\\n어문학관\\n통번역대학\\n인문대학n경상대학\\n자연과학대학\\n학생회관\\n공과대학\\n바이오메디컬공학부\\n졸업증명서\\n문의\\n전화\\\\문의전화\\n원스톱서비스센터\\n졸업예정증명서\\n편입생\\n신입생\\n신편입생\\n아래\\nQR코드\\n지양하다\\n비고\\n입학금\\n기타\\n코딩존\\n기초과학연구소\\n정보산업공학연구소\\n행정지원처장\\n모집공고\\n지원자격\\n일반사항\\n국제학사장\\n영어학부\\n전임조교\\n사이버외대\\n사이버한국외국어대학교\\n주요업무\\n행정업무\\n신청기한\\n개인정보수집이용제공동의서\\\\유첨파일\\n지원사업\\n모집분야\\n사회\\n문화\\n역사\\n4대보험\\n급여조건\\n근무시간\\n근무조건\\n채용\\n채용예정일\\n적격자\\n인사팀\\n구직자\\n공정화\\n시행규칙\\n근무\\n여름학기\\n겨울학기\\n기재내용\\n행정지원처장\\n결격사유\\n서류전형\\n학술정보팀\\n근무지\\n적임자\\n계약직\\n학생인재개발처\\n진로취업센터\\n개별연락\\n풀근무\\n선발\\n우선선발\\n외국어연수평가원\\n국제교육원\\n인력풀\\n시수\\n행정지원처장\\n인사팀\\n계약직\\n허위사실\\n기타문의\\n입사지원서\\n행정지원처장\\n서울런\\n캠프\\n한국인\\n보조교사\\n서류합격자\\n합격자\\n면접\\n한국외국어대학교\\n한국외대\\n계약직\\n사업본부운영1팀\\n외국어연수평가원\\n세르반테스문화원\\n사업지원팀\\n국제입학관리팀\\nFULLTIME\\n근무 학기\\n기숙사생\\n기숙사비품\\n소모품\\n공과금고지서\\n민원\\n담당 업무\\n근무 기간\\n근무 혜택\\n기숙사비\\n선 납부\\n근무 종료\\n장학금\\n지원서\\n기타\\n문의사항\\n한국어문화교육원\\n인사팀\\n학생상담센터\\n인문데이터연구센터\\n중남미연구소\\n산업경영공학과\\n공통지원자격\\n직원인사규정\\n결격사유\\n채용 조건\\n글로벌 캠퍼스\\n학사종합지원센터\\n용인시 처인구\\n단축근무\\n계약연장\\n계약기간\\n만료\\n근무성적평가\\n일정기간\\n통근버스\\n버스탑승\\n서류전형\\n심층면접\\n소정양식\\n인터넷 접수\\n입사지원서\\n자기소개서\\n자격증\\n경력사항\\n취업보호대상자\\n해당자\\n본교\\\\본교 홈페이지\\n채용시스템\\n공고문\\n바로가기 배너\\n피성년후견인\\n금고 이상의 형\\n병역기피자\\n신체검사결과\\n부적당\\n부적합\\n기재내용\\n허위 사실\\n허위사실\\n기타 문의\\n인사팀\\n행정지원처장\\n전임강사\\n채용분야\\n인원\\n한국어문화교육원\\n전임강사\\n외국어로서의한국어교육\\n공통지원자격\\n사업본부\\n임용기준\\n성 관련 범죄\\n박사학위\\n외국어로서의 한국어교육전공\\n부속기관\\\\한국어교원자격증\\n자격증\\n발행기관\\n책임시간\\n서울캠퍼스\\n채용일\\n추후 협의\\n증빙서류\\n제출목록\\n지원서\\n온라인지원\\n졸업증명서\\n성적증명서\\n학사\\n석사\\n박사\\n업로드\\n성범죄 경력조회서\\n경력증명서\\n발급본\\n지원 기간\\n접수 방법\\n사업본부\\n개별 통보\\n개별 통지\\n연구보조원\\n숙련자\\n웹페이지\\nKMOOC\\n인문사회계열\\n전형방법\\n서류전형\\n면접대상자\\n줌주소\\n실습데이터\\nZOOM데스크탑앱\\n포트폴리오\\n지원서 접수\\n압축파일\\nzip\\n학생상담센터\\n개인상담\\n집단상담\\n대학혁신지원사업\\n상담센터\\n석사학위\\n소지자\\n경력(재직)증명서\\n개인정보동의서\\n별첨양식\\n교직원 출퇴근 셔틀버스\\n출퇴근\\n교직원\\n이문동\\n잠실\\n분당\\n노선\\n오피스\\n스페인어\\n포르투갈어\\n석사\\n재학생\\nHK연구소\\n중남미연구소\\n내부규정\\n급여\\n계약기간\\n교내외장학금\\n사회 배려계층\\n교무행정팀\\n객원상담원\\n겸임교수\\n초빙교수\\n초빙공고\\n정보통신공학과\\n재공고\\n시설관리팀\\n수목관리\\n직원인사규정\\n제11조\\n임용결격사유\\n1종보통 운전면허\\n외국인학생\\n여름방학\\n민원응대\\n봉사장학금\\n장학금지급규정\\n등록금 범위내\\n국제학사\\nGlobeeDorm\\n학사운영팀\\n중국연구소\\n전임연구원\\n최종학위증명서\\n이력서\\n자율양식\\n경력증명서\\n채용예정일\\n지식출판콘텐츠원\\n채용공고\\n경영기획팀\\n행정\\n학사학위\\n국고사업\\n관련법\\n연구산학협력단\\n러시아연구소\\n초빙분야\\n세부전공\\n인센티브\\n4대 보험\\n한국연구재단\\n인문한국플로스지원사업\\n사립학교\\n해당 분야\\n기초심사\\n전공면접\\n경기도 용인시 처인구 모현면 외대로 81\\n국제사회교육원\\n러시아연구소\\n육아휴직\\n학술정보팀\\n퇴직금\\nTESOL\\nFLEX센터\\n능숙자\\nOA프로그램\\n영어회화\\n관련업무\\n유경험자\\n근무 가능자\\\\근무 가능\\n장학생\\n재학생\\n언어 능력\\n설명회\\n선착순\\n국제입학관리팀\\n'"
            ],
            "application/vnd.google.colaboratory.intrinsic+json": {
              "type": "string"
            }
          },
          "metadata": {},
          "execution_count": 415
        }
      ]
    },
    {
      "cell_type": "code",
      "source": [
        "#gongji\n",
        "data += \"한국외국어대학교\\n한국외대\\n안내\\종합정보시스템\\공고\\n이수\\n학기\\n대하여\\n아래\\n수강편람\\n이중전공\\n수강신청함\\n수강신청\\n예비수강신청\\n교무처장\\n수강료\\n등록기간\\n수강신청자\\n한하다\\n미수강신청자\\n납부불가\\n핫링크\\n고지서출력\\n가상계좌\\n붙임파일\\n모바일앱\\n내역\\n인터넷뱅킹\\n텔레뱅킹\\n개시일\\n신청\\n마감\\n마감일\\n수강취소\\n수강변경\\종합정보화면\\n계절학기\\n부분환불\\n계절학기\\학년도\\n접수일\\n학석사\\n학사\\n석사\\n연계\\n과정생\\n접수처\\n학사종합지원센터\\n양캠퍼스\\n통번역\\n이수\\n미배정\\n부전공\\여석\\n이수\\n지원\\n학사종합지원센터\\n한국예술종합학교\\n특성화\\n수강편람\\n실용외국어\\n공동교양\\n여석\\졸업\\n사정\\n결과\\n확정자\\n불가자\\n개강일\\n우리대학교\\n우리대학\\n안내문\\n학위\\n학위증\\n코로나바이러스\\n신종코로나바이러스\\nHUFS\\n양캠퍼스\\n서울캠퍼스\\n글로벌캠퍼스\\n서울글로벌캠퍼스\\n서울·글로벌캠퍼스\\n우리은행\\n단과대학\\n졸업시험\\n논문\\n제적\\n졸업요건\\n지역학사\\n지역전문가과정\\n수료졸업대기\\nELLT학과\\n영어학과\\n아랍어과\\n미디어커뮤니케이션학부\\n영어전공\\n영미문학문화학과\\n태국어과\\n경제학부\\nEICC학과\\n영어통번역학과\\n베트남어과\\n국제통상학과\\이란어과\\n경영학부\\n프랑스어학부\\n인도어과\\n영어교육과\\n독일어과\\n터키아제르바이잔어과\\n프랑스어교육과\\n노어과\\n몽골어과\\n독일어교육과\\n스페인어과\\n중국언어문화학부\\n한국어교육과\\n이탈리아어과\\n중국외교통상학부\\n국제학부\\n포르투갈어과\\n그리스불가리아학과\\n일본언어문화학부\\n사회과학전공\\n네덜란드어과\\n융합일본지역학부\\nLD전공\\n스칸디나비아어과\\n정치외교학과\\nLT전공\\n말레이인도네시아어과\\n행정학과\\n서양어대학\\n아시아언어문화대학\\n중국어대학\\n일본어대학\\n사회과학\\n상경\\n경영\\n국제학부\\n사회과학전공\\n사범대학\\n교직\\\n",
        "n실용외국어\\n군입대\\n입영통지서\\n미비\\n미충족\\n등록휴학\\n휴학\\n전역일\\n증빙서류\\n1학기\\n2학기\\n개강\\n종강\\n학사일정\\n행사명\\n조치사항\\n참고사항\\n공고\\n부서명\\n학년도\\n개설학과\\n학수번호\\교과목명\\시간\\n교강사명\\n강의시간\\n폐강공고\\n일정\\n단과대\\n배부처\\n문의\\n동유럽학대학\\n국제지역대학\\n어문학관\\n통번역대학\\n인문대학\\n경상대학\\n자연과학대학\\n학생회관\\n공과대학\\n바이오메디컬공학부\\n졸업증명서\\n문의\\n전화\\문의전화\\n원스톱서비스센터\\n졸업예정증명서\\n편입생\\n신입생\\n신편입생\\n아래\\nQR코드\\n지양하다\\n투명성\\n공정성\\n외국인교환학생\\n외국인방문학생\\n첫학기\\n영어진단평가\\n원격\\n비대면\\ne-Class\\neclass\\n이클래스\\n안내하다\\n전자출결\\n전자출결시스템\\n체계적인\\n엄정성\\n공고\\n코로나19\\n일반휴학\\n신청\\n별도문의\\nCOVID-19\\nCovid19\\covid19\\n중간시험\\기말시험\\n응시인원\\nCommunicativeEnglish\\nLS\\nL/S\\n우리대학\\n콜로키움\\nEU연구소\\n인문사회연구사업단\\n온·오프라인\\n온오프라인\\nHK+사업단\\n국제관\\n인도연구소\\n패널티\\n수습국원\\n추가모집\\n게시물\\n외대교육방송국\\n교수학습개발원\\nFBS\\주한브라질대사관\\n세계여성의날\\스마트도서관\\n휠라아쿠쉬네트홀\\n영화\\n상영\\n한국어자막\\대학혁신지원사업\\n아이디어톤\\n수도권역\\n미래대학투모로우솔루션\\n미네르바헬스장\\n교육생\\n휴관\\n금모닝\\n글로벌캠퍼스\\n누구나\\n회차별\\n보건실\\n대한적십자사\\n헌혈증\\n헌혈자\\n성격유형검사\\n핵심역량통합관리시스템\\nHufsability\\n교과\\n비교과\\n서울학생상담센터\\n추후공지\\n청년몽땅정보통\\n마이페이지\\n문의처\\n다산콜센터\\특별전형\\n일반전형\\n면접전형\\n등록예치금\\n예치금\\n모집\\n학과\\n전공\\nTESOL대학원\\n세미오시스연구센터\\n서울학생상담센터\\n전문\\n경영대학원\\n해당일\\n접수마감일\\n해당학기\\n졸업자\\n졸업예정자\\n외국대학\\\n",
        "n소지자\\n한국어능력시험\\n입증서류\\n출신학교\\n주한공관영사\\n입증서류\\n학사학위\\n학사\\n최종학력\\n증명\\n학위증서\\n개인정보이용및제공동의서\\n기타서류\\n해당자\\n추천서\\n경력증명서\\n외국국적지원자\\n성적증명서\\n총점\\n사이버외대\\n군인공제회직원\\n학교교직원\\n첫학기\\n입학금\\n운영위원회\\n전형료\\n우편접수\\n입학원서\\n본인날인\\n서명함\\n수험표\\n지참\\n제출서류\\n외국어교육센터\\nK-Zone\\nNoshow\\n출석차감\\n1교시\\n2교시\\n3교시\\n4교시\\n5교시\\n6교시\\n7교시\\n8교시\\n9교시\\n10교시\\n11교시\\n12교시\\n작문\\n대학영어\\n중간시험\\n보충수업\\n추가모집\\n창업자\\nAI/SW\\n모집공고\\n모집분야\\n일반창업\\n스펙업\\n졸업대기자\\n수료생\\nSW중심대학사업단\\nAI교육원\\nSW관련학과\\n컴퓨터공학부\\n정보통신공학부\\nGBT전공\\nELLT학과\\nAI융합전공\\n데이터사이언스전공\\n바이오데이터사이언스전공\\nICT&AI세부모듈\\n수혜제외\\n초과학기생\\n초과학기\\n9학기\\n1학기\\n2학기\\n3학기\\n4학기\\n5학기\\n6학기\\n7학기\\n8학기\\n지원사항\\n팀별\\n개인별\\n사업자등록증\\\n",
        "n최종보고서\\n학기말\\n학기초\\n전세계\\n삼성그룹\\nLG그룹\\n주기적\\n인증테스트\\n비교과\\n굿즈\\n코로나19\\n경제적\\n지원\\n타지역\\n이에\\n랜선나눔캠퍼스\\n활동개요\\n신청기간\\n비합격\\n비선발자\\n최종합격자\\n활동불가자\\n활동혜택\\n자기소개서\\n1부\\n학습계획서\\n증빙자료\\n재학증명서\\n1차합격\\n2차합격\\n스캔\\n활동비\\소득세\\n지방소득세\\n문의처\\n추후공지\\n공공인재개발원\\n개인사물함\\n행정입법고시\\n2차모의고사\\n수험서적\\n사민재\\n세미나실\\n국제학생회\\n본교생\\n외국인교환학생\\n정기총회\\n뵨교재학생\\n버디프로그램\\n홍보팀\\n 기획컬처팀\\n국제교류처\\n국제교류처장\\n불합격자\\n코로나-19\\n양성판정\\n음성판정\\n양성\\n음성\\n최종합격자\\nQ&A\\n필참\\n퇴출\\n정기활동\\n이메일접수\\n시험일정\\n구분\\n시간\\n비고\\n시험장소\\n입실완료\\n인문과학관\\n졸업유예생\\n학부생들\\n코로나-19\\n글로벌캠퍼스\\n보건실\\n학생부종합전형\\n합격수기\\n선배들\\n글로벌창업지원단\\n창업인재양성센터\\n창업동아리\\n미디어커뮤니케이션대학원\\n대학원장\\nCulture&Technology융합대학\\\n",
        "n지원자격\\n지원서\\n접수\\n평가요소\\n영자신문사\\nTheArgus\\n수습기자\\n디아거스\\n공식홈페이지\\n공식인스타그램\\n사회봉사센터\\n국제학사\\n우편접수\\n서울시동대문구이문로107\\n대학안전관리계획\\n붙임팡리\\n안전보건관리팀\\n동원번역상\\n\""
      ],
      "metadata": {
        "id": "flSfR0Zy_COQ"
      },
      "execution_count": 416,
      "outputs": []
    },
    {
      "cell_type": "code",
      "source": [
        "# janhak\n",
        "data += '한국외국어대학교\\n한국외대\\n안내\\종합정보시스템\\공고\\n이수\\n학기\\n대하여\\장학재단\\n장학생\\n지원불가\\n자녀학자금\\n다자녀\\n지자체\\nHUFS앱\\n한국외대앱\\n부모\\n인문사회계열\\n제출서류\\n장학생신청서\\n추천서\\n추천소견\\n총장직인\\n자기소개서\\n전공분야\\n학습계획\\n졸업후진로\\n자유양식\\nA4\\n이내\\n주민등록등본\\n개인정보\\n기초생활수급권자\\n기초생활수급자증명서\\n기초생활수급자\\차상위계층\\n모자가정\\n부자가정\\n주민센터\\n한부모가정\\n건강보험증\\n건강보험자격확인서\\n과세자\\n급여생활자\\n원천징수\\n근로소득\\근무처\\n비사업자\\n수상내역\\n어학성적\\n입상경력증명서\\n봉사활동내역확인서\\n심신장애증명서\\n장애인등록수첩\\n장애인카드\\n직계가족\\n임대차계약서\\n학생지원팀\\n무이자\\n농어업인\\n농어업\\n융자금\\n정규학기\\n건강보험료\\n한국장학재단\\n학자금대출\\n지원자격\\n직전학기\\n학부모\\n1구간\\n2구간\\n3구간\\4구간\\n5구간\\n6구간\\n7구간\\n8구간\\n9구간\\n10구간\\n지원대상\\n다문화가족\\n다자녀가구\\n소득구간\\n거주자\\n4년제\\n정규대학\\n중증\\n석박사\\n이공계\\n직전학기\\n등록금납입영수증\\n등록금납입\\n통장사본\\n기획홍보팀\\n사회복지사\\n학생인재개발처\\n추가등록\\n등록기간\\n\\n법인사무처\\n사업관리팀\\\n",
        "n서울시 동대문구 이문로 107\\n등기부등본\\n인감 도장\\n설명회\\n제고\\n임대환경\\n관리비\\n전세\\n가감율\\\n",
        "n수수료율\\n총액\\n전후\\n점수\\n기타사항\\n발주처\\n제3자\\n대원빌딩\\n서울특별시 테헤란로 98길 11\\n근린 생활 시설\\\n",
        "n리모델링\\nBRICs(브릭스)전공\\nEU(유럽연합)전공\\n동북아외교통상전공\\n문화콘텐츠학전공\\n국가리더전공\\n세계문화예술경영전공\\n디지털인문한국학전공\\nAI융합전공\\n데이터사이언스전공\\n바이오데이터사이언스전공\\n상담·UX심리 융합전공\\n지역경제개발협력전공\\n보험계리학전공\\nCulture & Technology융합대학\\n바이오메디컬공학부\\n글로벌자유전공학부\\n기후변화융합학부\\n전략기획팀\\n예산조정팀\\n평가감사팀\\n국책사업통합추진단\\nIT개발팀(서울)\\nIT인프라팀(서울)\\n정보통신팀(글로벌)\\n디지털서비스팀(서울∙글로벌)\\n지식출판콘텐츠팀\\n혁신지원팀수강자\\n재무회계팀\\n학부생\\n재입학생\\n분할납부자\\n분할납부\\n졸업유예\\n졸업\\n장학팀\\n미취업자\\n건강보험\\n특별승인\\n자격요건\\n학생지원팀\\n동문\\n장학회\\n장학금명\\n학비조달\\n조달\\n소득구간확인서\\n봉사활동확인서\\n개인정보수집이용동의서\\n지원기간\\n제출방법\\n방문접수\\n장학팀\\n모현읍\\n외대로\\n수혜내역\\n수혜액\\n수혜\\n등록휴학생\\n재학증명서\\n건강보험료납부확인서\\n양식없음\\n종료일\\n국가근로\\n타대학생\\n백분위\\n학자금\\n지원구간\\n신청유형\\n상반기\\n하반기\\n운영\\n위원회\\n장학금\\n진흥원\\n울산시\\nHUFS\\n양캠퍼스\\n서울캠퍼스\\n글로벌캠퍼스\\n서울글로벌캠퍼스\\n서울·글로벌캠퍼스\\n우리은행\\n단과대학\\n졸업시험\\n논문\\n제적\\n졸업요건\\n지역학사\\n지역전문가과정\\n수료졸업대기\\nELLT학과\\n영어학과\\n아랍어과\\n미디어커뮤니케이션학부\\n영어전공\\n영미문학문화학과\\n태국어과\\n경제학부\\nEICC학과\\n영어통번역학과\\n베트남어과\\n국제통상학과\\이란어과\\n경영학부\\n프랑스어학부\\n인도어과\\n영어교육과\\n독일어과\\n터키아제르바이잔어과\\n프랑스어교육과\\n노어과\\n몽골어과\\n독일어교육과\\n스페인어과\\n중국언어문화학부\\n한국어교육과\\n이탈리아어과\\n중국외교통상학부\\n국제학부\\n포르투갈어과\\n그리스불가리아학과\\n일본언어문화학부\\n사회과학전공\\n네덜란드어과\\n융합일본지역학부\\nLD전공\\n스칸디나비아어과\\n정치외교학과\\nLT전공\\n말레이인도네시아어과\\n행정학과\\n서양어대학\\n아시아언어문화대학\\n중국어대학\\n일본어대학\\n사회과학\\n상경\\n경영\\n국제학부\\n사회과학전공\\n사범대학\\n교직\\n실용외국어\\n군입대\\n입영통지서\\n미비\\n미충족\\n등록휴학\\n휴학\\n전역일\\n증빙서류\\n1학기\\n2학기\\n개강\\n종강\\n학사일정\\n행사명\\n조치사항\\n참고사항\\n공고\\n부서명\\n학년도\\n개설학과\\n학수번호\\교과목명\\시간\\n교강사명\\n강의시간\\n폐강공고\\n일정\\n단과대\\n배부처\\n문의\\n동유럽학대학\\n국제지역대학\\n어문학관\\n통번역대학\\n인문대학\\n경상대학\\n자연과학대학\\n학생회관\\n공과대학\\n바이오메디컬공학부\\n졸업증명서\\n문의\\n전화\\문의전화\\n원스톱서비스센터\\n졸업예정증명서\\n편입생\\n신입생\\n신편입생\\n아래\\nQR코드\\n지양하다\\n비고\\n입학금\\n기타\\n코딩존\\n기초과학연구소\\n정보산업공학연구소\\n'"
      ],
      "metadata": {
        "id": "lo7kqSJ4z5TT"
      },
      "execution_count": 417,
      "outputs": []
    },
    {
      "cell_type": "code",
      "source": [
        "# haksa\n",
        "data += \"한국외국어대학교\\n한국외대\\n안내\\종합정보시스템\\공고\\n이수\\n학기\\n대하여\\장학재단\\n장학생\\n지원불가\\n자녀학자금\\n다자녀\\n지자체\\nHUFS앱\\n한국외대앱\\n부모\\n인문사회계열\\n제출서류\\n장학생신청서\\n추천서\\n추천소견\\n총장직인\\n자기소개서\\n전공분야\\n학습계획\\n졸업후진로\\n자유양식\\nA4\\n이내\\n주민등록등본\\n개인정보\\n기초생활수급권자\\n기초생활수급자증명서\\n기초생활수급자\\차상위계층\\n모자가정\\n부자가정\\n주민센터\\n한부모가정\\n건강보험증\\n건강보험자격확인서\\n과세자\\n급여생활자\\n원천징수\\n근로소득\\근무처\\n비사업자\\n수상내역\\n어학성적\\n입상경력증명서\\n봉사활동내역확인서\\n심신장애증명서\\n장애인등록수첩\\n장애인카드\\n직계가족\\n임대차계약서\\n학생지원팀\\n무이자\\n농어업인\\n농어업\\n융자금\\n정규학기\\n건강보험료\\n한국장학재단\\n학자금대출\\n지원자격\\n직전학기\\n학부모\\n1구간\\n2구간\\n3구간\\4구간\\n5구간\\n6구간\\n7구간\\n8구간\\n9구간\\n10구간\\n지원대상\\n다문화가족\\n다자녀가구\\n소득구간\\n거주자\\n4년제\\n정규대학\\n중증\\n석박사\\n이공계\\n직전학기\\n등록금납입영수증\\n등록금납입\\n통장사본\\n기획홍보팀\\n사회복지사\\n학생인재개발처\\n추가등록\\n등록기간\\n\\n법인사무처\\n사업관리팀\\\n",
        "n서울시 동대문구 이문로 107\\n등기부등본\\n인감 도장\\n문의전화\\n설명회\\n제고\\n임대환경\\n관리비\\n전세\\n가감율\\\n",
        "n수수료율\\n\\n영어통번역학부총액\\n전후\\n점수\\n기타사항\\n발주처\\n제3자\\n대원빌딩\\n서울특별시 테헤란로 98길 11\\n근린 생활 시설\\\n",
        "n리모델링\\nBRICs(브릭스)전공\\n글로벌역학과정\\nEU(유럽연합)전공\\n동북아외교통상전공\\n문화콘텐츠학전공\\n국가리더전공\\n세계문화예술경영전공\\n디지털인문한국학전공\\nAI융합전공\\n데이터사이언스전공\\\n",
        "n바이오데이터사이언스전공\\n상담·UX심리 융합전공\\n중앙아시아지역학과\\n지역경제개발협력전공\\n보험계리학전공\\nCulture & Technology융합대학\\n바이오메디컬공학부\\n글로벌자유전공학부\\n기후변화융합학부\\n전략기획팀\\n예산조정팀\\n평가감사팀\\n국책사업통합추진단\\nIT개발팀(서울)\\nIT인프라팀(서울)\\n정보통신팀(글로벌)\\n디지털서비스팀(서울∙글로벌)\\n지식출판콘텐츠팀\\n혁신지원팀수강자\\n재무회계팀\\n학부생\\n재입학생\\n분할납부자\\n분할납부\\n졸업유예\\n졸업\\n장학팀\\n미취업자\\n건강보험\\n특별승인\\n자격요건\\n학생지원팀\\n동문\\n장학회\\n장학금명\\n학비조달\\n조달\\n소득구간확인서\\n봉사활동확인서\\n개인정보수집이용동의서\\n지원기간\\n제출방법\\n방문접수\\n장학팀\\n모현읍\\n외대로\\n수혜내역\\n수혜액\\n수혜\\\n",
        "n등록휴학생\\n재학증명서\\n건강보험료납부확인서\\n양식없음\\n종료일\\n국가근로\\n타대학생\\n백분위\\n학자금\\n지원구간\\n신청유형\\n상반기\\n하반기\\n운영\\n위원회\\n장학금\\n진흥원\\n울산시\\nHUFS\\n양캠퍼스\\n서울캠퍼스\\n글로벌캠퍼스\\n서울글로벌캠퍼스\\n서울·글로벌캠퍼스\\n우리은행\\n단과대학\\n졸업시험\\n논문\\n제적\\n졸업요건\\n지역학사\\n지역전문가과정\\n수료졸업대기\\nELLT학과\\n영어학과\\n아랍어과\\n미디어커뮤니케이션학부\\n영어전공\\n영미문학문화학과\\n태국어과\\n경제학부\\nEICC학과\\n영어통번역학과\\n베트남어과\\n국제통상학과\\이란어과\\n경영학부\\n프랑스어학부\\n인도어과\\n영어교육과\\n독일어과\\n터키아제르바이잔어과\\n프랑스어교육과\\n노어과\\n몽골어과\\n독일어교육과\\n스페인어과\\n중국언어문화학부\\n한국어교육과\\n이탈리아어과\\n중국외교통상학부\\n국제학부\\n포르투갈어과\\n그리스불가리아학과\\n일본언어문화학부\\n사회과학전공\\n네덜란드어과\\n융합일본지역학부\\nLD전공\\n스칸디나비아어과\\n정치외교학과\\nLT전공\\n말레이인도네시아어과\\n행정학과\\n서양어대학\\n아시아언어문화대학\\n중국어대학\\n일본어대학\\n사회과학\\n상경\\n경영\\n국제학부\\n사회과학전공\\n사범대학\\n교직\\n실용외국어\\n군입대\\n입영통지서\\n미비\\n미충족\\n등록휴학\\n휴학\\n전역일\\n증빙서류\\n1학기\\n2학기\\n개강\\n종강\\n학사일정\\n행사명\\n조치사항\\n참고사항\\n공고\\n부서명\\n학년도\\n개설학과\\n학수번호\\교과목명\\시간\\n교강사명\\n강의시간\\n폐강공고\\n일정\\n단과대\\n배부처\\n문의\\n동유럽학대학\\n국제지역대학\\n어문학관\\n통번역대학\\n인문대학\\\n",
        "n경상대학\\n자연과학대학\\n학생회관\\n공과대학\\n바이오메디컬공학부\\n졸업증명서\\n문의\\n전화\\문의전화\\n원스톱서비스센터\\n졸업예정증명서\\n편입생\\n신입생\\n신편입생\\n아래\\nQR코드\\n지양하다\\n비고\\n입학금\\n기타\\n코딩존\\n기초과학연구소\\n정보산업공학연구소\\n행정지원처장\\n\""
      ],
      "metadata": {
        "id": "5zRT8Cx7a55T"
      },
      "execution_count": 418,
      "outputs": []
    },
    {
      "cell_type": "code",
      "source": [
        "# hiring\n",
        "data += \"모집공고\\n지원자격\\n일반사항\\n국제학사장\\n영어학부\\n전임조교\\n사이버외대\\n사이버한국외국어대학교\\n주요업무\\n행정업무\\n신청기한\\n개인정보수집이용제공동의서\\유첨파일\\n지원사업\\n모집분야\\n사회\\n문화\\n역사\\n4대보험\\n급여조건\\n근무시간\\n근무조건\\n채용\\n채용예정일\\n적격자\\n인사팀\\n구직자\\n공정화\\n시행규칙\\n근무\\n여름학기\\n겨울학기\\n기재내용\\n행정지원처장\\n결격사유\\n서류전형\\n학술정보팀\\n근무지\\n적임자\\n계약직\\n학생인재개발처\\n진로취업센터\\n개별연락\\n풀근무\\n선발\\n우선선발\\n외국어연수평가원\\n국제교육원\\n인력풀\\n시수\\n행정지원처장\\n인사팀\\n계약직\\n허위사실\\n기타문의\\n입사지원서\\n행정지원처장\\n서울런\\n캠프\\n한국인\\n보조교사\\n서류합격자\\n합격자\\n면접\\n한국외국어대학교\\n한국외대\\n계약직\\n사업본부운영1팀\\n외국어연수평가원\\n세르반테스문화원\\n사업지원팀\\n국제입학관리팀\\nFULLTIME\\n근무 학기\\n기숙사생\\n기숙사비품\\n소모품\\n공과금고지서\\n민원\\n담당 업무\\n근무 기간\\n근무 혜택\\n기숙사비\\n선 납부\\n근무 종료\\n장학금\\n지원서\\n기타\\n문의사항\\n한국어문화교육원\\n인사팀\\n학생상담센터\\n인문데이터연구센터\\n중남미연구소\\n산업경영공학과\\n공통지원자격\\n직원인사규정\\n결격사유\\n채용 조건\\n글로벌 캠퍼스\\n학사종합지원센터\\n용인시 처인구\\n단축근무\\n계약연장\\n계약기간\\n만료\\n근무성적평가\\n일정기간\\n통근버스\\n버스탑승\\n서류전형\\n심층면접\\n소정양식\\n인터넷 접수\\n입사지원서\\n자기소개서\\n자격증\\n경력사항\\n취업보호대상자\\n해당자\\n본교\\본교 홈페이지\\n채용시스템\\n공고문\\n바로가기 배너\\n피성년후견인\\n금고 이상의 형\\n병역기피자\\n신체검사결과\\n부적당\\n부적합\\n기재내용\\n허위 사실\\n허위사실\\n기타 문의\\n인사팀\\n행정지원처장\\n전임강사\\n채용분야\\n인원\\n한국어문화교육원\\n전임강사\\n외국어로서의한국어교육\\n공통지원자격\\n사업본부\\n임용기준\\n성 관련 범죄\\n박사학위\\n외국어로서의 한국어교육전공\\n부속기관\\한국어교원자격증\\n자격증\\n발행기관\\n책임시간\\n서울캠퍼스\\n채용일\\n추후 협의\\n증빙서류\\n제출목록\\n지원서\\n온라인지원\\n졸업증명서\\n성적증명서\\n학사\\n석사\\n박사\\n업로드\\n성범죄 경력조회서\\n경력증명서\\n발급본\\n지원 기간\\n접수 방법\\n사업본부\\n개별 통보\\n개별 통지\\n연구보조원\\n숙련자\\n웹페이지\\nKMOOC\\n인문사회계열\\n전형방법\\n서류전형\\n면접대상자\\n줌주소\\n실습데이터\\nZOOM데스크탑앱\\n포트폴리오\\n지원서 접수\\n압축파일\\nzip\\n학생상담센터\\n개인상담\\n집단상담\\n대학혁신지원사업\\n상담센터\\n석사학위\\n소지자\\n경력(재직)증명서\\n개인정보동의서\\n별첨양식\\n교직원 출퇴근 셔틀버스\\n출퇴근\\n교직원\\n이문동\\n잠실\\n분당\\n노선\\n오피스\\n스페인어\\n포르투갈어\\n석사\\n재학생\\nHK연구소\\n중남미연구소\\n내부규정\\n급여\\n계약기간\\n교내외장학금\\n사회 배려계층\\n교무행정팀\\n객원상담원\\n겸임교수\\n초빙교수\\n초빙공고\\n정보통신공학과\\n재공고\\n시설관리팀\\n수목관리\\n직원인사규정\\n제11조\\n임용결격사유\\n1종보통 운전면허\\n외국인학생\\n여름방학\\n민원응대\\n봉사장학금\\n장학금지급규정\\n등록금 범위내\\n국제학사\\nGlobeeDorm\\n학사운영팀\\n중국연구소\\n전임연구원\\n최종학위증명서\\n이력서\\n자율양식\\n경력증명서\\n채용예정일\\n지식출판콘텐츠원\\n채용공고\\n경영기획팀\\n행정\\n학사학위\\n국고사업\\n관련법\\n연구산학협력단\\n러시아연구소\\n초빙분야\\n세부전공\\n인센티브\\n4대 보험\\n한국연구재단\\n인문한국플로스지원사업\\n사립학교\\n해당 분야\\n기초심사\\n전공면접\\n경기도 용인시 처인구 모현면 외대로 81\\n국제사회교육원\\n러시아연구소\\n육아휴직\\n학술정보팀\\n퇴직금\\nTESOL\\nFLEX센터\\n능숙자\\nOA프로그램\\n영어회화\\n관련업무\\n유경험자\\n근무 가능자\\근무 가능\\n장학생\\n재학생\\n언어 능력\\n설명회\\n선착순\\n국제입학관리팀\\n\""
      ],
      "metadata": {
        "id": "-oxU8FShMm66"
      },
      "execution_count": 419,
      "outputs": []
    },
    {
      "cell_type": "code",
      "source": [
        "# 파일 새롭게 저장\n",
        "with open(\"/usr/local/lib/python3.10/dist-packages/konlpy/java/temp_fix/org/openkoreantext/processor/util/noun/names.txt\", 'w') as f:\n",
        "    f.write(data)\n",
        "data"
      ],
      "metadata": {
        "colab": {
          "base_uri": "https://localhost:8080/",
          "height": 146
        },
        "id": "7R5pWNsGtdKd",
        "outputId": "afa89d11-9f1a-4edc-b362-afada68f2074"
      },
      "execution_count": 420,
      "outputs": [
        {
          "output_type": "execute_result",
          "data": {
            "text/plain": [
              "'가몽\\n가온\\n갓세븐\\n강새이\\n게임닉가\\n관우\\n귀여미\\n규\\n김유이\\n김준면\\n까까런\\n노컷\\n누너예\\n니노\\n다마고치\\n다이무스\\n대학생\\n데이브\\n도요토미\\n동운\\n동이\\n두주니\\n디시인사이드\\n디오\\n라몹\\n라스\\n라옵\\n멍구\\n메이든\\n명덕\\n명량\\n문민정부\\n미네\\n방엘리\\n병헌\\n붓다\\n비정상회담\\n빼빼로\\n삼풍\\n샤인온미\\n성식\\n성열\\n세라문\\n세라복\\n세종대왕\\n손권\\n손책\\n쇼미더머니\\n쇼챔\\n순규\\n스라소니\\n신동아\\n신쓰패밀리\\n신아라\\n아베\\n안상홍\\n안홍준\\n여누\\n여랑\\n여포\\n연합\\n오꾸닭\\n요섭\\n웃찾사\\n원식\\n유병언\\n유비\\n유이\\n윤기형\\n이나단\\n이명박\\n이완용\\n임창용\\n자괴\\n자니윤\\n자대련\\n자유\\n재중이\\n전교조\\n정윤회\\n제갈량\\n조자룡\\n조조\\n준면\\n지오디\\n지존파\\n진영오\\n차작가\\n차트\\n창섭\\n챠트\\n첸\\n코르사주\\n하무열\\n하용파쿠\\n혁재\\n현이\\n현태\\n혜미\\n한국외국어대학교\\n한국외대\\n안내\\\\종합정보시스템\\\\공고\\n이수\\n학기\\n대하여\\n아래\\n수강편람\\n이중전공\\n수강신청함\\n수강신청\\n예비수강신청\\n교무처장\\n수강료\\n등록기간\\n수강신청자\\n한하다\\n미수강신청자\\n납부불가\\n핫링크\\n고지서출력\\n가상계좌\\n붙임파일\\n모바일앱\\n내역\\n인터넷뱅킹\\n텔레뱅킹\\n개시일\\n신청\\n마감\\n마감일\\n수강취소\\n수강변경\\\\종합정보화면\\n계절학기\\n부분환불\\n계절학기\\\\학년도\\n접수일\\n학석사\\n학사\\n석사\\n연계\\n과정생\\n접수처\\n학사종합지원센터\\n양캠퍼스\\n통번역\\n이수\\n미배정\\n부전공\\\\여석\\n이수\\n지원\\n학사종합지원센터\\n한국예술종합학교\\n특성화\\n수강편람\\n실용외국어\\n공동교양\\n여석\\\\졸업\\n사정\\n결과\\n확정자\\n불가자\\n개강일\\n우리대학교\\n우리대학\\n안내문\\n학위\\n학위증\\n코로나바이러스\\n신종코로나바이러스\\nHUFS\\n양캠퍼스\\n서울캠퍼스\\n글로벌캠퍼스\\n서울글로벌캠퍼스\\n서울·글로벌캠퍼스\\n우리은행\\n단과대학\\n졸업시험\\n논문\\n제적\\n졸업요건\\n지역학사\\n지역전문가과정\\n수료졸업대기\\nELLT학과\\n영어학과\\n아랍어과\\n미디어커뮤니케이션학부\\n영어전공\\n영미문학문화학과\\n태국어과\\n경제학부\\nEICC학과\\n영어통번역학과\\n베트남어과\\n국제통상학과\\\\이란어과\\n경영학부\\n프랑스어학부\\n인도어과\\n영어교육과\\n독일어과\\n터키아제르바이잔어과\\n프랑스어교육과\\n노어과\\n몽골어과\\n독일어교육과\\n스페인어과\\n중국언어문화학부\\n한국어교육과\\n이탈리아어과\\n중국외교통상학부\\n국제학부\\n포르투갈어과\\n그리스불가리아학과\\n일본언어문화학부\\n사회과학전공\\n네덜란드어과\\n융합일본지역학부\\nLD전공\\n스칸디나비아어과\\n정치외교학과\\nLT전공\\n말레이인도네시아어과\\n행정학과\\n서양어대학\\n아시아언어문화대학\\n중국어대학\\n일본어대학\\n사회과학\\n상경\\n경영\\n국제학부\\n사회과학전공\\n사범대학\\n교직n실용외국어\\n군입대\\n입영통지서\\n미비\\n미충족\\n등록휴학\\n휴학\\n전역일\\n증빙서류\\n1학기\\n2학기\\n개강\\n종강\\n학사일정\\n행사명\\n조치사항\\n참고사항\\n공고\\n부서명\\n학년도\\n개설학과\\n학수번호\\\\교과목명\\\\시간\\n교강사명\\n강의시간\\n폐강공고\\n일정\\n단과대\\n배부처\\n문의\\n동유럽학대학\\n국제지역대학\\n어문학관\\n통번역대학\\n인문대학\\n경상대학\\n자연과학대학\\n학생회관\\n공과대학\\n바이오메디컬공학부\\n졸업증명서\\n문의\\n전화\\\\문의전화\\n원스톱서비스센터\\n졸업예정증명서\\n편입생\\n신입생\\n신편입생\\n아래\\nQR코드\\n지양하다\\n투명성\\n공정성\\n외국인교환학생\\n외국인방문학생\\n첫학기\\n영어진단평가\\n원격\\n비대면\\ne-Class\\neclass\\n이클래스\\n안내하다\\n전자출결\\n전자출결시스템\\n체계적인\\n엄정성\\n공고\\n코로나19\\n일반휴학\\n신청\\n별도문의\\nCOVID-19\\nCovid19\\\\covid19\\n중간시험\\\\기말시험\\n응시인원\\nCommunicativeEnglish\\nLS\\nL/S\\n우리대학\\n콜로키움\\nEU연구소\\n인문사회연구사업단\\n온·오프라인\\n온오프라인\\nHK+사업단\\n국제관\\n인도연구소\\n패널티\\n수습국원\\n추가모집\\n게시물\\n외대교육방송국\\n교수학습개발원\\nFBS\\\\주한브라질대사관\\n세계여성의날\\\\스마트도서관\\n휠라아쿠쉬네트홀\\n영화\\n상영\\n한국어자막\\\\대학혁신지원사업\\n아이디어톤\\n수도권역\\n미래대학투모로우솔루션\\n미네르바헬스장\\n교육생\\n휴관\\n금모닝\\n글로벌캠퍼스\\n누구나\\n회차별\\n보건실\\n대한적십자사\\n헌혈증\\n헌혈자\\n성격유형검사\\n핵심역량통합관리시스템\\nHufsability\\n교과\\n비교과\\n서울학생상담센터\\n추후공지\\n청년몽땅정보통\\n마이페이지\\n문의처\\n다산콜센터\\\\특별전형\\n일반전형\\n면접전형\\n등록예치금\\n예치금\\n모집\\n학과\\n전공\\nTESOL대학원\\n세미오시스연구센터\\n서울학생상담센터\\n전문\\n경영대학원\\n해당일\\n접수마감일\\n해당학기\\n졸업자\\n졸업예정자\\n외국대학n소지자\\n한국어능력시험\\n입증서류\\n출신학교\\n주한공관영사\\n입증서류\\n학사학위\\n학사\\n최종학력\\n증명\\n학위증서\\n개인정보이용및제공동의서\\n기타서류\\n해당자\\n추천서\\n경력증명서\\n외국국적지원자\\n성적증명서\\n총점\\n사이버외대\\n군인공제회직원\\n학교교직원\\n첫학기\\n입학금\\n운영위원회\\n전형료\\n우편접수\\n입학원서\\n본인날인\\n서명함\\n수험표\\n지참\\n제출서류\\n외국어교육센터\\nK-Zone\\nNoshow\\n출석차감\\n1교시\\n2교시\\n3교시\\n4교시\\n5교시\\n6교시\\n7교시\\n8교시\\n9교시\\n10교시\\n11교시\\n12교시\\n작문\\n대학영어\\n중간시험\\n보충수업\\n추가모집\\n창업자\\nAI/SW\\n모집공고\\n모집분야\\n일반창업\\n스펙업\\n졸업대기자\\n수료생\\nSW중심대학사업단\\nAI교육원\\nSW관련학과\\n컴퓨터공학부\\n정보통신공학부\\nGBT전공\\nELLT학과\\nAI융합전공\\n데이터사이언스전공\\n바이오데이터사이언스전공\\nICT&AI세부모듈\\n수혜제외\\n초과학기생\\n초과학기\\n9학기\\n1학기\\n2학기\\n3학기\\n4학기\\n5학기\\n6학기\\n7학기\\n8학기\\n지원사항\\n팀별\\n개인별\\n사업자등록증n최종보고서\\n학기말\\n학기초\\n전세계\\n삼성그룹\\nLG그룹\\n주기적\\n인증테스트\\n비교과\\n굿즈\\n코로나19\\n경제적\\n지원\\n타지역\\n이에\\n랜선나눔캠퍼스\\n활동개요\\n신청기간\\n비합격\\n비선발자\\n최종합격자\\n활동불가자\\n활동혜택\\n자기소개서\\n1부\\n학습계획서\\n증빙자료\\n재학증명서\\n1차합격\\n2차합격\\n스캔\\n활동비\\\\소득세\\n지방소득세\\n문의처\\n추후공지\\n공공인재개발원\\n개인사물함\\n행정입법고시\\n2차모의고사\\n수험서적\\n사민재\\n세미나실\\n국제학생회\\n본교생\\n외국인교환학생\\n정기총회\\n뵨교재학생\\n버디프로그램\\n홍보팀\\n 기획컬처팀\\n국제교류처\\n국제교류처장\\n불합격자\\n코로나-19\\n양성판정\\n음성판정\\n양성\\n음성\\n최종합격자\\nQ&A\\n필참\\n퇴출\\n정기활동\\n이메일접수\\n시험일정\\n구분\\n시간\\n비고\\n시험장소\\n입실완료\\n인문과학관\\n졸업유예생\\n학부생들\\n코로나-19\\n글로벌캠퍼스\\n보건실\\n학생부종합전형\\n합격수기\\n선배들\\n글로벌창업지원단\\n창업인재양성센터\\n창업동아리\\n미디어커뮤니케이션대학원\\n대학원장\\nCulture&Technology융합대학n지원자격\\n지원서\\n접수\\n평가요소\\n영자신문사\\nTheArgus\\n수습기자\\n디아거스\\n공식홈페이지\\n공식인스타그램\\n사회봉사센터\\n국제학사\\n우편접수\\n서울시동대문구이문로107\\n대학안전관리계획\\n붙임팡리\\n안전보건관리팀\\n동원번역상\\n한국외국어대학교\\n한국외대\\n안내\\\\종합정보시스템\\\\공고\\n이수\\n학기\\n대하여\\\\장학재단\\n장학생\\n지원불가\\n자녀학자금\\n다자녀\\n지자체\\nHUFS앱\\n한국외대앱\\n부모\\n인문사회계열\\n제출서류\\n장학생신청서\\n추천서\\n추천소견\\n총장직인\\n자기소개서\\n전공분야\\n학습계획\\n졸업후진로\\n자유양식\\nA4\\n이내\\n주민등록등본\\n개인정보\\n기초생활수급권자\\n기초생활수급자증명서\\n기초생활수급자\\\\차상위계층\\n모자가정\\n부자가정\\n주민센터\\n한부모가정\\n건강보험증\\n건강보험자격확인서\\n과세자\\n급여생활자\\n원천징수\\n근로소득\\\\근무처\\n비사업자\\n수상내역\\n어학성적\\n입상경력증명서\\n봉사활동내역확인서\\n심신장애증명서\\n장애인등록수첩\\n장애인카드\\n직계가족\\n임대차계약서\\n학생지원팀\\n무이자\\n농어업인\\n농어업\\n융자금\\n정규학기\\n건강보험료\\n한국장학재단\\n학자금대출\\n지원자격\\n직전학기\\n학부모\\n1구간\\n2구간\\n3구간\\x04구간\\n5구간\\n6구간\\n7구간\\n8구간\\n9구간\\n10구간\\n지원대상\\n다문화가족\\n다자녀가구\\n소득구간\\n거주자\\n4년제\\n정규대학\\n중증\\n석박사\\n이공계\\n직전학기\\n등록금납입영수증\\n등록금납입\\n통장사본\\n기획홍보팀\\n사회복지사\\n학생인재개발처\\n추가등록\\n등록기간\\n\\n법인사무처\\n사업관리팀n서울시 동대문구 이문로 107\\n등기부등본\\n인감 도장\\n설명회\\n제고\\n임대환경\\n관리비\\n전세\\n가감율n수수료율\\n총액\\n전후\\n점수\\n기타사항\\n발주처\\n제3자\\n대원빌딩\\n서울특별시 테헤란로 98길 11\\n근린 생활 시설n리모델링\\nBRICs(브릭스)전공\\nEU(유럽연합)전공\\n동북아외교통상전공\\n문화콘텐츠학전공\\n국가리더전공\\n세계문화예술경영전공\\n디지털인문한국학전공\\nAI융합전공\\n데이터사이언스전공\\n바이오데이터사이언스전공\\n상담·UX심리 융합전공\\n지역경제개발협력전공\\n보험계리학전공\\nCulture & Technology융합대학\\n바이오메디컬공학부\\n글로벌자유전공학부\\n기후변화융합학부\\n전략기획팀\\n예산조정팀\\n평가감사팀\\n국책사업통합추진단\\nIT개발팀(서울)\\nIT인프라팀(서울)\\n정보통신팀(글로벌)\\n디지털서비스팀(서울∙글로벌)\\n지식출판콘텐츠팀\\n혁신지원팀수강자\\n재무회계팀\\n학부생\\n재입학생\\n분할납부자\\n분할납부\\n졸업유예\\n졸업\\n장학팀\\n미취업자\\n건강보험\\n특별승인\\n자격요건\\n학생지원팀\\n동문\\n장학회\\n장학금명\\n학비조달\\n조달\\n소득구간확인서\\n봉사활동확인서\\n개인정보수집이용동의서\\n지원기간\\n제출방법\\n방문접수\\n장학팀\\n모현읍\\n외대로\\n수혜내역\\n수혜액\\n수혜\\n등록휴학생\\n재학증명서\\n건강보험료납부확인서\\n양식없음\\n종료일\\n국가근로\\n타대학생\\n백분위\\n학자금\\n지원구간\\n신청유형\\n상반기\\n하반기\\n운영\\n위원회\\n장학금\\n진흥원\\n울산시\\nHUFS\\n양캠퍼스\\n서울캠퍼스\\n글로벌캠퍼스\\n서울글로벌캠퍼스\\n서울·글로벌캠퍼스\\n우리은행\\n단과대학\\n졸업시험\\n논문\\n제적\\n졸업요건\\n지역학사\\n지역전문가과정\\n수료졸업대기\\nELLT학과\\n영어학과\\n아랍어과\\n미디어커뮤니케이션학부\\n영어전공\\n영미문학문화학과\\n태국어과\\n경제학부\\nEICC학과\\n영어통번역학과\\n베트남어과\\n국제통상학과\\\\이란어과\\n경영학부\\n프랑스어학부\\n인도어과\\n영어교육과\\n독일어과\\n터키아제르바이잔어과\\n프랑스어교육과\\n노어과\\n몽골어과\\n독일어교육과\\n스페인어과\\n중국언어문화학부\\n한국어교육과\\n이탈리아어과\\n중국외교통상학부\\n국제학부\\n포르투갈어과\\n그리스불가리아학과\\n일본언어문화학부\\n사회과학전공\\n네덜란드어과\\n융합일본지역학부\\nLD전공\\n스칸디나비아어과\\n정치외교학과\\nLT전공\\n말레이인도네시아어과\\n행정학과\\n서양어대학\\n아시아언어문화대학\\n중국어대학\\n일본어대학\\n사회과학\\n상경\\n경영\\n국제학부\\n사회과학전공\\n사범대학\\n교직\\n실용외국어\\n군입대\\n입영통지서\\n미비\\n미충족\\n등록휴학\\n휴학\\n전역일\\n증빙서류\\n1학기\\n2학기\\n개강\\n종강\\n학사일정\\n행사명\\n조치사항\\n참고사항\\n공고\\n부서명\\n학년도\\n개설학과\\n학수번호\\\\교과목명\\\\시간\\n교강사명\\n강의시간\\n폐강공고\\n일정\\n단과대\\n배부처\\n문의\\n동유럽학대학\\n국제지역대학\\n어문학관\\n통번역대학\\n인문대학\\n경상대학\\n자연과학대학\\n학생회관\\n공과대학\\n바이오메디컬공학부\\n졸업증명서\\n문의\\n전화\\\\문의전화\\n원스톱서비스센터\\n졸업예정증명서\\n편입생\\n신입생\\n신편입생\\n아래\\nQR코드\\n지양하다\\n비고\\n입학금\\n기타\\n코딩존\\n기초과학연구소\\n정보산업공학연구소\\n한국외국어대학교\\n한국외대\\n안내\\\\종합정보시스템\\\\공고\\n이수\\n학기\\n대하여\\\\장학재단\\n장학생\\n지원불가\\n자녀학자금\\n다자녀\\n지자체\\nHUFS앱\\n한국외대앱\\n부모\\n인문사회계열\\n제출서류\\n장학생신청서\\n추천서\\n추천소견\\n총장직인\\n자기소개서\\n전공분야\\n학습계획\\n졸업후진로\\n자유양식\\nA4\\n이내\\n주민등록등본\\n개인정보\\n기초생활수급권자\\n기초생활수급자증명서\\n기초생활수급자\\\\차상위계층\\n모자가정\\n부자가정\\n주민센터\\n한부모가정\\n건강보험증\\n건강보험자격확인서\\n과세자\\n급여생활자\\n원천징수\\n근로소득\\\\근무처\\n비사업자\\n수상내역\\n어학성적\\n입상경력증명서\\n봉사활동내역확인서\\n심신장애증명서\\n장애인등록수첩\\n장애인카드\\n직계가족\\n임대차계약서\\n학생지원팀\\n무이자\\n농어업인\\n농어업\\n융자금\\n정규학기\\n건강보험료\\n한국장학재단\\n학자금대출\\n지원자격\\n직전학기\\n학부모\\n1구간\\n2구간\\n3구간\\x04구간\\n5구간\\n6구간\\n7구간\\n8구간\\n9구간\\n10구간\\n지원대상\\n다문화가족\\n다자녀가구\\n소득구간\\n거주자\\n4년제\\n정규대학\\n중증\\n석박사\\n이공계\\n직전학기\\n등록금납입영수증\\n등록금납입\\n통장사본\\n기획홍보팀\\n사회복지사\\n학생인재개발처\\n추가등록\\n등록기간\\n\\n법인사무처\\n사업관리팀n서울시 동대문구 이문로 107\\n등기부등본\\n인감 도장\\n설명회\\n제고\\n임대환경\\n관리비\\n전세\\n가감율n수수료율\\n총액\\n전후\\n점수\\n기타사항\\n발주처\\n제3자\\n대원빌딩\\n서울특별시 테헤란로 98길 11\\n근린 생활 시설n리모델링\\nBRICs(브릭스)전공\\nEU(유럽연합)전공\\n동북아외교통상전공\\n문화콘텐츠학전공\\n국가리더전공\\n세계문화예술경영전공\\n디지털인문한국학전공\\nAI융합전공\\n데이터사이언스전공\\n바이오데이터사이언스전공\\n상담·UX심리 융합전공\\n지역경제개발협력전공\\n보험계리학전공\\nCulture & Technology융합대학\\n바이오메디컬공학부\\n글로벌자유전공학부\\n기후변화융합학부\\n전략기획팀\\n예산조정팀\\n평가감사팀\\n국책사업통합추진단\\nIT개발팀(서울)\\nIT인프라팀(서울)\\n정보통신팀(글로벌)\\n디지털서비스팀(서울∙글로벌)\\n지식출판콘텐츠팀\\n혁신지원팀수강자\\n재무회계팀\\n학부생\\n재입학생\\n분할납부자\\n분할납부\\n졸업유예\\n졸업\\n장학팀\\n미취업자\\n건강보험\\n특별승인\\n자격요건\\n학생지원팀\\n동문\\n장학회\\n장학금명\\n학비조달\\n조달\\n소득구간확인서\\n봉사활동확인서\\n개인정보수집이용동의서\\n지원기간\\n제출방법\\n방문접수\\n장학팀\\n모현읍\\n외대로\\n수혜내역\\n수혜액\\n수혜\\n등록휴학생\\n재학증명서\\n건강보험료납부확인서\\n양식없음\\n종료일\\n국가근로\\n타대학생\\n백분위\\n학자금\\n지원구간\\n신청유형\\n상반기\\n하반기\\n운영\\n위원회\\n장학금\\n진흥원\\n울산시\\nHUFS\\n양캠퍼스\\n서울캠퍼스\\n글로벌캠퍼스\\n서울글로벌캠퍼스\\n서울·글로벌캠퍼스\\n우리은행\\n단과대학\\n졸업시험\\n논문\\n제적\\n졸업요건\\n지역학사\\n지역전문가과정\\n수료졸업대기\\nELLT학과\\n영어학과\\n아랍어과\\n미디어커뮤니케이션학부\\n영어전공\\n영미문학문화학과\\n태국어과\\n경제학부\\nEICC학과\\n영어통번역학과\\n베트남어과\\n국제통상학과\\\\이란어과\\n경영학부\\n프랑스어학부\\n인도어과\\n영어교육과\\n독일어과\\n터키아제르바이잔어과\\n프랑스어교육과\\n노어과\\n몽골어과\\n독일어교육과\\n스페인어과\\n중국언어문화학부\\n한국어교육과\\n이탈리아어과\\n중국외교통상학부\\n국제학부\\n포르투갈어과\\n그리스불가리아학과\\n일본언어문화학부\\n사회과학전공\\n네덜란드어과\\n융합일본지역학부\\nLD전공\\n스칸디나비아어과\\n정치외교학과\\nLT전공\\n말레이인도네시아어과\\n행정학과\\n서양어대학\\n아시아언어문화대학\\n중국어대학\\n일본어대학\\n사회과학\\n상경\\n경영\\n국제학부\\n사회과학전공\\n사범대학\\n교직\\n실용외국어\\n군입대\\n입영통지서\\n미비\\n미충족\\n등록휴학\\n휴학\\n전역일\\n증빙서류\\n1학기\\n2학기\\n개강\\n종강\\n학사일정\\n행사명\\n조치사항\\n참고사항\\n공고\\n부서명\\n학년도\\n개설학과\\n학수번호\\\\교과목명\\\\시간\\n교강사명\\n강의시간\\n폐강공고\\n일정\\n단과대\\n배부처\\n문의\\n동유럽학대학\\n국제지역대학\\n어문학관\\n통번역대학\\n인문대학\\n경상대학\\n자연과학대학\\n학생회관\\n공과대학\\n바이오메디컬공학부\\n졸업증명서\\n문의\\n전화\\\\문의전화\\n원스톱서비스센터\\n졸업예정증명서\\n편입생\\n신입생\\n신편입생\\n아래\\nQR코드\\n지양하다\\n비고\\n입학금\\n기타\\n코딩존\\n기초과학연구소\\n정보산업공학연구소\\n모집공고\\n지원자격\\n일반사항\\n국제학사장\\n영어학부\\n전임조교\\n사이버외대\\n사이버한국외국어대학교\\n주요업무\\n행정업무\\n신청기한\\n개인정보수집이용제공동의서\\\\유첨파일\\n지원사업\\n모집분야\\n사회\\n문화\\n역사\\n4대보험\\n급여조건\\n근무시간\\n근무조건\\n채용\\n채용예정일\\n적격자\\n인사팀\\n구직자\\n공정화\\n시행규칙\\n근무\\n여름학기\\n겨울학기\\n기재내용\\n행정지원처장\\n결격사유\\n서류전형\\n학술정보팀\\n근무지\\n적임자\\n계약직\\n학생인재개발처\\n진로취업센터\\n개별연락\\n풀근무\\n선발\\n우선선발\\n외국어연수평가원\\n국제교육원\\n인력풀\\n시수\\n행정지원처장\\n인사팀\\n계약직\\n허위사실\\n기타문의\\n입사지원서\\n행정지원처장\\n서울런\\n캠프\\n한국인\\n보조교사\\n서류합격자\\n합격자\\n면접\\n한국외국어대학교\\n한국외대\\n계약직\\n사업본부운영1팀\\n외국어연수평가원\\n세르반테스문화원\\n사업지원팀\\n국제입학관리팀\\nFULLTIME\\n근무 학기\\n기숙사생\\n기숙사비품\\n소모품\\n공과금고지서\\n민원\\n담당 업무\\n근무 기간\\n근무 혜택\\n기숙사비\\n선 납부\\n근무 종료\\n장학금\\n지원서\\n기타\\n문의사항\\n한국어문화교육원\\n인사팀\\n학생상담센터\\n인문데이터연구센터\\n중남미연구소\\n산업경영공학과\\n공통지원자격\\n직원인사규정\\n결격사유\\n채용 조건\\n글로벌 캠퍼스\\n학사종합지원센터\\n용인시 처인구\\n단축근무\\n계약연장\\n계약기간\\n만료\\n근무성적평가\\n일정기간\\n통근버스\\n버스탑승\\n서류전형\\n심층면접\\n소정양식\\n인터넷 접수\\n입사지원서\\n자기소개서\\n자격증\\n경력사항\\n취업보호대상자\\n해당자\\n본교\\\\본교 홈페이지\\n채용시스템\\n공고문\\n바로가기 배너\\n피성년후견인\\n금고 이상의 형\\n병역기피자\\n신체검사결과\\n부적당\\n부적합\\n기재내용\\n허위 사실\\n허위사실\\n기타 문의\\n인사팀\\n행정지원처장\\n전임강사\\n채용분야\\n인원\\n한국어문화교육원\\n전임강사\\n외국어로서의한국어교육\\n공통지원자격\\n사업본부\\n임용기준\\n성 관련 범죄\\n박사학위\\n외국어로서의 한국어교육전공\\n부속기관\\\\한국어교원자격증\\n자격증\\n발행기관\\n책임시간\\n서울캠퍼스\\n채용일\\n추후 협의\\n증빙서류\\n제출목록\\n지원서\\n온라인지원\\n졸업증명서\\n성적증명서\\n학사\\n석사\\n박사\\n업로드\\n성범죄 경력조회서\\n경력증명서\\n발급본\\n지원 기간\\n접수 방법\\n사업본부\\n개별 통보\\n개별 통지\\n연구보조원\\n숙련자\\n웹페이지\\nKMOOC\\n인문사회계열\\n전형방법\\n서류전형\\n면접대상자\\n줌주소\\n실습데이터\\nZOOM데스크탑앱\\n포트폴리오\\n지원서 접수\\n압축파일\\nzip\\n학생상담센터\\n개인상담\\n집단상담\\n대학혁신지원사업\\n상담센터\\n석사학위\\n소지자\\n경력(재직)증명서\\n개인정보동의서\\n별첨양식\\n교직원 출퇴근 셔틀버스\\n출퇴근\\n교직원\\n이문동\\n잠실\\n분당\\n노선\\n오피스\\n스페인어\\n포르투갈어\\n석사\\n재학생\\nHK연구소\\n중남미연구소\\n내부규정\\n급여\\n계약기간\\n교내외장학금\\n사회 배려계층\\n교무행정팀\\n객원상담원\\n겸임교수\\n초빙교수\\n초빙공고\\n정보통신공학과\\n재공고\\n시설관리팀\\n수목관리\\n직원인사규정\\n제11조\\n임용결격사유\\n1종보통 운전면허\\n외국인학생\\n여름방학\\n민원응대\\n봉사장학금\\n장학금지급규정\\n등록금 범위내\\n국제학사\\nGlobeeDorm\\n학사운영팀\\n중국연구소\\n전임연구원\\n최종학위증명서\\n이력서\\n자율양식\\n경력증명서\\n채용예정일\\n지식출판콘텐츠원\\n채용공고\\n경영기획팀\\n행정\\n학사학위\\n국고사업\\n관련법\\n연구산학협력단\\n러시아연구소\\n초빙분야\\n세부전공\\n인센티브\\n4대 보험\\n한국연구재단\\n인문한국플로스지원사업\\n사립학교\\n해당 분야\\n기초심사\\n전공면접\\n경기도 용인시 처인구 모현면 외대로 81\\n국제사회교육원\\n러시아연구소\\n육아휴직\\n학술정보팀\\n퇴직금\\nTESOL\\nFLEX센터\\n능숙자\\nOA프로그램\\n영어회화\\n관련업무\\n유경험자\\n근무 가능자\\\\근무 가능\\n장학생\\n재학생\\n언어 능력\\n설명회\\n선착순\\n국제입학관리팀\\n한국외국어대학교\\n한국외대\\n안내\\\\종합정보시스템\\\\공고\\n이수\\n학기\\n대하여\\n아래\\n수강편람\\n이중전공\\n수강신청함\\n수강신청\\n예비수강신청\\n교무처장\\n수강료\\n등록기간\\n수강신청자\\n한하다\\n미수강신청자\\n납부불가\\n핫링크\\n고지서출력\\n가상계좌\\n붙임파일\\n모바일앱\\n내역\\n인터넷뱅킹\\n텔레뱅킹\\n개시일\\n신청\\n마감\\n마감일\\n수강취소\\n수강변경\\\\종합정보화면\\n계절학기\\n부분환불\\n계절학기\\\\학년도\\n접수일\\n학석사\\n학사\\n석사\\n연계\\n과정생\\n접수처\\n학사종합지원센터\\n양캠퍼스\\n통번역\\n이수\\n미배정\\n부전공\\\\여석\\n이수\\n지원\\n학사종합지원센터\\n한국예술종합학교\\n특성화\\n수강편람\\n실용외국어\\n공동교양\\n여석\\\\졸업\\n사정\\n결과\\n확정자\\n불가자\\n개강일\\n우리대학교\\n우리대학\\n안내문\\n학위\\n학위증\\n코로나바이러스\\n신종코로나바이러스\\nHUFS\\n양캠퍼스\\n서울캠퍼스\\n글로벌캠퍼스\\n서울글로벌캠퍼스\\n서울·글로벌캠퍼스\\n우리은행\\n단과대학\\n졸업시험\\n논문\\n제적\\n졸업요건\\n지역학사\\n지역전문가과정\\n수료졸업대기\\nELLT학과\\n영어학과\\n아랍어과\\n미디어커뮤니케이션학부\\n영어전공\\n영미문학문화학과\\n태국어과\\n경제학부\\nEICC학과\\n영어통번역학과\\n베트남어과\\n국제통상학과\\\\이란어과\\n경영학부\\n프랑스어학부\\n인도어과\\n영어교육과\\n독일어과\\n터키아제르바이잔어과\\n프랑스어교육과\\n노어과\\n몽골어과\\n독일어교육과\\n스페인어과\\n중국언어문화학부\\n한국어교육과\\n이탈리아어과\\n중국외교통상학부\\n국제학부\\n포르투갈어과\\n그리스불가리아학과\\n일본언어문화학부\\n사회과학전공\\n네덜란드어과\\n융합일본지역학부\\nLD전공\\n스칸디나비아어과\\n정치외교학과\\nLT전공\\n말레이인도네시아어과\\n행정학과\\n서양어대학\\n아시아언어문화대학\\n중국어대학\\n일본어대학\\n사회과학\\n상경\\n경영\\n국제학부\\n사회과학전공\\n사범대학\\n교직n실용외국어\\n군입대\\n입영통지서\\n미비\\n미충족\\n등록휴학\\n휴학\\n전역일\\n증빙서류\\n1학기\\n2학기\\n개강\\n종강\\n학사일정\\n행사명\\n조치사항\\n참고사항\\n공고\\n부서명\\n학년도\\n개설학과\\n학수번호\\\\교과목명\\\\시간\\n교강사명\\n강의시간\\n폐강공고\\n일정\\n단과대\\n배부처\\n문의\\n동유럽학대학\\n국제지역대학\\n어문학관\\n통번역대학\\n인문대학\\n경상대학\\n자연과학대학\\n학생회관\\n공과대학\\n바이오메디컬공학부\\n졸업증명서\\n문의\\n전화\\\\문의전화\\n원스톱서비스센터\\n졸업예정증명서\\n편입생\\n신입생\\n신편입생\\n아래\\nQR코드\\n지양하다\\n투명성\\n공정성\\n외국인교환학생\\n외국인방문학생\\n첫학기\\n영어진단평가\\n원격\\n비대면\\ne-Class\\neclass\\n이클래스\\n안내하다\\n전자출결\\n전자출결시스템\\n체계적인\\n엄정성\\n공고\\n코로나19\\n일반휴학\\n신청\\n별도문의\\nCOVID-19\\nCovid19\\\\covid19\\n중간시험\\\\기말시험\\n응시인원\\nCommunicativeEnglish\\nLS\\nL/S\\n우리대학\\n콜로키움\\nEU연구소\\n인문사회연구사업단\\n온·오프라인\\n온오프라인\\nHK+사업단\\n국제관\\n인도연구소\\n패널티\\n수습국원\\n추가모집\\n게시물\\n외대교육방송국\\n교수학습개발원\\nFBS\\\\주한브라질대사관\\n세계여성의날\\\\스마트도서관\\n휠라아쿠쉬네트홀\\n영화\\n상영\\n한국어자막\\\\대학혁신지원사업\\n아이디어톤\\n수도권역\\n미래대학투모로우솔루션\\n미네르바헬스장\\n교육생\\n휴관\\n금모닝\\n글로벌캠퍼스\\n누구나\\n회차별\\n보건실\\n대한적십자사\\n헌혈증\\n헌혈자\\n성격유형검사\\n핵심역량통합관리시스템\\nHufsability\\n교과\\n비교과\\n서울학생상담센터\\n추후공지\\n청년몽땅정보통\\n마이페이지\\n문의처\\n다산콜센터\\\\특별전형\\n일반전형\\n면접전형\\n등록예치금\\n예치금\\n모집\\n학과\\n전공\\nTESOL대학원\\n세미오시스연구센터\\n서울학생상담센터\\n전문\\n경영대학원\\n해당일\\n접수마감일\\n해당학기\\n졸업자\\n졸업예정자\\n외국대학n소지자\\n한국어능력시험\\n입증서류\\n출신학교\\n주한공관영사\\n입증서류\\n학사학위\\n학사\\n최종학력\\n증명\\n학위증서\\n개인정보이용및제공동의서\\n기타서류\\n해당자\\n추천서\\n경력증명서\\n외국국적지원자\\n성적증명서\\n총점\\n사이버외대\\n군인공제회직원\\n학교교직원\\n첫학기\\n입학금\\n운영위원회\\n전형료\\n우편접수\\n입학원서\\n본인날인\\n서명함\\n수험표\\n지참\\n제출서류\\n외국어교육센터\\nK-Zone\\nNoshow\\n출석차감\\n1교시\\n2교시\\n3교시\\n4교시\\n5교시\\n6교시\\n7교시\\n8교시\\n9교시\\n10교시\\n11교시\\n12교시\\n작문\\n대학영어\\n중간시험\\n보충수업\\n추가모집\\n창업자\\nAI/SW\\n모집공고\\n모집분야\\n일반창업\\n스펙업\\n졸업대기자\\n수료생\\nSW중심대학사업단\\nAI교육원\\nSW관련학과\\n컴퓨터공학부\\n정보통신공학부\\nGBT전공\\nELLT학과\\nAI융합전공\\n데이터사이언스전공\\n바이오데이터사이언스전공\\nICT&AI세부모듈\\n수혜제외\\n초과학기생\\n초과학기\\n9학기\\n1학기\\n2학기\\n3학기\\n4학기\\n5학기\\n6학기\\n7학기\\n8학기\\n지원사항\\n팀별\\n개인별\\n사업자등록증n최종보고서\\n학기말\\n학기초\\n전세계\\n삼성그룹\\nLG그룹\\n주기적\\n인증테스트\\n비교과\\n굿즈\\n코로나19\\n경제적\\n지원\\n타지역\\n이에\\n랜선나눔캠퍼스\\n활동개요\\n신청기간\\n비합격\\n비선발자\\n최종합격자\\n활동불가자\\n활동혜택\\n자기소개서\\n1부\\n학습계획서\\n증빙자료\\n재학증명서\\n1차합격\\n2차합격\\n스캔\\n활동비\\\\소득세\\n지방소득세\\n문의처\\n추후공지\\n공공인재개발원\\n개인사물함\\n행정입법고시\\n2차모의고사\\n수험서적\\n사민재\\n세미나실\\n국제학생회\\n본교생\\n외국인교환학생\\n정기총회\\n뵨교재학생\\n버디프로그램\\n홍보팀\\n 기획컬처팀\\n국제교류처\\n국제교류처장\\n불합격자\\n코로나-19\\n양성판정\\n음성판정\\n양성\\n음성\\n최종합격자\\nQ&A\\n필참\\n퇴출\\n정기활동\\n이메일접수\\n시험일정\\n구분\\n시간\\n비고\\n시험장소\\n입실완료\\n인문과학관\\n졸업유예생\\n학부생들\\n코로나-19\\n글로벌캠퍼스\\n보건실\\n학생부종합전형\\n합격수기\\n선배들\\n글로벌창업지원단\\n창업인재양성센터\\n창업동아리\\n미디어커뮤니케이션대학원\\n대학원장\\nCulture&Technology융합대학n지원자격\\n지원서\\n접수\\n평가요소\\n영자신문사\\nTheArgus\\n수습기자\\n디아거스\\n공식홈페이지\\n공식인스타그램\\n사회봉사센터\\n국제학사\\n우편접수\\n서울시동대문구이문로107\\n대학안전관리계획\\n붙임팡리\\n안전보건관리팀\\n동원번역상\\n한국외국어대학교\\n한국외대\\n안내\\\\종합정보시스템\\\\공고\\n이수\\n학기\\n대하여\\\\장학재단\\n장학생\\n지원불가\\n자녀학자금\\n다자녀\\n지자체\\nHUFS앱\\n한국외대앱\\n부모\\n인문사회계열\\n제출서류\\n장학생신청서\\n추천서\\n추천소견\\n총장직인\\n자기소개서\\n전공분야\\n학습계획\\n졸업후진로\\n자유양식\\nA4\\n이내\\n주민등록등본\\n개인정보\\n기초생활수급권자\\n기초생활수급자증명서\\n기초생활수급자\\\\차상위계층\\n모자가정\\n부자가정\\n주민센터\\n한부모가정\\n건강보험증\\n건강보험자격확인서\\n과세자\\n급여생활자\\n원천징수\\n근로소득\\\\근무처\\n비사업자\\n수상내역\\n어학성적\\n입상경력증명서\\n봉사활동내역확인서\\n심신장애증명서\\n장애인등록수첩\\n장애인카드\\n직계가족\\n임대차계약서\\n학생지원팀\\n무이자\\n농어업인\\n농어업\\n융자금\\n정규학기\\n건강보험료\\n한국장학재단\\n학자금대출\\n지원자격\\n직전학기\\n학부모\\n1구간\\n2구간\\n3구간\\x04구간\\n5구간\\n6구간\\n7구간\\n8구간\\n9구간\\n10구간\\n지원대상\\n다문화가족\\n다자녀가구\\n소득구간\\n거주자\\n4년제\\n정규대학\\n중증\\n석박사\\n이공계\\n직전학기\\n등록금납입영수증\\n등록금납입\\n통장사본\\n기획홍보팀\\n사회복지사\\n학생인재개발처\\n추가등록\\n등록기간\\n\\n법인사무처\\n사업관리팀n서울시 동대문구 이문로 107\\n등기부등본\\n인감 도장\\n설명회\\n제고\\n임대환경\\n관리비\\n전세\\n가감율n수수료율\\n총액\\n전후\\n점수\\n기타사항\\n발주처\\n제3자\\n대원빌딩\\n서울특별시 테헤란로 98길 11\\n근린 생활 시설n리모델링\\nBRICs(브릭스)전공\\nEU(유럽연합)전공\\n동북아외교통상전공\\n문화콘텐츠학전공\\n국가리더전공\\n세계문화예술경영전공\\n디지털인문한국학전공\\nAI융합전공\\n데이터사이언스전공\\n바이오데이터사이언스전공\\n상담·UX심리 융합전공\\n지역경제개발협력전공\\n보험계리학전공\\nCulture & Technology융합대학\\n바이오메디컬공학부\\n글로벌자유전공학부\\n기후변화융합학부\\n전략기획팀\\n예산조정팀\\n평가감사팀\\n국책사업통합추진단\\nIT개발팀(서울)\\nIT인프라팀(서울)\\n정보통신팀(글로벌)\\n디지털서비스팀(서울∙글로벌)\\n지식출판콘텐츠팀\\n혁신지원팀수강자\\n재무회계팀\\n학부생\\n재입학생\\n분할납부자\\n분할납부\\n졸업유예\\n졸업\\n장학팀\\n미취업자\\n건강보험\\n특별승인\\n자격요건\\n학생지원팀\\n동문\\n장학회\\n장학금명\\n학비조달\\n조달\\n소득구간확인서\\n봉사활동확인서\\n개인정보수집이용동의서\\n지원기간\\n제출방법\\n방문접수\\n장학팀\\n모현읍\\n외대로\\n수혜내역\\n수혜액\\n수혜\\n등록휴학생\\n재학증명서\\n건강보험료납부확인서\\n양식없음\\n종료일\\n국가근로\\n타대학생\\n백분위\\n학자금\\n지원구간\\n신청유형\\n상반기\\n하반기\\n운영\\n위원회\\n장학금\\n진흥원\\n울산시\\nHUFS\\n양캠퍼스\\n서울캠퍼스\\n글로벌캠퍼스\\n서울글로벌캠퍼스\\n서울·글로벌캠퍼스\\n우리은행\\n단과대학\\n졸업시험\\n논문\\n제적\\n졸업요건\\n지역학사\\n지역전문가과정\\n수료졸업대기\\nELLT학과\\n영어학과\\n아랍어과\\n미디어커뮤니케이션학부\\n영어전공\\n영미문학문화학과\\n태국어과\\n경제학부\\nEICC학과\\n영어통번역학과\\n베트남어과\\n국제통상학과\\\\이란어과\\n경영학부\\n프랑스어학부\\n인도어과\\n영어교육과\\n독일어과\\n터키아제르바이잔어과\\n프랑스어교육과\\n노어과\\n몽골어과\\n독일어교육과\\n스페인어과\\n중국언어문화학부\\n한국어교육과\\n이탈리아어과\\n중국외교통상학부\\n국제학부\\n포르투갈어과\\n그리스불가리아학과\\n일본언어문화학부\\n사회과학전공\\n네덜란드어과\\n융합일본지역학부\\nLD전공\\n스칸디나비아어과\\n정치외교학과\\nLT전공\\n말레이인도네시아어과\\n행정학과\\n서양어대학\\n아시아언어문화대학\\n중국어대학\\n일본어대학\\n사회과학\\n상경\\n경영\\n국제학부\\n사회과학전공\\n사범대학\\n교직\\n실용외국어\\n군입대\\n입영통지서\\n미비\\n미충족\\n등록휴학\\n휴학\\n전역일\\n증빙서류\\n1학기\\n2학기\\n개강\\n종강\\n학사일정\\n행사명\\n조치사항\\n참고사항\\n공고\\n부서명\\n학년도\\n개설학과\\n학수번호\\\\교과목명\\\\시간\\n교강사명\\n강의시간\\n폐강공고\\n일정\\n단과대\\n배부처\\n문의\\n동유럽학대학\\n국제지역대학\\n어문학관\\n통번역대학\\n인문대학\\n경상대학\\n자연과학대학\\n학생회관\\n공과대학\\n바이오메디컬공학부\\n졸업증명서\\n문의\\n전화\\\\문의전화\\n원스톱서비스센터\\n졸업예정증명서\\n편입생\\n신입생\\n신편입생\\n아래\\nQR코드\\n지양하다\\n비고\\n입학금\\n기타\\n코딩존\\n기초과학연구소\\n정보산업공학연구소\\n한국외국어대학교\\n한국외대\\n안내\\\\종합정보시스템\\\\공고\\n이수\\n학기\\n대하여\\\\장학재단\\n장학생\\n지원불가\\n자녀학자금\\n다자녀\\n지자체\\nHUFS앱\\n한국외대앱\\n부모\\n인문사회계열\\n제출서류\\n장학생신청서\\n추천서\\n추천소견\\n총장직인\\n자기소개서\\n전공분야\\n학습계획\\n졸업후진로\\n자유양식\\nA4\\n이내\\n주민등록등본\\n개인정보\\n기초생활수급권자\\n기초생활수급자증명서\\n기초생활수급자\\\\차상위계층\\n모자가정\\n부자가정\\n주민센터\\n한부모가정\\n건강보험증\\n건강보험자격확인서\\n과세자\\n급여생활자\\n원천징수\\n근로소득\\\\근무처\\n비사업자\\n수상내역\\n어학성적\\n입상경력증명서\\n봉사활동내역확인서\\n심신장애증명서\\n장애인등록수첩\\n장애인카드\\n직계가족\\n임대차계약서\\n학생지원팀\\n무이자\\n농어업인\\n농어업\\n융자금\\n정규학기\\n건강보험료\\n한국장학재단\\n학자금대출\\n지원자격\\n직전학기\\n학부모\\n1구간\\n2구간\\n3구간\\x04구간\\n5구간\\n6구간\\n7구간\\n8구간\\n9구간\\n10구간\\n지원대상\\n다문화가족\\n다자녀가구\\n소득구간\\n거주자\\n4년제\\n정규대학\\n중증\\n석박사\\n이공계\\n직전학기\\n등록금납입영수증\\n등록금납입\\n통장사본\\n기획홍보팀\\n사회복지사\\n학생인재개발처\\n추가등록\\n등록기간\\n\\n법인사무처\\n사업관리팀n서울시 동대문구 이문로 107\\n등기부등본\\n인감 도장\\n설명회\\n제고\\n임대환경\\n관리비\\n전세\\n가감율n수수료율\\n총액\\n전후\\n점수\\n기타사항\\n발주처\\n제3자\\n대원빌딩\\n서울특별시 테헤란로 98길 11\\n근린 생활 시설n리모델링\\nBRICs(브릭스)전공\\nEU(유럽연합)전공\\n동북아외교통상전공\\n문화콘텐츠학전공\\n국가리더전공\\n세계문화예술경영전공\\n디지털인문한국학전공\\nAI융합전공\\n데이터사이언스전공n바이오데이터사이언스전공\\n상담·UX심리 융합전공\\n지역경제개발협력전공\\n보험계리학전공\\nCulture & Technology융합대학\\n바이오메디컬공학부\\n글로벌자유전공학부\\n기후변화융합학부\\n전략기획팀\\n예산조정팀\\n평가감사팀\\n국책사업통합추진단\\nIT개발팀(서울)\\nIT인프라팀(서울)\\n정보통신팀(글로벌)\\n디지털서비스팀(서울∙글로벌)\\n지식출판콘텐츠팀\\n혁신지원팀수강자\\n재무회계팀\\n학부생\\n재입학생\\n분할납부자\\n분할납부\\n졸업유예\\n졸업\\n장학팀\\n미취업자\\n건강보험\\n특별승인\\n자격요건\\n학생지원팀\\n동문\\n장학회\\n장학금명\\n학비조달\\n조달\\n소득구간확인서\\n봉사활동확인서\\n개인정보수집이용동의서\\n지원기간\\n제출방법\\n방문접수\\n장학팀\\n모현읍\\n외대로\\n수혜내역\\n수혜액\\n수혜n등록휴학생\\n재학증명서\\n건강보험료납부확인서\\n양식없음\\n종료일\\n국가근로\\n타대학생\\n백분위\\n학자금\\n지원구간\\n신청유형\\n상반기\\n하반기\\n운영\\n위원회\\n장학금\\n진흥원\\n울산시\\nHUFS\\n양캠퍼스\\n서울캠퍼스\\n글로벌캠퍼스\\n서울글로벌캠퍼스\\n서울·글로벌캠퍼스\\n우리은행\\n단과대학\\n졸업시험\\n논문\\n제적\\n졸업요건\\n지역학사\\n지역전문가과정\\n수료졸업대기\\nELLT학과\\n영어학과\\n아랍어과\\n미디어커뮤니케이션학부\\n영어전공\\n영미문학문화학과\\n태국어과\\n경제학부\\nEICC학과\\n영어통번역학과\\n베트남어과\\n국제통상학과\\\\이란어과\\n경영학부\\n프랑스어학부\\n인도어과\\n영어교육과\\n독일어과\\n터키아제르바이잔어과\\n프랑스어교육과\\n노어과\\n몽골어과\\n독일어교육과\\n스페인어과\\n중국언어문화학부\\n한국어교육과\\n이탈리아어과\\n중국외교통상학부\\n국제학부\\n포르투갈어과\\n그리스불가리아학과\\n일본언어문화학부\\n사회과학전공\\n네덜란드어과\\n융합일본지역학부\\nLD전공\\n스칸디나비아어과\\n정치외교학과\\nLT전공\\n말레이인도네시아어과\\n행정학과\\n서양어대학\\n아시아언어문화대학\\n중국어대학\\n일본어대학\\n사회과학\\n상경\\n경영\\n국제학부\\n사회과학전공\\n사범대학\\n교직\\n실용외국어\\n군입대\\n입영통지서\\n미비\\n미충족\\n등록휴학\\n휴학\\n전역일\\n증빙서류\\n1학기\\n2학기\\n개강\\n종강\\n학사일정\\n행사명\\n조치사항\\n참고사항\\n공고\\n부서명\\n학년도\\n개설학과\\n학수번호\\\\교과목명\\\\시간\\n교강사명\\n강의시간\\n폐강공고\\n일정\\n단과대\\n배부처\\n문의\\n동유럽학대학\\n국제지역대학\\n어문학관\\n통번역대학\\n인문대학n경상대학\\n자연과학대학\\n학생회관\\n공과대학\\n바이오메디컬공학부\\n졸업증명서\\n문의\\n전화\\\\문의전화\\n원스톱서비스센터\\n졸업예정증명서\\n편입생\\n신입생\\n신편입생\\n아래\\nQR코드\\n지양하다\\n비고\\n입학금\\n기타\\n코딩존\\n기초과학연구소\\n정보산업공학연구소\\n행정지원처장\\n모집공고\\n지원자격\\n일반사항\\n국제학사장\\n영어학부\\n전임조교\\n사이버외대\\n사이버한국외국어대학교\\n주요업무\\n행정업무\\n신청기한\\n개인정보수집이용제공동의서\\\\유첨파일\\n지원사업\\n모집분야\\n사회\\n문화\\n역사\\n4대보험\\n급여조건\\n근무시간\\n근무조건\\n채용\\n채용예정일\\n적격자\\n인사팀\\n구직자\\n공정화\\n시행규칙\\n근무\\n여름학기\\n겨울학기\\n기재내용\\n행정지원처장\\n결격사유\\n서류전형\\n학술정보팀\\n근무지\\n적임자\\n계약직\\n학생인재개발처\\n진로취업센터\\n개별연락\\n풀근무\\n선발\\n우선선발\\n외국어연수평가원\\n국제교육원\\n인력풀\\n시수\\n행정지원처장\\n인사팀\\n계약직\\n허위사실\\n기타문의\\n입사지원서\\n행정지원처장\\n서울런\\n캠프\\n한국인\\n보조교사\\n서류합격자\\n합격자\\n면접\\n한국외국어대학교\\n한국외대\\n계약직\\n사업본부운영1팀\\n외국어연수평가원\\n세르반테스문화원\\n사업지원팀\\n국제입학관리팀\\nFULLTIME\\n근무 학기\\n기숙사생\\n기숙사비품\\n소모품\\n공과금고지서\\n민원\\n담당 업무\\n근무 기간\\n근무 혜택\\n기숙사비\\n선 납부\\n근무 종료\\n장학금\\n지원서\\n기타\\n문의사항\\n한국어문화교육원\\n인사팀\\n학생상담센터\\n인문데이터연구센터\\n중남미연구소\\n산업경영공학과\\n공통지원자격\\n직원인사규정\\n결격사유\\n채용 조건\\n글로벌 캠퍼스\\n학사종합지원센터\\n용인시 처인구\\n단축근무\\n계약연장\\n계약기간\\n만료\\n근무성적평가\\n일정기간\\n통근버스\\n버스탑승\\n서류전형\\n심층면접\\n소정양식\\n인터넷 접수\\n입사지원서\\n자기소개서\\n자격증\\n경력사항\\n취업보호대상자\\n해당자\\n본교\\\\본교 홈페이지\\n채용시스템\\n공고문\\n바로가기 배너\\n피성년후견인\\n금고 이상의 형\\n병역기피자\\n신체검사결과\\n부적당\\n부적합\\n기재내용\\n허위 사실\\n허위사실\\n기타 문의\\n인사팀\\n행정지원처장\\n전임강사\\n채용분야\\n인원\\n한국어문화교육원\\n전임강사\\n외국어로서의한국어교육\\n공통지원자격\\n사업본부\\n임용기준\\n성 관련 범죄\\n박사학위\\n외국어로서의 한국어교육전공\\n부속기관\\\\한국어교원자격증\\n자격증\\n발행기관\\n책임시간\\n서울캠퍼스\\n채용일\\n추후 협의\\n증빙서류\\n제출목록\\n지원서\\n온라인지원\\n졸업증명서\\n성적증명서\\n학사\\n석사\\n박사\\n업로드\\n성범죄 경력조회서\\n경력증명서\\n발급본\\n지원 기간\\n접수 방법\\n사업본부\\n개별 통보\\n개별 통지\\n연구보조원\\n숙련자\\n웹페이지\\nKMOOC\\n인문사회계열\\n전형방법\\n서류전형\\n면접대상자\\n줌주소\\n실습데이터\\nZOOM데스크탑앱\\n포트폴리오\\n지원서 접수\\n압축파일\\nzip\\n학생상담센터\\n개인상담\\n집단상담\\n대학혁신지원사업\\n상담센터\\n석사학위\\n소지자\\n경력(재직)증명서\\n개인정보동의서\\n별첨양식\\n교직원 출퇴근 셔틀버스\\n출퇴근\\n교직원\\n이문동\\n잠실\\n분당\\n노선\\n오피스\\n스페인어\\n포르투갈어\\n석사\\n재학생\\nHK연구소\\n중남미연구소\\n내부규정\\n급여\\n계약기간\\n교내외장학금\\n사회 배려계층\\n교무행정팀\\n객원상담원\\n겸임교수\\n초빙교수\\n초빙공고\\n정보통신공학과\\n재공고\\n시설관리팀\\n수목관리\\n직원인사규정\\n제11조\\n임용결격사유\\n1종보통 운전면허\\n외국인학생\\n여름방학\\n민원응대\\n봉사장학금\\n장학금지급규정\\n등록금 범위내\\n국제학사\\nGlobeeDorm\\n학사운영팀\\n중국연구소\\n전임연구원\\n최종학위증명서\\n이력서\\n자율양식\\n경력증명서\\n채용예정일\\n지식출판콘텐츠원\\n채용공고\\n경영기획팀\\n행정\\n학사학위\\n국고사업\\n관련법\\n연구산학협력단\\n러시아연구소\\n초빙분야\\n세부전공\\n인센티브\\n4대 보험\\n한국연구재단\\n인문한국플로스지원사업\\n사립학교\\n해당 분야\\n기초심사\\n전공면접\\n경기도 용인시 처인구 모현면 외대로 81\\n국제사회교육원\\n러시아연구소\\n육아휴직\\n학술정보팀\\n퇴직금\\nTESOL\\nFLEX센터\\n능숙자\\nOA프로그램\\n영어회화\\n관련업무\\n유경험자\\n근무 가능자\\\\근무 가능\\n장학생\\n재학생\\n언어 능력\\n설명회\\n선착순\\n국제입학관리팀\\n한국외국어대학교\\n한국외대\\n안내\\\\종합정보시스템\\\\공고\\n이수\\n학기\\n대하여\\n아래\\n수강편람\\n이중전공\\n수강신청함\\n수강신청\\n예비수강신청\\n교무처장\\n수강료\\n등록기간\\n수강신청자\\n한하다\\n미수강신청자\\n납부불가\\n핫링크\\n고지서출력\\n가상계좌\\n붙임파일\\n모바일앱\\n내역\\n인터넷뱅킹\\n텔레뱅킹\\n개시일\\n신청\\n마감\\n마감일\\n수강취소\\n수강변경\\\\종합정보화면\\n계절학기\\n부분환불\\n계절학기\\\\학년도\\n접수일\\n학석사\\n학사\\n석사\\n연계\\n과정생\\n접수처\\n학사종합지원센터\\n양캠퍼스\\n통번역\\n이수\\n미배정\\n부전공\\\\여석\\n이수\\n지원\\n학사종합지원센터\\n한국예술종합학교\\n특성화\\n수강편람\\n실용외국어\\n공동교양\\n여석\\\\졸업\\n사정\\n결과\\n확정자\\n불가자\\n개강일\\n우리대학교\\n우리대학\\n안내문\\n학위\\n학위증\\n코로나바이러스\\n신종코로나바이러스\\nHUFS\\n양캠퍼스\\n서울캠퍼스\\n글로벌캠퍼스\\n서울글로벌캠퍼스\\n서울·글로벌캠퍼스\\n우리은행\\n단과대학\\n졸업시험\\n논문\\n제적\\n졸업요건\\n지역학사\\n지역전문가과정\\n수료졸업대기\\nELLT학과\\n영어학과\\n아랍어과\\n미디어커뮤니케이션학부\\n영어전공\\n영미문학문화학과\\n태국어과\\n경제학부\\nEICC학과\\n영어통번역학과\\n베트남어과\\n국제통상학과\\\\이란어과\\n경영학부\\n프랑스어학부\\n인도어과\\n영어교육과\\n독일어과\\n터키아제르바이잔어과\\n프랑스어교육과\\n노어과\\n몽골어과\\n독일어교육과\\n스페인어과\\n중국언어문화학부\\n한국어교육과\\n이탈리아어과\\n중국외교통상학부\\n국제학부\\n포르투갈어과\\n그리스불가리아학과\\n일본언어문화학부\\n사회과학전공\\n네덜란드어과\\n융합일본지역학부\\nLD전공\\n스칸디나비아어과\\n정치외교학과\\nLT전공\\n말레이인도네시아어과\\n행정학과\\n서양어대학\\n아시아언어문화대학\\n중국어대학\\n일본어대학\\n사회과학\\n상경\\n경영\\n국제학부\\n사회과학전공\\n사범대학\\n교직n실용외국어\\n군입대\\n입영통지서\\n미비\\n미충족\\n등록휴학\\n휴학\\n전역일\\n증빙서류\\n1학기\\n2학기\\n개강\\n종강\\n학사일정\\n행사명\\n조치사항\\n참고사항\\n공고\\n부서명\\n학년도\\n개설학과\\n학수번호\\\\교과목명\\\\시간\\n교강사명\\n강의시간\\n폐강공고\\n일정\\n단과대\\n배부처\\n문의\\n동유럽학대학\\n국제지역대학\\n어문학관\\n통번역대학\\n인문대학\\n경상대학\\n자연과학대학\\n학생회관\\n공과대학\\n바이오메디컬공학부\\n졸업증명서\\n문의\\n전화\\\\문의전화\\n원스톱서비스센터\\n졸업예정증명서\\n편입생\\n신입생\\n신편입생\\n아래\\nQR코드\\n지양하다\\n투명성\\n공정성\\n외국인교환학생\\n외국인방문학생\\n첫학기\\n영어진단평가\\n원격\\n비대면\\ne-Class\\neclass\\n이클래스\\n안내하다\\n전자출결\\n전자출결시스템\\n체계적인\\n엄정성\\n공고\\n코로나19\\n일반휴학\\n신청\\n별도문의\\nCOVID-19\\nCovid19\\\\covid19\\n중간시험\\\\기말시험\\n응시인원\\nCommunicativeEnglish\\nLS\\nL/S\\n우리대학\\n콜로키움\\nEU연구소\\n인문사회연구사업단\\n온·오프라인\\n온오프라인\\nHK+사업단\\n국제관\\n인도연구소\\n패널티\\n수습국원\\n추가모집\\n게시물\\n외대교육방송국\\n교수학습개발원\\nFBS\\\\주한브라질대사관\\n세계여성의날\\\\스마트도서관\\n휠라아쿠쉬네트홀\\n영화\\n상영\\n한국어자막\\\\대학혁신지원사업\\n아이디어톤\\n수도권역\\n미래대학투모로우솔루션\\n미네르바헬스장\\n교육생\\n휴관\\n금모닝\\n글로벌캠퍼스\\n누구나\\n회차별\\n보건실\\n대한적십자사\\n헌혈증\\n헌혈자\\n성격유형검사\\n핵심역량통합관리시스템\\nHufsability\\n교과\\n비교과\\n서울학생상담센터\\n추후공지\\n청년몽땅정보통\\n마이페이지\\n문의처\\n다산콜센터\\\\특별전형\\n일반전형\\n면접전형\\n등록예치금\\n예치금\\n모집\\n학과\\n전공\\nTESOL대학원\\n세미오시스연구센터\\n서울학생상담센터\\n전문\\n경영대학원\\n해당일\\n접수마감일\\n해당학기\\n졸업자\\n졸업예정자\\n외국대학n소지자\\n한국어능력시험\\n입증서류\\n출신학교\\n주한공관영사\\n입증서류\\n학사학위\\n학사\\n최종학력\\n증명\\n학위증서\\n개인정보이용및제공동의서\\n기타서류\\n해당자\\n추천서\\n경력증명서\\n외국국적지원자\\n성적증명서\\n총점\\n사이버외대\\n군인공제회직원\\n학교교직원\\n첫학기\\n입학금\\n운영위원회\\n전형료\\n우편접수\\n입학원서\\n본인날인\\n서명함\\n수험표\\n지참\\n제출서류\\n외국어교육센터\\nK-Zone\\nNoshow\\n출석차감\\n1교시\\n2교시\\n3교시\\n4교시\\n5교시\\n6교시\\n7교시\\n8교시\\n9교시\\n10교시\\n11교시\\n12교시\\n작문\\n대학영어\\n중간시험\\n보충수업\\n추가모집\\n창업자\\nAI/SW\\n모집공고\\n모집분야\\n일반창업\\n스펙업\\n졸업대기자\\n수료생\\nSW중심대학사업단\\nAI교육원\\nSW관련학과\\n컴퓨터공학부\\n정보통신공학부\\nGBT전공\\nELLT학과\\nAI융합전공\\n데이터사이언스전공\\n바이오데이터사이언스전공\\nICT&AI세부모듈\\n수혜제외\\n초과학기생\\n초과학기\\n9학기\\n1학기\\n2학기\\n3학기\\n4학기\\n5학기\\n6학기\\n7학기\\n8학기\\n지원사항\\n팀별\\n개인별\\n사업자등록증n최종보고서\\n학기말\\n학기초\\n전세계\\n삼성그룹\\nLG그룹\\n주기적\\n인증테스트\\n비교과\\n굿즈\\n코로나19\\n경제적\\n지원\\n타지역\\n이에\\n랜선나눔캠퍼스\\n활동개요\\n신청기간\\n비합격\\n비선발자\\n최종합격자\\n활동불가자\\n활동혜택\\n자기소개서\\n1부\\n학습계획서\\n증빙자료\\n재학증명서\\n1차합격\\n2차합격\\n스캔\\n활동비\\\\소득세\\n지방소득세\\n문의처\\n추후공지\\n공공인재개발원\\n개인사물함\\n행정입법고시\\n2차모의고사\\n수험서적\\n사민재\\n세미나실\\n국제학생회\\n본교생\\n외국인교환학생\\n정기총회\\n뵨교재학생\\n버디프로그램\\n홍보팀\\n 기획컬처팀\\n국제교류처\\n국제교류처장\\n불합격자\\n코로나-19\\n양성판정\\n음성판정\\n양성\\n음성\\n최종합격자\\nQ&A\\n필참\\n퇴출\\n정기활동\\n이메일접수\\n시험일정\\n구분\\n시간\\n비고\\n시험장소\\n입실완료\\n인문과학관\\n졸업유예생\\n학부생들\\n코로나-19\\n글로벌캠퍼스\\n보건실\\n학생부종합전형\\n합격수기\\n선배들\\n글로벌창업지원단\\n창업인재양성센터\\n창업동아리\\n미디어커뮤니케이션대학원\\n대학원장\\nCulture&Technology융합대학n지원자격\\n지원서\\n접수\\n평가요소\\n영자신문사\\nTheArgus\\n수습기자\\n디아거스\\n공식홈페이지\\n공식인스타그램\\n사회봉사센터\\n국제학사\\n우편접수\\n서울시동대문구이문로107\\n대학안전관리계획\\n붙임팡리\\n안전보건관리팀\\n동원번역상\\n한국외국어대학교\\n한국외대\\n안내\\\\종합정보시스템\\\\공고\\n이수\\n학기\\n대하여\\\\장학재단\\n장학생\\n지원불가\\n자녀학자금\\n다자녀\\n지자체\\nHUFS앱\\n한국외대앱\\n부모\\n인문사회계열\\n제출서류\\n장학생신청서\\n추천서\\n추천소견\\n총장직인\\n자기소개서\\n전공분야\\n학습계획\\n졸업후진로\\n자유양식\\nA4\\n이내\\n주민등록등본\\n개인정보\\n기초생활수급권자\\n기초생활수급자증명서\\n기초생활수급자\\\\차상위계층\\n모자가정\\n부자가정\\n주민센터\\n한부모가정\\n건강보험증\\n건강보험자격확인서\\n과세자\\n급여생활자\\n원천징수\\n근로소득\\\\근무처\\n비사업자\\n수상내역\\n어학성적\\n입상경력증명서\\n봉사활동내역확인서\\n심신장애증명서\\n장애인등록수첩\\n장애인카드\\n직계가족\\n임대차계약서\\n학생지원팀\\n무이자\\n농어업인\\n농어업\\n융자금\\n정규학기\\n건강보험료\\n한국장학재단\\n학자금대출\\n지원자격\\n직전학기\\n학부모\\n1구간\\n2구간\\n3구간\\x04구간\\n5구간\\n6구간\\n7구간\\n8구간\\n9구간\\n10구간\\n지원대상\\n다문화가족\\n다자녀가구\\n소득구간\\n거주자\\n4년제\\n정규대학\\n중증\\n석박사\\n이공계\\n직전학기\\n등록금납입영수증\\n등록금납입\\n통장사본\\n기획홍보팀\\n사회복지사\\n학생인재개발처\\n추가등록\\n등록기간\\n\\n법인사무처\\n사업관리팀n서울시 동대문구 이문로 107\\n등기부등본\\n인감 도장\\n설명회\\n제고\\n임대환경\\n관리비\\n전세\\n가감율n수수료율\\n총액\\n전후\\n점수\\n기타사항\\n발주처\\n제3자\\n대원빌딩\\n서울특별시 테헤란로 98길 11\\n근린 생활 시설n리모델링\\nBRICs(브릭스)전공\\nEU(유럽연합)전공\\n동북아외교통상전공\\n문화콘텐츠학전공\\n국가리더전공\\n세계문화예술경영전공\\n디지털인문한국학전공\\nAI융합전공\\n데이터사이언스전공\\n바이오데이터사이언스전공\\n상담·UX심리 융합전공\\n지역경제개발협력전공\\n보험계리학전공\\nCulture & Technology융합대학\\n바이오메디컬공학부\\n글로벌자유전공학부\\n기후변화융합학부\\n전략기획팀\\n예산조정팀\\n평가감사팀\\n국책사업통합추진단\\nIT개발팀(서울)\\nIT인프라팀(서울)\\n정보통신팀(글로벌)\\n디지털서비스팀(서울∙글로벌)\\n지식출판콘텐츠팀\\n혁신지원팀수강자\\n재무회계팀\\n학부생\\n재입학생\\n분할납부자\\n분할납부\\n졸업유예\\n졸업\\n장학팀\\n미취업자\\n건강보험\\n특별승인\\n자격요건\\n학생지원팀\\n동문\\n장학회\\n장학금명\\n학비조달\\n조달\\n소득구간확인서\\n봉사활동확인서\\n개인정보수집이용동의서\\n지원기간\\n제출방법\\n방문접수\\n장학팀\\n모현읍\\n외대로\\n수혜내역\\n수혜액\\n수혜\\n등록휴학생\\n재학증명서\\n건강보험료납부확인서\\n양식없음\\n종료일\\n국가근로\\n타대학생\\n백분위\\n학자금\\n지원구간\\n신청유형\\n상반기\\n하반기\\n운영\\n위원회\\n장학금\\n진흥원\\n울산시\\nHUFS\\n양캠퍼스\\n서울캠퍼스\\n글로벌캠퍼스\\n서울글로벌캠퍼스\\n서울·글로벌캠퍼스\\n우리은행\\n단과대학\\n졸업시험\\n논문\\n제적\\n졸업요건\\n지역학사\\n지역전문가과정\\n수료졸업대기\\nELLT학과\\n영어학과\\n아랍어과\\n미디어커뮤니케이션학부\\n영어전공\\n영미문학문화학과\\n태국어과\\n경제학부\\nEICC학과\\n영어통번역학과\\n베트남어과\\n국제통상학과\\\\이란어과\\n경영학부\\n프랑스어학부\\n인도어과\\n영어교육과\\n독일어과\\n터키아제르바이잔어과\\n프랑스어교육과\\n노어과\\n몽골어과\\n독일어교육과\\n스페인어과\\n중국언어문화학부\\n한국어교육과\\n이탈리아어과\\n중국외교통상학부\\n국제학부\\n포르투갈어과\\n그리스불가리아학과\\n일본언어문화학부\\n사회과학전공\\n네덜란드어과\\n융합일본지역학부\\nLD전공\\n스칸디나비아어과\\n정치외교학과\\nLT전공\\n말레이인도네시아어과\\n행정학과\\n서양어대학\\n아시아언어문화대학\\n중국어대학\\n일본어대학\\n사회과학\\n상경\\n경영\\n국제학부\\n사회과학전공\\n사범대학\\n교직\\n실용외국어\\n군입대\\n입영통지서\\n미비\\n미충족\\n등록휴학\\n휴학\\n전역일\\n증빙서류\\n1학기\\n2학기\\n개강\\n종강\\n학사일정\\n행사명\\n조치사항\\n참고사항\\n공고\\n부서명\\n학년도\\n개설학과\\n학수번호\\\\교과목명\\\\시간\\n교강사명\\n강의시간\\n폐강공고\\n일정\\n단과대\\n배부처\\n문의\\n동유럽학대학\\n국제지역대학\\n어문학관\\n통번역대학\\n인문대학\\n경상대학\\n자연과학대학\\n학생회관\\n공과대학\\n바이오메디컬공학부\\n졸업증명서\\n문의\\n전화\\\\문의전화\\n원스톱서비스센터\\n졸업예정증명서\\n편입생\\n신입생\\n신편입생\\n아래\\nQR코드\\n지양하다\\n비고\\n입학금\\n기타\\n코딩존\\n기초과학연구소\\n정보산업공학연구소\\n한국외국어대학교\\n한국외대\\n안내\\\\종합정보시스템\\\\공고\\n이수\\n학기\\n대하여\\\\장학재단\\n장학생\\n지원불가\\n자녀학자금\\n다자녀\\n지자체\\nHUFS앱\\n한국외대앱\\n부모\\n인문사회계열\\n제출서류\\n장학생신청서\\n추천서\\n추천소견\\n총장직인\\n자기소개서\\n전공분야\\n학습계획\\n졸업후진로\\n자유양식\\nA4\\n이내\\n주민등록등본\\n개인정보\\n기초생활수급권자\\n기초생활수급자증명서\\n기초생활수급자\\\\차상위계층\\n모자가정\\n부자가정\\n주민센터\\n한부모가정\\n건강보험증\\n건강보험자격확인서\\n과세자\\n급여생활자\\n원천징수\\n근로소득\\\\근무처\\n비사업자\\n수상내역\\n어학성적\\n입상경력증명서\\n봉사활동내역확인서\\n심신장애증명서\\n장애인등록수첩\\n장애인카드\\n직계가족\\n임대차계약서\\n학생지원팀\\n무이자\\n농어업인\\n농어업\\n융자금\\n정규학기\\n건강보험료\\n한국장학재단\\n학자금대출\\n지원자격\\n직전학기\\n학부모\\n1구간\\n2구간\\n3구간\\x04구간\\n5구간\\n6구간\\n7구간\\n8구간\\n9구간\\n10구간\\n지원대상\\n다문화가족\\n다자녀가구\\n소득구간\\n거주자\\n4년제\\n정규대학\\n중증\\n석박사\\n이공계\\n직전학기\\n등록금납입영수증\\n등록금납입\\n통장사본\\n기획홍보팀\\n사회복지사\\n학생인재개발처\\n추가등록\\n등록기간\\n\\n법인사무처\\n사업관리팀n서울시 동대문구 이문로 107\\n등기부등본\\n인감 도장\\n문의전화\\n설명회\\n제고\\n임대환경\\n관리비\\n전세\\n가감율n수수료율\\n\\n영어통번역학부총액\\n전후\\n점수\\n기타사항\\n발주처\\n제3자\\n대원빌딩\\n서울특별시 테헤란로 98길 11\\n근린 생활 시설n리모델링\\nBRICs(브릭스)전공\\n글로벌역학과정\\nEU(유럽연합)전공\\n동북아외교통상전공\\n문화콘텐츠학전공\\n국가리더전공\\n세계문화예술경영전공\\n디지털인문한국학전공\\nAI융합전공\\n데이터사이언스전공n바이오데이터사이언스전공\\n상담·UX심리 융합전공\\n중앙아시아지역학과\\n지역경제개발협력전공\\n보험계리학전공\\nCulture & Technology융합대학\\n바이오메디컬공학부\\n글로벌자유전공학부\\n기후변화융합학부\\n전략기획팀\\n예산조정팀\\n평가감사팀\\n국책사업통합추진단\\nIT개발팀(서울)\\nIT인프라팀(서울)\\n정보통신팀(글로벌)\\n디지털서비스팀(서울∙글로벌)\\n지식출판콘텐츠팀\\n혁신지원팀수강자\\n재무회계팀\\n학부생\\n재입학생\\n분할납부자\\n분할납부\\n졸업유예\\n졸업\\n장학팀\\n미취업자\\n건강보험\\n특별승인\\n자격요건\\n학생지원팀\\n동문\\n장학회\\n장학금명\\n학비조달\\n조달\\n소득구간확인서\\n봉사활동확인서\\n개인정보수집이용동의서\\n지원기간\\n제출방법\\n방문접수\\n장학팀\\n모현읍\\n외대로\\n수혜내역\\n수혜액\\n수혜n등록휴학생\\n재학증명서\\n건강보험료납부확인서\\n양식없음\\n종료일\\n국가근로\\n타대학생\\n백분위\\n학자금\\n지원구간\\n신청유형\\n상반기\\n하반기\\n운영\\n위원회\\n장학금\\n진흥원\\n울산시\\nHUFS\\n양캠퍼스\\n서울캠퍼스\\n글로벌캠퍼스\\n서울글로벌캠퍼스\\n서울·글로벌캠퍼스\\n우리은행\\n단과대학\\n졸업시험\\n논문\\n제적\\n졸업요건\\n지역학사\\n지역전문가과정\\n수료졸업대기\\nELLT학과\\n영어학과\\n아랍어과\\n미디어커뮤니케이션학부\\n영어전공\\n영미문학문화학과\\n태국어과\\n경제학부\\nEICC학과\\n영어통번역학과\\n베트남어과\\n국제통상학과\\\\이란어과\\n경영학부\\n프랑스어학부\\n인도어과\\n영어교육과\\n독일어과\\n터키아제르바이잔어과\\n프랑스어교육과\\n노어과\\n몽골어과\\n독일어교육과\\n스페인어과\\n중국언어문화학부\\n한국어교육과\\n이탈리아어과\\n중국외교통상학부\\n국제학부\\n포르투갈어과\\n그리스불가리아학과\\n일본언어문화학부\\n사회과학전공\\n네덜란드어과\\n융합일본지역학부\\nLD전공\\n스칸디나비아어과\\n정치외교학과\\nLT전공\\n말레이인도네시아어과\\n행정학과\\n서양어대학\\n아시아언어문화대학\\n중국어대학\\n일본어대학\\n사회과학\\n상경\\n경영\\n국제학부\\n사회과학전공\\n사범대학\\n교직\\n실용외국어\\n군입대\\n입영통지서\\n미비\\n미충족\\n등록휴학\\n휴학\\n전역일\\n증빙서류\\n1학기\\n2학기\\n개강\\n종강\\n학사일정\\n행사명\\n조치사항\\n참고사항\\n공고\\n부서명\\n학년도\\n개설학과\\n학수번호\\\\교과목명\\\\시간\\n교강사명\\n강의시간\\n폐강공고\\n일정\\n단과대\\n배부처\\n문의\\n동유럽학대학\\n국제지역대학\\n어문학관\\n통번역대학\\n인문대학n경상대학\\n자연과학대학\\n학생회관\\n공과대학\\n바이오메디컬공학부\\n졸업증명서\\n문의\\n전화\\\\문의전화\\n원스톱서비스센터\\n졸업예정증명서\\n편입생\\n신입생\\n신편입생\\n아래\\nQR코드\\n지양하다\\n비고\\n입학금\\n기타\\n코딩존\\n기초과학연구소\\n정보산업공학연구소\\n행정지원처장\\n모집공고\\n지원자격\\n일반사항\\n국제학사장\\n영어학부\\n전임조교\\n사이버외대\\n사이버한국외국어대학교\\n주요업무\\n행정업무\\n신청기한\\n개인정보수집이용제공동의서\\\\유첨파일\\n지원사업\\n모집분야\\n사회\\n문화\\n역사\\n4대보험\\n급여조건\\n근무시간\\n근무조건\\n채용\\n채용예정일\\n적격자\\n인사팀\\n구직자\\n공정화\\n시행규칙\\n근무\\n여름학기\\n겨울학기\\n기재내용\\n행정지원처장\\n결격사유\\n서류전형\\n학술정보팀\\n근무지\\n적임자\\n계약직\\n학생인재개발처\\n진로취업센터\\n개별연락\\n풀근무\\n선발\\n우선선발\\n외국어연수평가원\\n국제교육원\\n인력풀\\n시수\\n행정지원처장\\n인사팀\\n계약직\\n허위사실\\n기타문의\\n입사지원서\\n행정지원처장\\n서울런\\n캠프\\n한국인\\n보조교사\\n서류합격자\\n합격자\\n면접\\n한국외국어대학교\\n한국외대\\n계약직\\n사업본부운영1팀\\n외국어연수평가원\\n세르반테스문화원\\n사업지원팀\\n국제입학관리팀\\nFULLTIME\\n근무 학기\\n기숙사생\\n기숙사비품\\n소모품\\n공과금고지서\\n민원\\n담당 업무\\n근무 기간\\n근무 혜택\\n기숙사비\\n선 납부\\n근무 종료\\n장학금\\n지원서\\n기타\\n문의사항\\n한국어문화교육원\\n인사팀\\n학생상담센터\\n인문데이터연구센터\\n중남미연구소\\n산업경영공학과\\n공통지원자격\\n직원인사규정\\n결격사유\\n채용 조건\\n글로벌 캠퍼스\\n학사종합지원센터\\n용인시 처인구\\n단축근무\\n계약연장\\n계약기간\\n만료\\n근무성적평가\\n일정기간\\n통근버스\\n버스탑승\\n서류전형\\n심층면접\\n소정양식\\n인터넷 접수\\n입사지원서\\n자기소개서\\n자격증\\n경력사항\\n취업보호대상자\\n해당자\\n본교\\\\본교 홈페이지\\n채용시스템\\n공고문\\n바로가기 배너\\n피성년후견인\\n금고 이상의 형\\n병역기피자\\n신체검사결과\\n부적당\\n부적합\\n기재내용\\n허위 사실\\n허위사실\\n기타 문의\\n인사팀\\n행정지원처장\\n전임강사\\n채용분야\\n인원\\n한국어문화교육원\\n전임강사\\n외국어로서의한국어교육\\n공통지원자격\\n사업본부\\n임용기준\\n성 관련 범죄\\n박사학위\\n외국어로서의 한국어교육전공\\n부속기관\\\\한국어교원자격증\\n자격증\\n발행기관\\n책임시간\\n서울캠퍼스\\n채용일\\n추후 협의\\n증빙서류\\n제출목록\\n지원서\\n온라인지원\\n졸업증명서\\n성적증명서\\n학사\\n석사\\n박사\\n업로드\\n성범죄 경력조회서\\n경력증명서\\n발급본\\n지원 기간\\n접수 방법\\n사업본부\\n개별 통보\\n개별 통지\\n연구보조원\\n숙련자\\n웹페이지\\nKMOOC\\n인문사회계열\\n전형방법\\n서류전형\\n면접대상자\\n줌주소\\n실습데이터\\nZOOM데스크탑앱\\n포트폴리오\\n지원서 접수\\n압축파일\\nzip\\n학생상담센터\\n개인상담\\n집단상담\\n대학혁신지원사업\\n상담센터\\n석사학위\\n소지자\\n경력(재직)증명서\\n개인정보동의서\\n별첨양식\\n교직원 출퇴근 셔틀버스\\n출퇴근\\n교직원\\n이문동\\n잠실\\n분당\\n노선\\n오피스\\n스페인어\\n포르투갈어\\n석사\\n재학생\\nHK연구소\\n중남미연구소\\n내부규정\\n급여\\n계약기간\\n교내외장학금\\n사회 배려계층\\n교무행정팀\\n객원상담원\\n겸임교수\\n초빙교수\\n초빙공고\\n정보통신공학과\\n재공고\\n시설관리팀\\n수목관리\\n직원인사규정\\n제11조\\n임용결격사유\\n1종보통 운전면허\\n외국인학생\\n여름방학\\n민원응대\\n봉사장학금\\n장학금지급규정\\n등록금 범위내\\n국제학사\\nGlobeeDorm\\n학사운영팀\\n중국연구소\\n전임연구원\\n최종학위증명서\\n이력서\\n자율양식\\n경력증명서\\n채용예정일\\n지식출판콘텐츠원\\n채용공고\\n경영기획팀\\n행정\\n학사학위\\n국고사업\\n관련법\\n연구산학협력단\\n러시아연구소\\n초빙분야\\n세부전공\\n인센티브\\n4대 보험\\n한국연구재단\\n인문한국플로스지원사업\\n사립학교\\n해당 분야\\n기초심사\\n전공면접\\n경기도 용인시 처인구 모현면 외대로 81\\n국제사회교육원\\n러시아연구소\\n육아휴직\\n학술정보팀\\n퇴직금\\nTESOL\\nFLEX센터\\n능숙자\\nOA프로그램\\n영어회화\\n관련업무\\n유경험자\\n근무 가능자\\\\근무 가능\\n장학생\\n재학생\\n언어 능력\\n설명회\\n선착순\\n국제입학관리팀\\n'"
            ],
            "application/vnd.google.colaboratory.intrinsic+json": {
              "type": "string"
            }
          },
          "metadata": {},
          "execution_count": 420
        }
      ]
    },
    {
      "cell_type": "code",
      "source": [
        "#다시압축해주기. 마찬가지로 끝에 notfoundfile에러같은거 없으면 잘된겁니다!\n",
        "#안되면 pwd로 현재 경로가 temp_fix가 맞는지 확인해주세요\n",
        "!jar cvf ../open-korean-text-2.1.0.jar *"
      ],
      "metadata": {
        "colab": {
          "base_uri": "https://localhost:8080/"
        },
        "id": "8bn1KS36ug_X",
        "outputId": "9e2caa1c-40a1-4491-ae7e-bb2942611e76"
      },
      "execution_count": 421,
      "outputs": [
        {
          "output_type": "stream",
          "name": "stdout",
          "text": [
            "added manifest\n",
            "ignoring entry META-INF/\n",
            "adding: META-INF/maven/(in = 0) (out= 0)(stored 0%)\n",
            "adding: META-INF/maven/org.openkoreantext/(in = 0) (out= 0)(stored 0%)\n",
            "adding: META-INF/maven/org.openkoreantext/open-korean-text/(in = 0) (out= 0)(stored 0%)\n",
            "adding: META-INF/maven/org.openkoreantext/open-korean-text/pom.xml(in = 9127) (out= 2208)(deflated 75%)\n",
            "adding: META-INF/maven/org.openkoreantext/open-korean-text/pom.properties(in = 119) (out= 110)(deflated 7%)\n",
            "ignoring entry META-INF/MANIFEST.MF\n",
            "adding: org/(in = 0) (out= 0)(stored 0%)\n",
            "adding: org/openkoreantext/(in = 0) (out= 0)(stored 0%)\n",
            "adding: org/openkoreantext/processor/(in = 0) (out= 0)(stored 0%)\n",
            "adding: org/openkoreantext/processor/OpenKoreanTextProcessorJava.class(in = 5901) (out= 1995)(deflated 66%)\n",
            "adding: org/openkoreantext/processor/KoreanPosJava.class(in = 2457) (out= 1241)(deflated 49%)\n",
            "adding: org/openkoreantext/processor/tokenizer/(in = 0) (out= 0)(stored 0%)\n",
            "adding: org/openkoreantext/processor/tokenizer/KoreanTokenizer$KoreanToken$.class(in = 3976) (out= 1402)(deflated 64%)\n",
            "adding: org/openkoreantext/processor/tokenizer/KoreanTokenizer$.class(in = 25564) (out= 8451)(deflated 66%)\n",
            "adding: org/openkoreantext/processor/tokenizer/KoreanChunker.class(in = 4232) (out= 2887)(deflated 31%)\n",
            "adding: org/openkoreantext/processor/tokenizer/KoreanTokenizer$PossibleTrie$.class(in = 2862) (out= 1067)(deflated 62%)\n",
            "adding: org/openkoreantext/processor/tokenizer/KoreanChunker$.class(in = 17975) (out= 6790)(deflated 62%)\n",
            "adding: org/openkoreantext/processor/tokenizer/TokenizerProfile$.class(in = 8169) (out= 2408)(deflated 70%)\n",
            "adding: org/openkoreantext/processor/tokenizer/TokenizerProfile.class(in = 16403) (out= 6666)(deflated 59%)\n",
            "adding: org/openkoreantext/processor/tokenizer/KoreanChunker$ChunkMatch.class(in = 4043) (out= 1704)(deflated 57%)\n",
            "adding: org/openkoreantext/processor/tokenizer/KoreanDetokenizer.class(in = 1660) (out= 1133)(deflated 31%)\n",
            "adding: org/openkoreantext/processor/tokenizer/ParsedChunk.class(in = 20517) (out= 8914)(deflated 56%)\n",
            "adding: org/openkoreantext/processor/tokenizer/Sentence$.class(in = 2339) (out= 1012)(deflated 56%)\n",
            "adding: org/openkoreantext/processor/tokenizer/KoreanTokenizer$CandidateParse$.class(in = 3459) (out= 1111)(deflated 67%)\n",
            "adding: org/openkoreantext/processor/tokenizer/KoreanChunk$.class(in = 2361) (out= 1010)(deflated 57%)\n",
            "adding: org/openkoreantext/processor/tokenizer/KoreanTokenizer.class(in = 6968) (out= 4384)(deflated 37%)\n",
            "adding: org/openkoreantext/processor/tokenizer/KoreanDetokenizer$.class(in = 9889) (out= 4174)(deflated 57%)\n",
            "adding: org/openkoreantext/processor/tokenizer/Sentence.class(in = 5985) (out= 3125)(deflated 47%)\n",
            "adding: org/openkoreantext/processor/tokenizer/KoreanSentenceSplitter.class(in = 1092) (out= 712)(deflated 34%)\n",
            "adding: org/openkoreantext/processor/tokenizer/KoreanChunker$ChunkMatch$.class(in = 2893) (out= 1136)(deflated 60%)\n",
            "adding: org/openkoreantext/processor/tokenizer/KoreanTokenizer$PossibleTrie.class(in = 3399) (out= 1429)(deflated 57%)\n",
            "adding: org/openkoreantext/processor/tokenizer/ParsedChunk$.class(in = 3973) (out= 1500)(deflated 62%)\n",
            "adding: org/openkoreantext/processor/tokenizer/KoreanSentenceSplitter$.class(in = 3359) (out= 1497)(deflated 55%)\n",
            "adding: org/openkoreantext/processor/tokenizer/KoreanTokenizer$KoreanToken.class(in = 6336) (out= 2633)(deflated 58%)\n",
            "adding: org/openkoreantext/processor/tokenizer/KoreanTokenizer$CandidateParse.class(in = 4616) (out= 1645)(deflated 64%)\n",
            "adding: org/openkoreantext/processor/tokenizer/KoreanChunk.class(in = 5611) (out= 2907)(deflated 48%)\n",
            "adding: org/openkoreantext/processor/qa/(in = 0) (out= 0)(stored 0%)\n",
            "adding: org/openkoreantext/processor/qa/BatchGetUnknownNouns.class(in = 2307) (out= 1702)(deflated 26%)\n",
            "adding: org/openkoreantext/processor/qa/KoreanProcessorSandbox.class(in = 824) (out= 575)(deflated 30%)\n",
            "adding: org/openkoreantext/processor/qa/BatchTokenizeTweets$ParseTime.class(in = 3153) (out= 1446)(deflated 54%)\n",
            "adding: org/openkoreantext/processor/qa/KoreanProcessorSandbox$.class(in = 1464) (out= 823)(deflated 43%)\n",
            "adding: org/openkoreantext/processor/qa/BatchTokenizeTweets$ParseTime$.class(in = 2418) (out= 1015)(deflated 58%)\n",
            "adding: org/openkoreantext/processor/qa/BatchGetUnknownNouns$ChunkWithTweet.class(in = 3080) (out= 1338)(deflated 56%)\n",
            "adding: org/openkoreantext/processor/qa/BatchGetUnknownNouns$ChunkWithTweet$.class(in = 2376) (out= 952)(deflated 59%)\n",
            "adding: org/openkoreantext/processor/qa/BatchGetUnknownNouns$.class(in = 8751) (out= 3532)(deflated 59%)\n",
            "adding: org/openkoreantext/processor/qa/BatchTokenizeTweets.class(in = 2720) (out= 2031)(deflated 25%)\n",
            "adding: org/openkoreantext/processor/qa/BatchTokenizeTweets$.class(in = 10867) (out= 4401)(deflated 59%)\n",
            "adding: org/openkoreantext/processor/KoreanTokenJava.class(in = 1976) (out= 931)(deflated 52%)\n",
            "adding: org/openkoreantext/processor/util/(in = 0) (out= 0)(stored 0%)\n",
            "adding: org/openkoreantext/processor/util/typos/(in = 0) (out= 0)(stored 0%)\n",
            "adding: org/openkoreantext/processor/util/typos/typos.txt(in = 5146) (out= 2300)(deflated 55%)\n",
            "adding: org/openkoreantext/processor/util/KoreanSubstantive$.class(in = 14990) (out= 6195)(deflated 58%)\n",
            "adding: org/openkoreantext/processor/util/KoreanDictionaryProvider.class(in = 3430) (out= 2003)(deflated 41%)\n",
            "adding: org/openkoreantext/processor/util/auxiliary/(in = 0) (out= 0)(stored 0%)\n",
            "adding: org/openkoreantext/processor/util/auxiliary/exclamation.txt(in = 1759) (out= 757)(deflated 56%)\n",
            "adding: org/openkoreantext/processor/util/auxiliary/conjunctions.txt(in = 398) (out= 189)(deflated 52%)\n",
            "adding: org/openkoreantext/processor/util/auxiliary/determiner.txt(in = 63) (out= 63)(deflated 0%)\n",
            "adding: org/openkoreantext/processor/util/example_chunks.txt(in = 522978) (out= 163253)(deflated 68%)\n",
            "adding: org/openkoreantext/processor/util/CharacterUtils$Java4CharacterUtils.class(in = 2577) (out= 1282)(deflated 50%)\n",
            "adding: org/openkoreantext/processor/util/substantives/(in = 0) (out= 0)(stored 0%)\n",
            "adding: org/openkoreantext/processor/util/substantives/family_names.txt(in = 299) (out= 197)(deflated 34%)\n",
            "adding: org/openkoreantext/processor/util/substantives/given_names.txt(in = 1407) (out= 609)(deflated 56%)\n",
            "adding: org/openkoreantext/processor/util/substantives/suffix.txt(in = 325) (out= 224)(deflated 31%)\n",
            "adding: org/openkoreantext/processor/util/substantives/modifier.txt(in = 3395) (out= 1346)(deflated 60%)\n",
            "adding: org/openkoreantext/processor/util/adverb/(in = 0) (out= 0)(stored 0%)\n",
            "adding: org/openkoreantext/processor/util/adverb/adverb.txt(in = 65572) (out= 18741)(deflated 71%)\n",
            "adding: org/openkoreantext/processor/util/freq/(in = 0) (out= 0)(stored 0%)\n",
            "adding: org/openkoreantext/processor/util/freq/entity-freq.txt.gz(in = 385753) (out= 385873)(deflated 0%)\n",
            "adding: org/openkoreantext/processor/util/adjective/(in = 0) (out= 0)(stored 0%)\n",
            "adding: org/openkoreantext/processor/util/adjective/adjective.txt(in = 27250) (out= 9357)(deflated 65%)\n",
            "adding: org/openkoreantext/processor/util/KoreanConjugation$.class(in = 22440) (out= 7972)(deflated 64%)\n",
            "adding: org/openkoreantext/processor/util/CharArrayMap.class(in = 11923) (out= 4878)(deflated 59%)\n",
            "adding: org/openkoreantext/processor/util/CharArrayMap$UnmodifiableCharArrayMap.class(in = 3062) (out= 859)(deflated 71%)\n",
            "adding: org/openkoreantext/processor/util/Hangul$DoubleCoda.class(in = 2930) (out= 1348)(deflated 53%)\n",
            "adding: org/openkoreantext/processor/util/CharArrayMap$1.class(in = 1531) (out= 571)(deflated 62%)\n",
            "adding: org/openkoreantext/processor/util/example_tweets.txt(in = 86271) (out= 38336)(deflated 55%)\n",
            "adding: org/openkoreantext/processor/util/verb/(in = 0) (out= 0)(stored 0%)\n",
            "adding: org/openkoreantext/processor/util/verb/eomi.txt(in = 12618) (out= 3556)(deflated 71%)\n",
            "adding: org/openkoreantext/processor/util/verb/pre_eomi.txt(in = 285) (out= 185)(deflated 35%)\n",
            "adding: org/openkoreantext/processor/util/verb/verb_prefix.txt(in = 47) (out= 52)(deflated -10%)\n",
            "adding: org/openkoreantext/processor/util/verb/verb.txt(in = 32758) (out= 10723)(deflated 67%)\n",
            "adding: org/openkoreantext/processor/util/Hangul$HangulChar.class(in = 3185) (out= 1421)(deflated 55%)\n",
            "adding: org/openkoreantext/processor/util/CharacterUtils.class(in = 3703) (out= 1716)(deflated 53%)\n",
            "adding: org/openkoreantext/processor/util/CharArrayMap$MapEntry.class(in = 2433) (out= 1078)(deflated 55%)\n",
            "adding: org/openkoreantext/processor/util/CharacterUtils$Java5CharacterUtils.class(in = 2824) (out= 1393)(deflated 50%)\n",
            "adding: org/openkoreantext/processor/util/Hangul.class(in = 3981) (out= 2731)(deflated 31%)\n",
            "adding: org/openkoreantext/processor/util/KoreanSubstantive.class(in = 1336) (out= 1087)(deflated 18%)\n",
            "adding: org/openkoreantext/processor/util/CharArrayMap$EntrySet.class(in = 2788) (out= 1181)(deflated 57%)\n",
            "adding: org/openkoreantext/processor/util/Hangul$HangulChar$.class(in = 2389) (out= 1022)(deflated 57%)\n",
            "adding: org/openkoreantext/processor/util/noun/(in = 0) (out= 0)(stored 0%)\n",
            "adding: org/openkoreantext/processor/util/noun/twitter.txt(in = 254) (out= 162)(deflated 36%)\n",
            "adding: org/openkoreantext/processor/util/noun/bible.txt(in = 2032) (out= 1005)(deflated 50%)\n",
            "adding: org/openkoreantext/processor/util/noun/company_names.txt(in = 1631) (out= 905)(deflated 44%)\n",
            "adding: org/openkoreantext/processor/util/noun/geolocations.txt(in = 5423) (out= 2267)(deflated 58%)\n",
            "adding: org/openkoreantext/processor/util/noun/foreign.txt(in = 10485) (out= 4686)(deflated 55%)\n",
            "adding: org/openkoreantext/processor/util/noun/names.txt(in = 62460) (out= 6925)(deflated 88%)\n",
            "adding: org/openkoreantext/processor/util/noun/entities.txt(in = 108142) (out= 44095)(deflated 59%)\n",
            "adding: org/openkoreantext/processor/util/noun/lol.txt(in = 1337) (out= 744)(deflated 44%)\n",
            "adding: org/openkoreantext/processor/util/noun/congress.txt(in = 26494) (out= 9351)(deflated 64%)\n",
            "adding: org/openkoreantext/processor/util/noun/profane.txt(in = 569) (out= 337)(deflated 40%)\n",
            "adding: org/openkoreantext/processor/util/noun/kpop.txt(in = 5371) (out= 2495)(deflated 53%)\n",
            "adding: org/openkoreantext/processor/util/noun/pokemon.txt(in = 1781) (out= 965)(deflated 45%)\n",
            "adding: org/openkoreantext/processor/util/noun/slangs.txt(in = 1565) (out= 921)(deflated 41%)\n",
            "adding: org/openkoreantext/processor/util/noun/nouns.txt(in = 219319) (out= 84134)(deflated 61%)\n",
            "adding: org/openkoreantext/processor/util/noun/wikipedia_title_nouns.txt(in = 1971964) (out= 686708)(deflated 65%)\n",
            "adding: org/openkoreantext/processor/util/noun/spam.txt(in = 202) (out= 157)(deflated 22%)\n",
            "adding: org/openkoreantext/processor/util/KoreanPos$.class(in = 12173) (out= 4669)(deflated 61%)\n",
            "adding: org/openkoreantext/processor/util/josa/(in = 0) (out= 0)(stored 0%)\n",
            "adding: org/openkoreantext/processor/util/josa/josa.txt(in = 5219) (out= 1476)(deflated 71%)\n",
            "adding: org/openkoreantext/processor/util/CharArrayMap$EntryIterator.class(in = 3118) (out= 1270)(deflated 59%)\n",
            "adding: org/openkoreantext/processor/util/CharArraySet.class(in = 4886) (out= 1944)(deflated 60%)\n",
            "adding: org/openkoreantext/processor/util/KoreanPos$KoreanPosTrie.class(in = 4390) (out= 1610)(deflated 63%)\n",
            "adding: org/openkoreantext/processor/util/Hangul$.class(in = 7625) (out= 3114)(deflated 59%)\n",
            "adding: org/openkoreantext/processor/util/KoreanDictionaryProvider$.class(in = 20197) (out= 7488)(deflated 62%)\n",
            "adding: org/openkoreantext/processor/util/CharacterUtils$CharacterBuffer.class(in = 1634) (out= 659)(deflated 59%)\n",
            "adding: org/openkoreantext/processor/util/CharArrayMap$EmptyCharArrayMap.class(in = 2053) (out= 725)(deflated 64%)\n",
            "adding: org/openkoreantext/processor/util/Hangul$DoubleCoda$.class(in = 2155) (out= 963)(deflated 55%)\n",
            "adding: org/openkoreantext/processor/util/KoreanConjugation.class(in = 1550) (out= 1237)(deflated 20%)\n",
            "adding: org/openkoreantext/processor/util/KoreanPos.class(in = 6890) (out= 3877)(deflated 43%)\n",
            "adding: org/openkoreantext/processor/util/KoreanPos$KoreanPosTrie$.class(in = 3157) (out= 1089)(deflated 65%)\n",
            "adding: org/openkoreantext/processor/phrase_extractor/(in = 0) (out= 0)(stored 0%)\n",
            "adding: org/openkoreantext/processor/phrase_extractor/KoreanPhraseExtractor$PhraseBuffer$.class(in = 3564) (out= 1087)(deflated 69%)\n",
            "adding: org/openkoreantext/processor/phrase_extractor/KoreanPhraseExtractor$KoreanPhrase.class(in = 6942) (out= 2591)(deflated 62%)\n",
            "adding: org/openkoreantext/processor/phrase_extractor/KoreanPhraseExtractor$PhraseBuffer.class(in = 4857) (out= 1609)(deflated 66%)\n",
            "adding: org/openkoreantext/processor/phrase_extractor/KoreanPhraseExtractor$KoreanPhrase$.class(in = 3358) (out= 1148)(deflated 65%)\n",
            "adding: org/openkoreantext/processor/phrase_extractor/KoreanPhraseExtractor.class(in = 6005) (out= 3967)(deflated 33%)\n",
            "adding: org/openkoreantext/processor/phrase_extractor/KoreanPhraseExtractor$.class(in = 37855) (out= 12404)(deflated 67%)\n",
            "adding: org/openkoreantext/processor/stemmer/(in = 0) (out= 0)(stored 0%)\n",
            "adding: org/openkoreantext/processor/stemmer/KoreanStemmer.class(in = 1439) (out= 972)(deflated 32%)\n",
            "adding: org/openkoreantext/processor/stemmer/KoreanStemmer$.class(in = 7044) (out= 2892)(deflated 58%)\n",
            "adding: org/openkoreantext/processor/OpenKoreanTextProcessor.class(in = 4428) (out= 1997)(deflated 54%)\n",
            "adding: org/openkoreantext/processor/OpenKoreanTextProcessor$.class(in = 7716) (out= 2400)(deflated 68%)\n",
            "adding: org/openkoreantext/processor/normalizer/(in = 0) (out= 0)(stored 0%)\n",
            "adding: org/openkoreantext/processor/normalizer/KoreanNormalizer$.class(in = 11553) (out= 5102)(deflated 55%)\n",
            "adding: org/openkoreantext/processor/normalizer/KoreanNormalizer.class(in = 2980) (out= 2181)(deflated 26%)\n",
            "adding: org/openkoreantext/processor/normalizer/KoreanNormalizer$Segment$.class(in = 2577) (out= 989)(deflated 61%)\n",
            "adding: org/openkoreantext/processor/normalizer/KoreanNormalizer$Segment.class(in = 3470) (out= 1422)(deflated 59%)\n",
            "adding: org/openkoreantext/processor/tools/(in = 0) (out= 0)(stored 0%)\n",
            "adding: org/openkoreantext/processor/tools/UpdateAllTheExamples.class(in = 1089) (out= 756)(deflated 30%)\n",
            "adding: org/openkoreantext/processor/tools/Runnable.class(in = 964) (out= 694)(deflated 28%)\n",
            "adding: org/openkoreantext/processor/tools/CreateParsingExamples$ParsingExample.class(in = 3718) (out= 1429)(deflated 61%)\n",
            "adding: org/openkoreantext/processor/tools/CreatePhraseExtractionExamples$.class(in = 5989) (out= 2472)(deflated 58%)\n",
            "adding: org/openkoreantext/processor/tools/CreateParsingExamples.class(in = 2427) (out= 1732)(deflated 28%)\n",
            "adding: org/openkoreantext/processor/tools/UpdateAllTheExamples$.class(in = 4383) (out= 1794)(deflated 59%)\n",
            "adding: org/openkoreantext/processor/tools/CreateConjugationExamples.class(in = 2367) (out= 1659)(deflated 29%)\n",
            "adding: org/openkoreantext/processor/tools/CreatePhraseExtractionExamples$PhraseExample$.class(in = 2974) (out= 1020)(deflated 65%)\n",
            "adding: org/openkoreantext/processor/tools/DeduplicateAndSortDictionaries.class(in = 1117) (out= 823)(deflated 26%)\n",
            "adding: org/openkoreantext/processor/tools/CreateConjugationExamples$.class(in = 5881) (out= 2385)(deflated 59%)\n",
            "adding: org/openkoreantext/processor/tools/CreateParsingExamples$.class(in = 5517) (out= 2327)(deflated 57%)\n",
            "adding: org/openkoreantext/processor/tools/CreateConjugationExamples$ConjugationExample.class(in = 3569) (out= 1415)(deflated 60%)\n",
            "adding: org/openkoreantext/processor/tools/CreatePhraseExtractionExamples$PhraseExample.class(in = 3825) (out= 1443)(deflated 62%)\n",
            "adding: org/openkoreantext/processor/tools/CreatePhraseExtractionExamples.class(in = 2516) (out= 1784)(deflated 29%)\n",
            "adding: org/openkoreantext/processor/tools/CreateChunkParsingCandidates$.class(in = 5487) (out= 2305)(deflated 57%)\n",
            "adding: org/openkoreantext/processor/tools/DeduplicateAndSortDictionaries$.class(in = 7154) (out= 3133)(deflated 56%)\n",
            "adding: org/openkoreantext/processor/tools/CreateParsingExamples$ParsingExample$.class(in = 2842) (out= 1010)(deflated 64%)\n",
            "adding: org/openkoreantext/processor/tools/CreateChunkParsingCandidates.class(in = 833) (out= 566)(deflated 32%)\n",
            "adding: org/openkoreantext/processor/tools/CreateConjugationExamples$ConjugationExample$.class(in = 2787) (out= 997)(deflated 64%)\n"
          ]
        }
      ]
    },
    {
      "cell_type": "markdown",
      "source": [
        "# 세션 다시 시작하기"
      ],
      "metadata": {
        "id": "iFooGV0CEl-S"
      }
    },
    {
      "cell_type": "code",
      "source": [],
      "metadata": {
        "id": "80iwFicWmbeq"
      },
      "execution_count": null,
      "outputs": []
    },
    {
      "cell_type": "code",
      "source": [],
      "metadata": {
        "id": "GZHjLopimbhi"
      },
      "execution_count": null,
      "outputs": []
    },
    {
      "cell_type": "code",
      "source": [],
      "metadata": {
        "id": "JG8WthaombrP"
      },
      "execution_count": null,
      "outputs": []
    },
    {
      "cell_type": "markdown",
      "source": [
        "# 파일 가져오기"
      ],
      "metadata": {
        "id": "uqhcSUUQn3al"
      }
    },
    {
      "cell_type": "code",
      "source": [
        "import os\n",
        "#os.chdir('..')\n",
        "os.getcwd()"
      ],
      "metadata": {
        "colab": {
          "base_uri": "https://localhost:8080/",
          "height": 35
        },
        "id": "I_RCkmbJcX32",
        "outputId": "b139ff3a-320a-4b99-b73f-0b56f09cb380"
      },
      "execution_count": 1,
      "outputs": [
        {
          "output_type": "execute_result",
          "data": {
            "text/plain": [
              "'/content'"
            ],
            "application/vnd.google.colaboratory.intrinsic+json": {
              "type": "string"
            }
          },
          "metadata": {},
          "execution_count": 1
        }
      ]
    },
    {
      "cell_type": "code",
      "source": [
        "import pandas as pd"
      ],
      "metadata": {
        "id": "icvrrr77mEBp"
      },
      "execution_count": 2,
      "outputs": []
    },
    {
      "cell_type": "code",
      "execution_count": 3,
      "metadata": {
        "id": "V1miStNVli3M"
      },
      "outputs": [],
      "source": [
        "gongji = pd.read_csv('./drive/MyDrive/csv모음/final_merged_gongji(0501).csv')\n",
        "haksa = pd.read_csv('./drive/MyDrive/csv모음/merged_haksa.csv')\n",
        "hiring = pd.read_csv('./drive/MyDrive/csv모음/merged_hire.csv')\n",
        "janghak = pd.read_csv('./drive/MyDrive/csv모음/merged_janghak.csv')\n",
        "\n",
        "\n",
        "#파일복사\n",
        "# 원본 데이터 보존 위해 copy 데이터 생성\n",
        "gongji_copy = gongji.copy()\n",
        "haksa_copy = haksa.copy()\n",
        "hiring_copy = hiring.copy()\n",
        "janghak_copy = janghak.copy()"
      ]
    },
    {
      "cell_type": "markdown",
      "source": [
        "# 패키지 가져오기"
      ],
      "metadata": {
        "id": "YmR9u3xRn477"
      }
    },
    {
      "cell_type": "code",
      "source": [
        "# 패키지\n",
        "!pip install git+https://github.com/lovit/textrank.git"
      ],
      "metadata": {
        "colab": {
          "base_uri": "https://localhost:8080/"
        },
        "id": "10nfl0_FmFSl",
        "outputId": "96340050-087b-4560-a0a2-33d86bf10a80"
      },
      "execution_count": 4,
      "outputs": [
        {
          "output_type": "stream",
          "name": "stdout",
          "text": [
            "Collecting git+https://github.com/lovit/textrank.git\n",
            "  Cloning https://github.com/lovit/textrank.git to /tmp/pip-req-build-136rfv6e\n",
            "  Running command git clone --filter=blob:none --quiet https://github.com/lovit/textrank.git /tmp/pip-req-build-136rfv6e\n",
            "  Resolved https://github.com/lovit/textrank.git to commit 578c7fbbb22b24561b1bd4bab9a9ecc2dc9515e1\n",
            "  Preparing metadata (setup.py) ... \u001b[?25l\u001b[?25hdone\n"
          ]
        }
      ]
    },
    {
      "cell_type": "code",
      "source": [
        "# 깃 클론\n",
        "!git clone https://github.com/lovit/textrank.git"
      ],
      "metadata": {
        "colab": {
          "base_uri": "https://localhost:8080/"
        },
        "id": "hXC14fAFn7OK",
        "outputId": "9c5ab66d-23a5-4571-bb20-b1b49e06dfd5"
      },
      "execution_count": 5,
      "outputs": [
        {
          "output_type": "stream",
          "name": "stdout",
          "text": [
            "fatal: destination path 'textrank' already exists and is not an empty directory.\n"
          ]
        }
      ]
    },
    {
      "cell_type": "code",
      "source": [
        "%cd textrank"
      ],
      "metadata": {
        "colab": {
          "base_uri": "https://localhost:8080/"
        },
        "id": "TTNL8jIxn_Gj",
        "outputId": "abddd9ee-d919-4e85-a8cb-2995a4c273c7"
      },
      "execution_count": 6,
      "outputs": [
        {
          "output_type": "stream",
          "name": "stdout",
          "text": [
            "/content/textrank\n"
          ]
        }
      ]
    },
    {
      "cell_type": "code",
      "source": [
        "# 이제 리포지토리의 코드를 사용할 수 있습니다.\n",
        "from textrank import KeywordSummarizer, KeysentenceSummarizer\n",
        "\n",
        "# 예시 코드\n",
        "def example_tokenize(sentence):\n",
        "    return sentence.split()"
      ],
      "metadata": {
        "id": "mpuSuZ14oDdk"
      },
      "execution_count": 7,
      "outputs": []
    },
    {
      "cell_type": "code",
      "source": [
        "import re\n",
        "\n",
        "# 'janghak' 첫 번째 행 'content' 추출\n",
        "str2 = janghak_copy.loc[300, 'content']\n",
        "str2 = str2 + \"시범 추가\"\n",
        "print(str2)\n",
        "\n",
        "# 줄바꿈을 기준으로 문자열 분리하여 리스트에 저장\n",
        "sents = re.split(r'\\n|\\.', str2)\n",
        "print(sents)\n",
        "# 빈 문자열 제거\n",
        "sents = list(filter(None, sents))\n",
        "print(sents)\n",
        "\n",
        "# 공백만 있는 문자열 제거\n",
        "sents = [sent for sent in sents if sent.strip()]\n",
        "print(sents)"
      ],
      "metadata": {
        "colab": {
          "base_uri": "https://localhost:8080/"
        },
        "id": "hGmA_-bBosHO",
        "outputId": "d26d1377-09ae-4340-e2f6-99fc84882630"
      },
      "execution_count": 8,
      "outputs": [
        {
          "output_type": "stream",
          "name": "stdout",
          "text": [
            "\n",
            "2021년 대학생 청소년교육지원장학금 멘토모집 안내 \n",
            "\n",
            "아래와 같이 2021학년도 대학생 청소년교육지원장학금멘토 학생을 모집하니 관심있는 외대 학생들의많은 지원 바랍니다.\n",
            "\n",
            "- 아 래 -\n",
            "\n",
            "1. 모집기간 : 2021. 3. 2(화) ~ 3. 21(일)(* 3월 22일이후 신청자의 경우 선발 심사에 반영되지 않을 수 있음)\n",
            "\n",
            "2. 신청유형 : B형(멘토 발굴형)\n",
            "\n",
            "3. 선발기준\n",
            " 가. 직전학기 성적 백분위 70점 이상인 자(학자금 지원구간 무관/신.편입생 성적기준 제외)\n",
            "나.봉사역량 우수자 우대(봉사기간, 지속성)\n",
            " 다. 자기소개, 지원동기, 성적 및 전공 관련 등을 종합적으로 평가하여 선발\n",
            " 라. 초과학기자(9학기 이상), 휴학생 참여 불가, 타 대학생 근로장학사업(국가근로장학금, 다문화⦁탈북학생 멘토링장학금)과 중복 참여 불가\n",
            "\n",
            "4. 선발 인원 :5명내외\n",
            "\n",
            "5. 활동가능기간 :2021. 4. 1(목) ~ 2022. 1. 31(월)\n",
            "*상황에 따라 활동 시작/종료일 상이, 2학기 재모집 가능\n",
            "\n",
            "6. 활동가능시간 : 학기 중 주당 최대 10시간, 방학 중 주당 최대 25시간\n",
            " * 활동인원에 따라 활동시간 변동 가능.\n",
            "\n",
            "7. 활동비 : 시간 당 11,150원(*최소활동 시간이 10시간 이상일 때 지급 가능)\n",
            "\n",
            "8.신청방법 및 제출서류\n",
            "\n",
            " 가.신청방법 : 한국장학재단 홈페이지 신청(첨부 참조)\n",
            "\n",
            " 나. 제출서류 : 봉사활동증명서 등(해당자, 별도양식 없음)\n",
            "\n",
            "9. 선발결과 :3월 27일 이전 선발자 대상으로 개별연락\n",
            "\n",
            "10. 유의사항\n",
            " 가. 우리 대학은 멘토 발굴형으로 학생이 직접 기관을 발굴하여 활동해야 하오니 사전에 협의 요망(첨부 참조:20년 자료 동일 함.)\n",
            " 나. 대학생 청소년교육지원장학금 또한 장학금으로 교육비납입증명서에 반영, 해당 장학수혜금액만큼 교육비공제를 받을 수 없습니다.\n",
            " \n",
            "\n",
            "2021. 3\n",
            "\n",
            "장학팀\n",
            "시범 추가\n",
            "['', '2021년 대학생 청소년교육지원장학금 멘토모집 안내 ', '', '아래와 같이 2021학년도 대학생 청소년교육지원장학금멘토 학생을 모집하니 관심있는 외대 학생들의많은 지원 바랍니다', '', '', '- 아 래 -', '', '1', ' 모집기간 : 2021', ' 3', ' 2(화) ~ 3', ' 21(일)(* 3월 22일이후 신청자의 경우 선발 심사에 반영되지 않을 수 있음)', '', '2', ' 신청유형 : B형(멘토 발굴형)', '', '3', ' 선발기준', ' 가', ' 직전학기 성적 백분위 70점 이상인 자(학자금 지원구간 무관/신', '편입생 성적기준 제외)', '나', '봉사역량 우수자 우대(봉사기간, 지속성)', ' 다', ' 자기소개, 지원동기, 성적 및 전공 관련 등을 종합적으로 평가하여 선발', ' 라', ' 초과학기자(9학기 이상), 휴학생 참여 불가, 타 대학생 근로장학사업(국가근로장학금, 다문화⦁탈북학생 멘토링장학금)과 중복 참여 불가', '', '4', ' 선발 인원 :5명내외', '', '5', ' 활동가능기간 :2021', ' 4', ' 1(목) ~ 2022', ' 1', ' 31(월)', '*상황에 따라 활동 시작/종료일 상이, 2학기 재모집 가능', '', '6', ' 활동가능시간 : 학기 중 주당 최대 10시간, 방학 중 주당 최대 25시간', ' * 활동인원에 따라 활동시간 변동 가능', '', '', '7', ' 활동비 : 시간 당 11,150원(*최소활동 시간이 10시간 이상일 때 지급 가능)', '', '8', '신청방법 및 제출서류', '', ' 가', '신청방법 : 한국장학재단 홈페이지 신청(첨부 참조)', '', ' 나', ' 제출서류 : 봉사활동증명서 등(해당자, 별도양식 없음)', '', '9', ' 선발결과 :3월 27일 이전 선발자 대상으로 개별연락', '', '10', ' 유의사항', ' 가', ' 우리 대학은 멘토 발굴형으로 학생이 직접 기관을 발굴하여 활동해야 하오니 사전에 협의 요망(첨부 참조:20년 자료 동일 함', ')', ' 나', ' 대학생 청소년교육지원장학금 또한 장학금으로 교육비납입증명서에 반영, 해당 장학수혜금액만큼 교육비공제를 받을 수 없습니다', '', ' ', '', '2021', ' 3', '', '장학팀', '시범 추가']\n",
            "['2021년 대학생 청소년교육지원장학금 멘토모집 안내 ', '아래와 같이 2021학년도 대학생 청소년교육지원장학금멘토 학생을 모집하니 관심있는 외대 학생들의많은 지원 바랍니다', '- 아 래 -', '1', ' 모집기간 : 2021', ' 3', ' 2(화) ~ 3', ' 21(일)(* 3월 22일이후 신청자의 경우 선발 심사에 반영되지 않을 수 있음)', '2', ' 신청유형 : B형(멘토 발굴형)', '3', ' 선발기준', ' 가', ' 직전학기 성적 백분위 70점 이상인 자(학자금 지원구간 무관/신', '편입생 성적기준 제외)', '나', '봉사역량 우수자 우대(봉사기간, 지속성)', ' 다', ' 자기소개, 지원동기, 성적 및 전공 관련 등을 종합적으로 평가하여 선발', ' 라', ' 초과학기자(9학기 이상), 휴학생 참여 불가, 타 대학생 근로장학사업(국가근로장학금, 다문화⦁탈북학생 멘토링장학금)과 중복 참여 불가', '4', ' 선발 인원 :5명내외', '5', ' 활동가능기간 :2021', ' 4', ' 1(목) ~ 2022', ' 1', ' 31(월)', '*상황에 따라 활동 시작/종료일 상이, 2학기 재모집 가능', '6', ' 활동가능시간 : 학기 중 주당 최대 10시간, 방학 중 주당 최대 25시간', ' * 활동인원에 따라 활동시간 변동 가능', '7', ' 활동비 : 시간 당 11,150원(*최소활동 시간이 10시간 이상일 때 지급 가능)', '8', '신청방법 및 제출서류', ' 가', '신청방법 : 한국장학재단 홈페이지 신청(첨부 참조)', ' 나', ' 제출서류 : 봉사활동증명서 등(해당자, 별도양식 없음)', '9', ' 선발결과 :3월 27일 이전 선발자 대상으로 개별연락', '10', ' 유의사항', ' 가', ' 우리 대학은 멘토 발굴형으로 학생이 직접 기관을 발굴하여 활동해야 하오니 사전에 협의 요망(첨부 참조:20년 자료 동일 함', ')', ' 나', ' 대학생 청소년교육지원장학금 또한 장학금으로 교육비납입증명서에 반영, 해당 장학수혜금액만큼 교육비공제를 받을 수 없습니다', ' ', '2021', ' 3', '장학팀', '시범 추가']\n",
            "['2021년 대학생 청소년교육지원장학금 멘토모집 안내 ', '아래와 같이 2021학년도 대학생 청소년교육지원장학금멘토 학생을 모집하니 관심있는 외대 학생들의많은 지원 바랍니다', '- 아 래 -', '1', ' 모집기간 : 2021', ' 3', ' 2(화) ~ 3', ' 21(일)(* 3월 22일이후 신청자의 경우 선발 심사에 반영되지 않을 수 있음)', '2', ' 신청유형 : B형(멘토 발굴형)', '3', ' 선발기준', ' 가', ' 직전학기 성적 백분위 70점 이상인 자(학자금 지원구간 무관/신', '편입생 성적기준 제외)', '나', '봉사역량 우수자 우대(봉사기간, 지속성)', ' 다', ' 자기소개, 지원동기, 성적 및 전공 관련 등을 종합적으로 평가하여 선발', ' 라', ' 초과학기자(9학기 이상), 휴학생 참여 불가, 타 대학생 근로장학사업(국가근로장학금, 다문화⦁탈북학생 멘토링장학금)과 중복 참여 불가', '4', ' 선발 인원 :5명내외', '5', ' 활동가능기간 :2021', ' 4', ' 1(목) ~ 2022', ' 1', ' 31(월)', '*상황에 따라 활동 시작/종료일 상이, 2학기 재모집 가능', '6', ' 활동가능시간 : 학기 중 주당 최대 10시간, 방학 중 주당 최대 25시간', ' * 활동인원에 따라 활동시간 변동 가능', '7', ' 활동비 : 시간 당 11,150원(*최소활동 시간이 10시간 이상일 때 지급 가능)', '8', '신청방법 및 제출서류', ' 가', '신청방법 : 한국장학재단 홈페이지 신청(첨부 참조)', ' 나', ' 제출서류 : 봉사활동증명서 등(해당자, 별도양식 없음)', '9', ' 선발결과 :3월 27일 이전 선발자 대상으로 개별연락', '10', ' 유의사항', ' 가', ' 우리 대학은 멘토 발굴형으로 학생이 직접 기관을 발굴하여 활동해야 하오니 사전에 협의 요망(첨부 참조:20년 자료 동일 함', ')', ' 나', ' 대학생 청소년교육지원장학금 또한 장학금으로 교육비납입증명서에 반영, 해당 장학수혜금액만큼 교육비공제를 받을 수 없습니다', '2021', ' 3', '장학팀', '시범 추가']\n"
          ]
        }
      ]
    },
    {
      "cell_type": "code",
      "source": [
        "# 키워드 요약----------------------\n",
        "\n",
        "# 문장수가 문제가 아님 -> 4개여도 요약 안됨 .벡터화에서 문제\n",
        "\n",
        "# KeywordSummarizer 인스턴스 생성\n",
        "summarizer = KeywordSummarizer(tokenize=example_tokenize, verbose=True)\n",
        "\n",
        "# 키워드 요약 실행\n",
        "keywords = summarizer.summarize(sents)\n",
        "\n",
        "# 출력\n",
        "print(keywords)"
      ],
      "metadata": {
        "colab": {
          "base_uri": "https://localhost:8080/"
        },
        "id": "WYZ74ajApDTo",
        "outputId": "f01589b2-4bb8-4489-efc1-6aa94c6c77d5"
      },
      "execution_count": null,
      "outputs": [
        {
          "output_type": "stream",
          "name": "stdout",
          "text": [
            "\rword cooccurrence counting 0\rword cooccurrence counting from 54 sents was done\n",
            "trained TextRank. n words = 23\n",
            "[('최대', 1.4176371976939008), ('주당', 1.4176371976939004), ('중', 1.4176371976939004), (':', 1.3951311473391197), ('대학생', 1.311622330435965), ('및', 1.073545580138466), ('참여', 1.0365091497724506), ('-', 1.0), ('가능', 1.0), ('따라', 1.0), ('3', 1.0), ('~', 1.0), ('선발', 0.8908000610728656), ('수', 0.8635818923870555), ('청소년교육지원장학금', 0.8406619384437963), ('신청방법', 0.7114738696497755), ('제출서류', 0.7114738696497755), ('성적', 0.6305294310319025), ('2021', 0.28175913699712085), ('1', 0.15000000000000002), ('나', 0.15000000000000002), ('가', 0.15000000000000002), ('4', 0.15000000000000002)]\n"
          ]
        }
      ]
    },
    {
      "cell_type": "markdown",
      "source": [
        "# Okt"
      ],
      "metadata": {
        "id": "8_ZIAWpZpZW8"
      }
    },
    {
      "cell_type": "code",
      "source": [
        "from konlpy.tag import Okt\n",
        "\n",
        "okt = Okt()\n",
        "\n",
        "def okt_tokenize(sent):\n",
        "    words = okt.pos(sent, join=True)\n",
        "    words = [w for w in words if ('/Noun' in w or '/Adjective' in w or '/Verb' in w)]\n",
        "    return words\n",
        "\n",
        "# KeywordSummarizer 인스턴스 생성 _ okt 적용\n",
        "summarizer = KeysentenceSummarizer(tokenize = okt_tokenize, min_sim = 0.3)"
      ],
      "metadata": {
        "id": "CwfXL4mrpYwz"
      },
      "execution_count": null,
      "outputs": []
    },
    {
      "cell_type": "code",
      "source": [
        "sents= hiring.loc[5,'content']\n",
        "okt_tokenize(sents)"
      ],
      "metadata": {
        "colab": {
          "base_uri": "https://localhost:8080/"
        },
        "id": "afEI3NK2WLoX",
        "outputId": "010ced59-758a-4e1a-ceb7-057e2b255191",
        "collapsed": true
      },
      "execution_count": null,
      "outputs": [
        {
          "output_type": "execute_result",
          "data": {
            "text/plain": [
              "['한국외국어대학교/Noun',\n",
              " '육아휴직/Noun',\n",
              " '대체/Noun',\n",
              " '계약직/Noun',\n",
              " '채용공고/Noun',\n",
              " '학술정보팀/Noun',\n",
              " '서울/Noun',\n",
              " '채용/Noun',\n",
              " '부서/Noun',\n",
              " '및/Noun',\n",
              " '인원/Noun',\n",
              " '채용/Noun',\n",
              " '부서/Noun',\n",
              " '인원/Noun',\n",
              " '담당/Noun',\n",
              " '업무/Noun',\n",
              " '지원자격/Noun',\n",
              " '및/Noun',\n",
              " '우대/Noun',\n",
              " '사항/Noun',\n",
              " '도서관/Noun',\n",
              " '학술정보팀/Noun',\n",
              " '서울캠퍼스/Noun',\n",
              " '도서관/Noun',\n",
              " '인수/Noun',\n",
              " '자료/Noun',\n",
              " '검수/Noun',\n",
              " '및/Noun',\n",
              " '시스템/Noun',\n",
              " '도서/Noun',\n",
              " '정보/Noun',\n",
              " '입력/Noun',\n",
              " '도서관/Noun',\n",
              " '열람/Noun',\n",
              " '업무/Noun',\n",
              " '기타/Noun',\n",
              " '행정/Noun',\n",
              " '업무/Noun',\n",
              " '및/Noun',\n",
              " '민원/Noun',\n",
              " '응대/Noun',\n",
              " '등/Noun',\n",
              " '지원자격/Noun',\n",
              " '전문/Noun',\n",
              " '학사학위/Noun',\n",
              " '이상자/Noun',\n",
              " '급/Noun',\n",
              " '정사/Noun',\n",
              " '자격증/Noun',\n",
              " '이상/Noun',\n",
              " '소지자/Noun',\n",
              " '우대/Noun',\n",
              " '사항/Noun',\n",
              " '문헌정보학/Noun',\n",
              " '전공자/Noun',\n",
              " '즉시/Noun',\n",
              " '근무/Noun',\n",
              " '가능/Noun',\n",
              " '공통지원자격/Noun',\n",
              " '학교/Noun',\n",
              " '직원인사규정/Noun',\n",
              " '제/Noun',\n",
              " '임용/Noun',\n",
              " '결격사유/Noun',\n",
              " '해당/Noun',\n",
              " '하지/Verb',\n",
              " '않는/Verb',\n",
              " '자/Noun',\n",
              " '성/Noun',\n",
              " '관련/Noun',\n",
              " '범죄/Noun',\n",
              " '전력/Noun',\n",
              " '없는/Adjective',\n",
              " '자/Noun',\n",
              " '적임자/Noun',\n",
              " '없을/Adjective',\n",
              " '경우/Noun',\n",
              " '채용/Noun',\n",
              " '하지/Verb',\n",
              " '않으며/Verb',\n",
              " '국가/Noun',\n",
              " '보훈/Noun',\n",
              " '대상자/Noun',\n",
              " '및/Noun',\n",
              " '장애인/Noun',\n",
              " '관련법/Noun',\n",
              " '따라/Verb',\n",
              " '우대/Noun',\n",
              " '채용/Noun',\n",
              " '조건/Noun',\n",
              " '가/Verb',\n",
              " '무/Noun',\n",
              " '지/Verb',\n",
              " '서울캠퍼스/Noun',\n",
              " '도서관/Noun',\n",
              " '학술정보팀/Noun',\n",
              " '나/Noun',\n",
              " '근무시간/Noun',\n",
              " '주/Noun',\n",
              " '월/Noun',\n",
              " '금/Noun',\n",
              " '휴게/Noun',\n",
              " '시간/Noun',\n",
              " '계약기간/Noun',\n",
              " '채용일/Noun',\n",
              " '육아휴직/Noun',\n",
              " '대체로/Noun',\n",
              " '별도/Noun',\n",
              " '계약연장/Noun',\n",
              " '없음/Adjective',\n",
              " '급/Noun',\n",
              " '여/Noun',\n",
              " '월/Noun',\n",
              " '퇴직금/Noun',\n",
              " '별도/Noun',\n",
              " '전형방법/Noun',\n",
              " '가/Verb',\n",
              " '차/Noun',\n",
              " '서류전형/Noun',\n",
              " '나/Noun',\n",
              " '차/Noun',\n",
              " '심층면접/Noun',\n",
              " '면접/Noun',\n",
              " '일/Noun',\n",
              " '서류전형/Noun',\n",
              " '합격자/Noun',\n",
              " '한하여/Verb',\n",
              " '통지/Noun',\n",
              " '예정/Noun',\n",
              " '제출서류/Noun',\n",
              " '자체/Noun',\n",
              " '소정양식/Noun',\n",
              " '인터넷/Noun',\n",
              " '접수/Noun',\n",
              " '가/Verb',\n",
              " '입사지원서/Noun',\n",
              " '인터넷/Noun',\n",
              " '접수/Noun',\n",
              " '나/Noun',\n",
              " '자기소개서/Noun',\n",
              " '인터넷/Noun',\n",
              " '접수/Noun',\n",
              " '자격증/Noun',\n",
              " '및/Noun',\n",
              " '경력사항/Noun',\n",
              " '인터넷/Noun',\n",
              " '접수/Noun',\n",
              " '취업보호대상자/Noun',\n",
              " '인터넷/Noun',\n",
              " '접수/Noun',\n",
              " '해당자/Noun',\n",
              " '명시/Noun',\n",
              " '증빙서류/Noun',\n",
              " '최종합격자/Noun',\n",
              " '한하여/Verb',\n",
              " '제출/Noun',\n",
              " '지원서/Noun',\n",
              " '접수/Noun',\n",
              " '기간/Noun',\n",
              " '가/Verb',\n",
              " '접수/Noun',\n",
              " '기간/Noun',\n",
              " '금/Noun',\n",
              " '부터/Noun',\n",
              " '목/Noun',\n",
              " '나/Noun',\n",
              " '제출방법/Noun',\n",
              " '본교/Noun',\n",
              " '홈페이지/Noun',\n",
              " '채용시스템/Noun',\n",
              " '인터넷/Noun',\n",
              " '접수/Noun',\n",
              " '공고문/Noun',\n",
              " '하단/Noun',\n",
              " '채용/Noun',\n",
              " '바로가기/Noun',\n",
              " '배너/Noun',\n",
              " '참조/Noun',\n",
              " '직원인사규정/Noun',\n",
              " '임용/Noun',\n",
              " '결격사유/Noun',\n",
              " '직원인사규정/Noun',\n",
              " '제/Noun',\n",
              " '결격사유/Noun',\n",
              " '다음/Noun',\n",
              " '각/Noun',\n",
              " '호의/Noun',\n",
              " '해당/Noun',\n",
              " '하는/Verb',\n",
              " '자는/Verb',\n",
              " '직원/Noun',\n",
              " '임용/Noun',\n",
              " '할/Verb',\n",
              " '수/Noun',\n",
              " '없다/Adjective',\n",
              " '피성년후견인/Noun',\n",
              " '피한정후견인/Noun',\n",
              " '파산/Noun',\n",
              " '로서/Noun',\n",
              " '복권/Noun',\n",
              " '되지/Verb',\n",
              " '아니한/Adjective',\n",
              " '자/Noun',\n",
              " '금고/Noun',\n",
              " '이상/Noun',\n",
              " '형/Noun',\n",
              " '받은/Verb',\n",
              " '자/Noun',\n",
              " '집행/Noun',\n",
              " '받지/Verb',\n",
              " '않기로/Verb',\n",
              " '결정/Noun',\n",
              " '된/Verb',\n",
              " '후/Noun',\n",
              " '경과/Noun',\n",
              " '되지/Verb',\n",
              " '아니한/Adjective',\n",
              " '자/Noun',\n",
              " '금고/Noun',\n",
              " '이상/Noun',\n",
              " '형/Noun',\n",
              " '받고/Verb',\n",
              " '그/Noun',\n",
              " '집행유예/Noun',\n",
              " '기간/Noun',\n",
              " '완료/Noun',\n",
              " '된/Verb',\n",
              " '날로/Noun',\n",
              " '경과/Noun',\n",
              " '하지/Verb',\n",
              " '아니한/Adjective',\n",
              " '자/Noun',\n",
              " '금고/Noun',\n",
              " '이상/Noun',\n",
              " '형/Noun',\n",
              " '선고유예/Noun',\n",
              " '받은/Verb',\n",
              " '경우/Noun',\n",
              " '그/Noun',\n",
              " '선고/Noun',\n",
              " '유예/Noun',\n",
              " '기간/Noun',\n",
              " '있는/Adjective',\n",
              " '자/Noun',\n",
              " '법률/Noun',\n",
              " '의하여/Adjective',\n",
              " '공민권/Noun',\n",
              " '정지/Noun',\n",
              " '박탈/Noun',\n",
              " '된/Verb',\n",
              " '자/Noun',\n",
              " '본/Verb',\n",
              " '대학교/Noun',\n",
              " '징계/Noun',\n",
              " '의하여/Adjective',\n",
              " '파면/Noun',\n",
              " '처분/Noun',\n",
              " '받은/Verb',\n",
              " '때/Noun',\n",
              " '로부터/Noun',\n",
              " '경과/Noun',\n",
              " '하지/Verb',\n",
              " '아니한/Adjective',\n",
              " '자/Noun',\n",
              " '해임/Noun',\n",
              " '처분/Noun',\n",
              " '받은/Verb',\n",
              " '때/Noun',\n",
              " '로부터/Noun',\n",
              " '경과/Noun',\n",
              " '하지/Verb',\n",
              " '아니한/Adjective',\n",
              " '자/Noun',\n",
              " '다만/Noun',\n",
              " '업무/Noun',\n",
              " '업무/Noun',\n",
              " '상병/Noun',\n",
              " '상해/Noun',\n",
              " '입어/Verb',\n",
              " '불가피하게/Adjective',\n",
              " '퇴직/Noun',\n",
              " '직원/Noun',\n",
              " '완쾌/Noun',\n",
              " '되었을/Verb',\n",
              " '경우/Noun',\n",
              " '그/Noun',\n",
              " '직원/Noun',\n",
              " '요구/Noun',\n",
              " '있을/Adjective',\n",
              " '시/Noun',\n",
              " '이를/Verb',\n",
              " '우선/Noun',\n",
              " '채용/Noun',\n",
              " '배려/Noun',\n",
              " '한다/Verb',\n",
              " '병역기피자/Noun',\n",
              " '신체검사결과/Noun',\n",
              " '부적당하다고/Adjective',\n",
              " '판정/Noun',\n",
              " '된/Verb',\n",
              " '자/Noun',\n",
              " '기/Noun',\n",
              " '타/Noun',\n",
              " '가/Verb',\n",
              " '입사지원서/Noun',\n",
              " '기재내용/Noun',\n",
              " '사실/Noun',\n",
              " '다르거나/Adjective',\n",
              " '합격/Noun',\n",
              " '후/Noun',\n",
              " '허위/Noun',\n",
              " '사실/Noun',\n",
              " '발견/Noun',\n",
              " '될/Verb',\n",
              " '경우/Noun',\n",
              " '합격/Noun',\n",
              " '취소/Noun',\n",
              " '됨/Verb',\n",
              " '나/Noun',\n",
              " '기타/Noun',\n",
              " '문의/Noun',\n",
              " '인사팀/Noun',\n",
              " '계약직/Noun',\n",
              " '채용/Noun',\n",
              " '접수/Noun',\n",
              " '사이트/Noun',\n",
              " '바로가기/Noun',\n",
              " '행/Noun',\n",
              " '정/Noun',\n",
              " '지/Verb',\n",
              " '원/Noun',\n",
              " '처/Noun',\n",
              " '장/Noun']"
            ]
          },
          "metadata": {},
          "execution_count": 10
        }
      ]
    },
    {
      "cell_type": "markdown",
      "source": [],
      "metadata": {
        "id": "hUvR0OHzDdIi"
      }
    },
    {
      "cell_type": "markdown",
      "source": [
        "#### 요약함수 정의\n",
        "- 아래 함수 실행 시 쭉 길게 모든 행에 summarize content 추가"
      ],
      "metadata": {
        "id": "TbZjjjzATKfV"
      }
    },
    {
      "cell_type": "code",
      "source": [
        "# 요약 함수 정의 _ 쭉 길게 summarizecontent만들어주는 함수\n",
        "def summarize_content(content):\n",
        "    # 'content'가 비어있는지 확인\n",
        "    if not content.strip():\n",
        "        return []  # 빈 리스트 반환\n",
        "\n",
        "    # 줄바꿈과 온점을 기준으로 문자열 분리하여 리스트에 저장\n",
        "    sents = re.split(r'\\n|\\.', content)\n",
        "\n",
        "    # 빈 문자열 제거\n",
        "    sents = list(filter(None, sents))\n",
        "\n",
        "    # 공백만 있는 문자열 제거\n",
        "    sents = [sent for sent in sents if sent.strip()]\n",
        "\n",
        "    # 한 줄만 존재하는 문장이면 빈 리스트 반환\n",
        "    if len(sents) == 1:\n",
        "        return []\n",
        "    # 요약 수행\n",
        "    keysents = summarizer.summarize(sents, topk=3)\n",
        "\n",
        "    # 요약된 문장 리스트로 반환\n",
        "    print([item[2] for item in keysents])\n",
        "    return keysents\n",
        "\n",
        "# 'content' 컬럼을 문자열로 변환 (필요한 경우)\n",
        "janghak_copy['content'] = janghak_copy['content'].astype(str)\n",
        "\n",
        "# 'summarize_content' 컬럼 생성\n",
        "janghak_copy['summarize_content'] = janghak_copy['content'].apply(summarize_content)\n",
        "\n",
        "# 결과 출력\n",
        "print(janghak_copy['summarize_content'].head())\n",
        "\n",
        "# 데이터 타입 확인\n",
        "print(janghak_copy['summarize_content'].dtype)"
      ],
      "metadata": {
        "colab": {
          "base_uri": "https://localhost:8080/",
          "height": 373
        },
        "id": "zfVG5f04WIss",
        "outputId": "69ace32b-d06a-4b32-e422-05f6e270eeaa"
      },
      "execution_count": null,
      "outputs": [
        {
          "output_type": "error",
          "ename": "KeyboardInterrupt",
          "evalue": "",
          "traceback": [
            "\u001b[0;31m---------------------------------------------------------------------------\u001b[0m",
            "\u001b[0;31mKeyboardInterrupt\u001b[0m                         Traceback (most recent call last)",
            "\u001b[0;32m<ipython-input-15-7ffd8d16ef93>\u001b[0m in \u001b[0;36m<cell line: 30>\u001b[0;34m()\u001b[0m\n\u001b[1;32m     28\u001b[0m \u001b[0;34m\u001b[0m\u001b[0m\n\u001b[1;32m     29\u001b[0m \u001b[0;31m# 'summarize_content' 컬럼 생성\u001b[0m\u001b[0;34m\u001b[0m\u001b[0;34m\u001b[0m\u001b[0m\n\u001b[0;32m---> 30\u001b[0;31m \u001b[0mjanghak_copy\u001b[0m\u001b[0;34m[\u001b[0m\u001b[0;34m'summarize_content'\u001b[0m\u001b[0;34m]\u001b[0m \u001b[0;34m=\u001b[0m \u001b[0mjanghak_copy\u001b[0m\u001b[0;34m[\u001b[0m\u001b[0;34m'content'\u001b[0m\u001b[0;34m]\u001b[0m\u001b[0;34m.\u001b[0m\u001b[0mapply\u001b[0m\u001b[0;34m(\u001b[0m\u001b[0msummarize_content\u001b[0m\u001b[0;34m)\u001b[0m\u001b[0;34m\u001b[0m\u001b[0;34m\u001b[0m\u001b[0m\n\u001b[0m\u001b[1;32m     31\u001b[0m \u001b[0;34m\u001b[0m\u001b[0m\n\u001b[1;32m     32\u001b[0m \u001b[0;31m# 결과 출력\u001b[0m\u001b[0;34m\u001b[0m\u001b[0;34m\u001b[0m\u001b[0m\n",
            "\u001b[0;32m/usr/local/lib/python3.10/dist-packages/pandas/core/series.py\u001b[0m in \u001b[0;36mapply\u001b[0;34m(self, func, convert_dtype, args, **kwargs)\u001b[0m\n\u001b[1;32m   4628\u001b[0m         \u001b[0mdtype\u001b[0m\u001b[0;34m:\u001b[0m \u001b[0mfloat64\u001b[0m\u001b[0;34m\u001b[0m\u001b[0;34m\u001b[0m\u001b[0m\n\u001b[1;32m   4629\u001b[0m         \"\"\"\n\u001b[0;32m-> 4630\u001b[0;31m         \u001b[0;32mreturn\u001b[0m \u001b[0mSeriesApply\u001b[0m\u001b[0;34m(\u001b[0m\u001b[0mself\u001b[0m\u001b[0;34m,\u001b[0m \u001b[0mfunc\u001b[0m\u001b[0;34m,\u001b[0m \u001b[0mconvert_dtype\u001b[0m\u001b[0;34m,\u001b[0m \u001b[0margs\u001b[0m\u001b[0;34m,\u001b[0m \u001b[0mkwargs\u001b[0m\u001b[0;34m)\u001b[0m\u001b[0;34m.\u001b[0m\u001b[0mapply\u001b[0m\u001b[0;34m(\u001b[0m\u001b[0;34m)\u001b[0m\u001b[0;34m\u001b[0m\u001b[0;34m\u001b[0m\u001b[0m\n\u001b[0m\u001b[1;32m   4631\u001b[0m \u001b[0;34m\u001b[0m\u001b[0m\n\u001b[1;32m   4632\u001b[0m     def _reduce(\n",
            "\u001b[0;32m/usr/local/lib/python3.10/dist-packages/pandas/core/apply.py\u001b[0m in \u001b[0;36mapply\u001b[0;34m(self)\u001b[0m\n\u001b[1;32m   1023\u001b[0m \u001b[0;34m\u001b[0m\u001b[0m\n\u001b[1;32m   1024\u001b[0m         \u001b[0;31m# self.f is Callable\u001b[0m\u001b[0;34m\u001b[0m\u001b[0;34m\u001b[0m\u001b[0m\n\u001b[0;32m-> 1025\u001b[0;31m         \u001b[0;32mreturn\u001b[0m \u001b[0mself\u001b[0m\u001b[0;34m.\u001b[0m\u001b[0mapply_standard\u001b[0m\u001b[0;34m(\u001b[0m\u001b[0;34m)\u001b[0m\u001b[0;34m\u001b[0m\u001b[0;34m\u001b[0m\u001b[0m\n\u001b[0m\u001b[1;32m   1026\u001b[0m \u001b[0;34m\u001b[0m\u001b[0m\n\u001b[1;32m   1027\u001b[0m     \u001b[0;32mdef\u001b[0m \u001b[0magg\u001b[0m\u001b[0;34m(\u001b[0m\u001b[0mself\u001b[0m\u001b[0;34m)\u001b[0m\u001b[0;34m:\u001b[0m\u001b[0;34m\u001b[0m\u001b[0;34m\u001b[0m\u001b[0m\n",
            "\u001b[0;32m/usr/local/lib/python3.10/dist-packages/pandas/core/apply.py\u001b[0m in \u001b[0;36mapply_standard\u001b[0;34m(self)\u001b[0m\n\u001b[1;32m   1074\u001b[0m             \u001b[0;32melse\u001b[0m\u001b[0;34m:\u001b[0m\u001b[0;34m\u001b[0m\u001b[0;34m\u001b[0m\u001b[0m\n\u001b[1;32m   1075\u001b[0m                 \u001b[0mvalues\u001b[0m \u001b[0;34m=\u001b[0m \u001b[0mobj\u001b[0m\u001b[0;34m.\u001b[0m\u001b[0mastype\u001b[0m\u001b[0;34m(\u001b[0m\u001b[0mobject\u001b[0m\u001b[0;34m)\u001b[0m\u001b[0;34m.\u001b[0m\u001b[0m_values\u001b[0m\u001b[0;34m\u001b[0m\u001b[0;34m\u001b[0m\u001b[0m\n\u001b[0;32m-> 1076\u001b[0;31m                 mapped = lib.map_infer(\n\u001b[0m\u001b[1;32m   1077\u001b[0m                     \u001b[0mvalues\u001b[0m\u001b[0;34m,\u001b[0m\u001b[0;34m\u001b[0m\u001b[0;34m\u001b[0m\u001b[0m\n\u001b[1;32m   1078\u001b[0m                     \u001b[0mf\u001b[0m\u001b[0;34m,\u001b[0m\u001b[0;34m\u001b[0m\u001b[0;34m\u001b[0m\u001b[0m\n",
            "\u001b[0;32m/usr/local/lib/python3.10/dist-packages/pandas/_libs/lib.pyx\u001b[0m in \u001b[0;36mpandas._libs.lib.map_infer\u001b[0;34m()\u001b[0m\n",
            "\u001b[0;32m<ipython-input-15-7ffd8d16ef93>\u001b[0m in \u001b[0;36msummarize_content\u001b[0;34m(content)\u001b[0m\n\u001b[1;32m     18\u001b[0m         \u001b[0;32mreturn\u001b[0m \u001b[0;34m[\u001b[0m\u001b[0;34m]\u001b[0m\u001b[0;34m\u001b[0m\u001b[0;34m\u001b[0m\u001b[0m\n\u001b[1;32m     19\u001b[0m     \u001b[0;31m# 요약 수행\u001b[0m\u001b[0;34m\u001b[0m\u001b[0;34m\u001b[0m\u001b[0m\n\u001b[0;32m---> 20\u001b[0;31m     \u001b[0mkeysents\u001b[0m \u001b[0;34m=\u001b[0m \u001b[0msummarizer\u001b[0m\u001b[0;34m.\u001b[0m\u001b[0msummarize\u001b[0m\u001b[0;34m(\u001b[0m\u001b[0msents\u001b[0m\u001b[0;34m,\u001b[0m \u001b[0mtopk\u001b[0m\u001b[0;34m=\u001b[0m\u001b[0;36m3\u001b[0m\u001b[0;34m)\u001b[0m\u001b[0;34m\u001b[0m\u001b[0;34m\u001b[0m\u001b[0m\n\u001b[0m\u001b[1;32m     21\u001b[0m \u001b[0;34m\u001b[0m\u001b[0m\n\u001b[1;32m     22\u001b[0m     \u001b[0;31m# 요약된 문장 리스트로 반환\u001b[0m\u001b[0;34m\u001b[0m\u001b[0;34m\u001b[0m\u001b[0m\n",
            "\u001b[0;32m/content/textrank/textrank/summarizer.py\u001b[0m in \u001b[0;36msummarize\u001b[0;34m(self, sents, topk, bias)\u001b[0m\n\u001b[1;32m    192\u001b[0m             \u001b[0;32mraise\u001b[0m \u001b[0mValueError\u001b[0m\u001b[0;34m(\u001b[0m\u001b[0;34m'The type of bias must be None or numpy.ndarray but the type is {}'\u001b[0m\u001b[0;34m.\u001b[0m\u001b[0mformat\u001b[0m\u001b[0;34m(\u001b[0m\u001b[0mtype\u001b[0m\u001b[0;34m(\u001b[0m\u001b[0mbias\u001b[0m\u001b[0;34m)\u001b[0m\u001b[0;34m)\u001b[0m\u001b[0;34m)\u001b[0m\u001b[0;34m\u001b[0m\u001b[0;34m\u001b[0m\u001b[0m\n\u001b[1;32m    193\u001b[0m \u001b[0;34m\u001b[0m\u001b[0m\n\u001b[0;32m--> 194\u001b[0;31m         \u001b[0mself\u001b[0m\u001b[0;34m.\u001b[0m\u001b[0mtrain_textrank\u001b[0m\u001b[0;34m(\u001b[0m\u001b[0msents\u001b[0m\u001b[0;34m,\u001b[0m \u001b[0mbias\u001b[0m\u001b[0;34m)\u001b[0m\u001b[0;34m\u001b[0m\u001b[0;34m\u001b[0m\u001b[0m\n\u001b[0m\u001b[1;32m    195\u001b[0m         \u001b[0midxs\u001b[0m \u001b[0;34m=\u001b[0m \u001b[0mself\u001b[0m\u001b[0;34m.\u001b[0m\u001b[0mR\u001b[0m\u001b[0;34m.\u001b[0m\u001b[0margsort\u001b[0m\u001b[0;34m(\u001b[0m\u001b[0;34m)\u001b[0m\u001b[0;34m[\u001b[0m\u001b[0;34m-\u001b[0m\u001b[0mtopk\u001b[0m\u001b[0;34m:\u001b[0m\u001b[0;34m]\u001b[0m\u001b[0;34m\u001b[0m\u001b[0;34m\u001b[0m\u001b[0m\n\u001b[1;32m    196\u001b[0m         \u001b[0mkeysents\u001b[0m \u001b[0;34m=\u001b[0m \u001b[0;34m[\u001b[0m\u001b[0;34m(\u001b[0m\u001b[0midx\u001b[0m\u001b[0;34m,\u001b[0m \u001b[0mself\u001b[0m\u001b[0;34m.\u001b[0m\u001b[0mR\u001b[0m\u001b[0;34m[\u001b[0m\u001b[0midx\u001b[0m\u001b[0;34m]\u001b[0m\u001b[0;34m,\u001b[0m \u001b[0msents\u001b[0m\u001b[0;34m[\u001b[0m\u001b[0midx\u001b[0m\u001b[0;34m]\u001b[0m\u001b[0;34m)\u001b[0m \u001b[0;32mfor\u001b[0m \u001b[0midx\u001b[0m \u001b[0;32min\u001b[0m \u001b[0mreversed\u001b[0m\u001b[0;34m(\u001b[0m\u001b[0midxs\u001b[0m\u001b[0;34m)\u001b[0m\u001b[0;34m]\u001b[0m\u001b[0;34m\u001b[0m\u001b[0;34m\u001b[0m\u001b[0m\n",
            "\u001b[0;32m/content/textrank/textrank/summarizer.py\u001b[0m in \u001b[0;36mtrain_textrank\u001b[0;34m(self, sents, bias)\u001b[0m\n\u001b[1;32m    155\u001b[0m         \u001b[0;32mNone\u001b[0m\u001b[0;34m\u001b[0m\u001b[0;34m\u001b[0m\u001b[0m\n\u001b[1;32m    156\u001b[0m         \"\"\"\n\u001b[0;32m--> 157\u001b[0;31m         g = sent_graph(sents, self.tokenize, self.min_count,\n\u001b[0m\u001b[1;32m    158\u001b[0m             self.min_sim, self.similarity, self.vocab_to_idx, self.verbose)\n\u001b[1;32m    159\u001b[0m         \u001b[0mself\u001b[0m\u001b[0;34m.\u001b[0m\u001b[0mR\u001b[0m \u001b[0;34m=\u001b[0m \u001b[0mpagerank\u001b[0m\u001b[0;34m(\u001b[0m\u001b[0mg\u001b[0m\u001b[0;34m,\u001b[0m \u001b[0mself\u001b[0m\u001b[0;34m.\u001b[0m\u001b[0mdf\u001b[0m\u001b[0;34m,\u001b[0m \u001b[0mself\u001b[0m\u001b[0;34m.\u001b[0m\u001b[0mmax_iter\u001b[0m\u001b[0;34m,\u001b[0m \u001b[0mbias\u001b[0m\u001b[0;34m)\u001b[0m\u001b[0;34m.\u001b[0m\u001b[0mreshape\u001b[0m\u001b[0;34m(\u001b[0m\u001b[0;34m-\u001b[0m\u001b[0;36m1\u001b[0m\u001b[0;34m)\u001b[0m\u001b[0;34m\u001b[0m\u001b[0;34m\u001b[0m\u001b[0m\n",
            "\u001b[0;32m/content/textrank/textrank/sentence.py\u001b[0m in \u001b[0;36msent_graph\u001b[0;34m(sents, tokenize, min_count, min_sim, similarity, vocab_to_idx, verbose)\u001b[0m\n\u001b[1;32m     40\u001b[0m \u001b[0;34m\u001b[0m\u001b[0m\n\u001b[1;32m     41\u001b[0m     \u001b[0;32mif\u001b[0m \u001b[0mvocab_to_idx\u001b[0m \u001b[0;32mis\u001b[0m \u001b[0;32mNone\u001b[0m\u001b[0;34m:\u001b[0m\u001b[0;34m\u001b[0m\u001b[0;34m\u001b[0m\u001b[0m\n\u001b[0;32m---> 42\u001b[0;31m         \u001b[0midx_to_vocab\u001b[0m\u001b[0;34m,\u001b[0m \u001b[0mvocab_to_idx\u001b[0m \u001b[0;34m=\u001b[0m \u001b[0mscan_vocabulary\u001b[0m\u001b[0;34m(\u001b[0m\u001b[0msents\u001b[0m\u001b[0;34m,\u001b[0m \u001b[0mtokenize\u001b[0m\u001b[0;34m,\u001b[0m \u001b[0mmin_count\u001b[0m\u001b[0;34m)\u001b[0m\u001b[0;34m\u001b[0m\u001b[0;34m\u001b[0m\u001b[0m\n\u001b[0m\u001b[1;32m     43\u001b[0m     \u001b[0;32melse\u001b[0m\u001b[0;34m:\u001b[0m\u001b[0;34m\u001b[0m\u001b[0;34m\u001b[0m\u001b[0m\n\u001b[1;32m     44\u001b[0m         \u001b[0midx_to_vocab\u001b[0m \u001b[0;34m=\u001b[0m \u001b[0;34m[\u001b[0m\u001b[0mvocab\u001b[0m \u001b[0;32mfor\u001b[0m \u001b[0mvocab\u001b[0m\u001b[0;34m,\u001b[0m \u001b[0m_\u001b[0m \u001b[0;32min\u001b[0m \u001b[0msorted\u001b[0m\u001b[0;34m(\u001b[0m\u001b[0mvocab_to_idx\u001b[0m\u001b[0;34m.\u001b[0m\u001b[0mitems\u001b[0m\u001b[0;34m(\u001b[0m\u001b[0;34m)\u001b[0m\u001b[0;34m,\u001b[0m \u001b[0mkey\u001b[0m\u001b[0;34m=\u001b[0m\u001b[0;32mlambda\u001b[0m \u001b[0mx\u001b[0m\u001b[0;34m:\u001b[0m\u001b[0mx\u001b[0m\u001b[0;34m[\u001b[0m\u001b[0;36m1\u001b[0m\u001b[0;34m]\u001b[0m\u001b[0;34m)\u001b[0m\u001b[0;34m]\u001b[0m\u001b[0;34m\u001b[0m\u001b[0;34m\u001b[0m\u001b[0m\n",
            "\u001b[0;32m/content/textrank/textrank/utils.py\u001b[0m in \u001b[0;36mscan_vocabulary\u001b[0;34m(sents, tokenize, min_count)\u001b[0m\n\u001b[1;32m     22\u001b[0m         \u001b[0mVocabulary\u001b[0m \u001b[0mto\u001b[0m \u001b[0mindex\u001b[0m \u001b[0mmapper\u001b[0m\u001b[0;34m.\u001b[0m\u001b[0;34m\u001b[0m\u001b[0;34m\u001b[0m\u001b[0m\n\u001b[1;32m     23\u001b[0m     \"\"\"\n\u001b[0;32m---> 24\u001b[0;31m     \u001b[0mcounter\u001b[0m \u001b[0;34m=\u001b[0m \u001b[0mCounter\u001b[0m\u001b[0;34m(\u001b[0m\u001b[0mw\u001b[0m \u001b[0;32mfor\u001b[0m \u001b[0msent\u001b[0m \u001b[0;32min\u001b[0m \u001b[0msents\u001b[0m \u001b[0;32mfor\u001b[0m \u001b[0mw\u001b[0m \u001b[0;32min\u001b[0m \u001b[0mtokenize\u001b[0m\u001b[0;34m(\u001b[0m\u001b[0msent\u001b[0m\u001b[0;34m)\u001b[0m\u001b[0;34m)\u001b[0m\u001b[0;34m\u001b[0m\u001b[0;34m\u001b[0m\u001b[0m\n\u001b[0m\u001b[1;32m     25\u001b[0m     \u001b[0mcounter\u001b[0m \u001b[0;34m=\u001b[0m \u001b[0;34m{\u001b[0m\u001b[0mw\u001b[0m\u001b[0;34m:\u001b[0m\u001b[0mc\u001b[0m \u001b[0;32mfor\u001b[0m \u001b[0mw\u001b[0m\u001b[0;34m,\u001b[0m\u001b[0mc\u001b[0m \u001b[0;32min\u001b[0m \u001b[0mcounter\u001b[0m\u001b[0;34m.\u001b[0m\u001b[0mitems\u001b[0m\u001b[0;34m(\u001b[0m\u001b[0;34m)\u001b[0m \u001b[0;32mif\u001b[0m \u001b[0mc\u001b[0m \u001b[0;34m>=\u001b[0m \u001b[0mmin_count\u001b[0m\u001b[0;34m}\u001b[0m\u001b[0;34m\u001b[0m\u001b[0;34m\u001b[0m\u001b[0m\n\u001b[1;32m     26\u001b[0m     \u001b[0midx_to_vocab\u001b[0m \u001b[0;34m=\u001b[0m \u001b[0;34m[\u001b[0m\u001b[0mw\u001b[0m \u001b[0;32mfor\u001b[0m \u001b[0mw\u001b[0m\u001b[0;34m,\u001b[0m \u001b[0m_\u001b[0m \u001b[0;32min\u001b[0m \u001b[0msorted\u001b[0m\u001b[0;34m(\u001b[0m\u001b[0mcounter\u001b[0m\u001b[0;34m.\u001b[0m\u001b[0mitems\u001b[0m\u001b[0;34m(\u001b[0m\u001b[0;34m)\u001b[0m\u001b[0;34m,\u001b[0m \u001b[0mkey\u001b[0m\u001b[0;34m=\u001b[0m\u001b[0;32mlambda\u001b[0m \u001b[0mx\u001b[0m\u001b[0;34m:\u001b[0m\u001b[0;34m-\u001b[0m\u001b[0mx\u001b[0m\u001b[0;34m[\u001b[0m\u001b[0;36m1\u001b[0m\u001b[0;34m]\u001b[0m\u001b[0;34m)\u001b[0m\u001b[0;34m]\u001b[0m\u001b[0;34m\u001b[0m\u001b[0;34m\u001b[0m\u001b[0m\n",
            "\u001b[0;32m/usr/lib/python3.10/collections/__init__.py\u001b[0m in \u001b[0;36m__init__\u001b[0;34m(self, iterable, **kwds)\u001b[0m\n\u001b[1;32m    575\u001b[0m         '''\n\u001b[1;32m    576\u001b[0m         \u001b[0msuper\u001b[0m\u001b[0;34m(\u001b[0m\u001b[0;34m)\u001b[0m\u001b[0;34m.\u001b[0m\u001b[0m__init__\u001b[0m\u001b[0;34m(\u001b[0m\u001b[0;34m)\u001b[0m\u001b[0;34m\u001b[0m\u001b[0;34m\u001b[0m\u001b[0m\n\u001b[0;32m--> 577\u001b[0;31m         \u001b[0mself\u001b[0m\u001b[0;34m.\u001b[0m\u001b[0mupdate\u001b[0m\u001b[0;34m(\u001b[0m\u001b[0miterable\u001b[0m\u001b[0;34m,\u001b[0m \u001b[0;34m**\u001b[0m\u001b[0mkwds\u001b[0m\u001b[0;34m)\u001b[0m\u001b[0;34m\u001b[0m\u001b[0;34m\u001b[0m\u001b[0m\n\u001b[0m\u001b[1;32m    578\u001b[0m \u001b[0;34m\u001b[0m\u001b[0m\n\u001b[1;32m    579\u001b[0m     \u001b[0;32mdef\u001b[0m \u001b[0m__missing__\u001b[0m\u001b[0;34m(\u001b[0m\u001b[0mself\u001b[0m\u001b[0;34m,\u001b[0m \u001b[0mkey\u001b[0m\u001b[0;34m)\u001b[0m\u001b[0;34m:\u001b[0m\u001b[0;34m\u001b[0m\u001b[0;34m\u001b[0m\u001b[0m\n",
            "\u001b[0;32m/usr/lib/python3.10/collections/__init__.py\u001b[0m in \u001b[0;36mupdate\u001b[0;34m(self, iterable, **kwds)\u001b[0m\n\u001b[1;32m    668\u001b[0m                     \u001b[0msuper\u001b[0m\u001b[0;34m(\u001b[0m\u001b[0;34m)\u001b[0m\u001b[0;34m.\u001b[0m\u001b[0mupdate\u001b[0m\u001b[0;34m(\u001b[0m\u001b[0miterable\u001b[0m\u001b[0;34m)\u001b[0m\u001b[0;34m\u001b[0m\u001b[0;34m\u001b[0m\u001b[0m\n\u001b[1;32m    669\u001b[0m             \u001b[0;32melse\u001b[0m\u001b[0;34m:\u001b[0m\u001b[0;34m\u001b[0m\u001b[0;34m\u001b[0m\u001b[0m\n\u001b[0;32m--> 670\u001b[0;31m                 \u001b[0m_count_elements\u001b[0m\u001b[0;34m(\u001b[0m\u001b[0mself\u001b[0m\u001b[0;34m,\u001b[0m \u001b[0miterable\u001b[0m\u001b[0;34m)\u001b[0m\u001b[0;34m\u001b[0m\u001b[0;34m\u001b[0m\u001b[0m\n\u001b[0m\u001b[1;32m    671\u001b[0m         \u001b[0;32mif\u001b[0m \u001b[0mkwds\u001b[0m\u001b[0;34m:\u001b[0m\u001b[0;34m\u001b[0m\u001b[0;34m\u001b[0m\u001b[0m\n\u001b[1;32m    672\u001b[0m             \u001b[0mself\u001b[0m\u001b[0;34m.\u001b[0m\u001b[0mupdate\u001b[0m\u001b[0;34m(\u001b[0m\u001b[0mkwds\u001b[0m\u001b[0;34m)\u001b[0m\u001b[0;34m\u001b[0m\u001b[0;34m\u001b[0m\u001b[0m\n",
            "\u001b[0;32m/content/textrank/textrank/utils.py\u001b[0m in \u001b[0;36m<genexpr>\u001b[0;34m(.0)\u001b[0m\n\u001b[1;32m     22\u001b[0m         \u001b[0mVocabulary\u001b[0m \u001b[0mto\u001b[0m \u001b[0mindex\u001b[0m \u001b[0mmapper\u001b[0m\u001b[0;34m.\u001b[0m\u001b[0;34m\u001b[0m\u001b[0;34m\u001b[0m\u001b[0m\n\u001b[1;32m     23\u001b[0m     \"\"\"\n\u001b[0;32m---> 24\u001b[0;31m     \u001b[0mcounter\u001b[0m \u001b[0;34m=\u001b[0m \u001b[0mCounter\u001b[0m\u001b[0;34m(\u001b[0m\u001b[0mw\u001b[0m \u001b[0;32mfor\u001b[0m \u001b[0msent\u001b[0m \u001b[0;32min\u001b[0m \u001b[0msents\u001b[0m \u001b[0;32mfor\u001b[0m \u001b[0mw\u001b[0m \u001b[0;32min\u001b[0m \u001b[0mtokenize\u001b[0m\u001b[0;34m(\u001b[0m\u001b[0msent\u001b[0m\u001b[0;34m)\u001b[0m\u001b[0;34m)\u001b[0m\u001b[0;34m\u001b[0m\u001b[0;34m\u001b[0m\u001b[0m\n\u001b[0m\u001b[1;32m     25\u001b[0m     \u001b[0mcounter\u001b[0m \u001b[0;34m=\u001b[0m \u001b[0;34m{\u001b[0m\u001b[0mw\u001b[0m\u001b[0;34m:\u001b[0m\u001b[0mc\u001b[0m \u001b[0;32mfor\u001b[0m \u001b[0mw\u001b[0m\u001b[0;34m,\u001b[0m\u001b[0mc\u001b[0m \u001b[0;32min\u001b[0m \u001b[0mcounter\u001b[0m\u001b[0;34m.\u001b[0m\u001b[0mitems\u001b[0m\u001b[0;34m(\u001b[0m\u001b[0;34m)\u001b[0m \u001b[0;32mif\u001b[0m \u001b[0mc\u001b[0m \u001b[0;34m>=\u001b[0m \u001b[0mmin_count\u001b[0m\u001b[0;34m}\u001b[0m\u001b[0;34m\u001b[0m\u001b[0;34m\u001b[0m\u001b[0m\n\u001b[1;32m     26\u001b[0m     \u001b[0midx_to_vocab\u001b[0m \u001b[0;34m=\u001b[0m \u001b[0;34m[\u001b[0m\u001b[0mw\u001b[0m \u001b[0;32mfor\u001b[0m \u001b[0mw\u001b[0m\u001b[0;34m,\u001b[0m \u001b[0m_\u001b[0m \u001b[0;32min\u001b[0m \u001b[0msorted\u001b[0m\u001b[0;34m(\u001b[0m\u001b[0mcounter\u001b[0m\u001b[0;34m.\u001b[0m\u001b[0mitems\u001b[0m\u001b[0;34m(\u001b[0m\u001b[0;34m)\u001b[0m\u001b[0;34m,\u001b[0m \u001b[0mkey\u001b[0m\u001b[0;34m=\u001b[0m\u001b[0;32mlambda\u001b[0m \u001b[0mx\u001b[0m\u001b[0;34m:\u001b[0m\u001b[0;34m-\u001b[0m\u001b[0mx\u001b[0m\u001b[0;34m[\u001b[0m\u001b[0;36m1\u001b[0m\u001b[0;34m]\u001b[0m\u001b[0;34m)\u001b[0m\u001b[0;34m]\u001b[0m\u001b[0;34m\u001b[0m\u001b[0;34m\u001b[0m\u001b[0m\n",
            "\u001b[0;32m<ipython-input-13-ccfa7933b6e9>\u001b[0m in \u001b[0;36mokt_tokenize\u001b[0;34m(sent)\u001b[0m\n\u001b[1;32m      4\u001b[0m \u001b[0;34m\u001b[0m\u001b[0m\n\u001b[1;32m      5\u001b[0m \u001b[0;32mdef\u001b[0m \u001b[0mokt_tokenize\u001b[0m\u001b[0;34m(\u001b[0m\u001b[0msent\u001b[0m\u001b[0;34m)\u001b[0m\u001b[0;34m:\u001b[0m\u001b[0;34m\u001b[0m\u001b[0;34m\u001b[0m\u001b[0m\n\u001b[0;32m----> 6\u001b[0;31m     \u001b[0mwords\u001b[0m \u001b[0;34m=\u001b[0m \u001b[0mokt\u001b[0m\u001b[0;34m.\u001b[0m\u001b[0mpos\u001b[0m\u001b[0;34m(\u001b[0m\u001b[0msent\u001b[0m\u001b[0;34m,\u001b[0m \u001b[0mjoin\u001b[0m\u001b[0;34m=\u001b[0m\u001b[0;32mTrue\u001b[0m\u001b[0;34m)\u001b[0m\u001b[0;34m\u001b[0m\u001b[0;34m\u001b[0m\u001b[0m\n\u001b[0m\u001b[1;32m      7\u001b[0m     \u001b[0mwords\u001b[0m \u001b[0;34m=\u001b[0m \u001b[0;34m[\u001b[0m\u001b[0mw\u001b[0m \u001b[0;32mfor\u001b[0m \u001b[0mw\u001b[0m \u001b[0;32min\u001b[0m \u001b[0mwords\u001b[0m \u001b[0;32mif\u001b[0m \u001b[0;34m(\u001b[0m\u001b[0;34m'/Noun'\u001b[0m \u001b[0;32min\u001b[0m \u001b[0mw\u001b[0m \u001b[0;32mor\u001b[0m \u001b[0;34m'/Adjective'\u001b[0m \u001b[0;32min\u001b[0m \u001b[0mw\u001b[0m \u001b[0;32mor\u001b[0m \u001b[0;34m'/Verb'\u001b[0m \u001b[0;32min\u001b[0m \u001b[0mw\u001b[0m\u001b[0;34m)\u001b[0m\u001b[0;34m]\u001b[0m\u001b[0;34m\u001b[0m\u001b[0;34m\u001b[0m\u001b[0m\n\u001b[1;32m      8\u001b[0m     \u001b[0;32mreturn\u001b[0m \u001b[0mwords\u001b[0m\u001b[0;34m\u001b[0m\u001b[0;34m\u001b[0m\u001b[0m\n",
            "\u001b[0;32m/usr/local/lib/python3.10/dist-packages/konlpy/tag/_okt.py\u001b[0m in \u001b[0;36mpos\u001b[0;34m(self, phrase, norm, stem, join)\u001b[0m\n\u001b[1;32m     69\u001b[0m         \u001b[0mvalidate_phrase_inputs\u001b[0m\u001b[0;34m(\u001b[0m\u001b[0mphrase\u001b[0m\u001b[0;34m)\u001b[0m\u001b[0;34m\u001b[0m\u001b[0;34m\u001b[0m\u001b[0m\n\u001b[1;32m     70\u001b[0m \u001b[0;34m\u001b[0m\u001b[0m\n\u001b[0;32m---> 71\u001b[0;31m         tokens = self.jki.tokenize(\n\u001b[0m\u001b[1;32m     72\u001b[0m                     \u001b[0mphrase\u001b[0m\u001b[0;34m,\u001b[0m\u001b[0;34m\u001b[0m\u001b[0;34m\u001b[0m\u001b[0m\n\u001b[1;32m     73\u001b[0m                     \u001b[0mjpype\u001b[0m\u001b[0;34m.\u001b[0m\u001b[0mjava\u001b[0m\u001b[0;34m.\u001b[0m\u001b[0mlang\u001b[0m\u001b[0;34m.\u001b[0m\u001b[0mBoolean\u001b[0m\u001b[0;34m(\u001b[0m\u001b[0mnorm\u001b[0m\u001b[0;34m)\u001b[0m\u001b[0;34m,\u001b[0m\u001b[0;34m\u001b[0m\u001b[0;34m\u001b[0m\u001b[0m\n",
            "\u001b[0;31mKeyboardInterrupt\u001b[0m: "
          ]
        }
      ]
    },
    {
      "cell_type": "code",
      "source": [
        "print(janghak_copy.loc[299, 'content'])"
      ],
      "metadata": {
        "id": "U1zJ_i4gVADI"
      },
      "execution_count": null,
      "outputs": []
    },
    {
      "cell_type": "code",
      "source": [
        "# 요약 함수 정의 _ 문장 하나만 실행하기\n",
        "def summarize_content(content):\n",
        "    # 'content'가 비어있는지 확인\n",
        "    if not content.strip():\n",
        "        return []  # 빈 리스트 반환\n",
        "\n",
        "    # 줄바꿈과 온점을 기준으로 문자열 분리하여 리스트에 저장\n",
        "    sents = re.split(r'\\n|\\.', content)\n",
        "\n",
        "    # 빈 문자열 제거\n",
        "    sents = list(filter(None, sents))\n",
        "\n",
        "    # 공백만 있는 문자열 제거\n",
        "    sents = [sent for sent in sents if sent.strip()]\n",
        "\n",
        "    # 한 줄만 존재하는 문장이면 빈 리스트 반환\n",
        "    if len(sents) == 1:\n",
        "        return []\n",
        "\n",
        "    # 요약 수행\n",
        "    keysents = summarizer.summarize(sents, topk=3)\n",
        "\n",
        "    # 요약된 문장 리스트로 반환\n",
        "    return [item[2] for item in keysents]  # keysents의 3번째 요소가 문장이라고 가정\n",
        "\n",
        "# 특정 셀에 함수 적용\n",
        "content = janghak_copy.loc[298, 'content']\n",
        "summarized_content = summarize_content(content)\n",
        "\n",
        "# 결과 출력\n",
        "print(summarized_content)"
      ],
      "metadata": {
        "id": "H33_Cwmfylki",
        "colab": {
          "base_uri": "https://localhost:8080/"
        },
        "outputId": "58dcafd1-406e-4eb5-facc-bc1beeee54c3"
      },
      "execution_count": null,
      "outputs": [
        {
          "output_type": "stream",
          "name": "stdout",
          "text": [
            "['2021년 1학기 농림축산식품부 장학금 중 「청년창업농육성장학생」을 다음과 같이 선발하고자 하니 대학생 여러분의 많은 참여를 바랍니다', '□ 지원내용 : 매학기 장학금(등록금 전액 + 학업장려금 200만원) ', '○ 신청 전 반드시 선발안내문을 통해 장학생 선발요건 및 신청 방법, 제출서류 등 세부사항 확인 요망']\n"
          ]
        }
      ]
    },
    {
      "cell_type": "markdown",
      "source": [
        "#### 요약 함수 출력 끗"
      ],
      "metadata": {
        "id": "ruXhbiMVTSzV"
      }
    },
    {
      "cell_type": "code",
      "source": [
        "content = janghak_copy.loc[300, 'content']"
      ],
      "metadata": {
        "id": "O_Jz-TDoV7I4"
      },
      "execution_count": null,
      "outputs": []
    },
    {
      "cell_type": "code",
      "source": [
        "# 에러 방지를 위한 빈 문자열 제거\n",
        "\n",
        "sents = re.split(r'\\n|\\.', content)\n",
        "# 빈 문자열 제거\n",
        "sents = list(filter(None, sents))\n",
        "\n",
        "# 공백만 있는 문자열 제거\n",
        "sents = [sent for sent in sents if sent.strip()]\n",
        "\n",
        "# 공백만 있는 문자열 제거\n",
        "sents = [sent for sent in sents if sent.strip()]\n",
        "\n",
        "# 한 줄만 존재하는 문장이면 빈 리스트 반환\n",
        "if len(sents) == 1:\n",
        "  sents =[]\n",
        "# 요약 수행\n",
        "keysents = summarizer.summarize(sents, topk=1)\n",
        "keysents"
      ],
      "metadata": {
        "id": "FJMhzKbuW0BY",
        "colab": {
          "base_uri": "https://localhost:8080/"
        },
        "outputId": "9dc90648-19c4-4939-8fa3-f649ac380253"
      },
      "execution_count": null,
      "outputs": [
        {
          "output_type": "execute_result",
          "data": {
            "text/plain": [
              "[(1,\n",
              "  1.3522548323550878,\n",
              "  '아래와 같이 2021학년도 대학생 청소년교육지원장학금멘토 학생을 모집하니 관심있는 외대 학생들의많은 지원 바랍니다')]"
            ]
          },
          "metadata": {},
          "execution_count": 22
        }
      ]
    },
    {
      "cell_type": "code",
      "source": [
        "sents\n"
      ],
      "metadata": {
        "id": "7mwUSFmvW8RI",
        "colab": {
          "base_uri": "https://localhost:8080/"
        },
        "outputId": "57fe9fde-0ed2-45de-dc83-8027d2591b57"
      },
      "execution_count": null,
      "outputs": [
        {
          "output_type": "execute_result",
          "data": {
            "text/plain": [
              "['2021년 대학생 청소년교육지원장학금 멘토모집 안내 ',\n",
              " '아래와 같이 2021학년도 대학생 청소년교육지원장학금멘토 학생을 모집하니 관심있는 외대 학생들의많은 지원 바랍니다',\n",
              " '- 아 래 -',\n",
              " '1',\n",
              " ' 모집기간 : 2021',\n",
              " ' 3',\n",
              " ' 2(화) ~ 3',\n",
              " ' 21(일)(* 3월 22일이후 신청자의 경우 선발 심사에 반영되지 않을 수 있음)',\n",
              " '2',\n",
              " ' 신청유형 : B형(멘토 발굴형)',\n",
              " '3',\n",
              " ' 선발기준',\n",
              " ' 가',\n",
              " ' 직전학기 성적 백분위 70점 이상인 자(학자금 지원구간 무관/신',\n",
              " '편입생 성적기준 제외)',\n",
              " '나',\n",
              " '봉사역량 우수자 우대(봉사기간, 지속성)',\n",
              " ' 다',\n",
              " ' 자기소개, 지원동기, 성적 및 전공 관련 등을 종합적으로 평가하여 선발',\n",
              " ' 라',\n",
              " ' 초과학기자(9학기 이상), 휴학생 참여 불가, 타 대학생 근로장학사업(국가근로장학금, 다문화⦁탈북학생 멘토링장학금)과 중복 참여 불가',\n",
              " '4',\n",
              " ' 선발 인원 :5명내외',\n",
              " '5',\n",
              " ' 활동가능기간 :2021',\n",
              " ' 4',\n",
              " ' 1(목) ~ 2022',\n",
              " ' 1',\n",
              " ' 31(월)',\n",
              " '*상황에 따라 활동 시작/종료일 상이, 2학기 재모집 가능',\n",
              " '6',\n",
              " ' 활동가능시간 : 학기 중 주당 최대 10시간, 방학 중 주당 최대 25시간',\n",
              " ' * 활동인원에 따라 활동시간 변동 가능',\n",
              " '7',\n",
              " ' 활동비 : 시간 당 11,150원(*최소활동 시간이 10시간 이상일 때 지급 가능)',\n",
              " '8',\n",
              " '신청방법 및 제출서류',\n",
              " ' 가',\n",
              " '신청방법 : 한국장학재단 홈페이지 신청(첨부 참조)',\n",
              " ' 나',\n",
              " ' 제출서류 : 봉사활동증명서 등(해당자, 별도양식 없음)',\n",
              " '9',\n",
              " ' 선발결과 :3월 27일 이전 선발자 대상으로 개별연락',\n",
              " '10',\n",
              " ' 유의사항',\n",
              " ' 가',\n",
              " ' 우리 대학은 멘토 발굴형으로 학생이 직접 기관을 발굴하여 활동해야 하오니 사전에 협의 요망(첨부 참조:20년 자료 동일 함',\n",
              " ')',\n",
              " ' 나',\n",
              " ' 대학생 청소년교육지원장학금 또한 장학금으로 교육비납입증명서에 반영, 해당 장학수혜금액만큼 교육비공제를 받을 수 없습니다',\n",
              " '2021',\n",
              " ' 3',\n",
              " '장학팀']"
            ]
          },
          "metadata": {},
          "execution_count": 27
        }
      ]
    },
    {
      "cell_type": "code",
      "source": [
        "\n",
        "# 요약 함수 정의\n",
        "def summarize_content(index, content):\n",
        "    # 'content'가 비어있는지 확인\n",
        "    if not content:\n",
        "        print(index, \"Content is empty or only whitespace.\")\n",
        "        return []  # 빈 리스트 반환\n",
        "\n",
        "    # 리스트의 항목들을 하나의 문자열로 결합\n",
        "    if isinstance(content, list):\n",
        "        content = ' '.join(content)\n",
        "\n",
        "    # 'content'가 비어있는지 다시 확인 (공백제거 후)\n",
        "    if not content.strip():\n",
        "        print(index, \"Content is empty or only whitespace after joining.\")\n",
        "        return []  # 빈 리스트 반환\n",
        "\n",
        "    # 줄바꿈과 온점을 기준으로 문자열 분리하여 리스트에 저장\n",
        "    sents = re.split(r'\\n|\\.', content)\n",
        "\n",
        "    # 빈 문자열 제거\n",
        "    sents = list(filter(None, sents))\n",
        "\n",
        "    # 공백만 있는 문자열 제거\n",
        "    sents = [sent for sent in sents if sent.strip()]\n",
        "\n",
        "    # 문장이 없으면 빈 리스트 반환\n",
        "    if not sents:\n",
        "        print(index, \"No valid sentences after splitting.\")\n",
        "        return []\n",
        "\n",
        "    # 한 줄만 존재하는 문장이면 빈 리스트 반환 _ 이거 하니 오류 안나고 다돌아가는 것 같기도\n",
        "    if len(sents) == 1:\n",
        "        print(index, \"Only one valid sentence.\")\n",
        "        return []\n",
        "\n",
        "    return sents\n",
        "\n",
        "# 특정 셀에 함수 적용\n",
        "index = 299\n",
        "content = janghak_copy.loc[index, 'content']\n",
        "summarized_content = summarize_content(index, content)\n",
        "\n",
        "# 결과 출력\n",
        "print(summarized_content)\n"
      ],
      "metadata": {
        "id": "X3BzXvnfeH9s",
        "colab": {
          "base_uri": "https://localhost:8080/"
        },
        "outputId": "277f3e0d-2800-4660-9de5-4c56b5f8c164"
      },
      "execution_count": null,
      "outputs": [
        {
          "output_type": "stream",
          "name": "stdout",
          "text": [
            "['붙임의 서류를 갖추어 21년도 제29기세아해암 학술장학재단 장학생 모집안내를 하외 외대 학생들의 많은 지원 바랍니다', '붙 임 모집요강 1부', ' 끝']\n"
          ]
        }
      ]
    },
    {
      "cell_type": "code",
      "source": [
        "keywordsents = ['붙임의 서류를 갖추어 21년도 제29기세아해암 학술장학재단 장학생 모집안내를 하외 외대 학생들의 많은 지원 바랍니다', '붙 임 모집요강 1부', ' 끝']\n",
        "\n",
        "# 각 요소가 문자열인지 확인하고 문자열로 변환\n",
        "keywordsents = [str(sent) for sent in keywordsents]\n",
        "\n",
        "# 변환된 데이터를 summarizer.summarize 함수에 전달\n",
        "keysents = summarizer.summarize(keywordsents, topk=1)\n"
      ],
      "metadata": {
        "id": "9AA4Aizfeqzc"
      },
      "execution_count": null,
      "outputs": []
    },
    {
      "cell_type": "code",
      "source": [],
      "metadata": {
        "id": "O84NzDtRfEl8"
      },
      "execution_count": null,
      "outputs": []
    },
    {
      "cell_type": "markdown",
      "source": [
        "# 에러나는 행 정리"
      ],
      "metadata": {
        "id": "oLzDgmqlgb74"
      }
    },
    {
      "cell_type": "markdown",
      "source": [
        "## 장학\n"
      ],
      "metadata": {
        "id": "qXh9PNrLVCi7"
      }
    },
    {
      "cell_type": "markdown",
      "source": [
        "#### 오류 리스트\n",
        "- 7 /1259"
      ],
      "metadata": {
        "id": "O_7i_oQKwLoS"
      }
    },
    {
      "cell_type": "markdown",
      "source": [
        "1. janghak_copy.loc[299]\n",
        "  - [공통][교외][교외]21학년도 제29기 세아해암 장학생 모집안내, Summarizer error: object dtype is not supported by sparse matrices\n",
        "\n",
        "2. janghak_copy.loc[531]\n",
        "  - [공통][국가]22-1 국가장학금 신청마감 D-7(12/30)까지, Summarizer error: object dtype is not supported by sparse matrices\n",
        "\n",
        "3. janghak_copy.loc[537]\n",
        "  - [공통][국가]22-1 국가장학금 신청마감 D-3(12/30)까지, Summarizer error: object dtype is not supported by sparse matrices\n",
        "\n",
        "4. janghak_copy.loc[1065]\n",
        "  - [공통][교외] 소나무 장학금 2023년 장학생 선발안내(7/17~7/25), Summarizer error: object dtype is not supported by sparse matrices\n",
        "\n",
        "5. janghak_copy.loc[1083]\n",
        "  - [공통][교외] 2023년 정읍시민장학재단 장학생 선발안내(7/17~7/26), Summarizer error: object dtype is not supported by sparse matrices\n",
        "\n",
        "6. janghak_copy.loc[1085]\n",
        "  - [공통][교외] 서울장학재단 2023년 서울희망 대학 진로 장학금 장학생 선발안내(7/24~7/31), Summarizer error: object dtype is not supported by sparse matrices\n",
        "\n",
        "7. janghak_copy.loc[1128]\n",
        "  - [공통][교외] 춘천시민장학재단 2023년도 하반기 장학생 선발공고, Summarizer error: object dtype is not supported by sparse matrices"
      ],
      "metadata": {
        "id": "d0STsRzKZ2FZ"
      }
    },
    {
      "cell_type": "markdown",
      "source": [
        "### 코드"
      ],
      "metadata": {
        "id": "V20HyJM5wOvp"
      }
    },
    {
      "cell_type": "code",
      "source": [
        "ex = janghak_copy.loc[1128,'content']\n",
        "print(ex)"
      ],
      "metadata": {
        "colab": {
          "base_uri": "https://localhost:8080/"
        },
        "id": "iB3QY9beoeFC",
        "outputId": "730136a8-cda6-492c-c0b5-690f4042efd9"
      },
      "execution_count": null,
      "outputs": [
        {
          "output_type": "stream",
          "name": "stdout",
          "text": [
            "\n",
            "붙임의 서류를 갖추어 재단법인 춘천시민장학재단의 2023년도 하반기 장학생 선발안내를 하니 한국외대 학생들의많은 지원 바랍니다.붙 임 선발 공고문 1부. 끝.\n",
            "\n"
          ]
        }
      ]
    },
    {
      "cell_type": "code",
      "source": [
        "import re\n",
        "import pandas as pd\n",
        "\n",
        "# 에러 카운트 변수 초기화\n",
        "cnt_error = 0\n",
        "\n",
        "# 요약 함수 정의\n",
        "def summarize_content(title, content):\n",
        "    global cnt_error  # 전역 변수로 cnt_error를 사용\n",
        "\n",
        "    if not content:\n",
        "        return []\n",
        "\n",
        "    if isinstance(content, list):\n",
        "        content = ' '.join(content)\n",
        "\n",
        "    if not content.strip():\n",
        "        return []\n",
        "\n",
        "    sents = re.split(r'\\n|\\.', content)\n",
        "\n",
        "    sents = list(filter(None, sents))\n",
        "\n",
        "    sents = [sent for sent in sents if sent.strip()]\n",
        "\n",
        "    if not sents:\n",
        "        return []\n",
        "\n",
        "    if len(sents) == 1:\n",
        "        return sents\n",
        "\n",
        "    # 요약 수행\n",
        "    try:\n",
        "        keysents = summarizer.summarize(sents, topk=3)\n",
        "    except ValueError as e:\n",
        "        # 요약 도중 에러 발생시 빈 리스트 반환\n",
        "        cnt_error += 1\n",
        "        print(f\"{cnt_error}. {title}, Summarizer error: {e}\")\n",
        "        return []\n",
        "\n",
        "    return [item[2] for item in keysents]\n",
        "\n",
        "#  코드 실행\n",
        "janghak_copy['summarize_content'] = janghak_copy.apply(lambda row: summarize_content(row['title'], row['content']), axis=1)\n",
        "\n",
        "# 결과 출력\n",
        "print(janghak_copy['summarize_content'])\n"
      ],
      "metadata": {
        "colab": {
          "base_uri": "https://localhost:8080/"
        },
        "id": "YTppI829C6vp",
        "outputId": "c15e7ccb-dde6-4502-cf73-71481084c073"
      },
      "execution_count": null,
      "outputs": [
        {
          "output_type": "stream",
          "name": "stdout",
          "text": [
            "1. [공통][교외][교외]21학년도 제29기 세아해암 장학생 모집안내, Summarizer error: object dtype is not supported by sparse matrices\n",
            "2. [공통][국가]22-1 국가장학금 신청마감 D-7(12/30)까지, Summarizer error: object dtype is not supported by sparse matrices\n",
            "3. [공통][국가]22-1 국가장학금 신청마감 D-3(12/30)까지, Summarizer error: object dtype is not supported by sparse matrices\n",
            "4. [공통][교외] 소나무 장학금 2023년 장학생 선발안내(7/17~7/25), Summarizer error: object dtype is not supported by sparse matrices\n",
            "5. [공통][교외] 2023년 정읍시민장학재단 장학생 선발안내(7/17~7/26), Summarizer error: object dtype is not supported by sparse matrices\n",
            "6. [공통][교외] 서울장학재단 2023년 서울희망 대학 진로 장학금 장학생 선발안내(7/24~7/31), Summarizer error: object dtype is not supported by sparse matrices\n",
            "7. [공통][교외] 춘천시민장학재단 2023년도 하반기 장학생 선발공고, Summarizer error: object dtype is not supported by sparse matrices\n",
            "0       [ 장학생 추천서(붙임파일 참조, 남정장학재단 홈페이지 다운로드 가능, 추천소견 및...\n",
            "1       [ ※ 1차 신청기간 중 군에 있어 융자신청을 못한 군 제대 복학자의 경우, 재학생...\n",
            "2       [ 제출서류  1) 1차 서류(실로암시각장애인복지관 홈페이지에서 양식 다운이 가능합...\n",
            "3       [(1차 등록기간에 대출 실행 시 등록금 전액으로 대출되므로 9학기 이하 수강자의 ...\n",
            "4       [- 온라인(24일 18시까지 신청 가능) : 천안시 홈페이지 > 분야별 정보 > ...\n",
            "                              ...                        \n",
            "1255    [*타 장학금 수혜내역이 있는 학생의 경우,선발 후 권순한 장학금 수혜액과 합쳐서 ...\n",
            "1256    [*선발시 기부자(이덕선 이사장님,캐서린 여사님)감사편지(자필)제출 필수/장학금 전...\n",
            "1257    [아래와 같이2024년 최언도(독일어59)장학금 장학생 모집을 하오니 해당되는 재학...\n",
            "1258    [*타 장학금 수혜내역이 있는 학생의 경우,선발 후 윤강로 장학금 수혜액과 합쳐서 ...\n",
            "1259    [아래와 같이2024-1학기故장경자 장학금 장학생 모집을 하오니 해당되는 재학생들의...\n",
            "Name: summarize_content, Length: 1260, dtype: object\n"
          ]
        }
      ]
    },
    {
      "cell_type": "code",
      "source": [
        "# 인덱스 번호 검색하기\n",
        "index = janghak_copy[janghak_copy['title'] == \"[공통][교외] 춘천시민장학재단 2023년도 하반기 장학생 선발공고\"].index\n",
        "print(index)\n"
      ],
      "metadata": {
        "colab": {
          "base_uri": "https://localhost:8080/"
        },
        "id": "4a6yTc5Lj4Eg",
        "outputId": "14043075-deaa-4257-eac5-ee28cb9cc525"
      },
      "execution_count": null,
      "outputs": [
        {
          "output_type": "stream",
          "name": "stdout",
          "text": [
            "Index([1128], dtype='int64')\n"
          ]
        }
      ]
    },
    {
      "cell_type": "code",
      "source": [
        "# 인덱스 확인\n",
        "janghak_copy.loc[1128]"
      ],
      "metadata": {
        "colab": {
          "base_uri": "https://localhost:8080/"
        },
        "id": "NiMhdamhmAah",
        "outputId": "9895f19e-147d-4a57-f206-02032c8bd4da"
      },
      "execution_count": null,
      "outputs": [
        {
          "output_type": "execute_result",
          "data": {
            "text/plain": [
              "index                                                   1131\n",
              "date                                              2023-09-06\n",
              "title                  [공통][교외] 춘천시민장학재단 2023년도 하반기 장학생 선발공고\n",
              "content    \\n붙임의 서류를 갖추어 재단법인 춘천시민장학재단의 2023년도 하반기 장학생 선발...\n",
              "Name: 1128, dtype: object"
            ]
          },
          "metadata": {},
          "execution_count": 31
        }
      ]
    },
    {
      "cell_type": "code",
      "source": [
        "janghak_copy"
      ],
      "metadata": {
        "colab": {
          "base_uri": "https://localhost:8080/",
          "height": 597
        },
        "id": "KQqeU48OZmMT",
        "outputId": "6e0865e6-6dac-44a9-f734-6a202ea1c281"
      },
      "execution_count": null,
      "outputs": [
        {
          "output_type": "execute_result",
          "data": {
            "text/plain": [
              "      index        date                                              title  \\\n",
              "0         1  2020-01-02          [공통][교외] 2020-1학기 남정장학재단 장학생 모집 안내(~1/10)   \n",
              "1         2  2020-01-02       [공통] [대출] 2020년 1학기 농촌출신대학생 학자금융자(무이자) 지원 안내   \n",
              "2         3  2020-01-07  [공통][교외] 2020년 상반기 시각장애대학생을 위한 [효명장학사업] 안내(~1/23)   \n",
              "3         7  2020-01-08              [공통] [대출] 2020-1학기 한국장학재단 학자금대출 신청 안내   \n",
              "4         4  2020-01-08         [공통] [대출] 2019년 하반기 천안시 대학생 학자금 대출이자 지원 안내   \n",
              "...     ...         ...                                                ...   \n",
              "1255   1256  2024-03-28              [공통][교내]2024-1 권순한 장학금 장학생 모집안내(~4/5)   \n",
              "1256   1257  2024-03-28  [공통][교내]2024년 Matthew D. Lee & Katherine H. Le...   \n",
              "1257   1258  2024-03-28                [공통][교내]2024년 최언도 장학금 장학생 모집(~4/12)   \n",
              "1258   1260  2024-03-28            [공통][교내]2024-1 윤강로 장학금 장학생 모집 안내(~4/17)   \n",
              "1259   1259  2024-03-28           [공통][교내]2024-1 故장경자 장학금 장학생 모집 안내(~4/17)   \n",
              "\n",
              "                                                content  \\\n",
              "0     \\n[공통][교외] 2020-1학기 남정장학재단 장학생 모집 안내(~1/10)아래와...   \n",
              "1     \\n\\n2020년 1학기 농촌출신대학생 학자금융자(무이자) 지원 안내\\n\\n \\n사...   \n",
              "2     \\n2020년 상반기 시각장애대학생을 위한 [효명장학사업] 안내 실로암시각장애인복지...   \n",
              "3     \\n2020-1학기 한국장학재단 학자금대출 신청 안내\\n \\n1. 신청 및 실행 일...   \n",
              "4     \\n2019년 하반기 천안시 대학생 학자금 대출이자 지원 안내\\n\\n\\n✿ 신청 기...   \n",
              "...                                                 ...   \n",
              "1255  \\n2024년 권순한 장학금 장학생 모집 안내\\n\\n아래와 같이2024년 권순한(스...   \n",
              "1256  \\n2024년Matthew D. Lee & Katherine H. Lee장학금 장학...   \n",
              "1257  \\n2024년 최언도 장학금 장학생 모집 안내\\n\\n아래와 같이2024년 최언도(독...   \n",
              "1258  \\n2024-1윤강로 장학금 장학생 모집 안내\\n\\n아래와 같이2024-1학기 윤강...   \n",
              "1259  \\n2024-1故장경자 장학금 장학생 모집 안내\\n\\n아래와 같이2024-1학기故장...   \n",
              "\n",
              "                                      summarize_content  \n",
              "0     [ 장학생 추천서(붙임파일 참조, 남정장학재단 홈페이지 다운로드 가능, 추천소견 및...  \n",
              "1     [ ※ 1차 신청기간 중 군에 있어 융자신청을 못한 군 제대 복학자의 경우, 재학생...  \n",
              "2     [ 제출서류  1) 1차 서류(실로암시각장애인복지관 홈페이지에서 양식 다운이 가능합...  \n",
              "3     [(1차 등록기간에 대출 실행 시 등록금 전액으로 대출되므로 9학기 이하 수강자의 ...  \n",
              "4     [- 온라인(24일 18시까지 신청 가능) : 천안시 홈페이지 > 분야별 정보 > ...  \n",
              "...                                                 ...  \n",
              "1255  [*타 장학금 수혜내역이 있는 학생의 경우,선발 후 권순한 장학금 수혜액과 합쳐서 ...  \n",
              "1256  [장학금 지원서1부(HUFS Ability다운로드), *선발시 기부자(이덕선 이사장...  \n",
              "1257  [장학금 지원서1부(HUFS Ability다운로드), 아래와 같이2024년 최언도(...  \n",
              "1258  [아래와 같이2024-1학기 윤강로(인도어77)장학금 장학생 모집을 하오니 해당되는...  \n",
              "1259  [아래와 같이2024-1학기故장경자 장학금 장학생 모집을 하오니 해당되는 재학생들의...  \n",
              "\n",
              "[1260 rows x 5 columns]"
            ],
            "text/html": [
              "\n",
              "  <div id=\"df-c8c65175-a1db-4257-ba96-1eedacc76152\" class=\"colab-df-container\">\n",
              "    <div>\n",
              "<style scoped>\n",
              "    .dataframe tbody tr th:only-of-type {\n",
              "        vertical-align: middle;\n",
              "    }\n",
              "\n",
              "    .dataframe tbody tr th {\n",
              "        vertical-align: top;\n",
              "    }\n",
              "\n",
              "    .dataframe thead th {\n",
              "        text-align: right;\n",
              "    }\n",
              "</style>\n",
              "<table border=\"1\" class=\"dataframe\">\n",
              "  <thead>\n",
              "    <tr style=\"text-align: right;\">\n",
              "      <th></th>\n",
              "      <th>index</th>\n",
              "      <th>date</th>\n",
              "      <th>title</th>\n",
              "      <th>content</th>\n",
              "      <th>summarize_content</th>\n",
              "    </tr>\n",
              "  </thead>\n",
              "  <tbody>\n",
              "    <tr>\n",
              "      <th>0</th>\n",
              "      <td>1</td>\n",
              "      <td>2020-01-02</td>\n",
              "      <td>[공통][교외] 2020-1학기 남정장학재단 장학생 모집 안내(~1/10)</td>\n",
              "      <td>\\n[공통][교외] 2020-1학기 남정장학재단 장학생 모집 안내(~1/10)아래와...</td>\n",
              "      <td>[ 장학생 추천서(붙임파일 참조, 남정장학재단 홈페이지 다운로드 가능, 추천소견 및...</td>\n",
              "    </tr>\n",
              "    <tr>\n",
              "      <th>1</th>\n",
              "      <td>2</td>\n",
              "      <td>2020-01-02</td>\n",
              "      <td>[공통] [대출] 2020년 1학기 농촌출신대학생 학자금융자(무이자) 지원 안내</td>\n",
              "      <td>\\n\\n2020년 1학기 농촌출신대학생 학자금융자(무이자) 지원 안내\\n\\n \\n사...</td>\n",
              "      <td>[ ※ 1차 신청기간 중 군에 있어 융자신청을 못한 군 제대 복학자의 경우, 재학생...</td>\n",
              "    </tr>\n",
              "    <tr>\n",
              "      <th>2</th>\n",
              "      <td>3</td>\n",
              "      <td>2020-01-07</td>\n",
              "      <td>[공통][교외] 2020년 상반기 시각장애대학생을 위한 [효명장학사업] 안내(~1/23)</td>\n",
              "      <td>\\n2020년 상반기 시각장애대학생을 위한 [효명장학사업] 안내 실로암시각장애인복지...</td>\n",
              "      <td>[ 제출서류  1) 1차 서류(실로암시각장애인복지관 홈페이지에서 양식 다운이 가능합...</td>\n",
              "    </tr>\n",
              "    <tr>\n",
              "      <th>3</th>\n",
              "      <td>7</td>\n",
              "      <td>2020-01-08</td>\n",
              "      <td>[공통] [대출] 2020-1학기 한국장학재단 학자금대출 신청 안내</td>\n",
              "      <td>\\n2020-1학기 한국장학재단 학자금대출 신청 안내\\n \\n1. 신청 및 실행 일...</td>\n",
              "      <td>[(1차 등록기간에 대출 실행 시 등록금 전액으로 대출되므로 9학기 이하 수강자의 ...</td>\n",
              "    </tr>\n",
              "    <tr>\n",
              "      <th>4</th>\n",
              "      <td>4</td>\n",
              "      <td>2020-01-08</td>\n",
              "      <td>[공통] [대출] 2019년 하반기 천안시 대학생 학자금 대출이자 지원 안내</td>\n",
              "      <td>\\n2019년 하반기 천안시 대학생 학자금 대출이자 지원 안내\\n\\n\\n✿ 신청 기...</td>\n",
              "      <td>[- 온라인(24일 18시까지 신청 가능) : 천안시 홈페이지 &gt; 분야별 정보 &gt; ...</td>\n",
              "    </tr>\n",
              "    <tr>\n",
              "      <th>...</th>\n",
              "      <td>...</td>\n",
              "      <td>...</td>\n",
              "      <td>...</td>\n",
              "      <td>...</td>\n",
              "      <td>...</td>\n",
              "    </tr>\n",
              "    <tr>\n",
              "      <th>1255</th>\n",
              "      <td>1256</td>\n",
              "      <td>2024-03-28</td>\n",
              "      <td>[공통][교내]2024-1 권순한 장학금 장학생 모집안내(~4/5)</td>\n",
              "      <td>\\n2024년 권순한 장학금 장학생 모집 안내\\n\\n아래와 같이2024년 권순한(스...</td>\n",
              "      <td>[*타 장학금 수혜내역이 있는 학생의 경우,선발 후 권순한 장학금 수혜액과 합쳐서 ...</td>\n",
              "    </tr>\n",
              "    <tr>\n",
              "      <th>1256</th>\n",
              "      <td>1257</td>\n",
              "      <td>2024-03-28</td>\n",
              "      <td>[공통][교내]2024년 Matthew D. Lee &amp; Katherine H. Le...</td>\n",
              "      <td>\\n2024년Matthew D. Lee &amp; Katherine H. Lee장학금 장학...</td>\n",
              "      <td>[장학금 지원서1부(HUFS Ability다운로드), *선발시 기부자(이덕선 이사장...</td>\n",
              "    </tr>\n",
              "    <tr>\n",
              "      <th>1257</th>\n",
              "      <td>1258</td>\n",
              "      <td>2024-03-28</td>\n",
              "      <td>[공통][교내]2024년 최언도 장학금 장학생 모집(~4/12)</td>\n",
              "      <td>\\n2024년 최언도 장학금 장학생 모집 안내\\n\\n아래와 같이2024년 최언도(독...</td>\n",
              "      <td>[장학금 지원서1부(HUFS Ability다운로드), 아래와 같이2024년 최언도(...</td>\n",
              "    </tr>\n",
              "    <tr>\n",
              "      <th>1258</th>\n",
              "      <td>1260</td>\n",
              "      <td>2024-03-28</td>\n",
              "      <td>[공통][교내]2024-1 윤강로 장학금 장학생 모집 안내(~4/17)</td>\n",
              "      <td>\\n2024-1윤강로 장학금 장학생 모집 안내\\n\\n아래와 같이2024-1학기 윤강...</td>\n",
              "      <td>[아래와 같이2024-1학기 윤강로(인도어77)장학금 장학생 모집을 하오니 해당되는...</td>\n",
              "    </tr>\n",
              "    <tr>\n",
              "      <th>1259</th>\n",
              "      <td>1259</td>\n",
              "      <td>2024-03-28</td>\n",
              "      <td>[공통][교내]2024-1 故장경자 장학금 장학생 모집 안내(~4/17)</td>\n",
              "      <td>\\n2024-1故장경자 장학금 장학생 모집 안내\\n\\n아래와 같이2024-1학기故장...</td>\n",
              "      <td>[아래와 같이2024-1학기故장경자 장학금 장학생 모집을 하오니 해당되는 재학생들의...</td>\n",
              "    </tr>\n",
              "  </tbody>\n",
              "</table>\n",
              "<p>1260 rows × 5 columns</p>\n",
              "</div>\n",
              "    <div class=\"colab-df-buttons\">\n",
              "\n",
              "  <div class=\"colab-df-container\">\n",
              "    <button class=\"colab-df-convert\" onclick=\"convertToInteractive('df-c8c65175-a1db-4257-ba96-1eedacc76152')\"\n",
              "            title=\"Convert this dataframe to an interactive table.\"\n",
              "            style=\"display:none;\">\n",
              "\n",
              "  <svg xmlns=\"http://www.w3.org/2000/svg\" height=\"24px\" viewBox=\"0 -960 960 960\">\n",
              "    <path d=\"M120-120v-720h720v720H120Zm60-500h600v-160H180v160Zm220 220h160v-160H400v160Zm0 220h160v-160H400v160ZM180-400h160v-160H180v160Zm440 0h160v-160H620v160ZM180-180h160v-160H180v160Zm440 0h160v-160H620v160Z\"/>\n",
              "  </svg>\n",
              "    </button>\n",
              "\n",
              "  <style>\n",
              "    .colab-df-container {\n",
              "      display:flex;\n",
              "      gap: 12px;\n",
              "    }\n",
              "\n",
              "    .colab-df-convert {\n",
              "      background-color: #E8F0FE;\n",
              "      border: none;\n",
              "      border-radius: 50%;\n",
              "      cursor: pointer;\n",
              "      display: none;\n",
              "      fill: #1967D2;\n",
              "      height: 32px;\n",
              "      padding: 0 0 0 0;\n",
              "      width: 32px;\n",
              "    }\n",
              "\n",
              "    .colab-df-convert:hover {\n",
              "      background-color: #E2EBFA;\n",
              "      box-shadow: 0px 1px 2px rgba(60, 64, 67, 0.3), 0px 1px 3px 1px rgba(60, 64, 67, 0.15);\n",
              "      fill: #174EA6;\n",
              "    }\n",
              "\n",
              "    .colab-df-buttons div {\n",
              "      margin-bottom: 4px;\n",
              "    }\n",
              "\n",
              "    [theme=dark] .colab-df-convert {\n",
              "      background-color: #3B4455;\n",
              "      fill: #D2E3FC;\n",
              "    }\n",
              "\n",
              "    [theme=dark] .colab-df-convert:hover {\n",
              "      background-color: #434B5C;\n",
              "      box-shadow: 0px 1px 3px 1px rgba(0, 0, 0, 0.15);\n",
              "      filter: drop-shadow(0px 1px 2px rgba(0, 0, 0, 0.3));\n",
              "      fill: #FFFFFF;\n",
              "    }\n",
              "  </style>\n",
              "\n",
              "    <script>\n",
              "      const buttonEl =\n",
              "        document.querySelector('#df-c8c65175-a1db-4257-ba96-1eedacc76152 button.colab-df-convert');\n",
              "      buttonEl.style.display =\n",
              "        google.colab.kernel.accessAllowed ? 'block' : 'none';\n",
              "\n",
              "      async function convertToInteractive(key) {\n",
              "        const element = document.querySelector('#df-c8c65175-a1db-4257-ba96-1eedacc76152');\n",
              "        const dataTable =\n",
              "          await google.colab.kernel.invokeFunction('convertToInteractive',\n",
              "                                                    [key], {});\n",
              "        if (!dataTable) return;\n",
              "\n",
              "        const docLinkHtml = 'Like what you see? Visit the ' +\n",
              "          '<a target=\"_blank\" href=https://colab.research.google.com/notebooks/data_table.ipynb>data table notebook</a>'\n",
              "          + ' to learn more about interactive tables.';\n",
              "        element.innerHTML = '';\n",
              "        dataTable['output_type'] = 'display_data';\n",
              "        await google.colab.output.renderOutput(dataTable, element);\n",
              "        const docLink = document.createElement('div');\n",
              "        docLink.innerHTML = docLinkHtml;\n",
              "        element.appendChild(docLink);\n",
              "      }\n",
              "    </script>\n",
              "  </div>\n",
              "\n",
              "\n",
              "<div id=\"df-d4a11d5f-d897-4d71-9a72-1e79634e0e06\">\n",
              "  <button class=\"colab-df-quickchart\" onclick=\"quickchart('df-d4a11d5f-d897-4d71-9a72-1e79634e0e06')\"\n",
              "            title=\"Suggest charts\"\n",
              "            style=\"display:none;\">\n",
              "\n",
              "<svg xmlns=\"http://www.w3.org/2000/svg\" height=\"24px\"viewBox=\"0 0 24 24\"\n",
              "     width=\"24px\">\n",
              "    <g>\n",
              "        <path d=\"M19 3H5c-1.1 0-2 .9-2 2v14c0 1.1.9 2 2 2h14c1.1 0 2-.9 2-2V5c0-1.1-.9-2-2-2zM9 17H7v-7h2v7zm4 0h-2V7h2v10zm4 0h-2v-4h2v4z\"/>\n",
              "    </g>\n",
              "</svg>\n",
              "  </button>\n",
              "\n",
              "<style>\n",
              "  .colab-df-quickchart {\n",
              "      --bg-color: #E8F0FE;\n",
              "      --fill-color: #1967D2;\n",
              "      --hover-bg-color: #E2EBFA;\n",
              "      --hover-fill-color: #174EA6;\n",
              "      --disabled-fill-color: #AAA;\n",
              "      --disabled-bg-color: #DDD;\n",
              "  }\n",
              "\n",
              "  [theme=dark] .colab-df-quickchart {\n",
              "      --bg-color: #3B4455;\n",
              "      --fill-color: #D2E3FC;\n",
              "      --hover-bg-color: #434B5C;\n",
              "      --hover-fill-color: #FFFFFF;\n",
              "      --disabled-bg-color: #3B4455;\n",
              "      --disabled-fill-color: #666;\n",
              "  }\n",
              "\n",
              "  .colab-df-quickchart {\n",
              "    background-color: var(--bg-color);\n",
              "    border: none;\n",
              "    border-radius: 50%;\n",
              "    cursor: pointer;\n",
              "    display: none;\n",
              "    fill: var(--fill-color);\n",
              "    height: 32px;\n",
              "    padding: 0;\n",
              "    width: 32px;\n",
              "  }\n",
              "\n",
              "  .colab-df-quickchart:hover {\n",
              "    background-color: var(--hover-bg-color);\n",
              "    box-shadow: 0 1px 2px rgba(60, 64, 67, 0.3), 0 1px 3px 1px rgba(60, 64, 67, 0.15);\n",
              "    fill: var(--button-hover-fill-color);\n",
              "  }\n",
              "\n",
              "  .colab-df-quickchart-complete:disabled,\n",
              "  .colab-df-quickchart-complete:disabled:hover {\n",
              "    background-color: var(--disabled-bg-color);\n",
              "    fill: var(--disabled-fill-color);\n",
              "    box-shadow: none;\n",
              "  }\n",
              "\n",
              "  .colab-df-spinner {\n",
              "    border: 2px solid var(--fill-color);\n",
              "    border-color: transparent;\n",
              "    border-bottom-color: var(--fill-color);\n",
              "    animation:\n",
              "      spin 1s steps(1) infinite;\n",
              "  }\n",
              "\n",
              "  @keyframes spin {\n",
              "    0% {\n",
              "      border-color: transparent;\n",
              "      border-bottom-color: var(--fill-color);\n",
              "      border-left-color: var(--fill-color);\n",
              "    }\n",
              "    20% {\n",
              "      border-color: transparent;\n",
              "      border-left-color: var(--fill-color);\n",
              "      border-top-color: var(--fill-color);\n",
              "    }\n",
              "    30% {\n",
              "      border-color: transparent;\n",
              "      border-left-color: var(--fill-color);\n",
              "      border-top-color: var(--fill-color);\n",
              "      border-right-color: var(--fill-color);\n",
              "    }\n",
              "    40% {\n",
              "      border-color: transparent;\n",
              "      border-right-color: var(--fill-color);\n",
              "      border-top-color: var(--fill-color);\n",
              "    }\n",
              "    60% {\n",
              "      border-color: transparent;\n",
              "      border-right-color: var(--fill-color);\n",
              "    }\n",
              "    80% {\n",
              "      border-color: transparent;\n",
              "      border-right-color: var(--fill-color);\n",
              "      border-bottom-color: var(--fill-color);\n",
              "    }\n",
              "    90% {\n",
              "      border-color: transparent;\n",
              "      border-bottom-color: var(--fill-color);\n",
              "    }\n",
              "  }\n",
              "</style>\n",
              "\n",
              "  <script>\n",
              "    async function quickchart(key) {\n",
              "      const quickchartButtonEl =\n",
              "        document.querySelector('#' + key + ' button');\n",
              "      quickchartButtonEl.disabled = true;  // To prevent multiple clicks.\n",
              "      quickchartButtonEl.classList.add('colab-df-spinner');\n",
              "      try {\n",
              "        const charts = await google.colab.kernel.invokeFunction(\n",
              "            'suggestCharts', [key], {});\n",
              "      } catch (error) {\n",
              "        console.error('Error during call to suggestCharts:', error);\n",
              "      }\n",
              "      quickchartButtonEl.classList.remove('colab-df-spinner');\n",
              "      quickchartButtonEl.classList.add('colab-df-quickchart-complete');\n",
              "    }\n",
              "    (() => {\n",
              "      let quickchartButtonEl =\n",
              "        document.querySelector('#df-d4a11d5f-d897-4d71-9a72-1e79634e0e06 button');\n",
              "      quickchartButtonEl.style.display =\n",
              "        google.colab.kernel.accessAllowed ? 'block' : 'none';\n",
              "    })();\n",
              "  </script>\n",
              "</div>\n",
              "\n",
              "  <div id=\"id_4634b73c-713c-488a-a44b-3a0ace33df71\">\n",
              "    <style>\n",
              "      .colab-df-generate {\n",
              "        background-color: #E8F0FE;\n",
              "        border: none;\n",
              "        border-radius: 50%;\n",
              "        cursor: pointer;\n",
              "        display: none;\n",
              "        fill: #1967D2;\n",
              "        height: 32px;\n",
              "        padding: 0 0 0 0;\n",
              "        width: 32px;\n",
              "      }\n",
              "\n",
              "      .colab-df-generate:hover {\n",
              "        background-color: #E2EBFA;\n",
              "        box-shadow: 0px 1px 2px rgba(60, 64, 67, 0.3), 0px 1px 3px 1px rgba(60, 64, 67, 0.15);\n",
              "        fill: #174EA6;\n",
              "      }\n",
              "\n",
              "      [theme=dark] .colab-df-generate {\n",
              "        background-color: #3B4455;\n",
              "        fill: #D2E3FC;\n",
              "      }\n",
              "\n",
              "      [theme=dark] .colab-df-generate:hover {\n",
              "        background-color: #434B5C;\n",
              "        box-shadow: 0px 1px 3px 1px rgba(0, 0, 0, 0.15);\n",
              "        filter: drop-shadow(0px 1px 2px rgba(0, 0, 0, 0.3));\n",
              "        fill: #FFFFFF;\n",
              "      }\n",
              "    </style>\n",
              "    <button class=\"colab-df-generate\" onclick=\"generateWithVariable('janghak_copy')\"\n",
              "            title=\"Generate code using this dataframe.\"\n",
              "            style=\"display:none;\">\n",
              "\n",
              "  <svg xmlns=\"http://www.w3.org/2000/svg\" height=\"24px\"viewBox=\"0 0 24 24\"\n",
              "       width=\"24px\">\n",
              "    <path d=\"M7,19H8.4L18.45,9,17,7.55,7,17.6ZM5,21V16.75L18.45,3.32a2,2,0,0,1,2.83,0l1.4,1.43a1.91,1.91,0,0,1,.58,1.4,1.91,1.91,0,0,1-.58,1.4L9.25,21ZM18.45,9,17,7.55Zm-12,3A5.31,5.31,0,0,0,4.9,8.1,5.31,5.31,0,0,0,1,6.5,5.31,5.31,0,0,0,4.9,4.9,5.31,5.31,0,0,0,6.5,1,5.31,5.31,0,0,0,8.1,4.9,5.31,5.31,0,0,0,12,6.5,5.46,5.46,0,0,0,6.5,12Z\"/>\n",
              "  </svg>\n",
              "    </button>\n",
              "    <script>\n",
              "      (() => {\n",
              "      const buttonEl =\n",
              "        document.querySelector('#id_4634b73c-713c-488a-a44b-3a0ace33df71 button.colab-df-generate');\n",
              "      buttonEl.style.display =\n",
              "        google.colab.kernel.accessAllowed ? 'block' : 'none';\n",
              "\n",
              "      buttonEl.onclick = () => {\n",
              "        google.colab.notebook.generateWithVariable('janghak_copy');\n",
              "      }\n",
              "      })();\n",
              "    </script>\n",
              "  </div>\n",
              "\n",
              "    </div>\n",
              "  </div>\n"
            ],
            "application/vnd.google.colaboratory.intrinsic+json": {
              "type": "dataframe",
              "variable_name": "janghak_copy",
              "summary": "{\n  \"name\": \"janghak_copy\",\n  \"rows\": 1260,\n  \"fields\": [\n    {\n      \"column\": \"index\",\n      \"properties\": {\n        \"dtype\": \"number\",\n        \"std\": 363,\n        \"min\": 1,\n        \"max\": 1260,\n        \"num_unique_values\": 1259,\n        \"samples\": [\n          76,\n          1031,\n          44\n        ],\n        \"semantic_type\": \"\",\n        \"description\": \"\"\n      }\n    },\n    {\n      \"column\": \"date\",\n      \"properties\": {\n        \"dtype\": \"object\",\n        \"num_unique_values\": 663,\n        \"samples\": [\n          \"2022-02-07\",\n          \"2023-08-11\",\n          \"2023-03-29\"\n        ],\n        \"semantic_type\": \"\",\n        \"description\": \"\"\n      }\n    },\n    {\n      \"column\": \"title\",\n      \"properties\": {\n        \"dtype\": \"string\",\n        \"num_unique_values\": 1249,\n        \"samples\": [\n          \"[\\uacf5\\ud1b5][\\uad50\\ub0b4]2022\\ud559\\ub144\\ub3c4 2\\ud559\\uae30 \\uba74\\ud559\\uc7a5\\ud559\\uae08 \\uc2e0\\uccad \\uc548\\ub0b4\",\n          \"[\\uacf5\\ud1b5][\\uad50\\uc678] JB\\uc120\\ub3c4\\uc0ac\\uc5c5 \\uc721\\uc131\\ubc29\\uc548 \\ud0d0\\uad6c\\uc9c0\\uc6d0\\uc0ac\\uc5c5 \\ucc38\\uac00\\ud300 \\ubaa8\\uc9d1(~7/16)\",\n          \"[\\uacf5\\ud1b5][\\uad50\\uc678] \\uc678\\ubd80\\uc7a5\\ud559\\uc7ac\\ub2e8 \\uc7a5\\ud559\\uc0dd \\uc9c0\\uc6d0 \\uc804 \\uad6d\\uac00\\uc7a5\\ud559\\uae08 \\uc2e0\\uccad\"\n        ],\n        \"semantic_type\": \"\",\n        \"description\": \"\"\n      }\n    },\n    {\n      \"column\": \"content\",\n      \"properties\": {\n        \"dtype\": \"string\",\n        \"num_unique_values\": 1239,\n        \"samples\": [\n          \"\\n1.\\uad6d\\uac00\\uadfc\\ub85c\\uc7a5\\ud559\\uc0dd \\uc120\\ubc1c \\uacb0\\uacfc \\ud655\\uc778 \\uba54\\ub274: 2021. 8. 30(\\uc6d4)\\ubd80\\ud130 \\uc870\\ud68c \\uac00\\ub2a5(\\uc2dc\\uac04\\ud45c \\uc785\\ub825\\uc7409\\uc6d41\\uc77c \\uc790\\uc815\\ubd80\\ud130 \\uac00\\ub2a5\\ud558\\uba70 \\uadfc\\ub85c \\uc804 \\ud574\\ub2f9 \\uadfc\\ub85c\\uc9c0\\uc640 \\uc0ac\\uc804 \\uc870\\uc728 \\ud6c4 \\uadfc\\ub85c \\uc9c4\\ud589 \\ub2e8 \\uadfc\\ub85c \\uc804 \\ubc18\\ub4dc\\uc2dc \\uc2dc\\uac04\\ud45c \\uc785\\ub825 \\uc694\\uccad \\ub4dc\\ub9bc)\\ud55c\\uad6d\\uc7a5\\ud559\\uc7ac\\ub2e8\\uc0ac\\uc774\\ud2b8(http://www.kosaf.go.kr)\\u25b6\\uc7a5\\ud559\\uae08\\u25b6\\uad6d\\uac00\\uadfc\\ub85c \\ubc0f \\ucde8\\uc5c5\\uc5f0\\uacc4 \\uc7a5\\ud559\\uae08\\u25b6\\uad6d\\uac00\\uadfc\\ub85c\\uc7a5\\ud559\\uae08\\u25b6\\uadfc\\ub85c\\uc7a5\\ud559\\uad00\\ub9ac\\u25b6\\ub300\\ud559\\uc790\\uccb4\\uc120\\ubc1c\\uae30\\uc900 \\ubc0f \\uc120\\ubc1c \\ud604\\ud669\\u25b62021\\ub1442\\ud559\\uae30 \\uadfc\\ub85c\\uc720\\ud615'\\ud559\\uae30\\uc911'\\uc73c\\ub85c \\uc120\\ud0dd \\ud6c4 \\uc870\\ud68c(\\uadfc\\ubb34\\uc9c4\\ud589=>\\uc120\\ubc1c)-\\uc120\\ubc1c\\uc790:\\uc120\\ubc1c \\uadfc\\ub85c\\uc9c0 \\ubc0f \\ud574\\ub2f9 \\uadfc\\ub85c\\uc9c0 \\ub2f4\\ub2f9\\uc790 \\uc5f0\\ub77d\\ucc98\\uac00 \\ud45c\\uae30\\ub4282.\\uc2dc\\ud589\\uae30\\uac04: 2021. 9. 1. ~ 2022. 2. 16.-\\uc0c1\\uae30 \\uae30\\uac04 \\ub0b4\\uc5d0\\uc11c \\uadfc\\ub85c\\uc9c0 \\ubc0f \\ud559\\uc0dd \\uc0c1\\ud669\\uc5d0 \\ub530\\ub978 \\uadfc\\ubb34\\uc2dc\\uc791 \\ubc0f \\uc885\\ub8cc\\uc77c \\uc870\\uc815 \\uac00\\ub2a53.\\uadfc\\ub85c\\uc870\\uac74\\uac00.\\uc2dc\\uae09:\\uad50\\ub0b4- 9,000\\uc6d0/\\uad50\\uc678- 11,150\\uc6d0\\ub098.\\ud559\\uae30\\uc911 \\ucd5c\\ub300 \\uadfc\\ub85c\\uac00\\ub2a5\\uc2dc\\uac04:\\uc77c8\\uc2dc\\uac04 \\uc774\\ub0b4/\\uc8fc20\\uc2dc\\uac04 \\uc774\\ub0b4/\\ud559\\uae30\\ub2f9 \\ucd5c\\ub300450\\uc2dc\\uac04 \\uc774\\ub0b4(20\\ub144\\ub3c4 \\ucd5c\\ub300 \\uc2dc\\uac04\\uc73c\\ub85c21\\ub144\\ub3c4 \\ucd5c\\ub300 \\uc2dc\\uac04 \\ubcc0\\ub3d9 \\uc2dc \\ubcc4\\ub3c4 \\uacf5\\uc9c0 \\ud568.)**\\ucf54\\ub85c\\ub098 \\uc0ac\\ud68c\\uc801 \\uac70\\ub9ac \\ub450\\uae30\\uc5d0 \\ub530\\ub978 \\uadfc\\ubb34\\uc2dc\\uac04\\uacfc \\uadfc\\ub85c\\ub294 \\ud574\\ub2f9 \\uae30\\uad00\\uc758 \\uc9c0\\uce68\\uc744 \\ub530\\ub984\\uc608\\ub97c \\ub4e4\\uba74)\\uad50\\ub0b4\\uadfc\\ub85c\\uc9c0\\ub294 \\ubcf8\\uad50 \\uc778\\uc0ac\\ud300\\uc758 \\ucd9c\\ud1f4\\uadfc \\uc2dc\\uac04\\uacfc \\uae30\\uac04 \\uc900\\uc218.\\uad50\\uc678 \\uadfc\\ub85c\\uc9c0 \\uc911 \\ub300\\uc0ac\\uad00 \\ubc0f \\uad6d\\uc81c\\ud611\\ub825\\uae30\\uad00\\uc758 \\uadfc\\ub85c \\ud615\\ud0dc\\uac00 \\uc7ac\\ud0dd\\uadfc\\ub85c\\uc2dc\\uc5d0\\ub294 \\uc7ac\\ud0dd\\uadfc\\ub85c \\uc2e0\\uccad\\uc11c\\ub97c \\ud55c\\uad6d\\uc678\\uad6d\\uc5b4\\ub300\\ud559\\uad50 \\uc7a5\\ud559\\ud300\\uc73c\\ub85c \\uadfc\\ub85c \\uc804 \\uc2b9\\uc778 \\ub4dd\\ud55c \\ud6c4 \\uc7ac\\ud0dd\\uadfc\\ub85c \\uc9c4\\ud589 \\uc774\\uc5d0 \\ub300\\ud55c \\ud55c\\uad6d\\uc7a5\\ud559\\uc7ac\\ub2e8 \\uad00\\ub9ac \\uc9c0\\uce68 \\ucc38\\uc870(\\ud559\\uc0dd\\uc740 \\uc7ac\\ud0dd\\uadfc\\ub85c \\uc77c\\uc77c\\uc5c5\\ubb34\\uc77c\\uc9c0 \\uc791\\uc131,\\uadfc\\ub85c\\uc9c0 \\uae30\\uad00\\uc740 \\ud574\\ub2f9 \\uc77c\\uc77c\\uc5c5\\ubb34\\uc77c\\uc9c0 \\uc218\\uae30\\ucd9c\\uadfc\\ubd80 \\uc5c5\\ub85c\\ub4dc)4.\\uad6d\\uac00\\uadfc\\ub85c\\uc7a5\\ud559\\uc0dd \\uc720\\uc758\\uc0ac\\ud56d\\uac00.\\ucca8\\ubd80\\uc758 \\uc54c\\ub9bc\\uc7a5 \\ubc0f \\uacf5\\uc9c0\\uc0ac\\ud56d(\\uc8fc\\uc694\\uc9c0\\uce68)\\ud544\\ub3c5(21\\ud559\\ub1441\\ud559\\uae30 \\uc790\\ub8cc)* \\uadfc\\ub85c \\ud559\\uc0dd\\uc740 \\ucd9c\\uadfc\\ubd80 \\ub2f9\\uc77c \\uc785\\ub825\\uc774 \\uc6d0\\uce59*\\ucd9c\\uadfc\\ubd803\\uc77c \\uc774\\ub0b4 \\ubbf8\\uc785\\ub825\\uc2dc \\ucd94\\uac00 \\uc785\\ub825\\uc774 \\uc808\\ub300 \\ubd88\\uac00\\ud558\\ubbc0\\ub85c(\\uc785\\ub825\\ub204\\ub77d \\uc0ac\\uc720\\uc11c \\uc81c\\ucd9c \\ud3d0\\uc9c0)\\ubc18\\ub4dc\\uc2dc3\\uc77c \\uc774\\ub0b4 \\ucd9c\\uadfc\\ubd80 \\uc785\\ub825\\ubc14\\ub78d\\ub2c8\\ub2e4.(\\uc774 \\uc0ac\\ud56d\\uc740 \\uadfc\\ub85c\\uc9c0 \\ub2f4\\ub2f9\\uc790 \\uc120\\uc0dd\\ub2d8\\uc758 \\uacbd\\uc6b0\\uc5d0 \\ud574\\ub2f9)(\\ucd9c\\uadfc\\ubd80 \\uc785\\ub825\\uac00\\ub2a5 \\uae30\\uac04 \\ubcc0\\uacbd: 5\\uc77c \\uc774\\ub0b4\\u25b63\\uc77c \\uc774\\ub0b4)\\ub098.\\uc810\\uc2ec\\uc2dc\\uac04\\uc740 \\uadfc\\ub85c\\uc2dc\\uac04 \\ubbf8\\ud3ec\\ud568(\\uad50\\ub0b4\\uadfc\\ub85c12~13\\uc2dc\\ub294 \\uc810\\uc2ec\\uc2dc\\uac04/\\uad50\\uc678\\uadfc\\ub85c\\uc9c0 \\uae30\\uad00\\ubcc4 \\uc0c1\\uc774)\\uc5f0\\uc18d\\uadfc\\ub85c\\uc2dc11\\uc2dc\\uc5d0\\uc11c14\\uc2dc \\uc0ac\\uc774 \\uc911\\uc5d0 \\ucd5c\\uc18c30\\ubd84 \\uc774\\uc0c1\\uc740 \\uc810\\uc2ec\\uc2dc\\uac04\\uc73c\\ub85c \\uc815\\ud558\\uc5ec \\uadfc\\ub85c \\uc2dc\\uac04\\uc5d0\\uc11c \\uc81c\\uc678\\ud560 \\uac83\\ub2e4.\\uc218\\uc5c5\\uc2dc\\uac04\\ud45c\\uc640 \\uc911\\ubcf5\\ub418\\ub294 \\uc2dc\\uac04\\uc5d0\\ub294 \\uc808\\ub300 \\uadfc\\ub85c\\ubd88\\uac00(\\uc784\\uc2dc \\ud734\\uac15\\uc2dc\\uac04\\uc5d0\\ub3c4 \\uadfc\\ub85c\\ubd88\\uac00\\u2013\\ud559\\uc0dd\\uc758 \\uc218\\uc5c5\\uc2dc\\uac04\\ud45c\\ub294 \\uad6d\\uac00\\uadfc\\ub85c\\uad00\\ub9ac \\ud3ec\\ud138(\\ud55c\\uad6d\\uc7a5\\ud559\\uc7ac\\ub2e8 \\ud648\\ud398\\uc774\\uc9c0www.kosaf.go.kr)\\uc5d0 \\ub4f1\\ub85d\\ud574\\uc57c \\ud558\\uba70,\\ud3ec\\ud138\\uc5d0 \\ub4f1\\ub85d\\ub41c \\uc218\\uc5c5\\uc2dc\\uac04\\uacfc \\uac19\\uc740 \\uc2dc\\uac04\\uc5d0\\ub294 \\uadfc\\ub85c \\uc785\\ub825\\uc774 \\ubd88\\uac00\\ud568)**\\ub300\\uc0ac\\uad00 \\ubc0f \\uad6d\\uc81c\\ud611\\ub825\\uae30\\uad00\\uc758 \\uc7ac\\ud0dd\\uadfc\\ub85c\\uc2dc\\uc5d0\\ub294 \\uc774\\uc5d0 \\ub300\\ud55c \\ub0b4\\uc6a9 \\uc0ac\\uc804 \\uc219\\uc9c0 \\uc694\\ud568\\ub77c. 2\\ud559\\uae30 \\uc815\\uaddc \\uc2dc\\uac04\\ud45c\\ub2949. 10(\\uae08)\\uae4c\\uc9c0 \\uc785\\ub825\\ub9c8.\\uc120\\ubc1c\\uae30\\uad00 \\ub2f4\\ub2f9\\uc790\\uc640 \\uac1c\\ubcc4\\uc801\\uc73c\\ub85c \\ud611\\uc758\\ud558\\uc5ec \\uadfc\\ub85c \\uc9c4\\ud589\\ubc14.\\uc7a5\\ud559\\ud300 \\uacf5\\uc9c0 \\ubc0f \\ud55c\\uad6d\\uc7a5\\ud559\\uc7ac\\ub2e8 \\ub9e4\\ub274\\uc5bc\\uc744 \\uc219\\uc9c0\\ud558\\uc9c0 \\uc54a\\uc544 \\ubc1c\\uc0dd\\ud558\\ub294 \\ubd88\\uc774\\uc775\\uc740 \\ud559\\uc0dd \\ubcf8\\uc778\\uc774 \\uac10\\uc218\\ud558\\uc5ec\\uc57c \\ud558\\ubbc0\\ub85c \\ucd9c\\uadfc\\ubd80 \\uad00\\ub9ac \\ubc0f \\uc81c\\ucd9c \\uad00\\ub828 \\uc0ac\\ud56d \\uaf3c\\uaf3c\\ud558\\uac8c \\ud655\\uc778\\ud560 \\uac83.\\uc0ac.\\uc120\\ubc1c\\uc790 \\uba85\\ub2e8 \\ub4f1 \\uc120\\ubc1c \\uacb0\\uacfc\\ub294 \\uac1c\\uc778\\uc815\\ubcf4\\ubcf4\\ud638 \\uad00\\ub828 \\ubbfc\\uc6d0 \\uad00\\uacc4\\ub85c \\uacf5\\uac1c\\uac00 \\ubd88\\uac00\\ud558\\uc5ec \\uac1c\\ubcc4 \\ud1b5\\ubcf4\\ud558\\uc624\\ub2c8 \\uc774\\uc810 \\uc591\\ud574\\ubc14\\ub78d\\ub2c8\\ub2e4.\\uc544.\\ube44\\ub300\\uba74/\\ub179\\ud654\\uac15\\uc758 \\ud559\\uc5c5\\uc2dc\\uac04\\ud45c\\uc5d0 \\uc2dc\\uac04\\uc774 \\ubc30\\uc815\\ub418\\uc5b4 \\uc788\\uc744 \\uacbd\\uc6b0 \\ud574\\ub2f9 \\uc2dc\\uac04 \\uadfc\\ub85c \\ubd88\\uac00.\\ubcf8\\uc778\\uc758 \\uc21c\\uc218 \\uacf5\\uac15\\uc2dc\\uac04\\ub9cc \\uadfc\\ub85c\\ub85c \\uc778\\uc815 \\ub429\\ub2c8\\ub2e4.\\ucc28.\\uadfc\\ub85c\\uc7a5\\ud559\\uc0dd\\ub4e4\\uc740 \\uadfc\\ub85c\\uc7a5\\ud559\\uc0dd \\uc0ac\\uc804 \\uc900\\ube44\\uc0ac\\ud56d\\uadfc\\ub85c\\ud559\\uc0dd:\\ud65c\\ub3d9 \\uc2dc\\uc791\\uc804 \\uc11c\\uc57d\\uc11c \\ub3d9\\uc758(\\ud55c\\uad6d\\uc7a5\\ud559\\uc7ac\\ub2e8 \\ubcc4\\ucca83),\\uc0ac\\uc774\\ubc84\\uc624\\ub9ac\\uc5d4\\ud14c\\uc774\\uc158\\uc218\\uac15,\\uad50\\uc218\\uc774\\uc218\\ubcf4\\uace0\\uc11c \\uc81c\\ucd9c \\ubc0f \\uc5c5\\ubb34\\uc2a4\\ucf00\\uc974 \\ub4f1\\ub85d \\ud544\\uc218(\\uadfc\\ub85c\\uc9c0\\uc640 \\uc870\\uc728 \\ud6c4)\\uadfc\\ub85c4\\uc77c \\ud6c4 \\uadfc\\ub85c\\uc9c0\\ud3c9\\uac00\\uadfc\\ub85c\\uc9c0 \\ub2f4\\ub2f9\\uc790:\\uad50\\uc721\\ub3d9\\uc601\\uc0c1 \\uc2dc\\uccad(\\ud55c\\uad6d\\uc7a5\\ud559\\uc7ac\\ub2e8 \\ud3ec\\ud138 \\ub85c\\uae34->\\uad6d\\uac00\\uadfc\\ub85c\\uc7a5\\ud559\\uae08->\\uad50\\uc721\\ub3d9\\uc601\\uc0c1*\\uadfc\\ub85c4\\uc77c \\uc774\\ub0b4 \\uadfc\\ub85c\\uc7a5\\ud559\\uc0dd\\ud3c9\\uac00 \\uc694\\ud568\\u203b\\ubd99\\uc784\\uc758 \\uc54c\\ub9bc\\uc7a5 \\ubc0f \\uc548\\ub0b4\\uc0ac\\ud56d\\uc744 \\ubc18\\ub4dc\\uc2dc \\uc219\\uc9c0\\ud558\\uc2dc\\uae30 \\ubc14\\ub78d\\ub2c8\\ub2e4.\\uae30\\ud0c0 \\uad81\\uae08\\ud55c \\uc0ac\\ud56d\\uc740 \\uc5f0\\ub77d\\ubc14\\ub78d\\ub2c8\\ub2e4. (02-2173-2136)<\\ucd5c\\uadfc \\ucf54\\ub85c\\ub098-19\\ubc14\\uc774\\ub7ec\\uc2a4 \\uad00\\ub828,\\ub2e4\\uc591\\ud55c \\ubb38\\uc758\\uac00 \\uc788\\uc2b5\\ub2c8\\ub2e4.>1.\\uadfc\\ub85c\\uc778\\uc815\\uc5ec\\ubd80-\\uadfc\\ub85c\\uc7a5\\ud559\\uc0dd\\uc740 \\ubc18\\ub4dc\\uc2dc \\uadfc\\ub85c\\uc9c0\\uad00\\ub9ac\\uc790(\\ub610\\ub294 \\ub2f4\\ub2f9\\uc790)\\uac00 \\uadfc\\ud0dc\\uad00\\ub9ac\\ud560 \\uc218 \\uc788\\uc73c\\uba70,\\ubc30\\uc815\\ub41c \\uadfc\\ub85c\\uc9c0\\uc5d0\\uc11c \\uadfc\\ub85c\\ud558\\uc5ec\\uc57c \\ud569\\ub2c8\\ub2e4.\\uc7ac\\ud0dd\\uadfc\\ubb34,\\uc628\\ub77c\\uc778 \\uadfc\\ub85c,\\uc6d0\\uaca9 \\uad00\\ub9ac \\ub4f1 \\uadfc\\ub85c\\uc7a5\\ud559\\uc0dd\\uc758 \\uadfc\\ud0dc\\uad00\\ub9ac\\uac00 \\ubd88\\uac00\\ub2a5\\ud55c \\uacbd\\uc6b0 \\uadfc\\ub85c\\uc2dc\\uac04 \\ubd88\\uc778\\uc815\\ub428\\uc744 \\uc548\\ub0b4\\ub4dc\\ub9bd\\ub2c8\\ub2e4.(\\ub2e8,\\ub300\\uc0ac\\uad00 \\ubc0f \\uad6d\\uc81c\\ud611\\ub825\\uae30\\uad00 \\uc608\\uc678)(\\uc608-\\uadfc\\ub85c\\uc9c0\\ub2f4\\ub2f9\\uc790\\uc758 \\uc7ac\\ud0dd\\uadfc\\ubb34,\\uadfc\\ub85c\\uc9c0 \\ud3d0\\uc1c4 \\ub4f1\\uc774 \\ubc1c\\uc0dd\\ud560 \\uacbd\\uc6b0 \\uad6d\\uac00\\uadfc\\ub85c\\uc7a5\\ud559\\uc0dd\\ub3c4 \\uadfc\\ub85c\\ubd88\\uac00.\\uad6d\\uac00\\uadfc\\ub85c\\uc7a5\\ud559\\uc0dd\\uc758 \\uc7ac\\ud0dd\\uadfc\\ubb34,\\uc628\\ub77c\\uc778 \\uadfc\\ub85c \\ub4f1 \\ubc30\\uc815\\ub41c \\uadfc\\ub85c\\uc9c0\\ub97c \\ubc97\\uc5b4\\ub098\\uc11c \\uadfc\\ub85c\\ubd88\\uac00.\\ub4f1)2.\\ucf54\\ub85c\\ub098-19\\ubc14\\uc774\\ub7ec\\uc2a4 \\uad00\\ub828 \\uc790\\uac00\\uaca9\\ub9ac\\uc790/\\uc720\\uc99d\\uc0c1\\uc790-\\ucf54\\ub85c\\ub098-19\\ubc14\\uc774\\ub7ec\\uc2a4 \\uad00\\ub828\\uc790\\uc758 \\uacbd\\uc6b0(\\uc790\\uac00\\uaca9\\ub9ac,\\uc720\\uc99d\\uc0c1 \\ub4f1)\\uc228\\uae30\\uc9c0 \\ub9c8\\uc2dc\\uace0 \\uc5f0\\ub77d\\ubc14\\ub78d\\ub2c8\\ub2e4.-\\uc790\\uac00\\uaca9\\ub9ac\\ub85c \\uc778\\ud558\\uc5ec \\uadfc\\ub85c\\ud558\\uc9c0 \\ubabb\\ud558\\uc600\\uc744 \\uacbd\\uc6b0 \\uc774\\uc5d0 \\ub300\\ud55c \\uadfc\\ub85c\\uc7a5\\ud559\\uae08\\uc740 \\uc9c0\\uae09\\ub418\\uc9c0 \\uc54a\\uc2b5\\ub2c8\\ub2e4.-\\ucf54\\ub85c\\ub098-19\\ubc14\\uc774\\ub7ec\\uc2a4 \\uad00\\ub828 \\uc99d\\uc0c1\\uc774 \\uc788\\uc744 \\uc2dc \\uc989\\uc2dc \\uc9c8\\ubcd1\\uad00\\ub9ac\\ubcf8\\ubd80 \\ucf5c\\uc13c\\ud1301339\\uc5d0 \\uc0c1\\ub2f4\\ubc14\\ub78d\\ub2c8\\ub2e4.3.\\uadfc\\ub85c\\uc2dc\\uc791\\uc77c \\uc900\\uc218\\uc5ec\\ubd80-\\uadfc\\ub85c\\uc2dc\\uc791\\uc77c\\uc740 \\ubc18\\ub4dc\\uc2dc \\ubaa8\\ub450\\uac00 \\ub3d9\\uc77c\\ud558\\uac8c \\uc2dc\\uc791\\ud558\\ub294 \\uac83\\uc774 \\uc544\\ub2d9\\ub2c8\\ub2e4.\\uadfc\\ub85c\\uc9c0\\uc640 \\ud559\\uc0dd \\uc0c1\\ud638 \\ud611\\uc758 \\ud558\\uc5d0 \\uc5f0\\uae30 \\uac00\\ub2a5\\ud558\\uc624\\ub2c8 \\ubc29\\ubb38\\uc790\\uac00 \\ub9ce\\uc740 \\uadfc\\ub85c\\uc9c0 \\ub4f1 \\uc704\\ud5d8\\uc694\\uc18c\\uac00 \\uc788\\ub2e4\\uace0 \\ud310\\ub2e8\\ub418\\ub294 \\uadfc\\ub85c\\uc9c0\\uc640 \\uc0ac\\uc804\\uc5d0 \\uc870\\uc728\\ubc14\\ub78d\\ub2c8\\ub2e4.4.\\ucf54\\ub85c\\ub098-19\\ubc14\\uc774\\ub7ec\\uc2a4 \\uc704\\ud5d8\\uc9c0\\uc5ed \\ubc29\\ubb38\\uc774\\ub825\\uc774 \\uc788\\ub294 \\ud559\\uc0dd-\\uadfc\\ub85c \\uc2dc\\uc791 \\uc804 \\ubc18\\ub4dc\\uc2dc \\uadfc\\ub85c\\uc9c0 \\ub2f4\\ub2f9\\uc790\\ub2d8\\uaed8 \\uc54c\\ub9ac\\uace0 \\uadfc\\ub85c \\uc9c4\\ud589 \\ud611\\uc758 \\ubc14\\ub78d\\ub2c8\\ub2e4.\\ubaa8\\ucabc\\ub85d \\uc608\\ubc29\\uc5d0 \\ud798\\uc368\\uc8fc\\uc2dc\\uae38 \\ubc14\\ub77c\\uba70,\\uc704\\uc640 \\uac19\\uc740 \\uc0c1\\ud669 \\ubc1c\\uc0dd \\uc2dc \\uc989\\uc2dc \\uc5f0\\ub77d\\ubc14\\ub78d\\ub2c8\\ub2e4.\\ubd99\\uc784:1. 2021-2\\uad6d\\uac00\\uadfc\\ub85c \\uc54c\\ub9bc\\uc7a5(\\uc548\\uc804\\uad50\\uc721\\uc790\\ub8cc \\ubc0f \\uad50\\uc721\\uc774\\uc218\\uc11c \\uc591\\uc2dd)\\uac011\\ubd80(21-1\\ud559\\uae30 \\ub0b4\\uc6a9 \\ub3d9\\uc77c)2.\\ud55c\\uad6d\\uc7a5\\ud559\\uc7ac\\ub2e8 \\uc7a5\\ud559\\uc0dd \\uac00\\uc774\\ub4dc\\ubd81(21-1\\ud559\\uae30 \\uc790\\ub8cc2\\ud559\\uae30\\uc640 \\ub3d9\\uc77c \\ud568.)\\n\",\n          \"\\n\\n\\uc544\\ub798\\uc640 \\uac19\\uc774 2021-1\\ud559\\uae30 \\ubbf8\\ub798\\uc758 \\ub3d9\\ubc18\\uc790\\uc7ac\\ub2e8 \\uc2e0\\uaddc\\uc7a5\\ud559\\uc0dd \\ubaa8\\uc9d1\\uc548\\ub0b4\\ub97c \\ud558\\ub2c8 \\uc678\\ub300 \\ud559\\uc0dd\\ub4e4\\uc758 \\ub9ce\\uc740 \\uc9c0\\uc6d0 \\ubc14\\ub78d\\ub2c8\\ub2e4.\\n\\n- \\uc544 \\ub798 -\\n\\n1. \\uc7ac\\ub2e8\\uba85: \\ubbf8\\ub798\\uc758 \\ub3d9\\ubc18\\uc790\\uc7ac\\ub2e8\\n\\n2. \\uc7a5\\ud559\\uae08\\uc561: \\ub4f1\\ub85d\\uae08 \\uc804\\uc561(\\ud0c0\\uc7a5\\ud559\\uae08\\uacfc \\uc911\\ubcf5\\uc218\\ud61c \\ubd88\\uac00)\\n\\n3. \\uc9c0\\uc6d0\\uc790\\uaca9(\\uac00~\\ub77c\\ud56d\\ubaa9\\uc744 \\ubaa8\\ub450 \\ucda9\\uc871\\ud574\\uc57c \\ud568)\\n \\uac00.\\uc11c\\uc6b8\\ucea0\\ud37c\\uc2a4 \\uc7ac\\ud559\\uc0dd(\\ucd08\\uacfc\\ud559\\uae30, \\ud734\\ud559\\uc0dd \\ubc0f \\ud734\\ud559\\uc608\\uc815\\uc790\\uc9c0\\uc6d0\\ubd88\\uac00)\\n *\\ub4f1\\ub85d \\ud6c4 \\ud734\\ud559\\ud558\\ub294 \\ud559\\uc0dd\\uc740 \\uc790\\uaca9 \\uc0c1\\uc2e4 \\ub428.\\n \\ub098. \\uc778\\ubb38 \\ubc0f \\uc0c1\\uacbd\\uacc4\\uc5f4 \\uc81c1\\uc804\\uacf5\\uc790\\n \\ub2e4. 20-2\\ud559\\uae30 \\ud3c9\\uc810 \\ubc0f \\ubcf8\\uad50 \\uc804\\uccb4\\ud3c9\\uc810\\uc774 3.5/4.5 \\uc774\\uc0c1\\uc778 \\ud559\\uc0dd\\n \\ub77c. 20-2\\ud559\\uae30\\ud55c\\uad6d\\uc7a5\\ud559\\uc7ac\\ub2e8 \\uc0b0\\uc815 \\uae30\\uc900 \\uc18c\\ub4dd\\ubd84\\uc704 7\\ubd84\\uc704 \\uc774\\ud558\\uc778 \\ud559\\uc0dd\\n\\n4. \\uc9c0\\uc6d0\\uc11c\\ub958\\n \\uac00. \\uc7a5\\ud559\\uae08 \\uc2e0\\uccad\\uc11c(\\ubd99\\uc784\\ud30c\\uc77c)\\n \\ub098. \\ubcf8\\uad50\\uc131\\uc801\\uc99d\\uba85\\uc11c \\uc6d0\\ubcf8 1\\ubd80\\n \\ub2e4. \\ubcf8\\uad50\\uc7ac\\ud559\\uc99d\\uba85\\uc11c \\uc6d0\\ubcf8 1\\ubd80\\n \\ub77c. \\ud55c\\uad6d\\uc7a5\\ud559\\uc7ac\\ub2e8 \\uc18c\\ub4dd\\ubd84\\uc704\\ud655\\uc778\\uc11c 1\\ubd80\\n \\ub9c8. \\uc8fc\\ubbfc\\ub4f1\\ub85d\\ub4f1\\ubcf8 1\\ubd80\\n\\n5. \\uc81c\\ucd9c\\uae30\\uac04: 2021. 2. 4(\\ubaa9) \\uc624\\uc804 11\\uc2dc\\n\\n6. \\uc81c\\ucd9c\\ucc98:\\ub4f1\\uae30\\uc6b0\\ud3b8 \\uc811\\uc218\\n02450 \\uc11c\\uc6b8\\uc2dc \\ub3d9\\ub300\\ubb38\\uad6c \\uc774\\ubb38\\ub85c 107 \\n \\ud55c\\uad6d\\uc678\\ub300\\uad6d\\uc81c\\ud559\\uc0ac 101\\ud638,\\uc7a5\\ud559\\ud300 (02-2173-2795)\\n\\n\\n7. \\uc720\\uc758\\uc0ac\\ud56d \\n \\uac00. \\uc7a5\\ud559\\uc0dd\\uc740 \\ud559\\uae30\\ub2f9 \\ucd5c\\uc18c 12\\ud559\\uc810 \\uc774\\uc0c1 \\uc2e0\\uccad\\ud574\\uc57c \\ud568\\n \\ub098. \\uc7ac\\ub2e8\\uc758 \\uc694\\uccad\\uc774 \\uc788\\uc744 \\uc2dc \\uc7ac\\ub2e8 \\ud589\\uc0ac\\uc5d0 \\ucc38\\uc11d\\ud574 \\ubcf8\\uc778\\uc758 \\uc218\\ud61c \\uc0ac\\ub840 \\ub4f1\\uc744 \\ubc1c\\ud45c\\ud560 \\uc218 \\uc788\\uc74c.\\n \\ub2e4. \\ud6c4\\uc6d0\\uae30\\uc5c5/\\ud6c4\\uc6d0\\uc778\\uc5d0\\uac8c \\ubcf4\\uace0\\uc790\\ub8cc\\ub85c \\uc0ac\\uc6a9\\ud560 \\uac10\\uc0ac\\ud3b8\\uc9c0(MS\\uc6cc\\ub4dc)\\uc640 \\uc7a5\\ud559\\uc99d\\uc11c \\uc804\\ub2ec\\uc2dd \\uc0ac\\uc9c4\\uc790\\ub8cc \\ub4f1\\uc744 \\uc81c\\ucd9c\\ud574\\uc57c \\ud568\\n \\n\\n\\n\\n\",\n          \"\\n \\ucf54\\ub85c\\ub09819\\ub85c \\uc778\\ud55c \\ud2b9\\ubcc4\\uadfc\\ub85c \\uc7a5\\ud559\\uc0dd\\uc744 \\uc544\\ub798\\uc640 \\uac19\\uc774 \\ubaa8\\uc9d1\\ud558\\ub2c8 \\uad00\\uc2ec\\uc788\\ub294 \\ud559\\uc0dd\\ub4e4\\uc758 \\uc2e0\\uccad\\uc744 \\ubc14\\ub78d\\ub2c8\\ub2e4.- \\uc544    \\ub798 -1. \\uc2e0\\uccad \\uc790\\uaca9\\uac00. \\uc7ac\\ub2e8\\uc73c\\ub85c\\ubd80\\ud130 \\ud574\\ub2f9\\ud559\\uc0dd\\uc774\\ub77c\\ub294 \\u2018\\ubb38\\uc790\\u2019\\ub97c \\ubc1b\\uc740\\uc790\\ub098. \\uc7ac\\ub2e8\\uc73c\\ub85c\\ubd80\\ud130 \\ud574\\ub2f9\\ud559\\uc0dd\\uc774\\ub77c\\ub294 \\u2018\\ubb38\\uc790\\u2019\\ub97c \\ubc1b\\uc9c0 \\uc54a\\uc740\\uc790 \\uc911 \\uac00\\uacc4\\uac00\\ub9ce\\uc774\\uace4\\ub780\\ud558\\ub2e4\\uace0 \\uc0dd\\uac01\\ud558\\ub294 \\uc790- \\uc7ac\\ub2e8 \\ud648\\ud398\\uc774\\uc9c0\\uc5d0 \\uc811\\uc18d\\ud558\\uc5ec 2021\\ub144 4\\uc6d4 30(\\uae08) 18\\uc2dc \\uae4c\\uc9c0 \\uac01\\uc885 \\uac00\\uacc4\\uace4\\ub780\\uc744 \\uc99d\\uba85\\ud560 \\uc218 \\uc788\\ub294 \\uc11c\\ub958 \\uc5c5\\ub85c\\ub4dc \\ud560 \\uac83\\u203b \\uacf5\\ud1b5\\uc0ac\\ud56d : \\uc2e0\\uccad\\uc11c(\\ucca8\\ubd80\\uc11c\\ub958) \\uc791\\uc131\\ud558\\uc5ec 2021\\ub144 4\\uc6d4 30(\\uae08) 16\\uc2dc30\\ubd84 \\uae4c\\uc9c0 \\uae00\\ub85c\\ubc8c\\ucea0\\ud37c\\uc2a4 \\ud559\\uc0dd\\uc9c0\\uc6d0\\ud300\\uc5d0 \\uc9c1\\uc811 \\uc81c\\ucd9c \\ud560 \\uac83(\\ub2e8, \\uc6b0\\ud3b8 \\uc811\\uc218 \\uac00\\ub2a5\\ud558\\uba70 4\\uc6d430\\uc77c(\\uae08) \\uae4c\\uc9c0 \\ub3c4\\ucc29\\ud558\\uc5ec\\uc57c \\ud568)2. \\uc120\\ubc1c \\uae30\\uc900\\uac00. 0\\uc21c\\uc704 : \\uc7ac\\ub2e8\\uc73c\\ub85c\\ubd80\\ud130 \\ud574\\ub2f9\\ud559\\uc0dd\\uc774\\ub77c\\ub294 \\ubb38\\uc790\\ub97c \\ubc1b\\uc740 \\uc790(\\uc774 \\uacbd\\uc6b0\\ub3c4\\\"2-\\uac00\\\", \\\"2-\\ub098\\\", 2-\\ub2e4\\\" \\uae30\\uc900\\uc5d0 \\uc758\\ud574 \\uc120\\ubc1c\\ud568)\\ub098. 1\\uc21c\\uc704 : \\ubd80\\ubaa8\\uc758 \\uc2e4\\uc9c1 \\ubc0f \\ud3d0\\uc5c5\\ub2e4. 2\\uc21c\\uc704 : \\uc9c1\\uc804\\ud559\\uae30 \\ud559\\uc5c5\\uc131\\uc801\\ub77c. 3\\uc21c\\uc704 : \\uae30\\ud0c0 \\uac00\\uacc4 \\uace4\\ub780\\uc744 \\uc99d\\uba85\\ud560 \\uc218 \\uc788\\ub294 \\uac01\\uc885 \\uc11c\\ub9583. \\ucc38\\uace0\\uc0ac\\ud56d- \\ud3d0\\uc5c5 \\ubc0f \\uc2e4\\uc9c1 \\uc778\\uc815 \\uae30\\uac04 : 2020.01.20.~2021.04.30. - \\ubcf8\\uc778 \\ud3d0\\uc5c5 \\ubc0f \\uc2e4\\uc9c1 \\uc81c\\uc678- \\uc7a5\\ud559\\uae08 \\uc2dc\\uae09 : \\uad50\\ub0b4 9,000\\uc6d0 / \\uad50\\uc678 11,150\\uc6d0(\\uae30\\uc874 \\uad6d\\uac00\\uadfc\\ub85c\\uc7a5\\ud559\\uae08 \\uc2dc\\uae09\\uacfc \\ub3d9\\uc77c\\ud568)- \\uc120\\ubc1c \\ud655\\uc815 : 2021\\ub144 5\\uc6d4 \\uc911(\\uc7a5\\ud559 \\uacf5\\uc9c0 \\uc0ac\\ud56d \\ubc0f \\ubb38\\uc790 \\uba54\\uc2dc\\uc9c0\\ub85c \\uc548\\ub0b4 \\uc608\\uc815)- \\uadfc\\ubb34 \\uae30\\uac04 : 2021.05\\uc6d4(\\ub0a0\\uc9dc \\ubbf8\\uc815)~2021.09\\uc6d4.4. \\uc720\\uc758\\uc0ac\\ud56d(\\ucca8\\ubd80\\ub41c \\ub9e4\\ub274\\uc5bc \\ubc18\\ub4dc\\uc2dc \\uc219\\uc9c0\\ud560 \\uac83)-\\uad6d\\ubbfc\\uad8c\\uc775\\uc704\\uc6d0\\ud68c\\uc5d0\\uc11c \\uacf5\\uacf5\\uc7ac\\uc815 \\ubd80\\uc815\\uc218\\uae09 \\ubc29\\uc9c0\\ub97c \\uc704\\ud55c \\u300c\\uacf5\\uacf5\\uc7ac\\uc815\\ud658\\uc218\\ubc95\\u300d\\uc744 \\uc2dc\\ud589\\ud558\\uc600\\uc73c\\uba70 2020\\ub144 1\\uc6d4 1\\uc77c \\uc774\\ud6c4 \\ub300\\ud559\\uc0dd \\uadfc\\ub85c\\uc7a5\\ud559\\uc0ac\\uc5c5 \\uc7a5\\ud559\\uae08\\uc774 \\uc9c0\\uae09\\ub41c \\uc0ac\\ud56d\\uc5d0 \\uc801\\uc6a9\\ub418\\uc5c8\\uc2b5\\ub2c8\\ub2e4. \\uc774\\uc5d0 \\ub530\\ub77c \\ud5c8\\uc704\\uadfc\\ub85c \\ubc0f \\ub300\\ub9ac\\uadfc\\ub85c \\uc2dc \\ud658\\uc218\\uae08\\uc561(\\ubd80\\uc815\\uc774\\uc775+\\uc774\\uc790+\\uc81c\\uc7ac\\ubd80\\uac00\\uae08+\\uac00\\uc0b0\\uae08)\\uc774 \\ubc1c\\uc0dd\\ud558\\ubbc0\\ub85c \\uc7a5\\ud559\\uc0dd \\ubd80\\uc815\\uadfc\\ub85c\\uac00 \\ubc1c\\uc0dd\\ud558\\uc9c0 \\uc54a\\ub3c4\\ub85d \\uc720\\uc758\\ubc14\\ub78c.-\\uc218\\uc5c5\\uc2dc\\uac04\\ud45c\\uc640 \\uc911\\ubcf5\\ub41c \\uadfc\\ub85c\\uc2dc\\uac04\\uc5d0\\ub294 \\uc808\\ub300 \\uadfc\\ub85c \\ubd88\\uac00(\\ube44\\ub300\\uba74 \\uc218\\uc5c5 \\uc2dc\\uac04\\ub3c4 \\ub300\\uba74 \\uc218\\uc5c5\\uc2dc\\uac04\\uacfc \\ub3d9\\uc77c\\ud558\\uac8c \\uc801\\uc6a9\\ub418\\uba70 \\uc774\\ub97c \\uc5b4\\uae38 \\uacbd\\uc6b0 \\ubd80\\uc815\\uadfc\\ub85c\\ub85c \\uac04\\uc8fc\\ud568)- \\ud559\\uc801 \\uc0c1\\ud0dc\\uac00 \\u201c\\uc7ac\\ud559\\u201d\\uc5d0\\uc11c \\ud734\\ud559, \\uc790\\ud1f4, \\uc878\\uc5c5 \\ub4f1\\uc73c\\ub85c \\ubcc0\\ub3d9\\ub420 \\uacbd\\uc6b0 \\uadfc\\ub85c \\ubd88\\uac00\\u203b \\ud559\\uc801\\uc774 \\ubcc0\\ub3d9\\ub420 \\uacbd\\uc6b0 \\ubcc0\\ub3d9 \\ub2f9\\uc77c\\uc758 \\ud65c\\ub3d9\\uae4c\\uc9c0\\ub9cc \\uc778\\uc815\\u203b \\ud734\\ud559 \\uc2dc \\ud734\\ud559 \\uc77c\\uc790 \\uc774\\ud6c4 \\uadfc\\ub85c\\ub294 \\uc778\\uc815\\uc774 \\ub418\\uc9c0 \\uc54a\\uc2b5\\ub2c8\\ub2e4.\\u203b \\uc790\\ud1f4 \\ubc0f \\uc81c\\uc801 \\uc2dc \\ud574\\ub2f9 \\uc77c\\uc790 \\uc774\\ud6c4 \\uadfc\\ub85c\\uac00 \\uc778\\uc815\\ub418\\uc9c0 \\uc54a\\uc2b5\\ub2c8\\ub2e4.\\u203b \\ud574\\uc678 \\ucd9c\\uc785\\uad6d \\uae30\\uac04, \\ubcd1\\uc6d0\\uc9c4\\ub8cc \\uae30\\uac04, \\uc878\\uc5c5 \\ud6c4\\uc5d0\\ub294 \\uadfc\\ub85c\\uac00 \\uc778\\uc815\\ub418\\uc9c0 \\uc54a\\uc2b5\\ub2c8\\ub2e4.\\u203b \\uadfc\\ub85c\\uac00 \\uc778\\uc815\\ub418\\uc9c0 \\uc54a\\ub294 \\uae30\\uac04\\uc5d0 \\uadfc\\ub85c\\uc7a5\\ud559\\uae08\\uc774 \\uc785\\uae08 \\ub418\\uc5c8\\uc744 \\uc2dc, \\ud658\\uc218 \\ucc98\\ub9ac\\ub429\\ub2c8\\ub2e4.5. \\ubb38\\uc758: \\ud559\\uc0dd\\uc9c0\\uc6d0\\ud300 \\uad6d\\uac00\\uadfc\\ub85c \\ub2f4\\ub2f9(031-330-4034)\\ubd99\\uc784 1. \\ud2b9\\ubcc4\\uadfc\\ub85c\\uc7a5\\ud559\\uae08 \\ud559\\uc0dd \\uc2e0\\uccad \\ub9e4\\ub274\\uc5bc(\\ud55c\\uad6d\\uc7a5\\ud559\\uc7ac\\ub2e8)2. \\ucf54\\ub85c\\ub09819 \\ud2b9\\ubcc4\\uad6d\\uac00\\uadfc\\ub85c\\uc7a5\\ud559\\uae08 \\uc2e0\\uccad\\uc11c(\\ud559\\uc0dd\\uc9c0\\uc6d0\\ud300) 2021. 04. 26\\ud559\\uc0dd\\uc9c0\\uc6d0\\ud300(\\uae00\\ub85c\\ubc8c) \\n\"\n        ],\n        \"semantic_type\": \"\",\n        \"description\": \"\"\n      }\n    },\n    {\n      \"column\": \"summarize_content\",\n      \"properties\": {\n        \"dtype\": \"object\",\n        \"semantic_type\": \"\",\n        \"description\": \"\"\n      }\n    }\n  ]\n}"
            }
          },
          "metadata": {},
          "execution_count": 33
        }
      ]
    },
    {
      "cell_type": "markdown",
      "source": [
        "## 학사"
      ],
      "metadata": {
        "id": "fwp0sqknZ4yC"
      }
    },
    {
      "cell_type": "markdown",
      "source": [
        "### 1차 완성 _ 오류 개선X (영어등)"
      ],
      "metadata": {
        "id": "FwZoIET0GDA3"
      }
    },
    {
      "cell_type": "markdown",
      "source": [
        "- 2 / 621\n",
        "\n",
        "- haksa_copy.loc[115]\n",
        "  - [서울] 강의실 호실 안내, Summarizer error: object dtype is not supported by sparse matrices\n",
        "\n",
        "- haksa_copy.loc[133]\n",
        "  - 2021년 1학기 EU융합전공 개편/신설 안내 (카드뉴스), Summarizer error: object dtype is not supported by sparse matrices"
      ],
      "metadata": {
        "id": "JlNKvvtYemkb"
      }
    },
    {
      "cell_type": "code",
      "source": [
        "haksa_copy"
      ],
      "metadata": {
        "colab": {
          "base_uri": "https://localhost:8080/",
          "height": 597
        },
        "id": "WJ3hEQZMbvTi",
        "outputId": "5c81c7ea-4321-44f8-a84d-1d8abaaa8d9d"
      },
      "execution_count": null,
      "outputs": [
        {
          "output_type": "execute_result",
          "data": {
            "text/plain": [
              "     index        date                                     title  \\\n",
              "0        1  2020-01-06            [공통] 2019-2학기 이중전공 변경 배정 확정 공고   \n",
              "1        2  2020-01-13                  [공통] 2020학년도 1학기 수강신청 공고   \n",
              "2        3  2020-01-13     [공통] 2020학년도 전기 국제지역대학원 학석사연계과정 모집 안내   \n",
              "3        4  2020-01-13       [공통] 2020학년도 전기 일반대학원 학석사연계과정 모집 안내   \n",
              "4        5  2020-01-15                        [글로벌]졸업 예비사정 결과 조회   \n",
              "..     ...         ...                                       ...   \n",
              "617    618  2024-03-13                          [공통] 생리 유고 신청 안내   \n",
              "618    619  2024-03-13  [공통] 졸업예정자(해당학기 졸업가능자)의 조기취업  유고결석 신청 안내   \n",
              "619    621  2024-03-15           [글로벌]2024-1학기 폐강(2차) 공고(글로벌캠퍼스)   \n",
              "620    620  2024-03-15            [서울] 2024-1학기 폐강(2차) 공고(서울캠퍼스)   \n",
              "621    622  2024-03-26       [공통]2024-여름계절학기 개설희망 교과목 수요조사 실시 공고   \n",
              "\n",
              "                                               content  \n",
              "0    \\n\\n\\n\\n\\n\\n[공통]이중전공변경 배정 확정 공고\\n \\n2019학년도 제2...  \n",
              "1    \\n2020학년도 1학기 수강신청 공고 2020학년도 제1학기 수강신청에 대하여 아...  \n",
              "2    \\n2020학년도 전기 국제지역대학원 학석사연계과정 모집 안내\\n \\n2020학년도...  \n",
              "3    \\n2020학년도 전기 일반대학원 학석사연계과정 모집 안내\\n\\n2020학년도 전기...  \n",
              "4    \\n[글로벌] 졸업 예비사정 결과 조회글로벌캠퍼스 졸업(2020년 2월) 예비사정 ...  \n",
              "..                                                 ...  \n",
              "617  \\n\\n\\n\\n\\n\\n생리 유고 신청 안내\\n\\n\\n\\n\\n\\n  생리로 인한 유고...  \n",
              "618  \\n\\n\\n\\n\\n\\n졸업예정자(해당학기 졸업가능자)의 조기취업유고결석 신청 안내\\...  \n",
              "619  \\n\\n\\n\\n\\n\\n2024-1학기 폐강(2차) 공고(글로벌캠퍼스)\\n\\n\\n\\n...  \n",
              "620  \\n\\n\\n\\n\\n\\n2024-1학기 폐강(2차) 공고(서울캠퍼스)\\n\\n\\n\\n\\...  \n",
              "621  \\n계절학기 개설희망 교과목 수요조사 실시 공고\\n\\n2024학년도여름계절학기 개설...  \n",
              "\n",
              "[622 rows x 4 columns]"
            ],
            "text/html": [
              "\n",
              "  <div id=\"df-09ef0f58-981a-4fc1-a88f-b7bb36f011bd\" class=\"colab-df-container\">\n",
              "    <div>\n",
              "<style scoped>\n",
              "    .dataframe tbody tr th:only-of-type {\n",
              "        vertical-align: middle;\n",
              "    }\n",
              "\n",
              "    .dataframe tbody tr th {\n",
              "        vertical-align: top;\n",
              "    }\n",
              "\n",
              "    .dataframe thead th {\n",
              "        text-align: right;\n",
              "    }\n",
              "</style>\n",
              "<table border=\"1\" class=\"dataframe\">\n",
              "  <thead>\n",
              "    <tr style=\"text-align: right;\">\n",
              "      <th></th>\n",
              "      <th>index</th>\n",
              "      <th>date</th>\n",
              "      <th>title</th>\n",
              "      <th>content</th>\n",
              "    </tr>\n",
              "  </thead>\n",
              "  <tbody>\n",
              "    <tr>\n",
              "      <th>0</th>\n",
              "      <td>1</td>\n",
              "      <td>2020-01-06</td>\n",
              "      <td>[공통] 2019-2학기 이중전공 변경 배정 확정 공고</td>\n",
              "      <td>\\n\\n\\n\\n\\n\\n[공통]이중전공변경 배정 확정 공고\\n \\n2019학년도 제2...</td>\n",
              "    </tr>\n",
              "    <tr>\n",
              "      <th>1</th>\n",
              "      <td>2</td>\n",
              "      <td>2020-01-13</td>\n",
              "      <td>[공통] 2020학년도 1학기 수강신청 공고</td>\n",
              "      <td>\\n2020학년도 1학기 수강신청 공고 2020학년도 제1학기 수강신청에 대하여 아...</td>\n",
              "    </tr>\n",
              "    <tr>\n",
              "      <th>2</th>\n",
              "      <td>3</td>\n",
              "      <td>2020-01-13</td>\n",
              "      <td>[공통] 2020학년도 전기 국제지역대학원 학석사연계과정 모집 안내</td>\n",
              "      <td>\\n2020학년도 전기 국제지역대학원 학석사연계과정 모집 안내\\n \\n2020학년도...</td>\n",
              "    </tr>\n",
              "    <tr>\n",
              "      <th>3</th>\n",
              "      <td>4</td>\n",
              "      <td>2020-01-13</td>\n",
              "      <td>[공통] 2020학년도 전기 일반대학원 학석사연계과정 모집 안내</td>\n",
              "      <td>\\n2020학년도 전기 일반대학원 학석사연계과정 모집 안내\\n\\n2020학년도 전기...</td>\n",
              "    </tr>\n",
              "    <tr>\n",
              "      <th>4</th>\n",
              "      <td>5</td>\n",
              "      <td>2020-01-15</td>\n",
              "      <td>[글로벌]졸업 예비사정 결과 조회</td>\n",
              "      <td>\\n[글로벌] 졸업 예비사정 결과 조회글로벌캠퍼스 졸업(2020년 2월) 예비사정 ...</td>\n",
              "    </tr>\n",
              "    <tr>\n",
              "      <th>...</th>\n",
              "      <td>...</td>\n",
              "      <td>...</td>\n",
              "      <td>...</td>\n",
              "      <td>...</td>\n",
              "    </tr>\n",
              "    <tr>\n",
              "      <th>617</th>\n",
              "      <td>618</td>\n",
              "      <td>2024-03-13</td>\n",
              "      <td>[공통] 생리 유고 신청 안내</td>\n",
              "      <td>\\n\\n\\n\\n\\n\\n생리 유고 신청 안내\\n\\n\\n\\n\\n\\n  생리로 인한 유고...</td>\n",
              "    </tr>\n",
              "    <tr>\n",
              "      <th>618</th>\n",
              "      <td>619</td>\n",
              "      <td>2024-03-13</td>\n",
              "      <td>[공통] 졸업예정자(해당학기 졸업가능자)의 조기취업  유고결석 신청 안내</td>\n",
              "      <td>\\n\\n\\n\\n\\n\\n졸업예정자(해당학기 졸업가능자)의 조기취업유고결석 신청 안내\\...</td>\n",
              "    </tr>\n",
              "    <tr>\n",
              "      <th>619</th>\n",
              "      <td>621</td>\n",
              "      <td>2024-03-15</td>\n",
              "      <td>[글로벌]2024-1학기 폐강(2차) 공고(글로벌캠퍼스)</td>\n",
              "      <td>\\n\\n\\n\\n\\n\\n2024-1학기 폐강(2차) 공고(글로벌캠퍼스)\\n\\n\\n\\n...</td>\n",
              "    </tr>\n",
              "    <tr>\n",
              "      <th>620</th>\n",
              "      <td>620</td>\n",
              "      <td>2024-03-15</td>\n",
              "      <td>[서울] 2024-1학기 폐강(2차) 공고(서울캠퍼스)</td>\n",
              "      <td>\\n\\n\\n\\n\\n\\n2024-1학기 폐강(2차) 공고(서울캠퍼스)\\n\\n\\n\\n\\...</td>\n",
              "    </tr>\n",
              "    <tr>\n",
              "      <th>621</th>\n",
              "      <td>622</td>\n",
              "      <td>2024-03-26</td>\n",
              "      <td>[공통]2024-여름계절학기 개설희망 교과목 수요조사 실시 공고</td>\n",
              "      <td>\\n계절학기 개설희망 교과목 수요조사 실시 공고\\n\\n2024학년도여름계절학기 개설...</td>\n",
              "    </tr>\n",
              "  </tbody>\n",
              "</table>\n",
              "<p>622 rows × 4 columns</p>\n",
              "</div>\n",
              "    <div class=\"colab-df-buttons\">\n",
              "\n",
              "  <div class=\"colab-df-container\">\n",
              "    <button class=\"colab-df-convert\" onclick=\"convertToInteractive('df-09ef0f58-981a-4fc1-a88f-b7bb36f011bd')\"\n",
              "            title=\"Convert this dataframe to an interactive table.\"\n",
              "            style=\"display:none;\">\n",
              "\n",
              "  <svg xmlns=\"http://www.w3.org/2000/svg\" height=\"24px\" viewBox=\"0 -960 960 960\">\n",
              "    <path d=\"M120-120v-720h720v720H120Zm60-500h600v-160H180v160Zm220 220h160v-160H400v160Zm0 220h160v-160H400v160ZM180-400h160v-160H180v160Zm440 0h160v-160H620v160ZM180-180h160v-160H180v160Zm440 0h160v-160H620v160Z\"/>\n",
              "  </svg>\n",
              "    </button>\n",
              "\n",
              "  <style>\n",
              "    .colab-df-container {\n",
              "      display:flex;\n",
              "      gap: 12px;\n",
              "    }\n",
              "\n",
              "    .colab-df-convert {\n",
              "      background-color: #E8F0FE;\n",
              "      border: none;\n",
              "      border-radius: 50%;\n",
              "      cursor: pointer;\n",
              "      display: none;\n",
              "      fill: #1967D2;\n",
              "      height: 32px;\n",
              "      padding: 0 0 0 0;\n",
              "      width: 32px;\n",
              "    }\n",
              "\n",
              "    .colab-df-convert:hover {\n",
              "      background-color: #E2EBFA;\n",
              "      box-shadow: 0px 1px 2px rgba(60, 64, 67, 0.3), 0px 1px 3px 1px rgba(60, 64, 67, 0.15);\n",
              "      fill: #174EA6;\n",
              "    }\n",
              "\n",
              "    .colab-df-buttons div {\n",
              "      margin-bottom: 4px;\n",
              "    }\n",
              "\n",
              "    [theme=dark] .colab-df-convert {\n",
              "      background-color: #3B4455;\n",
              "      fill: #D2E3FC;\n",
              "    }\n",
              "\n",
              "    [theme=dark] .colab-df-convert:hover {\n",
              "      background-color: #434B5C;\n",
              "      box-shadow: 0px 1px 3px 1px rgba(0, 0, 0, 0.15);\n",
              "      filter: drop-shadow(0px 1px 2px rgba(0, 0, 0, 0.3));\n",
              "      fill: #FFFFFF;\n",
              "    }\n",
              "  </style>\n",
              "\n",
              "    <script>\n",
              "      const buttonEl =\n",
              "        document.querySelector('#df-09ef0f58-981a-4fc1-a88f-b7bb36f011bd button.colab-df-convert');\n",
              "      buttonEl.style.display =\n",
              "        google.colab.kernel.accessAllowed ? 'block' : 'none';\n",
              "\n",
              "      async function convertToInteractive(key) {\n",
              "        const element = document.querySelector('#df-09ef0f58-981a-4fc1-a88f-b7bb36f011bd');\n",
              "        const dataTable =\n",
              "          await google.colab.kernel.invokeFunction('convertToInteractive',\n",
              "                                                    [key], {});\n",
              "        if (!dataTable) return;\n",
              "\n",
              "        const docLinkHtml = 'Like what you see? Visit the ' +\n",
              "          '<a target=\"_blank\" href=https://colab.research.google.com/notebooks/data_table.ipynb>data table notebook</a>'\n",
              "          + ' to learn more about interactive tables.';\n",
              "        element.innerHTML = '';\n",
              "        dataTable['output_type'] = 'display_data';\n",
              "        await google.colab.output.renderOutput(dataTable, element);\n",
              "        const docLink = document.createElement('div');\n",
              "        docLink.innerHTML = docLinkHtml;\n",
              "        element.appendChild(docLink);\n",
              "      }\n",
              "    </script>\n",
              "  </div>\n",
              "\n",
              "\n",
              "<div id=\"df-edcb17c9-95b7-41bb-a3a6-0f473203a0d2\">\n",
              "  <button class=\"colab-df-quickchart\" onclick=\"quickchart('df-edcb17c9-95b7-41bb-a3a6-0f473203a0d2')\"\n",
              "            title=\"Suggest charts\"\n",
              "            style=\"display:none;\">\n",
              "\n",
              "<svg xmlns=\"http://www.w3.org/2000/svg\" height=\"24px\"viewBox=\"0 0 24 24\"\n",
              "     width=\"24px\">\n",
              "    <g>\n",
              "        <path d=\"M19 3H5c-1.1 0-2 .9-2 2v14c0 1.1.9 2 2 2h14c1.1 0 2-.9 2-2V5c0-1.1-.9-2-2-2zM9 17H7v-7h2v7zm4 0h-2V7h2v10zm4 0h-2v-4h2v4z\"/>\n",
              "    </g>\n",
              "</svg>\n",
              "  </button>\n",
              "\n",
              "<style>\n",
              "  .colab-df-quickchart {\n",
              "      --bg-color: #E8F0FE;\n",
              "      --fill-color: #1967D2;\n",
              "      --hover-bg-color: #E2EBFA;\n",
              "      --hover-fill-color: #174EA6;\n",
              "      --disabled-fill-color: #AAA;\n",
              "      --disabled-bg-color: #DDD;\n",
              "  }\n",
              "\n",
              "  [theme=dark] .colab-df-quickchart {\n",
              "      --bg-color: #3B4455;\n",
              "      --fill-color: #D2E3FC;\n",
              "      --hover-bg-color: #434B5C;\n",
              "      --hover-fill-color: #FFFFFF;\n",
              "      --disabled-bg-color: #3B4455;\n",
              "      --disabled-fill-color: #666;\n",
              "  }\n",
              "\n",
              "  .colab-df-quickchart {\n",
              "    background-color: var(--bg-color);\n",
              "    border: none;\n",
              "    border-radius: 50%;\n",
              "    cursor: pointer;\n",
              "    display: none;\n",
              "    fill: var(--fill-color);\n",
              "    height: 32px;\n",
              "    padding: 0;\n",
              "    width: 32px;\n",
              "  }\n",
              "\n",
              "  .colab-df-quickchart:hover {\n",
              "    background-color: var(--hover-bg-color);\n",
              "    box-shadow: 0 1px 2px rgba(60, 64, 67, 0.3), 0 1px 3px 1px rgba(60, 64, 67, 0.15);\n",
              "    fill: var(--button-hover-fill-color);\n",
              "  }\n",
              "\n",
              "  .colab-df-quickchart-complete:disabled,\n",
              "  .colab-df-quickchart-complete:disabled:hover {\n",
              "    background-color: var(--disabled-bg-color);\n",
              "    fill: var(--disabled-fill-color);\n",
              "    box-shadow: none;\n",
              "  }\n",
              "\n",
              "  .colab-df-spinner {\n",
              "    border: 2px solid var(--fill-color);\n",
              "    border-color: transparent;\n",
              "    border-bottom-color: var(--fill-color);\n",
              "    animation:\n",
              "      spin 1s steps(1) infinite;\n",
              "  }\n",
              "\n",
              "  @keyframes spin {\n",
              "    0% {\n",
              "      border-color: transparent;\n",
              "      border-bottom-color: var(--fill-color);\n",
              "      border-left-color: var(--fill-color);\n",
              "    }\n",
              "    20% {\n",
              "      border-color: transparent;\n",
              "      border-left-color: var(--fill-color);\n",
              "      border-top-color: var(--fill-color);\n",
              "    }\n",
              "    30% {\n",
              "      border-color: transparent;\n",
              "      border-left-color: var(--fill-color);\n",
              "      border-top-color: var(--fill-color);\n",
              "      border-right-color: var(--fill-color);\n",
              "    }\n",
              "    40% {\n",
              "      border-color: transparent;\n",
              "      border-right-color: var(--fill-color);\n",
              "      border-top-color: var(--fill-color);\n",
              "    }\n",
              "    60% {\n",
              "      border-color: transparent;\n",
              "      border-right-color: var(--fill-color);\n",
              "    }\n",
              "    80% {\n",
              "      border-color: transparent;\n",
              "      border-right-color: var(--fill-color);\n",
              "      border-bottom-color: var(--fill-color);\n",
              "    }\n",
              "    90% {\n",
              "      border-color: transparent;\n",
              "      border-bottom-color: var(--fill-color);\n",
              "    }\n",
              "  }\n",
              "</style>\n",
              "\n",
              "  <script>\n",
              "    async function quickchart(key) {\n",
              "      const quickchartButtonEl =\n",
              "        document.querySelector('#' + key + ' button');\n",
              "      quickchartButtonEl.disabled = true;  // To prevent multiple clicks.\n",
              "      quickchartButtonEl.classList.add('colab-df-spinner');\n",
              "      try {\n",
              "        const charts = await google.colab.kernel.invokeFunction(\n",
              "            'suggestCharts', [key], {});\n",
              "      } catch (error) {\n",
              "        console.error('Error during call to suggestCharts:', error);\n",
              "      }\n",
              "      quickchartButtonEl.classList.remove('colab-df-spinner');\n",
              "      quickchartButtonEl.classList.add('colab-df-quickchart-complete');\n",
              "    }\n",
              "    (() => {\n",
              "      let quickchartButtonEl =\n",
              "        document.querySelector('#df-edcb17c9-95b7-41bb-a3a6-0f473203a0d2 button');\n",
              "      quickchartButtonEl.style.display =\n",
              "        google.colab.kernel.accessAllowed ? 'block' : 'none';\n",
              "    })();\n",
              "  </script>\n",
              "</div>\n",
              "\n",
              "  <div id=\"id_2efcd0bd-0b31-4bdd-b19a-f4c5f34be4b7\">\n",
              "    <style>\n",
              "      .colab-df-generate {\n",
              "        background-color: #E8F0FE;\n",
              "        border: none;\n",
              "        border-radius: 50%;\n",
              "        cursor: pointer;\n",
              "        display: none;\n",
              "        fill: #1967D2;\n",
              "        height: 32px;\n",
              "        padding: 0 0 0 0;\n",
              "        width: 32px;\n",
              "      }\n",
              "\n",
              "      .colab-df-generate:hover {\n",
              "        background-color: #E2EBFA;\n",
              "        box-shadow: 0px 1px 2px rgba(60, 64, 67, 0.3), 0px 1px 3px 1px rgba(60, 64, 67, 0.15);\n",
              "        fill: #174EA6;\n",
              "      }\n",
              "\n",
              "      [theme=dark] .colab-df-generate {\n",
              "        background-color: #3B4455;\n",
              "        fill: #D2E3FC;\n",
              "      }\n",
              "\n",
              "      [theme=dark] .colab-df-generate:hover {\n",
              "        background-color: #434B5C;\n",
              "        box-shadow: 0px 1px 3px 1px rgba(0, 0, 0, 0.15);\n",
              "        filter: drop-shadow(0px 1px 2px rgba(0, 0, 0, 0.3));\n",
              "        fill: #FFFFFF;\n",
              "      }\n",
              "    </style>\n",
              "    <button class=\"colab-df-generate\" onclick=\"generateWithVariable('haksa_copy')\"\n",
              "            title=\"Generate code using this dataframe.\"\n",
              "            style=\"display:none;\">\n",
              "\n",
              "  <svg xmlns=\"http://www.w3.org/2000/svg\" height=\"24px\"viewBox=\"0 0 24 24\"\n",
              "       width=\"24px\">\n",
              "    <path d=\"M7,19H8.4L18.45,9,17,7.55,7,17.6ZM5,21V16.75L18.45,3.32a2,2,0,0,1,2.83,0l1.4,1.43a1.91,1.91,0,0,1,.58,1.4,1.91,1.91,0,0,1-.58,1.4L9.25,21ZM18.45,9,17,7.55Zm-12,3A5.31,5.31,0,0,0,4.9,8.1,5.31,5.31,0,0,0,1,6.5,5.31,5.31,0,0,0,4.9,4.9,5.31,5.31,0,0,0,6.5,1,5.31,5.31,0,0,0,8.1,4.9,5.31,5.31,0,0,0,12,6.5,5.46,5.46,0,0,0,6.5,12Z\"/>\n",
              "  </svg>\n",
              "    </button>\n",
              "    <script>\n",
              "      (() => {\n",
              "      const buttonEl =\n",
              "        document.querySelector('#id_2efcd0bd-0b31-4bdd-b19a-f4c5f34be4b7 button.colab-df-generate');\n",
              "      buttonEl.style.display =\n",
              "        google.colab.kernel.accessAllowed ? 'block' : 'none';\n",
              "\n",
              "      buttonEl.onclick = () => {\n",
              "        google.colab.notebook.generateWithVariable('haksa_copy');\n",
              "      }\n",
              "      })();\n",
              "    </script>\n",
              "  </div>\n",
              "\n",
              "    </div>\n",
              "  </div>\n"
            ],
            "application/vnd.google.colaboratory.intrinsic+json": {
              "type": "dataframe",
              "variable_name": "haksa_copy",
              "summary": "{\n  \"name\": \"haksa_copy\",\n  \"rows\": 622,\n  \"fields\": [\n    {\n      \"column\": \"index\",\n      \"properties\": {\n        \"dtype\": \"number\",\n        \"std\": 179,\n        \"min\": 1,\n        \"max\": 622,\n        \"num_unique_values\": 622,\n        \"samples\": [\n          249,\n          398,\n          176\n        ],\n        \"semantic_type\": \"\",\n        \"description\": \"\"\n      }\n    },\n    {\n      \"column\": \"date\",\n      \"properties\": {\n        \"dtype\": \"object\",\n        \"num_unique_values\": 414,\n        \"samples\": [\n          \"2023-08-16\",\n          \"2023-07-11\",\n          \"2023-10-27\"\n        ],\n        \"semantic_type\": \"\",\n        \"description\": \"\"\n      }\n    },\n    {\n      \"column\": \"title\",\n      \"properties\": {\n        \"dtype\": \"string\",\n        \"num_unique_values\": 592,\n        \"samples\": [\n          \"[\\uc11c\\uc6b8] \\ud559\\ubd80 \\uc138\\ubd80\\uc804\\uacf5 \\ubc30\\uc815\\ud655\\uc815(\\ud504\\ub791\\uc2a4/\\ubbf8\\ub514\\uc5b4/\\uc911\\uad6d\\uc5b8\\uc5b4\\ubb38\\ud654/KFL\\ud559\\ubd80 \\ud574\\ub2f9)\",\n          \"[\\uacf5\\ud1b5] \\uc0dd\\ub9ac \\uc720\\uace0 \\uc2e0\\uccad \\uc548\\ub0b4\",\n          \"[\\uc11c\\uc6b8] 2021-1\\ud559\\uae30 \\uc774\\uc911\\uc804\\uacf5 \\ubcc0\\uacbd \\uc2e0\\uccad \\uacf5\\uace0\"\n        ],\n        \"semantic_type\": \"\",\n        \"description\": \"\"\n      }\n    },\n    {\n      \"column\": \"content\",\n      \"properties\": {\n        \"dtype\": \"string\",\n        \"num_unique_values\": 622,\n        \"samples\": [\n          \"\\n\\uae00\\ub85c\\ubc8c \\uc9c0\\uc5ed\\ud559 \\uacfc\\uc815 \\uc2e0\\uccad \\uc548\\ub0b42021-2\\ud559\\uae30 \\uae00\\ub85c\\ubc8c \\uc9c0\\uc5ed\\ud559 \\uacfc\\uc815(\\uc9c0\\uc5ed\\uc804\\ubb38\\uac00\\uacfc\\uc815, \\uc9c0\\uc5ed\\ud559\\uc0ac\\uacfc\\uc815) \\uc2e0\\uccad(\\ubcc0\\uacbd \\ubc0f \\ucde8\\uc18c \\ud3ec\\ud568) \\uc77c\\uc815\\uc744 \\uc544\\ub798\\uc640 \\uac19\\uc774 \\uc548\\ub0b4\\ud569\\ub2c8\\ub2e4. \\uc2e0\\uccad\\uae30\\uac04: 2021. 8. 6(\\uae08) ~ 9. 10(\\uae08)\\u203b \\uae00\\ub85c\\ubc8c \\uc9c0\\uc5ed\\ud559 \\uacfc\\uc815\\uc774\\ub780? \\uc138\\uacc4 \\uac01 \\uc9c0\\uc5ed\\uc5d0 \\ub300\\ud55c \\ucd1d\\uccb4\\uc801\\uc774\\uace0 \\ub2e4\\uba74\\uc801\\uc778 \\uc774\\ud574 \\ub2a5\\ub825\\uc744  \\ubc30\\uc591\\ud558\\uc5ec \\uad6d\\uac00\\uacbd\\uc601\\uc804\\ub7b5 \\ubc0f \\uae30\\uc5c5\\uc758 \\ud574\\uc678\\uc2dc\\uc7a5\\uc9c4\\ucd9c\\uacfc \\uad6d\\uc81c \\ube44\\uc988\\ub2c8\\uc2a4 \\uc218\\ud589\\uc5d0 \\ud544\\uc694\\ud55c  \\uc804\\ubb38\\uac00 \\uc591\\uc131\\uc744 \\ubaa9\\ud45c\\ub85c \\uc6b4\\uc601\\ub418\\ub294 \\uad50\\uc721\\uacfc\\uc815\\uc73c\\ub85c \\uc878\\uc5c5\\uc2dc \\ud559\\uc704\\uac00  \\u2018\\ubb38\\ud559\\uc0ac(\\uc9c0\\uc5ed\\uc804\\ubb38\\uac00\\uacfc\\uc815 \\uc774\\uc218)\\u2019, \\u2018\\uc9c0\\uc5ed\\ud559\\uc0ac\\u2019\\ub4f1\\uc73c\\ub85c \\ud45c\\uae30\\ub429\\ub2c8\\ub2e4. \\uc790\\uc138\\ud55c \\uc0ac\\ud56d\\uc740 \\uc544\\ub798 \\ub9c1\\ud06c\\ub97c \\ud074\\ub9ad\\ud558\\uc5ec \\ucc38\\uace0\\ud558\\uc2dc\\uae30 \\ubc14\\ub78d\\ub2c8\\ub2e4. 2021-2\\ud559\\uae30 \\uc218\\uac15\\ud3b8\\ub78c \\uc11c\\uc6b8\\ucea0\\ud37c\\uc2a4 \\uc81c70\\ucabd \\uc774\\ud558, \\uae00\\ub85c\\ubc8c\\ucea0\\ud37c\\uc2a4 \\uc81c68\\ucabd \\uc774\\ud5581. \\uc2e0\\uccad\\uc790\\uaca9: \\uc544\\ub798 \\ud559\\uacfc\\uc758 \\uc804\\uacf5 \\ub610\\ub294 \\uc774\\uc911\\uc804\\uacf5 \\ud559\\uc0dd(\\ud734\\ud559\\uc0dd \\ud3ec\\ud568)\\u203b \\uc9c0\\uc5ed\\ud559\\uacfc\\uc815 \\uac1c\\uc124 \\ud559\\uacfc(\\uc11c\\uc6b8\\ucea0\\ud37c\\uc2a4 \\ud559\\uacfc)? EU \\uc9c0\\uc5ed: \\ud504\\ub791\\uc2a4\\uc5b4\\ud559\\ubd80, \\ub3c5\\uc77c\\uc5b4\\uacfc, \\uc774\\ud0c8\\ub9ac\\uc544\\uc5b4\\uacfc, \\ub124\\ub35c\\ub780\\ub4dc\\uc5b4\\uacfc,\\uc2a4\\uce78\\ub514\\ub098\\ube44\\uc544\\uc5b4\\uacfc? \\ub7ec\\uc2dc\\uc544\\u00b7\\uc911\\uc559\\uc544\\uc2dc\\uc544 \\uc9c0\\uc5ed: \\ub178\\uc5b4\\uacfc, \\ud130\\ud0a4\\u00b7\\uc544\\uc81c\\ub974\\ubc14\\uc774\\uc794\\uc5b4\\uacfc, \\ubabd\\uace8\\uc5b4\\uacfc? \\uc911\\ub0a8\\ubbf8 \\uc9c0\\uc5ed: \\uc2a4\\ud398\\uc778\\uc5b4\\uacfc, \\ud3ec\\ub974\\ud22c\\uac08\\uc5b4\\uacfc? \\uc778\\ub3c4\\u00b7\\ub3d9\\ub0a8\\uc544 \\uc9c0\\uc5ed: \\ub9d0\\ub808\\uc774?\\uc778\\ub3c4\\ub124\\uc2dc\\uc544\\uc5b4\\uacfc, \\ubca0\\ud2b8\\ub0a8\\uc5b4\\uacfc, \\ud0dc\\uad6d\\uc5b4\\uacfc,\\uc778\\ub3c4\\uc5b4\\uacfc? \\uc911\\ub3d9\\u00b7\\ubd81\\uc544\\ud504\\ub9ac\\uce74 \\uc9c0\\uc5ed: \\uc544\\ub78d\\uc5b4\\uacfc, \\ud398\\ub974\\uc2dc\\uc544\\uc5b4?\\uc774\\ub780\\uc5b4\\uacfc(\\uae00\\ub85c\\ubc8c\\ucea0\\ud37c\\uc2a4 \\ud559\\uacfc)? EU \\uc9c0\\uc5ed: \\uadf8\\ub9ac\\uc2a4?\\ubd88\\uac00\\ub9ac\\uc544\\ud559\\uacfc? \\ub3d9\\uc720\\ub7fd\\uc9c0\\uc5ed: \\ub3d9\\uc720\\ub7fd\\ud559\\ub300\\ud559 \\uc18c\\uc18d \\uc804\\ud559\\uacfc? \\uc911\\ub0a8\\ubbf8 \\uc9c0\\uc5ed: \\uc2a4\\ud398\\uc778\\uc5b4\\ud1b5\\ubc88\\uc5ed\\ud559\\uacfc? \\uc911\\ub3d9\\u00b7\\ubd81\\uc544\\ud504\\ub9ac\\uce74 \\uc9c0\\uc5ed: \\uc544\\ub78d\\uc5b4\\ud1b5\\ubc88\\uc5ed\\ud559\\uacfc2. \\uc2e0\\uccad\\uae30\\uac04: 2021. 8. 6(\\uae08) ~ 9. 10(\\uae08) 3. \\ubc29\\ubc95: \\uc885\\ud569\\uc815\\ubcf4\\uc2dc\\uc2a4\\ud15c -> \\uc804\\uacf5/\\uad50\\uc9c1\\uad00\\ub9ac -> \\uc9c0\\uc5ed\\ud559\\uacfc\\uc815 \\uc2e0\\uccad\\ucde8\\uc18c \\uad00\\ub9ac       \\uc9c0\\uc5ed\\ud559\\uacfc\\uc815 \\uc2e0\\uccad \\ubc14\\ub85c\\uac00\\uae304. \\uae30\\ud0c0\\uac00. \\uc9c0\\uc5ed\\uc804\\ubb38\\uac00\\uacfc\\uc815:\\u2018\\ubb38\\ud559\\uc0ac(\\uc9c0\\uc5ed\\uc804\\ubb38\\uac00\\uacfc\\uc815 \\uc774\\uc218)\\u2019\\ub85c \\ud559\\uc704\\uac00 \\ud45c\\uae30\\ub428.\\ub098. \\uc9c0\\uc5ed\\ud559\\uc0ac\\uacfc\\uc815: \\ubb38\\ud559\\uc0ac \\ub300\\uc2e0\\u2018\\uc9c0\\uc5ed\\ud559\\uc0ac\\u2019\\ud559\\uc704\\uac00 \\uc218\\uc5ec\\ub428.\\ub2e4. \\uc878\\uc5c5\\ub17c\\ubb38, \\uc878\\uc5c5\\uc2dc\\ud5d8 \\ub4f1 \\uae30\\ud0c0 \\uc878\\uc5c5 \\uc694\\uac74\\uc740 \\ud559\\uacfc \\uad00\\ub828 \\uaddc\\uc815\\uc5d0 \\uc758\\ud568.2021. 8. 6.\\uad50\\ubb34\\ucc98\\uc7a5\\n\",\n          \"\\n[\\uacf5\\ud1b5]2022\\ud559\\ub144\\ub3c4 \\ud6c4\\uae30 (\\uc77c\\ubc18\\ub300\\ud559\\uc6d0)\\uc11d\\uc0ac\\uc608\\uc57d\\uc81c \\ubc0f \\ud559.\\uc11d\\uc0ac \\uc5f0\\uacc4\\uacfc\\uc815 \\ubaa8\\uc9d1 \\uc548\\ub0b4\\ud55c\\uad6d\\uc678\\uad6d\\uc5b4\\ub300\\ud559\\uad50 \\ub300\\ud559\\uc6d0 (https://gra.hufs.ac.kr/)\\n    \\ubc14\\ub85c\\uac00\\uae302022\\ud559\\ub144\\ub3c4(\\uc77c\\ubc18\\ub300\\ud559\\uc6d0)\\ud6c4\\uae30 \\uc11d\\uc0ac\\uc608\\uc57d\\uc81c \\ubc0f \\ud559.\\uc11d\\uc0ac \\uc5f0\\uacc4\\uacfc\\uc815\\uc0dd\\uc744 \\ubaa8\\uc9d1\\ud558\\uae30\\uc5d0 \\uad00\\uc2ec\\uc788\\ub294 \\ud559\\uc0dd\\ub4e4\\uc758 \\uc2e0\\uccad\\uc744 \\ubc14\\ub78d\\ub2c8\\ub2e4.1.\\uc9c0\\uc6d0\\uc2e0\\uccad\\uc11c \\uc811\\uc218\\uae30\\uac04: 2022. 8. 1(\\uc6d4) ~ 8. 5(\\uae08), 14:00\\uae4c\\uc9c02.\\uc811\\uc218\\ucc98\\uac00.\\uc11c\\uc6b8\\ucea0\\ud37c\\uc2a4: \\ud559\\uc0ac\\uc885\\ud569\\uc9c0\\uc6d0\\uc13c\\ud130(\\uc5ed\\uc0ac\\uad001\\uce35)\\uc5d0\\uc11c \\ud655\\uc778 \\ud6c4, \\ud574\\ub2f9 \\ub300\\ud559\\uc6d0\\uc5d0 \\ubc18\\ub4dc\\uc2dc                    \\uc9c1\\uc811\\uc81c\\ucd9c\\ub098.\\uae00\\ub85c\\ubc8c\\ucea0\\ud37c\\uc2a4: \\ud559\\uc0ac\\uc885\\ud569\\uc9c0\\uc6d0\\uc13c\\ud130(\\ud559\\uc0dd\\ud68c\\uad001\\uce35)3. \\uc11d\\uc0ac\\uc608\\uc57d\\uc81c\\uc640 \\ud559.\\uc11d\\uc0ac \\uc5f0\\uacc4\\uacfc\\uc815 \\ucc28\\uc774\\uc810\\uad6c\\ubd84\\uc11d\\uc0ac\\uc608\\uc57d\\uc81c\\n\\ud559.\\uc11d\\uc0ac\\uc5f0\\uacc4\\uacfc\\uc815\\uc9c0\\uc6d0\\uc2dc\\uae30\\ud559\\ubd80 6\\ud559\\uae30 \\uc774\\uc218 \\uc9c1\\ud6c4\\ud559\\ubd80 5\\ud559\\uae30 \\uc774\\uc218 \\uc9c1\\ud6c4\\ub2e8\\ucd95\\ud559\\uae30\\ub300\\ud559\\uc6d0 1\\uac1c \\ud559\\uae30(\\ucd1d 5.5\\ub144 \\uacfc\\uc815)\\ud559\\ubd80 1\\uac1c \\ud559\\uae30 \\ubc0f \\ub300\\ud559\\uc6d0 1\\uac1c \\ud559\\uae30(\\ucd1d 5\\ub144 \\uacfc\\uc815)\\uc9c0\\uc6d0\\uac00\\ub2a5 \\ud559\\uacfc\\ub300\\ud559\\uc6d0 \\uc804\\uccb4 \\ud559\\uacfc\\uc9c0\\uc6d0\\uc790 \\ud559\\ubd80\\uc640 \\uc5f0\\uacc4\\ub41c \\ub3d9\\uc77c\\uacc4\\uc5f4 \\ub300\\ud559\\uc6d0 \\ud559\\uacfc\\u203b\\uc790\\uc138\\ud55c \\uc0ac\\ud56d\\uc740 \\ud574\\ub2f9 \\uc77c\\ubc18\\ub300\\ud559\\uc6d0 \\ud648\\ud398\\uc774\\uc9c0 \\uacf5\\uc9c0\\uc0ac\\ud56d\\uc744 \\ucc38\\uace0\\ud558\\uc5ec \\uc8fc\\uc2dc\\uae30 \\ubc14\\ub78d\\ub2c8\\ub2e4.(\\uc77c\\ubc18\\ub300\\ud559\\uc6d0 \\ubb38\\uc758\\uc804\\ud654: 02-2173-2386)2022. 7.\\ud55c\\uad6d\\uc678\\uad6d\\uc5b4\\ub300\\ud559\\uad50 \\uc77c\\ubc18\\ub300\\ud559\\uc6d0\\n\",\n          \"\\n\\n\\n\\n\\n\\n\\n\\n\\n2021\\ud559\\ub144\\ub3c4 \\uc81c1\\ud559\\uae30 1\\ucc28 \\ud3d0\\uac15 \\uacf5\\uace0(\\uae00\\ub85c\\ubc8c\\ucea0\\ud37c\\uc2a4)\\n\\n\\n2021\\ud559\\ub144\\ub3c4 \\uc81c1\\ud559\\uae30 \\uc218\\uac15\\uc2e0\\uccad \\uae30\\uac04(2021\\ub144 2\\uc6d4 1\\uc77c[\\uc6d4]~5\\uc77c[\\uae08]) \\ub3d9\\uc548 \\n\\uc218\\uac15\\uc2e0\\uccad\\uc778\\uc6d0\\uc774 0\\uba85\\uc778 \\uac15\\uc88c\\uc5d0 \\ub300\\ud574\\uc11c \\uc544\\ub798\\uc640 \\uac19\\uc774 \\ud3d0\\uac15\\uc744 \\uacf5\\uace0\\ud569\\ub2c8\\ub2e4.\\n \\n- \\uc544 \\ub798 -\\n\\n\\u25a0 2021\\ud559\\ub144\\ub3c4 \\uc81c1\\ud559\\uae30 1\\ucc28 \\ud3d0\\uac15 \\uac15\\uc88c \\ud604\\ud669\\n\\n\\n\\n\\n\\n\\uac1c\\uc124\\ud559\\uacfc\\n\\n\\uc774\\uc218\\n\\uc601\\uc5ed\\n\\n\\ud559\\n\\ub144\\n\\n\\ud559\\uc218\\ubc88\\ud638\\n\\n\\uad50\\uacfc\\ubaa9\\uba85\\n\\n\\ud559\\uc810\\n\\n\\uc2dc\\uac04\\n\\n\\uad50\\uac15\\uc0ac\\uba85\\n\\n\\uac15\\uc758\\uc2dc\\uac04\\n\\n\\n\\uc601\\uc5b4\\ud1b5\\ubc88\\uc5ed\\ud559\\ubd80\\n\\n\\uc774\\uc911(\\ubd80)\\n\\n2\\n\\nN15105104\\n\\n\\ubbf8\\ub514\\uc5b4\\uc601\\uc5b4\\uccad\\ucde81\\n\\n3\\n\\n3\\n\\n\\uc724\\uc601\\uc625\\n\\n\\uc218 456\\n\\n\\n\\uc601\\uc5b4\\ud1b5\\ubc88\\uc5ed\\ud559\\uc804\\uacf5\\n\\n\\uc774\\uc911(\\uc8fc)\\n\\n3\\n\\nN01368103\\n\\n\\uba40\\ud2f0\\ubbf8\\ub514\\uc5b4\\ubc88\\uc5ed\\n\\n2\\n\\n2\\n\\n\\uae40\\ub355\\uc218\\n\\n\\uae08 56\\n\\n\\n\\uadf8\\ub9ac\\uc2a4?\\ubd88\\uac00\\ub9ac\\uc544\\ud559\\uacfc\\n\\n\\uc804\\uacf5\\n\\n4\\n\\nN08439201\\n\\n\\ubd88\\uac00\\ub9ac\\uc544\\uc640\\uc720\\ub7fd\\uc5f0\\ud569\\n\\n2\\n\\n2\\n\\nSpas Angelov Rangelov\\n\\n\\uc218 34\\n\\n\\n\\uc218\\ud559\\uacfc\\n\\n\\uc804\\uacf5\\n\\n4\\n\\nF01405101\\n\\n\\uc0b0\\uc5c5\\uc218\\ud559\\n\\n3\\n\\n3\\n\\n\\ucd5c\\uc77c\\uaddc\\n\\n\\uc6d423 \\uc2187\\n\\n2021. 2. 9.\\n\\n\\uae00\\ub85c\\ubc8c\\ucea0\\ud37c\\uc2a4 \\uad50\\ubb34\\ucc98\\uc7a5\\n\\n\\n\"\n        ],\n        \"semantic_type\": \"\",\n        \"description\": \"\"\n      }\n    }\n  ]\n}"
            }
          },
          "metadata": {},
          "execution_count": 16
        }
      ]
    },
    {
      "cell_type": "code",
      "source": [
        "import re\n",
        "import pandas as pd\n",
        "\n",
        "# 에러 카운트 변수 초기화\n",
        "cnt_error = 0\n",
        "\n",
        "# 요약 함수 정의\n",
        "def summarize_content(title, content):\n",
        "    global cnt_error  # 전역 변수로 cnt_error를 사용\n",
        "\n",
        "    if not content:\n",
        "        return []\n",
        "\n",
        "    if isinstance(content, list):\n",
        "        content = ' '.join(content)\n",
        "\n",
        "    if not content.strip():\n",
        "        return []\n",
        "\n",
        "    sents = re.split(r'\\n|\\.', content)\n",
        "\n",
        "    sents = list(filter(None, sents))\n",
        "\n",
        "    sents = [sent for sent in sents if sent.strip()]\n",
        "\n",
        "    if not sents:\n",
        "        return []\n",
        "\n",
        "    if len(sents) == 1:\n",
        "        return sents\n",
        "\n",
        "    # 요약 수행\n",
        "    try:\n",
        "        keysents = summarizer.summarize(sents, topk=3)\n",
        "    except ValueError as e:\n",
        "        # 요약 도중 에러 발생시 빈 리스트 반환\n",
        "        cnt_error += 1\n",
        "        print(f\"{cnt_error}. {title}, Summarizer error: {e}\")\n",
        "        return []\n",
        "\n",
        "    return [item[2] for item in keysents]\n",
        "\n",
        "# 'summarize_content' 컬럼 생성\n",
        "haksa_copy['summarize_content'] = haksa_copy.apply(lambda row: summarize_content(row['title'], row['content']), axis=1)\n",
        "\n",
        "\n",
        "# 결과 출력\n",
        "print(haksa_copy['summarize_content'])"
      ],
      "metadata": {
        "colab": {
          "base_uri": "https://localhost:8080/",
          "height": 448
        },
        "id": "rpPFKDWaZ7JW",
        "outputId": "03952b61-75c9-4762-cea0-b99df092a464"
      },
      "execution_count": null,
      "outputs": [
        {
          "output_type": "stream",
          "name": "stdout",
          "text": [
            "1. [서울] 강의실 호실 안내, Summarizer error: object dtype is not supported by sparse matrices\n",
            "2. 2021년 1학기 EU융합전공 개편/신설 안내 (카드뉴스), Summarizer error: object dtype is not supported by sparse matrices\n"
          ]
        },
        {
          "output_type": "error",
          "ename": "KeyboardInterrupt",
          "evalue": "",
          "traceback": [
            "\u001b[0;31m---------------------------------------------------------------------------\u001b[0m",
            "\u001b[0;31mKeyboardInterrupt\u001b[0m                         Traceback (most recent call last)",
            "\u001b[0;32m<ipython-input-17-31a49662ea27>\u001b[0m in \u001b[0;36m<cell line: 44>\u001b[0;34m()\u001b[0m\n\u001b[1;32m     42\u001b[0m \u001b[0;34m\u001b[0m\u001b[0m\n\u001b[1;32m     43\u001b[0m \u001b[0;31m# 'summarize_content' 컬럼 생성\u001b[0m\u001b[0;34m\u001b[0m\u001b[0;34m\u001b[0m\u001b[0m\n\u001b[0;32m---> 44\u001b[0;31m \u001b[0mhaksa_copy\u001b[0m\u001b[0;34m[\u001b[0m\u001b[0;34m'summarize_content'\u001b[0m\u001b[0;34m]\u001b[0m \u001b[0;34m=\u001b[0m \u001b[0mhaksa_copy\u001b[0m\u001b[0;34m.\u001b[0m\u001b[0mapply\u001b[0m\u001b[0;34m(\u001b[0m\u001b[0;32mlambda\u001b[0m \u001b[0mrow\u001b[0m\u001b[0;34m:\u001b[0m \u001b[0msummarize_content\u001b[0m\u001b[0;34m(\u001b[0m\u001b[0mrow\u001b[0m\u001b[0;34m[\u001b[0m\u001b[0;34m'title'\u001b[0m\u001b[0;34m]\u001b[0m\u001b[0;34m,\u001b[0m \u001b[0mrow\u001b[0m\u001b[0;34m[\u001b[0m\u001b[0;34m'content'\u001b[0m\u001b[0;34m]\u001b[0m\u001b[0;34m)\u001b[0m\u001b[0;34m,\u001b[0m \u001b[0maxis\u001b[0m\u001b[0;34m=\u001b[0m\u001b[0;36m1\u001b[0m\u001b[0;34m)\u001b[0m\u001b[0;34m\u001b[0m\u001b[0;34m\u001b[0m\u001b[0m\n\u001b[0m\u001b[1;32m     45\u001b[0m \u001b[0;34m\u001b[0m\u001b[0m\n\u001b[1;32m     46\u001b[0m \u001b[0;34m\u001b[0m\u001b[0m\n",
            "\u001b[0;32m/usr/local/lib/python3.10/dist-packages/pandas/core/frame.py\u001b[0m in \u001b[0;36mapply\u001b[0;34m(self, func, axis, raw, result_type, args, **kwargs)\u001b[0m\n\u001b[1;32m   9421\u001b[0m             \u001b[0mkwargs\u001b[0m\u001b[0;34m=\u001b[0m\u001b[0mkwargs\u001b[0m\u001b[0;34m,\u001b[0m\u001b[0;34m\u001b[0m\u001b[0;34m\u001b[0m\u001b[0m\n\u001b[1;32m   9422\u001b[0m         )\n\u001b[0;32m-> 9423\u001b[0;31m         \u001b[0;32mreturn\u001b[0m \u001b[0mop\u001b[0m\u001b[0;34m.\u001b[0m\u001b[0mapply\u001b[0m\u001b[0;34m(\u001b[0m\u001b[0;34m)\u001b[0m\u001b[0;34m.\u001b[0m\u001b[0m__finalize__\u001b[0m\u001b[0;34m(\u001b[0m\u001b[0mself\u001b[0m\u001b[0;34m,\u001b[0m \u001b[0mmethod\u001b[0m\u001b[0;34m=\u001b[0m\u001b[0;34m\"apply\"\u001b[0m\u001b[0;34m)\u001b[0m\u001b[0;34m\u001b[0m\u001b[0;34m\u001b[0m\u001b[0m\n\u001b[0m\u001b[1;32m   9424\u001b[0m \u001b[0;34m\u001b[0m\u001b[0m\n\u001b[1;32m   9425\u001b[0m     def applymap(\n",
            "\u001b[0;32m/usr/local/lib/python3.10/dist-packages/pandas/core/apply.py\u001b[0m in \u001b[0;36mapply\u001b[0;34m(self)\u001b[0m\n\u001b[1;32m    676\u001b[0m             \u001b[0;32mreturn\u001b[0m \u001b[0mself\u001b[0m\u001b[0;34m.\u001b[0m\u001b[0mapply_raw\u001b[0m\u001b[0;34m(\u001b[0m\u001b[0;34m)\u001b[0m\u001b[0;34m\u001b[0m\u001b[0;34m\u001b[0m\u001b[0m\n\u001b[1;32m    677\u001b[0m \u001b[0;34m\u001b[0m\u001b[0m\n\u001b[0;32m--> 678\u001b[0;31m         \u001b[0;32mreturn\u001b[0m \u001b[0mself\u001b[0m\u001b[0;34m.\u001b[0m\u001b[0mapply_standard\u001b[0m\u001b[0;34m(\u001b[0m\u001b[0;34m)\u001b[0m\u001b[0;34m\u001b[0m\u001b[0;34m\u001b[0m\u001b[0m\n\u001b[0m\u001b[1;32m    679\u001b[0m \u001b[0;34m\u001b[0m\u001b[0m\n\u001b[1;32m    680\u001b[0m     \u001b[0;32mdef\u001b[0m \u001b[0magg\u001b[0m\u001b[0;34m(\u001b[0m\u001b[0mself\u001b[0m\u001b[0;34m)\u001b[0m\u001b[0;34m:\u001b[0m\u001b[0;34m\u001b[0m\u001b[0;34m\u001b[0m\u001b[0m\n",
            "\u001b[0;32m/usr/local/lib/python3.10/dist-packages/pandas/core/apply.py\u001b[0m in \u001b[0;36mapply_standard\u001b[0;34m(self)\u001b[0m\n\u001b[1;32m    796\u001b[0m \u001b[0;34m\u001b[0m\u001b[0m\n\u001b[1;32m    797\u001b[0m     \u001b[0;32mdef\u001b[0m \u001b[0mapply_standard\u001b[0m\u001b[0;34m(\u001b[0m\u001b[0mself\u001b[0m\u001b[0;34m)\u001b[0m\u001b[0;34m:\u001b[0m\u001b[0;34m\u001b[0m\u001b[0;34m\u001b[0m\u001b[0m\n\u001b[0;32m--> 798\u001b[0;31m         \u001b[0mresults\u001b[0m\u001b[0;34m,\u001b[0m \u001b[0mres_index\u001b[0m \u001b[0;34m=\u001b[0m \u001b[0mself\u001b[0m\u001b[0;34m.\u001b[0m\u001b[0mapply_series_generator\u001b[0m\u001b[0;34m(\u001b[0m\u001b[0;34m)\u001b[0m\u001b[0;34m\u001b[0m\u001b[0;34m\u001b[0m\u001b[0m\n\u001b[0m\u001b[1;32m    799\u001b[0m \u001b[0;34m\u001b[0m\u001b[0m\n\u001b[1;32m    800\u001b[0m         \u001b[0;31m# wrap results\u001b[0m\u001b[0;34m\u001b[0m\u001b[0;34m\u001b[0m\u001b[0m\n",
            "\u001b[0;32m/usr/local/lib/python3.10/dist-packages/pandas/core/apply.py\u001b[0m in \u001b[0;36mapply_series_generator\u001b[0;34m(self)\u001b[0m\n\u001b[1;32m    812\u001b[0m             \u001b[0;32mfor\u001b[0m \u001b[0mi\u001b[0m\u001b[0;34m,\u001b[0m \u001b[0mv\u001b[0m \u001b[0;32min\u001b[0m \u001b[0menumerate\u001b[0m\u001b[0;34m(\u001b[0m\u001b[0mseries_gen\u001b[0m\u001b[0;34m)\u001b[0m\u001b[0;34m:\u001b[0m\u001b[0;34m\u001b[0m\u001b[0;34m\u001b[0m\u001b[0m\n\u001b[1;32m    813\u001b[0m                 \u001b[0;31m# ignore SettingWithCopy here in case the user mutates\u001b[0m\u001b[0;34m\u001b[0m\u001b[0;34m\u001b[0m\u001b[0m\n\u001b[0;32m--> 814\u001b[0;31m                 \u001b[0mresults\u001b[0m\u001b[0;34m[\u001b[0m\u001b[0mi\u001b[0m\u001b[0;34m]\u001b[0m \u001b[0;34m=\u001b[0m \u001b[0mself\u001b[0m\u001b[0;34m.\u001b[0m\u001b[0mf\u001b[0m\u001b[0;34m(\u001b[0m\u001b[0mv\u001b[0m\u001b[0;34m)\u001b[0m\u001b[0;34m\u001b[0m\u001b[0;34m\u001b[0m\u001b[0m\n\u001b[0m\u001b[1;32m    815\u001b[0m                 \u001b[0;32mif\u001b[0m \u001b[0misinstance\u001b[0m\u001b[0;34m(\u001b[0m\u001b[0mresults\u001b[0m\u001b[0;34m[\u001b[0m\u001b[0mi\u001b[0m\u001b[0;34m]\u001b[0m\u001b[0;34m,\u001b[0m \u001b[0mABCSeries\u001b[0m\u001b[0;34m)\u001b[0m\u001b[0;34m:\u001b[0m\u001b[0;34m\u001b[0m\u001b[0;34m\u001b[0m\u001b[0m\n\u001b[1;32m    816\u001b[0m                     \u001b[0;31m# If we have a view on v, we need to make a copy because\u001b[0m\u001b[0;34m\u001b[0m\u001b[0;34m\u001b[0m\u001b[0m\n",
            "\u001b[0;32m<ipython-input-17-31a49662ea27>\u001b[0m in \u001b[0;36m<lambda>\u001b[0;34m(row)\u001b[0m\n\u001b[1;32m     42\u001b[0m \u001b[0;34m\u001b[0m\u001b[0m\n\u001b[1;32m     43\u001b[0m \u001b[0;31m# 'summarize_content' 컬럼 생성\u001b[0m\u001b[0;34m\u001b[0m\u001b[0;34m\u001b[0m\u001b[0m\n\u001b[0;32m---> 44\u001b[0;31m \u001b[0mhaksa_copy\u001b[0m\u001b[0;34m[\u001b[0m\u001b[0;34m'summarize_content'\u001b[0m\u001b[0;34m]\u001b[0m \u001b[0;34m=\u001b[0m \u001b[0mhaksa_copy\u001b[0m\u001b[0;34m.\u001b[0m\u001b[0mapply\u001b[0m\u001b[0;34m(\u001b[0m\u001b[0;32mlambda\u001b[0m \u001b[0mrow\u001b[0m\u001b[0;34m:\u001b[0m \u001b[0msummarize_content\u001b[0m\u001b[0;34m(\u001b[0m\u001b[0mrow\u001b[0m\u001b[0;34m[\u001b[0m\u001b[0;34m'title'\u001b[0m\u001b[0;34m]\u001b[0m\u001b[0;34m,\u001b[0m \u001b[0mrow\u001b[0m\u001b[0;34m[\u001b[0m\u001b[0;34m'content'\u001b[0m\u001b[0;34m]\u001b[0m\u001b[0;34m)\u001b[0m\u001b[0;34m,\u001b[0m \u001b[0maxis\u001b[0m\u001b[0;34m=\u001b[0m\u001b[0;36m1\u001b[0m\u001b[0;34m)\u001b[0m\u001b[0;34m\u001b[0m\u001b[0;34m\u001b[0m\u001b[0m\n\u001b[0m\u001b[1;32m     45\u001b[0m \u001b[0;34m\u001b[0m\u001b[0m\n\u001b[1;32m     46\u001b[0m \u001b[0;34m\u001b[0m\u001b[0m\n",
            "\u001b[0;32m<ipython-input-17-31a49662ea27>\u001b[0m in \u001b[0;36msummarize_content\u001b[0;34m(title, content)\u001b[0m\n\u001b[1;32m     32\u001b[0m     \u001b[0;31m# 요약 수행\u001b[0m\u001b[0;34m\u001b[0m\u001b[0;34m\u001b[0m\u001b[0m\n\u001b[1;32m     33\u001b[0m     \u001b[0;32mtry\u001b[0m\u001b[0;34m:\u001b[0m\u001b[0;34m\u001b[0m\u001b[0;34m\u001b[0m\u001b[0m\n\u001b[0;32m---> 34\u001b[0;31m         \u001b[0mkeysents\u001b[0m \u001b[0;34m=\u001b[0m \u001b[0msummarizer\u001b[0m\u001b[0;34m.\u001b[0m\u001b[0msummarize\u001b[0m\u001b[0;34m(\u001b[0m\u001b[0msents\u001b[0m\u001b[0;34m,\u001b[0m \u001b[0mtopk\u001b[0m\u001b[0;34m=\u001b[0m\u001b[0;36m3\u001b[0m\u001b[0;34m)\u001b[0m\u001b[0;34m\u001b[0m\u001b[0;34m\u001b[0m\u001b[0m\n\u001b[0m\u001b[1;32m     35\u001b[0m     \u001b[0;32mexcept\u001b[0m \u001b[0mValueError\u001b[0m \u001b[0;32mas\u001b[0m \u001b[0me\u001b[0m\u001b[0;34m:\u001b[0m\u001b[0;34m\u001b[0m\u001b[0;34m\u001b[0m\u001b[0m\n\u001b[1;32m     36\u001b[0m         \u001b[0;31m# 요약 도중 에러 발생시 빈 리스트 반환\u001b[0m\u001b[0;34m\u001b[0m\u001b[0;34m\u001b[0m\u001b[0m\n",
            "\u001b[0;32m/content/textrank/textrank/summarizer.py\u001b[0m in \u001b[0;36msummarize\u001b[0;34m(self, sents, topk, bias)\u001b[0m\n\u001b[1;32m    192\u001b[0m             \u001b[0;32mraise\u001b[0m \u001b[0mValueError\u001b[0m\u001b[0;34m(\u001b[0m\u001b[0;34m'The type of bias must be None or numpy.ndarray but the type is {}'\u001b[0m\u001b[0;34m.\u001b[0m\u001b[0mformat\u001b[0m\u001b[0;34m(\u001b[0m\u001b[0mtype\u001b[0m\u001b[0;34m(\u001b[0m\u001b[0mbias\u001b[0m\u001b[0;34m)\u001b[0m\u001b[0;34m)\u001b[0m\u001b[0;34m)\u001b[0m\u001b[0;34m\u001b[0m\u001b[0;34m\u001b[0m\u001b[0m\n\u001b[1;32m    193\u001b[0m \u001b[0;34m\u001b[0m\u001b[0m\n\u001b[0;32m--> 194\u001b[0;31m         \u001b[0mself\u001b[0m\u001b[0;34m.\u001b[0m\u001b[0mtrain_textrank\u001b[0m\u001b[0;34m(\u001b[0m\u001b[0msents\u001b[0m\u001b[0;34m,\u001b[0m \u001b[0mbias\u001b[0m\u001b[0;34m)\u001b[0m\u001b[0;34m\u001b[0m\u001b[0;34m\u001b[0m\u001b[0m\n\u001b[0m\u001b[1;32m    195\u001b[0m         \u001b[0midxs\u001b[0m \u001b[0;34m=\u001b[0m \u001b[0mself\u001b[0m\u001b[0;34m.\u001b[0m\u001b[0mR\u001b[0m\u001b[0;34m.\u001b[0m\u001b[0margsort\u001b[0m\u001b[0;34m(\u001b[0m\u001b[0;34m)\u001b[0m\u001b[0;34m[\u001b[0m\u001b[0;34m-\u001b[0m\u001b[0mtopk\u001b[0m\u001b[0;34m:\u001b[0m\u001b[0;34m]\u001b[0m\u001b[0;34m\u001b[0m\u001b[0;34m\u001b[0m\u001b[0m\n\u001b[1;32m    196\u001b[0m         \u001b[0mkeysents\u001b[0m \u001b[0;34m=\u001b[0m \u001b[0;34m[\u001b[0m\u001b[0;34m(\u001b[0m\u001b[0midx\u001b[0m\u001b[0;34m,\u001b[0m \u001b[0mself\u001b[0m\u001b[0;34m.\u001b[0m\u001b[0mR\u001b[0m\u001b[0;34m[\u001b[0m\u001b[0midx\u001b[0m\u001b[0;34m]\u001b[0m\u001b[0;34m,\u001b[0m \u001b[0msents\u001b[0m\u001b[0;34m[\u001b[0m\u001b[0midx\u001b[0m\u001b[0;34m]\u001b[0m\u001b[0;34m)\u001b[0m \u001b[0;32mfor\u001b[0m \u001b[0midx\u001b[0m \u001b[0;32min\u001b[0m \u001b[0mreversed\u001b[0m\u001b[0;34m(\u001b[0m\u001b[0midxs\u001b[0m\u001b[0;34m)\u001b[0m\u001b[0;34m]\u001b[0m\u001b[0;34m\u001b[0m\u001b[0;34m\u001b[0m\u001b[0m\n",
            "\u001b[0;32m/content/textrank/textrank/summarizer.py\u001b[0m in \u001b[0;36mtrain_textrank\u001b[0;34m(self, sents, bias)\u001b[0m\n\u001b[1;32m    155\u001b[0m         \u001b[0;32mNone\u001b[0m\u001b[0;34m\u001b[0m\u001b[0;34m\u001b[0m\u001b[0m\n\u001b[1;32m    156\u001b[0m         \"\"\"\n\u001b[0;32m--> 157\u001b[0;31m         g = sent_graph(sents, self.tokenize, self.min_count,\n\u001b[0m\u001b[1;32m    158\u001b[0m             self.min_sim, self.similarity, self.vocab_to_idx, self.verbose)\n\u001b[1;32m    159\u001b[0m         \u001b[0mself\u001b[0m\u001b[0;34m.\u001b[0m\u001b[0mR\u001b[0m \u001b[0;34m=\u001b[0m \u001b[0mpagerank\u001b[0m\u001b[0;34m(\u001b[0m\u001b[0mg\u001b[0m\u001b[0;34m,\u001b[0m \u001b[0mself\u001b[0m\u001b[0;34m.\u001b[0m\u001b[0mdf\u001b[0m\u001b[0;34m,\u001b[0m \u001b[0mself\u001b[0m\u001b[0;34m.\u001b[0m\u001b[0mmax_iter\u001b[0m\u001b[0;34m,\u001b[0m \u001b[0mbias\u001b[0m\u001b[0;34m)\u001b[0m\u001b[0;34m.\u001b[0m\u001b[0mreshape\u001b[0m\u001b[0;34m(\u001b[0m\u001b[0;34m-\u001b[0m\u001b[0;36m1\u001b[0m\u001b[0;34m)\u001b[0m\u001b[0;34m\u001b[0m\u001b[0;34m\u001b[0m\u001b[0m\n",
            "\u001b[0;32m/content/textrank/textrank/sentence.py\u001b[0m in \u001b[0;36msent_graph\u001b[0;34m(sents, tokenize, min_count, min_sim, similarity, vocab_to_idx, verbose)\u001b[0m\n\u001b[1;32m     44\u001b[0m         \u001b[0midx_to_vocab\u001b[0m \u001b[0;34m=\u001b[0m \u001b[0;34m[\u001b[0m\u001b[0mvocab\u001b[0m \u001b[0;32mfor\u001b[0m \u001b[0mvocab\u001b[0m\u001b[0;34m,\u001b[0m \u001b[0m_\u001b[0m \u001b[0;32min\u001b[0m \u001b[0msorted\u001b[0m\u001b[0;34m(\u001b[0m\u001b[0mvocab_to_idx\u001b[0m\u001b[0;34m.\u001b[0m\u001b[0mitems\u001b[0m\u001b[0;34m(\u001b[0m\u001b[0;34m)\u001b[0m\u001b[0;34m,\u001b[0m \u001b[0mkey\u001b[0m\u001b[0;34m=\u001b[0m\u001b[0;32mlambda\u001b[0m \u001b[0mx\u001b[0m\u001b[0;34m:\u001b[0m\u001b[0mx\u001b[0m\u001b[0;34m[\u001b[0m\u001b[0;36m1\u001b[0m\u001b[0;34m]\u001b[0m\u001b[0;34m)\u001b[0m\u001b[0;34m]\u001b[0m\u001b[0;34m\u001b[0m\u001b[0;34m\u001b[0m\u001b[0m\n\u001b[1;32m     45\u001b[0m \u001b[0;34m\u001b[0m\u001b[0m\n\u001b[0;32m---> 46\u001b[0;31m     \u001b[0mx\u001b[0m \u001b[0;34m=\u001b[0m \u001b[0mvectorize_sents\u001b[0m\u001b[0;34m(\u001b[0m\u001b[0msents\u001b[0m\u001b[0;34m,\u001b[0m \u001b[0mtokenize\u001b[0m\u001b[0;34m,\u001b[0m \u001b[0mvocab_to_idx\u001b[0m\u001b[0;34m)\u001b[0m\u001b[0;34m\u001b[0m\u001b[0;34m\u001b[0m\u001b[0m\n\u001b[0m\u001b[1;32m     47\u001b[0m     \u001b[0;32mif\u001b[0m \u001b[0msimilarity\u001b[0m \u001b[0;34m==\u001b[0m \u001b[0;34m'cosine'\u001b[0m\u001b[0;34m:\u001b[0m\u001b[0;34m\u001b[0m\u001b[0;34m\u001b[0m\u001b[0m\n\u001b[1;32m     48\u001b[0m         \u001b[0mx\u001b[0m \u001b[0;34m=\u001b[0m \u001b[0mnumpy_cosine_similarity_matrix\u001b[0m\u001b[0;34m(\u001b[0m\u001b[0mx\u001b[0m\u001b[0;34m,\u001b[0m \u001b[0mmin_sim\u001b[0m\u001b[0;34m,\u001b[0m \u001b[0mverbose\u001b[0m\u001b[0;34m,\u001b[0m \u001b[0mbatch_size\u001b[0m\u001b[0;34m=\u001b[0m\u001b[0;36m1000\u001b[0m\u001b[0;34m)\u001b[0m\u001b[0;34m\u001b[0m\u001b[0;34m\u001b[0m\u001b[0m\n",
            "\u001b[0;32m/content/textrank/textrank/sentence.py\u001b[0m in \u001b[0;36mvectorize_sents\u001b[0;34m(sents, tokenize, vocab_to_idx)\u001b[0m\n\u001b[1;32m     54\u001b[0m     \u001b[0mrows\u001b[0m\u001b[0;34m,\u001b[0m \u001b[0mcols\u001b[0m\u001b[0;34m,\u001b[0m \u001b[0mdata\u001b[0m \u001b[0;34m=\u001b[0m \u001b[0;34m[\u001b[0m\u001b[0;34m]\u001b[0m\u001b[0;34m,\u001b[0m \u001b[0;34m[\u001b[0m\u001b[0;34m]\u001b[0m\u001b[0;34m,\u001b[0m \u001b[0;34m[\u001b[0m\u001b[0;34m]\u001b[0m\u001b[0;34m\u001b[0m\u001b[0;34m\u001b[0m\u001b[0m\n\u001b[1;32m     55\u001b[0m     \u001b[0;32mfor\u001b[0m \u001b[0mi\u001b[0m\u001b[0;34m,\u001b[0m \u001b[0msent\u001b[0m \u001b[0;32min\u001b[0m \u001b[0menumerate\u001b[0m\u001b[0;34m(\u001b[0m\u001b[0msents\u001b[0m\u001b[0;34m)\u001b[0m\u001b[0;34m:\u001b[0m\u001b[0;34m\u001b[0m\u001b[0;34m\u001b[0m\u001b[0m\n\u001b[0;32m---> 56\u001b[0;31m         \u001b[0mcounter\u001b[0m \u001b[0;34m=\u001b[0m \u001b[0mCounter\u001b[0m\u001b[0;34m(\u001b[0m\u001b[0mtokenize\u001b[0m\u001b[0;34m(\u001b[0m\u001b[0msent\u001b[0m\u001b[0;34m)\u001b[0m\u001b[0;34m)\u001b[0m\u001b[0;34m\u001b[0m\u001b[0;34m\u001b[0m\u001b[0m\n\u001b[0m\u001b[1;32m     57\u001b[0m         \u001b[0;32mfor\u001b[0m \u001b[0mtoken\u001b[0m\u001b[0;34m,\u001b[0m \u001b[0mcount\u001b[0m \u001b[0;32min\u001b[0m \u001b[0mcounter\u001b[0m\u001b[0;34m.\u001b[0m\u001b[0mitems\u001b[0m\u001b[0;34m(\u001b[0m\u001b[0;34m)\u001b[0m\u001b[0;34m:\u001b[0m\u001b[0;34m\u001b[0m\u001b[0;34m\u001b[0m\u001b[0m\n\u001b[1;32m     58\u001b[0m             \u001b[0mj\u001b[0m \u001b[0;34m=\u001b[0m \u001b[0mvocab_to_idx\u001b[0m\u001b[0;34m.\u001b[0m\u001b[0mget\u001b[0m\u001b[0;34m(\u001b[0m\u001b[0mtoken\u001b[0m\u001b[0;34m,\u001b[0m \u001b[0;34m-\u001b[0m\u001b[0;36m1\u001b[0m\u001b[0;34m)\u001b[0m\u001b[0;34m\u001b[0m\u001b[0;34m\u001b[0m\u001b[0m\n",
            "\u001b[0;32m<ipython-input-13-ccfa7933b6e9>\u001b[0m in \u001b[0;36mokt_tokenize\u001b[0;34m(sent)\u001b[0m\n\u001b[1;32m      4\u001b[0m \u001b[0;34m\u001b[0m\u001b[0m\n\u001b[1;32m      5\u001b[0m \u001b[0;32mdef\u001b[0m \u001b[0mokt_tokenize\u001b[0m\u001b[0;34m(\u001b[0m\u001b[0msent\u001b[0m\u001b[0;34m)\u001b[0m\u001b[0;34m:\u001b[0m\u001b[0;34m\u001b[0m\u001b[0;34m\u001b[0m\u001b[0m\n\u001b[0;32m----> 6\u001b[0;31m     \u001b[0mwords\u001b[0m \u001b[0;34m=\u001b[0m \u001b[0mokt\u001b[0m\u001b[0;34m.\u001b[0m\u001b[0mpos\u001b[0m\u001b[0;34m(\u001b[0m\u001b[0msent\u001b[0m\u001b[0;34m,\u001b[0m \u001b[0mjoin\u001b[0m\u001b[0;34m=\u001b[0m\u001b[0;32mTrue\u001b[0m\u001b[0;34m)\u001b[0m\u001b[0;34m\u001b[0m\u001b[0;34m\u001b[0m\u001b[0m\n\u001b[0m\u001b[1;32m      7\u001b[0m     \u001b[0mwords\u001b[0m \u001b[0;34m=\u001b[0m \u001b[0;34m[\u001b[0m\u001b[0mw\u001b[0m \u001b[0;32mfor\u001b[0m \u001b[0mw\u001b[0m \u001b[0;32min\u001b[0m \u001b[0mwords\u001b[0m \u001b[0;32mif\u001b[0m \u001b[0;34m(\u001b[0m\u001b[0;34m'/Noun'\u001b[0m \u001b[0;32min\u001b[0m \u001b[0mw\u001b[0m \u001b[0;32mor\u001b[0m \u001b[0;34m'/Adjective'\u001b[0m \u001b[0;32min\u001b[0m \u001b[0mw\u001b[0m \u001b[0;32mor\u001b[0m \u001b[0;34m'/Verb'\u001b[0m \u001b[0;32min\u001b[0m \u001b[0mw\u001b[0m\u001b[0;34m)\u001b[0m\u001b[0;34m]\u001b[0m\u001b[0;34m\u001b[0m\u001b[0;34m\u001b[0m\u001b[0m\n\u001b[1;32m      8\u001b[0m     \u001b[0;32mreturn\u001b[0m \u001b[0mwords\u001b[0m\u001b[0;34m\u001b[0m\u001b[0;34m\u001b[0m\u001b[0m\n",
            "\u001b[0;32m/usr/local/lib/python3.10/dist-packages/konlpy/tag/_okt.py\u001b[0m in \u001b[0;36mpos\u001b[0;34m(self, phrase, norm, stem, join)\u001b[0m\n\u001b[1;32m     69\u001b[0m         \u001b[0mvalidate_phrase_inputs\u001b[0m\u001b[0;34m(\u001b[0m\u001b[0mphrase\u001b[0m\u001b[0;34m)\u001b[0m\u001b[0;34m\u001b[0m\u001b[0;34m\u001b[0m\u001b[0m\n\u001b[1;32m     70\u001b[0m \u001b[0;34m\u001b[0m\u001b[0m\n\u001b[0;32m---> 71\u001b[0;31m         tokens = self.jki.tokenize(\n\u001b[0m\u001b[1;32m     72\u001b[0m                     \u001b[0mphrase\u001b[0m\u001b[0;34m,\u001b[0m\u001b[0;34m\u001b[0m\u001b[0;34m\u001b[0m\u001b[0m\n\u001b[1;32m     73\u001b[0m                     \u001b[0mjpype\u001b[0m\u001b[0;34m.\u001b[0m\u001b[0mjava\u001b[0m\u001b[0;34m.\u001b[0m\u001b[0mlang\u001b[0m\u001b[0;34m.\u001b[0m\u001b[0mBoolean\u001b[0m\u001b[0;34m(\u001b[0m\u001b[0mnorm\u001b[0m\u001b[0;34m)\u001b[0m\u001b[0;34m,\u001b[0m\u001b[0;34m\u001b[0m\u001b[0;34m\u001b[0m\u001b[0m\n",
            "\u001b[0;31mKeyboardInterrupt\u001b[0m: "
          ]
        }
      ]
    },
    {
      "cell_type": "code",
      "source": [
        "# 인덱스 번호 검색하기\n",
        "index = haksa_copy[haksa_copy['title'] == \"2021년 1학기 EU융합전공 개편/신설 안내 (카드뉴스)\"].index\n",
        "print(index)"
      ],
      "metadata": {
        "colab": {
          "base_uri": "https://localhost:8080/"
        },
        "id": "8Ux8A5IjbLOI",
        "outputId": "bde7a8e2-35d9-4ac2-ec13-66d7e2b27771"
      },
      "execution_count": null,
      "outputs": [
        {
          "output_type": "stream",
          "name": "stdout",
          "text": [
            "Index([133], dtype='int64')\n"
          ]
        }
      ]
    },
    {
      "cell_type": "code",
      "source": [
        "haksa_copy.loc[133]"
      ],
      "metadata": {
        "colab": {
          "base_uri": "https://localhost:8080/"
        },
        "id": "MfBAQ_1UeCBg",
        "outputId": "a790bc74-fb48-47f4-9719-8b58c5fe3823"
      },
      "execution_count": null,
      "outputs": [
        {
          "output_type": "execute_result",
          "data": {
            "text/plain": [
              "index                                                              134\n",
              "date                                                        2020-11-19\n",
              "title                                 2021년 1학기 EU융합전공 개편/신설 안내 (카드뉴스)\n",
              "content              \\n2021년 1학기부터 EU 융합전공의 과목들이 신설/개편됩니다.더 자세한 내용은...\n",
              "summarize_content                                                   []\n",
              "Name: 133, dtype: object"
            ]
          },
          "metadata": {},
          "execution_count": 28
        }
      ]
    },
    {
      "cell_type": "code",
      "source": [
        "haksa_copy.loc[133,'content']"
      ],
      "metadata": {
        "colab": {
          "base_uri": "https://localhost:8080/",
          "height": 35
        },
        "id": "ULDhdc22cl9n",
        "outputId": "79016e0d-7acf-4826-9fc1-45e8ef682b23"
      },
      "execution_count": null,
      "outputs": [
        {
          "output_type": "execute_result",
          "data": {
            "text/plain": [
              "'\\n2021년 1학기부터 EU 융합전공의 과목들이 신설/개편됩니다.더 자세한 내용은 아래의 그림카드 뉴스를 참조해주시기 바랍니다.\\n'"
            ],
            "application/vnd.google.colaboratory.intrinsic+json": {
              "type": "string"
            }
          },
          "metadata": {},
          "execution_count": 48
        }
      ]
    },
    {
      "cell_type": "code",
      "source": [
        "haksa_copy.loc[133,'summarize_content']"
      ],
      "metadata": {
        "colab": {
          "base_uri": "https://localhost:8080/"
        },
        "id": "A20i7RdkeIs1",
        "outputId": "541c2d96-a3fa-4fe5-d884-202997ae863c"
      },
      "execution_count": null,
      "outputs": [
        {
          "output_type": "execute_result",
          "data": {
            "text/plain": [
              "['2021년 1학기부터 EU 융합전공의 과목들이 신설/개편됩니다', '더 자세한 내용은 아래의 그림카드 뉴스를 참조해주시기 바랍니다']"
            ]
          },
          "metadata": {},
          "execution_count": 49
        }
      ]
    },
    {
      "cell_type": "code",
      "source": [],
      "metadata": {
        "id": "Fk6l5XWCcYlf"
      },
      "execution_count": null,
      "outputs": []
    },
    {
      "cell_type": "markdown",
      "source": [
        "### 영어 개선 공지 오류"
      ],
      "metadata": {
        "id": "A9VMZppBcZB-"
      }
    },
    {
      "cell_type": "markdown",
      "source": [
        "- 2 / 621\n",
        "\n",
        "- haksa_copy.loc[115]\n",
        "  - [서울] 강의실 호실 안내, Summarizer error: object dtype is not supported by sparse matrices\n",
        "\n",
        "- haksa_copy.loc[133]\n",
        "  - 2021년 1학기 EU융합전공 개편/신설 안내 (카드뉴스), Summarizer error: object dtype is not supported by sparse matrices"
      ],
      "metadata": {
        "id": "Sbs8ZvGpdaCL"
      }
    },
    {
      "cell_type": "code",
      "source": [
        "# 영어 불용어 처리 해주기\n",
        "\n",
        "import re\n",
        "import pandas as pd\n",
        "\n",
        "def summarize_content(title, content):\n",
        "    global cnt_error  # 전역 변수로 cnt_error를 사용\n",
        "\n",
        "    # 영어 게시글만 필터링 (장학금명 등이 지워지지 않도록)\n",
        "    if is_english_only(content):\n",
        "        return []\n",
        "\n",
        "    if not content:\n",
        "        return []\n",
        "\n",
        "    if isinstance(content, list):\n",
        "        content = ' '.join(content)\n",
        "\n",
        "    if not content.strip():\n",
        "        return []\n",
        "\n",
        "    sents = re.split(r'\\n|\\.', content)\n",
        "\n",
        "    sents = list(filter(None, sents))\n",
        "\n",
        "    sents = [sent for sent in sents if sent.strip()]\n",
        "\n",
        "    if not sents:\n",
        "        return []\n",
        "\n",
        "    if len(sents) == 1:\n",
        "        return sents\n",
        "\n",
        "    # 요약 수행\n",
        "    try:\n",
        "        keysents = summarizer.summarize(sents, topk=3)\n",
        "    except ValueError as e:\n",
        "        # 요약 도중 에러 발생시 빈 리스트 반환\n",
        "        cnt_error += 1\n",
        "        print(f\"{cnt_error}. {title}, Summarizer error: {e}\")\n",
        "        #return [] #빈리스트 반환에서 그냥 반환으로 바꿈\n",
        "        return sents\n",
        "\n",
        "    return [item[2] for item in keysents]\n",
        "\n",
        "# 완전히 영어로 된 글만 찾아내는 함수\n",
        "def is_english_only(text):\n",
        "    # 한글이 포함된 글을 제외\n",
        "    if re.search('[가-힣]', text):\n",
        "        return False\n",
        "    # 영어 이외의 다른 언어가 포함된 글을 제외\n",
        "    if not re.match('^[a-zA-Z\\s]*$', text):\n",
        "        return True\n",
        "    return False\n",
        "\n",
        "\n",
        "cnt_error = 0\n",
        "# 'summarize_content' 컬럼 생성\n",
        "haksa_copy['summarize_content'] = haksa_copy.apply(lambda row: summarize_content(row['title'], row['content']), axis=1)\n",
        "\n",
        "\n",
        "# 결과 출력\n",
        "print(haksa_copy['summarize_content'])"
      ],
      "metadata": {
        "colab": {
          "base_uri": "https://localhost:8080/"
        },
        "id": "bvsoOm-cd7sc",
        "outputId": "905e5206-751f-45d6-aa60-83eecb367556"
      },
      "execution_count": 11,
      "outputs": [
        {
          "output_type": "stream",
          "name": "stdout",
          "text": [
            "1. [서울] 강의실 호실 안내, Summarizer error: object dtype is not supported by sparse matrices\n",
            "2. 2021년 1학기 EU융합전공 개편/신설 안내 (카드뉴스), Summarizer error: object dtype is not supported by sparse matrices\n",
            "0      [ 결과조회 : 종합정보시스템 → 전공/교직관리 → 이중전공 변경신청 → 안내사항,...\n",
            "1      [ 수강신청 방법방 법내 용예비수강신청함 활용- 학교 홈페이지 ? Hot Link ...\n",
            "2      [2020학년도 전기 국제지역대학원 학석사연계과정 모집 안내,  글로벌캠퍼스: 학사...\n",
            "3      [2020학년도 전기 일반대학원 학석사연계과정 모집 안내,  글로벌캠퍼스: 학사종합...\n",
            "4      [ 참고사항 1) 계절학기 수강생의 경우 추후 계절학기 성적반영 시 결과가 달라질 ...\n",
            "                             ...                        \n",
            "617    [  생리로 인한 유고결석 신청 방법을 아래와 같이 안내합니다,  생리로 인한 유고...\n",
            "618    [ 조기취업자의 유고결석 인정은 출석인정만을 위한 것으로 조기취업자에 대해 교과목학...\n",
            "619    [초급비즈니스영어(효과적인커뮤니케이션을위한전략), 폐강 강좌를 수강신청한 학생은 아...\n",
            "620           [미네르바교양대학(서울), 미네르바교양대학(서울), 미네르바교양대학(서울)]\n",
            "621    [계절학기는 2학기 개설 교과목 대상)으로 하며 캠퍼스·학과(부)간 수요조사 참여의...\n",
            "Name: summarize_content, Length: 622, dtype: object\n"
          ]
        }
      ]
    },
    {
      "cell_type": "code",
      "source": [
        "haksa_copy.loc[333, 'content']"
      ],
      "metadata": {
        "colab": {
          "base_uri": "https://localhost:8080/",
          "height": 72
        },
        "id": "FfhuroETGMeO",
        "outputId": "a564387d-589b-4653-e857-d9ea303630b3"
      },
      "execution_count": 12,
      "outputs": [
        {
          "output_type": "execute_result",
          "data": {
            "text/plain": [
              "'\\n\\n휴·보강 공고\\n\\n\\n아래와 같이 휴·보강함을 공고함.\\n \\n- 아 래 - \\n\\n\\n휴강일보강일2022. 3. 9.(수) / 제20대 대통령 선거2022. 6. 8.(수)2022. 4. 20.(수) / 제68주년 개교기념일2022. 6. 10.(금)2022. 5. 5.(목) / 어린이날2022. 6. 9.(목)2022. 6. 1.(수) / 제8회 전국동시지방선거2022. 6. 14.(화)2022. 6. 6.(월) / 현충일2022. 6. 13.(월)\\n \\n※ 개교기념일 및 공휴일로 인한 휴강에 대한 보강은 보강주간(2022. 6. 8.(수) ～ 6. 14.(화))에 실시해야 함.\\n ※ 8주 차 중간고사 주 수요일이 개교기념일이므로, 한 주 뒤인 4. 27.(수)에 중간시험 실시.\\n 4. 20.(수) 휴강에 대한 보강 수업일은 6. 10.(금)임.\\n \\n2022. 2.\\n \\n교무처장\\n \\n\\n'"
            ],
            "application/vnd.google.colaboratory.intrinsic+json": {
              "type": "string"
            }
          },
          "metadata": {},
          "execution_count": 12
        }
      ]
    },
    {
      "cell_type": "code",
      "source": [
        "haksa_copy.loc[338, 'summarize_content']"
      ],
      "metadata": {
        "colab": {
          "base_uri": "https://localhost:8080/"
        },
        "id": "uEDn5ZyCGHMJ",
        "outputId": "45cb032d-ac22-4719-fed1-d22c4641852f"
      },
      "execution_count": 18,
      "outputs": [
        {
          "output_type": "execute_result",
          "data": {
            "text/plain": [
              "['사대생 등 대학생 튜터링(대학생 청소년교육지원장학금 멘토) 학생을 모집하오니,사범대학 및 교직과정 이수 재학생중교육봉사 활동을 진행하고 있는 학생들의 많은 신청 바랍니다',\n",
              " ' 한국장학재단에 튜터링을 신청한 학생은 첨부 파일 4번 <교사대생 한국장학재단 포털 가입 여부 및 튜티 명단> 파일을 작성해서 hufsedu@hufs',\n",
              " ' 활동 인정 가능 시간 및 인정 학점  -1일 8시간, 주당 최대 20시간(방학중 최대 40시간 가능) - 사범대학 학생 및 교직과정 이수생중 이번 학기와 다음 학기에 <교육봉사> 수업을 듣는 학생중 해당 멘토링 사업 참여자는 <교육봉사> 이수 학점 인정과 근로장학금을 동시에 받을 수 있음(올해에 한함']"
            ]
          },
          "metadata": {},
          "execution_count": 18
        }
      ]
    },
    {
      "cell_type": "markdown",
      "source": [
        "### 0601~ 전처리\n"
      ],
      "metadata": {
        "id": "RH9Ee59GFflF"
      }
    },
    {
      "cell_type": "markdown",
      "source": [
        "- okt 토크나이징 불용어 처리로 빼주면 제출처 명 등이 훼손되어 요약의 질이 떨어지는 느낌\n",
        "- 그래서 아예 리스트로 만들어서 해당 리스트 중 단독으로 요약 결과가 선정되는 것이 있으면 제거해주는 것이 어떨지 고민해보게됨\n",
        "- 토크나이징 단계에서 거를 불용어와 요약으로 단독선정되었을 때만 곤란한 애들 구분필요\n",
        "  - 토크나이징 단계에서 걸러버리면 주어가 없어지는 경우가 많아진다\n",
        "  - 차라리 부처명만 단독으로 선정되었거나, 안녕하세요가 있을시 빼달라 등을 넣어둘가싶음"
      ],
      "metadata": {
        "id": "7WWzPi9HFxHL"
      }
    },
    {
      "cell_type": "code",
      "source": [
        "# 이코드 실행 시 불용어 처리된 리스트로 가중치 추가\n",
        "from konlpy.tag import Okt\n",
        "\n",
        "okt = Okt()\n",
        "\n",
        "janghak_sw = []\n",
        "gongji_sw = []\n",
        "haksa_sw = ['Hot Link','교무처장','아래','가','나','다','라','배양', '함', '확인', '문의전화', '문의','전화','QR코드','바로가기',\n",
        "            '공고', '클릭','붙임','서울캠퍼스','글로벌캠퍼스', '첨부파일', '비대면','대면', '기타','통번역','학부','학과',\n",
        "            '학년도','수업','월','화','수','목','금','토','일']\n",
        "hiring_sw = []\n",
        "\n",
        "stop_words = janghak_sw + gongji_sw + haksa_sw + hiring_sw\n",
        "def okt_stopword_tokenize(sent):\n",
        "    words = okt.pos(sent, join=True)\n",
        "    # 불용어 제거\n",
        "    words = [w for w in words if not any(sw in w for sw in stop_words)]\n",
        "    words = [w for w in words if ('/Noun' in w or '/Adjective' in w or '/Verb' in w)]\n",
        "\n",
        "    return words\n",
        "\n",
        "# KeywordSummarizer 인스턴스 생성 _ okt 불용어 적용\n",
        "summarizer = KeysentenceSummarizer(tokenize = okt_stopword_tokenize, min_sim = 0.3)"
      ],
      "metadata": {
        "id": "q44FR5QJeNUQ"
      },
      "execution_count": 9,
      "outputs": []
    },
    {
      "cell_type": "code",
      "source": [
        "sents= haksa_copy.loc[333,'content']\n",
        "okt_stopword_tokenize(sents)"
      ],
      "metadata": {
        "colab": {
          "base_uri": "https://localhost:8080/"
        },
        "id": "unhyK8qmTG9R",
        "outputId": "6cc61172-72bd-4dea-855c-2d1e7347b97b"
      },
      "execution_count": 10,
      "outputs": [
        {
          "output_type": "execute_result",
          "data": {
            "text/plain": [
              "['보강/Noun',\n",
              " '보강/Noun',\n",
              " '휴강/Noun',\n",
              " '제/Noun',\n",
              " '대/Verb',\n",
              " '대통령/Noun',\n",
              " '선거/Noun',\n",
              " '제/Noun',\n",
              " '주년/Noun',\n",
              " '개교/Noun',\n",
              " '어린이날/Noun',\n",
              " '제/Noun',\n",
              " '전국동시/Noun',\n",
              " '지방선거/Noun',\n",
              " '개교/Noun',\n",
              " '및/Noun',\n",
              " '인한/Adjective',\n",
              " '휴강/Noun',\n",
              " '대한/Noun',\n",
              " '보강/Noun',\n",
              " '보강/Noun',\n",
              " '주간/Noun',\n",
              " '실시/Noun',\n",
              " '해야/Verb',\n",
              " '주/Noun',\n",
              " '차/Noun',\n",
              " '중간고사/Noun',\n",
              " '주/Noun',\n",
              " '개교/Noun',\n",
              " '기념/Noun',\n",
              " '므/Noun',\n",
              " '한/Verb',\n",
              " '주/Noun',\n",
              " '뒤/Noun',\n",
              " '중간시험/Noun',\n",
              " '실시/Noun',\n",
              " '휴강/Noun',\n",
              " '대한/Noun',\n",
              " '보강/Noun',\n",
              " '임/Noun']"
            ]
          },
          "metadata": {},
          "execution_count": 10
        }
      ]
    },
    {
      "cell_type": "markdown",
      "source": [
        "## 공지"
      ],
      "metadata": {
        "id": "zqan3NAPfjlF"
      }
    },
    {
      "cell_type": "markdown",
      "source": [
        "**코드 돌아가는데 25분 정도 걸림**\n",
        "\n",
        "**현재 적용 함수에는 외국어 제거랑 코로나 제거 까먹고 안해둔 상태....**\n",
        "\n"
      ],
      "metadata": {
        "id": "GzXE3eQQlzL-"
      }
    },
    {
      "cell_type": "markdown",
      "source": [
        "##### 오류 공지 목록\n",
        "\n",
        "- 94 / 6707"
      ],
      "metadata": {
        "id": "9C4rt-Bcs_cH"
      }
    },
    {
      "cell_type": "markdown",
      "source": [
        "1. gongji_copy.loc[129]:\n",
        "- 인도연구소 2024 국제학술대회 발표문 공모\n",
        "- Summarizer error: object dtype is not supported by sparse matrices\n",
        "\n",
        "2. gongji_copy.loc[208]:\n",
        "- 중국연구소 학술대회, [제18회 청년학자국제학술대회] 개최 안내\n",
        "- Summarizer error: object dtype is not supported by sparse matrices\n",
        "\n",
        "3. gongji_copy.loc[415]:\n",
        "- Online workshop for HUFS faculty-Technology for the language teacher\n",
        "- Summarizer error: object dtype is not supported by sparse matrices\n",
        "\n",
        "4. gongji_copy.loc[532]:\n",
        "- Celebrating Women＇s Month ＇EXTERIORES＇ Brazilian Women In Diplomacy\n",
        "- Summarizer error: object dtype is not supported by sparse matrices\n",
        "\n",
        "5. gongji_copy.loc[720]:\n",
        "- 제1회 바우하우스 콜로키움 안내\n",
        "- Summarizer error: object dtype is not supported by sparse matrices\n",
        "\n",
        "6. gongji_copy.loc[833]:\n",
        "- [SW중심대학] 산학협력 프로젝트 참여인력 합격자 공지\n",
        "- Summarizer error: object dtype is not supported by sparse matrices\n",
        "\n",
        "7. gongji_copy.loc[881]\n",
        "- **동일 공지 1992에도 있음 확인 필요 **\n",
        "- [서울] 학생상담센터 유학생 심리상담 프로그램 안내 / Psychological Counseling for International students / 海外留学生心理咨询\n",
        "- Summarizer error: object dtype is not supported by sparse matrices\n",
        "\n",
        "8. gongji_copy.loc[994]\n",
        "- [쌀람누리] 인턴채용 안내\n",
        "- Summarizer error: object dtype is not supported by sparse matrices\n",
        "\n",
        "9. gongji_copy.loc[1009]\n",
        "- 2022学年度后期硕士招生简章\n",
        "- Summarizer error: object dtype is not supported by sparse matrices\n",
        "\n",
        "10. gongji_copy.loc[1187]\n",
        "- 개교 68주년 기념식 안내\n",
        "- Summarizer error: object dtype is not supported by sparse matrices\n",
        "\n",
        "11. gongji_copy.loc[1413]\n",
        "- Year-end Tax Adjustment for Income Earned During 2021\n",
        "- Summarizer error: object dtype is not supported by sparse matrices\n",
        "\n",
        "12. gongji_copy.loc[1689]\n",
        "- [Call for Participation] The 3rd Korea-India 2030 Forum\n",
        "- Summarizer error: object dtype is not supported by sparse matrices\n",
        "\n",
        "13. gongji_copy.loc[2150]\n",
        "- 한반도-북방 문화전략 포럼 웹 초청장\n",
        "- Summarizer error: object dtype is not supported by sparse matrices\n",
        "\n",
        "14. gongji_copy.loc[2397]\n",
        "- 한국외대 전인교육프로그램 HUFS Life Academy 4기생 추가모집\n",
        "- Summarizer error: object dtype is not supported by sparse matrices\n",
        "\n",
        "15. gongji_copy.loc[2524]\n",
        "- **동일공지 4655에도 있음**\n",
        "- 러시아연구소, 이문일공칠과 인문강좌 공동 개최\n",
        "- Summarizer error: object dtype is not supported by sparse matrices\n",
        "\n",
        "16. gongji_copy.loc[2721]\n",
        "- **동일 공지 4852에 있음**\n",
        "- 독립출판 프로젝트 2기 모집 안내\n",
        "- Summarizer error: object dtype is not supported by sparse matrices\n",
        "\n",
        "17.\n",
        "제10회 전국 대학(원)생 러시아어 토론대회 온라인 개최, Summarizer error: object dtype is not supported by sparse matrices\n",
        "\n",
        "18.\n",
        "제10회 전국 대학(원)생 러시아어 토론대회 개최, Summarizer error: object dtype is not supported by sparse matrices\n",
        "\n",
        "19.\n",
        "Precautionary measures by department, Summarizer error: object dtype is not supported by sparse matrices\n",
        "\n",
        "20.\n",
        "'2019年新型冠状病毒疾病”（COVID-19）相关防治措施, Summarizer error: object dtype is not supported by sparse matrices\n",
        "\n",
        "21.\n",
        "신종 코로나바이러스감염증 예방행동수칙, Summarizer error: object dtype is not supported by sparse matrices\n",
        "\n",
        "22.\n",
        "글로벌홀과 함게하는 남예종 DIPMX 미니 콘서트, Summarizer error: object dtype is not supported by sparse matrices\n",
        "\n",
        "\n",
        "23.\n",
        "전자상거래중점대학지원사업 참여자 모집, Summarizer error: object dtype is not supported by sparse matrices\n",
        "\n",
        "24.\n",
        "2019년 '커리어를 부탁해' 진로개발 특강 안내, Summarizer error: object dtype is not supported by sparse matrices\n",
        "\n",
        "25.\n",
        "제11차 러시아-CIS 전문가 초청 특강, Summarizer error: object dtype is not supported by sparse matrices\n",
        "\n",
        "26.\n",
        "제10차 러시아-CIS 전문가 초청 특강, Summarizer error: object dtype is not supported by sparse matrices\n",
        "\n",
        "27.\n",
        "[글로벌] 2019-2 생명사랑 캠페인 안내, Summarizer error: object dtype is not supported by sparse matrices\n",
        "\n",
        "28.\n",
        "[서울] '2019 학생상담센터 심리검사 워크숍-내 안의 진로' 안내, Summarizer error: object dtype is not supported by sparse matrices\n",
        "\n",
        "29.\n",
        "제9차 러시아-CIS 전문가 초청 특강, Summarizer error: object dtype is not supported by sparse matrices\n",
        "\n",
        "30.\n",
        "2019년 동백도서관 『한국외대와 함께하는 인문학 특강』, Summarizer error: object dtype is not supported by sparse matrices\n",
        "\n",
        "31.\n",
        "제8차 러시아-CIS 전문가 초청 특강, Summarizer error: object dtype is not supported by sparse matrices\n",
        "\n",
        "32.\n",
        "[글로벌] 미술치료를 통한 STRESS OUT! 프로그램 안내, Summarizer error: object dtype is not supported by sparse matrices\n",
        "\n",
        "33.\n",
        "제7차 러시아-CIS 전문가 초청 특강, Summarizer error: object dtype is not supported by sparse matrices\n",
        "\n",
        "34.\n",
        "EU 10월 콜로키움 개최, Summarizer error: object dtype is not supported by sparse matrices\n",
        "\n",
        "35.\n",
        "제6차 러시아-CIS 전문가 초청 특강, Summarizer error: object dtype is not supported by sparse matrices\n",
        "\n",
        "36.\n",
        "제5차 러시아-CIS 전문가 초청 특강, Summarizer error: object dtype is not supported by sparse matrices\n",
        "\n",
        "37.\n",
        "제3차 러시아-CIS 전문가 초청 특강, Summarizer error: object dtype is not supported by sparse matrices\n",
        "\n",
        "38.\n",
        "2019 상반기 Start Up Camp 개최 안내, Summarizer error: object dtype is not supported by sparse matrices\n",
        "\n",
        "39.\n",
        "'한국외대와 함꼐하는 시민 인문학 특강' 개최, Summarizer error: object dtype is not supported by sparse matrices\n",
        "\n",
        "40.\n",
        "[글로벌] 2019학년도 정독상 독서감상문 원고모집, Summarizer error: object dtype is not supported by sparse matrices\n",
        "\n",
        "41.\n",
        "제13차 러시아-CIS 전문가 초청 특강, Summarizer error: object dtype is not supported by sparse matrices\n",
        "\n",
        "42.\n",
        "제12차 러시아-CIS 전문가 초청 특강, Summarizer error: object dtype is not supported by sparse matrices\n",
        "\n",
        "43.\n",
        "한국외대와 함께하는 시민 인문학 특강, Summarizer error: object dtype is not supported by sparse matrices\n",
        "\n",
        "44.\n",
        "제11차 러시아-CIS 전문가 초청 특강, Summarizer error: object dtype is not supported by sparse matrices\n",
        "\n",
        "45.\n",
        "제9회 전국 대학생 러시아어 토론대회 개최, Summarizer error: object dtype is not supported by sparse matrices\n",
        "\n",
        "46.\n",
        "2019 모의유럽연합 참관인 모집, Summarizer error: object dtype is not supported by sparse matrices\n",
        "\n",
        "47.\n",
        "제10차 러시아-CIS 전문가 초청 특강, Summarizer error: object dtype is not supported by sparse matrices\n",
        "\n",
        "48.\n",
        "[글로벌] 2019-1 진로 결정을 위한 자기탐색 프로그램, Summarizer error: object dtype is not supported by sparse matrices\n",
        "\n",
        "49.\n",
        "김종구 북콘서트 '기타와 글쓰기', Summarizer error: object dtype is not supported by sparse matrices\n",
        "\n",
        "50.\n",
        "[서울] 2019 현직 선배와 함께하는 JOB 코칭데이, Summarizer error: object dtype is not supported by sparse matrices\n",
        "\n",
        "51.\n",
        "제8차 러시아-CIS 전문가 초청 특강, Summarizer error: object dtype is not supported by sparse matrices\n",
        "\n",
        "52.\n",
        "제7차 러시아-CIS 전문가 초청 특강, Summarizer error: object dtype is not supported by sparse matrices\n",
        "\n",
        "53.\n",
        "제6차 러시아-CIS 전문가 초청 특강, Summarizer error: object dtype is not supported by sparse matrices\n",
        "\n",
        "54.\n",
        "제9회 전국 대학생 러시아어 토론대회 개최, Summarizer error: object dtype is not supported by sparse matrices\n",
        "\n",
        "55.\n",
        "9회 전국 대학생 러시아어 토론대회 - 예선 참가 안내 -, Summarizer error: object dtype is not supported by sparse matrices\n",
        "\n",
        "56.\n",
        "2009년 한국외대-실크로드대학생연합 새로운 회원 모집, Summarizer error: object dtype is not supported by sparse matrices\n",
        "\n",
        "57.\n",
        "[글로벌] 2019학년도 수시입학생 학점인정 AP프로그램 수강 안내, Summarizer error: object dtype is not supported by sparse matrices\n",
        "\n",
        "58.\n",
        "혈액관리본부 통·번역 서포터즈 모집 안내, Summarizer error: object dtype is not supported by sparse matrices\n",
        "\n",
        "59.\n",
        "[서울] 보건실과 함께하는 기말고사 비타민C 이벤트, Summarizer error: object dtype is not supported by sparse matrices\n",
        "\n",
        "60.\n",
        "[공통] 2019년 상반기 20주 주간 외국어교육과정 교육생 모집안내, Summarizer error: object dtype is not supported by sparse matrices\n",
        "\n",
        "61.\n",
        "2018년 동계방학 한국외대 IT자격증 특강, Summarizer error: object dtype is not supported by sparse matrices\n",
        "\n",
        "62.\n",
        "'2018년 중남미 보건의료산업 및 통역의 이해' 특강 개최, Summarizer error: object dtype is not supported by sparse matrices\n",
        "\n",
        "63.\n",
        "[글로벌] 특강 안내 [노래번역: 통번역가의 새로운 미래], Summarizer error: object dtype is not supported by sparse matrices\n",
        "\n",
        "64.\n",
        "[공통] 2018-2 창업아이디어 경진대회 참여신청 안내, Summarizer error: object dtype is not supported by sparse matrices\n",
        "\n",
        "65.\n",
        "[글로벌] 기업/산업분석(SWOT/3C/40분석법) 세미나, Summarizer error: object dtype is not supported by sparse matrices\n",
        "\n",
        "66.\n",
        "[공통] 2018 HUFS StartUp CAMP 신청 안내, Summarizer error: object dtype is not supported by sparse matrices\n",
        "\n",
        "67.\n",
        "[공통] 우리은행 대학생 홍보대사 모집 안내, Summarizer error: object dtype is not supported by sparse matrices\n",
        "\n",
        "68.\n",
        "[공통] [Instructor] 2018 Online Human Rights · Gender Equality Education (Violence Prevention Education), Summarizer error: object dtype is not supported by sparse matrices\n",
        "\n",
        "69.\n",
        "자양 라이프아카데미 3기 모집, Summarizer error: object dtype is not supported by sparse matrices\n",
        "\n",
        "70.\n",
        "2018년 대학도서관 이용자 만족도 조사 참여 안내, Summarizer error: object dtype is not supported by sparse matrices\n",
        "\n",
        "71.\n",
        "[글로벌] [18-2] 학점인정 방과후 프로그램(10주) 신청 안내, Summarizer error: object dtype is not supported by sparse matrices\n",
        "\n",
        "72.\n",
        "[공통] 2018학년도 하반기 창업동아리 모집, Summarizer error: object dtype is not supported by sparse matrices\n",
        "\n",
        "73.\n",
        "[서울] 2018년 여름방학 외대 IT자격증특강 안내, Summarizer error: object dtype is not supported by sparse matrices\n",
        "\n",
        "74.\n",
        "[마이나비코리아] 일본취업설명회 교내 개최 안내, Summarizer error: object dtype is not supported by sparse matrices\n",
        "\n",
        "75.\n",
        "2018년 제 3기 <꽃 보다 대만학교> 개최 안내, Summarizer error: object dtype is not supported by sparse matrices\n",
        "\n",
        "76.\n",
        "제8회 러시아어 토론대회 개최, Summarizer error: object dtype is not supported by sparse matrices\n",
        "\n",
        "77.\n",
        "[서울] 2018년 5월 한국외대 IT자격증특강 안내, Summarizer error: object dtype is not supported by sparse matrices\n",
        "\n",
        "78.\n",
        "2018년 러시아어 토론대회 - 예선참가 안내 -, Summarizer error: object dtype is not supported by sparse matrices\n",
        "\n",
        "79.\n",
        "학군사관(ROTC)59ㆍ60기 후보생모집안내, Summarizer error: object dtype is not supported by sparse matrices\n",
        "\n",
        "80.\n",
        "[글로벌] [18-1] 학점인정 방과후 프로그램(10주) 신청 안내, Summarizer error: object dtype is not supported by sparse matrices\n",
        "\n",
        "81.\n",
        "[서울] 2018년 3월 한국외대 IT자격증특강 안내, Summarizer error: object dtype is not supported by sparse matrices\n",
        "\n",
        "82.\n",
        "Joint Seminar organized by Human Science /.Information & Archival Science at HUFS Graduate School and Institution for Information & Archival Science\n",
        "Summarizer error: object dtype is not supported by sparse matrices\n",
        "\n",
        "83.\n",
        "VIETNAM ACADEMY OF SOCIAL SCIENCES\n",
        "VIETNAM INSTITUTE FOR INDIAN AND SOUTHWEST ASIAN STUDIES\n",
        "Summarizer error: object dtype is not supported by sparse matrices\n",
        "\n",
        "84.\n",
        "러시아연구소, 이문일공칠과 인문강좌 공동 개최, Summarizer error: object dtype is not supported by sparse matrices\n",
        "독립출판 프로젝트 2기 모집 안내, Summarizer error: object dtype is not supported by sparse matrices\n",
        "\n",
        "85.\n",
        "제10회 전국 대학(원)생 러시아어 토론대회 온라인 개최, Summarizer error: object dtype is not supported by sparse matrices\n",
        "\n",
        "86.\n",
        "Precautionary measures by department, Summarizer error: object dtype is not supported by sparse matrices\n",
        "\n",
        "87.\n",
        "'2019年新型冠?病毒疾病”（COVID-19）相?防治措施, Summarizer error: object dtype is not supported by sparse matrices\n",
        "\n",
        "88.\n",
        "제8차 러시아-CIS 전문가 초청 특강, Summarizer error: object dtype is not supported by sparse matrices\n",
        "\n",
        "89.\n",
        "[글로벌] 학생상담센터 마음돌보기 프로그램 안내, Summarizer error: object dtype is not supported by sparse matrices\n",
        "\n",
        "90.\n",
        "[글로벌] 2019학년도 수시입학생 학점인정 AP프로그램 수강 안내, Summarizer error: object dtype is not supported by sparse matrices\n",
        "\n",
        "91.\n",
        "혈액관리본부 통·번역 서포터즈 모집 안내, Summarizer error: object dtype is not supported by sparse matrices\n",
        "\n",
        "92.\n",
        "명사 특강 안내 [SNS 유명 여행작가 청춘유리], Summarizer error: object dtype is not supported by sparse matrices\n",
        "\n",
        "93.\n",
        "[공통] [Instructor] 2018 Online Human Rights · Gender Equality Education (Violence Prevention Education), Summarizer error: object dtype is not supported by sparse matrices\n",
        "\n",
        "94.\n",
        "[공통] 2018 국제심포지엄에 귀하를 초대합니다(노사발전재단), Summarizer error: object dtype is not supported by sparse matrices"
      ],
      "metadata": {
        "id": "hUOgpAvomOPK"
      }
    },
    {
      "cell_type": "markdown",
      "source": [
        "### 코드"
      ],
      "metadata": {
        "id": "vmIwxcURtJLl"
      }
    },
    {
      "cell_type": "code",
      "source": [
        "\n"
      ],
      "metadata": {
        "id": "L9FL_aKpqlLy"
      },
      "execution_count": null,
      "outputs": []
    },
    {
      "cell_type": "code",
      "source": [
        "gongji_copy.loc[129, 'content']"
      ],
      "metadata": {
        "colab": {
          "base_uri": "https://localhost:8080/",
          "height": 164
        },
        "id": "qK1smQj9foLv",
        "outputId": "fac70e4a-5c50-430c-95db-f02081001a0d"
      },
      "execution_count": null,
      "outputs": [
        {
          "output_type": "execute_result",
          "data": {
            "text/plain": [
              "\"\\n인도연구소 2024 국제학술대회 발표문 공모 Call for Papers “Great Transition in India: Retrospect and Prospect”\\n\\n\\n\\nDear Scholars,\\nGreetings!\\nGreat Transition in India: Retrospect and Prospect\\n16-17 May 2024\\n\\n\\nSince its establishment in 1995, the Institute of Indian Studies (IIS) at Hankuk University of Foreign Studies (HUFS), Seoul, South Korea, has conducted comprehensive and systematic research on India. In line with increased interest in India, the IIS has been conducting research on an agenda titled “Great Transition in India: A Korean Perspective on Indian Studies,” which is sponsored by the Humanities Korea Plus (HK+) Project of the National Research Foundation of Korea (NRF) since 2017. In this context, the IIS-HUFS, is pleased to announce its forthcoming annual international conference focusing on the great transition in India. This conference aims to facilitate discussions and explore fresh perspectives on issues related to Indian studies. We cordially invite papers from academics, research scholars (PhD degree awarded), and independent researchers.\\nPlease find the concept note attached with this email.\\n\\nWe look forward to your participation!\\n\\nMany thanks,\\nManju Shakya\\n Organizing Committee IIS-HUFS\\n\\n\\n\\n\\nGREAT TRANSITION IN INDIA: RETROSPECT AND PROSPECT\\nCALL FOR PAPERS\\n\\nTHEMES\\n- 'Threads of Time': India's Past, Present, and the Future \\n- Evolving Domestic Political Trajectories and India's Great Transition\\n- Shaping Global Strategies: Foreign Policy and International Relations\\n- Economic Transition and Demographic Boom: Mapping India's Present and Future\\n - Balancing Development and Conservation: Environmental Sustainability and Technological Innovations in India's Great Transition\\n- Cultural Plurality and the Indian Society: Change and Continuum\\n\\nIMPORTANT DATES\\nSubmission of Paper Title 31 December 2023\\nSubmission of Abstract 31 January 2024\\nSubmission of Full Paper 31 March 2024\\n\\nVenue: Hankuk University of Foreign Studies\\nDate: 16-17 May 2024\\n\\n\""
            ],
            "application/vnd.google.colaboratory.intrinsic+json": {
              "type": "string"
            }
          },
          "metadata": {},
          "execution_count": 66
        }
      ]
    },
    {
      "cell_type": "code",
      "source": [
        "import re\n",
        "import pandas as pd\n",
        "\n",
        "# 에러 카운트 변수 초기화\n",
        "cnt_error = 0\n",
        "\n",
        "# 요약 함수 정의\n",
        "def summarize_content(title, content):\n",
        "    global cnt_error  # 전역 변수로 cnt_error를 사용\n",
        "\n",
        "    if not content:\n",
        "        return []\n",
        "\n",
        "    if isinstance(content, list):\n",
        "        content = ' '.join(content)\n",
        "\n",
        "    if not content.strip():\n",
        "        return []\n",
        "\n",
        "    sents = re.split(r'\\n|\\.', content)\n",
        "\n",
        "    sents = list(filter(None, sents))\n",
        "\n",
        "    sents = [sent for sent in sents if sent.strip()]\n",
        "\n",
        "    if not sents:\n",
        "        return []\n",
        "\n",
        "    if len(sents) == 1:\n",
        "        return sents\n",
        "\n",
        "    # 요약 수행\n",
        "    try:\n",
        "        keysents = summarizer.summarize(sents, topk=3)\n",
        "    except ValueError as e:\n",
        "        # 요약 도중 에러 발생시 빈 리스트 반환\n",
        "        cnt_error += 1\n",
        "        print(f\"{cnt_error}. {title}, Summarizer error: {e}\")\n",
        "        return []\n",
        "\n",
        "    return [item[2] for item in keysents]\n",
        "# 'summarize_content' 컬럼 생성\n",
        "gongji_copy['summarize_content'] = gongji_copy.apply(lambda row: summarize_content(row['title'], row['content']), axis=1)\n",
        "\n",
        "\n",
        "# 결과 출력\n",
        "print(gongji_copy['summarize_content'])"
      ],
      "metadata": {
        "colab": {
          "base_uri": "https://localhost:8080/",
          "height": 373
        },
        "id": "ZgW5hhdXfkf9",
        "outputId": "e9f5901a-33d6-4103-e1a7-867cd3ac3331"
      },
      "execution_count": null,
      "outputs": [
        {
          "output_type": "error",
          "ename": "KeyboardInterrupt",
          "evalue": "",
          "traceback": [
            "\u001b[0;31m---------------------------------------------------------------------------\u001b[0m",
            "\u001b[0;31mKeyboardInterrupt\u001b[0m                         Traceback (most recent call last)",
            "\u001b[0;32m<ipython-input-81-977919cc0e24>\u001b[0m in \u001b[0;36m<cell line: 43>\u001b[0;34m()\u001b[0m\n\u001b[1;32m     41\u001b[0m     \u001b[0;32mreturn\u001b[0m \u001b[0;34m[\u001b[0m\u001b[0mitem\u001b[0m\u001b[0;34m[\u001b[0m\u001b[0;36m2\u001b[0m\u001b[0;34m]\u001b[0m \u001b[0;32mfor\u001b[0m \u001b[0mitem\u001b[0m \u001b[0;32min\u001b[0m \u001b[0mkeysents\u001b[0m\u001b[0;34m]\u001b[0m\u001b[0;34m\u001b[0m\u001b[0;34m\u001b[0m\u001b[0m\n\u001b[1;32m     42\u001b[0m \u001b[0;31m# 'summarize_content' 컬럼 생성\u001b[0m\u001b[0;34m\u001b[0m\u001b[0;34m\u001b[0m\u001b[0m\n\u001b[0;32m---> 43\u001b[0;31m \u001b[0mgongji_copy\u001b[0m\u001b[0;34m[\u001b[0m\u001b[0;34m'summarize_content'\u001b[0m\u001b[0;34m]\u001b[0m \u001b[0;34m=\u001b[0m \u001b[0mgongji_copy\u001b[0m\u001b[0;34m.\u001b[0m\u001b[0mapply\u001b[0m\u001b[0;34m(\u001b[0m\u001b[0;32mlambda\u001b[0m \u001b[0mrow\u001b[0m\u001b[0;34m:\u001b[0m \u001b[0msummarize_content\u001b[0m\u001b[0;34m(\u001b[0m\u001b[0mrow\u001b[0m\u001b[0;34m[\u001b[0m\u001b[0;34m'title'\u001b[0m\u001b[0;34m]\u001b[0m\u001b[0;34m,\u001b[0m \u001b[0mrow\u001b[0m\u001b[0;34m[\u001b[0m\u001b[0;34m'content'\u001b[0m\u001b[0;34m]\u001b[0m\u001b[0;34m)\u001b[0m\u001b[0;34m,\u001b[0m \u001b[0maxis\u001b[0m\u001b[0;34m=\u001b[0m\u001b[0;36m1\u001b[0m\u001b[0;34m)\u001b[0m\u001b[0;34m\u001b[0m\u001b[0;34m\u001b[0m\u001b[0m\n\u001b[0m\u001b[1;32m     44\u001b[0m \u001b[0;34m\u001b[0m\u001b[0m\n\u001b[1;32m     45\u001b[0m \u001b[0;34m\u001b[0m\u001b[0m\n",
            "\u001b[0;32m/usr/local/lib/python3.10/dist-packages/pandas/core/frame.py\u001b[0m in \u001b[0;36mapply\u001b[0;34m(self, func, axis, raw, result_type, args, **kwargs)\u001b[0m\n\u001b[1;32m   9421\u001b[0m             \u001b[0mkwargs\u001b[0m\u001b[0;34m=\u001b[0m\u001b[0mkwargs\u001b[0m\u001b[0;34m,\u001b[0m\u001b[0;34m\u001b[0m\u001b[0;34m\u001b[0m\u001b[0m\n\u001b[1;32m   9422\u001b[0m         )\n\u001b[0;32m-> 9423\u001b[0;31m         \u001b[0;32mreturn\u001b[0m \u001b[0mop\u001b[0m\u001b[0;34m.\u001b[0m\u001b[0mapply\u001b[0m\u001b[0;34m(\u001b[0m\u001b[0;34m)\u001b[0m\u001b[0;34m.\u001b[0m\u001b[0m__finalize__\u001b[0m\u001b[0;34m(\u001b[0m\u001b[0mself\u001b[0m\u001b[0;34m,\u001b[0m \u001b[0mmethod\u001b[0m\u001b[0;34m=\u001b[0m\u001b[0;34m\"apply\"\u001b[0m\u001b[0;34m)\u001b[0m\u001b[0;34m\u001b[0m\u001b[0;34m\u001b[0m\u001b[0m\n\u001b[0m\u001b[1;32m   9424\u001b[0m \u001b[0;34m\u001b[0m\u001b[0m\n\u001b[1;32m   9425\u001b[0m     def applymap(\n",
            "\u001b[0;32m/usr/local/lib/python3.10/dist-packages/pandas/core/apply.py\u001b[0m in \u001b[0;36mapply\u001b[0;34m(self)\u001b[0m\n\u001b[1;32m    676\u001b[0m             \u001b[0;32mreturn\u001b[0m \u001b[0mself\u001b[0m\u001b[0;34m.\u001b[0m\u001b[0mapply_raw\u001b[0m\u001b[0;34m(\u001b[0m\u001b[0;34m)\u001b[0m\u001b[0;34m\u001b[0m\u001b[0;34m\u001b[0m\u001b[0m\n\u001b[1;32m    677\u001b[0m \u001b[0;34m\u001b[0m\u001b[0m\n\u001b[0;32m--> 678\u001b[0;31m         \u001b[0;32mreturn\u001b[0m \u001b[0mself\u001b[0m\u001b[0;34m.\u001b[0m\u001b[0mapply_standard\u001b[0m\u001b[0;34m(\u001b[0m\u001b[0;34m)\u001b[0m\u001b[0;34m\u001b[0m\u001b[0;34m\u001b[0m\u001b[0m\n\u001b[0m\u001b[1;32m    679\u001b[0m \u001b[0;34m\u001b[0m\u001b[0m\n\u001b[1;32m    680\u001b[0m     \u001b[0;32mdef\u001b[0m \u001b[0magg\u001b[0m\u001b[0;34m(\u001b[0m\u001b[0mself\u001b[0m\u001b[0;34m)\u001b[0m\u001b[0;34m:\u001b[0m\u001b[0;34m\u001b[0m\u001b[0;34m\u001b[0m\u001b[0m\n",
            "\u001b[0;32m/usr/local/lib/python3.10/dist-packages/pandas/core/apply.py\u001b[0m in \u001b[0;36mapply_standard\u001b[0;34m(self)\u001b[0m\n\u001b[1;32m    796\u001b[0m \u001b[0;34m\u001b[0m\u001b[0m\n\u001b[1;32m    797\u001b[0m     \u001b[0;32mdef\u001b[0m \u001b[0mapply_standard\u001b[0m\u001b[0;34m(\u001b[0m\u001b[0mself\u001b[0m\u001b[0;34m)\u001b[0m\u001b[0;34m:\u001b[0m\u001b[0;34m\u001b[0m\u001b[0;34m\u001b[0m\u001b[0m\n\u001b[0;32m--> 798\u001b[0;31m         \u001b[0mresults\u001b[0m\u001b[0;34m,\u001b[0m \u001b[0mres_index\u001b[0m \u001b[0;34m=\u001b[0m \u001b[0mself\u001b[0m\u001b[0;34m.\u001b[0m\u001b[0mapply_series_generator\u001b[0m\u001b[0;34m(\u001b[0m\u001b[0;34m)\u001b[0m\u001b[0;34m\u001b[0m\u001b[0;34m\u001b[0m\u001b[0m\n\u001b[0m\u001b[1;32m    799\u001b[0m \u001b[0;34m\u001b[0m\u001b[0m\n\u001b[1;32m    800\u001b[0m         \u001b[0;31m# wrap results\u001b[0m\u001b[0;34m\u001b[0m\u001b[0;34m\u001b[0m\u001b[0m\n",
            "\u001b[0;32m/usr/local/lib/python3.10/dist-packages/pandas/core/apply.py\u001b[0m in \u001b[0;36mapply_series_generator\u001b[0;34m(self)\u001b[0m\n\u001b[1;32m    812\u001b[0m             \u001b[0;32mfor\u001b[0m \u001b[0mi\u001b[0m\u001b[0;34m,\u001b[0m \u001b[0mv\u001b[0m \u001b[0;32min\u001b[0m \u001b[0menumerate\u001b[0m\u001b[0;34m(\u001b[0m\u001b[0mseries_gen\u001b[0m\u001b[0;34m)\u001b[0m\u001b[0;34m:\u001b[0m\u001b[0;34m\u001b[0m\u001b[0;34m\u001b[0m\u001b[0m\n\u001b[1;32m    813\u001b[0m                 \u001b[0;31m# ignore SettingWithCopy here in case the user mutates\u001b[0m\u001b[0;34m\u001b[0m\u001b[0;34m\u001b[0m\u001b[0m\n\u001b[0;32m--> 814\u001b[0;31m                 \u001b[0mresults\u001b[0m\u001b[0;34m[\u001b[0m\u001b[0mi\u001b[0m\u001b[0;34m]\u001b[0m \u001b[0;34m=\u001b[0m \u001b[0mself\u001b[0m\u001b[0;34m.\u001b[0m\u001b[0mf\u001b[0m\u001b[0;34m(\u001b[0m\u001b[0mv\u001b[0m\u001b[0;34m)\u001b[0m\u001b[0;34m\u001b[0m\u001b[0;34m\u001b[0m\u001b[0m\n\u001b[0m\u001b[1;32m    815\u001b[0m                 \u001b[0;32mif\u001b[0m \u001b[0misinstance\u001b[0m\u001b[0;34m(\u001b[0m\u001b[0mresults\u001b[0m\u001b[0;34m[\u001b[0m\u001b[0mi\u001b[0m\u001b[0;34m]\u001b[0m\u001b[0;34m,\u001b[0m \u001b[0mABCSeries\u001b[0m\u001b[0;34m)\u001b[0m\u001b[0;34m:\u001b[0m\u001b[0;34m\u001b[0m\u001b[0;34m\u001b[0m\u001b[0m\n\u001b[1;32m    816\u001b[0m                     \u001b[0;31m# If we have a view on v, we need to make a copy because\u001b[0m\u001b[0;34m\u001b[0m\u001b[0;34m\u001b[0m\u001b[0m\n",
            "\u001b[0;32m<ipython-input-81-977919cc0e24>\u001b[0m in \u001b[0;36m<lambda>\u001b[0;34m(row)\u001b[0m\n\u001b[1;32m     41\u001b[0m     \u001b[0;32mreturn\u001b[0m \u001b[0;34m[\u001b[0m\u001b[0mitem\u001b[0m\u001b[0;34m[\u001b[0m\u001b[0;36m2\u001b[0m\u001b[0;34m]\u001b[0m \u001b[0;32mfor\u001b[0m \u001b[0mitem\u001b[0m \u001b[0;32min\u001b[0m \u001b[0mkeysents\u001b[0m\u001b[0;34m]\u001b[0m\u001b[0;34m\u001b[0m\u001b[0;34m\u001b[0m\u001b[0m\n\u001b[1;32m     42\u001b[0m \u001b[0;31m# 'summarize_content' 컬럼 생성\u001b[0m\u001b[0;34m\u001b[0m\u001b[0;34m\u001b[0m\u001b[0m\n\u001b[0;32m---> 43\u001b[0;31m \u001b[0mgongji_copy\u001b[0m\u001b[0;34m[\u001b[0m\u001b[0;34m'summarize_content'\u001b[0m\u001b[0;34m]\u001b[0m \u001b[0;34m=\u001b[0m \u001b[0mgongji_copy\u001b[0m\u001b[0;34m.\u001b[0m\u001b[0mapply\u001b[0m\u001b[0;34m(\u001b[0m\u001b[0;32mlambda\u001b[0m \u001b[0mrow\u001b[0m\u001b[0;34m:\u001b[0m \u001b[0msummarize_content\u001b[0m\u001b[0;34m(\u001b[0m\u001b[0mrow\u001b[0m\u001b[0;34m[\u001b[0m\u001b[0;34m'title'\u001b[0m\u001b[0;34m]\u001b[0m\u001b[0;34m,\u001b[0m \u001b[0mrow\u001b[0m\u001b[0;34m[\u001b[0m\u001b[0;34m'content'\u001b[0m\u001b[0;34m]\u001b[0m\u001b[0;34m)\u001b[0m\u001b[0;34m,\u001b[0m \u001b[0maxis\u001b[0m\u001b[0;34m=\u001b[0m\u001b[0;36m1\u001b[0m\u001b[0;34m)\u001b[0m\u001b[0;34m\u001b[0m\u001b[0;34m\u001b[0m\u001b[0m\n\u001b[0m\u001b[1;32m     44\u001b[0m \u001b[0;34m\u001b[0m\u001b[0m\n\u001b[1;32m     45\u001b[0m \u001b[0;34m\u001b[0m\u001b[0m\n",
            "\u001b[0;32m<ipython-input-81-977919cc0e24>\u001b[0m in \u001b[0;36msummarize_content\u001b[0;34m(title, content)\u001b[0m\n\u001b[1;32m     32\u001b[0m     \u001b[0;31m# 요약 수행\u001b[0m\u001b[0;34m\u001b[0m\u001b[0;34m\u001b[0m\u001b[0m\n\u001b[1;32m     33\u001b[0m     \u001b[0;32mtry\u001b[0m\u001b[0;34m:\u001b[0m\u001b[0;34m\u001b[0m\u001b[0;34m\u001b[0m\u001b[0m\n\u001b[0;32m---> 34\u001b[0;31m         \u001b[0mkeysents\u001b[0m \u001b[0;34m=\u001b[0m \u001b[0msummarizer\u001b[0m\u001b[0;34m.\u001b[0m\u001b[0msummarize\u001b[0m\u001b[0;34m(\u001b[0m\u001b[0msents\u001b[0m\u001b[0;34m,\u001b[0m \u001b[0mtopk\u001b[0m\u001b[0;34m=\u001b[0m\u001b[0;36m3\u001b[0m\u001b[0;34m)\u001b[0m\u001b[0;34m\u001b[0m\u001b[0;34m\u001b[0m\u001b[0m\n\u001b[0m\u001b[1;32m     35\u001b[0m     \u001b[0;32mexcept\u001b[0m \u001b[0mValueError\u001b[0m \u001b[0;32mas\u001b[0m \u001b[0me\u001b[0m\u001b[0;34m:\u001b[0m\u001b[0;34m\u001b[0m\u001b[0;34m\u001b[0m\u001b[0m\n\u001b[1;32m     36\u001b[0m         \u001b[0;31m# 요약 도중 에러 발생시 빈 리스트 반환\u001b[0m\u001b[0;34m\u001b[0m\u001b[0;34m\u001b[0m\u001b[0m\n",
            "\u001b[0;32m/content/textrank/textrank/summarizer.py\u001b[0m in \u001b[0;36msummarize\u001b[0;34m(self, sents, topk, bias)\u001b[0m\n\u001b[1;32m    192\u001b[0m             \u001b[0;32mraise\u001b[0m \u001b[0mValueError\u001b[0m\u001b[0;34m(\u001b[0m\u001b[0;34m'The type of bias must be None or numpy.ndarray but the type is {}'\u001b[0m\u001b[0;34m.\u001b[0m\u001b[0mformat\u001b[0m\u001b[0;34m(\u001b[0m\u001b[0mtype\u001b[0m\u001b[0;34m(\u001b[0m\u001b[0mbias\u001b[0m\u001b[0;34m)\u001b[0m\u001b[0;34m)\u001b[0m\u001b[0;34m)\u001b[0m\u001b[0;34m\u001b[0m\u001b[0;34m\u001b[0m\u001b[0m\n\u001b[1;32m    193\u001b[0m \u001b[0;34m\u001b[0m\u001b[0m\n\u001b[0;32m--> 194\u001b[0;31m         \u001b[0mself\u001b[0m\u001b[0;34m.\u001b[0m\u001b[0mtrain_textrank\u001b[0m\u001b[0;34m(\u001b[0m\u001b[0msents\u001b[0m\u001b[0;34m,\u001b[0m \u001b[0mbias\u001b[0m\u001b[0;34m)\u001b[0m\u001b[0;34m\u001b[0m\u001b[0;34m\u001b[0m\u001b[0m\n\u001b[0m\u001b[1;32m    195\u001b[0m         \u001b[0midxs\u001b[0m \u001b[0;34m=\u001b[0m \u001b[0mself\u001b[0m\u001b[0;34m.\u001b[0m\u001b[0mR\u001b[0m\u001b[0;34m.\u001b[0m\u001b[0margsort\u001b[0m\u001b[0;34m(\u001b[0m\u001b[0;34m)\u001b[0m\u001b[0;34m[\u001b[0m\u001b[0;34m-\u001b[0m\u001b[0mtopk\u001b[0m\u001b[0;34m:\u001b[0m\u001b[0;34m]\u001b[0m\u001b[0;34m\u001b[0m\u001b[0;34m\u001b[0m\u001b[0m\n\u001b[1;32m    196\u001b[0m         \u001b[0mkeysents\u001b[0m \u001b[0;34m=\u001b[0m \u001b[0;34m[\u001b[0m\u001b[0;34m(\u001b[0m\u001b[0midx\u001b[0m\u001b[0;34m,\u001b[0m \u001b[0mself\u001b[0m\u001b[0;34m.\u001b[0m\u001b[0mR\u001b[0m\u001b[0;34m[\u001b[0m\u001b[0midx\u001b[0m\u001b[0;34m]\u001b[0m\u001b[0;34m,\u001b[0m \u001b[0msents\u001b[0m\u001b[0;34m[\u001b[0m\u001b[0midx\u001b[0m\u001b[0;34m]\u001b[0m\u001b[0;34m)\u001b[0m \u001b[0;32mfor\u001b[0m \u001b[0midx\u001b[0m \u001b[0;32min\u001b[0m \u001b[0mreversed\u001b[0m\u001b[0;34m(\u001b[0m\u001b[0midxs\u001b[0m\u001b[0;34m)\u001b[0m\u001b[0;34m]\u001b[0m\u001b[0;34m\u001b[0m\u001b[0;34m\u001b[0m\u001b[0m\n",
            "\u001b[0;32m/content/textrank/textrank/summarizer.py\u001b[0m in \u001b[0;36mtrain_textrank\u001b[0;34m(self, sents, bias)\u001b[0m\n\u001b[1;32m    155\u001b[0m         \u001b[0;32mNone\u001b[0m\u001b[0;34m\u001b[0m\u001b[0;34m\u001b[0m\u001b[0m\n\u001b[1;32m    156\u001b[0m         \"\"\"\n\u001b[0;32m--> 157\u001b[0;31m         g = sent_graph(sents, self.tokenize, self.min_count,\n\u001b[0m\u001b[1;32m    158\u001b[0m             self.min_sim, self.similarity, self.vocab_to_idx, self.verbose)\n\u001b[1;32m    159\u001b[0m         \u001b[0mself\u001b[0m\u001b[0;34m.\u001b[0m\u001b[0mR\u001b[0m \u001b[0;34m=\u001b[0m \u001b[0mpagerank\u001b[0m\u001b[0;34m(\u001b[0m\u001b[0mg\u001b[0m\u001b[0;34m,\u001b[0m \u001b[0mself\u001b[0m\u001b[0;34m.\u001b[0m\u001b[0mdf\u001b[0m\u001b[0;34m,\u001b[0m \u001b[0mself\u001b[0m\u001b[0;34m.\u001b[0m\u001b[0mmax_iter\u001b[0m\u001b[0;34m,\u001b[0m \u001b[0mbias\u001b[0m\u001b[0;34m)\u001b[0m\u001b[0;34m.\u001b[0m\u001b[0mreshape\u001b[0m\u001b[0;34m(\u001b[0m\u001b[0;34m-\u001b[0m\u001b[0;36m1\u001b[0m\u001b[0;34m)\u001b[0m\u001b[0;34m\u001b[0m\u001b[0;34m\u001b[0m\u001b[0m\n",
            "\u001b[0;32m/content/textrank/textrank/sentence.py\u001b[0m in \u001b[0;36msent_graph\u001b[0;34m(sents, tokenize, min_count, min_sim, similarity, vocab_to_idx, verbose)\u001b[0m\n\u001b[1;32m     44\u001b[0m         \u001b[0midx_to_vocab\u001b[0m \u001b[0;34m=\u001b[0m \u001b[0;34m[\u001b[0m\u001b[0mvocab\u001b[0m \u001b[0;32mfor\u001b[0m \u001b[0mvocab\u001b[0m\u001b[0;34m,\u001b[0m \u001b[0m_\u001b[0m \u001b[0;32min\u001b[0m \u001b[0msorted\u001b[0m\u001b[0;34m(\u001b[0m\u001b[0mvocab_to_idx\u001b[0m\u001b[0;34m.\u001b[0m\u001b[0mitems\u001b[0m\u001b[0;34m(\u001b[0m\u001b[0;34m)\u001b[0m\u001b[0;34m,\u001b[0m \u001b[0mkey\u001b[0m\u001b[0;34m=\u001b[0m\u001b[0;32mlambda\u001b[0m \u001b[0mx\u001b[0m\u001b[0;34m:\u001b[0m\u001b[0mx\u001b[0m\u001b[0;34m[\u001b[0m\u001b[0;36m1\u001b[0m\u001b[0;34m]\u001b[0m\u001b[0;34m)\u001b[0m\u001b[0;34m]\u001b[0m\u001b[0;34m\u001b[0m\u001b[0;34m\u001b[0m\u001b[0m\n\u001b[1;32m     45\u001b[0m \u001b[0;34m\u001b[0m\u001b[0m\n\u001b[0;32m---> 46\u001b[0;31m     \u001b[0mx\u001b[0m \u001b[0;34m=\u001b[0m \u001b[0mvectorize_sents\u001b[0m\u001b[0;34m(\u001b[0m\u001b[0msents\u001b[0m\u001b[0;34m,\u001b[0m \u001b[0mtokenize\u001b[0m\u001b[0;34m,\u001b[0m \u001b[0mvocab_to_idx\u001b[0m\u001b[0;34m)\u001b[0m\u001b[0;34m\u001b[0m\u001b[0;34m\u001b[0m\u001b[0m\n\u001b[0m\u001b[1;32m     47\u001b[0m     \u001b[0;32mif\u001b[0m \u001b[0msimilarity\u001b[0m \u001b[0;34m==\u001b[0m \u001b[0;34m'cosine'\u001b[0m\u001b[0;34m:\u001b[0m\u001b[0;34m\u001b[0m\u001b[0;34m\u001b[0m\u001b[0m\n\u001b[1;32m     48\u001b[0m         \u001b[0mx\u001b[0m \u001b[0;34m=\u001b[0m \u001b[0mnumpy_cosine_similarity_matrix\u001b[0m\u001b[0;34m(\u001b[0m\u001b[0mx\u001b[0m\u001b[0;34m,\u001b[0m \u001b[0mmin_sim\u001b[0m\u001b[0;34m,\u001b[0m \u001b[0mverbose\u001b[0m\u001b[0;34m,\u001b[0m \u001b[0mbatch_size\u001b[0m\u001b[0;34m=\u001b[0m\u001b[0;36m1000\u001b[0m\u001b[0;34m)\u001b[0m\u001b[0;34m\u001b[0m\u001b[0;34m\u001b[0m\u001b[0m\n",
            "\u001b[0;32m/content/textrank/textrank/sentence.py\u001b[0m in \u001b[0;36mvectorize_sents\u001b[0;34m(sents, tokenize, vocab_to_idx)\u001b[0m\n\u001b[1;32m     54\u001b[0m     \u001b[0mrows\u001b[0m\u001b[0;34m,\u001b[0m \u001b[0mcols\u001b[0m\u001b[0;34m,\u001b[0m \u001b[0mdata\u001b[0m \u001b[0;34m=\u001b[0m \u001b[0;34m[\u001b[0m\u001b[0;34m]\u001b[0m\u001b[0;34m,\u001b[0m \u001b[0;34m[\u001b[0m\u001b[0;34m]\u001b[0m\u001b[0;34m,\u001b[0m \u001b[0;34m[\u001b[0m\u001b[0;34m]\u001b[0m\u001b[0;34m\u001b[0m\u001b[0;34m\u001b[0m\u001b[0m\n\u001b[1;32m     55\u001b[0m     \u001b[0;32mfor\u001b[0m \u001b[0mi\u001b[0m\u001b[0;34m,\u001b[0m \u001b[0msent\u001b[0m \u001b[0;32min\u001b[0m \u001b[0menumerate\u001b[0m\u001b[0;34m(\u001b[0m\u001b[0msents\u001b[0m\u001b[0;34m)\u001b[0m\u001b[0;34m:\u001b[0m\u001b[0;34m\u001b[0m\u001b[0;34m\u001b[0m\u001b[0m\n\u001b[0;32m---> 56\u001b[0;31m         \u001b[0mcounter\u001b[0m \u001b[0;34m=\u001b[0m \u001b[0mCounter\u001b[0m\u001b[0;34m(\u001b[0m\u001b[0mtokenize\u001b[0m\u001b[0;34m(\u001b[0m\u001b[0msent\u001b[0m\u001b[0;34m)\u001b[0m\u001b[0;34m)\u001b[0m\u001b[0;34m\u001b[0m\u001b[0;34m\u001b[0m\u001b[0m\n\u001b[0m\u001b[1;32m     57\u001b[0m         \u001b[0;32mfor\u001b[0m \u001b[0mtoken\u001b[0m\u001b[0;34m,\u001b[0m \u001b[0mcount\u001b[0m \u001b[0;32min\u001b[0m \u001b[0mcounter\u001b[0m\u001b[0;34m.\u001b[0m\u001b[0mitems\u001b[0m\u001b[0;34m(\u001b[0m\u001b[0;34m)\u001b[0m\u001b[0;34m:\u001b[0m\u001b[0;34m\u001b[0m\u001b[0;34m\u001b[0m\u001b[0m\n\u001b[1;32m     58\u001b[0m             \u001b[0mj\u001b[0m \u001b[0;34m=\u001b[0m \u001b[0mvocab_to_idx\u001b[0m\u001b[0;34m.\u001b[0m\u001b[0mget\u001b[0m\u001b[0;34m(\u001b[0m\u001b[0mtoken\u001b[0m\u001b[0;34m,\u001b[0m \u001b[0;34m-\u001b[0m\u001b[0;36m1\u001b[0m\u001b[0;34m)\u001b[0m\u001b[0;34m\u001b[0m\u001b[0;34m\u001b[0m\u001b[0m\n",
            "\u001b[0;32m<ipython-input-10-2ed784522e58>\u001b[0m in \u001b[0;36mokt_tokenize\u001b[0;34m(sent)\u001b[0m\n\u001b[1;32m      4\u001b[0m \u001b[0;34m\u001b[0m\u001b[0m\n\u001b[1;32m      5\u001b[0m \u001b[0;32mdef\u001b[0m \u001b[0mokt_tokenize\u001b[0m\u001b[0;34m(\u001b[0m\u001b[0msent\u001b[0m\u001b[0;34m)\u001b[0m\u001b[0;34m:\u001b[0m\u001b[0;34m\u001b[0m\u001b[0;34m\u001b[0m\u001b[0m\n\u001b[0;32m----> 6\u001b[0;31m     \u001b[0mwords\u001b[0m \u001b[0;34m=\u001b[0m \u001b[0mokt\u001b[0m\u001b[0;34m.\u001b[0m\u001b[0mpos\u001b[0m\u001b[0;34m(\u001b[0m\u001b[0msent\u001b[0m\u001b[0;34m,\u001b[0m \u001b[0mjoin\u001b[0m\u001b[0;34m=\u001b[0m\u001b[0;32mTrue\u001b[0m\u001b[0;34m)\u001b[0m\u001b[0;34m\u001b[0m\u001b[0;34m\u001b[0m\u001b[0m\n\u001b[0m\u001b[1;32m      7\u001b[0m     \u001b[0mwords\u001b[0m \u001b[0;34m=\u001b[0m \u001b[0;34m[\u001b[0m\u001b[0mw\u001b[0m \u001b[0;32mfor\u001b[0m \u001b[0mw\u001b[0m \u001b[0;32min\u001b[0m \u001b[0mwords\u001b[0m \u001b[0;32mif\u001b[0m \u001b[0;34m(\u001b[0m\u001b[0;34m'/Noun'\u001b[0m \u001b[0;32min\u001b[0m \u001b[0mw\u001b[0m \u001b[0;32mor\u001b[0m \u001b[0;34m'/Adjective'\u001b[0m \u001b[0;32min\u001b[0m \u001b[0mw\u001b[0m \u001b[0;32mor\u001b[0m \u001b[0;34m'/Verb'\u001b[0m \u001b[0;32min\u001b[0m \u001b[0mw\u001b[0m\u001b[0;34m)\u001b[0m\u001b[0;34m]\u001b[0m\u001b[0;34m\u001b[0m\u001b[0;34m\u001b[0m\u001b[0m\n\u001b[1;32m      8\u001b[0m     \u001b[0;32mreturn\u001b[0m \u001b[0mwords\u001b[0m\u001b[0;34m\u001b[0m\u001b[0;34m\u001b[0m\u001b[0m\n",
            "\u001b[0;32m/usr/local/lib/python3.10/dist-packages/konlpy/tag/_okt.py\u001b[0m in \u001b[0;36mpos\u001b[0;34m(self, phrase, norm, stem, join)\u001b[0m\n\u001b[1;32m     69\u001b[0m         \u001b[0mvalidate_phrase_inputs\u001b[0m\u001b[0;34m(\u001b[0m\u001b[0mphrase\u001b[0m\u001b[0;34m)\u001b[0m\u001b[0;34m\u001b[0m\u001b[0;34m\u001b[0m\u001b[0m\n\u001b[1;32m     70\u001b[0m \u001b[0;34m\u001b[0m\u001b[0m\n\u001b[0;32m---> 71\u001b[0;31m         tokens = self.jki.tokenize(\n\u001b[0m\u001b[1;32m     72\u001b[0m                     \u001b[0mphrase\u001b[0m\u001b[0;34m,\u001b[0m\u001b[0;34m\u001b[0m\u001b[0;34m\u001b[0m\u001b[0m\n\u001b[1;32m     73\u001b[0m                     \u001b[0mjpype\u001b[0m\u001b[0;34m.\u001b[0m\u001b[0mjava\u001b[0m\u001b[0;34m.\u001b[0m\u001b[0mlang\u001b[0m\u001b[0;34m.\u001b[0m\u001b[0mBoolean\u001b[0m\u001b[0;34m(\u001b[0m\u001b[0mnorm\u001b[0m\u001b[0;34m)\u001b[0m\u001b[0;34m,\u001b[0m\u001b[0;34m\u001b[0m\u001b[0;34m\u001b[0m\u001b[0m\n",
            "\u001b[0;31mKeyboardInterrupt\u001b[0m: "
          ]
        }
      ]
    },
    {
      "cell_type": "code",
      "source": [
        "# 인덱스 번호 검색하기\n",
        "index = gongji_copy[gongji_copy['title'] == \"2022学年度后期硕士招生简章\"].index\n",
        "print(index)"
      ],
      "metadata": {
        "colab": {
          "base_uri": "https://localhost:8080/"
        },
        "id": "XMNTEdq5fsOl",
        "outputId": "75cb8f5d-ddb1-4ebb-9443-b109d9532a83"
      },
      "execution_count": null,
      "outputs": [
        {
          "output_type": "stream",
          "name": "stdout",
          "text": [
            "Index([1009], dtype='int64')\n"
          ]
        }
      ]
    },
    {
      "cell_type": "code",
      "source": [
        "gongji_copy.loc[1009,'content']"
      ],
      "metadata": {
        "colab": {
          "base_uri": "https://localhost:8080/",
          "height": 182
        },
        "id": "m2Y_PAvpmOw6",
        "outputId": "c9d78eeb-2c9a-44da-cd2f-0e2913a1c9d1"
      },
      "execution_count": null,
      "outputs": [
        {
          "output_type": "execute_result",
          "data": {
            "text/plain": [
              "'\\n韩国外国语大学 政治行政言论大学院(夜间)2022学年度后期硕士招生简章1. 2022学年度后期招生日程补招材料提交2022.6.23.(周四) ~ 2022.7.11.(周一)考场通知2022.7.13.(周三) 14:00面试时间2022.7.16.(周六) 预计10:00 录取通知2022.7.21.(周四) 14:00缴纳全额学费2022-2学期 新生学费缴纳时间(预计2022.8月)2. 招生专业及学科公共监察-政策学科(公共政策，公共监察)外交安保学科（外交安保，北韩）媒体通讯学科（媒体通讯）文化娱乐产业学科（文化娱乐产业）3. 报名资格已在韩国境内外大学取得学士学位或预计在2022年8月取得学士学位的学生依照法律被认定具有同等以上学历的学生4. 报名方法• STEP 1 - 填写及提交网络申请书( www.uwayapply.com)• STEP 2 - 提交完网络申请书后，请将入学材料及其它材料一起提交至教学处* 在中国的大学毕业的情况（仅限于四年全日制本科毕业生）  - 中国教育部学历认证报告(http://www.chsi.com.cn) 或是 China Academic Degrees& Graduate Education Information(http://www.cdgdc.edu.cn)颁发的英文学位证书1份 - 毕业证书(预毕业证书) 的公证书 1份 - 学位证书的公证书(预毕业生在获得学位证书后提交) 1份 - 成绩证明的公证书1份※ 非韩国国籍的申请人 : 请务必提交以下文件 - 护照复印件, 外国人登陆证复印件(仅限于携带者) - 存款证明书(Financial Certification) - 韩国语能力考试(TOPIK) 3级以上成绩证明书(已报名截止时间为准2年内取得的成绩) 但是，如在申请时提交了3级topik成绩，需在毕业时提交4级以上的topik成绩。 - (合格后提交) 本人或者是父母名义办理的US $20,000以上的存款证明，或是同等金额的      本国货币所办理的存款证明(要求3个月内，且在韩国以外国家的银行中办理的情况，至少      冻结至2022年9月30日以后) 或是韩国的汇款兑换证明\\n* 请在有效期限内将所有材料通过邮寄，访问等方式提交 * 请务必在提交的期限内完成网络申请及材料提交5. 录取方法 : 材料审查及面试* 以参加面试为原则，不参加面试时视为不合格6. 招生地点 : 首尔校区（具体考场另行通知）7. 其它注意事项奖学金 (奖学生名单及金额将在入学后由奖学委员会决定)- 新生成绩优秀奖学金         - 成绩优秀奖学金          - 学生会委员奖学金- 功劳奖学金                 - 学费减免奖学金开设周末课程(周六)/ 平日课程19点开始- 本研究院系之间可以交叉授课8. 其它招生详情请参考政治行政言论大学院官网http://gsps.hufs.ac.kr 或参考招生简章 韩国外国语大学 大学院教学处事务2组(政治行政言论大学院)TEL. 02-2173-2428 FAX. 02-2173-3358(우)02450 서울특별시 동대문구 이문로 107(이문동 270)  \\n\\n'"
            ],
            "application/vnd.google.colaboratory.intrinsic+json": {
              "type": "string"
            }
          },
          "metadata": {},
          "execution_count": 73
        }
      ]
    },
    {
      "cell_type": "markdown",
      "source": [
        "### 영어 및 코로나 공지 제거\n",
        "- 공지의 경우 영어공지에 한국어가 섞인경우가 있어서 english 함수를 따로 지정\n",
        "- 중국어 처리 필요"
      ],
      "metadata": {
        "id": "wyK0SIMseC7w"
      }
    },
    {
      "cell_type": "markdown",
      "source": [
        "### 오류목록"
      ],
      "metadata": {
        "id": "lGIakClFy_fu"
      }
    },
    {
      "cell_type": "markdown",
      "source": [
        "1. 제1회 바우하우스 콜로키움 안내, Summarizer error: object dtype is not supported by sparse matrices\n",
        "2. [SW중심대학] 산학협력 프로젝트 참여인력 합격자 공지, Summarizer error: object dtype is not supported by sparse matrices\n",
        "3. [쌀람누리] 인턴채용 안내, Summarizer error: object dtype is not supported by sparse matrices\n",
        "4. 개교 68주년 기념식 안내, Summarizer error: object dtype is not supported by sparse matrices\n",
        "5. 한반도-북방 문화전략 포럼 웹 초청장, Summarizer error: object dtype is not supported by sparse matrices\n",
        "6. 러시아연구소, 2021 Russia Report 연례 세미나 개최, Summarizer error: object dtype is not supported by sparse matrices\n",
        "7. 한국외대 전인교육프로그램 HUFS Life Academy 4기생 추가모집, Summarizer error: object dtype is not supported by sparse matrices\n",
        "8. 러시아연구소, 이문일공칠과 인문강좌 공동 개최, Summarizer error: object dtype is not supported by sparse matrices\n",
        "9. [서울] [서울]학생상담센터 2학기 프로그램 안내, Summarizer error: object dtype is not supported by sparse matrices\n",
        "10. 독립출판 프로젝트 2기 모집 안내, Summarizer error: object dtype is not supported by sparse matrices\n",
        "11. 제10회 전국 대학(원)생 러시아어 토론대회 온라인 개최, Summarizer error: object dtype is not supported by sparse matrices\n",
        "12. 제10회 전국 대학(원)생 러시아어 토론대회 개최, Summarizer error: object dtype is not supported by sparse matrices\n",
        "13. [글로벌] 온라인 강의 기간 학생상담센터 이용안내, Summarizer error: object dtype is not supported by sparse matrices\n",
        "14. 신종 코로나바이러스감염증 예방행동수칙, Summarizer error: object dtype is not supported by sparse matrices\n",
        "15. 글로벌홀과 함게하는 남예종 DIPMX 미니 콘서트, Summarizer error: object dtype is not supported by sparse matrices\n",
        "16. 러시아연구소, 2019 Russia Report 연례 세미나 개최, Summarizer error: object dtype is not supported by sparse matrices\n",
        "17. 전자상거래중점대학지원사업 참여자 모집, Summarizer error: object dtype is not supported by sparse matrices\n",
        "18. [글로벌] 학생상담센터, 겨울방학 틈틈검사 안내, Summarizer error: object dtype is not supported by sparse matrices\n",
        "19. 러시아연구소, 한국슬라브유라시아학회와 공동 학술회의 개최, Summarizer error: object dtype is not supported by sparse matrices\n",
        "20. 러시아연구소, 제181차 콜로키움 개최, Summarizer error: object dtype is not supported by sparse matrices\n",
        "21. 제11차 러시아-CIS 전문가 초청 특강, Summarizer error: object dtype is not supported by sparse matrices\n",
        "22. 제10차 러시아-CIS 전문가 초청 특강, Summarizer error: object dtype is not supported by sparse matrices\n",
        "23. [글로벌] 2019-2 생명사랑 캠페인 안내, Summarizer error: object dtype is not supported by sparse matrices\n",
        "24. [서울] '2019 학생상담센터 심리검사 워크숍-내 안의 진로' 안내, Summarizer error: object dtype is not supported by sparse matrices\n",
        "25. 제9차 러시아-CIS 전문가 초청 특강, Summarizer error: object dtype is not supported by sparse matrices\n",
        "26. 2019년 동백도서관 『한국외대와 함께하는 인문학 특강』, Summarizer error: object dtype is not supported by sparse matrices\n",
        "27. 제8차 러시아-CIS 전문가 초청 특강, Summarizer error: object dtype is not supported by sparse matrices\n",
        "28. [글로벌] 미술치료를 통한 STRESS OUT! 프로그램 안내, Summarizer error: object dtype is not supported by sparse matrices\n",
        "29. 제7차 러시아-CIS 전문가 초청 특강, Summarizer error: object dtype is not supported by sparse matrices\n",
        "30. [글로벌] 학생상담센터 정서조절 코칭프로그램, Summarizer error: object dtype is not supported by sparse matrices\n",
        "31. [글로벌] 학생상담센터 마음돌보기 프로그램 안내, Summarizer error: object dtype is not supported by sparse matrices\n",
        "32. [글로벌] 학생상담센터 미술심리치료프로그램 안내, Summarizer error: object dtype is not supported by sparse matrices\n",
        "33. EU 10월 콜로키움 개최, Summarizer error: object dtype is not supported by sparse matrices\n",
        "34. 제6차 러시아-CIS 전문가 초청 특강, Summarizer error: object dtype is not supported by sparse matrices\n",
        "35. 제5차 러시아-CIS 전문가 초청 특강, Summarizer error: object dtype is not supported by sparse matrices\n",
        "36. [글로벌] 학생상담센터 2학기 프로그램 안내, Summarizer error: object dtype is not supported by sparse matrices\n",
        "37. 제3차 러시아-CIS 전문가 초청 특강, Summarizer error: object dtype is not supported by sparse matrices\n",
        "38. '한국외대와 함꼐하는 시민 인문학 특강' 개최, Summarizer error: object dtype is not supported by sparse matrices\n",
        "39. [글로벌] 2019학년도 정독상 독서감상문 원고모집, Summarizer error: object dtype is not supported by sparse matrices\n",
        "40. 제13차 러시아-CIS 전문가 초청 특강, Summarizer error: object dtype is not supported by sparse matrices\n",
        "41. 제12차 러시아-CIS 전문가 초청 특강, Summarizer error: object dtype is not supported by sparse matrices\n",
        "42. 한국외대와 함께하는 시민 인문학 특강, Summarizer error: object dtype is not supported by sparse matrices\n",
        "43. 제11차 러시아-CIS 전문가 초청 특강, Summarizer error: object dtype is not supported by sparse matrices\n",
        "44. 제9회 전국 대학생 러시아어 토론대회 개최, Summarizer error: object dtype is not supported by sparse matrices\n",
        "45. [서울] 2019 열린상담실 안내, Summarizer error: object dtype is not supported by sparse matrices\n",
        "46. 2019 모의유럽연합 참관인 모집, Summarizer error: object dtype is not supported by sparse matrices\n",
        "47. [글로벌] 학생상담센터 대인관계 향상 프로그램 안내, Summarizer error: object dtype is not supported by sparse matrices\n",
        "48. 제10차 러시아-CIS 전문가 초청 특강, Summarizer error: object dtype is not supported by sparse matrices\n",
        "49. [글로벌] 학생상담센터 발표불안 감소 프로그램 안내, Summarizer error: object dtype is not supported by sparse matrices\n",
        "50. [글로벌] 2019-1 진로 결정을 위한 자기탐색 프로그램, Summarizer error: object dtype is not supported by sparse matrices\n",
        "51. 김종구 북콘서트 '기타와 글쓰기', Summarizer error: object dtype is not supported by sparse matrices\n",
        "52. [서울] 2019 현직 선배와 함께하는 JOB 코칭데이, Summarizer error: object dtype is not supported by sparse matrices\n",
        "53. 제8차 러시아-CIS 전문가 초청 특강, Summarizer error: object dtype is not supported by sparse matrices\n",
        "54. [글로벌] 학생상담센터 심리검사 시리즈 1탄 : TCI 검사, Summarizer error: object dtype is not supported by sparse matrices\n",
        "55. 제7차 러시아-CIS 전문가 초청 특강, Summarizer error: object dtype is not supported by sparse matrices\n",
        "56. 제6차 러시아-CIS 전문가 초청 특강, Summarizer error: object dtype is not supported by sparse matrices\n",
        "57. 제9회 전국 대학생 러시아어 토론대회 개최, Summarizer error: object dtype is not supported by sparse matrices\n",
        "58. [글로벌] 2019-1 학생상담센터 황사마스크 나눔 행사 안내, Summarizer error: object dtype is not supported by sparse matrices\n",
        "59. [글로벌] 2019-1 학생상담센터 미술치료 프로그램 안내, Summarizer error: object dtype is not supported by sparse matrices\n",
        "60. [글로벌] 2019-1 학생상담센터 미술치료 프로그램 안내, Summarizer error: object dtype is not supported by sparse matrices\n",
        "61. 9회 전국 대학생 러시아어 토론대회 - 예선 참가 안내 -, Summarizer error: object dtype is not supported by sparse matrices\n",
        "62. [글로벌] 학생상담센터 새학기 홍보 이벤트 안내 (기념품 배포), Summarizer error: object dtype is not supported by sparse matrices\n",
        "63. [글로벌] 2019학년도 수시입학생 학점인정 AP프로그램 수강 안내, Summarizer error: object dtype is not supported by sparse matrices\n",
        "64. 혈액관리본부 통·번역 서포터즈 모집 안내, Summarizer error: object dtype is not supported by sparse matrices\n",
        "65. [서울] 보건실과 함께하는 기말고사 비타민C 이벤트, Summarizer error: object dtype is not supported by sparse matrices\n",
        "66. [공통] 2019년 상반기 20주 주간 외국어교육과정 교육생 모집안내, Summarizer error: object dtype is not supported by sparse matrices\n",
        "67. 2018년 동계방학 한국외대 IT자격증 특강, Summarizer error: object dtype is not supported by sparse matrices\n",
        "68. '2018년 중남미 보건의료산업 및 통역의 이해' 특강 개최, Summarizer error: object dtype is not supported by sparse matrices\n",
        "69. [글로벌] 특강 안내 [노래번역: 통번역가의 새로운 미래], Summarizer error: object dtype is not supported by sparse matrices\n",
        "70. [공통] 2018-2 창업아이디어 경진대회 참여신청 안내, Summarizer error: object dtype is not supported by sparse matrices\n",
        "71. [글로벌] 기업/산업분석(SWOT/3C/40분석법) 세미나, Summarizer error: object dtype is not supported by sparse matrices\n",
        "72. [공통] 우리은행 대학생 홍보대사 모집 안내, Summarizer error: object dtype is not supported by sparse matrices\n",
        "73. 자양 라이프아카데미 3기 모집, Summarizer error: object dtype is not supported by sparse matrices\n",
        "74. 2018년 대학도서관 이용자 만족도 조사 참여 안내, Summarizer error: object dtype is not supported by sparse matrices\n",
        "75. [글로벌] [18-2] 학점인정 방과후 프로그램(10주) 신청 안내, Summarizer error: object dtype is not supported by sparse matrices\n",
        "76. [공통] 2018학년도 하반기 창업동아리 모집, Summarizer error: object dtype is not supported by sparse matrices\n",
        "77. [서울] 2018년 여름방학 외대 IT자격증특강 안내, Summarizer error: object dtype is not supported by sparse matrices\n",
        "78. 러시아연구소, 오마이스쿨과 러시아 월드컵 관련 인문강좌 공동 개최, Summarizer error: object dtype is not supported by sparse matrices\n",
        "79. [마이나비코리아] 일본취업설명회 교내 개최 안내, Summarizer error: object dtype is not supported by sparse matrices\n",
        "80. 2018년 제 3기 <꽃 보다 대만학교> 개최 안내, Summarizer error: object dtype is not supported by sparse matrices\n",
        "81. 제8회 러시아어 토론대회 개최, Summarizer error: object dtype is not supported by sparse matrices\n",
        "82. [서울] 2018년 5월 한국외대 IT자격증특강 안내, Summarizer error: object dtype is not supported by sparse matrices\n",
        "83. 2018년 러시아어 토론대회 - 예선참가 안내 -, Summarizer error: object dtype is not supported by sparse matrices\n",
        "84. 학군사관(ROTC)59ㆍ60기 후보생모집안내, Summarizer error: object dtype is not supported by sparse matrices\n",
        "85. [글로벌] [18-1] 학점인정 방과후 프로그램(10주) 신청 안내, Summarizer error: object dtype is not supported by sparse matrices\n",
        "86. [서울] 2018년 3월 한국외대 IT자격증특강 안내, Summarizer error: object dtype is not supported by sparse matrices\n",
        "87. 러시아연구소, 이문일공칠과 인문강좌 공동 개최, Summarizer error: object dtype is not supported by sparse matrices\n",
        "88. [서울] [서울]학생상담센터 2학기 프로그램 안내, Summarizer error: object dtype is not supported by sparse matrices\n",
        "89. 독립출판 프로젝트 2기 모집 안내, Summarizer error: object dtype is not supported by sparse matrices\n",
        "90. 제10회 전국 대학(원)생 러시아어 토론대회 온라인 개최, Summarizer error: object dtype is not supported by sparse matrices\n",
        "91. 제8차 러시아-CIS 전문가 초청 특강, Summarizer error: object dtype is not supported by sparse matrices\n",
        "92. [글로벌] 학생상담센터 마음돌보기 프로그램 안내, Summarizer error: object dtype is not supported by sparse matrices\n",
        "93. [글로벌] 2019학년도 수시입학생 학점인정 AP프로그램 수강 안내, Summarizer error: object dtype is not supported by sparse matrices\n",
        "94. 혈액관리본부 통·번역 서포터즈 모집 안내, Summarizer error: object dtype is not supported by sparse matrices\n",
        "95. 명사 특강 안내 [SNS 유명 여행작가 청춘유리], Summarizer error: object dtype is not supported by sparse matrices\n",
        "96. [공통] 2018 국제심포지엄에 귀하를 초대합니다(노사발전재단), Summarizer error: object dtype is not supported by sparse matrices"
      ],
      "metadata": {
        "id": "euxVsJUjy7Cv"
      }
    },
    {
      "cell_type": "markdown",
      "source": [
        "### 2차 개선 _ sententence 리스트길이 5로 주기\n",
        "\n"
      ],
      "metadata": {
        "id": "JBOdrtDB9yCD"
      }
    },
    {
      "cell_type": "markdown",
      "source": [
        "1. 제1회 바우하우스 콜로키움 안내, Summarizer error: object dtype is not supported by sparse matrices\n",
        "2. [SW중심대학] 산학협력 프로젝트 참여인력 합격자 공지, Summarizer error: object dtype is not supported by sparse matrices\n",
        "3. 개교 68주년 기념식 안내, Summarizer error: object dtype is not supported by sparse matrices\n",
        "4. 한반도-북방 문화전략 포럼 웹 초청장, Summarizer error: object dtype is not supported by sparse matrices\n",
        "5. 전자상거래중점대학지원사업 참여자 모집, Summarizer error: object dtype is not supported by sparse matrices\n",
        "6. [서울] '2019 학생상담센터 심리검사 워크숍-내 안의 진로' 안내, Summarizer error: object dtype is not supported by sparse matrices\n",
        "7. [글로벌] 학생상담센터 마음돌보기 프로그램 안내, Summarizer error: object dtype is not supported by sparse matrices\n",
        "8. 명사 특강 안내 [SNS 유명 여행작가 청춘유리], Summarizer error: object dtype is not supported by sparse matrices\n",
        "9. [공통] 2018 국제심포지엄에 귀하를 초대합니다(노사발전재단), Summarizer error: object dtype is not supported by sparse matrices"
      ],
      "metadata": {
        "id": "KJmKUUK897uz"
      }
    },
    {
      "cell_type": "markdown",
      "source": [
        "### 외국어 개선 코드"
      ],
      "metadata": {
        "id": "9j4zdS8QzB-s"
      }
    },
    {
      "cell_type": "code",
      "source": [
        "# 원래 행개수 6707\n",
        "raw_nums_original = len(gongji_copy)\n",
        "raw_nums_original"
      ],
      "metadata": {
        "colab": {
          "base_uri": "https://localhost:8080/"
        },
        "id": "0oOvVb3ce0NO",
        "outputId": "8f8300ad-e91b-4e1e-de6b-d13a85a8fd3f"
      },
      "execution_count": null,
      "outputs": [
        {
          "output_type": "execute_result",
          "data": {
            "text/plain": [
              "6708"
            ]
          },
          "metadata": {},
          "execution_count": 56
        }
      ]
    },
    {
      "cell_type": "code",
      "source": [
        "# '코로나19 발병현황 및 행동지침'이 포함된 행을 찾고 제거\n",
        "gongji_copy = gongji_copy[~gongji_copy['title'].str.contains('코로나19 발병현황 및 행동지침')]\n",
        "# 발병현황 떨구고 6141개 됨\n",
        "len(gongji_copy)"
      ],
      "metadata": {
        "colab": {
          "base_uri": "https://localhost:8080/"
        },
        "id": "--1SNvwaenJE",
        "outputId": "9e076248-753b-48cb-e080-282b0a750adf"
      },
      "execution_count": null,
      "outputs": [
        {
          "output_type": "execute_result",
          "data": {
            "text/plain": [
              "6141"
            ]
          },
          "metadata": {},
          "execution_count": 57
        }
      ]
    },
    {
      "cell_type": "code",
      "source": [
        "def is_foreign_language(text, korean_threshold=0.3):\n",
        "    if isinstance(text, list):\n",
        "        text = ' '.join(text)\n",
        "\n",
        "    text = text.strip()\n",
        "    if not text:\n",
        "        return False\n",
        "\n",
        "    total_chars = len(text)\n",
        "    korean_chars = len(re.findall('[가-힣]', text))\n",
        "\n",
        "    # 한국어 비율이 일정 수준 미만인 경우 True 반환\n",
        "    return korean_chars / total_chars < korean_threshold\n",
        "\n",
        "text = \"\"\"韩国外国语大学 政治行政言论大学院(夜间)2022学年度后期硕士招生简章1. 2022学年度后期招生日程补招材料提交2022.6.23.(周四) ~ 2022.7.11.(周一)考场通知2022.7.13.(周三) 14:00面试时间2022.7.16.(周六) 预计10:00 录取通知2022.7.21.(周四) 14:00缴纳全额学费2022-2学期 新生学费缴纳时间(预计2022.8月)2. 招生专业及学科公共监察-政策学科(公共政策，公共监察)外交安保学科（外交安保，北韩）媒体通讯学科（媒体通讯）文化娱乐产业学科（文化娱乐产业）3. 报名资格已在韩国境内外大学取得学士学位或预计在2022年8月取得学士学位的学生依照法律被认定具有同等以上学历的学生4. 报名方法• STEP 1 - 填写及提交网络申请书( www.uwayapply.com)• STEP 2 - 提交完网络申请书后，请将入学材料及其它材料一起提交至教学处* 在中国的大学毕业的情况（仅限于四年全日制本科毕业生）  - 中国教育部学历认证报告(http://www.chsi.com.cn) 或是 China Academic Degrees& Graduate Education Information(http://www.cdgdc.edu.cn)颁发的英文学位证书1份 - 毕业证书(预毕业证书) 的公证书 1份 - 学位证书的公证书(预毕业生在获得学位证书后提交) 1份 - 成绩证明的公证书1份※ 非韩国国籍的申请人 : 请务必提交以下文件 - 护照复印件, 外国人登陆证复印件(仅限于携带者) - 存款证明书(Financial Certification) - 韩国语能力考试(TOPIK) 3级以上成绩证明书(已报名截止时间为准2年内取得的成绩) 但是，如在申请时提交了3级topik成绩，需在毕业时提交4级以上的topik成绩。 - (合格后提交) 本人或者是父母名义办理的US $20,000以上的存款证明，或是同等金额的      本国货币所办理的存款证明(要求3个月内，且在韩国以外国家的银行中办理的情况，至少      冻结至2022年9月30日以后) 或是韩国的汇款兑换证明\n",
        "* 请在有效期限内将所有材料通过邮寄，访问等方式提交 * 请务必在提交的期限内完成网络申请及材料提交5. 录取方法 : 材料审查及面试* 以参加面试为原则，不参加面试时视为不合格6. 招生地点 : 首尔校区（具体考场另行通知）7. 其它注意事项奖学金 (奖学生名单及金额将在入学后由奖学委员会决定)- 新生成绩优秀奖学金         - 成绩优秀奖学金          - 学生会委员奖学金- 功劳奖学金                 - 学费减免奖学金开设周末课程(周六)/ 平日课程19点开始- 本研究院系之间可以交叉授课8. 其它招生详情请参考政治行政言论大学院官网http://gsps.hufs.ac.kr 或参考招生简章 韩国外国语大学 大学院教学处事务2组(政治行政言论大学院)TEL. 02-2173-2428 FAX. 02-2173-3358(우)02450 서울특별시 동대문구 이문로 107(이문동 270)\n",
        "\"\"\"\n",
        "result = is_foreign_language(text)\n",
        "print(result)"
      ],
      "metadata": {
        "colab": {
          "base_uri": "https://localhost:8080/"
        },
        "id": "Kt8Y-hserw1K",
        "outputId": "94eb8b6d-0e3d-483d-fa8d-3c3aafc3e022"
      },
      "execution_count": null,
      "outputs": [
        {
          "output_type": "stream",
          "name": "stdout",
          "text": [
            "True\n"
          ]
        }
      ]
    },
    {
      "cell_type": "code",
      "source": [
        "# 영어 불용어 처리 해주기\n",
        "\n",
        "\n",
        "# 한글이 0.3이하면 True반환\n",
        "def is_foreign_language(text, korean_threshold=0.3):\n",
        "    if isinstance(text, list):\n",
        "        text = ' '.join(text)\n",
        "\n",
        "    text = text.strip()\n",
        "    if not text:\n",
        "        return False\n",
        "\n",
        "    total_chars = len(text)\n",
        "    korean_chars = len(re.findall('[가-힣]', text))\n",
        "\n",
        "    # 한국어 비율이 일정 수준 미만인 경우 True 반환\n",
        "    return korean_chars / total_chars < korean_threshold\n",
        "\n",
        "\n",
        "# 요약 함수 정의\n",
        "def summarize_content(title, content):\n",
        "    global cnt_error  # 전역 변수로 cnt_error를 사용\n",
        "\n",
        "    '''\n",
        "    # 영어로만 이루어진 게시글을 필터링\n",
        "    if is_mostly_english(content):\n",
        "        return []'''\n",
        "    # 한국어 비율이 0.3 이하일 경우 외국어공지로 취급하여 [] 반환\n",
        "    if is_foreign_language(content):\n",
        "        return []\n",
        "\n",
        "    if not content:\n",
        "        return []\n",
        "\n",
        "    if isinstance(content, list):\n",
        "        content = ' '.join(content)\n",
        "\n",
        "    if not content.strip():\n",
        "        return []\n",
        "\n",
        "    sents = re.split(r'\\n|\\.', content)\n",
        "\n",
        "    sents = list(filter(None, sents))\n",
        "\n",
        "    sents = [sent for sent in sents if sent.strip()]\n",
        "\n",
        "    if not sents:\n",
        "        return []\n",
        "\n",
        "    # 문장 길이 제한을 5로 늘림. 리스트에 split하고도 요소가 5개 미만이면 그냥 반환 (사진으로 문장 적은애들이 에러까지 안가게)\n",
        "    if len(sents) < 5:\n",
        "        return sents\n",
        "\n",
        "    # 요약 수행\n",
        "    try:\n",
        "        keysents = summarizer.summarize(sents, topk=3)\n",
        "    except ValueError as e:\n",
        "        # 요약 도중 에러 발생시 빈 리스트 반환\n",
        "        cnt_error += 1\n",
        "        print(f\"{cnt_error}. {title}, Summarizer error: {e}\")\n",
        "\n",
        "        # 문장으로 반환해주되, 3줄 아래면 그대로 반환하고 그 이상이면 3줄까지만 반환?\n",
        "        if len(sents) < 3:\n",
        "            return sents\n",
        "        else:\n",
        "            return sents[:3]\n",
        "\n",
        "    return [item[2] for item in keysents]\n",
        "\n",
        "\n",
        "cnt_error = 0\n",
        "# 'summarize_content' 컬럼 생성\n",
        "gongji_copy['summarize_content'] = gongji_copy.apply(lambda row: summarize_content(row['title'], row['content']), axis=1)\n",
        "\n",
        "\n",
        "# 결과 출력\n",
        "print(gongji_copy['summarize_content'])"
      ],
      "metadata": {
        "colab": {
          "base_uri": "https://localhost:8080/"
        },
        "id": "l7MwhsXNetmg",
        "outputId": "15ee9126-de30-4f88-c6c9-e1dd909bcf81"
      },
      "execution_count": null,
      "outputs": [
        {
          "output_type": "stream",
          "name": "stdout",
          "text": [
            "1. 제1회 바우하우스 콜로키움 안내, Summarizer error: object dtype is not supported by sparse matrices\n",
            "2. [SW중심대학] 산학협력 프로젝트 참여인력 합격자 공지, Summarizer error: object dtype is not supported by sparse matrices\n",
            "3. 개교 68주년 기념식 안내, Summarizer error: object dtype is not supported by sparse matrices\n",
            "4. 한반도-북방 문화전략 포럼 웹 초청장, Summarizer error: object dtype is not supported by sparse matrices\n",
            "5. 전자상거래중점대학지원사업 참여자 모집, Summarizer error: object dtype is not supported by sparse matrices\n",
            "6. [서울] '2019 학생상담센터 심리검사 워크숍-내 안의 진로' 안내, Summarizer error: object dtype is not supported by sparse matrices\n",
            "7. [글로벌] 학생상담센터 마음돌보기 프로그램 안내, Summarizer error: object dtype is not supported by sparse matrices\n",
            "8. 명사 특강 안내 [SNS 유명 여행작가 청춘유리], Summarizer error: object dtype is not supported by sparse matrices\n",
            "9. [공통] 2018 국제심포지엄에 귀하를 초대합니다(노사발전재단), Summarizer error: object dtype is not supported by sparse matrices\n",
            "0       [명상에 대해 배워보고 체험해볼 수 있는 <금모닝 마음챙김> 집단상담이 열립니다!,...\n",
            "1       [ 심폐소생술 교육일정 및 교육 신청 안내, 심폐소생술 교육일정 안내, 서울캠퍼스 ...\n",
            "2       [EU연구소 인문사회연구사업단에서 다가오는 4월 5일 금요일 16시, 교수회관 강연...\n",
            "3       [□한국외국어대학교 인도연구소(소장 김찬완)인문한국플러스(HK+)사업단은 오는4월5...\n",
            "4       [ 해당게시물에첨부된‘외대교육방송국78기수습국원지원서,  FBS 인스타그램페이지에서...\n",
            "                              ...                        \n",
            "6703    [                         2018학년도 전기 학생모집 안내￭ ...\n",
            "6704    [대원빌딩 철거공사 입찰 관련 질의 응답대원빌딩 철거공사 입찰과 관련한 질의사항에 ...\n",
            "6705    [주말 과정은 대학(원)생, 취업준비생, 해외연수 및 유학준비생, 인사혁신처 추천 ...\n",
            "6706    [‘FLC 외국어교육과정’은 대학(원)생, 취업준비생, 해외연수 및 유학준비생, 인...\n",
            "6707    [‘FLC 외국어교육과정’은 대학(원)생, 취업준비생, 해외연수 및 유학준비생, 인...\n",
            "Name: summarize_content, Length: 6141, dtype: object\n"
          ]
        },
        {
          "output_type": "stream",
          "name": "stderr",
          "text": [
            "<ipython-input-127-712baf403312>:73: SettingWithCopyWarning: \n",
            "A value is trying to be set on a copy of a slice from a DataFrame.\n",
            "Try using .loc[row_indexer,col_indexer] = value instead\n",
            "\n",
            "See the caveats in the documentation: https://pandas.pydata.org/pandas-docs/stable/user_guide/indexing.html#returning-a-view-versus-a-copy\n",
            "  gongji_copy['summarize_content'] = gongji_copy.apply(lambda row: summarize_content(row['title'], row['content']), axis=1)\n"
          ]
        }
      ]
    },
    {
      "cell_type": "code",
      "source": [
        "# 인덱스 번호 검색하기\n",
        "index = gongji_copy[gongji_copy['title'] == \"[공통] 2018 국제심포지엄에 귀하를 초대합니다(노사발전재단)\"].index\n",
        "print(index)"
      ],
      "metadata": {
        "colab": {
          "base_uri": "https://localhost:8080/"
        },
        "id": "cWRv2oedzl94",
        "outputId": "66f45382-ad1a-49f5-f493-e3969bab953c"
      },
      "execution_count": null,
      "outputs": [
        {
          "output_type": "stream",
          "name": "stdout",
          "text": [
            "Index([4200, 6331], dtype='int64')\n"
          ]
        }
      ]
    },
    {
      "cell_type": "code",
      "source": [
        "gongji_copy.loc[6331,'content']"
      ],
      "metadata": {
        "colab": {
          "base_uri": "https://localhost:8080/",
          "height": 35
        },
        "id": "Vg_Sz9okz5tY",
        "outputId": "38132c0d-1d08-4a5d-befe-7c4cffebfe0f"
      },
      "execution_count": null,
      "outputs": [
        {
          "output_type": "execute_result",
          "data": {
            "text/plain": [
              "'\\nWORLD ILERA 2018\\n2018 국제심포지엄\\n글로벌 공급망 내 인권보호와 CSR\\n일시 :2018년 7월 29일(월) 14:00~17:30\\n장소 : 코엑스 컨퍼런스룸 203호\\n참가신청하기\\n'"
            ],
            "application/vnd.google.colaboratory.intrinsic+json": {
              "type": "string"
            }
          },
          "metadata": {},
          "execution_count": 135
        }
      ]
    },
    {
      "cell_type": "code",
      "source": [
        "gongji_copy.loc[6331,'summarize_content']"
      ],
      "metadata": {
        "colab": {
          "base_uri": "https://localhost:8080/"
        },
        "id": "B-OGEadaz9j4",
        "outputId": "82b8c0f2-0d44-4761-bfd0-ff3fec21a8be"
      },
      "execution_count": null,
      "outputs": [
        {
          "output_type": "execute_result",
          "data": {
            "text/plain": [
              "['WORLD ILERA 2018', '2018 국제심포지엄', '글로벌 공급망 내 인권보호와 CSR']"
            ]
          },
          "metadata": {},
          "execution_count": 134
        }
      ]
    },
    {
      "cell_type": "markdown",
      "source": [
        "## 채용"
      ],
      "metadata": {
        "id": "LGYpHEYStRAe"
      }
    },
    {
      "cell_type": "markdown",
      "source": [
        "### 오류 리스트\n",
        "-  15 / 1268\n",
        "- 대부분 영어라 okt가 못인식한 것"
      ],
      "metadata": {
        "id": "TwmPtKBOvK4-"
      }
    },
    {
      "cell_type": "markdown",
      "source": [
        "1.\n",
        "Additioinal Faculty Position Announcement for Spring 2024 (Foreign Faculty), Summarizer error: object dtype is not supported by sparse matrices\n",
        "\n",
        "2.\n",
        "Faculty Position Announcement for Spring 2024 (Foreign Faculty), Summarizer error: object dtype is not supported by sparse matrices\n",
        "\n",
        "3.\n",
        "Faculty Position Announcement for Fall 2023(Foreign Faculty), Summarizer error: object dtype is not supported by sparse matrices\n",
        "\n",
        "4.\n",
        "Faculty Position Announcement for Spring 2023 (Foreign Faculty), Summarizer error: object dtype is not supported by sparse matrices\n",
        "\n",
        "5.\n",
        "[쌀람누리] 인턴채용 안내, Summarizer error: object dtype is not supported by sparse matrices\n",
        "\n",
        "6.\n",
        "Faculty Position Announcement for Fall 2022 (Foreign Faculty), Summarizer error: object dtype is not supported by sparse matrices\n",
        "\n",
        "7.\n",
        "Faculty Position Announcement for Spring 2022 (Foreign Faculty), Summarizer error: object dtype is not supported by sparse matrices\n",
        "\n",
        "8.\n",
        "Job Opening Announcement for HK Research Professor for HK+ ‘Great Transition in India’ Project at Institute of Indian Studies, H, Summarizer error: object dtype is not supported by sparse matrices\n",
        "\n",
        "9.\n",
        "Faculty Position Announcement for Fall 2021 (Foreign Faculty), Summarizer error: object dtype is not supported by sparse matrices\n",
        "\n",
        "10.\n",
        "한국외국어대학교 신입 직원 채용공고, Summarizer error: object dtype is not supported by sparse matrices\n",
        "\n",
        "11.\n",
        "한국외국어대학교 입학사정관 채용공고, Summarizer error: object dtype is not supported by sparse matrices\n",
        "\n",
        "12.\n",
        "2021 Online International Summer Session (ISS) Instructor Recruitment Annoucement, Summarizer error: object dtype is not supported by sparse matrices\n",
        "\n",
        "13.\n",
        "Faculty Position Announcement for Spring 2021 (Foreign Faculty), Summarizer error: object dtype is not supported by sparse matrices\n",
        "\n",
        "14.\n",
        "2020 International Youth Leader Exchange Support Program Participant Recruiting Announcement, Summarizer error: object dtype is not supported by sparse matrices\n",
        "\n",
        "15.\n",
        "Faculty Position Announcement for Fall 2020 (Foreign Faculty), Summarizer error: object dtype is not supported by sparse matrices"
      ],
      "metadata": {
        "id": "FK9M-bs6uyDX"
      }
    },
    {
      "cell_type": "markdown",
      "source": [
        "### 코드"
      ],
      "metadata": {
        "id": "OScF9DEDtZ5R"
      }
    },
    {
      "cell_type": "code",
      "source": [
        "import re\n",
        "import pandas as pd\n",
        "\n",
        "# 에러 카운트 변수 초기화\n",
        "cnt_error = 0\n",
        "\n",
        "# 요약 함수 정의\n",
        "def summarize_content(title, content):\n",
        "    global cnt_error  # 전역 변수로 cnt_error를 사용\n",
        "\n",
        "    if not content:\n",
        "        return []\n",
        "\n",
        "    if isinstance(content, list):\n",
        "        content = ' '.join(content)\n",
        "\n",
        "    if not content.strip():\n",
        "        return []\n",
        "\n",
        "    sents = re.split(r'\\n|\\.', content)\n",
        "\n",
        "    sents = list(filter(None, sents))\n",
        "\n",
        "    sents = [sent for sent in sents if sent.strip()]\n",
        "\n",
        "    if not sents:\n",
        "        return []\n",
        "\n",
        "    if len(sents) == 1:\n",
        "        return sents\n",
        "\n",
        "    # 요약 수행\n",
        "    try:\n",
        "        keysents = summarizer.summarize(sents, topk=3)\n",
        "    except ValueError as e:\n",
        "        # 요약 도중 에러 발생시 빈 리스트 반환\n",
        "        cnt_error += 1\n",
        "        print(f\"{cnt_error}. {title}, Summarizer error: {e}\")\n",
        "        return []\n",
        "\n",
        "    return [item[2] for item in keysents]\n",
        "\n",
        "# 'summarize_content' 컬럼 생성\n",
        "hiring_copy['summarize_content'] = hiring_copy.apply(lambda row: summarize_content(row['title'], row['content']), axis=1)\n",
        "\n",
        "\n",
        "# 결과 출력\n",
        "print(hiring_copy['summarize_content'])"
      ],
      "metadata": {
        "colab": {
          "base_uri": "https://localhost:8080/",
          "height": 669
        },
        "id": "fQ3iO7nCtUFJ",
        "outputId": "3372e651-c2eb-4a95-80a1-faf64b1c5baa"
      },
      "execution_count": null,
      "outputs": [
        {
          "output_type": "stream",
          "name": "stdout",
          "text": [
            "1. Additioinal Faculty Position Announcement for Spring 2024 (Foreign Faculty), Summarizer error: object dtype is not supported by sparse matrices\n",
            "2. Faculty Position Announcement for Spring 2024 (Foreign Faculty), Summarizer error: object dtype is not supported by sparse matrices\n",
            "3. Faculty Position Announcement for Fall 2023(Foreign Faculty), Summarizer error: object dtype is not supported by sparse matrices\n",
            "4. Faculty Position Announcement for Spring 2023 (Foreign Faculty), Summarizer error: object dtype is not supported by sparse matrices\n",
            "5. [쌀람누리] 인턴채용 안내, Summarizer error: object dtype is not supported by sparse matrices\n",
            "6. Faculty Position Announcement for Fall 2022 (Foreign Faculty), Summarizer error: object dtype is not supported by sparse matrices\n",
            "7. Faculty Position Announcement for Spring 2022 (Foreign Faculty), Summarizer error: object dtype is not supported by sparse matrices\n",
            "8. Job Opening Announcement for HK Research Professor for HK+ ‘Great Transition in India’ Project at Institute of Indian Studies, H, Summarizer error: object dtype is not supported by sparse matrices\n",
            "9. Faculty Position Announcement for Fall 2021 (Foreign Faculty), Summarizer error: object dtype is not supported by sparse matrices\n",
            "10. 한국외국어대학교 신입 직원 채용공고, Summarizer error: object dtype is not supported by sparse matrices\n",
            "11. 한국외국어대학교 입학사정관 채용공고, Summarizer error: object dtype is not supported by sparse matrices\n",
            "12. 2021 Online International Summer Session (ISS) Instructor Recruitment Annoucement, Summarizer error: object dtype is not supported by sparse matrices\n",
            "13. Faculty Position Announcement for Spring 2021 (Foreign Faculty), Summarizer error: object dtype is not supported by sparse matrices\n",
            "14. 2020 International Youth Leader Exchange Support Program Participant Recruiting Announcement, Summarizer error: object dtype is not supported by sparse matrices\n"
          ]
        },
        {
          "output_type": "error",
          "ename": "KeyboardInterrupt",
          "evalue": "",
          "traceback": [
            "\u001b[0;31m---------------------------------------------------------------------------\u001b[0m",
            "\u001b[0;31mKeyboardInterrupt\u001b[0m                         Traceback (most recent call last)",
            "\u001b[0;32m<ipython-input-26-c207a61f519d>\u001b[0m in \u001b[0;36m<cell line: 44>\u001b[0;34m()\u001b[0m\n\u001b[1;32m     42\u001b[0m \u001b[0;34m\u001b[0m\u001b[0m\n\u001b[1;32m     43\u001b[0m \u001b[0;31m# 'summarize_content' 컬럼 생성\u001b[0m\u001b[0;34m\u001b[0m\u001b[0;34m\u001b[0m\u001b[0m\n\u001b[0;32m---> 44\u001b[0;31m \u001b[0mhiring_copy\u001b[0m\u001b[0;34m[\u001b[0m\u001b[0;34m'summarize_content'\u001b[0m\u001b[0;34m]\u001b[0m \u001b[0;34m=\u001b[0m \u001b[0mhiring_copy\u001b[0m\u001b[0;34m.\u001b[0m\u001b[0mapply\u001b[0m\u001b[0;34m(\u001b[0m\u001b[0;32mlambda\u001b[0m \u001b[0mrow\u001b[0m\u001b[0;34m:\u001b[0m \u001b[0msummarize_content\u001b[0m\u001b[0;34m(\u001b[0m\u001b[0mrow\u001b[0m\u001b[0;34m[\u001b[0m\u001b[0;34m'title'\u001b[0m\u001b[0;34m]\u001b[0m\u001b[0;34m,\u001b[0m \u001b[0mrow\u001b[0m\u001b[0;34m[\u001b[0m\u001b[0;34m'content'\u001b[0m\u001b[0;34m]\u001b[0m\u001b[0;34m)\u001b[0m\u001b[0;34m,\u001b[0m \u001b[0maxis\u001b[0m\u001b[0;34m=\u001b[0m\u001b[0;36m1\u001b[0m\u001b[0;34m)\u001b[0m\u001b[0;34m\u001b[0m\u001b[0;34m\u001b[0m\u001b[0m\n\u001b[0m\u001b[1;32m     45\u001b[0m \u001b[0;34m\u001b[0m\u001b[0m\n\u001b[1;32m     46\u001b[0m \u001b[0;34m\u001b[0m\u001b[0m\n",
            "\u001b[0;32m/usr/local/lib/python3.10/dist-packages/pandas/core/frame.py\u001b[0m in \u001b[0;36mapply\u001b[0;34m(self, func, axis, raw, result_type, args, **kwargs)\u001b[0m\n\u001b[1;32m   9421\u001b[0m             \u001b[0mkwargs\u001b[0m\u001b[0;34m=\u001b[0m\u001b[0mkwargs\u001b[0m\u001b[0;34m,\u001b[0m\u001b[0;34m\u001b[0m\u001b[0;34m\u001b[0m\u001b[0m\n\u001b[1;32m   9422\u001b[0m         )\n\u001b[0;32m-> 9423\u001b[0;31m         \u001b[0;32mreturn\u001b[0m \u001b[0mop\u001b[0m\u001b[0;34m.\u001b[0m\u001b[0mapply\u001b[0m\u001b[0;34m(\u001b[0m\u001b[0;34m)\u001b[0m\u001b[0;34m.\u001b[0m\u001b[0m__finalize__\u001b[0m\u001b[0;34m(\u001b[0m\u001b[0mself\u001b[0m\u001b[0;34m,\u001b[0m \u001b[0mmethod\u001b[0m\u001b[0;34m=\u001b[0m\u001b[0;34m\"apply\"\u001b[0m\u001b[0;34m)\u001b[0m\u001b[0;34m\u001b[0m\u001b[0;34m\u001b[0m\u001b[0m\n\u001b[0m\u001b[1;32m   9424\u001b[0m \u001b[0;34m\u001b[0m\u001b[0m\n\u001b[1;32m   9425\u001b[0m     def applymap(\n",
            "\u001b[0;32m/usr/local/lib/python3.10/dist-packages/pandas/core/apply.py\u001b[0m in \u001b[0;36mapply\u001b[0;34m(self)\u001b[0m\n\u001b[1;32m    676\u001b[0m             \u001b[0;32mreturn\u001b[0m \u001b[0mself\u001b[0m\u001b[0;34m.\u001b[0m\u001b[0mapply_raw\u001b[0m\u001b[0;34m(\u001b[0m\u001b[0;34m)\u001b[0m\u001b[0;34m\u001b[0m\u001b[0;34m\u001b[0m\u001b[0m\n\u001b[1;32m    677\u001b[0m \u001b[0;34m\u001b[0m\u001b[0m\n\u001b[0;32m--> 678\u001b[0;31m         \u001b[0;32mreturn\u001b[0m \u001b[0mself\u001b[0m\u001b[0;34m.\u001b[0m\u001b[0mapply_standard\u001b[0m\u001b[0;34m(\u001b[0m\u001b[0;34m)\u001b[0m\u001b[0;34m\u001b[0m\u001b[0;34m\u001b[0m\u001b[0m\n\u001b[0m\u001b[1;32m    679\u001b[0m \u001b[0;34m\u001b[0m\u001b[0m\n\u001b[1;32m    680\u001b[0m     \u001b[0;32mdef\u001b[0m \u001b[0magg\u001b[0m\u001b[0;34m(\u001b[0m\u001b[0mself\u001b[0m\u001b[0;34m)\u001b[0m\u001b[0;34m:\u001b[0m\u001b[0;34m\u001b[0m\u001b[0;34m\u001b[0m\u001b[0m\n",
            "\u001b[0;32m/usr/local/lib/python3.10/dist-packages/pandas/core/apply.py\u001b[0m in \u001b[0;36mapply_standard\u001b[0;34m(self)\u001b[0m\n\u001b[1;32m    796\u001b[0m \u001b[0;34m\u001b[0m\u001b[0m\n\u001b[1;32m    797\u001b[0m     \u001b[0;32mdef\u001b[0m \u001b[0mapply_standard\u001b[0m\u001b[0;34m(\u001b[0m\u001b[0mself\u001b[0m\u001b[0;34m)\u001b[0m\u001b[0;34m:\u001b[0m\u001b[0;34m\u001b[0m\u001b[0;34m\u001b[0m\u001b[0m\n\u001b[0;32m--> 798\u001b[0;31m         \u001b[0mresults\u001b[0m\u001b[0;34m,\u001b[0m \u001b[0mres_index\u001b[0m \u001b[0;34m=\u001b[0m \u001b[0mself\u001b[0m\u001b[0;34m.\u001b[0m\u001b[0mapply_series_generator\u001b[0m\u001b[0;34m(\u001b[0m\u001b[0;34m)\u001b[0m\u001b[0;34m\u001b[0m\u001b[0;34m\u001b[0m\u001b[0m\n\u001b[0m\u001b[1;32m    799\u001b[0m \u001b[0;34m\u001b[0m\u001b[0m\n\u001b[1;32m    800\u001b[0m         \u001b[0;31m# wrap results\u001b[0m\u001b[0;34m\u001b[0m\u001b[0;34m\u001b[0m\u001b[0m\n",
            "\u001b[0;32m/usr/local/lib/python3.10/dist-packages/pandas/core/apply.py\u001b[0m in \u001b[0;36mapply_series_generator\u001b[0;34m(self)\u001b[0m\n\u001b[1;32m    812\u001b[0m             \u001b[0;32mfor\u001b[0m \u001b[0mi\u001b[0m\u001b[0;34m,\u001b[0m \u001b[0mv\u001b[0m \u001b[0;32min\u001b[0m \u001b[0menumerate\u001b[0m\u001b[0;34m(\u001b[0m\u001b[0mseries_gen\u001b[0m\u001b[0;34m)\u001b[0m\u001b[0;34m:\u001b[0m\u001b[0;34m\u001b[0m\u001b[0;34m\u001b[0m\u001b[0m\n\u001b[1;32m    813\u001b[0m                 \u001b[0;31m# ignore SettingWithCopy here in case the user mutates\u001b[0m\u001b[0;34m\u001b[0m\u001b[0;34m\u001b[0m\u001b[0m\n\u001b[0;32m--> 814\u001b[0;31m                 \u001b[0mresults\u001b[0m\u001b[0;34m[\u001b[0m\u001b[0mi\u001b[0m\u001b[0;34m]\u001b[0m \u001b[0;34m=\u001b[0m \u001b[0mself\u001b[0m\u001b[0;34m.\u001b[0m\u001b[0mf\u001b[0m\u001b[0;34m(\u001b[0m\u001b[0mv\u001b[0m\u001b[0;34m)\u001b[0m\u001b[0;34m\u001b[0m\u001b[0;34m\u001b[0m\u001b[0m\n\u001b[0m\u001b[1;32m    815\u001b[0m                 \u001b[0;32mif\u001b[0m \u001b[0misinstance\u001b[0m\u001b[0;34m(\u001b[0m\u001b[0mresults\u001b[0m\u001b[0;34m[\u001b[0m\u001b[0mi\u001b[0m\u001b[0;34m]\u001b[0m\u001b[0;34m,\u001b[0m \u001b[0mABCSeries\u001b[0m\u001b[0;34m)\u001b[0m\u001b[0;34m:\u001b[0m\u001b[0;34m\u001b[0m\u001b[0;34m\u001b[0m\u001b[0m\n\u001b[1;32m    816\u001b[0m                     \u001b[0;31m# If we have a view on v, we need to make a copy because\u001b[0m\u001b[0;34m\u001b[0m\u001b[0;34m\u001b[0m\u001b[0m\n",
            "\u001b[0;32m<ipython-input-26-c207a61f519d>\u001b[0m in \u001b[0;36m<lambda>\u001b[0;34m(row)\u001b[0m\n\u001b[1;32m     42\u001b[0m \u001b[0;34m\u001b[0m\u001b[0m\n\u001b[1;32m     43\u001b[0m \u001b[0;31m# 'summarize_content' 컬럼 생성\u001b[0m\u001b[0;34m\u001b[0m\u001b[0;34m\u001b[0m\u001b[0m\n\u001b[0;32m---> 44\u001b[0;31m \u001b[0mhiring_copy\u001b[0m\u001b[0;34m[\u001b[0m\u001b[0;34m'summarize_content'\u001b[0m\u001b[0;34m]\u001b[0m \u001b[0;34m=\u001b[0m \u001b[0mhiring_copy\u001b[0m\u001b[0;34m.\u001b[0m\u001b[0mapply\u001b[0m\u001b[0;34m(\u001b[0m\u001b[0;32mlambda\u001b[0m \u001b[0mrow\u001b[0m\u001b[0;34m:\u001b[0m \u001b[0msummarize_content\u001b[0m\u001b[0;34m(\u001b[0m\u001b[0mrow\u001b[0m\u001b[0;34m[\u001b[0m\u001b[0;34m'title'\u001b[0m\u001b[0;34m]\u001b[0m\u001b[0;34m,\u001b[0m \u001b[0mrow\u001b[0m\u001b[0;34m[\u001b[0m\u001b[0;34m'content'\u001b[0m\u001b[0;34m]\u001b[0m\u001b[0;34m)\u001b[0m\u001b[0;34m,\u001b[0m \u001b[0maxis\u001b[0m\u001b[0;34m=\u001b[0m\u001b[0;36m1\u001b[0m\u001b[0;34m)\u001b[0m\u001b[0;34m\u001b[0m\u001b[0;34m\u001b[0m\u001b[0m\n\u001b[0m\u001b[1;32m     45\u001b[0m \u001b[0;34m\u001b[0m\u001b[0m\n\u001b[1;32m     46\u001b[0m \u001b[0;34m\u001b[0m\u001b[0m\n",
            "\u001b[0;32m<ipython-input-26-c207a61f519d>\u001b[0m in \u001b[0;36msummarize_content\u001b[0;34m(title, content)\u001b[0m\n\u001b[1;32m     32\u001b[0m     \u001b[0;31m# 요약 수행\u001b[0m\u001b[0;34m\u001b[0m\u001b[0;34m\u001b[0m\u001b[0m\n\u001b[1;32m     33\u001b[0m     \u001b[0;32mtry\u001b[0m\u001b[0;34m:\u001b[0m\u001b[0;34m\u001b[0m\u001b[0;34m\u001b[0m\u001b[0m\n\u001b[0;32m---> 34\u001b[0;31m         \u001b[0mkeysents\u001b[0m \u001b[0;34m=\u001b[0m \u001b[0msummarizer\u001b[0m\u001b[0;34m.\u001b[0m\u001b[0msummarize\u001b[0m\u001b[0;34m(\u001b[0m\u001b[0msents\u001b[0m\u001b[0;34m,\u001b[0m \u001b[0mtopk\u001b[0m\u001b[0;34m=\u001b[0m\u001b[0;36m3\u001b[0m\u001b[0;34m)\u001b[0m\u001b[0;34m\u001b[0m\u001b[0;34m\u001b[0m\u001b[0m\n\u001b[0m\u001b[1;32m     35\u001b[0m     \u001b[0;32mexcept\u001b[0m \u001b[0mValueError\u001b[0m \u001b[0;32mas\u001b[0m \u001b[0me\u001b[0m\u001b[0;34m:\u001b[0m\u001b[0;34m\u001b[0m\u001b[0;34m\u001b[0m\u001b[0m\n\u001b[1;32m     36\u001b[0m         \u001b[0;31m# 요약 도중 에러 발생시 빈 리스트 반환\u001b[0m\u001b[0;34m\u001b[0m\u001b[0;34m\u001b[0m\u001b[0m\n",
            "\u001b[0;32m/content/textrank/textrank/summarizer.py\u001b[0m in \u001b[0;36msummarize\u001b[0;34m(self, sents, topk, bias)\u001b[0m\n\u001b[1;32m    192\u001b[0m             \u001b[0;32mraise\u001b[0m \u001b[0mValueError\u001b[0m\u001b[0;34m(\u001b[0m\u001b[0;34m'The type of bias must be None or numpy.ndarray but the type is {}'\u001b[0m\u001b[0;34m.\u001b[0m\u001b[0mformat\u001b[0m\u001b[0;34m(\u001b[0m\u001b[0mtype\u001b[0m\u001b[0;34m(\u001b[0m\u001b[0mbias\u001b[0m\u001b[0;34m)\u001b[0m\u001b[0;34m)\u001b[0m\u001b[0;34m)\u001b[0m\u001b[0;34m\u001b[0m\u001b[0;34m\u001b[0m\u001b[0m\n\u001b[1;32m    193\u001b[0m \u001b[0;34m\u001b[0m\u001b[0m\n\u001b[0;32m--> 194\u001b[0;31m         \u001b[0mself\u001b[0m\u001b[0;34m.\u001b[0m\u001b[0mtrain_textrank\u001b[0m\u001b[0;34m(\u001b[0m\u001b[0msents\u001b[0m\u001b[0;34m,\u001b[0m \u001b[0mbias\u001b[0m\u001b[0;34m)\u001b[0m\u001b[0;34m\u001b[0m\u001b[0;34m\u001b[0m\u001b[0m\n\u001b[0m\u001b[1;32m    195\u001b[0m         \u001b[0midxs\u001b[0m \u001b[0;34m=\u001b[0m \u001b[0mself\u001b[0m\u001b[0;34m.\u001b[0m\u001b[0mR\u001b[0m\u001b[0;34m.\u001b[0m\u001b[0margsort\u001b[0m\u001b[0;34m(\u001b[0m\u001b[0;34m)\u001b[0m\u001b[0;34m[\u001b[0m\u001b[0;34m-\u001b[0m\u001b[0mtopk\u001b[0m\u001b[0;34m:\u001b[0m\u001b[0;34m]\u001b[0m\u001b[0;34m\u001b[0m\u001b[0;34m\u001b[0m\u001b[0m\n\u001b[1;32m    196\u001b[0m         \u001b[0mkeysents\u001b[0m \u001b[0;34m=\u001b[0m \u001b[0;34m[\u001b[0m\u001b[0;34m(\u001b[0m\u001b[0midx\u001b[0m\u001b[0;34m,\u001b[0m \u001b[0mself\u001b[0m\u001b[0;34m.\u001b[0m\u001b[0mR\u001b[0m\u001b[0;34m[\u001b[0m\u001b[0midx\u001b[0m\u001b[0;34m]\u001b[0m\u001b[0;34m,\u001b[0m \u001b[0msents\u001b[0m\u001b[0;34m[\u001b[0m\u001b[0midx\u001b[0m\u001b[0;34m]\u001b[0m\u001b[0;34m)\u001b[0m \u001b[0;32mfor\u001b[0m \u001b[0midx\u001b[0m \u001b[0;32min\u001b[0m \u001b[0mreversed\u001b[0m\u001b[0;34m(\u001b[0m\u001b[0midxs\u001b[0m\u001b[0;34m)\u001b[0m\u001b[0;34m]\u001b[0m\u001b[0;34m\u001b[0m\u001b[0;34m\u001b[0m\u001b[0m\n",
            "\u001b[0;32m/content/textrank/textrank/summarizer.py\u001b[0m in \u001b[0;36mtrain_textrank\u001b[0;34m(self, sents, bias)\u001b[0m\n\u001b[1;32m    155\u001b[0m         \u001b[0;32mNone\u001b[0m\u001b[0;34m\u001b[0m\u001b[0;34m\u001b[0m\u001b[0m\n\u001b[1;32m    156\u001b[0m         \"\"\"\n\u001b[0;32m--> 157\u001b[0;31m         g = sent_graph(sents, self.tokenize, self.min_count,\n\u001b[0m\u001b[1;32m    158\u001b[0m             self.min_sim, self.similarity, self.vocab_to_idx, self.verbose)\n\u001b[1;32m    159\u001b[0m         \u001b[0mself\u001b[0m\u001b[0;34m.\u001b[0m\u001b[0mR\u001b[0m \u001b[0;34m=\u001b[0m \u001b[0mpagerank\u001b[0m\u001b[0;34m(\u001b[0m\u001b[0mg\u001b[0m\u001b[0;34m,\u001b[0m \u001b[0mself\u001b[0m\u001b[0;34m.\u001b[0m\u001b[0mdf\u001b[0m\u001b[0;34m,\u001b[0m \u001b[0mself\u001b[0m\u001b[0;34m.\u001b[0m\u001b[0mmax_iter\u001b[0m\u001b[0;34m,\u001b[0m \u001b[0mbias\u001b[0m\u001b[0;34m)\u001b[0m\u001b[0;34m.\u001b[0m\u001b[0mreshape\u001b[0m\u001b[0;34m(\u001b[0m\u001b[0;34m-\u001b[0m\u001b[0;36m1\u001b[0m\u001b[0;34m)\u001b[0m\u001b[0;34m\u001b[0m\u001b[0;34m\u001b[0m\u001b[0m\n",
            "\u001b[0;32m/content/textrank/textrank/sentence.py\u001b[0m in \u001b[0;36msent_graph\u001b[0;34m(sents, tokenize, min_count, min_sim, similarity, vocab_to_idx, verbose)\u001b[0m\n\u001b[1;32m     44\u001b[0m         \u001b[0midx_to_vocab\u001b[0m \u001b[0;34m=\u001b[0m \u001b[0;34m[\u001b[0m\u001b[0mvocab\u001b[0m \u001b[0;32mfor\u001b[0m \u001b[0mvocab\u001b[0m\u001b[0;34m,\u001b[0m \u001b[0m_\u001b[0m \u001b[0;32min\u001b[0m \u001b[0msorted\u001b[0m\u001b[0;34m(\u001b[0m\u001b[0mvocab_to_idx\u001b[0m\u001b[0;34m.\u001b[0m\u001b[0mitems\u001b[0m\u001b[0;34m(\u001b[0m\u001b[0;34m)\u001b[0m\u001b[0;34m,\u001b[0m \u001b[0mkey\u001b[0m\u001b[0;34m=\u001b[0m\u001b[0;32mlambda\u001b[0m \u001b[0mx\u001b[0m\u001b[0;34m:\u001b[0m\u001b[0mx\u001b[0m\u001b[0;34m[\u001b[0m\u001b[0;36m1\u001b[0m\u001b[0;34m]\u001b[0m\u001b[0;34m)\u001b[0m\u001b[0;34m]\u001b[0m\u001b[0;34m\u001b[0m\u001b[0;34m\u001b[0m\u001b[0m\n\u001b[1;32m     45\u001b[0m \u001b[0;34m\u001b[0m\u001b[0m\n\u001b[0;32m---> 46\u001b[0;31m     \u001b[0mx\u001b[0m \u001b[0;34m=\u001b[0m \u001b[0mvectorize_sents\u001b[0m\u001b[0;34m(\u001b[0m\u001b[0msents\u001b[0m\u001b[0;34m,\u001b[0m \u001b[0mtokenize\u001b[0m\u001b[0;34m,\u001b[0m \u001b[0mvocab_to_idx\u001b[0m\u001b[0;34m)\u001b[0m\u001b[0;34m\u001b[0m\u001b[0;34m\u001b[0m\u001b[0m\n\u001b[0m\u001b[1;32m     47\u001b[0m     \u001b[0;32mif\u001b[0m \u001b[0msimilarity\u001b[0m \u001b[0;34m==\u001b[0m \u001b[0;34m'cosine'\u001b[0m\u001b[0;34m:\u001b[0m\u001b[0;34m\u001b[0m\u001b[0;34m\u001b[0m\u001b[0m\n\u001b[1;32m     48\u001b[0m         \u001b[0mx\u001b[0m \u001b[0;34m=\u001b[0m \u001b[0mnumpy_cosine_similarity_matrix\u001b[0m\u001b[0;34m(\u001b[0m\u001b[0mx\u001b[0m\u001b[0;34m,\u001b[0m \u001b[0mmin_sim\u001b[0m\u001b[0;34m,\u001b[0m \u001b[0mverbose\u001b[0m\u001b[0;34m,\u001b[0m \u001b[0mbatch_size\u001b[0m\u001b[0;34m=\u001b[0m\u001b[0;36m1000\u001b[0m\u001b[0;34m)\u001b[0m\u001b[0;34m\u001b[0m\u001b[0;34m\u001b[0m\u001b[0m\n",
            "\u001b[0;32m/content/textrank/textrank/sentence.py\u001b[0m in \u001b[0;36mvectorize_sents\u001b[0;34m(sents, tokenize, vocab_to_idx)\u001b[0m\n\u001b[1;32m     54\u001b[0m     \u001b[0mrows\u001b[0m\u001b[0;34m,\u001b[0m \u001b[0mcols\u001b[0m\u001b[0;34m,\u001b[0m \u001b[0mdata\u001b[0m \u001b[0;34m=\u001b[0m \u001b[0;34m[\u001b[0m\u001b[0;34m]\u001b[0m\u001b[0;34m,\u001b[0m \u001b[0;34m[\u001b[0m\u001b[0;34m]\u001b[0m\u001b[0;34m,\u001b[0m \u001b[0;34m[\u001b[0m\u001b[0;34m]\u001b[0m\u001b[0;34m\u001b[0m\u001b[0;34m\u001b[0m\u001b[0m\n\u001b[1;32m     55\u001b[0m     \u001b[0;32mfor\u001b[0m \u001b[0mi\u001b[0m\u001b[0;34m,\u001b[0m \u001b[0msent\u001b[0m \u001b[0;32min\u001b[0m \u001b[0menumerate\u001b[0m\u001b[0;34m(\u001b[0m\u001b[0msents\u001b[0m\u001b[0;34m)\u001b[0m\u001b[0;34m:\u001b[0m\u001b[0;34m\u001b[0m\u001b[0;34m\u001b[0m\u001b[0m\n\u001b[0;32m---> 56\u001b[0;31m         \u001b[0mcounter\u001b[0m \u001b[0;34m=\u001b[0m \u001b[0mCounter\u001b[0m\u001b[0;34m(\u001b[0m\u001b[0mtokenize\u001b[0m\u001b[0;34m(\u001b[0m\u001b[0msent\u001b[0m\u001b[0;34m)\u001b[0m\u001b[0;34m)\u001b[0m\u001b[0;34m\u001b[0m\u001b[0;34m\u001b[0m\u001b[0m\n\u001b[0m\u001b[1;32m     57\u001b[0m         \u001b[0;32mfor\u001b[0m \u001b[0mtoken\u001b[0m\u001b[0;34m,\u001b[0m \u001b[0mcount\u001b[0m \u001b[0;32min\u001b[0m \u001b[0mcounter\u001b[0m\u001b[0;34m.\u001b[0m\u001b[0mitems\u001b[0m\u001b[0;34m(\u001b[0m\u001b[0;34m)\u001b[0m\u001b[0;34m:\u001b[0m\u001b[0;34m\u001b[0m\u001b[0;34m\u001b[0m\u001b[0m\n\u001b[1;32m     58\u001b[0m             \u001b[0mj\u001b[0m \u001b[0;34m=\u001b[0m \u001b[0mvocab_to_idx\u001b[0m\u001b[0;34m.\u001b[0m\u001b[0mget\u001b[0m\u001b[0;34m(\u001b[0m\u001b[0mtoken\u001b[0m\u001b[0;34m,\u001b[0m \u001b[0;34m-\u001b[0m\u001b[0;36m1\u001b[0m\u001b[0;34m)\u001b[0m\u001b[0;34m\u001b[0m\u001b[0;34m\u001b[0m\u001b[0m\n",
            "\u001b[0;32m<ipython-input-10-2ed784522e58>\u001b[0m in \u001b[0;36mokt_tokenize\u001b[0;34m(sent)\u001b[0m\n\u001b[1;32m      4\u001b[0m \u001b[0;34m\u001b[0m\u001b[0m\n\u001b[1;32m      5\u001b[0m \u001b[0;32mdef\u001b[0m \u001b[0mokt_tokenize\u001b[0m\u001b[0;34m(\u001b[0m\u001b[0msent\u001b[0m\u001b[0;34m)\u001b[0m\u001b[0;34m:\u001b[0m\u001b[0;34m\u001b[0m\u001b[0;34m\u001b[0m\u001b[0m\n\u001b[0;32m----> 6\u001b[0;31m     \u001b[0mwords\u001b[0m \u001b[0;34m=\u001b[0m \u001b[0mokt\u001b[0m\u001b[0;34m.\u001b[0m\u001b[0mpos\u001b[0m\u001b[0;34m(\u001b[0m\u001b[0msent\u001b[0m\u001b[0;34m,\u001b[0m \u001b[0mjoin\u001b[0m\u001b[0;34m=\u001b[0m\u001b[0;32mTrue\u001b[0m\u001b[0;34m)\u001b[0m\u001b[0;34m\u001b[0m\u001b[0;34m\u001b[0m\u001b[0m\n\u001b[0m\u001b[1;32m      7\u001b[0m     \u001b[0mwords\u001b[0m \u001b[0;34m=\u001b[0m \u001b[0;34m[\u001b[0m\u001b[0mw\u001b[0m \u001b[0;32mfor\u001b[0m \u001b[0mw\u001b[0m \u001b[0;32min\u001b[0m \u001b[0mwords\u001b[0m \u001b[0;32mif\u001b[0m \u001b[0;34m(\u001b[0m\u001b[0;34m'/Noun'\u001b[0m \u001b[0;32min\u001b[0m \u001b[0mw\u001b[0m \u001b[0;32mor\u001b[0m \u001b[0;34m'/Adjective'\u001b[0m \u001b[0;32min\u001b[0m \u001b[0mw\u001b[0m \u001b[0;32mor\u001b[0m \u001b[0;34m'/Verb'\u001b[0m \u001b[0;32min\u001b[0m \u001b[0mw\u001b[0m\u001b[0;34m)\u001b[0m\u001b[0;34m]\u001b[0m\u001b[0;34m\u001b[0m\u001b[0;34m\u001b[0m\u001b[0m\n\u001b[1;32m      8\u001b[0m     \u001b[0;32mreturn\u001b[0m \u001b[0mwords\u001b[0m\u001b[0;34m\u001b[0m\u001b[0;34m\u001b[0m\u001b[0m\n",
            "\u001b[0;32m/usr/local/lib/python3.10/dist-packages/konlpy/tag/_okt.py\u001b[0m in \u001b[0;36mpos\u001b[0;34m(self, phrase, norm, stem, join)\u001b[0m\n\u001b[1;32m     69\u001b[0m         \u001b[0mvalidate_phrase_inputs\u001b[0m\u001b[0;34m(\u001b[0m\u001b[0mphrase\u001b[0m\u001b[0;34m)\u001b[0m\u001b[0;34m\u001b[0m\u001b[0;34m\u001b[0m\u001b[0m\n\u001b[1;32m     70\u001b[0m \u001b[0;34m\u001b[0m\u001b[0m\n\u001b[0;32m---> 71\u001b[0;31m         tokens = self.jki.tokenize(\n\u001b[0m\u001b[1;32m     72\u001b[0m                     \u001b[0mphrase\u001b[0m\u001b[0;34m,\u001b[0m\u001b[0;34m\u001b[0m\u001b[0;34m\u001b[0m\u001b[0m\n\u001b[1;32m     73\u001b[0m                     \u001b[0mjpype\u001b[0m\u001b[0;34m.\u001b[0m\u001b[0mjava\u001b[0m\u001b[0;34m.\u001b[0m\u001b[0mlang\u001b[0m\u001b[0;34m.\u001b[0m\u001b[0mBoolean\u001b[0m\u001b[0;34m(\u001b[0m\u001b[0mnorm\u001b[0m\u001b[0;34m)\u001b[0m\u001b[0;34m,\u001b[0m\u001b[0;34m\u001b[0m\u001b[0;34m\u001b[0m\u001b[0m\n",
            "\u001b[0;31mKeyboardInterrupt\u001b[0m: "
          ]
        }
      ]
    },
    {
      "cell_type": "markdown",
      "source": [
        "### 영어 차단 후 오류 리스트\n",
        "- 3/1286"
      ],
      "metadata": {
        "id": "RuZieHO7Z9hG"
      }
    },
    {
      "cell_type": "markdown",
      "source": [
        "1. [쌀람누리] 인턴채용 안내, Summarizer error: object dtype is not supported by sparse matrices\n",
        "2. 한국외국어대학교 신입 직원 채용공고, Summarizer error: object dtype is not supported by sparse matrices\n",
        "- 동명 공지 중 1047만\n",
        "3. 한국외국어대학교 입학사정관 채용공고, Summarizer error: object dtype is not supported by sparse matrices\n"
      ],
      "metadata": {
        "id": "oFyjsFJIaGeu"
      }
    },
    {
      "cell_type": "code",
      "source": [
        "# 영어 불용어 처리 해주기\n",
        "\n",
        "import re\n",
        "import pandas as pd\n",
        "\n",
        "def summarize_content(title, content):\n",
        "    global cnt_error  # 전역 변수로 cnt_error를 사용\n",
        "\n",
        "    # 영어 게시글만 필터링 (장학금명 등이 지워지지 않도록)\n",
        "    if is_english_only(content):\n",
        "        return []\n",
        "\n",
        "    if not content:\n",
        "        return []\n",
        "\n",
        "    if isinstance(content, list):\n",
        "        content = ' '.join(content)\n",
        "\n",
        "    if not content.strip():\n",
        "        return []\n",
        "\n",
        "    sents = re.split(r'\\n|\\.', content)\n",
        "\n",
        "    sents = list(filter(None, sents))\n",
        "\n",
        "    sents = [sent for sent in sents if sent.strip()]\n",
        "\n",
        "    if not sents:\n",
        "        return []\n",
        "\n",
        "    if len(sents) == 1:\n",
        "        return sents\n",
        "\n",
        "    # 요약 수행\n",
        "    try:\n",
        "        keysents = summarizer.summarize(sents, topk=3)\n",
        "    except ValueError as e:\n",
        "        # 요약 도중 에러 발생시 빈 리스트 반환\n",
        "        cnt_error += 1\n",
        "        print(f\"{cnt_error}. {title}, Summarizer error: {e}\")\n",
        "        #return [] #빈리스트 반환에서 그냥 반환으로 바꿈\n",
        "        return sents\n",
        "\n",
        "    return [item[2] for item in keysents]\n",
        "\n",
        "# 완전히 영어로 된 글만 찾아내는 함수\n",
        "def is_english_only(text):\n",
        "    # 한글이 포함된 글을 제외\n",
        "    if re.search('[가-힣]', text):\n",
        "        return False\n",
        "    # 영어 이외의 다른 언어가 포함된 글을 제외\n",
        "    if not re.match('^[a-zA-Z\\s]*$', text):\n",
        "        return True\n",
        "    return False\n",
        "\n",
        "\n",
        "cnt_error = 0\n",
        "# 'summarize_content' 컬럼 생성\n",
        "hiring_copy['summarize_content'] = hiring_copy.apply(lambda row: summarize_content(row['title'], row['content']), axis=1)\n",
        "\n",
        "\n",
        "# 결과 출력\n",
        "print(hiring_copy['summarize_content'])"
      ],
      "metadata": {
        "colab": {
          "base_uri": "https://localhost:8080/"
        },
        "id": "Td6eYZj7XrPb",
        "outputId": "445e5157-ec20-480d-d3c1-5534637acb40"
      },
      "execution_count": null,
      "outputs": [
        {
          "output_type": "stream",
          "name": "stdout",
          "text": [
            "1. [쌀람누리] 인턴채용 안내, Summarizer error: object dtype is not supported by sparse matrices\n",
            "2. 한국외국어대학교 신입 직원 채용공고, Summarizer error: object dtype is not supported by sparse matrices\n",
            "3. 한국외국어대학교 입학사정관 채용공고, Summarizer error: object dtype is not supported by sparse matrices\n",
            "0       [ 메일 제목 예시: [국제학사 사감 지원] XX대학원, 2020XXXXX, 홍길동...\n",
            "1       [사이버한국외국어대학교 영어학부에서는 전임조교를 아래와 같이 모집하고 있습니다, 모...\n",
            "2       [■서류제출 기간 및 방법, 본 과제 관련 연구 및 사업 수행계획서(자율양식) 1부...\n",
            "3       [1 최종합격자를 제외한 구직자가 전형단계별 채용여부가 확정된 날부터 30일이 되는...\n",
            "4       [활동 기간: 합격 즉시 ~ 8월 16일 업무 내용:홍보물 및 영상 기획,카드뉴스 ...\n",
            "                              ...                        \n",
            "1264    [kr 에서 인터넷으로 접수(홈페이지 좌측하단-채용)6,  취업보호대상자(인터넷 접...\n",
            "1265    [ 국제학부 학부장실에서 아래와 같이 대학원생 조교를 모집합니다, -  아  래  ...\n",
            "1266    [(22-1)외국어교육센터(글로벌)수직조교 2차 추가모집 공고글로벌캠퍼스 외국어교육...\n",
            "1267    [(22-1)외국어교육센터(글로벌)대학원조교 추가모집 공고글로벌캠퍼스 외국어교육센터...\n",
            "1268    [ 근무 조건- 근무 장소: 한국외대 사이버관 613호 사이버한국외국어대학교 한국어...\n",
            "Name: summarize_content, Length: 1269, dtype: object\n"
          ]
        }
      ]
    },
    {
      "cell_type": "code",
      "source": [
        "# 인덱스 번호 검색하기\n",
        "index = hiring_copy[hiring_copy['title'] == \"한국외국어대학교 입학사정관 채용공고\"].index\n",
        "print(index)"
      ],
      "metadata": {
        "colab": {
          "base_uri": "https://localhost:8080/"
        },
        "id": "YeAIQx4ntoEJ",
        "outputId": "d2b4a274-6b2e-4846-baf9-69006e4a16ca"
      },
      "execution_count": null,
      "outputs": [
        {
          "output_type": "stream",
          "name": "stdout",
          "text": [
            "Index([1048], dtype='int64')\n"
          ]
        }
      ]
    },
    {
      "cell_type": "code",
      "source": [
        "hiring_copy.loc[1265, 'content']"
      ],
      "metadata": {
        "colab": {
          "base_uri": "https://localhost:8080/",
          "height": 109
        },
        "id": "uBetV8Rdul8h",
        "outputId": "42d0f2a1-16c4-497e-e453-de81ed3f7a62"
      },
      "execution_count": null,
      "outputs": [
        {
          "output_type": "execute_result",
          "data": {
            "text/plain": [
              "'\\n2020-1 국제학부 수석조교(대학원생조교) 모집안내\\n 국제학부 학부장실에서 아래와 같이 대학원생 조교를 모집합니다. \\n 관심있는 대학원생들의 많은 지원 바랍니다. \\n-  아  래  -■ 모집단위 : 국제학부 학부장실 대학원생 조교 (수석조교)\\n■ 모집인원 : O명 ■ 모집대상:2020-1학기에 본교 재학 예정인 석사/박사과정 대학원생(일반대학원/국제지역대학원/통번역대학원 등 모두 무관)\\n■ 근무기간 : 2020년도 1학기\\n■ 근 무 지 : 본교 사회과학관 101-4호 국제학부 학부장실\\n■ 주요업무 : 학부생 학사업무 및 기타 행정업무\\n■ 근무수당 : 1학기 400만원 외(2회 분할지급)\\n■ 세부 근무일정 : \\n 방학중(2월, 7월-8월) 일 3시간 탄력적으로 근무(10:00-14:00, 12:00-13:00 점심시간 제외) \\n 학기중(3월-6월) 주 30시간 내외 탄력적으로 근무 (수업시간 및 개인사정 고려하여 조정가능)\\n■ 추진일정 :추진내용 일 정 비 고 공 고 2019.12.30. 학교 홈페이지    게시 접 수 2020.01.02. ~ 01.23. 오후 2시까지 지원서식을    작성하여 하여 첨부서류와 함께학부장실 이메일을 통한‘온라인’접수 인터뷰 2020.01.23. 이후 (추후 공지예정) 서류심사    후 학부장님과의 면접 ■ 제출기한 : 2020. 01. 23. 목요일 오후 2시까지\\n■ 제출방법 : 첨부파일을 다운받아 서류와 함께 아래의 이메일 주소로 제출 \\n 국제학부학부장실 hufsdista@gmail.com\\n■ 문    의 : 국제학부 학부장실 ☎ 02-2173-33152019.12.30.국제학부 학부장실\\n'"
            ],
            "application/vnd.google.colaboratory.intrinsic+json": {
              "type": "string"
            }
          },
          "metadata": {},
          "execution_count": 18
        }
      ]
    },
    {
      "cell_type": "code",
      "source": [
        "hiring_copy.loc[1265, 'summarize_content']"
      ],
      "metadata": {
        "id": "pNbq57w0urgW",
        "colab": {
          "base_uri": "https://localhost:8080/"
        },
        "outputId": "0f365a59-2230-4340-fd40-51b1d0ef0458"
      },
      "execution_count": null,
      "outputs": [
        {
          "output_type": "execute_result",
          "data": {
            "text/plain": [
              "[' 국제학부 학부장실에서 아래와 같이 대학원생 조교를 모집합니다',\n",
              " '-  아  래  -■ 모집단위 : 국제학부 학부장실 대학원생 조교 (수석조교)',\n",
              " '국제학부 학부장실']"
            ]
          },
          "metadata": {},
          "execution_count": 20
        }
      ]
    },
    {
      "cell_type": "code",
      "source": [],
      "metadata": {
        "id": "RnPz2iRWbfMy"
      },
      "execution_count": null,
      "outputs": []
    },
    {
      "cell_type": "markdown",
      "source": [
        "# 0529(수) 업뎃사항\n",
        "- 외국어 필터링 함수 두개 기준 만들었음\n",
        "  - 채용의 is_english_only로 다른건 충분함\n",
        "  - 중국어 등이 섞인 공지파트의 경우 타언어 + 한국어라 그냥 외국어 처리를 한국어가 30% 미만인걸로 거름\n",
        "\n",
        "- 공지 코로나 공지 600개 지우고 전처리\n",
        "\n",
        "- 에러난 애들에 대해 sents로 그대로 return. 길이가 3이상인 애들은 3개까지만 문장 return\n",
        "\n",
        "- 문장길이를 5로 늘림 -> 짧아서 오류나는 애들 다 해결됨\n",
        "\n",
        "\n",
        "\n",
        "# 0530 (목) 회의 사항\n",
        "- tokenize에 전처리 과정 넣어주기\n",
        "  - 이메일 패턴, 전화번호를 re로 사용해줘야하는데\n",
        "    -> 차라리 사전을 등록해서 불용어처리? 불용어 사전을 re 패키지로 구축해서 전번 다 제거할까\n",
        "    \n",
        "    -> 숫자 제거시에는 요약 성능이 떨어짐 _ 전화번호, 이메일 제거 방향 고민해야함\n",
        "\n",
        "- 외국어 처리 고민 (threshold) _ api만들때 유지\n",
        "- 컨텐츠가비어있는지 none 말고 []에 대해서\n",
        "- 이메일 전처리가 효용이 떨어지는 것 같아서 토크나이징에 고민\n",
        "\n",
        "\n",
        "- colab에 fast api 깔아서 쓸 수는 있음\n",
        "- 배포 확인\n",
        "\n",
        "\n",
        "- 시연님 코드 오류가 안나는데 key_sents가 어디선가 걸리는것 같음. 참고해서 오류 줄여보기\n",
        "\n",
        "- 장학 코드도 고치기\n",
        "\n",
        "- fast api 하면서 모듈화 성능 생각하기 (특히 tokenize, 불용어 처리, 사용자 사전 살펴보면서 추가하면 좋을 것 업데이트)\n",
        "- textrank 함수 넣기\n",
        "- 출력할 때 세개의 문장을 출력. 파이썬 상에서는 리스트인데 api 배포할 때 어떻게 넣을지 고민\n",
        "\n",
        "- 모델 구현할 땐 error count 필요없고 자세한 사항은 본문확인 부탁드립니다. 출력 return\n",
        "\n",
        "- 일요일까지 배포 모델 한번 만들어보고 상황공유 _ 밤 9시반"
      ],
      "metadata": {
        "id": "x9-5J_f4CiNH"
      }
    },
    {
      "cell_type": "markdown",
      "source": [
        "### 러시아 CIS 등 오류 관련"
      ],
      "metadata": {
        "id": "Z7OGJ-A4ZbqM"
      }
    },
    {
      "cell_type": "code",
      "source": [
        "# 인덱스 번호 검색하기\n",
        "index = gongji_copy[gongji_copy['title'] == \"명사 특강 안내 [SNS 유명 여행작가 청춘유리]\"]\n",
        "print(index)"
      ],
      "metadata": {
        "colab": {
          "base_uri": "https://localhost:8080/"
        },
        "id": "0mfAXaRCWnAt",
        "outputId": "6b47b89d-d42a-4f0d-d39a-8eeb3acbf5db"
      },
      "execution_count": null,
      "outputs": [
        {
          "output_type": "stream",
          "name": "stdout",
          "text": [
            "      index        date                        title  \\\n",
            "3961    625  2018.11.12  명사 특강 안내 [SNS 유명 여행작가 청춘유리]   \n",
            "6092    625  2018-11-12  명사 특강 안내 [SNS 유명 여행작가 청춘유리]   \n",
            "\n",
            "                                                content  \n",
            "3961                                               \\n\\n  \n",
            "6092  \\nSNS 유명작가\\n청춘유리 ★\\n한국외대에 떴다!!!!!\\n강연 내용:\\n\"내가...  \n"
          ]
        }
      ]
    },
    {
      "cell_type": "code",
      "source": [
        "gongji_copy.loc[6092,'content']"
      ],
      "metadata": {
        "colab": {
          "base_uri": "https://localhost:8080/",
          "height": 54
        },
        "id": "1lcHf0izarPD",
        "outputId": "a0a6349e-ef05-4e77-e8ab-ca886f478c92"
      },
      "execution_count": null,
      "outputs": [
        {
          "output_type": "execute_result",
          "data": {
            "text/plain": [
              "'\\nSNS 유명작가\\n청춘유리 ★\\n한국외대에 떴다!!!!!\\n강연 내용:\\n\"내가 8년간 쉬지 않고 여행 다닌 이유\"\\n\\n일시: 2018년 11월 20일 화요일 오후 6시 30분\\n대상: 한국외국어대학교\\n글로벌캠퍼스 학생이라면 누구든!\\n장소: 백년관 국제 세미나실\\n사전 신청 시 간식 제공\\n★신청 사이트★\\nhttp://naver.me/F5f8b6ca\\n\\n'"
            ],
            "application/vnd.google.colaboratory.intrinsic+json": {
              "type": "string"
            }
          },
          "metadata": {},
          "execution_count": 32
        }
      ]
    },
    {
      "cell_type": "code",
      "source": [
        "#Index([3348, 5479], dtype='int64')\n",
        "gongji_copy.loc[5479,'content']"
      ],
      "metadata": {
        "colab": {
          "base_uri": "https://localhost:8080/",
          "height": 110
        },
        "id": "DKvkKmP7aHdJ",
        "outputId": "4cde3a59-1d5d-483c-e725-2a6ea2c5533a"
      },
      "execution_count": null,
      "outputs": [
        {
          "output_type": "execute_result",
          "data": {
            "text/plain": [
              "'제5차 러시아-CIS 전문가 초청 특강\\n[제5차 러시아·CIS 전문가 초청 특강]\\n2019-2학기\\n한국외대 국제지역대학원은 대외경제정책연구원(KIEP)과 한국외대 러시아 연구소 HK+ 사업단이 후원하는 러시아·CIS 지역전문가 초청 특강을 아래와 같이 개최합니다.\\n관심있는 동학제현 여러분들의 많은 관심과 참여를 부탁드립니다.\\n주제\\n제1강 : 러시아 언론에 비친 한국 제2강: 한국 언론에 비친 러시아\\n연사 OLEG KIRIYANOV (Rossiyskaya Gazeta 서울 특파원)\\n일 시\\n2019년 10월 11일(금), 15:00~18:00\\n장소\\n일반대학원 411호\\n한국외대 국제지역대학원 러시아-CIS 학과,\\n주최\\n한국외대 통번역대학원 한노과\\n후원\\n대외경제정책연구원(KIEP), 한국외대 러시아연구소\\n\\n'"
            ],
            "application/vnd.google.colaboratory.intrinsic+json": {
              "type": "string"
            }
          },
          "metadata": {},
          "execution_count": 29
        }
      ]
    },
    {
      "cell_type": "code",
      "source": [
        "# 11차 CIS : Index([3229, 3566, 5360, 5697], dtype='int64')\n",
        "gongji_copy.loc[5697,'content']"
      ],
      "metadata": {
        "colab": {
          "base_uri": "https://localhost:8080/",
          "height": 92
        },
        "id": "94qNwl4rY6CO",
        "outputId": "2480de0b-9e51-45d5-f5e5-a6b52d4887ab"
      },
      "execution_count": null,
      "outputs": [
        {
          "output_type": "execute_result",
          "data": {
            "text/plain": [
              "'\\n제11차 러시아-CIS 전문가 초청 특강\\n[제 11차 러시아 · CIS 전문가 초청 특강]\\n2019-1학기\\n한국외대 국제지역대학원은 한국연구재단이 후원하고 한국외대 러시아 연구소 HK(인문한국) 연구사업단이 기획하는 러시아·CIS 지역전문가 초청 특강을 아래와 같이 개최합니다. 관심있는 동학제현 여러분들의 많 은 관심과 참여를 부탁드립니다.\\n제1강 : 러시아 영화의 이해 1\\n주제\\n제2강: 러시아 영화의 이해 2\\n◆연사\\n홍완석(한국외대 교수)\\n◆일시\\n2019년 5월 31일(금), 15:00~18:00\\n장소\\n일반대학원 411호\\n주최\\n한국외대 국제지역대학원 러시아-CIS 학과, 한국외대 통번역대학원 한노과\\n후원 한국연구재단, 한국외대 러시아연구소\\n\\n'"
            ],
            "application/vnd.google.colaboratory.intrinsic+json": {
              "type": "string"
            }
          },
          "metadata": {},
          "execution_count": 22
        }
      ]
    },
    {
      "cell_type": "code",
      "source": [
        "#10차 CIS Index([3242, 3609, 5373, 5740], dtype='int64')\n",
        "gongji_copy.loc[5373,'content']"
      ],
      "metadata": {
        "colab": {
          "base_uri": "https://localhost:8080/",
          "height": 92
        },
        "id": "sZuoG8qXW1_o",
        "outputId": "8bae1072-0aae-4ad1-d4ce-0607fbb2233c"
      },
      "execution_count": null,
      "outputs": [
        {
          "output_type": "execute_result",
          "data": {
            "text/plain": [
              "'\\n제10차 러시아-CIS 전문가 초청 특강\\n2019-2학기\\n한국외대 국제지역대학원(주임교수 홍완석)은 대외경제정책연구원(KIEP)과 한국외대 러시아연구소 HK+ 사업단이 후원하는 러시아·CIS 지역전문가 초청 특강을 아래와 같이 개최합니다.\\n관심있는 동학제현 여러분들의 많은 관심과 참여를 부탁드립니다.\\n제1강 : 역사 속의 러시아-폴란드 관계\\n주 제\\n제2강 : 러-폴란드 관계의 현재와 미래\\n연사\\n이시형 (전 한국국제교류재단 이사장, 전 OECD/폴란드 대사)\\n◆일시\\n2019년 11월 22일(금), 15:00~18:00\\n장소\\n일반대학원 411호\\n한국외대 국제지역대학원 러시아-CIS 학과,\\n주최\\n한국외대 통번역대학원 한노과\\n\\n'"
            ],
            "application/vnd.google.colaboratory.intrinsic+json": {
              "type": "string"
            }
          },
          "metadata": {},
          "execution_count": 53
        }
      ]
    },
    {
      "cell_type": "code",
      "source": [
        "text = gongji_copy.loc[5740, 'content']\n",
        "summarized_content = summarize_content(gongji_copy.loc[5740, 'title'], text)\n",
        "print(summarized_content)"
      ],
      "metadata": {
        "colab": {
          "base_uri": "https://localhost:8080/"
        },
        "id": "X5QOX295cxgL",
        "outputId": "0fc2e664-b2a0-4ab7-ec65-05688d3f3de3"
      },
      "execution_count": null,
      "outputs": [
        {
          "output_type": "stream",
          "name": "stdout",
          "text": [
            "['한국외대 국제지역대학원은 한국연구재단이 후원하고 한국외대 러시아 연구소 HK(인문한국) 연구사업단이 기획하는 러시아·CIS 지역전문가 초청 특강을 아래와 같이 개최합니다', '제10차 러시아-CIS 전문가 초청 특강', '[제 10차 러시아 CIS 전문가 초청 특강]']\n"
          ]
        }
      ]
    },
    {
      "cell_type": "code",
      "source": [
        "# 한글이 0.3이하면 True반환\n",
        "def is_foreign_language(text, korean_threshold=0.3):\n",
        "    if isinstance(text, list):\n",
        "        text = ' '.join(text)\n",
        "\n",
        "    text = text.strip()\n",
        "    if not text:\n",
        "        return False\n",
        "\n",
        "    total_chars = len(text)\n",
        "    korean_chars = len(re.findall('[가-힣]', text))\n",
        "\n",
        "    # 한국어 비율이 일정 수준 미만인 경우 True 반환\n",
        "    return korean_chars / total_chars < korean_threshold\n",
        "\n",
        "\n",
        "# 요약 함수 정의\n",
        "def summarize_content(title, content):\n",
        "    global cnt_error  # 전역 변수로 cnt_error를 사용\n",
        "\n",
        "    '''\n",
        "    # 영어로만 이루어진 게시글을 필터링\n",
        "    if is_mostly_english(content):\n",
        "        return []'''\n",
        "    # 한국어 비율이 0.3 이하일 경우 외국어공지로 취급하여 [] 반환\n",
        "    if is_foreign_language(content):\n",
        "        return []\n",
        "\n",
        "    if not content:\n",
        "        return []\n",
        "\n",
        "    if isinstance(content, list):\n",
        "        content = ' '.join(content)\n",
        "\n",
        "    if not content.strip():\n",
        "        return []\n",
        "\n",
        "    sents = re.split(r'\\n|\\.', content)\n",
        "\n",
        "    sents = list(filter(None, sents))\n",
        "\n",
        "    sents = [sent for sent in sents if sent.strip()]\n",
        "\n",
        "    if not sents:\n",
        "        return []\n",
        "\n",
        "    # 문장 길이 제한을 5로 늘림. 리스트에 split하고도 요소가 5개 미만이면 그냥 반환 (사진으로 문장 적은애들이 에러까지 안가게)\n",
        "    if len(sents) < 5:\n",
        "        return sents\n",
        "\n",
        "    # 요약 수행\n",
        "    try:\n",
        "        keysents = summarizer.summarize(sents, topk=3)\n",
        "    except ValueError as e:\n",
        "        # 요약 도중 에러 발생시 빈 리스트 반환\n",
        "        cnt_error += 1\n",
        "        print(f\"{cnt_error}. {title}, Summarizer error: {e}\")\n",
        "\n",
        "        # 문장으로 반환해주되, 3줄 아래면 그대로 반환하고 그 이상이면 3줄까지만 반환?\n",
        "        if len(sents) < 3:\n",
        "            return sents\n",
        "        else:\n",
        "            return sents[:3]\n",
        "\n",
        "    return [item[2] for item in keysents]\n",
        "\n",
        "\n",
        "cnt_error = 0\n",
        "\n"
      ],
      "metadata": {
        "colab": {
          "base_uri": "https://localhost:8080/"
        },
        "id": "wl7LwsptbG2f",
        "outputId": "8970bd1e-df0f-4114-dbd3-a349e44493c6"
      },
      "execution_count": null,
      "outputs": [
        {
          "output_type": "stream",
          "name": "stdout",
          "text": [
            "['제10차 러시아-CIS 전문가 초청 특강', '2019', ' 11', '한국외대 국제지역대학원 러시아-CIS학과']\n"
          ]
        }
      ]
    },
    {
      "cell_type": "markdown",
      "source": [
        "# 0601~ 모델링"
      ],
      "metadata": {
        "id": "2s_yqBPmihrm"
      }
    },
    {
      "cell_type": "markdown",
      "source": [
        "## ngrok+ Fastapi 잘 되는지 확인"
      ],
      "metadata": {
        "id": "EvZtfKhkuz6n"
      }
    },
    {
      "cell_type": "code",
      "source": [
        "!pip install fastapi nest-asyncio pyngrok uvicorn"
      ],
      "metadata": {
        "colab": {
          "base_uri": "https://localhost:8080/"
        },
        "id": "sSD5Wfbu6TTd",
        "outputId": "54ac0955-409b-4dd9-ed88-478a8d1b693c"
      },
      "execution_count": null,
      "outputs": [
        {
          "output_type": "stream",
          "name": "stdout",
          "text": [
            "Requirement already satisfied: fastapi in /usr/local/lib/python3.10/dist-packages (0.111.0)\n",
            "Requirement already satisfied: nest-asyncio in /usr/local/lib/python3.10/dist-packages (1.6.0)\n",
            "Requirement already satisfied: pyngrok in /usr/local/lib/python3.10/dist-packages (7.1.6)\n",
            "Requirement already satisfied: uvicorn in /usr/local/lib/python3.10/dist-packages (0.30.0)\n",
            "Requirement already satisfied: starlette<0.38.0,>=0.37.2 in /usr/local/lib/python3.10/dist-packages (from fastapi) (0.37.2)\n",
            "Requirement already satisfied: pydantic!=1.8,!=1.8.1,!=2.0.0,!=2.0.1,!=2.1.0,<3.0.0,>=1.7.4 in /usr/local/lib/python3.10/dist-packages (from fastapi) (2.7.1)\n",
            "Requirement already satisfied: typing-extensions>=4.8.0 in /usr/local/lib/python3.10/dist-packages (from fastapi) (4.11.0)\n",
            "Requirement already satisfied: fastapi-cli>=0.0.2 in /usr/local/lib/python3.10/dist-packages (from fastapi) (0.0.4)\n",
            "Requirement already satisfied: httpx>=0.23.0 in /usr/local/lib/python3.10/dist-packages (from fastapi) (0.27.0)\n",
            "Requirement already satisfied: jinja2>=2.11.2 in /usr/local/lib/python3.10/dist-packages (from fastapi) (3.1.4)\n",
            "Requirement already satisfied: python-multipart>=0.0.7 in /usr/local/lib/python3.10/dist-packages (from fastapi) (0.0.9)\n",
            "Requirement already satisfied: ujson!=4.0.2,!=4.1.0,!=4.2.0,!=4.3.0,!=5.0.0,!=5.1.0,>=4.0.1 in /usr/local/lib/python3.10/dist-packages (from fastapi) (5.10.0)\n",
            "Requirement already satisfied: orjson>=3.2.1 in /usr/local/lib/python3.10/dist-packages (from fastapi) (3.10.3)\n",
            "Requirement already satisfied: email_validator>=2.0.0 in /usr/local/lib/python3.10/dist-packages (from fastapi) (2.1.1)\n",
            "Requirement already satisfied: PyYAML>=5.1 in /usr/local/lib/python3.10/dist-packages (from pyngrok) (6.0.1)\n",
            "Requirement already satisfied: click>=7.0 in /usr/local/lib/python3.10/dist-packages (from uvicorn) (8.1.7)\n",
            "Requirement already satisfied: h11>=0.8 in /usr/local/lib/python3.10/dist-packages (from uvicorn) (0.14.0)\n",
            "Requirement already satisfied: dnspython>=2.0.0 in /usr/local/lib/python3.10/dist-packages (from email_validator>=2.0.0->fastapi) (2.6.1)\n",
            "Requirement already satisfied: idna>=2.0.0 in /usr/local/lib/python3.10/dist-packages (from email_validator>=2.0.0->fastapi) (3.7)\n",
            "Requirement already satisfied: typer>=0.12.3 in /usr/local/lib/python3.10/dist-packages (from fastapi-cli>=0.0.2->fastapi) (0.12.3)\n",
            "Requirement already satisfied: anyio in /usr/local/lib/python3.10/dist-packages (from httpx>=0.23.0->fastapi) (3.7.1)\n",
            "Requirement already satisfied: certifi in /usr/local/lib/python3.10/dist-packages (from httpx>=0.23.0->fastapi) (2024.2.2)\n",
            "Requirement already satisfied: httpcore==1.* in /usr/local/lib/python3.10/dist-packages (from httpx>=0.23.0->fastapi) (1.0.5)\n",
            "Requirement already satisfied: sniffio in /usr/local/lib/python3.10/dist-packages (from httpx>=0.23.0->fastapi) (1.3.1)\n",
            "Requirement already satisfied: MarkupSafe>=2.0 in /usr/local/lib/python3.10/dist-packages (from jinja2>=2.11.2->fastapi) (2.1.5)\n",
            "Requirement already satisfied: annotated-types>=0.4.0 in /usr/local/lib/python3.10/dist-packages (from pydantic!=1.8,!=1.8.1,!=2.0.0,!=2.0.1,!=2.1.0,<3.0.0,>=1.7.4->fastapi) (0.7.0)\n",
            "Requirement already satisfied: pydantic-core==2.18.2 in /usr/local/lib/python3.10/dist-packages (from pydantic!=1.8,!=1.8.1,!=2.0.0,!=2.0.1,!=2.1.0,<3.0.0,>=1.7.4->fastapi) (2.18.2)\n",
            "Requirement already satisfied: httptools>=0.5.0 in /usr/local/lib/python3.10/dist-packages (from uvicorn) (0.6.1)\n",
            "Requirement already satisfied: python-dotenv>=0.13 in /usr/local/lib/python3.10/dist-packages (from uvicorn) (1.0.1)\n",
            "Requirement already satisfied: uvloop!=0.15.0,!=0.15.1,>=0.14.0 in /usr/local/lib/python3.10/dist-packages (from uvicorn) (0.19.0)\n",
            "Requirement already satisfied: watchfiles>=0.13 in /usr/local/lib/python3.10/dist-packages (from uvicorn) (0.22.0)\n",
            "Requirement already satisfied: websockets>=10.4 in /usr/local/lib/python3.10/dist-packages (from uvicorn) (12.0)\n",
            "Requirement already satisfied: exceptiongroup in /usr/local/lib/python3.10/dist-packages (from anyio->httpx>=0.23.0->fastapi) (1.2.1)\n",
            "Requirement already satisfied: shellingham>=1.3.0 in /usr/local/lib/python3.10/dist-packages (from typer>=0.12.3->fastapi-cli>=0.0.2->fastapi) (1.5.4)\n",
            "Requirement already satisfied: rich>=10.11.0 in /usr/local/lib/python3.10/dist-packages (from typer>=0.12.3->fastapi-cli>=0.0.2->fastapi) (13.7.1)\n",
            "Requirement already satisfied: markdown-it-py>=2.2.0 in /usr/local/lib/python3.10/dist-packages (from rich>=10.11.0->typer>=0.12.3->fastapi-cli>=0.0.2->fastapi) (3.0.0)\n",
            "Requirement already satisfied: pygments<3.0.0,>=2.13.0 in /usr/local/lib/python3.10/dist-packages (from rich>=10.11.0->typer>=0.12.3->fastapi-cli>=0.0.2->fastapi) (2.16.1)\n",
            "Requirement already satisfied: mdurl~=0.1 in /usr/local/lib/python3.10/dist-packages (from markdown-it-py>=2.2.0->rich>=10.11.0->typer>=0.12.3->fastapi-cli>=0.0.2->fastapi) (0.1.2)\n"
          ]
        }
      ]
    },
    {
      "cell_type": "code",
      "source": [
        "from fastapi import FastAPI\n",
        "from fastapi.middleware.cors import CORSMiddleware\n",
        "app = FastAPI()\n",
        "app.add_middleware(\n",
        "    CORSMiddleware,\n",
        "    allow_origins=['*'],\n",
        "    allow_credentials=True,\n",
        "    allow_methods=['*'],\n",
        "    allow_headers=['*'],\n",
        ")\n",
        "@app.get('/')\n",
        "async def root():\n",
        "    return {'hello': 'world'}"
      ],
      "metadata": {
        "id": "JJFrS8bo6WuZ"
      },
      "execution_count": null,
      "outputs": []
    },
    {
      "cell_type": "markdown",
      "source": [
        "하단 공용 URL 실행 후 초기페이지에서 Visit site누르면 Helloworld 확인가능\n",
        "- ERR_NGROK_3200 뜨면 실행안된것"
      ],
      "metadata": {
        "id": "KiGhpZyz8XpS"
      }
    },
    {
      "cell_type": "code",
      "source": [
        "import nest_asyncio\n",
        "from pyngrok import ngrok\n",
        "import uvicorn\n",
        "ngrok_tunnel = ngrok.connect(8000)\n",
        "print('공용 URL:', ngrok_tunnel.public_url)\n",
        "nest_asyncio.apply()\n",
        "uvicorn.run(app, port=8000)\n"
      ],
      "metadata": {
        "colab": {
          "base_uri": "https://localhost:8080/",
          "height": 557
        },
        "id": "p-mDmdoO6YkC",
        "outputId": "a73ba439-333c-4e70-ec53-5688b06ba636"
      },
      "execution_count": null,
      "outputs": [
        {
          "output_type": "stream",
          "name": "stderr",
          "text": [
            "INFO:     Started server process [58103]\n",
            "INFO:     Waiting for application startup.\n",
            "INFO:     Application startup complete.\n",
            "INFO:     Uvicorn running on http://127.0.0.1:8000 (Press CTRL+C to quit)\n"
          ]
        },
        {
          "output_type": "stream",
          "name": "stdout",
          "text": [
            "공용 URL: https://03b4-34-138-188-222.ngrok-free.app\n",
            "INFO:     117.110.95.42:0 - \"GET / HTTP/1.1\" 200 OK\n",
            "INFO:     117.110.95.42:0 - \"GET /favicon.ico HTTP/1.1\" 404 Not Found\n"
          ]
        },
        {
          "output_type": "stream",
          "name": "stderr",
          "text": [
            "WARNING:pyngrok.process.ngrok:t=2024-06-02T12:34:56+0000 lvl=warn msg=\"Stopping forwarder\" name=http-8000-c60a7822-9854-4f6f-b933-e5801823efa1 acceptErr=\"failed to accept connection: Listener closed\"\n",
            "INFO:     Shutting down\n",
            "INFO:     Waiting for application shutdown.\n",
            "INFO:     Application shutdown complete.\n",
            "INFO:     Finished server process [58103]\n"
          ]
        },
        {
          "output_type": "error",
          "ename": "KeyboardInterrupt",
          "evalue": "",
          "traceback": [
            "\u001b[0;31m---------------------------------------------------------------------------\u001b[0m",
            "\u001b[0;31mKeyboardInterrupt\u001b[0m                         Traceback (most recent call last)",
            "\u001b[0;32m<ipython-input-402-0d3cc44de29b>\u001b[0m in \u001b[0;36m<cell line: 7>\u001b[0;34m()\u001b[0m\n\u001b[1;32m      5\u001b[0m \u001b[0mprint\u001b[0m\u001b[0;34m(\u001b[0m\u001b[0;34m'공용 URL:'\u001b[0m\u001b[0;34m,\u001b[0m \u001b[0mngrok_tunnel\u001b[0m\u001b[0;34m.\u001b[0m\u001b[0mpublic_url\u001b[0m\u001b[0;34m)\u001b[0m\u001b[0;34m\u001b[0m\u001b[0;34m\u001b[0m\u001b[0m\n\u001b[1;32m      6\u001b[0m \u001b[0mnest_asyncio\u001b[0m\u001b[0;34m.\u001b[0m\u001b[0mapply\u001b[0m\u001b[0;34m(\u001b[0m\u001b[0;34m)\u001b[0m\u001b[0;34m\u001b[0m\u001b[0;34m\u001b[0m\u001b[0m\n\u001b[0;32m----> 7\u001b[0;31m \u001b[0muvicorn\u001b[0m\u001b[0;34m.\u001b[0m\u001b[0mrun\u001b[0m\u001b[0;34m(\u001b[0m\u001b[0mapp\u001b[0m\u001b[0;34m,\u001b[0m \u001b[0mport\u001b[0m\u001b[0;34m=\u001b[0m\u001b[0;36m8000\u001b[0m\u001b[0;34m)\u001b[0m\u001b[0;34m\u001b[0m\u001b[0;34m\u001b[0m\u001b[0m\n\u001b[0m",
            "\u001b[0;32m/usr/local/lib/python3.10/dist-packages/uvicorn/main.py\u001b[0m in \u001b[0;36mrun\u001b[0;34m(app, host, port, uds, fd, loop, http, ws, ws_max_size, ws_max_queue, ws_ping_interval, ws_ping_timeout, ws_per_message_deflate, lifespan, interface, reload, reload_dirs, reload_includes, reload_excludes, reload_delay, workers, env_file, log_config, log_level, access_log, proxy_headers, server_header, date_header, forwarded_allow_ips, root_path, limit_concurrency, backlog, limit_max_requests, timeout_keep_alive, timeout_graceful_shutdown, ssl_keyfile, ssl_certfile, ssl_keyfile_password, ssl_version, ssl_cert_reqs, ssl_ca_certs, ssl_ciphers, headers, use_colors, app_dir, factory, h11_max_incomplete_event_size)\u001b[0m\n\u001b[1;32m    575\u001b[0m             \u001b[0mMultiprocess\u001b[0m\u001b[0;34m(\u001b[0m\u001b[0mconfig\u001b[0m\u001b[0;34m,\u001b[0m \u001b[0mtarget\u001b[0m\u001b[0;34m=\u001b[0m\u001b[0mserver\u001b[0m\u001b[0;34m.\u001b[0m\u001b[0mrun\u001b[0m\u001b[0;34m,\u001b[0m \u001b[0msockets\u001b[0m\u001b[0;34m=\u001b[0m\u001b[0;34m[\u001b[0m\u001b[0msock\u001b[0m\u001b[0;34m]\u001b[0m\u001b[0;34m)\u001b[0m\u001b[0;34m.\u001b[0m\u001b[0mrun\u001b[0m\u001b[0;34m(\u001b[0m\u001b[0;34m)\u001b[0m\u001b[0;34m\u001b[0m\u001b[0;34m\u001b[0m\u001b[0m\n\u001b[1;32m    576\u001b[0m         \u001b[0;32melse\u001b[0m\u001b[0;34m:\u001b[0m\u001b[0;34m\u001b[0m\u001b[0;34m\u001b[0m\u001b[0m\n\u001b[0;32m--> 577\u001b[0;31m             \u001b[0mserver\u001b[0m\u001b[0;34m.\u001b[0m\u001b[0mrun\u001b[0m\u001b[0;34m(\u001b[0m\u001b[0;34m)\u001b[0m\u001b[0;34m\u001b[0m\u001b[0;34m\u001b[0m\u001b[0m\n\u001b[0m\u001b[1;32m    578\u001b[0m     \u001b[0;32mfinally\u001b[0m\u001b[0;34m:\u001b[0m\u001b[0;34m\u001b[0m\u001b[0;34m\u001b[0m\u001b[0m\n\u001b[1;32m    579\u001b[0m         \u001b[0;32mif\u001b[0m \u001b[0mconfig\u001b[0m\u001b[0;34m.\u001b[0m\u001b[0muds\u001b[0m \u001b[0;32mand\u001b[0m \u001b[0mos\u001b[0m\u001b[0;34m.\u001b[0m\u001b[0mpath\u001b[0m\u001b[0;34m.\u001b[0m\u001b[0mexists\u001b[0m\u001b[0;34m(\u001b[0m\u001b[0mconfig\u001b[0m\u001b[0;34m.\u001b[0m\u001b[0muds\u001b[0m\u001b[0;34m)\u001b[0m\u001b[0;34m:\u001b[0m\u001b[0;34m\u001b[0m\u001b[0;34m\u001b[0m\u001b[0m\n",
            "\u001b[0;32m/usr/local/lib/python3.10/dist-packages/uvicorn/server.py\u001b[0m in \u001b[0;36mrun\u001b[0;34m(self, sockets)\u001b[0m\n\u001b[1;32m     63\u001b[0m     \u001b[0;32mdef\u001b[0m \u001b[0mrun\u001b[0m\u001b[0;34m(\u001b[0m\u001b[0mself\u001b[0m\u001b[0;34m,\u001b[0m \u001b[0msockets\u001b[0m\u001b[0;34m:\u001b[0m \u001b[0mlist\u001b[0m\u001b[0;34m[\u001b[0m\u001b[0msocket\u001b[0m\u001b[0;34m.\u001b[0m\u001b[0msocket\u001b[0m\u001b[0;34m]\u001b[0m \u001b[0;34m|\u001b[0m \u001b[0;32mNone\u001b[0m \u001b[0;34m=\u001b[0m \u001b[0;32mNone\u001b[0m\u001b[0;34m)\u001b[0m \u001b[0;34m->\u001b[0m \u001b[0;32mNone\u001b[0m\u001b[0;34m:\u001b[0m\u001b[0;34m\u001b[0m\u001b[0;34m\u001b[0m\u001b[0m\n\u001b[1;32m     64\u001b[0m         \u001b[0mself\u001b[0m\u001b[0;34m.\u001b[0m\u001b[0mconfig\u001b[0m\u001b[0;34m.\u001b[0m\u001b[0msetup_event_loop\u001b[0m\u001b[0;34m(\u001b[0m\u001b[0;34m)\u001b[0m\u001b[0;34m\u001b[0m\u001b[0;34m\u001b[0m\u001b[0m\n\u001b[0;32m---> 65\u001b[0;31m         \u001b[0;32mreturn\u001b[0m \u001b[0masyncio\u001b[0m\u001b[0;34m.\u001b[0m\u001b[0mrun\u001b[0m\u001b[0;34m(\u001b[0m\u001b[0mself\u001b[0m\u001b[0;34m.\u001b[0m\u001b[0mserve\u001b[0m\u001b[0;34m(\u001b[0m\u001b[0msockets\u001b[0m\u001b[0;34m=\u001b[0m\u001b[0msockets\u001b[0m\u001b[0;34m)\u001b[0m\u001b[0;34m)\u001b[0m\u001b[0;34m\u001b[0m\u001b[0;34m\u001b[0m\u001b[0m\n\u001b[0m\u001b[1;32m     66\u001b[0m \u001b[0;34m\u001b[0m\u001b[0m\n\u001b[1;32m     67\u001b[0m     \u001b[0;32masync\u001b[0m \u001b[0;32mdef\u001b[0m \u001b[0mserve\u001b[0m\u001b[0;34m(\u001b[0m\u001b[0mself\u001b[0m\u001b[0;34m,\u001b[0m \u001b[0msockets\u001b[0m\u001b[0;34m:\u001b[0m \u001b[0mlist\u001b[0m\u001b[0;34m[\u001b[0m\u001b[0msocket\u001b[0m\u001b[0;34m.\u001b[0m\u001b[0msocket\u001b[0m\u001b[0;34m]\u001b[0m \u001b[0;34m|\u001b[0m \u001b[0;32mNone\u001b[0m \u001b[0;34m=\u001b[0m \u001b[0;32mNone\u001b[0m\u001b[0;34m)\u001b[0m \u001b[0;34m->\u001b[0m \u001b[0;32mNone\u001b[0m\u001b[0;34m:\u001b[0m\u001b[0;34m\u001b[0m\u001b[0;34m\u001b[0m\u001b[0m\n",
            "\u001b[0;32m/usr/local/lib/python3.10/dist-packages/nest_asyncio.py\u001b[0m in \u001b[0;36mrun\u001b[0;34m(main, debug)\u001b[0m\n\u001b[1;32m     28\u001b[0m         \u001b[0mtask\u001b[0m \u001b[0;34m=\u001b[0m \u001b[0masyncio\u001b[0m\u001b[0;34m.\u001b[0m\u001b[0mensure_future\u001b[0m\u001b[0;34m(\u001b[0m\u001b[0mmain\u001b[0m\u001b[0;34m)\u001b[0m\u001b[0;34m\u001b[0m\u001b[0;34m\u001b[0m\u001b[0m\n\u001b[1;32m     29\u001b[0m         \u001b[0;32mtry\u001b[0m\u001b[0;34m:\u001b[0m\u001b[0;34m\u001b[0m\u001b[0;34m\u001b[0m\u001b[0m\n\u001b[0;32m---> 30\u001b[0;31m             \u001b[0;32mreturn\u001b[0m \u001b[0mloop\u001b[0m\u001b[0;34m.\u001b[0m\u001b[0mrun_until_complete\u001b[0m\u001b[0;34m(\u001b[0m\u001b[0mtask\u001b[0m\u001b[0;34m)\u001b[0m\u001b[0;34m\u001b[0m\u001b[0;34m\u001b[0m\u001b[0m\n\u001b[0m\u001b[1;32m     31\u001b[0m         \u001b[0;32mfinally\u001b[0m\u001b[0;34m:\u001b[0m\u001b[0;34m\u001b[0m\u001b[0;34m\u001b[0m\u001b[0m\n\u001b[1;32m     32\u001b[0m             \u001b[0;32mif\u001b[0m \u001b[0;32mnot\u001b[0m \u001b[0mtask\u001b[0m\u001b[0;34m.\u001b[0m\u001b[0mdone\u001b[0m\u001b[0;34m(\u001b[0m\u001b[0;34m)\u001b[0m\u001b[0;34m:\u001b[0m\u001b[0;34m\u001b[0m\u001b[0;34m\u001b[0m\u001b[0m\n",
            "\u001b[0;32m/usr/local/lib/python3.10/dist-packages/nest_asyncio.py\u001b[0m in \u001b[0;36mrun_until_complete\u001b[0;34m(self, future)\u001b[0m\n\u001b[1;32m     90\u001b[0m                 \u001b[0mf\u001b[0m\u001b[0;34m.\u001b[0m\u001b[0m_log_destroy_pending\u001b[0m \u001b[0;34m=\u001b[0m \u001b[0;32mFalse\u001b[0m\u001b[0;34m\u001b[0m\u001b[0;34m\u001b[0m\u001b[0m\n\u001b[1;32m     91\u001b[0m             \u001b[0;32mwhile\u001b[0m \u001b[0;32mnot\u001b[0m \u001b[0mf\u001b[0m\u001b[0;34m.\u001b[0m\u001b[0mdone\u001b[0m\u001b[0;34m(\u001b[0m\u001b[0;34m)\u001b[0m\u001b[0;34m:\u001b[0m\u001b[0;34m\u001b[0m\u001b[0;34m\u001b[0m\u001b[0m\n\u001b[0;32m---> 92\u001b[0;31m                 \u001b[0mself\u001b[0m\u001b[0;34m.\u001b[0m\u001b[0m_run_once\u001b[0m\u001b[0;34m(\u001b[0m\u001b[0;34m)\u001b[0m\u001b[0;34m\u001b[0m\u001b[0;34m\u001b[0m\u001b[0m\n\u001b[0m\u001b[1;32m     93\u001b[0m                 \u001b[0;32mif\u001b[0m \u001b[0mself\u001b[0m\u001b[0;34m.\u001b[0m\u001b[0m_stopping\u001b[0m\u001b[0;34m:\u001b[0m\u001b[0;34m\u001b[0m\u001b[0;34m\u001b[0m\u001b[0m\n\u001b[1;32m     94\u001b[0m                     \u001b[0;32mbreak\u001b[0m\u001b[0;34m\u001b[0m\u001b[0;34m\u001b[0m\u001b[0m\n",
            "\u001b[0;32m/usr/local/lib/python3.10/dist-packages/nest_asyncio.py\u001b[0m in \u001b[0;36m_run_once\u001b[0;34m(self)\u001b[0m\n\u001b[1;32m    131\u001b[0m \u001b[0;34m\u001b[0m\u001b[0m\n\u001b[1;32m    132\u001b[0m                 \u001b[0;32mtry\u001b[0m\u001b[0;34m:\u001b[0m\u001b[0;34m\u001b[0m\u001b[0;34m\u001b[0m\u001b[0m\n\u001b[0;32m--> 133\u001b[0;31m                     \u001b[0mhandle\u001b[0m\u001b[0;34m.\u001b[0m\u001b[0m_run\u001b[0m\u001b[0;34m(\u001b[0m\u001b[0;34m)\u001b[0m\u001b[0;34m\u001b[0m\u001b[0;34m\u001b[0m\u001b[0m\n\u001b[0m\u001b[1;32m    134\u001b[0m                 \u001b[0;32mfinally\u001b[0m\u001b[0;34m:\u001b[0m\u001b[0;34m\u001b[0m\u001b[0;34m\u001b[0m\u001b[0m\n\u001b[1;32m    135\u001b[0m                     \u001b[0;31m# restore the current task\u001b[0m\u001b[0;34m\u001b[0m\u001b[0;34m\u001b[0m\u001b[0m\n",
            "\u001b[0;32m/usr/lib/python3.10/asyncio/events.py\u001b[0m in \u001b[0;36m_run\u001b[0;34m(self)\u001b[0m\n\u001b[1;32m     78\u001b[0m     \u001b[0;32mdef\u001b[0m \u001b[0m_run\u001b[0m\u001b[0;34m(\u001b[0m\u001b[0mself\u001b[0m\u001b[0;34m)\u001b[0m\u001b[0;34m:\u001b[0m\u001b[0;34m\u001b[0m\u001b[0;34m\u001b[0m\u001b[0m\n\u001b[1;32m     79\u001b[0m         \u001b[0;32mtry\u001b[0m\u001b[0;34m:\u001b[0m\u001b[0;34m\u001b[0m\u001b[0;34m\u001b[0m\u001b[0m\n\u001b[0;32m---> 80\u001b[0;31m             \u001b[0mself\u001b[0m\u001b[0;34m.\u001b[0m\u001b[0m_context\u001b[0m\u001b[0;34m.\u001b[0m\u001b[0mrun\u001b[0m\u001b[0;34m(\u001b[0m\u001b[0mself\u001b[0m\u001b[0;34m.\u001b[0m\u001b[0m_callback\u001b[0m\u001b[0;34m,\u001b[0m \u001b[0;34m*\u001b[0m\u001b[0mself\u001b[0m\u001b[0;34m.\u001b[0m\u001b[0m_args\u001b[0m\u001b[0;34m)\u001b[0m\u001b[0;34m\u001b[0m\u001b[0;34m\u001b[0m\u001b[0m\n\u001b[0m\u001b[1;32m     81\u001b[0m         \u001b[0;32mexcept\u001b[0m \u001b[0;34m(\u001b[0m\u001b[0mSystemExit\u001b[0m\u001b[0;34m,\u001b[0m \u001b[0mKeyboardInterrupt\u001b[0m\u001b[0;34m)\u001b[0m\u001b[0;34m:\u001b[0m\u001b[0;34m\u001b[0m\u001b[0;34m\u001b[0m\u001b[0m\n\u001b[1;32m     82\u001b[0m             \u001b[0;32mraise\u001b[0m\u001b[0;34m\u001b[0m\u001b[0;34m\u001b[0m\u001b[0m\n",
            "\u001b[0;32m/usr/lib/python3.10/asyncio/tasks.py\u001b[0m in \u001b[0;36m__wakeup\u001b[0;34m(self, future)\u001b[0m\n\u001b[1;32m    313\u001b[0m             \u001b[0;31m# instead of `__next__()`, which is slower for futures\u001b[0m\u001b[0;34m\u001b[0m\u001b[0;34m\u001b[0m\u001b[0m\n\u001b[1;32m    314\u001b[0m             \u001b[0;31m# that return non-generator iterators from their `__iter__`.\u001b[0m\u001b[0;34m\u001b[0m\u001b[0;34m\u001b[0m\u001b[0m\n\u001b[0;32m--> 315\u001b[0;31m             \u001b[0mself\u001b[0m\u001b[0;34m.\u001b[0m\u001b[0m__step\u001b[0m\u001b[0;34m(\u001b[0m\u001b[0;34m)\u001b[0m\u001b[0;34m\u001b[0m\u001b[0;34m\u001b[0m\u001b[0m\n\u001b[0m\u001b[1;32m    316\u001b[0m         \u001b[0mself\u001b[0m \u001b[0;34m=\u001b[0m \u001b[0;32mNone\u001b[0m  \u001b[0;31m# Needed to break cycles when an exception occurs.\u001b[0m\u001b[0;34m\u001b[0m\u001b[0;34m\u001b[0m\u001b[0m\n\u001b[1;32m    317\u001b[0m \u001b[0;34m\u001b[0m\u001b[0m\n",
            "\u001b[0;32m/usr/lib/python3.10/asyncio/tasks.py\u001b[0m in \u001b[0;36m__step\u001b[0;34m(***failed resolving arguments***)\u001b[0m\n\u001b[1;32m    230\u001b[0m                 \u001b[0;31m# We use the `send` method directly, because coroutines\u001b[0m\u001b[0;34m\u001b[0m\u001b[0;34m\u001b[0m\u001b[0m\n\u001b[1;32m    231\u001b[0m                 \u001b[0;31m# don't have `__iter__` and `__next__` methods.\u001b[0m\u001b[0;34m\u001b[0m\u001b[0;34m\u001b[0m\u001b[0m\n\u001b[0;32m--> 232\u001b[0;31m                 \u001b[0mresult\u001b[0m \u001b[0;34m=\u001b[0m \u001b[0mcoro\u001b[0m\u001b[0;34m.\u001b[0m\u001b[0msend\u001b[0m\u001b[0;34m(\u001b[0m\u001b[0;32mNone\u001b[0m\u001b[0;34m)\u001b[0m\u001b[0;34m\u001b[0m\u001b[0;34m\u001b[0m\u001b[0m\n\u001b[0m\u001b[1;32m    233\u001b[0m             \u001b[0;32melse\u001b[0m\u001b[0;34m:\u001b[0m\u001b[0;34m\u001b[0m\u001b[0;34m\u001b[0m\u001b[0m\n\u001b[1;32m    234\u001b[0m                 \u001b[0mresult\u001b[0m \u001b[0;34m=\u001b[0m \u001b[0mcoro\u001b[0m\u001b[0;34m.\u001b[0m\u001b[0mthrow\u001b[0m\u001b[0;34m(\u001b[0m\u001b[0mexc\u001b[0m\u001b[0;34m)\u001b[0m\u001b[0;34m\u001b[0m\u001b[0;34m\u001b[0m\u001b[0m\n",
            "\u001b[0;32m/usr/local/lib/python3.10/dist-packages/uvicorn/server.py\u001b[0m in \u001b[0;36mserve\u001b[0;34m(self, sockets)\u001b[0m\n\u001b[1;32m     66\u001b[0m \u001b[0;34m\u001b[0m\u001b[0m\n\u001b[1;32m     67\u001b[0m     \u001b[0;32masync\u001b[0m \u001b[0;32mdef\u001b[0m \u001b[0mserve\u001b[0m\u001b[0;34m(\u001b[0m\u001b[0mself\u001b[0m\u001b[0;34m,\u001b[0m \u001b[0msockets\u001b[0m\u001b[0;34m:\u001b[0m \u001b[0mlist\u001b[0m\u001b[0;34m[\u001b[0m\u001b[0msocket\u001b[0m\u001b[0;34m.\u001b[0m\u001b[0msocket\u001b[0m\u001b[0;34m]\u001b[0m \u001b[0;34m|\u001b[0m \u001b[0;32mNone\u001b[0m \u001b[0;34m=\u001b[0m \u001b[0;32mNone\u001b[0m\u001b[0;34m)\u001b[0m \u001b[0;34m->\u001b[0m \u001b[0;32mNone\u001b[0m\u001b[0;34m:\u001b[0m\u001b[0;34m\u001b[0m\u001b[0;34m\u001b[0m\u001b[0m\n\u001b[0;32m---> 68\u001b[0;31m         \u001b[0;32mwith\u001b[0m \u001b[0mself\u001b[0m\u001b[0;34m.\u001b[0m\u001b[0mcapture_signals\u001b[0m\u001b[0;34m(\u001b[0m\u001b[0;34m)\u001b[0m\u001b[0;34m:\u001b[0m\u001b[0;34m\u001b[0m\u001b[0;34m\u001b[0m\u001b[0m\n\u001b[0m\u001b[1;32m     69\u001b[0m             \u001b[0;32mawait\u001b[0m \u001b[0mself\u001b[0m\u001b[0;34m.\u001b[0m\u001b[0m_serve\u001b[0m\u001b[0;34m(\u001b[0m\u001b[0msockets\u001b[0m\u001b[0;34m)\u001b[0m\u001b[0;34m\u001b[0m\u001b[0;34m\u001b[0m\u001b[0m\n\u001b[1;32m     70\u001b[0m \u001b[0;34m\u001b[0m\u001b[0m\n",
            "\u001b[0;32m/usr/lib/python3.10/contextlib.py\u001b[0m in \u001b[0;36m__exit__\u001b[0;34m(self, typ, value, traceback)\u001b[0m\n\u001b[1;32m    140\u001b[0m         \u001b[0;32mif\u001b[0m \u001b[0mtyp\u001b[0m \u001b[0;32mis\u001b[0m \u001b[0;32mNone\u001b[0m\u001b[0;34m:\u001b[0m\u001b[0;34m\u001b[0m\u001b[0;34m\u001b[0m\u001b[0m\n\u001b[1;32m    141\u001b[0m             \u001b[0;32mtry\u001b[0m\u001b[0;34m:\u001b[0m\u001b[0;34m\u001b[0m\u001b[0;34m\u001b[0m\u001b[0m\n\u001b[0;32m--> 142\u001b[0;31m                 \u001b[0mnext\u001b[0m\u001b[0;34m(\u001b[0m\u001b[0mself\u001b[0m\u001b[0;34m.\u001b[0m\u001b[0mgen\u001b[0m\u001b[0;34m)\u001b[0m\u001b[0;34m\u001b[0m\u001b[0;34m\u001b[0m\u001b[0m\n\u001b[0m\u001b[1;32m    143\u001b[0m             \u001b[0;32mexcept\u001b[0m \u001b[0mStopIteration\u001b[0m\u001b[0;34m:\u001b[0m\u001b[0;34m\u001b[0m\u001b[0;34m\u001b[0m\u001b[0m\n\u001b[1;32m    144\u001b[0m                 \u001b[0;32mreturn\u001b[0m \u001b[0;32mFalse\u001b[0m\u001b[0;34m\u001b[0m\u001b[0;34m\u001b[0m\u001b[0m\n",
            "\u001b[0;32m/usr/local/lib/python3.10/dist-packages/uvicorn/server.py\u001b[0m in \u001b[0;36mcapture_signals\u001b[0;34m(self)\u001b[0m\n\u001b[1;32m    326\u001b[0m         \u001b[0;31m# done LIFO, see https://stackoverflow.com/questions/48434964\u001b[0m\u001b[0;34m\u001b[0m\u001b[0;34m\u001b[0m\u001b[0m\n\u001b[1;32m    327\u001b[0m         \u001b[0;32mfor\u001b[0m \u001b[0mcaptured_signal\u001b[0m \u001b[0;32min\u001b[0m \u001b[0mreversed\u001b[0m\u001b[0;34m(\u001b[0m\u001b[0mself\u001b[0m\u001b[0;34m.\u001b[0m\u001b[0m_captured_signals\u001b[0m\u001b[0;34m)\u001b[0m\u001b[0;34m:\u001b[0m\u001b[0;34m\u001b[0m\u001b[0;34m\u001b[0m\u001b[0m\n\u001b[0;32m--> 328\u001b[0;31m             \u001b[0msignal\u001b[0m\u001b[0;34m.\u001b[0m\u001b[0mraise_signal\u001b[0m\u001b[0;34m(\u001b[0m\u001b[0mcaptured_signal\u001b[0m\u001b[0;34m)\u001b[0m\u001b[0;34m\u001b[0m\u001b[0;34m\u001b[0m\u001b[0m\n\u001b[0m\u001b[1;32m    329\u001b[0m \u001b[0;34m\u001b[0m\u001b[0m\n\u001b[1;32m    330\u001b[0m     \u001b[0;32mdef\u001b[0m \u001b[0mhandle_exit\u001b[0m\u001b[0;34m(\u001b[0m\u001b[0mself\u001b[0m\u001b[0;34m,\u001b[0m \u001b[0msig\u001b[0m\u001b[0;34m:\u001b[0m \u001b[0mint\u001b[0m\u001b[0;34m,\u001b[0m \u001b[0mframe\u001b[0m\u001b[0;34m:\u001b[0m \u001b[0mFrameType\u001b[0m \u001b[0;34m|\u001b[0m \u001b[0;32mNone\u001b[0m\u001b[0;34m)\u001b[0m \u001b[0;34m->\u001b[0m \u001b[0;32mNone\u001b[0m\u001b[0;34m:\u001b[0m\u001b[0;34m\u001b[0m\u001b[0;34m\u001b[0m\u001b[0m\n",
            "\u001b[0;31mKeyboardInterrupt\u001b[0m: "
          ]
        }
      ]
    },
    {
      "cell_type": "markdown",
      "source": [
        "## ngrok+Fastapi로 배포해보기"
      ],
      "metadata": {
        "id": "TTPv2CEk_COx"
      }
    },
    {
      "cell_type": "code",
      "source": [],
      "metadata": {
        "id": "UoVyN1tY6NvW"
      },
      "execution_count": null,
      "outputs": []
    }
  ]
}
