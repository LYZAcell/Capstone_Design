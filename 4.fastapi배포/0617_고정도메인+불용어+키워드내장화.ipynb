{
  "nbformat": 4,
  "nbformat_minor": 0,
  "metadata": {
    "colab": {
      "provenance": [],
      "collapsed_sections": [
        "wmNUka0hOrBh",
        "I7nWPKnKWxxV",
        "8v-y7TylrYwB"
      ]
    },
    "kernelspec": {
      "name": "python3",
      "display_name": "Python 3"
    },
    "language_info": {
      "name": "python"
    }
  },
  "cells": [
    {
      "cell_type": "markdown",
      "source": [
        "# Fastapi 배포"
      ],
      "metadata": {
        "id": "wmNUka0hOrBh"
      }
    },
    {
      "cell_type": "markdown",
      "source": [
        "- 참고링크: https://colab.research.google.com/drive/1HWkV-PJaAAO8lz3RDzsFUJ1meeE4GYHA?usp=sharing#scrollTo=6tLUT6T9FjHG"
      ],
      "metadata": {
        "id": "3QuLffKHOt-p"
      }
    },
    {
      "cell_type": "markdown",
      "source": [
        "## 의존성 설치"
      ],
      "metadata": {
        "id": "eHk7Rqg8OwLL"
      }
    },
    {
      "cell_type": "code",
      "source": [
        "!pip install fastapi\n",
        "!pip install uvicorn\n",
        "!pip install pickle5\n",
        "!pip install pydantic\n",
        "!pip install scikit-learn\n",
        "!pip install requests\n",
        "!pip install pypi-json\n",
        "!pip install pyngrok\n",
        "!pip install nest-asyncio"
      ],
      "metadata": {
        "id": "YI3A9_-Y4G9F",
        "colab": {
          "base_uri": "https://localhost:8080/"
        },
        "outputId": "54cfc3d2-34fd-4b5a-9d30-9287179b676a"
      },
      "execution_count": null,
      "outputs": [
        {
          "output_type": "stream",
          "name": "stdout",
          "text": [
            "Collecting fastapi\n",
            "  Downloading fastapi-0.111.0-py3-none-any.whl (91 kB)\n",
            "\u001b[2K     \u001b[90m━━━━━━━━━━━━━━━━━━━━━━━━━━━━━━━━━━━━━━━━\u001b[0m \u001b[32m92.0/92.0 kB\u001b[0m \u001b[31m1.2 MB/s\u001b[0m eta \u001b[36m0:00:00\u001b[0m\n",
            "\u001b[?25hCollecting starlette<0.38.0,>=0.37.2 (from fastapi)\n",
            "  Downloading starlette-0.37.2-py3-none-any.whl (71 kB)\n",
            "\u001b[2K     \u001b[90m━━━━━━━━━━━━━━━━━━━━━━━━━━━━━━━━━━━━━━━━\u001b[0m \u001b[32m71.9/71.9 kB\u001b[0m \u001b[31m2.0 MB/s\u001b[0m eta \u001b[36m0:00:00\u001b[0m\n",
            "\u001b[?25hRequirement already satisfied: pydantic!=1.8,!=1.8.1,!=2.0.0,!=2.0.1,!=2.1.0,<3.0.0,>=1.7.4 in /usr/local/lib/python3.10/dist-packages (from fastapi) (2.7.3)\n",
            "Requirement already satisfied: typing-extensions>=4.8.0 in /usr/local/lib/python3.10/dist-packages (from fastapi) (4.12.2)\n",
            "Collecting fastapi-cli>=0.0.2 (from fastapi)\n",
            "  Downloading fastapi_cli-0.0.4-py3-none-any.whl (9.5 kB)\n",
            "Collecting httpx>=0.23.0 (from fastapi)\n",
            "  Downloading httpx-0.27.0-py3-none-any.whl (75 kB)\n",
            "\u001b[2K     \u001b[90m━━━━━━━━━━━━━━━━━━━━━━━━━━━━━━━━━━━━━━━━\u001b[0m \u001b[32m75.6/75.6 kB\u001b[0m \u001b[31m2.8 MB/s\u001b[0m eta \u001b[36m0:00:00\u001b[0m\n",
            "\u001b[?25hRequirement already satisfied: jinja2>=2.11.2 in /usr/local/lib/python3.10/dist-packages (from fastapi) (3.1.4)\n",
            "Collecting python-multipart>=0.0.7 (from fastapi)\n",
            "  Downloading python_multipart-0.0.9-py3-none-any.whl (22 kB)\n",
            "Collecting ujson!=4.0.2,!=4.1.0,!=4.2.0,!=4.3.0,!=5.0.0,!=5.1.0,>=4.0.1 (from fastapi)\n",
            "  Downloading ujson-5.10.0-cp310-cp310-manylinux_2_17_x86_64.manylinux2014_x86_64.whl (53 kB)\n",
            "\u001b[2K     \u001b[90m━━━━━━━━━━━━━━━━━━━━━━━━━━━━━━━━━━━━━━━━\u001b[0m \u001b[32m53.6/53.6 kB\u001b[0m \u001b[31m1.5 MB/s\u001b[0m eta \u001b[36m0:00:00\u001b[0m\n",
            "\u001b[?25hCollecting orjson>=3.2.1 (from fastapi)\n",
            "  Downloading orjson-3.10.5-cp310-cp310-manylinux_2_17_x86_64.manylinux2014_x86_64.whl (144 kB)\n",
            "\u001b[2K     \u001b[90m━━━━━━━━━━━━━━━━━━━━━━━━━━━━━━━━━━━━━━━━\u001b[0m \u001b[32m145.0/145.0 kB\u001b[0m \u001b[31m5.2 MB/s\u001b[0m eta \u001b[36m0:00:00\u001b[0m\n",
            "\u001b[?25hCollecting email_validator>=2.0.0 (from fastapi)\n",
            "  Downloading email_validator-2.1.1-py3-none-any.whl (30 kB)\n",
            "Collecting uvicorn[standard]>=0.12.0 (from fastapi)\n",
            "  Downloading uvicorn-0.30.1-py3-none-any.whl (62 kB)\n",
            "\u001b[2K     \u001b[90m━━━━━━━━━━━━━━━━━━━━━━━━━━━━━━━━━━━━━━━━\u001b[0m \u001b[32m62.4/62.4 kB\u001b[0m \u001b[31m3.9 MB/s\u001b[0m eta \u001b[36m0:00:00\u001b[0m\n",
            "\u001b[?25hCollecting dnspython>=2.0.0 (from email_validator>=2.0.0->fastapi)\n",
            "  Downloading dnspython-2.6.1-py3-none-any.whl (307 kB)\n",
            "\u001b[2K     \u001b[90m━━━━━━━━━━━━━━━━━━━━━━━━━━━━━━━━━━━━━━━━\u001b[0m \u001b[32m307.7/307.7 kB\u001b[0m \u001b[31m19.2 MB/s\u001b[0m eta \u001b[36m0:00:00\u001b[0m\n",
            "\u001b[?25hRequirement already satisfied: idna>=2.0.0 in /usr/local/lib/python3.10/dist-packages (from email_validator>=2.0.0->fastapi) (3.7)\n",
            "Requirement already satisfied: typer>=0.12.3 in /usr/local/lib/python3.10/dist-packages (from fastapi-cli>=0.0.2->fastapi) (0.12.3)\n",
            "Requirement already satisfied: anyio in /usr/local/lib/python3.10/dist-packages (from httpx>=0.23.0->fastapi) (3.7.1)\n",
            "Requirement already satisfied: certifi in /usr/local/lib/python3.10/dist-packages (from httpx>=0.23.0->fastapi) (2024.6.2)\n",
            "Collecting httpcore==1.* (from httpx>=0.23.0->fastapi)\n",
            "  Downloading httpcore-1.0.5-py3-none-any.whl (77 kB)\n",
            "\u001b[2K     \u001b[90m━━━━━━━━━━━━━━━━━━━━━━━━━━━━━━━━━━━━━━━━\u001b[0m \u001b[32m77.9/77.9 kB\u001b[0m \u001b[31m3.4 MB/s\u001b[0m eta \u001b[36m0:00:00\u001b[0m\n",
            "\u001b[?25hRequirement already satisfied: sniffio in /usr/local/lib/python3.10/dist-packages (from httpx>=0.23.0->fastapi) (1.3.1)\n",
            "Collecting h11<0.15,>=0.13 (from httpcore==1.*->httpx>=0.23.0->fastapi)\n",
            "  Downloading h11-0.14.0-py3-none-any.whl (58 kB)\n",
            "\u001b[2K     \u001b[90m━━━━━━━━━━━━━━━━━━━━━━━━━━━━━━━━━━━━━━━━\u001b[0m \u001b[32m58.3/58.3 kB\u001b[0m \u001b[31m3.4 MB/s\u001b[0m eta \u001b[36m0:00:00\u001b[0m\n",
            "\u001b[?25hRequirement already satisfied: MarkupSafe>=2.0 in /usr/local/lib/python3.10/dist-packages (from jinja2>=2.11.2->fastapi) (2.1.5)\n",
            "Requirement already satisfied: annotated-types>=0.4.0 in /usr/local/lib/python3.10/dist-packages (from pydantic!=1.8,!=1.8.1,!=2.0.0,!=2.0.1,!=2.1.0,<3.0.0,>=1.7.4->fastapi) (0.7.0)\n",
            "Requirement already satisfied: pydantic-core==2.18.4 in /usr/local/lib/python3.10/dist-packages (from pydantic!=1.8,!=1.8.1,!=2.0.0,!=2.0.1,!=2.1.0,<3.0.0,>=1.7.4->fastapi) (2.18.4)\n",
            "Requirement already satisfied: click>=7.0 in /usr/local/lib/python3.10/dist-packages (from uvicorn[standard]>=0.12.0->fastapi) (8.1.7)\n",
            "Collecting httptools>=0.5.0 (from uvicorn[standard]>=0.12.0->fastapi)\n",
            "  Downloading httptools-0.6.1-cp310-cp310-manylinux_2_5_x86_64.manylinux1_x86_64.manylinux_2_17_x86_64.manylinux2014_x86_64.whl (341 kB)\n",
            "\u001b[2K     \u001b[90m━━━━━━━━━━━━━━━━━━━━━━━━━━━━━━━━━━━━━━━━\u001b[0m \u001b[32m341.4/341.4 kB\u001b[0m \u001b[31m16.3 MB/s\u001b[0m eta \u001b[36m0:00:00\u001b[0m\n",
            "\u001b[?25hCollecting python-dotenv>=0.13 (from uvicorn[standard]>=0.12.0->fastapi)\n",
            "  Downloading python_dotenv-1.0.1-py3-none-any.whl (19 kB)\n",
            "Requirement already satisfied: pyyaml>=5.1 in /usr/local/lib/python3.10/dist-packages (from uvicorn[standard]>=0.12.0->fastapi) (6.0.1)\n",
            "Collecting uvloop!=0.15.0,!=0.15.1,>=0.14.0 (from uvicorn[standard]>=0.12.0->fastapi)\n",
            "  Downloading uvloop-0.19.0-cp310-cp310-manylinux_2_17_x86_64.manylinux2014_x86_64.whl (3.4 MB)\n",
            "\u001b[2K     \u001b[90m━━━━━━━━━━━━━━━━━━━━━━━━━━━━━━━━━━━━━━━━\u001b[0m \u001b[32m3.4/3.4 MB\u001b[0m \u001b[31m15.9 MB/s\u001b[0m eta \u001b[36m0:00:00\u001b[0m\n",
            "\u001b[?25hCollecting watchfiles>=0.13 (from uvicorn[standard]>=0.12.0->fastapi)\n",
            "  Downloading watchfiles-0.22.0-cp310-cp310-manylinux_2_17_x86_64.manylinux2014_x86_64.whl (1.2 MB)\n",
            "\u001b[2K     \u001b[90m━━━━━━━━━━━━━━━━━━━━━━━━━━━━━━━━━━━━━━━━\u001b[0m \u001b[32m1.2/1.2 MB\u001b[0m \u001b[31m29.7 MB/s\u001b[0m eta \u001b[36m0:00:00\u001b[0m\n",
            "\u001b[?25hCollecting websockets>=10.4 (from uvicorn[standard]>=0.12.0->fastapi)\n",
            "  Downloading websockets-12.0-cp310-cp310-manylinux_2_5_x86_64.manylinux1_x86_64.manylinux_2_17_x86_64.manylinux2014_x86_64.whl (130 kB)\n",
            "\u001b[2K     \u001b[90m━━━━━━━━━━━━━━━━━━━━━━━━━━━━━━━━━━━━━━━━\u001b[0m \u001b[32m130.2/130.2 kB\u001b[0m \u001b[31m1.3 MB/s\u001b[0m eta \u001b[36m0:00:00\u001b[0m\n",
            "\u001b[?25hRequirement already satisfied: exceptiongroup in /usr/local/lib/python3.10/dist-packages (from anyio->httpx>=0.23.0->fastapi) (1.2.1)\n",
            "Requirement already satisfied: shellingham>=1.3.0 in /usr/local/lib/python3.10/dist-packages (from typer>=0.12.3->fastapi-cli>=0.0.2->fastapi) (1.5.4)\n",
            "Requirement already satisfied: rich>=10.11.0 in /usr/local/lib/python3.10/dist-packages (from typer>=0.12.3->fastapi-cli>=0.0.2->fastapi) (13.7.1)\n",
            "Requirement already satisfied: markdown-it-py>=2.2.0 in /usr/local/lib/python3.10/dist-packages (from rich>=10.11.0->typer>=0.12.3->fastapi-cli>=0.0.2->fastapi) (3.0.0)\n",
            "Requirement already satisfied: pygments<3.0.0,>=2.13.0 in /usr/local/lib/python3.10/dist-packages (from rich>=10.11.0->typer>=0.12.3->fastapi-cli>=0.0.2->fastapi) (2.16.1)\n",
            "Requirement already satisfied: mdurl~=0.1 in /usr/local/lib/python3.10/dist-packages (from markdown-it-py>=2.2.0->rich>=10.11.0->typer>=0.12.3->fastapi-cli>=0.0.2->fastapi) (0.1.2)\n",
            "Installing collected packages: websockets, uvloop, ujson, python-multipart, python-dotenv, orjson, httptools, h11, dnspython, watchfiles, uvicorn, starlette, httpcore, email_validator, httpx, fastapi-cli, fastapi\n",
            "Successfully installed dnspython-2.6.1 email_validator-2.1.1 fastapi-0.111.0 fastapi-cli-0.0.4 h11-0.14.0 httpcore-1.0.5 httptools-0.6.1 httpx-0.27.0 orjson-3.10.5 python-dotenv-1.0.1 python-multipart-0.0.9 starlette-0.37.2 ujson-5.10.0 uvicorn-0.30.1 uvloop-0.19.0 watchfiles-0.22.0 websockets-12.0\n",
            "Requirement already satisfied: uvicorn in /usr/local/lib/python3.10/dist-packages (0.30.1)\n",
            "Requirement already satisfied: click>=7.0 in /usr/local/lib/python3.10/dist-packages (from uvicorn) (8.1.7)\n",
            "Requirement already satisfied: h11>=0.8 in /usr/local/lib/python3.10/dist-packages (from uvicorn) (0.14.0)\n",
            "Requirement already satisfied: typing-extensions>=4.0 in /usr/local/lib/python3.10/dist-packages (from uvicorn) (4.12.2)\n",
            "Collecting pickle5\n",
            "  Downloading pickle5-0.0.11.tar.gz (132 kB)\n",
            "\u001b[2K     \u001b[90m━━━━━━━━━━━━━━━━━━━━━━━━━━━━━━━━━━━━━━━━\u001b[0m \u001b[32m132.1/132.1 kB\u001b[0m \u001b[31m2.5 MB/s\u001b[0m eta \u001b[36m0:00:00\u001b[0m\n",
            "\u001b[?25h  Preparing metadata (setup.py) ... \u001b[?25l\u001b[?25hdone\n",
            "Building wheels for collected packages: pickle5\n",
            "  Building wheel for pickle5 (setup.py) ... \u001b[?25l\u001b[?25hdone\n",
            "  Created wheel for pickle5: filename=pickle5-0.0.11-cp310-cp310-linux_x86_64.whl size=255320 sha256=367bccbd9941c6c7bff5caa5294d8fa316321b09789cff67776e9a780be43ed2\n",
            "  Stored in directory: /root/.cache/pip/wheels/7d/14/ef/4aab19d27fa8e58772be5c71c16add0426acf9e1f64353235c\n",
            "Successfully built pickle5\n",
            "Installing collected packages: pickle5\n",
            "Successfully installed pickle5-0.0.11\n",
            "Requirement already satisfied: pydantic in /usr/local/lib/python3.10/dist-packages (2.7.3)\n",
            "Requirement already satisfied: annotated-types>=0.4.0 in /usr/local/lib/python3.10/dist-packages (from pydantic) (0.7.0)\n",
            "Requirement already satisfied: pydantic-core==2.18.4 in /usr/local/lib/python3.10/dist-packages (from pydantic) (2.18.4)\n",
            "Requirement already satisfied: typing-extensions>=4.6.1 in /usr/local/lib/python3.10/dist-packages (from pydantic) (4.12.2)\n",
            "Requirement already satisfied: scikit-learn in /usr/local/lib/python3.10/dist-packages (1.2.2)\n",
            "Requirement already satisfied: numpy>=1.17.3 in /usr/local/lib/python3.10/dist-packages (from scikit-learn) (1.25.2)\n",
            "Requirement already satisfied: scipy>=1.3.2 in /usr/local/lib/python3.10/dist-packages (from scikit-learn) (1.11.4)\n",
            "Requirement already satisfied: joblib>=1.1.1 in /usr/local/lib/python3.10/dist-packages (from scikit-learn) (1.4.2)\n",
            "Requirement already satisfied: threadpoolctl>=2.0.0 in /usr/local/lib/python3.10/dist-packages (from scikit-learn) (3.5.0)\n",
            "Requirement already satisfied: requests in /usr/local/lib/python3.10/dist-packages (2.31.0)\n",
            "Requirement already satisfied: charset-normalizer<4,>=2 in /usr/local/lib/python3.10/dist-packages (from requests) (3.3.2)\n",
            "Requirement already satisfied: idna<4,>=2.5 in /usr/local/lib/python3.10/dist-packages (from requests) (3.7)\n",
            "Requirement already satisfied: urllib3<3,>=1.21.1 in /usr/local/lib/python3.10/dist-packages (from requests) (2.0.7)\n",
            "Requirement already satisfied: certifi>=2017.4.17 in /usr/local/lib/python3.10/dist-packages (from requests) (2024.6.2)\n",
            "Collecting pypi-json\n",
            "  Downloading pypi_json-0.4.0-py3-none-any.whl (26 kB)\n",
            "Collecting apeye>=1.1.0 (from pypi-json)\n",
            "  Downloading apeye-1.4.1-py3-none-any.whl (107 kB)\n",
            "\u001b[2K     \u001b[90m━━━━━━━━━━━━━━━━━━━━━━━━━━━━━━━━━━━━━━━━\u001b[0m \u001b[32m108.0/108.0 kB\u001b[0m \u001b[31m5.6 MB/s\u001b[0m eta \u001b[36m0:00:00\u001b[0m\n",
            "\u001b[?25hRequirement already satisfied: packaging>=21.0 in /usr/local/lib/python3.10/dist-packages (from pypi-json) (24.1)\n",
            "Requirement already satisfied: requests>=2.26.0 in /usr/local/lib/python3.10/dist-packages (from pypi-json) (2.31.0)\n",
            "Collecting apeye-core>=1.0.0b2 (from apeye>=1.1.0->pypi-json)\n",
            "  Downloading apeye_core-1.1.5-py3-none-any.whl (99 kB)\n",
            "\u001b[2K     \u001b[90m━━━━━━━━━━━━━━━━━━━━━━━━━━━━━━━━━━━━━━━━\u001b[0m \u001b[32m99.3/99.3 kB\u001b[0m \u001b[31m7.4 MB/s\u001b[0m eta \u001b[36m0:00:00\u001b[0m\n",
            "\u001b[?25hCollecting domdf-python-tools>=2.6.0 (from apeye>=1.1.0->pypi-json)\n",
            "  Downloading domdf_python_tools-3.8.1-py3-none-any.whl (127 kB)\n",
            "\u001b[2K     \u001b[90m━━━━━━━━━━━━━━━━━━━━━━━━━━━━━━━━━━━━━━━━\u001b[0m \u001b[32m127.1/127.1 kB\u001b[0m \u001b[31m14.0 MB/s\u001b[0m eta \u001b[36m0:00:00\u001b[0m\n",
            "\u001b[?25hRequirement already satisfied: platformdirs>=2.3.0 in /usr/local/lib/python3.10/dist-packages (from apeye>=1.1.0->pypi-json) (4.2.2)\n",
            "Requirement already satisfied: charset-normalizer<4,>=2 in /usr/local/lib/python3.10/dist-packages (from requests>=2.26.0->pypi-json) (3.3.2)\n",
            "Requirement already satisfied: idna<4,>=2.5 in /usr/local/lib/python3.10/dist-packages (from requests>=2.26.0->pypi-json) (3.7)\n",
            "Requirement already satisfied: urllib3<3,>=1.21.1 in /usr/local/lib/python3.10/dist-packages (from requests>=2.26.0->pypi-json) (2.0.7)\n",
            "Requirement already satisfied: certifi>=2017.4.17 in /usr/local/lib/python3.10/dist-packages (from requests>=2.26.0->pypi-json) (2024.6.2)\n",
            "Requirement already satisfied: natsort>=7.0.1 in /usr/local/lib/python3.10/dist-packages (from domdf-python-tools>=2.6.0->apeye>=1.1.0->pypi-json) (8.4.0)\n",
            "Requirement already satisfied: typing-extensions>=3.7.4.1 in /usr/local/lib/python3.10/dist-packages (from domdf-python-tools>=2.6.0->apeye>=1.1.0->pypi-json) (4.12.2)\n",
            "Installing collected packages: domdf-python-tools, apeye-core, apeye, pypi-json\n",
            "Successfully installed apeye-1.4.1 apeye-core-1.1.5 domdf-python-tools-3.8.1 pypi-json-0.4.0\n",
            "Collecting pyngrok\n",
            "  Downloading pyngrok-7.1.6-py3-none-any.whl (22 kB)\n",
            "Requirement already satisfied: PyYAML>=5.1 in /usr/local/lib/python3.10/dist-packages (from pyngrok) (6.0.1)\n",
            "Installing collected packages: pyngrok\n",
            "Successfully installed pyngrok-7.1.6\n",
            "Requirement already satisfied: nest-asyncio in /usr/local/lib/python3.10/dist-packages (1.6.0)\n"
          ]
        }
      ]
    },
    {
      "cell_type": "code",
      "source": [
        "# lovit 가져오기\n",
        "# 패키지\n",
        "!pip install git+https://github.com/lovit/textrank.git\n",
        "# 깃 클론\n",
        "!git clone https://github.com/lovit/textrank.git\n",
        "# 이제 리포지토리의 코드를 사용할 수 있습니다.\n",
        "from textrank import KeywordSummarizer, KeysentenceSummarizer"
      ],
      "metadata": {
        "colab": {
          "base_uri": "https://localhost:8080/"
        },
        "id": "2ReEEWtdTogO",
        "outputId": "30fe65d5-174d-425b-b777-98e039742db5"
      },
      "execution_count": null,
      "outputs": [
        {
          "output_type": "stream",
          "name": "stdout",
          "text": [
            "Collecting git+https://github.com/lovit/textrank.git\n",
            "  Cloning https://github.com/lovit/textrank.git to /tmp/pip-req-build-09k60hwm\n",
            "  Running command git clone --filter=blob:none --quiet https://github.com/lovit/textrank.git /tmp/pip-req-build-09k60hwm\n",
            "  Resolved https://github.com/lovit/textrank.git to commit 578c7fbbb22b24561b1bd4bab9a9ecc2dc9515e1\n",
            "  Preparing metadata (setup.py) ... \u001b[?25l\u001b[?25hdone\n",
            "Building wheels for collected packages: textrank\n",
            "  Building wheel for textrank (setup.py) ... \u001b[?25l\u001b[?25hdone\n",
            "  Created wheel for textrank: filename=textrank-0.1.2-py3-none-any.whl size=11142 sha256=29bf352c56f2e1b666d2541a673b17f9a5b5bc007231a8d23415c46db98365b5\n",
            "  Stored in directory: /tmp/pip-ephem-wheel-cache-gejfshpr/wheels/8d/d1/ef/7c6abc0d5bbb64f01bd86b0ad967911d4b7f21bb44813b3239\n",
            "Successfully built textrank\n",
            "Installing collected packages: textrank\n",
            "Successfully installed textrank-0.1.2\n",
            "Cloning into 'textrank'...\n",
            "remote: Enumerating objects: 232, done.\u001b[K\n",
            "remote: Counting objects: 100% (7/7), done.\u001b[K\n",
            "remote: Compressing objects: 100% (7/7), done.\u001b[K\n",
            "remote: Total 232 (delta 1), reused 1 (delta 0), pack-reused 225\u001b[K\n",
            "Receiving objects: 100% (232/232), 1.21 MiB | 16.79 MiB/s, done.\n",
            "Resolving deltas: 100% (133/133), done.\n"
          ]
        }
      ]
    },
    {
      "cell_type": "code",
      "source": [
        "#konlpy가져오기\n",
        "#konlpy 다운 및 호출\n",
        "#1. Konlpy에서 Okt\n",
        "!pip install konlpy\n",
        "#2. konlpy 실행을 위한 자바어쩌구 다운\n",
        "!apt-get install openjdk-8-jdk-headless -qq > /dev/null\n",
        "#3. 필요한 설정\n",
        "import os\n",
        "os.environ[\"JAVA_HOME\"] = \"/usr/lib/jvm/java-8-openjdk-amd64\"\n",
        "from konlpy.tag import Okt"
      ],
      "metadata": {
        "colab": {
          "base_uri": "https://localhost:8080/"
        },
        "id": "nGoFUq1lUabM",
        "outputId": "0c9ee965-c194-4dbf-c745-87979be347c8"
      },
      "execution_count": null,
      "outputs": [
        {
          "output_type": "stream",
          "name": "stdout",
          "text": [
            "Collecting konlpy\n",
            "  Downloading konlpy-0.6.0-py2.py3-none-any.whl (19.4 MB)\n",
            "\u001b[2K     \u001b[90m━━━━━━━━━━━━━━━━━━━━━━━━━━━━━━━━━━━━━━━━\u001b[0m \u001b[32m19.4/19.4 MB\u001b[0m \u001b[31m58.0 MB/s\u001b[0m eta \u001b[36m0:00:00\u001b[0m\n",
            "\u001b[?25hCollecting JPype1>=0.7.0 (from konlpy)\n",
            "  Downloading JPype1-1.5.0-cp310-cp310-manylinux_2_17_x86_64.manylinux2014_x86_64.whl (488 kB)\n",
            "\u001b[2K     \u001b[90m━━━━━━━━━━━━━━━━━━━━━━━━━━━━━━━━━━━━━━━━\u001b[0m \u001b[32m488.6/488.6 kB\u001b[0m \u001b[31m30.6 MB/s\u001b[0m eta \u001b[36m0:00:00\u001b[0m\n",
            "\u001b[?25hRequirement already satisfied: lxml>=4.1.0 in /usr/local/lib/python3.10/dist-packages (from konlpy) (4.9.4)\n",
            "Requirement already satisfied: numpy>=1.6 in /usr/local/lib/python3.10/dist-packages (from konlpy) (1.25.2)\n",
            "Requirement already satisfied: packaging in /usr/local/lib/python3.10/dist-packages (from JPype1>=0.7.0->konlpy) (24.1)\n",
            "Installing collected packages: JPype1, konlpy\n",
            "Successfully installed JPype1-1.5.0 konlpy-0.6.0\n"
          ]
        }
      ]
    },
    {
      "cell_type": "markdown",
      "source": [
        "### 사용자 사전 정의"
      ],
      "metadata": {
        "id": "xdSpHigQUtTA"
      }
    },
    {
      "cell_type": "code",
      "source": [
        "# 사용자 사전 찾아가기 및 경로 설정 _ 여기서 오류가 날 시 코랩에서 폴더 열어서 usr,local 찾아가보시며 폴더명이 일치하는지 확인해보세요! 보통 파이썬 버전이 다릅니다.\n",
        "os.chdir('/usr/local/lib/python3.10/dist-packages/konlpy/java')\n",
        "os.getcwd()"
      ],
      "metadata": {
        "colab": {
          "base_uri": "https://localhost:8080/"
        },
        "id": "VwX-op9KUzZj",
        "outputId": "322bac28-d342-428c-c64e-3a793acecb25"
      },
      "execution_count": null,
      "outputs": [
        {
          "output_type": "execute_result",
          "data": {
            "text/plain": [
              "'/usr/local/lib/python3.10/dist-packages/konlpy/java'"
            ],
            "application/vnd.google.colaboratory.intrinsic+json": {
              "type": "string"
            }
          },
          "metadata": {},
          "execution_count": 4
        }
      ]
    },
    {
      "cell_type": "code",
      "source": [
        "#jar파일을 풀어줄 폴더이름을 정합니다. 저는 temp_fix로 했어요!\n",
        "os.makedirs('./temp_fix')\n",
        "os.chdir('./temp_fix')\n",
        "os.getcwd()"
      ],
      "metadata": {
        "colab": {
          "base_uri": "https://localhost:8080/"
        },
        "id": "cXg1WwJFU1s8",
        "outputId": "b3fc727f-18b1-4034-c82c-3e4258e71bcd"
      },
      "execution_count": null,
      "outputs": [
        {
          "output_type": "execute_result",
          "data": {
            "text/plain": [
              "'/usr/local/lib/python3.10/dist-packages/konlpy/java/temp_fix'"
            ],
            "application/vnd.google.colaboratory.intrinsic+json": {
              "type": "string"
            }
          },
          "metadata": {},
          "execution_count": 5
        }
      ]
    },
    {
      "cell_type": "code",
      "source": [
        "#inflated어쩌고 쭉뜨고 맨끝에 에러 없으면 잘된겁니다!\n",
        "!jar xvf ../open-korean-text-2.1.0.jar"
      ],
      "metadata": {
        "colab": {
          "base_uri": "https://localhost:8080/"
        },
        "id": "-Ke9N69uU1vR",
        "outputId": "f00dd2a3-f4ad-4d1d-81c2-d3200680c981"
      },
      "execution_count": null,
      "outputs": [
        {
          "output_type": "stream",
          "name": "stdout",
          "text": [
            "  created: META-INF/\n",
            " inflated: META-INF/MANIFEST.MF\n",
            "  created: org/\n",
            "  created: org/openkoreantext/\n",
            "  created: org/openkoreantext/processor/\n",
            "  created: org/openkoreantext/processor/normalizer/\n",
            "  created: org/openkoreantext/processor/phrase_extractor/\n",
            "  created: org/openkoreantext/processor/qa/\n",
            "  created: org/openkoreantext/processor/stemmer/\n",
            "  created: org/openkoreantext/processor/tokenizer/\n",
            "  created: org/openkoreantext/processor/tools/\n",
            "  created: org/openkoreantext/processor/util/\n",
            "  created: org/openkoreantext/processor/util/adjective/\n",
            "  created: org/openkoreantext/processor/util/adverb/\n",
            "  created: org/openkoreantext/processor/util/auxiliary/\n",
            "  created: org/openkoreantext/processor/util/freq/\n",
            "  created: org/openkoreantext/processor/util/josa/\n",
            "  created: org/openkoreantext/processor/util/noun/\n",
            "  created: org/openkoreantext/processor/util/substantives/\n",
            "  created: org/openkoreantext/processor/util/typos/\n",
            "  created: org/openkoreantext/processor/util/verb/\n",
            " inflated: org/openkoreantext/processor/KoreanPosJava.class\n",
            " inflated: org/openkoreantext/processor/KoreanTokenJava.class\n",
            " inflated: org/openkoreantext/processor/normalizer/KoreanNormalizer$.class\n",
            " inflated: org/openkoreantext/processor/normalizer/KoreanNormalizer$Segment$.class\n",
            " inflated: org/openkoreantext/processor/normalizer/KoreanNormalizer$Segment.class\n",
            " inflated: org/openkoreantext/processor/normalizer/KoreanNormalizer.class\n",
            " inflated: org/openkoreantext/processor/OpenKoreanTextProcessor$.class\n",
            " inflated: org/openkoreantext/processor/OpenKoreanTextProcessor.class\n",
            " inflated: org/openkoreantext/processor/OpenKoreanTextProcessorJava.class\n",
            " inflated: org/openkoreantext/processor/phrase_extractor/KoreanPhraseExtractor$.class\n",
            " inflated: org/openkoreantext/processor/phrase_extractor/KoreanPhraseExtractor$KoreanPhrase$.class\n",
            " inflated: org/openkoreantext/processor/phrase_extractor/KoreanPhraseExtractor$KoreanPhrase.class\n",
            " inflated: org/openkoreantext/processor/phrase_extractor/KoreanPhraseExtractor$PhraseBuffer$.class\n",
            " inflated: org/openkoreantext/processor/phrase_extractor/KoreanPhraseExtractor$PhraseBuffer.class\n",
            " inflated: org/openkoreantext/processor/phrase_extractor/KoreanPhraseExtractor.class\n",
            " inflated: org/openkoreantext/processor/qa/BatchGetUnknownNouns$.class\n",
            " inflated: org/openkoreantext/processor/qa/BatchGetUnknownNouns$ChunkWithTweet$.class\n",
            " inflated: org/openkoreantext/processor/qa/BatchGetUnknownNouns$ChunkWithTweet.class\n",
            " inflated: org/openkoreantext/processor/qa/BatchGetUnknownNouns.class\n",
            " inflated: org/openkoreantext/processor/qa/BatchTokenizeTweets$.class\n",
            " inflated: org/openkoreantext/processor/qa/BatchTokenizeTweets$ParseTime$.class\n",
            " inflated: org/openkoreantext/processor/qa/BatchTokenizeTweets$ParseTime.class\n",
            " inflated: org/openkoreantext/processor/qa/BatchTokenizeTweets.class\n",
            " inflated: org/openkoreantext/processor/qa/KoreanProcessorSandbox$.class\n",
            " inflated: org/openkoreantext/processor/qa/KoreanProcessorSandbox.class\n",
            " inflated: org/openkoreantext/processor/stemmer/KoreanStemmer$.class\n",
            " inflated: org/openkoreantext/processor/stemmer/KoreanStemmer.class\n",
            " inflated: org/openkoreantext/processor/tokenizer/KoreanChunk$.class\n",
            " inflated: org/openkoreantext/processor/tokenizer/KoreanChunk.class\n",
            " inflated: org/openkoreantext/processor/tokenizer/KoreanChunker$.class\n",
            " inflated: org/openkoreantext/processor/tokenizer/KoreanChunker$ChunkMatch$.class\n",
            " inflated: org/openkoreantext/processor/tokenizer/KoreanChunker$ChunkMatch.class\n",
            " inflated: org/openkoreantext/processor/tokenizer/KoreanChunker.class\n",
            " inflated: org/openkoreantext/processor/tokenizer/KoreanDetokenizer$.class\n",
            " inflated: org/openkoreantext/processor/tokenizer/KoreanDetokenizer.class\n",
            " inflated: org/openkoreantext/processor/tokenizer/KoreanSentenceSplitter$.class\n",
            " inflated: org/openkoreantext/processor/tokenizer/KoreanSentenceSplitter.class\n",
            " inflated: org/openkoreantext/processor/tokenizer/KoreanTokenizer$.class\n",
            " inflated: org/openkoreantext/processor/tokenizer/KoreanTokenizer$CandidateParse$.class\n",
            " inflated: org/openkoreantext/processor/tokenizer/KoreanTokenizer$CandidateParse.class\n",
            " inflated: org/openkoreantext/processor/tokenizer/KoreanTokenizer$KoreanToken$.class\n",
            " inflated: org/openkoreantext/processor/tokenizer/KoreanTokenizer$KoreanToken.class\n",
            " inflated: org/openkoreantext/processor/tokenizer/KoreanTokenizer$PossibleTrie$.class\n",
            " inflated: org/openkoreantext/processor/tokenizer/KoreanTokenizer$PossibleTrie.class\n",
            " inflated: org/openkoreantext/processor/tokenizer/KoreanTokenizer.class\n",
            " inflated: org/openkoreantext/processor/tokenizer/ParsedChunk$.class\n",
            " inflated: org/openkoreantext/processor/tokenizer/ParsedChunk.class\n",
            " inflated: org/openkoreantext/processor/tokenizer/Sentence$.class\n",
            " inflated: org/openkoreantext/processor/tokenizer/Sentence.class\n",
            " inflated: org/openkoreantext/processor/tokenizer/TokenizerProfile$.class\n",
            " inflated: org/openkoreantext/processor/tokenizer/TokenizerProfile.class\n",
            " inflated: org/openkoreantext/processor/tools/CreateChunkParsingCandidates$.class\n",
            " inflated: org/openkoreantext/processor/tools/CreateChunkParsingCandidates.class\n",
            " inflated: org/openkoreantext/processor/tools/CreateConjugationExamples$.class\n",
            " inflated: org/openkoreantext/processor/tools/CreateConjugationExamples$ConjugationExample$.class\n",
            " inflated: org/openkoreantext/processor/tools/CreateConjugationExamples$ConjugationExample.class\n",
            " inflated: org/openkoreantext/processor/tools/CreateConjugationExamples.class\n",
            " inflated: org/openkoreantext/processor/tools/CreateParsingExamples$.class\n",
            " inflated: org/openkoreantext/processor/tools/CreateParsingExamples$ParsingExample$.class\n",
            " inflated: org/openkoreantext/processor/tools/CreateParsingExamples$ParsingExample.class\n",
            " inflated: org/openkoreantext/processor/tools/CreateParsingExamples.class\n",
            " inflated: org/openkoreantext/processor/tools/CreatePhraseExtractionExamples$.class\n",
            " inflated: org/openkoreantext/processor/tools/CreatePhraseExtractionExamples$PhraseExample$.class\n",
            " inflated: org/openkoreantext/processor/tools/CreatePhraseExtractionExamples$PhraseExample.class\n",
            " inflated: org/openkoreantext/processor/tools/CreatePhraseExtractionExamples.class\n",
            " inflated: org/openkoreantext/processor/tools/DeduplicateAndSortDictionaries$.class\n",
            " inflated: org/openkoreantext/processor/tools/DeduplicateAndSortDictionaries.class\n",
            " inflated: org/openkoreantext/processor/tools/Runnable.class\n",
            " inflated: org/openkoreantext/processor/tools/UpdateAllTheExamples$.class\n",
            " inflated: org/openkoreantext/processor/tools/UpdateAllTheExamples.class\n",
            " inflated: org/openkoreantext/processor/util/adjective/adjective.txt\n",
            " inflated: org/openkoreantext/processor/util/adverb/adverb.txt\n",
            " inflated: org/openkoreantext/processor/util/auxiliary/conjunctions.txt\n",
            " inflated: org/openkoreantext/processor/util/auxiliary/determiner.txt\n",
            " inflated: org/openkoreantext/processor/util/auxiliary/exclamation.txt\n",
            " inflated: org/openkoreantext/processor/util/CharacterUtils$CharacterBuffer.class\n",
            " inflated: org/openkoreantext/processor/util/CharacterUtils$Java4CharacterUtils.class\n",
            " inflated: org/openkoreantext/processor/util/CharacterUtils$Java5CharacterUtils.class\n",
            " inflated: org/openkoreantext/processor/util/CharacterUtils.class\n",
            " inflated: org/openkoreantext/processor/util/CharArrayMap$1.class\n",
            " inflated: org/openkoreantext/processor/util/CharArrayMap$EmptyCharArrayMap.class\n",
            " inflated: org/openkoreantext/processor/util/CharArrayMap$EntryIterator.class\n",
            " inflated: org/openkoreantext/processor/util/CharArrayMap$EntrySet.class\n",
            " inflated: org/openkoreantext/processor/util/CharArrayMap$MapEntry.class\n",
            " inflated: org/openkoreantext/processor/util/CharArrayMap$UnmodifiableCharArrayMap.class\n",
            " inflated: org/openkoreantext/processor/util/CharArrayMap.class\n",
            " inflated: org/openkoreantext/processor/util/CharArraySet.class\n",
            " inflated: org/openkoreantext/processor/util/example_chunks.txt\n",
            " inflated: org/openkoreantext/processor/util/example_tweets.txt\n",
            " inflated: org/openkoreantext/processor/util/freq/entity-freq.txt.gz\n",
            " inflated: org/openkoreantext/processor/util/Hangul$.class\n",
            " inflated: org/openkoreantext/processor/util/Hangul$DoubleCoda$.class\n",
            " inflated: org/openkoreantext/processor/util/Hangul$DoubleCoda.class\n",
            " inflated: org/openkoreantext/processor/util/Hangul$HangulChar$.class\n",
            " inflated: org/openkoreantext/processor/util/Hangul$HangulChar.class\n",
            " inflated: org/openkoreantext/processor/util/Hangul.class\n",
            " inflated: org/openkoreantext/processor/util/josa/josa.txt\n",
            " inflated: org/openkoreantext/processor/util/KoreanConjugation$.class\n",
            " inflated: org/openkoreantext/processor/util/KoreanConjugation.class\n",
            " inflated: org/openkoreantext/processor/util/KoreanDictionaryProvider$.class\n",
            " inflated: org/openkoreantext/processor/util/KoreanDictionaryProvider.class\n",
            " inflated: org/openkoreantext/processor/util/KoreanPos$.class\n",
            " inflated: org/openkoreantext/processor/util/KoreanPos$KoreanPosTrie$.class\n",
            " inflated: org/openkoreantext/processor/util/KoreanPos$KoreanPosTrie.class\n",
            " inflated: org/openkoreantext/processor/util/KoreanPos.class\n",
            " inflated: org/openkoreantext/processor/util/KoreanSubstantive$.class\n",
            " inflated: org/openkoreantext/processor/util/KoreanSubstantive.class\n",
            " inflated: org/openkoreantext/processor/util/noun/bible.txt\n",
            " inflated: org/openkoreantext/processor/util/noun/company_names.txt\n",
            " inflated: org/openkoreantext/processor/util/noun/congress.txt\n",
            " inflated: org/openkoreantext/processor/util/noun/entities.txt\n",
            " inflated: org/openkoreantext/processor/util/noun/foreign.txt\n",
            " inflated: org/openkoreantext/processor/util/noun/geolocations.txt\n",
            " inflated: org/openkoreantext/processor/util/noun/kpop.txt\n",
            " inflated: org/openkoreantext/processor/util/noun/lol.txt\n",
            " inflated: org/openkoreantext/processor/util/noun/names.txt\n",
            " inflated: org/openkoreantext/processor/util/noun/nouns.txt\n",
            " inflated: org/openkoreantext/processor/util/noun/pokemon.txt\n",
            " inflated: org/openkoreantext/processor/util/noun/profane.txt\n",
            " inflated: org/openkoreantext/processor/util/noun/slangs.txt\n",
            " inflated: org/openkoreantext/processor/util/noun/spam.txt\n",
            " inflated: org/openkoreantext/processor/util/noun/twitter.txt\n",
            " inflated: org/openkoreantext/processor/util/noun/wikipedia_title_nouns.txt\n",
            " inflated: org/openkoreantext/processor/util/substantives/family_names.txt\n",
            " inflated: org/openkoreantext/processor/util/substantives/given_names.txt\n",
            " inflated: org/openkoreantext/processor/util/substantives/modifier.txt\n",
            " inflated: org/openkoreantext/processor/util/substantives/suffix.txt\n",
            " inflated: org/openkoreantext/processor/util/typos/typos.txt\n",
            " inflated: org/openkoreantext/processor/util/verb/eomi.txt\n",
            " inflated: org/openkoreantext/processor/util/verb/pre_eomi.txt\n",
            " inflated: org/openkoreantext/processor/util/verb/verb.txt\n",
            " inflated: org/openkoreantext/processor/util/verb/verb_prefix.txt\n",
            "  created: META-INF/maven/\n",
            "  created: META-INF/maven/org.openkoreantext/\n",
            "  created: META-INF/maven/org.openkoreantext/open-korean-text/\n",
            " inflated: META-INF/maven/org.openkoreantext/open-korean-text/pom.xml\n",
            " inflated: META-INF/maven/org.openkoreantext/open-korean-text/pom.properties\n"
          ]
        }
      ]
    },
    {
      "cell_type": "code",
      "source": [
        "# 사용자 사전 열기\n",
        "with open(f\"/usr/local/lib/python3.10/dist-packages/konlpy/java/temp_fix/org/openkoreantext/processor/util/noun/names.txt\") as f:\n",
        "    data = f.read()"
      ],
      "metadata": {
        "id": "IyivqIzIU1x6"
      },
      "execution_count": null,
      "outputs": []
    },
    {
      "cell_type": "code",
      "source": [
        "#gongji\n",
        "data += \"한국외국어대학교\\n한국외대\\n안내\\종합정보시스템\\공고\\n이수\\n학기\\n대하여\\n아래\\n수강편람\\n이중전공\\n수강신청함\\n수강신청\\n예비수강신청\\n교무처장\\n수강료\\n등록기간\\n수강신청자\\n한하다\\n미수강신청자\\n납부불가\\n핫링크\\n고지서출력\\n가상계좌\\n붙임파일\\n모바일앱\\n내역\\n인터넷뱅킹\\n텔레뱅킹\\n개시일\\n신청\\n마감\\n마감일\\n수강취소\\n수강변경\\종합정보화면\\n계절학기\\n부분환불\\n계절학기\\학년도\\n접수일\\n학석사\\n학사\\n석사\\n연계\\n과정생\\n접수처\\n학사종합지원센터\\n양캠퍼스\\n통번역\\n이수\\n미배정\\n부전공\\여석\\n이수\\n지원\\n학사종합지원센터\\n한국예술종합학교\\n특성화\\n수강편람\\n실용외국어\\n공동교양\\n여석\\졸업\\n사정\\n결과\\n확정자\\n불가자\\n개강일\\n우리대학교\\n우리대학\\n안내문\\n학위\\n학위증\\n코로나바이러스\\n신종코로나바이러스\\nHUFS\\n양캠퍼스\\n서울캠퍼스\\n글로벌캠퍼스\\n서울글로벌캠퍼스\\n서울·글로벌캠퍼스\\n우리은행\\n단과대학\\n졸업시험\\n논문\\n제적\\n졸업요건\\n지역학사\\n지역전문가과정\\n수료졸업대기\\nELLT학과\\n영어학과\\n아랍어과\\n미디어커뮤니케이션학부\\n영어전공\\n영미문학문화학과\\n태국어과\\n경제학부\\nEICC학과\\n영어통번역학과\\n베트남어과\\n국제통상학과\\이란어과\\n경영학부\\n프랑스어학부\\n인도어과\\n영어교육과\\n독일어과\\n터키아제르바이잔어과\\n프랑스어교육과\\n노어과\\n몽골어과\\n독일어교육과\\n스페인어과\\n중국언어문화학부\\n한국어교육과\\n이탈리아어과\\n중국외교통상학부\\n국제학부\\n포르투갈어과\\n그리스불가리아학과\\n일본언어문화학부\\n사회과학전공\\n네덜란드어과\\n융합일본지역학부\\nLD전공\\n스칸디나비아어과\\n정치외교학과\\nLT전공\\n말레이인도네시아어과\\n행정학과\\n서양어대학\\n아시아언어문화대학\\n중국어대학\\n일본어대학\\n사회과학\\n상경\\n경영\\n국제학부\\n사회과학전공\\n사범대학\\n교직\\\n",
        "n실용외국어\\n군입대\\n입영통지서\\n미비\\n미충족\\n등록휴학\\n휴학\\n전역일\\n증빙서류\\n1학기\\n2학기\\n개강\\n종강\\n학사일정\\n행사명\\n조치사항\\n참고사항\\n공고\\n부서명\\n학년도\\n개설학과\\n학수번호\\교과목명\\시간\\n교강사명\\n강의시간\\n폐강공고\\n일정\\n단과대\\n배부처\\n문의\\n동유럽학대학\\n국제지역대학\\n어문학관\\n통번역대학\\n인문대학\\n경상대학\\n자연과학대학\\n학생회관\\n공과대학\\n바이오메디컬공학부\\n졸업증명서\\n문의\\n전화\\문의전화\\n원스톱서비스센터\\n졸업예정증명서\\n편입생\\n신입생\\n신편입생\\n아래\\nQR코드\\n지양하다\\n투명성\\n공정성\\n외국인교환학생\\n외국인방문학생\\n첫학기\\n영어진단평가\\n원격\\n비대면\\ne-Class\\neclass\\n이클래스\\n안내하다\\n전자출결\\n전자출결시스템\\n체계적인\\n엄정성\\n공고\\n코로나19\\n일반휴학\\n신청\\n별도문의\\nCOVID-19\\nCovid19\\covid19\\n중간시험\\기말시험\\n응시인원\\nCommunicativeEnglish\\nLS\\nL/S\\n우리대학\\n콜로키움\\nEU연구소\\n인문사회연구사업단\\n온·오프라인\\n온오프라인\\nHK+사업단\\n국제관\\n인도연구소\\n패널티\\n수습국원\\n추가모집\\n게시물\\n외대교육방송국\\n교수학습개발원\\nFBS\\주한브라질대사관\\n세계여성의날\\스마트도서관\\n휠라아쿠쉬네트홀\\n영화\\n상영\\n한국어자막\\대학혁신지원사업\\n아이디어톤\\n수도권역\\n미래대학투모로우솔루션\\n미네르바헬스장\\n교육생\\n휴관\\n금모닝\\n글로벌캠퍼스\\n누구나\\n회차별\\n보건실\\n대한적십자사\\n헌혈증\\n헌혈자\\n성격유형검사\\n핵심역량통합관리시스템\\nHufsability\\n교과\\n비교과\\n서울학생상담센터\\n추후공지\\n청년몽땅정보통\\n마이페이지\\n문의처\\n다산콜센터\\특별전형\\n일반전형\\n면접전형\\n등록예치금\\n예치금\\n모집\\n학과\\n전공\\nTESOL대학원\\n세미오시스연구센터\\n서울학생상담센터\\n전문\\n경영대학원\\n해당일\\n접수마감일\\n해당학기\\n졸업자\\n졸업예정자\\n외국대학\\\n",
        "n소지자\\n한국어능력시험\\n입증서류\\n출신학교\\n주한공관영사\\n입증서류\\n학사학위\\n학사\\n최종학력\\n증명\\n학위증서\\n개인정보이용및제공동의서\\n기타서류\\n해당자\\n추천서\\n경력증명서\\n외국국적지원자\\n성적증명서\\n총점\\n사이버외대\\n군인공제회직원\\n학교교직원\\n첫학기\\n입학금\\n운영위원회\\n전형료\\n우편접수\\n입학원서\\n본인날인\\n서명함\\n수험표\\n지참\\n제출서류\\n외국어교육센터\\nK-Zone\\nNoshow\\n출석차감\\n1교시\\n2교시\\n3교시\\n4교시\\n5교시\\n6교시\\n7교시\\n8교시\\n9교시\\n10교시\\n11교시\\n12교시\\n작문\\n대학영어\\n중간시험\\n보충수업\\n추가모집\\n창업자\\nAI/SW\\n모집공고\\n모집분야\\n일반창업\\n스펙업\\n졸업대기자\\n수료생\\nSW중심대학사업단\\nAI교육원\\nSW관련학과\\n컴퓨터공학부\\n정보통신공학부\\nGBT전공\\nELLT학과\\nAI융합전공\\n데이터사이언스전공\\n바이오데이터사이언스전공\\nICT&AI세부모듈\\n수혜제외\\n초과학기생\\n초과학기\\n9학기\\n1학기\\n2학기\\n3학기\\n4학기\\n5학기\\n6학기\\n7학기\\n8학기\\n지원사항\\n팀별\\n개인별\\n사업자등록증\\\n",
        "n최종보고서\\n학기말\\n학기초\\n전세계\\n삼성그룹\\nLG그룹\\n주기적\\n인증테스트\\n비교과\\n굿즈\\n코로나19\\n경제적\\n지원\\n타지역\\n이에\\n랜선나눔캠퍼스\\n활동개요\\n신청기간\\n비합격\\n비선발자\\n최종합격자\\n활동불가자\\n활동혜택\\n자기소개서\\n1부\\n학습계획서\\n증빙자료\\n재학증명서\\n1차합격\\n2차합격\\n스캔\\n활동비\\소득세\\n지방소득세\\n문의처\\n추후공지\\n공공인재개발원\\n개인사물함\\n행정입법고시\\n2차모의고사\\n수험서적\\n사민재\\n세미나실\\n국제학생회\\n본교생\\n외국인교환학생\\n정기총회\\n뵨교재학생\\n버디프로그램\\n홍보팀\\n 기획컬처팀\\n국제교류처\\n국제교류처장\\n불합격자\\n코로나-19\\n양성판정\\n음성판정\\n양성\\n음성\\n최종합격자\\nQ&A\\n필참\\n퇴출\\n정기활동\\n이메일접수\\n시험일정\\n구분\\n시간\\n비고\\n시험장소\\n입실완료\\n인문과학관\\n졸업유예생\\n학부생들\\n코로나-19\\n글로벌캠퍼스\\n보건실\\n학생부종합전형\\n합격수기\\n선배들\\n글로벌창업지원단\\n창업인재양성센터\\n창업동아리\\n미디어커뮤니케이션대학원\\n대학원장\\nCulture&Technology융합대학\\\n",
        "n지원자격\\n지원서\\n접수\\n평가요소\\n영자신문사\\nTheArgus\\n수습기자\\n디아거스\\n공식홈페이지\\n공식인스타그램\\n사회봉사센터\\n국제학사\\n우편접수\\n서울시동대문구이문로107\\n대학안전관리계획\\n붙임팡리\\n안전보건관리팀\\n동원번역상\\n\"\n",
        "\n",
        "# janhak\n",
        "data += '한국외국어대학교\\n한국외대\\n안내\\종합정보시스템\\공고\\n이수\\n학기\\n대하여\\장학재단\\n장학생\\n지원불가\\n자녀학자금\\n다자녀\\n지자체\\nHUFS앱\\n한국외대앱\\n부모\\n인문사회계열\\n제출서류\\n장학생신청서\\n추천서\\n추천소견\\n총장직인\\n자기소개서\\n전공분야\\n학습계획\\n졸업후진로\\n자유양식\\nA4\\n이내\\n주민등록등본\\n개인정보\\n기초생활수급권자\\n기초생활수급자증명서\\n기초생활수급자\\차상위계층\\n모자가정\\n부자가정\\n주민센터\\n한부모가정\\n건강보험증\\n건강보험자격확인서\\n과세자\\n급여생활자\\n원천징수\\n근로소득\\근무처\\n비사업자\\n수상내역\\n어학성적\\n입상경력증명서\\n봉사활동내역확인서\\n심신장애증명서\\n장애인등록수첩\\n장애인카드\\n직계가족\\n임대차계약서\\n학생지원팀\\n무이자\\n농어업인\\n농어업\\n융자금\\n정규학기\\n건강보험료\\n한국장학재단\\n학자금대출\\n지원자격\\n직전학기\\n학부모\\n1구간\\n2구간\\n3구간\\4구간\\n5구간\\n6구간\\n7구간\\n8구간\\n9구간\\n10구간\\n지원대상\\n다문화가족\\n다자녀가구\\n소득구간\\n거주자\\n4년제\\n정규대학\\n중증\\n석박사\\n이공계\\n직전학기\\n등록금납입영수증\\n등록금납입\\n통장사본\\n기획홍보팀\\n사회복지사\\n학생인재개발처\\n추가등록\\n등록기간\\n\\n법인사무처\\n사업관리팀\\\n",
        "n서울시 동대문구 이문로 107\\n등기부등본\\n인감 도장\\n설명회\\n제고\\n임대환경\\n관리비\\n전세\\n가감율\\\n",
        "n수수료율\\n총액\\n전후\\n점수\\n기타사항\\n발주처\\n제3자\\n대원빌딩\\n서울특별시 테헤란로 98길 11\\n근린 생활 시설\\\n",
        "n리모델링\\nBRICs(브릭스)전공\\nEU(유럽연합)전공\\n동북아외교통상전공\\n문화콘텐츠학전공\\n국가리더전공\\n세계문화예술경영전공\\n디지털인문한국학전공\\nAI융합전공\\n데이터사이언스전공\\n바이오데이터사이언스전공\\n상담·UX심리 융합전공\\n지역경제개발협력전공\\n보험계리학전공\\nCulture & Technology융합대학\\n바이오메디컬공학부\\n글로벌자유전공학부\\n기후변화융합학부\\n전략기획팀\\n예산조정팀\\n평가감사팀\\n국책사업통합추진단\\nIT개발팀(서울)\\nIT인프라팀(서울)\\n정보통신팀(글로벌)\\n디지털서비스팀(서울∙글로벌)\\n지식출판콘텐츠팀\\n혁신지원팀수강자\\n재무회계팀\\n학부생\\n재입학생\\n분할납부자\\n분할납부\\n졸업유예\\n졸업\\n장학팀\\n미취업자\\n건강보험\\n특별승인\\n자격요건\\n학생지원팀\\n동문\\n장학회\\n장학금명\\n학비조달\\n조달\\n소득구간확인서\\n봉사활동확인서\\n개인정보수집이용동의서\\n지원기간\\n제출방법\\n방문접수\\n장학팀\\n모현읍\\n외대로\\n수혜내역\\n수혜액\\n수혜\\n등록휴학생\\n재학증명서\\n건강보험료납부확인서\\n양식없음\\n종료일\\n국가근로\\n타대학생\\n백분위\\n학자금\\n지원구간\\n신청유형\\n상반기\\n하반기\\n운영\\n위원회\\n장학금\\n진흥원\\n울산시\\nHUFS\\n양캠퍼스\\n서울캠퍼스\\n글로벌캠퍼스\\n서울글로벌캠퍼스\\n서울·글로벌캠퍼스\\n우리은행\\n단과대학\\n졸업시험\\n논문\\n제적\\n졸업요건\\n지역학사\\n지역전문가과정\\n수료졸업대기\\nELLT학과\\n영어학과\\n아랍어과\\n미디어커뮤니케이션학부\\n영어전공\\n영미문학문화학과\\n태국어과\\n경제학부\\nEICC학과\\n영어통번역학과\\n베트남어과\\n국제통상학과\\이란어과\\n경영학부\\n프랑스어학부\\n인도어과\\n영어교육과\\n독일어과\\n터키아제르바이잔어과\\n프랑스어교육과\\n노어과\\n몽골어과\\n독일어교육과\\n스페인어과\\n중국언어문화학부\\n한국어교육과\\n이탈리아어과\\n중국외교통상학부\\n국제학부\\n포르투갈어과\\n그리스불가리아학과\\n일본언어문화학부\\n사회과학전공\\n네덜란드어과\\n융합일본지역학부\\nLD전공\\n스칸디나비아어과\\n정치외교학과\\nLT전공\\n말레이인도네시아어과\\n행정학과\\n서양어대학\\n아시아언어문화대학\\n중국어대학\\n일본어대학\\n사회과학\\n상경\\n경영\\n국제학부\\n사회과학전공\\n사범대학\\n교직\\n실용외국어\\n군입대\\n입영통지서\\n미비\\n미충족\\n등록휴학\\n휴학\\n전역일\\n증빙서류\\n1학기\\n2학기\\n개강\\n종강\\n학사일정\\n행사명\\n조치사항\\n참고사항\\n공고\\n부서명\\n학년도\\n개설학과\\n학수번호\\교과목명\\시간\\n교강사명\\n강의시간\\n폐강공고\\n일정\\n단과대\\n배부처\\n문의\\n동유럽학대학\\n국제지역대학\\n어문학관\\n통번역대학\\n인문대학\\n경상대학\\n자연과학대학\\n학생회관\\n공과대학\\n바이오메디컬공학부\\n졸업증명서\\n문의\\n전화\\문의전화\\n원스톱서비스센터\\n졸업예정증명서\\n편입생\\n신입생\\n신편입생\\n아래\\nQR코드\\n지양하다\\n비고\\n입학금\\n기타\\n코딩존\\n기초과학연구소\\n정보산업공학연구소\\n'\n",
        "\n",
        "# haksa\n",
        "data += \"한국외국어대학교\\n한국외대\\n안내\\종합정보시스템\\공고\\n이수\\n학기\\n대하여\\장학재단\\n장학생\\n지원불가\\n자녀학자금\\n다자녀\\n지자체\\nHUFS앱\\n한국외대앱\\n부모\\n인문사회계열\\n제출서류\\n장학생신청서\\n추천서\\n추천소견\\n총장직인\\n자기소개서\\n전공분야\\n학습계획\\n졸업후진로\\n자유양식\\nA4\\n이내\\n주민등록등본\\n개인정보\\n기초생활수급권자\\n기초생활수급자증명서\\n기초생활수급자\\차상위계층\\n모자가정\\n부자가정\\n주민센터\\n한부모가정\\n건강보험증\\n건강보험자격확인서\\n과세자\\n급여생활자\\n원천징수\\n근로소득\\근무처\\n비사업자\\n수상내역\\n어학성적\\n입상경력증명서\\n봉사활동내역확인서\\n심신장애증명서\\n장애인등록수첩\\n장애인카드\\n직계가족\\n임대차계약서\\n학생지원팀\\n무이자\\n농어업인\\n농어업\\n융자금\\n정규학기\\n건강보험료\\n한국장학재단\\n학자금대출\\n지원자격\\n직전학기\\n학부모\\n1구간\\n2구간\\n3구간\\4구간\\n5구간\\n6구간\\n7구간\\n8구간\\n9구간\\n10구간\\n지원대상\\n다문화가족\\n다자녀가구\\n소득구간\\n거주자\\n4년제\\n정규대학\\n중증\\n석박사\\n이공계\\n직전학기\\n등록금납입영수증\\n등록금납입\\n통장사본\\n기획홍보팀\\n사회복지사\\n학생인재개발처\\n추가등록\\n등록기간\\n\\n법인사무처\\n사업관리팀\\\n",
        "n서울시 동대문구 이문로 107\\n등기부등본\\n인감 도장\\n문의전화\\n설명회\\n제고\\n임대환경\\n관리비\\n전세\\n가감율\\\n",
        "n수수료율\\n\\n영어통번역학부총액\\n전후\\n점수\\n기타사항\\n발주처\\n제3자\\n대원빌딩\\n서울특별시 테헤란로 98길 11\\n근린 생활 시설\\\n",
        "n리모델링\\nBRICs(브릭스)전공\\n글로벌역학과정\\nEU(유럽연합)전공\\n동북아외교통상전공\\n문화콘텐츠학전공\\n국가리더전공\\n세계문화예술경영전공\\n디지털인문한국학전공\\nAI융합전공\\n데이터사이언스전공\\\n",
        "n바이오데이터사이언스전공\\n상담·UX심리 융합전공\\n중앙아시아지역학과\\n지역경제개발협력전공\\n보험계리학전공\\nCulture & Technology융합대학\\n바이오메디컬공학부\\n글로벌자유전공학부\\n기후변화융합학부\\n전략기획팀\\n예산조정팀\\n평가감사팀\\n국책사업통합추진단\\nIT개발팀(서울)\\nIT인프라팀(서울)\\n정보통신팀(글로벌)\\n디지털서비스팀(서울∙글로벌)\\n지식출판콘텐츠팀\\n혁신지원팀수강자\\n재무회계팀\\n학부생\\n재입학생\\n분할납부자\\n분할납부\\n졸업유예\\n졸업\\n장학팀\\n미취업자\\n건강보험\\n특별승인\\n자격요건\\n학생지원팀\\n동문\\n장학회\\n장학금명\\n학비조달\\n조달\\n소득구간확인서\\n봉사활동확인서\\n개인정보수집이용동의서\\n지원기간\\n제출방법\\n방문접수\\n장학팀\\n모현읍\\n외대로\\n수혜내역\\n수혜액\\n수혜\\\n",
        "n등록휴학생\\n재학증명서\\n건강보험료납부확인서\\n양식없음\\n종료일\\n국가근로\\n타대학생\\n백분위\\n학자금\\n지원구간\\n신청유형\\n상반기\\n하반기\\n운영\\n위원회\\n장학금\\n진흥원\\n울산시\\nHUFS\\n양캠퍼스\\n서울캠퍼스\\n글로벌캠퍼스\\n서울글로벌캠퍼스\\n서울·글로벌캠퍼스\\n우리은행\\n단과대학\\n졸업시험\\n논문\\n제적\\n졸업요건\\n지역학사\\n지역전문가과정\\n수료졸업대기\\nELLT학과\\n영어학과\\n아랍어과\\n미디어커뮤니케이션학부\\n영어전공\\n영미문학문화학과\\n태국어과\\n경제학부\\nEICC학과\\n영어통번역학과\\n베트남어과\\n국제통상학과\\이란어과\\n경영학부\\n프랑스어학부\\n인도어과\\n영어교육과\\n독일어과\\n터키아제르바이잔어과\\n프랑스어교육과\\n노어과\\n몽골어과\\n독일어교육과\\n스페인어과\\n중국언어문화학부\\n한국어교육과\\n이탈리아어과\\n중국외교통상학부\\n국제학부\\n포르투갈어과\\n그리스불가리아학과\\n일본언어문화학부\\n사회과학전공\\n네덜란드어과\\n융합일본지역학부\\nLD전공\\n스칸디나비아어과\\n정치외교학과\\nLT전공\\n말레이인도네시아어과\\n행정학과\\n서양어대학\\n아시아언어문화대학\\n중국어대학\\n일본어대학\\n사회과학\\n상경\\n경영\\n국제학부\\n사회과학전공\\n사범대학\\n교직\\n실용외국어\\n군입대\\n입영통지서\\n미비\\n미충족\\n등록휴학\\n휴학\\n전역일\\n증빙서류\\n1학기\\n2학기\\n개강\\n종강\\n학사일정\\n행사명\\n조치사항\\n참고사항\\n공고\\n부서명\\n학년도\\n개설학과\\n학수번호\\교과목명\\시간\\n교강사명\\n강의시간\\n폐강공고\\n일정\\n단과대\\n배부처\\n문의\\n동유럽학대학\\n국제지역대학\\n어문학관\\n통번역대학\\n인문대학\\\n",
        "n경상대학\\n자연과학대학\\n학생회관\\n공과대학\\n바이오메디컬공학부\\n졸업증명서\\n문의\\n전화\\문의전화\\n원스톱서비스센터\\n졸업예정증명서\\n편입생\\n신입생\\n신편입생\\n아래\\nQR코드\\n지양하다\\n비고\\n입학금\\n기타\\n코딩존\\n기초과학연구소\\n정보산업공학연구소\\n행정지원처장\\n\"\n",
        "\n",
        "\n",
        "# hiring\n",
        "data += \"모집공고\\n지원자격\\n일반사항\\n국제학사장\\n영어학부\\n전임조교\\n사이버외대\\n사이버한국외국어대학교\\n주요업무\\n행정업무\\n신청기한\\n개인정보수집이용제공동의서\\유첨파일\\n지원사업\\n모집분야\\n사회\\n문화\\n역사\\n4대보험\\n급여조건\\n근무시간\\n근무조건\\n채용\\n채용예정일\\n적격자\\n인사팀\\n구직자\\n공정화\\n시행규칙\\n근무\\n여름학기\\n겨울학기\\n기재내용\\n행정지원처장\\n결격사유\\n서류전형\\n학술정보팀\\n근무지\\n적임자\\n계약직\\n학생인재개발처\\n진로취업센터\\n개별연락\\n풀근무\\n선발\\n우선선발\\n외국어연수평가원\\n국제교육원\\n인력풀\\n시수\\n행정지원처장\\n인사팀\\n계약직\\n허위사실\\n기타문의\\n입사지원서\\n행정지원처장\\n서울런\\n캠프\\n한국인\\n보조교사\\n서류합격자\\n합격자\\n면접\\n한국외국어대학교\\n한국외대\\n계약직\\n사업본부운영1팀\\n외국어연수평가원\\n세르반테스문화원\\n사업지원팀\\n국제입학관리팀\\nFULLTIME\\n근무 학기\\n기숙사생\\n기숙사비품\\n소모품\\n공과금고지서\\n민원\\n담당 업무\\n근무 기간\\n근무 혜택\\n기숙사비\\n선 납부\\n근무 종료\\n장학금\\n지원서\\n기타\\n문의사항\\n한국어문화교육원\\n인사팀\\n학생상담센터\\n인문데이터연구센터\\n중남미연구소\\n산업경영공학과\\n공통지원자격\\n직원인사규정\\n결격사유\\n채용 조건\\n글로벌 캠퍼스\\n학사종합지원센터\\n용인시 처인구\\n단축근무\\n계약연장\\n계약기간\\n만료\\n근무성적평가\\n일정기간\\n통근버스\\n버스탑승\\n서류전형\\n심층면접\\n소정양식\\n인터넷 접수\\n입사지원서\\n자기소개서\\n자격증\\n경력사항\\n취업보호대상자\\n해당자\\n본교\\본교 홈페이지\\n채용시스템\\n공고문\\n바로가기 배너\\n피성년후견인\\n금고 이상의 형\\n병역기피자\\n신체검사결과\\n부적당\\n부적합\\n기재내용\\n허위 사실\\n허위사실\\n기타 문의\\n인사팀\\n행정지원처장\\n전임강사\\n채용분야\\n인원\\n한국어문화교육원\\n전임강사\\n외국어로서의한국어교육\\n공통지원자격\\n사업본부\\n임용기준\\n성 관련 범죄\\n박사학위\\n외국어로서의 한국어교육전공\\n부속기관\\한국어교원자격증\\n자격증\\n발행기관\\n책임시간\\n서울캠퍼스\\n채용일\\n추후 협의\\n증빙서류\\n제출목록\\n지원서\\n온라인지원\\n졸업증명서\\n성적증명서\\n학사\\n석사\\n박사\\n업로드\\n성범죄 경력조회서\\n경력증명서\\n발급본\\n지원 기간\\n접수 방법\\n사업본부\\n개별 통보\\n개별 통지\\n연구보조원\\n숙련자\\n웹페이지\\nKMOOC\\n인문사회계열\\n전형방법\\n서류전형\\n면접대상자\\n줌주소\\n실습데이터\\nZOOM데스크탑앱\\n포트폴리오\\n지원서 접수\\n압축파일\\nzip\\n학생상담센터\\n개인상담\\n집단상담\\n대학혁신지원사업\\n상담센터\\n석사학위\\n소지자\\n경력(재직)증명서\\n개인정보동의서\\n별첨양식\\n교직원 출퇴근 셔틀버스\\n출퇴근\\n교직원\\n이문동\\n잠실\\n분당\\n노선\\n오피스\\n스페인어\\n포르투갈어\\n석사\\n재학생\\nHK연구소\\n중남미연구소\\n내부규정\\n급여\\n계약기간\\n교내외장학금\\n사회 배려계층\\n교무행정팀\\n객원상담원\\n겸임교수\\n초빙교수\\n초빙공고\\n정보통신공학과\\n재공고\\n시설관리팀\\n수목관리\\n직원인사규정\\n제11조\\n임용결격사유\\n1종보통 운전면허\\n외국인학생\\n여름방학\\n민원응대\\n봉사장학금\\n장학금지급규정\\n등록금 범위내\\n국제학사\\nGlobeeDorm\\n학사운영팀\\n중국연구소\\n전임연구원\\n최종학위증명서\\n이력서\\n자율양식\\n경력증명서\\n채용예정일\\n지식출판콘텐츠원\\n채용공고\\n경영기획팀\\n행정\\n학사학위\\n국고사업\\n관련법\\n연구산학협력단\\n러시아연구소\\n초빙분야\\n세부전공\\n인센티브\\n4대 보험\\n한국연구재단\\n인문한국플로스지원사업\\n사립학교\\n해당 분야\\n기초심사\\n전공면접\\n경기도 용인시 처인구 모현면 외대로 81\\n국제사회교육원\\n러시아연구소\\n육아휴직\\n학술정보팀\\n퇴직금\\nTESOL\\nFLEX센터\\n능숙자\\nOA프로그램\\n영어회화\\n관련업무\\n유경험자\\n근무 가능자\\근무 가능\\n장학생\\n재학생\\n언어 능력\\n설명회\\n선착순\\n국제입학관리팀\\n\""
      ],
      "metadata": {
        "id": "rUfXRl1wU-uJ"
      },
      "execution_count": null,
      "outputs": []
    },
    {
      "cell_type": "code",
      "source": [
        "# 파일 새롭게 저장\n",
        "with open(\"/usr/local/lib/python3.10/dist-packages/konlpy/java/temp_fix/org/openkoreantext/processor/util/noun/names.txt\", 'w') as f:\n",
        "    f.write(data)\n",
        "!jar cvf ../open-korean-text-2.1.0.jar *"
      ],
      "metadata": {
        "colab": {
          "base_uri": "https://localhost:8080/"
        },
        "id": "CCW5LJ7RU-0B",
        "outputId": "f88ff302-c31b-4c6f-df3c-6922362c4a2b"
      },
      "execution_count": null,
      "outputs": [
        {
          "output_type": "stream",
          "name": "stdout",
          "text": [
            "added manifest\n",
            "ignoring entry META-INF/\n",
            "adding: META-INF/maven/(in = 0) (out= 0)(stored 0%)\n",
            "adding: META-INF/maven/org.openkoreantext/(in = 0) (out= 0)(stored 0%)\n",
            "adding: META-INF/maven/org.openkoreantext/open-korean-text/(in = 0) (out= 0)(stored 0%)\n",
            "adding: META-INF/maven/org.openkoreantext/open-korean-text/pom.xml(in = 9127) (out= 2208)(deflated 75%)\n",
            "adding: META-INF/maven/org.openkoreantext/open-korean-text/pom.properties(in = 119) (out= 110)(deflated 7%)\n",
            "ignoring entry META-INF/MANIFEST.MF\n",
            "adding: org/(in = 0) (out= 0)(stored 0%)\n",
            "adding: org/openkoreantext/(in = 0) (out= 0)(stored 0%)\n",
            "adding: org/openkoreantext/processor/(in = 0) (out= 0)(stored 0%)\n",
            "adding: org/openkoreantext/processor/tools/(in = 0) (out= 0)(stored 0%)\n",
            "adding: org/openkoreantext/processor/tools/UpdateAllTheExamples.class(in = 1089) (out= 756)(deflated 30%)\n",
            "adding: org/openkoreantext/processor/tools/CreatePhraseExtractionExamples.class(in = 2516) (out= 1784)(deflated 29%)\n",
            "adding: org/openkoreantext/processor/tools/DeduplicateAndSortDictionaries$.class(in = 7154) (out= 3133)(deflated 56%)\n",
            "adding: org/openkoreantext/processor/tools/CreateParsingExamples.class(in = 2427) (out= 1732)(deflated 28%)\n",
            "adding: org/openkoreantext/processor/tools/CreateParsingExamples$.class(in = 5517) (out= 2327)(deflated 57%)\n",
            "adding: org/openkoreantext/processor/tools/CreateConjugationExamples.class(in = 2367) (out= 1659)(deflated 29%)\n",
            "adding: org/openkoreantext/processor/tools/CreateConjugationExamples$.class(in = 5881) (out= 2385)(deflated 59%)\n",
            "adding: org/openkoreantext/processor/tools/UpdateAllTheExamples$.class(in = 4383) (out= 1794)(deflated 59%)\n",
            "adding: org/openkoreantext/processor/tools/CreatePhraseExtractionExamples$.class(in = 5989) (out= 2472)(deflated 58%)\n",
            "adding: org/openkoreantext/processor/tools/DeduplicateAndSortDictionaries.class(in = 1117) (out= 823)(deflated 26%)\n",
            "adding: org/openkoreantext/processor/tools/CreateConjugationExamples$ConjugationExample$.class(in = 2787) (out= 997)(deflated 64%)\n",
            "adding: org/openkoreantext/processor/tools/CreateParsingExamples$ParsingExample.class(in = 3718) (out= 1429)(deflated 61%)\n",
            "adding: org/openkoreantext/processor/tools/CreateParsingExamples$ParsingExample$.class(in = 2842) (out= 1010)(deflated 64%)\n",
            "adding: org/openkoreantext/processor/tools/CreateChunkParsingCandidates.class(in = 833) (out= 566)(deflated 32%)\n",
            "adding: org/openkoreantext/processor/tools/CreatePhraseExtractionExamples$PhraseExample$.class(in = 2974) (out= 1020)(deflated 65%)\n",
            "adding: org/openkoreantext/processor/tools/CreateConjugationExamples$ConjugationExample.class(in = 3569) (out= 1415)(deflated 60%)\n",
            "adding: org/openkoreantext/processor/tools/Runnable.class(in = 964) (out= 694)(deflated 28%)\n",
            "adding: org/openkoreantext/processor/tools/CreateChunkParsingCandidates$.class(in = 5487) (out= 2305)(deflated 57%)\n",
            "adding: org/openkoreantext/processor/tools/CreatePhraseExtractionExamples$PhraseExample.class(in = 3825) (out= 1443)(deflated 62%)\n",
            "adding: org/openkoreantext/processor/KoreanPosJava.class(in = 2457) (out= 1241)(deflated 49%)\n",
            "adding: org/openkoreantext/processor/qa/(in = 0) (out= 0)(stored 0%)\n",
            "adding: org/openkoreantext/processor/qa/BatchGetUnknownNouns.class(in = 2307) (out= 1702)(deflated 26%)\n",
            "adding: org/openkoreantext/processor/qa/KoreanProcessorSandbox$.class(in = 1464) (out= 823)(deflated 43%)\n",
            "adding: org/openkoreantext/processor/qa/BatchTokenizeTweets$.class(in = 10867) (out= 4401)(deflated 59%)\n",
            "adding: org/openkoreantext/processor/qa/KoreanProcessorSandbox.class(in = 824) (out= 575)(deflated 30%)\n",
            "adding: org/openkoreantext/processor/qa/BatchGetUnknownNouns$ChunkWithTweet$.class(in = 2376) (out= 952)(deflated 59%)\n",
            "adding: org/openkoreantext/processor/qa/BatchGetUnknownNouns$.class(in = 8751) (out= 3532)(deflated 59%)\n",
            "adding: org/openkoreantext/processor/qa/BatchTokenizeTweets$ParseTime.class(in = 3153) (out= 1446)(deflated 54%)\n",
            "adding: org/openkoreantext/processor/qa/BatchTokenizeTweets$ParseTime$.class(in = 2418) (out= 1015)(deflated 58%)\n",
            "adding: org/openkoreantext/processor/qa/BatchTokenizeTweets.class(in = 2720) (out= 2031)(deflated 25%)\n",
            "adding: org/openkoreantext/processor/qa/BatchGetUnknownNouns$ChunkWithTweet.class(in = 3080) (out= 1338)(deflated 56%)\n",
            "adding: org/openkoreantext/processor/util/(in = 0) (out= 0)(stored 0%)\n",
            "adding: org/openkoreantext/processor/util/Hangul$DoubleCoda$.class(in = 2155) (out= 963)(deflated 55%)\n",
            "adding: org/openkoreantext/processor/util/KoreanSubstantive$.class(in = 14990) (out= 6195)(deflated 58%)\n",
            "adding: org/openkoreantext/processor/util/Hangul$.class(in = 7625) (out= 3114)(deflated 59%)\n",
            "adding: org/openkoreantext/processor/util/Hangul$HangulChar$.class(in = 2389) (out= 1022)(deflated 57%)\n",
            "adding: org/openkoreantext/processor/util/auxiliary/(in = 0) (out= 0)(stored 0%)\n",
            "adding: org/openkoreantext/processor/util/auxiliary/exclamation.txt(in = 1759) (out= 757)(deflated 56%)\n",
            "adding: org/openkoreantext/processor/util/auxiliary/determiner.txt(in = 63) (out= 63)(deflated 0%)\n",
            "adding: org/openkoreantext/processor/util/auxiliary/conjunctions.txt(in = 398) (out= 189)(deflated 52%)\n",
            "adding: org/openkoreantext/processor/util/KoreanConjugation.class(in = 1550) (out= 1237)(deflated 20%)\n",
            "adding: org/openkoreantext/processor/util/adjective/(in = 0) (out= 0)(stored 0%)\n",
            "adding: org/openkoreantext/processor/util/adjective/adjective.txt(in = 27250) (out= 9357)(deflated 65%)\n",
            "adding: org/openkoreantext/processor/util/freq/(in = 0) (out= 0)(stored 0%)\n",
            "adding: org/openkoreantext/processor/util/freq/entity-freq.txt.gz(in = 385753) (out= 385873)(deflated 0%)\n",
            "adding: org/openkoreantext/processor/util/CharArrayMap.class(in = 11923) (out= 4878)(deflated 59%)\n",
            "adding: org/openkoreantext/processor/util/CharacterUtils$Java4CharacterUtils.class(in = 2577) (out= 1282)(deflated 50%)\n",
            "adding: org/openkoreantext/processor/util/CharArrayMap$EmptyCharArrayMap.class(in = 2053) (out= 725)(deflated 64%)\n",
            "adding: org/openkoreantext/processor/util/KoreanConjugation$.class(in = 22440) (out= 7972)(deflated 64%)\n",
            "adding: org/openkoreantext/processor/util/josa/(in = 0) (out= 0)(stored 0%)\n",
            "adding: org/openkoreantext/processor/util/josa/josa.txt(in = 5219) (out= 1476)(deflated 71%)\n",
            "adding: org/openkoreantext/processor/util/adverb/(in = 0) (out= 0)(stored 0%)\n",
            "adding: org/openkoreantext/processor/util/adverb/adverb.txt(in = 65572) (out= 18741)(deflated 71%)\n",
            "adding: org/openkoreantext/processor/util/CharacterUtils.class(in = 3703) (out= 1716)(deflated 53%)\n",
            "adding: org/openkoreantext/processor/util/KoreanPos.class(in = 6890) (out= 3877)(deflated 43%)\n",
            "adding: org/openkoreantext/processor/util/KoreanPos$KoreanPosTrie.class(in = 4390) (out= 1610)(deflated 63%)\n",
            "adding: org/openkoreantext/processor/util/CharacterUtils$CharacterBuffer.class(in = 1634) (out= 659)(deflated 59%)\n",
            "adding: org/openkoreantext/processor/util/KoreanPos$KoreanPosTrie$.class(in = 3157) (out= 1089)(deflated 65%)\n",
            "adding: org/openkoreantext/processor/util/CharArrayMap$MapEntry.class(in = 2433) (out= 1078)(deflated 55%)\n",
            "adding: org/openkoreantext/processor/util/Hangul$DoubleCoda.class(in = 2930) (out= 1348)(deflated 53%)\n",
            "adding: org/openkoreantext/processor/util/KoreanPos$.class(in = 12173) (out= 4669)(deflated 61%)\n",
            "adding: org/openkoreantext/processor/util/CharArrayMap$1.class(in = 1531) (out= 571)(deflated 62%)\n",
            "adding: org/openkoreantext/processor/util/Hangul$HangulChar.class(in = 3185) (out= 1421)(deflated 55%)\n",
            "adding: org/openkoreantext/processor/util/CharArraySet.class(in = 4886) (out= 1944)(deflated 60%)\n",
            "adding: org/openkoreantext/processor/util/KoreanDictionaryProvider$.class(in = 20197) (out= 7488)(deflated 62%)\n",
            "adding: org/openkoreantext/processor/util/CharArrayMap$UnmodifiableCharArrayMap.class(in = 3062) (out= 859)(deflated 71%)\n",
            "adding: org/openkoreantext/processor/util/typos/(in = 0) (out= 0)(stored 0%)\n",
            "adding: org/openkoreantext/processor/util/typos/typos.txt(in = 5146) (out= 2300)(deflated 55%)\n",
            "adding: org/openkoreantext/processor/util/KoreanSubstantive.class(in = 1336) (out= 1087)(deflated 18%)\n",
            "adding: org/openkoreantext/processor/util/Hangul.class(in = 3981) (out= 2731)(deflated 31%)\n",
            "adding: org/openkoreantext/processor/util/example_chunks.txt(in = 522978) (out= 163253)(deflated 68%)\n",
            "adding: org/openkoreantext/processor/util/verb/(in = 0) (out= 0)(stored 0%)\n",
            "adding: org/openkoreantext/processor/util/verb/pre_eomi.txt(in = 285) (out= 185)(deflated 35%)\n",
            "adding: org/openkoreantext/processor/util/verb/verb_prefix.txt(in = 47) (out= 52)(deflated -10%)\n",
            "adding: org/openkoreantext/processor/util/verb/eomi.txt(in = 12618) (out= 3556)(deflated 71%)\n",
            "adding: org/openkoreantext/processor/util/verb/verb.txt(in = 32758) (out= 10723)(deflated 67%)\n",
            "adding: org/openkoreantext/processor/util/substantives/(in = 0) (out= 0)(stored 0%)\n",
            "adding: org/openkoreantext/processor/util/substantives/suffix.txt(in = 325) (out= 224)(deflated 31%)\n",
            "adding: org/openkoreantext/processor/util/substantives/given_names.txt(in = 1407) (out= 609)(deflated 56%)\n",
            "adding: org/openkoreantext/processor/util/substantives/family_names.txt(in = 299) (out= 197)(deflated 34%)\n",
            "adding: org/openkoreantext/processor/util/substantives/modifier.txt(in = 3395) (out= 1346)(deflated 60%)\n",
            "adding: org/openkoreantext/processor/util/CharacterUtils$Java5CharacterUtils.class(in = 2824) (out= 1393)(deflated 50%)\n",
            "adding: org/openkoreantext/processor/util/CharArrayMap$EntryIterator.class(in = 3118) (out= 1270)(deflated 59%)\n",
            "adding: org/openkoreantext/processor/util/KoreanDictionaryProvider.class(in = 3430) (out= 2003)(deflated 41%)\n",
            "adding: org/openkoreantext/processor/util/CharArrayMap$EntrySet.class(in = 2788) (out= 1181)(deflated 57%)\n",
            "adding: org/openkoreantext/processor/util/noun/(in = 0) (out= 0)(stored 0%)\n",
            "adding: org/openkoreantext/processor/util/noun/profane.txt(in = 569) (out= 337)(deflated 40%)\n",
            "adding: org/openkoreantext/processor/util/noun/wikipedia_title_nouns.txt(in = 1971964) (out= 686708)(deflated 65%)\n",
            "adding: org/openkoreantext/processor/util/noun/entities.txt(in = 108142) (out= 44095)(deflated 59%)\n",
            "adding: org/openkoreantext/processor/util/noun/congress.txt(in = 26494) (out= 9351)(deflated 64%)\n",
            "adding: org/openkoreantext/processor/util/noun/twitter.txt(in = 254) (out= 162)(deflated 36%)\n",
            "adding: org/openkoreantext/processor/util/noun/lol.txt(in = 1337) (out= 744)(deflated 44%)\n",
            "adding: org/openkoreantext/processor/util/noun/bible.txt(in = 2032) (out= 1005)(deflated 50%)\n",
            "adding: org/openkoreantext/processor/util/noun/slangs.txt(in = 1565) (out= 921)(deflated 41%)\n",
            "adding: org/openkoreantext/processor/util/noun/names.txt(in = 21485) (out= 6439)(deflated 70%)\n",
            "adding: org/openkoreantext/processor/util/noun/company_names.txt(in = 1631) (out= 905)(deflated 44%)\n",
            "adding: org/openkoreantext/processor/util/noun/foreign.txt(in = 10485) (out= 4686)(deflated 55%)\n",
            "adding: org/openkoreantext/processor/util/noun/geolocations.txt(in = 5423) (out= 2267)(deflated 58%)\n",
            "adding: org/openkoreantext/processor/util/noun/pokemon.txt(in = 1781) (out= 965)(deflated 45%)\n",
            "adding: org/openkoreantext/processor/util/noun/spam.txt(in = 202) (out= 157)(deflated 22%)\n",
            "adding: org/openkoreantext/processor/util/noun/kpop.txt(in = 5371) (out= 2495)(deflated 53%)\n",
            "adding: org/openkoreantext/processor/util/noun/nouns.txt(in = 219319) (out= 84134)(deflated 61%)\n",
            "adding: org/openkoreantext/processor/util/example_tweets.txt(in = 86271) (out= 38336)(deflated 55%)\n",
            "adding: org/openkoreantext/processor/normalizer/(in = 0) (out= 0)(stored 0%)\n",
            "adding: org/openkoreantext/processor/normalizer/KoreanNormalizer$Segment.class(in = 3470) (out= 1422)(deflated 59%)\n",
            "adding: org/openkoreantext/processor/normalizer/KoreanNormalizer$Segment$.class(in = 2577) (out= 989)(deflated 61%)\n",
            "adding: org/openkoreantext/processor/normalizer/KoreanNormalizer.class(in = 2980) (out= 2181)(deflated 26%)\n",
            "adding: org/openkoreantext/processor/normalizer/KoreanNormalizer$.class(in = 11553) (out= 5102)(deflated 55%)\n",
            "adding: org/openkoreantext/processor/KoreanTokenJava.class(in = 1976) (out= 931)(deflated 52%)\n",
            "adding: org/openkoreantext/processor/OpenKoreanTextProcessor.class(in = 4428) (out= 1997)(deflated 54%)\n",
            "adding: org/openkoreantext/processor/OpenKoreanTextProcessorJava.class(in = 5901) (out= 1995)(deflated 66%)\n",
            "adding: org/openkoreantext/processor/tokenizer/(in = 0) (out= 0)(stored 0%)\n",
            "adding: org/openkoreantext/processor/tokenizer/KoreanChunker$ChunkMatch.class(in = 4043) (out= 1704)(deflated 57%)\n",
            "adding: org/openkoreantext/processor/tokenizer/KoreanSentenceSplitter$.class(in = 3359) (out= 1497)(deflated 55%)\n",
            "adding: org/openkoreantext/processor/tokenizer/KoreanChunker.class(in = 4232) (out= 2887)(deflated 31%)\n",
            "adding: org/openkoreantext/processor/tokenizer/KoreanTokenizer$CandidateParse$.class(in = 3459) (out= 1111)(deflated 67%)\n",
            "adding: org/openkoreantext/processor/tokenizer/Sentence.class(in = 5985) (out= 3125)(deflated 47%)\n",
            "adding: org/openkoreantext/processor/tokenizer/KoreanChunk$.class(in = 2361) (out= 1010)(deflated 57%)\n",
            "adding: org/openkoreantext/processor/tokenizer/KoreanDetokenizer$.class(in = 9889) (out= 4174)(deflated 57%)\n",
            "adding: org/openkoreantext/processor/tokenizer/KoreanTokenizer$PossibleTrie$.class(in = 2862) (out= 1067)(deflated 62%)\n",
            "adding: org/openkoreantext/processor/tokenizer/KoreanTokenizer$.class(in = 25564) (out= 8451)(deflated 66%)\n",
            "adding: org/openkoreantext/processor/tokenizer/KoreanChunk.class(in = 5611) (out= 2907)(deflated 48%)\n",
            "adding: org/openkoreantext/processor/tokenizer/KoreanDetokenizer.class(in = 1660) (out= 1133)(deflated 31%)\n",
            "adding: org/openkoreantext/processor/tokenizer/KoreanTokenizer$CandidateParse.class(in = 4616) (out= 1645)(deflated 64%)\n",
            "adding: org/openkoreantext/processor/tokenizer/KoreanTokenizer$KoreanToken.class(in = 6336) (out= 2633)(deflated 58%)\n",
            "adding: org/openkoreantext/processor/tokenizer/ParsedChunk$.class(in = 3973) (out= 1500)(deflated 62%)\n",
            "adding: org/openkoreantext/processor/tokenizer/KoreanChunker$.class(in = 17975) (out= 6790)(deflated 62%)\n",
            "adding: org/openkoreantext/processor/tokenizer/TokenizerProfile$.class(in = 8169) (out= 2408)(deflated 70%)\n",
            "adding: org/openkoreantext/processor/tokenizer/KoreanChunker$ChunkMatch$.class(in = 2893) (out= 1136)(deflated 60%)\n",
            "adding: org/openkoreantext/processor/tokenizer/KoreanTokenizer.class(in = 6968) (out= 4384)(deflated 37%)\n",
            "adding: org/openkoreantext/processor/tokenizer/TokenizerProfile.class(in = 16403) (out= 6666)(deflated 59%)\n",
            "adding: org/openkoreantext/processor/tokenizer/KoreanSentenceSplitter.class(in = 1092) (out= 712)(deflated 34%)\n",
            "adding: org/openkoreantext/processor/tokenizer/KoreanTokenizer$PossibleTrie.class(in = 3399) (out= 1429)(deflated 57%)\n",
            "adding: org/openkoreantext/processor/tokenizer/ParsedChunk.class(in = 20517) (out= 8914)(deflated 56%)\n",
            "adding: org/openkoreantext/processor/tokenizer/Sentence$.class(in = 2339) (out= 1012)(deflated 56%)\n",
            "adding: org/openkoreantext/processor/tokenizer/KoreanTokenizer$KoreanToken$.class(in = 3976) (out= 1402)(deflated 64%)\n",
            "adding: org/openkoreantext/processor/stemmer/(in = 0) (out= 0)(stored 0%)\n",
            "adding: org/openkoreantext/processor/stemmer/KoreanStemmer$.class(in = 7044) (out= 2892)(deflated 58%)\n",
            "adding: org/openkoreantext/processor/stemmer/KoreanStemmer.class(in = 1439) (out= 972)(deflated 32%)\n",
            "adding: org/openkoreantext/processor/OpenKoreanTextProcessor$.class(in = 7716) (out= 2400)(deflated 68%)\n",
            "adding: org/openkoreantext/processor/phrase_extractor/(in = 0) (out= 0)(stored 0%)\n",
            "adding: org/openkoreantext/processor/phrase_extractor/KoreanPhraseExtractor$PhraseBuffer$.class(in = 3564) (out= 1087)(deflated 69%)\n",
            "adding: org/openkoreantext/processor/phrase_extractor/KoreanPhraseExtractor$PhraseBuffer.class(in = 4857) (out= 1609)(deflated 66%)\n",
            "adding: org/openkoreantext/processor/phrase_extractor/KoreanPhraseExtractor$KoreanPhrase$.class(in = 3358) (out= 1148)(deflated 65%)\n",
            "adding: org/openkoreantext/processor/phrase_extractor/KoreanPhraseExtractor$.class(in = 37855) (out= 12404)(deflated 67%)\n",
            "adding: org/openkoreantext/processor/phrase_extractor/KoreanPhraseExtractor$KoreanPhrase.class(in = 6942) (out= 2591)(deflated 62%)\n",
            "adding: org/openkoreantext/processor/phrase_extractor/KoreanPhraseExtractor.class(in = 6005) (out= 3967)(deflated 33%)\n"
          ]
        }
      ]
    },
    {
      "cell_type": "markdown",
      "source": [
        "### 세션 다시시작하기"
      ],
      "metadata": {
        "id": "EsyCafneVVji"
      }
    },
    {
      "cell_type": "code",
      "source": [],
      "metadata": {
        "id": "sms8t6agU-3P"
      },
      "execution_count": null,
      "outputs": []
    },
    {
      "cell_type": "markdown",
      "source": [
        "## 호출 및 .sav 로딩"
      ],
      "metadata": {
        "id": "FsoMuppgQD9m"
      }
    },
    {
      "cell_type": "code",
      "source": [
        "from fastapi import FastAPI\n",
        "from pydantic import BaseModel\n",
        "import pickle\n",
        "import json\n",
        "import uvicorn\n",
        "from pyngrok import ngrok\n",
        "from fastapi.middleware.cors import CORSMiddleware\n",
        "import nest_asyncio\n",
        "from typing import List\n",
        "\n",
        "import re\n",
        "from konlpy.tag import Okt\n",
        "from collections import namedtuple\n",
        "\n",
        "# lovit 라이브러리에서 필요한 모듈 호출\n",
        "from textrank import KeysentenceSummarizer"
      ],
      "metadata": {
        "id": "Z6viMqUCOzp-"
      },
      "execution_count": null,
      "outputs": []
    },
    {
      "cell_type": "code",
      "source": [
        "app = FastAPI()"
      ],
      "metadata": {
        "id": "ZSaqQG5tPV2W"
      },
      "execution_count": null,
      "outputs": []
    },
    {
      "cell_type": "code",
      "source": [
        "origins = [\"*\"]\n",
        "\n",
        "app.add_middleware(\n",
        "    CORSMiddleware,\n",
        "    allow_origins=origins,\n",
        "    allow_credentials=True,\n",
        "    allow_methods=[\"*\"],\n",
        "    allow_headers=[\"*\"],\n",
        ")"
      ],
      "metadata": {
        "id": "odYcqN19PXu9"
      },
      "execution_count": null,
      "outputs": []
    },
    {
      "cell_type": "code",
      "source": [
        "class model_input(BaseModel):\n",
        "  title: str\n",
        "  content: str"
      ],
      "metadata": {
        "id": "cMxECH8MPYxf"
      },
      "execution_count": null,
      "outputs": []
    },
    {
      "cell_type": "markdown",
      "source": [
        "**호출 전 stopword_list를 업로드해줘야함**\n",
        "- 일단 배포 확인하고 이 stopword_lsit를 코드 안에 넣어줄 수 있을지 확인"
      ],
      "metadata": {
        "id": "DfZMp4nPWUTz"
      }
    },
    {
      "cell_type": "code",
      "source": [
        "'''import os\n",
        "os.chdir(\"content\")\n",
        "os.getcwd()'''\n",
        "\n",
        "import os\n",
        "os.chdir(\"/content\")\n",
        "os.getcwd()"
      ],
      "metadata": {
        "id": "tA9A5IolhAeJ"
      },
      "execution_count": null,
      "outputs": []
    },
    {
      "cell_type": "markdown",
      "source": [
        "- 오히려 pickle하니 에러남 (??) 의존성 정리해서 코드로 넣고 배포해봄"
      ],
      "metadata": {
        "id": "Rpk6iW54mV4y"
      }
    },
    {
      "cell_type": "code",
      "source": [
        "# Summarizer_noti.sav를 summarizer_model로 로딩\n",
        "summarizer_model = pickle.load(open('Summarizer_noti.sav','rb'))"
      ],
      "metadata": {
        "id": "NLLJNMD1VldH"
      },
      "execution_count": null,
      "outputs": []
    },
    {
      "cell_type": "code",
      "source": [
        "# okt 등 이슈로 다시 pickle\n",
        "summarizer_model = pickle.load(open('summarizer.pkl','rb'))"
      ],
      "metadata": {
        "id": "FZ-jCVZxC09z"
      },
      "execution_count": null,
      "outputs": []
    },
    {
      "cell_type": "code",
      "source": [
        "# 수연님 sav 로드해보기\n",
        "summarizer_model = pickle.load(open('sy_summarize_notice.sav','rb'))"
      ],
      "metadata": {
        "id": "iDWhXjmzKrX5"
      },
      "execution_count": null,
      "outputs": []
    },
    {
      "cell_type": "code",
      "source": [
        "class Summarizer:\n",
        "    def __init__(self, stopwords_path: str, initialize: bool = True):\n",
        "        self.stopwords = self.load_stopwords(stopwords_path)\n",
        "        self.okt = None\n",
        "        self.summarizer = None\n",
        "        if initialize:\n",
        "            self.initialize_components()\n",
        "\n",
        "    def initialize_components(self):\n",
        "        self.okt = Okt()\n",
        "        self.summarizer = KeysentenceSummarizer(tokenize=self.okt_tokenize, min_sim=0.3)\n",
        "\n",
        "    def load_stopwords(self, stopwords_path: str) -> List[str]:\n",
        "        with open(stopwords_path, 'r') as f:\n",
        "            stopwords = [line.strip() for line in f]\n",
        "        return stopwords\n",
        "\n",
        "    def okt_tokenize(self, sent: str) -> List[str]:\n",
        "        words = self.okt.pos(sent, join=True)\n",
        "        words = [w for w in words if ('/Noun' in w or '/Adjective' in w or '/Verb' in w)]\n",
        "        return [word for word in words if word not in self.stopwords]\n",
        "\n",
        "    def is_foreign(self, text: str, korean_threshold: float = 0.3) -> bool:\n",
        "        if isinstance(text, list):\n",
        "            text = ' '.join(text)\n",
        "\n",
        "        text = text.strip()\n",
        "        if not text:\n",
        "            return False\n",
        "\n",
        "        total_chars = len(text)\n",
        "        korean_chars = len(re.findall('[가-힣]', text))\n",
        "\n",
        "        return korean_chars / total_chars < korean_threshold\n",
        "\n",
        "    def summarize_content(self, title: str, content: str) -> List[str]:\n",
        "        if self.is_foreign(content):\n",
        "            return []\n",
        "\n",
        "        if not content:\n",
        "            return []\n",
        "\n",
        "        if isinstance(content, list):\n",
        "            content = ' '.join(content)\n",
        "\n",
        "        if not content.strip():\n",
        "            return []\n",
        "\n",
        "        sents = re.split(r'\\n|\\.', content)\n",
        "        sents = list(filter(None, sents))\n",
        "        sents = [sent for sent in sents if sent.strip()]\n",
        "\n",
        "        if not sents:\n",
        "            return []\n",
        "\n",
        "        if len(sents) < 4:\n",
        "            return sents\n",
        "\n",
        "        try:\n",
        "            keysents = self.summarizer.summarize(sents, topk=3)\n",
        "        except ValueError as e:\n",
        "            error_sent = \"자세한 내용은 본문을 참고하세요.\"\n",
        "            return [error_sent]\n",
        "\n",
        "        return [item[2] for item in keysents]"
      ],
      "metadata": {
        "id": "kHb3KrOSWpFL"
      },
      "execution_count": null,
      "outputs": []
    },
    {
      "cell_type": "code",
      "source": [],
      "metadata": {
        "id": "nYqA3tX4CITH"
      },
      "execution_count": null,
      "outputs": []
    },
    {
      "cell_type": "markdown",
      "source": [
        "## 배포"
      ],
      "metadata": {
        "id": "gDrpDqBvWgA-"
      }
    },
    {
      "cell_type": "code",
      "source": [
        "@app.post(\"/summarize/\")\n",
        "def summarize_content(input_data:model_input):\n",
        "    # 클라이언트가 전송한 데이터에서 제목과 내용을 가져옴\n",
        "    title = input_data.title\n",
        "    content = input_data.content\n",
        "\n",
        "    # Summarizer 클래스를 사용하여 내용을 요약\n",
        "    summary = summarizer.summarize_content(title, content)\n",
        "\n",
        "    # 요약된 내용을 응답으로 반환\n",
        "    return {\"summary\": summary}"
      ],
      "metadata": {
        "id": "hZUL8OAcWt_Z"
      },
      "execution_count": null,
      "outputs": []
    },
    {
      "cell_type": "code",
      "source": [
        "get_ipython().system_raw('./ngrok http 8000 &')"
      ],
      "metadata": {
        "id": "ODbZRCPMXutL"
      },
      "execution_count": null,
      "outputs": []
    },
    {
      "cell_type": "code",
      "source": [
        "!ngrok authtoken \"2hJQt9L0vTO3rTjHv0gOH43TmCf_7HG3wrTF235UCccmCQoBj\""
      ],
      "metadata": {
        "id": "Ax10-0EbYA8P"
      },
      "execution_count": null,
      "outputs": []
    },
    {
      "cell_type": "markdown",
      "source": [
        "### 연결은 됨. 다만 pydantic 필요"
      ],
      "metadata": {
        "id": "WnjtjeyZmRv-"
      }
    },
    {
      "cell_type": "code",
      "source": [
        "ngrok_tunnel = ngrok.connect(8000)\n",
        "print('Public URL:', ngrok_tunnel.public_url)\n",
        "nest_asyncio.apply()\n",
        "uvicorn.run(app, port=8000)"
      ],
      "metadata": {
        "id": "im4LPq-gXRzy"
      },
      "execution_count": null,
      "outputs": []
    },
    {
      "cell_type": "code",
      "source": [
        "#authentic어쩌고 오류날 때\n",
        "#!pkill ngrok\n"
      ],
      "metadata": {
        "id": "cS14eXvRazOA"
      },
      "execution_count": null,
      "outputs": []
    },
    {
      "cell_type": "markdown",
      "source": [
        "### 서버사이드 설정"
      ],
      "metadata": {
        "id": "_4ijaaJKfrrV"
      }
    },
    {
      "cell_type": "markdown",
      "source": [],
      "metadata": {
        "id": "OqzRMZn4gJ3c"
      }
    },
    {
      "cell_type": "code",
      "source": [
        "from fastapi import FastAPI\n",
        "#from summarizer import Summarizer\n",
        "\n",
        "app = FastAPI()\n",
        "\n",
        "# Summarizer 초기화\n",
        "summarizer = Summarizer(stopwords_path='stopwords_list.txt')\n",
        "\n",
        "@app.post('/summarize/')\n",
        "async def summarize_content(title: str, content: str):\n",
        "    # Summarizer 실행\n",
        "    summarized_content = summarizer.summarize_content(title, content)\n",
        "\n",
        "    # 요약 결과 반환\n",
        "    return {'summarized_content': summarized_content}\n"
      ],
      "metadata": {
        "id": "Kal7qK5Lfudf"
      },
      "execution_count": null,
      "outputs": []
    },
    {
      "cell_type": "code",
      "source": [
        "#!pip install pyngrok\n",
        "from pyngrok import ngrok\n",
        "\n",
        "# ngrok을 사용하여 로컬 서버를 외부에 공개\n",
        "public_url = ngrok.connect(port='8000')\n",
        "print(f'Public URL: {public_url}')\n"
      ],
      "metadata": {
        "id": "BkpjLXCZgW0i"
      },
      "execution_count": null,
      "outputs": []
    },
    {
      "cell_type": "code",
      "source": [],
      "metadata": {
        "id": "_VS8ByybHjWd"
      },
      "execution_count": null,
      "outputs": []
    },
    {
      "cell_type": "markdown",
      "source": [
        "# 전달용 + Rouge (0609~)"
      ],
      "metadata": {
        "id": "hWVcBPZjWBVZ"
      }
    },
    {
      "cell_type": "markdown",
      "source": [
        "## 의존성 설치"
      ],
      "metadata": {
        "id": "I7nWPKnKWxxV"
      }
    },
    {
      "cell_type": "code",
      "source": [
        "!pip install fastapi\n",
        "!pip install uvicorn\n",
        "!pip install pickle5\n",
        "!pip install pydantic\n",
        "!pip install scikit-learn\n",
        "!pip install requests\n",
        "!pip install pypi-json\n",
        "!pip install pyngrok\n",
        "!pip install nest-asyncio\n",
        "\n",
        "# lovit 가져오기\n",
        "# 패키지\n",
        "!pip install git+https://github.com/lovit/textrank.git\n",
        "# 깃 클론\n",
        "!git clone https://github.com/lovit/textrank.git"
      ],
      "metadata": {
        "colab": {
          "base_uri": "https://localhost:8080/"
        },
        "id": "GmWQ_-TlWEd0",
        "outputId": "79d9f011-5f9b-48dc-981d-568b79829ae4"
      },
      "execution_count": null,
      "outputs": [
        {
          "output_type": "stream",
          "name": "stdout",
          "text": [
            "Collecting fastapi\n",
            "  Downloading fastapi-0.111.0-py3-none-any.whl (91 kB)\n",
            "\u001b[2K     \u001b[90m━━━━━━━━━━━━━━━━━━━━━━━━━━━━━━━━━━━━━━━━\u001b[0m \u001b[32m92.0/92.0 kB\u001b[0m \u001b[31m809.2 kB/s\u001b[0m eta \u001b[36m0:00:00\u001b[0m\n",
            "\u001b[?25hCollecting starlette<0.38.0,>=0.37.2 (from fastapi)\n",
            "  Downloading starlette-0.37.2-py3-none-any.whl (71 kB)\n",
            "\u001b[2K     \u001b[90m━━━━━━━━━━━━━━━━━━━━━━━━━━━━━━━━━━━━━━━━\u001b[0m \u001b[32m71.9/71.9 kB\u001b[0m \u001b[31m3.3 MB/s\u001b[0m eta \u001b[36m0:00:00\u001b[0m\n",
            "\u001b[?25hRequirement already satisfied: pydantic!=1.8,!=1.8.1,!=2.0.0,!=2.0.1,!=2.1.0,<3.0.0,>=1.7.4 in /usr/local/lib/python3.10/dist-packages (from fastapi) (2.7.3)\n",
            "Requirement already satisfied: typing-extensions>=4.8.0 in /usr/local/lib/python3.10/dist-packages (from fastapi) (4.12.2)\n",
            "Collecting fastapi-cli>=0.0.2 (from fastapi)\n",
            "  Downloading fastapi_cli-0.0.4-py3-none-any.whl (9.5 kB)\n",
            "Collecting httpx>=0.23.0 (from fastapi)\n",
            "  Downloading httpx-0.27.0-py3-none-any.whl (75 kB)\n",
            "\u001b[2K     \u001b[90m━━━━━━━━━━━━━━━━━━━━━━━━━━━━━━━━━━━━━━━━\u001b[0m \u001b[32m75.6/75.6 kB\u001b[0m \u001b[31m4.1 MB/s\u001b[0m eta \u001b[36m0:00:00\u001b[0m\n",
            "\u001b[?25hRequirement already satisfied: jinja2>=2.11.2 in /usr/local/lib/python3.10/dist-packages (from fastapi) (3.1.4)\n",
            "Collecting python-multipart>=0.0.7 (from fastapi)\n",
            "  Downloading python_multipart-0.0.9-py3-none-any.whl (22 kB)\n",
            "Collecting ujson!=4.0.2,!=4.1.0,!=4.2.0,!=4.3.0,!=5.0.0,!=5.1.0,>=4.0.1 (from fastapi)\n",
            "  Downloading ujson-5.10.0-cp310-cp310-manylinux_2_17_x86_64.manylinux2014_x86_64.whl (53 kB)\n",
            "\u001b[2K     \u001b[90m━━━━━━━━━━━━━━━━━━━━━━━━━━━━━━━━━━━━━━━━\u001b[0m \u001b[32m53.6/53.6 kB\u001b[0m \u001b[31m2.0 MB/s\u001b[0m eta \u001b[36m0:00:00\u001b[0m\n",
            "\u001b[?25hCollecting orjson>=3.2.1 (from fastapi)\n",
            "  Downloading orjson-3.10.5-cp310-cp310-manylinux_2_17_x86_64.manylinux2014_x86_64.whl (144 kB)\n",
            "\u001b[2K     \u001b[90m━━━━━━━━━━━━━━━━━━━━━━━━━━━━━━━━━━━━━━━━\u001b[0m \u001b[32m145.0/145.0 kB\u001b[0m \u001b[31m1.7 MB/s\u001b[0m eta \u001b[36m0:00:00\u001b[0m\n",
            "\u001b[?25hCollecting email_validator>=2.0.0 (from fastapi)\n",
            "  Downloading email_validator-2.1.2-py3-none-any.whl (30 kB)\n",
            "Collecting uvicorn[standard]>=0.12.0 (from fastapi)\n",
            "  Downloading uvicorn-0.30.1-py3-none-any.whl (62 kB)\n",
            "\u001b[2K     \u001b[90m━━━━━━━━━━━━━━━━━━━━━━━━━━━━━━━━━━━━━━━━\u001b[0m \u001b[32m62.4/62.4 kB\u001b[0m \u001b[31m3.1 MB/s\u001b[0m eta \u001b[36m0:00:00\u001b[0m\n",
            "\u001b[?25hCollecting dnspython>=2.0.0 (from email_validator>=2.0.0->fastapi)\n",
            "  Downloading dnspython-2.6.1-py3-none-any.whl (307 kB)\n",
            "\u001b[2K     \u001b[90m━━━━━━━━━━━━━━━━━━━━━━━━━━━━━━━━━━━━━━━━\u001b[0m \u001b[32m307.7/307.7 kB\u001b[0m \u001b[31m22.1 MB/s\u001b[0m eta \u001b[36m0:00:00\u001b[0m\n",
            "\u001b[?25hRequirement already satisfied: idna>=2.0.0 in /usr/local/lib/python3.10/dist-packages (from email_validator>=2.0.0->fastapi) (3.7)\n",
            "Requirement already satisfied: typer>=0.12.3 in /usr/local/lib/python3.10/dist-packages (from fastapi-cli>=0.0.2->fastapi) (0.12.3)\n",
            "Requirement already satisfied: anyio in /usr/local/lib/python3.10/dist-packages (from httpx>=0.23.0->fastapi) (3.7.1)\n",
            "Requirement already satisfied: certifi in /usr/local/lib/python3.10/dist-packages (from httpx>=0.23.0->fastapi) (2024.6.2)\n",
            "Collecting httpcore==1.* (from httpx>=0.23.0->fastapi)\n",
            "  Downloading httpcore-1.0.5-py3-none-any.whl (77 kB)\n",
            "\u001b[2K     \u001b[90m━━━━━━━━━━━━━━━━━━━━━━━━━━━━━━━━━━━━━━━━\u001b[0m \u001b[32m77.9/77.9 kB\u001b[0m \u001b[31m3.5 MB/s\u001b[0m eta \u001b[36m0:00:00\u001b[0m\n",
            "\u001b[?25hRequirement already satisfied: sniffio in /usr/local/lib/python3.10/dist-packages (from httpx>=0.23.0->fastapi) (1.3.1)\n",
            "Collecting h11<0.15,>=0.13 (from httpcore==1.*->httpx>=0.23.0->fastapi)\n",
            "  Downloading h11-0.14.0-py3-none-any.whl (58 kB)\n",
            "\u001b[2K     \u001b[90m━━━━━━━━━━━━━━━━━━━━━━━━━━━━━━━━━━━━━━━━\u001b[0m \u001b[32m58.3/58.3 kB\u001b[0m \u001b[31m2.1 MB/s\u001b[0m eta \u001b[36m0:00:00\u001b[0m\n",
            "\u001b[?25hRequirement already satisfied: MarkupSafe>=2.0 in /usr/local/lib/python3.10/dist-packages (from jinja2>=2.11.2->fastapi) (2.1.5)\n",
            "Requirement already satisfied: annotated-types>=0.4.0 in /usr/local/lib/python3.10/dist-packages (from pydantic!=1.8,!=1.8.1,!=2.0.0,!=2.0.1,!=2.1.0,<3.0.0,>=1.7.4->fastapi) (0.7.0)\n",
            "Requirement already satisfied: pydantic-core==2.18.4 in /usr/local/lib/python3.10/dist-packages (from pydantic!=1.8,!=1.8.1,!=2.0.0,!=2.0.1,!=2.1.0,<3.0.0,>=1.7.4->fastapi) (2.18.4)\n",
            "Requirement already satisfied: click>=7.0 in /usr/local/lib/python3.10/dist-packages (from uvicorn[standard]>=0.12.0->fastapi) (8.1.7)\n",
            "Collecting httptools>=0.5.0 (from uvicorn[standard]>=0.12.0->fastapi)\n",
            "  Downloading httptools-0.6.1-cp310-cp310-manylinux_2_5_x86_64.manylinux1_x86_64.manylinux_2_17_x86_64.manylinux2014_x86_64.whl (341 kB)\n",
            "\u001b[2K     \u001b[90m━━━━━━━━━━━━━━━━━━━━━━━━━━━━━━━━━━━━━━━━\u001b[0m \u001b[32m341.4/341.4 kB\u001b[0m \u001b[31m12.7 MB/s\u001b[0m eta \u001b[36m0:00:00\u001b[0m\n",
            "\u001b[?25hCollecting python-dotenv>=0.13 (from uvicorn[standard]>=0.12.0->fastapi)\n",
            "  Downloading python_dotenv-1.0.1-py3-none-any.whl (19 kB)\n",
            "Requirement already satisfied: pyyaml>=5.1 in /usr/local/lib/python3.10/dist-packages (from uvicorn[standard]>=0.12.0->fastapi) (6.0.1)\n",
            "Collecting uvloop!=0.15.0,!=0.15.1,>=0.14.0 (from uvicorn[standard]>=0.12.0->fastapi)\n",
            "  Downloading uvloop-0.19.0-cp310-cp310-manylinux_2_17_x86_64.manylinux2014_x86_64.whl (3.4 MB)\n",
            "\u001b[2K     \u001b[90m━━━━━━━━━━━━━━━━━━━━━━━━━━━━━━━━━━━━━━━━\u001b[0m \u001b[32m3.4/3.4 MB\u001b[0m \u001b[31m29.0 MB/s\u001b[0m eta \u001b[36m0:00:00\u001b[0m\n",
            "\u001b[?25hCollecting watchfiles>=0.13 (from uvicorn[standard]>=0.12.0->fastapi)\n",
            "  Downloading watchfiles-0.22.0-cp310-cp310-manylinux_2_17_x86_64.manylinux2014_x86_64.whl (1.2 MB)\n",
            "\u001b[2K     \u001b[90m━━━━━━━━━━━━━━━━━━━━━━━━━━━━━━━━━━━━━━━━\u001b[0m \u001b[32m1.2/1.2 MB\u001b[0m \u001b[31m19.5 MB/s\u001b[0m eta \u001b[36m0:00:00\u001b[0m\n",
            "\u001b[?25hCollecting websockets>=10.4 (from uvicorn[standard]>=0.12.0->fastapi)\n",
            "  Downloading websockets-12.0-cp310-cp310-manylinux_2_5_x86_64.manylinux1_x86_64.manylinux_2_17_x86_64.manylinux2014_x86_64.whl (130 kB)\n",
            "\u001b[2K     \u001b[90m━━━━━━━━━━━━━━━━━━━━━━━━━━━━━━━━━━━━━━━━\u001b[0m \u001b[32m130.2/130.2 kB\u001b[0m \u001b[31m4.4 MB/s\u001b[0m eta \u001b[36m0:00:00\u001b[0m\n",
            "\u001b[?25hRequirement already satisfied: exceptiongroup in /usr/local/lib/python3.10/dist-packages (from anyio->httpx>=0.23.0->fastapi) (1.2.1)\n",
            "Requirement already satisfied: shellingham>=1.3.0 in /usr/local/lib/python3.10/dist-packages (from typer>=0.12.3->fastapi-cli>=0.0.2->fastapi) (1.5.4)\n",
            "Requirement already satisfied: rich>=10.11.0 in /usr/local/lib/python3.10/dist-packages (from typer>=0.12.3->fastapi-cli>=0.0.2->fastapi) (13.7.1)\n",
            "Requirement already satisfied: markdown-it-py>=2.2.0 in /usr/local/lib/python3.10/dist-packages (from rich>=10.11.0->typer>=0.12.3->fastapi-cli>=0.0.2->fastapi) (3.0.0)\n",
            "Requirement already satisfied: pygments<3.0.0,>=2.13.0 in /usr/local/lib/python3.10/dist-packages (from rich>=10.11.0->typer>=0.12.3->fastapi-cli>=0.0.2->fastapi) (2.16.1)\n",
            "Requirement already satisfied: mdurl~=0.1 in /usr/local/lib/python3.10/dist-packages (from markdown-it-py>=2.2.0->rich>=10.11.0->typer>=0.12.3->fastapi-cli>=0.0.2->fastapi) (0.1.2)\n",
            "Installing collected packages: websockets, uvloop, ujson, python-multipart, python-dotenv, orjson, httptools, h11, dnspython, watchfiles, uvicorn, starlette, httpcore, email_validator, httpx, fastapi-cli, fastapi\n",
            "Successfully installed dnspython-2.6.1 email_validator-2.1.2 fastapi-0.111.0 fastapi-cli-0.0.4 h11-0.14.0 httpcore-1.0.5 httptools-0.6.1 httpx-0.27.0 orjson-3.10.5 python-dotenv-1.0.1 python-multipart-0.0.9 starlette-0.37.2 ujson-5.10.0 uvicorn-0.30.1 uvloop-0.19.0 watchfiles-0.22.0 websockets-12.0\n",
            "Requirement already satisfied: uvicorn in /usr/local/lib/python3.10/dist-packages (0.30.1)\n",
            "Requirement already satisfied: click>=7.0 in /usr/local/lib/python3.10/dist-packages (from uvicorn) (8.1.7)\n",
            "Requirement already satisfied: h11>=0.8 in /usr/local/lib/python3.10/dist-packages (from uvicorn) (0.14.0)\n",
            "Requirement already satisfied: typing-extensions>=4.0 in /usr/local/lib/python3.10/dist-packages (from uvicorn) (4.12.2)\n",
            "Collecting pickle5\n",
            "  Downloading pickle5-0.0.11.tar.gz (132 kB)\n",
            "\u001b[2K     \u001b[90m━━━━━━━━━━━━━━━━━━━━━━━━━━━━━━━━━━━━━━━━\u001b[0m \u001b[32m132.1/132.1 kB\u001b[0m \u001b[31m2.4 MB/s\u001b[0m eta \u001b[36m0:00:00\u001b[0m\n",
            "\u001b[?25h  Preparing metadata (setup.py) ... \u001b[?25l\u001b[?25hdone\n",
            "Building wheels for collected packages: pickle5\n",
            "  Building wheel for pickle5 (setup.py) ... \u001b[?25l\u001b[?25hdone\n",
            "  Created wheel for pickle5: filename=pickle5-0.0.11-cp310-cp310-linux_x86_64.whl size=255320 sha256=5c9da49e7d4d834669f52d0f907b28b0294de9a9d5fd6d7e49467ae6035c60a6\n",
            "  Stored in directory: /root/.cache/pip/wheels/7d/14/ef/4aab19d27fa8e58772be5c71c16add0426acf9e1f64353235c\n",
            "Successfully built pickle5\n",
            "Installing collected packages: pickle5\n",
            "Successfully installed pickle5-0.0.11\n",
            "Requirement already satisfied: pydantic in /usr/local/lib/python3.10/dist-packages (2.7.3)\n",
            "Requirement already satisfied: annotated-types>=0.4.0 in /usr/local/lib/python3.10/dist-packages (from pydantic) (0.7.0)\n",
            "Requirement already satisfied: pydantic-core==2.18.4 in /usr/local/lib/python3.10/dist-packages (from pydantic) (2.18.4)\n",
            "Requirement already satisfied: typing-extensions>=4.6.1 in /usr/local/lib/python3.10/dist-packages (from pydantic) (4.12.2)\n",
            "Requirement already satisfied: scikit-learn in /usr/local/lib/python3.10/dist-packages (1.2.2)\n",
            "Requirement already satisfied: numpy>=1.17.3 in /usr/local/lib/python3.10/dist-packages (from scikit-learn) (1.25.2)\n",
            "Requirement already satisfied: scipy>=1.3.2 in /usr/local/lib/python3.10/dist-packages (from scikit-learn) (1.11.4)\n",
            "Requirement already satisfied: joblib>=1.1.1 in /usr/local/lib/python3.10/dist-packages (from scikit-learn) (1.4.2)\n",
            "Requirement already satisfied: threadpoolctl>=2.0.0 in /usr/local/lib/python3.10/dist-packages (from scikit-learn) (3.5.0)\n",
            "Requirement already satisfied: requests in /usr/local/lib/python3.10/dist-packages (2.31.0)\n",
            "Requirement already satisfied: charset-normalizer<4,>=2 in /usr/local/lib/python3.10/dist-packages (from requests) (3.3.2)\n",
            "Requirement already satisfied: idna<4,>=2.5 in /usr/local/lib/python3.10/dist-packages (from requests) (3.7)\n",
            "Requirement already satisfied: urllib3<3,>=1.21.1 in /usr/local/lib/python3.10/dist-packages (from requests) (2.0.7)\n",
            "Requirement already satisfied: certifi>=2017.4.17 in /usr/local/lib/python3.10/dist-packages (from requests) (2024.6.2)\n",
            "Collecting pypi-json\n",
            "  Downloading pypi_json-0.4.0-py3-none-any.whl (26 kB)\n",
            "Collecting apeye>=1.1.0 (from pypi-json)\n",
            "  Downloading apeye-1.4.1-py3-none-any.whl (107 kB)\n",
            "\u001b[2K     \u001b[90m━━━━━━━━━━━━━━━━━━━━━━━━━━━━━━━━━━━━━━━━\u001b[0m \u001b[32m108.0/108.0 kB\u001b[0m \u001b[31m3.9 MB/s\u001b[0m eta \u001b[36m0:00:00\u001b[0m\n",
            "\u001b[?25hRequirement already satisfied: packaging>=21.0 in /usr/local/lib/python3.10/dist-packages (from pypi-json) (24.1)\n",
            "Requirement already satisfied: requests>=2.26.0 in /usr/local/lib/python3.10/dist-packages (from pypi-json) (2.31.0)\n",
            "Collecting apeye-core>=1.0.0b2 (from apeye>=1.1.0->pypi-json)\n",
            "  Downloading apeye_core-1.1.5-py3-none-any.whl (99 kB)\n",
            "\u001b[2K     \u001b[90m━━━━━━━━━━━━━━━━━━━━━━━━━━━━━━━━━━━━━━━━\u001b[0m \u001b[32m99.3/99.3 kB\u001b[0m \u001b[31m10.0 MB/s\u001b[0m eta \u001b[36m0:00:00\u001b[0m\n",
            "\u001b[?25hCollecting domdf-python-tools>=2.6.0 (from apeye>=1.1.0->pypi-json)\n",
            "  Downloading domdf_python_tools-3.8.1-py3-none-any.whl (127 kB)\n",
            "\u001b[2K     \u001b[90m━━━━━━━━━━━━━━━━━━━━━━━━━━━━━━━━━━━━━━━━\u001b[0m \u001b[32m127.1/127.1 kB\u001b[0m \u001b[31m15.4 MB/s\u001b[0m eta \u001b[36m0:00:00\u001b[0m\n",
            "\u001b[?25hRequirement already satisfied: platformdirs>=2.3.0 in /usr/local/lib/python3.10/dist-packages (from apeye>=1.1.0->pypi-json) (4.2.2)\n",
            "Requirement already satisfied: charset-normalizer<4,>=2 in /usr/local/lib/python3.10/dist-packages (from requests>=2.26.0->pypi-json) (3.3.2)\n",
            "Requirement already satisfied: idna<4,>=2.5 in /usr/local/lib/python3.10/dist-packages (from requests>=2.26.0->pypi-json) (3.7)\n",
            "Requirement already satisfied: urllib3<3,>=1.21.1 in /usr/local/lib/python3.10/dist-packages (from requests>=2.26.0->pypi-json) (2.0.7)\n",
            "Requirement already satisfied: certifi>=2017.4.17 in /usr/local/lib/python3.10/dist-packages (from requests>=2.26.0->pypi-json) (2024.6.2)\n",
            "Requirement already satisfied: natsort>=7.0.1 in /usr/local/lib/python3.10/dist-packages (from domdf-python-tools>=2.6.0->apeye>=1.1.0->pypi-json) (8.4.0)\n",
            "Requirement already satisfied: typing-extensions>=3.7.4.1 in /usr/local/lib/python3.10/dist-packages (from domdf-python-tools>=2.6.0->apeye>=1.1.0->pypi-json) (4.12.2)\n",
            "Installing collected packages: domdf-python-tools, apeye-core, apeye, pypi-json\n",
            "Successfully installed apeye-1.4.1 apeye-core-1.1.5 domdf-python-tools-3.8.1 pypi-json-0.4.0\n",
            "Collecting pyngrok\n",
            "  Downloading pyngrok-7.1.6-py3-none-any.whl (22 kB)\n",
            "Requirement already satisfied: PyYAML>=5.1 in /usr/local/lib/python3.10/dist-packages (from pyngrok) (6.0.1)\n",
            "Installing collected packages: pyngrok\n",
            "Successfully installed pyngrok-7.1.6\n",
            "Requirement already satisfied: nest-asyncio in /usr/local/lib/python3.10/dist-packages (1.6.0)\n",
            "Collecting git+https://github.com/lovit/textrank.git\n",
            "  Cloning https://github.com/lovit/textrank.git to /tmp/pip-req-build-_doofpjk\n",
            "  Running command git clone --filter=blob:none --quiet https://github.com/lovit/textrank.git /tmp/pip-req-build-_doofpjk\n",
            "  Resolved https://github.com/lovit/textrank.git to commit 578c7fbbb22b24561b1bd4bab9a9ecc2dc9515e1\n",
            "  Preparing metadata (setup.py) ... \u001b[?25l\u001b[?25hdone\n",
            "Building wheels for collected packages: textrank\n",
            "  Building wheel for textrank (setup.py) ... \u001b[?25l\u001b[?25hdone\n",
            "  Created wheel for textrank: filename=textrank-0.1.2-py3-none-any.whl size=11142 sha256=ae7e930f7d2a4088a32272cb5d694d1efe6c66149ac07fd0aa5381bfc36ea5a2\n",
            "  Stored in directory: /tmp/pip-ephem-wheel-cache-lzu9bmds/wheels/8d/d1/ef/7c6abc0d5bbb64f01bd86b0ad967911d4b7f21bb44813b3239\n",
            "Successfully built textrank\n",
            "Installing collected packages: textrank\n",
            "Successfully installed textrank-0.1.2\n",
            "Cloning into 'textrank'...\n",
            "remote: Enumerating objects: 232, done.\u001b[K\n",
            "remote: Counting objects: 100% (7/7), done.\u001b[K\n",
            "remote: Compressing objects: 100% (7/7), done.\u001b[K\n",
            "remote: Total 232 (delta 1), reused 1 (delta 0), pack-reused 225\u001b[K\n",
            "Receiving objects: 100% (232/232), 1.21 MiB | 12.18 MiB/s, done.\n",
            "Resolving deltas: 100% (133/133), done.\n"
          ]
        }
      ]
    },
    {
      "cell_type": "markdown",
      "source": [
        "### konlpy 사용자 사전"
      ],
      "metadata": {
        "id": "vGcdooyaW1rp"
      }
    },
    {
      "cell_type": "code",
      "source": [
        "#konlpy가져오기\n",
        "#konlpy 다운 및 호출\n",
        "#1. Konlpy에서 Okt\n",
        "!pip install konlpy\n",
        "#2. konlpy 실행을 위한 자바어쩌구 다운\n",
        "!apt-get install openjdk-8-jdk-headless -qq > /dev/null\n",
        "#3. 필요한 설정\n",
        "import os\n",
        "os.environ[\"JAVA_HOME\"] = \"/usr/lib/jvm/java-8-openjdk-amd64\"\n",
        "from konlpy.tag import Okt"
      ],
      "metadata": {
        "id": "9Jd9LIAzWz_F",
        "colab": {
          "base_uri": "https://localhost:8080/"
        },
        "outputId": "3fb7de54-c514-445b-d3e5-5d881d5c26e8"
      },
      "execution_count": null,
      "outputs": [
        {
          "output_type": "stream",
          "name": "stdout",
          "text": [
            "Collecting konlpy\n",
            "  Downloading konlpy-0.6.0-py2.py3-none-any.whl (19.4 MB)\n",
            "\u001b[2K     \u001b[90m━━━━━━━━━━━━━━━━━━━━━━━━━━━━━━━━━━━━━━━━\u001b[0m \u001b[32m19.4/19.4 MB\u001b[0m \u001b[31m35.3 MB/s\u001b[0m eta \u001b[36m0:00:00\u001b[0m\n",
            "\u001b[?25hCollecting JPype1>=0.7.0 (from konlpy)\n",
            "  Downloading JPype1-1.5.0-cp310-cp310-manylinux_2_17_x86_64.manylinux2014_x86_64.whl (488 kB)\n",
            "\u001b[2K     \u001b[90m━━━━━━━━━━━━━━━━━━━━━━━━━━━━━━━━━━━━━━━━\u001b[0m \u001b[32m488.6/488.6 kB\u001b[0m \u001b[31m20.3 MB/s\u001b[0m eta \u001b[36m0:00:00\u001b[0m\n",
            "\u001b[?25hRequirement already satisfied: lxml>=4.1.0 in /usr/local/lib/python3.10/dist-packages (from konlpy) (4.9.4)\n",
            "Requirement already satisfied: numpy>=1.6 in /usr/local/lib/python3.10/dist-packages (from konlpy) (1.25.2)\n",
            "Requirement already satisfied: packaging in /usr/local/lib/python3.10/dist-packages (from JPype1>=0.7.0->konlpy) (24.1)\n",
            "Installing collected packages: JPype1, konlpy\n",
            "Successfully installed JPype1-1.5.0 konlpy-0.6.0\n"
          ]
        }
      ]
    },
    {
      "cell_type": "code",
      "source": [
        "# 사용자 사전 찾아가기 및 경로 설정 _ 여기서 오류가 날 시 코랩에서 폴더 열어서 usr,local 찾아가보시며 폴더명이 일치하는지 확인해보세요! 보통 파이썬 버전이 다릅니다.\n",
        "os.chdir('/usr/local/lib/python3.10/dist-packages/konlpy/java')\n",
        "os.getcwd()"
      ],
      "metadata": {
        "id": "wtZ3uIGqW6XZ",
        "colab": {
          "base_uri": "https://localhost:8080/"
        },
        "outputId": "4992c015-c6b2-4cf2-92e5-b0588164b6c0"
      },
      "execution_count": null,
      "outputs": [
        {
          "output_type": "execute_result",
          "data": {
            "text/plain": [
              "'/usr/local/lib/python3.10/dist-packages/konlpy/java'"
            ],
            "application/vnd.google.colaboratory.intrinsic+json": {
              "type": "string"
            }
          },
          "metadata": {},
          "execution_count": 3
        }
      ]
    },
    {
      "cell_type": "code",
      "source": [
        "#jar파일을 풀어줄 폴더이름을 정합니다. 저는 temp_fix로 했어요!\n",
        "os.makedirs('./temp_fix')\n",
        "os.chdir('./temp_fix')\n",
        "os.getcwd()"
      ],
      "metadata": {
        "id": "04x2YPqMW7kW",
        "colab": {
          "base_uri": "https://localhost:8080/"
        },
        "outputId": "e3bb4692-a792-4b2a-cf99-ae4b33afa88e"
      },
      "execution_count": null,
      "outputs": [
        {
          "output_type": "execute_result",
          "data": {
            "text/plain": [
              "'/usr/local/lib/python3.10/dist-packages/konlpy/java/temp_fix'"
            ],
            "application/vnd.google.colaboratory.intrinsic+json": {
              "type": "string"
            }
          },
          "metadata": {},
          "execution_count": 4
        }
      ]
    },
    {
      "cell_type": "code",
      "source": [
        "#inflated어쩌고 쭉뜨고 맨끝에 에러 없으면 잘된겁니다!\n",
        "!jar xvf ../open-korean-text-2.1.0.jar"
      ],
      "metadata": {
        "id": "WQlrHmKmW9IF",
        "colab": {
          "base_uri": "https://localhost:8080/"
        },
        "outputId": "6a96e2d3-da37-4b2d-dadb-9b949bd55ba2"
      },
      "execution_count": null,
      "outputs": [
        {
          "output_type": "stream",
          "name": "stdout",
          "text": [
            "  created: META-INF/\n",
            " inflated: META-INF/MANIFEST.MF\n",
            "  created: org/\n",
            "  created: org/openkoreantext/\n",
            "  created: org/openkoreantext/processor/\n",
            "  created: org/openkoreantext/processor/normalizer/\n",
            "  created: org/openkoreantext/processor/phrase_extractor/\n",
            "  created: org/openkoreantext/processor/qa/\n",
            "  created: org/openkoreantext/processor/stemmer/\n",
            "  created: org/openkoreantext/processor/tokenizer/\n",
            "  created: org/openkoreantext/processor/tools/\n",
            "  created: org/openkoreantext/processor/util/\n",
            "  created: org/openkoreantext/processor/util/adjective/\n",
            "  created: org/openkoreantext/processor/util/adverb/\n",
            "  created: org/openkoreantext/processor/util/auxiliary/\n",
            "  created: org/openkoreantext/processor/util/freq/\n",
            "  created: org/openkoreantext/processor/util/josa/\n",
            "  created: org/openkoreantext/processor/util/noun/\n",
            "  created: org/openkoreantext/processor/util/substantives/\n",
            "  created: org/openkoreantext/processor/util/typos/\n",
            "  created: org/openkoreantext/processor/util/verb/\n",
            " inflated: org/openkoreantext/processor/KoreanPosJava.class\n",
            " inflated: org/openkoreantext/processor/KoreanTokenJava.class\n",
            " inflated: org/openkoreantext/processor/normalizer/KoreanNormalizer$.class\n",
            " inflated: org/openkoreantext/processor/normalizer/KoreanNormalizer$Segment$.class\n",
            " inflated: org/openkoreantext/processor/normalizer/KoreanNormalizer$Segment.class\n",
            " inflated: org/openkoreantext/processor/normalizer/KoreanNormalizer.class\n",
            " inflated: org/openkoreantext/processor/OpenKoreanTextProcessor$.class\n",
            " inflated: org/openkoreantext/processor/OpenKoreanTextProcessor.class\n",
            " inflated: org/openkoreantext/processor/OpenKoreanTextProcessorJava.class\n",
            " inflated: org/openkoreantext/processor/phrase_extractor/KoreanPhraseExtractor$.class\n",
            " inflated: org/openkoreantext/processor/phrase_extractor/KoreanPhraseExtractor$KoreanPhrase$.class\n",
            " inflated: org/openkoreantext/processor/phrase_extractor/KoreanPhraseExtractor$KoreanPhrase.class\n",
            " inflated: org/openkoreantext/processor/phrase_extractor/KoreanPhraseExtractor$PhraseBuffer$.class\n",
            " inflated: org/openkoreantext/processor/phrase_extractor/KoreanPhraseExtractor$PhraseBuffer.class\n",
            " inflated: org/openkoreantext/processor/phrase_extractor/KoreanPhraseExtractor.class\n",
            " inflated: org/openkoreantext/processor/qa/BatchGetUnknownNouns$.class\n",
            " inflated: org/openkoreantext/processor/qa/BatchGetUnknownNouns$ChunkWithTweet$.class\n",
            " inflated: org/openkoreantext/processor/qa/BatchGetUnknownNouns$ChunkWithTweet.class\n",
            " inflated: org/openkoreantext/processor/qa/BatchGetUnknownNouns.class\n",
            " inflated: org/openkoreantext/processor/qa/BatchTokenizeTweets$.class\n",
            " inflated: org/openkoreantext/processor/qa/BatchTokenizeTweets$ParseTime$.class\n",
            " inflated: org/openkoreantext/processor/qa/BatchTokenizeTweets$ParseTime.class\n",
            " inflated: org/openkoreantext/processor/qa/BatchTokenizeTweets.class\n",
            " inflated: org/openkoreantext/processor/qa/KoreanProcessorSandbox$.class\n",
            " inflated: org/openkoreantext/processor/qa/KoreanProcessorSandbox.class\n",
            " inflated: org/openkoreantext/processor/stemmer/KoreanStemmer$.class\n",
            " inflated: org/openkoreantext/processor/stemmer/KoreanStemmer.class\n",
            " inflated: org/openkoreantext/processor/tokenizer/KoreanChunk$.class\n",
            " inflated: org/openkoreantext/processor/tokenizer/KoreanChunk.class\n",
            " inflated: org/openkoreantext/processor/tokenizer/KoreanChunker$.class\n",
            " inflated: org/openkoreantext/processor/tokenizer/KoreanChunker$ChunkMatch$.class\n",
            " inflated: org/openkoreantext/processor/tokenizer/KoreanChunker$ChunkMatch.class\n",
            " inflated: org/openkoreantext/processor/tokenizer/KoreanChunker.class\n",
            " inflated: org/openkoreantext/processor/tokenizer/KoreanDetokenizer$.class\n",
            " inflated: org/openkoreantext/processor/tokenizer/KoreanDetokenizer.class\n",
            " inflated: org/openkoreantext/processor/tokenizer/KoreanSentenceSplitter$.class\n",
            " inflated: org/openkoreantext/processor/tokenizer/KoreanSentenceSplitter.class\n",
            " inflated: org/openkoreantext/processor/tokenizer/KoreanTokenizer$.class\n",
            " inflated: org/openkoreantext/processor/tokenizer/KoreanTokenizer$CandidateParse$.class\n",
            " inflated: org/openkoreantext/processor/tokenizer/KoreanTokenizer$CandidateParse.class\n",
            " inflated: org/openkoreantext/processor/tokenizer/KoreanTokenizer$KoreanToken$.class\n",
            " inflated: org/openkoreantext/processor/tokenizer/KoreanTokenizer$KoreanToken.class\n",
            " inflated: org/openkoreantext/processor/tokenizer/KoreanTokenizer$PossibleTrie$.class\n",
            " inflated: org/openkoreantext/processor/tokenizer/KoreanTokenizer$PossibleTrie.class\n",
            " inflated: org/openkoreantext/processor/tokenizer/KoreanTokenizer.class\n",
            " inflated: org/openkoreantext/processor/tokenizer/ParsedChunk$.class\n",
            " inflated: org/openkoreantext/processor/tokenizer/ParsedChunk.class\n",
            " inflated: org/openkoreantext/processor/tokenizer/Sentence$.class\n",
            " inflated: org/openkoreantext/processor/tokenizer/Sentence.class\n",
            " inflated: org/openkoreantext/processor/tokenizer/TokenizerProfile$.class\n",
            " inflated: org/openkoreantext/processor/tokenizer/TokenizerProfile.class\n",
            " inflated: org/openkoreantext/processor/tools/CreateChunkParsingCandidates$.class\n",
            " inflated: org/openkoreantext/processor/tools/CreateChunkParsingCandidates.class\n",
            " inflated: org/openkoreantext/processor/tools/CreateConjugationExamples$.class\n",
            " inflated: org/openkoreantext/processor/tools/CreateConjugationExamples$ConjugationExample$.class\n",
            " inflated: org/openkoreantext/processor/tools/CreateConjugationExamples$ConjugationExample.class\n",
            " inflated: org/openkoreantext/processor/tools/CreateConjugationExamples.class\n",
            " inflated: org/openkoreantext/processor/tools/CreateParsingExamples$.class\n",
            " inflated: org/openkoreantext/processor/tools/CreateParsingExamples$ParsingExample$.class\n",
            " inflated: org/openkoreantext/processor/tools/CreateParsingExamples$ParsingExample.class\n",
            " inflated: org/openkoreantext/processor/tools/CreateParsingExamples.class\n",
            " inflated: org/openkoreantext/processor/tools/CreatePhraseExtractionExamples$.class\n",
            " inflated: org/openkoreantext/processor/tools/CreatePhraseExtractionExamples$PhraseExample$.class\n",
            " inflated: org/openkoreantext/processor/tools/CreatePhraseExtractionExamples$PhraseExample.class\n",
            " inflated: org/openkoreantext/processor/tools/CreatePhraseExtractionExamples.class\n",
            " inflated: org/openkoreantext/processor/tools/DeduplicateAndSortDictionaries$.class\n",
            " inflated: org/openkoreantext/processor/tools/DeduplicateAndSortDictionaries.class\n",
            " inflated: org/openkoreantext/processor/tools/Runnable.class\n",
            " inflated: org/openkoreantext/processor/tools/UpdateAllTheExamples$.class\n",
            " inflated: org/openkoreantext/processor/tools/UpdateAllTheExamples.class\n",
            " inflated: org/openkoreantext/processor/util/adjective/adjective.txt\n",
            " inflated: org/openkoreantext/processor/util/adverb/adverb.txt\n",
            " inflated: org/openkoreantext/processor/util/auxiliary/conjunctions.txt\n",
            " inflated: org/openkoreantext/processor/util/auxiliary/determiner.txt\n",
            " inflated: org/openkoreantext/processor/util/auxiliary/exclamation.txt\n",
            " inflated: org/openkoreantext/processor/util/CharacterUtils$CharacterBuffer.class\n",
            " inflated: org/openkoreantext/processor/util/CharacterUtils$Java4CharacterUtils.class\n",
            " inflated: org/openkoreantext/processor/util/CharacterUtils$Java5CharacterUtils.class\n",
            " inflated: org/openkoreantext/processor/util/CharacterUtils.class\n",
            " inflated: org/openkoreantext/processor/util/CharArrayMap$1.class\n",
            " inflated: org/openkoreantext/processor/util/CharArrayMap$EmptyCharArrayMap.class\n",
            " inflated: org/openkoreantext/processor/util/CharArrayMap$EntryIterator.class\n",
            " inflated: org/openkoreantext/processor/util/CharArrayMap$EntrySet.class\n",
            " inflated: org/openkoreantext/processor/util/CharArrayMap$MapEntry.class\n",
            " inflated: org/openkoreantext/processor/util/CharArrayMap$UnmodifiableCharArrayMap.class\n",
            " inflated: org/openkoreantext/processor/util/CharArrayMap.class\n",
            " inflated: org/openkoreantext/processor/util/CharArraySet.class\n",
            " inflated: org/openkoreantext/processor/util/example_chunks.txt\n",
            " inflated: org/openkoreantext/processor/util/example_tweets.txt\n",
            " inflated: org/openkoreantext/processor/util/freq/entity-freq.txt.gz\n",
            " inflated: org/openkoreantext/processor/util/Hangul$.class\n",
            " inflated: org/openkoreantext/processor/util/Hangul$DoubleCoda$.class\n",
            " inflated: org/openkoreantext/processor/util/Hangul$DoubleCoda.class\n",
            " inflated: org/openkoreantext/processor/util/Hangul$HangulChar$.class\n",
            " inflated: org/openkoreantext/processor/util/Hangul$HangulChar.class\n",
            " inflated: org/openkoreantext/processor/util/Hangul.class\n",
            " inflated: org/openkoreantext/processor/util/josa/josa.txt\n",
            " inflated: org/openkoreantext/processor/util/KoreanConjugation$.class\n",
            " inflated: org/openkoreantext/processor/util/KoreanConjugation.class\n",
            " inflated: org/openkoreantext/processor/util/KoreanDictionaryProvider$.class\n",
            " inflated: org/openkoreantext/processor/util/KoreanDictionaryProvider.class\n",
            " inflated: org/openkoreantext/processor/util/KoreanPos$.class\n",
            " inflated: org/openkoreantext/processor/util/KoreanPos$KoreanPosTrie$.class\n",
            " inflated: org/openkoreantext/processor/util/KoreanPos$KoreanPosTrie.class\n",
            " inflated: org/openkoreantext/processor/util/KoreanPos.class\n",
            " inflated: org/openkoreantext/processor/util/KoreanSubstantive$.class\n",
            " inflated: org/openkoreantext/processor/util/KoreanSubstantive.class\n",
            " inflated: org/openkoreantext/processor/util/noun/bible.txt\n",
            " inflated: org/openkoreantext/processor/util/noun/company_names.txt\n",
            " inflated: org/openkoreantext/processor/util/noun/congress.txt\n",
            " inflated: org/openkoreantext/processor/util/noun/entities.txt\n",
            " inflated: org/openkoreantext/processor/util/noun/foreign.txt\n",
            " inflated: org/openkoreantext/processor/util/noun/geolocations.txt\n",
            " inflated: org/openkoreantext/processor/util/noun/kpop.txt\n",
            " inflated: org/openkoreantext/processor/util/noun/lol.txt\n",
            " inflated: org/openkoreantext/processor/util/noun/names.txt\n",
            " inflated: org/openkoreantext/processor/util/noun/nouns.txt\n",
            " inflated: org/openkoreantext/processor/util/noun/pokemon.txt\n",
            " inflated: org/openkoreantext/processor/util/noun/profane.txt\n",
            " inflated: org/openkoreantext/processor/util/noun/slangs.txt\n",
            " inflated: org/openkoreantext/processor/util/noun/spam.txt\n",
            " inflated: org/openkoreantext/processor/util/noun/twitter.txt\n",
            " inflated: org/openkoreantext/processor/util/noun/wikipedia_title_nouns.txt\n",
            " inflated: org/openkoreantext/processor/util/substantives/family_names.txt\n",
            " inflated: org/openkoreantext/processor/util/substantives/given_names.txt\n",
            " inflated: org/openkoreantext/processor/util/substantives/modifier.txt\n",
            " inflated: org/openkoreantext/processor/util/substantives/suffix.txt\n",
            " inflated: org/openkoreantext/processor/util/typos/typos.txt\n",
            " inflated: org/openkoreantext/processor/util/verb/eomi.txt\n",
            " inflated: org/openkoreantext/processor/util/verb/pre_eomi.txt\n",
            " inflated: org/openkoreantext/processor/util/verb/verb.txt\n",
            " inflated: org/openkoreantext/processor/util/verb/verb_prefix.txt\n",
            "  created: META-INF/maven/\n",
            "  created: META-INF/maven/org.openkoreantext/\n",
            "  created: META-INF/maven/org.openkoreantext/open-korean-text/\n",
            " inflated: META-INF/maven/org.openkoreantext/open-korean-text/pom.xml\n",
            " inflated: META-INF/maven/org.openkoreantext/open-korean-text/pom.properties\n"
          ]
        }
      ]
    },
    {
      "cell_type": "code",
      "source": [
        "# 사용자 사전 열기\n",
        "with open(f\"/usr/local/lib/python3.10/dist-packages/konlpy/java/temp_fix/org/openkoreantext/processor/util/noun/names.txt\") as f:\n",
        "    data = f.read()"
      ],
      "metadata": {
        "id": "v5SXhXfuW-As"
      },
      "execution_count": null,
      "outputs": []
    },
    {
      "cell_type": "code",
      "source": [
        "#gongji\n",
        "data += \"한국외국어대학교\\n한국외대\\n안내\\종합정보시스템\\공고\\n이수\\n학기\\n대하여\\n아래\\n수강편람\\n이중전공\\n수강신청함\\n수강신청\\n예비수강신청\\n교무처장\\n수강료\\n등록기간\\n수강신청자\\n한하다\\n미수강신청자\\n납부불가\\n핫링크\\n고지서출력\\n가상계좌\\n붙임파일\\n모바일앱\\n내역\\n인터넷뱅킹\\n텔레뱅킹\\n개시일\\n신청\\n마감\\n마감일\\n수강취소\\n수강변경\\종합정보화면\\n계절학기\\n부분환불\\n계절학기\\학년도\\n접수일\\n학석사\\n학사\\n석사\\n연계\\n과정생\\n접수처\\n학사종합지원센터\\n양캠퍼스\\n통번역\\n이수\\n미배정\\n부전공\\여석\\n이수\\n지원\\n학사종합지원센터\\n한국예술종합학교\\n특성화\\n수강편람\\n실용외국어\\n공동교양\\n여석\\졸업\\n사정\\n결과\\n확정자\\n불가자\\n개강일\\n우리대학교\\n우리대학\\n안내문\\n학위\\n학위증\\n코로나바이러스\\n신종코로나바이러스\\nHUFS\\n양캠퍼스\\n서울캠퍼스\\n글로벌캠퍼스\\n서울글로벌캠퍼스\\n서울·글로벌캠퍼스\\n우리은행\\n단과대학\\n졸업시험\\n논문\\n제적\\n졸업요건\\n지역학사\\n지역전문가과정\\n수료졸업대기\\nELLT학과\\n영어학과\\n아랍어과\\n미디어커뮤니케이션학부\\n영어전공\\n영미문학문화학과\\n태국어과\\n경제학부\\nEICC학과\\n영어통번역학과\\n베트남어과\\n국제통상학과\\이란어과\\n경영학부\\n프랑스어학부\\n인도어과\\n영어교육과\\n독일어과\\n터키아제르바이잔어과\\n프랑스어교육과\\n노어과\\n몽골어과\\n독일어교육과\\n스페인어과\\n중국언어문화학부\\n한국어교육과\\n이탈리아어과\\n중국외교통상학부\\n국제학부\\n포르투갈어과\\n그리스불가리아학과\\n일본언어문화학부\\n사회과학전공\\n네덜란드어과\\n융합일본지역학부\\nLD전공\\n스칸디나비아어과\\n정치외교학과\\nLT전공\\n말레이인도네시아어과\\n행정학과\\n서양어대학\\n아시아언어문화대학\\n중국어대학\\n일본어대학\\n사회과학\\n상경\\n경영\\n국제학부\\n사회과학전공\\n사범대학\\n교직\\\n",
        "n실용외국어\\n군입대\\n입영통지서\\n미비\\n미충족\\n등록휴학\\n휴학\\n전역일\\n증빙서류\\n1학기\\n2학기\\n개강\\n종강\\n학사일정\\n행사명\\n조치사항\\n참고사항\\n공고\\n부서명\\n학년도\\n개설학과\\n학수번호\\교과목명\\시간\\n교강사명\\n강의시간\\n폐강공고\\n일정\\n단과대\\n배부처\\n문의\\n동유럽학대학\\n국제지역대학\\n어문학관\\n통번역대학\\n인문대학\\n경상대학\\n자연과학대학\\n학생회관\\n공과대학\\n바이오메디컬공학부\\n졸업증명서\\n문의\\n전화\\문의전화\\n원스톱서비스센터\\n졸업예정증명서\\n편입생\\n신입생\\n신편입생\\n아래\\nQR코드\\n지양하다\\n투명성\\n공정성\\n외국인교환학생\\n외국인방문학생\\n첫학기\\n영어진단평가\\n원격\\n비대면\\ne-Class\\neclass\\n이클래스\\n안내하다\\n전자출결\\n전자출결시스템\\n체계적인\\n엄정성\\n공고\\n코로나19\\n일반휴학\\n신청\\n별도문의\\nCOVID-19\\nCovid19\\covid19\\n중간시험\\기말시험\\n응시인원\\nCommunicativeEnglish\\nLS\\nL/S\\n우리대학\\n콜로키움\\nEU연구소\\n인문사회연구사업단\\n온·오프라인\\n온오프라인\\nHK+사업단\\n국제관\\n인도연구소\\n패널티\\n수습국원\\n추가모집\\n게시물\\n외대교육방송국\\n교수학습개발원\\nFBS\\주한브라질대사관\\n세계여성의날\\스마트도서관\\n휠라아쿠쉬네트홀\\n영화\\n상영\\n한국어자막\\대학혁신지원사업\\n아이디어톤\\n수도권역\\n미래대학투모로우솔루션\\n미네르바헬스장\\n교육생\\n휴관\\n금모닝\\n글로벌캠퍼스\\n누구나\\n회차별\\n보건실\\n대한적십자사\\n헌혈증\\n헌혈자\\n성격유형검사\\n핵심역량통합관리시스템\\nHufsability\\n교과\\n비교과\\n서울학생상담센터\\n추후공지\\n청년몽땅정보통\\n마이페이지\\n문의처\\n다산콜센터\\특별전형\\n일반전형\\n면접전형\\n등록예치금\\n예치금\\n모집\\n학과\\n전공\\nTESOL대학원\\n세미오시스연구센터\\n서울학생상담센터\\n전문\\n경영대학원\\n해당일\\n접수마감일\\n해당학기\\n졸업자\\n졸업예정자\\n외국대학\\\n",
        "n소지자\\n한국어능력시험\\n입증서류\\n출신학교\\n주한공관영사\\n입증서류\\n학사학위\\n학사\\n최종학력\\n증명\\n학위증서\\n개인정보이용및제공동의서\\n기타서류\\n해당자\\n추천서\\n경력증명서\\n외국국적지원자\\n성적증명서\\n총점\\n사이버외대\\n군인공제회직원\\n학교교직원\\n첫학기\\n입학금\\n운영위원회\\n전형료\\n우편접수\\n입학원서\\n본인날인\\n서명함\\n수험표\\n지참\\n제출서류\\n외국어교육센터\\nK-Zone\\nNoshow\\n출석차감\\n1교시\\n2교시\\n3교시\\n4교시\\n5교시\\n6교시\\n7교시\\n8교시\\n9교시\\n10교시\\n11교시\\n12교시\\n작문\\n대학영어\\n중간시험\\n보충수업\\n추가모집\\n창업자\\nAI/SW\\n모집공고\\n모집분야\\n일반창업\\n스펙업\\n졸업대기자\\n수료생\\nSW중심대학사업단\\nAI교육원\\nSW관련학과\\n컴퓨터공학부\\n정보통신공학부\\nGBT전공\\nELLT학과\\nAI융합전공\\n데이터사이언스전공\\n바이오데이터사이언스전공\\nICT&AI세부모듈\\n수혜제외\\n초과학기생\\n초과학기\\n9학기\\n1학기\\n2학기\\n3학기\\n4학기\\n5학기\\n6학기\\n7학기\\n8학기\\n지원사항\\n팀별\\n개인별\\n사업자등록증\\\n",
        "n최종보고서\\n학기말\\n학기초\\n전세계\\n삼성그룹\\nLG그룹\\n주기적\\n인증테스트\\n비교과\\n굿즈\\n코로나19\\n경제적\\n지원\\n타지역\\n이에\\n랜선나눔캠퍼스\\n활동개요\\n신청기간\\n비합격\\n비선발자\\n최종합격자\\n활동불가자\\n활동혜택\\n자기소개서\\n1부\\n학습계획서\\n증빙자료\\n재학증명서\\n1차합격\\n2차합격\\n스캔\\n활동비\\소득세\\n지방소득세\\n문의처\\n추후공지\\n공공인재개발원\\n개인사물함\\n행정입법고시\\n2차모의고사\\n수험서적\\n사민재\\n세미나실\\n국제학생회\\n본교생\\n외국인교환학생\\n정기총회\\n뵨교재학생\\n버디프로그램\\n홍보팀\\n 기획컬처팀\\n국제교류처\\n국제교류처장\\n불합격자\\n코로나-19\\n양성판정\\n음성판정\\n양성\\n음성\\n최종합격자\\nQ&A\\n필참\\n퇴출\\n정기활동\\n이메일접수\\n시험일정\\n구분\\n시간\\n비고\\n시험장소\\n입실완료\\n인문과학관\\n졸업유예생\\n학부생들\\n코로나-19\\n글로벌캠퍼스\\n보건실\\n학생부종합전형\\n합격수기\\n선배들\\n글로벌창업지원단\\n창업인재양성센터\\n창업동아리\\n미디어커뮤니케이션대학원\\n대학원장\\nCulture&Technology융합대학\\\n",
        "n지원자격\\n지원서\\n접수\\n평가요소\\n영자신문사\\nTheArgus\\n수습기자\\n디아거스\\n공식홈페이지\\n공식인스타그램\\n사회봉사센터\\n국제학사\\n우편접수\\n서울시동대문구이문로107\\n대학안전관리계획\\n붙임팡리\\n안전보건관리팀\\n동원번역상\\n\"\n",
        "\n",
        "# janhak\n",
        "data += '한국외국어대학교\\n한국외대\\n안내\\종합정보시스템\\공고\\n이수\\n학기\\n대하여\\장학재단\\n장학생\\n지원불가\\n자녀학자금\\n다자녀\\n지자체\\nHUFS앱\\n한국외대앱\\n부모\\n인문사회계열\\n제출서류\\n장학생신청서\\n추천서\\n추천소견\\n총장직인\\n자기소개서\\n전공분야\\n학습계획\\n졸업후진로\\n자유양식\\nA4\\n이내\\n주민등록등본\\n개인정보\\n기초생활수급권자\\n기초생활수급자증명서\\n기초생활수급자\\차상위계층\\n모자가정\\n부자가정\\n주민센터\\n한부모가정\\n건강보험증\\n건강보험자격확인서\\n과세자\\n급여생활자\\n원천징수\\n근로소득\\근무처\\n비사업자\\n수상내역\\n어학성적\\n입상경력증명서\\n봉사활동내역확인서\\n심신장애증명서\\n장애인등록수첩\\n장애인카드\\n직계가족\\n임대차계약서\\n학생지원팀\\n무이자\\n농어업인\\n농어업\\n융자금\\n정규학기\\n건강보험료\\n한국장학재단\\n학자금대출\\n지원자격\\n직전학기\\n학부모\\n1구간\\n2구간\\n3구간\\4구간\\n5구간\\n6구간\\n7구간\\n8구간\\n9구간\\n10구간\\n지원대상\\n다문화가족\\n다자녀가구\\n소득구간\\n거주자\\n4년제\\n정규대학\\n중증\\n석박사\\n이공계\\n직전학기\\n등록금납입영수증\\n등록금납입\\n통장사본\\n기획홍보팀\\n사회복지사\\n학생인재개발처\\n추가등록\\n등록기간\\n\\n법인사무처\\n사업관리팀\\\n",
        "n서울시 동대문구 이문로 107\\n등기부등본\\n인감 도장\\n설명회\\n제고\\n임대환경\\n관리비\\n전세\\n가감율\\\n",
        "n수수료율\\n총액\\n전후\\n점수\\n기타사항\\n발주처\\n제3자\\n대원빌딩\\n서울특별시 테헤란로 98길 11\\n근린 생활 시설\\\n",
        "n리모델링\\nBRICs(브릭스)전공\\nEU(유럽연합)전공\\n동북아외교통상전공\\n문화콘텐츠학전공\\n국가리더전공\\n세계문화예술경영전공\\n디지털인문한국학전공\\nAI융합전공\\n데이터사이언스전공\\n바이오데이터사이언스전공\\n상담·UX심리 융합전공\\n지역경제개발협력전공\\n보험계리학전공\\nCulture & Technology융합대학\\n바이오메디컬공학부\\n글로벌자유전공학부\\n기후변화융합학부\\n전략기획팀\\n예산조정팀\\n평가감사팀\\n국책사업통합추진단\\nIT개발팀(서울)\\nIT인프라팀(서울)\\n정보통신팀(글로벌)\\n디지털서비스팀(서울∙글로벌)\\n지식출판콘텐츠팀\\n혁신지원팀수강자\\n재무회계팀\\n학부생\\n재입학생\\n분할납부자\\n분할납부\\n졸업유예\\n졸업\\n장학팀\\n미취업자\\n건강보험\\n특별승인\\n자격요건\\n학생지원팀\\n동문\\n장학회\\n장학금명\\n학비조달\\n조달\\n소득구간확인서\\n봉사활동확인서\\n개인정보수집이용동의서\\n지원기간\\n제출방법\\n방문접수\\n장학팀\\n모현읍\\n외대로\\n수혜내역\\n수혜액\\n수혜\\n등록휴학생\\n재학증명서\\n건강보험료납부확인서\\n양식없음\\n종료일\\n국가근로\\n타대학생\\n백분위\\n학자금\\n지원구간\\n신청유형\\n상반기\\n하반기\\n운영\\n위원회\\n장학금\\n진흥원\\n울산시\\nHUFS\\n양캠퍼스\\n서울캠퍼스\\n글로벌캠퍼스\\n서울글로벌캠퍼스\\n서울·글로벌캠퍼스\\n우리은행\\n단과대학\\n졸업시험\\n논문\\n제적\\n졸업요건\\n지역학사\\n지역전문가과정\\n수료졸업대기\\nELLT학과\\n영어학과\\n아랍어과\\n미디어커뮤니케이션학부\\n영어전공\\n영미문학문화학과\\n태국어과\\n경제학부\\nEICC학과\\n영어통번역학과\\n베트남어과\\n국제통상학과\\이란어과\\n경영학부\\n프랑스어학부\\n인도어과\\n영어교육과\\n독일어과\\n터키아제르바이잔어과\\n프랑스어교육과\\n노어과\\n몽골어과\\n독일어교육과\\n스페인어과\\n중국언어문화학부\\n한국어교육과\\n이탈리아어과\\n중국외교통상학부\\n국제학부\\n포르투갈어과\\n그리스불가리아학과\\n일본언어문화학부\\n사회과학전공\\n네덜란드어과\\n융합일본지역학부\\nLD전공\\n스칸디나비아어과\\n정치외교학과\\nLT전공\\n말레이인도네시아어과\\n행정학과\\n서양어대학\\n아시아언어문화대학\\n중국어대학\\n일본어대학\\n사회과학\\n상경\\n경영\\n국제학부\\n사회과학전공\\n사범대학\\n교직\\n실용외국어\\n군입대\\n입영통지서\\n미비\\n미충족\\n등록휴학\\n휴학\\n전역일\\n증빙서류\\n1학기\\n2학기\\n개강\\n종강\\n학사일정\\n행사명\\n조치사항\\n참고사항\\n공고\\n부서명\\n학년도\\n개설학과\\n학수번호\\교과목명\\시간\\n교강사명\\n강의시간\\n폐강공고\\n일정\\n단과대\\n배부처\\n문의\\n동유럽학대학\\n국제지역대학\\n어문학관\\n통번역대학\\n인문대학\\n경상대학\\n자연과학대학\\n학생회관\\n공과대학\\n바이오메디컬공학부\\n졸업증명서\\n문의\\n전화\\문의전화\\n원스톱서비스센터\\n졸업예정증명서\\n편입생\\n신입생\\n신편입생\\n아래\\nQR코드\\n지양하다\\n비고\\n입학금\\n기타\\n코딩존\\n기초과학연구소\\n정보산업공학연구소\\n'\n",
        "\n",
        "# haksa\n",
        "data += \"한국외국어대학교\\n한국외대\\n안내\\종합정보시스템\\공고\\n이수\\n학기\\n대하여\\장학재단\\n장학생\\n지원불가\\n자녀학자금\\n다자녀\\n지자체\\nHUFS앱\\n한국외대앱\\n부모\\n인문사회계열\\n제출서류\\n장학생신청서\\n추천서\\n추천소견\\n총장직인\\n자기소개서\\n전공분야\\n학습계획\\n졸업후진로\\n자유양식\\nA4\\n이내\\n주민등록등본\\n개인정보\\n기초생활수급권자\\n기초생활수급자증명서\\n기초생활수급자\\차상위계층\\n모자가정\\n부자가정\\n주민센터\\n한부모가정\\n건강보험증\\n건강보험자격확인서\\n과세자\\n급여생활자\\n원천징수\\n근로소득\\근무처\\n비사업자\\n수상내역\\n어학성적\\n입상경력증명서\\n봉사활동내역확인서\\n심신장애증명서\\n장애인등록수첩\\n장애인카드\\n직계가족\\n임대차계약서\\n학생지원팀\\n무이자\\n농어업인\\n농어업\\n융자금\\n정규학기\\n건강보험료\\n한국장학재단\\n학자금대출\\n지원자격\\n직전학기\\n학부모\\n1구간\\n2구간\\n3구간\\4구간\\n5구간\\n6구간\\n7구간\\n8구간\\n9구간\\n10구간\\n지원대상\\n다문화가족\\n다자녀가구\\n소득구간\\n거주자\\n4년제\\n정규대학\\n중증\\n석박사\\n이공계\\n직전학기\\n등록금납입영수증\\n등록금납입\\n통장사본\\n기획홍보팀\\n사회복지사\\n학생인재개발처\\n추가등록\\n등록기간\\n\\n법인사무처\\n사업관리팀\\\n",
        "n서울시 동대문구 이문로 107\\n등기부등본\\n인감 도장\\n문의전화\\n설명회\\n제고\\n임대환경\\n관리비\\n전세\\n가감율\\\n",
        "n수수료율\\n\\n영어통번역학부총액\\n전후\\n점수\\n기타사항\\n발주처\\n제3자\\n대원빌딩\\n서울특별시 테헤란로 98길 11\\n근린 생활 시설\\\n",
        "n리모델링\\nBRICs(브릭스)전공\\n글로벌역학과정\\nEU(유럽연합)전공\\n동북아외교통상전공\\n문화콘텐츠학전공\\n국가리더전공\\n세계문화예술경영전공\\n디지털인문한국학전공\\nAI융합전공\\n데이터사이언스전공\\\n",
        "n바이오데이터사이언스전공\\n상담·UX심리 융합전공\\n중앙아시아지역학과\\n지역경제개발협력전공\\n보험계리학전공\\nCulture & Technology융합대학\\n바이오메디컬공학부\\n글로벌자유전공학부\\n기후변화융합학부\\n전략기획팀\\n예산조정팀\\n평가감사팀\\n국책사업통합추진단\\nIT개발팀(서울)\\nIT인프라팀(서울)\\n정보통신팀(글로벌)\\n디지털서비스팀(서울∙글로벌)\\n지식출판콘텐츠팀\\n혁신지원팀수강자\\n재무회계팀\\n학부생\\n재입학생\\n분할납부자\\n분할납부\\n졸업유예\\n졸업\\n장학팀\\n미취업자\\n건강보험\\n특별승인\\n자격요건\\n학생지원팀\\n동문\\n장학회\\n장학금명\\n학비조달\\n조달\\n소득구간확인서\\n봉사활동확인서\\n개인정보수집이용동의서\\n지원기간\\n제출방법\\n방문접수\\n장학팀\\n모현읍\\n외대로\\n수혜내역\\n수혜액\\n수혜\\\n",
        "n등록휴학생\\n재학증명서\\n건강보험료납부확인서\\n양식없음\\n종료일\\n국가근로\\n타대학생\\n백분위\\n학자금\\n지원구간\\n신청유형\\n상반기\\n하반기\\n운영\\n위원회\\n장학금\\n진흥원\\n울산시\\nHUFS\\n양캠퍼스\\n서울캠퍼스\\n글로벌캠퍼스\\n서울글로벌캠퍼스\\n서울·글로벌캠퍼스\\n우리은행\\n단과대학\\n졸업시험\\n논문\\n제적\\n졸업요건\\n지역학사\\n지역전문가과정\\n수료졸업대기\\nELLT학과\\n영어학과\\n아랍어과\\n미디어커뮤니케이션학부\\n영어전공\\n영미문학문화학과\\n태국어과\\n경제학부\\nEICC학과\\n영어통번역학과\\n베트남어과\\n국제통상학과\\이란어과\\n경영학부\\n프랑스어학부\\n인도어과\\n영어교육과\\n독일어과\\n터키아제르바이잔어과\\n프랑스어교육과\\n노어과\\n몽골어과\\n독일어교육과\\n스페인어과\\n중국언어문화학부\\n한국어교육과\\n이탈리아어과\\n중국외교통상학부\\n국제학부\\n포르투갈어과\\n그리스불가리아학과\\n일본언어문화학부\\n사회과학전공\\n네덜란드어과\\n융합일본지역학부\\nLD전공\\n스칸디나비아어과\\n정치외교학과\\nLT전공\\n말레이인도네시아어과\\n행정학과\\n서양어대학\\n아시아언어문화대학\\n중국어대학\\n일본어대학\\n사회과학\\n상경\\n경영\\n국제학부\\n사회과학전공\\n사범대학\\n교직\\n실용외국어\\n군입대\\n입영통지서\\n미비\\n미충족\\n등록휴학\\n휴학\\n전역일\\n증빙서류\\n1학기\\n2학기\\n개강\\n종강\\n학사일정\\n행사명\\n조치사항\\n참고사항\\n공고\\n부서명\\n학년도\\n개설학과\\n학수번호\\교과목명\\시간\\n교강사명\\n강의시간\\n폐강공고\\n일정\\n단과대\\n배부처\\n문의\\n동유럽학대학\\n국제지역대학\\n어문학관\\n통번역대학\\n인문대학\\\n",
        "n경상대학\\n자연과학대학\\n학생회관\\n공과대학\\n바이오메디컬공학부\\n졸업증명서\\n문의\\n전화\\문의전화\\n원스톱서비스센터\\n졸업예정증명서\\n편입생\\n신입생\\n신편입생\\n아래\\nQR코드\\n지양하다\\n비고\\n입학금\\n기타\\n코딩존\\n기초과학연구소\\n정보산업공학연구소\\n행정지원처장\\n\"\n",
        "\n",
        "\n",
        "# hiring\n",
        "data += \"모집공고\\n지원자격\\n일반사항\\n국제학사장\\n영어학부\\n전임조교\\n사이버외대\\n사이버한국외국어대학교\\n주요업무\\n행정업무\\n신청기한\\n개인정보수집이용제공동의서\\유첨파일\\n지원사업\\n모집분야\\n사회\\n문화\\n역사\\n4대보험\\n급여조건\\n근무시간\\n근무조건\\n채용\\n채용예정일\\n적격자\\n인사팀\\n구직자\\n공정화\\n시행규칙\\n근무\\n여름학기\\n겨울학기\\n기재내용\\n행정지원처장\\n결격사유\\n서류전형\\n학술정보팀\\n근무지\\n적임자\\n계약직\\n학생인재개발처\\n진로취업센터\\n개별연락\\n풀근무\\n선발\\n우선선발\\n외국어연수평가원\\n국제교육원\\n인력풀\\n시수\\n행정지원처장\\n인사팀\\n계약직\\n허위사실\\n기타문의\\n입사지원서\\n행정지원처장\\n서울런\\n캠프\\n한국인\\n보조교사\\n서류합격자\\n합격자\\n면접\\n한국외국어대학교\\n한국외대\\n계약직\\n사업본부운영1팀\\n외국어연수평가원\\n세르반테스문화원\\n사업지원팀\\n국제입학관리팀\\nFULLTIME\\n근무 학기\\n기숙사생\\n기숙사비품\\n소모품\\n공과금고지서\\n민원\\n담당 업무\\n근무 기간\\n근무 혜택\\n기숙사비\\n선 납부\\n근무 종료\\n장학금\\n지원서\\n기타\\n문의사항\\n한국어문화교육원\\n인사팀\\n학생상담센터\\n인문데이터연구센터\\n중남미연구소\\n산업경영공학과\\n공통지원자격\\n직원인사규정\\n결격사유\\n채용 조건\\n글로벌 캠퍼스\\n학사종합지원센터\\n용인시 처인구\\n단축근무\\n계약연장\\n계약기간\\n만료\\n근무성적평가\\n일정기간\\n통근버스\\n버스탑승\\n서류전형\\n심층면접\\n소정양식\\n인터넷 접수\\n입사지원서\\n자기소개서\\n자격증\\n경력사항\\n취업보호대상자\\n해당자\\n본교\\본교 홈페이지\\n채용시스템\\n공고문\\n바로가기 배너\\n피성년후견인\\n금고 이상의 형\\n병역기피자\\n신체검사결과\\n부적당\\n부적합\\n기재내용\\n허위 사실\\n허위사실\\n기타 문의\\n인사팀\\n행정지원처장\\n전임강사\\n채용분야\\n인원\\n한국어문화교육원\\n전임강사\\n외국어로서의한국어교육\\n공통지원자격\\n사업본부\\n임용기준\\n성 관련 범죄\\n박사학위\\n외국어로서의 한국어교육전공\\n부속기관\\한국어교원자격증\\n자격증\\n발행기관\\n책임시간\\n서울캠퍼스\\n채용일\\n추후 협의\\n증빙서류\\n제출목록\\n지원서\\n온라인지원\\n졸업증명서\\n성적증명서\\n학사\\n석사\\n박사\\n업로드\\n성범죄 경력조회서\\n경력증명서\\n발급본\\n지원 기간\\n접수 방법\\n사업본부\\n개별 통보\\n개별 통지\\n연구보조원\\n숙련자\\n웹페이지\\nKMOOC\\n인문사회계열\\n전형방법\\n서류전형\\n면접대상자\\n줌주소\\n실습데이터\\nZOOM데스크탑앱\\n포트폴리오\\n지원서 접수\\n압축파일\\nzip\\n학생상담센터\\n개인상담\\n집단상담\\n대학혁신지원사업\\n상담센터\\n석사학위\\n소지자\\n경력(재직)증명서\\n개인정보동의서\\n별첨양식\\n교직원 출퇴근 셔틀버스\\n출퇴근\\n교직원\\n이문동\\n잠실\\n분당\\n노선\\n오피스\\n스페인어\\n포르투갈어\\n석사\\n재학생\\nHK연구소\\n중남미연구소\\n내부규정\\n급여\\n계약기간\\n교내외장학금\\n사회 배려계층\\n교무행정팀\\n객원상담원\\n겸임교수\\n초빙교수\\n초빙공고\\n정보통신공학과\\n재공고\\n시설관리팀\\n수목관리\\n직원인사규정\\n제11조\\n임용결격사유\\n1종보통 운전면허\\n외국인학생\\n여름방학\\n민원응대\\n봉사장학금\\n장학금지급규정\\n등록금 범위내\\n국제학사\\nGlobeeDorm\\n학사운영팀\\n중국연구소\\n전임연구원\\n최종학위증명서\\n이력서\\n자율양식\\n경력증명서\\n채용예정일\\n지식출판콘텐츠원\\n채용공고\\n경영기획팀\\n행정\\n학사학위\\n국고사업\\n관련법\\n연구산학협력단\\n러시아연구소\\n초빙분야\\n세부전공\\n인센티브\\n4대 보험\\n한국연구재단\\n인문한국플로스지원사업\\n사립학교\\n해당 분야\\n기초심사\\n전공면접\\n경기도 용인시 처인구 모현면 외대로 81\\n국제사회교육원\\n러시아연구소\\n육아휴직\\n학술정보팀\\n퇴직금\\nTESOL\\nFLEX센터\\n능숙자\\nOA프로그램\\n영어회화\\n관련업무\\n유경험자\\n근무 가능자\\근무 가능\\n장학생\\n재학생\\n언어 능력\\n설명회\\n선착순\\n국제입학관리팀\\n\""
      ],
      "metadata": {
        "id": "ZD0DB88TW_1q"
      },
      "execution_count": null,
      "outputs": []
    },
    {
      "cell_type": "code",
      "source": [
        "# 파일 새롭게 저장\n",
        "with open(\"/usr/local/lib/python3.10/dist-packages/konlpy/java/temp_fix/org/openkoreantext/processor/util/noun/names.txt\", 'w') as f:\n",
        "    f.write(data)\n",
        "!jar cvf ../open-korean-text-2.1.0.jar *"
      ],
      "metadata": {
        "id": "ZAjsiBI5XCVG",
        "colab": {
          "base_uri": "https://localhost:8080/"
        },
        "outputId": "bcf139f6-3627-486f-8ca6-58996ffed41b"
      },
      "execution_count": null,
      "outputs": [
        {
          "output_type": "stream",
          "name": "stdout",
          "text": [
            "added manifest\n",
            "ignoring entry META-INF/\n",
            "ignoring entry META-INF/MANIFEST.MF\n",
            "adding: META-INF/maven/(in = 0) (out= 0)(stored 0%)\n",
            "adding: META-INF/maven/org.openkoreantext/(in = 0) (out= 0)(stored 0%)\n",
            "adding: META-INF/maven/org.openkoreantext/open-korean-text/(in = 0) (out= 0)(stored 0%)\n",
            "adding: META-INF/maven/org.openkoreantext/open-korean-text/pom.properties(in = 119) (out= 110)(deflated 7%)\n",
            "adding: META-INF/maven/org.openkoreantext/open-korean-text/pom.xml(in = 9127) (out= 2208)(deflated 75%)\n",
            "adding: org/(in = 0) (out= 0)(stored 0%)\n",
            "adding: org/openkoreantext/(in = 0) (out= 0)(stored 0%)\n",
            "adding: org/openkoreantext/processor/(in = 0) (out= 0)(stored 0%)\n",
            "adding: org/openkoreantext/processor/OpenKoreanTextProcessor.class(in = 4428) (out= 1997)(deflated 54%)\n",
            "adding: org/openkoreantext/processor/tools/(in = 0) (out= 0)(stored 0%)\n",
            "adding: org/openkoreantext/processor/tools/DeduplicateAndSortDictionaries$.class(in = 7154) (out= 3133)(deflated 56%)\n",
            "adding: org/openkoreantext/processor/tools/DeduplicateAndSortDictionaries.class(in = 1117) (out= 823)(deflated 26%)\n",
            "adding: org/openkoreantext/processor/tools/UpdateAllTheExamples.class(in = 1089) (out= 756)(deflated 30%)\n",
            "adding: org/openkoreantext/processor/tools/Runnable.class(in = 964) (out= 694)(deflated 28%)\n",
            "adding: org/openkoreantext/processor/tools/CreatePhraseExtractionExamples$PhraseExample.class(in = 3825) (out= 1443)(deflated 62%)\n",
            "adding: org/openkoreantext/processor/tools/CreateConjugationExamples$ConjugationExample.class(in = 3569) (out= 1415)(deflated 60%)\n",
            "adding: org/openkoreantext/processor/tools/CreateChunkParsingCandidates.class(in = 833) (out= 566)(deflated 32%)\n",
            "adding: org/openkoreantext/processor/tools/CreateParsingExamples$ParsingExample.class(in = 3718) (out= 1429)(deflated 61%)\n",
            "adding: org/openkoreantext/processor/tools/CreatePhraseExtractionExamples$.class(in = 5989) (out= 2472)(deflated 58%)\n",
            "adding: org/openkoreantext/processor/tools/CreatePhraseExtractionExamples$PhraseExample$.class(in = 2974) (out= 1020)(deflated 65%)\n",
            "adding: org/openkoreantext/processor/tools/UpdateAllTheExamples$.class(in = 4383) (out= 1794)(deflated 59%)\n",
            "adding: org/openkoreantext/processor/tools/CreateConjugationExamples$.class(in = 5881) (out= 2385)(deflated 59%)\n",
            "adding: org/openkoreantext/processor/tools/CreateParsingExamples$ParsingExample$.class(in = 2842) (out= 1010)(deflated 64%)\n",
            "adding: org/openkoreantext/processor/tools/CreatePhraseExtractionExamples.class(in = 2516) (out= 1784)(deflated 29%)\n",
            "adding: org/openkoreantext/processor/tools/CreateParsingExamples$.class(in = 5517) (out= 2327)(deflated 57%)\n",
            "adding: org/openkoreantext/processor/tools/CreateConjugationExamples.class(in = 2367) (out= 1659)(deflated 29%)\n",
            "adding: org/openkoreantext/processor/tools/CreateChunkParsingCandidates$.class(in = 5487) (out= 2305)(deflated 57%)\n",
            "adding: org/openkoreantext/processor/tools/CreateConjugationExamples$ConjugationExample$.class(in = 2787) (out= 997)(deflated 64%)\n",
            "adding: org/openkoreantext/processor/tools/CreateParsingExamples.class(in = 2427) (out= 1732)(deflated 28%)\n",
            "adding: org/openkoreantext/processor/KoreanPosJava.class(in = 2457) (out= 1241)(deflated 49%)\n",
            "adding: org/openkoreantext/processor/util/(in = 0) (out= 0)(stored 0%)\n",
            "adding: org/openkoreantext/processor/util/Hangul$HangulChar.class(in = 3185) (out= 1421)(deflated 55%)\n",
            "adding: org/openkoreantext/processor/util/CharArrayMap$EntryIterator.class(in = 3118) (out= 1270)(deflated 59%)\n",
            "adding: org/openkoreantext/processor/util/CharArrayMap$EntrySet.class(in = 2788) (out= 1181)(deflated 57%)\n",
            "adding: org/openkoreantext/processor/util/josa/(in = 0) (out= 0)(stored 0%)\n",
            "adding: org/openkoreantext/processor/util/josa/josa.txt(in = 5219) (out= 1476)(deflated 71%)\n",
            "adding: org/openkoreantext/processor/util/KoreanPos$KoreanPosTrie.class(in = 4390) (out= 1610)(deflated 63%)\n",
            "adding: org/openkoreantext/processor/util/CharacterUtils$Java4CharacterUtils.class(in = 2577) (out= 1282)(deflated 50%)\n",
            "adding: org/openkoreantext/processor/util/KoreanSubstantive$.class(in = 14990) (out= 6195)(deflated 58%)\n",
            "adding: org/openkoreantext/processor/util/Hangul$HangulChar$.class(in = 2389) (out= 1022)(deflated 57%)\n",
            "adding: org/openkoreantext/processor/util/KoreanPos$KoreanPosTrie$.class(in = 3157) (out= 1089)(deflated 65%)\n",
            "adding: org/openkoreantext/processor/util/CharacterUtils$Java5CharacterUtils.class(in = 2824) (out= 1393)(deflated 50%)\n",
            "adding: org/openkoreantext/processor/util/substantives/(in = 0) (out= 0)(stored 0%)\n",
            "adding: org/openkoreantext/processor/util/substantives/suffix.txt(in = 325) (out= 224)(deflated 31%)\n",
            "adding: org/openkoreantext/processor/util/substantives/modifier.txt(in = 3395) (out= 1346)(deflated 60%)\n",
            "adding: org/openkoreantext/processor/util/substantives/family_names.txt(in = 299) (out= 197)(deflated 34%)\n",
            "adding: org/openkoreantext/processor/util/substantives/given_names.txt(in = 1407) (out= 609)(deflated 56%)\n",
            "adding: org/openkoreantext/processor/util/CharArrayMap.class(in = 11923) (out= 4878)(deflated 59%)\n",
            "adding: org/openkoreantext/processor/util/CharArrayMap$1.class(in = 1531) (out= 571)(deflated 62%)\n",
            "adding: org/openkoreantext/processor/util/auxiliary/(in = 0) (out= 0)(stored 0%)\n",
            "adding: org/openkoreantext/processor/util/auxiliary/determiner.txt(in = 63) (out= 63)(deflated 0%)\n",
            "adding: org/openkoreantext/processor/util/auxiliary/exclamation.txt(in = 1759) (out= 757)(deflated 56%)\n",
            "adding: org/openkoreantext/processor/util/auxiliary/conjunctions.txt(in = 398) (out= 189)(deflated 52%)\n",
            "adding: org/openkoreantext/processor/util/adjective/(in = 0) (out= 0)(stored 0%)\n",
            "adding: org/openkoreantext/processor/util/adjective/adjective.txt(in = 27250) (out= 9357)(deflated 65%)\n",
            "adding: org/openkoreantext/processor/util/Hangul.class(in = 3981) (out= 2731)(deflated 31%)\n",
            "adding: org/openkoreantext/processor/util/example_chunks.txt(in = 522978) (out= 163253)(deflated 68%)\n",
            "adding: org/openkoreantext/processor/util/KoreanSubstantive.class(in = 1336) (out= 1087)(deflated 18%)\n",
            "adding: org/openkoreantext/processor/util/KoreanDictionaryProvider$.class(in = 20197) (out= 7488)(deflated 62%)\n",
            "adding: org/openkoreantext/processor/util/verb/(in = 0) (out= 0)(stored 0%)\n",
            "adding: org/openkoreantext/processor/util/verb/verb.txt(in = 32758) (out= 10723)(deflated 67%)\n",
            "adding: org/openkoreantext/processor/util/verb/pre_eomi.txt(in = 285) (out= 185)(deflated 35%)\n",
            "adding: org/openkoreantext/processor/util/verb/verb_prefix.txt(in = 47) (out= 52)(deflated -10%)\n",
            "adding: org/openkoreantext/processor/util/verb/eomi.txt(in = 12618) (out= 3556)(deflated 71%)\n",
            "adding: org/openkoreantext/processor/util/adverb/(in = 0) (out= 0)(stored 0%)\n",
            "adding: org/openkoreantext/processor/util/adverb/adverb.txt(in = 65572) (out= 18741)(deflated 71%)\n",
            "adding: org/openkoreantext/processor/util/KoreanConjugation$.class(in = 22440) (out= 7972)(deflated 64%)\n",
            "adding: org/openkoreantext/processor/util/Hangul$DoubleCoda.class(in = 2930) (out= 1348)(deflated 53%)\n",
            "adding: org/openkoreantext/processor/util/CharArrayMap$EmptyCharArrayMap.class(in = 2053) (out= 725)(deflated 64%)\n",
            "adding: org/openkoreantext/processor/util/Hangul$.class(in = 7625) (out= 3114)(deflated 59%)\n",
            "adding: org/openkoreantext/processor/util/KoreanDictionaryProvider.class(in = 3430) (out= 2003)(deflated 41%)\n",
            "adding: org/openkoreantext/processor/util/typos/(in = 0) (out= 0)(stored 0%)\n",
            "adding: org/openkoreantext/processor/util/typos/typos.txt(in = 5146) (out= 2300)(deflated 55%)\n",
            "adding: org/openkoreantext/processor/util/example_tweets.txt(in = 86271) (out= 38336)(deflated 55%)\n",
            "adding: org/openkoreantext/processor/util/CharArrayMap$MapEntry.class(in = 2433) (out= 1078)(deflated 55%)\n",
            "adding: org/openkoreantext/processor/util/CharacterUtils$CharacterBuffer.class(in = 1634) (out= 659)(deflated 59%)\n",
            "adding: org/openkoreantext/processor/util/CharArraySet.class(in = 4886) (out= 1944)(deflated 60%)\n",
            "adding: org/openkoreantext/processor/util/CharArrayMap$UnmodifiableCharArrayMap.class(in = 3062) (out= 859)(deflated 71%)\n",
            "adding: org/openkoreantext/processor/util/KoreanPos$.class(in = 12173) (out= 4669)(deflated 61%)\n",
            "adding: org/openkoreantext/processor/util/KoreanPos.class(in = 6890) (out= 3877)(deflated 43%)\n",
            "adding: org/openkoreantext/processor/util/KoreanConjugation.class(in = 1550) (out= 1237)(deflated 20%)\n",
            "adding: org/openkoreantext/processor/util/freq/(in = 0) (out= 0)(stored 0%)\n",
            "adding: org/openkoreantext/processor/util/freq/entity-freq.txt.gz(in = 385753) (out= 385873)(deflated 0%)\n",
            "adding: org/openkoreantext/processor/util/noun/(in = 0) (out= 0)(stored 0%)\n",
            "adding: org/openkoreantext/processor/util/noun/pokemon.txt(in = 1781) (out= 965)(deflated 45%)\n",
            "adding: org/openkoreantext/processor/util/noun/profane.txt(in = 569) (out= 337)(deflated 40%)\n",
            "adding: org/openkoreantext/processor/util/noun/company_names.txt(in = 1631) (out= 905)(deflated 44%)\n",
            "adding: org/openkoreantext/processor/util/noun/congress.txt(in = 26494) (out= 9351)(deflated 64%)\n",
            "adding: org/openkoreantext/processor/util/noun/spam.txt(in = 202) (out= 157)(deflated 22%)\n",
            "adding: org/openkoreantext/processor/util/noun/nouns.txt(in = 219319) (out= 84134)(deflated 61%)\n",
            "adding: org/openkoreantext/processor/util/noun/bible.txt(in = 2032) (out= 1005)(deflated 50%)\n",
            "adding: org/openkoreantext/processor/util/noun/wikipedia_title_nouns.txt(in = 1971964) (out= 686708)(deflated 65%)\n",
            "adding: org/openkoreantext/processor/util/noun/names.txt(in = 21485) (out= 6439)(deflated 70%)\n",
            "adding: org/openkoreantext/processor/util/noun/geolocations.txt(in = 5423) (out= 2267)(deflated 58%)\n",
            "adding: org/openkoreantext/processor/util/noun/lol.txt(in = 1337) (out= 744)(deflated 44%)\n",
            "adding: org/openkoreantext/processor/util/noun/twitter.txt(in = 254) (out= 162)(deflated 36%)\n",
            "adding: org/openkoreantext/processor/util/noun/foreign.txt(in = 10485) (out= 4686)(deflated 55%)\n",
            "adding: org/openkoreantext/processor/util/noun/slangs.txt(in = 1565) (out= 921)(deflated 41%)\n",
            "adding: org/openkoreantext/processor/util/noun/kpop.txt(in = 5371) (out= 2495)(deflated 53%)\n",
            "adding: org/openkoreantext/processor/util/noun/entities.txt(in = 108142) (out= 44095)(deflated 59%)\n",
            "adding: org/openkoreantext/processor/util/CharacterUtils.class(in = 3703) (out= 1716)(deflated 53%)\n",
            "adding: org/openkoreantext/processor/util/Hangul$DoubleCoda$.class(in = 2155) (out= 963)(deflated 55%)\n",
            "adding: org/openkoreantext/processor/qa/(in = 0) (out= 0)(stored 0%)\n",
            "adding: org/openkoreantext/processor/qa/BatchGetUnknownNouns$.class(in = 8751) (out= 3532)(deflated 59%)\n",
            "adding: org/openkoreantext/processor/qa/BatchGetUnknownNouns$ChunkWithTweet.class(in = 3080) (out= 1338)(deflated 56%)\n",
            "adding: org/openkoreantext/processor/qa/BatchTokenizeTweets.class(in = 2720) (out= 2031)(deflated 25%)\n",
            "adding: org/openkoreantext/processor/qa/KoreanProcessorSandbox.class(in = 824) (out= 575)(deflated 30%)\n",
            "adding: org/openkoreantext/processor/qa/BatchTokenizeTweets$.class(in = 10867) (out= 4401)(deflated 59%)\n",
            "adding: org/openkoreantext/processor/qa/BatchTokenizeTweets$ParseTime$.class(in = 2418) (out= 1015)(deflated 58%)\n",
            "adding: org/openkoreantext/processor/qa/BatchTokenizeTweets$ParseTime.class(in = 3153) (out= 1446)(deflated 54%)\n",
            "adding: org/openkoreantext/processor/qa/KoreanProcessorSandbox$.class(in = 1464) (out= 823)(deflated 43%)\n",
            "adding: org/openkoreantext/processor/qa/BatchGetUnknownNouns.class(in = 2307) (out= 1702)(deflated 26%)\n",
            "adding: org/openkoreantext/processor/qa/BatchGetUnknownNouns$ChunkWithTweet$.class(in = 2376) (out= 952)(deflated 59%)\n",
            "adding: org/openkoreantext/processor/OpenKoreanTextProcessorJava.class(in = 5901) (out= 1995)(deflated 66%)\n",
            "adding: org/openkoreantext/processor/KoreanTokenJava.class(in = 1976) (out= 931)(deflated 52%)\n",
            "adding: org/openkoreantext/processor/tokenizer/(in = 0) (out= 0)(stored 0%)\n",
            "adding: org/openkoreantext/processor/tokenizer/KoreanChunker$.class(in = 17975) (out= 6790)(deflated 62%)\n",
            "adding: org/openkoreantext/processor/tokenizer/ParsedChunk$.class(in = 3973) (out= 1500)(deflated 62%)\n",
            "adding: org/openkoreantext/processor/tokenizer/KoreanTokenizer$CandidateParse$.class(in = 3459) (out= 1111)(deflated 67%)\n",
            "adding: org/openkoreantext/processor/tokenizer/KoreanTokenizer$KoreanToken$.class(in = 3976) (out= 1402)(deflated 64%)\n",
            "adding: org/openkoreantext/processor/tokenizer/TokenizerProfile.class(in = 16403) (out= 6666)(deflated 59%)\n",
            "adding: org/openkoreantext/processor/tokenizer/KoreanChunk$.class(in = 2361) (out= 1010)(deflated 57%)\n",
            "adding: org/openkoreantext/processor/tokenizer/KoreanTokenizer$PossibleTrie.class(in = 3399) (out= 1429)(deflated 57%)\n",
            "adding: org/openkoreantext/processor/tokenizer/KoreanSentenceSplitter$.class(in = 3359) (out= 1497)(deflated 55%)\n",
            "adding: org/openkoreantext/processor/tokenizer/KoreanTokenizer$KoreanToken.class(in = 6336) (out= 2633)(deflated 58%)\n",
            "adding: org/openkoreantext/processor/tokenizer/Sentence$.class(in = 2339) (out= 1012)(deflated 56%)\n",
            "adding: org/openkoreantext/processor/tokenizer/TokenizerProfile$.class(in = 8169) (out= 2408)(deflated 70%)\n",
            "adding: org/openkoreantext/processor/tokenizer/Sentence.class(in = 5985) (out= 3125)(deflated 47%)\n",
            "adding: org/openkoreantext/processor/tokenizer/KoreanTokenizer$PossibleTrie$.class(in = 2862) (out= 1067)(deflated 62%)\n",
            "adding: org/openkoreantext/processor/tokenizer/KoreanChunk.class(in = 5611) (out= 2907)(deflated 48%)\n",
            "adding: org/openkoreantext/processor/tokenizer/KoreanTokenizer$CandidateParse.class(in = 4616) (out= 1645)(deflated 64%)\n",
            "adding: org/openkoreantext/processor/tokenizer/KoreanTokenizer.class(in = 6968) (out= 4384)(deflated 37%)\n",
            "adding: org/openkoreantext/processor/tokenizer/KoreanChunker$ChunkMatch$.class(in = 2893) (out= 1136)(deflated 60%)\n",
            "adding: org/openkoreantext/processor/tokenizer/ParsedChunk.class(in = 20517) (out= 8914)(deflated 56%)\n",
            "adding: org/openkoreantext/processor/tokenizer/KoreanDetokenizer.class(in = 1660) (out= 1133)(deflated 31%)\n",
            "adding: org/openkoreantext/processor/tokenizer/KoreanChunker$ChunkMatch.class(in = 4043) (out= 1704)(deflated 57%)\n",
            "adding: org/openkoreantext/processor/tokenizer/KoreanSentenceSplitter.class(in = 1092) (out= 712)(deflated 34%)\n",
            "adding: org/openkoreantext/processor/tokenizer/KoreanDetokenizer$.class(in = 9889) (out= 4174)(deflated 57%)\n",
            "adding: org/openkoreantext/processor/tokenizer/KoreanChunker.class(in = 4232) (out= 2887)(deflated 31%)\n",
            "adding: org/openkoreantext/processor/tokenizer/KoreanTokenizer$.class(in = 25564) (out= 8451)(deflated 66%)\n",
            "adding: org/openkoreantext/processor/normalizer/(in = 0) (out= 0)(stored 0%)\n",
            "adding: org/openkoreantext/processor/normalizer/KoreanNormalizer.class(in = 2980) (out= 2181)(deflated 26%)\n",
            "adding: org/openkoreantext/processor/normalizer/KoreanNormalizer$Segment.class(in = 3470) (out= 1422)(deflated 59%)\n",
            "adding: org/openkoreantext/processor/normalizer/KoreanNormalizer$.class(in = 11553) (out= 5102)(deflated 55%)\n",
            "adding: org/openkoreantext/processor/normalizer/KoreanNormalizer$Segment$.class(in = 2577) (out= 989)(deflated 61%)\n",
            "adding: org/openkoreantext/processor/OpenKoreanTextProcessor$.class(in = 7716) (out= 2400)(deflated 68%)\n",
            "adding: org/openkoreantext/processor/phrase_extractor/(in = 0) (out= 0)(stored 0%)\n",
            "adding: org/openkoreantext/processor/phrase_extractor/KoreanPhraseExtractor$.class(in = 37855) (out= 12404)(deflated 67%)\n",
            "adding: org/openkoreantext/processor/phrase_extractor/KoreanPhraseExtractor$PhraseBuffer$.class(in = 3564) (out= 1087)(deflated 69%)\n",
            "adding: org/openkoreantext/processor/phrase_extractor/KoreanPhraseExtractor.class(in = 6005) (out= 3967)(deflated 33%)\n",
            "adding: org/openkoreantext/processor/phrase_extractor/KoreanPhraseExtractor$KoreanPhrase$.class(in = 3358) (out= 1148)(deflated 65%)\n",
            "adding: org/openkoreantext/processor/phrase_extractor/KoreanPhraseExtractor$KoreanPhrase.class(in = 6942) (out= 2591)(deflated 62%)\n",
            "adding: org/openkoreantext/processor/phrase_extractor/KoreanPhraseExtractor$PhraseBuffer.class(in = 4857) (out= 1609)(deflated 66%)\n",
            "adding: org/openkoreantext/processor/stemmer/(in = 0) (out= 0)(stored 0%)\n",
            "adding: org/openkoreantext/processor/stemmer/KoreanStemmer.class(in = 1439) (out= 972)(deflated 32%)\n",
            "adding: org/openkoreantext/processor/stemmer/KoreanStemmer$.class(in = 7044) (out= 2892)(deflated 58%)\n"
          ]
        }
      ]
    },
    {
      "cell_type": "markdown",
      "source": [
        "####  ======= 세션 새로 시작 ========"
      ],
      "metadata": {
        "id": "uWeXEJvLXElX"
      }
    },
    {
      "cell_type": "code",
      "source": [],
      "metadata": {
        "id": "WNA_KhOmXDUy"
      },
      "execution_count": null,
      "outputs": []
    },
    {
      "cell_type": "markdown",
      "source": [
        "## 함수 호출 및 클래스 로딩"
      ],
      "metadata": {
        "id": "blnnQ-7fXIlJ"
      }
    },
    {
      "cell_type": "code",
      "source": [
        "from fastapi import FastAPI\n",
        "# json 처리\n",
        "from fastapi.encoders import jsonable_encoder\n",
        "from fastapi import HTTPException\n",
        "from pydantic import ValidationError\n",
        "\n",
        "from pydantic import BaseModel\n",
        "from typing import List, Union,Dict\n",
        "#from konlpy.tag import Okt #상단에서 이미 완료\n",
        "import re\n",
        "from konlpy.tag import Okt\n",
        "import jpype\n",
        "from pyngrok import ngrok\n",
        "import nest_asyncio\n",
        "import uvicorn\n",
        "from textrank import KeysentenceSummarizer\n",
        "from fastapi.middleware.cors import CORSMiddleware\n",
        "import json\n",
        "\n",
        "# lovit 라이브러리에서 필요한 모듈 호출\n",
        "from textrank import KeysentenceSummarizer"
      ],
      "metadata": {
        "id": "sj3ZmTmDXKIU"
      },
      "execution_count": null,
      "outputs": []
    },
    {
      "cell_type": "code",
      "source": [
        "# 요약 클래스 선언 (~0613 전달용 코드)\n",
        "class Summarizer:\n",
        "    def __init__(self, stopwords_path: str, initialize: bool = True):\n",
        "        self.stopwords = self.load_stopwords(stopwords_path)\n",
        "        self.okt = None\n",
        "        self.summarizer = None\n",
        "        if initialize:\n",
        "            self.initialize_components()\n",
        "\n",
        "    def initialize_components(self):\n",
        "        self.okt = Okt()\n",
        "        self.summarizer = KeysentenceSummarizer(tokenize=self.okt_tokenize, min_sim=0.3)\n",
        "\n",
        "    def load_stopwords(self, stopwords_path: str) -> List[str]:\n",
        "        with open(stopwords_path, 'r') as f:\n",
        "            stopwords = [line.strip() for line in f]\n",
        "        return stopwords\n",
        "\n",
        "    def okt_tokenize(self, sent: str) -> List[str]:\n",
        "        words = self.okt.pos(sent, join=True)\n",
        "        words = [w for w in words if ('/Noun' in w or '/Adjective' in w or '/Verb' in w)]\n",
        "        return [word for word in words if word not in self.stopwords]\n",
        "\n",
        "    def is_foreign(self, text: str, korean_threshold: float = 0.3) -> bool:\n",
        "        if isinstance(text, list):\n",
        "            text = ' '.join(text)\n",
        "\n",
        "        text = text.strip()\n",
        "        if not text:\n",
        "            return False\n",
        "\n",
        "        total_chars = len(text)\n",
        "        korean_chars = len(re.findall('[가-힣]', text))\n",
        "\n",
        "        return korean_chars / total_chars < korean_threshold\n",
        "\n",
        "    def summarize_content(self, title: str, content: str) -> List[str]:\n",
        "        if self.is_foreign(content):\n",
        "            #return []\n",
        "            return \"자세한 내용은 본문을 참고하세요.\"\n",
        "\n",
        "        if not content:\n",
        "            return []\n",
        "\n",
        "        if isinstance(content, list):\n",
        "            content = ' '.join(content)\n",
        "\n",
        "        if not content.strip():\n",
        "            return []\n",
        "\n",
        "        # 따옴표 제거하기\n",
        "        content = content.replace('\"','').replace(\"'\",'')\n",
        "\n",
        "        sents = re.split(r'\\n|\\.', content)\n",
        "        sents = list(filter(None, sents))\n",
        "        sents = [sent for sent in sents if sent.strip()]\n",
        "\n",
        "        if not sents:\n",
        "            return []\n",
        "\n",
        "        if len(sents) < 4:\n",
        "            return sents\n",
        "\n",
        "        try:\n",
        "            keysents = self.summarizer.summarize(sents, topk=3)\n",
        "        except ValueError as e:\n",
        "            error_sent = \"자세한 내용은 본문을 참고하세요.\"\n",
        "            return [error_sent]\n",
        "\n",
        "        return [item[2] for item in keysents]"
      ],
      "metadata": {
        "id": "WZpKOVRTXPbh"
      },
      "execution_count": null,
      "outputs": []
    },
    {
      "cell_type": "markdown",
      "source": [
        "## stopwords 리스트 안에 넣기"
      ],
      "metadata": {
        "id": "wA1LXG70LQzY"
      }
    },
    {
      "cell_type": "code",
      "source": [
        "'''# Summarizer 인스턴스를 생성\n",
        "stopwords_path = '/content/stopwords_list.txt'  # 실제 경로로 변경해야 함\n",
        "\n",
        "def load_stopwords(stopwords_path: str):\n",
        "  with open(stopwords_path, 'r') as f:\n",
        "    stopwords = [line.strip() for line in f]\n",
        "    return stopwords\n",
        "\n",
        "stopwords = load_stopwords(stopwords_path)\n",
        "type(stopwords)'''"
      ],
      "metadata": {
        "id": "J0JpEhLhLS1V"
      },
      "execution_count": null,
      "outputs": []
    },
    {
      "cell_type": "code",
      "source": [
        "'''len(stopwords)'''"
      ],
      "metadata": {
        "id": "GWn6Hx3qNvRd"
      },
      "execution_count": null,
      "outputs": []
    },
    {
      "cell_type": "code",
      "source": [
        "'''for i in range (1):\n",
        "  print(stopwords)'''"
      ],
      "metadata": {
        "id": "9nYHjSdPOfOQ"
      },
      "execution_count": null,
      "outputs": []
    },
    {
      "cell_type": "code",
      "source": [
        "stopwords = ['경기도 용인시 처인구 모현읍 외대로 81 한국외국어대학교', '글로벌캠퍼스AI교육원', '관련학과', '운영지원', '기대효과', '당사', '우리대학', 'HK', '연구단', '이메일', '학사', '학생지원팀', '국제입학관리팀', '대학원사무1팀', '대학원사무2팀', '교무행정팀', '한국어문화교육원', '참고사항', '공고', '끝', '한국외국어대학교', '누구나', '누가나', 'e-mail', 'email', '이메일', '널리', '양해', '부득이', '여러분', '합니다', '참고바랍니다', '바라며', '관심', '부탁드립니다', '부탁', '유념', '미루지 않고', '하루 빨리', '신경 써주시기', '주저 말고', '여기를 클릭', '하였습니다', '예정입니다', '드립니다', '알려 드립니다', '꼼꼼히', '아울러', '각별히', '거듭', '협조', '최선', '결실', '결실을 맺으시기를', '진심으로', '기원합니다', '함께 하겠습니다', '열정과 꿈', '마련하였습니다', '마련', '수도 있음', '기다리고', '노력', '적극 협조', '뭐니', '파악하는', '생각합니다', '무엇이며', '헌신적', '도모', '자유롭게', '교수학습개발부', '국제교류팀', '자유로운', '누구나', '고민', '선사하실', '흥미로운', '바로가기', '행정지원처장', '한국', '과정', '소개', '받다', '있다', '특히', '널리', '통해', '수', '와', '별', '되다', '않다', '→', '내', '후', '※', '놓다', '하다', '내외', '약', '하므다', '바로가기', '•', '○', '과정', '▶', '클릭', '업로드', '반드시', '이다', '센터', '프로그램', '홈페이지', '\\\\n\\\\n', '\\\\n\\\\n\\\\n', '\\\\n', '활동', '주관', '통해', '같이', '모두', '보다', '같다', '부탁드리다', '드리다', '위해', '자세하다', '\\\\n\\\\n\\\\n\\\\n\\\\n', '의하다', '해주다', '직접', '혹은', '알다', '', '', '', '아', '휴', '아이구', '아이쿠', '아이고', '어', '나', '우리', '저희', '따라', '의해', '을', '를', '에', '의', '가', '으로', '로', '에게', '뿐이다', '의거하여', '근거하여', '입각하여', '기준으로', '예하면', '예를 들면', '예를 들자면', '저', '소인', '소생', '저희', '지말고', '하지마', '하지마라', '다른', '물론', '또한', '그리고', '비길수 없다', '해서는 안된다', '뿐만 아니라', '만이 아니다', '만은 아니다', '막론하고', '관계없이', '그치지 않다', '그러나', '그런데', '하지만', '든간에', '논하지 않다', '따지지 않다', '설사', '비록', '더라도', '아니면', '만 못하다', '하는 편이 낫다', '불문하고', '향하여', '향해서', '향하다', '쪽으로', '틈타', '이용하여', '타다', '오르다', '제외하고', '이 외에', '이 밖에', '하여야', '비로소', '한다면 몰라도', '외에도', '이곳', '여기', '부터', '기점으로', '따라서', '할 생각이다', '하려고하다', '이리하여', '그리하여', '그렇게 함으로써', '하지만', '일때', '할때', '앞에서', '중에서', '보는데서', '으로써', '로써', '까지', '해야한다', '일것이다', '반드시', '할줄알다', '할수있다', '할수있어', '임에 틀림없다', '한다면', '등', '등등', '제', '겨우', '단지', '다만', '할뿐', '딩동', '댕그', '대해서', '대하여', '대하면', '훨씬', '얼마나', '얼마만큼', '얼마큼', '남짓', '여', '얼마간', '약간', '다소', '좀', '조금', '다수', '몇', '얼마', '지만', '하물며', '또한', '그러나', '그렇지만', '하지만', '이외에도', '대해 말하자면', '뿐이다', '다음에', '반대로', '반대로 말하자면', '이와 반대로', '바꾸어서 말하면', '바꾸어서 한다면', '만약', '그렇지않으면', '까악', '툭', '딱', '삐걱거리다', '보드득', '비걱거리다', '꽈당', '응당', '해야한다', '에 가서', '각', '각각', '여러분', '각종', '각자', '제각기', '하도록하다', '와', '과', '그러므로', '그래서', '고로', '한 까닭에', '하기 때문에', '거니와', '이지만', '대하여', '관하여', '관한', '과연', '실로', '아니나다를가', '생각한대로', '진짜로', '한적이있다', '하곤하였다', '하', '하하', '허허', '아하', '거바', '와', '오', '왜', '어째서', '무엇때문에', '어찌', '하겠는가', '무슨', '어디', '어느곳', '더군다나', '하물며', '더욱이는', '어느때', '언제', '야', '이봐', '어이', '여보시오', '흐흐', '흥', '휴', '헉헉', '헐떡헐떡', '영차', '여차', '어기여차', '끙끙', '아야', '앗', '아야', '콸콸', '졸졸', '좍좍', '뚝뚝', '주룩주룩', '솨', '우르르', '그래도', '또', '그리고', '바꾸어말하면', '바꾸어말하자면', '혹은', '혹시', '답다', '및', '그에 따르는', '때가 되어', '즉', '지든지', '설령', '가령', '하더라도', '할지라도', '일지라도', '지든지', '몇', '거의', '하마터면', '인젠', '이젠', '된바에야', '된이상', '만큼', '어찌됏든', '그위에', '게다가', '점에서 보아', '비추어 보아', '고려하면', '하게될것이다', '일것이다', '비교적', '좀', '보다더', '비하면', '시키다', '하게하다', '할만하다', '의해서', '연이서', '이어서', '잇따라', '뒤따라', '뒤이어', '결국', '의지하여', '기대여', '통하여', '자마자', '더욱더', '불구하고', '얼마든지', '마음대로', '주저하지 않고', '곧', '즉시', '바로', '당장', '하자마자', '밖에 안된다', '하면된다', '그래', '그렇지', '요컨대', '다시 말하자면', '바꿔 말하면', '즉', '구체적으로', '말하자면', '시작하여', '시초에', '이상', '허', '헉', '허걱', '바와같이', '해도좋다', '해도된다', '게다가', '더구나', '하물며', '와르르', '팍', '퍽', '펄렁', '동안', '이래', '하고있었다', '이었다', '에서', '로부터', '까지', '예하면', '했어요', '해요', '함께', '같이', '더불어', '마저', '마저도', '양자', '모두', '습니다', '가까스로', '하려고하다', '즈음하여', '다른', '다른 방면으로', '해봐요', '습니까', '했어요', '말할것도 없고', '무릎쓰고', '개의치않고', '하는것만 못하다', '하는것이 낫다', '매', '매번', '들', '모', '어느것', '어느', '로써', '갖고말하자면', '어디', '어느쪽', '어느것', '어느해', '어느 년도', '라 해도', '언젠가', '어떤것', '어느것', '저기', '저쪽', '저것', '그때', '그럼', '그러면', '요만한걸', '그래', '그때', '저것만큼', '그저', '이르기까지', '할 줄 안다', '할 힘이 있다', '너', '너희', '당신', '어찌', '설마', '차라리', '할지언정', '할지라도', '할망정', '할지언정', '구토하다', '게우다', '토하다', '메쓰겁다', '옆사람', '퉤', '쳇', '의거하여', '근거하여', '의해', '따라', '힘입어', '그', '다음', '버금', '두번째로', '기타', '첫번째로', '나머지는', '그중에서', '견지에서', '형식으로 쓰여', '입장에서', '위해서', '단지', '의해되다', '하도록시키다', '뿐만아니라', '반대로', '전후', '전자', '앞의것', '잠시', '잠깐', '하면서', '그렇지만', '다음에', '그러한즉', '그런즉', '남들', '아무거나', '어찌하든지', '같다', '비슷하다', '예컨대', '이럴정도로', '어떻게', '만약', '만일', '위에서 서술한바와같이', '인 듯하다', '하지 않는다면', '만약에', '무엇', '무슨', '어느', '어떤', '아래윗', '조차', '한데', '그럼에도 불구하고', '여전히', '심지어', '까지도', '조차도', '하지 않도록', '않기 위하여', '때', '시각', '무렵', '시간', '동안', '어때', '어떠한', '하여금', '네', '예', '우선', '누구', '누가 알겠는가', '아무도', '줄은모른다', '줄은 몰랏다', '하는 김에', '겸사겸사', '하는바', '그런 까닭에', '한 이유는', '그러니', '그러니까', '때문에', '그', '너희', '그들', '너희들', '타인', '것', '것들', '너', '위하여', '공동으로', '동시에', '하기 위하여', '어찌하여', '무엇때문에', '붕붕', '윙윙', '나', '우리', '엉엉', '휘익', '윙윙', '오호', '아하', '어쨋든', '만 못하다', '하기보다는', '차라리', '하는 편이 낫다', '흐흐', '놀라다', '상대적으로 말하자면', '마치', '아니라면', '쉿', '그렇지 않으면', '그렇지 않다면', '안 그러면', '아니었다면', '하든지', '아니면', '이라면', '좋아', '알았어', '하는것도', '그만이다', '어쩔수 없다', '하나', '일', '일반적으로', '일단', '한켠으로는', '오자마자', '이렇게되면', '이와같다면', '전부', '한마디', '한항목', '근거로', '하기에', '아울러', '하지 않도록', '않기 위해서', '이르기까지', '이 되다', '로 인하여', '까닭으로', '이유만으로', '이로 인하여', '그래서', '이 때문에', '그러므로', '그런 까닭에', '알 수 있다', '결론을 낼 수 있다', '으로 인하여', '있다', '어떤것', '관계가 있다', '관련이 있다', '연관되다', '어떤것들', '에 대해', '이리하여', '그리하여', '여부', '하기보다는', '하느니', '하면 할수록', '운운', '이러이러하다', '하구나', '하도다', '다시말하면', '다음으로', '에 있다', '에 달려 있다', '우리', '우리들', '오히려', '하기는한데', '어떻게', '어떻해', '어찌됏어', '어때', '어째서', '본대로', '자', '이', '이쪽', '여기', '이것', '이번', '이렇게말하자면', '이런', '이러한', '이와 같은', '요만큼', '요만한 것', '얼마 안 되는 것', '이만큼', '이 정도의', '이렇게 많은 것', '이와 같다', '이때', '이렇구나', '것과 같이', '끼익', '삐걱', '따위', '와 같은 사람들', '부류의 사람들', '왜냐하면', '중의하나', '오직', '오로지', '에 한하다', '하기만 하면', '도착하다', '까지 미치다', '도달하다', '정도에 이르다', '할 지경이다', '결과에 이르다', '관해서는', '여러분', '하고 있다', '한 후', '혼자', '자기', '자기집', '자신', '우에 종합한것과같이', '총적으로 보면', '총적으로 말하면', '총적으로', '대로 하다', '으로서', '참', '그만이다', '할 따름이다', '쿵', '탕탕', '쾅쾅', '둥둥', '봐', '봐라', '아이야', '아니', '와아', '응', '아이', '참나', '년', '월', '일', '령', '영', '일', '이', '삼', '사', '오', '육', '륙', '칠', '팔', '구', '이천육', '이천칠', '이천팔', '이천구', '하나', '둘', '셋', '넷', '다섯', '여섯', '일곱', '여덟', '아홉', '령', '영', '줄', '밓었', '의', '네', '데', '때', '그', '것', '그것', '듯', '점', '이', '뭐', '정말']\n",
        "# 중복제거\n",
        "stopwords_set = set(stopwords)\n",
        "print(len(stopwords), len(stopwords_set))"
      ],
      "metadata": {
        "id": "8gLLP66MOtkN",
        "colab": {
          "base_uri": "https://localhost:8080/"
        },
        "outputId": "26f52d30-46c5-4bdd-dd54-9963776a3719"
      },
      "execution_count": null,
      "outputs": [
        {
          "output_type": "stream",
          "name": "stdout",
          "text": [
            "828 723\n"
          ]
        }
      ]
    },
    {
      "cell_type": "code",
      "source": [
        "# stopwords 넣어 클래스 수정\n",
        "\n",
        "class Summarizer:\n",
        "    def __init__(self, stopwords: List[str], initialize: bool = True):\n",
        "        self.stopwords = stopwords\n",
        "        self.okt = None\n",
        "        self.summarizer = None\n",
        "        if initialize:\n",
        "            self.initialize_components()\n",
        "\n",
        "    def initialize_components(self):\n",
        "        self.okt = Okt()\n",
        "        self.summarizer = KeysentenceSummarizer(tokenize=self.okt_tokenize, min_sim=0.3)\n",
        "\n",
        "    def okt_tokenize(self, sent: str) -> List[str]:\n",
        "        words = self.okt.pos(sent, join=True)\n",
        "        words = [w for w in words if ('/Noun' in w or '/Adjective' in w or '/Verb' in w)]\n",
        "        return [word for word in words if word not in self.stopwords]\n",
        "\n",
        "    def is_foreign(self, text: str, korean_threshold: float = 0.3) -> bool:\n",
        "        if isinstance(text, list):\n",
        "            text = ' '.join(text)\n",
        "\n",
        "        text = text.strip()\n",
        "        if not text:\n",
        "            return False\n",
        "\n",
        "        total_chars = len(text)\n",
        "        korean_chars = len(re.findall('[가-힣]', text))\n",
        "\n",
        "        return korean_chars / total_chars < korean_threshold\n",
        "\n",
        "    def summarize_content(self, title: str, content: str) -> List[str]:\n",
        "        if self.is_foreign(content):\n",
        "            #return []\n",
        "            return \"자세한 내용은 본문을 참고하세요.\"\n",
        "\n",
        "        if not content:\n",
        "            return \" 자세한 내용은 본문을 참고하세요\"\n",
        "\n",
        "        if isinstance(content, list):\n",
        "            content = ' '.join(content)\n",
        "\n",
        "        if not content.strip():\n",
        "            return []\n",
        "\n",
        "        # 따옴표 제거하기\n",
        "        content = content.replace('\"','').replace(\"'\",'')\n",
        "\n",
        "        sents = re.split(r'\\n|\\.', content)\n",
        "        sents = list(filter(None, sents))\n",
        "        sents = [sent for sent in sents if sent.strip()]\n",
        "\n",
        "        if not sents:\n",
        "            return []\n",
        "\n",
        "        if len(sents) < 4:\n",
        "            return sents\n",
        "\n",
        "        try:\n",
        "            keysents = self.summarizer.summarize(sents, topk=3)\n",
        "        except ValueError as e:\n",
        "            error_sent = \"자세한 내용은 본문을 참고하세요.\"\n",
        "            return [error_sent]\n",
        "\n",
        "        return [item[2] for item in keysents]\n",
        "\n",
        "# 사용 예시\n",
        "#stopwords = ['경기도 용인시 처인구 모현읍 외대로 81 한국외국어대학교', '글로벌캠퍼스AI교육원', '관련학과', '운영지원', '기대효과', '당사', '우리대학', 'HK', '연구단', '이메일', '학사', '학생지원팀', '국제입학관리팀', '대학원사무1팀', '대학원사무2팀', '교무행정팀', '한국어문화교육원', '참고사항', '공고', '끝', '한국외국어대학교', '누구나', '누가나', 'e-mail', 'email', '이메일', '널리', '양해', '부득이', '여러분', '합니다', '참고바랍니다', '바라며', '관심', '부탁드립니다', '부탁', '유념', '미루지 않고', '하루 빨리', '신경 써주시기', '주저 말고', '여기를 클릭', '하였습니다', '예정입니다', '드립니다', '알려 드립니다', '꼼꼼히', '아울러', '각별히', '거듭', '협조', '최선', '결실', '결실을 맺으시기를', '진심으로', '기원합니다', '함께 하겠습니다', '열정과 꿈', '마련하였습니다', '마련', '수도 있음', '기다리고', '노력', '적극 협조', '뭐니', '파악하는', '생각합니다', '무엇이며', '헌신적', '도모', '자유롭게', '교수학습개발부', '국제교류팀', '자유로운', '누구나', '고민', '선사하실', '흥미로운', '바로가기', '행정지원처장', '한국', '과정', '소개', '받다', '있다', '특히', '널리', '통해', '수', '와', '별', '되다', '않다', '→', '내', '후', '※', '놓다', '하다', '내외', '약', '하므다', '바로가기', '•', '○', '과정', '▶', '클릭', '업로드', '반드시', '이다', '센터', '프로그램', '홈페이지', '\\\\n\\\\n', '\\\\n\\\\n\\\\n', '\\\\n', '활동', '주관', '통해', '같이', '모두', '보다', '같다', '부탁드리다', '드리다', '위해', '자세하다', '\\\\n\\\\n\\\\n\\\\n\\\\n', '의하다', '해주다', '직접', '혹은', '알다', '', '', '', '아', '휴', '아이구', '아이쿠', '아이고', '어', '나', '우리', '저희', '따라', '의해', '을', '를', '에', '의', '가', '으로', '로', '에게', '뿐이다', '의거하여', '근거하여', '입각하여', '기준으로', '예하면', '예를 들면', '예를 들자면', '저', '소인', '소생', '저희', '지말고', '하지마', '하지마라', '다른', '물론', '또한', '그리고', '비길수 없다', '해서는 안된다', '뿐만 아니라', '만이 아니다', '만은 아니다', '막론하고', '관계없이', '그치지 않다', '그러나', '그런데', '하지만', '든간에', '논하지 않다', '따지지 않다', '설사', '비록', '더라도', '아니면', '만 못하다', '하는 편이 낫다', '불문하고', '향하여', '향해서', '향하다', '쪽으로', '틈타', '이용하여', '타다', '오르다', '제외하고', '이 외에', '이 밖에', '하여야', '비로소', '한다면 몰라도', '외에도', '이곳', '여기', '부터', '기점으로', '따라서', '할 생각이다', '하려고하다', '이리하여', '그리하여', '그렇게 함으로써', '하지만', '일때', '할때', '앞에서', '중에서', '보는데서', '으로써', '로써', '까지', '해야한다', '일것이다', '반드시', '할줄알다', '할수있다', '할수있어', '임에 틀림없다', '한다면', '등', '등등', '제', '겨우', '단지', '다만', '할뿐', '딩동', '댕그', '대해서', '대하여', '대하면', '훨씬', '얼마나', '얼마만큼', '얼마큼', '남짓', '여', '얼마간', '약간', '다소', '좀', '조금', '다수', '몇', '얼마', '지만', '하물며', '또한', '그러나', '그렇지만', '하지만', '이외에도', '대해 말하자면', '뿐이다', '다음에', '반대로', '반대로 말하자면', '이와 반대로', '바꾸어서 말하면', '바꾸어서 한다면', '만약', '그렇지않으면', '까악', '툭', '딱', '삐걱거리다', '보드득', '비걱거리다', '꽈당', '응당', '해야한다', '에 가서', '각', '각각', '여러분', '각종', '각자', '제각기', '하도록하다', '와', '과', '그러므로', '그래서', '고로', '한 까닭에', '하기 때문에', '거니와', '이지만', '대하여', '관하여', '관한', '과연', '실로', '아니나다를가', '생각한대로', '진짜로', '한적이있다', '하곤하였다', '하', '하하', '허허', '아하', '거바', '와', '오', '왜', '어째서', '무엇때문에', '어찌', '하겠는가', '무슨', '어디', '어느곳', '더군다나', '하물며', '더욱이는', '어느때', '언제', '야', '이봐', '어이', '여보시오', '흐흐', '흥', '휴', '헉헉', '헐떡헐떡', '영차', '여차', '어기여차', '끙끙', '아야', '앗', '아야', '콸콸', '졸졸', '좍좍', '뚝뚝', '주룩주룩', '솨', '우르르', '그래도', '또', '그리고', '바꾸어말하면', '바꾸어말하자면', '혹은', '혹시', '답다', '및', '그에 따르는', '때가 되어', '즉', '지든지', '설령', '가령', '하더라도', '할지라도', '일지라도', '지든지', '몇', '거의', '하마터면', '인젠', '이젠', '된바에야', '된이상', '만큼', '어찌됏든', '그위에', '게다가', '점에서 보아', '비추어 보아', '고려하면', '하게될것이다', '일것이다', '비교적', '좀', '보다더', '비하면', '시키다', '하게하다', '할만하다', '의해서', '연이서', '이어서', '잇따라', '뒤따라', '뒤이어', '결국', '의지하여', '기대여', '통하여', '자마자', '더욱더', '불구하고', '얼마든지', '마음대로', '주저하지 않고', '곧', '즉시', '바로', '당장', '하자마자', '밖에 안된다', '하면된다', '그래', '그렇지', '요컨대', '다시 말하자면', '바꿔 말하면', '즉', '구체적으로', '말하자면', '시작하여', '시초에', '이상', '허', '헉', '허걱', '바와같이', '해도좋다', '해도된다', '게다가', '더구나', '하물며', '와르르', '팍', '퍽', '펄렁', '동안', '이래', '하고있었다', '이었다', '에서', '로부터', '까지', '예하면', '했어요', '해요', '함께', '같이', '더불어', '마저', '마저도', '양자', '모두', '습니다', '가까스로', '하려고하다', '즈음하여', '다른', '다른 방면으로', '해봐요', '습니까', '했어요', '말할것도 없고', '무릎쓰고', '개의치않고', '하는것만 못하다', '하는것이 낫다', '매', '매번', '들', '모', '어느것', '어느', '로써', '갖고말하자면', '어디', '어느쪽', '어느것', '어느해', '어느 년도', '라 해도', '언젠가', '어떤것', '어느것', '저기', '저쪽', '저것', '그때', '그럼', '그러면', '요만한걸', '그래', '그때', '저것만큼', '그저', '이르기까지', '할 줄 안다', '할 힘이 있다', '너', '너희', '당신', '어찌', '설마', '차라리', '할지언정', '할지라도', '할망정', '할지언정', '구토하다', '게우다', '토하다', '메쓰겁다', '옆사람', '퉤', '쳇', '의거하여', '근거하여', '의해', '따라', '힘입어', '그', '다음', '버금', '두번째로', '기타', '첫번째로', '나머지는', '그중에서', '견지에서', '형식으로 쓰여', '입장에서', '위해서', '단지', '의해되다', '하도록시키다', '뿐만아니라', '반대로', '전후', '전자', '앞의것', '잠시', '잠깐', '하면서', '그렇지만', '다음에', '그러한즉', '그런즉', '남들', '아무거나', '어찌하든지', '같다', '비슷하다', '예컨대', '이럴정도로', '어떻게', '만약', '만일', '위에서 서술한바와같이', '인 듯하다', '하지 않는다면', '만약에', '무엇', '무슨', '어느', '어떤', '아래윗', '조차', '한데', '그럼에도 불구하고', '여전히', '심지어', '까지도', '조차도', '하지 않도록', '않기 위하여', '때', '시각', '무렵', '시간', '동안', '어때', '어떠한', '하여금', '네', '예', '우선', '누구', '누가 알겠는가', '아무도', '줄은모른다', '줄은 몰랏다', '하는 김에', '겸사겸사', '하는바', '그런 까닭에', '한 이유는', '그러니', '그러니까', '때문에', '그', '너희', '그들', '너희들', '타인', '것', '것들', '너', '위하여', '공동으로', '동시에', '하기 위하여', '어찌하여', '무엇때문에', '붕붕', '윙윙', '나', '우리', '엉엉', '휘익', '윙윙', '오호', '아하', '어쨋든', '만 못하다', '하기보다는', '차라리', '하는 편이 낫다', '흐흐', '놀라다', '상대적으로 말하자면', '마치', '아니라면', '쉿', '그렇지 않으면', '그렇지 않다면', '안 그러면', '아니었다면', '하든지', '아니면', '이라면', '좋아', '알았어', '하는것도', '그만이다', '어쩔수 없다', '하나', '일', '일반적으로', '일단', '한켠으로는', '오자마자', '이렇게되면', '이와같다면', '전부', '한마디', '한항목', '근거로', '하기에', '아울러', '하지 않도록', '않기 위해서', '이르기까지', '이 되다', '로 인하여', '까닭으로', '이유만으로', '이로 인하여', '그래서', '이 때문에', '그러므로', '그런 까닭에', '알 수 있다', '결론을 낼 수 있다', '으로 인하여', '있다', '어떤것', '관계가 있다', '관련이 있다', '연관되다', '어떤것들', '에 대해', '이리하여', '그리하여', '여부', '하기보다는', '하느니', '하면 할수록', '운운', '이러이러하다', '하구나', '하도다', '다시말하면', '다음으로', '에 있다', '에 달려 있다', '우리', '우리들', '오히려', '하기는한데', '어떻게', '어떻해', '어찌됏어', '어때', '어째서', '본대로', '자', '이', '이쪽', '여기', '이것', '이번', '이렇게말하자면', '이런', '이러한', '이와 같은', '요만큼', '요만한 것', '얼마 안 되는 것', '이만큼', '이 정도의', '이렇게 많은 것', '이와 같다', '이때', '이렇구나', '것과 같이', '끼익', '삐걱', '따위', '와 같은 사람들', '부류의 사람들', '왜냐하면', '중의하나', '오직', '오로지', '에 한하다', '하기만 하면', '도착하다', '까지 미치다', '도달하다', '정도에 이르다', '할 지경이다', '결과에 이르다', '관해서는', '여러분', '하고 있다', '한 후', '혼자', '자기', '자기집', '자신', '우에 종합한것과같이', '총적으로 보면', '총적으로 말하면', '총적으로', '대로 하다', '으로서', '참', '그만이다', '할 따름이다', '쿵', '탕탕', '쾅쾅', '둥둥', '봐', '봐라', '아이야', '아니', '와아', '응', '아이', '참나', '년', '월', '일', '령', '영', '일', '이', '삼', '사', '오', '육', '륙', '칠', '팔', '구', '이천육', '이천칠', '이천팔', '이천구', '하나', '둘', '셋', '넷', '다섯', '여섯', '일곱', '여덟', '아홉', '령', '영', '줄', '밓었', '의', '네', '데', '때', '그', '것', '그것', '듯', '점', '이', '뭐', '정말']\n",
        "\n",
        "#summarizer = Summarizer(stopwords=stopwords)\n"
      ],
      "metadata": {
        "id": "g8KHA5FjPPb9"
      },
      "execution_count": null,
      "outputs": []
    },
    {
      "cell_type": "markdown",
      "source": [
        "### stopwords를 코드 안에서 관리하며 배포하기"
      ],
      "metadata": {
        "id": "K_gBo_6lRQF5"
      }
    },
    {
      "cell_type": "code",
      "source": [
        "app = FastAPI()\n",
        "stopwords_set = ['경기도 용인시 처인구 모현읍 외대로 81 한국외국어대학교', '글로벌캠퍼스AI교육원', '관련학과', '운영지원', '기대효과', '당사', '우리대학', 'HK', '연구단', '이메일', '학사', '학생지원팀', '국제입학관리팀', '대학원사무1팀', '대학원사무2팀', '교무행정팀', '한국어문화교육원', '참고사항', '공고', '끝', '한국외국어대학교', '누구나', '누가나', 'e-mail', 'email', '이메일', '널리', '양해', '부득이', '여러분', '합니다', '참고바랍니다', '바라며', '관심', '부탁드립니다', '부탁', '유념', '미루지 않고', '하루 빨리', '신경 써주시기', '주저 말고', '여기를 클릭', '하였습니다', '예정입니다', '드립니다', '알려 드립니다', '꼼꼼히', '아울러', '각별히', '거듭', '협조', '최선', '결실', '결실을 맺으시기를', '진심으로', '기원합니다', '함께 하겠습니다', '열정과 꿈', '마련하였습니다', '마련', '수도 있음', '기다리고', '노력', '적극 협조', '뭐니', '파악하는', '생각합니다', '무엇이며', '헌신적', '도모', '자유롭게', '교수학습개발부', '국제교류팀', '자유로운', '누구나', '고민', '선사하실', '흥미로운', '바로가기', '행정지원처장', '한국', '과정', '소개', '받다', '있다', '특히', '널리', '통해', '수', '와', '별', '되다', '않다', '→', '내', '후', '※', '놓다', '하다', '내외', '약', '하므다', '바로가기', '•', '○', '과정', '▶', '클릭', '업로드', '반드시', '이다', '센터', '프로그램', '홈페이지', '\\\\n\\\\n', '\\\\n\\\\n\\\\n', '\\\\n', '활동', '주관', '통해', '같이', '모두', '보다', '같다', '부탁드리다', '드리다', '위해', '자세하다', '\\\\n\\\\n\\\\n\\\\n\\\\n', '의하다', '해주다', '직접', '혹은', '알다', '', '', '', '아', '휴', '아이구', '아이쿠', '아이고', '어', '나', '우리', '저희', '따라', '의해', '을', '를', '에', '의', '가', '으로', '로', '에게', '뿐이다', '의거하여', '근거하여', '입각하여', '기준으로', '예하면', '예를 들면', '예를 들자면', '저', '소인', '소생', '저희', '지말고', '하지마', '하지마라', '다른', '물론', '또한', '그리고', '비길수 없다', '해서는 안된다', '뿐만 아니라', '만이 아니다', '만은 아니다', '막론하고', '관계없이', '그치지 않다', '그러나', '그런데', '하지만', '든간에', '논하지 않다', '따지지 않다', '설사', '비록', '더라도', '아니면', '만 못하다', '하는 편이 낫다', '불문하고', '향하여', '향해서', '향하다', '쪽으로', '틈타', '이용하여', '타다', '오르다', '제외하고', '이 외에', '이 밖에', '하여야', '비로소', '한다면 몰라도', '외에도', '이곳', '여기', '부터', '기점으로', '따라서', '할 생각이다', '하려고하다', '이리하여', '그리하여', '그렇게 함으로써', '하지만', '일때', '할때', '앞에서', '중에서', '보는데서', '으로써', '로써', '까지', '해야한다', '일것이다', '반드시', '할줄알다', '할수있다', '할수있어', '임에 틀림없다', '한다면', '등', '등등', '제', '겨우', '단지', '다만', '할뿐', '딩동', '댕그', '대해서', '대하여', '대하면', '훨씬', '얼마나', '얼마만큼', '얼마큼', '남짓', '여', '얼마간', '약간', '다소', '좀', '조금', '다수', '몇', '얼마', '지만', '하물며', '또한', '그러나', '그렇지만', '하지만', '이외에도', '대해 말하자면', '뿐이다', '다음에', '반대로', '반대로 말하자면', '이와 반대로', '바꾸어서 말하면', '바꾸어서 한다면', '만약', '그렇지않으면', '까악', '툭', '딱', '삐걱거리다', '보드득', '비걱거리다', '꽈당', '응당', '해야한다', '에 가서', '각', '각각', '여러분', '각종', '각자', '제각기', '하도록하다', '와', '과', '그러므로', '그래서', '고로', '한 까닭에', '하기 때문에', '거니와', '이지만', '대하여', '관하여', '관한', '과연', '실로', '아니나다를가', '생각한대로', '진짜로', '한적이있다', '하곤하였다', '하', '하하', '허허', '아하', '거바', '와', '오', '왜', '어째서', '무엇때문에', '어찌', '하겠는가', '무슨', '어디', '어느곳', '더군다나', '하물며', '더욱이는', '어느때', '언제', '야', '이봐', '어이', '여보시오', '흐흐', '흥', '휴', '헉헉', '헐떡헐떡', '영차', '여차', '어기여차', '끙끙', '아야', '앗', '아야', '콸콸', '졸졸', '좍좍', '뚝뚝', '주룩주룩', '솨', '우르르', '그래도', '또', '그리고', '바꾸어말하면', '바꾸어말하자면', '혹은', '혹시', '답다', '및', '그에 따르는', '때가 되어', '즉', '지든지', '설령', '가령', '하더라도', '할지라도', '일지라도', '지든지', '몇', '거의', '하마터면', '인젠', '이젠', '된바에야', '된이상', '만큼', '어찌됏든', '그위에', '게다가', '점에서 보아', '비추어 보아', '고려하면', '하게될것이다', '일것이다', '비교적', '좀', '보다더', '비하면', '시키다', '하게하다', '할만하다', '의해서', '연이서', '이어서', '잇따라', '뒤따라', '뒤이어', '결국', '의지하여', '기대여', '통하여', '자마자', '더욱더', '불구하고', '얼마든지', '마음대로', '주저하지 않고', '곧', '즉시', '바로', '당장', '하자마자', '밖에 안된다', '하면된다', '그래', '그렇지', '요컨대', '다시 말하자면', '바꿔 말하면', '즉', '구체적으로', '말하자면', '시작하여', '시초에', '이상', '허', '헉', '허걱', '바와같이', '해도좋다', '해도된다', '게다가', '더구나', '하물며', '와르르', '팍', '퍽', '펄렁', '동안', '이래', '하고있었다', '이었다', '에서', '로부터', '까지', '예하면', '했어요', '해요', '함께', '같이', '더불어', '마저', '마저도', '양자', '모두', '습니다', '가까스로', '하려고하다', '즈음하여', '다른', '다른 방면으로', '해봐요', '습니까', '했어요', '말할것도 없고', '무릎쓰고', '개의치않고', '하는것만 못하다', '하는것이 낫다', '매', '매번', '들', '모', '어느것', '어느', '로써', '갖고말하자면', '어디', '어느쪽', '어느것', '어느해', '어느 년도', '라 해도', '언젠가', '어떤것', '어느것', '저기', '저쪽', '저것', '그때', '그럼', '그러면', '요만한걸', '그래', '그때', '저것만큼', '그저', '이르기까지', '할 줄 안다', '할 힘이 있다', '너', '너희', '당신', '어찌', '설마', '차라리', '할지언정', '할지라도', '할망정', '할지언정', '구토하다', '게우다', '토하다', '메쓰겁다', '옆사람', '퉤', '쳇', '의거하여', '근거하여', '의해', '따라', '힘입어', '그', '다음', '버금', '두번째로', '기타', '첫번째로', '나머지는', '그중에서', '견지에서', '형식으로 쓰여', '입장에서', '위해서', '단지', '의해되다', '하도록시키다', '뿐만아니라', '반대로', '전후', '전자', '앞의것', '잠시', '잠깐', '하면서', '그렇지만', '다음에', '그러한즉', '그런즉', '남들', '아무거나', '어찌하든지', '같다', '비슷하다', '예컨대', '이럴정도로', '어떻게', '만약', '만일', '위에서 서술한바와같이', '인 듯하다', '하지 않는다면', '만약에', '무엇', '무슨', '어느', '어떤', '아래윗', '조차', '한데', '그럼에도 불구하고', '여전히', '심지어', '까지도', '조차도', '하지 않도록', '않기 위하여', '때', '시각', '무렵', '시간', '동안', '어때', '어떠한', '하여금', '네', '예', '우선', '누구', '누가 알겠는가', '아무도', '줄은모른다', '줄은 몰랏다', '하는 김에', '겸사겸사', '하는바', '그런 까닭에', '한 이유는', '그러니', '그러니까', '때문에', '그', '너희', '그들', '너희들', '타인', '것', '것들', '너', '위하여', '공동으로', '동시에', '하기 위하여', '어찌하여', '무엇때문에', '붕붕', '윙윙', '나', '우리', '엉엉', '휘익', '윙윙', '오호', '아하', '어쨋든', '만 못하다', '하기보다는', '차라리', '하는 편이 낫다', '흐흐', '놀라다', '상대적으로 말하자면', '마치', '아니라면', '쉿', '그렇지 않으면', '그렇지 않다면', '안 그러면', '아니었다면', '하든지', '아니면', '이라면', '좋아', '알았어', '하는것도', '그만이다', '어쩔수 없다', '하나', '일', '일반적으로', '일단', '한켠으로는', '오자마자', '이렇게되면', '이와같다면', '전부', '한마디', '한항목', '근거로', '하기에', '아울러', '하지 않도록', '않기 위해서', '이르기까지', '이 되다', '로 인하여', '까닭으로', '이유만으로', '이로 인하여', '그래서', '이 때문에', '그러므로', '그런 까닭에', '알 수 있다', '결론을 낼 수 있다', '으로 인하여', '있다', '어떤것', '관계가 있다', '관련이 있다', '연관되다', '어떤것들', '에 대해', '이리하여', '그리하여', '여부', '하기보다는', '하느니', '하면 할수록', '운운', '이러이러하다', '하구나', '하도다', '다시말하면', '다음으로', '에 있다', '에 달려 있다', '우리', '우리들', '오히려', '하기는한데', '어떻게', '어떻해', '어찌됏어', '어때', '어째서', '본대로', '자', '이', '이쪽', '여기', '이것', '이번', '이렇게말하자면', '이런', '이러한', '이와 같은', '요만큼', '요만한 것', '얼마 안 되는 것', '이만큼', '이 정도의', '이렇게 많은 것', '이와 같다', '이때', '이렇구나', '것과 같이', '끼익', '삐걱', '따위', '와 같은 사람들', '부류의 사람들', '왜냐하면', '중의하나', '오직', '오로지', '에 한하다', '하기만 하면', '도착하다', '까지 미치다', '도달하다', '정도에 이르다', '할 지경이다', '결과에 이르다', '관해서는', '여러분', '하고 있다', '한 후', '혼자', '자기', '자기집', '자신', '우에 종합한것과같이', '총적으로 보면', '총적으로 말하면', '총적으로', '대로 하다', '으로서', '참', '그만이다', '할 따름이다', '쿵', '탕탕', '쾅쾅', '둥둥', '봐', '봐라', '아이야', '아니', '와아', '응', '아이', '참나', '년', '월', '일', '령', '영', '일', '이', '삼', '사', '오', '육', '륙', '칠', '팔', '구', '이천육', '이천칠', '이천팔', '이천구', '하나', '둘', '셋', '넷', '다섯', '여섯', '일곱', '여덟', '아홉', '령', '영', '줄', '밓었', '의', '네', '데', '때', '그', '것', '그것', '듯', '점', '이', '뭐', '정말']\n",
        "\n",
        "summarizer = Summarizer(stopwords=stopwords_set)"
      ],
      "metadata": {
        "id": "bVcr-oIORYMK"
      },
      "execution_count": null,
      "outputs": []
    },
    {
      "cell_type": "code",
      "source": [
        "class ModelInput(BaseModel):\n",
        "    title: str\n",
        "    content: str\n",
        "\n",
        "@app.post(\"/summarize/\")\n",
        "def summarize_content(input_data: ModelInput):\n",
        "    title = input_data.title\n",
        "    content = input_data.content\n",
        "    summary = summarizer.summarize_content(title, content)\n",
        "    return {\"summary\": summary}"
      ],
      "metadata": {
        "id": "3YosqUpqRaW7"
      },
      "execution_count": null,
      "outputs": []
    },
    {
      "cell_type": "code",
      "source": [
        "# Colab에서 asyncio 이벤트 루프를 중첩\n",
        "nest_asyncio.apply()\n",
        "\n",
        "# ngrok 터널 시작\n",
        "ngrok.kill()  # 기존 ngrok 세션 종료\n",
        "\n",
        "# 토큰 갱신 필요시 갱신\n",
        "!ngrok authtoken \"2hJQt9L0vTO3rTjHv0gOH43TmCf_7HG3wrTF235UCccmCQoBj\"\n",
        "ngrok_tunnel = ngrok.connect(8000)\n",
        "print('Public URL:', ngrok_tunnel.public_url)\n",
        "\n",
        "# Uvicorn을 사용하여 FastAPI 앱 실행\n",
        "uvicorn.run(app, host='0.0.0.0', port=8000)"
      ],
      "metadata": {
        "colab": {
          "base_uri": "https://localhost:8080/",
          "height": 559
        },
        "id": "pZd3P-A0RaZ7",
        "outputId": "1136d958-1c26-44ce-ba68-bd9f8baf1617"
      },
      "execution_count": null,
      "outputs": [
        {
          "output_type": "stream",
          "name": "stdout",
          "text": [
            "Authtoken saved to configuration file: /root/.config/ngrok/ngrok.yml\n",
            "Public URL: https://ed27-35-245-73-156.ngrok-free.app\n"
          ]
        },
        {
          "output_type": "stream",
          "name": "stderr",
          "text": [
            "INFO:     Started server process [4027]\n",
            "INFO:     Waiting for application startup.\n",
            "INFO:     Application startup complete.\n",
            "INFO:     Uvicorn running on http://0.0.0.0:8000 (Press CTRL+C to quit)\n"
          ]
        },
        {
          "output_type": "stream",
          "name": "stdout",
          "text": [
            "INFO:     117.110.95.42:0 - \"POST /summarize/ HTTP/1.1\" 200 OK\n",
            "INFO:     117.110.95.42:0 - \"POST /summarize/ HTTP/1.1\" 200 OK\n"
          ]
        },
        {
          "output_type": "stream",
          "name": "stderr",
          "text": [
            "INFO:     Shutting down\n",
            "INFO:     Waiting for application shutdown.\n",
            "INFO:     Application shutdown complete.\n",
            "INFO:     Finished server process [4027]\n"
          ]
        },
        {
          "output_type": "error",
          "ename": "KeyboardInterrupt",
          "evalue": "",
          "traceback": [
            "\u001b[0;31m---------------------------------------------------------------------------\u001b[0m",
            "\u001b[0;31mKeyboardInterrupt\u001b[0m                         Traceback (most recent call last)",
            "\u001b[0;32m<ipython-input-25-9f59dd42f9b8>\u001b[0m in \u001b[0;36m<cell line: 13>\u001b[0;34m()\u001b[0m\n\u001b[1;32m     11\u001b[0m \u001b[0;34m\u001b[0m\u001b[0m\n\u001b[1;32m     12\u001b[0m \u001b[0;31m# Uvicorn을 사용하여 FastAPI 앱 실행\u001b[0m\u001b[0;34m\u001b[0m\u001b[0;34m\u001b[0m\u001b[0m\n\u001b[0;32m---> 13\u001b[0;31m \u001b[0muvicorn\u001b[0m\u001b[0;34m.\u001b[0m\u001b[0mrun\u001b[0m\u001b[0;34m(\u001b[0m\u001b[0mapp\u001b[0m\u001b[0;34m,\u001b[0m \u001b[0mhost\u001b[0m\u001b[0;34m=\u001b[0m\u001b[0;34m'0.0.0.0'\u001b[0m\u001b[0;34m,\u001b[0m \u001b[0mport\u001b[0m\u001b[0;34m=\u001b[0m\u001b[0;36m8000\u001b[0m\u001b[0;34m)\u001b[0m\u001b[0;34m\u001b[0m\u001b[0;34m\u001b[0m\u001b[0m\n\u001b[0m",
            "\u001b[0;32m/usr/local/lib/python3.10/dist-packages/uvicorn/main.py\u001b[0m in \u001b[0;36mrun\u001b[0;34m(app, host, port, uds, fd, loop, http, ws, ws_max_size, ws_max_queue, ws_ping_interval, ws_ping_timeout, ws_per_message_deflate, lifespan, interface, reload, reload_dirs, reload_includes, reload_excludes, reload_delay, workers, env_file, log_config, log_level, access_log, proxy_headers, server_header, date_header, forwarded_allow_ips, root_path, limit_concurrency, backlog, limit_max_requests, timeout_keep_alive, timeout_graceful_shutdown, ssl_keyfile, ssl_certfile, ssl_keyfile_password, ssl_version, ssl_cert_reqs, ssl_ca_certs, ssl_ciphers, headers, use_colors, app_dir, factory, h11_max_incomplete_event_size)\u001b[0m\n\u001b[1;32m    575\u001b[0m             \u001b[0mMultiprocess\u001b[0m\u001b[0;34m(\u001b[0m\u001b[0mconfig\u001b[0m\u001b[0;34m,\u001b[0m \u001b[0mtarget\u001b[0m\u001b[0;34m=\u001b[0m\u001b[0mserver\u001b[0m\u001b[0;34m.\u001b[0m\u001b[0mrun\u001b[0m\u001b[0;34m,\u001b[0m \u001b[0msockets\u001b[0m\u001b[0;34m=\u001b[0m\u001b[0;34m[\u001b[0m\u001b[0msock\u001b[0m\u001b[0;34m]\u001b[0m\u001b[0;34m)\u001b[0m\u001b[0;34m.\u001b[0m\u001b[0mrun\u001b[0m\u001b[0;34m(\u001b[0m\u001b[0;34m)\u001b[0m\u001b[0;34m\u001b[0m\u001b[0;34m\u001b[0m\u001b[0m\n\u001b[1;32m    576\u001b[0m         \u001b[0;32melse\u001b[0m\u001b[0;34m:\u001b[0m\u001b[0;34m\u001b[0m\u001b[0;34m\u001b[0m\u001b[0m\n\u001b[0;32m--> 577\u001b[0;31m             \u001b[0mserver\u001b[0m\u001b[0;34m.\u001b[0m\u001b[0mrun\u001b[0m\u001b[0;34m(\u001b[0m\u001b[0;34m)\u001b[0m\u001b[0;34m\u001b[0m\u001b[0;34m\u001b[0m\u001b[0m\n\u001b[0m\u001b[1;32m    578\u001b[0m     \u001b[0;32mfinally\u001b[0m\u001b[0;34m:\u001b[0m\u001b[0;34m\u001b[0m\u001b[0;34m\u001b[0m\u001b[0m\n\u001b[1;32m    579\u001b[0m         \u001b[0;32mif\u001b[0m \u001b[0mconfig\u001b[0m\u001b[0;34m.\u001b[0m\u001b[0muds\u001b[0m \u001b[0;32mand\u001b[0m \u001b[0mos\u001b[0m\u001b[0;34m.\u001b[0m\u001b[0mpath\u001b[0m\u001b[0;34m.\u001b[0m\u001b[0mexists\u001b[0m\u001b[0;34m(\u001b[0m\u001b[0mconfig\u001b[0m\u001b[0;34m.\u001b[0m\u001b[0muds\u001b[0m\u001b[0;34m)\u001b[0m\u001b[0;34m:\u001b[0m\u001b[0;34m\u001b[0m\u001b[0;34m\u001b[0m\u001b[0m\n",
            "\u001b[0;32m/usr/local/lib/python3.10/dist-packages/uvicorn/server.py\u001b[0m in \u001b[0;36mrun\u001b[0;34m(self, sockets)\u001b[0m\n\u001b[1;32m     63\u001b[0m     \u001b[0;32mdef\u001b[0m \u001b[0mrun\u001b[0m\u001b[0;34m(\u001b[0m\u001b[0mself\u001b[0m\u001b[0;34m,\u001b[0m \u001b[0msockets\u001b[0m\u001b[0;34m:\u001b[0m \u001b[0mlist\u001b[0m\u001b[0;34m[\u001b[0m\u001b[0msocket\u001b[0m\u001b[0;34m.\u001b[0m\u001b[0msocket\u001b[0m\u001b[0;34m]\u001b[0m \u001b[0;34m|\u001b[0m \u001b[0;32mNone\u001b[0m \u001b[0;34m=\u001b[0m \u001b[0;32mNone\u001b[0m\u001b[0;34m)\u001b[0m \u001b[0;34m->\u001b[0m \u001b[0;32mNone\u001b[0m\u001b[0;34m:\u001b[0m\u001b[0;34m\u001b[0m\u001b[0;34m\u001b[0m\u001b[0m\n\u001b[1;32m     64\u001b[0m         \u001b[0mself\u001b[0m\u001b[0;34m.\u001b[0m\u001b[0mconfig\u001b[0m\u001b[0;34m.\u001b[0m\u001b[0msetup_event_loop\u001b[0m\u001b[0;34m(\u001b[0m\u001b[0;34m)\u001b[0m\u001b[0;34m\u001b[0m\u001b[0;34m\u001b[0m\u001b[0m\n\u001b[0;32m---> 65\u001b[0;31m         \u001b[0;32mreturn\u001b[0m \u001b[0masyncio\u001b[0m\u001b[0;34m.\u001b[0m\u001b[0mrun\u001b[0m\u001b[0;34m(\u001b[0m\u001b[0mself\u001b[0m\u001b[0;34m.\u001b[0m\u001b[0mserve\u001b[0m\u001b[0;34m(\u001b[0m\u001b[0msockets\u001b[0m\u001b[0;34m=\u001b[0m\u001b[0msockets\u001b[0m\u001b[0;34m)\u001b[0m\u001b[0;34m)\u001b[0m\u001b[0;34m\u001b[0m\u001b[0;34m\u001b[0m\u001b[0m\n\u001b[0m\u001b[1;32m     66\u001b[0m \u001b[0;34m\u001b[0m\u001b[0m\n\u001b[1;32m     67\u001b[0m     \u001b[0;32masync\u001b[0m \u001b[0;32mdef\u001b[0m \u001b[0mserve\u001b[0m\u001b[0;34m(\u001b[0m\u001b[0mself\u001b[0m\u001b[0;34m,\u001b[0m \u001b[0msockets\u001b[0m\u001b[0;34m:\u001b[0m \u001b[0mlist\u001b[0m\u001b[0;34m[\u001b[0m\u001b[0msocket\u001b[0m\u001b[0;34m.\u001b[0m\u001b[0msocket\u001b[0m\u001b[0;34m]\u001b[0m \u001b[0;34m|\u001b[0m \u001b[0;32mNone\u001b[0m \u001b[0;34m=\u001b[0m \u001b[0;32mNone\u001b[0m\u001b[0;34m)\u001b[0m \u001b[0;34m->\u001b[0m \u001b[0;32mNone\u001b[0m\u001b[0;34m:\u001b[0m\u001b[0;34m\u001b[0m\u001b[0;34m\u001b[0m\u001b[0m\n",
            "\u001b[0;32m/usr/local/lib/python3.10/dist-packages/nest_asyncio.py\u001b[0m in \u001b[0;36mrun\u001b[0;34m(main, debug)\u001b[0m\n\u001b[1;32m     28\u001b[0m         \u001b[0mtask\u001b[0m \u001b[0;34m=\u001b[0m \u001b[0masyncio\u001b[0m\u001b[0;34m.\u001b[0m\u001b[0mensure_future\u001b[0m\u001b[0;34m(\u001b[0m\u001b[0mmain\u001b[0m\u001b[0;34m)\u001b[0m\u001b[0;34m\u001b[0m\u001b[0;34m\u001b[0m\u001b[0m\n\u001b[1;32m     29\u001b[0m         \u001b[0;32mtry\u001b[0m\u001b[0;34m:\u001b[0m\u001b[0;34m\u001b[0m\u001b[0;34m\u001b[0m\u001b[0m\n\u001b[0;32m---> 30\u001b[0;31m             \u001b[0;32mreturn\u001b[0m \u001b[0mloop\u001b[0m\u001b[0;34m.\u001b[0m\u001b[0mrun_until_complete\u001b[0m\u001b[0;34m(\u001b[0m\u001b[0mtask\u001b[0m\u001b[0;34m)\u001b[0m\u001b[0;34m\u001b[0m\u001b[0;34m\u001b[0m\u001b[0m\n\u001b[0m\u001b[1;32m     31\u001b[0m         \u001b[0;32mfinally\u001b[0m\u001b[0;34m:\u001b[0m\u001b[0;34m\u001b[0m\u001b[0;34m\u001b[0m\u001b[0m\n\u001b[1;32m     32\u001b[0m             \u001b[0;32mif\u001b[0m \u001b[0;32mnot\u001b[0m \u001b[0mtask\u001b[0m\u001b[0;34m.\u001b[0m\u001b[0mdone\u001b[0m\u001b[0;34m(\u001b[0m\u001b[0;34m)\u001b[0m\u001b[0;34m:\u001b[0m\u001b[0;34m\u001b[0m\u001b[0;34m\u001b[0m\u001b[0m\n",
            "\u001b[0;32m/usr/local/lib/python3.10/dist-packages/nest_asyncio.py\u001b[0m in \u001b[0;36mrun_until_complete\u001b[0;34m(self, future)\u001b[0m\n\u001b[1;32m     90\u001b[0m                 \u001b[0mf\u001b[0m\u001b[0;34m.\u001b[0m\u001b[0m_log_destroy_pending\u001b[0m \u001b[0;34m=\u001b[0m \u001b[0;32mFalse\u001b[0m\u001b[0;34m\u001b[0m\u001b[0;34m\u001b[0m\u001b[0m\n\u001b[1;32m     91\u001b[0m             \u001b[0;32mwhile\u001b[0m \u001b[0;32mnot\u001b[0m \u001b[0mf\u001b[0m\u001b[0;34m.\u001b[0m\u001b[0mdone\u001b[0m\u001b[0;34m(\u001b[0m\u001b[0;34m)\u001b[0m\u001b[0;34m:\u001b[0m\u001b[0;34m\u001b[0m\u001b[0;34m\u001b[0m\u001b[0m\n\u001b[0;32m---> 92\u001b[0;31m                 \u001b[0mself\u001b[0m\u001b[0;34m.\u001b[0m\u001b[0m_run_once\u001b[0m\u001b[0;34m(\u001b[0m\u001b[0;34m)\u001b[0m\u001b[0;34m\u001b[0m\u001b[0;34m\u001b[0m\u001b[0m\n\u001b[0m\u001b[1;32m     93\u001b[0m                 \u001b[0;32mif\u001b[0m \u001b[0mself\u001b[0m\u001b[0;34m.\u001b[0m\u001b[0m_stopping\u001b[0m\u001b[0;34m:\u001b[0m\u001b[0;34m\u001b[0m\u001b[0;34m\u001b[0m\u001b[0m\n\u001b[1;32m     94\u001b[0m                     \u001b[0;32mbreak\u001b[0m\u001b[0;34m\u001b[0m\u001b[0;34m\u001b[0m\u001b[0m\n",
            "\u001b[0;32m/usr/local/lib/python3.10/dist-packages/nest_asyncio.py\u001b[0m in \u001b[0;36m_run_once\u001b[0;34m(self)\u001b[0m\n\u001b[1;32m    131\u001b[0m \u001b[0;34m\u001b[0m\u001b[0m\n\u001b[1;32m    132\u001b[0m                 \u001b[0;32mtry\u001b[0m\u001b[0;34m:\u001b[0m\u001b[0;34m\u001b[0m\u001b[0;34m\u001b[0m\u001b[0m\n\u001b[0;32m--> 133\u001b[0;31m                     \u001b[0mhandle\u001b[0m\u001b[0;34m.\u001b[0m\u001b[0m_run\u001b[0m\u001b[0;34m(\u001b[0m\u001b[0;34m)\u001b[0m\u001b[0;34m\u001b[0m\u001b[0;34m\u001b[0m\u001b[0m\n\u001b[0m\u001b[1;32m    134\u001b[0m                 \u001b[0;32mfinally\u001b[0m\u001b[0;34m:\u001b[0m\u001b[0;34m\u001b[0m\u001b[0;34m\u001b[0m\u001b[0m\n\u001b[1;32m    135\u001b[0m                     \u001b[0;31m# restore the current task\u001b[0m\u001b[0;34m\u001b[0m\u001b[0;34m\u001b[0m\u001b[0m\n",
            "\u001b[0;32m/usr/lib/python3.10/asyncio/events.py\u001b[0m in \u001b[0;36m_run\u001b[0;34m(self)\u001b[0m\n\u001b[1;32m     78\u001b[0m     \u001b[0;32mdef\u001b[0m \u001b[0m_run\u001b[0m\u001b[0;34m(\u001b[0m\u001b[0mself\u001b[0m\u001b[0;34m)\u001b[0m\u001b[0;34m:\u001b[0m\u001b[0;34m\u001b[0m\u001b[0;34m\u001b[0m\u001b[0m\n\u001b[1;32m     79\u001b[0m         \u001b[0;32mtry\u001b[0m\u001b[0;34m:\u001b[0m\u001b[0;34m\u001b[0m\u001b[0;34m\u001b[0m\u001b[0m\n\u001b[0;32m---> 80\u001b[0;31m             \u001b[0mself\u001b[0m\u001b[0;34m.\u001b[0m\u001b[0m_context\u001b[0m\u001b[0;34m.\u001b[0m\u001b[0mrun\u001b[0m\u001b[0;34m(\u001b[0m\u001b[0mself\u001b[0m\u001b[0;34m.\u001b[0m\u001b[0m_callback\u001b[0m\u001b[0;34m,\u001b[0m \u001b[0;34m*\u001b[0m\u001b[0mself\u001b[0m\u001b[0;34m.\u001b[0m\u001b[0m_args\u001b[0m\u001b[0;34m)\u001b[0m\u001b[0;34m\u001b[0m\u001b[0;34m\u001b[0m\u001b[0m\n\u001b[0m\u001b[1;32m     81\u001b[0m         \u001b[0;32mexcept\u001b[0m \u001b[0;34m(\u001b[0m\u001b[0mSystemExit\u001b[0m\u001b[0;34m,\u001b[0m \u001b[0mKeyboardInterrupt\u001b[0m\u001b[0;34m)\u001b[0m\u001b[0;34m:\u001b[0m\u001b[0;34m\u001b[0m\u001b[0;34m\u001b[0m\u001b[0m\n\u001b[1;32m     82\u001b[0m             \u001b[0;32mraise\u001b[0m\u001b[0;34m\u001b[0m\u001b[0;34m\u001b[0m\u001b[0m\n",
            "\u001b[0;32m/usr/lib/python3.10/asyncio/tasks.py\u001b[0m in \u001b[0;36m__wakeup\u001b[0;34m(self, future)\u001b[0m\n\u001b[1;32m    313\u001b[0m             \u001b[0;31m# instead of `__next__()`, which is slower for futures\u001b[0m\u001b[0;34m\u001b[0m\u001b[0;34m\u001b[0m\u001b[0m\n\u001b[1;32m    314\u001b[0m             \u001b[0;31m# that return non-generator iterators from their `__iter__`.\u001b[0m\u001b[0;34m\u001b[0m\u001b[0;34m\u001b[0m\u001b[0m\n\u001b[0;32m--> 315\u001b[0;31m             \u001b[0mself\u001b[0m\u001b[0;34m.\u001b[0m\u001b[0m__step\u001b[0m\u001b[0;34m(\u001b[0m\u001b[0;34m)\u001b[0m\u001b[0;34m\u001b[0m\u001b[0;34m\u001b[0m\u001b[0m\n\u001b[0m\u001b[1;32m    316\u001b[0m         \u001b[0mself\u001b[0m \u001b[0;34m=\u001b[0m \u001b[0;32mNone\u001b[0m  \u001b[0;31m# Needed to break cycles when an exception occurs.\u001b[0m\u001b[0;34m\u001b[0m\u001b[0;34m\u001b[0m\u001b[0m\n\u001b[1;32m    317\u001b[0m \u001b[0;34m\u001b[0m\u001b[0m\n",
            "\u001b[0;32m/usr/lib/python3.10/asyncio/tasks.py\u001b[0m in \u001b[0;36m__step\u001b[0;34m(***failed resolving arguments***)\u001b[0m\n\u001b[1;32m    230\u001b[0m                 \u001b[0;31m# We use the `send` method directly, because coroutines\u001b[0m\u001b[0;34m\u001b[0m\u001b[0;34m\u001b[0m\u001b[0m\n\u001b[1;32m    231\u001b[0m                 \u001b[0;31m# don't have `__iter__` and `__next__` methods.\u001b[0m\u001b[0;34m\u001b[0m\u001b[0;34m\u001b[0m\u001b[0m\n\u001b[0;32m--> 232\u001b[0;31m                 \u001b[0mresult\u001b[0m \u001b[0;34m=\u001b[0m \u001b[0mcoro\u001b[0m\u001b[0;34m.\u001b[0m\u001b[0msend\u001b[0m\u001b[0;34m(\u001b[0m\u001b[0;32mNone\u001b[0m\u001b[0;34m)\u001b[0m\u001b[0;34m\u001b[0m\u001b[0;34m\u001b[0m\u001b[0m\n\u001b[0m\u001b[1;32m    233\u001b[0m             \u001b[0;32melse\u001b[0m\u001b[0;34m:\u001b[0m\u001b[0;34m\u001b[0m\u001b[0;34m\u001b[0m\u001b[0m\n\u001b[1;32m    234\u001b[0m                 \u001b[0mresult\u001b[0m \u001b[0;34m=\u001b[0m \u001b[0mcoro\u001b[0m\u001b[0;34m.\u001b[0m\u001b[0mthrow\u001b[0m\u001b[0;34m(\u001b[0m\u001b[0mexc\u001b[0m\u001b[0;34m)\u001b[0m\u001b[0;34m\u001b[0m\u001b[0;34m\u001b[0m\u001b[0m\n",
            "\u001b[0;32m/usr/local/lib/python3.10/dist-packages/uvicorn/server.py\u001b[0m in \u001b[0;36mserve\u001b[0;34m(self, sockets)\u001b[0m\n\u001b[1;32m     66\u001b[0m \u001b[0;34m\u001b[0m\u001b[0m\n\u001b[1;32m     67\u001b[0m     \u001b[0;32masync\u001b[0m \u001b[0;32mdef\u001b[0m \u001b[0mserve\u001b[0m\u001b[0;34m(\u001b[0m\u001b[0mself\u001b[0m\u001b[0;34m,\u001b[0m \u001b[0msockets\u001b[0m\u001b[0;34m:\u001b[0m \u001b[0mlist\u001b[0m\u001b[0;34m[\u001b[0m\u001b[0msocket\u001b[0m\u001b[0;34m.\u001b[0m\u001b[0msocket\u001b[0m\u001b[0;34m]\u001b[0m \u001b[0;34m|\u001b[0m \u001b[0;32mNone\u001b[0m \u001b[0;34m=\u001b[0m \u001b[0;32mNone\u001b[0m\u001b[0;34m)\u001b[0m \u001b[0;34m->\u001b[0m \u001b[0;32mNone\u001b[0m\u001b[0;34m:\u001b[0m\u001b[0;34m\u001b[0m\u001b[0;34m\u001b[0m\u001b[0m\n\u001b[0;32m---> 68\u001b[0;31m         \u001b[0;32mwith\u001b[0m \u001b[0mself\u001b[0m\u001b[0;34m.\u001b[0m\u001b[0mcapture_signals\u001b[0m\u001b[0;34m(\u001b[0m\u001b[0;34m)\u001b[0m\u001b[0;34m:\u001b[0m\u001b[0;34m\u001b[0m\u001b[0;34m\u001b[0m\u001b[0m\n\u001b[0m\u001b[1;32m     69\u001b[0m             \u001b[0;32mawait\u001b[0m \u001b[0mself\u001b[0m\u001b[0;34m.\u001b[0m\u001b[0m_serve\u001b[0m\u001b[0;34m(\u001b[0m\u001b[0msockets\u001b[0m\u001b[0;34m)\u001b[0m\u001b[0;34m\u001b[0m\u001b[0;34m\u001b[0m\u001b[0m\n\u001b[1;32m     70\u001b[0m \u001b[0;34m\u001b[0m\u001b[0m\n",
            "\u001b[0;32m/usr/lib/python3.10/contextlib.py\u001b[0m in \u001b[0;36m__exit__\u001b[0;34m(self, typ, value, traceback)\u001b[0m\n\u001b[1;32m    140\u001b[0m         \u001b[0;32mif\u001b[0m \u001b[0mtyp\u001b[0m \u001b[0;32mis\u001b[0m \u001b[0;32mNone\u001b[0m\u001b[0;34m:\u001b[0m\u001b[0;34m\u001b[0m\u001b[0;34m\u001b[0m\u001b[0m\n\u001b[1;32m    141\u001b[0m             \u001b[0;32mtry\u001b[0m\u001b[0;34m:\u001b[0m\u001b[0;34m\u001b[0m\u001b[0;34m\u001b[0m\u001b[0m\n\u001b[0;32m--> 142\u001b[0;31m                 \u001b[0mnext\u001b[0m\u001b[0;34m(\u001b[0m\u001b[0mself\u001b[0m\u001b[0;34m.\u001b[0m\u001b[0mgen\u001b[0m\u001b[0;34m)\u001b[0m\u001b[0;34m\u001b[0m\u001b[0;34m\u001b[0m\u001b[0m\n\u001b[0m\u001b[1;32m    143\u001b[0m             \u001b[0;32mexcept\u001b[0m \u001b[0mStopIteration\u001b[0m\u001b[0;34m:\u001b[0m\u001b[0;34m\u001b[0m\u001b[0;34m\u001b[0m\u001b[0m\n\u001b[1;32m    144\u001b[0m                 \u001b[0;32mreturn\u001b[0m \u001b[0;32mFalse\u001b[0m\u001b[0;34m\u001b[0m\u001b[0;34m\u001b[0m\u001b[0m\n",
            "\u001b[0;32m/usr/local/lib/python3.10/dist-packages/uvicorn/server.py\u001b[0m in \u001b[0;36mcapture_signals\u001b[0;34m(self)\u001b[0m\n\u001b[1;32m    326\u001b[0m         \u001b[0;31m# done LIFO, see https://stackoverflow.com/questions/48434964\u001b[0m\u001b[0;34m\u001b[0m\u001b[0;34m\u001b[0m\u001b[0m\n\u001b[1;32m    327\u001b[0m         \u001b[0;32mfor\u001b[0m \u001b[0mcaptured_signal\u001b[0m \u001b[0;32min\u001b[0m \u001b[0mreversed\u001b[0m\u001b[0;34m(\u001b[0m\u001b[0mself\u001b[0m\u001b[0;34m.\u001b[0m\u001b[0m_captured_signals\u001b[0m\u001b[0;34m)\u001b[0m\u001b[0;34m:\u001b[0m\u001b[0;34m\u001b[0m\u001b[0;34m\u001b[0m\u001b[0m\n\u001b[0;32m--> 328\u001b[0;31m             \u001b[0msignal\u001b[0m\u001b[0;34m.\u001b[0m\u001b[0mraise_signal\u001b[0m\u001b[0;34m(\u001b[0m\u001b[0mcaptured_signal\u001b[0m\u001b[0;34m)\u001b[0m\u001b[0;34m\u001b[0m\u001b[0;34m\u001b[0m\u001b[0m\n\u001b[0m\u001b[1;32m    329\u001b[0m \u001b[0;34m\u001b[0m\u001b[0m\n\u001b[1;32m    330\u001b[0m     \u001b[0;32mdef\u001b[0m \u001b[0mhandle_exit\u001b[0m\u001b[0;34m(\u001b[0m\u001b[0mself\u001b[0m\u001b[0;34m,\u001b[0m \u001b[0msig\u001b[0m\u001b[0;34m:\u001b[0m \u001b[0mint\u001b[0m\u001b[0;34m,\u001b[0m \u001b[0mframe\u001b[0m\u001b[0;34m:\u001b[0m \u001b[0mFrameType\u001b[0m \u001b[0;34m|\u001b[0m \u001b[0;32mNone\u001b[0m\u001b[0;34m)\u001b[0m \u001b[0;34m->\u001b[0m \u001b[0;32mNone\u001b[0m\u001b[0;34m:\u001b[0m\u001b[0;34m\u001b[0m\u001b[0;34m\u001b[0m\u001b[0m\n",
            "\u001b[0;31mKeyboardInterrupt\u001b[0m: "
          ]
        }
      ]
    },
    {
      "cell_type": "code",
      "source": [],
      "metadata": {
        "id": "ylSLpvKUBT1q"
      },
      "execution_count": null,
      "outputs": []
    },
    {
      "cell_type": "markdown",
      "source": [
        "### 일정 키워드 고정 + 요약"
      ],
      "metadata": {
        "id": "sw2Pf2NcBUdI"
      }
    },
    {
      "cell_type": "code",
      "source": [
        "class Summarizer:\n",
        "    def __init__(self, stopwords: List[str], initialize: bool = True):\n",
        "        self.stopwords = stopwords\n",
        "        self.okt = None\n",
        "        self.summarizer = None\n",
        "        if initialize:\n",
        "            self.initialize_components()\n",
        "\n",
        "    def initialize_components(self):\n",
        "        self.okt = Okt()\n",
        "        self.summarizer = KeysentenceSummarizer(tokenize=self.okt_tokenize, min_sim=0.3)\n",
        "\n",
        "    def okt_tokenize(self, sent: str) -> List[str]:\n",
        "        words = self.okt.pos(sent, join=True)\n",
        "        words = [w for w in words if ('/Noun' in w or '/Adjective' in w or '/Verb' in w)]\n",
        "        return [word for word in words if word not in self.stopwords]\n",
        "\n",
        "    def is_foreign(self, text: str, korean_threshold: float = 0.3) -> bool:\n",
        "        if isinstance(text, list):\n",
        "            text = ' '.join(text)\n",
        "\n",
        "        text = text.strip()\n",
        "        if not text:\n",
        "            return False\n",
        "\n",
        "        total_chars = len(text)\n",
        "        korean_chars = len(re.findall('[가-힣]', text))\n",
        "\n",
        "        return korean_chars / total_chars < korean_threshold\n",
        "\n",
        "    def summarize_content(self, title: str, content: str, important_keywords: List[str] = None) -> List[str]:\n",
        "        if self.is_foreign(content):\n",
        "            return \"자세한 내용은 본문을 참고하세요.\"\n",
        "\n",
        "        if not content:\n",
        "            return \"자세한 내용은 본문을 참고하세요\"\n",
        "\n",
        "        if isinstance(content, list):\n",
        "            content = ' '.join(content)\n",
        "\n",
        "        if not content.strip():\n",
        "            return []\n",
        "\n",
        "        content = content.replace('\"','').replace(\"'\",'')\n",
        "\n",
        "        sents = re.split(r'\\n|\\.', content)\n",
        "        sents = list(filter(None, sents))\n",
        "        sents = [sent for sent in sents if sent.strip()]\n",
        "\n",
        "        if not sents:\n",
        "            return []\n",
        "\n",
        "        # 특정 키워드를 포함한 문장을 먼저 추출\n",
        "        important_sents = []\n",
        "        remaining_sents = []\n",
        "\n",
        "        if important_keywords is None:\n",
        "            important_keywords = []\n",
        "\n",
        "        for sent in sents:\n",
        "            if any(keyword in sent for keyword in important_keywords):\n",
        "                important_sents.append(sent)\n",
        "            else:\n",
        "                remaining_sents.append(sent)\n",
        "\n",
        "        # 남은 문장들로 요약 수행\n",
        "        try:\n",
        "            if remaining_sents:\n",
        "                keysents = self.summarizer.summarize(remaining_sents, topk=3)\n",
        "                summarized_sents = [item[2] for item in keysents]\n",
        "            else:\n",
        "                summarized_sents = []\n",
        "        except ValueError as e:\n",
        "            summarized_sents = [\"자세한 내용은 본문을 참고하세요.\"]\n",
        "\n",
        "        # 중요한 문장과 요약된 문장을 합치기\n",
        "        final_sents = important_sents + summarized_sents\n",
        "\n",
        "        # 중복 제거 및 결과 조정\n",
        "        final_sents = list(dict.fromkeys(final_sents))\n",
        "\n",
        "        # 최종 결과가 세 문장이 되도록 조정\n",
        "        if len(final_sents) > 3:\n",
        "            final_sents = final_sents[:3]\n",
        "        elif len(final_sents) < 3 and remaining_sents:\n",
        "            additional_sents = [sent for sent in summarized_sents if sent not in final_sents]\n",
        "            final_sents.extend(additional_sents[:3 - len(final_sents)])\n",
        "\n",
        "        return final_sents"
      ],
      "metadata": {
        "id": "4Vap4hpSBXKB"
      },
      "execution_count": null,
      "outputs": []
    },
    {
      "cell_type": "code",
      "source": [
        "# 예시 사용\n",
        "#stopwords = ['경기도 용인시 처인구 모현읍 외대로 81 한국외국어대학교', '글로벌캠퍼스AI교육원', '관련학과', '운영지원', '기대효과', '당사', '우리대학', 'HK', '연구단', '이메일', '학사', '학생지원팀', '국제입학관리팀', '대학원사무1팀', '대학원사무2팀', '교무행정팀', '한국어문화교육원', '참고사항', '공고', '끝', '한국외국어대학교', '누구나', '누가나', 'e-mail', 'email', '이메일', '널리', '양해', '부득이', '여러분', '합니다', '참고바랍니다', '바라며', '관심', '부탁드립니다', '부탁', '유념', '미루지 않고', '하루 빨리', '신경 써주시기', '주저 말고', '여기를 클릭', '하였습니다', '예정입니다', '드립니다', '알려 드립니다', '꼼꼼히', '아울러', '각별히', '거듭', '협조', '최선', '결실', '결실을 맺으시기를', '진심으로', '기원합니다', '함께 하겠습니다', '열정과 꿈', '마련하였습니다', '마련', '수도 있음', '기다리고', '노력', '적극 협조', '뭐니', '파악하는', '생각합니다', '무엇이며', '헌신적', '도모', '자유롭게', '교수학습개발부', '국제교류팀', '자유로운', '누구나', '고민', '선사하실', '흥미로운', '바로가기', '행정지원처장', '한국', '과정', '소개', '받다', '있다', '특히', '널리', '통해', '수', '와', '별', '되다', '않다', '→', '내', '후', '※', '놓다', '하다', '내외', '약', '하므다', '바로가기', '•', '○', '과정', '▶', '클릭', '업로드', '반드시', '이다', '센터', '프로그램', '홈페이지', '\\\\n\\\\n', '\\\\n\\\\n\\\\n', '\\\\n', '활동', '주관', '통해', '같이', '모두', '보다', '같다', '부탁드리다', '드리다', '위해', '자세하다', '\\\\n\\\\n\\\\n\\\\n\\\\n', '의하다', '해주다', '직접', '혹은', '알다', '', '', '', '아', '휴', '아이구', '아이쿠', '아이고', '어', '나', '우리', '저희', '따라', '의해', '을', '를', '에', '의', '가', '으로', '로', '에게', '뿐이다', '의거하여', '근거하여', '입각하여', '기준으로', '예하면', '예를 들면', '예를 들자면', '저', '소인', '소생', '저희', '지말고', '하지마', '하지마라', '다른', '물론', '또한', '그리고', '비길수 없다', '해서는 안된다', '뿐만 아니라', '만이 아니다', '만은 아니다', '막론하고', '관계없이', '그치지 않다', '그러나', '그런데', '하지만', '든간에', '논하지 않다', '따지지 않다', '설사', '비록', '더라도', '아니면', '만 못하다', '하는 편이 낫다', '불문하고', '향하여', '향해서', '향하다', '쪽으로', '틈타', '이용하여', '타다', '오르다', '제외하고', '이 외에', '이 밖에', '하여야', '비로소', '한다면 몰라도', '외에도', '이곳', '여기', '부터', '기점으로', '따라서', '할 생각이다', '하려고하다', '이리하여', '그리하여', '그렇게 함으로써', '하지만', '일때', '할때', '앞에서', '중에서', '보는데서', '으로써', '로써', '까지', '해야한다', '일것이다', '반드시', '할줄알다', '할수있다', '할수있어', '임에 틀림없다', '한다면', '등', '등등', '제', '겨우', '단지', '다만', '할뿐', '딩동', '댕그', '대해서', '대하여', '대하면', '훨씬', '얼마나', '얼마만큼', '얼마큼', '남짓', '여', '얼마간', '약간', '다소', '좀', '조금', '다수', '몇', '얼마', '지만', '하물며', '또한', '그러나', '그렇지만', '하지만', '이외에도', '대해 말하자면', '뿐이다', '다음에', '반대로', '반대로 말하자면', '이와 반대로', '바꾸어서 말하면', '바꾸어서 한다면', '만약', '그렇지않으면', '까악', '툭', '딱', '삐걱거리다', '보드득', '비걱거리다', '꽈당', '응당', '해야한다', '에 가서', '각', '각각', '여러분', '각종', '각자', '제각기', '하도록하다', '와', '과', '그러므로', '그래서', '고로', '한 까닭에', '하기 때문에', '거니와', '이지만', '대하여', '관하여', '관한', '과연', '실로', '아니나다를가', '생각한대로', '진짜로', '한적이있다', '하곤하였다', '하', '하하', '허허', '아하', '거바', '와', '오', '왜', '어째서', '무엇때문에', '어찌', '하겠는가', '무슨', '어디', '어느곳', '더군다나', '하물며', '더욱이는', '어느때', '언제', '야', '이봐', '어이', '여보시오', '흐흐', '흥', '휴', '헉헉', '헐떡헐떡', '영차', '여차', '어기여차', '끙끙', '아야', '앗', '아야', '콸콸', '졸졸', '좍좍', '뚝뚝', '주룩주룩', '솨', '우르르', '그래도', '또', '그리고', '바꾸어말하면', '바꾸어말하자면', '혹은', '혹시', '답다', '및', '그에 따르는', '때가 되어', '즉', '지든지', '설령', '가령', '하더라도', '할지라도', '일지라도', '지든지', '몇', '거의', '하마터면', '인젠', '이젠', '된바에야', '된이상', '만큼', '어찌됏든', '그위에', '게다가', '점에서 보아', '비추어 보아', '고려하면', '하게될것이다', '일것이다', '비교적', '좀', '보다더', '비하면', '시키다', '하게하다', '할만하다', '의해서', '연이서', '이어서', '잇따라', '뒤따라', '뒤이어', '결국', '의지하여', '기대여', '통하여', '자마자', '더욱더', '불구하고', '얼마든지', '마음대로', '주저하지 않고', '곧', '즉시', '바로', '당장', '하자마자', '밖에 안된다', '하면된다', '그래', '그렇지', '요컨대', '다시 말하자면', '바꿔 말하면', '즉', '구체적으로', '말하자면', '시작하여', '시초에', '이상', '허', '헉', '허걱', '바와같이', '해도좋다', '해도된다', '게다가', '더구나', '하물며', '와르르', '팍', '퍽', '펄렁', '동안', '이래', '하고있었다', '이었다', '에서', '로부터', '까지', '예하면', '했어요', '해요', '함께', '같이', '더불어', '마저', '마저도', '양자', '모두', '습니다', '가까스로', '하려고하다', '즈음하여', '다른', '다른 방면으로', '해봐요', '습니까', '했어요', '말할것도 없고', '무릎쓰고', '개의치않고', '하는것만 못하다', '하는것이 낫다', '매', '매번', '들', '모', '어느것', '어느', '로써', '갖고말하자면', '어디', '어느쪽', '어느것', '어느해', '어느 년도', '라 해도', '언젠가', '어떤것', '어느것', '저기', '저쪽', '저것', '그때', '그럼', '그러면', '요만한걸', '그래', '그때', '저것만큼', '그저', '이르기까지', '할 줄 안다', '할 힘이 있다', '너', '너희', '당신', '어찌', '설마', '차라리', '할지언정', '할지라도', '할망정', '할지언정', '구토하다', '게우다', '토하다', '메쓰겁다', '옆사람', '퉤', '쳇', '의거하여', '근거하여', '의해', '따라', '힘입어', '그', '다음', '버금', '두번째로', '기타', '첫번째로', '나머지는', '그중에서', '견지에서', '형식으로 쓰여', '입장에서', '위해서', '단지', '의해되다', '하도록시키다', '뿐만아니라', '반대로', '전후', '전자', '앞의것', '잠시', '잠깐', '하면서', '그렇지만', '다음에', '그러한즉', '그런즉', '남들', '아무거나', '어찌하든지', '같다', '비슷하다', '예컨대', '이럴정도로', '어떻게', '만약', '만일', '위에서 서술한바와같이', '인 듯하다', '하지 않는다면', '만약에', '무엇', '무슨', '어느', '어떤', '아래윗', '조차', '한데', '그럼에도 불구하고', '여전히', '심지어', '까지도', '조차도', '하지 않도록', '않기 위하여', '때', '시각', '무렵', '시간', '동안', '어때', '어떠한', '하여금', '네', '예', '우선', '누구', '누가 알겠는가', '아무도', '줄은모른다', '줄은 몰랏다', '하는 김에', '겸사겸사', '하는바', '그런 까닭에', '한 이유는', '그러니', '그러니까', '때문에', '그', '너희', '그들', '너희들', '타인', '것', '것들', '너', '위하여', '공동으로', '동시에', '하기 위하여', '어찌하여', '무엇때문에', '붕붕', '윙윙', '나', '우리', '엉엉', '휘익', '윙윙', '오호', '아하', '어쨋든', '만 못하다', '하기보다는', '차라리', '하는 편이 낫다', '흐흐', '놀라다', '상대적으로 말하자면', '마치', '아니라면', '쉿', '그렇지 않으면', '그렇지 않다면', '안 그러면', '아니었다면', '하든지', '아니면', '이라면', '좋아', '알았어', '하는것도', '그만이다', '어쩔수 없다', '하나', '일', '일반적으로', '일단', '한켠으로는', '오자마자', '이렇게되면', '이와같다면', '전부', '한마디', '한항목', '근거로', '하기에', '아울러', '하지 않도록', '않기 위해서', '이르기까지', '이 되다', '로 인하여', '까닭으로', '이유만으로', '이로 인하여', '그래서', '이 때문에', '그러므로', '그런 까닭에', '알 수 있다', '결론을 낼 수 있다', '으로 인하여', '있다', '어떤것', '관계가 있다', '관련이 있다', '연관되다', '어떤것들', '에 대해', '이리하여', '그리하여', '여부', '하기보다는', '하느니', '하면 할수록', '운운', '이러이러하다', '하구나', '하도다', '다시말하면', '다음으로', '에 있다', '에 달려 있다', '우리', '우리들', '오히려', '하기는한데', '어떻게', '어떻해', '어찌됏어', '어때', '어째서', '본대로', '자', '이', '이쪽', '여기', '이것', '이번', '이렇게말하자면', '이런', '이러한', '이와 같은', '요만큼', '요만한 것', '얼마 안 되는 것', '이만큼', '이 정도의', '이렇게 많은 것', '이와 같다', '이때', '이렇구나', '것과 같이', '끼익', '삐걱', '따위', '와 같은 사람들', '부류의 사람들', '왜냐하면', '중의하나', '오직', '오로지', '에 한하다', '하기만 하면', '도착하다', '까지 미치다', '도달하다', '정도에 이르다', '할 지경이다', '결과에 이르다', '관해서는', '여러분', '하고 있다', '한 후', '혼자', '자기', '자기집', '자신', '우에 종합한것과같이', '총적으로 보면', '총적으로 말하면', '총적으로', '대로 하다', '으로서', '참', '그만이다', '할 따름이다', '쿵', '탕탕', '쾅쾅', '둥둥', '봐', '봐라', '아이야', '아니', '와아', '응', '아이', '참나', '년', '월', '일', '령', '영', '일', '이', '삼', '사', '오', '육', '륙', '칠', '팔', '구', '이천육', '이천칠', '이천팔', '이천구', '하나', '둘', '셋', '넷', '다섯', '여섯', '일곱', '여덟', '아홉', '령', '영', '줄', '밓었', '의', '네', '데', '때', '그', '것', '그것', '듯', '점', '이', '뭐', '정말']\n",
        "# 중요한 키워드 정하기\n",
        "#important_keywords = ['신청기간', '신청', '검사기간', '시험일시','시험 일시','일시','기간']"
      ],
      "metadata": {
        "id": "s6BiU94IBXMZ"
      },
      "execution_count": null,
      "outputs": []
    },
    {
      "cell_type": "markdown",
      "source": [
        "#### Fastapi 배포"
      ],
      "metadata": {
        "id": "e5saWeeZoL7s"
      }
    },
    {
      "cell_type": "code",
      "source": [
        "app = FastAPI()\n",
        "stopwords_set = ['경기도 용인시 처인구 모현읍 외대로 81 한국외국어대학교', '글로벌캠퍼스AI교육원', '관련학과', '운영지원', '기대효과', '당사', '우리대학', 'HK', '연구단', '이메일', '학사', '학생지원팀', '국제입학관리팀', '대학원사무1팀', '대학원사무2팀', '교무행정팀', '한국어문화교육원', '참고사항', '공고', '끝', '한국외국어대학교', '누구나', '누가나', 'e-mail', 'email', '이메일', '널리', '양해', '부득이', '여러분', '합니다', '참고바랍니다', '바라며', '관심', '부탁드립니다', '부탁', '유념', '미루지 않고', '하루 빨리', '신경 써주시기', '주저 말고', '여기를 클릭', '하였습니다', '예정입니다', '드립니다', '알려 드립니다', '꼼꼼히', '아울러', '각별히', '거듭', '협조', '최선', '결실', '결실을 맺으시기를', '진심으로', '기원합니다', '함께 하겠습니다', '열정과 꿈', '마련하였습니다', '마련', '수도 있음', '기다리고', '노력', '적극 협조', '뭐니', '파악하는', '생각합니다', '무엇이며', '헌신적', '도모', '자유롭게', '교수학습개발부', '국제교류팀', '자유로운', '누구나', '고민', '선사하실', '흥미로운', '바로가기', '행정지원처장', '한국', '과정', '소개', '받다', '있다', '특히', '널리', '통해', '수', '와', '별', '되다', '않다', '→', '내', '후', '※', '놓다', '하다', '내외', '약', '하므다', '바로가기', '•', '○', '과정', '▶', '클릭', '업로드', '반드시', '이다', '센터', '프로그램', '홈페이지', '\\\\n\\\\n', '\\\\n\\\\n\\\\n', '\\\\n', '활동', '주관', '통해', '같이', '모두', '보다', '같다', '부탁드리다', '드리다', '위해', '자세하다', '\\\\n\\\\n\\\\n\\\\n\\\\n', '의하다', '해주다', '직접', '혹은', '알다', '', '', '', '아', '휴', '아이구', '아이쿠', '아이고', '어', '나', '우리', '저희', '따라', '의해', '을', '를', '에', '의', '가', '으로', '로', '에게', '뿐이다', '의거하여', '근거하여', '입각하여', '기준으로', '예하면', '예를 들면', '예를 들자면', '저', '소인', '소생', '저희', '지말고', '하지마', '하지마라', '다른', '물론', '또한', '그리고', '비길수 없다', '해서는 안된다', '뿐만 아니라', '만이 아니다', '만은 아니다', '막론하고', '관계없이', '그치지 않다', '그러나', '그런데', '하지만', '든간에', '논하지 않다', '따지지 않다', '설사', '비록', '더라도', '아니면', '만 못하다', '하는 편이 낫다', '불문하고', '향하여', '향해서', '향하다', '쪽으로', '틈타', '이용하여', '타다', '오르다', '제외하고', '이 외에', '이 밖에', '하여야', '비로소', '한다면 몰라도', '외에도', '이곳', '여기', '부터', '기점으로', '따라서', '할 생각이다', '하려고하다', '이리하여', '그리하여', '그렇게 함으로써', '하지만', '일때', '할때', '앞에서', '중에서', '보는데서', '으로써', '로써', '까지', '해야한다', '일것이다', '반드시', '할줄알다', '할수있다', '할수있어', '임에 틀림없다', '한다면', '등', '등등', '제', '겨우', '단지', '다만', '할뿐', '딩동', '댕그', '대해서', '대하여', '대하면', '훨씬', '얼마나', '얼마만큼', '얼마큼', '남짓', '여', '얼마간', '약간', '다소', '좀', '조금', '다수', '몇', '얼마', '지만', '하물며', '또한', '그러나', '그렇지만', '하지만', '이외에도', '대해 말하자면', '뿐이다', '다음에', '반대로', '반대로 말하자면', '이와 반대로', '바꾸어서 말하면', '바꾸어서 한다면', '만약', '그렇지않으면', '까악', '툭', '딱', '삐걱거리다', '보드득', '비걱거리다', '꽈당', '응당', '해야한다', '에 가서', '각', '각각', '여러분', '각종', '각자', '제각기', '하도록하다', '와', '과', '그러므로', '그래서', '고로', '한 까닭에', '하기 때문에', '거니와', '이지만', '대하여', '관하여', '관한', '과연', '실로', '아니나다를가', '생각한대로', '진짜로', '한적이있다', '하곤하였다', '하', '하하', '허허', '아하', '거바', '와', '오', '왜', '어째서', '무엇때문에', '어찌', '하겠는가', '무슨', '어디', '어느곳', '더군다나', '하물며', '더욱이는', '어느때', '언제', '야', '이봐', '어이', '여보시오', '흐흐', '흥', '휴', '헉헉', '헐떡헐떡', '영차', '여차', '어기여차', '끙끙', '아야', '앗', '아야', '콸콸', '졸졸', '좍좍', '뚝뚝', '주룩주룩', '솨', '우르르', '그래도', '또', '그리고', '바꾸어말하면', '바꾸어말하자면', '혹은', '혹시', '답다', '및', '그에 따르는', '때가 되어', '즉', '지든지', '설령', '가령', '하더라도', '할지라도', '일지라도', '지든지', '몇', '거의', '하마터면', '인젠', '이젠', '된바에야', '된이상', '만큼', '어찌됏든', '그위에', '게다가', '점에서 보아', '비추어 보아', '고려하면', '하게될것이다', '일것이다', '비교적', '좀', '보다더', '비하면', '시키다', '하게하다', '할만하다', '의해서', '연이서', '이어서', '잇따라', '뒤따라', '뒤이어', '결국', '의지하여', '기대여', '통하여', '자마자', '더욱더', '불구하고', '얼마든지', '마음대로', '주저하지 않고', '곧', '즉시', '바로', '당장', '하자마자', '밖에 안된다', '하면된다', '그래', '그렇지', '요컨대', '다시 말하자면', '바꿔 말하면', '즉', '구체적으로', '말하자면', '시작하여', '시초에', '이상', '허', '헉', '허걱', '바와같이', '해도좋다', '해도된다', '게다가', '더구나', '하물며', '와르르', '팍', '퍽', '펄렁', '동안', '이래', '하고있었다', '이었다', '에서', '로부터', '까지', '예하면', '했어요', '해요', '함께', '같이', '더불어', '마저', '마저도', '양자', '모두', '습니다', '가까스로', '하려고하다', '즈음하여', '다른', '다른 방면으로', '해봐요', '습니까', '했어요', '말할것도 없고', '무릎쓰고', '개의치않고', '하는것만 못하다', '하는것이 낫다', '매', '매번', '들', '모', '어느것', '어느', '로써', '갖고말하자면', '어디', '어느쪽', '어느것', '어느해', '어느 년도', '라 해도', '언젠가', '어떤것', '어느것', '저기', '저쪽', '저것', '그때', '그럼', '그러면', '요만한걸', '그래', '그때', '저것만큼', '그저', '이르기까지', '할 줄 안다', '할 힘이 있다', '너', '너희', '당신', '어찌', '설마', '차라리', '할지언정', '할지라도', '할망정', '할지언정', '구토하다', '게우다', '토하다', '메쓰겁다', '옆사람', '퉤', '쳇', '의거하여', '근거하여', '의해', '따라', '힘입어', '그', '다음', '버금', '두번째로', '기타', '첫번째로', '나머지는', '그중에서', '견지에서', '형식으로 쓰여', '입장에서', '위해서', '단지', '의해되다', '하도록시키다', '뿐만아니라', '반대로', '전후', '전자', '앞의것', '잠시', '잠깐', '하면서', '그렇지만', '다음에', '그러한즉', '그런즉', '남들', '아무거나', '어찌하든지', '같다', '비슷하다', '예컨대', '이럴정도로', '어떻게', '만약', '만일', '위에서 서술한바와같이', '인 듯하다', '하지 않는다면', '만약에', '무엇', '무슨', '어느', '어떤', '아래윗', '조차', '한데', '그럼에도 불구하고', '여전히', '심지어', '까지도', '조차도', '하지 않도록', '않기 위하여', '때', '시각', '무렵', '시간', '동안', '어때', '어떠한', '하여금', '네', '예', '우선', '누구', '누가 알겠는가', '아무도', '줄은모른다', '줄은 몰랏다', '하는 김에', '겸사겸사', '하는바', '그런 까닭에', '한 이유는', '그러니', '그러니까', '때문에', '그', '너희', '그들', '너희들', '타인', '것', '것들', '너', '위하여', '공동으로', '동시에', '하기 위하여', '어찌하여', '무엇때문에', '붕붕', '윙윙', '나', '우리', '엉엉', '휘익', '윙윙', '오호', '아하', '어쨋든', '만 못하다', '하기보다는', '차라리', '하는 편이 낫다', '흐흐', '놀라다', '상대적으로 말하자면', '마치', '아니라면', '쉿', '그렇지 않으면', '그렇지 않다면', '안 그러면', '아니었다면', '하든지', '아니면', '이라면', '좋아', '알았어', '하는것도', '그만이다', '어쩔수 없다', '하나', '일', '일반적으로', '일단', '한켠으로는', '오자마자', '이렇게되면', '이와같다면', '전부', '한마디', '한항목', '근거로', '하기에', '아울러', '하지 않도록', '않기 위해서', '이르기까지', '이 되다', '로 인하여', '까닭으로', '이유만으로', '이로 인하여', '그래서', '이 때문에', '그러므로', '그런 까닭에', '알 수 있다', '결론을 낼 수 있다', '으로 인하여', '있다', '어떤것', '관계가 있다', '관련이 있다', '연관되다', '어떤것들', '에 대해', '이리하여', '그리하여', '여부', '하기보다는', '하느니', '하면 할수록', '운운', '이러이러하다', '하구나', '하도다', '다시말하면', '다음으로', '에 있다', '에 달려 있다', '우리', '우리들', '오히려', '하기는한데', '어떻게', '어떻해', '어찌됏어', '어때', '어째서', '본대로', '자', '이', '이쪽', '여기', '이것', '이번', '이렇게말하자면', '이런', '이러한', '이와 같은', '요만큼', '요만한 것', '얼마 안 되는 것', '이만큼', '이 정도의', '이렇게 많은 것', '이와 같다', '이때', '이렇구나', '것과 같이', '끼익', '삐걱', '따위', '와 같은 사람들', '부류의 사람들', '왜냐하면', '중의하나', '오직', '오로지', '에 한하다', '하기만 하면', '도착하다', '까지 미치다', '도달하다', '정도에 이르다', '할 지경이다', '결과에 이르다', '관해서는', '여러분', '하고 있다', '한 후', '혼자', '자기', '자기집', '자신', '우에 종합한것과같이', '총적으로 보면', '총적으로 말하면', '총적으로', '대로 하다', '으로서', '참', '그만이다', '할 따름이다', '쿵', '탕탕', '쾅쾅', '둥둥', '봐', '봐라', '아이야', '아니', '와아', '응', '아이', '참나', '년', '월', '일', '령', '영', '일', '이', '삼', '사', '오', '육', '륙', '칠', '팔', '구', '이천육', '이천칠', '이천팔', '이천구', '하나', '둘', '셋', '넷', '다섯', '여섯', '일곱', '여덟', '아홉', '령', '영', '줄', '밓었', '의', '네', '데', '때', '그', '것', '그것', '듯', '점', '이', '뭐', '정말']\n",
        "important_keywords = ['신청기간','신청 기간', '검사기간', '시험일시','일시']\n",
        "summarizer = Summarizer(stopwords=stopwords_set)"
      ],
      "metadata": {
        "id": "A4BWa8jZoPHH"
      },
      "execution_count": null,
      "outputs": []
    },
    {
      "cell_type": "code",
      "source": [
        "class ModelInput(BaseModel):\n",
        "    title: str\n",
        "    content: str\n",
        "\n",
        "@app.post(\"/summarize/\")\n",
        "def summarize_content(input_data: ModelInput):\n",
        "    title = input_data.title\n",
        "    content = input_data.content\n",
        "    summary = summarizer.summarize_content(title, content,important_keywords)\n",
        "    return {\"summary\": summary}"
      ],
      "metadata": {
        "id": "AjdBR3McnUkd"
      },
      "execution_count": null,
      "outputs": []
    },
    {
      "cell_type": "code",
      "source": [
        "# Colab에서 asyncio 이벤트 루프를 중첩\n",
        "nest_asyncio.apply()\n",
        "\n",
        "# ngrok 터널 시작\n",
        "ngrok.kill()  # 기존 ngrok 세션 종료\n",
        "\n",
        "# 토큰 갱신 필요시 갱신\n",
        "!ngrok authtoken \"2hJQt9L0vTO3rTjHv0gOH43TmCf_7HG3wrTF235UCccmCQoBj\"\n",
        "ngrok_tunnel = ngrok.connect(8000)\n",
        "print('Public URL:', ngrok_tunnel.public_url)\n",
        "\n",
        "# Uvicorn을 사용하여 FastAPI 앱 실행\n",
        "uvicorn.run(app, host='0.0.0.0', port=8000)"
      ],
      "metadata": {
        "colab": {
          "base_uri": "https://localhost:8080/",
          "height": 541
        },
        "id": "UpUx52IAntUE",
        "outputId": "44db890f-f114-4ebd-eea3-426a0c144663"
      },
      "execution_count": null,
      "outputs": [
        {
          "output_type": "stream",
          "name": "stdout",
          "text": [
            "Authtoken saved to configuration file: /root/.config/ngrok/ngrok.yml\n",
            "Public URL: https://f2eb-35-245-73-156.ngrok-free.app\n"
          ]
        },
        {
          "output_type": "stream",
          "name": "stderr",
          "text": [
            "INFO:     Started server process [4027]\n",
            "INFO:     Waiting for application startup.\n",
            "INFO:     Application startup complete.\n",
            "INFO:     Uvicorn running on http://0.0.0.0:8000 (Press CTRL+C to quit)\n"
          ]
        },
        {
          "output_type": "stream",
          "name": "stdout",
          "text": [
            "INFO:     117.110.95.42:0 - \"POST /summarize/ HTTP/1.1\" 200 OK\n"
          ]
        },
        {
          "output_type": "stream",
          "name": "stderr",
          "text": [
            "INFO:     Shutting down\n",
            "INFO:     Waiting for application shutdown.\n",
            "INFO:     Application shutdown complete.\n",
            "INFO:     Finished server process [4027]\n"
          ]
        },
        {
          "output_type": "error",
          "ename": "KeyboardInterrupt",
          "evalue": "",
          "traceback": [
            "\u001b[0;31m---------------------------------------------------------------------------\u001b[0m",
            "\u001b[0;31mKeyboardInterrupt\u001b[0m                         Traceback (most recent call last)",
            "\u001b[0;32m<ipython-input-55-9f59dd42f9b8>\u001b[0m in \u001b[0;36m<cell line: 13>\u001b[0;34m()\u001b[0m\n\u001b[1;32m     11\u001b[0m \u001b[0;34m\u001b[0m\u001b[0m\n\u001b[1;32m     12\u001b[0m \u001b[0;31m# Uvicorn을 사용하여 FastAPI 앱 실행\u001b[0m\u001b[0;34m\u001b[0m\u001b[0;34m\u001b[0m\u001b[0m\n\u001b[0;32m---> 13\u001b[0;31m \u001b[0muvicorn\u001b[0m\u001b[0;34m.\u001b[0m\u001b[0mrun\u001b[0m\u001b[0;34m(\u001b[0m\u001b[0mapp\u001b[0m\u001b[0;34m,\u001b[0m \u001b[0mhost\u001b[0m\u001b[0;34m=\u001b[0m\u001b[0;34m'0.0.0.0'\u001b[0m\u001b[0;34m,\u001b[0m \u001b[0mport\u001b[0m\u001b[0;34m=\u001b[0m\u001b[0;36m8000\u001b[0m\u001b[0;34m)\u001b[0m\u001b[0;34m\u001b[0m\u001b[0;34m\u001b[0m\u001b[0m\n\u001b[0m",
            "\u001b[0;32m/usr/local/lib/python3.10/dist-packages/uvicorn/main.py\u001b[0m in \u001b[0;36mrun\u001b[0;34m(app, host, port, uds, fd, loop, http, ws, ws_max_size, ws_max_queue, ws_ping_interval, ws_ping_timeout, ws_per_message_deflate, lifespan, interface, reload, reload_dirs, reload_includes, reload_excludes, reload_delay, workers, env_file, log_config, log_level, access_log, proxy_headers, server_header, date_header, forwarded_allow_ips, root_path, limit_concurrency, backlog, limit_max_requests, timeout_keep_alive, timeout_graceful_shutdown, ssl_keyfile, ssl_certfile, ssl_keyfile_password, ssl_version, ssl_cert_reqs, ssl_ca_certs, ssl_ciphers, headers, use_colors, app_dir, factory, h11_max_incomplete_event_size)\u001b[0m\n\u001b[1;32m    575\u001b[0m             \u001b[0mMultiprocess\u001b[0m\u001b[0;34m(\u001b[0m\u001b[0mconfig\u001b[0m\u001b[0;34m,\u001b[0m \u001b[0mtarget\u001b[0m\u001b[0;34m=\u001b[0m\u001b[0mserver\u001b[0m\u001b[0;34m.\u001b[0m\u001b[0mrun\u001b[0m\u001b[0;34m,\u001b[0m \u001b[0msockets\u001b[0m\u001b[0;34m=\u001b[0m\u001b[0;34m[\u001b[0m\u001b[0msock\u001b[0m\u001b[0;34m]\u001b[0m\u001b[0;34m)\u001b[0m\u001b[0;34m.\u001b[0m\u001b[0mrun\u001b[0m\u001b[0;34m(\u001b[0m\u001b[0;34m)\u001b[0m\u001b[0;34m\u001b[0m\u001b[0;34m\u001b[0m\u001b[0m\n\u001b[1;32m    576\u001b[0m         \u001b[0;32melse\u001b[0m\u001b[0;34m:\u001b[0m\u001b[0;34m\u001b[0m\u001b[0;34m\u001b[0m\u001b[0m\n\u001b[0;32m--> 577\u001b[0;31m             \u001b[0mserver\u001b[0m\u001b[0;34m.\u001b[0m\u001b[0mrun\u001b[0m\u001b[0;34m(\u001b[0m\u001b[0;34m)\u001b[0m\u001b[0;34m\u001b[0m\u001b[0;34m\u001b[0m\u001b[0m\n\u001b[0m\u001b[1;32m    578\u001b[0m     \u001b[0;32mfinally\u001b[0m\u001b[0;34m:\u001b[0m\u001b[0;34m\u001b[0m\u001b[0;34m\u001b[0m\u001b[0m\n\u001b[1;32m    579\u001b[0m         \u001b[0;32mif\u001b[0m \u001b[0mconfig\u001b[0m\u001b[0;34m.\u001b[0m\u001b[0muds\u001b[0m \u001b[0;32mand\u001b[0m \u001b[0mos\u001b[0m\u001b[0;34m.\u001b[0m\u001b[0mpath\u001b[0m\u001b[0;34m.\u001b[0m\u001b[0mexists\u001b[0m\u001b[0;34m(\u001b[0m\u001b[0mconfig\u001b[0m\u001b[0;34m.\u001b[0m\u001b[0muds\u001b[0m\u001b[0;34m)\u001b[0m\u001b[0;34m:\u001b[0m\u001b[0;34m\u001b[0m\u001b[0;34m\u001b[0m\u001b[0m\n",
            "\u001b[0;32m/usr/local/lib/python3.10/dist-packages/uvicorn/server.py\u001b[0m in \u001b[0;36mrun\u001b[0;34m(self, sockets)\u001b[0m\n\u001b[1;32m     63\u001b[0m     \u001b[0;32mdef\u001b[0m \u001b[0mrun\u001b[0m\u001b[0;34m(\u001b[0m\u001b[0mself\u001b[0m\u001b[0;34m,\u001b[0m \u001b[0msockets\u001b[0m\u001b[0;34m:\u001b[0m \u001b[0mlist\u001b[0m\u001b[0;34m[\u001b[0m\u001b[0msocket\u001b[0m\u001b[0;34m.\u001b[0m\u001b[0msocket\u001b[0m\u001b[0;34m]\u001b[0m \u001b[0;34m|\u001b[0m \u001b[0;32mNone\u001b[0m \u001b[0;34m=\u001b[0m \u001b[0;32mNone\u001b[0m\u001b[0;34m)\u001b[0m \u001b[0;34m->\u001b[0m \u001b[0;32mNone\u001b[0m\u001b[0;34m:\u001b[0m\u001b[0;34m\u001b[0m\u001b[0;34m\u001b[0m\u001b[0m\n\u001b[1;32m     64\u001b[0m         \u001b[0mself\u001b[0m\u001b[0;34m.\u001b[0m\u001b[0mconfig\u001b[0m\u001b[0;34m.\u001b[0m\u001b[0msetup_event_loop\u001b[0m\u001b[0;34m(\u001b[0m\u001b[0;34m)\u001b[0m\u001b[0;34m\u001b[0m\u001b[0;34m\u001b[0m\u001b[0m\n\u001b[0;32m---> 65\u001b[0;31m         \u001b[0;32mreturn\u001b[0m \u001b[0masyncio\u001b[0m\u001b[0;34m.\u001b[0m\u001b[0mrun\u001b[0m\u001b[0;34m(\u001b[0m\u001b[0mself\u001b[0m\u001b[0;34m.\u001b[0m\u001b[0mserve\u001b[0m\u001b[0;34m(\u001b[0m\u001b[0msockets\u001b[0m\u001b[0;34m=\u001b[0m\u001b[0msockets\u001b[0m\u001b[0;34m)\u001b[0m\u001b[0;34m)\u001b[0m\u001b[0;34m\u001b[0m\u001b[0;34m\u001b[0m\u001b[0m\n\u001b[0m\u001b[1;32m     66\u001b[0m \u001b[0;34m\u001b[0m\u001b[0m\n\u001b[1;32m     67\u001b[0m     \u001b[0;32masync\u001b[0m \u001b[0;32mdef\u001b[0m \u001b[0mserve\u001b[0m\u001b[0;34m(\u001b[0m\u001b[0mself\u001b[0m\u001b[0;34m,\u001b[0m \u001b[0msockets\u001b[0m\u001b[0;34m:\u001b[0m \u001b[0mlist\u001b[0m\u001b[0;34m[\u001b[0m\u001b[0msocket\u001b[0m\u001b[0;34m.\u001b[0m\u001b[0msocket\u001b[0m\u001b[0;34m]\u001b[0m \u001b[0;34m|\u001b[0m \u001b[0;32mNone\u001b[0m \u001b[0;34m=\u001b[0m \u001b[0;32mNone\u001b[0m\u001b[0;34m)\u001b[0m \u001b[0;34m->\u001b[0m \u001b[0;32mNone\u001b[0m\u001b[0;34m:\u001b[0m\u001b[0;34m\u001b[0m\u001b[0;34m\u001b[0m\u001b[0m\n",
            "\u001b[0;32m/usr/local/lib/python3.10/dist-packages/nest_asyncio.py\u001b[0m in \u001b[0;36mrun\u001b[0;34m(main, debug)\u001b[0m\n\u001b[1;32m     28\u001b[0m         \u001b[0mtask\u001b[0m \u001b[0;34m=\u001b[0m \u001b[0masyncio\u001b[0m\u001b[0;34m.\u001b[0m\u001b[0mensure_future\u001b[0m\u001b[0;34m(\u001b[0m\u001b[0mmain\u001b[0m\u001b[0;34m)\u001b[0m\u001b[0;34m\u001b[0m\u001b[0;34m\u001b[0m\u001b[0m\n\u001b[1;32m     29\u001b[0m         \u001b[0;32mtry\u001b[0m\u001b[0;34m:\u001b[0m\u001b[0;34m\u001b[0m\u001b[0;34m\u001b[0m\u001b[0m\n\u001b[0;32m---> 30\u001b[0;31m             \u001b[0;32mreturn\u001b[0m \u001b[0mloop\u001b[0m\u001b[0;34m.\u001b[0m\u001b[0mrun_until_complete\u001b[0m\u001b[0;34m(\u001b[0m\u001b[0mtask\u001b[0m\u001b[0;34m)\u001b[0m\u001b[0;34m\u001b[0m\u001b[0;34m\u001b[0m\u001b[0m\n\u001b[0m\u001b[1;32m     31\u001b[0m         \u001b[0;32mfinally\u001b[0m\u001b[0;34m:\u001b[0m\u001b[0;34m\u001b[0m\u001b[0;34m\u001b[0m\u001b[0m\n\u001b[1;32m     32\u001b[0m             \u001b[0;32mif\u001b[0m \u001b[0;32mnot\u001b[0m \u001b[0mtask\u001b[0m\u001b[0;34m.\u001b[0m\u001b[0mdone\u001b[0m\u001b[0;34m(\u001b[0m\u001b[0;34m)\u001b[0m\u001b[0;34m:\u001b[0m\u001b[0;34m\u001b[0m\u001b[0;34m\u001b[0m\u001b[0m\n",
            "\u001b[0;32m/usr/local/lib/python3.10/dist-packages/nest_asyncio.py\u001b[0m in \u001b[0;36mrun_until_complete\u001b[0;34m(self, future)\u001b[0m\n\u001b[1;32m     90\u001b[0m                 \u001b[0mf\u001b[0m\u001b[0;34m.\u001b[0m\u001b[0m_log_destroy_pending\u001b[0m \u001b[0;34m=\u001b[0m \u001b[0;32mFalse\u001b[0m\u001b[0;34m\u001b[0m\u001b[0;34m\u001b[0m\u001b[0m\n\u001b[1;32m     91\u001b[0m             \u001b[0;32mwhile\u001b[0m \u001b[0;32mnot\u001b[0m \u001b[0mf\u001b[0m\u001b[0;34m.\u001b[0m\u001b[0mdone\u001b[0m\u001b[0;34m(\u001b[0m\u001b[0;34m)\u001b[0m\u001b[0;34m:\u001b[0m\u001b[0;34m\u001b[0m\u001b[0;34m\u001b[0m\u001b[0m\n\u001b[0;32m---> 92\u001b[0;31m                 \u001b[0mself\u001b[0m\u001b[0;34m.\u001b[0m\u001b[0m_run_once\u001b[0m\u001b[0;34m(\u001b[0m\u001b[0;34m)\u001b[0m\u001b[0;34m\u001b[0m\u001b[0;34m\u001b[0m\u001b[0m\n\u001b[0m\u001b[1;32m     93\u001b[0m                 \u001b[0;32mif\u001b[0m \u001b[0mself\u001b[0m\u001b[0;34m.\u001b[0m\u001b[0m_stopping\u001b[0m\u001b[0;34m:\u001b[0m\u001b[0;34m\u001b[0m\u001b[0;34m\u001b[0m\u001b[0m\n\u001b[1;32m     94\u001b[0m                     \u001b[0;32mbreak\u001b[0m\u001b[0;34m\u001b[0m\u001b[0;34m\u001b[0m\u001b[0m\n",
            "\u001b[0;32m/usr/local/lib/python3.10/dist-packages/nest_asyncio.py\u001b[0m in \u001b[0;36m_run_once\u001b[0;34m(self)\u001b[0m\n\u001b[1;32m    131\u001b[0m \u001b[0;34m\u001b[0m\u001b[0m\n\u001b[1;32m    132\u001b[0m                 \u001b[0;32mtry\u001b[0m\u001b[0;34m:\u001b[0m\u001b[0;34m\u001b[0m\u001b[0;34m\u001b[0m\u001b[0m\n\u001b[0;32m--> 133\u001b[0;31m                     \u001b[0mhandle\u001b[0m\u001b[0;34m.\u001b[0m\u001b[0m_run\u001b[0m\u001b[0;34m(\u001b[0m\u001b[0;34m)\u001b[0m\u001b[0;34m\u001b[0m\u001b[0;34m\u001b[0m\u001b[0m\n\u001b[0m\u001b[1;32m    134\u001b[0m                 \u001b[0;32mfinally\u001b[0m\u001b[0;34m:\u001b[0m\u001b[0;34m\u001b[0m\u001b[0;34m\u001b[0m\u001b[0m\n\u001b[1;32m    135\u001b[0m                     \u001b[0;31m# restore the current task\u001b[0m\u001b[0;34m\u001b[0m\u001b[0;34m\u001b[0m\u001b[0m\n",
            "\u001b[0;32m/usr/lib/python3.10/asyncio/events.py\u001b[0m in \u001b[0;36m_run\u001b[0;34m(self)\u001b[0m\n\u001b[1;32m     78\u001b[0m     \u001b[0;32mdef\u001b[0m \u001b[0m_run\u001b[0m\u001b[0;34m(\u001b[0m\u001b[0mself\u001b[0m\u001b[0;34m)\u001b[0m\u001b[0;34m:\u001b[0m\u001b[0;34m\u001b[0m\u001b[0;34m\u001b[0m\u001b[0m\n\u001b[1;32m     79\u001b[0m         \u001b[0;32mtry\u001b[0m\u001b[0;34m:\u001b[0m\u001b[0;34m\u001b[0m\u001b[0;34m\u001b[0m\u001b[0m\n\u001b[0;32m---> 80\u001b[0;31m             \u001b[0mself\u001b[0m\u001b[0;34m.\u001b[0m\u001b[0m_context\u001b[0m\u001b[0;34m.\u001b[0m\u001b[0mrun\u001b[0m\u001b[0;34m(\u001b[0m\u001b[0mself\u001b[0m\u001b[0;34m.\u001b[0m\u001b[0m_callback\u001b[0m\u001b[0;34m,\u001b[0m \u001b[0;34m*\u001b[0m\u001b[0mself\u001b[0m\u001b[0;34m.\u001b[0m\u001b[0m_args\u001b[0m\u001b[0;34m)\u001b[0m\u001b[0;34m\u001b[0m\u001b[0;34m\u001b[0m\u001b[0m\n\u001b[0m\u001b[1;32m     81\u001b[0m         \u001b[0;32mexcept\u001b[0m \u001b[0;34m(\u001b[0m\u001b[0mSystemExit\u001b[0m\u001b[0;34m,\u001b[0m \u001b[0mKeyboardInterrupt\u001b[0m\u001b[0;34m)\u001b[0m\u001b[0;34m:\u001b[0m\u001b[0;34m\u001b[0m\u001b[0;34m\u001b[0m\u001b[0m\n\u001b[1;32m     82\u001b[0m             \u001b[0;32mraise\u001b[0m\u001b[0;34m\u001b[0m\u001b[0;34m\u001b[0m\u001b[0m\n",
            "\u001b[0;32m/usr/lib/python3.10/asyncio/tasks.py\u001b[0m in \u001b[0;36m__wakeup\u001b[0;34m(self, future)\u001b[0m\n\u001b[1;32m    313\u001b[0m             \u001b[0;31m# instead of `__next__()`, which is slower for futures\u001b[0m\u001b[0;34m\u001b[0m\u001b[0;34m\u001b[0m\u001b[0m\n\u001b[1;32m    314\u001b[0m             \u001b[0;31m# that return non-generator iterators from their `__iter__`.\u001b[0m\u001b[0;34m\u001b[0m\u001b[0;34m\u001b[0m\u001b[0m\n\u001b[0;32m--> 315\u001b[0;31m             \u001b[0mself\u001b[0m\u001b[0;34m.\u001b[0m\u001b[0m__step\u001b[0m\u001b[0;34m(\u001b[0m\u001b[0;34m)\u001b[0m\u001b[0;34m\u001b[0m\u001b[0;34m\u001b[0m\u001b[0m\n\u001b[0m\u001b[1;32m    316\u001b[0m         \u001b[0mself\u001b[0m \u001b[0;34m=\u001b[0m \u001b[0;32mNone\u001b[0m  \u001b[0;31m# Needed to break cycles when an exception occurs.\u001b[0m\u001b[0;34m\u001b[0m\u001b[0;34m\u001b[0m\u001b[0m\n\u001b[1;32m    317\u001b[0m \u001b[0;34m\u001b[0m\u001b[0m\n",
            "\u001b[0;32m/usr/lib/python3.10/asyncio/tasks.py\u001b[0m in \u001b[0;36m__step\u001b[0;34m(***failed resolving arguments***)\u001b[0m\n\u001b[1;32m    230\u001b[0m                 \u001b[0;31m# We use the `send` method directly, because coroutines\u001b[0m\u001b[0;34m\u001b[0m\u001b[0;34m\u001b[0m\u001b[0m\n\u001b[1;32m    231\u001b[0m                 \u001b[0;31m# don't have `__iter__` and `__next__` methods.\u001b[0m\u001b[0;34m\u001b[0m\u001b[0;34m\u001b[0m\u001b[0m\n\u001b[0;32m--> 232\u001b[0;31m                 \u001b[0mresult\u001b[0m \u001b[0;34m=\u001b[0m \u001b[0mcoro\u001b[0m\u001b[0;34m.\u001b[0m\u001b[0msend\u001b[0m\u001b[0;34m(\u001b[0m\u001b[0;32mNone\u001b[0m\u001b[0;34m)\u001b[0m\u001b[0;34m\u001b[0m\u001b[0;34m\u001b[0m\u001b[0m\n\u001b[0m\u001b[1;32m    233\u001b[0m             \u001b[0;32melse\u001b[0m\u001b[0;34m:\u001b[0m\u001b[0;34m\u001b[0m\u001b[0;34m\u001b[0m\u001b[0m\n\u001b[1;32m    234\u001b[0m                 \u001b[0mresult\u001b[0m \u001b[0;34m=\u001b[0m \u001b[0mcoro\u001b[0m\u001b[0;34m.\u001b[0m\u001b[0mthrow\u001b[0m\u001b[0;34m(\u001b[0m\u001b[0mexc\u001b[0m\u001b[0;34m)\u001b[0m\u001b[0;34m\u001b[0m\u001b[0;34m\u001b[0m\u001b[0m\n",
            "\u001b[0;32m/usr/local/lib/python3.10/dist-packages/uvicorn/server.py\u001b[0m in \u001b[0;36mserve\u001b[0;34m(self, sockets)\u001b[0m\n\u001b[1;32m     66\u001b[0m \u001b[0;34m\u001b[0m\u001b[0m\n\u001b[1;32m     67\u001b[0m     \u001b[0;32masync\u001b[0m \u001b[0;32mdef\u001b[0m \u001b[0mserve\u001b[0m\u001b[0;34m(\u001b[0m\u001b[0mself\u001b[0m\u001b[0;34m,\u001b[0m \u001b[0msockets\u001b[0m\u001b[0;34m:\u001b[0m \u001b[0mlist\u001b[0m\u001b[0;34m[\u001b[0m\u001b[0msocket\u001b[0m\u001b[0;34m.\u001b[0m\u001b[0msocket\u001b[0m\u001b[0;34m]\u001b[0m \u001b[0;34m|\u001b[0m \u001b[0;32mNone\u001b[0m \u001b[0;34m=\u001b[0m \u001b[0;32mNone\u001b[0m\u001b[0;34m)\u001b[0m \u001b[0;34m->\u001b[0m \u001b[0;32mNone\u001b[0m\u001b[0;34m:\u001b[0m\u001b[0;34m\u001b[0m\u001b[0;34m\u001b[0m\u001b[0m\n\u001b[0;32m---> 68\u001b[0;31m         \u001b[0;32mwith\u001b[0m \u001b[0mself\u001b[0m\u001b[0;34m.\u001b[0m\u001b[0mcapture_signals\u001b[0m\u001b[0;34m(\u001b[0m\u001b[0;34m)\u001b[0m\u001b[0;34m:\u001b[0m\u001b[0;34m\u001b[0m\u001b[0;34m\u001b[0m\u001b[0m\n\u001b[0m\u001b[1;32m     69\u001b[0m             \u001b[0;32mawait\u001b[0m \u001b[0mself\u001b[0m\u001b[0;34m.\u001b[0m\u001b[0m_serve\u001b[0m\u001b[0;34m(\u001b[0m\u001b[0msockets\u001b[0m\u001b[0;34m)\u001b[0m\u001b[0;34m\u001b[0m\u001b[0;34m\u001b[0m\u001b[0m\n\u001b[1;32m     70\u001b[0m \u001b[0;34m\u001b[0m\u001b[0m\n",
            "\u001b[0;32m/usr/lib/python3.10/contextlib.py\u001b[0m in \u001b[0;36m__exit__\u001b[0;34m(self, typ, value, traceback)\u001b[0m\n\u001b[1;32m    140\u001b[0m         \u001b[0;32mif\u001b[0m \u001b[0mtyp\u001b[0m \u001b[0;32mis\u001b[0m \u001b[0;32mNone\u001b[0m\u001b[0;34m:\u001b[0m\u001b[0;34m\u001b[0m\u001b[0;34m\u001b[0m\u001b[0m\n\u001b[1;32m    141\u001b[0m             \u001b[0;32mtry\u001b[0m\u001b[0;34m:\u001b[0m\u001b[0;34m\u001b[0m\u001b[0;34m\u001b[0m\u001b[0m\n\u001b[0;32m--> 142\u001b[0;31m                 \u001b[0mnext\u001b[0m\u001b[0;34m(\u001b[0m\u001b[0mself\u001b[0m\u001b[0;34m.\u001b[0m\u001b[0mgen\u001b[0m\u001b[0;34m)\u001b[0m\u001b[0;34m\u001b[0m\u001b[0;34m\u001b[0m\u001b[0m\n\u001b[0m\u001b[1;32m    143\u001b[0m             \u001b[0;32mexcept\u001b[0m \u001b[0mStopIteration\u001b[0m\u001b[0;34m:\u001b[0m\u001b[0;34m\u001b[0m\u001b[0;34m\u001b[0m\u001b[0m\n\u001b[1;32m    144\u001b[0m                 \u001b[0;32mreturn\u001b[0m \u001b[0;32mFalse\u001b[0m\u001b[0;34m\u001b[0m\u001b[0;34m\u001b[0m\u001b[0m\n",
            "\u001b[0;32m/usr/local/lib/python3.10/dist-packages/uvicorn/server.py\u001b[0m in \u001b[0;36mcapture_signals\u001b[0;34m(self)\u001b[0m\n\u001b[1;32m    326\u001b[0m         \u001b[0;31m# done LIFO, see https://stackoverflow.com/questions/48434964\u001b[0m\u001b[0;34m\u001b[0m\u001b[0;34m\u001b[0m\u001b[0m\n\u001b[1;32m    327\u001b[0m         \u001b[0;32mfor\u001b[0m \u001b[0mcaptured_signal\u001b[0m \u001b[0;32min\u001b[0m \u001b[0mreversed\u001b[0m\u001b[0;34m(\u001b[0m\u001b[0mself\u001b[0m\u001b[0;34m.\u001b[0m\u001b[0m_captured_signals\u001b[0m\u001b[0;34m)\u001b[0m\u001b[0;34m:\u001b[0m\u001b[0;34m\u001b[0m\u001b[0;34m\u001b[0m\u001b[0m\n\u001b[0;32m--> 328\u001b[0;31m             \u001b[0msignal\u001b[0m\u001b[0;34m.\u001b[0m\u001b[0mraise_signal\u001b[0m\u001b[0;34m(\u001b[0m\u001b[0mcaptured_signal\u001b[0m\u001b[0;34m)\u001b[0m\u001b[0;34m\u001b[0m\u001b[0;34m\u001b[0m\u001b[0m\n\u001b[0m\u001b[1;32m    329\u001b[0m \u001b[0;34m\u001b[0m\u001b[0m\n\u001b[1;32m    330\u001b[0m     \u001b[0;32mdef\u001b[0m \u001b[0mhandle_exit\u001b[0m\u001b[0;34m(\u001b[0m\u001b[0mself\u001b[0m\u001b[0;34m,\u001b[0m \u001b[0msig\u001b[0m\u001b[0;34m:\u001b[0m \u001b[0mint\u001b[0m\u001b[0;34m,\u001b[0m \u001b[0mframe\u001b[0m\u001b[0;34m:\u001b[0m \u001b[0mFrameType\u001b[0m \u001b[0;34m|\u001b[0m \u001b[0;32mNone\u001b[0m\u001b[0;34m)\u001b[0m \u001b[0;34m->\u001b[0m \u001b[0;32mNone\u001b[0m\u001b[0;34m:\u001b[0m\u001b[0;34m\u001b[0m\u001b[0;34m\u001b[0m\u001b[0m\n",
            "\u001b[0;31mKeyboardInterrupt\u001b[0m: "
          ]
        }
      ]
    },
    {
      "cell_type": "code",
      "source": [
        "# Colab에서 asyncio 이벤트 루프를 중첩\n",
        "nest_asyncio.apply()\n",
        "\n",
        "# Ngrok 터널 시작\n",
        "ngrok.kill()  # 기존 ngrok 세션 종료\n",
        "ngrok.set_auth_token(\"2hJQt9L0vTO3rTjHv0gOH43TmCf_7HG3wrTF235UCccmCQoBj\")  # Ngrok 인증 토큰\n",
        "ngrok_tunnel = ngrok.connect(8000, subdomain=\"prepared-stunning-ostrich\")  # 고정 서브도메인 설정\n",
        "print('Public URL:', ngrok_tunnel.public_url)\n",
        "\n",
        "# Uvicorn을 사용하여 FastAPI 앱 실행\n",
        "uvicorn.run(app, host='0.0.0.0', port=8000)"
      ],
      "metadata": {
        "colab": {
          "base_uri": "https://localhost:8080/",
          "height": 528
        },
        "id": "pwyb6q2fy737",
        "outputId": "09d51cd1-7fd8-45e5-e2e5-4f7924e477c3"
      },
      "execution_count": null,
      "outputs": [
        {
          "output_type": "stream",
          "name": "stdout",
          "text": []
        },
        {
          "output_type": "stream",
          "name": "stderr",
          "text": [
            "WARNING:pyngrok.process.ngrok:t=2024-06-16T11:31:53+0000 lvl=warn msg=\"failed to start tunnel\" pg=/api/tunnels id=3a0db0510c85ec9a err=\"failed to start tunnel: Custom subdomains are a feature on ngrok's paid plans.\\nFailed to bind the custom subdomain 'prepared-stunning-ostrich' for the account 'applelgy@gmail.com'.\\nThis account is on the 'Free' plan.\\n\\nUpgrade to a paid plan at: https://dashboard.ngrok.com/billing/subscription\\r\\n\\r\\nERR_NGROK_313\\r\\n\"\n"
          ]
        },
        {
          "output_type": "error",
          "ename": "PyngrokNgrokHTTPError",
          "evalue": "ngrok client exception, API returned 502: {\"error_code\":103,\"status_code\":502,\"msg\":\"failed to start tunnel\",\"details\":{\"err\":\"failed to start tunnel: Custom subdomains are a feature on ngrok's paid plans.\\nFailed to bind the custom subdomain 'prepared-stunning-ostrich' for the account 'applelgy@gmail.com'.\\nThis account is on the 'Free' plan.\\n\\nUpgrade to a paid plan at: https://dashboard.ngrok.com/billing/subscription\\r\\n\\r\\nERR_NGROK_313\\r\\n\"}}\n",
          "traceback": [
            "\u001b[0;31m---------------------------------------------------------------------------\u001b[0m",
            "\u001b[0;31mHTTPError\u001b[0m                                 Traceback (most recent call last)",
            "\u001b[0;32m/usr/local/lib/python3.10/dist-packages/pyngrok/ngrok.py\u001b[0m in \u001b[0;36mapi_request\u001b[0;34m(url, method, data, params, timeout, auth)\u001b[0m\n\u001b[1;32m    517\u001b[0m     \u001b[0;32mtry\u001b[0m\u001b[0;34m:\u001b[0m\u001b[0;34m\u001b[0m\u001b[0;34m\u001b[0m\u001b[0m\n\u001b[0;32m--> 518\u001b[0;31m         \u001b[0mresponse\u001b[0m \u001b[0;34m=\u001b[0m \u001b[0murlopen\u001b[0m\u001b[0;34m(\u001b[0m\u001b[0mrequest\u001b[0m\u001b[0;34m,\u001b[0m \u001b[0mencoded_data\u001b[0m\u001b[0;34m,\u001b[0m \u001b[0mtimeout\u001b[0m\u001b[0;34m)\u001b[0m\u001b[0;34m\u001b[0m\u001b[0;34m\u001b[0m\u001b[0m\n\u001b[0m\u001b[1;32m    519\u001b[0m         \u001b[0mresponse_data\u001b[0m \u001b[0;34m=\u001b[0m \u001b[0mresponse\u001b[0m\u001b[0;34m.\u001b[0m\u001b[0mread\u001b[0m\u001b[0;34m(\u001b[0m\u001b[0;34m)\u001b[0m\u001b[0;34m.\u001b[0m\u001b[0mdecode\u001b[0m\u001b[0;34m(\u001b[0m\u001b[0;34m\"utf-8\"\u001b[0m\u001b[0;34m)\u001b[0m\u001b[0;34m\u001b[0m\u001b[0;34m\u001b[0m\u001b[0m\n",
            "\u001b[0;32m/usr/lib/python3.10/urllib/request.py\u001b[0m in \u001b[0;36murlopen\u001b[0;34m(url, data, timeout, cafile, capath, cadefault, context)\u001b[0m\n\u001b[1;32m    215\u001b[0m         \u001b[0mopener\u001b[0m \u001b[0;34m=\u001b[0m \u001b[0m_opener\u001b[0m\u001b[0;34m\u001b[0m\u001b[0;34m\u001b[0m\u001b[0m\n\u001b[0;32m--> 216\u001b[0;31m     \u001b[0;32mreturn\u001b[0m \u001b[0mopener\u001b[0m\u001b[0;34m.\u001b[0m\u001b[0mopen\u001b[0m\u001b[0;34m(\u001b[0m\u001b[0murl\u001b[0m\u001b[0;34m,\u001b[0m \u001b[0mdata\u001b[0m\u001b[0;34m,\u001b[0m \u001b[0mtimeout\u001b[0m\u001b[0;34m)\u001b[0m\u001b[0;34m\u001b[0m\u001b[0;34m\u001b[0m\u001b[0m\n\u001b[0m\u001b[1;32m    217\u001b[0m \u001b[0;34m\u001b[0m\u001b[0m\n",
            "\u001b[0;32m/usr/lib/python3.10/urllib/request.py\u001b[0m in \u001b[0;36mopen\u001b[0;34m(self, fullurl, data, timeout)\u001b[0m\n\u001b[1;32m    524\u001b[0m             \u001b[0mmeth\u001b[0m \u001b[0;34m=\u001b[0m \u001b[0mgetattr\u001b[0m\u001b[0;34m(\u001b[0m\u001b[0mprocessor\u001b[0m\u001b[0;34m,\u001b[0m \u001b[0mmeth_name\u001b[0m\u001b[0;34m)\u001b[0m\u001b[0;34m\u001b[0m\u001b[0;34m\u001b[0m\u001b[0m\n\u001b[0;32m--> 525\u001b[0;31m             \u001b[0mresponse\u001b[0m \u001b[0;34m=\u001b[0m \u001b[0mmeth\u001b[0m\u001b[0;34m(\u001b[0m\u001b[0mreq\u001b[0m\u001b[0;34m,\u001b[0m \u001b[0mresponse\u001b[0m\u001b[0;34m)\u001b[0m\u001b[0;34m\u001b[0m\u001b[0;34m\u001b[0m\u001b[0m\n\u001b[0m\u001b[1;32m    526\u001b[0m \u001b[0;34m\u001b[0m\u001b[0m\n",
            "\u001b[0;32m/usr/lib/python3.10/urllib/request.py\u001b[0m in \u001b[0;36mhttp_response\u001b[0;34m(self, request, response)\u001b[0m\n\u001b[1;32m    633\u001b[0m         \u001b[0;32mif\u001b[0m \u001b[0;32mnot\u001b[0m \u001b[0;34m(\u001b[0m\u001b[0;36m200\u001b[0m \u001b[0;34m<=\u001b[0m \u001b[0mcode\u001b[0m \u001b[0;34m<\u001b[0m \u001b[0;36m300\u001b[0m\u001b[0;34m)\u001b[0m\u001b[0;34m:\u001b[0m\u001b[0;34m\u001b[0m\u001b[0;34m\u001b[0m\u001b[0m\n\u001b[0;32m--> 634\u001b[0;31m             response = self.parent.error(\n\u001b[0m\u001b[1;32m    635\u001b[0m                 'http', request, response, code, msg, hdrs)\n",
            "\u001b[0;32m/usr/lib/python3.10/urllib/request.py\u001b[0m in \u001b[0;36merror\u001b[0;34m(self, proto, *args)\u001b[0m\n\u001b[1;32m    562\u001b[0m             \u001b[0margs\u001b[0m \u001b[0;34m=\u001b[0m \u001b[0;34m(\u001b[0m\u001b[0mdict\u001b[0m\u001b[0;34m,\u001b[0m \u001b[0;34m'default'\u001b[0m\u001b[0;34m,\u001b[0m \u001b[0;34m'http_error_default'\u001b[0m\u001b[0;34m)\u001b[0m \u001b[0;34m+\u001b[0m \u001b[0morig_args\u001b[0m\u001b[0;34m\u001b[0m\u001b[0;34m\u001b[0m\u001b[0m\n\u001b[0;32m--> 563\u001b[0;31m             \u001b[0;32mreturn\u001b[0m \u001b[0mself\u001b[0m\u001b[0;34m.\u001b[0m\u001b[0m_call_chain\u001b[0m\u001b[0;34m(\u001b[0m\u001b[0;34m*\u001b[0m\u001b[0margs\u001b[0m\u001b[0;34m)\u001b[0m\u001b[0;34m\u001b[0m\u001b[0;34m\u001b[0m\u001b[0m\n\u001b[0m\u001b[1;32m    564\u001b[0m \u001b[0;34m\u001b[0m\u001b[0m\n",
            "\u001b[0;32m/usr/lib/python3.10/urllib/request.py\u001b[0m in \u001b[0;36m_call_chain\u001b[0;34m(self, chain, kind, meth_name, *args)\u001b[0m\n\u001b[1;32m    495\u001b[0m             \u001b[0mfunc\u001b[0m \u001b[0;34m=\u001b[0m \u001b[0mgetattr\u001b[0m\u001b[0;34m(\u001b[0m\u001b[0mhandler\u001b[0m\u001b[0;34m,\u001b[0m \u001b[0mmeth_name\u001b[0m\u001b[0;34m)\u001b[0m\u001b[0;34m\u001b[0m\u001b[0;34m\u001b[0m\u001b[0m\n\u001b[0;32m--> 496\u001b[0;31m             \u001b[0mresult\u001b[0m \u001b[0;34m=\u001b[0m \u001b[0mfunc\u001b[0m\u001b[0;34m(\u001b[0m\u001b[0;34m*\u001b[0m\u001b[0margs\u001b[0m\u001b[0;34m)\u001b[0m\u001b[0;34m\u001b[0m\u001b[0;34m\u001b[0m\u001b[0m\n\u001b[0m\u001b[1;32m    497\u001b[0m             \u001b[0;32mif\u001b[0m \u001b[0mresult\u001b[0m \u001b[0;32mis\u001b[0m \u001b[0;32mnot\u001b[0m \u001b[0;32mNone\u001b[0m\u001b[0;34m:\u001b[0m\u001b[0;34m\u001b[0m\u001b[0;34m\u001b[0m\u001b[0m\n",
            "\u001b[0;32m/usr/lib/python3.10/urllib/request.py\u001b[0m in \u001b[0;36mhttp_error_default\u001b[0;34m(self, req, fp, code, msg, hdrs)\u001b[0m\n\u001b[1;32m    642\u001b[0m     \u001b[0;32mdef\u001b[0m \u001b[0mhttp_error_default\u001b[0m\u001b[0;34m(\u001b[0m\u001b[0mself\u001b[0m\u001b[0;34m,\u001b[0m \u001b[0mreq\u001b[0m\u001b[0;34m,\u001b[0m \u001b[0mfp\u001b[0m\u001b[0;34m,\u001b[0m \u001b[0mcode\u001b[0m\u001b[0;34m,\u001b[0m \u001b[0mmsg\u001b[0m\u001b[0;34m,\u001b[0m \u001b[0mhdrs\u001b[0m\u001b[0;34m)\u001b[0m\u001b[0;34m:\u001b[0m\u001b[0;34m\u001b[0m\u001b[0;34m\u001b[0m\u001b[0m\n\u001b[0;32m--> 643\u001b[0;31m         \u001b[0;32mraise\u001b[0m \u001b[0mHTTPError\u001b[0m\u001b[0;34m(\u001b[0m\u001b[0mreq\u001b[0m\u001b[0;34m.\u001b[0m\u001b[0mfull_url\u001b[0m\u001b[0;34m,\u001b[0m \u001b[0mcode\u001b[0m\u001b[0;34m,\u001b[0m \u001b[0mmsg\u001b[0m\u001b[0;34m,\u001b[0m \u001b[0mhdrs\u001b[0m\u001b[0;34m,\u001b[0m \u001b[0mfp\u001b[0m\u001b[0;34m)\u001b[0m\u001b[0;34m\u001b[0m\u001b[0;34m\u001b[0m\u001b[0m\n\u001b[0m\u001b[1;32m    644\u001b[0m \u001b[0;34m\u001b[0m\u001b[0m\n",
            "\u001b[0;31mHTTPError\u001b[0m: HTTP Error 502: Bad Gateway",
            "\nDuring handling of the above exception, another exception occurred:\n",
            "\u001b[0;31mPyngrokNgrokHTTPError\u001b[0m                     Traceback (most recent call last)",
            "\u001b[0;32m<ipython-input-6-42586c5d6f08>\u001b[0m in \u001b[0;36m<cell line: 7>\u001b[0;34m()\u001b[0m\n\u001b[1;32m      5\u001b[0m \u001b[0mngrok\u001b[0m\u001b[0;34m.\u001b[0m\u001b[0mkill\u001b[0m\u001b[0;34m(\u001b[0m\u001b[0;34m)\u001b[0m  \u001b[0;31m# 기존 ngrok 세션 종료\u001b[0m\u001b[0;34m\u001b[0m\u001b[0;34m\u001b[0m\u001b[0m\n\u001b[1;32m      6\u001b[0m \u001b[0mngrok\u001b[0m\u001b[0;34m.\u001b[0m\u001b[0mset_auth_token\u001b[0m\u001b[0;34m(\u001b[0m\u001b[0;34m\"2hJQt9L0vTO3rTjHv0gOH43TmCf_7HG3wrTF235UCccmCQoBj\"\u001b[0m\u001b[0;34m)\u001b[0m  \u001b[0;31m# Ngrok 인증 토큰\u001b[0m\u001b[0;34m\u001b[0m\u001b[0;34m\u001b[0m\u001b[0m\n\u001b[0;32m----> 7\u001b[0;31m \u001b[0mngrok_tunnel\u001b[0m \u001b[0;34m=\u001b[0m \u001b[0mngrok\u001b[0m\u001b[0;34m.\u001b[0m\u001b[0mconnect\u001b[0m\u001b[0;34m(\u001b[0m\u001b[0;36m8000\u001b[0m\u001b[0;34m,\u001b[0m \u001b[0msubdomain\u001b[0m\u001b[0;34m=\u001b[0m\u001b[0;34m\"prepared-stunning-ostrich\"\u001b[0m\u001b[0;34m)\u001b[0m  \u001b[0;31m# 고정 서브도메인 설정\u001b[0m\u001b[0;34m\u001b[0m\u001b[0;34m\u001b[0m\u001b[0m\n\u001b[0m\u001b[1;32m      8\u001b[0m \u001b[0mprint\u001b[0m\u001b[0;34m(\u001b[0m\u001b[0;34m'Public URL:'\u001b[0m\u001b[0;34m,\u001b[0m \u001b[0mngrok_tunnel\u001b[0m\u001b[0;34m.\u001b[0m\u001b[0mpublic_url\u001b[0m\u001b[0;34m)\u001b[0m\u001b[0;34m\u001b[0m\u001b[0;34m\u001b[0m\u001b[0m\n\u001b[1;32m      9\u001b[0m \u001b[0;34m\u001b[0m\u001b[0m\n",
            "\u001b[0;32m/usr/local/lib/python3.10/dist-packages/pyngrok/ngrok.py\u001b[0m in \u001b[0;36mconnect\u001b[0;34m(addr, proto, name, pyngrok_config, **options)\u001b[0m\n\u001b[1;32m    318\u001b[0m     \u001b[0mlogger\u001b[0m\u001b[0;34m.\u001b[0m\u001b[0mdebug\u001b[0m\u001b[0;34m(\u001b[0m\u001b[0;34mf\"Creating tunnel with options: {options}\"\u001b[0m\u001b[0;34m)\u001b[0m\u001b[0;34m\u001b[0m\u001b[0;34m\u001b[0m\u001b[0m\n\u001b[1;32m    319\u001b[0m \u001b[0;34m\u001b[0m\u001b[0m\n\u001b[0;32m--> 320\u001b[0;31m     tunnel = NgrokTunnel(api_request(f\"{api_url}/api/tunnels\", method=\"POST\", data=options,\n\u001b[0m\u001b[1;32m    321\u001b[0m                                      timeout=pyngrok_config.request_timeout),\n\u001b[1;32m    322\u001b[0m                          pyngrok_config, api_url)\n",
            "\u001b[0;32m/usr/local/lib/python3.10/dist-packages/pyngrok/ngrok.py\u001b[0m in \u001b[0;36mapi_request\u001b[0;34m(url, method, data, params, timeout, auth)\u001b[0m\n\u001b[1;32m    537\u001b[0m         \u001b[0mlogger\u001b[0m\u001b[0;34m.\u001b[0m\u001b[0mdebug\u001b[0m\u001b[0;34m(\u001b[0m\u001b[0;34mf\"Response {status_code}: {response_data.strip()}\"\u001b[0m\u001b[0;34m)\u001b[0m\u001b[0;34m\u001b[0m\u001b[0;34m\u001b[0m\u001b[0m\n\u001b[1;32m    538\u001b[0m \u001b[0;34m\u001b[0m\u001b[0m\n\u001b[0;32m--> 539\u001b[0;31m         raise PyngrokNgrokHTTPError(f\"ngrok client exception, API returned {status_code}: {response_data}\",\n\u001b[0m\u001b[1;32m    540\u001b[0m                                     \u001b[0me\u001b[0m\u001b[0;34m.\u001b[0m\u001b[0murl\u001b[0m\u001b[0;34m,\u001b[0m\u001b[0;34m\u001b[0m\u001b[0;34m\u001b[0m\u001b[0m\n\u001b[1;32m    541\u001b[0m                                     status_code, e.reason, e.headers, response_data)\n",
            "\u001b[0;31mPyngrokNgrokHTTPError\u001b[0m: ngrok client exception, API returned 502: {\"error_code\":103,\"status_code\":502,\"msg\":\"failed to start tunnel\",\"details\":{\"err\":\"failed to start tunnel: Custom subdomains are a feature on ngrok's paid plans.\\nFailed to bind the custom subdomain 'prepared-stunning-ostrich' for the account 'applelgy@gmail.com'.\\nThis account is on the 'Free' plan.\\n\\nUpgrade to a paid plan at: https://dashboard.ngrok.com/billing/subscription\\r\\n\\r\\nERR_NGROK_313\\r\\n\"}}\n"
          ]
        }
      ]
    },
    {
      "cell_type": "markdown",
      "source": [
        "#### 사용예제"
      ],
      "metadata": {
        "id": "DSoALi-gnsgg"
      }
    },
    {
      "cell_type": "code",
      "source": [
        "summarizer = Summarizer(stopwords=stopwords)\n",
        "title = \"[공통] 2024-1학기 교내 FLEX 졸업시험 시행 안내\"\n",
        "content = \"\"\"\n",
        "2024학년도 1학기 교내 FLEX 졸업시험 세부 일정을 아래와 같이 안내합니다.\n",
        "\n",
        "\n",
        "\n",
        "\n",
        "\n",
        "\n",
        "\n",
        "1. 대상언어: 포르투갈어, 네덜란드어, 스웨덴어, 마인어, 태국어, 터키어, 이탈리아어, 체코어, 헝가리어, 세르비아어, 루마니아어, 폴란드어, 그리스어, 불가리아어, 힌디어 총 15개 언어\n",
        "\n",
        "\n",
        "\n",
        "\n",
        "\n",
        "2. 시험일시: 2024년 05월 25일(토), 10:00 ~ 12:00 (120분)\n",
        "\n",
        "\n",
        "\n",
        "\n",
        "\n",
        "3. 응시자 입실 완료시간: 입실 09:40분까지, 마스크 착용 권고\n",
        "\n",
        "\n",
        "\n",
        "\n",
        "\n",
        "4. 시험장소: 본교 서울캠퍼스 교수학습개발원\n",
        "\n",
        "\n",
        "\n",
        "*시험 당일 건물 앞에 설치되는 배치표 및 붙임의 시행계획서 참고\n",
        "\n",
        "\n",
        "\n",
        "\n",
        "\n",
        "5. 응시자 준비물(반드시 지참): 신분증(학생증, 주민등록증, 면허증, 여권 등), 컴퓨터용 수성싸인펜, 수정테이프\n",
        "\n",
        "\n",
        "\n",
        "\n",
        "\n",
        "6. 평가유형(붙임의 시행계획서 참고)\n",
        "\n",
        "\n",
        "\n",
        "가. FLEX 듣기.읽기 A형(듣기 50문항, 읽기 90문항/총 120분)\n",
        "\n",
        "\n",
        "\n",
        "나. FLEX 듣기.읽기 B형(듣기 55문항, 읽기 95문항/총 120분)\n",
        "\n",
        "\n",
        "\n",
        "다. 언어별로 각각 개발되어 있는 유형에 따라 시행\n",
        "\n",
        "\n",
        "\n",
        "\n",
        "\n",
        "\n",
        "\n",
        "7. 비고\n",
        "\n",
        "\n",
        "\n",
        "가. 별도 성적인증서 또는 확인서는 발급되지 않음.\n",
        "\n",
        "\n",
        "\n",
        "나. 성적확인: 해당 학과사무실(시험일로부터 약 15일 후 확인 가능)\n",
        "\n",
        "\n",
        "\n",
        "다. 학과에 사전 신청한 학생만 응시 가능\n",
        "\n",
        "\n",
        "\"\"\"\n",
        "\n",
        "summary = summarizer.summarize_content(title, content, important_keywords)\n",
        "print(summary)"
      ],
      "metadata": {
        "colab": {
          "base_uri": "https://localhost:8080/"
        },
        "id": "qbJ9fZQtBdpw",
        "outputId": "5afaa896-b0c9-45e1-f259-7c09bf6b1aa0"
      },
      "execution_count": null,
      "outputs": [
        {
          "output_type": "stream",
          "name": "stdout",
          "text": [
            "[' 시험일시: 2024년 05월 25일(토), 10:00 ~ 12:00 (120분)', ' 성적확인: 해당 학과사무실(시험일로부터 약 15일 후 확인 가능)', ' 학과에 사전 신청한 학생만 응시 가능']\n"
          ]
        }
      ]
    },
    {
      "cell_type": "code",
      "source": [
        "\"\"\"2024학년도 1학기 교내 FLEX 졸업시험 세부 일정을 아래와 같이 안내합니다.\n",
        "\n",
        "\n",
        "\n",
        "\n",
        "\n",
        "\n",
        "\n",
        "1. 대상언어: 포르투갈어, 네덜란드어, 스웨덴어, 마인어, 태국어, 터키어, 이탈리아어, 체코어, 헝가리어, 세르비아어, 루마니아어, 폴란드어, 그리스어, 불가리아어, 힌디어 총 15개 언어\n",
        "\n",
        "\n",
        "\n",
        "\n",
        "\n",
        "2. 시험일시: 2024년 05월 25일(토), 10:00 ~ 12:00 (120분)\n",
        "\n",
        "\n",
        "\n",
        "\n",
        "\n",
        "3. 응시자 입실 완료시간: 입실 09:40분까지, 마스크 착용 권고\n",
        "\n",
        "\n",
        "\n",
        "\n",
        "\n",
        "4. 시험장소: 본교 서울캠퍼스 교수학습개발원\n",
        "\n",
        "\n",
        "\n",
        "*시험 당일 건물 앞에 설치되는 배치표 및 붙임의 시행계획서 참고\n",
        "\n",
        "\n",
        "\n",
        "\n",
        "\n",
        "5. 응시자 준비물(반드시 지참): 신분증(학생증, 주민등록증, 면허증, 여권 등), 컴퓨터용 수성싸인펜, 수정테이프\n",
        "\n",
        "\n",
        "\n",
        "\n",
        "\n",
        "6. 평가유형(붙임의 시행계획서 참고)\n",
        "\n",
        "\n",
        "\n",
        "가. FLEX 듣기.읽기 A형(듣기 50문항, 읽기 90문항/총 120분)\n",
        "\n",
        "\n",
        "\n",
        "나. FLEX 듣기.읽기 B형(듣기 55문항, 읽기 95문항/총 120분)\n",
        "\n",
        "\n",
        "\n",
        "다. 언어별로 각각 개발되어 있는 유형에 따라 시행\n",
        "\n",
        "\n",
        "\n",
        "\n",
        "\n",
        "\n",
        "\n",
        "7. 비고\n",
        "\n",
        "\n",
        "\n",
        "가. 별도 성적인증서 또는 확인서는 발급되지 않음.\n",
        "\n",
        "\n",
        "\n",
        "나. 성적확인: 해당 학과사무실(시험일로부터 약 15일 후 확인 가능)\n",
        "\n",
        "\n",
        "\n",
        "다. 학과에 사전 신청한 학생만 응시 가능\n",
        "\n",
        "\n",
        "v\n",
        " \"\"\""
      ],
      "metadata": {
        "colab": {
          "base_uri": "https://localhost:8080/",
          "height": 275
        },
        "id": "kA8420h8o0JR",
        "outputId": "d9d29066-fe5c-43dc-e0ee-5a76a42b7071"
      },
      "execution_count": null,
      "outputs": [
        {
          "output_type": "execute_result",
          "data": {
            "text/plain": [
              "'2024학년도 1학기 교내 FLEX 졸업시험 세부 일정을 아래와 같이 안내합니다.\\n\\n \\n\\n \\n\\n \\n\\n1. 대상언어: 포르투갈어, 네덜란드어, 스웨덴어, 마인어, 태국어, 터키어, 이탈리아어, 체코어, 헝가리어, 세르비아어, 루마니아어, 폴란드어, 그리스어, 불가리아어, 힌디어 총 15개 언어\\n\\n \\n\\n \\n\\n2. 시험일시: 2024년 05월 25일(토), 10:00 ~ 12:00 (120분)\\n\\n \\n\\n \\n\\n3. 응시자 입실 완료시간: 입실 09:40분까지, 마스크 착용 권고\\n\\n \\n\\n \\n\\n4. 시험장소: 본교 서울캠퍼스 교수학습개발원\\n\\n \\n\\n*시험 당일 건물 앞에 설치되는 배치표 및 붙임의 시행계획서 참고\\n\\n \\n\\n \\n\\n5. 응시자 준비물(반드시 지참): 신분증(학생증, 주민등록증, 면허증, 여권 등), 컴퓨터용 수성싸인펜, 수정테이프\\n\\n \\n\\n \\n\\n6. 평가유형(붙임의 시행계획서 참고)\\n\\n \\n\\n가. FLEX 듣기.읽기 A형(듣기 50문항, 읽기 90문항/총 120분)\\n\\n \\n\\n나. FLEX 듣기.읽기 B형(듣기 55문항, 읽기 95문항/총 120분)\\n\\n \\n\\n다. 언어별로 각각 개발되어 있는 유형에 따라 시행\\n\\n \\n\\n \\n\\n \\n\\n7. 비고\\n\\n \\n\\n가. 별도 성적인증서 또는 확인서는 발급되지 않음.\\n\\n \\n\\n나. 성적확인: 해당 학과사무실(시험일로부터 약 15일 후 확인 가능)\\n\\n \\n\\n다. 학과에 사전 신청한 학생만 응시 가능\\n\\n \\n\\n '"
            ],
            "application/vnd.google.colaboratory.intrinsic+json": {
              "type": "string"
            }
          },
          "metadata": {},
          "execution_count": 6
        }
      ]
    },
    {
      "cell_type": "markdown",
      "source": [
        "### 수연님 _stopwords 클래스내장화"
      ],
      "metadata": {
        "id": "LzFARB95MqPI"
      }
    },
    {
      "cell_type": "code",
      "source": [
        "class Summarizer:\n",
        "    def __init__(self, initialize: bool = True, important_keywords: List[str] = None):\n",
        "        self.stopwords = self.load_stopwords()\n",
        "        self.okt = None\n",
        "        self.summarizer = None\n",
        "        self.important_keywords = important_keywords if important_keywords is not None else ['신청기간','신청 기간', '검사기간', '시험일시','일시']\n",
        "        if initialize:\n",
        "            self.initialize_components()\n",
        "\n",
        "    def initialize_components(self):\n",
        "        self.okt = Okt()\n",
        "        self.summarizer = KeysentenceSummarizer(tokenize=self.okt_tokenize, min_sim=0.3)\n",
        "\n",
        "    def load_stopwords(self) -> List[str]:\n",
        "        # 한국어 불용어 리스트\n",
        "        self.stopwords = ['가', '가까스로', '가령', '각', '각각', '각자', '각종', '갖고말하자면', '같다', '같이', '개의치않고', '거니와', '거바', '거의', '것', '것과 같이', '것들', '게다가',\n",
        "                          '게우다', '겨우', '견지에서', '결과에 이르다', '결국', '결론을 낼 수 있다', '겸사겸사', '고려하면', '고로', '곧', '공동으로', '과', '과연', '관계가 있다', '관계없이',\n",
        "                  '관련이 있다', '관하여', '관한', '관해서는', '구', '구체적으로', '구토하다', '그', '그들', '그때', '그래', '그래도', '그래서', '그러나', '그러니', '그러니까', '그러면',\n",
        "                  '그러므로', '그러한즉', '그런 까닭에', '그런데', '그런즉', '그럼', '그럼에도 불구하고', '그렇게 함으로써', '그렇지', '그렇지 않다면', '그렇지 않으면', '그렇지만',\n",
        "                  '그렇지않으면', '그리고', '그리하여', '그만이다', '그에 따르는', '그위에', '그저', '그중에서', '그치지 않다', '근거로', '근거하여', '기대여', '기점으로', '기준으로',\n",
        "                  '기타', '까닭으로', '까악', '까지', '까지 미치다', '까지도', '꽈당', '끙끙', '끼익', '나', '나머지는', '남들', '남짓', '너', '너희', '너희들', '네', '넷', '년',\n",
        "                  '논하지 않다', '놀라다', '누가 알겠는가', '누구', '다른', '다른 방면으로', '다만', '다섯', '다소', '다수', '다시 말하자면', '다시말하면', '다음', '다음에', '다음으로',\n",
        "                  '단지', '답다', '당신', '당장', '대로 하다', '대하면', '대하여', '대해 말하자면', '대해서', '댕그', '더구나', '더군다나', '더라도', '더불어', '더욱더', '더욱이는',\n",
        "                  '도달하다', '도착하다', '동시에', '동안', '된바에야', '된이상', '두번째로', '둘', '둥둥', '뒤따라', '뒤이어', '든간에', '들', '등', '등등', '딩동', '따라', '따라서',\n",
        "                  '따위', '따지지 않다', '딱', '때', '때가 되어', '때문에', '또', '또한', '뚝뚝', '라 해도', '령', '로', '로 인하여', '로부터', '로써', '륙', '를', '마음대로', '마저',\n",
        "                  '마저도', '마치', '막론하고', '만 못하다', '만약', '만약에', '만은 아니다', '만이 아니다', '만일', '만큼', '말하자면', '말할것도 없고', '매', '매번', '메쓰겁다', '몇',\n",
        "                  '모', '모두', '무렵', '무릎쓰고', '무슨', '무엇', '무엇때문에', '물론', '및', '바꾸어말하면', '바꾸어말하자면', '바꾸어서 말하면', '바꾸어서 한다면', '바꿔 말하면',\n",
        "                  '바로', '바와같이', '밖에 안된다', '반대로', '반대로 말하자면', '반드시', '버금', '보는데서', '보다더', '보드득', '본대로', '봐', '봐라', '부류의 사람들', '부터',\n",
        "                  '불구하고', '불문하고', '붕붕', '비걱거리다', '비교적', '비길수 없다', '비로소', '비록', '비슷하다', '비추어 보아', '비하면', '뿐만 아니라', '뿐만아니라', '뿐이다',\n",
        "                  '삐걱', '삐걱거리다', '사', '삼', '상대적으로 말하자면', '생각한대로', '설령', '설마', '설사', '셋', '소생', '소인', '솨', '쉿', '습니까', '습니다', '시각', '시간',\n",
        "                  '시작하여', '시초에', '시키다', '실로', '심지어', '아', '아니', '아니나다를가', '아니라면', '아니면', '아니었다면', '아래윗', '아무거나', '아무도', '아야', '아울러',\n",
        "                  '아이', '아이고', '아이구', '아이야', '아이쿠', '아하', '아홉', '안 그러면', '않기 위하여', '않기 위해서', '알 수 있다', '알았어', '앗', '앞에서', '앞의것', '야',\n",
        "                  '약간', '양자', '어', '어기여차', '어느', '어느 년도', '어느것', '어느곳', '어느때', '어느쪽', '어느해', '어디', '어때', '어떠한', '어떤', '어떤것', '어떤것들', '어떻게',\n",
        "                  '어떻해', '어이', '어째서', '어쨋든', '어쩔수 없다', '어찌', '어찌됏든', '어찌됏어', '어찌하든지', '어찌하여', '언제', '언젠가', '얼마', '얼마 안 되는 것', '얼마간',\n",
        "                  '얼마나', '얼마든지', '얼마만큼', '얼마큼', '엉엉', '에', '에 가서', '에 달려 있다', '에 대해', '에 있다', '에 한하다', '에게', '에서', '여', '여기', '여덟', '여러분',\n",
        "                  '여보시오', '여부', '여섯', '여전히', '여차', '연관되다', '연이서', '영', '영차', '옆사람', '예', '예를 들면', '예를 들자면', '예컨대', '예하면', '오', '오로지',\n",
        "                  '오르다', '오자마자', '오직', '오호', '오히려', '와', '와 같은 사람들', '와르르', '와아', '왜', '왜냐하면', '외에도', '요만큼', '요만한 것', '요만한걸', '요컨대',\n",
        "                  '우르르', '우리', '우리들', '우선', '우에 종합한것과같이', '운운', '월', '위에서 서술한바와같이', '위하여', '위해서', '윙윙', '육', '으로', '으로 인하여', '으로부터',\n",
        "                  '으로써', '을', '응', '응당', '의', '의거하여', '의지하여', '의해', '의해되다', '의해서', '이', '이 되다', '이 때문에', '이 밖에', '이 외에', '이 정도의', '이것', '이곳',\n",
        "                  '이때', '이라면', '이래', '이러이러하다', '이러한', '이런', '이럴정도로', '이렇게 많은 것', '이렇게되면', '이렇게말하자면', '이렇구나', '이로 인하여', '이르기까지',\n",
        "                  '이리하여', '이만큼', '이번', '이봐', '이상', '이어서', '이었다', '이와 같다', '이와 같은', '이와 반대로', '이와같다면', '이외에도', '이용하여', '이유만으로', '이젠',\n",
        "                  '이지만', '이쪽', '이천구', '이천육', '이천칠', '이천팔', '인 듯하다', '인젠', '일', '일것이다', '일곱', '일단', '일때', '일반적으로', '일지라도', '임에 틀림없다',\n",
        "                  '입각하여', '입장에서', '잇따라', '있다', '자', '자기', '자기집', '자마자', '자신', '잠깐', '잠시', '저', '저것', '저것만큼', '저기', '저쪽', '저희', '전부', '전자',\n",
        "                  '전후', '점에서 보아', '정도에 이르다', '제', '제각기', '제외하고', '조금', '조차', '조차도', '졸졸', '좀', '좋아', '좍좍', '주룩주룩', '주저하지 않고', '줄은 몰랏다',\n",
        "                  '줄은모른다', '중에서', '중의하나', '즈음하여', '즉', '즉시', '지든지', '지만', '지말고', '진짜로', '쪽으로', '차라리', '참', '참나', '첫번째로', '쳇', '총적으로',\n",
        "                  '총적으로 말하면', '총적으로 보면', '칠', '콸콸', '쾅쾅', '쿵', '타다', '타인', '탕탕', '토하다', '통하여', '툭', '퉤', '틈타', '팍', '팔', '퍽', '펄렁', '하',\n",
        "                  '하게될것이다', '하게하다', '하겠는가', '하고 있다', '하고있었다', '하곤하였다', '하구나', '하기 때문에', '하기 위하여', '하기는한데', '하기만 하면', '하기보다는',\n",
        "                  '하기에', '하나', '하느니', '하는 김에', '하는 편이 낫다', '하는것도', '하는것만 못하다', '하는것이 낫다', '하는바', '하더라도', '하도다', '하도록시키다', '하도록하다',\n",
        "                  '하든지', '하려고하다', '하마터면', '하면 할수록', '하면된다', '하면서', '하물며', '하여금', '하여야', '하자마자', '하지 않는다면', '하지 않도록', '하지마', '하지마라',\n",
        "                  '하지만', '하하', '한 까닭에', '한 이유는', '한 후', '한다면', '한다면 몰라도', '한데', '한마디', '한적이있다', '한켠으로는', '한항목', '할 따름이다', '할 생각이다',\n",
        "                  '할 줄 안다', '할 지경이다', '할 힘이 있다', '할때', '할만하다', '할망정', '할뿐', '할수있다', '할수있어', '할줄알다', '할지라도', '할지언정', '함께', '해도된다',\n",
        "                  '해도좋다', '해봐요', '해서는 안된다', '해야한다', '해요', '했어요', '향하다', '향하여', '향해서', '허', '허걱', '허허', '헉', '헉헉', '헐떡헐떡', '형식으로 쓰여',\n",
        "                  '혹시', '혹은', '혼자', '훨씬', '휘익', '휴', '흐흐', '흥', '힘입어', '안녕하십니까', '아니다', '어렵다', '간단하다', '적절하다', '안녕하세요',\n",
        "                  '당사', '우리대학', '이메일', '참고사항', '공고', '끝', '누구나', '누가나', 'e-mail', 'email', '이메일', '널리', '양해', '부득이', '여러분', '합니다', '참고바랍니다',\n",
        "                  '바라며', '관심', '부탁드립니다', '부탁', '유념', '미루지 않고', '하루 빨리', '신경 써주시기', '주저 말고', '여기를 클릭', '하였습니다', '예정입니다', '드립니다',\n",
        "                  '알려 드립니다', '꼼꼼히', '아울러', '각별히', '거듭', '협조', '최선', '결실', '결실을 맺으시기를', '진심으로', '기원합니다', '함께 하겠습니다', '열정과 꿈',\n",
        "                  '마련하였습니다', '마련', '수도 있음', '기다리고', '노력', '적극 협조', '뭐니', '파악하는', '생각합니다', '무엇이며', '헌신적', '도모', '자유롭게', '자유로운',\n",
        "                  '누구나', '고민', '선사하실', '흥미로운', '바로가기', '행정지원처장', '한국', '과정', '소개', '받다', '있다', '특히', '널리', '통해', '수', '별', '되다', '않다',\n",
        "                  '→', '내', '후', '※', '놓다', '하다', '내외', '약', '하므다', '바로가기', '•', '○', '과정', '▶', '클릭', '누리집', '홈페이지', '업로드', '반드시', '이다', '자세하다']\n",
        "\n",
        "        return self.stopwords\n",
        "\n",
        "\n",
        "    def okt_tokenize(self, sent: str) -> List[str]:\n",
        "        words = self.okt.pos(sent, join=True)\n",
        "        words = [w for w in words if ('/Noun' in w or '/Adjective' in w or '/Verb' in w)]\n",
        "        return [word for word in words if word not in self.stopwords]\n",
        "\n",
        "    def is_foreign(self, text: str, korean_threshold: float = 0.3) -> bool:\n",
        "        if isinstance(text, list):\n",
        "            text = ' '.join(text)\n",
        "\n",
        "        text = text.strip()\n",
        "        if not text:\n",
        "            return False\n",
        "\n",
        "        total_chars = len(text)\n",
        "        korean_chars = len(re.findall('[가-힣]', text))\n",
        "\n",
        "        return korean_chars / total_chars < korean_threshold\n",
        "\n",
        "    def summarize_content(self, title: str, content: str, important_keywords: List[str] = None) -> List[str]:\n",
        "        if self.is_foreign(content):\n",
        "            return \"자세한 내용은 본문을 참고하세요.\"\n",
        "\n",
        "        if not content:\n",
        "            return \"자세한 내용은 본문을 참고하세요\"\n",
        "\n",
        "        if isinstance(content, list):\n",
        "            content = ' '.join(content)\n",
        "\n",
        "        if not content.strip():\n",
        "            return []\n",
        "\n",
        "        content = content.replace('\"','').replace(\"'\",'')\n",
        "\n",
        "        sents = re.split(r'\\n|\\.', content)\n",
        "        sents = list(filter(None, sents))\n",
        "        sents = [sent for sent in sents if sent.strip()]\n",
        "\n",
        "        if not sents:\n",
        "            return []\n",
        "\n",
        "        # 특정 키워드를 포함한 문장을 먼저 추출\n",
        "        important_sents = []\n",
        "        remaining_sents = []\n",
        "\n",
        "        if important_keywords is None:\n",
        "            important_keywords = self.important_keywords\n",
        "\n",
        "        for sent in sents:\n",
        "            if any(keyword in sent for keyword in important_keywords):\n",
        "                important_sents.append(sent)\n",
        "            else:\n",
        "                remaining_sents.append(sent)\n",
        "\n",
        "        # 남은 문장들로 요약 수행\n",
        "        try:\n",
        "            if remaining_sents:\n",
        "                keysents = self.summarizer.summarize(remaining_sents, topk=3)\n",
        "                summarized_sents = [item[2] for item in keysents]\n",
        "            else:\n",
        "                summarized_sents = []\n",
        "        except ValueError as e:\n",
        "            summarized_sents = [\"자세한 내용은 본문을 참고하세요.\"]\n",
        "\n",
        "        # 중요한 문장과 요약된 문장을 합치기\n",
        "        final_sents = important_sents + summarized_sents\n",
        "\n",
        "        # 중복 제거 및 결과 조정\n",
        "        final_sents = list(dict.fromkeys(final_sents))\n",
        "\n",
        "        # 최종 결과가 세 문장이 되도록 조정\n",
        "        if len(final_sents) > 3:\n",
        "            final_sents = final_sents[:3]\n",
        "        elif len(final_sents) < 3 and remaining_sents:\n",
        "            additional_sents = [sent for sent in summarized_sents if sent not in final_sents]\n",
        "            final_sents.extend(additional_sents[:3 - len(final_sents)])\n",
        "\n",
        "        return final_sents\n"
      ],
      "metadata": {
        "id": "FzrLXOobOLq0"
      },
      "execution_count": null,
      "outputs": []
    },
    {
      "cell_type": "code",
      "source": [
        "app = FastAPI()\n",
        "summarizer = Summarizer()"
      ],
      "metadata": {
        "id": "UlU9vM1DOnSR"
      },
      "execution_count": null,
      "outputs": []
    },
    {
      "cell_type": "code",
      "source": [
        "class ModelInput(BaseModel):\n",
        "    title: str\n",
        "    content: str\n",
        "\n",
        "@app.post(\"/summarize/\")\n",
        "def summarize_content(input_data: ModelInput):\n",
        "    title = input_data.title\n",
        "    content = input_data.content\n",
        "    summary = summarizer.summarize_content(title, content,important_keywords)\n",
        "    return {\"summary\": summary}"
      ],
      "metadata": {
        "id": "LS2Mp6-CO1f1"
      },
      "execution_count": null,
      "outputs": []
    },
    {
      "cell_type": "code",
      "source": [
        "# Ngrok 터널 시작\n",
        "nest_asyncio.apply()\n",
        "ngrok.kill()  # 기존 ngrok 세션 종료\n",
        "ngrok.set_auth_token(\"2hJQt9L0vTO3rTjHv0gOH43TmCf_7HG3wrTF235UCccmCQoBj\")  # Ngrok 인증 토큰 설정\n",
        "ngrok_tunnel = ngrok.connect(8000, subdomain=\"cdml\")  # 고정 서브도메인 설정\n",
        "print('Public URL:', ngrok_tunnel.public_url)\n",
        "\n",
        "# Uvicorn을 사용하여 FastAPI 앱 실행\n",
        "uvicorn.run(app, host='0.0.0.0', port=8000)"
      ],
      "metadata": {
        "colab": {
          "base_uri": "https://localhost:8080/",
          "height": 1000
        },
        "id": "NIZwoaPaRJfN",
        "outputId": "4492e6da-7e2e-4fe9-830b-7c6afa9d376a"
      },
      "execution_count": null,
      "outputs": [
        {
          "output_type": "stream",
          "name": "stdout",
          "text": [
            "Public URL: https://cdml.ngrok.io\n"
          ]
        },
        {
          "output_type": "stream",
          "name": "stderr",
          "text": [
            "INFO:     Started server process [1589]\n",
            "INFO:     Waiting for application startup.\n",
            "INFO:     Application startup complete.\n",
            "INFO:     Uvicorn running on http://0.0.0.0:8000 (Press CTRL+C to quit)\n"
          ]
        },
        {
          "output_type": "stream",
          "name": "stdout",
          "text": [
            "INFO:     117.110.95.42:0 - \"POST /summarize/ HTTP/1.1\" 200 OK\n",
            "INFO:     117.110.95.42:0 - \"POST /summarize/ HTTP/1.1\" 200 OK\n",
            "INFO:     117.110.95.42:0 - \"POST /summarize/ HTTP/1.1\" 200 OK\n",
            "INFO:     35.196.132.85:0 - \"GET /summarize/ HTTP/1.1\" 405 Method Not Allowed\n",
            "INFO:     183.101.254.29:0 - \"GET /summarize/ HTTP/1.1\" 405 Method Not Allowed\n",
            "INFO:     183.101.254.29:0 - \"GET /apple-touch-icon.png HTTP/1.1\" 404 Not Found\n",
            "INFO:     183.101.254.29:0 - \"GET /favicon.ico HTTP/1.1\" 404 Not Found\n",
            "INFO:     183.101.254.29:0 - \"GET /apple-touch-icon-precomposed.png HTTP/1.1\" 404 Not Found\n",
            "INFO:     27.0.238.69:0 - \"GET /summarize/ HTTP/1.1\" 405 Method Not Allowed\n",
            "INFO:     183.101.254.29:0 - \"GET /summarize/ HTTP/1.1\" 405 Method Not Allowed\n"
          ]
        },
        {
          "output_type": "stream",
          "name": "stderr",
          "text": [
            "ERROR:asyncio:Task exception was never retrieved\n",
            "future: <Task finished name='Task-1' coro=<Server.serve() done, defined at /usr/local/lib/python3.10/dist-packages/uvicorn/server.py:67> exception=KeyboardInterrupt()>\n",
            "Traceback (most recent call last):\n",
            "  File \"/usr/local/lib/python3.10/dist-packages/IPython/core/interactiveshell.py\", line 3553, in run_code\n",
            "    exec(code_obj, self.user_global_ns, self.user_ns)\n",
            "  File \"<ipython-input-11-9f59dd42f9b8>\", line 13, in <cell line: 13>\n",
            "    uvicorn.run(app, host='0.0.0.0', port=8000)\n",
            "  File \"/usr/local/lib/python3.10/dist-packages/uvicorn/main.py\", line 577, in run\n",
            "    server.run()\n",
            "  File \"/usr/local/lib/python3.10/dist-packages/uvicorn/server.py\", line 65, in run\n",
            "    return asyncio.run(self.serve(sockets=sockets))\n",
            "  File \"/usr/local/lib/python3.10/dist-packages/nest_asyncio.py\", line 30, in run\n",
            "    return loop.run_until_complete(task)\n",
            "  File \"/usr/local/lib/python3.10/dist-packages/nest_asyncio.py\", line 92, in run_until_complete\n",
            "    self._run_once()\n",
            "  File \"/usr/local/lib/python3.10/dist-packages/nest_asyncio.py\", line 133, in _run_once\n",
            "    handle._run()\n",
            "  File \"/usr/lib/python3.10/asyncio/events.py\", line 80, in _run\n",
            "    self._context.run(self._callback, *self._args)\n",
            "  File \"/usr/lib/python3.10/asyncio/tasks.py\", line 315, in __wakeup\n",
            "    self.__step()\n",
            "  File \"/usr/lib/python3.10/asyncio/tasks.py\", line 232, in __step\n",
            "    result = coro.send(None)\n",
            "  File \"/usr/local/lib/python3.10/dist-packages/uvicorn/server.py\", line 68, in serve\n",
            "    with self.capture_signals():\n",
            "  File \"/usr/lib/python3.10/contextlib.py\", line 142, in __exit__\n",
            "    next(self.gen)\n",
            "  File \"/usr/local/lib/python3.10/dist-packages/uvicorn/server.py\", line 328, in capture_signals\n",
            "    signal.raise_signal(captured_signal)\n",
            "KeyboardInterrupt\n"
          ]
        },
        {
          "output_type": "stream",
          "name": "stdout",
          "text": [
            "INFO:     183.101.254.29:0 - \"POST /summarize/ HTTP/1.1\" 200 OK\n",
            "INFO:     183.101.254.29:0 - \"POST /summarize/ HTTP/1.1\" 200 OK\n",
            "INFO:     183.101.254.29:0 - \"POST /summarize/ HTTP/1.1\" 200 OK\n"
          ]
        },
        {
          "output_type": "stream",
          "name": "stderr",
          "text": [
            "INFO:     Shutting down\n",
            "INFO:     Waiting for application shutdown.\n",
            "INFO:     Application shutdown complete.\n",
            "INFO:     Finished server process [1589]\n"
          ]
        },
        {
          "output_type": "error",
          "ename": "KeyboardInterrupt",
          "evalue": "",
          "traceback": [
            "\u001b[0;31m---------------------------------------------------------------------------\u001b[0m",
            "\u001b[0;31mKeyboardInterrupt\u001b[0m                         Traceback (most recent call last)",
            "\u001b[0;32m<ipython-input-16-82e9a9b68895>\u001b[0m in \u001b[0;36m<cell line: 9>\u001b[0;34m()\u001b[0m\n\u001b[1;32m      7\u001b[0m \u001b[0;34m\u001b[0m\u001b[0m\n\u001b[1;32m      8\u001b[0m \u001b[0;31m# Uvicorn을 사용하여 FastAPI 앱 실행\u001b[0m\u001b[0;34m\u001b[0m\u001b[0;34m\u001b[0m\u001b[0m\n\u001b[0;32m----> 9\u001b[0;31m \u001b[0muvicorn\u001b[0m\u001b[0;34m.\u001b[0m\u001b[0mrun\u001b[0m\u001b[0;34m(\u001b[0m\u001b[0mapp\u001b[0m\u001b[0;34m,\u001b[0m \u001b[0mhost\u001b[0m\u001b[0;34m=\u001b[0m\u001b[0;34m'0.0.0.0'\u001b[0m\u001b[0;34m,\u001b[0m \u001b[0mport\u001b[0m\u001b[0;34m=\u001b[0m\u001b[0;36m8000\u001b[0m\u001b[0;34m)\u001b[0m\u001b[0;34m\u001b[0m\u001b[0;34m\u001b[0m\u001b[0m\n\u001b[0m",
            "\u001b[0;32m/usr/local/lib/python3.10/dist-packages/uvicorn/main.py\u001b[0m in \u001b[0;36mrun\u001b[0;34m(app, host, port, uds, fd, loop, http, ws, ws_max_size, ws_max_queue, ws_ping_interval, ws_ping_timeout, ws_per_message_deflate, lifespan, interface, reload, reload_dirs, reload_includes, reload_excludes, reload_delay, workers, env_file, log_config, log_level, access_log, proxy_headers, server_header, date_header, forwarded_allow_ips, root_path, limit_concurrency, backlog, limit_max_requests, timeout_keep_alive, timeout_graceful_shutdown, ssl_keyfile, ssl_certfile, ssl_keyfile_password, ssl_version, ssl_cert_reqs, ssl_ca_certs, ssl_ciphers, headers, use_colors, app_dir, factory, h11_max_incomplete_event_size)\u001b[0m\n\u001b[1;32m    575\u001b[0m             \u001b[0mMultiprocess\u001b[0m\u001b[0;34m(\u001b[0m\u001b[0mconfig\u001b[0m\u001b[0;34m,\u001b[0m \u001b[0mtarget\u001b[0m\u001b[0;34m=\u001b[0m\u001b[0mserver\u001b[0m\u001b[0;34m.\u001b[0m\u001b[0mrun\u001b[0m\u001b[0;34m,\u001b[0m \u001b[0msockets\u001b[0m\u001b[0;34m=\u001b[0m\u001b[0;34m[\u001b[0m\u001b[0msock\u001b[0m\u001b[0;34m]\u001b[0m\u001b[0;34m)\u001b[0m\u001b[0;34m.\u001b[0m\u001b[0mrun\u001b[0m\u001b[0;34m(\u001b[0m\u001b[0;34m)\u001b[0m\u001b[0;34m\u001b[0m\u001b[0;34m\u001b[0m\u001b[0m\n\u001b[1;32m    576\u001b[0m         \u001b[0;32melse\u001b[0m\u001b[0;34m:\u001b[0m\u001b[0;34m\u001b[0m\u001b[0;34m\u001b[0m\u001b[0m\n\u001b[0;32m--> 577\u001b[0;31m             \u001b[0mserver\u001b[0m\u001b[0;34m.\u001b[0m\u001b[0mrun\u001b[0m\u001b[0;34m(\u001b[0m\u001b[0;34m)\u001b[0m\u001b[0;34m\u001b[0m\u001b[0;34m\u001b[0m\u001b[0m\n\u001b[0m\u001b[1;32m    578\u001b[0m     \u001b[0;32mfinally\u001b[0m\u001b[0;34m:\u001b[0m\u001b[0;34m\u001b[0m\u001b[0;34m\u001b[0m\u001b[0m\n\u001b[1;32m    579\u001b[0m         \u001b[0;32mif\u001b[0m \u001b[0mconfig\u001b[0m\u001b[0;34m.\u001b[0m\u001b[0muds\u001b[0m \u001b[0;32mand\u001b[0m \u001b[0mos\u001b[0m\u001b[0;34m.\u001b[0m\u001b[0mpath\u001b[0m\u001b[0;34m.\u001b[0m\u001b[0mexists\u001b[0m\u001b[0;34m(\u001b[0m\u001b[0mconfig\u001b[0m\u001b[0;34m.\u001b[0m\u001b[0muds\u001b[0m\u001b[0;34m)\u001b[0m\u001b[0;34m:\u001b[0m\u001b[0;34m\u001b[0m\u001b[0;34m\u001b[0m\u001b[0m\n",
            "\u001b[0;32m/usr/local/lib/python3.10/dist-packages/uvicorn/server.py\u001b[0m in \u001b[0;36mrun\u001b[0;34m(self, sockets)\u001b[0m\n\u001b[1;32m     63\u001b[0m     \u001b[0;32mdef\u001b[0m \u001b[0mrun\u001b[0m\u001b[0;34m(\u001b[0m\u001b[0mself\u001b[0m\u001b[0;34m,\u001b[0m \u001b[0msockets\u001b[0m\u001b[0;34m:\u001b[0m \u001b[0mlist\u001b[0m\u001b[0;34m[\u001b[0m\u001b[0msocket\u001b[0m\u001b[0;34m.\u001b[0m\u001b[0msocket\u001b[0m\u001b[0;34m]\u001b[0m \u001b[0;34m|\u001b[0m \u001b[0;32mNone\u001b[0m \u001b[0;34m=\u001b[0m \u001b[0;32mNone\u001b[0m\u001b[0;34m)\u001b[0m \u001b[0;34m->\u001b[0m \u001b[0;32mNone\u001b[0m\u001b[0;34m:\u001b[0m\u001b[0;34m\u001b[0m\u001b[0;34m\u001b[0m\u001b[0m\n\u001b[1;32m     64\u001b[0m         \u001b[0mself\u001b[0m\u001b[0;34m.\u001b[0m\u001b[0mconfig\u001b[0m\u001b[0;34m.\u001b[0m\u001b[0msetup_event_loop\u001b[0m\u001b[0;34m(\u001b[0m\u001b[0;34m)\u001b[0m\u001b[0;34m\u001b[0m\u001b[0;34m\u001b[0m\u001b[0m\n\u001b[0;32m---> 65\u001b[0;31m         \u001b[0;32mreturn\u001b[0m \u001b[0masyncio\u001b[0m\u001b[0;34m.\u001b[0m\u001b[0mrun\u001b[0m\u001b[0;34m(\u001b[0m\u001b[0mself\u001b[0m\u001b[0;34m.\u001b[0m\u001b[0mserve\u001b[0m\u001b[0;34m(\u001b[0m\u001b[0msockets\u001b[0m\u001b[0;34m=\u001b[0m\u001b[0msockets\u001b[0m\u001b[0;34m)\u001b[0m\u001b[0;34m)\u001b[0m\u001b[0;34m\u001b[0m\u001b[0;34m\u001b[0m\u001b[0m\n\u001b[0m\u001b[1;32m     66\u001b[0m \u001b[0;34m\u001b[0m\u001b[0m\n\u001b[1;32m     67\u001b[0m     \u001b[0;32masync\u001b[0m \u001b[0;32mdef\u001b[0m \u001b[0mserve\u001b[0m\u001b[0;34m(\u001b[0m\u001b[0mself\u001b[0m\u001b[0;34m,\u001b[0m \u001b[0msockets\u001b[0m\u001b[0;34m:\u001b[0m \u001b[0mlist\u001b[0m\u001b[0;34m[\u001b[0m\u001b[0msocket\u001b[0m\u001b[0;34m.\u001b[0m\u001b[0msocket\u001b[0m\u001b[0;34m]\u001b[0m \u001b[0;34m|\u001b[0m \u001b[0;32mNone\u001b[0m \u001b[0;34m=\u001b[0m \u001b[0;32mNone\u001b[0m\u001b[0;34m)\u001b[0m \u001b[0;34m->\u001b[0m \u001b[0;32mNone\u001b[0m\u001b[0;34m:\u001b[0m\u001b[0;34m\u001b[0m\u001b[0;34m\u001b[0m\u001b[0m\n",
            "\u001b[0;32m/usr/local/lib/python3.10/dist-packages/nest_asyncio.py\u001b[0m in \u001b[0;36mrun\u001b[0;34m(main, debug)\u001b[0m\n\u001b[1;32m     28\u001b[0m         \u001b[0mtask\u001b[0m \u001b[0;34m=\u001b[0m \u001b[0masyncio\u001b[0m\u001b[0;34m.\u001b[0m\u001b[0mensure_future\u001b[0m\u001b[0;34m(\u001b[0m\u001b[0mmain\u001b[0m\u001b[0;34m)\u001b[0m\u001b[0;34m\u001b[0m\u001b[0;34m\u001b[0m\u001b[0m\n\u001b[1;32m     29\u001b[0m         \u001b[0;32mtry\u001b[0m\u001b[0;34m:\u001b[0m\u001b[0;34m\u001b[0m\u001b[0;34m\u001b[0m\u001b[0m\n\u001b[0;32m---> 30\u001b[0;31m             \u001b[0;32mreturn\u001b[0m \u001b[0mloop\u001b[0m\u001b[0;34m.\u001b[0m\u001b[0mrun_until_complete\u001b[0m\u001b[0;34m(\u001b[0m\u001b[0mtask\u001b[0m\u001b[0;34m)\u001b[0m\u001b[0;34m\u001b[0m\u001b[0;34m\u001b[0m\u001b[0m\n\u001b[0m\u001b[1;32m     31\u001b[0m         \u001b[0;32mfinally\u001b[0m\u001b[0;34m:\u001b[0m\u001b[0;34m\u001b[0m\u001b[0;34m\u001b[0m\u001b[0m\n\u001b[1;32m     32\u001b[0m             \u001b[0;32mif\u001b[0m \u001b[0;32mnot\u001b[0m \u001b[0mtask\u001b[0m\u001b[0;34m.\u001b[0m\u001b[0mdone\u001b[0m\u001b[0;34m(\u001b[0m\u001b[0;34m)\u001b[0m\u001b[0;34m:\u001b[0m\u001b[0;34m\u001b[0m\u001b[0;34m\u001b[0m\u001b[0m\n",
            "\u001b[0;32m/usr/local/lib/python3.10/dist-packages/nest_asyncio.py\u001b[0m in \u001b[0;36mrun_until_complete\u001b[0;34m(self, future)\u001b[0m\n\u001b[1;32m     90\u001b[0m                 \u001b[0mf\u001b[0m\u001b[0;34m.\u001b[0m\u001b[0m_log_destroy_pending\u001b[0m \u001b[0;34m=\u001b[0m \u001b[0;32mFalse\u001b[0m\u001b[0;34m\u001b[0m\u001b[0;34m\u001b[0m\u001b[0m\n\u001b[1;32m     91\u001b[0m             \u001b[0;32mwhile\u001b[0m \u001b[0;32mnot\u001b[0m \u001b[0mf\u001b[0m\u001b[0;34m.\u001b[0m\u001b[0mdone\u001b[0m\u001b[0;34m(\u001b[0m\u001b[0;34m)\u001b[0m\u001b[0;34m:\u001b[0m\u001b[0;34m\u001b[0m\u001b[0;34m\u001b[0m\u001b[0m\n\u001b[0;32m---> 92\u001b[0;31m                 \u001b[0mself\u001b[0m\u001b[0;34m.\u001b[0m\u001b[0m_run_once\u001b[0m\u001b[0;34m(\u001b[0m\u001b[0;34m)\u001b[0m\u001b[0;34m\u001b[0m\u001b[0;34m\u001b[0m\u001b[0m\n\u001b[0m\u001b[1;32m     93\u001b[0m                 \u001b[0;32mif\u001b[0m \u001b[0mself\u001b[0m\u001b[0;34m.\u001b[0m\u001b[0m_stopping\u001b[0m\u001b[0;34m:\u001b[0m\u001b[0;34m\u001b[0m\u001b[0;34m\u001b[0m\u001b[0m\n\u001b[1;32m     94\u001b[0m                     \u001b[0;32mbreak\u001b[0m\u001b[0;34m\u001b[0m\u001b[0;34m\u001b[0m\u001b[0m\n",
            "\u001b[0;32m/usr/local/lib/python3.10/dist-packages/nest_asyncio.py\u001b[0m in \u001b[0;36m_run_once\u001b[0;34m(self)\u001b[0m\n\u001b[1;32m    131\u001b[0m \u001b[0;34m\u001b[0m\u001b[0m\n\u001b[1;32m    132\u001b[0m                 \u001b[0;32mtry\u001b[0m\u001b[0;34m:\u001b[0m\u001b[0;34m\u001b[0m\u001b[0;34m\u001b[0m\u001b[0m\n\u001b[0;32m--> 133\u001b[0;31m                     \u001b[0mhandle\u001b[0m\u001b[0;34m.\u001b[0m\u001b[0m_run\u001b[0m\u001b[0;34m(\u001b[0m\u001b[0;34m)\u001b[0m\u001b[0;34m\u001b[0m\u001b[0;34m\u001b[0m\u001b[0m\n\u001b[0m\u001b[1;32m    134\u001b[0m                 \u001b[0;32mfinally\u001b[0m\u001b[0;34m:\u001b[0m\u001b[0;34m\u001b[0m\u001b[0;34m\u001b[0m\u001b[0m\n\u001b[1;32m    135\u001b[0m                     \u001b[0;31m# restore the current task\u001b[0m\u001b[0;34m\u001b[0m\u001b[0;34m\u001b[0m\u001b[0m\n",
            "\u001b[0;32m/usr/lib/python3.10/asyncio/events.py\u001b[0m in \u001b[0;36m_run\u001b[0;34m(self)\u001b[0m\n\u001b[1;32m     78\u001b[0m     \u001b[0;32mdef\u001b[0m \u001b[0m_run\u001b[0m\u001b[0;34m(\u001b[0m\u001b[0mself\u001b[0m\u001b[0;34m)\u001b[0m\u001b[0;34m:\u001b[0m\u001b[0;34m\u001b[0m\u001b[0;34m\u001b[0m\u001b[0m\n\u001b[1;32m     79\u001b[0m         \u001b[0;32mtry\u001b[0m\u001b[0;34m:\u001b[0m\u001b[0;34m\u001b[0m\u001b[0;34m\u001b[0m\u001b[0m\n\u001b[0;32m---> 80\u001b[0;31m             \u001b[0mself\u001b[0m\u001b[0;34m.\u001b[0m\u001b[0m_context\u001b[0m\u001b[0;34m.\u001b[0m\u001b[0mrun\u001b[0m\u001b[0;34m(\u001b[0m\u001b[0mself\u001b[0m\u001b[0;34m.\u001b[0m\u001b[0m_callback\u001b[0m\u001b[0;34m,\u001b[0m \u001b[0;34m*\u001b[0m\u001b[0mself\u001b[0m\u001b[0;34m.\u001b[0m\u001b[0m_args\u001b[0m\u001b[0;34m)\u001b[0m\u001b[0;34m\u001b[0m\u001b[0;34m\u001b[0m\u001b[0m\n\u001b[0m\u001b[1;32m     81\u001b[0m         \u001b[0;32mexcept\u001b[0m \u001b[0;34m(\u001b[0m\u001b[0mSystemExit\u001b[0m\u001b[0;34m,\u001b[0m \u001b[0mKeyboardInterrupt\u001b[0m\u001b[0;34m)\u001b[0m\u001b[0;34m:\u001b[0m\u001b[0;34m\u001b[0m\u001b[0;34m\u001b[0m\u001b[0m\n\u001b[1;32m     82\u001b[0m             \u001b[0;32mraise\u001b[0m\u001b[0;34m\u001b[0m\u001b[0;34m\u001b[0m\u001b[0m\n",
            "\u001b[0;32m/usr/lib/python3.10/asyncio/tasks.py\u001b[0m in \u001b[0;36m__wakeup\u001b[0;34m(self, future)\u001b[0m\n\u001b[1;32m    313\u001b[0m             \u001b[0;31m# instead of `__next__()`, which is slower for futures\u001b[0m\u001b[0;34m\u001b[0m\u001b[0;34m\u001b[0m\u001b[0m\n\u001b[1;32m    314\u001b[0m             \u001b[0;31m# that return non-generator iterators from their `__iter__`.\u001b[0m\u001b[0;34m\u001b[0m\u001b[0;34m\u001b[0m\u001b[0m\n\u001b[0;32m--> 315\u001b[0;31m             \u001b[0mself\u001b[0m\u001b[0;34m.\u001b[0m\u001b[0m__step\u001b[0m\u001b[0;34m(\u001b[0m\u001b[0;34m)\u001b[0m\u001b[0;34m\u001b[0m\u001b[0;34m\u001b[0m\u001b[0m\n\u001b[0m\u001b[1;32m    316\u001b[0m         \u001b[0mself\u001b[0m \u001b[0;34m=\u001b[0m \u001b[0;32mNone\u001b[0m  \u001b[0;31m# Needed to break cycles when an exception occurs.\u001b[0m\u001b[0;34m\u001b[0m\u001b[0;34m\u001b[0m\u001b[0m\n\u001b[1;32m    317\u001b[0m \u001b[0;34m\u001b[0m\u001b[0m\n",
            "\u001b[0;32m/usr/lib/python3.10/asyncio/tasks.py\u001b[0m in \u001b[0;36m__step\u001b[0;34m(***failed resolving arguments***)\u001b[0m\n\u001b[1;32m    230\u001b[0m                 \u001b[0;31m# We use the `send` method directly, because coroutines\u001b[0m\u001b[0;34m\u001b[0m\u001b[0;34m\u001b[0m\u001b[0m\n\u001b[1;32m    231\u001b[0m                 \u001b[0;31m# don't have `__iter__` and `__next__` methods.\u001b[0m\u001b[0;34m\u001b[0m\u001b[0;34m\u001b[0m\u001b[0m\n\u001b[0;32m--> 232\u001b[0;31m                 \u001b[0mresult\u001b[0m \u001b[0;34m=\u001b[0m \u001b[0mcoro\u001b[0m\u001b[0;34m.\u001b[0m\u001b[0msend\u001b[0m\u001b[0;34m(\u001b[0m\u001b[0;32mNone\u001b[0m\u001b[0;34m)\u001b[0m\u001b[0;34m\u001b[0m\u001b[0;34m\u001b[0m\u001b[0m\n\u001b[0m\u001b[1;32m    233\u001b[0m             \u001b[0;32melse\u001b[0m\u001b[0;34m:\u001b[0m\u001b[0;34m\u001b[0m\u001b[0;34m\u001b[0m\u001b[0m\n\u001b[1;32m    234\u001b[0m                 \u001b[0mresult\u001b[0m \u001b[0;34m=\u001b[0m \u001b[0mcoro\u001b[0m\u001b[0;34m.\u001b[0m\u001b[0mthrow\u001b[0m\u001b[0;34m(\u001b[0m\u001b[0mexc\u001b[0m\u001b[0;34m)\u001b[0m\u001b[0;34m\u001b[0m\u001b[0;34m\u001b[0m\u001b[0m\n",
            "\u001b[0;32m/usr/local/lib/python3.10/dist-packages/uvicorn/server.py\u001b[0m in \u001b[0;36mserve\u001b[0;34m(self, sockets)\u001b[0m\n\u001b[1;32m     66\u001b[0m \u001b[0;34m\u001b[0m\u001b[0m\n\u001b[1;32m     67\u001b[0m     \u001b[0;32masync\u001b[0m \u001b[0;32mdef\u001b[0m \u001b[0mserve\u001b[0m\u001b[0;34m(\u001b[0m\u001b[0mself\u001b[0m\u001b[0;34m,\u001b[0m \u001b[0msockets\u001b[0m\u001b[0;34m:\u001b[0m \u001b[0mlist\u001b[0m\u001b[0;34m[\u001b[0m\u001b[0msocket\u001b[0m\u001b[0;34m.\u001b[0m\u001b[0msocket\u001b[0m\u001b[0;34m]\u001b[0m \u001b[0;34m|\u001b[0m \u001b[0;32mNone\u001b[0m \u001b[0;34m=\u001b[0m \u001b[0;32mNone\u001b[0m\u001b[0;34m)\u001b[0m \u001b[0;34m->\u001b[0m \u001b[0;32mNone\u001b[0m\u001b[0;34m:\u001b[0m\u001b[0;34m\u001b[0m\u001b[0;34m\u001b[0m\u001b[0m\n\u001b[0;32m---> 68\u001b[0;31m         \u001b[0;32mwith\u001b[0m \u001b[0mself\u001b[0m\u001b[0;34m.\u001b[0m\u001b[0mcapture_signals\u001b[0m\u001b[0;34m(\u001b[0m\u001b[0;34m)\u001b[0m\u001b[0;34m:\u001b[0m\u001b[0;34m\u001b[0m\u001b[0;34m\u001b[0m\u001b[0m\n\u001b[0m\u001b[1;32m     69\u001b[0m             \u001b[0;32mawait\u001b[0m \u001b[0mself\u001b[0m\u001b[0;34m.\u001b[0m\u001b[0m_serve\u001b[0m\u001b[0;34m(\u001b[0m\u001b[0msockets\u001b[0m\u001b[0;34m)\u001b[0m\u001b[0;34m\u001b[0m\u001b[0;34m\u001b[0m\u001b[0m\n\u001b[1;32m     70\u001b[0m \u001b[0;34m\u001b[0m\u001b[0m\n",
            "\u001b[0;32m/usr/lib/python3.10/contextlib.py\u001b[0m in \u001b[0;36m__exit__\u001b[0;34m(self, typ, value, traceback)\u001b[0m\n\u001b[1;32m    140\u001b[0m         \u001b[0;32mif\u001b[0m \u001b[0mtyp\u001b[0m \u001b[0;32mis\u001b[0m \u001b[0;32mNone\u001b[0m\u001b[0;34m:\u001b[0m\u001b[0;34m\u001b[0m\u001b[0;34m\u001b[0m\u001b[0m\n\u001b[1;32m    141\u001b[0m             \u001b[0;32mtry\u001b[0m\u001b[0;34m:\u001b[0m\u001b[0;34m\u001b[0m\u001b[0;34m\u001b[0m\u001b[0m\n\u001b[0;32m--> 142\u001b[0;31m                 \u001b[0mnext\u001b[0m\u001b[0;34m(\u001b[0m\u001b[0mself\u001b[0m\u001b[0;34m.\u001b[0m\u001b[0mgen\u001b[0m\u001b[0;34m)\u001b[0m\u001b[0;34m\u001b[0m\u001b[0;34m\u001b[0m\u001b[0m\n\u001b[0m\u001b[1;32m    143\u001b[0m             \u001b[0;32mexcept\u001b[0m \u001b[0mStopIteration\u001b[0m\u001b[0;34m:\u001b[0m\u001b[0;34m\u001b[0m\u001b[0;34m\u001b[0m\u001b[0m\n\u001b[1;32m    144\u001b[0m                 \u001b[0;32mreturn\u001b[0m \u001b[0;32mFalse\u001b[0m\u001b[0;34m\u001b[0m\u001b[0;34m\u001b[0m\u001b[0m\n",
            "\u001b[0;32m/usr/local/lib/python3.10/dist-packages/uvicorn/server.py\u001b[0m in \u001b[0;36mcapture_signals\u001b[0;34m(self)\u001b[0m\n\u001b[1;32m    326\u001b[0m         \u001b[0;31m# done LIFO, see https://stackoverflow.com/questions/48434964\u001b[0m\u001b[0;34m\u001b[0m\u001b[0;34m\u001b[0m\u001b[0m\n\u001b[1;32m    327\u001b[0m         \u001b[0;32mfor\u001b[0m \u001b[0mcaptured_signal\u001b[0m \u001b[0;32min\u001b[0m \u001b[0mreversed\u001b[0m\u001b[0;34m(\u001b[0m\u001b[0mself\u001b[0m\u001b[0;34m.\u001b[0m\u001b[0m_captured_signals\u001b[0m\u001b[0;34m)\u001b[0m\u001b[0;34m:\u001b[0m\u001b[0;34m\u001b[0m\u001b[0;34m\u001b[0m\u001b[0m\n\u001b[0;32m--> 328\u001b[0;31m             \u001b[0msignal\u001b[0m\u001b[0;34m.\u001b[0m\u001b[0mraise_signal\u001b[0m\u001b[0;34m(\u001b[0m\u001b[0mcaptured_signal\u001b[0m\u001b[0;34m)\u001b[0m\u001b[0;34m\u001b[0m\u001b[0;34m\u001b[0m\u001b[0m\n\u001b[0m\u001b[1;32m    329\u001b[0m \u001b[0;34m\u001b[0m\u001b[0m\n\u001b[1;32m    330\u001b[0m     \u001b[0;32mdef\u001b[0m \u001b[0mhandle_exit\u001b[0m\u001b[0;34m(\u001b[0m\u001b[0mself\u001b[0m\u001b[0;34m,\u001b[0m \u001b[0msig\u001b[0m\u001b[0;34m:\u001b[0m \u001b[0mint\u001b[0m\u001b[0;34m,\u001b[0m \u001b[0mframe\u001b[0m\u001b[0;34m:\u001b[0m \u001b[0mFrameType\u001b[0m \u001b[0;34m|\u001b[0m \u001b[0;32mNone\u001b[0m\u001b[0;34m)\u001b[0m \u001b[0;34m->\u001b[0m \u001b[0;32mNone\u001b[0m\u001b[0;34m:\u001b[0m\u001b[0;34m\u001b[0m\u001b[0;34m\u001b[0m\u001b[0m\n",
            "\u001b[0;31mKeyboardInterrupt\u001b[0m: "
          ]
        }
      ]
    },
    {
      "cell_type": "code",
      "source": [
        "# Colab에서 asyncio 이벤트 루프를 중첩\n",
        "nest_asyncio.apply()\n",
        "\n",
        "# ngrok 터널 시작\n",
        "ngrok.kill()  # 기존 ngrok 세션 종료\n",
        "\n",
        "# 토큰 갱신 필요시 갱신\n",
        "!ngrok authtoken \"2hJQt9L0vTO3rTjHv0gOH43TmCf_7HG3wrTF235UCccmCQoBj\"\n",
        "ngrok_tunnel = ngrok.connect(8000)\n",
        "print('Public URL:', ngrok_tunnel.public_url)\n",
        "\n",
        "# Uvicorn을 사용하여 FastAPI 앱 실행\n",
        "uvicorn.run(app, host='0.0.0.0', port=8000)"
      ],
      "metadata": {
        "colab": {
          "base_uri": "https://localhost:8080/",
          "height": 526
        },
        "id": "Pfx-4p0xO1pi",
        "outputId": "d8b374c7-d697-428b-8934-e1fe9e8a1720"
      },
      "execution_count": null,
      "outputs": [
        {
          "output_type": "stream",
          "name": "stdout",
          "text": [
            "Authtoken saved to configuration file: /root/.config/ngrok/ngrok.yml\n",
            "Public URL: https://be2457517a0e.ngrok.app\n"
          ]
        },
        {
          "output_type": "stream",
          "name": "stderr",
          "text": [
            "INFO:     Started server process [1589]\n",
            "INFO:     Waiting for application startup.\n",
            "INFO:     Application startup complete.\n",
            "INFO:     Uvicorn running on http://0.0.0.0:8000 (Press CTRL+C to quit)\n",
            "INFO:     Shutting down\n",
            "INFO:     Waiting for application shutdown.\n",
            "INFO:     Application shutdown complete.\n",
            "INFO:     Finished server process [1589]\n"
          ]
        },
        {
          "output_type": "error",
          "ename": "KeyboardInterrupt",
          "evalue": "",
          "traceback": [
            "\u001b[0;31m---------------------------------------------------------------------------\u001b[0m",
            "\u001b[0;31mKeyboardInterrupt\u001b[0m                         Traceback (most recent call last)",
            "\u001b[0;32m<ipython-input-15-9f59dd42f9b8>\u001b[0m in \u001b[0;36m<cell line: 13>\u001b[0;34m()\u001b[0m\n\u001b[1;32m     11\u001b[0m \u001b[0;34m\u001b[0m\u001b[0m\n\u001b[1;32m     12\u001b[0m \u001b[0;31m# Uvicorn을 사용하여 FastAPI 앱 실행\u001b[0m\u001b[0;34m\u001b[0m\u001b[0;34m\u001b[0m\u001b[0m\n\u001b[0;32m---> 13\u001b[0;31m \u001b[0muvicorn\u001b[0m\u001b[0;34m.\u001b[0m\u001b[0mrun\u001b[0m\u001b[0;34m(\u001b[0m\u001b[0mapp\u001b[0m\u001b[0;34m,\u001b[0m \u001b[0mhost\u001b[0m\u001b[0;34m=\u001b[0m\u001b[0;34m'0.0.0.0'\u001b[0m\u001b[0;34m,\u001b[0m \u001b[0mport\u001b[0m\u001b[0;34m=\u001b[0m\u001b[0;36m8000\u001b[0m\u001b[0;34m)\u001b[0m\u001b[0;34m\u001b[0m\u001b[0;34m\u001b[0m\u001b[0m\n\u001b[0m",
            "\u001b[0;32m/usr/local/lib/python3.10/dist-packages/uvicorn/main.py\u001b[0m in \u001b[0;36mrun\u001b[0;34m(app, host, port, uds, fd, loop, http, ws, ws_max_size, ws_max_queue, ws_ping_interval, ws_ping_timeout, ws_per_message_deflate, lifespan, interface, reload, reload_dirs, reload_includes, reload_excludes, reload_delay, workers, env_file, log_config, log_level, access_log, proxy_headers, server_header, date_header, forwarded_allow_ips, root_path, limit_concurrency, backlog, limit_max_requests, timeout_keep_alive, timeout_graceful_shutdown, ssl_keyfile, ssl_certfile, ssl_keyfile_password, ssl_version, ssl_cert_reqs, ssl_ca_certs, ssl_ciphers, headers, use_colors, app_dir, factory, h11_max_incomplete_event_size)\u001b[0m\n\u001b[1;32m    575\u001b[0m             \u001b[0mMultiprocess\u001b[0m\u001b[0;34m(\u001b[0m\u001b[0mconfig\u001b[0m\u001b[0;34m,\u001b[0m \u001b[0mtarget\u001b[0m\u001b[0;34m=\u001b[0m\u001b[0mserver\u001b[0m\u001b[0;34m.\u001b[0m\u001b[0mrun\u001b[0m\u001b[0;34m,\u001b[0m \u001b[0msockets\u001b[0m\u001b[0;34m=\u001b[0m\u001b[0;34m[\u001b[0m\u001b[0msock\u001b[0m\u001b[0;34m]\u001b[0m\u001b[0;34m)\u001b[0m\u001b[0;34m.\u001b[0m\u001b[0mrun\u001b[0m\u001b[0;34m(\u001b[0m\u001b[0;34m)\u001b[0m\u001b[0;34m\u001b[0m\u001b[0;34m\u001b[0m\u001b[0m\n\u001b[1;32m    576\u001b[0m         \u001b[0;32melse\u001b[0m\u001b[0;34m:\u001b[0m\u001b[0;34m\u001b[0m\u001b[0;34m\u001b[0m\u001b[0m\n\u001b[0;32m--> 577\u001b[0;31m             \u001b[0mserver\u001b[0m\u001b[0;34m.\u001b[0m\u001b[0mrun\u001b[0m\u001b[0;34m(\u001b[0m\u001b[0;34m)\u001b[0m\u001b[0;34m\u001b[0m\u001b[0;34m\u001b[0m\u001b[0m\n\u001b[0m\u001b[1;32m    578\u001b[0m     \u001b[0;32mfinally\u001b[0m\u001b[0;34m:\u001b[0m\u001b[0;34m\u001b[0m\u001b[0;34m\u001b[0m\u001b[0m\n\u001b[1;32m    579\u001b[0m         \u001b[0;32mif\u001b[0m \u001b[0mconfig\u001b[0m\u001b[0;34m.\u001b[0m\u001b[0muds\u001b[0m \u001b[0;32mand\u001b[0m \u001b[0mos\u001b[0m\u001b[0;34m.\u001b[0m\u001b[0mpath\u001b[0m\u001b[0;34m.\u001b[0m\u001b[0mexists\u001b[0m\u001b[0;34m(\u001b[0m\u001b[0mconfig\u001b[0m\u001b[0;34m.\u001b[0m\u001b[0muds\u001b[0m\u001b[0;34m)\u001b[0m\u001b[0;34m:\u001b[0m\u001b[0;34m\u001b[0m\u001b[0;34m\u001b[0m\u001b[0m\n",
            "\u001b[0;32m/usr/local/lib/python3.10/dist-packages/uvicorn/server.py\u001b[0m in \u001b[0;36mrun\u001b[0;34m(self, sockets)\u001b[0m\n\u001b[1;32m     63\u001b[0m     \u001b[0;32mdef\u001b[0m \u001b[0mrun\u001b[0m\u001b[0;34m(\u001b[0m\u001b[0mself\u001b[0m\u001b[0;34m,\u001b[0m \u001b[0msockets\u001b[0m\u001b[0;34m:\u001b[0m \u001b[0mlist\u001b[0m\u001b[0;34m[\u001b[0m\u001b[0msocket\u001b[0m\u001b[0;34m.\u001b[0m\u001b[0msocket\u001b[0m\u001b[0;34m]\u001b[0m \u001b[0;34m|\u001b[0m \u001b[0;32mNone\u001b[0m \u001b[0;34m=\u001b[0m \u001b[0;32mNone\u001b[0m\u001b[0;34m)\u001b[0m \u001b[0;34m->\u001b[0m \u001b[0;32mNone\u001b[0m\u001b[0;34m:\u001b[0m\u001b[0;34m\u001b[0m\u001b[0;34m\u001b[0m\u001b[0m\n\u001b[1;32m     64\u001b[0m         \u001b[0mself\u001b[0m\u001b[0;34m.\u001b[0m\u001b[0mconfig\u001b[0m\u001b[0;34m.\u001b[0m\u001b[0msetup_event_loop\u001b[0m\u001b[0;34m(\u001b[0m\u001b[0;34m)\u001b[0m\u001b[0;34m\u001b[0m\u001b[0;34m\u001b[0m\u001b[0m\n\u001b[0;32m---> 65\u001b[0;31m         \u001b[0;32mreturn\u001b[0m \u001b[0masyncio\u001b[0m\u001b[0;34m.\u001b[0m\u001b[0mrun\u001b[0m\u001b[0;34m(\u001b[0m\u001b[0mself\u001b[0m\u001b[0;34m.\u001b[0m\u001b[0mserve\u001b[0m\u001b[0;34m(\u001b[0m\u001b[0msockets\u001b[0m\u001b[0;34m=\u001b[0m\u001b[0msockets\u001b[0m\u001b[0;34m)\u001b[0m\u001b[0;34m)\u001b[0m\u001b[0;34m\u001b[0m\u001b[0;34m\u001b[0m\u001b[0m\n\u001b[0m\u001b[1;32m     66\u001b[0m \u001b[0;34m\u001b[0m\u001b[0m\n\u001b[1;32m     67\u001b[0m     \u001b[0;32masync\u001b[0m \u001b[0;32mdef\u001b[0m \u001b[0mserve\u001b[0m\u001b[0;34m(\u001b[0m\u001b[0mself\u001b[0m\u001b[0;34m,\u001b[0m \u001b[0msockets\u001b[0m\u001b[0;34m:\u001b[0m \u001b[0mlist\u001b[0m\u001b[0;34m[\u001b[0m\u001b[0msocket\u001b[0m\u001b[0;34m.\u001b[0m\u001b[0msocket\u001b[0m\u001b[0;34m]\u001b[0m \u001b[0;34m|\u001b[0m \u001b[0;32mNone\u001b[0m \u001b[0;34m=\u001b[0m \u001b[0;32mNone\u001b[0m\u001b[0;34m)\u001b[0m \u001b[0;34m->\u001b[0m \u001b[0;32mNone\u001b[0m\u001b[0;34m:\u001b[0m\u001b[0;34m\u001b[0m\u001b[0;34m\u001b[0m\u001b[0m\n",
            "\u001b[0;32m/usr/local/lib/python3.10/dist-packages/nest_asyncio.py\u001b[0m in \u001b[0;36mrun\u001b[0;34m(main, debug)\u001b[0m\n\u001b[1;32m     28\u001b[0m         \u001b[0mtask\u001b[0m \u001b[0;34m=\u001b[0m \u001b[0masyncio\u001b[0m\u001b[0;34m.\u001b[0m\u001b[0mensure_future\u001b[0m\u001b[0;34m(\u001b[0m\u001b[0mmain\u001b[0m\u001b[0;34m)\u001b[0m\u001b[0;34m\u001b[0m\u001b[0;34m\u001b[0m\u001b[0m\n\u001b[1;32m     29\u001b[0m         \u001b[0;32mtry\u001b[0m\u001b[0;34m:\u001b[0m\u001b[0;34m\u001b[0m\u001b[0;34m\u001b[0m\u001b[0m\n\u001b[0;32m---> 30\u001b[0;31m             \u001b[0;32mreturn\u001b[0m \u001b[0mloop\u001b[0m\u001b[0;34m.\u001b[0m\u001b[0mrun_until_complete\u001b[0m\u001b[0;34m(\u001b[0m\u001b[0mtask\u001b[0m\u001b[0;34m)\u001b[0m\u001b[0;34m\u001b[0m\u001b[0;34m\u001b[0m\u001b[0m\n\u001b[0m\u001b[1;32m     31\u001b[0m         \u001b[0;32mfinally\u001b[0m\u001b[0;34m:\u001b[0m\u001b[0;34m\u001b[0m\u001b[0;34m\u001b[0m\u001b[0m\n\u001b[1;32m     32\u001b[0m             \u001b[0;32mif\u001b[0m \u001b[0;32mnot\u001b[0m \u001b[0mtask\u001b[0m\u001b[0;34m.\u001b[0m\u001b[0mdone\u001b[0m\u001b[0;34m(\u001b[0m\u001b[0;34m)\u001b[0m\u001b[0;34m:\u001b[0m\u001b[0;34m\u001b[0m\u001b[0;34m\u001b[0m\u001b[0m\n",
            "\u001b[0;32m/usr/local/lib/python3.10/dist-packages/nest_asyncio.py\u001b[0m in \u001b[0;36mrun_until_complete\u001b[0;34m(self, future)\u001b[0m\n\u001b[1;32m     90\u001b[0m                 \u001b[0mf\u001b[0m\u001b[0;34m.\u001b[0m\u001b[0m_log_destroy_pending\u001b[0m \u001b[0;34m=\u001b[0m \u001b[0;32mFalse\u001b[0m\u001b[0;34m\u001b[0m\u001b[0;34m\u001b[0m\u001b[0m\n\u001b[1;32m     91\u001b[0m             \u001b[0;32mwhile\u001b[0m \u001b[0;32mnot\u001b[0m \u001b[0mf\u001b[0m\u001b[0;34m.\u001b[0m\u001b[0mdone\u001b[0m\u001b[0;34m(\u001b[0m\u001b[0;34m)\u001b[0m\u001b[0;34m:\u001b[0m\u001b[0;34m\u001b[0m\u001b[0;34m\u001b[0m\u001b[0m\n\u001b[0;32m---> 92\u001b[0;31m                 \u001b[0mself\u001b[0m\u001b[0;34m.\u001b[0m\u001b[0m_run_once\u001b[0m\u001b[0;34m(\u001b[0m\u001b[0;34m)\u001b[0m\u001b[0;34m\u001b[0m\u001b[0;34m\u001b[0m\u001b[0m\n\u001b[0m\u001b[1;32m     93\u001b[0m                 \u001b[0;32mif\u001b[0m \u001b[0mself\u001b[0m\u001b[0;34m.\u001b[0m\u001b[0m_stopping\u001b[0m\u001b[0;34m:\u001b[0m\u001b[0;34m\u001b[0m\u001b[0;34m\u001b[0m\u001b[0m\n\u001b[1;32m     94\u001b[0m                     \u001b[0;32mbreak\u001b[0m\u001b[0;34m\u001b[0m\u001b[0;34m\u001b[0m\u001b[0m\n",
            "\u001b[0;32m/usr/local/lib/python3.10/dist-packages/nest_asyncio.py\u001b[0m in \u001b[0;36m_run_once\u001b[0;34m(self)\u001b[0m\n\u001b[1;32m    131\u001b[0m \u001b[0;34m\u001b[0m\u001b[0m\n\u001b[1;32m    132\u001b[0m                 \u001b[0;32mtry\u001b[0m\u001b[0;34m:\u001b[0m\u001b[0;34m\u001b[0m\u001b[0;34m\u001b[0m\u001b[0m\n\u001b[0;32m--> 133\u001b[0;31m                     \u001b[0mhandle\u001b[0m\u001b[0;34m.\u001b[0m\u001b[0m_run\u001b[0m\u001b[0;34m(\u001b[0m\u001b[0;34m)\u001b[0m\u001b[0;34m\u001b[0m\u001b[0;34m\u001b[0m\u001b[0m\n\u001b[0m\u001b[1;32m    134\u001b[0m                 \u001b[0;32mfinally\u001b[0m\u001b[0;34m:\u001b[0m\u001b[0;34m\u001b[0m\u001b[0;34m\u001b[0m\u001b[0m\n\u001b[1;32m    135\u001b[0m                     \u001b[0;31m# restore the current task\u001b[0m\u001b[0;34m\u001b[0m\u001b[0;34m\u001b[0m\u001b[0m\n",
            "\u001b[0;32m/usr/lib/python3.10/asyncio/events.py\u001b[0m in \u001b[0;36m_run\u001b[0;34m(self)\u001b[0m\n\u001b[1;32m     78\u001b[0m     \u001b[0;32mdef\u001b[0m \u001b[0m_run\u001b[0m\u001b[0;34m(\u001b[0m\u001b[0mself\u001b[0m\u001b[0;34m)\u001b[0m\u001b[0;34m:\u001b[0m\u001b[0;34m\u001b[0m\u001b[0;34m\u001b[0m\u001b[0m\n\u001b[1;32m     79\u001b[0m         \u001b[0;32mtry\u001b[0m\u001b[0;34m:\u001b[0m\u001b[0;34m\u001b[0m\u001b[0;34m\u001b[0m\u001b[0m\n\u001b[0;32m---> 80\u001b[0;31m             \u001b[0mself\u001b[0m\u001b[0;34m.\u001b[0m\u001b[0m_context\u001b[0m\u001b[0;34m.\u001b[0m\u001b[0mrun\u001b[0m\u001b[0;34m(\u001b[0m\u001b[0mself\u001b[0m\u001b[0;34m.\u001b[0m\u001b[0m_callback\u001b[0m\u001b[0;34m,\u001b[0m \u001b[0;34m*\u001b[0m\u001b[0mself\u001b[0m\u001b[0;34m.\u001b[0m\u001b[0m_args\u001b[0m\u001b[0;34m)\u001b[0m\u001b[0;34m\u001b[0m\u001b[0;34m\u001b[0m\u001b[0m\n\u001b[0m\u001b[1;32m     81\u001b[0m         \u001b[0;32mexcept\u001b[0m \u001b[0;34m(\u001b[0m\u001b[0mSystemExit\u001b[0m\u001b[0;34m,\u001b[0m \u001b[0mKeyboardInterrupt\u001b[0m\u001b[0;34m)\u001b[0m\u001b[0;34m:\u001b[0m\u001b[0;34m\u001b[0m\u001b[0;34m\u001b[0m\u001b[0m\n\u001b[1;32m     82\u001b[0m             \u001b[0;32mraise\u001b[0m\u001b[0;34m\u001b[0m\u001b[0;34m\u001b[0m\u001b[0m\n",
            "\u001b[0;32m/usr/lib/python3.10/asyncio/tasks.py\u001b[0m in \u001b[0;36m__wakeup\u001b[0;34m(self, future)\u001b[0m\n\u001b[1;32m    313\u001b[0m             \u001b[0;31m# instead of `__next__()`, which is slower for futures\u001b[0m\u001b[0;34m\u001b[0m\u001b[0;34m\u001b[0m\u001b[0m\n\u001b[1;32m    314\u001b[0m             \u001b[0;31m# that return non-generator iterators from their `__iter__`.\u001b[0m\u001b[0;34m\u001b[0m\u001b[0;34m\u001b[0m\u001b[0m\n\u001b[0;32m--> 315\u001b[0;31m             \u001b[0mself\u001b[0m\u001b[0;34m.\u001b[0m\u001b[0m__step\u001b[0m\u001b[0;34m(\u001b[0m\u001b[0;34m)\u001b[0m\u001b[0;34m\u001b[0m\u001b[0;34m\u001b[0m\u001b[0m\n\u001b[0m\u001b[1;32m    316\u001b[0m         \u001b[0mself\u001b[0m \u001b[0;34m=\u001b[0m \u001b[0;32mNone\u001b[0m  \u001b[0;31m# Needed to break cycles when an exception occurs.\u001b[0m\u001b[0;34m\u001b[0m\u001b[0;34m\u001b[0m\u001b[0m\n\u001b[1;32m    317\u001b[0m \u001b[0;34m\u001b[0m\u001b[0m\n",
            "\u001b[0;32m/usr/lib/python3.10/asyncio/tasks.py\u001b[0m in \u001b[0;36m__step\u001b[0;34m(***failed resolving arguments***)\u001b[0m\n\u001b[1;32m    230\u001b[0m                 \u001b[0;31m# We use the `send` method directly, because coroutines\u001b[0m\u001b[0;34m\u001b[0m\u001b[0;34m\u001b[0m\u001b[0m\n\u001b[1;32m    231\u001b[0m                 \u001b[0;31m# don't have `__iter__` and `__next__` methods.\u001b[0m\u001b[0;34m\u001b[0m\u001b[0;34m\u001b[0m\u001b[0m\n\u001b[0;32m--> 232\u001b[0;31m                 \u001b[0mresult\u001b[0m \u001b[0;34m=\u001b[0m \u001b[0mcoro\u001b[0m\u001b[0;34m.\u001b[0m\u001b[0msend\u001b[0m\u001b[0;34m(\u001b[0m\u001b[0;32mNone\u001b[0m\u001b[0;34m)\u001b[0m\u001b[0;34m\u001b[0m\u001b[0;34m\u001b[0m\u001b[0m\n\u001b[0m\u001b[1;32m    233\u001b[0m             \u001b[0;32melse\u001b[0m\u001b[0;34m:\u001b[0m\u001b[0;34m\u001b[0m\u001b[0;34m\u001b[0m\u001b[0m\n\u001b[1;32m    234\u001b[0m                 \u001b[0mresult\u001b[0m \u001b[0;34m=\u001b[0m \u001b[0mcoro\u001b[0m\u001b[0;34m.\u001b[0m\u001b[0mthrow\u001b[0m\u001b[0;34m(\u001b[0m\u001b[0mexc\u001b[0m\u001b[0;34m)\u001b[0m\u001b[0;34m\u001b[0m\u001b[0;34m\u001b[0m\u001b[0m\n",
            "\u001b[0;32m/usr/local/lib/python3.10/dist-packages/uvicorn/server.py\u001b[0m in \u001b[0;36mserve\u001b[0;34m(self, sockets)\u001b[0m\n\u001b[1;32m     66\u001b[0m \u001b[0;34m\u001b[0m\u001b[0m\n\u001b[1;32m     67\u001b[0m     \u001b[0;32masync\u001b[0m \u001b[0;32mdef\u001b[0m \u001b[0mserve\u001b[0m\u001b[0;34m(\u001b[0m\u001b[0mself\u001b[0m\u001b[0;34m,\u001b[0m \u001b[0msockets\u001b[0m\u001b[0;34m:\u001b[0m \u001b[0mlist\u001b[0m\u001b[0;34m[\u001b[0m\u001b[0msocket\u001b[0m\u001b[0;34m.\u001b[0m\u001b[0msocket\u001b[0m\u001b[0;34m]\u001b[0m \u001b[0;34m|\u001b[0m \u001b[0;32mNone\u001b[0m \u001b[0;34m=\u001b[0m \u001b[0;32mNone\u001b[0m\u001b[0;34m)\u001b[0m \u001b[0;34m->\u001b[0m \u001b[0;32mNone\u001b[0m\u001b[0;34m:\u001b[0m\u001b[0;34m\u001b[0m\u001b[0;34m\u001b[0m\u001b[0m\n\u001b[0;32m---> 68\u001b[0;31m         \u001b[0;32mwith\u001b[0m \u001b[0mself\u001b[0m\u001b[0;34m.\u001b[0m\u001b[0mcapture_signals\u001b[0m\u001b[0;34m(\u001b[0m\u001b[0;34m)\u001b[0m\u001b[0;34m:\u001b[0m\u001b[0;34m\u001b[0m\u001b[0;34m\u001b[0m\u001b[0m\n\u001b[0m\u001b[1;32m     69\u001b[0m             \u001b[0;32mawait\u001b[0m \u001b[0mself\u001b[0m\u001b[0;34m.\u001b[0m\u001b[0m_serve\u001b[0m\u001b[0;34m(\u001b[0m\u001b[0msockets\u001b[0m\u001b[0;34m)\u001b[0m\u001b[0;34m\u001b[0m\u001b[0;34m\u001b[0m\u001b[0m\n\u001b[1;32m     70\u001b[0m \u001b[0;34m\u001b[0m\u001b[0m\n",
            "\u001b[0;32m/usr/lib/python3.10/contextlib.py\u001b[0m in \u001b[0;36m__exit__\u001b[0;34m(self, typ, value, traceback)\u001b[0m\n\u001b[1;32m    140\u001b[0m         \u001b[0;32mif\u001b[0m \u001b[0mtyp\u001b[0m \u001b[0;32mis\u001b[0m \u001b[0;32mNone\u001b[0m\u001b[0;34m:\u001b[0m\u001b[0;34m\u001b[0m\u001b[0;34m\u001b[0m\u001b[0m\n\u001b[1;32m    141\u001b[0m             \u001b[0;32mtry\u001b[0m\u001b[0;34m:\u001b[0m\u001b[0;34m\u001b[0m\u001b[0;34m\u001b[0m\u001b[0m\n\u001b[0;32m--> 142\u001b[0;31m                 \u001b[0mnext\u001b[0m\u001b[0;34m(\u001b[0m\u001b[0mself\u001b[0m\u001b[0;34m.\u001b[0m\u001b[0mgen\u001b[0m\u001b[0;34m)\u001b[0m\u001b[0;34m\u001b[0m\u001b[0;34m\u001b[0m\u001b[0m\n\u001b[0m\u001b[1;32m    143\u001b[0m             \u001b[0;32mexcept\u001b[0m \u001b[0mStopIteration\u001b[0m\u001b[0;34m:\u001b[0m\u001b[0;34m\u001b[0m\u001b[0;34m\u001b[0m\u001b[0m\n\u001b[1;32m    144\u001b[0m                 \u001b[0;32mreturn\u001b[0m \u001b[0;32mFalse\u001b[0m\u001b[0;34m\u001b[0m\u001b[0;34m\u001b[0m\u001b[0m\n",
            "\u001b[0;32m/usr/local/lib/python3.10/dist-packages/uvicorn/server.py\u001b[0m in \u001b[0;36mcapture_signals\u001b[0;34m(self)\u001b[0m\n\u001b[1;32m    326\u001b[0m         \u001b[0;31m# done LIFO, see https://stackoverflow.com/questions/48434964\u001b[0m\u001b[0;34m\u001b[0m\u001b[0;34m\u001b[0m\u001b[0m\n\u001b[1;32m    327\u001b[0m         \u001b[0;32mfor\u001b[0m \u001b[0mcaptured_signal\u001b[0m \u001b[0;32min\u001b[0m \u001b[0mreversed\u001b[0m\u001b[0;34m(\u001b[0m\u001b[0mself\u001b[0m\u001b[0;34m.\u001b[0m\u001b[0m_captured_signals\u001b[0m\u001b[0;34m)\u001b[0m\u001b[0;34m:\u001b[0m\u001b[0;34m\u001b[0m\u001b[0;34m\u001b[0m\u001b[0m\n\u001b[0;32m--> 328\u001b[0;31m             \u001b[0msignal\u001b[0m\u001b[0;34m.\u001b[0m\u001b[0mraise_signal\u001b[0m\u001b[0;34m(\u001b[0m\u001b[0mcaptured_signal\u001b[0m\u001b[0;34m)\u001b[0m\u001b[0;34m\u001b[0m\u001b[0;34m\u001b[0m\u001b[0m\n\u001b[0m\u001b[1;32m    329\u001b[0m \u001b[0;34m\u001b[0m\u001b[0m\n\u001b[1;32m    330\u001b[0m     \u001b[0;32mdef\u001b[0m \u001b[0mhandle_exit\u001b[0m\u001b[0;34m(\u001b[0m\u001b[0mself\u001b[0m\u001b[0;34m,\u001b[0m \u001b[0msig\u001b[0m\u001b[0;34m:\u001b[0m \u001b[0mint\u001b[0m\u001b[0;34m,\u001b[0m \u001b[0mframe\u001b[0m\u001b[0;34m:\u001b[0m \u001b[0mFrameType\u001b[0m \u001b[0;34m|\u001b[0m \u001b[0;32mNone\u001b[0m\u001b[0;34m)\u001b[0m \u001b[0;34m->\u001b[0m \u001b[0;32mNone\u001b[0m\u001b[0;34m:\u001b[0m\u001b[0;34m\u001b[0m\u001b[0;34m\u001b[0m\u001b[0m\n",
            "\u001b[0;31mKeyboardInterrupt\u001b[0m: "
          ]
        }
      ]
    },
    {
      "cell_type": "markdown",
      "source": [
        "## FastApi"
      ],
      "metadata": {
        "id": "7M2RYIkFXYsa"
      }
    },
    {
      "cell_type": "code",
      "source": [
        "app = FastAPI()\n",
        "\n",
        "# Summarizer 인스턴스를 생성\n",
        "stopwords_path = '/content/stopwords_list.txt'  # 실제 경로로 변경해야 함\n",
        "summarizer = Summarizer(stopwords_path)"
      ],
      "metadata": {
        "id": "39F4iWmSXZtR"
      },
      "execution_count": null,
      "outputs": []
    },
    {
      "cell_type": "code",
      "source": [
        "class ModelInput(BaseModel):\n",
        "    title: str\n",
        "    content: str\n",
        "\n",
        "@app.post(\"/summarize/\")\n",
        "def summarize_content(input_data: ModelInput):\n",
        "    title = input_data.title\n",
        "    content = input_data.content\n",
        "    summary = summarizer.summarize_content(title, content)\n",
        "    return {\"summary\": summary}"
      ],
      "metadata": {
        "id": "z2tBYZp0XqQn"
      },
      "execution_count": null,
      "outputs": []
    },
    {
      "cell_type": "markdown",
      "source": [
        "### 배포 및 서버시작"
      ],
      "metadata": {
        "id": "BSo5gsNYXra9"
      }
    },
    {
      "cell_type": "code",
      "source": [
        "# Colab에서 asyncio 이벤트 루프를 중첩\n",
        "nest_asyncio.apply()\n",
        "\n",
        "# ngrok 터널 시작\n",
        "ngrok.kill()  # 기존 ngrok 세션 종료\n",
        "\n",
        "# 토큰 갱신 필요시 갱신\n",
        "!ngrok authtoken \"2hJQt9L0vTO3rTjHv0gOH43TmCf_7HG3wrTF235UCccmCQoBj\"\n",
        "ngrok_tunnel = ngrok.connect(8000)\n",
        "print('Public URL:', ngrok_tunnel.public_url)\n",
        "\n",
        "# Uvicorn을 사용하여 FastAPI 앱 실행\n",
        "uvicorn.run(app, host='0.0.0.0', port=8000)"
      ],
      "metadata": {
        "id": "H6Py6xhkXsej"
      },
      "execution_count": null,
      "outputs": []
    },
    {
      "cell_type": "markdown",
      "source": [
        "## Rouge 평가"
      ],
      "metadata": {
        "id": "PdZadbROXy6u"
      }
    },
    {
      "cell_type": "code",
      "source": [
        "# 아래import 안되면 확인해주세요!\n",
        "# !pip install nltk==3.5\n",
        "\n",
        "from nltk.util import ngrams\n",
        "\n",
        "def rouge(reference, hypothesis, n):\n",
        "    reference_ngrams = list(ngrams(reference, n))\n",
        "    hypothesis_ngrams = list(ngrams(hypothesis, n))\n",
        "\n",
        "    # 겹치는 n-gram 개수 계산\n",
        "    intersection = len(set(reference_ngrams) & set(hypothesis_ngrams))\n",
        "\n",
        "    # reference 문장에 있는 n-gram 개수 계산\n",
        "    reference_count = len(reference_ngrams)\n",
        "\n",
        "    # hypothesis 문장에 있는 n-gram 개수 계산\n",
        "    hypothesis_count = len(hypothesis_ngrams)\n",
        "\n",
        "    # ROUGE-N 점수 계산\n",
        "    rouge_score = intersection / max(reference_count, hypothesis_count)\n",
        "\n",
        "    return rouge_score\n"
      ],
      "metadata": {
        "id": "LJq9DoPMX2BM"
      },
      "execution_count": null,
      "outputs": []
    },
    {
      "cell_type": "code",
      "source": [
        "# 예시 문장: 이렇게 예시문장들을 학습시켜줘야합니다.\n",
        "\n",
        "# 채점 기준 문장 ( 손수 요약, 기계요약, 공지 전문 등)\n",
        "reference_sentence = \"The quick brown fox jumps over the lazy dog\"\n",
        "# 평가 대상 문장 (우리 모델의 결과)\n",
        "hypothesis_sentence = \"The fast brown fox jumps over the lazy dog\"\n",
        "\n",
        "# ROUGE-1 점수 계산\n",
        "rouge_1_score = rouge(reference_sentence.split(), hypothesis_sentence.split(), 1)\n",
        "print(\"ROUGE-1 Score:\", rouge_1_score)\n",
        "\n",
        "# ROUGE-2 점수 계산\n",
        "rouge_2_score = rouge(reference_sentence.split(), hypothesis_sentence.split(), 2)\n",
        "print(\"ROUGE-2 Score:\", rouge_2_score)"
      ],
      "metadata": {
        "id": "uTWCECXBqzz3"
      },
      "execution_count": null,
      "outputs": []
    },
    {
      "cell_type": "markdown",
      "source": [
        "### 사용할 데이터 세트 로딩"
      ],
      "metadata": {
        "id": "8v-y7TylrYwB"
      }
    },
    {
      "cell_type": "code",
      "source": [
        "import os\n",
        "#마운트\n",
        "from google.colab import drive\n",
        "drive.mount('/content/drive')"
      ],
      "metadata": {
        "id": "Ny47wt2xq1O_"
      },
      "execution_count": null,
      "outputs": []
    },
    {
      "cell_type": "code",
      "source": [
        "import pandas as pd\n",
        "\n",
        "gongji = pd.read_csv('./drive/MyDrive/csv모음/final_merged_gongji(0501).csv')\n",
        "haksa = pd.read_csv('./drive/MyDrive/csv모음/merged_haksa.csv')\n",
        "hiring = pd.read_csv('./drive/MyDrive/csv모음/merged_hire.csv')\n",
        "janghak = pd.read_csv('./drive/MyDrive/csv모음/merged_janghak.csv')\n",
        "\n",
        "\n",
        "#파일복사\n",
        "# 원본 데이터 보존 위해 copy 데이터 생성\n",
        "gongji_copy = gongji.copy()\n",
        "haksa_copy = haksa.copy()\n",
        "hiring_copy = hiring.copy()\n",
        "janghak_copy = janghak.copy()"
      ],
      "metadata": {
        "id": "iOy4pyAXrKeg"
      },
      "execution_count": null,
      "outputs": []
    },
    {
      "cell_type": "code",
      "source": [],
      "metadata": {
        "id": "ecMEIeH6rp_d"
      },
      "execution_count": null,
      "outputs": []
    },
    {
      "cell_type": "markdown",
      "source": [
        "### rouge 탐색 대상 선정\n",
        "\n",
        "- 막상해보니 ngram 교차도가 너무 낮아서 rouge-L이 적정할지도 모르겠음"
      ],
      "metadata": {
        "id": "FWcLnAhgrsHy"
      }
    },
    {
      "cell_type": "markdown",
      "source": [
        "1. 공지\n",
        "- 27. 행정고시 사민재\n",
        "- 68. 신입생영어진단평가 추가시험\n",
        "2. 학사\n",
        "\n",
        "3. 장학\n",
        "\n",
        "4. 채용"
      ],
      "metadata": {
        "id": "I4BkGWbhr86E"
      }
    },
    {
      "cell_type": "code",
      "source": [
        "gongji_copy.loc[81,'content']"
      ],
      "metadata": {
        "id": "_WAoB3qtrujI"
      },
      "execution_count": null,
      "outputs": []
    },
    {
      "cell_type": "code",
      "source": [
        "stopwords_path = '/content/stopwords_list.txt'\n",
        "summarizer = Summarizer(stopwords_path)\n",
        "content_to_summarize = gongji_copy.loc[68, 'content']\n",
        "title = gongji_copy.loc[68, 'title']\n",
        "summary = summarizer.summarize_content(title, content_to_summarize)\n",
        "\n",
        "sent = ''\n",
        "print(title)\n",
        "print('')\n",
        "for i in summary:\n",
        "  print(i)\n",
        "  sent += i\n",
        "#rouge를 위해 추가\n",
        "#print(sent)"
      ],
      "metadata": {
        "id": "LhUajLOnryRg"
      },
      "execution_count": null,
      "outputs": []
    },
    {
      "cell_type": "code",
      "source": [
        "!pip install rouge-score"
      ],
      "metadata": {
        "id": "DDPORwp5zmX2"
      },
      "execution_count": null,
      "outputs": []
    },
    {
      "cell_type": "code",
      "source": [
        "# 예시 코드\n",
        "from rouge_score import rouge_scorer\n",
        "\n",
        "# 생성된 요약과 참조 요약\n",
        "generated_summary = \"온라인 신입생 영어 진단평가 추가 시험은 3월 4일에 4회차 중 한 번만 응시해야 하며, 대상자는 신입생 중 1차 시험 미응시자, 1차 시험 결과 '등급외' 대상자, 재학생 중 IFLEP 등급 미 부여자입니다. 시험 시간은 90분이며, 각 회차별로 안내된 접속 시간 내에 접속하여야 합니다. 시험 관련 문제 발생 시 HELP DESK(☎1644-5223)로 연락하고, 결과는 3월 5일 13시부터 확인할 수 있습니다.\"\n",
        "reference_summary = sent\n",
        "\n",
        "# ROUGE 평가\n",
        "scorer = rouge_scorer.RougeScorer(['rouge1', 'rouge2', 'rougeL'], use_stemmer=True)\n",
        "scores = scorer.score(reference_summary, generated_summary)\n",
        "\n",
        "# 결과 출력\n",
        "for score in scores:\n",
        "  print(score,':', scores.get(score))"
      ],
      "metadata": {
        "id": "7ooLkStewWl2"
      },
      "execution_count": null,
      "outputs": []
    },
    {
      "cell_type": "markdown",
      "source": [
        "### rouge-u, rouge-su해보기\n",
        "\n",
        "https://velog.io/@crosstar1228/NLPRouge-score-Summarization%EC%9D%98-%ED%8F%89%EA%B0%80-Metric\n",
        "\n",
        "- 수연님 추천에 따라 RDASS, rouge-u, rouge su해보기\n",
        "- RDASS는 구현이 쉽지 않아보임...!"
      ],
      "metadata": {
        "id": "ZKjOJGY2BfAt"
      }
    },
    {
      "cell_type": "markdown",
      "source": [
        "#### pyrouge 설치 및 관련 사항 설정"
      ],
      "metadata": {
        "id": "a_0XjUUeHI-O"
      }
    },
    {
      "cell_type": "code",
      "source": [
        "!pip install pyrouge\n",
        "!pip install -U setuptools"
      ],
      "metadata": {
        "id": "QkLXa_91LGxW"
      },
      "execution_count": null,
      "outputs": []
    },
    {
      "cell_type": "code",
      "source": [
        "!git clone https://github.com/andersjo/pyrouge.git rouge\n",
        "!cd rouge && python3 setup.py install"
      ],
      "metadata": {
        "id": "tsNlmiwHLIsX"
      },
      "execution_count": null,
      "outputs": []
    },
    {
      "cell_type": "code",
      "source": [
        "!wget https://github.com/kavgan/ROUGE-2.0/archive/refs/heads/master.zip -O rouge.zip\n",
        "!unzip rouge.zip\n",
        "!mv ROUGE-2.0-master /content/rouge/RELEASE-1.5.5"
      ],
      "metadata": {
        "id": "pdy8ai_8MH80"
      },
      "execution_count": null,
      "outputs": []
    },
    {
      "cell_type": "code",
      "source": [
        "!mkdir -p /content/rouge/RELEASE-1.5.5/data"
      ],
      "metadata": {
        "id": "RzMuwvTIMKfj"
      },
      "execution_count": null,
      "outputs": []
    },
    {
      "cell_type": "code",
      "source": [
        "!mkdir -p /root/.pyrouge\n",
        "!echo \"[pyrouge]\" > /root/.pyrouge/settings.ini\n",
        "!echo \"home_dir = /content/rouge/RELEASE-1.5.5\" >> /root/.pyrouge/settings.ini\n"
      ],
      "metadata": {
        "id": "MxYeGxVqMKja"
      },
      "execution_count": null,
      "outputs": []
    },
    {
      "cell_type": "code",
      "source": [
        "import os\n",
        "os.environ['ROUGE_HOME'] = '/content/rouge/tools/ROUGE-1.5.5'"
      ],
      "metadata": {
        "id": "URvxeg6zODrK"
      },
      "execution_count": null,
      "outputs": []
    },
    {
      "cell_type": "code",
      "source": [
        "!pyrouge_set_rouge_path /content/rouge/tools/ROUGE-1.5.5"
      ],
      "metadata": {
        "id": "gdmEYzVBMKqg"
      },
      "execution_count": null,
      "outputs": []
    },
    {
      "cell_type": "code",
      "source": [],
      "metadata": {
        "id": "Kvuu51QLLI0w"
      },
      "execution_count": null,
      "outputs": []
    },
    {
      "cell_type": "code",
      "source": [
        "pwd"
      ],
      "metadata": {
        "id": "jY0cK7nxKH9o"
      },
      "execution_count": null,
      "outputs": []
    },
    {
      "cell_type": "markdown",
      "source": [
        "#### rouge-u 실행"
      ],
      "metadata": {
        "id": "X3aDfclCHdnv"
      }
    },
    {
      "cell_type": "code",
      "source": [
        "import os\n",
        "os.makedirs(\"/tmp/tmpz47b_qdy/system\")\n",
        "os.makedirs(\"/tmp/tmpz47b_qdy/model\")"
      ],
      "metadata": {
        "id": "x9LW_36hSchn"
      },
      "execution_count": null,
      "outputs": []
    },
    {
      "cell_type": "code",
      "source": [
        "import os\n",
        "from pyrouge import Rouge155\n",
        "\n",
        "# Sample reference and generated summaries\n",
        "reference_text = \"This is a reference summary.\"\n",
        "generated_summary = \"This is a generated summary.\"\n",
        "\n",
        "# Write the summaries to files\n",
        "with open(\"reference.txt\", \"w\") as ref:\n",
        "    ref.write(reference_text)\n",
        "\n",
        "with open(\"generated.txt\", \"w\") as gen:\n",
        "    gen.write(generated_summary)\n",
        "\n",
        "# Initialize the Rouge155 object\n",
        "rouge = Rouge155()\n",
        "\n",
        "# Set directories for ROUGE evaluation\n",
        "#system_dir = \"/tmp/tmpz47b_qdy/system\"  # Change this to the directory containing system summaries\n",
        "#model_dir = \"/tmp/tmpz47b_qdy/model\"    # Change this to the directory containing model summaries\n",
        "\n",
        "system_dir = \"/content\"\n",
        "model_dir = \"/content\"\n",
        "\n",
        "# Add files to the ROUGE evaluation\n",
        "rouge.system_dir = system_dir\n",
        "rouge.model_dir = model_dir\n",
        "rouge.system_filename_pattern = \"generated.txt\"\n",
        "rouge.model_filename_pattern = \"reference.txt\"\n",
        "\n",
        "# Evaluate the generated summary\n",
        "scores = rouge.convert_and_evaluate()\n",
        "\n",
        "print(scores)\n"
      ],
      "metadata": {
        "id": "eixwFTtLHN6M"
      },
      "execution_count": null,
      "outputs": []
    },
    {
      "cell_type": "code",
      "source": [
        "import os\n",
        "from pyrouge import Rouge155\n",
        "\n",
        "# Sample reference and generated summaries\n",
        "reference_text = \"This is a reference summary.\"\n",
        "generated_summary = \"This is a generated summary.\"\n",
        "\n",
        "# Write the summaries to files\n",
        "with open(\"/content/reference.txt\", \"w\") as ref:\n",
        "    ref.write(reference_text)\n",
        "\n",
        "with open(\"/content/generated.txt\", \"w\") as gen:\n",
        "    gen.write(generated_summary)\n",
        "\n",
        "# Initialize the Rouge155 object\n",
        "rouge = Rouge155()\n",
        "\n",
        "# Set directories for ROUGE evaluation\n",
        "system_dir = \"/content\"  # Change this to the directory containing system summaries\n",
        "model_dir = \"/content\"   # Change this to the directory containing model summaries\n",
        "\n",
        "# Add files to the ROUGE evaluation\n",
        "system_files = [f for f in os.listdir(system_dir) if os.path.isfile(os.path.join(system_dir, f))]\n",
        "rouge.system_dir = system_dir\n",
        "rouge.model_dir = model_dir\n",
        "\n",
        "# Identify system and model files\n",
        "system_file = None\n",
        "model_file = None\n",
        "for filename in system_files:\n",
        "    if filename == \"generated.txt\":\n",
        "        system_file = filename\n",
        "    elif filename == \"reference.txt\":\n",
        "        model_file = filename\n",
        "\n",
        "# If system and model files are identified, set them for ROUGE evaluation\n",
        "if system_file and model_file:\n",
        "    rouge.system_filename_pattern = system_file\n",
        "    rouge.model_filename_pattern = model_file\n",
        "    # Evaluate the generated summary\n",
        "    scores = rouge.convert_and_evaluate()\n",
        "    print(scores)\n",
        "else:\n",
        "    print(\"System or model files not found.\")\n",
        "\n",
        "\n"
      ],
      "metadata": {
        "id": "tdBF7PZ1TcWn"
      },
      "execution_count": null,
      "outputs": []
    },
    {
      "cell_type": "code",
      "source": [
        "os.path.exists('/content/.config')"
      ],
      "metadata": {
        "id": "mV2dAB8vVAXI"
      },
      "execution_count": null,
      "outputs": []
    },
    {
      "cell_type": "code",
      "source": [
        "import os\n",
        "\n",
        "# 현재 디렉토리 확인\n",
        "current_directory = os.getcwd()\n",
        "\n",
        "# 생성된 파일의 전체 경로\n",
        "generated_txt_path = os.path.join(current_directory, \"generated.txt\")\n",
        "\n",
        "print(\"생성된 generated.txt 파일의 경로:\", generated_txt_path)\n"
      ],
      "metadata": {
        "id": "lFykoA1wSsFX"
      },
      "execution_count": null,
      "outputs": []
    },
    {
      "cell_type": "code",
      "source": [
        "pwd"
      ],
      "metadata": {
        "id": "QJR4DmPRQqk0"
      },
      "execution_count": null,
      "outputs": []
    },
    {
      "cell_type": "code",
      "source": [
        "stopwords_path = '/content/stopwords_list.txt'\n",
        "summarizer = Summarizer(stopwords_path)\n",
        "content_to_summarize = gongji_copy.loc[68, 'content']\n",
        "title = gongji_copy.loc[68, 'title']\n",
        "summary = summarizer.summarize_content(title, content_to_summarize)\n",
        "\n",
        "sent = ''\n",
        "print(title)\n",
        "print('')\n",
        "for i in summary:\n",
        "  print(i)\n",
        "  sent += i\n",
        "#rouge를 위해 추가\n",
        "print(sent)"
      ],
      "metadata": {
        "id": "RCuYZD1QEBqC"
      },
      "execution_count": null,
      "outputs": []
    },
    {
      "cell_type": "code",
      "source": [
        "gongji_copy.loc[68,'content']"
      ],
      "metadata": {
        "id": "KILVpeRpEGMM"
      },
      "execution_count": null,
      "outputs": []
    },
    {
      "cell_type": "code",
      "source": [
        "pip install pyrouge"
      ],
      "metadata": {
        "id": "FpGGdPyFVkR3"
      },
      "execution_count": null,
      "outputs": []
    },
    {
      "cell_type": "code",
      "source": [
        "from pyrouge import Rouge155"
      ],
      "metadata": {
        "id": "-jzf9zjyXH-I"
      },
      "execution_count": null,
      "outputs": []
    },
    {
      "cell_type": "code",
      "source": [
        "def evaluate_summary_with_pyrouge(reference: str, summary: str):\n",
        "    rouge = Rouge155()\n",
        "\n",
        "    # 임시 파일로 참조 요약문과 생성된 요약문 저장\n",
        "    with open('reference.txt', 'w', encoding='utf-8') as f:\n",
        "        f.write(reference)\n",
        "    with open('summary.txt', 'w', encoding='utf-8') as f:\n",
        "        f.write(summary)\n",
        "\n",
        "    # ROUGE 평가 수행\n",
        "    rouge.system_dir = '.'\n",
        "    rouge.model_dir = '.'\n",
        "    rouge.system_filename_pattern = 'summary.txt'\n",
        "    rouge.model_filename_pattern = 'reference.txt'\n",
        "\n",
        "    rouge_output = rouge.convert_and_evaluate()\n",
        "    scores = rouge.output_to_dict(rouge_output)\n",
        "    return scores"
      ],
      "metadata": {
        "id": "J4P6YcURDXGD"
      },
      "execution_count": null,
      "outputs": []
    },
    {
      "cell_type": "code",
      "source": [
        "import os\n",
        "\n",
        "os.chdir(\"/usr/local/lib/python3.10/dist-packages\")\n",
        "os.getcwd()"
      ],
      "metadata": {
        "id": "WLuJecWyFZMp"
      },
      "execution_count": null,
      "outputs": []
    },
    {
      "cell_type": "code",
      "source": [
        "# 예제 사용\n",
        "reference_text = \"시험 일정 안내 -3월 4일(월)    주의 사항:\\n(온라인) 추가시험은 4회차중 반드시 한번만 응시해야 하고,   가급적 안정적인 1회차~3회차에 응시하시기 바랍니다.    응시시간이 90분입니다.\"\n",
        "generated_summary = sent\n",
        "\n",
        "scores = evaluate_summary_with_pyrouge(reference_text, generated_summary)\n",
        "print(scores)"
      ],
      "metadata": {
        "id": "m_FbPIKTEw_0"
      },
      "execution_count": null,
      "outputs": []
    },
    {
      "cell_type": "code",
      "source": [
        "import os\n",
        "os.path.exists('/usr/local/lib/python3.10/dist-packages (0.1.3)')"
      ],
      "metadata": {
        "id": "4nvbOUHCFTZi"
      },
      "execution_count": null,
      "outputs": []
    },
    {
      "cell_type": "code",
      "source": [
        "pwd"
      ],
      "metadata": {
        "id": "ZGyy7RXBX3J3"
      },
      "execution_count": null,
      "outputs": []
    },
    {
      "cell_type": "markdown",
      "source": [
        "다시"
      ],
      "metadata": {
        "id": "4KjforbCY4d2"
      }
    },
    {
      "cell_type": "code",
      "source": [
        "pip install pyrouge --target=usr/lib/python3.10/distutils\n"
      ],
      "metadata": {
        "id": "bEPZzfL8Y5A4"
      },
      "execution_count": null,
      "outputs": []
    },
    {
      "cell_type": "code",
      "source": [
        "# 예제 요약문\n",
        "summary_text = \"This is a sample summary for ROUGE evaluation.\"\n",
        "# 예제 참조 요약문\n",
        "reference_text = \"This is a reference summary used for ROUGE evaluation.\""
      ],
      "metadata": {
        "id": "wQ9l9VymY6SE"
      },
      "execution_count": null,
      "outputs": []
    },
    {
      "cell_type": "code",
      "source": [
        "from pyrouge import Rouge155\n",
        "\n",
        "# Rouge155 객체 생성\n",
        "rouge = Rouge155()\n",
        "\n",
        "# 요약문과 참조 요약문을 파일로 저장\n",
        "with open(\"summary.txt\", \"w\") as f:\n",
        "    f.write(summary_text)\n",
        "with open(\"reference.txt\", \"w\") as f:\n",
        "    f.write(reference_text)\n",
        "\n",
        "# 시스템 디렉토리와 모델 디렉토리 설정\n",
        "rouge.system_dir = \".\"\n",
        "rouge.model_dir = \".\"\n",
        "rouge.system_filename_pattern = \"summary.txt\"\n",
        "rouge.model_filename_pattern = \"reference.txt\"\n",
        "\n",
        "# ROUGE 계산 실행\n",
        "scores = rouge.convert_and_evaluate(rouge_args=\"-e /path/to/ROUGE-1.5.5\")\n",
        "print(scores)"
      ],
      "metadata": {
        "id": "35w1-bhnY76J"
      },
      "execution_count": null,
      "outputs": []
    },
    {
      "cell_type": "code",
      "source": [
        "import os\n",
        "\n",
        "# ROUGE-1.5.5 실행 파일 이름\n",
        "filename = \"ROUGE-1.5.5.pl\"\n",
        "\n",
        "# \"/\"부터 시작해서 루트 디렉토리 아래 모든 파일과 디렉토리를 찾음\n",
        "for root, dirs, files in os.walk('/'):\n",
        "    if filename in files:\n",
        "        # 실행 파일을 찾으면 해당 파일의 경로를 출력\n",
        "        print(\"ROUGE-1.5.5가 설치된 경로:\", os.path.join(root, filename))\n",
        "        break  # 실행 파일을 찾았으므로 더 이상 탐색할 필요가 없음\n"
      ],
      "metadata": {
        "id": "dRTtYhNFZ82Y"
      },
      "execution_count": null,
      "outputs": []
    },
    {
      "cell_type": "code",
      "source": [],
      "metadata": {
        "id": "jdjzkCfYaFWG"
      },
      "execution_count": null,
      "outputs": []
    },
    {
      "cell_type": "code",
      "source": [],
      "metadata": {
        "id": "Cw5ZEEAqHRqg"
      },
      "execution_count": null,
      "outputs": []
    },
    {
      "cell_type": "code",
      "source": [],
      "metadata": {
        "id": "UaL6LbQNI4dH"
      },
      "execution_count": null,
      "outputs": []
    },
    {
      "cell_type": "markdown",
      "source": [
        "## 0612 rouge"
      ],
      "metadata": {
        "id": "2LUDvbB0I5N2"
      }
    },
    {
      "cell_type": "code",
      "source": [
        "# korouge 다운받기\n",
        "!pip install korouge_score\n",
        "from korouge_score import rouge_scorer"
      ],
      "metadata": {
        "id": "8k5buHO3I7Jj"
      },
      "execution_count": null,
      "outputs": []
    },
    {
      "cell_type": "code",
      "source": [
        "scorer = rouge_scorer.RougeScorer([\"rouge1\", \"rouge2\", \"rougeL\", \"rougeLsum\"])\n",
        "\n",
        "ref = \"안녕하세요 반가워요 오늘 뭐 먹을래요?\"\n",
        "pred = \"아 반가워 반가워 오늘 뭐 할래요 안녕하긴해??\"\n",
        "\n",
        "print(scorer.score(ref, pred))"
      ],
      "metadata": {
        "id": "6uTHql09bZ-I"
      },
      "execution_count": null,
      "outputs": []
    },
    {
      "cell_type": "code",
      "source": [],
      "metadata": {
        "id": "tqFcfOZCbnjC"
      },
      "execution_count": null,
      "outputs": []
    },
    {
      "cell_type": "markdown",
      "source": [
        "# 테스트시나리오"
      ],
      "metadata": {
        "id": "a_LglYiDarMO"
      }
    },
    {
      "cell_type": "markdown",
      "source": [
        "\n",
        "1. <s>이미지만 있는 경우 -> 공백만 들어감.\n",
        "\n",
        "{ \"title\": \"Some title\",\n",
        "\"content\": {\n",
        "     \"image\": \"https://example.com/image.jpg\"\n",
        "}}\n",
        "-> 오류남.\n",
        "\n",
        "\n",
        "-  이미지가 content, image로 따로들어오는 경우\n",
        "\n",
        "\n",
        "```\n",
        "{\n",
        "  \"title\": \"Sample Title\",\n",
        "  \"content\": {\n",
        "    \"image\": {\n",
        "      \"url\": \"https://example.com/image.jpg\",\n",
        "      \"alt\": \"An example image\",\n",
        "      \"caption\": \"This is an example caption.\"\n",
        "    }\n",
        "  }\n",
        "}\n",
        "```\n",
        "\n",
        "\n",
        "-> 위에 문장이나 공백이 그대로 반환된다 (위의 json 처리를 할경우. 근데 지금 저 요청하면 internal servererror 나는 중)\n",
        "\n",
        "**422 Unprocessable Entity를 처리하는 방법을 문의할 필요가 있다.**\n",
        "- 우리가 422를 그냥 반환하면 프론트에서 응답처리를 별도로 해줄 수 있나??\n",
        "- 아니면 예외처리 혹시 제안해주실 수 있는 방법이있는지 ㅠㅠ </s>\n",
        "\n",
        "-> 이미지 자체가 파싱이 안됨. 타당성 검사는 인섭님 선에서 걸리기 때문에 422 에러 처리할 필요 X\n",
        "\n",
        "2. 이미지+2줄 이내 텍스트인 경우 -> 위의 경우의수에 따라 달라짐. image에 따로 태그들이 생기면 작동됨\n",
        "\n",
        "3. 3줄 이상인 텍스트가 있는 경우 -> 요약 잘됨\n",
        "\n",
        "4. 두줄 이내 텍스트: 그대로 반환\n",
        "\n",
        "5. 서버 에러시 해당 적용되니 \"서버에러가 발생했습니다\" 반환 잘됨\n",
        "\n",
        "6. value error : 외국어 공지 넣어보기 -> 200ok로 처리돼서 반환이 빈리스트로 처리됨 (영어, 포어, 중국어 모두 마찬가지)\n",
        "- isforeign에 빈리스트를 걸어놔서 그랬던 것. 반환값 \"자세한 내용 본문참고\"로 바꿨더니 정상응답옴\n",
        "\n",
        "7. 공지에 한국어, 외국어 비율 테스트"
      ],
      "metadata": {
        "id": "kjm3mQDhGZkR"
      }
    },
    {
      "cell_type": "code",
      "source": [],
      "metadata": {
        "id": "fRmDjmMi_IcR"
      },
      "execution_count": null,
      "outputs": []
    },
    {
      "cell_type": "markdown",
      "source": [
        "+ api 결합이 잘됐는지"
      ],
      "metadata": {
        "id": "gK2MrBJu_I-f"
      }
    },
    {
      "cell_type": "markdown",
      "source": [
        "# 0613 Todo\n",
        "- rouge 테스트 결과\n",
        "- AWS EC2 배포 알아보기 (되면 좋음)\n",
        "- 발표용 비교군 마련"
      ],
      "metadata": {
        "id": "w9A6lxM7PcaT"
      }
    },
    {
      "cell_type": "code",
      "source": [],
      "metadata": {
        "id": "tkCW2OfDGdd0"
      },
      "execution_count": null,
      "outputs": []
    }
  ]
}