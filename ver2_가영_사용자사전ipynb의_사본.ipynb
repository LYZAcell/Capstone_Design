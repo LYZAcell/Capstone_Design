{
  "nbformat": 4,
  "nbformat_minor": 0,
  "metadata": {
    "colab": {
      "provenance": [],
      "gpuType": "V100",
      "toc_visible": true,
      "machine_shape": "hm",
      "include_colab_link": true
    },
    "kernelspec": {
      "name": "python3",
      "display_name": "Python 3"
    },
    "language_info": {
      "name": "python"
    },
    "accelerator": "GPU"
  },
  "cells": [
    {
      "cell_type": "markdown",
      "metadata": {
        "id": "view-in-github",
        "colab_type": "text"
      },
      "source": [
        "<a href=\"https://colab.research.google.com/github/LYZAcell/Capstone_Design/blob/main/ver2_%EA%B0%80%EC%98%81_%EC%82%AC%EC%9A%A9%EC%9E%90%EC%82%AC%EC%A0%84ipynb%EC%9D%98_%EC%82%AC%EB%B3%B8.ipynb\" target=\"_parent\"><img src=\"https://colab.research.google.com/assets/colab-badge.svg\" alt=\"Open In Colab\"/></a>"
      ]
    },
    {
      "cell_type": "markdown",
      "source": [
        "# 사용자사전"
      ],
      "metadata": {
        "id": "RQdk0ONWEZV1"
      }
    },
    {
      "cell_type": "code",
      "source": [
        "import os\n",
        "#마운트\n",
        "from google.colab import drive\n",
        "drive.mount('/content/drive')"
      ],
      "metadata": {
        "id": "avn4VT_Dtcee",
        "colab": {
          "base_uri": "https://localhost:8080/"
        },
        "outputId": "4d63d265-f175-47d6-a30d-e1658139ed8d"
      },
      "execution_count": null,
      "outputs": [
        {
          "output_type": "stream",
          "name": "stdout",
          "text": [
            "Mounted at /content/drive\n"
          ]
        }
      ]
    },
    {
      "cell_type": "code",
      "source": [
        "#현재 경로. 보통 ./content일거에요!\n",
        "os.getcwd()"
      ],
      "metadata": {
        "colab": {
          "base_uri": "https://localhost:8080/",
          "height": 35
        },
        "id": "btQD6QFCtc5O",
        "outputId": "2160dd20-cd02-495a-eb30-dedd182a63f5"
      },
      "execution_count": null,
      "outputs": [
        {
          "output_type": "execute_result",
          "data": {
            "text/plain": [
              "'/content'"
            ],
            "application/vnd.google.colaboratory.intrinsic+json": {
              "type": "string"
            }
          },
          "metadata": {},
          "execution_count": 2
        }
      ]
    },
    {
      "cell_type": "code",
      "source": [
        "#konlpy 다운 및 호출\n",
        "#1. Konlpy에서 Okt\n",
        "!pip install konlpy\n",
        "#2. konlpy 실행을 위한 자바어쩌구 다운\n",
        "!apt-get install openjdk-8-jdk-headless -qq > /dev/null\n",
        "#3. 필요한 설정\n",
        "import os\n",
        "os.environ[\"JAVA_HOME\"] = \"/usr/lib/jvm/java-8-openjdk-amd64\"\n",
        "from konlpy.tag import Okt"
      ],
      "metadata": {
        "colab": {
          "base_uri": "https://localhost:8080/"
        },
        "id": "gfHulj0wtc7W",
        "outputId": "5e0074b2-64a4-4e41-d38b-41d8774d0417"
      },
      "execution_count": null,
      "outputs": [
        {
          "output_type": "stream",
          "name": "stdout",
          "text": [
            "Collecting konlpy\n",
            "  Downloading konlpy-0.6.0-py2.py3-none-any.whl (19.4 MB)\n",
            "\u001b[2K     \u001b[90m━━━━━━━━━━━━━━━━━━━━━━━━━━━━━━━━━━━━━━━━\u001b[0m \u001b[32m19.4/19.4 MB\u001b[0m \u001b[31m58.8 MB/s\u001b[0m eta \u001b[36m0:00:00\u001b[0m\n",
            "\u001b[?25hCollecting JPype1>=0.7.0 (from konlpy)\n",
            "  Downloading JPype1-1.5.0-cp310-cp310-manylinux_2_17_x86_64.manylinux2014_x86_64.whl (488 kB)\n",
            "\u001b[2K     \u001b[90m━━━━━━━━━━━━━━━━━━━━━━━━━━━━━━━━━━━━━━━━\u001b[0m \u001b[32m488.6/488.6 kB\u001b[0m \u001b[31m50.6 MB/s\u001b[0m eta \u001b[36m0:00:00\u001b[0m\n",
            "\u001b[?25hRequirement already satisfied: lxml>=4.1.0 in /usr/local/lib/python3.10/dist-packages (from konlpy) (4.9.4)\n",
            "Requirement already satisfied: numpy>=1.6 in /usr/local/lib/python3.10/dist-packages (from konlpy) (1.25.2)\n",
            "Requirement already satisfied: packaging in /usr/local/lib/python3.10/dist-packages (from JPype1>=0.7.0->konlpy) (24.0)\n",
            "Installing collected packages: JPype1, konlpy\n",
            "Successfully installed JPype1-1.5.0 konlpy-0.6.0\n"
          ]
        }
      ]
    },
    {
      "cell_type": "code",
      "source": [
        "okt = Okt()"
      ],
      "metadata": {
        "id": "BmpHnw45tc-F"
      },
      "execution_count": null,
      "outputs": []
    },
    {
      "cell_type": "code",
      "source": [
        "# 사용자 사전 찾아가기 및 경로 설정 _ 여기서 오류가 날 시 코랩에서 폴더 열어서 usr,local 찾아가보시며 폴더명이 일치하는지 확인해보세요! 보통 파이썬 버전이 다릅니다.\n",
        "os.chdir('/usr/local/lib/python3.10/dist-packages/konlpy/java')\n",
        "os.getcwd()"
      ],
      "metadata": {
        "colab": {
          "base_uri": "https://localhost:8080/",
          "height": 35
        },
        "id": "5oGI1OAKtdBm",
        "outputId": "6007ac01-ba8c-4e4b-f6c8-43de0591fe57"
      },
      "execution_count": null,
      "outputs": [
        {
          "output_type": "execute_result",
          "data": {
            "text/plain": [
              "'/usr/local/lib/python3.10/dist-packages/konlpy/java'"
            ],
            "application/vnd.google.colaboratory.intrinsic+json": {
              "type": "string"
            }
          },
          "metadata": {},
          "execution_count": 4
        }
      ]
    },
    {
      "cell_type": "code",
      "source": [
        "#jar파일을 풀어줄 폴더이름을 정합니다. 저는 temp_fix로 했어요!\n",
        "os.makedirs('./temp_fix')\n",
        "os.chdir('./temp_fix')\n",
        "os.getcwd()"
      ],
      "metadata": {
        "colab": {
          "base_uri": "https://localhost:8080/",
          "height": 35
        },
        "id": "Oi6tN-WjtdD4",
        "outputId": "f3c31232-f172-4c46-a2dd-9ab6b30eb655"
      },
      "execution_count": null,
      "outputs": [
        {
          "output_type": "execute_result",
          "data": {
            "text/plain": [
              "'/usr/local/lib/python3.10/dist-packages/konlpy/java/temp_fix'"
            ],
            "application/vnd.google.colaboratory.intrinsic+json": {
              "type": "string"
            }
          },
          "metadata": {},
          "execution_count": 5
        }
      ]
    },
    {
      "cell_type": "code",
      "source": [
        "#inflated어쩌고 쭉뜨고 맨끝에 에러 없으면 잘된겁니다!\n",
        "!jar xvf ../open-korean-text-2.1.0.jar"
      ],
      "metadata": {
        "colab": {
          "base_uri": "https://localhost:8080/"
        },
        "id": "NBMYB5JbtdFa",
        "outputId": "bc89860b-59a8-4082-ff87-d293b7747119"
      },
      "execution_count": null,
      "outputs": [
        {
          "output_type": "stream",
          "name": "stdout",
          "text": [
            "  created: META-INF/\n",
            " inflated: META-INF/MANIFEST.MF\n",
            "  created: org/\n",
            "  created: org/openkoreantext/\n",
            "  created: org/openkoreantext/processor/\n",
            "  created: org/openkoreantext/processor/normalizer/\n",
            "  created: org/openkoreantext/processor/phrase_extractor/\n",
            "  created: org/openkoreantext/processor/qa/\n",
            "  created: org/openkoreantext/processor/stemmer/\n",
            "  created: org/openkoreantext/processor/tokenizer/\n",
            "  created: org/openkoreantext/processor/tools/\n",
            "  created: org/openkoreantext/processor/util/\n",
            "  created: org/openkoreantext/processor/util/adjective/\n",
            "  created: org/openkoreantext/processor/util/adverb/\n",
            "  created: org/openkoreantext/processor/util/auxiliary/\n",
            "  created: org/openkoreantext/processor/util/freq/\n",
            "  created: org/openkoreantext/processor/util/josa/\n",
            "  created: org/openkoreantext/processor/util/noun/\n",
            "  created: org/openkoreantext/processor/util/substantives/\n",
            "  created: org/openkoreantext/processor/util/typos/\n",
            "  created: org/openkoreantext/processor/util/verb/\n",
            " inflated: org/openkoreantext/processor/KoreanPosJava.class\n",
            " inflated: org/openkoreantext/processor/KoreanTokenJava.class\n",
            " inflated: org/openkoreantext/processor/normalizer/KoreanNormalizer$.class\n",
            " inflated: org/openkoreantext/processor/normalizer/KoreanNormalizer$Segment$.class\n",
            " inflated: org/openkoreantext/processor/normalizer/KoreanNormalizer$Segment.class\n",
            " inflated: org/openkoreantext/processor/normalizer/KoreanNormalizer.class\n",
            " inflated: org/openkoreantext/processor/OpenKoreanTextProcessor$.class\n",
            " inflated: org/openkoreantext/processor/OpenKoreanTextProcessor.class\n",
            " inflated: org/openkoreantext/processor/OpenKoreanTextProcessorJava.class\n",
            " inflated: org/openkoreantext/processor/phrase_extractor/KoreanPhraseExtractor$.class\n",
            " inflated: org/openkoreantext/processor/phrase_extractor/KoreanPhraseExtractor$KoreanPhrase$.class\n",
            " inflated: org/openkoreantext/processor/phrase_extractor/KoreanPhraseExtractor$KoreanPhrase.class\n",
            " inflated: org/openkoreantext/processor/phrase_extractor/KoreanPhraseExtractor$PhraseBuffer$.class\n",
            " inflated: org/openkoreantext/processor/phrase_extractor/KoreanPhraseExtractor$PhraseBuffer.class\n",
            " inflated: org/openkoreantext/processor/phrase_extractor/KoreanPhraseExtractor.class\n",
            " inflated: org/openkoreantext/processor/qa/BatchGetUnknownNouns$.class\n",
            " inflated: org/openkoreantext/processor/qa/BatchGetUnknownNouns$ChunkWithTweet$.class\n",
            " inflated: org/openkoreantext/processor/qa/BatchGetUnknownNouns$ChunkWithTweet.class\n",
            " inflated: org/openkoreantext/processor/qa/BatchGetUnknownNouns.class\n",
            " inflated: org/openkoreantext/processor/qa/BatchTokenizeTweets$.class\n",
            " inflated: org/openkoreantext/processor/qa/BatchTokenizeTweets$ParseTime$.class\n",
            " inflated: org/openkoreantext/processor/qa/BatchTokenizeTweets$ParseTime.class\n",
            " inflated: org/openkoreantext/processor/qa/BatchTokenizeTweets.class\n",
            " inflated: org/openkoreantext/processor/qa/KoreanProcessorSandbox$.class\n",
            " inflated: org/openkoreantext/processor/qa/KoreanProcessorSandbox.class\n",
            " inflated: org/openkoreantext/processor/stemmer/KoreanStemmer$.class\n",
            " inflated: org/openkoreantext/processor/stemmer/KoreanStemmer.class\n",
            " inflated: org/openkoreantext/processor/tokenizer/KoreanChunk$.class\n",
            " inflated: org/openkoreantext/processor/tokenizer/KoreanChunk.class\n",
            " inflated: org/openkoreantext/processor/tokenizer/KoreanChunker$.class\n",
            " inflated: org/openkoreantext/processor/tokenizer/KoreanChunker$ChunkMatch$.class\n",
            " inflated: org/openkoreantext/processor/tokenizer/KoreanChunker$ChunkMatch.class\n",
            " inflated: org/openkoreantext/processor/tokenizer/KoreanChunker.class\n",
            " inflated: org/openkoreantext/processor/tokenizer/KoreanDetokenizer$.class\n",
            " inflated: org/openkoreantext/processor/tokenizer/KoreanDetokenizer.class\n",
            " inflated: org/openkoreantext/processor/tokenizer/KoreanSentenceSplitter$.class\n",
            " inflated: org/openkoreantext/processor/tokenizer/KoreanSentenceSplitter.class\n",
            " inflated: org/openkoreantext/processor/tokenizer/KoreanTokenizer$.class\n",
            " inflated: org/openkoreantext/processor/tokenizer/KoreanTokenizer$CandidateParse$.class\n",
            " inflated: org/openkoreantext/processor/tokenizer/KoreanTokenizer$CandidateParse.class\n",
            " inflated: org/openkoreantext/processor/tokenizer/KoreanTokenizer$KoreanToken$.class\n",
            " inflated: org/openkoreantext/processor/tokenizer/KoreanTokenizer$KoreanToken.class\n",
            " inflated: org/openkoreantext/processor/tokenizer/KoreanTokenizer$PossibleTrie$.class\n",
            " inflated: org/openkoreantext/processor/tokenizer/KoreanTokenizer$PossibleTrie.class\n",
            " inflated: org/openkoreantext/processor/tokenizer/KoreanTokenizer.class\n",
            " inflated: org/openkoreantext/processor/tokenizer/ParsedChunk$.class\n",
            " inflated: org/openkoreantext/processor/tokenizer/ParsedChunk.class\n",
            " inflated: org/openkoreantext/processor/tokenizer/Sentence$.class\n",
            " inflated: org/openkoreantext/processor/tokenizer/Sentence.class\n",
            " inflated: org/openkoreantext/processor/tokenizer/TokenizerProfile$.class\n",
            " inflated: org/openkoreantext/processor/tokenizer/TokenizerProfile.class\n",
            " inflated: org/openkoreantext/processor/tools/CreateChunkParsingCandidates$.class\n",
            " inflated: org/openkoreantext/processor/tools/CreateChunkParsingCandidates.class\n",
            " inflated: org/openkoreantext/processor/tools/CreateConjugationExamples$.class\n",
            " inflated: org/openkoreantext/processor/tools/CreateConjugationExamples$ConjugationExample$.class\n",
            " inflated: org/openkoreantext/processor/tools/CreateConjugationExamples$ConjugationExample.class\n",
            " inflated: org/openkoreantext/processor/tools/CreateConjugationExamples.class\n",
            " inflated: org/openkoreantext/processor/tools/CreateParsingExamples$.class\n",
            " inflated: org/openkoreantext/processor/tools/CreateParsingExamples$ParsingExample$.class\n",
            " inflated: org/openkoreantext/processor/tools/CreateParsingExamples$ParsingExample.class\n",
            " inflated: org/openkoreantext/processor/tools/CreateParsingExamples.class\n",
            " inflated: org/openkoreantext/processor/tools/CreatePhraseExtractionExamples$.class\n",
            " inflated: org/openkoreantext/processor/tools/CreatePhraseExtractionExamples$PhraseExample$.class\n",
            " inflated: org/openkoreantext/processor/tools/CreatePhraseExtractionExamples$PhraseExample.class\n",
            " inflated: org/openkoreantext/processor/tools/CreatePhraseExtractionExamples.class\n",
            " inflated: org/openkoreantext/processor/tools/DeduplicateAndSortDictionaries$.class\n",
            " inflated: org/openkoreantext/processor/tools/DeduplicateAndSortDictionaries.class\n",
            " inflated: org/openkoreantext/processor/tools/Runnable.class\n",
            " inflated: org/openkoreantext/processor/tools/UpdateAllTheExamples$.class\n",
            " inflated: org/openkoreantext/processor/tools/UpdateAllTheExamples.class\n",
            " inflated: org/openkoreantext/processor/util/adjective/adjective.txt\n",
            " inflated: org/openkoreantext/processor/util/adverb/adverb.txt\n",
            " inflated: org/openkoreantext/processor/util/auxiliary/conjunctions.txt\n",
            " inflated: org/openkoreantext/processor/util/auxiliary/determiner.txt\n",
            " inflated: org/openkoreantext/processor/util/auxiliary/exclamation.txt\n",
            " inflated: org/openkoreantext/processor/util/CharacterUtils$CharacterBuffer.class\n",
            " inflated: org/openkoreantext/processor/util/CharacterUtils$Java4CharacterUtils.class\n",
            " inflated: org/openkoreantext/processor/util/CharacterUtils$Java5CharacterUtils.class\n",
            " inflated: org/openkoreantext/processor/util/CharacterUtils.class\n",
            " inflated: org/openkoreantext/processor/util/CharArrayMap$1.class\n",
            " inflated: org/openkoreantext/processor/util/CharArrayMap$EmptyCharArrayMap.class\n",
            " inflated: org/openkoreantext/processor/util/CharArrayMap$EntryIterator.class\n",
            " inflated: org/openkoreantext/processor/util/CharArrayMap$EntrySet.class\n",
            " inflated: org/openkoreantext/processor/util/CharArrayMap$MapEntry.class\n",
            " inflated: org/openkoreantext/processor/util/CharArrayMap$UnmodifiableCharArrayMap.class\n",
            " inflated: org/openkoreantext/processor/util/CharArrayMap.class\n",
            " inflated: org/openkoreantext/processor/util/CharArraySet.class\n",
            " inflated: org/openkoreantext/processor/util/example_chunks.txt\n",
            " inflated: org/openkoreantext/processor/util/example_tweets.txt\n",
            " inflated: org/openkoreantext/processor/util/freq/entity-freq.txt.gz\n",
            " inflated: org/openkoreantext/processor/util/Hangul$.class\n",
            " inflated: org/openkoreantext/processor/util/Hangul$DoubleCoda$.class\n",
            " inflated: org/openkoreantext/processor/util/Hangul$DoubleCoda.class\n",
            " inflated: org/openkoreantext/processor/util/Hangul$HangulChar$.class\n",
            " inflated: org/openkoreantext/processor/util/Hangul$HangulChar.class\n",
            " inflated: org/openkoreantext/processor/util/Hangul.class\n",
            " inflated: org/openkoreantext/processor/util/josa/josa.txt\n",
            " inflated: org/openkoreantext/processor/util/KoreanConjugation$.class\n",
            " inflated: org/openkoreantext/processor/util/KoreanConjugation.class\n",
            " inflated: org/openkoreantext/processor/util/KoreanDictionaryProvider$.class\n",
            " inflated: org/openkoreantext/processor/util/KoreanDictionaryProvider.class\n",
            " inflated: org/openkoreantext/processor/util/KoreanPos$.class\n",
            " inflated: org/openkoreantext/processor/util/KoreanPos$KoreanPosTrie$.class\n",
            " inflated: org/openkoreantext/processor/util/KoreanPos$KoreanPosTrie.class\n",
            " inflated: org/openkoreantext/processor/util/KoreanPos.class\n",
            " inflated: org/openkoreantext/processor/util/KoreanSubstantive$.class\n",
            " inflated: org/openkoreantext/processor/util/KoreanSubstantive.class\n",
            " inflated: org/openkoreantext/processor/util/noun/bible.txt\n",
            " inflated: org/openkoreantext/processor/util/noun/company_names.txt\n",
            " inflated: org/openkoreantext/processor/util/noun/congress.txt\n",
            " inflated: org/openkoreantext/processor/util/noun/entities.txt\n",
            " inflated: org/openkoreantext/processor/util/noun/foreign.txt\n",
            " inflated: org/openkoreantext/processor/util/noun/geolocations.txt\n",
            " inflated: org/openkoreantext/processor/util/noun/kpop.txt\n",
            " inflated: org/openkoreantext/processor/util/noun/lol.txt\n",
            " inflated: org/openkoreantext/processor/util/noun/names.txt\n",
            " inflated: org/openkoreantext/processor/util/noun/nouns.txt\n",
            " inflated: org/openkoreantext/processor/util/noun/pokemon.txt\n",
            " inflated: org/openkoreantext/processor/util/noun/profane.txt\n",
            " inflated: org/openkoreantext/processor/util/noun/slangs.txt\n",
            " inflated: org/openkoreantext/processor/util/noun/spam.txt\n",
            " inflated: org/openkoreantext/processor/util/noun/twitter.txt\n",
            " inflated: org/openkoreantext/processor/util/noun/wikipedia_title_nouns.txt\n",
            " inflated: org/openkoreantext/processor/util/substantives/family_names.txt\n",
            " inflated: org/openkoreantext/processor/util/substantives/given_names.txt\n",
            " inflated: org/openkoreantext/processor/util/substantives/modifier.txt\n",
            " inflated: org/openkoreantext/processor/util/substantives/suffix.txt\n",
            " inflated: org/openkoreantext/processor/util/typos/typos.txt\n",
            " inflated: org/openkoreantext/processor/util/verb/eomi.txt\n",
            " inflated: org/openkoreantext/processor/util/verb/pre_eomi.txt\n",
            " inflated: org/openkoreantext/processor/util/verb/verb.txt\n",
            " inflated: org/openkoreantext/processor/util/verb/verb_prefix.txt\n",
            "  created: META-INF/maven/\n",
            "  created: META-INF/maven/org.openkoreantext/\n",
            "  created: META-INF/maven/org.openkoreantext/open-korean-text/\n",
            " inflated: META-INF/maven/org.openkoreantext/open-korean-text/pom.xml\n",
            " inflated: META-INF/maven/org.openkoreantext/open-korean-text/pom.properties\n"
          ]
        }
      ]
    },
    {
      "cell_type": "code",
      "source": [
        "# 사용자 사전 열기\n",
        "with open(f\"/usr/local/lib/python3.10/dist-packages/konlpy/java/temp_fix/org/openkoreantext/processor/util/noun/names.txt\") as f:\n",
        "    data = f.read()\n",
        "data"
      ],
      "metadata": {
        "colab": {
          "base_uri": "https://localhost:8080/",
          "height": 109
        },
        "id": "29CLbx7HtdH7",
        "outputId": "ec31a439-fbbd-45d9-aee3-19565f253835"
      },
      "execution_count": null,
      "outputs": [
        {
          "output_type": "execute_result",
          "data": {
            "text/plain": [
              "'가몽\\n가온\\n갓세븐\\n강새이\\n게임닉가\\n관우\\n귀여미\\n규\\n김유이\\n김준면\\n까까런\\n노컷\\n누너예\\n니노\\n다마고치\\n다이무스\\n대학생\\n데이브\\n도요토미\\n동운\\n동이\\n두주니\\n디시인사이드\\n디오\\n라몹\\n라스\\n라옵\\n멍구\\n메이든\\n명덕\\n명량\\n문민정부\\n미네\\n방엘리\\n병헌\\n붓다\\n비정상회담\\n빼빼로\\n삼풍\\n샤인온미\\n성식\\n성열\\n세라문\\n세라복\\n세종대왕\\n손권\\n손책\\n쇼미더머니\\n쇼챔\\n순규\\n스라소니\\n신동아\\n신쓰패밀리\\n신아라\\n아베\\n안상홍\\n안홍준\\n여누\\n여랑\\n여포\\n연합\\n오꾸닭\\n요섭\\n웃찾사\\n원식\\n유병언\\n유비\\n유이\\n윤기형\\n이나단\\n이명박\\n이완용\\n임창용\\n자괴\\n자니윤\\n자대련\\n자유\\n재중이\\n전교조\\n정윤회\\n제갈량\\n조자룡\\n조조\\n준면\\n지오디\\n지존파\\n진영오\\n차작가\\n차트\\n창섭\\n챠트\\n첸\\n코르사주\\n하무열\\n하용파쿠\\n혁재\\n현이\\n현태\\n혜미\\n'"
            ],
            "application/vnd.google.colaboratory.intrinsic+json": {
              "type": "string"
            }
          },
          "metadata": {},
          "execution_count": 7
        }
      ]
    },
    {
      "cell_type": "code",
      "source": [
        "data += '한국외국어대학교\\n한국외대\\n교육생\\n대학원생\\n취업준비생\\n준비생\\n인사혁신처\\n임직원\\n구분\\n주간\\n접수\\n시수\\n교육비\\n교재비\\n재수강\\n전형료\\n단위\\n인사혁신처\\n모집\\n무통장\\n소요\\n대기\\n개강일\\n상시\\n문의처\\n통번역\\\n",
        "n시험일\\n인사혁신처\\n원스톱\\n공지\\n부모\\n미제출\\n국제학사\\nXray\\n퇴사일\\n예치금\\n전학년\\n전 학년\\\n",
        "n국제학사 운영팀\\n국제학사운영팀\\n다성이즈빌\\n외대생\\n서울캠퍼스\\n한국외대\\n경영대학원\\n교통편\\\n",
        "n일시\\n기간\\n장소\\n비고\\n전공\\n연구\\n연구계획\\n연구 계획\\n사이버외대\\n사이버 외대\\n입학금\\\n",
        "n기타\\n자기소개\\n자기소개서\\n재학증명서\\n성적증명서\\n제출처\\n제출\\n학생지원팀\\n캠퍼스\\n봉사단\\\n",
        "n가상계좌\\n가상 계좌\\n기숙사비\\n지원\\n기자단\\n하계\\n동계\\n간담회\\n우대사항\\n홍보대사\\n보건실\\\n",
        "n일정\\n교육일정\\n백년관\\n사용법\\n경영\\n융합전공\\n조별\\n이코노미\\n숙식비\\n오바마홀\\n박강미\\n기억\\n부산일보\\n이경주\\\n",
        "n융복합\\n국가직\\n진로취업지원센터\\n추천채용\\n추천일\\n시작\\n응시생\\n재추천\\n사전\\n학교\\n추천\\\n",
        "n고득점\\n면접\\n시험\\n인재개발\\n졸업예정증명서\\n휴학증명서\\n동문\\n한국외대\\n안내\\n존슨 앤 존슨즈\\n통번역학\\\n",
        "n허윤영\\n진행안\\n타대생\\n현장실습\\n현장실습생\\n졸업 사정\\n재입찰\\n위치\\n구조물\\n부정당\\n원본\\\n",
        "n사무처\\n사업관리팀\\n내역서\\n공사\\n실적\\n층수\\n명기\\n납입증\\n시공\\n공사지명\\n사본\\진인섭\\\n",
        "n문화예술진흥법\\n시행령\\n사업비\\n공모\\n재료비\\n조형물\\n설명회\\n제출물\\n규격\\n내용\\n전문\\\n",
        "n서울\\n참가비\\n차상위계층\\n서울 성모병원\\n캠프일\\n거주\\n흡연자\\n1박 2일\\n4박 5일\\n학칙개정안\\\n",
        "n법대학\\n잔여 학생\\n행정학과\\n부전공\\n이수 중\\n부전공생\\n동유럽학대학\\n경상대학\\n자연과학대학\\n국제학부\\\n",
        "n일반대학원\\n전문대학원\\n통번역대학원\\n특수대학원\\n정치행정언론대학원\\nTESOL대학원\\nKFL대학원\\\n",
        "n재적생\\n수료생\\n제적생\\n현행\\n입학 정원\\n정원\\n상경대학\\n인문대학\\n영어학전공\\n영미문학번역전공\\nELLT학과\\\n",
        "nEICC학과\\n프랑스어학부\\n프랑스응용어문학전공\\nFATI전공\\nEU전공\\n중국학대학\\n중국언어문화학부\\n중국외교통상학부\\\n",
        "n중국외교통상전공\\n일본어대학\\n일본언어문화학부\\n일본언어문화전공\\n융합일본지역학부\\n융합일본지역전공\\n사회과학대학\\n정치외교학\\\n",
        "n미디어커뮤니케이션학부\\n언론ㆍ정보전공\\n광고ㆍPRㆍ브랜딩전공\\n방송ㆍ영상ㆍ뉴미디어전공\\n국제통상학과\\n경제학부\\\n",
        "n경제학전공\\n경영대학\\n경영학부\\n경영학전공\\n사범대학\\n영어교육\\n프랑스어교육\\n독일어교육\\n한국어교육\\\n",
        "n중국어교육\\n국제학부\\n국제학전공\\nLanguage Diplomacy 학부\\nLanguage Diplomacy 전공\\nLanguage Trade 학부\\nLanguage Trade 전공\\\n",
        "nKFL학부\\n외국어로서 한국어교육 전공\\n외국어로서 한국어교육 통번역 전공\\n사학과\\n언어인지과학과\\\n",
        "n지식콘텐츠학부\\n지식콘텐츠전공\\n영어통번역학부\\n영어통번역전공\\n영미문학ㆍ번역전공\\n영어학전공\\n독일어통번역학\\\n",
        "n스페인어통번역학\\n이탈리아어통번역학\\n중국어통번역학\\n아랍어통번역학\\n말레이ㆍ인도네이사어통번역학\\n태국어통번역학\\n동유럽학대학\\\n",
        "n체코ㆍ슬로바키아어\\n세르비아ㆍ크로아티아어\\n국제지역대학\\n프랑스학과\\n브라질학과\\n그리스ㆍ불가리아학과\\n인도학과\\\n",
        "n중앙아시아학과\\n아프리카학부\\n동아프리카전공\\n서아프리카전공\\n남아프리카전공\\n러시아학과\\n국제스포츠레저전공\\n한국학과\\\n",
        "n경상대학\\nGlobal Business Technology 학부\\nGlobal Business Technology 전공\\n국제금융학과\\n자연과학대학\\n컴퓨터전자시스템공학부\\\n",
        "n컴퓨터전자시스템공학전공\\n정보통신공학\\n산업경영공학과\\n바이오메디컬공학부\\n바이오메디컬공학전공\\n개정안\\\n",
        "n전략기획팀\\n한국외국어대학교\\n제출자\\n인적사항\\n지하층\\n내부\\n전층\\n콘크리트\\n대지\\n경계선\\n구조\\\n",
        "n발주처\\n대외협력팀\\n자원봉사센터\\n학생지원팀\\n총동문회\\n동문 회원\\n롯데호텔\\n사파이어볼룸\\n제세공과금\\n공모작\\n대학\\\n",
        "n한국연구재단\\n한국외대코어사업단\\n인문 역량 강화 사업\\nCORE 사업단\\n백선기\\n지부장\\n김기일\\n게시물\\\n",
        "n1인\\n1인 미디어\\n교수학습개발\\n전산실습실\\n연합회\\n수강료\\n회\\n대한상공회의소\\n사업단\\n회원가입\\\n",
        "n취득일\\n응시일\\n교환제\\n인공지능\\n이상욱\\n대학 인문 역량 강화 사업단\\n편입생\\n국제교류 프로그램\\n학생상담센터\\\n",
        "n글로벌캠퍼스\\n일시\\n대외활동\\n지원\\n개월\\n지원액\\n발급비\\n항공료\\n재입국\\n무역관\\n현장실습\\n배정 인원\\\n",
        "n자격요건\\n휴가철\\n피서지\\n주정차\\n사업관리팀\\n소폭\\n계약일\\n동종\\n부속시설\\n법인사무처\\n사업관리팀\\\n",
        "n서울시 동대문구 이문로 107\\n등기부등본\\n인감 도장\\n설명회\\n제고\\n임대환경\\n관리비\\n전세\\n가감율\\\n",
        "n수수료율\\n총액\\n전후\\n점수\\n기타사항\\n발주처\\n제3자\\n대원빌딩\\n서울특별시 테헤란로 98길 11\\n근린 생활 시설\\\n",
        "n리모델링\\nBRICs(브릭스)전공\\nEU(유럽연합)전공\\n동북아외교통상전공\\n문화콘텐츠학전공\\n국가리더전공\\n세계문화예술경영전공\\n디지털인문한국학전공\\nAI융합전공\\\n",
        "n데이터사이언스전공\\n바이오데이터사이언스전공\\n상담·UX심리 융합전공\\n지역경제개발협력전공\\n보험계리학전공\\nCulture & Technology융합대학\\\n",
        "n바이오메디컬공학부\\n글로벌자유전공학부\\n기후변화융합학부\\n전략기획팀\\n예산조정팀\\n평가감사팀\\n국책사업통합추진단\\nIT개발팀(서울)\\\n",
        "nIT인프라팀(서울)\\n정보통신팀(글로벌)\\n디지털서비스팀(서울∙글로벌)\\n지식출판콘텐츠팀\\n혁신지원팀\\nIR센터\\\n",
        "n전공설계지원센터\\n교육지원팀\\n교수학습개발센터\\n원격교육지원센터\\n특수외국어교육진흥원\\n특수외국어교육진흥교육센터\\nAI교육원운영팀\\\n",
        "nAI교육원\\n교무행정팀\\n학사종합지원센터\\n원스톱서비스센터\\n외국어교육센터\\n학생지원팀\\n장학팀\\n학생상담센터\\\n",
        "n진로취업지원센터\\n공공인재개발원\\n공공인재개발원 운영팀\\n현장실습지원센터\\n사회봉사센터\\n장애학생지원센터\\\n",
        "n학생∙인재개발처(대학일자리플러스본부)\\n행정지원처\\n총괄지원팀\\n인사팀\\n재무회계팀\\n건설기획팀\\n시설관리팀\\\n",
        "n국제교류처\\n국제교류팀\\n국제입학관리팀\\n외국인유학생종합지원센터\\n발전협력팀\\n경제경영연구소\\n철학문화연구소\\n역사문화연구소\\\n",
        "n미디어커뮤니케이션연구소\\n글로벌경영연구소\\n기초과학연구소\\n법학연구소\\n정보산업공학연구소\\n환경과학연구소\\n글로벌정치연구소\\\n",
        "n국정관리연구소\\n언어공학연구소\\n세계문화예술경영연구소\\n디지털인문학국학연구소\\n언어문화소통연구소\\n정보ㆍ기록학 연구소\\\n",
        "n통번역센터\\n외국어연수평가원\\nFLEX센터\\n서울평생교육원\\nTESOL전문교육원\\n한국어문화교육원\\\n",
        "n미제출\\n졸업증명서\\n졸업예정자\\n공고\\n안내\\n공고문\\n일반\\n학사운영팀\\n제출기한\\n학사운영팀\\n국제학사\\n영어학부\\\n",
        "n사이버한국외국어대학교\\n급여\\n근무처\\n사이버관\\n인문과학관\\n교수학습개발원\\n사회과학관\\n법학관\\n근무\\n첨부\\n선발\\n문의\\n전화\\n지원사업\\\n",
        "n지원\\n연구\\n연구재단\\n4대보험\\n적격\\n적격자\\n지원 자격\\n4년제\\n서류 전형\\n면접 전형\\nAI 면접\\n인적성검사\\n심화 면접 \\n최종 면접\\\n",
        "n조직\\n기재\\n코딩존\\n'"
      ],
      "metadata": {
        "id": "lo7kqSJ4z5TT"
      },
      "execution_count": null,
      "outputs": []
    },
    {
      "cell_type": "code",
      "source": [
        "#데이터추가해주기_\\n으로 이어줘야합니다\n",
        "data += '경력증명서\\n사본\\n원본\\n미제출 시\\n계약직\\\n",
        "n채용예정자\\n능숙자\\n마감일\\\n",
        "n일반\\n재임용\\n1인\\n지원 자격\\n자격 요건\\n'\n",
        "\n",
        "# 파일 새롭게 저장\n",
        "with open(\"/usr/local/lib/python3.10/dist-packages/konlpy/java/temp_fix/org/openkoreantext/processor/util/noun/names.txt\", 'w') as f:\n",
        "    f.write(data)\n",
        "data"
      ],
      "metadata": {
        "colab": {
          "base_uri": "https://localhost:8080/",
          "height": 219
        },
        "id": "7R5pWNsGtdKd",
        "outputId": "2836b801-3a3d-4478-ee29-dbd065d838d7"
      },
      "execution_count": null,
      "outputs": [
        {
          "output_type": "execute_result",
          "data": {
            "text/plain": [
              "'가몽\\n가온\\n갓세븐\\n강새이\\n게임닉가\\n관우\\n귀여미\\n규\\n김유이\\n김준면\\n까까런\\n노컷\\n누너예\\n니노\\n다마고치\\n다이무스\\n대학생\\n데이브\\n도요토미\\n동운\\n동이\\n두주니\\n디시인사이드\\n디오\\n라몹\\n라스\\n라옵\\n멍구\\n메이든\\n명덕\\n명량\\n문민정부\\n미네\\n방엘리\\n병헌\\n붓다\\n비정상회담\\n빼빼로\\n삼풍\\n샤인온미\\n성식\\n성열\\n세라문\\n세라복\\n세종대왕\\n손권\\n손책\\n쇼미더머니\\n쇼챔\\n순규\\n스라소니\\n신동아\\n신쓰패밀리\\n신아라\\n아베\\n안상홍\\n안홍준\\n여누\\n여랑\\n여포\\n연합\\n오꾸닭\\n요섭\\n웃찾사\\n원식\\n유병언\\n유비\\n유이\\n윤기형\\n이나단\\n이명박\\n이완용\\n임창용\\n자괴\\n자니윤\\n자대련\\n자유\\n재중이\\n전교조\\n정윤회\\n제갈량\\n조자룡\\n조조\\n준면\\n지오디\\n지존파\\n진영오\\n차작가\\n차트\\n창섭\\n챠트\\n첸\\n코르사주\\n하무열\\n하용파쿠\\n혁재\\n현이\\n현태\\n혜미\\n한국외국어대학교\\n한국외대\\n교육생\\n대학원생\\n취업준비생\\n준비생\\n인사혁신처\\n임직원\\n구분\\n주간\\n접수\\n시수\\n교육비\\n교재비\\n재수강\\n전형료\\n단위\\n인사혁신처\\n모집\\n무통장\\n소요\\n대기\\n개강일\\n상시\\n문의처\\n통번역n시험일\\n인사혁신처\\n원스톱\\n공지\\n부모\\n미제출\\n국제학사\\nXray\\n퇴사일\\n예치금\\n전학년\\n전 학년n국제학사 운영팀\\n국제학사운영팀\\n다성이즈빌\\n외대생\\n서울캠퍼스\\n한국외대\\n경영대학원\\n교통편n일시\\n기간\\n장소\\n비고\\n전공\\n연구\\n연구계획\\n연구 계획\\n사이버외대\\n사이버 외대\\n입학금n기타\\n자기소개\\n자기소개서\\n재학증명서\\n성적증명서\\n제출처\\n제출\\n학생지원팀\\n캠퍼스\\n봉사단n가상계좌\\n가상 계좌\\n기숙사비\\n지원\\n기자단\\n하계\\n동계\\n간담회\\n우대사항\\n홍보대사\\n보건실n일정\\n교육일정\\n백년관\\n사용법\\n경영\\n융합전공\\n조별\\n이코노미\\n숙식비\\n오바마홀\\n박강미\\n기억\\n부산일보\\n이경주n융복합\\n국가직\\n진로취업지원센터\\n추천채용\\n추천일\\n시작\\n응시생\\n재추천\\n사전\\n학교\\n추천n고득점\\n면접\\n시험\\n인재개발\\n졸업예정증명서\\n휴학증명서\\n동문\\n한국외대\\n안내\\n존슨 앤 존슨즈\\n통번역학n허윤영\\n진행안\\n타대생\\n현장실습\\n현장실습생\\n졸업 사정\\n재입찰\\n위치\\n구조물\\n부정당\\n원본n사무처\\n사업관리팀\\n내역서\\n공사\\n실적\\n층수\\n명기\\n납입증\\n시공\\n공사지명\\n사본\\\\진인섭n문화예술진흥법\\n시행령\\n사업비\\n공모\\n재료비\\n조형물\\n설명회\\n제출물\\n규격\\n내용\\n전문n서울\\n참가비\\n차상위계층\\n서울 성모병원\\n캠프일\\n거주\\n흡연자\\n1박 2일\\n4박 5일\\n학칙개정안n법대학\\n잔여 학생\\n행정학과\\n부전공\\n이수 중\\n부전공생\\n동유럽학대학\\n경상대학\\n자연과학대학\\n국제학부n일반대학원\\n전문대학원\\n통번역대학원\\n특수대학원\\n정치행정언론대학원\\nTESOL대학원\\nKFL대학원n재적생\\n수료생\\n제적생\\n현행\\n입학 정원\\n정원\\n상경대학\\n인문대학\\n영어학전공\\n영미문학번역전공\\nELLT학과nEICC학과\\n프랑스어학부\\n프랑스응용어문학전공\\nFATI전공\\nEU전공\\n중국학대학\\n중국언어문화학부\\n중국외교통상학부n중국외교통상전공\\n일본어대학\\n일본언어문화학부\\n일본언어문화전공\\n융합일본지역학부\\n융합일본지역전공\\n사회과학대학\\n정치외교학n미디어커뮤니케이션학부\\n언론ㆍ정보전공\\n광고ㆍPRㆍ브랜딩전공\\n방송ㆍ영상ㆍ뉴미디어전공\\n국제통상학과\\n경제학부n경제학전공\\n경영대학\\n경영학부\\n경영학전공\\n사범대학\\n영어교육\\n프랑스어교육\\n독일어교육\\n한국어교육n중국어교육\\n국제학부\\n국제학전공\\nLanguage Diplomacy 학부\\nLanguage Diplomacy 전공\\nLanguage Trade 학부\\nLanguage Trade 전공nKFL학부\\n외국어로서 한국어교육 전공\\n외국어로서 한국어교육 통번역 전공\\n사학과\\n언어인지과학과n지식콘텐츠학부\\n지식콘텐츠전공\\n영어통번역학부\\n영어통번역전공\\n영미문학ㆍ번역전공\\n영어학전공\\n독일어통번역학n스페인어통번역학\\n이탈리아어통번역학\\n중국어통번역학\\n아랍어통번역학\\n말레이ㆍ인도네이사어통번역학\\n태국어통번역학\\n동유럽학대학n체코ㆍ슬로바키아어\\n세르비아ㆍ크로아티아어\\n국제지역대학\\n프랑스학과\\n브라질학과\\n그리스ㆍ불가리아학과\\n인도학과n중앙아시아학과\\n아프리카학부\\n동아프리카전공\\n서아프리카전공\\n남아프리카전공\\n러시아학과\\n국제스포츠레저전공\\n한국학과n경상대학\\nGlobal Business Technology 학부\\nGlobal Business Technology 전공\\n국제금융학과\\n자연과학대학\\n컴퓨터전자시스템공학부n컴퓨터전자시스템공학전공\\n정보통신공학\\n산업경영공학과\\n바이오메디컬공학부\\n바이오메디컬공학전공\\n개정안n전략기획팀\\n한국외국어대학교\\n제출자\\n인적사항\\n지하층\\n내부\\n전층\\n콘크리트\\n대지\\n경계선\\n구조n발주처\\n대외협력팀\\n자원봉사센터\\n학생지원팀\\n총동문회\\n동문 회원\\n롯데호텔\\n사파이어볼룸\\n제세공과금\\n공모작\\n대학n한국연구재단\\n한국외대코어사업단\\n인문 역량 강화 사업\\nCORE 사업단\\n백선기\\n지부장\\n김기일\\n게시물n1인\\n1인 미디어\\n교수학습개발\\n전산실습실\\n연합회\\n수강료\\n회\\n대한상공회의소\\n사업단\\n회원가입n취득일\\n응시일\\n교환제\\n인공지능\\n이상욱\\n대학 인문 역량 강화 사업단\\n편입생\\n국제교류 프로그램\\n학생상담센터n글로벌캠퍼스\\n일시\\n대외활동\\n지원\\n개월\\n지원액\\n발급비\\n항공료\\n재입국\\n무역관\\n현장실습\\n배정 인원n자격요건\\n휴가철\\n피서지\\n주정차\\n사업관리팀\\n소폭\\n계약일\\n동종\\n부속시설\\n법인사무처\\n사업관리팀n서울시 동대문구 이문로 107\\n등기부등본\\n인감 도장\\n설명회\\n제고\\n임대환경\\n관리비\\n전세\\n가감율n수수료율\\n총액\\n전후\\n점수\\n기타사항\\n발주처\\n제3자\\n대원빌딩\\n서울특별시 테헤란로 98길 11\\n근린 생활 시설n리모델링\\nBRICs(브릭스)전공\\nEU(유럽연합)전공\\n동북아외교통상전공\\n문화콘텐츠학전공\\n국가리더전공\\n세계문화예술경영전공\\n디지털인문한국학전공\\nAI융합전공n데이터사이언스전공\\n바이오데이터사이언스전공\\n상담·UX심리 융합전공\\n지역경제개발협력전공\\n보험계리학전공\\nCulture & Technology융합대학n바이오메디컬공학부\\n글로벌자유전공학부\\n기후변화융합학부\\n전략기획팀\\n예산조정팀\\n평가감사팀\\n국책사업통합추진단\\nIT개발팀(서울)nIT인프라팀(서울)\\n정보통신팀(글로벌)\\n디지털서비스팀(서울∙글로벌)\\n지식출판콘텐츠팀\\n혁신지원팀\\nIR센터n전공설계지원센터\\n교육지원팀\\n교수학습개발센터\\n원격교육지원센터\\n특수외국어교육진흥원\\n특수외국어교육진흥교육센터\\nAI교육원운영팀nAI교육원\\n교무행정팀\\n학사종합지원센터\\n원스톱서비스센터\\n외국어교육센터\\n학생지원팀\\n장학팀\\n학생상담센터n진로취업지원센터\\n공공인재개발원\\n공공인재개발원 운영팀\\n현장실습지원센터\\n사회봉사센터\\n장애학생지원센터n학생∙인재개발처(대학일자리플러스본부)\\n행정지원처\\n총괄지원팀\\n인사팀\\n재무회계팀\\n건설기획팀\\n시설관리팀n국제교류처\\n국제교류팀\\n국제입학관리팀\\n외국인유학생종합지원센터\\n발전협력팀\\n경제경영연구소\\n철학문화연구소\\n역사문화연구소n미디어커뮤니케이션연구소\\n글로벌경영연구소\\n기초과학연구소\\n법학연구소\\n정보산업공학연구소\\n환경과학연구소\\n글로벌정치연구소n국정관리연구소\\n언어공학연구소\\n세계문화예술경영연구소\\n디지털인문학국학연구소\\n언어문화소통연구소\\n정보ㆍ기록학 연구소n통번역센터\\n외국어연수평가원\\nFLEX센터\\n서울평생교육원\\nTESOL전문교육원\\n한국어문화교육원n미제출\\n졸업증명서\\n졸업예정자\\n공고\\n안내\\n공고문\\n일반\\n학사운영팀\\n제출기한\\n학사운영팀\\n국제학사\\n영어학부n사이버한국외국어대학교\\n급여\\n근무처\\n사이버관\\n인문과학관\\n교수학습개발원\\n사회과학관\\n법학관\\n근무\\n첨부\\n선발\\n문의\\n전화\\n지원사업n지원\\n연구\\n연구재단\\n4대보험\\n적격\\n적격자\\n지원 자격\\n4년제\\n서류 전형\\n면접 전형\\nAI 면접\\n인적성검사\\n심화 면접 \\n최종 면접n조직\\n기재\\n코딩존\\n경력증명서\\n사본\\n원본\\n미제출 시\\n계약직n채용예정자\\n능숙자\\n마감일n일반\\n재임용\\n1인\\n지원 자격\\n자격 요건\\n'"
            ],
            "application/vnd.google.colaboratory.intrinsic+json": {
              "type": "string"
            }
          },
          "metadata": {},
          "execution_count": 9
        }
      ]
    },
    {
      "cell_type": "code",
      "source": [
        "#다시압축해주기. 마찬가지로 끝에 notfoundfile에러같은거 없으면 잘된겁니다!\n",
        "#안되면 pwd로 현재 경로가 temp_fix가 맞는지 확인해주세요\n",
        "!jar cvf ../open-korean-text-2.1.0.jar *"
      ],
      "metadata": {
        "colab": {
          "base_uri": "https://localhost:8080/"
        },
        "id": "8bn1KS36ug_X",
        "outputId": "5ed54b7b-829a-4122-a967-ee70cecbc95d"
      },
      "execution_count": null,
      "outputs": [
        {
          "output_type": "stream",
          "name": "stdout",
          "text": [
            "added manifest\n",
            "ignoring entry META-INF/\n",
            "adding: META-INF/maven/(in = 0) (out= 0)(stored 0%)\n",
            "adding: META-INF/maven/org.openkoreantext/(in = 0) (out= 0)(stored 0%)\n",
            "adding: META-INF/maven/org.openkoreantext/open-korean-text/(in = 0) (out= 0)(stored 0%)\n",
            "adding: META-INF/maven/org.openkoreantext/open-korean-text/pom.xml(in = 9127) (out= 2208)(deflated 75%)\n",
            "adding: META-INF/maven/org.openkoreantext/open-korean-text/pom.properties(in = 119) (out= 110)(deflated 7%)\n",
            "ignoring entry META-INF/MANIFEST.MF\n",
            "adding: org/(in = 0) (out= 0)(stored 0%)\n",
            "adding: org/openkoreantext/(in = 0) (out= 0)(stored 0%)\n",
            "adding: org/openkoreantext/processor/(in = 0) (out= 0)(stored 0%)\n",
            "adding: org/openkoreantext/processor/OpenKoreanTextProcessor$.class(in = 7716) (out= 2400)(deflated 68%)\n",
            "adding: org/openkoreantext/processor/OpenKoreanTextProcessorJava.class(in = 5901) (out= 1995)(deflated 66%)\n",
            "adding: org/openkoreantext/processor/normalizer/(in = 0) (out= 0)(stored 0%)\n",
            "adding: org/openkoreantext/processor/normalizer/KoreanNormalizer.class(in = 2980) (out= 2181)(deflated 26%)\n",
            "adding: org/openkoreantext/processor/normalizer/KoreanNormalizer$.class(in = 11553) (out= 5102)(deflated 55%)\n",
            "adding: org/openkoreantext/processor/normalizer/KoreanNormalizer$Segment.class(in = 3470) (out= 1422)(deflated 59%)\n",
            "adding: org/openkoreantext/processor/normalizer/KoreanNormalizer$Segment$.class(in = 2577) (out= 989)(deflated 61%)\n",
            "adding: org/openkoreantext/processor/tokenizer/(in = 0) (out= 0)(stored 0%)\n",
            "adding: org/openkoreantext/processor/tokenizer/ParsedChunk.class(in = 20517) (out= 8914)(deflated 56%)\n",
            "adding: org/openkoreantext/processor/tokenizer/KoreanChunker$ChunkMatch$.class(in = 2893) (out= 1136)(deflated 60%)\n",
            "adding: org/openkoreantext/processor/tokenizer/KoreanChunker$ChunkMatch.class(in = 4043) (out= 1704)(deflated 57%)\n",
            "adding: org/openkoreantext/processor/tokenizer/KoreanDetokenizer.class(in = 1660) (out= 1133)(deflated 31%)\n",
            "adding: org/openkoreantext/processor/tokenizer/KoreanTokenizer$CandidateParse$.class(in = 3459) (out= 1111)(deflated 67%)\n",
            "adding: org/openkoreantext/processor/tokenizer/KoreanDetokenizer$.class(in = 9889) (out= 4174)(deflated 57%)\n",
            "adding: org/openkoreantext/processor/tokenizer/KoreanChunk$.class(in = 2361) (out= 1010)(deflated 57%)\n",
            "adding: org/openkoreantext/processor/tokenizer/KoreanTokenizer$CandidateParse.class(in = 4616) (out= 1645)(deflated 64%)\n",
            "adding: org/openkoreantext/processor/tokenizer/ParsedChunk$.class(in = 3973) (out= 1500)(deflated 62%)\n",
            "adding: org/openkoreantext/processor/tokenizer/KoreanTokenizer.class(in = 6968) (out= 4384)(deflated 37%)\n",
            "adding: org/openkoreantext/processor/tokenizer/KoreanChunker$.class(in = 17975) (out= 6790)(deflated 62%)\n",
            "adding: org/openkoreantext/processor/tokenizer/KoreanChunk.class(in = 5611) (out= 2907)(deflated 48%)\n",
            "adding: org/openkoreantext/processor/tokenizer/KoreanChunker.class(in = 4232) (out= 2887)(deflated 31%)\n",
            "adding: org/openkoreantext/processor/tokenizer/KoreanSentenceSplitter$.class(in = 3359) (out= 1497)(deflated 55%)\n",
            "adding: org/openkoreantext/processor/tokenizer/Sentence.class(in = 5985) (out= 3125)(deflated 47%)\n",
            "adding: org/openkoreantext/processor/tokenizer/KoreanSentenceSplitter.class(in = 1092) (out= 712)(deflated 34%)\n",
            "adding: org/openkoreantext/processor/tokenizer/KoreanTokenizer$KoreanToken.class(in = 6336) (out= 2633)(deflated 58%)\n",
            "adding: org/openkoreantext/processor/tokenizer/KoreanTokenizer$KoreanToken$.class(in = 3976) (out= 1402)(deflated 64%)\n",
            "adding: org/openkoreantext/processor/tokenizer/KoreanTokenizer$PossibleTrie.class(in = 3399) (out= 1429)(deflated 57%)\n",
            "adding: org/openkoreantext/processor/tokenizer/TokenizerProfile$.class(in = 8169) (out= 2408)(deflated 70%)\n",
            "adding: org/openkoreantext/processor/tokenizer/Sentence$.class(in = 2339) (out= 1012)(deflated 56%)\n",
            "adding: org/openkoreantext/processor/tokenizer/KoreanTokenizer$PossibleTrie$.class(in = 2862) (out= 1067)(deflated 62%)\n",
            "adding: org/openkoreantext/processor/tokenizer/TokenizerProfile.class(in = 16403) (out= 6666)(deflated 59%)\n",
            "adding: org/openkoreantext/processor/tokenizer/KoreanTokenizer$.class(in = 25564) (out= 8451)(deflated 66%)\n",
            "adding: org/openkoreantext/processor/tools/(in = 0) (out= 0)(stored 0%)\n",
            "adding: org/openkoreantext/processor/tools/CreatePhraseExtractionExamples$PhraseExample.class(in = 3825) (out= 1443)(deflated 62%)\n",
            "adding: org/openkoreantext/processor/tools/CreateConjugationExamples$ConjugationExample$.class(in = 2787) (out= 997)(deflated 64%)\n",
            "adding: org/openkoreantext/processor/tools/UpdateAllTheExamples.class(in = 1089) (out= 756)(deflated 30%)\n",
            "adding: org/openkoreantext/processor/tools/CreateChunkParsingCandidates$.class(in = 5487) (out= 2305)(deflated 57%)\n",
            "adding: org/openkoreantext/processor/tools/UpdateAllTheExamples$.class(in = 4383) (out= 1794)(deflated 59%)\n",
            "adding: org/openkoreantext/processor/tools/DeduplicateAndSortDictionaries$.class(in = 7154) (out= 3133)(deflated 56%)\n",
            "adding: org/openkoreantext/processor/tools/CreateParsingExamples.class(in = 2427) (out= 1732)(deflated 28%)\n",
            "adding: org/openkoreantext/processor/tools/CreateConjugationExamples$.class(in = 5881) (out= 2385)(deflated 59%)\n",
            "adding: org/openkoreantext/processor/tools/CreateParsingExamples$ParsingExample$.class(in = 2842) (out= 1010)(deflated 64%)\n",
            "adding: org/openkoreantext/processor/tools/CreatePhraseExtractionExamples.class(in = 2516) (out= 1784)(deflated 29%)\n",
            "adding: org/openkoreantext/processor/tools/CreateConjugationExamples$ConjugationExample.class(in = 3569) (out= 1415)(deflated 60%)\n",
            "adding: org/openkoreantext/processor/tools/CreateChunkParsingCandidates.class(in = 833) (out= 566)(deflated 32%)\n",
            "adding: org/openkoreantext/processor/tools/DeduplicateAndSortDictionaries.class(in = 1117) (out= 823)(deflated 26%)\n",
            "adding: org/openkoreantext/processor/tools/Runnable.class(in = 964) (out= 694)(deflated 28%)\n",
            "adding: org/openkoreantext/processor/tools/CreatePhraseExtractionExamples$PhraseExample$.class(in = 2974) (out= 1020)(deflated 65%)\n",
            "adding: org/openkoreantext/processor/tools/CreateParsingExamples$.class(in = 5517) (out= 2327)(deflated 57%)\n",
            "adding: org/openkoreantext/processor/tools/CreateParsingExamples$ParsingExample.class(in = 3718) (out= 1429)(deflated 61%)\n",
            "adding: org/openkoreantext/processor/tools/CreatePhraseExtractionExamples$.class(in = 5989) (out= 2472)(deflated 58%)\n",
            "adding: org/openkoreantext/processor/tools/CreateConjugationExamples.class(in = 2367) (out= 1659)(deflated 29%)\n",
            "adding: org/openkoreantext/processor/KoreanTokenJava.class(in = 1976) (out= 931)(deflated 52%)\n",
            "adding: org/openkoreantext/processor/OpenKoreanTextProcessor.class(in = 4428) (out= 1997)(deflated 54%)\n",
            "adding: org/openkoreantext/processor/stemmer/(in = 0) (out= 0)(stored 0%)\n",
            "adding: org/openkoreantext/processor/stemmer/KoreanStemmer$.class(in = 7044) (out= 2892)(deflated 58%)\n",
            "adding: org/openkoreantext/processor/stemmer/KoreanStemmer.class(in = 1439) (out= 972)(deflated 32%)\n",
            "adding: org/openkoreantext/processor/phrase_extractor/(in = 0) (out= 0)(stored 0%)\n",
            "adding: org/openkoreantext/processor/phrase_extractor/KoreanPhraseExtractor$KoreanPhrase$.class(in = 3358) (out= 1148)(deflated 65%)\n",
            "adding: org/openkoreantext/processor/phrase_extractor/KoreanPhraseExtractor$KoreanPhrase.class(in = 6942) (out= 2591)(deflated 62%)\n",
            "adding: org/openkoreantext/processor/phrase_extractor/KoreanPhraseExtractor$PhraseBuffer.class(in = 4857) (out= 1609)(deflated 66%)\n",
            "adding: org/openkoreantext/processor/phrase_extractor/KoreanPhraseExtractor$PhraseBuffer$.class(in = 3564) (out= 1087)(deflated 69%)\n",
            "adding: org/openkoreantext/processor/phrase_extractor/KoreanPhraseExtractor$.class(in = 37855) (out= 12404)(deflated 67%)\n",
            "adding: org/openkoreantext/processor/phrase_extractor/KoreanPhraseExtractor.class(in = 6005) (out= 3967)(deflated 33%)\n",
            "adding: org/openkoreantext/processor/qa/(in = 0) (out= 0)(stored 0%)\n",
            "adding: org/openkoreantext/processor/qa/BatchGetUnknownNouns$ChunkWithTweet$.class(in = 2376) (out= 952)(deflated 59%)\n",
            "adding: org/openkoreantext/processor/qa/BatchGetUnknownNouns$ChunkWithTweet.class(in = 3080) (out= 1338)(deflated 56%)\n",
            "adding: org/openkoreantext/processor/qa/KoreanProcessorSandbox$.class(in = 1464) (out= 823)(deflated 43%)\n",
            "adding: org/openkoreantext/processor/qa/BatchGetUnknownNouns$.class(in = 8751) (out= 3532)(deflated 59%)\n",
            "adding: org/openkoreantext/processor/qa/BatchTokenizeTweets$ParseTime.class(in = 3153) (out= 1446)(deflated 54%)\n",
            "adding: org/openkoreantext/processor/qa/BatchTokenizeTweets.class(in = 2720) (out= 2031)(deflated 25%)\n",
            "adding: org/openkoreantext/processor/qa/KoreanProcessorSandbox.class(in = 824) (out= 575)(deflated 30%)\n",
            "adding: org/openkoreantext/processor/qa/BatchTokenizeTweets$ParseTime$.class(in = 2418) (out= 1015)(deflated 58%)\n",
            "adding: org/openkoreantext/processor/qa/BatchGetUnknownNouns.class(in = 2307) (out= 1702)(deflated 26%)\n",
            "adding: org/openkoreantext/processor/qa/BatchTokenizeTweets$.class(in = 10867) (out= 4401)(deflated 59%)\n",
            "adding: org/openkoreantext/processor/KoreanPosJava.class(in = 2457) (out= 1241)(deflated 49%)\n",
            "adding: org/openkoreantext/processor/util/(in = 0) (out= 0)(stored 0%)\n",
            "adding: org/openkoreantext/processor/util/adverb/(in = 0) (out= 0)(stored 0%)\n",
            "adding: org/openkoreantext/processor/util/adverb/adverb.txt(in = 65572) (out= 18741)(deflated 71%)\n",
            "adding: org/openkoreantext/processor/util/adjective/(in = 0) (out= 0)(stored 0%)\n",
            "adding: org/openkoreantext/processor/util/adjective/adjective.txt(in = 27250) (out= 9357)(deflated 65%)\n",
            "adding: org/openkoreantext/processor/util/CharacterUtils$Java4CharacterUtils.class(in = 2577) (out= 1282)(deflated 50%)\n",
            "adding: org/openkoreantext/processor/util/noun/(in = 0) (out= 0)(stored 0%)\n",
            "adding: org/openkoreantext/processor/util/noun/names.txt(in = 8662) (out= 3766)(deflated 56%)\n",
            "adding: org/openkoreantext/processor/util/noun/nouns.txt(in = 219319) (out= 84134)(deflated 61%)\n",
            "adding: org/openkoreantext/processor/util/noun/company_names.txt(in = 1631) (out= 905)(deflated 44%)\n",
            "adding: org/openkoreantext/processor/util/noun/geolocations.txt(in = 5423) (out= 2267)(deflated 58%)\n",
            "adding: org/openkoreantext/processor/util/noun/twitter.txt(in = 254) (out= 162)(deflated 36%)\n",
            "adding: org/openkoreantext/processor/util/noun/foreign.txt(in = 10485) (out= 4686)(deflated 55%)\n",
            "adding: org/openkoreantext/processor/util/noun/kpop.txt(in = 5371) (out= 2495)(deflated 53%)\n",
            "adding: org/openkoreantext/processor/util/noun/spam.txt(in = 202) (out= 157)(deflated 22%)\n",
            "adding: org/openkoreantext/processor/util/noun/congress.txt(in = 26494) (out= 9351)(deflated 64%)\n",
            "adding: org/openkoreantext/processor/util/noun/lol.txt(in = 1337) (out= 744)(deflated 44%)\n",
            "adding: org/openkoreantext/processor/util/noun/slangs.txt(in = 1565) (out= 921)(deflated 41%)\n",
            "adding: org/openkoreantext/processor/util/noun/entities.txt(in = 108142) (out= 44095)(deflated 59%)\n",
            "adding: org/openkoreantext/processor/util/noun/wikipedia_title_nouns.txt(in = 1971964) (out= 686708)(deflated 65%)\n",
            "adding: org/openkoreantext/processor/util/noun/pokemon.txt(in = 1781) (out= 965)(deflated 45%)\n",
            "adding: org/openkoreantext/processor/util/noun/profane.txt(in = 569) (out= 337)(deflated 40%)\n",
            "adding: org/openkoreantext/processor/util/noun/bible.txt(in = 2032) (out= 1005)(deflated 50%)\n",
            "adding: org/openkoreantext/processor/util/Hangul$HangulChar.class(in = 3185) (out= 1421)(deflated 55%)\n",
            "adding: org/openkoreantext/processor/util/KoreanPos$KoreanPosTrie.class(in = 4390) (out= 1610)(deflated 63%)\n",
            "adding: org/openkoreantext/processor/util/CharArrayMap$1.class(in = 1531) (out= 571)(deflated 62%)\n",
            "adding: org/openkoreantext/processor/util/CharArrayMap$EmptyCharArrayMap.class(in = 2053) (out= 725)(deflated 64%)\n",
            "adding: org/openkoreantext/processor/util/Hangul$DoubleCoda.class(in = 2930) (out= 1348)(deflated 53%)\n",
            "adding: org/openkoreantext/processor/util/Hangul$.class(in = 7625) (out= 3114)(deflated 59%)\n",
            "adding: org/openkoreantext/processor/util/KoreanSubstantive$.class(in = 14990) (out= 6195)(deflated 58%)\n",
            "adding: org/openkoreantext/processor/util/freq/(in = 0) (out= 0)(stored 0%)\n",
            "adding: org/openkoreantext/processor/util/freq/entity-freq.txt.gz(in = 385753) (out= 385873)(deflated 0%)\n",
            "adding: org/openkoreantext/processor/util/CharArrayMap$EntrySet.class(in = 2788) (out= 1181)(deflated 57%)\n",
            "adding: org/openkoreantext/processor/util/CharArraySet.class(in = 4886) (out= 1944)(deflated 60%)\n",
            "adding: org/openkoreantext/processor/util/CharacterUtils.class(in = 3703) (out= 1716)(deflated 53%)\n",
            "adding: org/openkoreantext/processor/util/CharArrayMap.class(in = 11923) (out= 4878)(deflated 59%)\n",
            "adding: org/openkoreantext/processor/util/KoreanConjugation$.class(in = 22440) (out= 7972)(deflated 64%)\n",
            "adding: org/openkoreantext/processor/util/auxiliary/(in = 0) (out= 0)(stored 0%)\n",
            "adding: org/openkoreantext/processor/util/auxiliary/conjunctions.txt(in = 398) (out= 189)(deflated 52%)\n",
            "adding: org/openkoreantext/processor/util/auxiliary/exclamation.txt(in = 1759) (out= 757)(deflated 56%)\n",
            "adding: org/openkoreantext/processor/util/auxiliary/determiner.txt(in = 63) (out= 63)(deflated 0%)\n",
            "adding: org/openkoreantext/processor/util/typos/(in = 0) (out= 0)(stored 0%)\n",
            "adding: org/openkoreantext/processor/util/typos/typos.txt(in = 5146) (out= 2300)(deflated 55%)\n",
            "adding: org/openkoreantext/processor/util/CharArrayMap$EntryIterator.class(in = 3118) (out= 1270)(deflated 59%)\n",
            "adding: org/openkoreantext/processor/util/CharacterUtils$Java5CharacterUtils.class(in = 2824) (out= 1393)(deflated 50%)\n",
            "adding: org/openkoreantext/processor/util/KoreanConjugation.class(in = 1550) (out= 1237)(deflated 20%)\n",
            "adding: org/openkoreantext/processor/util/Hangul$HangulChar$.class(in = 2389) (out= 1022)(deflated 57%)\n",
            "adding: org/openkoreantext/processor/util/CharArrayMap$MapEntry.class(in = 2433) (out= 1078)(deflated 55%)\n",
            "adding: org/openkoreantext/processor/util/CharArrayMap$UnmodifiableCharArrayMap.class(in = 3062) (out= 859)(deflated 71%)\n",
            "adding: org/openkoreantext/processor/util/KoreanDictionaryProvider.class(in = 3430) (out= 2003)(deflated 41%)\n",
            "adding: org/openkoreantext/processor/util/Hangul$DoubleCoda$.class(in = 2155) (out= 963)(deflated 55%)\n",
            "adding: org/openkoreantext/processor/util/KoreanPos$KoreanPosTrie$.class(in = 3157) (out= 1089)(deflated 65%)\n",
            "adding: org/openkoreantext/processor/util/KoreanPos.class(in = 6890) (out= 3877)(deflated 43%)\n",
            "adding: org/openkoreantext/processor/util/example_chunks.txt(in = 522978) (out= 163253)(deflated 68%)\n",
            "adding: org/openkoreantext/processor/util/verb/(in = 0) (out= 0)(stored 0%)\n",
            "adding: org/openkoreantext/processor/util/verb/eomi.txt(in = 12618) (out= 3556)(deflated 71%)\n",
            "adding: org/openkoreantext/processor/util/verb/pre_eomi.txt(in = 285) (out= 185)(deflated 35%)\n",
            "adding: org/openkoreantext/processor/util/verb/verb.txt(in = 32758) (out= 10723)(deflated 67%)\n",
            "adding: org/openkoreantext/processor/util/verb/verb_prefix.txt(in = 47) (out= 52)(deflated -10%)\n",
            "adding: org/openkoreantext/processor/util/josa/(in = 0) (out= 0)(stored 0%)\n",
            "adding: org/openkoreantext/processor/util/josa/josa.txt(in = 5219) (out= 1476)(deflated 71%)\n",
            "adding: org/openkoreantext/processor/util/CharacterUtils$CharacterBuffer.class(in = 1634) (out= 659)(deflated 59%)\n",
            "adding: org/openkoreantext/processor/util/KoreanPos$.class(in = 12173) (out= 4669)(deflated 61%)\n",
            "adding: org/openkoreantext/processor/util/Hangul.class(in = 3981) (out= 2731)(deflated 31%)\n",
            "adding: org/openkoreantext/processor/util/substantives/(in = 0) (out= 0)(stored 0%)\n",
            "adding: org/openkoreantext/processor/util/substantives/modifier.txt(in = 3395) (out= 1346)(deflated 60%)\n",
            "adding: org/openkoreantext/processor/util/substantives/suffix.txt(in = 325) (out= 224)(deflated 31%)\n",
            "adding: org/openkoreantext/processor/util/substantives/family_names.txt(in = 299) (out= 197)(deflated 34%)\n",
            "adding: org/openkoreantext/processor/util/substantives/given_names.txt(in = 1407) (out= 609)(deflated 56%)\n",
            "adding: org/openkoreantext/processor/util/example_tweets.txt(in = 86271) (out= 38336)(deflated 55%)\n",
            "adding: org/openkoreantext/processor/util/KoreanSubstantive.class(in = 1336) (out= 1087)(deflated 18%)\n",
            "adding: org/openkoreantext/processor/util/KoreanDictionaryProvider$.class(in = 20197) (out= 7488)(deflated 62%)\n"
          ]
        }
      ]
    },
    {
      "cell_type": "markdown",
      "source": [
        "# 세션 다시 시작하기"
      ],
      "metadata": {
        "id": "iFooGV0CEl-S"
      }
    },
    {
      "cell_type": "code",
      "source": [],
      "metadata": {
        "id": "_PoUjiNnEbuD"
      },
      "execution_count": null,
      "outputs": []
    },
    {
      "cell_type": "code",
      "source": [],
      "metadata": {
        "id": "i7Ra3PnWEbxS"
      },
      "execution_count": null,
      "outputs": []
    },
    {
      "cell_type": "code",
      "source": [],
      "metadata": {
        "id": "U0805NedEbz3"
      },
      "execution_count": null,
      "outputs": []
    },
    {
      "cell_type": "code",
      "source": [],
      "metadata": {
        "id": "M_ypKoM1Eb2l"
      },
      "execution_count": null,
      "outputs": []
    },
    {
      "cell_type": "code",
      "source": [],
      "metadata": {
        "id": "EpzU7QAmEb6a"
      },
      "execution_count": null,
      "outputs": []
    },
    {
      "cell_type": "markdown",
      "source": [
        "# 파일 불러오기"
      ],
      "metadata": {
        "id": "19OYzZXVBdsr"
      }
    },
    {
      "cell_type": "code",
      "source": [
        "from google.colab import drive\n",
        "drive.mount('/content/drive')"
      ],
      "metadata": {
        "colab": {
          "base_uri": "https://localhost:8080/"
        },
        "id": "3mfTFeR7kIwP",
        "outputId": "6953c47b-735d-4cb2-ee63-a4159d2dd825"
      },
      "execution_count": null,
      "outputs": [
        {
          "output_type": "stream",
          "name": "stdout",
          "text": [
            "Drive already mounted at /content/drive; to attempt to forcibly remount, call drive.mount(\"/content/drive\", force_remount=True).\n"
          ]
        }
      ]
    },
    {
      "cell_type": "code",
      "execution_count": null,
      "metadata": {
        "id": "4iBB1HNzBGVY"
      },
      "outputs": [],
      "source": [
        "import pandas as pd\n",
        "\n",
        "#gongji = pd.read_csv('/content/drive/MyDrive/HUFS_2024_1/Modeling/데이터 수집/csv모음/final_merged_gongji(0501).csv')\n",
        "haksa = pd.read_csv('./merged_haksa.csv')\n",
        "#hire = pd.read_csv('/content/drive/MyDrive/HUFS_2024_1/Modeling/데이터 수집/csv모음/merged_hire.csv')\n",
        "#janghak = pd.read_csv('/content/drive/MyDrive/HUFS_2024_1/Modeling/데이터 수집/csv모음/merged_janghak.csv')"
      ]
    },
    {
      "cell_type": "code",
      "source": [
        "# 원본 데이터 보존 위해 copy 데이터 생성\n",
        "#gongji_copy = gongji.copy()\n",
        "haksa_copy = haksa.copy()\n",
        "#hire_copy = hire.copy()\n",
        "#janghak_copy = janghak.copy()"
      ],
      "metadata": {
        "id": "ySZjrStbBcur"
      },
      "execution_count": null,
      "outputs": []
    },
    {
      "cell_type": "markdown",
      "source": [
        "# title에 코로나 있는 열 배제"
      ],
      "metadata": {
        "id": "OYHV3wR4B0vd"
      }
    },
    {
      "cell_type": "code",
      "source": [
        "# '코로나' 문자열이 포함된 행을 제외한 새로운 데이터프레임 생성 - 공지\n",
        "gongji_filtered = gongji_copy[~gongji_copy['title'].str.contains('코로나')]"
      ],
      "metadata": {
        "id": "gpcbXbr0BvVp"
      },
      "execution_count": null,
      "outputs": []
    },
    {
      "cell_type": "code",
      "source": [
        "# '코로나' 문자열이 포함된 행을 제외한 새로운 데이터프레임 생성 - 학사\n",
        "haksa_filtered = haksa_copy[~haksa_copy['title'].str.contains('코로나')]"
      ],
      "metadata": {
        "id": "qxD9syN3-y7P"
      },
      "execution_count": null,
      "outputs": []
    },
    {
      "cell_type": "markdown",
      "source": [
        "# 이메일, 링크 등 문자 제외 제거\n",
        "- 숫자도 제거"
      ],
      "metadata": {
        "id": "NRe8oF4gCDxo"
      }
    },
    {
      "cell_type": "code",
      "source": [
        "!pip install googletrans==3.1.0a0"
      ],
      "metadata": {
        "colab": {
          "base_uri": "https://localhost:8080/"
        },
        "id": "CUVk3SAaC4i9",
        "outputId": "c5022da8-22dd-4651-d260-27571a9e3e67"
      },
      "execution_count": null,
      "outputs": [
        {
          "output_type": "stream",
          "name": "stdout",
          "text": [
            "Collecting googletrans==3.1.0a0\n",
            "  Downloading googletrans-3.1.0a0.tar.gz (19 kB)\n",
            "  Preparing metadata (setup.py) ... \u001b[?25l\u001b[?25hdone\n",
            "Collecting httpx==0.13.3 (from googletrans==3.1.0a0)\n",
            "  Downloading httpx-0.13.3-py3-none-any.whl (55 kB)\n",
            "\u001b[2K     \u001b[90m━━━━━━━━━━━━━━━━━━━━━━━━━━━━━━━━━━━━━━━━\u001b[0m \u001b[32m55.1/55.1 kB\u001b[0m \u001b[31m1.6 MB/s\u001b[0m eta \u001b[36m0:00:00\u001b[0m\n",
            "\u001b[?25hRequirement already satisfied: certifi in /usr/local/lib/python3.10/dist-packages (from httpx==0.13.3->googletrans==3.1.0a0) (2024.2.2)\n",
            "Collecting hstspreload (from httpx==0.13.3->googletrans==3.1.0a0)\n",
            "  Downloading hstspreload-2024.5.1-py3-none-any.whl (1.1 MB)\n",
            "\u001b[2K     \u001b[90m━━━━━━━━━━━━━━━━━━━━━━━━━━━━━━━━━━━━━━━━\u001b[0m \u001b[32m1.1/1.1 MB\u001b[0m \u001b[31m11.2 MB/s\u001b[0m eta \u001b[36m0:00:00\u001b[0m\n",
            "\u001b[?25hRequirement already satisfied: sniffio in /usr/local/lib/python3.10/dist-packages (from httpx==0.13.3->googletrans==3.1.0a0) (1.3.1)\n",
            "Collecting chardet==3.* (from httpx==0.13.3->googletrans==3.1.0a0)\n",
            "  Downloading chardet-3.0.4-py2.py3-none-any.whl (133 kB)\n",
            "\u001b[2K     \u001b[90m━━━━━━━━━━━━━━━━━━━━━━━━━━━━━━━━━━━━━━━━\u001b[0m \u001b[32m133.4/133.4 kB\u001b[0m \u001b[31m15.9 MB/s\u001b[0m eta \u001b[36m0:00:00\u001b[0m\n",
            "\u001b[?25hCollecting idna==2.* (from httpx==0.13.3->googletrans==3.1.0a0)\n",
            "  Downloading idna-2.10-py2.py3-none-any.whl (58 kB)\n",
            "\u001b[2K     \u001b[90m━━━━━━━━━━━━━━━━━━━━━━━━━━━━━━━━━━━━━━━━\u001b[0m \u001b[32m58.8/58.8 kB\u001b[0m \u001b[31m7.6 MB/s\u001b[0m eta \u001b[36m0:00:00\u001b[0m\n",
            "\u001b[?25hCollecting rfc3986<2,>=1.3 (from httpx==0.13.3->googletrans==3.1.0a0)\n",
            "  Downloading rfc3986-1.5.0-py2.py3-none-any.whl (31 kB)\n",
            "Collecting httpcore==0.9.* (from httpx==0.13.3->googletrans==3.1.0a0)\n",
            "  Downloading httpcore-0.9.1-py3-none-any.whl (42 kB)\n",
            "\u001b[2K     \u001b[90m━━━━━━━━━━━━━━━━━━━━━━━━━━━━━━━━━━━━━━━━\u001b[0m \u001b[32m42.6/42.6 kB\u001b[0m \u001b[31m5.5 MB/s\u001b[0m eta \u001b[36m0:00:00\u001b[0m\n",
            "\u001b[?25hCollecting h11<0.10,>=0.8 (from httpcore==0.9.*->httpx==0.13.3->googletrans==3.1.0a0)\n",
            "  Downloading h11-0.9.0-py2.py3-none-any.whl (53 kB)\n",
            "\u001b[2K     \u001b[90m━━━━━━━━━━━━━━━━━━━━━━━━━━━━━━━━━━━━━━━━\u001b[0m \u001b[32m53.6/53.6 kB\u001b[0m \u001b[31m6.6 MB/s\u001b[0m eta \u001b[36m0:00:00\u001b[0m\n",
            "\u001b[?25hCollecting h2==3.* (from httpcore==0.9.*->httpx==0.13.3->googletrans==3.1.0a0)\n",
            "  Downloading h2-3.2.0-py2.py3-none-any.whl (65 kB)\n",
            "\u001b[2K     \u001b[90m━━━━━━━━━━━━━━━━━━━━━━━━━━━━━━━━━━━━━━━━\u001b[0m \u001b[32m65.0/65.0 kB\u001b[0m \u001b[31m9.7 MB/s\u001b[0m eta \u001b[36m0:00:00\u001b[0m\n",
            "\u001b[?25hCollecting hyperframe<6,>=5.2.0 (from h2==3.*->httpcore==0.9.*->httpx==0.13.3->googletrans==3.1.0a0)\n",
            "  Downloading hyperframe-5.2.0-py2.py3-none-any.whl (12 kB)\n",
            "Collecting hpack<4,>=3.0 (from h2==3.*->httpcore==0.9.*->httpx==0.13.3->googletrans==3.1.0a0)\n",
            "  Downloading hpack-3.0.0-py2.py3-none-any.whl (38 kB)\n",
            "Building wheels for collected packages: googletrans\n",
            "  Building wheel for googletrans (setup.py) ... \u001b[?25l\u001b[?25hdone\n",
            "  Created wheel for googletrans: filename=googletrans-3.1.0a0-py3-none-any.whl size=16353 sha256=6c32b6bd2598071c9303992d78d081e6803045fec0da7a3a59c95daa62fc3cdd\n",
            "  Stored in directory: /root/.cache/pip/wheels/50/5d/3c/8477d0af4ca2b8b1308812c09f1930863caeebc762fe265a95\n",
            "Successfully built googletrans\n",
            "Installing collected packages: rfc3986, hyperframe, hpack, h11, chardet, idna, hstspreload, h2, httpcore, httpx, googletrans\n",
            "  Attempting uninstall: chardet\n",
            "    Found existing installation: chardet 5.2.0\n",
            "    Uninstalling chardet-5.2.0:\n",
            "      Successfully uninstalled chardet-5.2.0\n",
            "  Attempting uninstall: idna\n",
            "    Found existing installation: idna 3.7\n",
            "    Uninstalling idna-3.7:\n",
            "      Successfully uninstalled idna-3.7\n",
            "Successfully installed chardet-3.0.4 googletrans-3.1.0a0 h11-0.9.0 h2-3.2.0 hpack-3.0.0 hstspreload-2024.5.1 httpcore-0.9.1 httpx-0.13.3 hyperframe-5.2.0 idna-2.10 rfc3986-1.5.0\n"
          ]
        }
      ]
    },
    {
      "cell_type": "code",
      "source": [
        "# 한국어, 영어 문자만 남기기\n",
        "from googletrans import Translator\n",
        "\n",
        "# 언어 감지 및 공백 처리하는 함수\n",
        "def clean_text(text):\n",
        "    translator = Translator()\n",
        "    detected = translator.detect(text)\n",
        "    lang = detected.lang\n",
        "    if lang in ['ko', 'en']:\n",
        "        return text\n",
        "    else:\n",
        "        return ''"
      ],
      "metadata": {
        "id": "OQTs0bZeCBqY"
      },
      "execution_count": null,
      "outputs": []
    },
    {
      "cell_type": "code",
      "source": [
        "# 이메일 형식과 전화번호 형식 제거\n",
        "import re\n",
        "\n",
        "\n",
        "def remove_stopwords(text):\n",
        "    email_pattern = r'\\b[A-Za-z0-9._%+-]+@(?:[A-Za-z0-9-]+\\.)+[A-Z|a-z]{2,}\\b'\n",
        "    phone_pattern = r'\\b\\d{2,3}-\\d{3,4}-\\d{4}\\b'\n",
        "    http = r'http://\\S+'\n",
        "    https = r'https://\\S+'\n",
        "    www = r'\\bwww\\.\\S*'\n",
        "    hufs = r'hufs\\.ac\\.kr'\n",
        "    number = r\"\\d+\"\n",
        "    text = str(text)\n",
        "\n",
        "    # 이메일 주소와 전화번호를 찾아서 제거\n",
        "    without_emails = re.sub(email_pattern, '', text)\n",
        "    without_emails_or_phones = re.sub(phone_pattern, '', without_emails)\n",
        "    # 링크 제거\n",
        "    without_links = re.sub(http, '', without_emails_or_phones)\n",
        "    without_links = re.sub(https, '', without_links)\n",
        "    without_links = re.sub(www, '', without_links)\n",
        "    without_stopwords = re.sub(hufs, '', without_links)\n",
        "    #\\n제거\n",
        "    without_stopwords = re.sub(r'\\n','',without_stopwords)\n",
        "    # 문자와 숫자만 남기기\n",
        "    without_stopwords = re.sub(r'^A-Za-z가-힣 ]', '', without_stopwords)\n",
        "    # 숫자 제거 (공백으로 대체)\n",
        "    without_stopwords = re.sub(number,' ',without_stopwords)\n",
        "\n",
        "\n",
        "    return without_stopwords"
      ],
      "metadata": {
        "id": "rM3XZmruDBwr"
      },
      "execution_count": null,
      "outputs": []
    },
    {
      "cell_type": "code",
      "source": [
        "# 'content' 열의 이메일 주소를 지운 후 새로운 열 'content_cleaned'에 저장\n",
        "# 특수문자는 추후\n",
        "# gongji_copy['content_cleaned'].str.replace(pat=r'[^\\w]',repl=r' ',regex=True) 이용해 제거\n",
        "\n",
        "#gongji_filtered['content_cleaned'] = gongji_filtered['content'].apply(remove_stopwords)\n",
        "haksa_filtered['content_cleaned'] = haksa_filtered['content'].apply(remove_stopwords)\n",
        "#hire_copy['content_cleaned'] = hire_copy['content'].apply(remove_stopwords)\n",
        "#janghak_copy['content_cleaned'] = janghak_copy['content'].apply(remove_stopwords)"
      ],
      "metadata": {
        "colab": {
          "base_uri": "https://localhost:8080/"
        },
        "id": "h_LL_B0hDGB0",
        "outputId": "77632034-a48c-430a-90ac-17c103cefac4"
      },
      "execution_count": null,
      "outputs": [
        {
          "output_type": "stream",
          "name": "stderr",
          "text": [
            "<ipython-input-8-8eb1620a1a0d>:6: SettingWithCopyWarning: \n",
            "A value is trying to be set on a copy of a slice from a DataFrame.\n",
            "Try using .loc[row_indexer,col_indexer] = value instead\n",
            "\n",
            "See the caveats in the documentation: https://pandas.pydata.org/pandas-docs/stable/user_guide/indexing.html#returning-a-view-versus-a-copy\n",
            "  haksa_filtered['content_cleaned'] = haksa_filtered['content'].apply(remove_stopwords)\n"
          ]
        }
      ]
    },
    {
      "cell_type": "markdown",
      "source": [
        "# 공지 분할 저장"
      ],
      "metadata": {
        "id": "4h_ZMUv1D4Jg"
      }
    },
    {
      "cell_type": "code",
      "source": [
        "gongji_filtered"
      ],
      "metadata": {
        "colab": {
          "base_uri": "https://localhost:8080/",
          "height": 718
        },
        "id": "iAy4Meb0DcRT",
        "outputId": "f0bb9550-f74e-40d6-e1f3-29f40899c510"
      },
      "execution_count": null,
      "outputs": [
        {
          "output_type": "execute_result",
          "data": {
            "text/plain": [
              "      index        date                                              title  \\\n",
              "0      4597  2024.03.27            [글로벌] 2024-1 명상 집단상담 ＇금모닝 마음챙김＇ 프로그램 안내   \n",
              "1      4596  2024.03.27  [서울] 보건실 - 심폐소생술 교육일정 안내 (2024.04.29(월) 10시 / ...   \n",
              "2      4595  2024.03.26               EU연구소 인문사회연구사업단, '제5회 바우하우스 콜로키움' 개최   \n",
              "3      4594  2024.03.26                       인도연구소 HK+사업단 제66회 명사초청 특강 안내   \n",
              "4      4593  2024.03.25                          FBS 외대교육방송국 78기 수습국원 추가모집   \n",
              "...     ...         ...                                                ...   \n",
              "6703      5  2018-01-04                경영대학원(주간․야간․주말) 2018학년도 전기 신입생 모집요강   \n",
              "6704      4  2018-01-03                              대원빌딩 철거공사 입찰 관련 질의 응답   \n",
              "6705      3  2018-01-02                 2018년 상반기 10주 주말(토) 외국어교육과정 교육생 모집   \n",
              "6706      2  2018-01-02                       2018년 상반기 FLC 외국어교육과정 교육생 모집   \n",
              "6707      1  2018-01-02                 2018년 상반기 20주 주간/야간 외국어교육과정 교육생 모집   \n",
              "\n",
              "                                                content  \\\n",
              "0     \\n[글로벌] 2024-1 명상 집단상담 ＇금모닝 마음챙김＇ 프로그램 안내\\n\\n학...   \n",
              "1     \\n심폐소생술 교육일정 안내\\n\\n서울캠퍼스 보건실에서는 교내 구성원의 응급처치 능...   \n",
              "2     \\nEU연구소 인문사회연구사업단, '제5회 바우하우스 콜로키움' 개최\\n\\n\\nEU...   \n",
              "3     \\n인도연구소 HK+사업단 제66회 명사초청 특강 안내\\n\\n□한국외국어대학교 인도...   \n",
              "4     \\nFBS 외대교육방송국 78기 수습국원 추가모집\\n\\n한국외국어대학교FBS외대교육...   \n",
              "...                                                 ...   \n",
              "6703  \\n한국외국어대학교 경영대학원(주간․야간․주말) 2018학년도 전기 신입생 모집요강...   \n",
              "6704  \\n대원빌딩 철거공사 입찰 관련 질의 응답대원빌딩 철거공사 입찰과 관련한 질의사항에...   \n",
              "6705  \\n2018년 상반기 \\n10주 \\n주말(토) 외국어교육과정 교육생 \\n모집기초부터...   \n",
              "6706  \\n2018년 상반기 FLC \\n외국어교육과정 교육생 모집기초부터 고급까지! 해외연...   \n",
              "6707  \\n2018년 상반기 \\n20주 \\n주간/야간 외국어교육과정 교육생 \\n모집기초부터...   \n",
              "\n",
              "                                        content_cleaned  \n",
              "0     [글로벌]  -  명상 집단상담 ＇금모닝 마음챙김＇ 프로그램 안내학생상담센터에서는 ...  \n",
              "1     심폐소생술 교육일정 안내서울캠퍼스 보건실에서는 교내 구성원의 응급처치 능력을 향상시...  \n",
              "2     EU연구소 인문사회연구사업단, '제 회 바우하우스 콜로키움' 개최EU연구소 인문사회...  \n",
              "3     인도연구소 HK+사업단 제 회 명사초청 특강 안내□한국외국어대학교 인도연구소(소장 ...  \n",
              "4     FBS 외대교육방송국  기 수습국원 추가모집한국외국어대학교FBS외대교육방송국은 년 ...  \n",
              "...                                                 ...  \n",
              "6703  한국외국어대학교 경영대학원(주간․야간․주말)  학년도 전기 신입생 모집요강한국외국어...  \n",
              "6704  대원빌딩 철거공사 입찰 관련 질의 응답대원빌딩 철거공사 입찰과 관련한 질의사항에 대...  \n",
              "6705   년 상반기  주 주말(토) 외국어교육과정 교육생 모집기초부터 고급까지! 해외연수 ...  \n",
              "6706   년 상반기 FLC 외국어교육과정 교육생 모집기초부터 고급까지! 해외연수 그 이상의...  \n",
              "6707   년 상반기  주 주간/야간 외국어교육과정 교육생 모집기초부터 고급까지! 해외연수 ...  \n",
              "\n",
              "[5384 rows x 5 columns]"
            ],
            "text/html": [
              "\n",
              "  <div id=\"df-691a86ee-a3cd-412b-820c-5f58c7f9e5f7\" class=\"colab-df-container\">\n",
              "    <div>\n",
              "<style scoped>\n",
              "    .dataframe tbody tr th:only-of-type {\n",
              "        vertical-align: middle;\n",
              "    }\n",
              "\n",
              "    .dataframe tbody tr th {\n",
              "        vertical-align: top;\n",
              "    }\n",
              "\n",
              "    .dataframe thead th {\n",
              "        text-align: right;\n",
              "    }\n",
              "</style>\n",
              "<table border=\"1\" class=\"dataframe\">\n",
              "  <thead>\n",
              "    <tr style=\"text-align: right;\">\n",
              "      <th></th>\n",
              "      <th>index</th>\n",
              "      <th>date</th>\n",
              "      <th>title</th>\n",
              "      <th>content</th>\n",
              "      <th>content_cleaned</th>\n",
              "    </tr>\n",
              "  </thead>\n",
              "  <tbody>\n",
              "    <tr>\n",
              "      <th>0</th>\n",
              "      <td>4597</td>\n",
              "      <td>2024.03.27</td>\n",
              "      <td>[글로벌] 2024-1 명상 집단상담 ＇금모닝 마음챙김＇ 프로그램 안내</td>\n",
              "      <td>\\n[글로벌] 2024-1 명상 집단상담 ＇금모닝 마음챙김＇ 프로그램 안내\\n\\n학...</td>\n",
              "      <td>[글로벌]  -  명상 집단상담 ＇금모닝 마음챙김＇ 프로그램 안내학생상담센터에서는 ...</td>\n",
              "    </tr>\n",
              "    <tr>\n",
              "      <th>1</th>\n",
              "      <td>4596</td>\n",
              "      <td>2024.03.27</td>\n",
              "      <td>[서울] 보건실 - 심폐소생술 교육일정 안내 (2024.04.29(월) 10시 / ...</td>\n",
              "      <td>\\n심폐소생술 교육일정 안내\\n\\n서울캠퍼스 보건실에서는 교내 구성원의 응급처치 능...</td>\n",
              "      <td>심폐소생술 교육일정 안내서울캠퍼스 보건실에서는 교내 구성원의 응급처치 능력을 향상시...</td>\n",
              "    </tr>\n",
              "    <tr>\n",
              "      <th>2</th>\n",
              "      <td>4595</td>\n",
              "      <td>2024.03.26</td>\n",
              "      <td>EU연구소 인문사회연구사업단, '제5회 바우하우스 콜로키움' 개최</td>\n",
              "      <td>\\nEU연구소 인문사회연구사업단, '제5회 바우하우스 콜로키움' 개최\\n\\n\\nEU...</td>\n",
              "      <td>EU연구소 인문사회연구사업단, '제 회 바우하우스 콜로키움' 개최EU연구소 인문사회...</td>\n",
              "    </tr>\n",
              "    <tr>\n",
              "      <th>3</th>\n",
              "      <td>4594</td>\n",
              "      <td>2024.03.26</td>\n",
              "      <td>인도연구소 HK+사업단 제66회 명사초청 특강 안내</td>\n",
              "      <td>\\n인도연구소 HK+사업단 제66회 명사초청 특강 안내\\n\\n□한국외국어대학교 인도...</td>\n",
              "      <td>인도연구소 HK+사업단 제 회 명사초청 특강 안내□한국외국어대학교 인도연구소(소장 ...</td>\n",
              "    </tr>\n",
              "    <tr>\n",
              "      <th>4</th>\n",
              "      <td>4593</td>\n",
              "      <td>2024.03.25</td>\n",
              "      <td>FBS 외대교육방송국 78기 수습국원 추가모집</td>\n",
              "      <td>\\nFBS 외대교육방송국 78기 수습국원 추가모집\\n\\n한국외국어대학교FBS외대교육...</td>\n",
              "      <td>FBS 외대교육방송국  기 수습국원 추가모집한국외국어대학교FBS외대교육방송국은 년 ...</td>\n",
              "    </tr>\n",
              "    <tr>\n",
              "      <th>...</th>\n",
              "      <td>...</td>\n",
              "      <td>...</td>\n",
              "      <td>...</td>\n",
              "      <td>...</td>\n",
              "      <td>...</td>\n",
              "    </tr>\n",
              "    <tr>\n",
              "      <th>6703</th>\n",
              "      <td>5</td>\n",
              "      <td>2018-01-04</td>\n",
              "      <td>경영대학원(주간․야간․주말) 2018학년도 전기 신입생 모집요강</td>\n",
              "      <td>\\n한국외국어대학교 경영대학원(주간․야간․주말) 2018학년도 전기 신입생 모집요강...</td>\n",
              "      <td>한국외국어대학교 경영대학원(주간․야간․주말)  학년도 전기 신입생 모집요강한국외국어...</td>\n",
              "    </tr>\n",
              "    <tr>\n",
              "      <th>6704</th>\n",
              "      <td>4</td>\n",
              "      <td>2018-01-03</td>\n",
              "      <td>대원빌딩 철거공사 입찰 관련 질의 응답</td>\n",
              "      <td>\\n대원빌딩 철거공사 입찰 관련 질의 응답대원빌딩 철거공사 입찰과 관련한 질의사항에...</td>\n",
              "      <td>대원빌딩 철거공사 입찰 관련 질의 응답대원빌딩 철거공사 입찰과 관련한 질의사항에 대...</td>\n",
              "    </tr>\n",
              "    <tr>\n",
              "      <th>6705</th>\n",
              "      <td>3</td>\n",
              "      <td>2018-01-02</td>\n",
              "      <td>2018년 상반기 10주 주말(토) 외국어교육과정 교육생 모집</td>\n",
              "      <td>\\n2018년 상반기 \\n10주 \\n주말(토) 외국어교육과정 교육생 \\n모집기초부터...</td>\n",
              "      <td>년 상반기  주 주말(토) 외국어교육과정 교육생 모집기초부터 고급까지! 해외연수 ...</td>\n",
              "    </tr>\n",
              "    <tr>\n",
              "      <th>6706</th>\n",
              "      <td>2</td>\n",
              "      <td>2018-01-02</td>\n",
              "      <td>2018년 상반기 FLC 외국어교육과정 교육생 모집</td>\n",
              "      <td>\\n2018년 상반기 FLC \\n외국어교육과정 교육생 모집기초부터 고급까지! 해외연...</td>\n",
              "      <td>년 상반기 FLC 외국어교육과정 교육생 모집기초부터 고급까지! 해외연수 그 이상의...</td>\n",
              "    </tr>\n",
              "    <tr>\n",
              "      <th>6707</th>\n",
              "      <td>1</td>\n",
              "      <td>2018-01-02</td>\n",
              "      <td>2018년 상반기 20주 주간/야간 외국어교육과정 교육생 모집</td>\n",
              "      <td>\\n2018년 상반기 \\n20주 \\n주간/야간 외국어교육과정 교육생 \\n모집기초부터...</td>\n",
              "      <td>년 상반기  주 주간/야간 외국어교육과정 교육생 모집기초부터 고급까지! 해외연수 ...</td>\n",
              "    </tr>\n",
              "  </tbody>\n",
              "</table>\n",
              "<p>5384 rows × 5 columns</p>\n",
              "</div>\n",
              "    <div class=\"colab-df-buttons\">\n",
              "\n",
              "  <div class=\"colab-df-container\">\n",
              "    <button class=\"colab-df-convert\" onclick=\"convertToInteractive('df-691a86ee-a3cd-412b-820c-5f58c7f9e5f7')\"\n",
              "            title=\"Convert this dataframe to an interactive table.\"\n",
              "            style=\"display:none;\">\n",
              "\n",
              "  <svg xmlns=\"http://www.w3.org/2000/svg\" height=\"24px\" viewBox=\"0 -960 960 960\">\n",
              "    <path d=\"M120-120v-720h720v720H120Zm60-500h600v-160H180v160Zm220 220h160v-160H400v160Zm0 220h160v-160H400v160ZM180-400h160v-160H180v160Zm440 0h160v-160H620v160ZM180-180h160v-160H180v160Zm440 0h160v-160H620v160Z\"/>\n",
              "  </svg>\n",
              "    </button>\n",
              "\n",
              "  <style>\n",
              "    .colab-df-container {\n",
              "      display:flex;\n",
              "      gap: 12px;\n",
              "    }\n",
              "\n",
              "    .colab-df-convert {\n",
              "      background-color: #E8F0FE;\n",
              "      border: none;\n",
              "      border-radius: 50%;\n",
              "      cursor: pointer;\n",
              "      display: none;\n",
              "      fill: #1967D2;\n",
              "      height: 32px;\n",
              "      padding: 0 0 0 0;\n",
              "      width: 32px;\n",
              "    }\n",
              "\n",
              "    .colab-df-convert:hover {\n",
              "      background-color: #E2EBFA;\n",
              "      box-shadow: 0px 1px 2px rgba(60, 64, 67, 0.3), 0px 1px 3px 1px rgba(60, 64, 67, 0.15);\n",
              "      fill: #174EA6;\n",
              "    }\n",
              "\n",
              "    .colab-df-buttons div {\n",
              "      margin-bottom: 4px;\n",
              "    }\n",
              "\n",
              "    [theme=dark] .colab-df-convert {\n",
              "      background-color: #3B4455;\n",
              "      fill: #D2E3FC;\n",
              "    }\n",
              "\n",
              "    [theme=dark] .colab-df-convert:hover {\n",
              "      background-color: #434B5C;\n",
              "      box-shadow: 0px 1px 3px 1px rgba(0, 0, 0, 0.15);\n",
              "      filter: drop-shadow(0px 1px 2px rgba(0, 0, 0, 0.3));\n",
              "      fill: #FFFFFF;\n",
              "    }\n",
              "  </style>\n",
              "\n",
              "    <script>\n",
              "      const buttonEl =\n",
              "        document.querySelector('#df-691a86ee-a3cd-412b-820c-5f58c7f9e5f7 button.colab-df-convert');\n",
              "      buttonEl.style.display =\n",
              "        google.colab.kernel.accessAllowed ? 'block' : 'none';\n",
              "\n",
              "      async function convertToInteractive(key) {\n",
              "        const element = document.querySelector('#df-691a86ee-a3cd-412b-820c-5f58c7f9e5f7');\n",
              "        const dataTable =\n",
              "          await google.colab.kernel.invokeFunction('convertToInteractive',\n",
              "                                                    [key], {});\n",
              "        if (!dataTable) return;\n",
              "\n",
              "        const docLinkHtml = 'Like what you see? Visit the ' +\n",
              "          '<a target=\"_blank\" href=https://colab.research.google.com/notebooks/data_table.ipynb>data table notebook</a>'\n",
              "          + ' to learn more about interactive tables.';\n",
              "        element.innerHTML = '';\n",
              "        dataTable['output_type'] = 'display_data';\n",
              "        await google.colab.output.renderOutput(dataTable, element);\n",
              "        const docLink = document.createElement('div');\n",
              "        docLink.innerHTML = docLinkHtml;\n",
              "        element.appendChild(docLink);\n",
              "      }\n",
              "    </script>\n",
              "  </div>\n",
              "\n",
              "\n",
              "<div id=\"df-f75e7c14-e259-41fb-b0e1-be9c48a0058b\">\n",
              "  <button class=\"colab-df-quickchart\" onclick=\"quickchart('df-f75e7c14-e259-41fb-b0e1-be9c48a0058b')\"\n",
              "            title=\"Suggest charts\"\n",
              "            style=\"display:none;\">\n",
              "\n",
              "<svg xmlns=\"http://www.w3.org/2000/svg\" height=\"24px\"viewBox=\"0 0 24 24\"\n",
              "     width=\"24px\">\n",
              "    <g>\n",
              "        <path d=\"M19 3H5c-1.1 0-2 .9-2 2v14c0 1.1.9 2 2 2h14c1.1 0 2-.9 2-2V5c0-1.1-.9-2-2-2zM9 17H7v-7h2v7zm4 0h-2V7h2v10zm4 0h-2v-4h2v4z\"/>\n",
              "    </g>\n",
              "</svg>\n",
              "  </button>\n",
              "\n",
              "<style>\n",
              "  .colab-df-quickchart {\n",
              "      --bg-color: #E8F0FE;\n",
              "      --fill-color: #1967D2;\n",
              "      --hover-bg-color: #E2EBFA;\n",
              "      --hover-fill-color: #174EA6;\n",
              "      --disabled-fill-color: #AAA;\n",
              "      --disabled-bg-color: #DDD;\n",
              "  }\n",
              "\n",
              "  [theme=dark] .colab-df-quickchart {\n",
              "      --bg-color: #3B4455;\n",
              "      --fill-color: #D2E3FC;\n",
              "      --hover-bg-color: #434B5C;\n",
              "      --hover-fill-color: #FFFFFF;\n",
              "      --disabled-bg-color: #3B4455;\n",
              "      --disabled-fill-color: #666;\n",
              "  }\n",
              "\n",
              "  .colab-df-quickchart {\n",
              "    background-color: var(--bg-color);\n",
              "    border: none;\n",
              "    border-radius: 50%;\n",
              "    cursor: pointer;\n",
              "    display: none;\n",
              "    fill: var(--fill-color);\n",
              "    height: 32px;\n",
              "    padding: 0;\n",
              "    width: 32px;\n",
              "  }\n",
              "\n",
              "  .colab-df-quickchart:hover {\n",
              "    background-color: var(--hover-bg-color);\n",
              "    box-shadow: 0 1px 2px rgba(60, 64, 67, 0.3), 0 1px 3px 1px rgba(60, 64, 67, 0.15);\n",
              "    fill: var(--button-hover-fill-color);\n",
              "  }\n",
              "\n",
              "  .colab-df-quickchart-complete:disabled,\n",
              "  .colab-df-quickchart-complete:disabled:hover {\n",
              "    background-color: var(--disabled-bg-color);\n",
              "    fill: var(--disabled-fill-color);\n",
              "    box-shadow: none;\n",
              "  }\n",
              "\n",
              "  .colab-df-spinner {\n",
              "    border: 2px solid var(--fill-color);\n",
              "    border-color: transparent;\n",
              "    border-bottom-color: var(--fill-color);\n",
              "    animation:\n",
              "      spin 1s steps(1) infinite;\n",
              "  }\n",
              "\n",
              "  @keyframes spin {\n",
              "    0% {\n",
              "      border-color: transparent;\n",
              "      border-bottom-color: var(--fill-color);\n",
              "      border-left-color: var(--fill-color);\n",
              "    }\n",
              "    20% {\n",
              "      border-color: transparent;\n",
              "      border-left-color: var(--fill-color);\n",
              "      border-top-color: var(--fill-color);\n",
              "    }\n",
              "    30% {\n",
              "      border-color: transparent;\n",
              "      border-left-color: var(--fill-color);\n",
              "      border-top-color: var(--fill-color);\n",
              "      border-right-color: var(--fill-color);\n",
              "    }\n",
              "    40% {\n",
              "      border-color: transparent;\n",
              "      border-right-color: var(--fill-color);\n",
              "      border-top-color: var(--fill-color);\n",
              "    }\n",
              "    60% {\n",
              "      border-color: transparent;\n",
              "      border-right-color: var(--fill-color);\n",
              "    }\n",
              "    80% {\n",
              "      border-color: transparent;\n",
              "      border-right-color: var(--fill-color);\n",
              "      border-bottom-color: var(--fill-color);\n",
              "    }\n",
              "    90% {\n",
              "      border-color: transparent;\n",
              "      border-bottom-color: var(--fill-color);\n",
              "    }\n",
              "  }\n",
              "</style>\n",
              "\n",
              "  <script>\n",
              "    async function quickchart(key) {\n",
              "      const quickchartButtonEl =\n",
              "        document.querySelector('#' + key + ' button');\n",
              "      quickchartButtonEl.disabled = true;  // To prevent multiple clicks.\n",
              "      quickchartButtonEl.classList.add('colab-df-spinner');\n",
              "      try {\n",
              "        const charts = await google.colab.kernel.invokeFunction(\n",
              "            'suggestCharts', [key], {});\n",
              "      } catch (error) {\n",
              "        console.error('Error during call to suggestCharts:', error);\n",
              "      }\n",
              "      quickchartButtonEl.classList.remove('colab-df-spinner');\n",
              "      quickchartButtonEl.classList.add('colab-df-quickchart-complete');\n",
              "    }\n",
              "    (() => {\n",
              "      let quickchartButtonEl =\n",
              "        document.querySelector('#df-f75e7c14-e259-41fb-b0e1-be9c48a0058b button');\n",
              "      quickchartButtonEl.style.display =\n",
              "        google.colab.kernel.accessAllowed ? 'block' : 'none';\n",
              "    })();\n",
              "  </script>\n",
              "</div>\n",
              "\n",
              "  <div id=\"id_624b5730-9af6-41d5-a8a9-196195444097\">\n",
              "    <style>\n",
              "      .colab-df-generate {\n",
              "        background-color: #E8F0FE;\n",
              "        border: none;\n",
              "        border-radius: 50%;\n",
              "        cursor: pointer;\n",
              "        display: none;\n",
              "        fill: #1967D2;\n",
              "        height: 32px;\n",
              "        padding: 0 0 0 0;\n",
              "        width: 32px;\n",
              "      }\n",
              "\n",
              "      .colab-df-generate:hover {\n",
              "        background-color: #E2EBFA;\n",
              "        box-shadow: 0px 1px 2px rgba(60, 64, 67, 0.3), 0px 1px 3px 1px rgba(60, 64, 67, 0.15);\n",
              "        fill: #174EA6;\n",
              "      }\n",
              "\n",
              "      [theme=dark] .colab-df-generate {\n",
              "        background-color: #3B4455;\n",
              "        fill: #D2E3FC;\n",
              "      }\n",
              "\n",
              "      [theme=dark] .colab-df-generate:hover {\n",
              "        background-color: #434B5C;\n",
              "        box-shadow: 0px 1px 3px 1px rgba(0, 0, 0, 0.15);\n",
              "        filter: drop-shadow(0px 1px 2px rgba(0, 0, 0, 0.3));\n",
              "        fill: #FFFFFF;\n",
              "      }\n",
              "    </style>\n",
              "    <button class=\"colab-df-generate\" onclick=\"generateWithVariable('gongji_filtered')\"\n",
              "            title=\"Generate code using this dataframe.\"\n",
              "            style=\"display:none;\">\n",
              "\n",
              "  <svg xmlns=\"http://www.w3.org/2000/svg\" height=\"24px\"viewBox=\"0 0 24 24\"\n",
              "       width=\"24px\">\n",
              "    <path d=\"M7,19H8.4L18.45,9,17,7.55,7,17.6ZM5,21V16.75L18.45,3.32a2,2,0,0,1,2.83,0l1.4,1.43a1.91,1.91,0,0,1,.58,1.4,1.91,1.91,0,0,1-.58,1.4L9.25,21ZM18.45,9,17,7.55Zm-12,3A5.31,5.31,0,0,0,4.9,8.1,5.31,5.31,0,0,0,1,6.5,5.31,5.31,0,0,0,4.9,4.9,5.31,5.31,0,0,0,6.5,1,5.31,5.31,0,0,0,8.1,4.9,5.31,5.31,0,0,0,12,6.5,5.46,5.46,0,0,0,6.5,12Z\"/>\n",
              "  </svg>\n",
              "    </button>\n",
              "    <script>\n",
              "      (() => {\n",
              "      const buttonEl =\n",
              "        document.querySelector('#id_624b5730-9af6-41d5-a8a9-196195444097 button.colab-df-generate');\n",
              "      buttonEl.style.display =\n",
              "        google.colab.kernel.accessAllowed ? 'block' : 'none';\n",
              "\n",
              "      buttonEl.onclick = () => {\n",
              "        google.colab.notebook.generateWithVariable('gongji_filtered');\n",
              "      }\n",
              "      })();\n",
              "    </script>\n",
              "  </div>\n",
              "\n",
              "    </div>\n",
              "  </div>\n"
            ],
            "application/vnd.google.colaboratory.intrinsic+json": {
              "type": "dataframe",
              "variable_name": "gongji_filtered",
              "summary": "{\n  \"name\": \"gongji_filtered\",\n  \"rows\": 5384,\n  \"fields\": [\n    {\n      \"column\": \"index\",\n      \"properties\": {\n        \"dtype\": \"number\",\n        \"std\": 1368,\n        \"min\": 1,\n        \"max\": 4597,\n        \"num_unique_values\": 3549,\n        \"samples\": [\n          4297,\n          1000,\n          469\n        ],\n        \"semantic_type\": \"\",\n        \"description\": \"\"\n      }\n    },\n    {\n      \"column\": \"date\",\n      \"properties\": {\n        \"dtype\": \"category\",\n        \"num_unique_values\": 1935,\n        \"samples\": [\n          \"2021.05.18\",\n          \"2019.10.21\",\n          \"2019.10.11\"\n        ],\n        \"semantic_type\": \"\",\n        \"description\": \"\"\n      }\n    },\n    {\n      \"column\": \"title\",\n      \"properties\": {\n        \"dtype\": \"string\",\n        \"num_unique_values\": 3223,\n        \"samples\": [\n          \"[\\uc11c\\uc6b8] \\ubcf4\\uac74\\uc2e4 - 8\\uc6d4 \\uad50\\uc9c1\\uc6d0 \\uc2ec\\ud3d0\\uc18c\\uc0dd\\uc220 \\uad50\\uc721\\uc77c\\uc815\\uc548\\ub0b4\",\n          \"2023\\ud559\\ub144\\ub3c4 2\\ud559\\uae30 \\uc804\\ub7b5\\uc9c0\\uc5ed\\uc804\\ubb38\\uac00 \\uc544\\ub108\\uc2a4\\ud504\\ub85c\\uadf8\\ub7a8 \\ubaa8\\uc9d1 \\uc548\\ub0b4\",\n          \"\\uacbd\\uc601\\ub300\\ud559\\uc6d0 2023\\ub144 \\uc804\\uae30 \\ud2b9\\ubcc4\\uc804\\ud6151 \\ubaa8\\uc9d1\\uc694\\uac15\"\n        ],\n        \"semantic_type\": \"\",\n        \"description\": \"\"\n      }\n    },\n    {\n      \"column\": \"content\",\n      \"properties\": {\n        \"dtype\": \"string\",\n        \"num_unique_values\": 4134,\n        \"samples\": [\n          \"\\n\\uad50\\uc721\\ub300\\ud559\\uc6d0 2019 \\uc804\\uae30 \\uc2e0\\uc785\\uc0dd \\ubaa8\\uc9d1 \\uc548\\ub0b4\\ud55c\\uad6d\\uc678\\uad6d\\uc5b4\\ub300\\ud559\\uad50 \\uad50\\uc721\\ub300\\ud559\\uc6d02019\\ud559\\ub144\\ub3c4 \\uc804\\uae30\\uc2e0\\uc785\\uc0dd \\ubaa8\\uc9d1 \\u25b7 \\uc9c0\\uc6d0\\uc790 \\uc5ec\\ub7ec\\ubd84\\uc758 \\ud3b8\\uc758\\ub97c \\uc704\\ud574 10\\uc6d4 18\\uc77c(\\ubaa9) \\uc624\\ud6c4 2\\uc2dc30\\ubd84\\ubd80\\ud130 \\uc785\\ud559\\uc9c0\\uc6d0\\uc11c \\uc778\\ud130\\ub137 \\uc791\\uc131 \\ubc0f \\uc11c\\ub958 \\uc811\\uc218\\ub97c \\uc2dc\\uc791\\ud569\\ub2c8\\ub2e4! \\u25c6 \\uc804\\ud615 \\uc77c\\uc815 \\u203b\\uc11c\\ub958\\uc2ec\\uc0ac \\ubc0f \\uba74\\uc811\\uace0\\uc0ac\\uad6c \\ubd84\\uae30 \\uac04\\uc7a5 \\uc18c\\ube44 \\uace0\\uc785\\ud559\\uc9c0\\uc6d0\\uc11c \\uc791\\uc131\\ubc0f \\uc11c\\ub958 \\uc81c\\ucd9c2018. 10. 29(\\uc6d4) 14:30 ~ 11. 2(\\uae08) 21:30-\\uc720\\uc6e8\\uc774\\uc5b4\\ud50c\\ub77c\\uc774 \\uc6d0\\uc11c\\uc811\\uc218-\\uad50\\uc721\\ub300\\ud559\\uc6d0 \\uad50\\ud559\\ucc98-\\uae30\\uac04 \\uc911 \\uc778\\ud130\\ub137 24\\uc2dc\\uac04 \\uc791\\uc131-\\uc6b0\\ud3b8\\uc81c\\ucd9c : 11. 2(\\uae08) 17:00\\uae4c\\uc9c0 \\ub3c4\\ucc29\\uba74\\uc811 \\uace0\\uc0ac2018. 11. 17(\\ud1a0)-\\ubcf8\\uad50 \\ub300\\ud559\\uc6d0\\uac74\\ubb3c-\\uba74\\uc811\\uc2dc\\uac04\\uc740 11. 16(\\uae08) 16:00 \\uc774\\ud6c4\\uc5d0\\uad50\\uc721\\ub300\\ud559\\uc6d0 \\ud648\\ud398\\uc774\\uc9c0 \\uc785\\uc2dc\\ub274\\uc2a4\\uc5d0 \\uacf5\\uc9c0\\ud568.\\ud569\\uaca9\\uc790 \\ubc1c\\ud45c2018. 12. 6(\\ubaa9)16:00 \\uc608\\uc815\\uad50\\uc721\\ub300\\ud559\\uc6d0 \\ud648\\ud398\\uc774\\uc9c0 (gse.hufs.ac.kr) \\uacf5\\uc9c0-\\ucd94\\uac00\\ud569\\uaca9 \\uad00\\ub828 \\uc548\\ub0b4\\ub294 <\\ud569\\uaca9\\uc790 \\ubc1c\\ud45c> \\uacf5\\uc9c0\\uc5d0 \\ud3ec\\ud568\\ub428.\\u25b7 \\uc878\\uc5c5\\uc99d\\uba85\\uc11c, \\uc131\\uc801\\uc99d\\uba85\\uc11c \\ub4f1 \\ubaa8\\ub4e0 \\uc11c\\ub958\\ub294 3\\uac1c\\uc6d4 \\uc548 \\ubc1c\\uae09\\ubd84\\ub9cc \\uac00\\ub2a5\\ud568.(\\ubaa8\\uc9d1\\uc694\\uac15 \\ucc38\\uace0)\\u25c6 \\ubaa8\\uc9d1 \\uc804\\uacf5 \\ubc0f \\uc778\\uc6d0\\n\\ubaa8\\uc9d1\\uacfc\\uc815\\ubaa8\\uc9d1 \\uc804\\uacf5\\ubaa8\\uc9d1\\uc778\\uc6d0\\uad50\\uc721\\ud559\\uc11d\\uc0ac(\\uc57c\\uac04)\\u2022\\uad6d\\uc5b4\\uad50\\uc721 \\u2022\\uc601\\uc5b4\\uad50\\uc721\\u2022\\uc5b4\\ub9b0\\uc774\\uc601\\uc5b4\\uad50\\uc721\\u2022\\uc2a4\\ud398\\uc778\\uc5b4\\uad50\\uc721  \\u2022\\uc77c\\ubcf8\\uc5b4\\uad50\\uc721  \\u2022\\uc911\\uad6d\\uc5b4\\uad50\\uc721\\u2022\\ub2e4\\ubb38\\ud654\\uad50\\uc721  \\u2022\\uc5ed\\uc0ac\\uad50\\uc721 \\u2022\\uc77c\\ubc18\\uc0ac\\ud68c\\uad50\\uc721 \\u2022\\uc218\\ud559\\uad50\\uc721  \\u2022\\ucef4\\ud4e8\\ud130\\uad50\\uc721\\u2022\\uad50\\uc721\\uacbd\\uc601\\uacfc \\ub9ac\\ub354\\uc2ed \\u2022\\uc0c1\\ub2f4\\uc2ec\\ub9ac \\u2022\\uc720\\uc544\\uad50\\uc721 \\u2022\\ub3c5\\uc11c\\ub17c\\uc220\\uad50\\uc721 \\u2022\\ucc3d\\uc758\\uc735\\ud569\\uc778\\uc7ac\\uad50\\uc721\\u25cb\\u25cb\\u25cb\\uba85\\u25cb \\uc785 \\ud559 \\ubb38 \\uc758 : \\uad50\\uc721\\ub300\\ud559\\uc6d0 \\uad50\\ud559\\ucc98 \\uc785\\ud559\\ub2f4\\ub2f9\\uad00 TEL 02)2173-2419~2421 FAX 02)2173-3358\\u25cb \\uc8fc  \\uc18c : 02450 \\uc11c\\uc6b8\\ud2b9\\ubcc4\\uc2dc \\ub3d9\\ub300\\ubb38\\uad6c \\uc774\\ubb38\\ub85c 107 \\ud55c\\uad6d\\uc678\\uad6d\\uc5b4\\ub300\\ud559\\uad50 \\ub300\\ud559\\uc6d0\\uac74\\ubb3c 1\\uce35 111\\ud638\\uc2e4  \\u25cb \\ucc3e\\uc544\\uc624\\ub294 \\uae38 : \\uc9c0\\ud558\\ucca0 1\\ud638\\uc120 \\uc678\\ub300\\uc55e\\uc5ed(1\\ubc88 \\ucd9c\\uad6c) \\uac78\\uc5b4\\uc11c 5\\ubd84 \\uac70\\ub9ac\\ud55c\\uad6d\\uc678\\uad6d\\uc5b4\\ub300\\ud559\\uad50 \\uad50\\uc721\\ub300\\ud559\\uc6d0\\u261e\\uc790\\uc138\\ud55c \\uc0ac\\ud56d\\uc740 \\ucca8\\ubd80\\ud55c \\ubaa8\\uc9d1\\uc694\\uac15 \\ub9ac\\ud50c\\ub9bf\\uc5d0\\uc11c \\ud655\\uc778\\ud558\\uc2dc\\uae30 \\ubc14\\ub78d\\ub2c8\\ub2e4. \\ucca8\\ubd80 : \\ubaa8\\uc9d1\\uc694\\uac15, \\uc5f0\\uad6c\\uacc4\\ud68d\\uc11c(\\uc11c\\uc2dd), \\ud559\\ub825\\uc870\\ud68c\\ub3d9\\uc758\\uc11c(\\uc11c\\uc2dd) \\uac01 1\\ubd80.\\n\",\n          \"\\n2021 \\ud130\\ud0a4-\\uc544\\uc81c\\ub974\\ubc14\\uc774\\uc794\\uc5b4\\uacfc \\uff07\\uc81c 3\\ud68c \\ud130\\ud0a4 \\ub9d0\\ud558\\uae30 \\ub300\\ud68c\\uff07 \\uac1c\\ucd5c-\\uc720\\ub204\\uc2a4 \\uc5e0\\ub808 \\uc778\\uc2a4\\ud2f0\\ud29c\\ud2b8 \\ud130\\ud0a4\\ubb38\\ud654\\uc6d0, \\ud55c\\uad6d\\uc678\\ub300 \\ud130\\ud0a4-\\uc544\\uc81c\\ub974\\ubc14\\uc774\\uc794\\uc5b4\\uacfc, \\ubd80\\uc0b0\\uc678\\ub300 \\uc9c0\\uc911\\ud574\\uc9c0\\uc5ed\\uc6d0, \\ud2b9\\uc218\\uc678\\uad6d\\uc5b4\\uad50\\uc721\\uc6d0 \\uacf5\\ub3d9\\uc8fc\\ucd5c-                                \\n\\nYunus Emre Enstit\\u00fcs\\u00fc, Critical Foreign Languages (CFL) ve Akdeniz Ara\\u015ft\\u0131rmalar\\u0131 Enstit\\u00fcs\\u00fc i\\u015f birli\\u011fi ile \\u00e7evrim i\\u00e7i olarak d\\u00fczenlenecek \\\"G\\u00fcney Kore 3. Ulusal T\\u00fcrk\\u00e7e Konu\\u015fma Yar\\u0131\\u015fmas\\u0131\\\"n\\u0131 te\\u015friflerinizden onur duyar\\u0131z.\\n\\uc720\\ub204\\uc2a4\\uc5e0\\ub808 \\uc778\\uc2a4\\ud2f0\\ud29c\\ud2b8 \\ud130\\ud0a4\\ubb38\\ud654\\uc6d0\\uacfc \\ud2b9\\uc218\\uc678\\uad6d\\uc5b4\\uad50\\uc721\\uc9c4\\ud765\\uc6d0, \\uc9c0\\uc911\\ud574\\uc9c0\\uc5ed\\uc6d0\\uc774 \\uc8fc\\ucd5c\\ud55c \\\"\\uc81c3\\ud68c \\ud130\\ud0a4\\uc5b4 \\ub9d0\\ud558\\uae30 \\ub300\\ud68c\\uac00 12\\uc6d4 3\\uc77c \\uae08\\uc694\\uc77c\\uc5d0 \\uac1c\\ucd5c\\ub429\\ub2c8\\ub2e4.\\nTarih- \\ub0a0\\uc9dc: 2021.12.03 (17:00-19:00)\\n\\n\\ub9ce\\uc740 \\uad00\\uc2ec\\uacfc \\ucc38\\uc5ec \\ubd80\\ud0c1\\ub4dc\\ub9bd\\ub2c8\\ub2e4.\\n\\n\",\n          \"\\n2019-1 \\ud559\\uc0dd\\uc0c1\\ub2f4\\uc13c\\ud130 \\ubbf8\\uc220\\uce58\\ub8cc \\ud504\\ub85c\\uadf8\\ub7a8 \\uc548\\ub0b4\\n\\n \\n2019. 4.\\uae00\\ub85c\\ubc8c \\ud559\\uc0dd\\uc0c1\\ub2f4\\uc13c\\ud130\\n\"\n        ],\n        \"semantic_type\": \"\",\n        \"description\": \"\"\n      }\n    },\n    {\n      \"column\": \"content_cleaned\",\n      \"properties\": {\n        \"dtype\": \"string\",\n        \"num_unique_values\": 4057,\n        \"samples\": [\n          \"\\uc2e4\\ud06c\\ub85c\\ub4dc\\uc758 \\uad00\\ubb38 \\ub454\\ud669\\uacfc \\ub454\\ud669\\ubb38\\uc11c\\uc77c\\uc2dc:  .  .  . (\\uc77c) \\uc800\\ub141  \\uc2dc\\uc7a5\\uc18c: \\uc90c (zoom) \\ud654\\uc0c1\\ud68c\\uc758 \\uc2dc\\uc2a4\\ud15c      url\\uc8fc\\uc18c\\ub294 \\uc0c1\\ub2e8 \\uc624\\ud508\\ucc44\\ud305\\ubc29\\uc5d0 \\ud654\\uc0c1 \\uc138\\ubbf8\\ub098  \\uc2dc\\uac04 \\uc804 \\uacf5\\uc9c0\\ub429\\ub2c8\\ub2e4.\\uc0ac\\ud68c: \\ubc15\\uc6d0\\ubaa8 (\\uc720\\ub124\\uc2a4\\ucf54 \\uc544\\ud0dc\\ubb34\\ud615\\uc720\\uc0b0\\uc13c\\ud130 \\ud611\\ub825\\ub124\\ud2b8\\uc6cc\\ud06c \\uc2e4\\uc7a5)\\ubc1c\\ud45c: \\uae40\\uc0c1\\ubc94 (\\ud55c\\uad6d\\uc678\\ub300 \\uc0ac\\ud559\\uacfc \\uad50\\uc218)\\ud1a0\\ub860: \\uc815\\uc77c\\uad50 (\\uacbd\\uae30\\ub300 \\uc0ac\\ud559\\uacfc \\uad50\\uc218)\\ud2b9\\ubcc4\\ucd08\\ub300\\uc11d\\ubc15\\uc0c1\\ubb35 (\\uc720\\ub124\\uc2a4\\ucf54 \\uc544\\ud0dc\\ubb34\\ud615\\uc720\\uc0b0\\uc13c\\ud130 \\uc120\\uc784\\uc804\\ubb38\\uad00): \\uc2e4\\ud06c\\ub85c\\ub4dc\\uc640 \\uc544\\uc2dc\\uc544 \\ubb34\\ud615\\uc720\\uc0b0\\uc758 \\uc735\\ud569\\uc801 \\ud65c\\uc6a9\\uc5d0 \\ub300\\ud574\\uc870\\uba85\\ub300 (\\ud55c\\uad6d\\uc678\\ub300 \\ub300\\ud559\\uc6d0 \\uc815\\ubcf4\\u00b7\\uae30\\ub85d\\ud559\\uacfc \\uacb8\\uc784\\uad50\\uc218): \\uc2e4\\ud06c\\ub85c\\ub4dc\\uc640 \\uc0c1\\ud638\\ubb38\\ud654 \\uc2dc\\uba58\\ud2f1 \\ub514\\uc9c0\\ud138 \\uc544\\uce74\\uc774\\ube0c\\uc5d0 \\ub300\\ud574\\ubb38\\uc758: \\uc870\\ubbfc\\uc9c0 (\\ud55c\\uad6d\\uc678\\ub300 \\uc815\\ubcf4\\u00b7\\uae30\\ub85d\\ud559\\uc5f0\\uad6c\\uc18c \\ucc45\\uc784\\uc5f0\\uad6c\\uc6d0)     - - \\uc2dc\\uc791  \\ubd84 \\uc804\\uc778  \\uc2dc  \\ubd84\\ubd80\\ud130 \\uc785\\uc7a5\\ud558\\uc2e4 \\uc218 \\uc788\\ub3c4\\ub85d \\uc608\\uc57d\\ub418\\uc5b4 \\uc788\\uc2b5\\ub2c8\\ub2e4.\\ud55c\\uad6d\\uae30\\ub85d\\uacfc\\uc815\\ubcf4 \\u00b7 \\ubb38\\ud654\\ud559\\ud68c/ \\ud55c\\uad6d\\uc678\\ub300 \\uc815\\ubcf4\\u00b7\\uae30\\ub85d\\ud559\\uc5f0\\uad6c\\uc18c \\uacf5\\ub3d9\\uc138\\ubbf8\\ub098\\uc2e4\\ud06c\\ub85c\\ub4dc\\uc758 \\uad00\\ubb38 \\ub454\\ud669\\uacfc \\ub454\\ud669\\ubb38\\uc11c .  .  . (\\uc77c) \\uc800\\ub141  \\uc2dc / ZOOM\\uc0ac\\ud68c: \\ubc15\\uc6d0\\ubaa8 (\\uc720\\ub124\\uc2a4\\ucf54 \\uc544\\ud0dc\\ubb34\\ud615\\uc720\\uc0b0\\uc13c\\ud130 \\ud611\\ub825\\ub124\\ud2b8\\uc6cc\\ud06c \\uc2e4\\uc7a5) \\ubc1c\\ud45c: \\uae40\\uc0c1\\ubc94 (\\ud55c\\uad6d\\uc678\\ub300 \\uc0ac\\ud559\\uacfc \\uad50\\uc218)\\ud1a0\\ub860: \\uc815\\uc77c\\uad50(\\uacbd\\uae30\\ub300 \\uc0ac\\ud559\\uacfc \\uad50\\uc218)\\ud2b9\\ubcc4\\ucd08\\ub300\\uc11d\\ubc15\\uc0c1\\ubb35 (\\uc720\\ub124\\uc2a4\\ucf54 \\uc544\\ud0dc\\ubb34\\ud615\\uc720\\uc0b0\\uc13c\\ud130 \\uc120\\uc784\\uc804\\ubb38\\uad00) : \\uc2e4\\ud06c\\ub85c\\ub4dc\\uc640 \\uc544\\uc2dc\\uc544 \\ubb34\\ud615\\uc720\\uc0b0\\uc758 \\uc735\\ud569\\uc801 \\ud65c\\uc6a9\\uc5d0 \\ub300\\ud574\\uc870\\uba85\\ub300 (\\ud55c\\uad6d\\uc678\\ub300 \\ub300\\ud559\\uc6d0 \\uc815\\ubcf4\\u00b7\\uae30\\ub85d\\ud559\\uacfc \\uacb8\\uc784\\uad50\\uc218) : \\uc2e4\\ud06c\\ub85c\\ub4dc\\uc640 \\uc0c1\\ud638\\ubb38\\ud654 \\uc2dc\\uba58\\ud2f1 \\ub514\\uc9c0\\ud138 \\uc544\\uce74\\uc774\\ube0c\\uc5d0 \\ub300\\ud574\\ubb38\\uc758: \\uc870\\ubbfc\\uc9c0 (\\ud55c\\uad6d\\uc678\\ub300 \\uc815\\ubcf4\\u00b7\\uae30\\ub85d\\ud559\\uc5f0\\uad6c\\uc18c \\ucc45\\uc784\\uc5f0\\uad6c\\uc6d0) \",\n          \"\\ud55c\\uad6d\\ub300\\ud559\\uc0ac\\ud68c\\ubd09\\uc0ac\\ud611\\uc758\\ud68c  \\uae30 \\uc6d4\\ub4dc\\ud504\\ub80c\\uc988 \\uccad\\ub144 \\uc911\\uae30\\ubd09\\uc0ac\\ub2e8 \\ubaa8\\uc9d1  \\uc544\\ub798\\uc640 \\uac19\\uc774 \\ud55c\\uad6d\\ub300\\ud559\\uc0ac\\ud68c\\ubd09\\uc0ac\\ud611\\uc758\\ud68c  \\uae30 \\uc6d4\\ub4dc\\ud504\\ub80c\\uc988 \\uccad\\ub144 \\uc911\\uae30\\ubd09\\uc0ac\\ub2e8 \\ubaa8\\uc9d1 \\uc548\\ub0b4\\ub97c \\ud558\\uc624\\ub2c8 \\uad00\\uc2ec \\uc788\\ub294 \\uc678\\ub300 \\ud559\\uc0dd\\ub4e4\\uc758 \\ub9ce\\uc740 \\uc9c0\\uc6d0 \\ubc14\\ub78d\\ub2c8\\ub2e4.     . \\uc9c0\\uc6d0\\uc790\\uaca9 : \\ubd99\\uc784 \\ubaa8\\uc9d1\\uc694\\uac15 \\ucc38\\uc870  . \\uc9c0\\uc6d0\\uae30\\uac04 :  .  .  (\\ud654) \\uc624\\ud6c4  \\uc2dc\\uae4c\\uc9c0* \\ub300\\uc0ac\\ud611 \\ud648\\ud398\\uc774\\uc9c0 \\uc628\\ub77c\\uc778 \\uc9c0\\uc6d0\\uc740  .  .  (\\ubaa9)\\uae4c\\uc9c0\\uc774\\ub098,  \\uae00\\ub85c\\ubc8c\\ucea0\\ud37c\\uc2a4 \\uc9c0\\uc6d0\\uc790 \\uc911 \\ud559\\uad50\\uc758 \\ucd94\\ucc9c\\uc744 \\ud76c\\ub9dd\\ud558\\ub294 \\uacbd\\uc6b0   .  .  (\\uc218) \\uc608\\uc815\\ub41c \\uc6b0\\ub9ac \\ub300\\ud559 \\uba74\\uc811 \\uc804\\uae4c\\uc9c0 \\uc628\\ub77c\\uc778 \\uc9c0\\uc6d0\\uc744 \\ub9c8\\uac10\\ud574\\uc57c \\ud568.   . \\uc9c0\\uc6d0\\uc11c \\uc791\\uc131 \\ubc0f \\uae30\\ud0c0 : \\ubd99\\uc784\\ubaa8\\uc9d1\\uc694\\uac15 \\ucc38\\uc870  . \\ubb38\\uc758 : \\ub300\\uc0ac\\ud611 \\uc911\\uae30\\ud574\\uc678\\uc0ac\\uc5c5\\uacfc ( \\ub0b4\\uc120  ,  ,  )\\uae00\\ub85c\\ubc8c\\ucea0\\ud37c\\uc2a4 \\ud559\\uc0dd\\uc9c0\\uc6d0\\ud300   \\ubd99 \\uc784  . \\ubaa8\\uc9d1\\uc548\\ub0b4\\uc11c(\\uc9c0\\uc6d0\\uc790\\uc6a9)  \\ubd80. . \\ud30c\\uacac\\uae30\\uad00 \\ubc0f \\ud65c\\ub3d9\\ub0b4\\uc6a9 \\uc548\\ub0b4  \\ubd80. \\ub05d.  .  \\ud559\\uc0dd\\uc9c0\\uc6d0\\ud300 \",\n          \"[\\uc9c4\\ub85c\\ucde8\\uc5c5] aT \\ub18d\\uc218\\uc0b0\\uc2dd\\ud488\\uc720\\ud1b5\\uacf5\\uc0ac  \\ub144 \\uccad\\ub144\\ud574\\uc678\\uac1c\\ucc99\\ub2e8 \\uc778\\ud134 \\ubaa8\\uc9d1 .  \\uc9c4\\ub85c\\ucde8\\uc5c5\\uc9c0\\uc6d0\\uc13c\\ud130  \\ub18d\\uc2dd\\ud488 \\uccad\\ub144 \\ud574\\uc678\\uac1c\\ucc99\\ub2e8 AFLO \\uc120\\ubc1c \\uacf5\\uace0\\ubb38AFLO \\ub18d\\uc2dd\\ud488 \\uccad\\ub144 \\ud574\\uc678\\uac1c\\ucc99\\ub2e8\\ubbf8\\uac1c\\ucc99 \\uc2dc\\uc7a5\\uc744 \\uccad\\ub144\\uc774 \\uc55e\\uc5d0\\uc11c \\uc120\\ub3c4\\ud574 \\ub098\\uac00\\ub294 \\uc758\\ubbf8 AFLO ( , Agrifood Frontier Leader Organization)\\uc5f4\\uc815\\uacfc \\uc5ed\\ub7c9 \\uc788\\ub294 \\uccad\\ub144\\ub4e4\\uc744 \\ub18d\\uc2dd\\ud488 \\uc218\\ucd9c \\uc804\\ubb38\\uc778\\ub825\\uc73c\\ub85c \\uc591\\uc131\\ud558\\uae30 \\uc704\\ud558\\uc5ec \\ub18d\\uc2dd\\ud488\\ubd80\\uc640 aT(\\ud55c\\uad6d\\ub18d\\uc218\\uc0b0\\uc2dd\\ud488\\uc720\\ud1b5\\uacf5\\uc0ac)\\uc5d0\\uc11c \\uc6b4\\uc601\\ud558\\ub294 \\ud504\\ub85c\\uadf8\\ub7a8\\uc6b0\\ub9ac \\ub18d\\uc2dd\\ud488 \\uc218\\ucd9c\\uc2dc\\uc7a5\\ub2e4\\ubcc0\\ud654\\ub97c \\uc704\\ud55c \\uc804\\ub7b5\\uad6d\\uac00\\uc5d0 aT\\uc9c1\\uc6d0\\uacfc \\ud30c\\uacac, \\ub18d\\uc2dd\\ud488 \\uc218\\ucd9c\\uc758 \\uc0c8\\ub85c\\uc6b4 \\ub3d9\\ub825\\uc744 \\ubc1c\\uad74\\ud558\\ub294 \\ud604\\uc9c0 \\uac1c\\ucc99\\uc694\\uc6d0\\uc73c\\ub85c \\ud65c\\ub3d9\\ud558\\ub294 \\uc0ac\\uc5c5\\uc9c0\\uc6d0\\uc790\\uaca9\\ud559\\ub825 \\uc81c\\ud55c \\uc5c6\\uc74c\\uc5f0\\ub839 \\ub9cc  \\uc138 \\uc774\\ud558\\uc778 \\uc790 ( \\ub144  \\uc6d4  \\uc77c \\uc774\\ud6c4 \\ucd9c\\uc0dd\\uc790)\\uc678\\uad6d\\uc5b4 \\uc678\\uad6d\\uc5b4(\\ud1a0\\uc775)  \\uc810 \\uc774\\uc0c1\\uc774\\uac70\\ub098 \\ub3d9 \\uc810\\uc218\\uc5d0 \\uc900\\ud55c \\uc790\\uaca9 \\ubcf4\\uc720\\uc790\\u203b \\uc810\\uc218\\uc778\\uc815\\uae30\\uc900: \\ud1a0\\ud50c( \\uc810), \\ud15d\\uc2a4( \\uc810), \\ud1a0\\uc775\\uc2a4\\ud53c\\ud0b9( \\uc810), OPIC(IM )\\uc751\\uc2dc\\uc81c\\ud55c\\ube44\\uc790 \\ucde8\\ub4dd \\ubc0f \\ud574\\uc678\\uc5ec\\ud589\\uc5d0 \\uacb0\\uaca9 \\uc0ac\\uc720\\uac00 \\uc5c6\\ub294 \\uc790, \\ud30c\\uacac\\uc77c \\uae30\\uc900 \\uace0\\uc6a9\\ubcf4\\ud5d8 \\uac00\\uc785 \\uc911\\uc774 \\uc544\\ub2cc \\uc790, \\ud30c\\uacac \\uae30\\uac04 \\ub0b4 \\uc815\\ubd80 \\ud574\\uc678\\uc778\\ud134\\uc0ac\\uc5c5 \\ucc38\\uc5ec \\uc911\\uc5d0 \\uc788\\uc9c0 \\uc54a\\uc740 \\uc790\\uc120\\ubc1c\\uac1c\\uc694 \\u203b \\ud558\\ubc18\\uae30 \\uccad\\ub144\\ud574\\uc678\\uac1c\\ucc99\\ub2e8( \\uae30)\\ub294 \\ud5a5\\ud6c4 \\ubcc4\\ub3c4 \\uacf5\\uace0 \\uc608\\uc815\\uccad\\ub144\\ud574\\uc678\\uac1c\\ucc99\\ub2e8  \\uae30[\\uc6b4\\uc601\\uae30\\uac04] ' . \\uc6d4 ~  \\uc6d4 ( \\uac1c\\uc6d4)\\uad50\\uc721( \\uc6d4), \\ud30c\\uacac( ~ \\uc6d4/ \\uac1c\\uc6d4)[\\uc120\\ubc1c\\uc778\\uc6d0]  \\uba85\\uccad\\ub144\\ud574\\uc678\\uac1c\\ucc99\\ub2e8  \\uae30[\\uc6b4\\uc601\\uae30\\uac04]  . \\uc6d4~ \\uc6d4 ( \\uac1c\\uc6d4) \\uad50\\uc721( \\uc6d4), \\ud30c\\uacac( ~ \\uc6d4/ \\uac1c\\uc6d4)[\\uc120\\ubc1c\\uc778\\uc6d0]  \\uba85|\\uc120\\ubc1c\\uc9c0\\uc5ed \\u203b aT \\uc0ac\\uc5c5 \\uc0c1\\ud669, \\uc9c0\\uc6d0\\ud604\\ud669 \\ub4f1\\uc5d0 \\ub530\\ub77c \\ud30c\\uacac\\uc778\\uc6d0, \\uad6d\\uac00 \\ubc0f \\uc120\\ubc1c \\uc778\\uc6d0 \\uc870\\uc815 \\uac00\\ub2a5\\uadfc\\ubb34\\ucc98\\ub9d0\\ub808\\uc774\\uc2dc\\uc544,  \\uba85, aT \\ucfe0\\uc54c\\ub77c\\ub8f8\\ud478\\ub974 \\uc0ac\\ubb34\\uc18c, \\ube44\\uc988\\ub2c8\\uc2a4 \\uc601\\uc5b4\\ud68c\\ud654 \\uac00\\ub2a5\\uc790 \\uc6b0\\ub300\\ub300\\ub9cc,  \\uba85, aT \\ud0c0\\uc774\\ubca0\\uc774 \\uc0ac\\ubb34\\uc18c, \\uc911\\uad6d\\uc5b4 \\uac00\\ub2a5\\uc790 \\uc6b0\\ub300\\ubca0\\ud2b8\\ub0a8,  \\uba85, aT \\ud558\\ub178\\uc774\\uc9c0\\uc0ac, \\ubca0\\ud2b8\\ub0a8\\uc5b4 \\uac00\\ub2a5\\uc790 \\uc6b0\\ub300\\ud0dc\\uad6d,  \\uba85, aT \\ubc29\\ucf55 \\uc0ac\\ubb34\\uc18c, \\ud0dc\\uad6d\\uc5b4 \\uac00\\ub2a5\\uc790 \\uc6b0\\ub300\\uce74\\uc790\\ud750\\uc2a4\\ud0c4,  \\uba85, aT \\uc54c\\ub9c8\\ud2f0 \\uc0ac\\ubb34\\uc18c, \\ub7ec\\uc2dc\\uc544\\uc5b4 \\uac00\\ub2a5\\uc790 \\uc6b0\\ub300\\ube0c\\ub77c\\uc9c8,  \\uba85, aT \\uc0c1\\ud30c\\uc6b8\\ub8e8 \\uc0ac\\ubb34\\uc18c, \\ud3ec\\ub974\\ud22c\\uac08\\uc5b4 \\uac00\\ub2a5\\uc790 \\uc6b0\\ub300UAE,  \\uba85, aT \\ub450\\ubc14\\uc774 \\uc9c0\\uc0ac, \\uc544\\ub78d\\uc5b4 \\uac00\\ub2a5\\uc790 \\uc6b0\\ub300\\ud3f4\\ub780\\ub4dc,  \\uba85, aT \\ubc14\\ub974\\uc0e4\\ubc14 \\uc0ac\\ubb34\\uc18c, \\ud3f4\\ub780\\ub4dc\\uc5b4 \\uac00\\ub2a5\\uc790 \\uc6b0\\ub300\\uc774\\ud0c8\\ub9ac\\uc544,  \\uba85, aT \\ubc00\\ub77c\\ub178 \\uc0ac\\ubb34\\uc18c, \\uc774\\ud0c8\\ub9ac\\uc544\\uc5b4 \\uac00\\ub2a5\\uc790 \\uc6b0\\ub300\\ud504\\ub791\\uc2a4,  \\uba85, aT \\ud30c\\ub9ac \\uc9c0\\uc0ac, \\ud504\\ub791\\uc2a4\\uc5b4 \\uac00\\ub2a5\\uc790 \\uc6b0\\ub300 \\ub0a8\\uc544\\uacf5,  \\uba85, aT \\ub0a8\\uc544\\uacf5 \\uc0ac\\ubb34\\uc18c, \\ube44\\uc988\\ub2c8\\uc2a4 \\uc601\\uc5b4\\ud68c\\ud654 \\uac00\\ub2a5\\uc790 \\uc6b0\\ub300\\ucd1d\\uacc4  \\uba85\\uc655\\ubcf5\\ud56d\\uacf5\\ub8cc(\\ud55c\\uad6d\\ud30c\\uacac\\uad6d), \\ud604\\uc9c0 \\uc219\\uc18c(aT\\uc5d0\\uc11c \\uc9c0\\uc815),  \\ub300 \\ubcf4\\ud5d8\\uac00\\uc785,\\uad6d\\uc81c\\uc751\\uae09\\uc11c\\ube44\\uc2a4 \\uac00\\uc785(\\uc758\\ub8cc\\ube44 \\ub4f1 \\uc9c0\\uc6d0), \\uccb4\\uc7ac\\ube44(\\uc6d4  \\ub9cc\\uc6d0/\\uc138\\ud6c4) \\ub4f1 \\ud30c\\uacac\\uad00\\ub828 \\ube44\\uc6a9 \\uc9c0\\uc6d0\\uc9c0\\uc6d0\\uc11c \\uc811\\uc218\\uae30\\uac04 \\ubc0f \\uc81c\\ucd9c\\uc11c\\ub958|\\uc811\\uc218\\uae30\\uac04 \\ub144  \\uc6d4  \\uc77c (\\uc6d4) ~  \\uc6d4  \\uc77c (\\uae08)  : | \\uc811\\uc218\\ubc29\\ubc95\\uccad\\ub144\\uac1c\\ucc99\\ub2e8 \\uc6b4\\uc601\\uc0ac\\ubb34\\uad6d\\uc5d0 \\uc774\\uba54\\uc77c \\uc2e0\\uccad \\uad6c\\ube44\\uc11c\\ub958\\ud544\\uc218 \\uc99d\\ube59\\uc11c\\ub958\\u119e\\uc9c0\\uc6d0\\uc11c \\ubc0f \\uc790\\uae30\\uc18c\\uac1c\\uc11c(\\ubd99\\uc784 \\uc591\\uc2dd \\ucc38\\uc870)  \\ubd80\\uacf5\\uc778\\uc5b4\\ud559\\uc131\\uc801\\ud45c \\uc6d0\\ubcf8  \\ubd80 \\u203b \\uad6d\\ub0b4\\uc751\\uc2dc \\uc131\\uc801\\ud45c \\ubc0f \\uc811\\uc218\\ub9c8\\uac10\\uc77c \\uae30\\uc900  \\ub144 \\uc774\\ub0b4 \\uc131\\uc801\\uc5d0 \\ud55c\\ud568\\u2022\\ucd5c\\uc885\\ud559\\uad50 \\uc878\\uc5c5 \\uc99d\\uba85\\uc11c \\ubc0f \\uc131\\uc801\\uc99d\\uba85\\uc11c\\ud574\\ub2f9\\uc790 \\uc99d\\ube59\\uc11c\\ub958\\u2022\\uc9c0\\uc6d0\\uad6d\\uac00\\uc678\\uad6d\\uc5b4(\\uc9c0\\uc6d0 \\uad6d\\uac00, \\uc6b0\\ub300\\uc678\\uad6d\\uc5b4) \\uc790\\uaca9\\uc99d\\u2022 \\ud574\\ub2f9\\ud559\\uacfc \\uad50\\uc218 \\ucd94\\ucc9c\\uc11c, \\ud30c\\uacac\\ub300\\uc0c1\\uad6d  \\ub144 \\uc774\\uc0c1 \\uccb4\\ub958 \\uc99d\\uba85(\\ucd9c\\uc785\\uad6d\\uc99d\\uba85\\uc11c, \\ud604\\uc9c0\\ud559\\uad50 \\uc878\\uc5c5, \\uc774\\uc218 \\uc99d\\uba85\\uc11c \\ub4f1)\\u2022 \\uac01\\uc885 \\uc790\\uaca9\\uc99d \\uc0ac\\ubcf8 \\ub4f1[\\ubb38\\uc758] \\uccad\\ub144\\ud574\\uc678\\uac1c\\ucc99\\ub2e8 \\uc6b4\\uc601\\uc0ac\\ubb34\\uad6d aT \\ud55c\\uad6d\\ub18d\\uc218\\uc0b0\\uc2dd\\ud488\\uc720\\ud1b5\\uacf5\\uc0ac Korea Agro-Fisheries & Food Trade Corporation\"\n        ],\n        \"semantic_type\": \"\",\n        \"description\": \"\"\n      }\n    }\n  ]\n}"
            }
          },
          "metadata": {},
          "execution_count": 10
        }
      ]
    },
    {
      "cell_type": "code",
      "source": [
        "# 데이터프레임을 1800개 행씩 세 부분으로 나누기\n",
        "first_part = gongji_filtered.iloc[:1350]\n",
        "second_part = gongji_filtered.iloc[1350:2700]\n",
        "third_part = gongji_filtered.iloc[2700:4050]\n",
        "fourth_part = gongji_filtered.iloc[4050:]"
      ],
      "metadata": {
        "id": "lBkA3z4ADthZ"
      },
      "execution_count": null,
      "outputs": []
    },
    {
      "cell_type": "markdown",
      "source": [
        "# 형태소 분석 & 토크나이징 (학사)"
      ],
      "metadata": {
        "id": "uYa7ROOA_Dfj"
      }
    },
    {
      "cell_type": "code",
      "source": [
        "!pip install konlpy"
      ],
      "metadata": {
        "colab": {
          "base_uri": "https://localhost:8080/"
        },
        "id": "ATizu3wOLBA5",
        "outputId": "007822ac-a5e4-4532-960e-e97e31feff33"
      },
      "execution_count": null,
      "outputs": [
        {
          "output_type": "stream",
          "name": "stdout",
          "text": [
            "Requirement already satisfied: konlpy in /usr/local/lib/python3.10/dist-packages (0.6.0)\n",
            "Requirement already satisfied: JPype1>=0.7.0 in /usr/local/lib/python3.10/dist-packages (from konlpy) (1.5.0)\n",
            "Requirement already satisfied: lxml>=4.1.0 in /usr/local/lib/python3.10/dist-packages (from konlpy) (4.9.4)\n",
            "Requirement already satisfied: numpy>=1.6 in /usr/local/lib/python3.10/dist-packages (from konlpy) (1.25.2)\n",
            "Requirement already satisfied: packaging in /usr/local/lib/python3.10/dist-packages (from JPype1>=0.7.0->konlpy) (24.0)\n"
          ]
        }
      ]
    },
    {
      "cell_type": "code",
      "source": [
        "# 형태소 토큰화 - okt분석기 생성\n",
        "from konlpy.tag import Okt\n",
        "okt = Okt()"
      ],
      "metadata": {
        "id": "pmDy0eKy_I2n"
      },
      "execution_count": null,
      "outputs": []
    },
    {
      "cell_type": "code",
      "source": [],
      "metadata": {
        "id": "C0f1XGC2EQDH"
      },
      "execution_count": null,
      "outputs": []
    },
    {
      "cell_type": "code",
      "source": [
        "# 학사 한국어, 영어만 남기기\n",
        "haksa_filtered['content_filter_text'] = haksa_filtered['content_cleaned'].apply(clean_text)"
      ],
      "metadata": {
        "colab": {
          "base_uri": "https://localhost:8080/"
        },
        "id": "difIz_GR_cOU",
        "outputId": "06041eeb-0897-4f45-edcc-45ae36588496"
      },
      "execution_count": null,
      "outputs": [
        {
          "output_type": "stream",
          "name": "stderr",
          "text": [
            "<ipython-input-11-1fc342f43797>:2: SettingWithCopyWarning: \n",
            "A value is trying to be set on a copy of a slice from a DataFrame.\n",
            "Try using .loc[row_indexer,col_indexer] = value instead\n",
            "\n",
            "See the caveats in the documentation: https://pandas.pydata.org/pandas-docs/stable/user_guide/indexing.html#returning-a-view-versus-a-copy\n",
            "  haksa_filtered['content_filter_text'] = haksa_filtered['content_cleaned'].apply(clean_text)\n"
          ]
        }
      ]
    },
    {
      "cell_type": "code",
      "source": [
        "# 문자열 ver\n",
        "from konlpy.tag import Okt\n",
        "\n",
        "# 형태소 분석기 초기화\n",
        "okt = Okt()\n",
        "\n",
        "# 빈 리스트 초기화\n",
        "word_haksa = []\n",
        "\n",
        "# 각 행에 대해 형태소 분석 수행하여 리스트에 추가\n",
        "for content in haksa_filtered ['content_filter_text']:\n",
        "    okt_pos = okt.pos(content, norm=True, stem=True)\n",
        "    word_list = [word[0] for word in okt_pos if word[1] not in ['Josa', 'Eomi', 'Punctuation', 'Suffix']]\n",
        "    word_haksa.append(', '.join(word_list))  # 리스트를 쉼표로 구분하여 문자열로 변환하여 추가\n",
        "\n",
        "# 'tokenize' 컬럼에 word_hire 리스트 할당\n",
        "haksa_filtered['tokenize'] = word_haksa\n",
        "haksa_filtered['tokenize'].head()\n"
      ],
      "metadata": {
        "id": "nvJfds_9_LoY",
        "colab": {
          "base_uri": "https://localhost:8080/"
        },
        "outputId": "df4715ec-69af-4e6f-d50f-857c572a12ed"
      },
      "execution_count": null,
      "outputs": [
        {
          "output_type": "stream",
          "name": "stderr",
          "text": [
            "<ipython-input-12-eb119f2a3d4a>:17: SettingWithCopyWarning: \n",
            "A value is trying to be set on a copy of a slice from a DataFrame.\n",
            "Try using .loc[row_indexer,col_indexer] = value instead\n",
            "\n",
            "See the caveats in the documentation: https://pandas.pydata.org/pandas-docs/stable/user_guide/indexing.html#returning-a-view-versus-a-copy\n",
            "  haksa_filtered['tokenize'] = word_haksa\n"
          ]
        },
        {
          "output_type": "execute_result",
          "data": {
            "text/plain": [
              "0    공통, 이중, 전공, 변경, 배정, 확정, 공고, 학년, 제, 학기, 이중, 전공,...\n",
              "1    학년, 학기, 수강신청, 공고, 학년, 제, 학기, 수강신청, 대하, 아래, 같이,...\n",
              "2    학년, 전기, 국제지역대학, 학, 석, 사연, 과정, 모집, 안내, 학년, 전기, ...\n",
              "3    학년, 전기, 일반, 대학원, 학, 석, 사연, 과정, 모집, 안내, 학년, 전기,...\n",
              "4    글로벌, 졸업, 예비, 사정, 결과, 조회, 글로벌, 캠퍼스, 졸업, 년, 월, 예...\n",
              "Name: tokenize, dtype: object"
            ]
          },
          "metadata": {},
          "execution_count": 12
        }
      ]
    },
    {
      "cell_type": "code",
      "source": [
        "haksa_filtered['tokenize'].head()"
      ],
      "metadata": {
        "colab": {
          "base_uri": "https://localhost:8080/"
        },
        "id": "N9ij051XA1bZ",
        "outputId": "4ce2e0f8-d741-4be7-9df0-6d8a90b74cf6"
      },
      "execution_count": null,
      "outputs": [
        {
          "output_type": "execute_result",
          "data": {
            "text/plain": [
              "0    공통, 이중, 전공, 변경, 배정, 확정, 공고, 학년, 제, 학기, 이중, 전공,...\n",
              "1    학년, 학기, 수강신청, 공고, 학년, 제, 학기, 수강신청, 대하, 아래, 같이,...\n",
              "2    학년, 전기, 국제지역대학, 학, 석, 사연, 과정, 모집, 안내, 학년, 전기, ...\n",
              "3    학년, 전기, 일반, 대학원, 학, 석, 사연, 과정, 모집, 안내, 학년, 전기,...\n",
              "4    글로벌, 졸업, 예비, 사정, 결과, 조회, 글로벌, 캠퍼스, 졸업, 년, 월, 예...\n",
              "Name: tokenize, dtype: object"
            ]
          },
          "metadata": {},
          "execution_count": 13
        }
      ]
    },
    {
      "cell_type": "code",
      "source": [
        "f = open('./stopwords_list.txt', 'r')\n",
        "lines = f.readlines()\n",
        "stopwords = []\n",
        "for line in lines:\n",
        "    line = line.replace('\\n', '')\n",
        "    stopwords.append(line)\n",
        "f.close()"
      ],
      "metadata": {
        "id": "Uqacqs2R86vH"
      },
      "execution_count": null,
      "outputs": []
    },
    {
      "cell_type": "code",
      "source": [
        "# 문자열 ver.\n",
        "# 불용어 제거 함수 정의\n",
        "def remove_stopwords(text, stopwords):\n",
        "    return ', '.join([word for word in text.split(', ') if word not in stopwords])\n",
        "\n",
        "# 불용어 제거\n",
        "haksa_filtered['tokenize'] = haksa_filtered['tokenize'].apply(lambda x: remove_stopwords(x, stopwords))"
      ],
      "metadata": {
        "colab": {
          "base_uri": "https://localhost:8080/"
        },
        "id": "kuDLSoF2BQmC",
        "outputId": "29b70871-0a3f-4049-a63a-40727e2e264a"
      },
      "execution_count": null,
      "outputs": [
        {
          "output_type": "stream",
          "name": "stderr",
          "text": [
            "<ipython-input-15-d7c32fdb3b87>:7: SettingWithCopyWarning: \n",
            "A value is trying to be set on a copy of a slice from a DataFrame.\n",
            "Try using .loc[row_indexer,col_indexer] = value instead\n",
            "\n",
            "See the caveats in the documentation: https://pandas.pydata.org/pandas-docs/stable/user_guide/indexing.html#returning-a-view-versus-a-copy\n",
            "  haksa_filtered['tokenize'] = haksa_filtered['tokenize'].apply(lambda x: remove_stopwords(x, stopwords))\n"
          ]
        }
      ]
    },
    {
      "cell_type": "code",
      "source": [
        "# 문자열 버전\n",
        "# 'tokenize' 컬럼에서 한 글자 제거\n",
        "haksa_filtered['tokenize'] = haksa_filtered['tokenize'].apply(lambda x: ', '.join([word for word in x.split(', ') if len(word) > 1]))\n",
        "\n",
        "haksa_filtered['tokenize']"
      ],
      "metadata": {
        "colab": {
          "base_uri": "https://localhost:8080/"
        },
        "id": "HJzvsYXZBtQH",
        "outputId": "2ce28bbd-60a8-47e5-9962-9f2317078210"
      },
      "execution_count": null,
      "outputs": [
        {
          "output_type": "stream",
          "name": "stderr",
          "text": [
            "<ipython-input-16-8c4dfe77fc30>:3: SettingWithCopyWarning: \n",
            "A value is trying to be set on a copy of a slice from a DataFrame.\n",
            "Try using .loc[row_indexer,col_indexer] = value instead\n",
            "\n",
            "See the caveats in the documentation: https://pandas.pydata.org/pandas-docs/stable/user_guide/indexing.html#returning-a-view-versus-a-copy\n",
            "  haksa_filtered['tokenize'] = haksa_filtered['tokenize'].apply(lambda x: ', '.join([word for word in x.split(', ') if len(word) > 1]))\n"
          ]
        },
        {
          "output_type": "execute_result",
          "data": {
            "text/plain": [
              "0      공통, 이중, 전공, 변경, 배정, 확정, 학년, 학기, 이중, 전공, 변경, 배정...\n",
              "1      학년, 학기, 수강신청, 학년, 학기, 수강신청, 대하, 아래, 강의, 시간표, 강...\n",
              "2      학년, 전기, 국제지역대학, 사연, 모집, 안내, 학년, 전기, 국제지역대학, 석사...\n",
              "3      학년, 전기, 일반, 대학원, 사연, 모집, 안내, 학년, 전기, 일반, 대학원, ...\n",
              "4      글로벌, 졸업, 예비, 사정, 결과, 조회, 글로벌, 캠퍼스, 졸업, 예비, 사정,...\n",
              "                             ...                        \n",
              "617    생리, 유고, 신청, 안내, 생리, 인하다, 유고, 결석, 신청, 방법, 아래, 생...\n",
              "618    졸업예정자, 해당, 학기, 졸업, 가능, 조기, 취업, 유고, 결석, 신청, 안내,...\n",
              "619    학기, 폐강, 글로벌, 캠퍼스, 학기, 글로벌, 캠퍼스, 폐강, 강좌, 아래, 폐강...\n",
              "620    학기, 폐강, 서울캠퍼스, 학년, 학기, 서울캠퍼스, 폐강, 강좌, 아래, 오니, ...\n",
              "621    계절, 학기, 개설, 희망, 교과목, 수요, 조사, 실시, 학년, 여름, 계절, 학...\n",
              "Name: tokenize, Length: 615, dtype: object"
            ]
          },
          "metadata": {},
          "execution_count": 16
        }
      ]
    },
    {
      "cell_type": "code",
      "source": [
        "haksa_filtered.to_csv('haksa_tokenize.csv', index = False)"
      ],
      "metadata": {
        "id": "_mcswjF7COXj"
      },
      "execution_count": null,
      "outputs": []
    },
    {
      "cell_type": "markdown",
      "source": [
        "## TFIDF모델 기반 방향 그래프 생성"
      ],
      "metadata": {
        "id": "QE7tVJQ6CO7Q"
      }
    },
    {
      "cell_type": "code",
      "source": [
        "from sklearn.feature_extraction.text import TfidfVectorizer\n",
        "from sklearn.feature_extraction.text import CountVectorizer\n",
        "from sklearn.preprocessing import normalize\n",
        "from scipy.sparse import csr_matrix\n",
        "import numpy as np\n",
        "import pandas as pd"
      ],
      "metadata": {
        "id": "Iyu44KxgCO7S"
      },
      "execution_count": null,
      "outputs": []
    },
    {
      "cell_type": "code",
      "source": [
        "haksa = pd.read_csv('haksa_tokenize.csv')\n",
        "haksa_copy = haksa.copy()"
      ],
      "metadata": {
        "id": "uHk56GGDNI7m"
      },
      "execution_count": null,
      "outputs": []
    },
    {
      "cell_type": "code",
      "source": [
        "haksa_copy.dropna(subset=['tokenize'], inplace=True)"
      ],
      "metadata": {
        "id": "4m2EUpfENSRZ"
      },
      "execution_count": null,
      "outputs": []
    },
    {
      "cell_type": "code",
      "source": [
        "haksa_copy.head(2)"
      ],
      "metadata": {
        "colab": {
          "base_uri": "https://localhost:8080/",
          "height": 216
        },
        "id": "v_uCpoHbNhO-",
        "outputId": "17e93f70-878c-4761-f8b8-a756e94188e3"
      },
      "execution_count": null,
      "outputs": [
        {
          "output_type": "execute_result",
          "data": {
            "text/plain": [
              "   index        date                           title  \\\n",
              "0      1  2020-01-06  [공통] 2019-2학기 이중전공 변경 배정 확정 공고   \n",
              "1      2  2020-01-13        [공통] 2020학년도 1학기 수강신청 공고   \n",
              "\n",
              "                                             content  \\\n",
              "0  \\n\\n\\n\\n\\n\\n[공통]이중전공변경 배정 확정 공고\\n \\n2019학년도 제2...   \n",
              "1  \\n2020학년도 1학기 수강신청 공고 2020학년도 제1학기 수강신청에 대하여 아...   \n",
              "\n",
              "                                     content_cleaned  \\\n",
              "0  [공통]이중전공변경 배정 확정 공고  학년도 제 학기 이중전공 변경 배정 결과를 아...   \n",
              "1   학년도  학기 수강신청 공고  학년도 제 학기 수강신청에 대하여 아래와 같이 공고...   \n",
              "\n",
              "                                 content_filter_text  \\\n",
              "0  [공통]이중전공변경 배정 확정 공고  학년도 제 학기 이중전공 변경 배정 결과를 아...   \n",
              "1   학년도  학기 수강신청 공고  학년도 제 학기 수강신청에 대하여 아래와 같이 공고...   \n",
              "\n",
              "                                            tokenize  \n",
              "0  공통, 이중, 전공, 변경, 배정, 확정, 학년, 학기, 이중, 전공, 변경, 배정...  \n",
              "1  학년, 학기, 수강신청, 학년, 학기, 수강신청, 대하, 아래, 강의, 시간표, 강...  "
            ],
            "text/html": [
              "\n",
              "  <div id=\"df-96c5da4a-e75c-4c86-bdd2-c580341b7d86\" class=\"colab-df-container\">\n",
              "    <div>\n",
              "<style scoped>\n",
              "    .dataframe tbody tr th:only-of-type {\n",
              "        vertical-align: middle;\n",
              "    }\n",
              "\n",
              "    .dataframe tbody tr th {\n",
              "        vertical-align: top;\n",
              "    }\n",
              "\n",
              "    .dataframe thead th {\n",
              "        text-align: right;\n",
              "    }\n",
              "</style>\n",
              "<table border=\"1\" class=\"dataframe\">\n",
              "  <thead>\n",
              "    <tr style=\"text-align: right;\">\n",
              "      <th></th>\n",
              "      <th>index</th>\n",
              "      <th>date</th>\n",
              "      <th>title</th>\n",
              "      <th>content</th>\n",
              "      <th>content_cleaned</th>\n",
              "      <th>content_filter_text</th>\n",
              "      <th>tokenize</th>\n",
              "    </tr>\n",
              "  </thead>\n",
              "  <tbody>\n",
              "    <tr>\n",
              "      <th>0</th>\n",
              "      <td>1</td>\n",
              "      <td>2020-01-06</td>\n",
              "      <td>[공통] 2019-2학기 이중전공 변경 배정 확정 공고</td>\n",
              "      <td>\\n\\n\\n\\n\\n\\n[공통]이중전공변경 배정 확정 공고\\n \\n2019학년도 제2...</td>\n",
              "      <td>[공통]이중전공변경 배정 확정 공고  학년도 제 학기 이중전공 변경 배정 결과를 아...</td>\n",
              "      <td>[공통]이중전공변경 배정 확정 공고  학년도 제 학기 이중전공 변경 배정 결과를 아...</td>\n",
              "      <td>공통, 이중, 전공, 변경, 배정, 확정, 학년, 학기, 이중, 전공, 변경, 배정...</td>\n",
              "    </tr>\n",
              "    <tr>\n",
              "      <th>1</th>\n",
              "      <td>2</td>\n",
              "      <td>2020-01-13</td>\n",
              "      <td>[공통] 2020학년도 1학기 수강신청 공고</td>\n",
              "      <td>\\n2020학년도 1학기 수강신청 공고 2020학년도 제1학기 수강신청에 대하여 아...</td>\n",
              "      <td>학년도  학기 수강신청 공고  학년도 제 학기 수강신청에 대하여 아래와 같이 공고...</td>\n",
              "      <td>학년도  학기 수강신청 공고  학년도 제 학기 수강신청에 대하여 아래와 같이 공고...</td>\n",
              "      <td>학년, 학기, 수강신청, 학년, 학기, 수강신청, 대하, 아래, 강의, 시간표, 강...</td>\n",
              "    </tr>\n",
              "  </tbody>\n",
              "</table>\n",
              "</div>\n",
              "    <div class=\"colab-df-buttons\">\n",
              "\n",
              "  <div class=\"colab-df-container\">\n",
              "    <button class=\"colab-df-convert\" onclick=\"convertToInteractive('df-96c5da4a-e75c-4c86-bdd2-c580341b7d86')\"\n",
              "            title=\"Convert this dataframe to an interactive table.\"\n",
              "            style=\"display:none;\">\n",
              "\n",
              "  <svg xmlns=\"http://www.w3.org/2000/svg\" height=\"24px\" viewBox=\"0 -960 960 960\">\n",
              "    <path d=\"M120-120v-720h720v720H120Zm60-500h600v-160H180v160Zm220 220h160v-160H400v160Zm0 220h160v-160H400v160ZM180-400h160v-160H180v160Zm440 0h160v-160H620v160ZM180-180h160v-160H180v160Zm440 0h160v-160H620v160Z\"/>\n",
              "  </svg>\n",
              "    </button>\n",
              "\n",
              "  <style>\n",
              "    .colab-df-container {\n",
              "      display:flex;\n",
              "      gap: 12px;\n",
              "    }\n",
              "\n",
              "    .colab-df-convert {\n",
              "      background-color: #E8F0FE;\n",
              "      border: none;\n",
              "      border-radius: 50%;\n",
              "      cursor: pointer;\n",
              "      display: none;\n",
              "      fill: #1967D2;\n",
              "      height: 32px;\n",
              "      padding: 0 0 0 0;\n",
              "      width: 32px;\n",
              "    }\n",
              "\n",
              "    .colab-df-convert:hover {\n",
              "      background-color: #E2EBFA;\n",
              "      box-shadow: 0px 1px 2px rgba(60, 64, 67, 0.3), 0px 1px 3px 1px rgba(60, 64, 67, 0.15);\n",
              "      fill: #174EA6;\n",
              "    }\n",
              "\n",
              "    .colab-df-buttons div {\n",
              "      margin-bottom: 4px;\n",
              "    }\n",
              "\n",
              "    [theme=dark] .colab-df-convert {\n",
              "      background-color: #3B4455;\n",
              "      fill: #D2E3FC;\n",
              "    }\n",
              "\n",
              "    [theme=dark] .colab-df-convert:hover {\n",
              "      background-color: #434B5C;\n",
              "      box-shadow: 0px 1px 3px 1px rgba(0, 0, 0, 0.15);\n",
              "      filter: drop-shadow(0px 1px 2px rgba(0, 0, 0, 0.3));\n",
              "      fill: #FFFFFF;\n",
              "    }\n",
              "  </style>\n",
              "\n",
              "    <script>\n",
              "      const buttonEl =\n",
              "        document.querySelector('#df-96c5da4a-e75c-4c86-bdd2-c580341b7d86 button.colab-df-convert');\n",
              "      buttonEl.style.display =\n",
              "        google.colab.kernel.accessAllowed ? 'block' : 'none';\n",
              "\n",
              "      async function convertToInteractive(key) {\n",
              "        const element = document.querySelector('#df-96c5da4a-e75c-4c86-bdd2-c580341b7d86');\n",
              "        const dataTable =\n",
              "          await google.colab.kernel.invokeFunction('convertToInteractive',\n",
              "                                                    [key], {});\n",
              "        if (!dataTable) return;\n",
              "\n",
              "        const docLinkHtml = 'Like what you see? Visit the ' +\n",
              "          '<a target=\"_blank\" href=https://colab.research.google.com/notebooks/data_table.ipynb>data table notebook</a>'\n",
              "          + ' to learn more about interactive tables.';\n",
              "        element.innerHTML = '';\n",
              "        dataTable['output_type'] = 'display_data';\n",
              "        await google.colab.output.renderOutput(dataTable, element);\n",
              "        const docLink = document.createElement('div');\n",
              "        docLink.innerHTML = docLinkHtml;\n",
              "        element.appendChild(docLink);\n",
              "      }\n",
              "    </script>\n",
              "  </div>\n",
              "\n",
              "\n",
              "<div id=\"df-b54f1206-3095-40df-884c-84335426f864\">\n",
              "  <button class=\"colab-df-quickchart\" onclick=\"quickchart('df-b54f1206-3095-40df-884c-84335426f864')\"\n",
              "            title=\"Suggest charts\"\n",
              "            style=\"display:none;\">\n",
              "\n",
              "<svg xmlns=\"http://www.w3.org/2000/svg\" height=\"24px\"viewBox=\"0 0 24 24\"\n",
              "     width=\"24px\">\n",
              "    <g>\n",
              "        <path d=\"M19 3H5c-1.1 0-2 .9-2 2v14c0 1.1.9 2 2 2h14c1.1 0 2-.9 2-2V5c0-1.1-.9-2-2-2zM9 17H7v-7h2v7zm4 0h-2V7h2v10zm4 0h-2v-4h2v4z\"/>\n",
              "    </g>\n",
              "</svg>\n",
              "  </button>\n",
              "\n",
              "<style>\n",
              "  .colab-df-quickchart {\n",
              "      --bg-color: #E8F0FE;\n",
              "      --fill-color: #1967D2;\n",
              "      --hover-bg-color: #E2EBFA;\n",
              "      --hover-fill-color: #174EA6;\n",
              "      --disabled-fill-color: #AAA;\n",
              "      --disabled-bg-color: #DDD;\n",
              "  }\n",
              "\n",
              "  [theme=dark] .colab-df-quickchart {\n",
              "      --bg-color: #3B4455;\n",
              "      --fill-color: #D2E3FC;\n",
              "      --hover-bg-color: #434B5C;\n",
              "      --hover-fill-color: #FFFFFF;\n",
              "      --disabled-bg-color: #3B4455;\n",
              "      --disabled-fill-color: #666;\n",
              "  }\n",
              "\n",
              "  .colab-df-quickchart {\n",
              "    background-color: var(--bg-color);\n",
              "    border: none;\n",
              "    border-radius: 50%;\n",
              "    cursor: pointer;\n",
              "    display: none;\n",
              "    fill: var(--fill-color);\n",
              "    height: 32px;\n",
              "    padding: 0;\n",
              "    width: 32px;\n",
              "  }\n",
              "\n",
              "  .colab-df-quickchart:hover {\n",
              "    background-color: var(--hover-bg-color);\n",
              "    box-shadow: 0 1px 2px rgba(60, 64, 67, 0.3), 0 1px 3px 1px rgba(60, 64, 67, 0.15);\n",
              "    fill: var(--button-hover-fill-color);\n",
              "  }\n",
              "\n",
              "  .colab-df-quickchart-complete:disabled,\n",
              "  .colab-df-quickchart-complete:disabled:hover {\n",
              "    background-color: var(--disabled-bg-color);\n",
              "    fill: var(--disabled-fill-color);\n",
              "    box-shadow: none;\n",
              "  }\n",
              "\n",
              "  .colab-df-spinner {\n",
              "    border: 2px solid var(--fill-color);\n",
              "    border-color: transparent;\n",
              "    border-bottom-color: var(--fill-color);\n",
              "    animation:\n",
              "      spin 1s steps(1) infinite;\n",
              "  }\n",
              "\n",
              "  @keyframes spin {\n",
              "    0% {\n",
              "      border-color: transparent;\n",
              "      border-bottom-color: var(--fill-color);\n",
              "      border-left-color: var(--fill-color);\n",
              "    }\n",
              "    20% {\n",
              "      border-color: transparent;\n",
              "      border-left-color: var(--fill-color);\n",
              "      border-top-color: var(--fill-color);\n",
              "    }\n",
              "    30% {\n",
              "      border-color: transparent;\n",
              "      border-left-color: var(--fill-color);\n",
              "      border-top-color: var(--fill-color);\n",
              "      border-right-color: var(--fill-color);\n",
              "    }\n",
              "    40% {\n",
              "      border-color: transparent;\n",
              "      border-right-color: var(--fill-color);\n",
              "      border-top-color: var(--fill-color);\n",
              "    }\n",
              "    60% {\n",
              "      border-color: transparent;\n",
              "      border-right-color: var(--fill-color);\n",
              "    }\n",
              "    80% {\n",
              "      border-color: transparent;\n",
              "      border-right-color: var(--fill-color);\n",
              "      border-bottom-color: var(--fill-color);\n",
              "    }\n",
              "    90% {\n",
              "      border-color: transparent;\n",
              "      border-bottom-color: var(--fill-color);\n",
              "    }\n",
              "  }\n",
              "</style>\n",
              "\n",
              "  <script>\n",
              "    async function quickchart(key) {\n",
              "      const quickchartButtonEl =\n",
              "        document.querySelector('#' + key + ' button');\n",
              "      quickchartButtonEl.disabled = true;  // To prevent multiple clicks.\n",
              "      quickchartButtonEl.classList.add('colab-df-spinner');\n",
              "      try {\n",
              "        const charts = await google.colab.kernel.invokeFunction(\n",
              "            'suggestCharts', [key], {});\n",
              "      } catch (error) {\n",
              "        console.error('Error during call to suggestCharts:', error);\n",
              "      }\n",
              "      quickchartButtonEl.classList.remove('colab-df-spinner');\n",
              "      quickchartButtonEl.classList.add('colab-df-quickchart-complete');\n",
              "    }\n",
              "    (() => {\n",
              "      let quickchartButtonEl =\n",
              "        document.querySelector('#df-b54f1206-3095-40df-884c-84335426f864 button');\n",
              "      quickchartButtonEl.style.display =\n",
              "        google.colab.kernel.accessAllowed ? 'block' : 'none';\n",
              "    })();\n",
              "  </script>\n",
              "</div>\n",
              "\n",
              "    </div>\n",
              "  </div>\n"
            ],
            "application/vnd.google.colaboratory.intrinsic+json": {
              "type": "dataframe",
              "variable_name": "haksa_copy",
              "summary": "{\n  \"name\": \"haksa_copy\",\n  \"rows\": 613,\n  \"fields\": [\n    {\n      \"column\": \"index\",\n      \"properties\": {\n        \"dtype\": \"number\",\n        \"std\": 179,\n        \"min\": 1,\n        \"max\": 622,\n        \"num_unique_values\": 613,\n        \"samples\": [\n          377,\n          104,\n          137\n        ],\n        \"semantic_type\": \"\",\n        \"description\": \"\"\n      }\n    },\n    {\n      \"column\": \"date\",\n      \"properties\": {\n        \"dtype\": \"object\",\n        \"num_unique_values\": 409,\n        \"samples\": [\n          \"2021-09-17\",\n          \"2021-05-14\",\n          \"2021-03-03\"\n        ],\n        \"semantic_type\": \"\",\n        \"description\": \"\"\n      }\n    },\n    {\n      \"column\": \"title\",\n      \"properties\": {\n        \"dtype\": \"string\",\n        \"num_unique_values\": 583,\n        \"samples\": [\n          \"[\\uacf5\\ud1b5] 2022\\ud559\\ub144\\ub3c4 \\ud6c4\\uae30\\uc774\\uc911\\uc804\\uacf5 \\uc774\\uc218\\ub300\\uc0c1\\uc790 \\ud655\\uc815 \\uacf5\\uace0\",\n          \"[\\uae00\\ub85c\\ubc8c] \\ud559\\uacfc(\\uc138\\ubd80\\uc804\\uacf5\\u00b7\\uc120\\ud0dd\\ubaa8\\ub4c8) \\ubc30\\uc815 \\uc2dc\\ud589 - \\uc601\\uc5b4\\ud1b5\\ubc88\\uc5ed\\ud559\\ubd80 / \\uc735\\ud569\\uc778\\uc7ac\\ud559\\ubd80 \\ub300\\uc0c1\",\n          \"[\\uc11c\\uc6b8] \\uc878\\uc5c5 \\ub300\\uc0c1\\uc790 \\uc548\\ub0b4 (2020\\ub144 8\\uc6d4)\"\n        ],\n        \"semantic_type\": \"\",\n        \"description\": \"\"\n      }\n    },\n    {\n      \"column\": \"content\",\n      \"properties\": {\n        \"dtype\": \"string\",\n        \"num_unique_values\": 613,\n        \"samples\": [\n          \"\\n\\uad50\\uc6d0 \\uc790\\uaca9 \\ubb34\\uc2dc\\ud5d8\\uac80\\uc815\\uc6d0\\uc11c \\uc81c\\ucd9c \\uacf5\\uace02022\\ub144 8\\uc6d4 \\uc878\\uc5c5\\uc608\\uc815\\uc790 \\uc911 \\uad50\\uc6d0\\uc790\\uaca9\\uc99d \\ucde8\\ub4dd \\uad00\\ub828 \\uad50\\uc6d0\\uc790\\uaca9\\ubb34\\uc2dc\\ud5d8\\uac80\\uc815\\uc6d0\\uc11c \\uc81c\\ucd9c\\uc5d0 \\ub300\\ud558\\uc5ec \\uc544\\ub798\\uc640 \\uac19\\uc774 \\uacf5\\uace0\\ud569\\ub2c8\\ub2e4. - \\uc544\\ub798 -1. \\uc81c\\ucd9c\\ub300\\uc0c1: 2022\\ub144 8\\uc6d4 \\uc878\\uc5c5\\uc608\\uc815\\uc790 \\uc911 \\uc0ac\\ubc94\\ub300\\ud559\\uc0dd \\ubc0f \\ube44\\uc0ac\\ubc94\\ub300 \\uad50\\uc9c1\\uacfc\\uc815 \\uc774\\uc218 \\uc608\\uc815 \\ud559\\uc0dd 2. \\uc81c\\ucd9c\\uae30\\uac04: 2022\\ub144 6\\uc6d4 20(\\uc6d4) ~ 2022\\ub144 7\\uc6d4 15\\uc77c(\\uae08)3. \\uc81c\\ucd9c\\uc7a5\\uc18c:\\uac00. \\ubc29\\ubb38\\uc81c\\ucd9c?\\uc18c\\uc18d \\ucea0\\ud37c\\uc2a4 \\ud559\\uc0ac\\uc885\\ud569\\uc9c0\\uc6d0\\uc13c\\ud130\\ub098. \\uc6b0\\ud3b8\\uc81c\\ucd9c ?\\uc11c\\uc6b8\\ucea0\\ud37c\\uc2a4 : \\uc11c\\uc6b8\\uc2dc \\ub3d9\\ub300\\ubb38\\uad6c \\uc774\\ubb38\\ub85c 107 \\ud55c\\uad6d\\uc678\\uad6d\\uc5b4\\ub300\\ud559\\uad50 \\uc5ed\\uc0ac\\uad00 101\\ud638                   \\ud559\\uc0ac\\uc885\\ud569\\uc9c0\\uc6d0\\uc13c\\ud130 \\uc0ac\\ubc94\\ub300\\ud559 \\ubc0f \\uad50\\uc9c1 \\ub2f4\\ub2f9       ?\\uae00\\ub85c\\ubc8c\\ucea0\\ud37c\\uc2a4: \\uacbd\\uae30\\ub3c4 \\uc6a9\\uc778\\uc2dc \\ucc98\\uc778\\uad6c \\ubaa8\\ud604\\uc74d \\uc678\\ub300\\ub85c 81 \\ud55c\\uad6d\\uc678\\uad6d\\uc5b4\\ub300\\ud559\\uad50                    \\ud559\\uc0dd\\ud68c\\uad00 1\\uce35 109\\ud638 \\ud559\\uc0ac\\uc885\\ud569\\uc9c0\\uc6d0\\uc13c\\ud130 \\uad50\\uc9c1\\ub2f4\\ub2f94. \\uc81c\\ucd9c\\uc11c\\ub958: \\ubb34\\uc2dc\\ud5d8\\uac80\\uc815\\uc6d0\\uc11c 1\\ubd80(\\uc131\\ubc94\\uc8c4 \\uacbd\\ub825 \\uc870\\ud68c \\ub3d9\\uc758 \\ud45c\\uc2dc \\ud3ec\\ud568)        \\ub9c8\\uc57d?\\ub300\\ub9c8?\\ud5a5\\uc815\\uc2e0\\uc131\\uc758\\uc57d\\ud488 \\uc911\\ub3c5\\uc790 \\uc5ec\\ubd80 \\uc9c4\\ub2e8\\uc11c \\ub610\\ub294 \\uac80\\uc0ac \\uacb0\\uacfc \\ud1b5\\ubcf4\\uc11c(\\ubcc4\\ub3c4 \\uacf5\\uc9c0 \\ucc38\\uc870) 5. \\uc720\\uc758\\uc0ac\\ud56d :\\uac00. \\uad50\\uc6d0\\uc790\\uaca9\\ubb34\\uc2dc\\ud5d8\\uac80\\uc815\\uc6d0\\uc11c\\ub97c \\uc81c\\ucd9c\\ud558\\uc9c0 \\uc54a\\ub294 \\ud559\\uc0dd\\uc740 \\uad50\\uc6d0\\uc790\\uaca9\\uc99d\\uc744 \\ubc1c\\uae09\\ubc1b\\uc744 \\uc218 \\uc5c6\\uc74c.\\ub098. <\\uc131\\ubc94\\uc8c4 \\uacbd\\ub825 \\uc870\\ud68c \\ub3d9\\uc758\\uc11c>\\ub294 <\\ubb34\\uc2dc\\ud5d8\\uac80\\uc815\\uc6d0\\uc11c> \\ud558\\ub2e8\\uc5d0 \\ud589\\uc815\\uc815\\ubcf4 \\uacf5\\ub3d9\\uc774\\uc6a9 \\ub3d9\\uc758 \\ud45c\\uc2dc\\ub97c\\ud558\\uba74 \\uc77c\\uad04 \\uc870\\ud68c\\ud568.   (\\ubbf8\\ub3d9\\uc758 \\uc2dc \\uad50\\uc6d0\\uc790\\uaca9\\uc99d \\ucde8\\ub4dd \\ubd88\\uac00)\\ub2e4. \\ub9c8\\uc57d?\\ub300\\ub9c8?\\ud5a5\\uc815\\uc2e0\\uc131\\uc758\\uc57d\\ud488 \\uc911\\ub3c5\\uc790 \\uc5ec\\ubd80 \\uc9c4\\ub2e8\\uc11c \\ub610\\ub294 \\uac80\\uc0ac \\uacb0\\uacfc \\ud1b5\\ubcf4\\uc11c\\ub294 \\ubc18\\ub4dc\\uc2dc \\uc6d0\\ubcf8 \\uc81c\\ucd9c. \\ub77c.\\uc544\\ub798\\uc758 \\uc131\\uc801 \\ubc0f \\ud544\\uc218 \\uacfc\\ubaa9 \\uc774\\uc218 \\uc870\\uac74\\uc744 \\ucda9\\uc871\\ud574\\uc57c \\ud568.     \\ud559\\ubc88\\uad6c\\ubd84\\uc804\\uccb4 \\uc131\\uc801\\ube44\\uace02008\\ud559\\ubc88\\uae4c\\uc9c0 \\uc0ac\\ubc94\\ub300\\ud559\\ud574\\ub2f9\\uc5c6\\uc74c\\ube44\\uc0ac\\ubc94\\ub300\\uc804\\uacf5 \\ubc0f \\uad50\\uc9c1\\uacfc\\ubaa9 \\ud3c9\\uade0\\uc131\\uc801\\uc774\\uac01\\uac01 80/100\\uc810 \\uc774\\uc0c12009\\ud559\\ubc88\\u223c2012\\ud559\\ubc88\\uc0ac\\ubc94\\ub300\\ud559\\uc878\\uc5c5\\uc804\\uccb4 \\ud3c9\\uade0 75/100\\uc810 \\uc774\\uc0c1\\ube44\\uc0ac\\ubc94\\ub3002013\\ud559\\ubc88\\ubd80\\ud130\\uc0ac\\ubc94\\ub300\\ud559\\uc804\\uacf5\\uacfc\\ubaa9 \\ud3c9\\uade0 75/100\\uc810 \\uc774\\uc0c1\\uad50\\uc9c1\\uacfc\\ubaa9 \\ud3c9\\uade0\\uc131\\uc801 80/100\\uc810 \\uc774\\uc0c1\\ube44\\uc0ac\\ubc94\\ub300 - \\uad50\\uc9c1 \\ud544\\uc218\\uacfc\\ubaa9 / \\uad50\\uacfc\\uad50\\uc721 \\ud544\\uc218 \\uacfc\\ubaa9 / \\uc804\\uacf5\\ubcc4 \\uc601\\uc5ed \\uae30\\ubcf8\\uc774\\uc218\\uad50\\uacfc\\ubaa9\\uc744 \\ubc18\\ub4dc\\uc2dc \\uc774\\uc218. \\ub9c8. \\uc544\\ub798\\uc758 \\uad50\\uc9c1 \\uc801\\uc131 \\ubc0f \\uc778\\uc131\\uac80\\uc0ac \\uc801\\uaca9\\ud310\\uc815 \\uc694\\uac74\\uc744 \\ucda9\\uc871\\ud574\\uc57c \\ud568. - (2012\\ud559\\ubc88\\uae4c\\uc9c0) \\uad50\\uc9c1 \\uc801\\uc131 \\ubc0f \\uc778\\uc131\\uac80\\uc0ac\\uc5d0 \\uc751\\uc2dc\\ud558\\uc5ec \\uc7ac\\ud559 \\uc911 1\\ud68c \\uc801\\uaca9\\ud310\\uc815\\uc744 \\ubc1b\\uc558\\uc5b4\\uc57c \\ud568. - (2013\\ud559\\ubc88\\uc774\\ud6c4) \\uad50\\uc9c1 \\uc801\\uc131 \\ubc0f \\uc778\\uc131\\uac80\\uc0ac\\uc5d0 \\uc751\\uc2dc\\ud558\\uc5ec \\uc7ac\\ud559 \\uc911 2\\ud68c \\uc801\\uaca9\\ud310\\uc815\\uc744 \\ubc1b\\uc558\\uc5b4\\uc57c \\ud568.\\ubc14. \\uc751\\uae09\\ucc98\\uce58 \\ubc0f \\uc2ec\\ud3d0\\uc18c\\uc0dd\\uc220 \\uad50\\uc721 2\\ud68c \\uc774\\uc0c1 \\uc774\\uc218 \\uc0ac. \\uc131\\uc778\\uc9c0 \\uad50\\uc721 \\uc774\\uc218 2021\\ub144 \\uc774\\ud6c4 \\uc785\\ud559\\uc790 - \\uc0ac\\ubc94\\ub300\\ud559 4\\ud68c,  \\uad50\\uc9c1\\uacfc\\uc815 2\\ud68c (\\uc5f0\\uac04 1\\ud68c \\uc774\\uc218)2022\\ub144 8\\uc6d4 \\uc878\\uc5c5 \\uc608\\uc815\\uc790 - \\uc0ac\\ubc94\\ub300\\ud559,  \\uad50\\uc9c1\\uacfc\\uc815 \\ubaa8\\ub450 2\\ud68c (\\uc5f0\\uac04 1\\ud68c \\uc774\\uc218)  \\u203b \\ub2e8, 2020\\ub144 2\\ud559\\uae30\\uae4c\\uc9c0(2021\\ub144 2\\uc6d4 9\\uc77c \\uad00\\ub828 \\ubc95\\ub839 \\uc2dc\\ud589\\uc77c \\uae30\\uc900)  6\\ud559\\uae30 \\uc774\\uc0c1 \\uc218\\ub8cc\\ud55c \\ud559\\uc0dd\\uc740\\uad50\\uc721 \\uc774\\uc218 \\uc758\\ubb34 \\uc5c6\\uc74c.6. \\ubb38\\uc758: \\uac00. \\uc11c\\uc6b8\\ucea0\\ud37c\\uc2a4 \\ud559\\uc0ac\\uc885\\ud569\\uc9c0\\uc6d0\\uc13c\\ud130 \\uc0ac\\ubc94\\ub300\\ud559 \\ubc0f \\uad50\\uc9c1\\ub2f4\\ub2f9 : 02-2173-2338 \\ub098. \\uae00\\ub85c\\ubc8c\\ucea0\\ud37c\\uc2a4 \\ud559\\uc0ac\\uc885\\ud569\\uc9c0\\uc6d0\\uc13c\\ud130 \\uad50\\uc9c1\\ub2f4\\ub2f9 : 031-330-49532022. 6\\uc0ac\\ubc94\\ub300\\ud559\\uc7a5 \\u00b7 \\uad50\\ubb34\\ucc98\\uc7a5\\n\",\n          \"\\n2020\\ud559\\ub144\\ub3c4 \\uad50\\uc9c1\\uacfc\\uc815 \\uc774\\uc218 \\uc608\\uc815\\uc790 \\ucd94\\uac00 \\uc120\\ubc1c \\uacf5\\uace0(\\uc11c\\uc6b8\\ucea0\\ud37c\\uc2a4) 1. \\uc2e0\\uccad \\uc790\\uaca9(2020\\ud559\\ub144\\ub3c4 1\\ud559\\uae30 \\uae30\\uc900) \\uac00. \\uad50\\uc9c1\\uacfc\\uc815\\uc774 \\uc124\\uce58\\ub41c \\ud559\\uacfc(\\uc804\\uacf5)\\uc758 2\\ud559\\ub144 1\\ud559\\uae30 \\uc7ac\\ud559\\uc0dd(3\\ud68c \\ub4f1\\ub85d\\uc0dd) \\ub098. \\uad6d\\ub0b4\\uc678 \\uad50\\ub958 \\ub4f1\\uc73c\\ub85c 2\\ud559\\ub144 1\\ud559\\uae30\\uc5d0 \\uc2e0\\uccad\\ud558\\uc9c0 \\ubabb\\ud55c3\\ud559\\ub144 \\ud559\\uc0dd(4\\ud68c \\uc774\\uc0c1 \\ub4f1\\ub85d\\uc0dd) 2. \\uc2e0\\uccad \\uae30\\uac04 : 2020. 8. 31(\\uc6d4) ~ 9. 4(\\uae08)  3. \\uc2e0\\uccad \\ubc29\\ubc95 : \\uc2e0\\uccad\\uc11c \\uc791\\uc131 \\ud6c4 \\uad50\\uc9c1 \\ub2f4\\ub2f9\\uc790 \\uc774\\uba54\\uc77c\\ub85c \\uc1a1\\ubd80(poisson@hufs.ac.kr) 4. \\uc120\\ubc1c \\ubc29\\ubc95:\\uac00. \\uad50\\uc9c1 \\uc801\\uc131 \\ubc0f \\uc778\\uc131\\uac80\\uc0ac\\ub97c \\uc751\\uc2dc\\ud558\\uc5ec \\uc801\\uaca9 \\ud310\\uc815\\uc744 \\ubc1b\\ub294 \\uc790\\u203b \\uad50\\uc9c1 \\uc801\\uc131 \\ubc0f \\uc778\\uc131\\uac80\\uc0ac\\ub294 \\uad50\\uc9c1\\uc774\\uc218 \\ucd94\\uac00\\uc2e0\\uccad\\uc790\\ub97c \\ub300\\uc0c1\\uc73c\\ub85c 9\\uc6d4 \\ucd08\\uc2e4\\uc2dc \\uc608\\uc815 (\\ucd94\\ud6c4 \\uac80\\uc0ac \\uc77c\\uc815 \\uacf5\\uc9c0 \\uc608\\uc815)\\ub098. \\uc9c0\\uc6d0\\uc790\\ubcc4 \\uc804\\uccb4 \\uc131\\uc801 \\ud3c9\\uc810 \\ud3c9\\uade0\\ub9cc\\uc73c\\ub85c \\uc120\\ubc1c   5. \\uc120\\ubc1c\\uc790 \\uacf5\\uace0 : 9\\uc6d4\\ub9d0 \\uac1c\\ubcc4 \\ud1b5\\ubcf4 \\uc608\\uc8156. \\uc120\\ubc1c \\uc778\\uc6d0 : \\uc5f0\\ubc88\\ud559\\uacfc(\\uc804\\uacf5)\\uc778\\uc6d0 (\\uba85)\\ube44\\uace01\\ud504\\ub791\\uc2a4\\ud559\\ubd805    2\\ub3c5\\uc77c\\uc5b4\\uacfc3  3\\uc2a4\\ud398\\uc778\\uc5b4\\uacfc6    4\\ub178\\uc5b4\\uacfc1    5\\uc544\\ub78d\\uc5b4\\uacfc1    6\\ubca0\\ud2b8\\ub0a8\\uc5b4\\uacfc2    7\\uc911\\uad6d\\uc678\\uad50\\ud1b5\\uc0c1\\ud559\\ubd802      7. \\ubb38\\uc758\\uc0ac\\ud56d : \\uc11c\\uc6b8\\ucea0\\ud37c\\uc2a4 \\ud559\\uc0ac\\uc885\\ud569\\uc9c0\\uc6d0\\uc13c\\ud130 \\uad50\\uc9c1\\uacfc\\uc815 \\ub2f4\\ub2f9 (02-2173-2338)  \\uc0ac\\ubc94\\ub300\\ud559\\uc7a5\\n\",\n          \"\\n\\uc81c13\\uc8fc\\ucc28(11\\uc6d4 24\\uc77c \\ud654) \\uc774\\ud6c4 \\uc218\\uc5c5\\ubc29\\uc2dd \\uc548\\ub0b4\\ucd5c\\uadfc \\uc815\\ubd80\\ub294 \\uc5f0\\uc77c 200\\uba85\\uc774 \\ub118\\ub294 \\uc2e0\\uaddc \\ud655\\uc9c4\\uc790\\uac00 \\ubc1c\\uc0dd\\ud558\\ub294 \\uc810\\uc744 \\uace0\\ub824\\ud558\\uc5ec \\u201c\\uc218\\ub3c4\\uad8c\\uc758 \\uc0ac\\ud68c\\uc801 \\uac70\\ub9ac\\ub450\\uae30\\ub97c 1.5\\ub2e8\\uacc4\\u201d\\ub85c \\uaca9\\uc0c1\\ud568\\uc73c\\ub85c\\uc368 \\ucf54\\ub85c\\ub09819 \\ubc29\\uc5ed \\uae30\\uc900\\uc744 \\uac15\\ud654\\ud558\\uc600\\uc2b5\\ub2c8\\ub2e4. \\uc774\\uc640 \\uac19\\uc740 \\uc0c1\\ud669\\uc5d0\\uc11c \\uc6b0\\ub9ac \\ub300\\ud559\\uc740 \\uc774\\ubc88 \\ud559\\uae30 \\ub0a8\\uc740 \\uae30\\uac04 \\ub3d9\\uc548\\uc758 \\uc218\\uc5c5 \\ub4f1 \\ud559\\uc0ac\\uc77c\\uc815\\uc758 \\uc548\\uc815\\uc801 \\uc6b4\\uc601\\uc744 \\uc704\\ud558\\uc5ec \\uc544\\ub798\\uc640 \\uac19\\uc774 \\uc548\\ub0b4\\ub4dc\\ub9bd\\ub2c8\\ub2e4.\\uc9c0\\ub09c 8\\uc6d4\\uc5d0 \\ud559\\uad50\\uac00 \\uc218\\uc5c5 \\ubc29\\uc2dd\\uc744 \\uc815\\ubd80\\uc758 \\uc0ac\\ud68c\\uc801 \\uac70\\ub9ac\\ub450\\uae30 \\uc870\\uce58(3\\ub2e8\\uacc4)\\ub97c \\uadfc\\uac70\\ub85c \\uc791\\uc131\\ud558\\uc5ec \\uc801\\uc6a9\\ud558\\uc600\\uc9c0\\ub9cc, \\uc815\\ubd80\\uac00 11\\uc6d4 \\ucd08 \\uc0ac\\ud68c\\uc801 \\uac70\\ub9ac\\ub450\\uae30 \\uc870\\uce58\\ub97c 5\\ub2e8\\uacc4\\ub85c \\ubcc0\\uacbd\\ud568\\uc5d0 \\ub530\\ub77c, \\uc6b0\\ub9ac \\ub300\\ud559\\ub3c4 \\uc774\\uc5d0 \\ub9de\\ucdb0\\uc11c \\uc218\\uc5c5 \\ubc29\\uc2dd\\uc744 5\\ub2e8\\uacc4\\ub85c \\uc138\\ubd84\\ud654\\ud558\\uc5ec \\uc6b4\\uc601\\ud569\\ub2c8\\ub2e4. (\\ucf54\\ub85c\\ub09819 \\uc815\\ubd80 \\ubc29\\uc5ed\\uc9c0\\uce68 \\ubc0f \\uae30\\uc900\\ubcc0\\uacbd\\uc5d0 \\ub530\\ub978 HUFS \\uac70\\ub9ac\\ub450\\uae30 \\ub2e8\\uacc4\\ubcc4 \\uc2e4\\ud589\\ubc29\\uc548\\ud45c \\ucc38\\uc870) \\ud604\\uc2dc\\uc810(2020. 11. 19.)\\uc5d0\\uc11c \\uc815\\ubd80\\uc758 \\uc0ac\\ud68c\\uc801 \\uac70\\ub9ac\\ub450\\uae30 \\uc870\\uce58\\ub294 1.5\\ub2e8\\uacc4\\ub85c \\uaca9\\uc0c1\\ub418\\uc5c8\\uace0, \\ub4f1\\uad50\\uae30\\uc900\\uc740 \\uc804\\uccb4\\uc778\\uc6d0\\uc758 2/3\\ub85c \\uc81c\\ud55c\\ud558\\uace0 \\uc788\\uc73c\\ubbc0\\ub85c \\uc6b0\\ub9ac \\ub300\\ud559\\uc758 \\uc218\\uc5c5\\ubc29\\uc2dd\\uc740 \\ud604\\ud589\\ubc29\\uc2dd\\uc744 \\uc720\\uc9c0\\ud569\\ub2c8\\ub2e4. \\ub2e4\\ub9cc \\ud655\\uc9c4\\uc790 \\uc99d\\uac00\\ucd94\\uc138\\uac00 \\uc9c0\\uc18d\\ub418\\ub294 \\uc5c4\\uc911\\ud55c \\uc0c1\\ud669\\uc774\\ubbc0\\ub85c \\uac15\\uc758 \\ub2f4\\ub2f9\\uad50\\uc218\\ub2d8\\uc758 \\uc7ac\\ub7c9\\uc5d0 \\ub530\\ub77c \\uc218\\uac15\\uc0dd\\ub4e4\\uacfc\\uc758 \\ub300\\ud654\\ub97c \\ud1b5\\ud574 \\uc720\\uc5f0\\ud55c \\ubc29\\uc2dd\\uc73c\\ub85c \\uc218\\uc5c5\\uc744 \\uc9c4\\ud589\\ud560 \\uc218 \\uc788\\uc2b5\\ub2c8\\ub2e4.\\ud2b9\\ud788, \\ub300\\uba74\\uc218\\uc5c5\\uc5d0 \\ucc38\\uc5ec\\ud558\\ub294 \\uad50\\uc218\\ub2d8\\uacfc \\ud559\\uc0dd \\uc5ec\\ub7ec\\ubd84\\ub4e4\\uc740 \\uac15\\uc758\\uc2e4 \\uc785\\uc2e4\\uc804 \\uccb4\\uc628 \\ubc0f \\ubc1c\\uc5f4 \\uccb4\\ud06c, \\uc218\\uc5c5\\uc2dc\\uac04 \\uc911 \\ub9c8\\uc2a4\\ud06c \\uc4f0\\uae30, \\uc0ac\\ud68c\\uc801 \\uac70\\ub9ac\\ub450\\uae30 \\ub4f1 \\uae30\\ubcf8\\uc801 \\ubc29\\uc5ed\\uc218\\uce59\\uc5d0 \\uc720\\uc758\\ud558\\uc5ec \\uc8fc\\uc2ed\\uc2dc\\uc624. \\ub3d9\\uc2dc\\uc5d0 \\uad50\\uc218\\ub2d8\\ub4e4\\uaed8\\uc11c\\ub294 \\uc218\\uac15\\uc0dd\\uc758 \\uc9c8\\ubcd1\\uc774\\ub098 \\uc758\\uc2ec \\uc99d\\uc0c1, \\uc6d0\\uac70\\ub9ac \\ud1b5\\ud559\\ubb38\\uc81c \\ub4f1 \\ub2e4\\uc591\\ud55c \\uc0ac\\uc815\\uc5d0 \\ub300\\ud574\\uc11c \\ud0c4\\ub825\\uc801\\uc73c\\ub85c \\ub300\\ucc98\\ud574 \\uc8fc\\uc2dc\\uae30\\ub97c \\ub2f9\\ubd80\\ub4dc\\ub9bd\\ub2c8\\ub2e4.\\ud559\\uc0dd \\uc5ec\\ub7ec\\ubd84\\ub4e4\\uaed8\\uc11c\\ub3c4 \\uc9c8\\ubcd1\\uc774\\ub098 \\ucf54\\ub85c\\ub09819 \\uc758\\uc2ec \\uc99d\\uc0c1, \\uc6d0\\uac70\\ub9ac \\ud1b5\\ud559\\ubb38\\uc81c \\ub4f1 \\uc0ac\\uc815\\uc774 \\uc788\\uc744 \\uacbd\\uc6b0\\uc5d0\\ub294 \\uac15\\uc758 \\ub2f4\\ub2f9\\uad50\\uc218\\ub2d8\\uaed8 \\uc18c\\uc0c1\\ud788 \\ub9d0\\uc500\\ub4dc\\ub9ac\\uace0 \\uadf8 \\ud310\\ub2e8\\uc5d0 \\ub530\\ub77c \\uc8fc\\uc2dc\\uae30 \\ubc14\\ub78d\\ub2c8\\ub2e4. \\ud5a5\\ud6c4 \\ucf54\\ub85c\\ub09819 \\uc0c1\\ud669\\uc758 \\ucd94\\uc774\\ub97c \\uc9c0\\ucf1c\\ubcf4\\uba74\\uc11c \\ucd94\\uac00\\uc801\\uc778 \\uacb0\\uc815\\uc0ac\\ud56d\\uc774 \\uc788\\uc744 \\uacbd\\uc6b0 \\uc2e0\\uc18d\\ud788 \\uc548\\ub0b4\\ub4dc\\ub9ac\\uaca0\\uc2b5\\ub2c8\\ub2e4. \\uac10\\uc0ac\\ud569\\ub2c8\\ub2e4.2020.11.20.\\uad50\\ubb34\\ucc98\\uc7a5\\n\"\n        ],\n        \"semantic_type\": \"\",\n        \"description\": \"\"\n      }\n    },\n    {\n      \"column\": \"content_cleaned\",\n      \"properties\": {\n        \"dtype\": \"string\",\n        \"num_unique_values\": 605,\n        \"samples\": [\n          \"(\\uae00\\ub85c\\ubc8c) - \\ud559\\uae30 \\uc774\\uc911\\uc804\\uacf5 \\ubcc0\\uacbd \\uc2e0\\uccad \\uacf5\\uace0 _\\ub0b4\\uc6a9 \\ucd94\\uac00  \\ud559\\ub144\\ub3c4  \\ud559\\uae30 \\uc774\\uc911\\uc804\\uacf5 \\ubcc0\\uacbd \\uc2e0\\uccad \\uc77c\\uc815\\uc744 \\uc544\\ub798\\uc640 \\uac19\\uc774 \\uacf5\\uace0\\ud568       \\u203bEU\\uc804\\uacf5(\\uae00\\ub85c\\ubc8c)\\uc740 \\ud3d0\\uc9c0\\ub418\\uc5b4 \\uc11c\\uc6b8\\ucea0\\ud37c\\uc2a4\\uc758 EU\\uc804\\uacf5\\uc73c\\ub85c \\uc2e0\\uccad\\ud558\\uc5ec \\uc774\\uc218\\ud568       \\u203b\\uc735\\ud569\\uc778\\uc7ac\\ud559\\ubd80 \\uc774\\uc218\\ub300\\uc0c1 \\uc138\\ubd80\\ubaa8\\ub4c8 \\uc81c\\ud55c \\ucd94\\uac00\\ub428_  )\\ud558\\ub2e8 \\uc774\\uc218\\ub300\\uc0c1 \\uc81c\\ud55c \\ucc38\\uc870       \\u203b\\uc735\\ud569\\uc778\\uc7ac\\ud559\\ubd80 \\uc2e0\\uccad\\uc790\\ub294 \\ucca8\\ubd80\\ub41c \\uc138\\ubd80\\ubaa8\\ub4c8 \\uc2e0\\uccad\\uc11c \\uc81c\\ucd9c: \\ud559\\uc0dd\\ud68c\\uad00 \\ud638 \\ud559\\uc0ac\\uc885\\ud569\\uc9c0\\uc6d0\\uc13c\\ud130- \\uc544    \\ub798 - . \\uc774\\uc911\\uc804\\uacf5 \\ubcc0\\uacbd \\uc2e0\\uccad\\uad6c\\ubd84\\ub0b4\\uc6a9\\ub300\\uc0c1\\uc790 ~ \\ud559\\ub144 \\ud559\\uc0dd \\uc911 \\uc7ac\\ud559\\uc0dd \\ubc0f \\ud734\\ud559\\uc0dd[\\uc774\\uc911\\uc804\\uacf5 \\ubcc0\\uacbd \\uc2e0\\uccad\\uae30\\uac04\\uc5d0 \\ubc30\\uc815\\ub41c \\uc801\\uc774 \\uc5c6\\ub294 \\ud559\\uc0dd]\\u203b \\uae30\\uc874\\uc5d0 \\uc774\\uc911\\uc804\\uacf5\\uc744 \\uc2e0\\uccad\\ud55c \\uc801\\uc774 \\uc5c6\\uac70\\ub098 \\ubbf8\\uc120\\ubc1c \\ub41c \\uacbd\\uc6b0\\uc5d0\\ub3c4  ~ \\ud559\\ub144\\uc740 \\uc774\\uc911\\uc804\\uacf5 \\ubcc0\\uacbd \\uae30\\uac04\\uc5d0 \\uc2e0\\uccad \\ud568\\u203b  \\ud559\\ub144\\ub3c4 ( \\uc6d4 \\uc785\\ud559)\\uc21c\\uc218\\uc678\\uad6d\\uc778 \\ud3b8\\uc785\\uc0dd\\uc740 \\uc774\\uc911\\uc804\\uacf5 \\uc2e0\\uccad\\uae30\\uac04( .  /  ~  / )\\uc5d0 \\uc2e0\\uccad\\ud568\\uc2e0\\uccad\\uae30\\uac04 .  .  (\\uc6d4),  :  ~  .  (\\uae08),  : \\u203b \\uc2e0\\uccad\\uae30\\uac04 \\uc774\\ud6c4 \\ucd94\\uac00 \\uc2e0\\uccad \\ubc0f \\ubcc0\\uacbd \\uc808\\ub300 \\ubd88\\uac00 \\uc2e0\\uccad\\ubc29\\ubc95\\uc885\\ud569\\uc815\\ubcf4\\uc2dc\\uc2a4\\ud15c\\u2192\\uc804\\uacf5/\\uad50\\uc9c1\\uad00\\ub9ac\\u2192\\uc774\\uc911\\uc804\\uacf5 \\ubcc0\\uacbd\\uc2e0\\uccad \\u203b \\uc774\\uc911\\uc804\\uacf5 \\ubcc0\\uacbd \\uc2e0\\uccad\\uc740  \\uc9c0\\ub9dd\\ub9cc \\uc2e0\\uccad\\uac00\\ub2a5(\\uc2e0\\uccad \\ud6c4 \\uc870\\ud68c\\ud558\\uc5ec \\uacb0\\uacfc \\uc7ac\\ud655\\uc778)\\ubc30\\uc815\\ud655\\uc815 \\ub144  \\uc6d4 \\ub9d0~  \\ub144  \\uc6d4 \\ucd08 \\uc608\\uc815(\\ubcc4\\ub3c4 \\uacf5\\uace0 \\uc608\\uc815) . \\ubc30\\uc815\\uc6d0\\uce59\\uac00. \\ud604 \\uc2dc\\uc810 \\uae30\\uc900 \\ud559\\uacfc\\ubcc4/\\ud559\\ubc88\\ub300\\ubcc4 \\uc774\\uc911\\uc804\\uacf5 \\uc5ec\\uc11d \\ub0b4\\uc5d0\\uc11c \\ubc30\\uc815_\\ucca8\\ubd80\\ud30c\\uc77c \\ucc38\\uc870\\ub098.  \\ud559\\uc810 \\uc774\\uc0c1 \\ucde8\\ub4dd\\uc790 \\uc131\\uc801\\uc21c \\uc6b0\\uc120 \\ubc30\\uc815 \\ud6c4 \\ud559\\uc810 \\uc774\\ud558 \\uc131\\uc801\\uc21c \\ubc30\\uc815(\\uc5ec\\uc11d\\ubbf8\\ub2ec\\uc740 \\ubaa8\\ub450 \\ubc30\\uc815)  )\\ud3c9\\uc810\\ud3c9\\uade0 \\ub3d9\\uc810\\uc790 \\ubc1c\\uc0dd \\uc2dc \\uc774\\uc218\\ud559\\uc810\\uc774 \\ub192\\uc740 \\ud559\\uc0dd \\uc6b0\\uc120 \\ubc30\\uc815, \\uc774\\uc218\\ud559\\uc810\\ub3c4 \\ub3d9\\uc77c\\uc2dc \\uc804\\uc6d0 \\ubc30\\uc815  )\\ub9c8\\uac10\\uc77c( / )  \\uc2dc \\uae30\\uc900 \\uc131\\uc801\\uc73c\\ub85c \\ubc30\\uc815(\\ub9c8\\uac10 \\ud6c4 \\ubcc0\\ub3d9\\ub41c \\uc131\\uc801\\uc740 \\ubbf8\\ubc18\\uc601) . \\uc720\\uc758\\uc0ac\\ud56d\\uac00. \\uc11c\\uc6b8\\ucea0\\ud37c\\uc2a4\\uc758 \\uc18c\\uc18d(\\ud559\\uacfc \\ubc0f \\uc735\\ud569\\uc804\\uacf5) \\uc774\\uc911\\uc804\\uacf5 \\ud76c\\ub9dd\\uc790\\ub294 \\uc11c\\uc6b8\\ucea0\\ud37c\\uc2a4 \\uc774\\uc911\\uc804\\uacf5 \\ubcc0\\uacbd\\uc2e0\\uccad \\uacf5\\uace0 \\ud655\\uc778\\ub098. \\uc11c\\uc6b8\\ucea0\\ud37c\\uc2a4\\uc5d0\\uc11c \\uc774\\uc218\\ud55c \\uc774\\uc911\\uc804\\uacf5(\\ubd80\\uc804\\uacf5) \\uad50\\uacfc\\ubaa9\\uc740 \\uae00\\ub85c\\ubc8c\\ucea0\\ud37c\\uc2a4 \\uc18c\\uc18d\\uc758 \\uc774\\uc911\\uc804\\uacf5(\\ubd80\\uc804\\uacf5)\\uc73c\\ub85c \\ubcc0\\uacbd \\ud55c \\ud6c4\\uc5d0\\ub294 \\uc7ac\\uc218\\uac15 \\ubd88\\uac00\\u203b\\uc11c\\uc6b8\\ucea0\\ud37c\\uc2a4\\uc758 \\uc774\\uc911\\uc804\\uacf5(\\ubd80\\uc804\\uacf5)\\uc774 \\uc720\\uc9c0\\ub41c \\uc0c1\\ud0dc\\uc5d0\\uc11c \\uc7ac\\uc218\\uac15\\uc744 \\uc644\\ub8cc\\ud574\\uc57c \\ud568\\ub2e4. \\ud559\\uacfc\\ubcc4 \\uc804\\ud615\\uc774 \\uc788\\ub294 \\ud559\\uacfc\\uc758 \\uacbd\\uc6b0 \\ubc18\\ub4dc\\uc2dc \\ud559\\uacfc \\uc0ac\\ubb34\\uc2e4 \\ubb38\\uc758\\ub97c \\ud1b5\\ud574 \\uc2dc\\ud5d8/\\uba74\\uc811/\\uc11c\\ub958 \\uc81c\\ucd9c \\ub4f1\\uc758 \\uc77c\\uc815\\ubc0f \\uc790\\uaca9\\uc744 \\ud655\\uc778\\ud558\\uae30 \\ubc14\\ub78c.\\ub77c. \\uc774\\uc911\\uc804\\uacf5 \\ubcc0\\uacbd \\uc2e0\\uccad\\uae30\\uac04\\uc5d0 \\uc2e0\\uccad\\ud558\\uc5ec \\ubc30\\uc815\\ub41c \\uacbd\\uc6b0, \\ub2e4\\uc74c \\ud559\\uae30\\ubd80\\ud130\\ub294 \\uc774\\uc911\\uc804\\uacf5 \\ubcc0\\uacbd\\uc2e0\\uccad\\uc774 \\ubd88\\uac00\\ud568 (\\ubbf8\\ubc30\\uc815 \\uc2dc\\ub294 \\ub2e4\\uc74c \\ud559\\uae30 \\uc774\\uc911\\uc804\\uacf5 \\ubcc0\\uacbd\\uc2e0\\uccad \\uae30\\uac04\\uc5d0 \\uacc4\\uc18d \\uc2e0\\uccad \\uac00\\ub2a5)\\ub9c8. \\ud3b8\\uc785\\uc0dd\\ub3c4 \\uc7ac\\ud559 \\uc5f0\\ud55c \\ub0b4 \\ud76c\\ub9dd \\uc2dc \\uc774\\uc911\\uc804\\uacf5, \\ubd80\\uc804\\uacf5, \\uc804\\uacf5\\uc2ec\\ud654(\\ubd80\\uc804\\uacf5)\\ub85c \\uc774\\uc218\\ud560 \\uc218 \\uc788\\uc74c(\\ub2e4\\ub9cc, \\uc774\\uc218 \\uc2dc \\uc878\\uc5c5\\uc870\\uac74\\uc774 \\ubcc0\\uacbd\\ub428)\\ubc14. \\ud6c4\\uae30\\uc774\\uc911\\uc804\\uacf5 \\uc120\\ubc1c\\uc790\\uac00 \\uc774\\uc911\\uc804\\uacf5 \\ubcc0\\uacbd \\uae30\\uac04\\uc5d0 \\ubc30\\uc815\\ub418\\uc5c8\\uc744 \\uacbd\\uc6b0 \\ub458 \\uc911\\uc758 \\ud558\\ub098\\ub97c \\ubc18\\ub4dc\\uc2dc \\ucde8\\uc18c\\ud574\\uc57c \\ud568\\uc0ac. AI\\uc735\\ud569\\uc804\\uacf5 \\ud559\\ubc88\\ubcc4 \\uc2e0\\uccad \\uc548\\ub0b4   )  \\ud559\\ubc88 \\uc774\\uc0c1: AI\\uc735\\ud569\\uc804\\uacf5( \\ud559\\ub144\\uacfc\\uc815)\\uc73c\\ub85c \\uc2e0\\uccad \\ud6c4  \\ud559\\ub144 \\uc9c4\\uae09 \\uc804 \\uc138\\ubd80\\ud2b8\\ub799 \\uc2e0\\uccad \\ubc0f \\ubc30\\uc815 \\uac00) \\uac1c\\ud559\\uae30 \\uc7ac\\uc801\\uc0dd=> \\ud559\\ub144 \\uacfc\\uc815\\uc778 AI\\uc735\\ud569\\uc804\\uacf5 \\uc2e0\\uccad \\ub098) \\uac1c\\ud559\\uae30 \\uc774\\uc0c1 \\uc7ac\\uc801\\uc0dd(AI\\uc735\\ud569\\uc804\\uacf5\\uc73c\\ub85c \\ubcc0\\uacbd\\ud558\\uace0\\uc790 \\ud558\\ub294 \\uacbd\\uc6b0) => \\ud559\\ub144 \\uacfc\\uc815\\uc778 \\ud76c\\ub9dd \\uc138\\ubd80\\ud2b8\\ub799\\u3010AI\\uc804\\uacf5(Software&AI\\ud2b8\\ub799/Language&AI\\ud2b8\\ub799/Business&AI\\ud2b8\\ub799\\u3011\\uc73c\\ub85c \\uc2e0\\uccad     \\u203bSoftware&AI\\ud2b8\\ub799\\uc740 \\ucef4\\ud4e8\\ud130\\uacf5\\ud559\\ubd80, \\uc815\\ubcf4\\ud1b5\\uc2e0\\uacf5\\ud559\\uacfc, \\uc0b0\\uc5c5\\uacbd\\uc601\\uacf5\\ud559\\uacfc \\uc18c\\uc18d \\ud559\\uc0dd\\uc740 \\uc2e0\\uccad \\ubd88\\uac00   )  \\ud559\\ubc88 \\uc774\\ud558: \\ud76c\\ub9dd \\uc138\\ubd80\\ud2b8\\ub799\\uc73c\\ub85c \\ubc14\\ub85c \\uc2e0\\uccad    \\u203bSoftware&AI\\ud2b8\\ub799(\\uad6c, \\uc735\\ubcf5\\ud569\\uc18c\\ud504\\ud2b8\\uc6e8\\uc5b4\\uc804\\uacf5)\\uc740 \\uacf5\\uacfc\\ub300\\ud559 \\ubc0f \\uc790\\uc5f0\\uacfc\\ud559\\ub300\\ud559 \\uc18c\\uc18d \\ud559\\uc0dd\\uc740 \\uc2e0\\uccad\\ud560 \\uc218 \\uc5c6\\uc74c \\uc544.\\uc735\\ud569\\uc804\\uacf5 \\uc911 EU\\uc804\\uacf5(\\uae00\\ub85c\\ubc8c)\\uc740 \\ud3d0\\uc9c0\\ub418\\uc5b4 \\uc11c\\uc6b8\\ucea0\\ud37c\\uc2a4\\uc758 EU\\uc804\\uacf5\\uc744 \\uc2e0\\uccad\\ud558\\uc5ec \\uc774\\uc218\\ud568.\\uc790. \\uc735\\ud569\\uc778\\uc7ac\\ud559\\ubd80 \\ub0b4 \\uc774\\uc911\\uc804\\uacf5 \\uc138\\ubd80\\ubaa8\\ub4c8 \\uc120\\ud0dd \\uc81c\\ud55c ) \\uc735\\ud569\\uc778\\uc7ac\\ub300\\ud559 \\uc735\\ud569\\uc778\\uc7ac\\ud559\\ubd80\\ub294 \\uc774\\uc911\\uc804\\uacf5\\ub9cc \\uc9c0\\uc6d0 \\uc774\\uc218 \\uac00\\ub2a5\\ud558\\uba70  \\uac1c \\uc138\\ubd80\\ubaa8\\ub4c8 \\uc911  \\uac1c\\uc758 \\uc138\\ubd80\\ubaa8\\ub4c8\\uc744 \\uc790\\uc728\\uc801\\uc73c\\ub85c \\uc120\\ud0dd\\ud558\\uc5ec \\uc774\\uc218 \\ud568(\\ub3d9\\uc77c \\ubaa8\\ub4c8 \\ub0b4 \\uc138\\ubd80\\ubaa8\\ub4c8 \\uc911\\ubcf5 \\uc120\\ud0dd \\uac00\\ub2a5).   \\u203b\\uc735\\ud569\\uc778\\uc7ac\\ud559\\ubd80 \\uc774\\uc911\\uc804\\uacf5 \\uc138\\ubd80\\ubaa8\\ub4c8 \\uc2e0\\uccad\\uc11c \\uc11c\\uc2dd \\uc81c\\ucd9c(\\ucca8\\ubd80): \\ud559\\uc0dd\\ud68c\\uad00 \\ud638 \\ud559\\uc0ac\\uc885\\ud569\\uc9c0\\uc6d0\\uc13c\\ud130 ) \\ubaa8\\ub4c8\\uad6c\\ubd84 \\ubc0f \\uc138\\ubd80\\ubaa8\\ub4c8\\uc21c\\ubc88\\uad6c\\ubd84\\ud559\\uacfc\\uba85(\\uc138\\ubd80\\ubaa8\\ub4c8)\\ube44\\uace0 \\ud1b5\\ubc88\\uc5ed\\ubaa8\\ub4c8\\uc601\\uc5b4\\ud1b5\\ubc88\\uc5ed\\uc138\\ubd80\\ubaa8\\ub4c8\\uc911\\ubcf5 \\uc120\\ud0dd \\uac00\\ub2a5 \\uc544\\ub78d\\uc5b4\\ud1b5\\ubc88\\uc5ed\\uc138\\ubd80\\ubaa8\\ub4c8 \\uc911\\uad6d\\uc5b4\\ud1b5\\ubc88\\uc5ed\\uc138\\ubd80\\ubaa8\\ub4c8 \\uad6d\\uc81c\\uc804\\ub7b5\\ubaa8\\ub4c8\\ubbf8\\uad6d.\\uc601\\uc5f0\\ubc29\\uc804\\ub7b5\\uc138\\ubd80\\ubaa8\\ub4c8\\uc911\\ubcf5 \\uc120\\ud0dd \\uac00\\ub2a5 \\uc774\\ud0c8\\ub9ac\\uc544.EU\\uc804\\ub7b5\\uc138\\ubd80\\ubaa8\\ub4c8 \\uc911\\ub3d9.\\uc774\\uc2ac\\ub78c\\uc804\\ub7b5\\uc138\\ubd80\\ubaa8\\ub4c8 \\uc911\\ud654\\uad8c\\uc804\\ub7b5\\uc138\\ubd80\\ubaa8\\ub4c8 \\ubb38\\ud654\\uc0b0\\uc5c5\\ucf58\\ud150\\uce20\\ubaa8\\ub4c8\\ud14c\\ud06c\\ub178\\ubbf8\\ub514\\uc5b4\\ub514\\uc790\\uc778\\uc138\\ubd80\\ubaa8\\ub4c8\\uc911\\ubcf5 \\uc120\\ud0dd \\uac00\\ub2a5 \\ud328\\uc158\\uad00\\uad11\\ubb38\\ud654\\uc0b0\\uc5c5\\uc138\\ubd80\\ubaa8\\ub4c8 \\uac8c\\uc784\\ud55c\\ub958\\ubb38\\ud654\\uc0b0\\uc5c5\\uc138\\ubd80\\ubaa8\\ub4c8 \\uc735\\ud569\\ube44\\uc988\\ub2c8\\uc2a4\\ubaa8\\ub4c8\\uc735\\ud569\\ube44\\uc988\\ub2c8\\uc2a4\\uc138\\ubd80\\ubaa8\\ub4c8 ICT&AI\\ubaa8\\ub4c8ICT&AI\\uc138\\ubd80\\ubaa8\\ub4c8 ) \\uc774\\uc218\\ub300\\uc0c1 \\uc81c\\ud55c _\\uc601\\uc5b4\\uad00\\ub828 \\uc81c \\uc804\\uacf5\\uc790 \\uc81c\\ud55c \\uc138\\ubd80\\ubaa8\\ub4c8 <\\ucd94\\uac00> \\uc804\\uacf5 \\uc18c\\uc18d\\ud559\\uacfc(\\uc804\\uacf5)\\uc81c\\ud55c \\uc138\\ubd80\\ubaa8\\ub4c8\\uc601\\uc5b4\\uad00\\ub828 \\uc81c \\uc804\\uacf5\\uc790\\uc601\\uc5b4\\ud1b5\\ubc88\\uc5ed\\uc138\\ubd80\\ubaa8\\ub4c8 \\ubc0f \\ubbf8\\uad6d\\uc601\\uc5f0\\ubc29\\uc138\\ubd80\\ubaa8\\ub4c8\\uc911\\uad6d\\uc5b4\\uad00\\ub828 \\uc81c \\uc804\\uacf5\\uc790\\uc911\\uad6d\\uc5b4\\ud1b5\\ubc88\\uc5ed\\uc138\\ubd80\\ubaa8\\ub4c8 \\ubc0f \\uc911\\ud654\\uad8c\\uc804\\ub7b5\\uc138\\ubd80\\ubaa8\\ub4c8\\uc544\\ub78d\\uc5b4\\uad00\\ub828 \\uc81c \\uc804\\uacf5\\uc790\\uc544\\ub78d\\uc5b4\\ud1b5\\ubc88\\uc5ed\\uc138\\ubd80\\ubaa8\\ub4c8 \\ubc0f \\uc911\\ub3d9\\uc774\\uc2ac\\ub78c\\uc804\\ub7b5\\uc138\\ubd80\\ubaa8\\ub4c8\\uc774\\ud0c8\\ub9ac\\uc544\\uc5b4\\uad00\\ub828 \\uc81c \\uc804\\uacf5\\uc790\\uc774\\ud0c8\\ub9ac\\uc544.EU\\uc804\\ub7b5\\uc138\\ubd80\\ubaa8\\ub4c8\\uc0c1\\uacbd(\\uacbd\\uc0c1)\\uad00\\ub828 \\uc81c \\uc804\\uacf5\\uc790\\uc735\\ud569\\ube44\\uc988\\ub2c8\\uc2a4\\uc138\\ubd80\\ubaa8\\ub4c8\\uacf5\\uacfc\\ub300\\ud559 \\uc81c \\uc804\\uacf5\\uc790ICT&AI\\uc138\\ubd80\\ubaa8\\ub4c8\\ubaa8\\ub4e0 \\ud559\\uc0dd\\ubcf8\\uc778 \\ud559\\ubc88\\uc5d0 \\uc874\\uc7ac\\ud558\\uc9c0 \\uc54a\\ub294 \\ud559\\uacfc \\uc774\\uc218 \\ubd88\\uac00 . \\uc81c\\ud55c\\uc0ac\\ud56d\\uac00. \\ud559\\uacfc\\ubcc4 / \\ud559\\ubc88\\ub300\\ubcc4 \\uc5ec\\uc11d\\uc774 \\uc5c6\\ub294 \\ud559\\uacfc(\\uc804\\uacf5)\\ub294 \\uc2e0\\uccad \\ubd88\\uac00\\ub098. \\uc601\\uc5b4\\ud1b5\\ubc88\\uc5ed\\ud559\\ubd80 \\ubc0f \\uc544\\ud504\\ub9ac\\uce74\\ud559\\ubd80 \\uc18c\\uc18d \\ud559\\uc0dd\\uc740 \\ubcf8\\uc778\\uc18c\\uc18d \\ud559\\ubd80 \\ub0b4 \\uc138\\ubd80\\uc804\\uacf5\\uc740 \\uc2e0\\uccad\\ud560 \\uc218 \\uc5c6\\uc74c\\ub2e4.  \\ud559\\ubc88 \\uc774\\ud6c4 \\ud559\\uc0dd\\uc740 \\uc774\\uc911\\uc804\\uacf5, \\ubd80\\uc804\\uacf5, \\uc804\\uacf5\\uc2ec\\ud654, \\uc804\\uacf5\\uc2ec\\ud654(\\ubd80\\uc804\\uacf5)\\uacfc\\uc815 \\uc911 \\ud558\\ub098\\ub97c \\uc120\\ud0dd\\ud558\\uc5ec \\uc774\\uc218\\ud574\\uc57c \\ud568    (\\ud3b8\\uc785\\uc0dd \\ubc0f \\uad70\\uc704\\ud0c1\\uc0dd\\uc740 \\uc81c\\uc678)\\ub77c. \\ucea0\\ud37c\\uc2a4 \\uac04 \\uc774\\uc911\\uc804\\uacf5 \\ud76c\\ub9dd\\uc790\\uc758 \\uacbd\\uc6b0 \\ucea0\\ud37c\\uc2a4 \\uac04 \\uc774\\uc911\\uc804\\uacf5 \\uc81c\\ud55c\\ud559\\uacfc\\ub85c\\uc758 \\uc2e0\\uccad \\ubd88\\uac00  )\\ub3d9\\uc77c\\uc5b8\\uc5b4 \\uc911 \\uc678\\uad6d\\uc5b4 \\uc911\\ubcf5\\ud559\\uacfc(\\uc608: \\uc601\\uc5b4, \\ud504\\ub791\\uc2a4\\uc5b4. \\ub3c5\\uc77c\\uc5b4 \\ub4f1)_\\uc218\\uac15\\ud3b8\\ub78c  \\ucabd \\ucc38\\uc870\\ucea0\\ud37c\\uc2a4\\uc11c\\uc6b8\\ucea0\\ud37c\\uc2a4\\uae00\\ub85c\\ubc8c\\ucea0\\ud37c\\uc2a4\\ud559\\uacfc(\\ubd80)\\uc601\\uc5b4\\ub300\\ud559 \\uac01 \\ud559\\uacfc(\\uc804\\uacf5), \\ud504\\ub791\\uc2a4\\uc5b4\\ud559\\ubd80, \\ub3c5\\uc77c\\uc5b4\\uacfc, \\ub178\\uc5b4\\uacfc, \\uc2a4\\ud398\\uc778\\uc5b4\\uacfc, \\uc774\\ud0c8\\ub9ac\\uc544\\uc5b4\\uacfc, \\ud3ec\\ub974\\ud22c\\uac08\\uc5b4\\uacfc, \\ub9d0\\ub808\\uc774\\u00b7\\uc778\\ub3c4\\ub124\\uc2dc\\uc544\\uc5b4\\uacfc, \\uc544\\ub78d\\uc5b4\\uacfc, \\ud0dc\\uad6d\\uc5b4\\uacfc, \\uc778\\ub3c4\\uc5b4\\uacfc, \\uc911\\uad6d\\ud559\\ub300\\ud559 \\uac01 \\uc804\\uacf5, \\uc77c\\ubcf8\\ud559\\ub300\\ud559 \\uac01 \\uc804\\uacf5\\uc601\\uc5b4\\ud1b5\\ubc88\\uc5ed\\ud559\\ubd80, \\ud504\\ub791\\uc2a4\\ud559\\uacfc, \\ub3c5\\uc77c\\uc5b4\\ud1b5\\ubc88\\uc5ed\\ud559\\uacfc, \\ub7ec\\uc2dc\\uc544\\ud559\\uacfc, \\uc2a4\\ud398\\uc778\\uc5b4\\ud1b5\\ubc88\\uc5ed\\ud559\\uacfc, \\uc774\\ud0c8\\ub9ac\\uc544\\uc5b4\\ud1b5\\ubc88\\uc5ed\\ud559\\uacfc, \\ube0c\\ub77c\\uc9c8\\ud559\\uacfc, \\ub9d0\\ub808\\uc774\\u00b7\\uc778\\ub3c4\\ub124\\uc2dc\\uc544\\uc5b4\\ud1b5\\ubc88\\uc5ed\\ud559\\uacfc, \\uc544\\ub78d\\uc5b4\\ud1b5\\ubc88\\uc5ed\\ud559\\uacfc, \\ud0dc\\uad6d\\uc5b4\\ud1b5\\ubc88\\uc5ed\\ud559\\uacfc, \\uc778\\ub3c4\\ud559\\uacfc, \\uc911\\uad6d\\uc5b4\\ud1b5\\ubc88\\uc5ed\\ud559\\uacfc, \\uc77c\\ubcf8\\uc5b4\\ud1b5\\ubc88\\uc5ed\\ud559\\uacfc  )\\uc774\\uc218\\ud560 \\uc218 \\uc788\\ub294 \\ud559\\uacfc\\ub294 \\uc218\\uac15\\ud3b8\\ub78c  \\ucabd \\ucc38\\uc870\\ub9c8. \\uc735\\ud569\\uc804\\uacf5(\\uad6c, \\uc5f0\\uacc4\\uc804\\uacf5)\\uc740 \\ucea0\\ud37c\\uc2a4\\ubcc4 \\uac1c\\uc124 \\uc6b4\\uc601\\ud558\\ubbc0\\ub85c \\ud574\\ub2f9 \\ucea0\\ud37c\\uc2a4\\uc5d0\\uc11c \\uc218\\uac15\\ud568(\\uc218\\uac15\\ud3b8\\ub78c \\ucabd~ \\ucc38\\uc870)\\uac1c\\uc124 \\ucea0\\ud37c\\uc2a4\\uc735\\ud569\\uc804\\uacf5\\uba85\\ube44\\uace0\\uc11c\\uc6b8/\\uae00\\ub85c\\ubc8c(\\uc18c\\uc18d \\ucea0\\ud37c\\uc2a4 \\uc774\\uc218)\\uc9c0\\uc5ed\\uacbd\\uc81c\\uac1c\\ubc1c\\ud611\\ub825\\uc804\\uacf5/\\ubcf4\\ud5d8\\uacc4\\ub9ac\\ud559\\uc804\\uacf5/\\uad6d\\uac00\\ub9ac\\ub354\\uc804\\uacf5/\\ubb38\\ud654\\ucf58\\ud150\\uce20\\ud559\\uc804\\uacf5/\\uc138\\uacc4\\ubb38\\ud654\\uc608\\uc220\\uacbd\\uc601\\uc804\\uacf5/AI\\uc804\\uacf5[Software&AI\\ud2b8\\ub799(\\uad6c, \\uc735\\ubcf5\\ud569\\uc18c\\ud504\\ud2b8\\uc6e8\\uc5b4\\uc804\\uacf5)]\\uc11c\\uc6b8BRICs(\\ube0c\\ub9ad\\uc2a4)\\uc804\\uacf5/\\ub3d9\\ubd81\\uc544\\uc678\\uad50\\ud1b5\\uc0c1\\uc804\\uacf5/\\ub514\\uc9c0\\ud138\\uc778\\ubb38\\ud55c\\uad6d\\ud559\\uc804\\uacf5/AI\\uc804\\uacf5[Language&AI\\ud2b8\\ub799(\\uad6c, \\uc5b8\\uc5b4\\uc640\\uacf5\\ud559\\uc804\\uacf5)]/EU\\uc804\\uacf5/\\uc678\\uad6d\\uc5b4\\ub85c\\uc11c\\uc758\\ud55c\\uad6d\\uc5b4\\uad50\\uc721\\uc804\\uacf5/\\uc678\\uad6d\\uc5b4\\ub85c\\uc11c\\uc758\\ud55c\\uad6d\\uc5b4\\ud1b5\\ubc88\\uc5ed\\uc804\\uacf5\\uae00\\ub85c\\ubc8cAI\\uc804\\uacf5[Business&AI\\ud2b8\\ub799]/\\ub370\\uc774\\ud130\\uc0ac\\uc774\\uc5b8\\uc2a4\\uc804\\uacf5/\\ubc14\\uc774\\uc624\\ub370\\uc774\\ud130\\uc0ac\\uc774\\uc5b8\\uc2a4\\uc804\\uacf5\\ubc14.  \\ud559\\ubc88 \\uc774\\uc804\\uc758 \\ud559\\uc0dd \\uc911 \\uc735\\ud569\\uc778\\uc7ac\\ub300\\ud559 \\uc18c\\uc18d\\uc73c\\ub85c \\ubcc0\\uacbd\\ud55c \\ud559\\uc0dd\\uc740 \\uc774\\uc911\\uc804\\uacf5,\\ubd80\\uc804\\uacf5,\\uc804\\uacf5\\uc2ec\\ud654(\\ubd80\\uc804\\uacf5)\\uc744 \\uc774\\uc218\\ud560 \\uc218 \\uc5c6\\uc74c\\uc0ac. \\uc735\\ud569\\uc804\\uacf5\\uc740 \\ubd80\\uc804\\uacf5\\uc73c\\ub85c \\uc774\\uc218\\ud560 \\uc218 \\uc5c6\\uc74c. \\ub2e4\\ub9cc, \\uad6d\\uac00\\ub9ac\\ub354\\uc804\\uacf5\\uacfc\\ub370\\uc774\\ud130\\uc0ac\\uc774\\uc5b8\\uc2a4\\uc804\\uacf5\\uc740\\ubd80\\uc804\\uacf5\\uc73c\\ub85c\\ub3c4 \\uc774\\uc218 \\uac00\\ub2a5 . \\uae30\\ud0c0\\uac00. \\uc774\\uc911\\uc804\\uacf5 \\ubcc0\\uacbd \\ubc30\\uc815\\ub41c \\ud6c4\\ub294 \\ud604\\uc7ac \\ud559\\uae30 \\uc218\\uac15\\uad50\\uacfc\\ubaa9\\uacfc \\uc774\\uc804\\uc758 \\uc774\\uc218 \\uad50\\uacfc\\ubaa9\\uc774 \\uc774\\uc911\\uc804\\uacf5\\uc73c\\ub85c \\uae30\\uc7ac\\ub41c \\uad50       \\uacfc\\ubaa9\\uc740 \\uc774\\uc218\\uad6c\\ubd84 \\ubcc0\\uacbd\\uc744 \\ud559\\uc0ac   \\uc885\\ud569\\uc9c0\\uc6d0\\uc13c\\ud130 \\ub0b4 \\uc804\\uacf5 \\uc18c\\uc18d\\ub2e8\\uacfc\\ub300\\ud559\\uc744 \\ud1b5\\ud558\\uc5ec\\u201c\\uc774\\uc218\\uad6c\\ubd84 \\ubcc0\\uacbd \\uc2e0\\uccad\\uc11c\\u201d\\ub97c \\uc81c\\ucd9c\\ud558\\uc5ec \\uc815\\uc815[\\uc774\\uc911\\uc804\\uacf5\\u2192\\uc790\\uc120]\\ud558\\uc5ec\\uc57c \\ud569\\ub2c8\\ub2e4.\\ub098. \\uc774\\uc911\\uc804\\uacf5 \\ubcc0\\uacbd\\uc2e0\\uccad \\uae30\\uac04\\uc5d0 \\uc2e0\\uccad\\ud558\\uc5ec \\ubc30\\uc815\\ub41c \\uacbd\\uc6b0\\ub294 \\uc774\\uc911\\uc804\\uacf5 \\ubcc0\\uacbd \\uc2e0\\uccad\\uc774 \\ubd88\\uac00\\ud558\\ub098 \\ubd80\\uc804\\uacf5\\uc744 \\uc0b4\\ub824\\uc11c \\ud6c4\\uae30\\uc774\\uc911\\uc804\\uacf5 \\uc2e0\\uccad\\ud558\\uc5ec \\uc774\\uc218   \\ud560 \\uc218 \\uc788\\uc2b5\\ub2c8\\ub2e4(\\uc790\\uc138\\ud55c \\ub0b4\\uc6a9\\uc740 \\uc218\\uac15\\ud3b8\\ub78c  \\ucabd \\ucc38\\uc870) . \\uc774\\uc911\\uc804\\uacf5 \\ucde8\\uc18c, \\ubd80\\uc804\\uacf5, \\uc804\\uacf5\\uc2ec\\ud654(\\ubd80\\uc804\\uacf5\\ud3ec\\ud568) \\uc2e0\\uccad \\ubc0f \\ubcc0\\uacbd \\uc608\\uc815\\uae30\\uac04:  .  . (\\uc218) ~  . (\\uae08) .  .\\uad50\\ubb34\\ucc98\\uc7a5?????\",\n          \"[\\uc11c\\uc6b8]  - \\ud559\\uae30 \\uad6d\\ub0b4\\ub300\\ud559 \\ud559\\uc810\\uad50\\ub958 \\uc548\\ub0b4\\uc6b0\\ub9ac\\ub300\\ud559\\uad50\\uc640 \\ud559\\uc220\\uad50\\ub958\\ud611\\uc815\\uc5d0 \\uc758\\uac70\\ud558\\uc5ec \\uc2dc\\ud589\\ud558\\ub294\\uc11c\\uc6b8\\ucea0\\ud37c\\uc2a4  \\ud559\\ub144\\ub3c4  \\ud559\\uae30 \\uad6d\\ub0b4\\ub300\\ud559 \\ud559\\uc810\\uad50\\ub958 \\uc811\\uc218 \\uc77c\\uc815\\uc744 \\ub2e4\\uc74c\\uacfc \\uac19\\uc774 \\uacf5\\uace0\\ud568.- \\uc544 \\ub798 -\\u25a3\\uc11c\\uc6b8\\ucea0\\ud37c\\uc2a4 \\uad50\\ub958\\ub300\\ud559 \\ubc0f \\uc2e0\\uccad\\uc11c \\uc811\\uc218 \\uc77c\\uc815NO\\ub300\\ud559\\uba85\\uc811\\uc218\\uc77c \\ubc0f \\uc2dc\\uac04\\ube44\\uace0 \\uace0\\ub824\\ub300\\ud559\\uad50 . . .\\ubaa9.  :  -  : ( \\uc77c\\uac04) \\uad6d\\ubbfc\\ub300\\ud559\\uad50 . . .\\uc218.  :  -  : ( \\uc77c\\uac04) \\ub355\\uc131\\uc5ec\\uc790\\ub300\\ud559\\uad50 . . .\\uae08. :  -  : ( \\uc77c\\uac04) \\ubd80\\uc0b0\\uc678\\uad6d\\uc5b4\\ub300\\ud559\\uad50 . . .\\uae08.  :  -  : ( \\uc77c\\uac04) \\uc11c\\uc6b8\\ub300\\ud559\\uad50 . . .\\uc218.  :  -  : ( \\uc77c\\uac04) \\uc5f0\\uc138\\ub300\\ud559\\uad50 . . .\\ubaa9.  :  -  : ( \\uc77c\\uac04) \\uc6b8\\uc0b0\\ub300\\ud559\\uad50 . . .\\uc218.  :  -  : ( \\uc77c\\uac04) \\uc81c\\uc8fc\\ub300\\ud559\\uad50 . . .\\uc218.  :  -  : ( \\uc77c\\uac04) \\ucc3d\\uc6d0\\ub300\\ud559\\uad50 . . .\\uae08. :  -  : ( \\uc77c\\uac04) \\ud55c\\uad6d\\uc608\\uc220\\uc885\\ud569\\ud559\\uad50 . . .\\ud654.  :  -  : ( \\uc77c\\uac04) \\ud55c\\uc11c\\ub300\\ud559\\uad50 . . .\\uc218. :  -  : ( \\uc77c\\uac04) \\ud55c\\uc591\\ub300\\ud559\\uad50 . . .\\ubaa9.  :  -  : ( \\uc77c\\uac04) \\uac74\\uad6d\\ub300\\ud559\\uad50 . . .\\ubaa9.  :  -  : ( \\uc77c\\uac04)\\ucd1d\\uc7a5\\ud3ec\\ub7fc\\ud611\\uc57d\\uad50 \\ub3d9\\uad6d\\ub300\\ud559\\uad50 . . .\\uc218.  :  -  : ( \\uc77c\\uac04)\\ucd1d\\uc7a5\\ud3ec\\ub7fc\\ud611\\uc57d\\uad50 \\uc774\\ud654\\uc5ec\\uc790\\ub300\\ud559\\uad50 . . .\\ud654.  :  -  : ( \\uc77c\\uac04)\\ucd1d\\uc7a5\\ud3ec\\ub7fc\\ud611\\uc57d\\uad50 \\ud64d\\uc775\\ub300\\ud559\\uad50 . . .\\uae08.  :  -  : ( \\uc77c\\uac04)\\ucd1d\\uc7a5\\ud3ec\\ub7fc\\ud611\\uc57d\\uad50 \\uc219\\uba85\\uc5ec\\uc790\\ub300\\ud559\\uad50 . . .\\ubaa9.  :  -  : ( \\uc77c\\uac04)\\ucd1d\\uc7a5\\ud3ec\\ub7fc\\ud611\\uc57d\\uad50 \\ud559\\uc810\\uc81c\\ud55c \\uac00\\ud1a8\\ub9ad\\ub300\\ud559\\uad50 . . .\\uc218.  :  -  : ( \\uc77c\\uac04) \\uad11\\uc6b4\\ub300\\ud559\\uad50 . . .\\ubaa9.  :  -  : ( \\uc77c\\uac04) \\ub3d9\\ub355\\uc5ec\\uc790\\ub300\\ud559\\uad50 . . .\\uc218.  :  -  : ( \\uc77c\\uac04) \\uba85\\uc9c0\\ub300\\ud559\\uad50 \\uc0bc\\uc721\\ub300\\ud559\\uad50 \\uc0c1\\uba85\\ub300\\ud559\\uad50 . . .\\uae08. :  -  : ( \\uc77c\\uac04) \\uc11c\\uac15\\ub300\\ud559\\uad50 . . .\\uc218.  :  -  : ( \\uc77c\\uac04) \\uc11c\\uacbd\\ub300\\ud559\\uad50 . . .\\uc6d4.  :  -  : ( \\uc77c\\uac04) \\uc11c\\uc6b8\\uacfc\\ud559\\uae30\\uc220\\ub300\\ud559\\uad50 . . .\\ud654.  :  -  : ( \\uc77c\\uac04) \\uc11c\\uc6b8\\uc2dc\\ub9bd\\ub300\\ud559\\uad50 . . .\\ud654.  :  -  : ( \\uc77c\\uac04) \\uc11c\\uc6b8\\uc5ec\\uc790\\ub300\\ud559\\uad50 . . .\\ubaa9.  :  -  : ( \\uc77c\\uac04) \\uc131\\uacf5\\ud68c\\ub300\\ud559\\uad50 \\uc131\\uc2e0\\uc5ec\\uc790\\ub300\\ud559\\uad50 . . .\\uc218.  :  -  : ( \\uc77c\\uac04) \\uc138\\uc885\\ub300\\ud559\\uad50 . . .\\ubaa9.  :  -  : ( \\uc77c\\uac04) \\uc22d\\uc2e4\\ub300\\ud559\\uad50 . . .\\uae08. :  -  : ( \\uc77c\\uac04) \\uc911\\uc559\\ub300\\ud559\\uad50 . . .\\uc218.  :  -  : ( \\uc77c\\uac04) \\ucd94\\uacc4\\uc608\\uc220\\ub300\\ud559\\uad50 . . .\\ubaa9.  :  -  : ( \\uc77c\\uac04) \\ucf00\\uc774\\uc528\\ub300\\ud559\\uad50 . . .\\uae08.  :  -  : ( \\uc77c\\uac04) \\ud55c\\uc131\\ub300\\ud559\\uad50 . . .\\ubaa9. :  -  : ( \\uc77c\\uac04)\\u203b \\ubcf8 \\uacf5\\uc9c0\\uc0ac\\ud56d\\uc740 \\uac01 \\uad50\\ub958\\ub300\\ud559\\uc5d0\\uc11c \\uacf5\\ubb38\\uc774 \\uc811\\uc218\\ub418\\ub294 \\ub300\\ub85c \\uacc4\\uc18d \\uc5c5\\ub370\\uc774\\ud2b8 \\ub429\\ub2c8\\ub2e4. \\uad6d\\ub0b4\\ub300\\ud559 \\ud559\\uc810\\uad50\\ub958\\ub97c \\uc6d0\\ud558\\uc2dc\\ub294 \\ud559\\uc0dd\\uc740 \\ubcf8 \\uacf5\\uc9c0\\uc0ac\\ud56d\\uc744 \\uc9c0\\uc18d\\uc801\\uc73c\\ub85c \\ud655\\uc778 \\ubc14\\ub78d\\ub2c8\\ub2e4.\\u203b \\uc811\\uc218\\ub9c8\\uac10 \\uc774\\ud6c4\\uc5d0\\ub294 \\uc2e0\\uccad\\ubd88\\uac00\\u203b\\uc0c1\\ub300 \\uad50\\ub958 \\ub300\\ud559\\uc758 \\uc0ac\\uc815\\uc5d0 \\ub530\\ub77c \\ud574\\ub2f9 \\ud559\\uae30 \\ud559\\uc810\\uad50\\ub958\\ub97c \\uc2dc\\ud589\\ud558\\uc9c0 \\uc54a\\uc744 \\uc218 \\uc788\\uc2b5\\ub2c8\\ub2e4.\\u25a3\\uc81c\\ucd9c\\uc11c\\ub958 \\ubc0f \\uc811\\uc218\\uc7a5\\uc18c . \\uc81c\\ucd9c\\uc11c\\ub958 : \\u2460 \\ud559\\uc810\\uad50\\ub958\\uc2e0\\uccad\\uc6d0(\\uc815\\uaddc\\ud559\\uae30) (\\ucca8\\ubd80\\ud30c\\uc77c)  \\ubd80         \\u2461 \\uc218\\ud559\\uacc4\\ud68d\\uc11c(\\ucca8\\ubd80\\ud30c\\uc77c)  \\ubd80         \\u2462 \\ud574\\ub2f9\\ub300\\ud559\\uad50 \\uad6d\\ub0b4\\ud559\\uc810\\uad50\\ub958 \\ucd94\\ucc9c\\uc790 \\uba85\\ub2e8 \\uc11c\\uc2dd(\\ucca8\\ubd80\\ud30c\\uc77c)         \\u2463 \\uc131\\uc801\\uc99d\\uba85\\uc11c         \\u2464 \\uc7ac\\ud559\\uc99d\\uba85\\uc11c . \\uc811\\uc218\\uc7a5\\uc18c : \\ud559\\uc0ac\\uc885\\ud569\\uc9c0\\uc6d0\\uc13c\\ud130\\u203b \\ud559\\uc0ac\\uc885\\ud569\\uc9c0\\uc6d0\\uc13c\\ud130 \\uc811\\uc218\\ud558\\uae30\\uc804\\uc5d0 \\uc804\\uacf5, \\ubd80\\uc804\\uacf5,  \\uc804\\uacf5, \\uc774\\uc911\\uc804\\uacf5, \\uad50\\uc591 \\ub4f1\\uc73c\\ub85c \\uc218\\uac15\\ud560 \\uacbd\\uc6b0\\ud559\\uc810\\uad50\\ub958\\uc2e0\\uccad\\uc6d0\\uc5d0 \\ubc18\\ub4dc\\uc2dc \\ud574\\ub2f9\\ud559\\uacfc\\uc7a5\\uc758 \\uc2b9\\uc778\\uc744 \\ubc1b\\uc544\\uc57c \\uc811\\uc218\\ub418\\uba70 \\uc218\\ud559\\uacc4\\ud68d\\uc11c\\ub294  \\uc804\\uacf5 \\ud559\\uacfc\\uc7a5\\ub2d8\\uc758 \\uc2b9\\uc778\\uc744 \\ubc1b\\uc544\\uc57c \\ud568\\u25a3 \\ud559\\uc810\\uad50\\ub958 \\uc548\\ub0b4  . \\uc2e0\\uccad \\uc790\\uaca9:  \\ud559\\uae30\\uc0dd~ \\ud559\\uae30\\uc0dd\\u203b  \\ud559\\ub144 \\uc774\\uc0c1( \\ud559\\ub144 \\ubd80\\ud130)\\uc758 \\uacfc\\uc815\\uc744 \\uc218\\ub8cc\\ud558\\uace0 \\ucd1d\\uc131\\uc801 \\ud3c9\\uc810\\ud3c9\\uade0\\uc774  .  \\uc774\\uc0c1\\uc73c\\ub85c \\ud559\\uce59\\uc5d0 \\uc758\\uac70\\uc9d5\\uacc4\\ubc1b\\uc740\\uc0ac\\uc2e4\\uc774 \\uc5c6\\ub294 \\uc790(\\ud3b8\\uc785\\uc0dd\\uc758 \\uacbd\\uc6b0 \\ud559\\uc0ac\\uc885\\ud569\\uc9c0\\uc6d0\\uc13c\\ud130\\ub85c \\ubb38\\uc758\\ubc14\\ub78c)\\ud0c0\\ub300 \\ucd5c\\ub300\\uc218\\uac15\\uac00\\ub2a5\\ud559\\uc810\\ud559\\uad50\\uba85\\ucd5c\\ub300  \\ud559\\uc810 \\uc774\\ub0b4\\uac74\\uad6d\\ub300\\ud559\\uad50, \\uace0\\ub824\\ub300\\ud559\\uad50, \\uad6d\\ubbfc\\ub300\\ud559\\uad50, \\ub355\\uc131\\uc5ec\\uc790\\ub300\\ud559\\uad50, \\ub3d9\\uad6d\\ub300\\ud559\\uad50, \\ubd80\\uc0b0\\uc678\\uad6d\\uc5b4\\ub300\\ud559\\uad50, \\uc11c\\uc6b8\\ub300\\ud559\\uad50, \\uc5f0\\uc138\\ub300\\ud559\\uad50, \\uc6b8\\uc0b0\\ub300\\ud559\\uad50, \\uc774\\ud654\\uc5ec\\uc790\\ub300\\ud559\\uad50, \\uc81c\\uc8fc\\ub300\\ud559\\uad50, \\ucc3d\\uc6d0\\ub300\\ud559\\uad50, \\ud55c\\uad6d\\uc608\\uc220\\uc885\\ud569\\ud559\\uad50, \\ud55c\\uc11c\\ub300\\ud559\\uad50, \\ud55c\\uc591\\ub300\\ud559\\uad50, \\ud64d\\uc775\\ub300\\ud559\\uad50\\ucd5c\\ub300  \\ud559\\uc810 \\uc774\\ub0b4\\uac00\\ud1a8\\ub9ad\\ub300\\ud559\\uad50, \\uad11\\uc6b4\\ub300\\ud559\\uad50, \\uba85\\uc9c0\\ub300\\ud559\\uad50, \\uc0bc\\uc721\\ub300\\ud559\\uad50, \\uc0c1\\uba85\\ub300\\ud559\\uad50, \\uc11c\\uac15\\ub300\\ud559\\uad50, \\uc11c\\uacbd\\ub300\\ud559\\uad50, \\uc219\\uba85\\uc5ec\\uc790\\ub300\\ud559\\uad50, \\uc11c\\uc6b8\\uacfc\\ud559\\uae30\\uc220\\ub300\\ud559\\uad50, \\uc11c\\uc6b8\\uc2dc\\ub9bd\\ub300\\ud559\\uad50, \\uc11c\\uc6b8\\uc5ec\\uc790\\ub300\\ud559\\uad50, \\uc131\\uacf5\\ud68c\\ub300\\ud559\\uad50, \\uc138\\uc885\\ub300\\ud559\\uad50, \\uc22d\\uc2e4\\ub300\\ud559\\uad50, \\uc911\\uc559\\ub300\\ud559\\uad50, \\ucd94\\uacc4\\uc608\\uc220\\ub300\\ud559\\uad50, \\ucf00\\uc774\\uc528\\ub300\\ud559\\uad50, \\ud55c\\uc131\\ub300\\ud559\\uad50,\\ub3d9\\ub355\\uc5ec\\uc790\\ub300\\ud559\\uad50, \\uc131\\uc2e0\\uc5ec\\uc790\\ub300\\ud559\\uad50, \\ud64d\\uc775\\ub300\\ud559\\uad50  . \\uc218\\uac15\\uc2e0\\uccad \\ud5c8\\uc6a9\\ud559\\uc810 :\\ub2f9\\ud574\\ud559\\uae30 \\uc218\\uac15\\ud559\\uc810\\uc740 \\ud559\\uc810 \\uc774\\ub0b4(\\ubcf8\\uad50 \\ubc0f \\ud0c0\\ub300\\ud559 \\ud3ec\\ud568)\\u203b \\ub2f9\\ud574 \\uc815\\uaddc\\ud559\\uae30\\uc5d0 \\ubcf8\\uad50 \\ubc0f \\uad6d\\ub0b4 \\ud0c0\\ub300\\ud559 \\uc218\\ud559, \\uae30\\ud0c0 \\uc778\\uc815\\ud559\\uc810\\uc81c\\ub3c4\\ub4f1\\uc744 \\ud3ec\\ud568\\ud558\\uc5ec \\ucd1d \\ud559\\uc810\\uc744 \\ucd08\\uacfc\\ud560 \\uc218 \\uc5c6\\uc73c\\uba70, \\uc7ac\\ud559\\uc911 \\uad6d\\ub0b4\\u00b7\\uc678 \\ud0c0\\ub300\\ud559 \\uad50\\ub958, \\uc778\\ud134\\uc2ed, \\uae30\\ud0c0 \\uc778\\uc815 \\ud559\\uc810\\uc81c\\ub3c4 \\ub4f1 \\uc815\\uaddc \\ubc0f \\uacc4\\uc808\\ud559\\uae30\\ub97c \\ud3ec\\ud568\\ud558\\uc5ec \\ucde8\\ub4dd\\ud560 \\uc218 \\uc788\\ub294 \\ucd5c\\ub300 \\uc778\\uc815 \\ud559\\uc810\\uc740  \\ud559\\uc810(\\ud3b8\\uc785\\uc0dd\\uc740  \\ud559\\uc810)\\uc784   . \\uad50\\ub958 \\ud69f\\uc218 :\\uc815\\uaddc\\ud559\\uae30  \\uac1c \\ud559\\uae30(\\ud3b8\\uc785\\uc0dd\\uc740  \\ud68c)  . \\uc2e0\\uccad\\uc808\\ucc28 \\uac00. \\uc81c\\ucd9c\\uc11c\\ub958 \\uc791\\uc131 \\ub098. \\uc18c\\uc18d\\ub300\\ud559 \\ubc0f \\uc218\\uac15\\uacfc\\ubaa9\\ubcc4 \\ud574\\ub2f9 \\ud559\\uacfc(\\ubd80)\\uc7a5 \\ud5c8\\uac00\\ub97c \\ubc1b\\uc740 \\ud6c4   \\ub2e4. \\uc81c\\ucd9c\\uc11c\\ub958\\ub97c \\ubaa8\\ub450 \\uc81c\\ucd9c(\\uc18c\\uc18d \\ucea0\\ud37c\\uc2a4 \\ud559\\uc0ac\\uc885\\ud569\\uc9c0\\uc6d0\\uc13c\\ud130)  . \\uc218\\uac15\\uc2e0\\uccad: \\uc218\\uac15\\uc2e0\\uccad, \\ubcc0\\uacbd \\ubc0f \\ucde8\\uc18c\\ub294 \\uc218\\ud559\\ub300\\ud559\\uc5d0\\uc11c \\uc815\\ud55c \\uc808\\ucc28\\uc5d0 \\ub530\\ub984 . \\ub4f1\\ub85d: \\uc6b0\\ub9ac\\ub300\\ud559\\uc5d0 \\ub4f1\\ub85d\\uae08\\uc744 \\ub0a9\\ubd80  . \\ud559\\uc810\\uc778\\uc815 \\uac00. \\uad50\\ub958\\ub300\\ud559\\uc5d0\\uc11c \\uc774\\uc218\\ud55c \\uad50\\uacfc\\ubaa9\\uc740 \\uc6b0\\ub9ac\\ub300\\ud559\\uc758 \\uad50\\uc721\\uacfc\\uc815 \\uad50\\uacfc\\ubaa9\\uc744 \\ucde8\\ub4dd\\ud55c \\uac83\\uc73c\\ub85c \\uc778\\uc815\\ud568\\uc744 \\uc6d0\\uce59\\uc73c\\ub85c \\ud558\\uba70,\\uc7a5\\ud559\\uc0dd \\uc120\\ubc1c \\ub4f1\\uc5d0 \\uad00\\ud55c \\ud559\\uc810\\uc778\\uc815 \\ubc0f \\ud3c9\\uc810\\uacc4\\uc0b0\\uc5d0\\ub294 \\uc0bd\\uc785\\ud558\\uc9c0 \\uc544\\ub2c8\\ud568 \\ub098. \\uad50\\ub958\\ub300\\ud559\\uc5d0\\uc11c \\uc774\\uc218\\ud55c \\ud559\\uc810\\uc758 \\uc131\\uc801(\\ubc31\\ubd84\\uc728 \\uae30\\uc900)\\uc740 \\uc6b0\\ub9ac \\ub300\\ud559\\uc758 \\uc131\\uc801\\uc0b0\\ucd9c \\ubc29\\uc2dd\\uc5d0 \\ub530\\ub77c \\ud658\\uc0b0\\ud568 \\ub2e4. \\ud559\\uc810\\uad50\\ub958\\uc2e0\\uccad\\uc6d0\\uc758 \\uc218\\uac15\\uc2e0\\uccad \\uad50\\uacfc\\ubaa9\\uacfc \\uc218\\uac15\\ud55c \\uad50\\uacfc\\ubaa9\\uc774 \\uc0c1\\uc774\\ud560 \\uacbd\\uc6b0 \\ud559\\uc810\\uc778\\uc815\\uc744 \\ubc1b\\uc744 \\uc218 \\uc5c6\\uc74c . \\ud559\\uc810\\uad50\\ub958\\uc2e0\\uccad\\uc758 \\ucde8\\uc18c: \\ud559\\uc810\\uad50\\ub958\\uc2e0\\uccad\\uc758 \\ucde8\\uc18c\\ub97c \\uc6d0\\ud558\\ub294 \\ud559\\uc0dd\\uc740 \\uc218\\uc5c5\\uc77c\\uc218  \\ubd84\\uc758  \\uc120\\uc774\\ub0b4\\uc5d0\\ud559\\uc810\\uad50\\ub958\\uc2e0\\uccad\\ucde8\\uc18c\\uc6d0\\uc744 \\uc6b0\\ub9ac\\ub300\\ud559\\uc5d0 \\uc81c\\ucd9c\\ud558\\uace0 \\ud5c8\\uac00\\ub97c\\ubc1b\\uc544\\uc57c \\ud568 . \\uc218\\uac15\\uc2e0\\uccad\\uc2dc \\uc720\\uc758\\uc0ac\\ud56d \\uac00. \\uc9c0\\uc6d0\\uc790\\uac00 \\uc120\\ubc1c\\uc778\\uc6d0\\uc744 \\ucd08\\uacfc\\ud560 \\uacbd\\uc6b0 \\ud559\\uc5c5\\uc131\\uc801 \\ud3c9\\uc810\\ud3c9\\uade0 \\uc21c\\uc73c\\ub85c \\uc120\\ubc1c\\ud568 \\ub098. \\uc6b0\\ub9ac\\ub300\\ud559 \\uad50\\uacfc\\ubaa9\\uc5d0 \\ub300\\ud55c\\uc7ac\\uc218\\uac15 \\ubaa9\\uc801\\uc73c\\ub85c \\uad50\\ub958\\ub300\\ud559\\uc758 \\uacfc\\ubaa9\\uc744 \\uc218\\uac15\\ud560 \\uc218 \\uc5c6\\uc74c \\ub2e4.\\uad50\\ub958\\ub300\\ud559\\uc5d0\\uc11c \\uc774\\uc804\\uc5d0 \\uc218\\uac15\\ud55c \\uacfc\\ubaa9\\uc740 \\uc6b0\\ub9ac\\ub300\\ud559 \\ubc0f \\uad50\\ub958\\ub300\\ud559\\uc5d0\\uc11c \\uc7ac\\uc218\\uac15 \\ud560 \\uc218 \\uc5c6\\uc74c \\ub77c. \\uc6b0\\ub9ac\\ub300\\ud559 \\uc2e4\\uc6a9\\uc678\\uad6d\\uc5b4, \\uad50\\uc591\\uc678\\uad6d\\uc5b4\\uc5d0 \\ud574\\ub2f9\\ud558\\ub294 \\uad50\\ub958\\ub300\\ud559 \\uc678\\uad6d\\uc5b4 \\uacfc\\ubaa9\\uc740 \\uc218\\uac15\\ud560 \\uc218 \\uc5c6\\uc74c \\ub9c8. \\uad50\\ub958\\ub300\\ud559\\uc758 \\uad50\\uc591\\uc601\\uc5ed\\uc5d0 \\uac1c\\uc124\\ub41c \\uad50\\uacfc\\ubaa9\\uc740 \\uc6b0\\ub9ac \\ub300\\ud559\\uc758 \\uc804\\uacf5\\ud559\\uc810\\uc73c\\ub85c \\uc778\\uc815\\ub418\\uc9c0 \\uc54a\\uc73c\\ubbc0\\ub85c \\uc6b0\\ub9ac\\ub300\\ud559 \\uc804\\uacf5\\uc5d0 \\ud574\\ub2f9\\ud558\\ub294 \\uad50\\ub958\\ub300\\ud559 \\uad50\\uc591\\uacfc\\ubaa9\\uc740 \\uc218\\uac15\\ud560 \\uc218 \\uc5c6\\uc74c. \\ubc14. \\uc6b0\\ub9ac\\ub300\\ud559 \\uad50\\uacfc\\ubaa9\\uacfc <\\ub3d9\\uc77c\\uad50\\uacfc\\ubaa9> \\ubc0f <\\uc720\\uc0ac\\uad50\\uacfc\\ubaa9>\\uc740 \\uc911\\ubcf5 \\uc218\\uac15\\ud560 \\uc218 \\uc5c6\\uc74c \\uc0ac. \\uad50\\ub958\\ub300\\ud559\\uc5d0\\uc11c \\uc774\\uc218\\uc608\\uc815\\uc778 \\uc804\\uacf5,  \\uc804\\uacf5, \\uc774\\uc911\\uc804\\uacf5, \\ubd80\\uc804\\uacf5, \\uad50\\uc591\\uc758 \\uacbd\\uc6b0, \\uac01 \\uad50\\uacfc\\ubaa9 \\ubcc4\\ub85c\\uc6b0\\ub9ac\\ub300\\ud559\\uc758 \\uac01 \\ud574\\ub2f9 \\ud559\\uacfc(\\ubd80)\\uc7a5\\uc758 \\uc2b9\\uc778\\uc744 \\ubc1b\\uc544\\uc57c \\ud568.(\\ud559\\uc810\\uad50\\ub958\\uc2e0\\uccad\\uc6d0\\uc5d0 \\uc2b9\\uc778 \\ubc1b\\uc740 \\ud6c4 \\uc81c\\ucd9c) \\uc544. \\uc218\\uac15\\uc2e0\\uccad\\uc11c\\uc758 \\uad50\\uacfc\\ubaa9\\uacfc \\uc2e4\\uc81c\\ub85c \\uc218\\uac15\\ud55c \\uad50\\uacfc\\ubaa9\\uc774 \\uc0c1\\uc774\\ud560 \\uacbd\\uc6b0 \\ud559\\uc810\\uc778\\uc815\\uc744 \\ubc1b\\uc744 \\uc218 \\uc5c6\\uc74c \\uc790. \\ud559\\uacfc\\uc5d0\\uc11c \\uc815\\ud55c \\uc804\\uacf5\\ud544\\uc218 \\uacfc\\ubaa9\\uacfc \\uad50\\uc9c1\\uacfc\\ubaa9\\uc740 \\ubc18\\ub4dc\\uc2dc \\uc6b0\\ub9ac \\ub300\\ud559\\uc5d0\\uc11c\\ub9cc \\uc218\\uac15\\ud558\\uc5ec\\uc57c \\ud568 \\ucc28. \\uc131\\uc801\\uc778\\uc815\\uc740 \\ud0c0\\ub300\\ud559 \\ubc31\\ubd84\\uc728 \\uc810\\uc218\\ub97c \\uae30\\uc900\\uc73c\\ub85c \\uc6b0\\ub9ac\\ub300\\ud559 \\ud3c9\\uc810\\uc744 \\uc801\\uc6a9\\ud568 \\uce74.\\ud55c \\ud559\\uae30 \\ub3d9\\uc548 \\ucde8\\ub4dd\\ud560 \\uc218 \\uc788\\ub294 \\ubaa8\\ub4e0 \\ud559\\uc810\\uc740 \\uc6b0\\ub9ac\\ub300\\ud559 \\uc218\\uac15\\uc2e0\\uccad, \\uc778\\ud134\\uc2ed, \\uae30\\ud0c0\\uc778\\uc815\\ud559\\uc810\\uc744 \\ud3ec\\ud568  \\ud559\\uc810\\uc744 \\ucd08\\uacfc\\ud560 \\uc218 \\uc5c6\\uc74c \\ud0c0. \\ud0c0\\ub300\\ud559 F\\ud559\\uc810\\ub3c4 \\uc131\\uc801\\uc5d0 \\ud3ec\\ud568\\ub428.(\\uc878\\uc5c5\\ud6c4\\uc5d0\\ub3c4 \\uc0ad\\uc81c\\ub418\\uc9c0 \\uc54a\\uc73c\\uba70 \\uc6b0\\ub9ac\\ub300\\ud559 \\ubc0f \\ud0c0\\ub300\\ud559\\uc5d0\\uc11c \\uc7ac\\uc218\\uac15\\ub3c4 \\ubd88\\uac00\\ud568) . \\ubb38\\uc758\\ucc98:  - - .  .\\uc11c\\uc6b8\\ucea0\\ud37c\\uc2a4 \\uad50\\ubb34\\ucc98\\uc7a5\",\n          \"[\\uae00\\ub85c\\ubc8c] \\uc878\\uc5c5 \\uc608\\ube44\\uc0ac\\uc815 \\uacb0\\uacfc \\uc870\\ud68c\\uae00\\ub85c\\ubc8c\\ucea0\\ud37c\\uc2a4 \\uc878\\uc5c5( \\ub144  \\uc6d4) \\uc608\\ube44\\uc0ac\\uc815 \\uacb0\\uacfc\\ub97c \\ud655\\uc778\\ud558\\uc2dc\\uae30 \\ubc14\\ub78d\\ub2c8\\ub2e4. . \\ud655\\uc778\\ubc29\\ubc95\\uc885\\ud569\\uc815\\ubcf4\\uc2dc\\uc2a4\\ud15c \\u2192 \\uc131\\uc801/\\ud559\\uc810/\\uc878\\uc5c5\\uad00\\ub9ac \\u2192 \\uc878\\uc5c5\\uc608\\ube44\\uc0ac\\uc815 \\uacb0\\uacfc \\uc870\\ud68c . \\uc790\\ub8cc \\uae30\\uc900\\uc2dc\\uc810 :  .  .  (\\ubaa9) \\uc624\\ud6c4  \\uc2dc \\uae30\\uc900( . (\\ubaa9) \\uc624\\ud6c4  \\uc2dc \\uae30\\uc900 \\uc5c5\\ub370\\uc774\\ud2b8) ) \\uacc4\\uc808\\ud559\\uae30 \\uc218\\uac15\\uc2e0\\uccad \\ub0b4\\uc5ed \\ubbf8\\ubc18\\uc601(\\uacc4\\uc808\\ud559\\uae30 \\uc218\\uac15\\uc0dd\\uc740 \\uacc4\\uc808\\ud559\\uae30 \\uc131\\uc801\\ubc18\\uc601( \\uc6d4  \\uc77c \\uc774\\ud6c4 \\uc7ac\\ud655\\uc778 \\uc694\\ub9dd) ) \\ucd94\\ud6c4  \\ud68c \\uc790\\ub8cc \\uc5c5\\ub370\\uc774\\ud2b8 \\uc608\\uc815 . \\ucc38\\uace0\\uc0ac\\ud56d ) \\uacc4\\uc808\\ud559\\uae30 \\uc218\\uac15\\uc0dd\\uc758 \\uacbd\\uc6b0 \\ucd94\\ud6c4 \\uacc4\\uc808\\ud559\\uae30 \\uc131\\uc801\\ubc18\\uc601 \\uc2dc \\uacb0\\uacfc\\uac00 \\ub2ec\\ub77c\\uc9c8 \\uc218 \\uc788\\uc74c ) \\uc804\\uacf5\\ud544\\uc218 \\uacfc\\ubaa9 \\ubbf8 \\uc774\\uc218\\uc790\\ub294 \\ucd5c\\uc885 \\uc878\\uc5c5\\uc0ac\\uc815\\uc5d0\\uc11c \\ud0c8\\ub77d\\ub420 \\uc218 \\uc788\\uc74c (\\uc804\\uacf5\\ud544\\uc218 \\uc774\\uc218\\uc5d0 \\uad00\\ud574\\uc11c\\ub294 \\uc18c\\uc18d \\ud559\\uacfc\\uc7a5\\uc2e4\\ub85c \\ubb38\\uc758) ) \\uc678\\uad6d\\uc5b4\\uc778\\uc99d(\\uc878\\uc5c5\\uc778\\uc99d) \\ubc0f \\uc2e4\\uc6a9\\uc678\\uad6d\\uc5b4(\\ud544\\uc218) \\ub300\\uccb4\\uacfc\\uc815 \\uc774\\uc218\\uc790(\\uc5ec\\ub984\\ubc29\\ud559 \\ud2b9\\ubcc4\\uacfc\\uc815)\\ub294 \\ud574\\ub2f9 \\uacfc\\uc815 \\uc885\\ub8cc \\ud6c4 \\uc878\\uc5c5 \\ub610\\ub294 \\uc218\\ub8cc\\ucc98\\ub9ac\\uac00 \\uac00\\ub2a5\\ud568 . \\uc810\\uac80 \\ubc0f \\uc870\\uce58\\uc0ac\\ud56d :  .  .  (\\uae08)\\uae4c\\uc9c0 \\uc870\\uce58 \\uc694\\ub9dd ) \\uc774\\uc218\\uad6c\\ubd84 \\ud655\\uc778 \\ubc0f \\uc218\\uc815(\\uacc4\\uc808\\ud559\\uae30 \\ud3ec\\ud568) : \\ud559\\uc0ac\\uc885\\ud569\\uc9c0\\uc6d0\\uc13c\\ud130 \\ubc29\\ubb38(\\uadfc\\ubb34\\uc2dc\\uac04 \\ud3c9\\uc77c  : ~  : ) \\ub610\\ub294 \\uc774\\uba54\\uc77c \\uc81c\\ucd9c\\ub2e8\\uacfc\\ub300\\ud559\\ub2f4\\ub2f9\\uc790\\uc774\\uba54\\uc77c \\uc8fc\\uc18c\\uc804\\ud654\\uc704\\uce58\\uc778\\ubb38\\ub300\\ud559, \\ud1b5\\ubc88\\uc5ed\\ub300\\ud559\\uc720\\ubcd1\\ud5cc\\uc5b4\\ubb38\\ud559\\uad00 \\ud638\\ub3d9\\uc720\\ub7fd\\ud559\\ub300\\ud559, \\uad6d\\uc81c\\uc9c0\\uc5ed\\ub300\\ud559\\ud64d\\uc740\\uacbd\\uc5b4\\ubb38\\ud559\\uad00 \\ud638\\uacbd\\uc0c1\\ub300\\ud559\\uc784\\uc11c\\ud604\\uc5b4\\ubb38\\ud559\\uad00 \\ud638\\uc790\\uc5f0\\uacfc\\ud559\\ub300\\ud559\\uae40\\uba85\\uc120\\ud559\\uc0dd\\ud68c\\uad00 \\ud638\\uacf5\\uacfc\\ub300\\ud559, \\ubc14\\uc774\\uc624\\uba54\\ub514\\uceec\\uacf5\\ud559\\ubd80\\uc548\\uc885\\uc6a9\\ud559\\uc0dd\\ud68c\\uad00 \\ud638\\u203b \\ud604\\uc7ac \\uc774\\uc218\\uad6c\\ubd84 \\uae30\\uc900\\uc73c\\ub85c \\ud559\\uc810 \\ubbf8\\uc644\\ub8cc \\uc2dc \\ub2e4\\uc74c \\ud559\\uae30 \\uc218\\uac15\\uc2e0\\uccad \\ubc0f \\ub4f1\\ub85d\\ud558\\uc5ec\\uc57c \\ud568 ) \\uc804\\uacf5\\uc774\\uc218 \\ubcc0\\uacbd : \\ud559\\uc0ac\\uc885\\ud569\\uc9c0\\uc6d0\\uc13c\\ud130 \\ubc29\\ubb38(\\ud559\\uc0dd\\ud68c\\uad00  \\ud638) \\ub610\\ub294 \\uc774\\uba54\\uc77c \\uc81c\\ucd9c()- \\uae30\\uc874 \\uc804\\uacf5\\uc2ec\\ud654+\\ubd80\\uc804\\uacf5 \\uc774\\uc218\\uc790 \\uc911 \\ubd80\\uc804\\uacf5(\\uc804\\uacf5\\uc2ec\\ud654X) \\ud76c\\ub9dd\\uc2dc \\ubcc0\\uacbd \\uc2e0\\uccad- \\ub2e8\\uc77c\\uc804\\uacf5 \\uc774\\uc218 \\ud76c\\ub9dd\\uc2dc \\uae30\\uc874 \\uc774\\uc218\\uc911\\uc778 \\ubd80\\uc804\\uacf5 \\ub610\\ub294 \\uc774\\uc911\\uc804\\uacf5 \\ucde8\\uc18c \\uc2e0\\uccad\\u203b \\ud604\\uc7ac \\uc804\\uacf5\\uc774\\uc218 \\uae30\\uc900\\uc73c\\ub85c \\ud559\\uc810 \\ubbf8\\uc644\\ub8cc \\uc2dc \\ub2e4\\uc74c \\ud559\\uae30 \\uc218\\uac15\\uc2e0\\uccad \\ubc0f \\ub4f1\\ub85d\\ud558\\uc5ec\\uc57c \\ud568  ) \\uad50\\ub958\\ud559\\uc810 \\ubc0f \\ud559\\uc810\\uc778\\uc815 \\ucc98\\ub9ac :  + , \\uad50\\ud658\\ud559\\uc0dd, \\ub2e8\\uae30\\uc5f0\\uc218, \\uc2e4\\uc678\\ub300\\uccb4 \\ub4f1 \\uc2e0\\uc18d\\ud788 \\ucc98\\ub9ac\\uc694\\ub9dd ) \\ucf54\\uc5b4\\uc0ac\\uc5c5 \\uc9c0\\uc5ed\\ud559\\uc0ac/\\uc9c0\\uc5ed\\uc804\\ubb38\\uac00\\uacfc\\uc815/\\ud559\\uc11d\\uc0ac\\uc5f0\\uacc4\\uacfc\\uc815 \\uc2e0\\uccad\\uc790 \\uc911 \\uc878\\uc5c5 \\ub610\\ub294 \\uc218\\ub8cc\\ub97c \\ud76c\\ub9dd\\ud560 \\uacbd\\uc6b0 \\ucca8\\ubd80 \\uc11c\\ub958\\ub97c \\uc791\\uc131\\ud558\\uc5ec \\ud559\\uacfc \\ud655\\uc778\\uc744 \\ubc1b\\uc740 \\ud6c4 \\ud559\\uc0ac\\uc885\\ud569\\uc9c0\\uc6d0\\uc13c\\ud130(\\ud559\\uc0dd\\ud68c\\uad00  \\ud638)\\ub85c \\uc81c\\ucd9c\\ud574\\uc57c \\ud559\\uc704\\uc99d\\uc5d0 \\uc9c0\\uc5ed\\ud559\\uc0ac \\ub610\\ub294 \\uc9c0\\uc5ed\\uc804\\ubb38\\uac00\\uacfc\\uc815 \\uc774\\uc218\\uac00 \\ubc18\\uc601\\ub428 ) \\uc678\\uad6d\\uc5b4\\uc778\\uc99d \\uc81c\\ucd9c \\uc11c\\ub958\\ub294 \\uc774\\uba54\\uc77c \\uc81c\\ucd9c\\uc740 \\ubd88\\uac00\\ud558\\uba70, \\uc6d0\\ubcf8\\uc73c\\ub85c \\uc6b0\\ud3b8(\\ub4f1\\uae30) \\ub610\\ub294 \\ubc29\\ubb38 \\uc81c\\ucd9c\\ub9cc  \\uc6d4  \\uc77c\\uae4c\\uc9c0 \\uac00\\ub2a5\\ud568 .  .\\uae00\\ub85c\\ubc8c\\ucea0\\ud37c\\uc2a4 \\uad50\\ubb34\\ucc98\\uc7a5\"\n        ],\n        \"semantic_type\": \"\",\n        \"description\": \"\"\n      }\n    },\n    {\n      \"column\": \"content_filter_text\",\n      \"properties\": {\n        \"dtype\": \"string\",\n        \"num_unique_values\": 605,\n        \"samples\": [\n          \"(\\uae00\\ub85c\\ubc8c) - \\ud559\\uae30 \\uc774\\uc911\\uc804\\uacf5 \\ubcc0\\uacbd \\uc2e0\\uccad \\uacf5\\uace0 _\\ub0b4\\uc6a9 \\ucd94\\uac00  \\ud559\\ub144\\ub3c4  \\ud559\\uae30 \\uc774\\uc911\\uc804\\uacf5 \\ubcc0\\uacbd \\uc2e0\\uccad \\uc77c\\uc815\\uc744 \\uc544\\ub798\\uc640 \\uac19\\uc774 \\uacf5\\uace0\\ud568       \\u203bEU\\uc804\\uacf5(\\uae00\\ub85c\\ubc8c)\\uc740 \\ud3d0\\uc9c0\\ub418\\uc5b4 \\uc11c\\uc6b8\\ucea0\\ud37c\\uc2a4\\uc758 EU\\uc804\\uacf5\\uc73c\\ub85c \\uc2e0\\uccad\\ud558\\uc5ec \\uc774\\uc218\\ud568       \\u203b\\uc735\\ud569\\uc778\\uc7ac\\ud559\\ubd80 \\uc774\\uc218\\ub300\\uc0c1 \\uc138\\ubd80\\ubaa8\\ub4c8 \\uc81c\\ud55c \\ucd94\\uac00\\ub428_  )\\ud558\\ub2e8 \\uc774\\uc218\\ub300\\uc0c1 \\uc81c\\ud55c \\ucc38\\uc870       \\u203b\\uc735\\ud569\\uc778\\uc7ac\\ud559\\ubd80 \\uc2e0\\uccad\\uc790\\ub294 \\ucca8\\ubd80\\ub41c \\uc138\\ubd80\\ubaa8\\ub4c8 \\uc2e0\\uccad\\uc11c \\uc81c\\ucd9c: \\ud559\\uc0dd\\ud68c\\uad00 \\ud638 \\ud559\\uc0ac\\uc885\\ud569\\uc9c0\\uc6d0\\uc13c\\ud130- \\uc544    \\ub798 - . \\uc774\\uc911\\uc804\\uacf5 \\ubcc0\\uacbd \\uc2e0\\uccad\\uad6c\\ubd84\\ub0b4\\uc6a9\\ub300\\uc0c1\\uc790 ~ \\ud559\\ub144 \\ud559\\uc0dd \\uc911 \\uc7ac\\ud559\\uc0dd \\ubc0f \\ud734\\ud559\\uc0dd[\\uc774\\uc911\\uc804\\uacf5 \\ubcc0\\uacbd \\uc2e0\\uccad\\uae30\\uac04\\uc5d0 \\ubc30\\uc815\\ub41c \\uc801\\uc774 \\uc5c6\\ub294 \\ud559\\uc0dd]\\u203b \\uae30\\uc874\\uc5d0 \\uc774\\uc911\\uc804\\uacf5\\uc744 \\uc2e0\\uccad\\ud55c \\uc801\\uc774 \\uc5c6\\uac70\\ub098 \\ubbf8\\uc120\\ubc1c \\ub41c \\uacbd\\uc6b0\\uc5d0\\ub3c4  ~ \\ud559\\ub144\\uc740 \\uc774\\uc911\\uc804\\uacf5 \\ubcc0\\uacbd \\uae30\\uac04\\uc5d0 \\uc2e0\\uccad \\ud568\\u203b  \\ud559\\ub144\\ub3c4 ( \\uc6d4 \\uc785\\ud559)\\uc21c\\uc218\\uc678\\uad6d\\uc778 \\ud3b8\\uc785\\uc0dd\\uc740 \\uc774\\uc911\\uc804\\uacf5 \\uc2e0\\uccad\\uae30\\uac04( .  /  ~  / )\\uc5d0 \\uc2e0\\uccad\\ud568\\uc2e0\\uccad\\uae30\\uac04 .  .  (\\uc6d4),  :  ~  .  (\\uae08),  : \\u203b \\uc2e0\\uccad\\uae30\\uac04 \\uc774\\ud6c4 \\ucd94\\uac00 \\uc2e0\\uccad \\ubc0f \\ubcc0\\uacbd \\uc808\\ub300 \\ubd88\\uac00 \\uc2e0\\uccad\\ubc29\\ubc95\\uc885\\ud569\\uc815\\ubcf4\\uc2dc\\uc2a4\\ud15c\\u2192\\uc804\\uacf5/\\uad50\\uc9c1\\uad00\\ub9ac\\u2192\\uc774\\uc911\\uc804\\uacf5 \\ubcc0\\uacbd\\uc2e0\\uccad \\u203b \\uc774\\uc911\\uc804\\uacf5 \\ubcc0\\uacbd \\uc2e0\\uccad\\uc740  \\uc9c0\\ub9dd\\ub9cc \\uc2e0\\uccad\\uac00\\ub2a5(\\uc2e0\\uccad \\ud6c4 \\uc870\\ud68c\\ud558\\uc5ec \\uacb0\\uacfc \\uc7ac\\ud655\\uc778)\\ubc30\\uc815\\ud655\\uc815 \\ub144  \\uc6d4 \\ub9d0~  \\ub144  \\uc6d4 \\ucd08 \\uc608\\uc815(\\ubcc4\\ub3c4 \\uacf5\\uace0 \\uc608\\uc815) . \\ubc30\\uc815\\uc6d0\\uce59\\uac00. \\ud604 \\uc2dc\\uc810 \\uae30\\uc900 \\ud559\\uacfc\\ubcc4/\\ud559\\ubc88\\ub300\\ubcc4 \\uc774\\uc911\\uc804\\uacf5 \\uc5ec\\uc11d \\ub0b4\\uc5d0\\uc11c \\ubc30\\uc815_\\ucca8\\ubd80\\ud30c\\uc77c \\ucc38\\uc870\\ub098.  \\ud559\\uc810 \\uc774\\uc0c1 \\ucde8\\ub4dd\\uc790 \\uc131\\uc801\\uc21c \\uc6b0\\uc120 \\ubc30\\uc815 \\ud6c4 \\ud559\\uc810 \\uc774\\ud558 \\uc131\\uc801\\uc21c \\ubc30\\uc815(\\uc5ec\\uc11d\\ubbf8\\ub2ec\\uc740 \\ubaa8\\ub450 \\ubc30\\uc815)  )\\ud3c9\\uc810\\ud3c9\\uade0 \\ub3d9\\uc810\\uc790 \\ubc1c\\uc0dd \\uc2dc \\uc774\\uc218\\ud559\\uc810\\uc774 \\ub192\\uc740 \\ud559\\uc0dd \\uc6b0\\uc120 \\ubc30\\uc815, \\uc774\\uc218\\ud559\\uc810\\ub3c4 \\ub3d9\\uc77c\\uc2dc \\uc804\\uc6d0 \\ubc30\\uc815  )\\ub9c8\\uac10\\uc77c( / )  \\uc2dc \\uae30\\uc900 \\uc131\\uc801\\uc73c\\ub85c \\ubc30\\uc815(\\ub9c8\\uac10 \\ud6c4 \\ubcc0\\ub3d9\\ub41c \\uc131\\uc801\\uc740 \\ubbf8\\ubc18\\uc601) . \\uc720\\uc758\\uc0ac\\ud56d\\uac00. \\uc11c\\uc6b8\\ucea0\\ud37c\\uc2a4\\uc758 \\uc18c\\uc18d(\\ud559\\uacfc \\ubc0f \\uc735\\ud569\\uc804\\uacf5) \\uc774\\uc911\\uc804\\uacf5 \\ud76c\\ub9dd\\uc790\\ub294 \\uc11c\\uc6b8\\ucea0\\ud37c\\uc2a4 \\uc774\\uc911\\uc804\\uacf5 \\ubcc0\\uacbd\\uc2e0\\uccad \\uacf5\\uace0 \\ud655\\uc778\\ub098. \\uc11c\\uc6b8\\ucea0\\ud37c\\uc2a4\\uc5d0\\uc11c \\uc774\\uc218\\ud55c \\uc774\\uc911\\uc804\\uacf5(\\ubd80\\uc804\\uacf5) \\uad50\\uacfc\\ubaa9\\uc740 \\uae00\\ub85c\\ubc8c\\ucea0\\ud37c\\uc2a4 \\uc18c\\uc18d\\uc758 \\uc774\\uc911\\uc804\\uacf5(\\ubd80\\uc804\\uacf5)\\uc73c\\ub85c \\ubcc0\\uacbd \\ud55c \\ud6c4\\uc5d0\\ub294 \\uc7ac\\uc218\\uac15 \\ubd88\\uac00\\u203b\\uc11c\\uc6b8\\ucea0\\ud37c\\uc2a4\\uc758 \\uc774\\uc911\\uc804\\uacf5(\\ubd80\\uc804\\uacf5)\\uc774 \\uc720\\uc9c0\\ub41c \\uc0c1\\ud0dc\\uc5d0\\uc11c \\uc7ac\\uc218\\uac15\\uc744 \\uc644\\ub8cc\\ud574\\uc57c \\ud568\\ub2e4. \\ud559\\uacfc\\ubcc4 \\uc804\\ud615\\uc774 \\uc788\\ub294 \\ud559\\uacfc\\uc758 \\uacbd\\uc6b0 \\ubc18\\ub4dc\\uc2dc \\ud559\\uacfc \\uc0ac\\ubb34\\uc2e4 \\ubb38\\uc758\\ub97c \\ud1b5\\ud574 \\uc2dc\\ud5d8/\\uba74\\uc811/\\uc11c\\ub958 \\uc81c\\ucd9c \\ub4f1\\uc758 \\uc77c\\uc815\\ubc0f \\uc790\\uaca9\\uc744 \\ud655\\uc778\\ud558\\uae30 \\ubc14\\ub78c.\\ub77c. \\uc774\\uc911\\uc804\\uacf5 \\ubcc0\\uacbd \\uc2e0\\uccad\\uae30\\uac04\\uc5d0 \\uc2e0\\uccad\\ud558\\uc5ec \\ubc30\\uc815\\ub41c \\uacbd\\uc6b0, \\ub2e4\\uc74c \\ud559\\uae30\\ubd80\\ud130\\ub294 \\uc774\\uc911\\uc804\\uacf5 \\ubcc0\\uacbd\\uc2e0\\uccad\\uc774 \\ubd88\\uac00\\ud568 (\\ubbf8\\ubc30\\uc815 \\uc2dc\\ub294 \\ub2e4\\uc74c \\ud559\\uae30 \\uc774\\uc911\\uc804\\uacf5 \\ubcc0\\uacbd\\uc2e0\\uccad \\uae30\\uac04\\uc5d0 \\uacc4\\uc18d \\uc2e0\\uccad \\uac00\\ub2a5)\\ub9c8. \\ud3b8\\uc785\\uc0dd\\ub3c4 \\uc7ac\\ud559 \\uc5f0\\ud55c \\ub0b4 \\ud76c\\ub9dd \\uc2dc \\uc774\\uc911\\uc804\\uacf5, \\ubd80\\uc804\\uacf5, \\uc804\\uacf5\\uc2ec\\ud654(\\ubd80\\uc804\\uacf5)\\ub85c \\uc774\\uc218\\ud560 \\uc218 \\uc788\\uc74c(\\ub2e4\\ub9cc, \\uc774\\uc218 \\uc2dc \\uc878\\uc5c5\\uc870\\uac74\\uc774 \\ubcc0\\uacbd\\ub428)\\ubc14. \\ud6c4\\uae30\\uc774\\uc911\\uc804\\uacf5 \\uc120\\ubc1c\\uc790\\uac00 \\uc774\\uc911\\uc804\\uacf5 \\ubcc0\\uacbd \\uae30\\uac04\\uc5d0 \\ubc30\\uc815\\ub418\\uc5c8\\uc744 \\uacbd\\uc6b0 \\ub458 \\uc911\\uc758 \\ud558\\ub098\\ub97c \\ubc18\\ub4dc\\uc2dc \\ucde8\\uc18c\\ud574\\uc57c \\ud568\\uc0ac. AI\\uc735\\ud569\\uc804\\uacf5 \\ud559\\ubc88\\ubcc4 \\uc2e0\\uccad \\uc548\\ub0b4   )  \\ud559\\ubc88 \\uc774\\uc0c1: AI\\uc735\\ud569\\uc804\\uacf5( \\ud559\\ub144\\uacfc\\uc815)\\uc73c\\ub85c \\uc2e0\\uccad \\ud6c4  \\ud559\\ub144 \\uc9c4\\uae09 \\uc804 \\uc138\\ubd80\\ud2b8\\ub799 \\uc2e0\\uccad \\ubc0f \\ubc30\\uc815 \\uac00) \\uac1c\\ud559\\uae30 \\uc7ac\\uc801\\uc0dd=> \\ud559\\ub144 \\uacfc\\uc815\\uc778 AI\\uc735\\ud569\\uc804\\uacf5 \\uc2e0\\uccad \\ub098) \\uac1c\\ud559\\uae30 \\uc774\\uc0c1 \\uc7ac\\uc801\\uc0dd(AI\\uc735\\ud569\\uc804\\uacf5\\uc73c\\ub85c \\ubcc0\\uacbd\\ud558\\uace0\\uc790 \\ud558\\ub294 \\uacbd\\uc6b0) => \\ud559\\ub144 \\uacfc\\uc815\\uc778 \\ud76c\\ub9dd \\uc138\\ubd80\\ud2b8\\ub799\\u3010AI\\uc804\\uacf5(Software&AI\\ud2b8\\ub799/Language&AI\\ud2b8\\ub799/Business&AI\\ud2b8\\ub799\\u3011\\uc73c\\ub85c \\uc2e0\\uccad     \\u203bSoftware&AI\\ud2b8\\ub799\\uc740 \\ucef4\\ud4e8\\ud130\\uacf5\\ud559\\ubd80, \\uc815\\ubcf4\\ud1b5\\uc2e0\\uacf5\\ud559\\uacfc, \\uc0b0\\uc5c5\\uacbd\\uc601\\uacf5\\ud559\\uacfc \\uc18c\\uc18d \\ud559\\uc0dd\\uc740 \\uc2e0\\uccad \\ubd88\\uac00   )  \\ud559\\ubc88 \\uc774\\ud558: \\ud76c\\ub9dd \\uc138\\ubd80\\ud2b8\\ub799\\uc73c\\ub85c \\ubc14\\ub85c \\uc2e0\\uccad    \\u203bSoftware&AI\\ud2b8\\ub799(\\uad6c, \\uc735\\ubcf5\\ud569\\uc18c\\ud504\\ud2b8\\uc6e8\\uc5b4\\uc804\\uacf5)\\uc740 \\uacf5\\uacfc\\ub300\\ud559 \\ubc0f \\uc790\\uc5f0\\uacfc\\ud559\\ub300\\ud559 \\uc18c\\uc18d \\ud559\\uc0dd\\uc740 \\uc2e0\\uccad\\ud560 \\uc218 \\uc5c6\\uc74c \\uc544.\\uc735\\ud569\\uc804\\uacf5 \\uc911 EU\\uc804\\uacf5(\\uae00\\ub85c\\ubc8c)\\uc740 \\ud3d0\\uc9c0\\ub418\\uc5b4 \\uc11c\\uc6b8\\ucea0\\ud37c\\uc2a4\\uc758 EU\\uc804\\uacf5\\uc744 \\uc2e0\\uccad\\ud558\\uc5ec \\uc774\\uc218\\ud568.\\uc790. \\uc735\\ud569\\uc778\\uc7ac\\ud559\\ubd80 \\ub0b4 \\uc774\\uc911\\uc804\\uacf5 \\uc138\\ubd80\\ubaa8\\ub4c8 \\uc120\\ud0dd \\uc81c\\ud55c ) \\uc735\\ud569\\uc778\\uc7ac\\ub300\\ud559 \\uc735\\ud569\\uc778\\uc7ac\\ud559\\ubd80\\ub294 \\uc774\\uc911\\uc804\\uacf5\\ub9cc \\uc9c0\\uc6d0 \\uc774\\uc218 \\uac00\\ub2a5\\ud558\\uba70  \\uac1c \\uc138\\ubd80\\ubaa8\\ub4c8 \\uc911  \\uac1c\\uc758 \\uc138\\ubd80\\ubaa8\\ub4c8\\uc744 \\uc790\\uc728\\uc801\\uc73c\\ub85c \\uc120\\ud0dd\\ud558\\uc5ec \\uc774\\uc218 \\ud568(\\ub3d9\\uc77c \\ubaa8\\ub4c8 \\ub0b4 \\uc138\\ubd80\\ubaa8\\ub4c8 \\uc911\\ubcf5 \\uc120\\ud0dd \\uac00\\ub2a5).   \\u203b\\uc735\\ud569\\uc778\\uc7ac\\ud559\\ubd80 \\uc774\\uc911\\uc804\\uacf5 \\uc138\\ubd80\\ubaa8\\ub4c8 \\uc2e0\\uccad\\uc11c \\uc11c\\uc2dd \\uc81c\\ucd9c(\\ucca8\\ubd80): \\ud559\\uc0dd\\ud68c\\uad00 \\ud638 \\ud559\\uc0ac\\uc885\\ud569\\uc9c0\\uc6d0\\uc13c\\ud130 ) \\ubaa8\\ub4c8\\uad6c\\ubd84 \\ubc0f \\uc138\\ubd80\\ubaa8\\ub4c8\\uc21c\\ubc88\\uad6c\\ubd84\\ud559\\uacfc\\uba85(\\uc138\\ubd80\\ubaa8\\ub4c8)\\ube44\\uace0 \\ud1b5\\ubc88\\uc5ed\\ubaa8\\ub4c8\\uc601\\uc5b4\\ud1b5\\ubc88\\uc5ed\\uc138\\ubd80\\ubaa8\\ub4c8\\uc911\\ubcf5 \\uc120\\ud0dd \\uac00\\ub2a5 \\uc544\\ub78d\\uc5b4\\ud1b5\\ubc88\\uc5ed\\uc138\\ubd80\\ubaa8\\ub4c8 \\uc911\\uad6d\\uc5b4\\ud1b5\\ubc88\\uc5ed\\uc138\\ubd80\\ubaa8\\ub4c8 \\uad6d\\uc81c\\uc804\\ub7b5\\ubaa8\\ub4c8\\ubbf8\\uad6d.\\uc601\\uc5f0\\ubc29\\uc804\\ub7b5\\uc138\\ubd80\\ubaa8\\ub4c8\\uc911\\ubcf5 \\uc120\\ud0dd \\uac00\\ub2a5 \\uc774\\ud0c8\\ub9ac\\uc544.EU\\uc804\\ub7b5\\uc138\\ubd80\\ubaa8\\ub4c8 \\uc911\\ub3d9.\\uc774\\uc2ac\\ub78c\\uc804\\ub7b5\\uc138\\ubd80\\ubaa8\\ub4c8 \\uc911\\ud654\\uad8c\\uc804\\ub7b5\\uc138\\ubd80\\ubaa8\\ub4c8 \\ubb38\\ud654\\uc0b0\\uc5c5\\ucf58\\ud150\\uce20\\ubaa8\\ub4c8\\ud14c\\ud06c\\ub178\\ubbf8\\ub514\\uc5b4\\ub514\\uc790\\uc778\\uc138\\ubd80\\ubaa8\\ub4c8\\uc911\\ubcf5 \\uc120\\ud0dd \\uac00\\ub2a5 \\ud328\\uc158\\uad00\\uad11\\ubb38\\ud654\\uc0b0\\uc5c5\\uc138\\ubd80\\ubaa8\\ub4c8 \\uac8c\\uc784\\ud55c\\ub958\\ubb38\\ud654\\uc0b0\\uc5c5\\uc138\\ubd80\\ubaa8\\ub4c8 \\uc735\\ud569\\ube44\\uc988\\ub2c8\\uc2a4\\ubaa8\\ub4c8\\uc735\\ud569\\ube44\\uc988\\ub2c8\\uc2a4\\uc138\\ubd80\\ubaa8\\ub4c8 ICT&AI\\ubaa8\\ub4c8ICT&AI\\uc138\\ubd80\\ubaa8\\ub4c8 ) \\uc774\\uc218\\ub300\\uc0c1 \\uc81c\\ud55c _\\uc601\\uc5b4\\uad00\\ub828 \\uc81c \\uc804\\uacf5\\uc790 \\uc81c\\ud55c \\uc138\\ubd80\\ubaa8\\ub4c8 <\\ucd94\\uac00> \\uc804\\uacf5 \\uc18c\\uc18d\\ud559\\uacfc(\\uc804\\uacf5)\\uc81c\\ud55c \\uc138\\ubd80\\ubaa8\\ub4c8\\uc601\\uc5b4\\uad00\\ub828 \\uc81c \\uc804\\uacf5\\uc790\\uc601\\uc5b4\\ud1b5\\ubc88\\uc5ed\\uc138\\ubd80\\ubaa8\\ub4c8 \\ubc0f \\ubbf8\\uad6d\\uc601\\uc5f0\\ubc29\\uc138\\ubd80\\ubaa8\\ub4c8\\uc911\\uad6d\\uc5b4\\uad00\\ub828 \\uc81c \\uc804\\uacf5\\uc790\\uc911\\uad6d\\uc5b4\\ud1b5\\ubc88\\uc5ed\\uc138\\ubd80\\ubaa8\\ub4c8 \\ubc0f \\uc911\\ud654\\uad8c\\uc804\\ub7b5\\uc138\\ubd80\\ubaa8\\ub4c8\\uc544\\ub78d\\uc5b4\\uad00\\ub828 \\uc81c \\uc804\\uacf5\\uc790\\uc544\\ub78d\\uc5b4\\ud1b5\\ubc88\\uc5ed\\uc138\\ubd80\\ubaa8\\ub4c8 \\ubc0f \\uc911\\ub3d9\\uc774\\uc2ac\\ub78c\\uc804\\ub7b5\\uc138\\ubd80\\ubaa8\\ub4c8\\uc774\\ud0c8\\ub9ac\\uc544\\uc5b4\\uad00\\ub828 \\uc81c \\uc804\\uacf5\\uc790\\uc774\\ud0c8\\ub9ac\\uc544.EU\\uc804\\ub7b5\\uc138\\ubd80\\ubaa8\\ub4c8\\uc0c1\\uacbd(\\uacbd\\uc0c1)\\uad00\\ub828 \\uc81c \\uc804\\uacf5\\uc790\\uc735\\ud569\\ube44\\uc988\\ub2c8\\uc2a4\\uc138\\ubd80\\ubaa8\\ub4c8\\uacf5\\uacfc\\ub300\\ud559 \\uc81c \\uc804\\uacf5\\uc790ICT&AI\\uc138\\ubd80\\ubaa8\\ub4c8\\ubaa8\\ub4e0 \\ud559\\uc0dd\\ubcf8\\uc778 \\ud559\\ubc88\\uc5d0 \\uc874\\uc7ac\\ud558\\uc9c0 \\uc54a\\ub294 \\ud559\\uacfc \\uc774\\uc218 \\ubd88\\uac00 . \\uc81c\\ud55c\\uc0ac\\ud56d\\uac00. \\ud559\\uacfc\\ubcc4 / \\ud559\\ubc88\\ub300\\ubcc4 \\uc5ec\\uc11d\\uc774 \\uc5c6\\ub294 \\ud559\\uacfc(\\uc804\\uacf5)\\ub294 \\uc2e0\\uccad \\ubd88\\uac00\\ub098. \\uc601\\uc5b4\\ud1b5\\ubc88\\uc5ed\\ud559\\ubd80 \\ubc0f \\uc544\\ud504\\ub9ac\\uce74\\ud559\\ubd80 \\uc18c\\uc18d \\ud559\\uc0dd\\uc740 \\ubcf8\\uc778\\uc18c\\uc18d \\ud559\\ubd80 \\ub0b4 \\uc138\\ubd80\\uc804\\uacf5\\uc740 \\uc2e0\\uccad\\ud560 \\uc218 \\uc5c6\\uc74c\\ub2e4.  \\ud559\\ubc88 \\uc774\\ud6c4 \\ud559\\uc0dd\\uc740 \\uc774\\uc911\\uc804\\uacf5, \\ubd80\\uc804\\uacf5, \\uc804\\uacf5\\uc2ec\\ud654, \\uc804\\uacf5\\uc2ec\\ud654(\\ubd80\\uc804\\uacf5)\\uacfc\\uc815 \\uc911 \\ud558\\ub098\\ub97c \\uc120\\ud0dd\\ud558\\uc5ec \\uc774\\uc218\\ud574\\uc57c \\ud568    (\\ud3b8\\uc785\\uc0dd \\ubc0f \\uad70\\uc704\\ud0c1\\uc0dd\\uc740 \\uc81c\\uc678)\\ub77c. \\ucea0\\ud37c\\uc2a4 \\uac04 \\uc774\\uc911\\uc804\\uacf5 \\ud76c\\ub9dd\\uc790\\uc758 \\uacbd\\uc6b0 \\ucea0\\ud37c\\uc2a4 \\uac04 \\uc774\\uc911\\uc804\\uacf5 \\uc81c\\ud55c\\ud559\\uacfc\\ub85c\\uc758 \\uc2e0\\uccad \\ubd88\\uac00  )\\ub3d9\\uc77c\\uc5b8\\uc5b4 \\uc911 \\uc678\\uad6d\\uc5b4 \\uc911\\ubcf5\\ud559\\uacfc(\\uc608: \\uc601\\uc5b4, \\ud504\\ub791\\uc2a4\\uc5b4. \\ub3c5\\uc77c\\uc5b4 \\ub4f1)_\\uc218\\uac15\\ud3b8\\ub78c  \\ucabd \\ucc38\\uc870\\ucea0\\ud37c\\uc2a4\\uc11c\\uc6b8\\ucea0\\ud37c\\uc2a4\\uae00\\ub85c\\ubc8c\\ucea0\\ud37c\\uc2a4\\ud559\\uacfc(\\ubd80)\\uc601\\uc5b4\\ub300\\ud559 \\uac01 \\ud559\\uacfc(\\uc804\\uacf5), \\ud504\\ub791\\uc2a4\\uc5b4\\ud559\\ubd80, \\ub3c5\\uc77c\\uc5b4\\uacfc, \\ub178\\uc5b4\\uacfc, \\uc2a4\\ud398\\uc778\\uc5b4\\uacfc, \\uc774\\ud0c8\\ub9ac\\uc544\\uc5b4\\uacfc, \\ud3ec\\ub974\\ud22c\\uac08\\uc5b4\\uacfc, \\ub9d0\\ub808\\uc774\\u00b7\\uc778\\ub3c4\\ub124\\uc2dc\\uc544\\uc5b4\\uacfc, \\uc544\\ub78d\\uc5b4\\uacfc, \\ud0dc\\uad6d\\uc5b4\\uacfc, \\uc778\\ub3c4\\uc5b4\\uacfc, \\uc911\\uad6d\\ud559\\ub300\\ud559 \\uac01 \\uc804\\uacf5, \\uc77c\\ubcf8\\ud559\\ub300\\ud559 \\uac01 \\uc804\\uacf5\\uc601\\uc5b4\\ud1b5\\ubc88\\uc5ed\\ud559\\ubd80, \\ud504\\ub791\\uc2a4\\ud559\\uacfc, \\ub3c5\\uc77c\\uc5b4\\ud1b5\\ubc88\\uc5ed\\ud559\\uacfc, \\ub7ec\\uc2dc\\uc544\\ud559\\uacfc, \\uc2a4\\ud398\\uc778\\uc5b4\\ud1b5\\ubc88\\uc5ed\\ud559\\uacfc, \\uc774\\ud0c8\\ub9ac\\uc544\\uc5b4\\ud1b5\\ubc88\\uc5ed\\ud559\\uacfc, \\ube0c\\ub77c\\uc9c8\\ud559\\uacfc, \\ub9d0\\ub808\\uc774\\u00b7\\uc778\\ub3c4\\ub124\\uc2dc\\uc544\\uc5b4\\ud1b5\\ubc88\\uc5ed\\ud559\\uacfc, \\uc544\\ub78d\\uc5b4\\ud1b5\\ubc88\\uc5ed\\ud559\\uacfc, \\ud0dc\\uad6d\\uc5b4\\ud1b5\\ubc88\\uc5ed\\ud559\\uacfc, \\uc778\\ub3c4\\ud559\\uacfc, \\uc911\\uad6d\\uc5b4\\ud1b5\\ubc88\\uc5ed\\ud559\\uacfc, \\uc77c\\ubcf8\\uc5b4\\ud1b5\\ubc88\\uc5ed\\ud559\\uacfc  )\\uc774\\uc218\\ud560 \\uc218 \\uc788\\ub294 \\ud559\\uacfc\\ub294 \\uc218\\uac15\\ud3b8\\ub78c  \\ucabd \\ucc38\\uc870\\ub9c8. \\uc735\\ud569\\uc804\\uacf5(\\uad6c, \\uc5f0\\uacc4\\uc804\\uacf5)\\uc740 \\ucea0\\ud37c\\uc2a4\\ubcc4 \\uac1c\\uc124 \\uc6b4\\uc601\\ud558\\ubbc0\\ub85c \\ud574\\ub2f9 \\ucea0\\ud37c\\uc2a4\\uc5d0\\uc11c \\uc218\\uac15\\ud568(\\uc218\\uac15\\ud3b8\\ub78c \\ucabd~ \\ucc38\\uc870)\\uac1c\\uc124 \\ucea0\\ud37c\\uc2a4\\uc735\\ud569\\uc804\\uacf5\\uba85\\ube44\\uace0\\uc11c\\uc6b8/\\uae00\\ub85c\\ubc8c(\\uc18c\\uc18d \\ucea0\\ud37c\\uc2a4 \\uc774\\uc218)\\uc9c0\\uc5ed\\uacbd\\uc81c\\uac1c\\ubc1c\\ud611\\ub825\\uc804\\uacf5/\\ubcf4\\ud5d8\\uacc4\\ub9ac\\ud559\\uc804\\uacf5/\\uad6d\\uac00\\ub9ac\\ub354\\uc804\\uacf5/\\ubb38\\ud654\\ucf58\\ud150\\uce20\\ud559\\uc804\\uacf5/\\uc138\\uacc4\\ubb38\\ud654\\uc608\\uc220\\uacbd\\uc601\\uc804\\uacf5/AI\\uc804\\uacf5[Software&AI\\ud2b8\\ub799(\\uad6c, \\uc735\\ubcf5\\ud569\\uc18c\\ud504\\ud2b8\\uc6e8\\uc5b4\\uc804\\uacf5)]\\uc11c\\uc6b8BRICs(\\ube0c\\ub9ad\\uc2a4)\\uc804\\uacf5/\\ub3d9\\ubd81\\uc544\\uc678\\uad50\\ud1b5\\uc0c1\\uc804\\uacf5/\\ub514\\uc9c0\\ud138\\uc778\\ubb38\\ud55c\\uad6d\\ud559\\uc804\\uacf5/AI\\uc804\\uacf5[Language&AI\\ud2b8\\ub799(\\uad6c, \\uc5b8\\uc5b4\\uc640\\uacf5\\ud559\\uc804\\uacf5)]/EU\\uc804\\uacf5/\\uc678\\uad6d\\uc5b4\\ub85c\\uc11c\\uc758\\ud55c\\uad6d\\uc5b4\\uad50\\uc721\\uc804\\uacf5/\\uc678\\uad6d\\uc5b4\\ub85c\\uc11c\\uc758\\ud55c\\uad6d\\uc5b4\\ud1b5\\ubc88\\uc5ed\\uc804\\uacf5\\uae00\\ub85c\\ubc8cAI\\uc804\\uacf5[Business&AI\\ud2b8\\ub799]/\\ub370\\uc774\\ud130\\uc0ac\\uc774\\uc5b8\\uc2a4\\uc804\\uacf5/\\ubc14\\uc774\\uc624\\ub370\\uc774\\ud130\\uc0ac\\uc774\\uc5b8\\uc2a4\\uc804\\uacf5\\ubc14.  \\ud559\\ubc88 \\uc774\\uc804\\uc758 \\ud559\\uc0dd \\uc911 \\uc735\\ud569\\uc778\\uc7ac\\ub300\\ud559 \\uc18c\\uc18d\\uc73c\\ub85c \\ubcc0\\uacbd\\ud55c \\ud559\\uc0dd\\uc740 \\uc774\\uc911\\uc804\\uacf5,\\ubd80\\uc804\\uacf5,\\uc804\\uacf5\\uc2ec\\ud654(\\ubd80\\uc804\\uacf5)\\uc744 \\uc774\\uc218\\ud560 \\uc218 \\uc5c6\\uc74c\\uc0ac. \\uc735\\ud569\\uc804\\uacf5\\uc740 \\ubd80\\uc804\\uacf5\\uc73c\\ub85c \\uc774\\uc218\\ud560 \\uc218 \\uc5c6\\uc74c. \\ub2e4\\ub9cc, \\uad6d\\uac00\\ub9ac\\ub354\\uc804\\uacf5\\uacfc\\ub370\\uc774\\ud130\\uc0ac\\uc774\\uc5b8\\uc2a4\\uc804\\uacf5\\uc740\\ubd80\\uc804\\uacf5\\uc73c\\ub85c\\ub3c4 \\uc774\\uc218 \\uac00\\ub2a5 . \\uae30\\ud0c0\\uac00. \\uc774\\uc911\\uc804\\uacf5 \\ubcc0\\uacbd \\ubc30\\uc815\\ub41c \\ud6c4\\ub294 \\ud604\\uc7ac \\ud559\\uae30 \\uc218\\uac15\\uad50\\uacfc\\ubaa9\\uacfc \\uc774\\uc804\\uc758 \\uc774\\uc218 \\uad50\\uacfc\\ubaa9\\uc774 \\uc774\\uc911\\uc804\\uacf5\\uc73c\\ub85c \\uae30\\uc7ac\\ub41c \\uad50       \\uacfc\\ubaa9\\uc740 \\uc774\\uc218\\uad6c\\ubd84 \\ubcc0\\uacbd\\uc744 \\ud559\\uc0ac   \\uc885\\ud569\\uc9c0\\uc6d0\\uc13c\\ud130 \\ub0b4 \\uc804\\uacf5 \\uc18c\\uc18d\\ub2e8\\uacfc\\ub300\\ud559\\uc744 \\ud1b5\\ud558\\uc5ec\\u201c\\uc774\\uc218\\uad6c\\ubd84 \\ubcc0\\uacbd \\uc2e0\\uccad\\uc11c\\u201d\\ub97c \\uc81c\\ucd9c\\ud558\\uc5ec \\uc815\\uc815[\\uc774\\uc911\\uc804\\uacf5\\u2192\\uc790\\uc120]\\ud558\\uc5ec\\uc57c \\ud569\\ub2c8\\ub2e4.\\ub098. \\uc774\\uc911\\uc804\\uacf5 \\ubcc0\\uacbd\\uc2e0\\uccad \\uae30\\uac04\\uc5d0 \\uc2e0\\uccad\\ud558\\uc5ec \\ubc30\\uc815\\ub41c \\uacbd\\uc6b0\\ub294 \\uc774\\uc911\\uc804\\uacf5 \\ubcc0\\uacbd \\uc2e0\\uccad\\uc774 \\ubd88\\uac00\\ud558\\ub098 \\ubd80\\uc804\\uacf5\\uc744 \\uc0b4\\ub824\\uc11c \\ud6c4\\uae30\\uc774\\uc911\\uc804\\uacf5 \\uc2e0\\uccad\\ud558\\uc5ec \\uc774\\uc218   \\ud560 \\uc218 \\uc788\\uc2b5\\ub2c8\\ub2e4(\\uc790\\uc138\\ud55c \\ub0b4\\uc6a9\\uc740 \\uc218\\uac15\\ud3b8\\ub78c  \\ucabd \\ucc38\\uc870) . \\uc774\\uc911\\uc804\\uacf5 \\ucde8\\uc18c, \\ubd80\\uc804\\uacf5, \\uc804\\uacf5\\uc2ec\\ud654(\\ubd80\\uc804\\uacf5\\ud3ec\\ud568) \\uc2e0\\uccad \\ubc0f \\ubcc0\\uacbd \\uc608\\uc815\\uae30\\uac04:  .  . (\\uc218) ~  . (\\uae08) .  .\\uad50\\ubb34\\ucc98\\uc7a5?????\",\n          \"[\\uc11c\\uc6b8]  - \\ud559\\uae30 \\uad6d\\ub0b4\\ub300\\ud559 \\ud559\\uc810\\uad50\\ub958 \\uc548\\ub0b4\\uc6b0\\ub9ac\\ub300\\ud559\\uad50\\uc640 \\ud559\\uc220\\uad50\\ub958\\ud611\\uc815\\uc5d0 \\uc758\\uac70\\ud558\\uc5ec \\uc2dc\\ud589\\ud558\\ub294\\uc11c\\uc6b8\\ucea0\\ud37c\\uc2a4  \\ud559\\ub144\\ub3c4  \\ud559\\uae30 \\uad6d\\ub0b4\\ub300\\ud559 \\ud559\\uc810\\uad50\\ub958 \\uc811\\uc218 \\uc77c\\uc815\\uc744 \\ub2e4\\uc74c\\uacfc \\uac19\\uc774 \\uacf5\\uace0\\ud568.- \\uc544 \\ub798 -\\u25a3\\uc11c\\uc6b8\\ucea0\\ud37c\\uc2a4 \\uad50\\ub958\\ub300\\ud559 \\ubc0f \\uc2e0\\uccad\\uc11c \\uc811\\uc218 \\uc77c\\uc815NO\\ub300\\ud559\\uba85\\uc811\\uc218\\uc77c \\ubc0f \\uc2dc\\uac04\\ube44\\uace0 \\uace0\\ub824\\ub300\\ud559\\uad50 . . .\\ubaa9.  :  -  : ( \\uc77c\\uac04) \\uad6d\\ubbfc\\ub300\\ud559\\uad50 . . .\\uc218.  :  -  : ( \\uc77c\\uac04) \\ub355\\uc131\\uc5ec\\uc790\\ub300\\ud559\\uad50 . . .\\uae08. :  -  : ( \\uc77c\\uac04) \\ubd80\\uc0b0\\uc678\\uad6d\\uc5b4\\ub300\\ud559\\uad50 . . .\\uae08.  :  -  : ( \\uc77c\\uac04) \\uc11c\\uc6b8\\ub300\\ud559\\uad50 . . .\\uc218.  :  -  : ( \\uc77c\\uac04) \\uc5f0\\uc138\\ub300\\ud559\\uad50 . . .\\ubaa9.  :  -  : ( \\uc77c\\uac04) \\uc6b8\\uc0b0\\ub300\\ud559\\uad50 . . .\\uc218.  :  -  : ( \\uc77c\\uac04) \\uc81c\\uc8fc\\ub300\\ud559\\uad50 . . .\\uc218.  :  -  : ( \\uc77c\\uac04) \\ucc3d\\uc6d0\\ub300\\ud559\\uad50 . . .\\uae08. :  -  : ( \\uc77c\\uac04) \\ud55c\\uad6d\\uc608\\uc220\\uc885\\ud569\\ud559\\uad50 . . .\\ud654.  :  -  : ( \\uc77c\\uac04) \\ud55c\\uc11c\\ub300\\ud559\\uad50 . . .\\uc218. :  -  : ( \\uc77c\\uac04) \\ud55c\\uc591\\ub300\\ud559\\uad50 . . .\\ubaa9.  :  -  : ( \\uc77c\\uac04) \\uac74\\uad6d\\ub300\\ud559\\uad50 . . .\\ubaa9.  :  -  : ( \\uc77c\\uac04)\\ucd1d\\uc7a5\\ud3ec\\ub7fc\\ud611\\uc57d\\uad50 \\ub3d9\\uad6d\\ub300\\ud559\\uad50 . . .\\uc218.  :  -  : ( \\uc77c\\uac04)\\ucd1d\\uc7a5\\ud3ec\\ub7fc\\ud611\\uc57d\\uad50 \\uc774\\ud654\\uc5ec\\uc790\\ub300\\ud559\\uad50 . . .\\ud654.  :  -  : ( \\uc77c\\uac04)\\ucd1d\\uc7a5\\ud3ec\\ub7fc\\ud611\\uc57d\\uad50 \\ud64d\\uc775\\ub300\\ud559\\uad50 . . .\\uae08.  :  -  : ( \\uc77c\\uac04)\\ucd1d\\uc7a5\\ud3ec\\ub7fc\\ud611\\uc57d\\uad50 \\uc219\\uba85\\uc5ec\\uc790\\ub300\\ud559\\uad50 . . .\\ubaa9.  :  -  : ( \\uc77c\\uac04)\\ucd1d\\uc7a5\\ud3ec\\ub7fc\\ud611\\uc57d\\uad50 \\ud559\\uc810\\uc81c\\ud55c \\uac00\\ud1a8\\ub9ad\\ub300\\ud559\\uad50 . . .\\uc218.  :  -  : ( \\uc77c\\uac04) \\uad11\\uc6b4\\ub300\\ud559\\uad50 . . .\\ubaa9.  :  -  : ( \\uc77c\\uac04) \\ub3d9\\ub355\\uc5ec\\uc790\\ub300\\ud559\\uad50 . . .\\uc218.  :  -  : ( \\uc77c\\uac04) \\uba85\\uc9c0\\ub300\\ud559\\uad50 \\uc0bc\\uc721\\ub300\\ud559\\uad50 \\uc0c1\\uba85\\ub300\\ud559\\uad50 . . .\\uae08. :  -  : ( \\uc77c\\uac04) \\uc11c\\uac15\\ub300\\ud559\\uad50 . . .\\uc218.  :  -  : ( \\uc77c\\uac04) \\uc11c\\uacbd\\ub300\\ud559\\uad50 . . .\\uc6d4.  :  -  : ( \\uc77c\\uac04) \\uc11c\\uc6b8\\uacfc\\ud559\\uae30\\uc220\\ub300\\ud559\\uad50 . . .\\ud654.  :  -  : ( \\uc77c\\uac04) \\uc11c\\uc6b8\\uc2dc\\ub9bd\\ub300\\ud559\\uad50 . . .\\ud654.  :  -  : ( \\uc77c\\uac04) \\uc11c\\uc6b8\\uc5ec\\uc790\\ub300\\ud559\\uad50 . . .\\ubaa9.  :  -  : ( \\uc77c\\uac04) \\uc131\\uacf5\\ud68c\\ub300\\ud559\\uad50 \\uc131\\uc2e0\\uc5ec\\uc790\\ub300\\ud559\\uad50 . . .\\uc218.  :  -  : ( \\uc77c\\uac04) \\uc138\\uc885\\ub300\\ud559\\uad50 . . .\\ubaa9.  :  -  : ( \\uc77c\\uac04) \\uc22d\\uc2e4\\ub300\\ud559\\uad50 . . .\\uae08. :  -  : ( \\uc77c\\uac04) \\uc911\\uc559\\ub300\\ud559\\uad50 . . .\\uc218.  :  -  : ( \\uc77c\\uac04) \\ucd94\\uacc4\\uc608\\uc220\\ub300\\ud559\\uad50 . . .\\ubaa9.  :  -  : ( \\uc77c\\uac04) \\ucf00\\uc774\\uc528\\ub300\\ud559\\uad50 . . .\\uae08.  :  -  : ( \\uc77c\\uac04) \\ud55c\\uc131\\ub300\\ud559\\uad50 . . .\\ubaa9. :  -  : ( \\uc77c\\uac04)\\u203b \\ubcf8 \\uacf5\\uc9c0\\uc0ac\\ud56d\\uc740 \\uac01 \\uad50\\ub958\\ub300\\ud559\\uc5d0\\uc11c \\uacf5\\ubb38\\uc774 \\uc811\\uc218\\ub418\\ub294 \\ub300\\ub85c \\uacc4\\uc18d \\uc5c5\\ub370\\uc774\\ud2b8 \\ub429\\ub2c8\\ub2e4. \\uad6d\\ub0b4\\ub300\\ud559 \\ud559\\uc810\\uad50\\ub958\\ub97c \\uc6d0\\ud558\\uc2dc\\ub294 \\ud559\\uc0dd\\uc740 \\ubcf8 \\uacf5\\uc9c0\\uc0ac\\ud56d\\uc744 \\uc9c0\\uc18d\\uc801\\uc73c\\ub85c \\ud655\\uc778 \\ubc14\\ub78d\\ub2c8\\ub2e4.\\u203b \\uc811\\uc218\\ub9c8\\uac10 \\uc774\\ud6c4\\uc5d0\\ub294 \\uc2e0\\uccad\\ubd88\\uac00\\u203b\\uc0c1\\ub300 \\uad50\\ub958 \\ub300\\ud559\\uc758 \\uc0ac\\uc815\\uc5d0 \\ub530\\ub77c \\ud574\\ub2f9 \\ud559\\uae30 \\ud559\\uc810\\uad50\\ub958\\ub97c \\uc2dc\\ud589\\ud558\\uc9c0 \\uc54a\\uc744 \\uc218 \\uc788\\uc2b5\\ub2c8\\ub2e4.\\u25a3\\uc81c\\ucd9c\\uc11c\\ub958 \\ubc0f \\uc811\\uc218\\uc7a5\\uc18c . \\uc81c\\ucd9c\\uc11c\\ub958 : \\u2460 \\ud559\\uc810\\uad50\\ub958\\uc2e0\\uccad\\uc6d0(\\uc815\\uaddc\\ud559\\uae30) (\\ucca8\\ubd80\\ud30c\\uc77c)  \\ubd80         \\u2461 \\uc218\\ud559\\uacc4\\ud68d\\uc11c(\\ucca8\\ubd80\\ud30c\\uc77c)  \\ubd80         \\u2462 \\ud574\\ub2f9\\ub300\\ud559\\uad50 \\uad6d\\ub0b4\\ud559\\uc810\\uad50\\ub958 \\ucd94\\ucc9c\\uc790 \\uba85\\ub2e8 \\uc11c\\uc2dd(\\ucca8\\ubd80\\ud30c\\uc77c)         \\u2463 \\uc131\\uc801\\uc99d\\uba85\\uc11c         \\u2464 \\uc7ac\\ud559\\uc99d\\uba85\\uc11c . \\uc811\\uc218\\uc7a5\\uc18c : \\ud559\\uc0ac\\uc885\\ud569\\uc9c0\\uc6d0\\uc13c\\ud130\\u203b \\ud559\\uc0ac\\uc885\\ud569\\uc9c0\\uc6d0\\uc13c\\ud130 \\uc811\\uc218\\ud558\\uae30\\uc804\\uc5d0 \\uc804\\uacf5, \\ubd80\\uc804\\uacf5,  \\uc804\\uacf5, \\uc774\\uc911\\uc804\\uacf5, \\uad50\\uc591 \\ub4f1\\uc73c\\ub85c \\uc218\\uac15\\ud560 \\uacbd\\uc6b0\\ud559\\uc810\\uad50\\ub958\\uc2e0\\uccad\\uc6d0\\uc5d0 \\ubc18\\ub4dc\\uc2dc \\ud574\\ub2f9\\ud559\\uacfc\\uc7a5\\uc758 \\uc2b9\\uc778\\uc744 \\ubc1b\\uc544\\uc57c \\uc811\\uc218\\ub418\\uba70 \\uc218\\ud559\\uacc4\\ud68d\\uc11c\\ub294  \\uc804\\uacf5 \\ud559\\uacfc\\uc7a5\\ub2d8\\uc758 \\uc2b9\\uc778\\uc744 \\ubc1b\\uc544\\uc57c \\ud568\\u25a3 \\ud559\\uc810\\uad50\\ub958 \\uc548\\ub0b4  . \\uc2e0\\uccad \\uc790\\uaca9:  \\ud559\\uae30\\uc0dd~ \\ud559\\uae30\\uc0dd\\u203b  \\ud559\\ub144 \\uc774\\uc0c1( \\ud559\\ub144 \\ubd80\\ud130)\\uc758 \\uacfc\\uc815\\uc744 \\uc218\\ub8cc\\ud558\\uace0 \\ucd1d\\uc131\\uc801 \\ud3c9\\uc810\\ud3c9\\uade0\\uc774  .  \\uc774\\uc0c1\\uc73c\\ub85c \\ud559\\uce59\\uc5d0 \\uc758\\uac70\\uc9d5\\uacc4\\ubc1b\\uc740\\uc0ac\\uc2e4\\uc774 \\uc5c6\\ub294 \\uc790(\\ud3b8\\uc785\\uc0dd\\uc758 \\uacbd\\uc6b0 \\ud559\\uc0ac\\uc885\\ud569\\uc9c0\\uc6d0\\uc13c\\ud130\\ub85c \\ubb38\\uc758\\ubc14\\ub78c)\\ud0c0\\ub300 \\ucd5c\\ub300\\uc218\\uac15\\uac00\\ub2a5\\ud559\\uc810\\ud559\\uad50\\uba85\\ucd5c\\ub300  \\ud559\\uc810 \\uc774\\ub0b4\\uac74\\uad6d\\ub300\\ud559\\uad50, \\uace0\\ub824\\ub300\\ud559\\uad50, \\uad6d\\ubbfc\\ub300\\ud559\\uad50, \\ub355\\uc131\\uc5ec\\uc790\\ub300\\ud559\\uad50, \\ub3d9\\uad6d\\ub300\\ud559\\uad50, \\ubd80\\uc0b0\\uc678\\uad6d\\uc5b4\\ub300\\ud559\\uad50, \\uc11c\\uc6b8\\ub300\\ud559\\uad50, \\uc5f0\\uc138\\ub300\\ud559\\uad50, \\uc6b8\\uc0b0\\ub300\\ud559\\uad50, \\uc774\\ud654\\uc5ec\\uc790\\ub300\\ud559\\uad50, \\uc81c\\uc8fc\\ub300\\ud559\\uad50, \\ucc3d\\uc6d0\\ub300\\ud559\\uad50, \\ud55c\\uad6d\\uc608\\uc220\\uc885\\ud569\\ud559\\uad50, \\ud55c\\uc11c\\ub300\\ud559\\uad50, \\ud55c\\uc591\\ub300\\ud559\\uad50, \\ud64d\\uc775\\ub300\\ud559\\uad50\\ucd5c\\ub300  \\ud559\\uc810 \\uc774\\ub0b4\\uac00\\ud1a8\\ub9ad\\ub300\\ud559\\uad50, \\uad11\\uc6b4\\ub300\\ud559\\uad50, \\uba85\\uc9c0\\ub300\\ud559\\uad50, \\uc0bc\\uc721\\ub300\\ud559\\uad50, \\uc0c1\\uba85\\ub300\\ud559\\uad50, \\uc11c\\uac15\\ub300\\ud559\\uad50, \\uc11c\\uacbd\\ub300\\ud559\\uad50, \\uc219\\uba85\\uc5ec\\uc790\\ub300\\ud559\\uad50, \\uc11c\\uc6b8\\uacfc\\ud559\\uae30\\uc220\\ub300\\ud559\\uad50, \\uc11c\\uc6b8\\uc2dc\\ub9bd\\ub300\\ud559\\uad50, \\uc11c\\uc6b8\\uc5ec\\uc790\\ub300\\ud559\\uad50, \\uc131\\uacf5\\ud68c\\ub300\\ud559\\uad50, \\uc138\\uc885\\ub300\\ud559\\uad50, \\uc22d\\uc2e4\\ub300\\ud559\\uad50, \\uc911\\uc559\\ub300\\ud559\\uad50, \\ucd94\\uacc4\\uc608\\uc220\\ub300\\ud559\\uad50, \\ucf00\\uc774\\uc528\\ub300\\ud559\\uad50, \\ud55c\\uc131\\ub300\\ud559\\uad50,\\ub3d9\\ub355\\uc5ec\\uc790\\ub300\\ud559\\uad50, \\uc131\\uc2e0\\uc5ec\\uc790\\ub300\\ud559\\uad50, \\ud64d\\uc775\\ub300\\ud559\\uad50  . \\uc218\\uac15\\uc2e0\\uccad \\ud5c8\\uc6a9\\ud559\\uc810 :\\ub2f9\\ud574\\ud559\\uae30 \\uc218\\uac15\\ud559\\uc810\\uc740 \\ud559\\uc810 \\uc774\\ub0b4(\\ubcf8\\uad50 \\ubc0f \\ud0c0\\ub300\\ud559 \\ud3ec\\ud568)\\u203b \\ub2f9\\ud574 \\uc815\\uaddc\\ud559\\uae30\\uc5d0 \\ubcf8\\uad50 \\ubc0f \\uad6d\\ub0b4 \\ud0c0\\ub300\\ud559 \\uc218\\ud559, \\uae30\\ud0c0 \\uc778\\uc815\\ud559\\uc810\\uc81c\\ub3c4\\ub4f1\\uc744 \\ud3ec\\ud568\\ud558\\uc5ec \\ucd1d \\ud559\\uc810\\uc744 \\ucd08\\uacfc\\ud560 \\uc218 \\uc5c6\\uc73c\\uba70, \\uc7ac\\ud559\\uc911 \\uad6d\\ub0b4\\u00b7\\uc678 \\ud0c0\\ub300\\ud559 \\uad50\\ub958, \\uc778\\ud134\\uc2ed, \\uae30\\ud0c0 \\uc778\\uc815 \\ud559\\uc810\\uc81c\\ub3c4 \\ub4f1 \\uc815\\uaddc \\ubc0f \\uacc4\\uc808\\ud559\\uae30\\ub97c \\ud3ec\\ud568\\ud558\\uc5ec \\ucde8\\ub4dd\\ud560 \\uc218 \\uc788\\ub294 \\ucd5c\\ub300 \\uc778\\uc815 \\ud559\\uc810\\uc740  \\ud559\\uc810(\\ud3b8\\uc785\\uc0dd\\uc740  \\ud559\\uc810)\\uc784   . \\uad50\\ub958 \\ud69f\\uc218 :\\uc815\\uaddc\\ud559\\uae30  \\uac1c \\ud559\\uae30(\\ud3b8\\uc785\\uc0dd\\uc740  \\ud68c)  . \\uc2e0\\uccad\\uc808\\ucc28 \\uac00. \\uc81c\\ucd9c\\uc11c\\ub958 \\uc791\\uc131 \\ub098. \\uc18c\\uc18d\\ub300\\ud559 \\ubc0f \\uc218\\uac15\\uacfc\\ubaa9\\ubcc4 \\ud574\\ub2f9 \\ud559\\uacfc(\\ubd80)\\uc7a5 \\ud5c8\\uac00\\ub97c \\ubc1b\\uc740 \\ud6c4   \\ub2e4. \\uc81c\\ucd9c\\uc11c\\ub958\\ub97c \\ubaa8\\ub450 \\uc81c\\ucd9c(\\uc18c\\uc18d \\ucea0\\ud37c\\uc2a4 \\ud559\\uc0ac\\uc885\\ud569\\uc9c0\\uc6d0\\uc13c\\ud130)  . \\uc218\\uac15\\uc2e0\\uccad: \\uc218\\uac15\\uc2e0\\uccad, \\ubcc0\\uacbd \\ubc0f \\ucde8\\uc18c\\ub294 \\uc218\\ud559\\ub300\\ud559\\uc5d0\\uc11c \\uc815\\ud55c \\uc808\\ucc28\\uc5d0 \\ub530\\ub984 . \\ub4f1\\ub85d: \\uc6b0\\ub9ac\\ub300\\ud559\\uc5d0 \\ub4f1\\ub85d\\uae08\\uc744 \\ub0a9\\ubd80  . \\ud559\\uc810\\uc778\\uc815 \\uac00. \\uad50\\ub958\\ub300\\ud559\\uc5d0\\uc11c \\uc774\\uc218\\ud55c \\uad50\\uacfc\\ubaa9\\uc740 \\uc6b0\\ub9ac\\ub300\\ud559\\uc758 \\uad50\\uc721\\uacfc\\uc815 \\uad50\\uacfc\\ubaa9\\uc744 \\ucde8\\ub4dd\\ud55c \\uac83\\uc73c\\ub85c \\uc778\\uc815\\ud568\\uc744 \\uc6d0\\uce59\\uc73c\\ub85c \\ud558\\uba70,\\uc7a5\\ud559\\uc0dd \\uc120\\ubc1c \\ub4f1\\uc5d0 \\uad00\\ud55c \\ud559\\uc810\\uc778\\uc815 \\ubc0f \\ud3c9\\uc810\\uacc4\\uc0b0\\uc5d0\\ub294 \\uc0bd\\uc785\\ud558\\uc9c0 \\uc544\\ub2c8\\ud568 \\ub098. \\uad50\\ub958\\ub300\\ud559\\uc5d0\\uc11c \\uc774\\uc218\\ud55c \\ud559\\uc810\\uc758 \\uc131\\uc801(\\ubc31\\ubd84\\uc728 \\uae30\\uc900)\\uc740 \\uc6b0\\ub9ac \\ub300\\ud559\\uc758 \\uc131\\uc801\\uc0b0\\ucd9c \\ubc29\\uc2dd\\uc5d0 \\ub530\\ub77c \\ud658\\uc0b0\\ud568 \\ub2e4. \\ud559\\uc810\\uad50\\ub958\\uc2e0\\uccad\\uc6d0\\uc758 \\uc218\\uac15\\uc2e0\\uccad \\uad50\\uacfc\\ubaa9\\uacfc \\uc218\\uac15\\ud55c \\uad50\\uacfc\\ubaa9\\uc774 \\uc0c1\\uc774\\ud560 \\uacbd\\uc6b0 \\ud559\\uc810\\uc778\\uc815\\uc744 \\ubc1b\\uc744 \\uc218 \\uc5c6\\uc74c . \\ud559\\uc810\\uad50\\ub958\\uc2e0\\uccad\\uc758 \\ucde8\\uc18c: \\ud559\\uc810\\uad50\\ub958\\uc2e0\\uccad\\uc758 \\ucde8\\uc18c\\ub97c \\uc6d0\\ud558\\ub294 \\ud559\\uc0dd\\uc740 \\uc218\\uc5c5\\uc77c\\uc218  \\ubd84\\uc758  \\uc120\\uc774\\ub0b4\\uc5d0\\ud559\\uc810\\uad50\\ub958\\uc2e0\\uccad\\ucde8\\uc18c\\uc6d0\\uc744 \\uc6b0\\ub9ac\\ub300\\ud559\\uc5d0 \\uc81c\\ucd9c\\ud558\\uace0 \\ud5c8\\uac00\\ub97c\\ubc1b\\uc544\\uc57c \\ud568 . \\uc218\\uac15\\uc2e0\\uccad\\uc2dc \\uc720\\uc758\\uc0ac\\ud56d \\uac00. \\uc9c0\\uc6d0\\uc790\\uac00 \\uc120\\ubc1c\\uc778\\uc6d0\\uc744 \\ucd08\\uacfc\\ud560 \\uacbd\\uc6b0 \\ud559\\uc5c5\\uc131\\uc801 \\ud3c9\\uc810\\ud3c9\\uade0 \\uc21c\\uc73c\\ub85c \\uc120\\ubc1c\\ud568 \\ub098. \\uc6b0\\ub9ac\\ub300\\ud559 \\uad50\\uacfc\\ubaa9\\uc5d0 \\ub300\\ud55c\\uc7ac\\uc218\\uac15 \\ubaa9\\uc801\\uc73c\\ub85c \\uad50\\ub958\\ub300\\ud559\\uc758 \\uacfc\\ubaa9\\uc744 \\uc218\\uac15\\ud560 \\uc218 \\uc5c6\\uc74c \\ub2e4.\\uad50\\ub958\\ub300\\ud559\\uc5d0\\uc11c \\uc774\\uc804\\uc5d0 \\uc218\\uac15\\ud55c \\uacfc\\ubaa9\\uc740 \\uc6b0\\ub9ac\\ub300\\ud559 \\ubc0f \\uad50\\ub958\\ub300\\ud559\\uc5d0\\uc11c \\uc7ac\\uc218\\uac15 \\ud560 \\uc218 \\uc5c6\\uc74c \\ub77c. \\uc6b0\\ub9ac\\ub300\\ud559 \\uc2e4\\uc6a9\\uc678\\uad6d\\uc5b4, \\uad50\\uc591\\uc678\\uad6d\\uc5b4\\uc5d0 \\ud574\\ub2f9\\ud558\\ub294 \\uad50\\ub958\\ub300\\ud559 \\uc678\\uad6d\\uc5b4 \\uacfc\\ubaa9\\uc740 \\uc218\\uac15\\ud560 \\uc218 \\uc5c6\\uc74c \\ub9c8. \\uad50\\ub958\\ub300\\ud559\\uc758 \\uad50\\uc591\\uc601\\uc5ed\\uc5d0 \\uac1c\\uc124\\ub41c \\uad50\\uacfc\\ubaa9\\uc740 \\uc6b0\\ub9ac \\ub300\\ud559\\uc758 \\uc804\\uacf5\\ud559\\uc810\\uc73c\\ub85c \\uc778\\uc815\\ub418\\uc9c0 \\uc54a\\uc73c\\ubbc0\\ub85c \\uc6b0\\ub9ac\\ub300\\ud559 \\uc804\\uacf5\\uc5d0 \\ud574\\ub2f9\\ud558\\ub294 \\uad50\\ub958\\ub300\\ud559 \\uad50\\uc591\\uacfc\\ubaa9\\uc740 \\uc218\\uac15\\ud560 \\uc218 \\uc5c6\\uc74c. \\ubc14. \\uc6b0\\ub9ac\\ub300\\ud559 \\uad50\\uacfc\\ubaa9\\uacfc <\\ub3d9\\uc77c\\uad50\\uacfc\\ubaa9> \\ubc0f <\\uc720\\uc0ac\\uad50\\uacfc\\ubaa9>\\uc740 \\uc911\\ubcf5 \\uc218\\uac15\\ud560 \\uc218 \\uc5c6\\uc74c \\uc0ac. \\uad50\\ub958\\ub300\\ud559\\uc5d0\\uc11c \\uc774\\uc218\\uc608\\uc815\\uc778 \\uc804\\uacf5,  \\uc804\\uacf5, \\uc774\\uc911\\uc804\\uacf5, \\ubd80\\uc804\\uacf5, \\uad50\\uc591\\uc758 \\uacbd\\uc6b0, \\uac01 \\uad50\\uacfc\\ubaa9 \\ubcc4\\ub85c\\uc6b0\\ub9ac\\ub300\\ud559\\uc758 \\uac01 \\ud574\\ub2f9 \\ud559\\uacfc(\\ubd80)\\uc7a5\\uc758 \\uc2b9\\uc778\\uc744 \\ubc1b\\uc544\\uc57c \\ud568.(\\ud559\\uc810\\uad50\\ub958\\uc2e0\\uccad\\uc6d0\\uc5d0 \\uc2b9\\uc778 \\ubc1b\\uc740 \\ud6c4 \\uc81c\\ucd9c) \\uc544. \\uc218\\uac15\\uc2e0\\uccad\\uc11c\\uc758 \\uad50\\uacfc\\ubaa9\\uacfc \\uc2e4\\uc81c\\ub85c \\uc218\\uac15\\ud55c \\uad50\\uacfc\\ubaa9\\uc774 \\uc0c1\\uc774\\ud560 \\uacbd\\uc6b0 \\ud559\\uc810\\uc778\\uc815\\uc744 \\ubc1b\\uc744 \\uc218 \\uc5c6\\uc74c \\uc790. \\ud559\\uacfc\\uc5d0\\uc11c \\uc815\\ud55c \\uc804\\uacf5\\ud544\\uc218 \\uacfc\\ubaa9\\uacfc \\uad50\\uc9c1\\uacfc\\ubaa9\\uc740 \\ubc18\\ub4dc\\uc2dc \\uc6b0\\ub9ac \\ub300\\ud559\\uc5d0\\uc11c\\ub9cc \\uc218\\uac15\\ud558\\uc5ec\\uc57c \\ud568 \\ucc28. \\uc131\\uc801\\uc778\\uc815\\uc740 \\ud0c0\\ub300\\ud559 \\ubc31\\ubd84\\uc728 \\uc810\\uc218\\ub97c \\uae30\\uc900\\uc73c\\ub85c \\uc6b0\\ub9ac\\ub300\\ud559 \\ud3c9\\uc810\\uc744 \\uc801\\uc6a9\\ud568 \\uce74.\\ud55c \\ud559\\uae30 \\ub3d9\\uc548 \\ucde8\\ub4dd\\ud560 \\uc218 \\uc788\\ub294 \\ubaa8\\ub4e0 \\ud559\\uc810\\uc740 \\uc6b0\\ub9ac\\ub300\\ud559 \\uc218\\uac15\\uc2e0\\uccad, \\uc778\\ud134\\uc2ed, \\uae30\\ud0c0\\uc778\\uc815\\ud559\\uc810\\uc744 \\ud3ec\\ud568  \\ud559\\uc810\\uc744 \\ucd08\\uacfc\\ud560 \\uc218 \\uc5c6\\uc74c \\ud0c0. \\ud0c0\\ub300\\ud559 F\\ud559\\uc810\\ub3c4 \\uc131\\uc801\\uc5d0 \\ud3ec\\ud568\\ub428.(\\uc878\\uc5c5\\ud6c4\\uc5d0\\ub3c4 \\uc0ad\\uc81c\\ub418\\uc9c0 \\uc54a\\uc73c\\uba70 \\uc6b0\\ub9ac\\ub300\\ud559 \\ubc0f \\ud0c0\\ub300\\ud559\\uc5d0\\uc11c \\uc7ac\\uc218\\uac15\\ub3c4 \\ubd88\\uac00\\ud568) . \\ubb38\\uc758\\ucc98:  - - .  .\\uc11c\\uc6b8\\ucea0\\ud37c\\uc2a4 \\uad50\\ubb34\\ucc98\\uc7a5\",\n          \"[\\uae00\\ub85c\\ubc8c] \\uc878\\uc5c5 \\uc608\\ube44\\uc0ac\\uc815 \\uacb0\\uacfc \\uc870\\ud68c\\uae00\\ub85c\\ubc8c\\ucea0\\ud37c\\uc2a4 \\uc878\\uc5c5( \\ub144  \\uc6d4) \\uc608\\ube44\\uc0ac\\uc815 \\uacb0\\uacfc\\ub97c \\ud655\\uc778\\ud558\\uc2dc\\uae30 \\ubc14\\ub78d\\ub2c8\\ub2e4. . \\ud655\\uc778\\ubc29\\ubc95\\uc885\\ud569\\uc815\\ubcf4\\uc2dc\\uc2a4\\ud15c \\u2192 \\uc131\\uc801/\\ud559\\uc810/\\uc878\\uc5c5\\uad00\\ub9ac \\u2192 \\uc878\\uc5c5\\uc608\\ube44\\uc0ac\\uc815 \\uacb0\\uacfc \\uc870\\ud68c . \\uc790\\ub8cc \\uae30\\uc900\\uc2dc\\uc810 :  .  .  (\\ubaa9) \\uc624\\ud6c4  \\uc2dc \\uae30\\uc900( . (\\ubaa9) \\uc624\\ud6c4  \\uc2dc \\uae30\\uc900 \\uc5c5\\ub370\\uc774\\ud2b8) ) \\uacc4\\uc808\\ud559\\uae30 \\uc218\\uac15\\uc2e0\\uccad \\ub0b4\\uc5ed \\ubbf8\\ubc18\\uc601(\\uacc4\\uc808\\ud559\\uae30 \\uc218\\uac15\\uc0dd\\uc740 \\uacc4\\uc808\\ud559\\uae30 \\uc131\\uc801\\ubc18\\uc601( \\uc6d4  \\uc77c \\uc774\\ud6c4 \\uc7ac\\ud655\\uc778 \\uc694\\ub9dd) ) \\ucd94\\ud6c4  \\ud68c \\uc790\\ub8cc \\uc5c5\\ub370\\uc774\\ud2b8 \\uc608\\uc815 . \\ucc38\\uace0\\uc0ac\\ud56d ) \\uacc4\\uc808\\ud559\\uae30 \\uc218\\uac15\\uc0dd\\uc758 \\uacbd\\uc6b0 \\ucd94\\ud6c4 \\uacc4\\uc808\\ud559\\uae30 \\uc131\\uc801\\ubc18\\uc601 \\uc2dc \\uacb0\\uacfc\\uac00 \\ub2ec\\ub77c\\uc9c8 \\uc218 \\uc788\\uc74c ) \\uc804\\uacf5\\ud544\\uc218 \\uacfc\\ubaa9 \\ubbf8 \\uc774\\uc218\\uc790\\ub294 \\ucd5c\\uc885 \\uc878\\uc5c5\\uc0ac\\uc815\\uc5d0\\uc11c \\ud0c8\\ub77d\\ub420 \\uc218 \\uc788\\uc74c (\\uc804\\uacf5\\ud544\\uc218 \\uc774\\uc218\\uc5d0 \\uad00\\ud574\\uc11c\\ub294 \\uc18c\\uc18d \\ud559\\uacfc\\uc7a5\\uc2e4\\ub85c \\ubb38\\uc758) ) \\uc678\\uad6d\\uc5b4\\uc778\\uc99d(\\uc878\\uc5c5\\uc778\\uc99d) \\ubc0f \\uc2e4\\uc6a9\\uc678\\uad6d\\uc5b4(\\ud544\\uc218) \\ub300\\uccb4\\uacfc\\uc815 \\uc774\\uc218\\uc790(\\uc5ec\\ub984\\ubc29\\ud559 \\ud2b9\\ubcc4\\uacfc\\uc815)\\ub294 \\ud574\\ub2f9 \\uacfc\\uc815 \\uc885\\ub8cc \\ud6c4 \\uc878\\uc5c5 \\ub610\\ub294 \\uc218\\ub8cc\\ucc98\\ub9ac\\uac00 \\uac00\\ub2a5\\ud568 . \\uc810\\uac80 \\ubc0f \\uc870\\uce58\\uc0ac\\ud56d :  .  .  (\\uae08)\\uae4c\\uc9c0 \\uc870\\uce58 \\uc694\\ub9dd ) \\uc774\\uc218\\uad6c\\ubd84 \\ud655\\uc778 \\ubc0f \\uc218\\uc815(\\uacc4\\uc808\\ud559\\uae30 \\ud3ec\\ud568) : \\ud559\\uc0ac\\uc885\\ud569\\uc9c0\\uc6d0\\uc13c\\ud130 \\ubc29\\ubb38(\\uadfc\\ubb34\\uc2dc\\uac04 \\ud3c9\\uc77c  : ~  : ) \\ub610\\ub294 \\uc774\\uba54\\uc77c \\uc81c\\ucd9c\\ub2e8\\uacfc\\ub300\\ud559\\ub2f4\\ub2f9\\uc790\\uc774\\uba54\\uc77c \\uc8fc\\uc18c\\uc804\\ud654\\uc704\\uce58\\uc778\\ubb38\\ub300\\ud559, \\ud1b5\\ubc88\\uc5ed\\ub300\\ud559\\uc720\\ubcd1\\ud5cc\\uc5b4\\ubb38\\ud559\\uad00 \\ud638\\ub3d9\\uc720\\ub7fd\\ud559\\ub300\\ud559, \\uad6d\\uc81c\\uc9c0\\uc5ed\\ub300\\ud559\\ud64d\\uc740\\uacbd\\uc5b4\\ubb38\\ud559\\uad00 \\ud638\\uacbd\\uc0c1\\ub300\\ud559\\uc784\\uc11c\\ud604\\uc5b4\\ubb38\\ud559\\uad00 \\ud638\\uc790\\uc5f0\\uacfc\\ud559\\ub300\\ud559\\uae40\\uba85\\uc120\\ud559\\uc0dd\\ud68c\\uad00 \\ud638\\uacf5\\uacfc\\ub300\\ud559, \\ubc14\\uc774\\uc624\\uba54\\ub514\\uceec\\uacf5\\ud559\\ubd80\\uc548\\uc885\\uc6a9\\ud559\\uc0dd\\ud68c\\uad00 \\ud638\\u203b \\ud604\\uc7ac \\uc774\\uc218\\uad6c\\ubd84 \\uae30\\uc900\\uc73c\\ub85c \\ud559\\uc810 \\ubbf8\\uc644\\ub8cc \\uc2dc \\ub2e4\\uc74c \\ud559\\uae30 \\uc218\\uac15\\uc2e0\\uccad \\ubc0f \\ub4f1\\ub85d\\ud558\\uc5ec\\uc57c \\ud568 ) \\uc804\\uacf5\\uc774\\uc218 \\ubcc0\\uacbd : \\ud559\\uc0ac\\uc885\\ud569\\uc9c0\\uc6d0\\uc13c\\ud130 \\ubc29\\ubb38(\\ud559\\uc0dd\\ud68c\\uad00  \\ud638) \\ub610\\ub294 \\uc774\\uba54\\uc77c \\uc81c\\ucd9c()- \\uae30\\uc874 \\uc804\\uacf5\\uc2ec\\ud654+\\ubd80\\uc804\\uacf5 \\uc774\\uc218\\uc790 \\uc911 \\ubd80\\uc804\\uacf5(\\uc804\\uacf5\\uc2ec\\ud654X) \\ud76c\\ub9dd\\uc2dc \\ubcc0\\uacbd \\uc2e0\\uccad- \\ub2e8\\uc77c\\uc804\\uacf5 \\uc774\\uc218 \\ud76c\\ub9dd\\uc2dc \\uae30\\uc874 \\uc774\\uc218\\uc911\\uc778 \\ubd80\\uc804\\uacf5 \\ub610\\ub294 \\uc774\\uc911\\uc804\\uacf5 \\ucde8\\uc18c \\uc2e0\\uccad\\u203b \\ud604\\uc7ac \\uc804\\uacf5\\uc774\\uc218 \\uae30\\uc900\\uc73c\\ub85c \\ud559\\uc810 \\ubbf8\\uc644\\ub8cc \\uc2dc \\ub2e4\\uc74c \\ud559\\uae30 \\uc218\\uac15\\uc2e0\\uccad \\ubc0f \\ub4f1\\ub85d\\ud558\\uc5ec\\uc57c \\ud568  ) \\uad50\\ub958\\ud559\\uc810 \\ubc0f \\ud559\\uc810\\uc778\\uc815 \\ucc98\\ub9ac :  + , \\uad50\\ud658\\ud559\\uc0dd, \\ub2e8\\uae30\\uc5f0\\uc218, \\uc2e4\\uc678\\ub300\\uccb4 \\ub4f1 \\uc2e0\\uc18d\\ud788 \\ucc98\\ub9ac\\uc694\\ub9dd ) \\ucf54\\uc5b4\\uc0ac\\uc5c5 \\uc9c0\\uc5ed\\ud559\\uc0ac/\\uc9c0\\uc5ed\\uc804\\ubb38\\uac00\\uacfc\\uc815/\\ud559\\uc11d\\uc0ac\\uc5f0\\uacc4\\uacfc\\uc815 \\uc2e0\\uccad\\uc790 \\uc911 \\uc878\\uc5c5 \\ub610\\ub294 \\uc218\\ub8cc\\ub97c \\ud76c\\ub9dd\\ud560 \\uacbd\\uc6b0 \\ucca8\\ubd80 \\uc11c\\ub958\\ub97c \\uc791\\uc131\\ud558\\uc5ec \\ud559\\uacfc \\ud655\\uc778\\uc744 \\ubc1b\\uc740 \\ud6c4 \\ud559\\uc0ac\\uc885\\ud569\\uc9c0\\uc6d0\\uc13c\\ud130(\\ud559\\uc0dd\\ud68c\\uad00  \\ud638)\\ub85c \\uc81c\\ucd9c\\ud574\\uc57c \\ud559\\uc704\\uc99d\\uc5d0 \\uc9c0\\uc5ed\\ud559\\uc0ac \\ub610\\ub294 \\uc9c0\\uc5ed\\uc804\\ubb38\\uac00\\uacfc\\uc815 \\uc774\\uc218\\uac00 \\ubc18\\uc601\\ub428 ) \\uc678\\uad6d\\uc5b4\\uc778\\uc99d \\uc81c\\ucd9c \\uc11c\\ub958\\ub294 \\uc774\\uba54\\uc77c \\uc81c\\ucd9c\\uc740 \\ubd88\\uac00\\ud558\\uba70, \\uc6d0\\ubcf8\\uc73c\\ub85c \\uc6b0\\ud3b8(\\ub4f1\\uae30) \\ub610\\ub294 \\ubc29\\ubb38 \\uc81c\\ucd9c\\ub9cc  \\uc6d4  \\uc77c\\uae4c\\uc9c0 \\uac00\\ub2a5\\ud568 .  .\\uae00\\ub85c\\ubc8c\\ucea0\\ud37c\\uc2a4 \\uad50\\ubb34\\ucc98\\uc7a5\"\n        ],\n        \"semantic_type\": \"\",\n        \"description\": \"\"\n      }\n    },\n    {\n      \"column\": \"tokenize\",\n      \"properties\": {\n        \"dtype\": \"string\",\n        \"num_unique_values\": 575,\n        \"samples\": [\n          \"\\ud559\\ub144, \\ud559\\uae30, \\ud559\\ubd80, \\uc218\\uc5c5, \\ubc29\\uc2dd, \\uc548\\ub0b4, \\ub300\\ud559, \\ud559\\ub144, \\ud559\\uae30, \\ud559\\ubd80, \\uc218\\uc5c5, \\ubc29\\uc2dd, \\uc544\\ub798, \\uacf5\\uc9c0, \\ud559\\ub144, \\ud559\\uae30, \\uc218\\uc5c5, \\ucf54\\ub85c\\ub098, \\uc0c1\\ud669, \\uac15\\uc758\\uc2e4, \\ud658\\uacbd, \\uace0\\ub824, \\ub300\\uba74, \\uc218\\uc5c5, \\ub300\\uba74, \\uc628\\ub77c\\uc778, \\ucd94\\ub2e4, \\ube44\\ub300, \\uc218\\uc5c5, \\ubbf8\\ub7ec\\ub9c1, \\uc218\\uc5c5, \\ube44\\ub300, \\uc218\\uc5c5, \\uac00\\uc9c0, \\ud615\\ud0dc, \\uc6b4\\uc601, \\uae30\\ubcf8, \\uc218\\uc5c5, \\ubc29\\uc2dd, \\uc544\\ub798, \\uc218\\uc5c5, \\ubc29\\uc2dd, \\ud559\\ubd80, \\uad50\\uc591\\uacfc\\ubaa9, \\ud559\\ubd80, \\uacfc\\ubaa9, \\ube44\\uace0, \\uac00\\ub2a5, \\ubbf8\\ub124\\ub974\\ubc14, \\uc778\\ubb38, \\uac15\\uc88c, \\ub300\\ud559, \\uc678\\uad6d\\uc5b4, \\uc2e4\\uc6a9, \\uc678\\uad6d\\uc5b4, \\uccb4\\uc721, \\uc2e4\\uae30, \\uacfc\\ubaa9, TRTL, RC, \\uc601\\uc5b4, \\uae00\\ub85c\\ubc8c, \\uc18c\\ud504\\ud2b8\\uc6e8\\uc5b4, \\uae30\\ucd08, \\uc601\\uc5ed, \\ubd80\\uc9c0, \\uc815\\uac15, \\uac15\\uc815\\uc6d0, \\uc774\\ud558, \\ubaa8\\ub4e0, \\uc218\\uc5c5, \\ucf54\\ub85c\\ub098, \\uc815\\ubd80, \\ubc29\\uc5ed, \\uc9c0\\uce68, \\ub530\\ub974\\ub2e4, \\uc218\\uc5c5, \\ubc29\\uc2dd, \\ubcc0\\ub3d9, \\uac00\\ub2a5, \\ube44\\ub300, \\ubaa8\\ub4e0, \\uc218\\uc5c5, \\uac15\\uc815\\uc6d0, \\ubaa8\\ub4e0, \\uc218\\uc5c5, \\ud559\\uae30, \\uc804\\uccb4, \\ub300\\uba74, \\ud655\\uc815, \\uc218\\uc5c5, \\ubc29\\uc2dd, \\ubcc0\\ub3d9, \\uc5c6\\ub2e4, \\uac15\\uc815\\uc6d0, \\uc218\\uac15\\uc2e0\\uccad, \\ub2e8\\uacc4, \\uc9c0\\uc815, \\uac15\\uc758, \\uc2dc\\uac04\\ud45c, \\uc218\\uac15, \\ucd5c\\ub300, \\uc81c\\ud55c, \\uc778\\uc6d0, \\uc758\\ubbf8, \\ucd94\\ud6c4, \\uc218\\uac15\\uc2e0\\uccad, \\uacb0\\uacfc, \\uc99d\\uc6d0, \\ucde8\\uc18c, \\ubcc0\\uacbd, \\ub530\\ub974\\ub2e4, \\uc2e4\\uc81c, \\uac15\\uc778\\uc6d0, \\ubc18\\uc601, \\uc218\\uc5c5, \\ubc29\\uc2dd, \\ubcc0\\uacbd, \\uc5c6\\ub2e4, \\uc218\\uc5c5, \\ubc29\\uc2dd, \\ubd88\\ubcc0, \\uac15\\uc88c\\ubcc4, \\uc218\\uc5c5, \\ubc29\\uc2dd, \\uac15\\uc758, \\uacc4\\ud68d, \\uc624\\ub2e4, \\uac15\\uc758, \\uc2dc\\uac04\\ud45c, \\ud45c\\uc2dc, \\ubaa8\\ub4e0, \\ub300\\uba74, \\uc218\\uc5c5, \\uc678\\uad6d\\uc778, \\uc720\\ud559\\uc0dd, \\uc785\\uad6d, \\ubd88\\uac00, \\uc778\\ud558\\ub2e4, \\ud574\\uc678, \\uccb4\\ub958, \\uc6d0\\uce59, \\uc2e4\\uc2dc\\uac04, \\uc628\\ub77c\\uc778, \\uc1a1\\ucd9c, \\uac15\\uc758\\uc2e4, \\ub9c8\\uc774\\ud06c, \\ub2ec\\ub9ac\\ub2e4, \\uc6f9\\ucea0, \\uc124\\uce58, \\uc644\\ub8cc, \\ubcd1\\ud589, \\uc2e4\\uc2dc, \\ud574\\uc678, \\uccb4\\ub958, \\uc678\\uad6d\\uc778, \\uc218\\uac15\\uc0dd, \\uc5c6\\ub2e4, \\uc18c\\uaddc\\ubaa8, \\uac15\\uc758, \\ub300\\uba74, \\uc218\\uc5c5, \\uc2e4\\uc2dc, \\ubb34\\ubc29, \\ubbf8\\ub7ec\\ub9c1, \\uc218\\uc5c5, \\ube44\\ub300, \\uc218\\uc5c5, \\uc2e4\\uc2dc\\uac04, \\uc628\\ub77c\\uc778, \\uac15\\uc758, WebEx, Zoom, Google, Meet, \\ud65c\\uc6a9, \\uc2e4\\uc2dc\\uac04, \\ud559\\uc2b5, \\uac15\\uc0ac, \\ubcf8\\uc778, \\uc81c\\uc791, \\uc601\\uc0c1, \\uc790\\ub8cc, \\ubaa8\\uc784, \\uc9c8\\uc758, \\uc751\\ub2f5, \\ud3ec\\ud568, \\uac00\\ub2a5\\ud558\\ub2e4, \\ud310\\uc11c, PPT, \\ud30c\\uc77c, \\uacf5\\uc720, \\ud65c\\uc6a9, \\uad8c\\uace0, \\ubaa8\\ub4e0, \\uc218\\uc5c5, \\ucd9c\\uacb0, \\uad00\\ub9ac, \\uc2dc\\uc2a4\\ud15c, \\uc774\\uc6a9, \\ucd9c\\uacb0, \\uad00\\ub9ac, \\ud544\\uc218, \\ud559\\uae30, \\uc131\\uc801, \\ud3c9\\uac00, \\uc808\\ub300\\ud3c9\\uac00, \\uc2dc\\ud589, \\ucd94\\uac00, \\ub300\\uba74, \\uac00\\ub2a5, \\uc218\\uc5c5, \\uacbd\\uc6b0, \\uc815\\ubd80, \\ubc29\\uc5ed, \\uae30\\uc900, \\uac70\\ub9ac, \\ub450\\uae30, \\ub2e8\\uacc4, \\ub530\\ub974\\ub2e4, \\uc218\\uc5c5, \\ubc29\\uc2dd, \\ub2ec\\ub9ac, \\uc801\\uc6a9, \\uc815\\ubd80, \\ubc29\\uc5ed, \\uae30\\uc900, \\uac70\\ub9ac, \\ub2e8\\uacc4, \\ub2e8\\uacc4, \\ub2e8\\uacc4, \\ub2e8\\uacc4, \\ub2e8\\uacc4, \\ub2e8\\uacc4, \\uc0dd\\ud65c, \\ubc29\\uc5ed, \\uc9c0\\uc5ed, \\uc720\\ud589, \\ub2e8\\uacc4, \\uc804\\uad6d, \\uc720\\ud589, \\uacc4\\uc218, \\ub300\\uba74, \\uc218\\uc5c5, \\uac15\\uc815\\uc6d0, \\uc774\\ud558, \\ubaa8\\ub4e0, \\uc218\\uc5c5, \\uc774\\ud558, \\ud68c\\ud654, \\uc218\\uc5c5, \\uc774\\ud558, PC, \\uc2e4\\uc2b5, \\uccb4\\uc721, \\uc2e4\\uae30, \\uc774\\uacf5, \\uc2e4\\ud5d8, \\uc2e4\\uc2b5, \\uc218\\uc5c5, \\ub300\\uba74, \\uc628\\ub77c\\uc778, \\ucd94\\ub2e4, \\ube44\\ub300, \\uc218\\uc5c5, \\ubbf8\\ub7ec\\ub9c1, \\uc218\\uc5c5, \\uc218\\uac15, \\uc815\\uc6d0, \\uc218\\uc5c5, \\ub300\\uba74, \\uc218\\uc5c5, \\u2460\\u223c\\u2462\\u201d, \\ud574\\ub2f9, \\ubaa8\\ub4e0, \\uc218\\uc5c5, \\ube44\\ub300, \\uc218\\uc5c5, \\uac15\\uc815\\uc6d0, \\ubaa8\\ub4e0, \\uc218\\uc5c5, \\ub2f4\\ub2f9, \\uad50\\uc218, \\uc218\\uac15\\uc0dd, \\ud611\\uc758, \\ud559\\uc0ac\\uc885\\ud569\\uc9c0\\uc6d0\\uc13c\\ud130, \\ud5c8\\uac00, \\ubbf8\\ub7ec\\ub9c1, \\uc218\\uc5c5, \\uc804\\ud658, \\uac00\\ub2a5, \\ub300\\uba74, \\uc218\\uc5c5, \\uc774\\ud558, \\uc774\\uacf5, \\uc2e4\\ud5d8, \\uc2e4\\uc2b5, \\uc218\\uc5c5, \\uc774\\ud558, \\ud68c\\ud654, \\uc218\\uc5c5, \\ube44\\ub300, \\uc218\\uc5c5, \\ub300\\uba74, \\uc218\\uc5c5, \\u2460\\u223c, \\ud574\\ub2f9, \\ubaa8\\ub4e0, \\uc218\\uc5c5, \\uc804\\uba74, \\ube44\\ub300, \\uc218\\uc5c5, \\ud5c8\\ub2e4, \\ub300\\uba74, \\uc2dc\\ud5d8, \\ube44\\ub300, \\uc2dc\\ud5d8, \\ubbf8\\ub7ec\\ub9c1, \\uc2dc\\ud5d8, \\uac00\\ub2a5, \\ucd94\\ud6c4, \\ubcc4\\ub3c4, \\uc548\\ub0b4, \\uc778\\uc6d0, \\uae30\\uc900, \\uac15\\uc815\\uc6d0, \\ub300\\uba74, \\uc628\\ub77c\\uc778, \\ucd94\\ub2e4, \\ube44\\ub300, \\uc218\\uc5c5, \\ubbf8\\ub7ec\\ub9c1, \\uc218\\uc5c5, \\uaca9\\uc8fc, \\ub4f1\\uad50, \\uc7ac\\ud559\\uc0dd, \\ud559\\ubc88, \\ud640\\uc218, \\uc9dd\\uc218, \\uc591\\ubd84, \\ub300\\uba74, \\uc628\\ub77c\\uc778, \\ucd94\\ub2e4, \\ube44\\ub300, \\uc218\\uc5c5, \\uad50\\ucc28, \\uc218\\uac15, \\uac15\\uc758, \\uc8fc\\ucc28, \\uae30\\uc900, \\uc9dd\\uc218, \\ud559\\ubc88, \\uc9dd\\uc218, \\uc8fc\\ucc28, \\ub4f1\\uad50, \\ud640\\uc218, \\ud559\\ubc88, \\ud640\\uc218, \\uc8fc\\ucc28, \\ub4f1\\uad50, \\ud559\\uc0dd, \\uaca9\\uc8fc, \\ub300\\uba74, \\uaca9\\uc8fc, \\ube44\\ub300, \\uc218\\uac15, \\ub2f4\\ub2f9, \\uad50\\uc218, \\ub9e4\\uc8fc, \\uac15\\uc758\\uc2e4, \\ub9c8\\uc774\\ud06c, \\ub2ec\\ub9ac\\ub2e4, \\uc6f9\\ucea0, \\uc124\\uce58, \\ub300\\uba74, \\uac15\\uc758, \\uc2e4\\uc2dc\\uac04, \\uc628\\ub77c\\uc778, \\uc1a1\\ucd9c, \\ubbf8\\ub7ec\\ub9c1, \\uc9c0\\uc18d, \\uad50\\ubb34\",\n          \"\\ud559\\ub144, \\ud559\\uae30, \\uc774\\uc911, \\uc804\\uacf5, \\ubcc0\\uacbd, \\uc2e0\\uccad, \\uc77c\\uc815, \\ud559\\ub144, \\ud559\\uae30, \\uc774\\uc911, \\uc804\\uacf5, \\ubcc0\\uacbd, \\uc2e0\\uccad, \\uc77c\\uc815, \\uc544\\ub798, \\uc774\\uc911, \\uc804\\uacf5, \\ubcc0\\uacbd, \\uc2e0\\uccad, \\uad6c\\ubd84, \\ub0b4\\uc6a9, \\ub300\\uc0c1, \\ud559\\ub144, \\ud559\\uc0dd, \\uc911\\uc774, \\uc804\\uacf5, \\ubcc0\\uacbd, \\uc2e0\\uccad, \\uae30\\uac04, \\uc2e0\\uccad, \\ubc30\\uc815, \\uc5c6\\ub2e4, \\uc7ac\\ud559\\uc0dd, \\ud734\\ud559\\uc0dd, \\uae30\\uc874, \\uc774\\uc911, \\uc804\\uacf5, \\uc2e0\\uccad, \\uc5c6\\ub2e4, \\ubc09\\ub2e4, \\uc120\\ubc1c, \\uacbd\\uc6b0, \\ud559\\ub144, \\uc774\\uc911, \\uc804\\uacf5, \\ubcc0\\uacbd, \\uae30\\uac04, \\uc2e0\\uccad, \\uc2e0\\uccad, \\uae30\\uac04, \\uc2e0\\uccad, \\uae30\\uac04, \\uc774\\ud6c4, \\ucd94\\uac00, \\uc2e0\\uccad, \\uc808\\ub300, \\ubd88\\uac00, \\uc2e0\\uccad, \\ubc29\\ubc95, \\uc885\\ud569\\uc815\\ubcf4\\uc2dc\\uc2a4\\ud15c, \\uc804\\uacf5, \\uad50\\uc9c1, \\uad00\\ub9ac, \\uc774\\uc911, \\uc804\\uacf5, \\ubcc0\\uacbd, \\uc2e0\\uccad, \\uc774\\uc911, \\uc804\\uacf5, \\ubcc0\\uacbd, \\uc2e0\\uccad, \\uc9c0\\ub9dd, \\uc2e0\\uccad, \\uac00\\ub2a5, \\ubc30\\uc815, \\ud655\\uc815, \\uc6d4\\ub9d0, \\uc6d4\\ucd08, \\uc608\\uc815, \\ud559\\uacfc, \\uc804\\ud615, \\uc77c\\uc815, \\ub530\\ub974\\ub2e4, \\uc720\\ub3d9, \\ubcc4\\ub3c4, \\uc608\\uc815, \\ubc30\\uc815, \\uc6d0\\uce59, \\uc2dc\\uc810, \\uae30\\uc900, \\ud559\\uacfc, \\ud559\\ubc88, \\ub300\\ubcc4, \\uc774\\uc911, \\uc804\\uacf5, \\ubc30\\uc815, \\ucca8\\ubd80, \\ubb38\\uc11c, \\ucc38\\uc870, \\ud559\\uacfc, \\ubc30\\uc815, \\uae30\\uc900, \\ucca8\\ubd80, \\ubb38\\uc11c, \\ucc38\\uace0, \\ub530\\ub984, \\ud559\\uc810, \\uc774\\uc218\\uc790, \\ubc30\\uc815, \\ub9c8\\uac10, \\uc77c\\uc778, \\uae30\\uc900, \\uc131\\uc801, \\ubc30\\uc815, \\ub9c8\\uac10, \\ubcc0\\ub3d9, \\uc131\\uc801, \\ubc18\\uc601, \\uc548\\ub0b4, \\uc0ac\\ud56d, \\uad6c\\ubd84, \\ub0b4\\uc6a9, \\uc720\\uc758\\uc0ac\\ud56d, \\uae00\\ub85c\\ubc8c, \\ucea0\\ud37c\\uc2a4, \\ud559\\uacfc, \\uc804\\uacf5, \\uc774\\uc911, \\uc804\\uacf5, \\ud76c\\ub9dd, \\uae00\\ub85c\\ubc8c, \\ucea0\\ud37c\\uc2a4, \\uacf5\\uc9c0, \\uc0ac\\ud56d, \\ud655\\uc778, \\ubc14\\ub78c, \\ucea0\\ud37c\\uc2a4, \\ub3d9\\uc77c\\ud558\\ub2e4, \\uac1c\\uc124, \\uc735\\ud569\\uc804\\uacf5, \\ubcf8\\uc778, \\uc18c\\uc18d, \\ucea0\\ud37c\\uc2a4, \\uc218\\ud574, \\uc57c\\ud558\\ub2e4, \\ud559\\uacfc, \\uc804\\ud615, \\ud559\\uacfc, \\uacbd\\uc6b0, \\ud559\\uacfc, \\uc0ac\\ubb34\\uc2e4, \\ubb38\\uc758, \\uc2dc\\ud5d8, \\uba74\\uc811, \\uc11c\\ub958, \\uc81c\\ucd9c, \\uc77c\\uc815, \\uc790\\uaca9, \\ud655\\uc778, \\ubc14\\ub78c, \\uc77c\\uc815, \\ubc29\\ubc95, \\uc9c0\\uc6d0, \\uc790\\uaca9, \\ub300\\ud55c, \\ubc09\\ub2e4, \\ud655\\uc778, \\ubc30\\uc815, \\ubcf8\\uc778, \\uacfc\\uc2e4, \\uc774\\uc911, \\uc804\\uacf5, \\ubcc0\\uacbd, \\uc2e0\\uccad, \\uae30\\uac04, \\uc2e0\\uccad, \\ubc30\\uc815, \\uacbd\\uc6b0, \\ucd94\\ud6c4, \\uc774\\uc911, \\uc804\\uacf5, \\ubcc0\\uacbd, \\uc2e0\\uccad, \\ubd88\\uac00, \\uc774\\uc911, \\uc804\\uacf5, \\ubcc0\\uacbd, \\uc2e0\\uccad, \\uae30\\uac04, \\ubc09\\ub2e4, \\ubc30\\uc815, \\uacbd\\uc6b0, \\ucd94\\ud6c4, \\uc774\\uc911, \\uc804\\uacf5, \\ubcc0\\uacbd, \\uc2e0\\uccad, \\uac00\\ub2a5, \\uae00\\ub85c\\ubc8c, \\ucea0\\ud37c\\uc2a4, \\uc774\\uc218, \\uc774\\uc911, \\uc804\\uacf5, \\uacfc\\ubaa9, \\uc11c\\uc6b8\\ucea0\\ud37c\\uc2a4, \\uc774\\uc911, \\uc804\\uacf5, \\ubcc0\\uacbd, \\uc7ac\\uc218\\uac15, \\ubd88\\uac00, \\uae00\\ub85c\\ubc8c, \\ucea0\\ud37c\\uc2a4, \\uc774\\uc911, \\uc804\\uacf5, \\uc720\\uc9c0, \\ub418\\uc5b4\\ub2e4, \\uc0c1\\ud0dc, \\uc7ac\\uc218\\uac15, \\uc644\\ub8cc, \\ud6c4\\uae30, \\uc774\\uc911, \\uc804\\uacf5, \\uc120\\ubc1c, \\uc774\\uc911, \\uc804\\uacf5, \\ubcc0\\uacbd, \\ubc30\\uc815, \\ub418\\uc5b4\\ub2e4, \\uacbd\\uc6b0, \\ucde8\\uc18c, \\uc81c\\ud55c, \\uc0ac\\ud56d, \\ud559\\uacfc, \\ud559\\ubc88, \\ub300\\ubcc4, \\uc5c6\\ub2e4, \\ud559\\uacfc, \\uc804\\uacf5, \\uc2e0\\uccad, \\ubd88\\uac00, \\ucea0\\ud37c\\uc2a4, \\uc774\\uc911, \\uc804\\uacf5, \\ud76c\\ub9dd, \\uacbd\\uc6b0, \\ucea0\\ud37c\\uc2a4, \\uc774\\uc911, \\uc804\\uacf5, \\ud55c\\ud559, \\uacfc\\ub85c, \\uc2e0\\uccad, \\ubd88\\uac00, \\ucea0\\ud37c\\uc2a4, \\uc11c\\uc6b8\\ucea0\\ud37c\\uc2a4, \\uae00\\ub85c\\ubc8c, \\ucea0\\ud37c\\uc2a4, \\ud559\\uc0dd, \\uc2e0\\uccad, \\ubd88\\uac00, \\ud559\\uacfc, \\uae00\\ub85c\\ubc8c, \\ucea0\\ud37c\\uc2a4, \\uc11c\\uc6b8\\ucea0\\ud37c\\uc2a4, \\ud559\\uc0dd, \\uc2e0\\uccad, \\ubd88\\uac00, \\ud559\\uacfc, \\ud559\\uacfc, \\uc601\\uc5b4, \\ub300\\ud559, \\ud559\\uacfc, \\uc804\\uacf5, \\ud504\\ub791\\uc2a4\\uc5b4\\ud559\\ubd80, \\uae30\\uc874, \\ud504\\ub791\\uc2a4\\uc5b4, \\ud3ec\\ud568, \\ub3c5\\uc77c\\uc5b4, \\ub178\\uc5b4, \\uc2a4\\ud398\\uc778\\uc5b4, \\uc774\\ud0c8\\ub9ac\\uc544\\uc5b4, \\ud3ec\\ub974\\ud22c\\uac08\\uc5b4, \\ub9d0\\ub808\\uc774, \\uc778\\ub3c4\\ub124\\uc2dc\\uc544\\uc5b4, \\uc544\\ub78d\\uc5b4, \\ud0dc\\uad6d\\uc5b4, \\uc778\\ub3c4, \\uc911\\uad6d\\ud559\\ub300\\ud559, \\uc804\\uacf5, \\uc77c\\ubcf8\\ud559, \\ub300\\ud559, \\uc601\\uc5b4\\ud1b5\\ubc88\\uc5ed\\ud559\\ubd80, \\ud504\\ub791\\uc2a4\\ud559\\uacfc, \\ub3c5\\uc77c\\uc5b4, \\ubc88\\uc5ed\\ud559, \\ub7ec\\uc2dc\\uc544\\ud559\\uacfc, \\uc2a4\\ud398\\uc778\\uc5b4, \\ubc88\\uc5ed\\ud559, \\uc774\\ud0c8\\ub9ac\\uc544\\uc5b4, \\ubc88\\uc5ed\\ud559, \\ube0c\\ub77c\\uc9c8\\ud559\\uacfc, \\ub9d0\\ub808\\uc774, \\uc778\\ub3c4\\ub124\\uc2dc\\uc544\\uc5b4, \\ubc88\\uc5ed\\ud559, \\uc544\\ub78d\\uc5b4\\ud1b5\\ubc88\\uc5ed\\ud559, \\ud0dc\\uad6d\\uc5b4\\ud1b5\\ubc88\\uc5ed\\ud559, \\uc778\\ub3c4, \\ud559\\uacfc, \\uc911\\uad6d\\uc5b4\\ud1b5\\ubc88\\uc5ed\\ud559, \\uc77c\\ubcf8\\uc5b4, \\ubc88\\uc5ed\\ud559, \\uacbd\\uc6b0, \\uc774\\uc911, \\uc804\\uacf5, \\uc774\\uc218, \\uc81c\\ud55c, \\uc11c\\uc6b8\\ucea0\\ud37c\\uc2a4, \\uacbd\\uc81c, \\ud559\\ubd80, \\ud559\\uc0dd, \\ud559\\ubc88, \\uae00\\ub85c\\ubc8c, \\ucea0\\ud37c\\uc2a4, \\uacbd\\uc81c\\ud559, \\uc774\\uc911, \\uc804\\uacf5, \\uc774\\uc218, \\ubd88\\uac00, \\uae00\\ub85c\\ubc8c, \\ucea0\\ud37c\\uc2a4, \\uacbd\\uc81c\\ud559, \\ud559\\uc0dd, \\uc11c\\uc6b8\\ucea0\\ud37c\\uc2a4, \\uacbd\\uc81c\\ud559, \\uc804\\uacf5, \\uc774\\uc911, \\uc804\\uacf5, \\uc774\\uc218, \\ubd88\\uac00, \\uacbd\\uc601\\ub300\\ud559, \\ud559\\uc0dd, \\uae00\\ub85c\\ubc8c, \\ucea0\\ud37c\\uc2a4, \\uacbd\\uc0c1\\ub300\\ud559, \\ud559\\uacfc, \\uc804\\uacf5, \\uc774\\uc911, \\uc804\\uacf5, \\uc774\\uc218, \\ubd88\\uac00, \\uae00\\ub85c\\ubc8c, \\ucea0\\ud37c\\uc2a4, \\uacbd\\uc0c1\\ub300\\ud559, \\ud559\\uc0dd, \\uc11c\\uc6b8\\ucea0\\ud37c\\uc2a4, \\uacbd\\uc601\\ub300\\ud559, \\uc774\\uc911, \\uc804\\uacf5, \\uc774\\uc218, \\ubd88\\uac00, \\uc77c\\ubcf8\\uc5b8\\uc5b4\\ubb38\\ud654\\ud559\\ubd80, \\ud559\\uc0dd, \\uc735\\ud569\\uc77c\\ubcf8\\uc9c0\\uc5ed\\ud559\\ubd80, \\uc774\\uc911, \\uc804\\uacf5, \\uc774\\uc218, \\ubd88\\uac00, \\uc735\\ud569\\uc77c\\ubcf8\\uc9c0\\uc5ed\\ud559\\ubd80, \\ud559\\uc0dd, \\uc77c\\ubcf8\\uc5b8\\uc5b4\\ubb38\\ud654\\ud559\\ubd80, \\uc774\\uc911, \\uc804\\uacf5, \\uc774\\uc218, \\ubd88\\uac00, \\uc0ac\\ubc94, \\ub300\\ud559\\uc0dd, \\uc0ac\\ubc94\\ub300\\ud559, \\ud559\\uacfc, \\uc774\\uc911, \\uc804\\uacf5, \\uc774\\uc218, \\ubd88\\uac00, \\ud559\\ubc88, LD, \\uc804\\uacf5, LT, \\uc804\\uacf5, \\uc774\\uc218, \\ubd88\\uac00, \\ud559\\ubc88, \\uac00\\ub2a5, \\ubaa8\\ub4e0, \\ud559\\uc0dd, \\ud3d0\\uc9c0, \\ud559\\uacfc, \\ubc95\\ud559\\uacfc, \\uc0ac\\ud68c\\uacfc\\ud559, \\uc804\\uacf5, \\ubcf8\\uc778, \\ud559\\ubc88, \\uc874\\uc7ac, \\ud559\\uacfc, \\uc774\\uc218, \\ubd88\\uac00, \\uc678\\uad6d\\uc5b4, \\ub85c\\uc11c, \\uad6d\\uc5b4\\uad50\\uc721, \\uc804\\uacf5, \\uc678\\uad6d\\uc5b4, \\ub85c\\uc11c, \\ud55c\\uad6d\\uc5b4, \\ubc88\\uc5ed, \\uc804\\uacf5, \\uc785\\ud559, \\uc804\\ud615, \\uae30\\uc900, \\uc678\\uad6d\\uc778, \\uc804\\ud615, \\uc785\\ud559\\uc0dd, \\uc2e0\\uccad, \\uac00\\ub2a5\\ud558\\ub2e4, \\uc678\\uad6d\\uc5b4, \\ub85c\\uc11c, \\ud55c\\uad6d\\uc5b4, \\ubc88\\uc5ed, \\uc804\\uacf5, \\ud559\\ubc88, \\uc2e0\\uccad, \\uac00\\ub2a5, \\ubd80\\uc804\\uacf5, \\ud76c\\ub9dd, \\uc77c\\ubc18, \\ubd80\\uc804\\uacf5, \\ub610\\ub294, \\uc804\\uacf5, \\uc2ec\\ud654, \\ubd80\\uc804\\uacf5, \\uc2e0\\uccad, \\ub2e8\\uc77c, \\uc804\\uacf5, \\ud76c\\ub9dd, \\uae30\\uc874, \\uc774\\uc911, \\uc804\\uacf5, \\ubd80\\uc804\\uacf5, \\ucde8\\uc18c, \\ub298\\ub2e4, \\uc911\\uc21c, \\uc885\\ud569\\uc815\\ubcf4\\uc2dc\\uc2a4\\ud15c, \\uc2e0\\uccad, \\ubcc4\\ub3c4, \\uacf5\\uc9c0, \\uc608\\uc815, \\uc11c\\uc6b8\\ucea0\\ud37c\\uc2a4, \\uad50\\ubb34\",\n          \"\\ud734\\uac15, \\uc544\\ub798, \\ud734\\uac15, \\uacf5\\uace0\\ud568, \\ud734\\uac15, \\uc77c\\ubcf4, \\uac15\\uc77c, \\ucd94\\uc11d, \\uc5f0\\ud734, \\uac1c\\ucc9c\\uc808, \\ub300\\uccb4\\uacf5\\ud734\\uc77c, \\ud55c\\uae00\\ub0a0, \\ub300\\uccb4\\uacf5\\ud734\\uc77c, \\uacf5\\ud734\\uc77c, \\uc778\\ud558\\ub2e4, \\ud734\\uac15, \\ub300\\ud55c, \\ubcf4\\uac15, \\ubcf4\\uac15, \\uc8fc\\uac04, \\uc2e4\\uc2dc, \\uc11c\\uc6b8, \\uae00\\ub85c\\ubc8c, \\ucea0\\ud37c\\uc2a4, \\uad50\\ubb34\"\n        ],\n        \"semantic_type\": \"\",\n        \"description\": \"\"\n      }\n    }\n  ]\n}"
            }
          },
          "metadata": {},
          "execution_count": 21
        }
      ]
    },
    {
      "cell_type": "code",
      "source": [
        "class GraphMatrix(object):\n",
        "    def __init__(self):\n",
        "        self.tfidf = TfidfVectorizer()\n",
        "        self.cnt_vec = CountVectorizer()\n",
        "        self.graph_sentence = []\n",
        "\n",
        "    def build_sent_graph(self, sentence):\n",
        "        tfidf_mat = self.tfidf.fit_transform(sentence).toarray()\n",
        "        self.graph_sentence = np.dot(tfidf_mat, tfidf_mat.T)\n",
        "        return  self.graph_sentence\n",
        "\n",
        "    def build_words_graph(self, sentence):\n",
        "        cnt_vec_mat = self.cnt_vec.fit_transform(sentence).toarray().astype(float)\n",
        "        cnt_vec_mat = normalize(cnt_vec_mat, axis=0)  # 열에 대해 정규화\n",
        "        cnt_vec_mat_sparse = csr_matrix(cnt_vec_mat)\n",
        "        graph = cnt_vec_mat_sparse.T.dot(cnt_vec_mat_sparse).toarray()\n",
        "        return graph, {idx: word for word, idx in self.cnt_vec.vocabulary_.items()}"
      ],
      "metadata": {
        "id": "KhYzS6suCO7T"
      },
      "execution_count": null,
      "outputs": []
    },
    {
      "cell_type": "code",
      "source": [
        "# 데이터프레임에서 'content' 열 데이터 추출\n",
        "content_data = haksa_copy['content_filter_text'].tolist()\n",
        "\n",
        "# GraphMatrix 인스턴스 생성\n",
        "graph_matrix = GraphMatrix()\n",
        "\n",
        "# 문장 그래프 구축\n",
        "sentence_graph = graph_matrix.build_sent_graph(content_data)\n",
        "print(\"Sentence Graph:\")\n",
        "print(sentence_graph)\n",
        "\n",
        "tokenize_data = haksa_copy['tokenize']\n",
        "# 단어 그래프 및 인덱스-단어 매핑 구축\n",
        "words_graph, idx_to_word = graph_matrix.build_words_graph(tokenize_data)\n",
        "print(\"Words Graph:\")\n",
        "print(words_graph)\n",
        "print(\"Index to Word Mapping:\")\n",
        "print(idx_to_word)"
      ],
      "metadata": {
        "colab": {
          "base_uri": "https://localhost:8080/"
        },
        "id": "90-B6G8BCO7V",
        "outputId": "1cedeeaa-4d50-4727-bd5f-58e466312a7c"
      },
      "execution_count": null,
      "outputs": [
        {
          "output_type": "stream",
          "name": "stdout",
          "text": [
            "Sentence Graph:\n",
            "[[1.         0.09264347 0.01280481 ... 0.04074956 0.04116956 0.02201173]\n",
            " [0.09264347 1.         0.041568   ... 0.07235414 0.10250449 0.09462879]\n",
            " [0.01280481 0.041568   1.         ... 0.01113626 0.01115256 0.03066948]\n",
            " ...\n",
            " [0.04074956 0.07235414 0.01113626 ... 1.         0.41102887 0.01478805]\n",
            " [0.04116956 0.10250449 0.01115256 ... 0.41102887 1.         0.02866733]\n",
            " [0.02201173 0.09462879 0.03066948 ... 0.01478805 0.02866733 1.        ]]\n",
            "Words Graph:\n",
            "[[1.         0.         1.         ... 0.         0.         0.6761234 ]\n",
            " [0.         1.         0.         ... 0.         0.         0.3380617 ]\n",
            " [1.         0.         1.         ... 0.         0.         0.6761234 ]\n",
            " ...\n",
            " [0.         0.         0.         ... 1.         0.70710678 0.        ]\n",
            " [0.         0.         0.         ... 0.70710678 1.         0.        ]\n",
            " [0.6761234  0.3380617  0.6761234  ... 0.         0.         1.        ]]\n",
            "Index to Word Mapping:\n",
            "{2205: '공통', 4313: '이중', 4557: '전공', 3180: '변경', 3134: '배정', 5464: '확정', 5271: '학년', 5269: '학기', 2106: '결과', 3808: '아래', 2180: '공고함', 4727: '조회', 4748: '종합정보시스템', 2277: '교직', 2232: '관리', 3767: '신청', 3827: '안내', 3378: '사항', 5280: '학생', 5027: '추후', 3282: '불가', 3040: '밉다', 2429: '기존', 3647: '수중', 3258: '부전공', 4169: '유지', 2400: '기간', 1973: '가능', 4737: '졸업예정자', 3620: '수료', 4733: '졸업', 2668: '대기', 5205: '포함', 2618: '늘다', 4126: '월초', 2291: '구분', 3984: '영역', 5297: '학점', 2611: '누락', 4404: '일이', 3901: '없다', 2812: '따르다', 3537: '성적', 3643: '수정', 5279: '학사종합지원센터', 3572: '소속', 2637: '단과대학', 4920: '창구', 3114: '방문', 4486: '작성', 4702: '제출', 3124: '방학', 2433: '기타사항', 3798: '심화', 2640: '단일', 5051: '취소', 4804: '중순', 2203: '공지', 4918: '참조', 3046: '바람', 3999: '예정', 2788: '되어다', 2247: '교무', 3605: '수강신청', 2702: '대하', 2037: '강의', 3702: '시간표', 2152: '계획', 3602: '수강', 5176: '편람', 3965: '열람', 1976: '가다', 5264: '학교', 765: 'hot', 987: 'link', 3181: '변동', 3780: '실시간', 3096: '반영', 2629: '다시', 5462: '확인', 2094: '게시', 4121: '월말', 4409: '일정', 4495: '장바구니', 2930: '명칭', 3990: '예비', 3279: '분일', 4642: '정비', 4742: '종료', 4540: '재학생', 4588: '전체', 5182: '편입생', 2891: '매일', 3236: '본인', 2430: '기준', 2040: '강일', 2828: '로그인', 5251: '필히', 3370: '사전', 2802: '등록', 5492: '횟수', 4042: '외국인', 2284: '교환학생', 4444: '입학', 4532: '재수강', 3229: '복학', 4001: '예정자', 5513: '휴학', 3697: '승인', 2217: '과목', 4383: '일괄', 3384: '삭제', 2039: '강인원', 2044: '강좌', 4455: '자동', 5193: '폐강', 3634: '수업', 3779: '실시', 3115: '방법', 3165: '법내', 5477: '활용', 5518: '희망', 3509: '선택', 2650: '담기다', 4985: '최대', 2943: '목록', 2944: '목별', 2816: '또는', 2254: '교양', 3190: '별로', 2061: '개설', 4288: '이용', 2935: '모바일', 3472: '서비스', 3884: '어플리케이션', 3357: '사용', 3664: '순번', 3719: '시스템', 2738: '도입', 3307: '붙이다', 5160: '파일', 4611: '접속', 2873: '많다', 2133: '경우', 2934: '모든', 4058: '요청', 3103: '발급', 3668: '순차', 4165: '유의사항', 3253: '부여', 3441: '새로고침', 2073: '거나', 2900: '메뉴', 3094: '반복', 5014: '최후', 3157: '번호', 4527: '재발', 2620: '늘어나다', 3358: '사용법', 2939: '모의', 2777: '동영상', 1373: 'qr', 5077: '코드', 3322: '비밀번호', 2349: '권장', 2045: '강좌별', 3315: '비고', 5262: '학과', 3604: '수강생', 2681: '대상', 5375: '허용', 4707: '제한', 5348: '해당', 2972: '문의', 3483: '서울캠퍼스', 2385: '글로벌', 5065: '캠퍼스', 2398: '금지', 2784: '동일', 4459: '자리', 4853: '지정', 4802: '중복', 2244: '교과목', 4276: '이수', 5372: '허가', 4470: '자유', 1975: '가능하다', 4164: '유의', 2186: '공구', 4943: '철학', 3376: '사학', 3889: '언어', 4372: '인지과학', 4673: '정치', 4037: '외교학', 5366: '행정학', 3887: '언론', 4633: '정보', 2238: '광고', 1312: 'pr', 3312: '브랜딩', 3117: '방송', 3974: '영상', 2616: '뉴미디어', 4811: '중전', 2194: '공양', 5064: '캠퍼', 3673: '스마', 2888: '매매', 2074: '거래', 4891: '징계', 2361: '규정', 3360: '사유', 4096: '운영', 5143: '투명', 4645: '정성', 4688: '제고', 2250: '교수', 4452: '자녀', 4831: '지다', 3870: '양하다', 5001: '최종', 4031: '완료', 313: 'class', 3293: '불다', 2858: '마이', 5175: '페이지', 2066: '개인정보', 2757: '동기화', 4012: '오전', 2694: '대체', 3938: '연결', 4303: '이전', 5050: '취득', 3010: '미만', 3998: '예외', 2053: '개강', 2231: '관련', 603: 'faq', 4885: '질문', 2656: '답변', 4361: '인원', 4821: '증원', 2113: '결정', 4934: '처리', 4022: '온라인', 5374: '허락', 3368: '사인', 2652: '담당', 2288: '구두', 4710: '조교', 2619: '늘리다', 2579: '내용', 3349: '사무실', 3480: '서울', 4562: '전기', 2329: '국제지역대학', 3356: '사연', 2942: '모집', 3491: '석사', 4004: '오니', 3045: '바라다', 4849: '지원', 3768: '신청서', 4612: '접수', 4933: '처가', 3934: '역사관', 5479: '회관', 4945: '첨부', 4051: '요강', 4910: '참고', 3703: '시기', 4386: '일반', 2708: '대학원', 3371: '사정', 4458: '자료', 3725: '시점', 2150: '계절', 2646: '달라지다', 5245: '필수', 4278: '이수자', 5093: '탈락', 4039: '외국어', 4369: '인증', 3782: '실용', 2099: '겨울방학', 5152: '특별', 4040: '외국어교육센터', 4367: '인정', 4605: '점검', 4725: '조치', 4054: '요망', 4349: '인문', 2121: '경상', 3154: '번역', 2780: '동유럽', 3879: '어문', 5263: '학관', 4465: '자연', 2185: '공과대학', 5394: '현재', 3022: '미완료', 5081: '코어', 3355: '사업', 4846: '지역', 4568: '전문가', 3468: '서류', 4136: '위증', 3323: '비사', 4616: '정결', 3012: '미비', 4052: '요건', 3291: '불가하다', 3351: '사범대', 2280: '교직이수', 2257: '교원', 4449: '자격증', 4235: '의미', 3804: '아니다', 2653: '담당자', 3733: '시험', 2606: '논문', 2283: '교학', 4789: '중국어', 2703: '대학', 631: 'flex', 3611: '수내역', 3795: '심사', 5337: '합격', 5150: '특기', 5158: '파악', 3877: '어리다', 4154: '유무', 4539: '재학', 4975: '초과', 4698: '제적', 5210: '표기', 5164: '판단', 3903: '없어지다', 5248: '필요하다', 4709: '조건', 4972: '체크', 3432: '상태', 4016: '오후', 4041: '외국어연수평가원', 2663: '당일', 3623: '수료증', 4704: '제출자', 3028: '미제출', 5017: '추가', 5246: '필요', 5275: '학번', 4445: '입학생', 2246: '교류', 4463: '자선', 2255: '교양과목', 3097: '반영일', 3007: '미루다', 3476: '서식', 2975: '문의처', 3950: '연락처', 3429: '상이', 1972: '가급적', 525: 'ellt', 3977: '영어', 3806: '아랍어', 3004: '미디어', 5068: '커뮤니케이션', 5276: '학부', 3973: '영미문학', 2987: '문화', 5099: '태국어', 2137: '경제', 515: 'eicc', 3155: '번역학', 3178: '베트남어', 2330: '국제통상학과', 4255: '이란어', 2131: '경영학부', 5223: '프랑스어학부', 4344: '인도', 3978: '영어교육', 2749: '독일어', 5105: '터키', 3820: '아제르바이잔어', 5221: '프랑스어교육', 2593: '노어', 2950: '몽골어', 2750: '독일어교육', 3688: '스페인어', 4791: '중국언어문화학부', 2321: '국어교육', 4323: '이탈리아어', 4787: '중국', 4036: '외교', 5130: '통상', 2331: '국제학부', 5199: '포르투갈어', 4394: '일본언어문화학부', 3380: '사회과학', 2586: '네덜란드어', 4206: '융합일본지역학부', 957: 'ld', 3680: '스칸디나비아', 1008: 'lt', 2877: '말레이', 4346: '인도네시아어', 5367: '행정학과', 4608: '점심시간', 3813: '아시아', 4392: '일본어대학', 3402: '상경', 2125: '경영', 3479: '서양', 3352: '사범대학', 5295: '학적', 2639: '단위', 4334: '이후', 2869: '만료', 5183: '편입학', 4886: '질병', 4378: '인하다', 5057: '치료', 4060: '요하', 5329: '한해', 3189: '별도', 4399: '일수', 2803: '등록금', 4902: '차액', 5471: '환불', 4441: '입원', 4747: '종합병원', 4869: '진단', 4915: '참여', 3876: '어렵다', 4238: '의사', 3560: '소견', 5286: '학업', 2146: '계속', 2922: '명백하다', 4786: '중간고사', 2393: '금요일', 2193: '공식', 4816: '증명', 4818: '증빙', 5048: '충족', 4432: '입대', 2342: '군입대', 3922: '여야', 3031: '미처', 2569: '납부', 4440: '입영', 5136: '통지서', 3353: '사본', 4491: '장기', 3226: '복무', 3744: '신고', 4577: '전역', 2354: '귀향', 4119: '원하다', 4000: '예정일', 2558: '남다', 4599: '전환', 2428: '기재', 4604: '절차', 4883: '진행', 4327: '이행', 2666: '당해', 2116: '경고', 2936: '모성', 3222: '보호', 4422: '임신', 5036: '출산', 4181: '육아', 4922: '창업', 2260: '교육', 4454: '자도', 3230: '복학생', 3578: '소정', 4696: '제외', 4374: '인터넷', 3196: '병적', 4817: '증명서', 2543: '나오다', 3681: '스캔', 3372: '사진', 4382: '일과', 4453: '자다', 3215: '보이다', 4982: '촬영', 3992: '예비군', 3947: '연대', 3765: '신중하다', 2722: '데이터', 3591: '송부', 4407: '일자', 3333: '빈공간', 2916: '명기', 4692: '제목', 4263: '이름', 4526: '재무회계팀', 5514: '휴학생', 4271: '이상인', 4619: '정구', 4401: '일시', 5502: '후추', 4601: '절대', 2308: '국가리더전공', 4207: '융합전공', 4691: '제도', 1311: 'ppt', 3904: '없이', 3666: '순수', 4594: '전형', 2832: '로서', 5304: '한국어', 3981: '영어통번역학부', 1694: 'tesol', 3885: '어학', 2326: '국제', 2130: '경영학', 2140: '경제학', 2129: '경영정보학', 2216: '과로', 2713: '대해', 2112: '결재', 2172: '고지서', 5034: '출력', 1980: '가상', 2151: '계좌', 4430: '입금', 3553: '세부', 3894: '엄수', 4448: '자격', 3422: '상실하다', 3281: '분할', 2005: '감다', 5293: '학자금대출', 4743: '종별', 5480: '회로', 4537: '재차', 2097: '겠다', 3730: '시행', 4806: '중앙', 5253: '하단', 774: 'hufs', 1541: 'service', 2407: '기록', 5300: '학칙', 5267: '학교정보', 5397: '현황', 3936: '역학', 3545: '세계', 2711: '대한', 4969: '체적', 2911: '면적', 4325: '이해', 2621: '능력', 3131: '배양', 2307: '국가', 4565: '전략', 2420: '기업', 5355: '해외', 3724: '시장', 4881: '진출', 3329: '비즈니스', 3653: '수행', 3862: '양성', 2947: '목표', 2261: '교육과정', 563: 'eu', 2821: '러시아', 4794: '중남미', 2758: '동남아', 4799: '중동', 3267: '북아프리카', 2372: '그리스', 3286: '불가리아', 2781: '동유럽학대학', 4592: '전학', 3807: '아랍어통번역학', 5289: '학위', 3636: '수여', 2985: '문학사', 2683: '대신', 4746: '종합', 4324: '이하', 3824: '아프리카학부', 2059: '개별', 3854: '야하다', 5305: '한국외대', 5322: '한예종', 2187: '공동', 3995: '예술', 5154: '특성', 5274: '학문', 3278: '분야', 4204: '융합', 2946: '목적', 5401: '협정', 4960: '체결', 2063: '개요', 5399: '협약', 2242: '교가', 5400: '협의', 3506: '선정', 2805: '등재', 5186: '평가', 5342: '합의', 4765: '주요', 2814: '따름', 5181: '편입', 3118: '방식', 2786: '동일하다', 3105: '발생', 4497: '장소', 250: 'campus', 4666: '정정', 4667: '정정은', 2026: '강사', 3142: '백분율', 4606: '점수', 4564: '전달', 5191: '평점', 5188: '평균', 5472: '환산', 2800: '등급', 2870: '만점', 2311: '국내', 2647: '달리', 5298: '학점교류', 4250: '이내', 3000: '미네르바', 4559: '전과', 2588: '년도', 3501: '선발', 5447: '화면', 3093: '반려', 2065: '개인', 2414: '기본', 2682: '대상자', 3284: '불가능하다', 5094: '탈락자', 5290: '학인', 4620: '정규', 4587: '전적', 4005: '오다', 5343: '합치다', 3141: '백년관', 5072: '컨퍼런스', 5277: '학사모', 1981: '가운', 2684: '대여', 4736: '졸업앨범', 3618: '수령', 4981: '총학생회', 2192: '공생', 924: 'kfl', 2054: '개강일', 3945: '연기', 2167: '고우리', 2704: '대학교', 3764: '신종', 5079: '코로나', 3049: '바이러스', 4751: '주간', 4906: '착오', 2990: '물다', 4735: '졸업식', 5361: '행사', 3129: '배부', 5080: '코로나바이러스', 4739: '졸업증명서', 4597: '전화', 4115: '원스톱서비스센터', 2403: '기념', 2547: '나타남', 4360: '인용', 5166: '판정', 3960: '연한', 4547: '적대', 4738: '졸업예정증명서', 3830: '안되다', 2926: '명인', 3637: '수영역', 1996: '간교', 2374: '그리스인', 2531: '김혜진', 684: 'global', 242: 'business', 1687: 'technology', 5073: '컴퓨터', 2587: '네트워크', 3029: '미지', 3050: '바이오', 2902: '메다', 2208: '공학', 3450: '생명', 3778: '실습', 4199: '윤희', 2460: '김보형', 1143: 'no', 5198: '포르투갈', 3308: '브라질', 744: 'helder', 614: 'ferreira', 483: 'do', 1836: 'vale', 5408: '형태', 3275: '분석', 2456: '김미현', 4624: '정단', 3263: '부처', 2983: '문학관', 4352: '인문대학', 2122: '경상대학', 4467: '자연과학대학', 3052: '바이오메디컬공학부', 3759: '신입생', 2664: '당초', 3367: '사이트', 2847: '링크', 799: 'id', 2245: '교내', 5007: '최초', 4760: '주민', 3206: '보기', 4226: '응시', 4396: '일부', 340: 'communicative', 535: 'english', 3162: '범위', 4471: '자유롭다', 2882: '맞다', 2636: '단계', 3646: '수준별', 25: 'ace', 45: 'advanced', 415: 'customized', 4287: '이외', 5045: '충분하다', 3662: '숙지', 2669: '대다', 3443: '새터민', 2795: '듣기', 4416: '읽다', 2215: '과대', 4127: '웹사이트', 1371: 'pw', 3447: '생년', 4125: '월일', 3723: '시작', 3151: '버튼', 3269: '분간', 2978: '문제', 745: 'help', 463: 'desk', 3949: '연락', 4827: '지나다', 3438: '상황', 2680: '대비', 3923: '여유', 2790: '두다', 2351: '권하다', 944: 'language', 1760: 'trade', 3382: '사회과학대학', 473: 'diplomacy', 3403: '상경대학', 2126: '경영대학', 3996: '예시', 3758: '신입', 3456: '생일', 3175: '벗어나다', 1265: 'pc', 5466: '환경', 1695: 'test', 3123: '방지', 5108: '테스트', 4129: '웹페이지', 2344: '권고', 4780: '준수', 4762: '주소', 4558: '전공자', 5371: '향후', 4832: '지도', 2913: '면제', 2333: '국학', 2662: '당시', 4391: '일본어', 3427: '상위', 4873: '진리', 3412: '상대평가', 4177: '유형', 5192: '평화', 341: 'communicativeenglish', 4924: '창조', 2884: '맞춤', 5493: '효과', 2714: '대화', 4964: '체성', 2221: '과제', 2378: '근거', 3785: '실제', 3980: '영어실력', 3318: '비다', 4553: '적절', 4261: '이루어지다', 4135: '위원회', 5488: '회의', 2078: '거치다', 4229: '의거', 5220: '프랑스어', 2953: '무방', 1348: 'program', 3095: '반비', 2300: '구체', 3232: '본관', 4712: '조기졸업', 4868: '진급', 4230: '의견', 4291: '이월', 3023: '미적', 279: 'ccovid', 2012: '감염', 4104: '원격', 3319: '비대', 4947: '첫날', 3471: '서버', 4643: '정상', 3583: '속도', 4483: '작동', 4220: '음성', 2632: '다운로드', 5139: '통한', 5284: '학습', 1983: '가이드', 4105: '원격강', 2887: '매뉴얼', 2736: '도움', 4249: '이나', 1869: 'webex', 5082: '콘텐츠', 4898: '차다', 4530: '재생', 2264: '교육부', 2601: '녹음', 4697: '제작', 2092: '것이므', 4063: '용도', 3344: '사람', 2198: '공유', 4397: '일부분', 5185: '편집', 3140: '배포', 5363: '행위', 3935: '역시', 2346: '권법', 4134: '위배', 4679: '정해진', 5037: '출석', 3428: '상의', 2108: '결석', 2253: '교시', 5084: '퀴즈', 5118: '토론', 2038: '강의실', 4259: '이력', 5031: '출결', 5500: '후비다', 4785: '중간', 4740: '종강', 3939: '연결하다', 2107: '결기', 3465: '서다', 1266: 'pdf', 4572: '전산', 4531: '재수', 2049: '강하다', 4961: '체계', 2715: '대효', 2201: '공정하다', 3753: '신속하다', 3895: '엄정', 5368: '향상', 5177: '편리', 4689: '제공', 2209: '공함', 3436: '상호', 3748: '신뢰', 5460: '확보', 5278: '학사정보', 5123: '통계', 4068: '용이', 4745: '종이', 3256: '부의', 5195: '폐지', 3205: '보관', 2009: '감소', 2134: '경쟁력', 2050: '강화', 4609: '접근', 2120: '경로', 3815: '아이디', 3054: '바탕화면', 3818: '아이콘', 2279: '교직원', 3831: '안드로이드폰', 5233: '플레이스토어', 3519: '설치', 3819: '아이폰', 3851: '앱스토어', 2901: '메뉴얼', 5419: '호명', 2672: '대답', 3674: '스마트', 2402: '기기', 4358: '인식', 3883: '어플', 3675: '스마트폰', 3014: '미소', 4843: '지시', 4006: '오류', 4959: '청해', 4492: '장기간', 3335: '빈자리', 399: 'covid', 4866: '직후', 4766: '주의', 809: 'ii', 4174: '유튜브', 3839: '안정', 4013: '오프라인', 2678: '대면', 4487: '작일', 4384: '일로', 4566: '전면', 4602: '절대평가', 5351: '해소', 4668: '정중', 4413: '일체', 4522: '재량', 4381: '일간', 2435: '기한', 3106: '발송', 3633: '수신', 4610: '접다', 3866: '양식', 2631: '다운', 2829: '로등', 5021: '추다', 5163: '파트', 4138: '위치', 3405: '상관', 2272: '교육학', 2223: '과학', 2243: '교과', 3377: '사학과', 2988: '문화유산', 5096: '탐구', 5416: '호규', 2410: '기록학', 3684: '스토리텔링', 4434: '입문', 3133: '배은경', 2409: '기록영화', 4029: '와퍼', 3314: '블릭', 5521: '히스토리', 5473: '환수', 1680: 'tap', 5078: '코딩', 3739: '식월', 4958: '청취', 4194: '윤영', 4020: '옥월', 456: 'dennis', 1386: 'ray', 1108: 'morgan', 5410: '혜림', 3802: '쓰기', 2431: '기초', 3955: '연습', 625: 'finn', 731: 'harvor', 101: 'andrew', 141: 'arthur', 234: 'bruske', 903: 'jonathan', 1913: 'wrigglesworth', 4314: '이지혜', 3717: '시사', 3972: '영미권', 3020: '미역', 2056: '개론', 4315: '이진', 2923: '명수', 3658: '숙달', 3551: '세미나', 3062: '박상', 4111: '원목', 2748: '독일문학', 2817: '라영', 5170: '퍼블릭스', 5237: '피킹', 4270: '이상엽', 4790: '중국어통번역학', 2020: '강독', 4508: '장준', 3986: '영월', 4359: '인어', 5115: '텍스트', 2501: '김장', 2115: '겸목', 4150: '유럽연합', 2139: '경제정책', 4152: '유로존', 2500: '김일', 2177: '곤수', 5208: '폴란드어', 5207: '폴란드', 5301: '학캡', 3685: '스톤', 2806: '디자인', 2487: '김용덕', 5379: '헝가리어', 5378: '헝가리', 3941: '연구', 1735: 'tiborcz', 1757: 'toth', 1783: 'tuende', 5062: '카자흐어', 75: 'aliya', 939: 'kuryshzhanova', 2823: '러시아학과', 2822: '러시아어', 2876: '말다', 1186: 'olga', 1112: 'muran', 2563: '남아프리카', 3933: '역사', 2560: '남부', 3823: '아프리카', 2445: '김광', 3629: '수수', 387: 'core', 4353: '인문학', 4149: '유럽', 2384: '근현대사', 4248: '이규', 4941: '철금', 2328: '국제금융학과', 2394: '금융', 3058: '박기봉', 3651: '수학과', 3624: '수리', 4990: '최영', 5467: '환경학', 4171: '유체역학', 2476: '김영', 5456: '화학', 2156: '고급', 3276: '분석화학', 3426: '상원', 4639: '정보통신공학', 2954: '무선통신', 2451: '김명', 4877: '진월', 4338: '인간', 2966: '문명', 4302: '이재숙', 3121: '방일', 1387: 'rc', 338: 'communication', 822: 'in', 148: 'ashleigh', 1141: 'nicole', 1075: 'middleton', 1614: 'stewart', 889: 'james', 700: 'gray', 303: 'chris', 1552: 'shawn', 362: 'conley', 1056: 'media', 216: 'billy', 904: 'joseph', 629: 'fitzgerald', 231: 'brian', 787: 'hupman', 1123: 'nathan', 890: 'jared', 753: 'hoffman', 1748: 'toeic', 1589: 'speaking', 5520: '희화', 4312: '이주은', 2492: '김윤경', 3888: '언문', 2836: '루쉰', 2772: '동아시아', 2565: '남용', 4132: '위대하다', 2070: '개츠비', 2984: '문학비평', 4260: '이론', 2495: '김윤정', 2315: '국문학', 4995: '최우영', 5516: '희곡', 3705: '시나리오', 4485: '작법', 4996: '최원', 3497: '선금', 2971: '문예', 2628: '다문화', 3379: '사회', 4018: '옥금', 2932: '모더니즘', 3374: '사철', 3547: '세기', 5385: '현대', 4859: '지형', 2464: '김성수', 2170: '고전', 4301: '이자연', 4050: '요가', 2136: '경전', 5412: '혜영', 2213: '과기', 5353: '해양', 2438: '기후', 2235: '관월', 5303: '한국사', 2485: '김옥', 5384: '현금', 2867: '마케팅', 3747: '신동진', 3387: '산업', 4665: '정재훈', 772: 'hriday', 1122: 'narayan', 5124: '통계학', 3493: '석호', 1919: 'xxxx', 721: 'hana', 896: 'jjlove', 3156: '번영', 4793: '중국학대학', 4395: '일본학', 1239: 'paradiso', 1298: 'poisson', 2290: '구문론', 3080: '박정운', 2997: '미국', 3026: '미정', 3559: '셰익스피어', 4772: '주제', 4987: '최보람', 2981: '문학', 5149: '특강', 4682: '정혜', 4644: '정선', 1389: 'reading', 2497: '김은미', 3699: '승화', 860: 'intensive', 4400: '일승', 407: 'critical', 96: 'and', 1914: 'writing', 674: 'garrett', 445: 'dehond', 2387: '글쓰기', 3462: '서경', 5411: '혜수', 2475: '김연실', 4867: '진금', 3076: '박은정', 3687: '스페인', 4299: '이은해', 2899: '멀티미디어', 5173: '페르시아어', 59: 'aghajani', 914: 'kalkhoran', 1577: 'somayeh', 1220: 'otgontsetseg', 418: 'damdinsuren', 5217: '프랑스', 2927: '명작', 4309: '이종', 4009: '오목', 2555: '남건', 5491: '회화', 408: 'cui', 1917: 'xianglan', 893: 'jiang', 612: 'fei', 3729: '시청각', 5008: '최현', 4205: '융합일본지역전공', 2688: '대일본사', 5485: '회사', 2132: '경영학전공', 3311: '브랜드전략', 5406: '형식', 3177: '베다', 2421: '기업가', 4649: '정신', 2561: '남신', 4788: '중국사', 2406: '기다', 5494: '효월', 2807: '디지털', 5296: '학전', 2199: '공이', 3953: '연수', 3710: '시맨틱웹', 3163: '범일', 3781: '실외', 3848: '애니메이션', 5249: '필월', 3073: '박영기', 5309: '한길', 1609: 'steffen', 728: 'hannig', 4992: '최용', 4694: '제수', 3079: '박정양', 1918: 'xiao', 1557: 'shufeng', 2511: '김종호', 5029: '축제', 4208: '은경', 3517: '설문조사', 4976: '초기', 4500: '장애', 4773: '주차', 2797: '들다', 4120: '원활하다', 2366: '그간', 4842: '지속', 2670: '대다수', 2798: '들이다', 3532: '성실하다', 3925: '여전하다', 2060: '개선', 3296: '불만', 2796: '듣다', 3340: '사결', 4336: '익명성', 3216: '보장', 5056: '치가', 4546: '적극', 5498: '후기', 4457: '자로', 3111: '발표', 4655: '정원', 4472: '자율', 4053: '요구', 3313: '브릭스', 4535: '재적', 2848: '마감', 4949: '청구', 5213: '표지', 2728: '도교', 3615: '수란', 2189: '공란', 3272: '분량', 4071: '용지', 2388: '글씨', 5085: '크기', 5202: '포인트', 1995: '간격', 4106: '원고지', 5043: '출장소', 232: 'brics', 4769: '주임', 3958: '연장', 4593: '전학년', 5320: '한시', 3873: '어떠하다', 4151: '유로', 3153: '번복', 4293: '이유', 3100: '반환', 5508: '휴강', 2335: '국회의원', 3496: '선거일', 2055: '개교', 2404: '기념일', 3918: '여름', 2082: '건국', 2161: '고려대학교', 2316: '국민', 2720: '덕성여자대', 2756: '동국대학교', 3250: '부산외국어대학교', 3363: '사이버', 3365: '사이버외대', 3461: '서강대', 3481: '서울대학교', 3660: '숙명여자대', 3952: '연세대학교', 4100: '울산', 4333: '이화여자대', 4700: '제주대학교', 4923: '창원', 5317: '한서대학교', 3860: '양대', 5441: '홍익대학교', 1990: '가톨릭', 2240: '광운대', 2928: '명지대', 3400: '삼육대', 3414: '상명대학교', 2225: '과학기술대', 3709: '시립대', 3924: '여자', 3522: '성공회대', 3556: '세종대', 3672: '숭실대', 5020: '추계예술대', 5076: '케이', 5318: '한성', 2761: '동덕여자대', 3531: '성신여자대', 2191: '공문', 2673: '대로', 3898: '업데이트', 3411: '상대', 4946: '첨부파일', 3650: '수학', 5026: '추천', 2917: '명단', 3539: '성적증명서', 4541: '재학증명서', 4504: '장의', 4493: '장님', 2665: '당하다', 3125: '방학기', 3233: '본교', 2730: '도등', 3354: '사실', 4160: '유예', 2391: '금번', 4156: '유사', 4368: '인정받다', 4551: '적용', 3638: '수요', 4714: '조사', 5311: '한도', 2281: '교차', 3466: '서도', 2098: '겨울', 4912: '참고자료', 2830: '로만', 2212: '과거', 4686: '정확하다', 3304: '불필요하다', 4475: '자제', 2278: '교직과정', 1016: 'mail', 934: 'kr', 5252: '하계', 5341: '합산', 4477: '자체', 4550: '적성', 4356: '인성', 2086: '검사', 4545: '적격', 5338: '합격자', 5135: '통지', 2249: '교사', 5211: '표시', 2775: '동양', 5224: '프랑스학과', 3423: '상업', 2992: '물리학', 2991: '물리', 3001: '미달', 4808: '중이', 4836: '지망', 4147: '유동', 4118: '원칙', 2679: '대별', 2968: '문서', 4405: '일인', 3652: '수해', 2912: '면접', 2219: '과실', 5328: '한학', 3309: '브라질학과', 5100: '태국어통번역학', 3350: '사범', 2707: '대학생', 3172: '법학과', 4729: '존재', 4272: '이상자', 3231: '복합', 3582: '소프트웨어', 4139: '위탁', 4847: '지역경제개발협력전공', 3221: '보험계리학전공', 2989: '문화콘텐츠학전공', 3546: '세계문화예술경영전공', 2767: '동북아외교통상전공', 2809: '디지털인문한국학전공', 65: 'ai', 3751: '신설', 2239: '광역', 2896: '먼저', 3257: '부전', 2175: '고함', 3829: '안녕하십니까', 4828: '지난', 4825: '지금', 3607: '수고', 2589: '노고', 2534: '깊이', 2006: '감사', 2369: '그동안', 3838: '안전하다', 2630: '다양하다', 5270: '학내', 2686: '대응', 2294: '구성원', 2079: '건강', 3837: '안전', 4856: '지키다', 2719: '덕분', 5316: '한번', 2062: '개시', 2879: '말씀드리다', 3812: '아시', 4984: '최근', 4406: '일일', 3601: '수가', 4641: '정부', 2075: '거리', 2789: '두기', 3458: '생활', 4176: '유행', 3613: '수도', 2889: '매우', 4443: '입장', 2104: '견지', 4257: '이러하다', 4044: '외대', 5310: '한다는', 3796: '심의', 3521: '성격', 3290: '불가피하다', 3787: '실험', 3772: '실기', 2090: '검토', 5129: '통보', 4107: '원교', 5299: '학처', 3201: '보건', 3300: '불참', 3254: '부옇다', 4764: '주시', 3299: '불이익', 3128: '배려', 4410: '일종', 4142: '유고', 4024: '올리다', 2583: '넘다', 4796: '중대', 4963: '체류', 2109: '결손', 3217: '보전', 4450: '자국', 4252: '이동', 5344: '항공', 2297: '구입', 3327: '비자', 4848: '지연', 4233: '의무', 4446: '자가', 2100: '격리', 4429: '입국', 3875: '어려움', 2103: '겪다', 3642: '수의', 4262: '이르다', 2160: '고려', 1989: '가지', 3119: '방안', 3720: '시오', 3241: '부과', 2602: '녹화', 5450: '화상', 3197: '병행', 2412: '기말고사', 3200: '보강', 5326: '한편', 3846: '앞서', 3120: '방역', 5046: '충실하다', 2852: '마스크', 4907: '착용', 3631: '수시', 5470: '환기', 3266: '부합', 4854: '지침', 2732: '도서관', 3735: '식당', 5024: '추이', 4855: '지켜보다', 2081: '건강하다', 2411: '기르다', 2423: '기원', 2794: '드림', 1150: 'notice', 1189: 'on', 1469: 'restricted', 1277: 'permission', 637: 'for', 1181: 'offline', 314: 'classes', 432: 'dear', 1347: 'professors', 1700: 'thank', 1929: 'you', 76: 'all', 1175: 'of', 1943: 'your', 514: 'efforts', 498: 'during', 1719: 'this', 471: 'difficult', 1739: 'time', 131: 'april', 1698: 'th', 1703: 'the', 1816: 'university', 42: 'administration', 437: 'decided', 1744: 'to', 378: 'continue', 1192: 'online', 771: 'however', 1892: 'will', 192: 'be', 82: 'allowed', 270: 'case', 245: 'by', 191: 'basis', 395: 'courses', 1901: 'with', 971: 'less', 1699: 'than', 1624: 'students', 662: 'from', 1100: 'mon', 1051: 'may', 801: 'if', 394: 'course', 1061: 'meets', 356: 'condition', 1291: 'please', 1408: 'refer', 635: 'following', 1457: 'requirements', 1912: 'would', 981: 'like', 1492: 'run', 1129: 'need', 1416: 'register', 48: 'advancefor', 1050: 'maximum', 1888: 'which', 135: 'are', 366: 'considered', 208: 'better', 359: 'conducted', 1646: 'such', 146: 'as', 587: 'experiment', 1314: 'practice', 384: 'conversation', 560: 'etc', 253: 'can', 1472: 'restrictively', 5: 'above', 1115: 'mutual', 60: 'agreement', 737: 'having', 209: 'between', 1346: 'professor', 873: 'is', 1456: 'required', 1711: 'then', 1712: 'there', 318: 'classroom', 1647: 'sufficient', 1489: 'room', 81: 'allow', 1573: 'social', 482: 'distancing', 125: 'apply', 95: 'an', 1640: 'submit', 122: 'application', 622: 'find', 274: 'category', 990: 'list', 1637: 'subjects', 1638: 'submenu', 1309: 'posting', 1668: 'syllabus', 157: 'at', 1304: 'portal', 659: 'fri', 1179: 'office', 1480: 'review', 1154: 'notify', 1473: 'result', 1452: 'request', 1623: 'student', 485: 'doesn', 161: 'attend', 494: 'due', 1501: 'safety', 355: 'concerns', 1360: 'provide', 1709: 'them', 1046: 'materials', 365: 'consider', 1708: 'their', 1565: 'situation', 1572: 'so', 1149: 'not', 474: 'disadvantage', 693: 'grade', 1615: 'still', 6: 'abroad', 1601: 'standards', 203: 'below', 7: 'abroadmany', 333: 'come', 928: 'korea', 1544: 'several', 1392: 'reasons', 985: 'limited', 68: 'airplane', 1736: 'tickets', 1854: 'visa', 1340: 'problems', 1797: 'two', 1874: 'week', 1531: 'self', 1375: 'quarantine', 1273: 'period', 162: 'attendance', 129: 'approved', 170: 'authorized', 10: 'absences', 1191: 'one', 1724: 'three', 1448: 'reports', 852: 'instead', 164: 'attending', 965: 'lectures', 167: 'audio', 1845: 'video', 1403: 'recordings', 358: 'conduct', 1562: 'simultaneous', 565: 'evaluate', 694: 'grades', 619: 'final', 575: 'exam', 1207: 'or', 1645: 'substitute', 911: 'june', 1655: 'supplementary', 910: 'july', 1388: 'rd', 1130: 'needed', 1780: 'try', 1224: 'our', 207: 'best', 543: 'ensure', 1737: 'tight', 1670: 'system', 1810: 'understanding', 430: 'dean', 16: 'academic', 51: 'affairs', 3913: '여건', 4875: '진심', 4669: '정진', 5354: '해오다', 3843: '알리다', 3203: '보고', 4913: '참석', 3212: '보완', 2095: '게시판', 5054: '취할', 5254: '하루빨리', 2938: '모습', 5215: '푸르른', 2276: '교정', 2857: '마음껏', 2614: '누리다', 4003: '오기', 2157: '고대', 1477: 'resumption', 594: 'face', 1867: 'we', 1674: 'take', 1206: 'opportunity', 1890: 'who', 735: 'have', 198: 'been', 1245: 'participating', 1441: 'remotely', 464: 'despite', 309: 'circumstances', 1727: 'throughout', 1532: 'semester', 732: 'has', 1675: 'taken', 1163: 'numerous', 1055: 'measures', 447: 'delaying', 1603: 'start', 1517: 'school', 1923: 'year', 1357: 'protect', 740: 'health', 1701: 'thanks', 385: 'cooperation', 342: 'community', 1063: 'members', 1019: 'maintained', 1734: 'thus', 604: 'far', 1153: 'notified', 1600: 'stakeholders', 1702: 'that', 1820: 'until', 1598: 'stabilizes', 442: 'deemed', 1307: 'possible', 112: 'announcement', 1413: 'regarding', 682: 'given', 1225: 'out', 4: 'about', 1878: 'weeks', 44: 'advance', 201: 'being', 1476: 'resumed', 1229: 'over', 948: 'last', 1161: 'number', 1134: 'new', 272: 'cases', 1447: 'reported', 1271: 'per', 424: 'day', 692: 'government', 111: 'announced', 1556: 'should', 961: 'least', 1343: 'proceeding', 278: 'caution', 1475: 'resume', 1148: 'normal', 368: 'considering', 770: 'how', 374: 'contagious', 1157: 'novel', 389: 'corona', 1853: 'virus', 1101: 'monday', 1318: 'predominantly', 56: 'after', 1109: 'much', 450: 'deliberation', 336: 'committee', 1563: 'since', 1754: 'top', 1339: 'priority', 1133: 'nevertheless', 696: 'graduate', 615: 'fewer', 1279: 'permitted', 1807: 'undergraduate', 127: 'appropriate', 457: 'depending', 1591: 'specifics', 831: 'individual', 710: 'guidelines', 171: 'availability', 1636: 'subject', 1316: 'pre', 1422: 'registration', 1125: 'nature', 285: 'certain', 588: 'experiments', 1047: 'matter', 243: 'but', 1194: 'only', 858: 'instructor', 1418: 'registered', 669: 'further', 1113: 'must', 85: 'also', 172: 'available', 1278: 'permit', 1286: 'physical', 1900: 'wish', 87: 'alternative', 155: 'assignments', 618: 'fill', 646: 'form', 584: 'excused', 9: 'absence', 1361: 'provided', 1725: 'through', 760: 'homepage', 239: 'bulletin', 221: 'board', 1058: 'medium', 946: 'large', 1106: 'more', 1682: 'taught', 641: 'foreign', 414: 'currently', 1000: 'located', 397: 'coursework', 1696: 'testing', 21: 'accordance', 1227: 'outlined', 8: 'abroadsince', 1035: 'many', 595: 'faced', 472: 'difficulties', 1479: 'returning', 1773: 'travel', 1471: 'restrictions', 1902: 'within', 759: 'home', 392: 'countries', 632: 'flight', 448: 'delays', 876: 'issuance', 1032: 'mandatory', 875: 'isolation', 1823: 'upon', 1478: 'return', 1453: 'requested', 859: 'instructors', 1612: 'steps', 1803: 'unable', 545: 'enter', 1400: 'recommended', 583: 'excuse', 1821: 'up', 719: 'half', 548: 'entire', 1903: 'without', 1269: 'penalties', 863: 'international', 260: 'cannot', 1287: 'physically', 1715: 'they', 153: 'assigned', 1681: 'task', 1402: 'recording', 962: 'lecture', 20: 'access', 1054: 'means', 995: 'livestreaming', 1575: 'software', 578: 'exams', 1697: 'tests', 1445: 'replaced', 620: 'finals', 1514: 'scheduled', 1127: 'nd', 660: 'friday', 1128: 'necessary', 1437: 'remaining', 1026: 'makeupclasses', 743: 'held', 1520: 'scope', 1354: 'properly', 814: 'implement', 350: 'comply', 1827: 'usage', 1045: 'masks', 657: 'frequent', 1840: 'ventilation', 1020: 'maintaining', 480: 'distance', 977: 'library', 246: 'cafeteria', 1200: 'opened', 1828: 'use', 1103: 'monitor', 812: 'immediately', 119: 'any', 289: 'changes', 1015: 'made', 1190: 'once', 57: 'again', 149: 'ask', 1714: 'these', 1818: 'unprecedented', 1741: 'times', 1004: 'look', 649: 'forward', 1884: 'when', 656: 'freely', 538: 'enjoy', 195: 'beautiful', 1843: 'vibrant', 1537: 'seoul', 739: 'head', 52: 'affairsdean', 330: 'college', 1199: 'open', 769: 'house', 2069: '개최', 4809: '중인', 4882: '진학', 3515: '설명회', 5201: '포스터', 4554: '적정', 2993: '물의', 2013: '감염증', 3988: '예방', 3218: '보정', 2169: '고재학', 3435: '상향', 4721: '조정', 5396: '현행', 5373: '허다', 3164: '법가', 3204: '보고서', 4917: '참작', 5461: '확산', 4433: '입력', 3844: '알림', 2976: '문자', 4402: '일요일', 2211: '공휴일', 766: 'hotlink', 3603: '수강료', 4075: '우리은행', 4560: '전국', 4852: '지점', 3003: '미등록', 2638: '단기', 4377: '인턴십', 3518: '설정', 2117: '경과', 2863: '마지막', 3455: '생으로', 2144: '계산', 4826: '지급', 3512: '선후', 4576: '전액', 4952: '청마', 2014: '감일', 4939: '천원', 4603: '절사', 2041: '강전', 3021: '미연', 2047: '강중인', 3544: '성희롱', 5206: '폭력', 1850: 'violence', 1326: 'prevention', 511: 'education', 3828: '안녕하다', 5189: '평등', 4730: '존중', 2188: '공동체', 3789: '실현', 3169: '법정', 4234: '의무교육', 5140: '통합', 3863: '양성평등', 3523: '성매매', 5240: '피해자', 3167: '법률', 3542: '성폭력', 1987: '가정폭력', 4719: '조의', 4086: '우측', 3407: '상단', 5404: '형성평가', 2871: '만족도', 513: 'educationdear', 598: 'faculty', 1628: 'studentsthis', 678: 'gender', 553: 'equality', 283: 'center', 725: 'hankuk', 1632: 'studies', 400: 'create', 410: 'culture', 1886: 'where', 784: 'human', 1484: 'rights', 224: 'both', 1064: 'men', 1904: 'women', 554: 'equally', 1467: 'respected', 1608: 'statutory', 1349: 'programs', 571: 'everyone', 968: 'legal', 703: 'grounds', 1528: 'section', 668: 'fundamentals', 28: 'act', 142: 'article', 1327: 'preventive', 1356: 'prostitution', 1358: 'protection', 1844: 'victim', 1547: 'sexual', 1718: 'third', 320: 'clause', 487: 'domestic', 160: 'attachment', 465: 'detail', 1001: 'log', 1870: 'website', 321: 'click', 1677: 'taking', 1118: 'mypage', 1564: 'site', 1244: 'participate', 324: 'clips', 648: 'formative', 151: 'assessment', 1510: 'satisfaction', 1660: 'survey', 624: 'finish', 396: 'coursewe', 1308: 'posted', 1341: 'procedure', 344: 'complete', 1235: 'own', 421: 'date', 1606: 'stated', 1290: 'planning', 168: 'august', 4362: '인자', 2341: '군입', 4951: '청대', 3182: '변동성', 3135: '배정은', 2179: '공개', 5403: '형성', 4999: '최저', 3091: '반대', 5256: '하순', 3019: '미신', 4045: '외대생', 4014: '오픈', 2031: '강시', 3406: '상기', 5167: '팝업', 1569: 'sms', 2827: '로그', 5060: '카드', 2114: '결제', 2960: '무통장', 3442: '새롭다', 3635: '수업료', 572: 'ex', 2881: '맛보기', 3419: '상세', 2892: '매주', 4123: '월요일', 3964: '열다', 5083: '콜센터', 4479: '자퇴', 2220: '과자', 3294: '불량', 2111: '결원', 2222: '과중', 3621: '수료생', 2067: '개정', 3305: '불허', 4113: '원서', 4217: '은행', 2292: '구비', 4089: '우편', 1992: '각서', 3223: '보호자', 2739: '도장', 2554: '날인', 4231: '의견서', 3745: '신규', 2925: '명의', 2184: '공과금', 4337: '익일', 4511: '장학', 2265: '교육비', 2570: '납입', 3148: '뱅킹', 5116: '텔레', 3247: '부분', 3248: '부분환', 3283: '불가능', 2258: '교원자격', 2088: '검정', 3417: '상비', 4223: '응급처치', 3797: '심폐소생술', 4350: '인문과학', 2149: '계열', 4423: '임의', 2178: '공간', 3946: '연달', 5058: '치르다', 3364: '사이버관', 2252: '교수학습개발원', 2898: '멀티', 5231: '플라자', 4948: '첫째', 2792: '둘째', 2598: '노트북', 4586: '전자기기', 4950: '청단', 3408: '상담', 4266: '이미', 4510: '장하오', 3219: '보충', 3757: '신용카드', 5283: '학술', 4980: '총장', 5197: '포럼', 4513: '장학생', 3390: '산입', 3392: '산출', 5232: '플랫폼', 5487: '회원', 4795: '중단', 4544: '저장', 4077: '우수', 3347: '사례', 2141: '경험', 3396: '살피', 3516: '설문', 1524: 'season', 4225: '응답기', 3401: '삽입', 2083: '건국대', 2755: '동국대', 3659: '숙명여대', 4332: '이화여대', 5440: '홍익대', 1991: '가톨릭대', 3413: '상명대', 3463: '서경대', 2214: '과기대', 3915: '여대', 4807: '중앙대', 5019: '추계예대', 920: 'kc', 5319: '한성대', 2760: '동덕여대', 3530: '성신여대', 5196: '포기', 2343: '궁금하다', 2267: '교육실습', 3693: '승낙', 4703: '제출기한', 3482: '서울시', 2759: '동대문구', 4265: '이문로', 2118: '경기도', 4070: '용인시', 4937: '처인구', 2931: '모교', 4341: '인근', 4461: '자매', 2549: '낙서', 4863: '직인', 5398: '협력', 4366: '인적사항', 2886: '매년', 4048: '외한', 4582: '전일', 2685: '대원', 5362: '행세', 3348: '사무', 4598: '전화번호', 3464: '서기', 4889: '집중', 5510: '휴무', 3718: '시설', 3210: '보수', 3303: '불편하다', 3251: '부서', 3942: '연구실', 3788: '실험실', 3214: '보육', 2698: '대출', 3090: '반납', 4090: '우편물', 5049: '취급', 3899: '업무', 4085: '우체국', 3424: '상업시설', 2581: '냉방', 2441: '긴급', 4979: '총괄지원팀', 878: 'it', 2057: '개발', 4638: '정보통', 3235: '본부', 2577: '내다', 3011: '미반', 3919: '여름방학', 2383: '근무시간', 5190: '평일', 3198: '병헌', 2124: '경어', 4420: '임서현', 2452: '김명선', 3252: '부안', 4744: '종용', 4112: '원본', 2801: '등기', 4437: '입시', 5463: '확인가능', 4080: '우이', 3909: '에이', 3608: '수구', 3270: '분기', 5332: '함수', 2042: '강정원', 4677: '정함', 2539: '나라', 3346: '사랑', 5203: '포털', 3610: '수납', 2318: '국방부', 5469: '환급', 2627: '다르다', 2536: '끝나다', 2820: '러닝', 2961: '무효', 2338: '군복무', 3391: '산정', 3540: '성적표', 4690: '제대', 3567: '소멸됨', 5504: '훈련', 5151: '특기병', 3524: '성명', 2905: '메일', 2973: '문의사항', 2340: '군인공제회', 3409: '상담시', 4756: '주말', 1688: 'tel', 4966: '체육', 1778: 'trtl', 3260: '부지', 4615: '정강', 3298: '불변', 2102: '격주', 5432: '홀짝', 4474: '자정', 3994: '예상', 4175: '유학생', 3598: '송출', 4128: '웹캠', 2859: '마이크', 5165: '판서', 3683: '스크린', 3691: '슬라이드', 5097: '탑재', 1667: 'switch', 3104: '발령', 4879: '진자', 2918: '명당', 4166: '유입', 5431: '홀수', 4894: '짝수', 3861: '양분', 2799: '등교', 4247: '이공', 3297: '불문', 602: 'fall', 1288: 'plan', 1180: 'official', 1607: 'stating', 857: 'instructional', 453: 'delivery', 1359: 'protocol', 1525: 'second', 865: 'into', 23: 'account', 1415: 'regards', 1499: 'safe', 551: 'environment', 1203: 'operated', 1240: 'parallel', 1017: 'main', 1066: 'method', 868: 'involves', 974: 'level', 190: 'basics', 856: 'instruction', 1068: 'methodpractical', 976: 'liberal', 144: 'arts', 518: 'electives', 1221: 'other', 1022: 'majorsface', 596: 'faceminerva', 785: 'humanities', 945: 'languages', 1313: 'practical', 1779: 'trtlintroductory', 481: 'distanceall', 315: 'classesall', 748: 'higher', 1566: 'size', 1410: 'refers', 1243: 'participants', 1513: 'schedule', 1592: 'specified', 287: 'change', 1412: 'reflects', 32: 'actual', 829: 'increase', 257: 'cancellation', 1887: 'whether', 1145: 'non', 830: 'indicated', 579: 'exceeding', 984: 'limit', 292: 'charge', 1862: 'wants', 219: 'biweekly', 1060: 'meeting', 664: 'full', 1023: 'make', 438: 'decision', 1561: 'simulcast', 1465: 'residing', 634: 'follow', 503: 'each', 1300: 'policy', 328: 'code', 695: 'grading', 566: 'evaluation', 1831: 'utilize', 14: 'absolute', 371: 'constantly', 290: 'changing', 1621: 'stricter', 529: 'enacted', 1685: 'teaching', 288: 'changed', 173: 'average', 417: 'daily', 999: 'local', 1756: 'total', 818: 'imported', 188: 'based', 532: 'ends', 1173: 'odd', 567: 'even', 516: 'either', 1390: 'real', 233: 'broadcast', 211: 'bi', 1877: 'weekly', 1440: 'remote', 163: 'attendees', 941: 'labs', 1519: 'science', 534: 'engineering', 361: 'confirmed', 1414: 'regardless', 1798: 'type', 3708: '시리즈', 5302: '한교', 3626: '수법', 2667: '대강', 3775: '실라', 4909: '참가', 4779: '준비물', 4805: '중식', 508: 'eclass', 3081: '박정원', 4161: '유용하다', 2251: '교수학습개발', 3249: '부사', 4903: '차원', 3856: '약제', 3997: '예약', 3508: '선착순', 4778: '준비', 3616: '수량', 4711: '조기', 3579: '소진', 5204: '포토', 5102: '태풍', 3989: '예보', 2578: '내부', 5200: '포상', 4838: '지방', 3825: '악화', 4578: '전용', 4845: '지식콘텐츠전공', 3330: '비지니스', 5312: '한동현', 4213: '은애', 2731: '도법', 4774: '주향', 4214: '은월', 2274: '교재', 2455: '김미정', 1689: 'temporary', 1769: 'transition', 77: 'allcourses', 627: 'first', 1539: 'september', 114: 'announces', 30: 'actions', 159: 'attached', 837: 'information', 99: 'andfaculty', 5169: '팩스', 4365: '인적', 5125: '통과', 2875: '말경', 3185: '변역', 5339: '합계', 4887: '질의', 4224: '응답', 4900: '차별', 2405: '기능', 2003: '간정', 4102: '원강', 900: 'john', 230: 'breckenfeld', 1522: 'scott', 736: 'haven', 5075: '컴퓨팅', 3341: '사고', 267: 'career', 461: 'design', 4870: '진로', 2119: '경력', 4095: '운동', 2312: '국내외', 3614: '수도권', 4880: '진정', 5261: '하향', 3302: '불편', 4988: '최소', 5455: '화하다', 1978: '가변', 591: 'extension', 1172: 'october', 1731: 'thsince', 1431: 'reinforced', 1070: 'metropolitan', 136: 'area', 1611: 'step', 590: 'extending', 1653: 'sunday', 439: 'decreased', 1006: 'lowers', 1299: 'policies', 1599: 'stage', 1558: 'similarly', 1097: 'modify', 452: 'delivered', 1171: 'occur', 1210: 'order', 1083: 'minimize', 828: 'inconvenience', 1018: 'maintain', 381: 'continuity', 1813: 'unfolds', 431: 'deans', 3467: '서로', 4857: '지향', 3783: '실적', 3920: '여성가족부', 2401: '기관', 2207: '공표', 3261: '부진', 5025: '추진', 5392: '현장', 4699: '제제', 2710: '대학평가', 4862: '직원', 3375: '사태', 2904: '메인', 3728: '시청', 2021: '강력하다', 3535: '성인', 2010: '감수성', 5035: '출발점', 2286: '구내', 2692: '대중문화', 3756: '신용', 2310: '국경', 2808: '디지털아카이브', 3122: '방재', 5391: '현월', 5225: '프로그래밍', 4749: '좋다', 2025: '강민정', 2033: '강연숙', 4305: '이정아', 3385: '산문', 2517: '김채', 3975: '영수', 2568: '남종', 5421: '호수', 4088: '우크라이나어', 4087: '우크라이나', 3721: '시인', 4481: '작가', 872: 'iryna', 1950: 'zbyr', 4347: '인도철학', 5364: '행정', 4484: '작문', 5009: '최현희', 4348: '인류학', 3116: '방법론', 4503: '장용', 2357: '규목', 2773: '동아프리카', 3677: '스와힐리어', 1116: 'mwenda', 1053: 'mbatiah', 5228: '프로젝트', 1672: 'tae', 1942: 'young', 301: 'choi', 4926: '채권', 4991: '최영수', 3280: '분자진화학', 4538: '재창', 5194: '폐수처리', 2200: '공정', 3056: '박갑', 3543: '성화', 3513: '설계', 5445: '홍진표', 3388: '산업경영공학과', 2861: '마이크로프로세서', 4715: '조상', 2195: '공업', 2779: '동월', 2256: '교외', 3528: '성사', 4279: '이숙', 5453: '화월', 4082: '우주', 4653: '정영진', 1461: 'research', 1487: 'robert', 1223: 'otto', 423: 'davis', 3943: '연극', 402: 'creative', 2471: '김수연', 3967: '영국', 3082: '박종숙', 3570: '소설', 3199: '병희', 557: 'essay', 1856: 'vivian', 1879: 'wei', 1860: 'wan', 966: 'lee', 47: 'advancedkorean', 536: 'englishconsecutiveinterpreting', 4528: '재범', 906: 'journalism', 679: 'general', 992: 'listening', 2453: '김미선', 2356: '규동', 2747: '독일', 4758: '주미경', 3987: '영화', 2530: '김형래', 3777: '실무', 4919: '창건', 269: 'carlos', 613: 'fernandez', 690: 'gonzalez', 1038: 'maria', 897: 'joao', 92: 'amaral', 2835: '루소', 2486: '김용', 3334: '빈금', 3566: '소라', 2474: '김신', 4008: '오명', 2885: '매너', 4232: '의료', 5131: '통역', 492: 'dorj', 1801: 'ulziibat', 996: 'lkhagvadorj', 486: 'dolgormaa', 4296: '이은경', 1012: 'lyu', 470: 'dianwen', 3926: '여정', 2567: '남월', 296: 'chen', 1881: 'wenjie', 5003: '최주', 2841: '리수', 2143: '계량', 4724: '조직', 3035: '민주주의', 3059: '박다', 140: 'arnaud', 501: 'duval', 2980: '문지영', 2967: '문법', 2490: '김유진', 2322: '국어문법', 2305: '구호', 2029: '강소', 5119: '토의', 2362: '규철', 4670: '정진규', 5501: '후속', 2155: '고교', 2011: '감안', 4768: '주일', 2084: '건물', 5040: '출입', 5134: '통제', 4478: '자치', 2058: '개방', 5499: '후복관', 4518: '재개', 2831: '로비', 4364: '인재개발', 5365: '행정지원처', 1822: 'updates', 1069: 'methods', 1533: 'semesterdue', 714: 'had', 589: 'extended', 1394: 'recent', 1331: 'primary', 1526: 'secondary', 1518: 'schools', 1443: 'reopened', 950: 'lately', 110: 'announce', 1152: 'notices', 36: 'additionally', 1784: 'tuesday', 1325: 'prevent', 1485: 'risk', 1595: 'spreading', 380: 'continues', 79: 'allotment', 544: 'ensuring', 1030: 'mandatary', 1855: 'visitor', 1523: 'screening', 237: 'buildingb', 1352: 'prompt', 29: 'action', 559: 'established', 1034: 'manual', 568: 'event', 1444: 'reopening', 597: 'facilitiesa', 1442: 'reopen', 998: 'lobby', 633: 'floors', 282: 'centennial', 347: 'complex', 53: 'affairsseoul', 1466: 'resource', 467: 'developmentdean', 1656: 'support', 2915: '명교', 4997: '최은', 3698: '승혜', 2853: '마승', 459: 'derek', 70: 'alexander', 5230: '프리젠테이션', 4290: '이원규', 5052: '취업', 4375: '인터뷰', 4316: '이진아', 3754: '신승호', 2597: '노트', 5109: '테이', 5409: '혜경', 3084: '박지원', 4427: '임현경', 1315: 'practicum', 755: 'holger', 1324: 'preut', 204: 'benjamin', 1132: 'neuss', 742: 'heiko', 879: 'ital', 661: 'frieder', 1602: 'stappenbeck', 3881: '어스', 5236: '피치', 2164: '고슬기', 3766: '신찬', 4067: '용월', 2528: '김현철', 3865: '양승관', 4297: '이은성', 4596: '전혜찬월', 72: 'alfonso', 1014: 'macias', 1835: 'valadez', 523: 'elias', 888: 'jaime', 61: 'aguilo', 1248: 'pastrana', 1267: 'pedro', 1302: 'pombo', 1159: 'novo', 1507: 'sara', 1755: 'torres', 1542: 'servin', 2532: '김희', 4874: '진수', 524: 'elizabeth', 273: 'castro', 1504: 'sandoval', 1794: 'turato', 953: 'laura', 4274: '이소영', 4329: '이현경', 4775: '주효', 3661: '숙수', 5214: '표현', 4379: '인호', 1952: 'zhang', 217: 'bin', 894: 'jin', 921: 'ke', 1956: 'zhong', 1955: 'zhenting', 2494: '김윤영', 3487: '서지은', 5324: '한정', 1540: 'seraku', 1750: 'tohru', 1673: 'takahashi', 1077: 'miho', 919: 'katsuragawa', 1752: 'tomoko', 670: 'furuta', 1494: 'ryoko', 916: 'kanrapee', 1578: 'somchit', 1209: 'orawee', 240: 'bunnag', 4319: '이채', 4973: '체통', 4306: '이정윤', 1560: 'simuang', 923: 'kewalin', 2969: '문수', 1: 'abdulkareem', 147: 'asaad', 1372: 'qahtannasser', 1098: 'mohamed', 794: 'ibrahim', 517: 'elaskary', 2850: '마르', 3459: '샴금', 5011: '최홍석', 2878: '말레이어', 1043: 'maryani', 63: 'ahmad', 1111: 'munira', 734: 'hasyim', 3907: '에블린', 2230: '관광', 915: 'kang', 223: 'bogusz', 193: 'beata', 1898: 'wioletta', 715: 'hajduk', 675: 'gawron', 2834: '루마니아어', 3143: '백승', 870: 'iovan', 493: 'drehe', 1491: 'roxana', 104: 'anghelescu', 4970: '체코', 3692: '슬로바키아어', 4971: '체코어', 1691: 'tereza', 1571: 'snellerova', 672: 'gabriel', 1011: 'lukac', 3549: '세르비아', 5087: '크로아티아어', 3550: '세르비아어', 1738: 'tihomir', 227: 'brajovic', 446: 'dejan', 497: 'duric', 5086: '크다', 1185: 'olena', 1553: 'shchegel', 891: 'jean', 186: 'baptiste', 277: 'causse', 608: 'faye', 108: 'anne', 281: 'cecile', 1545: 'severine', 1616: 'stoeckle', 901: 'joice', 526: 'eloi', 712: 'guimaraes', 969: 'leila', 194: 'beatriz', 175: 'azevedo', 1303: 'ponciano', 521: 'eleonora', 179: 'bambozzi', 226: 'bottura', 2373: '그리스어', 138: 'aristotelis', 1959: 'zografos', 3288: '불가리아어', 1013: 'lyudmila', 158: 'atanasova', 2228: '과회', 1800: 'tziotisamalia', 2956: '무역', 4168: '유정', 5522: '힌디어', 1160: 'nrusingha', 291: 'charan', 917: 'kar', 468: 'dhiraj', 937: 'kumar', 1089: 'mishra', 4084: '우즈베크어', 176: 'aziza', 1044: 'mashrabbekova', 1663: 'svetlana', 1548: 'shagaeva', 2413: '기박', 2548: '나화', 3477: '서아프리카', 4076: '우사', 1028: 'malami', 236: 'buba', 4783: '줄루어', 2364: '규화', 1139: 'nicholas', 1927: 'yohan', 502: 'duvernay', 478: 'discussion', 433: 'debate', 1072: 'michael', 297: 'chesnut', 653: 'foundations', 864: 'interpreting', 1771: 'translation', 4716: '조수', 1322: 'presenting', 1848: 'vincent', 1131: 'negotiations', 929: 'korean', 364: 'consecutive', 4188: '윤미', 3503: '선수', 5336: '함희', 1366: 'public', 90: 'alyssa', 925: 'kim', 46: 'advancedenglish', 930: 'koreanconsecutive', 2493: '김윤숙월', 3074: '박예진', 2566: '남원', 4777: '준목', 902: 'jon', 177: 'bahk', 718: 'halberg', 4717: '조수연', 2491: '김윤', 3606: '수경', 1551: 'shaun', 913: 'justin', 1033: 'manning', 763: 'honors', 1613: 'steve', 791: 'hyok', 861: 'interacting', 1593: 'spoken', 197: 'becoming', 701: 'great', 1208: 'orator', 1049: 'max', 1866: 'watson', 434: 'debating', 1722: 'thomas', 936: 'kuklinski', 1481: 'rhee', 106: 'anja', 1516: 'scherpinski', 793: 'iaroslava', 1238: 'pakulova', 1251: 'pavlovskaya', 871: 'irina', 800: 'idalia', 1249: 'patricia', 556: 'espinosa', 958: 'leal', 1218: 'oscar', 2: 'abenojar', 1506: 'sanjuan', 1690: 'teresa', 1041: 'martinez', 673: 'garcia', 655: 'francisco', 206: 'bermudez', 773: 'huertas', 1957: 'zimbardo', 1040: 'marta', 100: 'andreas', 1142: 'nijenhuis', 1147: 'nora', 899: 'johan', 1166: 'nys', 3679: '스웨덴어', 98: 'anders', 1048: 'mattias', 241: 'burell', 811: 'iimaria', 1010: 'luiza', 689: 'goncalves', 133: 'aragao', 416: 'da', 411: 'cunha', 983: 'lima', 711: 'guillaume', 187: 'barresi', 118: 'antoine', 220: 'blais', 1495: 'sabine', 426: 'de', 390: 'costa', 275: 'catherine', 1384: 'rapin', 3108: '발음', 3209: '보배', 5004: '최준', 3609: '수금', 2599: '노희진', 2837: '류은영', 4417: '임계영', 607: 'fati', 982: 'lim', 781: 'hui', 4630: '정민', 1502: 'salaheldin', 0: 'abdelaziz', 73: 'ali', 522: 'elgebily', 1654: 'supakit', 235: 'buakaw', 1138: 'nguyen', 1716: 'thi', 1137: 'ngoc', 720: 'han', 1837: 'van', 1285: 'phuc', 1717: 'thien', 1120: 'nam', 5104: '터어키', 688: 'gokce', 1090: 'misirli', 599: 'fahime', 680: 'ghapandari', 212: 'bidgoli', 4144: '유달승월', 2524: '김혁', 3790: '실화', 3859: '양경미', 4330: '이현진', 4876: '진아', 3089: '박혜원', 4310: '이종금', 3146: '백지훈', 4426: '임재호', 2595: '노지', 933: 'kozawa', 1922: 'yasunori', 881: 'ito', 1496: 'sachiko', 4393: '일본언어문화전공', 3836: '안유', 3186: '변정', 5388: '현수', 1184: 'ogihara', 1498: 'saeko', 1119: 'nakamura', 1920: 'yae', 1894: 'william', 1355: 'prosser', 943: 'lance', 1380: 'rabbidge', 1039: 'marianne', 1078: 'milhaud', 4218: '은화', 947: 'laroulandie', 169: 'aurelien', 305: 'christian', 764: 'horn', 1102: 'monika', 1105: 'moravkova', 1921: 'yan', 782: 'huijuan', 2509: '김정은', 2332: '국제학전공', 4687: '정회란수', 300: 'chinese', 1953: 'zhao', 895: 'jingjing', 5422: '호실', 1176: 'off', 4771: '주전', 3273: '분류', 4819: '증상', 4240: '의심', 2176: '곤란하다', 4069: '용인', 5235: '피다', 5382: '혁신', 3676: '스스로', 4755: '주도', 3929: '역기', 1998: '간비', 2174: '고컨설팅', 3188: '별개', 2138: '경제개발', 3220: '보험', 2846: '리학', 4032: '완성', 5067: '커리큘럼', 2864: '마찬가지', 1984: '가이드북', 676: 'gbt', 2128: '경영정보', 3381: '사회과학관', 5425: '호일', 3760: '신입학', 2607: '논술', 2163: '고사', 3173: '법학관', 4579: '전원', 2659: '당국', 3645: '수준', 2295: '구역', 3752: '신속', 3563: '소독', 5465: '확진', 3225: '복귀', 3227: '복수', 2425: '기일', 5424: '호의', 3665: '순서', 2754: '동계', 3130: '배수', 4897: '차감', 2872: '만족하다', 3366: '사이언스', 3051: '바이오데이터사이언스전공', 2135: '경쟁률', 2843: '리스트', 2787: '동점', 2610: '높다', 3667: '순위', 1974: '가능성', 2572: '낮다', 3136: '배정인', 2071: '개편', 2375: '그림', 2617: '뉴스', 3957: '연일', 2101: '격상', 2051: '강화하다', 4659: '정의', 2883: '맞추다', 3554: '세분', 3786: '실행', 4967: '체인', 5359: '행방', 4815: '증가', 5023: '추세', 3897: '엄중하다', 4159: '유연하다', 3784: '실전', 4965: '체온', 3107: '발열', 2770: '동시', 4103: '원거리', 5137: '통학', 5091: '탄력', 2693: '대처', 2660: '당부', 3569: '소상하다', 2007: '감사하다', 5458: '확대', 3577: '소재', 5179: '편의', 3902: '없애다', 5356: '해제', 4829: '지난주', 2945: '목요일', 4385: '일만', 5451: '화요일', 4556: '전격', 3561: '소규모', 2399: '급속하다', 2018: '갑작스럽다', 2537: '끼치다', 3841: '안타깝다', 3446: '생각', 2142: '계단', 2224: '과학관', 2551: '난방', 3027: '미제', 5038: '출시', 3470: '서명', 4555: '적합하다', 4438: '입실', 2963: '문관', 2072: '객관', 1188: 'omr', 3800: '싸인', 3749: '신분증', 5282: '학생증', 2804: '등록증', 4098: '운전면허증', 3914: '여권', 4428: '입구', 3584: '손소독', 2001: '간전', 3008: '미리', 2742: '도착', 5142: '퇴실', 3174: '벗다', 600: 'fail', 3840: '안지', 2426: '기입', 2986: '문항', 3337: '빠지다', 3588: '솔직하다', 5110: '테이프', 2658: '답안', 4701: '제지', 5242: '필기', 2854: '마시기', 2282: '교체', 4834: '지르다', 2173: '고치다', 4357: '인쇄', 4489: '잘못', 3737: '식별', 2377: '극히', 4028: '와중', 2580: '내일', 3983: '영업', 3224: '복구', 2740: '도전', 3245: '부로', 3716: '시비', 2623: '늦어지다', 327: 'cm', 3262: '부착', 4595: '전형료', 2397: '금주', 5133: '통장', 3025: '미전', 4589: '전출', 4584: '전입', 3430: '상임', 4219: '을지', 4442: '입인', 3689: '스포츠', 2825: '레저', 3451: '생명공학', 5074: '컴퓨터공학', 4635: '정보공학', 4585: '전자공학', 5184: '편제', 611: 'feff', 4212: '은수', 2741: '도제', 2576: '내년', 4664: '정재원', 2064: '개월', 4754: '주다', 4648: '정시', 4460: '자만', 5018: '추가합격자', 3654: '수험', 3006: '미러링', 2648: '달리다', 1961: 'zoom', 691: 'google', 1059: 'meet', 2941: '모임', 2147: '계수', 4172: '유출', 3420: '상시', 2036: '강유', 2535: '끄다', 3234: '본문', 4580: '전이', 2651: '담다', 4439: '입안', 3389: '산업혁명', 4158: '유연', 4890: '집중이수제', 4713: '조문', 2633: '다음해', 2538: '나누다', 3448: '생략', 3292: '불구', 4940: '천재지변', 2015: '감축', 5347: '항의', 3732: '시행일', 2206: '공포', 2553: '날로', 3265: '부칙', 3617: '수렴', 3484: '서울특별시', 4761: '주민등록', 4763: '주소지', 3469: '서면', 4563: '전기학', 4693: '제생', 3018: '미시', 5427: '호통', 2958: '무인', 4019: '옥수', 2449: '김덕', 1588: 'spas', 103: 'angelov', 1383: 'rangelov', 2360: '규월', 2674: '대루', 2982: '문학과사회', 3770: '신형', 4093: '욱월', 4331: '이혜리', 5512: '휴업', 2325: '국정', 4623: '정기', 3878: '어린이날', 3264: '부처님오신날', 4388: '일별', 3048: '바로잡다', 4403: '일원화', 3707: '시도', 2919: '명도', 4343: '인대', 5153: '특별하다', 3274: '분반', 3663: '순간', 5490: '회차', 3701: '시간대', 4363: '인재', 4304: '이점', 4227: '응시생', 4695: '제시', 803: 'iflep', 3126: '방향', 5061: '카메라', 3892: '얼굴', 3369: '사적', 4543: '저작권법', 4254: '이란', 2642: '단축', 1997: '간담', 5098: '태국', 3057: '박경', 1999: '간수', 5010: '최호성', 3640: '수용', 2818: '라운지', 3871: '양현정', 2793: '드라마', 4681: '정형석', 4221: '음성학', 5101: '태엽', 4245: '이가원', 2591: '노르웨이어', 2726: '덴마크어', 5496: '효정금', 3109: '발전', 5002: '최종찬', 1954: 'zhenai', 4294: '이윤', 798: 'ict', 5016: '최희재', 3064: '박상은', 3882: '어음', 2766: '동북아', 3833: '안보', 555: 'er', 1896: 'win', 1678: 'tan', 2419: '기술', 3179: '벤처창업컨설팅', 4723: '조준', 3475: '서수', 1581: 'soo', 2462: '김상범', 2323: '국외', 2287: '구도', 2488: '김원', 2921: '명목', 4173: '유태영', 3625: '수목', 4986: '최병철', 5444: '홍종', 3147: '백현', 3015: '미수', 2996: '뮤지컬', 3132: '배우다', 3005: '미래', 284: 'ceo', 3042: '및취', 1857: 'vu', 942: 'lan', 786: 'huong', 3869: '양철', 4781: '준월', 3494: '석희', 2467: '김세현', 354: 'computer', 1686: 'technologies', 2933: '모듈', 862: 'intermediate', 132: 'arabic', 331: 'colloquial', 4631: '정민수', 698: 'grammar', 4858: '지현수', 3810: '아목', 2417: '기수', 3072: '박순', 2035: '강월', 3331: '비판', 4683: '정호정', 4651: '정연', 3696: '승용월', 3835: '안영은', 4289: '이우용', 1915: 'wu', 1882: 'wenshan', 4676: '정태', 4267: '이미경', 5127: '통번', 4672: '정책', 4680: '정혁', 4193: '윤시내', 2334: '국한', 4994: '최우', 2496: '김은경', 2470: '김수봉', 2957: '무역영어', 2017: '갑목', 3533: '성윤', 4387: '일반생물학', 4326: '이해진', 792: 'iain', 626: 'finnie', 2504: '김재수', 2729: '도금', 2540: '나르다', 4925: '찾다', 2815: '떠나다', 5088: '크리에이티브', 2482: '김영아', 2503: '김재민', 2023: '강미라', 4844: '지식', 2457: '김민', 5405: '형수', 1661: 'survival', 5255: '하수', 4685: '정화수', 1910: 'world', 2355: '규금', 3399: '삼계', 3240: '봉사활동', 2906: '멘토', 2159: '고등학교', 5272: '학력', 2907: '멘토링', 2908: '멘티', 3239: '봉사', 4753: '주년', 2959: '무조건', 5330: '함바', 3404: '상공회의소', 1197: 'ooo', 1196: 'oo', 1198: 'oooo', 2774: '동아프리카전공', 3478: '서아프리카전공', 2564: '남아프리카전공', 1167: 'oai', 4705: '제출처', 4865: '직전', 2248: '교부', 4660: '정이', 2712: '대한상공회의소', 4179: '유효하다', 1247: 'pass', 3168: '법적', 2182: '공공기관', 2709: '대학원생', 2293: '구성', 4340: '인권', 4708: '젠더', 4627: '정리', 2644: '닫다', 3657: '수확', 643: 'foreigner', 816: 'implemented', 1381: 'raise', 174: 'awareness', 386: 'cordially', 636: 'follows', 353: 'compulsory', 570: 'every', 654: 'four', 767: 'hour', 370: 'consisting', 323: 'clip', 58: 'against', 729: 'harassment', 1546: 'sex', 1761: 'trafficking', 360: 'conducts', 115: 'annual', 1226: 'outcome', 855: 'institutions', 827: 'including', 1815: 'universities', 651: 'found', 1819: 'unsatisfied', 616: 'field', 846: 'inspection', 1232: 'oversight', 222: 'body', 1749: 'together', 542: 'ensuing', 1169: 'obliging', 882: 'its', 1323: 'president', 1590: 'special', 1027: 'making', 550: 'entity', 1121: 'name', 1643: 'subsequently', 54: 'affect', 1521: 'score', 1084: 'ministry', 1583: 'sophomore', 986: 'line', 496: 'duration', 1733: 'thursday', 1597: 'st', 1795: 'tusday', 1158: 'november', 1871: 'wed', 376: 'contents', 1081: 'min', 1648: 'summary', 1378: 'questions', 50: 'advised', 244: 'button', 960: 'learning', 1897: 'window', 1222: 'otherwise', 405: 'credits', 1397: 'recognized', 488: 'done', 345: 'completed', 1847: 'viewing', 531: 'end', 844: 'inquiries', 4908: '착하다', 4097: '운전', 5381: '혀증', 3238: '볼펜', 3948: '연도', 3893: '엄격하다', 4269: '이상만', 5122: '톡방', 5415: '혜택', 4143: '유교', 3541: '성취도', 956: 'lc', 2275: '교재비', 2418: '기숙사', 2676: '대리출석', 4549: '적발', 3421: '상실', 1438: 'remember', 3538: '성적조회', 5112: '테츠', 4823: '지각', 3678: '스웨덴', 2862: '마인어', 5106: '터키어', 3030: '미착', 4062: '용다', 3139: '배치표', 4146: '유도', 5111: '테잎', 2914: '면허증', 3628: '수성', 4370: '인증서', 4256: '이러닝', 3722: '시일', 4800: '중등교육', 2105: '결격', 3525: '성범죄', 2783: '동의', 2855: '마약', 2677: '대마', 5370: '향정신성의약품', 4798: '중독', 3195: '병원', 3038: '밀집', 4720: '조절', 5090: '타임', 2791: '두통', 4015: '오한', 2432: '기침', 2948: '몸살', 2422: '기운', 3648: '수칙', 4954: '청서', 2259: '교원자격검정', 2363: '규칙', 3166: '법령', 2089: '검진', 1986: '가정의학', 2574: '내과', 4650: '정신건강', 4244: '의학과', 2080: '건강검진', 5402: '협회', 1683: 'tbpe', 3568: '소변', 3053: '바탕', 3099: '반응', 4632: '정밀', 3855: '약물', 3228: '복용', 4026: '올해', 3002: '미동', 4978: '초로', 3043: '및학', 4905: '차이점', 3857: '약제학', 4116: '원시기', 887: 'jaeny', 762: 'hongeky', 1007: 'lsh', 1652: 'sun', 64: 'ahnjy', 4059: '요청서', 1970: '酷暑期', 2641: '단체', 4064: '용무', 5238: '피하', 2671: '대단하다', 326: 'closure', 1649: 'summer', 1833: 'vacationclosing', 756: 'holiday', 1550: 'shall', 126: 'appreciated', 373: 'contact', 199: 'before', 1421: 'registrar', 2396: '금일', 907: 'jpg', 1052: 'mb', 4499: '장시', 5161: '파일명', 2584: '넘어서다', 3324: '비상', 4002: '예측', 4581: '전인', 3927: '여지', 5022: '추석', 3962: '연휴', 3277: '분수', 1982: '가을', 2370: '그러하다', 5457: '화해', 3144: '백신', 4613: '접종', 3585: '손씻기', 3912: '에틸', 3845: '알콜', 3138: '배치', 838: 'informationas', 451: 'deliver', 1374: 'quality', 1202: 'operate', 1659: 'surpassed', 1382: 'raised', 413: 'current', 1809: 'underscoring', 1205: 'operations', 1405: 'reduced', 1872: 'wednesday', 308: 'chuseok', 38: 'adequately', 1321: 'prepare', 189: 'basic', 1234: 'overviewdelivery', 1799: 'typeclass', 264: 'capacitynoteface', 1021: 'major', 1880: 'well', 263: 'capacity', 22: 'according', 1474: 'results', 1411: 'reflected', 671: 'future', 1088: 'mirroring', 1177: 'offered', 1332: 'principle', 1401: 'recorded', 546: 'entered', 393: 'country', 1805: 'under', 137: 'areaitemlevel', 1067: 'methodface', 1333: 'principles', 1233: 'overview', 455: 'deliverynon', 824: 'include', 1829: 'using', 1086: 'minute', 31: 'activities', 1345: 'produced', 1710: 'themselves', 1567: 'small', 704: 'group', 817: 'important', 970: 'length', 1436: 'relative', 1817: 'unless', 27: 'acknowledgment', 13: 'absenteeism', 1804: 'unavoidable', 383: 'contracting', 1834: 'vaccination', 1353: 'proof', 1641: 'submitted', 1529: 'secure', 1587: 'spaces', 80: 'allotted', 466: 'details', 1317: 'precautions', 1505: 'sanitizing', 722: 'hands', 547: 'entering', 1868: 'wearing', 1839: 'ventilating', 319: 'classrooms', 1796: 'twice', 540: 'enrolled', 1363: 'providing', 479: 'disinfectants', 561: 'ethyl', 69: 'alcohol', 3727: '시차', 2615: '누적', 4412: '일차', 2085: '건수', 3619: '수로', 3361: '사이', 1417: 'registeration', 35: 'adding', 449: 'deleting', 4342: '인기', 3416: '상벌', 2314: '국문', 5314: '한문', 5039: '출신', 4277: '이수만', 918: 'kateryna', 1679: 'tanchyn', 3534: '성의', 3750: '신상', 5380: '헤리티지', 5013: '최효진', 1960: 'zola', 304: 'christensen', 4073: '우르두어', 3891: '언어학', 2359: '규수', 3310: '브랜드', 2691: '대중매체', 2895: '맵핑', 3573: '소수점', 3098: '반올림', 3562: '소급', 3326: '비율', 5247: '필요시', 2962: '문경', 2229: '관계', 5178: '편법', 2894: '매크로', 3328: '비정상', 4935: '처분', 2675: '대리', 3896: '엄중', 2093: '것임', 3505: '선의', 5239: '피해', 4431: '입다', 4141: '유감', 4389: '일보', 2068: '개천절', 2695: '대체공휴일', 5308: '한글날', 1364: 'provision', 1367: 'published', 265: 'capacityremarksface', 145: 'artsonline', 975: 'levelcategorylevel', 454: 'deliverymethodface', 4637: '정보전', 5053: '취재', 3207: '보도', 2716: '대훈', 4928: '채영길', 2603: '논리', 2052: '강희', 3956: '연월', 4298: '이은주', 1282: 'ph', 4494: '장미', 4656: '정월', 520: 'elementary', 867: 'introduction', 5413: '혜원', 3985: '영연방', 1301: 'political', 509: 'economy', 685: 'globalization', 3594: '송수', 4814: '중화권', 299: 'china', 4418: '임대근', 751: 'historic', 617: 'figures', 3921: '여신', 1009: 'luchen', 4622: '정금', 909: 'julien', 593: 'eychenne', 2197: '공연예술', 2437: '기획', 3486: '서정미', 2723: '데이터마이닝', 4108: '원금', 2024: '강민', 4647: '정수', 2515: '김지현', 2022: '강미', 4684: '정화', 2032: '강연', 5377: '허필숙월', 2468: '김소연', 3587: '손은미', 2526: '김현식', 5420: '호목', 2525: '김현', 4757: '주목', 3498: '선목', 5517: '희다', 2752: '독해', 3145: '백종', 4835: '지리', 4345: '인도네시아', 3595: '송승', 1574: 'soft', 1310: 'power', 1891: 'wierzbowski', 1751: 'tomasz', 3110: '발트', 3187: '변천', 5390: '현안', 3488: '서진석', 5222: '프랑스어권', 4993: '최용호', 5369: '향수', 3287: '불가리아사', 5481: '회문', 205: 'berejiani', 1219: 'otar', 2306: '구화', 2545: '나이지리아', 3149: '버넌스', 5446: '화금', 5157: '파생', 3433: '상품', 5478: '회계', 4110: '원리', 4228: '응용', 5350: '해석학', 3510: '선형대수', 4253: '이동통신', 4591: '전통예술', 4517: '장혜진', 2226: '과학사', 4282: '이승민', 3548: '세기항공', 4083: '우주과학', 3024: '미적분학', 4184: '윤기', 4671: '정창욱월', 4466: '자연과학', 4320: '이채연', 5357: '핵심', 2734: '도시', 4182: '윤경', 4034: '완화', 3911: '에티켓', 5285: '학습자', 5069: '컨설팅', 776: 'hufsability', 4914: '참석자', 2434: '기프티콘', 2865: '마치다', 3316: '비교', 3816: '아이디어', 4822: '증정', 4243: '의창구', 716: 'haksa', 3013: '미사', 3418: '상사', 4145: '유덕', 2502: '김재', 3511: '선화', 3769: '신태식', 3359: '사원', 5442: '홍재웅금', 3087: '박현숙', 4043: '외국인투자', 4728: '조희문', 5006: '최지인', 2765: '동부', 2518: '김철', 3033: '민수', 1165: 'nur', 1830: 'utami', 1508: 'sariat', 938: 'kurniati', 2162: '고문', 2840: '리딩', 2529: '김형', 2365: '균월', 2479: '김영명', 2725: '데이터시각화', 2955: '무술', 4114: '원수', 3596: '송연희', 4390: '일본', 5070: '컨텐츠', 3075: '박용구', 5509: '휴먼', 4373: '인터', 2819: '랙션', 4109: '원론', 4280: '이순희', 4187: '윤목', 5103: '택목', 5268: '학교폭력', 4157: '유숙', 2123: '경수', 2604: '논리학', 4663: '정재', 5468: '환금', 2776: '동양철학', 2477: '김영걸', 3968: '영림', 1747: 'todd', 783: 'hull', 2483: '김영옥', 2466: '김세원', 2824: '레이', 3794: '심리학', 3805: '아동', 3793: '심리', 5313: '한류', 1782: 'tue', 1151: 'noticed', 505: 'earlier', 89: 'although', 506: 'eased', 3776: '실마', 4419: '임마', 4398: '일상', 5482: '회복', 2951: '무관', 1204: 'operational', 1283: 'phased', 1404: 'recovery', 979: 'life', 1399: 'recommendations', 1156: 'nov', 462: 'designated', 2874: '많이', 2562: '남아', 5437: '홍보', 3176: '베너', 4122: '월성', 346: 'completion', 708: 'guidance', 533: 'enforcement', 349: 'compliancehello', 1369: 'pursuing', 552: 'equal', 382: 'continuously', 1604: 'starting', 1617: 'stof', 49: 'advise', 1762: 'training', 1605: 'stas', 1582: 'soon', 185: 'banner', 1270: 'penalty', 601: 'failure', 709: 'guide', 4178: '유효', 564: 'eunjin', 2386: '글로벌자유전공학부', 4351: '인문과학관', 5147: '트랙', 3394: '살리다', 2183: '공과', 4322: '이탈리아', 4281: '이슬람', 5113: '테크노', 5168: '패션', 2096: '게임', 5331: '함성', 4792: '중국학', 4634: '정보공', 4010: '오미크론', 1826: 'urgent', 435: 'dec', 1594: 'spread', 1187: 'omicron', 1114: 'mutant', 836: 'inform', 628: 'firstly', 1527: 'secondly', 1328: 'previous', 926: 'kindly', 1252: 'pay', 592: 'extra', 165: 'attention', 1320: 'prep', 1924: 'yearrequest', 2705: '대학교육', 5288: '학우', 1376: 'questionnaires', 1135: 'next', 853: 'institute', 512: 'educational', 840: 'innovation', 34: 'add', 1377: 'questionnairesto', 820: 'improving', 5028: '축소', 4519: '재고', 1246: 'participation', 1385: 'rate', 1073: 'mid', 1692: 'term', 2744: '독려', 586: 'expected', 530: 'encourage', 1074: 'middle', 1515: 'schedules', 5333: '함차', 5334: '함카', 5349: '해당과정', 4953: '청사', 3930: '역대', 4057: '요일', 1596: 'spring', 839: 'informationto', 972: 'lessstudents', 252: 'campusonline', 1627: 'studentsonline', 1662: 'suspected', 1669: 'symptoms', 3: 'able', 1503: 'same', 295: 'checks', 768: 'hours', 5243: '필독', 3527: '성별', 3969: '영문', 2826: '령제', 3191: '별표', 4216: '은총', 3853: '야외', 2048: '강풍', 5507: '훼손', 3774: '실내', 5071: '컨퍼런', 3690: '스홀', 3639: '수요일', 4515: '장학팀', 3834: '안세미', 2771: '동시베리아', 4904: '차이나', 4339: '인공지능', 5386: '현덕', 3332: '빅데이터', 4525: '재무관리', 5218: '프랑스문학', 4488: '작품', 4590: '전통', 2937: '모수', 4654: '정용', 3586: '손영훈', 4072: '용해', 3937: '연간', 3649: '수하', 4482: '작년', 3821: '아직', 4007: '오른쪽', 2699: '대통령', 3495: '선거', 4561: '전국동시', 4839: '지방선거', 5395: '현충일', 3343: '사대', 5145: '튜터링', 4955: '청소년', 4512: '장학금', 3102: '발굴', 4514: '장학재단', 4180: '육성', 5292: '학자금', 2285: '구간', 2416: '기생', 2381: '근로', 5095: '탈북', 3993: '예산', 3627: '수생', 4916: '참여자', 2571: '납입증', 3655: '수혜', 2392: '금액', 2202: '공제', 1985: '가입', 5146: '튜티', 3113: '발현', 3345: '사람과', 4614: '접촉', 4140: '위험', 3039: '밀폐', 3036: '밀접', 3037: '밀접하다', 3321: '비말', 5126: '통근', 5138: '통학버스', 3150: '버스', 3700: '시가', 5346: '항원', 4872: '진료', 3632: '수시로', 4921: '창문', 3202: '보건관리', 5393: '현장실습', 2995: '물품', 4411: '일지', 2929: '명찰', 4447: '자가진단', 5089: '키트', 5032: '출근', 3822: '아침', 4895: '찍다', 4784: '줄이다', 3867: '양심', 5358: '행동', 3398: '삼가다', 2002: '간접', 5483: '회분', 2541: '나머지', 2382: '근무', 3502: '선생님', 4286: '이영주', 2046: '강준', 4079: '우월', 4246: '이계', 3961: '연화', 3460: '샴수', 1618: 'strategic', 1029: 'management', 2489: '김유', 2030: '강수', 3071: '박수', 4652: '정연수', 4191: '윤선경', 2643: '단편소설', 2520: '김태철', 5121: '토픽', 4264: '이명', 3695: '승용목', 1916: 'xia', 706: 'guangxing', 5439: '홍월', 2481: '김영민', 2473: '김수진', 1241: 'parit', 1926: 'yinsen', 5092: '탄소', 4801: '중립', 3905: '에너지정책', 3268: '북한', 3597: '송은지', 499: 'dusanka', 1858: 'vujovic', 2444: '김계영', 2380: '근대문학', 3571: '소셜미디어', 4328: '이향', 3301: '불통', 2866: '마케도니아', 3425: '상연', 5257: '하우사어', 2523: '김학수', 4524: '재무', 5454: '화폐', 3736: '식목', 2016: '갑금', 2234: '관리회계', 3492: '석수', 2447: '김남수', 869: 'iot', 1512: 'sayed', 298: 'chhattan', 1549: 'shah', 4629: '정미순', 1493: 'ryan', 1482: 'richard', 2345: '권도경', 247: 'caleb', 1488: 'roland', 202: 'belgard', 2751: '독일어권', 2890: '매월', 5323: '한우', 3520: '섭월', 3454: '생물', 5044: '출현', 4884: '진화', 2521: '김하늘', 4824: '지구온난화', 2600: '녹색', 3536: '성장', 4498: '장수', 5475: '환월', 2498: '김은혜', 4197: '윤지', 3500: '선미', 4767: '주인', 2446: '김광희', 2542: '나송주수', 3880: '어문학', 4190: '윤석만', 2949: '몽골', 4335: '이희진', 420: 'dan', 1082: 'mingjie', 5387: '현덕수', 2301: '구축', 4211: '은솔', 5114: '테크놀로지', 4186: '윤리', 4930: '책임', 3452: '생명보험', 4311: '이종욱', 1140: 'nicolas', 419: 'damien', 1781: 'tuboeuf', 2358: '규범', 2415: '기사', 4944: '철학사', 3474: '서세영', 2227: '과학철학', 4017: '오희', 4942: '철수', 4674: '정치철학', 2443: '김경희', 4983: '최경', 3849: '애월', 2811: '디지털화', 5000: '최정', 3504: '선영', 2450: '김동조', 4162: '유월', 4523: '재목', 3060: '박병일', 5407: '형용', 2661: '당사자', 2302: '구한', 4529: '재봉사', 4678: '정해지다', 5434: '홈피', 2336: '군대', 2833: '로지', 2893: '매칭', 306: 'chrome', 510: 'edge', 658: 'freshman', 1037: 'march', 1509: 'saterday', 460: 'desember', 1732: 'thu', 1511: 'save', 325: 'close', 1723: 'those', 1170: 'obtain', 1684: 'teacher', 978: 'license', 1536: 'sensitive', 117: 'another', 854: 'institution', 286: 'certificate', 1174: 'oeu', 3641: '수원', 3991: '예비교', 2727: '도공', 2785: '동일시', 3047: '바람나다', 3490: '서후', 2424: '기이', 3127: '배너', 2268: '교육일정', 4055: '요소', 5209: '표구', 351: 'comprehension', 4607: '점심', 3738: '식사', 4706: '제풀이', 3622: '수료식', 3886: '어휘', 562: 'ets', 5120: '토익', 5041: '출입문', 4317: '이진환', 4203: '융학', 2440: '기후변화융합학부', 4239: '의성', 1470: 'restriction', 294: 'checking', 702: 'greetings', 116: 'annually', 1362: 'provides', 348: 'compliance', 1430: 'regulations', 1434: 'related', 955: 'laws', 1002: 'logging', 1824: 'upper', 1483: 'right', 388: 'corner', 1236: 'page', 322: 'clicking', 225: 'bottom', 1117: 'my', 302: 'choice', 1642: 'submitting', 845: 'inquiriesseoul', 2838: '를무', 2737: '도의', 3410: '상당수', 1096: 'modes', 1534: 'semesterhufs', 1178: 'offering', 1094: 'mode', 1280: 'person', 469: 'diagnosed', 1306: 'positive', 1842: 'via', 994: 'live', 1620: 'stream', 647: 'format', 754: 'hold', 33: 'actually', 834: 'inevitably', 1458: 'requiring', 196: 'because', 1644: 'substantial', 541: 'enrolling', 877: 'issues', 1770: 'transitioned', 128: 'approval', 1344: 'process', 963: 'lecturer', 401: 'created', 1543: 'sessions', 1087: 'minutes', 519: 'electronic', 293: 'check', 329: 'codes', 1753: 'tools', 1212: 'originally', 4209: '은교', 5294: '학장', 4091: '우현', 3514: '설명', 2575: '내규', 4133: '위반', 4732: '졸다', 5345: '항목', 5187: '평가원', 3644: '수정전', 4567: '전문', 1889: 'whitejoon', 4285: '이어도', 3970: '영문학', 717: 'haksamil', 4520: '재난', 4469: '자연재해', 2442: '긴급하다', 2353: '귀국', 2304: '구해오', 2303: '구해', 5266: '학교장', 3726: '시주', 4956: '청자', 4241: '의전', 2897: '멀다', 5047: '충전', 2337: '군별', 2233: '관리자', 2317: '국민은행', 2609: '농협', 4321: '이체', 3589: '송금', 3630: '수수료', 3243: '부담', 3715: '시분할', 3976: '영수증', 4840: '지방세', 3576: '소유자', 3574: '소액', 3906: '에러', 5484: '회비', 2762: '동문', 2718: '더하다', 4117: '원우', 3338: '빼다', 3564: '소득', 3552: '세법', 4896: '찍히다', 3951: '연말정산', 3773: '실납입액', 5055: '취해', 4776: '준마', 4049: '외화', 5476: '환율', 3259: '부족하다', 4030: '완납', 4901: '차수', 3656: '수혜자', 2582: '넘기다', 3437: '상환', 2608: '농촌', 4202: '융자', 4860: '직계', 3325: '비속', 5033: '출금', 4300: '이자', 3565: '소득세', 4820: '증여세', 2218: '과세', 3246: '부모님', 3858: '약칭', 3244: '부령', 2309: '국가장학금', 1785: 'tuition', 1257: 'paymenta', 1899: 'wire', 1766: 'transfer', 91: 'am', 1294: 'pmi', 665: 'function', 180: 'bank', 121: 'app', 391: 'counter', 1293: 'pm', 214: 'billing', 1274: 'perioda', 213: 'bill', 1335: 'printable', 1334: 'print', 922: 'keep', 1538: 'separately', 1136: 'nfirm', 1256: 'payment', 1284: 'phone', 1906: 'woori', 1237: 'paid', 795: 'icon', 1841: 'version', 1861: 'want', 1814: 'union', 609: 'fee', 1658: 'sure', 94: 'amount', 1851: 'virtual', 43: 'admission', 951: 'latest', 1767: 'transferring', 1005: 'lose', 1162: 'numbers', 1370: 'put', 573: 'exact', 18: 'accept', 1765: 'transaction', 1253: 'paying', 1230: 'overseas', 1895: 'willing', 606: 'fasten', 580: 'exchange', 835: 'info', 841: 'input', 849: 'installment', 1091: 'missed', 427: 'deadline', 84: 'already', 1535: 'semesters', 429: 'deadlines', 1665: 'swift', 790: 'hvbkkrsexxx', 788: 'hvbkkrse', 3237: '본점', 412: 'cup', 238: 'buk', 1486: 'ro', 681: 'gil', 1036: 'mapo', 705: 'gu', 1584: 'south', 821: 'imun', 489: 'dongdaemun', 1449: 'republic', 3704: '시나', 2701: '대표자', 1988: '가족', 2764: '동반', 3061: '박사', 3457: '생중계', 4927: '채널', 4734: '졸업생', 3373: '사진촬영', 4473: '자의', 4542: '저널리즘', 4468: '자연어', 3383: '사회생활', 178: 'bakishev', 495: 'dulat', 2004: '갈래', 5515: '흐름', 4124: '월운월', 5156: '파견', 2753: '돌리다', 3445: '생가', 3171: '법학', 4569: '전문대학원', 5474: '환액', 5128: '통번역대학원', 2127: '경영대학원', 3852: '야간', 2262: '교육대학', 4675: '정치행정언론대학원', 1579: 'some', 182: 'banks', 1398: 'recognizes', 37: 'address', 1395: 'recipient', 261: 'cannotpay', 810: 'iii', 842: 'inputiv', 1420: 'registering', 2153: '고가', 4726: '조혜영', 2458: '김보', 5495: '효은', 2505: '김정', 3826: '안규', 2769: '동수', 4196: '윤주형', 1144: 'noelia', 1164: 'nunez', 1329: 'preza', 5005: '최지영', 71: 'alexandre', 1042: 'martins', 2654: '담화', 3317: '비교문학', 5383: '혁재', 4509: '장준영', 2181: '공공', 2625: '다국적기업', 2842: '리스크', 2465: '김성재', 2270: '교육철학', 2266: '교육사', 2546: '나일', 2273: '교육행정', 2724: '데이터베이스', 3063: '박상원', 2920: '명동', 5226: '프로그래밍언어', 1250: 'paul', 1559: 'simon', 5244: '필목', 3507: '선진', 2478: '김영경', 3336: '빛과', 2994: '물질', 4425: '임재', 4061: '용금', 4371: '인지', 4850: '지윤', 3712: '시민', 5443: '홍정화', 5389: '현숙', 892: 'jeon', 307: 'chul', 1776: 'trends', 2461: '김상', 1759: 'toursimindustry', 507: 'east', 2469: '김수', 4033: '완수', 3068: '박석', 813: 'immersive', 375: 'content', 1351: 'projects', 2782: '동윤', 1832: 'ux', 228: 'branding', 1634: 'studio', 3746: '신동', 4222: '음운', 5107: '테마', 5162: '파크', 4516: '장해', 5234: '플렉스', 3590: '송목', 3686: '스팅', 3070: '박성', 3762: '신정', 5273: '학명', 3600: '송현정', 4185: '윤기현', 3184: '변수', 4507: '장재', 2721: '덕수', 2605: '논리회로', 3803: '아날로그', 4888: '집적회로', 1664: 'sw', 3393: '산학', 3183: '변상', 3444: '새해', 2516: '김지혜', 3439: '상효금', 2408: '기록관리', 3694: '승연', 4424: '임익', 2979: '문제해결', 2376: '극지', 5216: '풀다', 2204: '공진', 3529: '성수', 4640: '정보화', 3706: '시대', 2868: '만들다', 3799: '싶다', 2940: '모이다', 5059: '치킨', 3817: '아이스크림', 3499: '선물', 2171: '고정', 3342: '사다', 4242: '의제', 5321: '한없다', 5352: '해수', 3910: '에타', 2043: '강제', 3931: '역등', 4570: '전문성', 3761: '신장', 3932: '역량', 4131: '위기', 2519: '김치', 4094: '운남', 3801: '쌓다', 4841: '지선', 4813: '중학교', 3555: '세상', 3044: '바꾸다', 4968: '체인지', 2903: '메이커', 5180: '편이', 4210: '은상', 2241: '광진', 2269: '교육지원청', 3791: '심각하다', 3874: '어떻다', 2735: '도울', 2970: '문수정', 2271: '교육청', 4636: '정보원', 4977: '초등학교', 5227: '프로세스', 2552: '날개', 2645: '달기', 4451: '자기효능감', 2851: '마리', 5117: '토끼', 4490: '잡기', 5376: '허은영', 4021: '옥중', 2634: '다중', 4830: '지능', 5360: '행복하다', 4078: '우연', 3966: '열쇠', 4101: '워드', 3395: '살펴보다', 5241: '핀란드', 2556: '남궁', 3473: '서산', 4292: '이위베스퀼레', 3285: '불가라', 4552: '적임', 1846: 'vietnam', 686: 'gmail', 332: 'com', 780: 'hufspsd', 935: 'krkfl', 775: 'hufs_kfl', 1126: 'naver', 2091: '것바', 4355: '인사', 5433: '홈페지', 527: 'email', 66: 'aiai', 3890: '언어공학연구소', 67: 'aigbt', 777: 'hufsieloffice', 3982: '영어학전공', 4476: '자중', 3592: '송부되', 2924: '명시', 4957: '청자와', 2368: '그대로', 4170: '유지됨', 2839: '리더', 4600: '절기', 778: 'hufsmil', 4871: '진로취업지원센터', 2559: '남바', 4056: '요원', 2910: '면도', 2745: '독립', 3847: '애경', 2019: '강당', 5340: '합동', 5489: '회의실', 3740: '식장', 5430: '혼잡', 2690: '대중교통', 5030: '축하', 2613: '누리', 3850: '앨범', 5265: '학교생활', 3558: '셔틀버스', 4099: '운행', 4023: '온라인뱅킹', 645: 'foreignstudies', 2999: '미납', 1429: 'regtration', 181: 'banking', 789: 'hvbkkrsewoori', 932: 'korearecipient', 1633: 'studiesrecipient', 931: 'koreaphone', 1263: 'paymentyou', 847: 'installement', 687: 'go', 2592: '노선', 3170: '법철학', 5459: '확률', 3453: '생명정보학', 1057: 'medical', 741: 'healthcare', 1071: 'mice', 833: 'industries', 4750: '좌측', 4626: '정도', 2110: '결시', 4215: '은재', 3112: '발행', 4380: '인후', 1258: 'paymentdate', 1740: 'timeonline', 1945: 'yourbank', 1295: 'pmtuition', 1275: 'perioddate', 988: 'linktuition', 1336: 'printableafter', 883: 'itseparately', 1792: 'tuitionpayment', 1195: 'onyour', 779: 'hufsportal', 1630: 'studentunion', 1852: 'virtualaccount', 24: 'accountnumber', 952: 'latesttuition', 574: 'exactamount', 1264: 'paytwice', 805: 'ifyou', 1231: 'overseasif', 1947: 'yourtuition', 884: 'itwill', 843: 'inputlinkwoori', 1726: 'throughinstallment', 1259: 'paymentdeadline', 1419: 'registeredmore', 123: 'applicationperiod', 848: 'installementpayment', 874: 'isimportant', 1216: 'oryou', 1305: 'portalthe', 1024: 'makesure', 1742: 'timeuse', 650: 'foryour', 210: 'betweennumbers', 1183: 'oftuition', 1215: 'orseparately', 1863: 'wantto', 55: 'aforeign', 989: 'linkwoori', 850: 'installmentpayment', 949: 'lastsemester', 3872: '어강', 2339: '군사학', 4618: '정교', 2657: '답사', 4974: '체험', 2196: '공연', 4047: '외부', 4962: '체능', 4038: '외국', 2324: '국적', 4533: '재외국민', 3434: '상한', 120: 'ao', 3671: '숫점', 4167: '유전공학', 3242: '부내', 4759: '주미영', 1110: 'multimedia', 1772: 'translationworkshop', 266: 'capstone', 1095: 'modern', 2508: '김정아', 409: 'cultural', 377: 'contentstranslation', 3077: '박은혜', 880: 'italian', 605: 'fashion', 229: 'brazzale', 107: 'anna', 886: 'iv', 1124: 'national', 1619: 'strategy', 3069: '박석진', 2998: '미국사', 3067: '박서', 5436: '홍병혜화', 3085: '박창수', 4573: '전세영', 4646: '정세진', 5063: '카툰', 4803: '중상', 4130: '위급', 5519: '희수', 4189: '윤석금', 2034: '강원', 1099: 'molly', 312: 'clare', 630: 'fleming', 105: 'anika', 271: 'casem', 4307: '이정은', 4283: '이아름', 2008: '감상', 3255: '부용', 3440: '상효월', 4770: '주재', 4183: '윤금', 3066: '박상훈', 2028: '강석주', 2296: '구월', 3971: '영미', 4295: '이윤종', 4657: '정유미', 2743: '도해', 4464: '자수', 1893: 'willem', 458: 'der', 973: 'leun', 2585: '네덜란드', 5449: '화사', 4354: '인민', 1802: 'ummi', 724: 'hani', 218: 'binti', 15: 'abu', 733: 'hassan', 3032: '민구', 2454: '김미연', 2480: '김영미', 2379: '근대', 4268: '이병욱', 3086: '박현', 4837: '지목', 2484: '김영찬', 3088: '박현지', 5315: '한민족', 2512: '김종회', 2527: '김현정', 3083: '박준우', 2459: '김보람', 2513: '김종훈', 4496: '장석', 3016: '미숙', 4833: '지로', 3339: '사건', 4931: '책임지다', 2027: '강서', 2299: '구조조정', 4797: '중도', 2168: '고자', 2389: '글캠', 2909: '멜로', 2856: '마우스', 3208: '보라색', 2977: '문장', 2612: '누르다', 5259: '하이퍼링크', 3963: '열기', 2778: '동원', 3194: '병역법', 3193: '병역', 3814: '아우르다', 2533: '깊다', 4163: '유유', 4892: '징병검사', 3581: '소집영장', 5250: '필증', 2849: '마다', 1977: '가배', 4878: '진입', 2622: '늦다', 2706: '대학별', 3682: '스켄본', 5307: '한글', 4932: '책정', 1490: 'rosaria', 3711: '시미', 3734: '시험대', 5155: '특이', 1085: 'minsun', 2573: '내각', 4414: '일치', 5426: '호자', 3557: '세한', 3055: '바홀', 2700: '대표', 2964: '문구', 4137: '위챗', 5174: '페이', 1859: 'wallet', 3213: '보유', 1875: 'weekend', 582: 'excluded', 1786: 'tuitionbill', 1337: 'printthat', 490: 'donot', 183: 'bankwebsite', 796: 'iconon', 1949: 'youwant', 1155: 'notuse', 1768: 'transferringtuition', 1938: 'youdo', 1946: 'yourtransaction', 1931: 'youare', 367: 'considerfill', 1254: 'payingoverseas', 1676: 'takes', 1003: 'longer', 62: 'ahead', 1706: 'thedeadline', 1933: 'youcan', 428: 'deadlinelast', 97: 'andclick', 1971: '限持有微信支付', 1963: '包的', 1964: '可通', 1968: '微信支付', 1969: '考附件', 1427: 'registrationtimeonlinebanking', 1705: 'thecounter', 1296: 'pmtuitionbilling', 215: 'billlater', 259: 'cancheck', 254: 'canalso', 1930: 'youadd', 1944: 'youradmission', 184: 'bankwill', 262: 'canonly', 642: 'foreignbank', 1793: 'tuitionprocess', 581: 'exchangepayment', 1262: 'paymentunless', 1745: 'toapply', 1260: 'paymentdeadlines', 1406: 'reduction', 1626: 'studentsenrolling', 1728: 'thsemester', 549: 'entitled', 357: 'conditions', 610: 'feereduction', 640: 'forcourse', 1720: 'thisyear', 403: 'creditchanges', 1423: 'registrationperiod', 1788: 'tuitionfee', 1425: 'registrationregistered', 406: 'creditstuition', 1107: 'morefull', 5452: '화용론', 1962: '使用微信支付', 1965: '周一', 1966: '周三', 4421: '임시', 4752: '주거', 4851: '지장', 3101: '받아들이다', 3916: '여러', 2158: '고등', 2263: '교육법', 3731: '시행령', 3295: '불리하다', 4936: '처우', 4435: '입법', 4258: '이렇다', 2717: '더욱', 2319: '국방의무', 3397: '살피다', 3192: '병력', 5423: '호에', 3580: '소집', 4575: '전시', 4722: '조제', 2696: '대체복무', 4864: '직장', 2166: '고용주', 4625: '정당하다', 4893: '징역', 4938: '천만원', 3159: '벌금', 3160: '벌칙', 5505: '훈련기', 1462: 'reserve', 1764: 'trainingdear', 379: 'continued', 441: 'dedication', 730: 'hard', 1909: 'work', 1454: 'requests', 699: 'granting', 1079: 'military', 398: 'coverage', 749: 'highlighted', 1428: 'regrettable', 851: 'instances', 1883: 'were', 1268: 'penalized', 1693: 'terms', 1393: 'received', 1951: 'zero', 1379: 'quiz', 1319: 'preliminary', 102: 'andstudents', 150: 'asked', 1865: 'was', 1433: 'rejected', 639: 'forces', 443: 'defense', 1455: 'require', 707: 'guarantee', 1635: 'study', 1464: 'reservists', 93: 'amendment', 1350: 'prohibition', 476: 'disadvantageous', 1774: 'treatment', 1463: 'reservist', 440: 'decree', 954: 'law', 1432: 'reinforcing', 334: 'commitment', 1500: 'safeguard', 251: 'campuses', 156: 'associations', 1407: 'reemphasizing', 249: 'call', 1713: 'therefore', 268: 'careful', 663: 'fulfilling', 1168: 'obligations', 17: 'academically', 475: 'disadvantaged', 130: 'approving', 504: 'eams', 683: 'giving', 1838: 'various', 88: 'alternatives', 477: 'disadvantageswe', 1409: 'reference', 638: 'force', 1092: 'mobilization', 1530: 'security', 747: 'high', 316: 'classify', 12: 'absent', 1811: 'unfavorable', 1576: 'solely', 1651: 'summons', 1365: 'provisions', 1777: 'troops', 1864: 'wartime', 500: 'duties', 940: 'labor', 152: 'assessments', 143: 'articles', 1650: 'summoning', 832: 'individuals', 444: 'defined', 154: 'assignment', 1272: 'performance', 1849: 'violation', 898: 'job', 528: 'employer', 912: 'justifiable', 738: 'he', 1554: 'she', 1368: 'punishment', 819: 'imprisonment', 1925: 'years', 623: 'fine', 1080: 'million', 1905: 'won', 139: 'army', 1062: 'member', 1146: 'nor', 1775: 'treats', 1093: 'mobilized', 1806: 'undergoing', 1812: 'unfavorably', 1435: 'relation', 1104: 'monitoring', 1342: 'procedures', 959: 'learn', 335: 'commitments', 19: 'acceptable', 11: 'absencesreasonsallowed', 758: 'holidays', 825: 'included', 1657: 'supporting', 484: 'documentsmedical', 363: 'conscription', 539: 'enlistment', 1763: 'trainingactual', 276: 'causes', 991: 'listed', 967: 'leftcopy', 1213: 'ormilitary', 2000: '간인', 4273: '이선', 3669: '순화', 5015: '최희', 4501: '장연주', 3792: '심금', 3979: '영어권', 5012: '최효', 4718: '조윤정', 4617: '정경', 3908: '에세이', 5219: '프랑스사', 5506: '훈수', 3386: '산스크리트어', 4628: '정목', 2596: '노지영', 4081: '우제목', 2522: '김학겸수', 5325: '한지혜', 4506: '장자', 5503: '훈금', 4011: '오월', 4195: '윤월', 3065: '박상준', 4998: '최은지', 4661: '정인화', 4502: '장영란', 5448: '화목', 4989: '최승', 5258: '하이브리드', 2687: '대의', 3917: '여론', 4092: '욱수', 3741: '식화', 4192: '윤순', 1396: 'reciting', 993: 'literary', 677: 'gems', 2348: '권애', 761: 'hong', 927: 'kong', 752: 'history', 4236: '의미론', 2347: '권상희', 4308: '이정인', 5429: '호화', 3763: '신정아', 4505: '장익', 3161: '범금', 4658: '정유진', 3211: '보안', 2289: '구목', 74: 'alice', 908: 'julianna', 1928: 'yoo', 1555: 'sheila', 1671: 'tabor', 280: 'ce', 1610: 'stem', 746: 'henderson', 905: 'joshua', 1330: 'prigge', 4284: '이야기', 3599: '송필환화', 2544: '나유정', 4741: '종교', 3593: '송석랑월', 5417: '호금', 4318: '이창', 4201: '율월', 2510: '김정훈', 5438: '홍성', 2436: '기회', 5132: '통일', 1993: '각주', 4911: '참고문헌', 3526: '성법', 5281: '학생용', 4731: '존치', 3009: '미리보기', 5066: '캡쳐', 4065: '용수', 2733: '도성', 4415: '일후', 5260: '하자', 997: 'lms', 4662: '정일', 2439: '기후변화', 2320: '국어', 5171: '퍼스', 3092: '반도체', 2810: '디지털콘텐츠', 5144: '투어', 2844: '리즘', 2624: '니스', 621: 'finance', 5327: '한필수', 3041: '및비', 4480: '자하', 2367: '그다음', 4782: '줄다', 4899: '차례', 2371: '그렇다', 4521: '재다', 5511: '휴보', 4583: '전임', 3900: '업적', 4534: '재임용', 40: 'adherence', 248: 'calendar', 258: 'cancellations', 1825: 'ups', 866: 'introduced', 425: 'days', 343: 'compensated', 1459: 'rescheduled', 256: 'canceled', 569: 'events', 109: 'anniversary', 1201: 'opening', 1281: 'personal', 41: 'administer', 577: 'examinations', 369: 'consistently', 337: 'communicated', 113: 'announcements', 200: 'beginning', 1076: 'midterm', 576: 'examination', 1276: 'periods', 1622: 'strongly', 1211: 'organize', 339: 'communications', 1228: 'outside', 1468: 'respectively', 980: 'light', 1439: 'remind', 39: 'adhere', 1568: 'smooth', 666: 'functioning', 750: 'highly', 436: 'december', 1031: 'mandates', 964: 'lecturers', 26: 'achievement', 1242: 'part', 1391: 'reappointment', 255: 'cancel', 1446: 'report', 1460: 'rescheduling', 317: 'classrescheduling', 1639: 'submission', 558: 'essential', 422: 'dates', 757: 'holidaydecember', 652: 'foundation', 723: 'hangul', 310: 'circumstancesafter', 815: 'implementation', 372: 'consultation', 1625: 'studentsc', 352: 'comprises', 826: 'includes', 83: 'along', 78: 'allocated', 585: 'exmainations', 86: 'altered', 134: 'arbitrarily', 4046: '외로', 3575: '소원', 5042: '출자', 4812: '중택', 2313: '국립', 1958: 'zip', 5486: '회신', 2655: '답글', 3137: '배정자', 4237: '의비', 3431: '상자', 2626: '다니다', 5335: '함학', 2210: '공후', 4548: '적미', 2427: '기자', 4035: '외고', 2768: '동선', 2236: '관자', 3940: '연관', 5418: '호로', 3034: '민원', 2557: '남기다', 4025: '올바르다', 3271: '분대', 2763: '동문회', 3320: '비등', 2076: '거미', 5497: '후고', 3489: '서출', 4810: '중재', 2813: '따른', 2237: '관해', 1967: '周五', 4408: '일전', 1666: 'swiftcode', 1911: 'worldcupbuk', 1585: 'southkorea', 726: 'hankukuniversityofforeignstudies', 1450: 'republicofkorea', 1907: 'wooribank', 2390: '금미', 1994: '각회', 5291: '학자', 4456: '자등', 4251: '이대', 4462: '자상', 1979: '가비', 3714: '시부모', 3771: '신후', 4155: '유발', 1808: 'undergraduatetuitionpayment', 1876: 'weekendincluded', 667: 'functiononyourbankwebsiteorapp', 166: 'atthecounter', 1297: 'pmtuitionbillingperiod', 1787: 'tuitionbillisnotprintableafterthebillingperiod', 823: 'incaseyouneedthebilllater', 1338: 'printthatoutandkeepitseparately', 1873: 'wedonotconfirmtuitionpaymentviaphone', 1934: 'youcancheckitoutonwooribankwebsiteifyoupaidonyourwooribank', 1217: 'oryoucanalsoconfirmbyclicking', 797: 'icononhufsportalthedayafteryourpayment', 537: 'englishversionisalsoavailable', 808: 'ifyouwanttopay', 1631: 'studentunionfee', 1025: 'makesureyouadduptheamounttoyourtuition', 1948: 'yourvirtualaccountisone', 1743: 'timeuseonly', 491: 'donotusethevirtualaccountnumberforyouradmission', 1941: 'youmustusetheaccountnumberonyourlatesttuitionbill', 1885: 'whentransferringtuition', 807: 'ifyoudonotputtheexactamountoftuition', 1704: 'thebankwillnotacceptyourtransaction', 1935: 'youcannotpaytwiceorseparately', 1936: 'youcanonlyaddthe', 1758: 'tothetuitionifyouwantto', 806: 'ifyouarewillingtopayyourtuitionfromaforeignbankaccount', 1292: 'pleaseconsiderfilloutthisform', 885: 'itwillfastenyourtuitionprocess', 644: 'foreignexchangepaymentinfoinputlink', 1255: 'payingoverseastakeslongertimethandomestictransaction', 1289: 'planaheadtomakethedeadline', 1908: 'wooribankswiftcode', 1580: 'someforeignbanksrecognizesaboveswiftcodeashvbkkrsewooribankaddress', 1586: 'southkorearecipient', 1570: 'sname', 727: 'hankukuniversityofforeignstudiesrecipient', 1497: 'saddress', 1451: 'republicofkoreaphonenumber', 1937: 'youcanpayyourtuitionthroughinstallmentpaymentunless', 1940: 'youmissedinstallmentpaymentdeadlinelastsemester', 1932: 'youareafreshman', 1939: 'youhavealreadyregisteredmorethan', 124: 'applicationperiodforinstallmentpayment', 1746: 'toapplyforinstallmentpaymentgoto', 1261: 'paymentdeadlinesforinstallmentpayment', 1790: 'tuitionfeereductionforstudentsenrollingfor', 1729: 'thsemesterandup', 1629: 'studentswhoareenrollingfor', 1730: 'thsemesterandupareentitledfortuitionfeereductionundertheseconditions', 1791: 'tuitionfeereductionwillbebasedonyourregisteredcoursecreditsonthedeadlineforcourseregistrationchange', 1707: 'thedeadlineforcourseregistrationchangeis', 1721: 'thofmarch', 404: 'creditchangesduringcoursecancellationperiodwillnotaffectthetuitionfee', 1424: 'registrationperiodforstudentsenrollingfor', 1789: 'tuitionfeepaymentaccordingtothecreditsforcourseregistrationregisteredcreditstuitionfee', 1182: 'offulltuition', 1214: 'ormorefulltuition', 3485: '서재', 697: 'graduateschooltuitionpayment', 1426: 'registrationtime', 1193: 'onlinebanking', 804: 'ifthatisimportant', 2860: '마이크로', 3713: '시범', 2880: '말함', 1065: 'mena', 3811: '아세안', 4027: '와글', 3158: '벌겋다', 2395: '금융기관', 2746: '독성학', 3017: '미술사', 4148: '유라시아', 311: 'cis', 2974: '문의서', 3868: '양어', 2145: '계삲함', 5148: '트리', 5172: '페강', 802: 'ifl', 2594: '노자', 4574: '전송', 2077: '거짓', 2087: '검색', 2697: '대체휴일', 3449: '생리', 3928: '여학생', 3842: '알리', 2154: '고결', 4861: '직계존속', 5229: '프리랜서', 4376: '인턴', 3809: '아르바이트', 4621: '정규직', 4929: '채용', 4536: '재직', 2148: '계약', 2165: '고용', 4074: '우리나라', 2190: '공무원', 4436: '입사', 3152: '번더', 3954: '연수기', 5287: '학업성취도', 2649: '달성', 2845: '리포트', 2635: '다한', 5212: '표절', 5141: '퇴사', 2952: '무단', 2352: '권한', 3612: '수단', 2327: '국제경제', 3864: '양수', 5435: '홍병', 5414: '혜월', 3289: '불가리아인', 5159: '파이썬', 713: 'gwh', 2514: '김준', 3944: '연금', 3755: '신영수', 4200: '윤희수', 2463: '김상철', 2298: '구조', 4571: '전미라', 5428: '호티롱', 3832: '안목', 3959: '연진', 2499: '김인', 2689: '대중', 4153: '유명', 3415: '상목', 4198: '윤태중', 2550: '난민', 3670: '숨기다', 3078: '박재윤', 4275: '이송', 2507: '김정숙', 2472: '김수완', 2965: '문맥', 4066: '용어', 2506: '김정민', 3362: '사이드', 2448: '김다정', 3306: '붕익', 2590: '노르웨이', 3743: '신경언어학', 3742: '신경', 2350: '권지은', 5306: '한국인'}\n"
          ]
        }
      ]
    },
    {
      "cell_type": "markdown",
      "source": [
        "## Rank 알고리즘"
      ],
      "metadata": {
        "id": "c6CDSnS8CO7X"
      }
    },
    {
      "cell_type": "code",
      "source": [
        "print(words_graph.shape)\n",
        "print(words_graph)"
      ],
      "metadata": {
        "colab": {
          "base_uri": "https://localhost:8080/"
        },
        "id": "0PdymXBNJhq7",
        "outputId": "ee0e61b8-f65a-4426-80c8-956719389427"
      },
      "execution_count": null,
      "outputs": [
        {
          "output_type": "stream",
          "name": "stdout",
          "text": [
            "(5523, 5523)\n",
            "[[1.         0.         1.         ... 0.         0.         0.6761234 ]\n",
            " [0.         1.         0.         ... 0.         0.         0.3380617 ]\n",
            " [1.         0.         1.         ... 0.         0.         0.6761234 ]\n",
            " ...\n",
            " [0.         0.         0.         ... 1.         0.70710678 0.        ]\n",
            " [0.         0.         0.         ... 0.70710678 1.         0.        ]\n",
            " [0.6761234  0.3380617  0.6761234  ... 0.         0.         1.        ]]\n"
          ]
        }
      ]
    },
    {
      "cell_type": "code",
      "source": [
        "class Rank(object):\n",
        "    def get_ranks(self, graph, d=0.85): # d = damping factor\n",
        "        A = graph\n",
        "        matrix_size = A.shape[0]\n",
        "        for id in range(matrix_size):\n",
        "            A[id, id] = 0 # diagonal 부분을 0으로\n",
        "            link_sum = np.sum(A[:,id]) # A[:, id] = A[:][id]\n",
        "            if link_sum != 0:\n",
        "                A[:, id] /= link_sum\n",
        "            A[:, id] *= -d\n",
        "            A[id, id] = 1\n",
        "\n",
        "        B = (1-d) * np.ones((matrix_size, 1))\n",
        "        ranks = np.linalg.solve(A, B) # 연립방정식 Ax = b\n",
        "        return {idx: r[0] for idx, r in enumerate(ranks)}"
      ],
      "metadata": {
        "id": "qSNaoWdHCO7Y"
      },
      "execution_count": null,
      "outputs": []
    },
    {
      "cell_type": "code",
      "source": [
        "import numpy as np\n",
        "from scipy.sparse import csr_matrix, diags\n",
        "from scipy.sparse.linalg import spsolve\n",
        "\n",
        "class Rank(object):\n",
        "    def get_ranks(self, graph, d=0.85): # d = damping factor\n",
        "        A = graph.copy()  # 원래 행렬을 수정하지 않도록 복사본을 사용\n",
        "        matrix_size = A.shape[0]\n",
        "\n",
        "        # A 행렬을 희소 행렬로 변환\n",
        "        A = csr_matrix(A)\n",
        "\n",
        "        for id in range(matrix_size):\n",
        "            A[id, id] = 0  # 대각선 요소를 0으로 설정\n",
        "            link_sum = np.sum(A[:, id])  # 열의 합 계산\n",
        "            if link_sum != 0:\n",
        "                A[:, id] /= link_sum  # 정규화\n",
        "            A[:, id] *= -d  # -d 곱하기\n",
        "            A[id, id] = 1  # 대각선 요소를 다시 1로 설정\n",
        "\n",
        "        B = (1 - d) * np.ones((matrix_size, 1))\n",
        "\n",
        "        # 희소 행렬을 사용하여 방정식 풀이\n",
        "        A_sparse = csr_matrix(A)\n",
        "        ranks = spsolve(A_sparse, B)  # 희소 행렬 방정식 풀이\n",
        "        return {idx: r for idx, r in enumerate(ranks)}\n",
        "\n",
        "# Rank 인스턴스 생성\n",
        "rank = Rank()\n",
        "\n",
        "# 데이터프레임에서 'tokenize' 열의 결측값 제거\n",
        "haksa_copy.dropna(subset=['tokenize'], inplace=True)\n",
        "\n",
        "# GraphMatrix 클래스 정의\n",
        "class GraphMatrix(object):\n",
        "    def __init__(self):\n",
        "        self.tfidf = TfidfVectorizer()\n",
        "        self.cnt_vec = CountVectorizer()\n",
        "        self.graph_sentence = []\n",
        "\n",
        "    def build_sent_graph(self, sentence):\n",
        "        tfidf_mat = self.tfidf.fit_transform(sentence).toarray()\n",
        "        self.graph_sentence = np.dot(tfidf_mat, tfidf_mat.T)\n",
        "        return self.graph_sentence\n",
        "\n",
        "    def build_words_graph(self, sentence):\n",
        "        cnt_vec_mat = self.cnt_vec.fit_transform(sentence).toarray().astype(float)\n",
        "        cnt_vec_mat = normalize(cnt_vec_mat, axis=0)  # 열에 대해 정규화\n",
        "        cnt_vec_mat_sparse = csr_matrix(cnt_vec_mat)\n",
        "        graph = cnt_vec_mat_sparse.T.dot(cnt_vec_mat_sparse).toarray()\n",
        "        return graph, {idx: word for word, idx in self.cnt_vec.vocabulary_.items()}\n",
        "\n",
        "# 데이터프레임에서 'tokenize' 열 데이터 추출\n",
        "# 리스트의 리스트를 문자열의 리스트로 변환\n",
        "content_data = [' '.join(tokens) for tokens in haksa_copy['tokenize'].tolist()]\n",
        "\n",
        "# GraphMatrix 인스턴스 생성\n",
        "graph_matrix = GraphMatrix()\n",
        "\n",
        "# 문장 그래프 구축\n",
        "sentence_graph = graph_matrix.build_sent_graph(content_data)\n",
        "print(\"Sentence Graph:\")\n",
        "print(sentence_graph)\n",
        "\n",
        "# 단어 그래프 및 인덱스-단어 매핑 구축\n",
        "words_graph, idx_to_word = graph_matrix.build_words_graph(content_data)\n",
        "print(\"Words Graph:\")\n",
        "print(words_graph)\n",
        "\n",
        "# Rank 인스턴스 생성\n",
        "rank = Rank()\n",
        "\n",
        "# 랭킹 계산\n",
        "ranks = rank.get_ranks(words_graph)\n",
        "sorted_ranks = {idx_to_word[idx]: rank for idx, rank in sorted(ranks.items(), key=lambda item: item[1], reverse=True)}\n",
        "\n",
        "# 결과 출력\n",
        "print(\"Word Ranks:\")\n",
        "for word, rank in sorted_ranks.items():\n",
        "    print(f\"{word}: {rank:.4f}\")\n"
      ],
      "metadata": {
        "colab": {
          "base_uri": "https://localhost:8080/",
          "height": 373
        },
        "id": "hq5fWCRTSeJP",
        "outputId": "1b2889e9-c7f8-4c82-d876-d5496eda6699"
      },
      "execution_count": null,
      "outputs": [
        {
          "output_type": "error",
          "ename": "ValueError",
          "evalue": "empty vocabulary; perhaps the documents only contain stop words",
          "traceback": [
            "\u001b[0;31m---------------------------------------------------------------------------\u001b[0m",
            "\u001b[0;31mValueError\u001b[0m                                Traceback (most recent call last)",
            "\u001b[0;32m<ipython-input-29-e24ad5090197>\u001b[0m in \u001b[0;36m<cell line: 61>\u001b[0;34m()\u001b[0m\n\u001b[1;32m     59\u001b[0m \u001b[0;34m\u001b[0m\u001b[0m\n\u001b[1;32m     60\u001b[0m \u001b[0;31m# 문장 그래프 구축\u001b[0m\u001b[0;34m\u001b[0m\u001b[0;34m\u001b[0m\u001b[0m\n\u001b[0;32m---> 61\u001b[0;31m \u001b[0msentence_graph\u001b[0m \u001b[0;34m=\u001b[0m \u001b[0mgraph_matrix\u001b[0m\u001b[0;34m.\u001b[0m\u001b[0mbuild_sent_graph\u001b[0m\u001b[0;34m(\u001b[0m\u001b[0mcontent_data\u001b[0m\u001b[0;34m)\u001b[0m\u001b[0;34m\u001b[0m\u001b[0;34m\u001b[0m\u001b[0m\n\u001b[0m\u001b[1;32m     62\u001b[0m \u001b[0mprint\u001b[0m\u001b[0;34m(\u001b[0m\u001b[0;34m\"Sentence Graph:\"\u001b[0m\u001b[0;34m)\u001b[0m\u001b[0;34m\u001b[0m\u001b[0;34m\u001b[0m\u001b[0m\n\u001b[1;32m     63\u001b[0m \u001b[0mprint\u001b[0m\u001b[0;34m(\u001b[0m\u001b[0msentence_graph\u001b[0m\u001b[0;34m)\u001b[0m\u001b[0;34m\u001b[0m\u001b[0;34m\u001b[0m\u001b[0m\n",
            "\u001b[0;32m<ipython-input-29-e24ad5090197>\u001b[0m in \u001b[0;36mbuild_sent_graph\u001b[0;34m(self, sentence)\u001b[0m\n\u001b[1;32m     40\u001b[0m \u001b[0;34m\u001b[0m\u001b[0m\n\u001b[1;32m     41\u001b[0m     \u001b[0;32mdef\u001b[0m \u001b[0mbuild_sent_graph\u001b[0m\u001b[0;34m(\u001b[0m\u001b[0mself\u001b[0m\u001b[0;34m,\u001b[0m \u001b[0msentence\u001b[0m\u001b[0;34m)\u001b[0m\u001b[0;34m:\u001b[0m\u001b[0;34m\u001b[0m\u001b[0;34m\u001b[0m\u001b[0m\n\u001b[0;32m---> 42\u001b[0;31m         \u001b[0mtfidf_mat\u001b[0m \u001b[0;34m=\u001b[0m \u001b[0mself\u001b[0m\u001b[0;34m.\u001b[0m\u001b[0mtfidf\u001b[0m\u001b[0;34m.\u001b[0m\u001b[0mfit_transform\u001b[0m\u001b[0;34m(\u001b[0m\u001b[0msentence\u001b[0m\u001b[0;34m)\u001b[0m\u001b[0;34m.\u001b[0m\u001b[0mtoarray\u001b[0m\u001b[0;34m(\u001b[0m\u001b[0;34m)\u001b[0m\u001b[0;34m\u001b[0m\u001b[0;34m\u001b[0m\u001b[0m\n\u001b[0m\u001b[1;32m     43\u001b[0m         \u001b[0mself\u001b[0m\u001b[0;34m.\u001b[0m\u001b[0mgraph_sentence\u001b[0m \u001b[0;34m=\u001b[0m \u001b[0mnp\u001b[0m\u001b[0;34m.\u001b[0m\u001b[0mdot\u001b[0m\u001b[0;34m(\u001b[0m\u001b[0mtfidf_mat\u001b[0m\u001b[0;34m,\u001b[0m \u001b[0mtfidf_mat\u001b[0m\u001b[0;34m.\u001b[0m\u001b[0mT\u001b[0m\u001b[0;34m)\u001b[0m\u001b[0;34m\u001b[0m\u001b[0;34m\u001b[0m\u001b[0m\n\u001b[1;32m     44\u001b[0m         \u001b[0;32mreturn\u001b[0m \u001b[0mself\u001b[0m\u001b[0;34m.\u001b[0m\u001b[0mgraph_sentence\u001b[0m\u001b[0;34m\u001b[0m\u001b[0;34m\u001b[0m\u001b[0m\n",
            "\u001b[0;32m/usr/local/lib/python3.10/dist-packages/sklearn/feature_extraction/text.py\u001b[0m in \u001b[0;36mfit_transform\u001b[0;34m(self, raw_documents, y)\u001b[0m\n\u001b[1;32m   2131\u001b[0m             \u001b[0msublinear_tf\u001b[0m\u001b[0;34m=\u001b[0m\u001b[0mself\u001b[0m\u001b[0;34m.\u001b[0m\u001b[0msublinear_tf\u001b[0m\u001b[0;34m,\u001b[0m\u001b[0;34m\u001b[0m\u001b[0;34m\u001b[0m\u001b[0m\n\u001b[1;32m   2132\u001b[0m         )\n\u001b[0;32m-> 2133\u001b[0;31m         \u001b[0mX\u001b[0m \u001b[0;34m=\u001b[0m \u001b[0msuper\u001b[0m\u001b[0;34m(\u001b[0m\u001b[0;34m)\u001b[0m\u001b[0;34m.\u001b[0m\u001b[0mfit_transform\u001b[0m\u001b[0;34m(\u001b[0m\u001b[0mraw_documents\u001b[0m\u001b[0;34m)\u001b[0m\u001b[0;34m\u001b[0m\u001b[0;34m\u001b[0m\u001b[0m\n\u001b[0m\u001b[1;32m   2134\u001b[0m         \u001b[0mself\u001b[0m\u001b[0;34m.\u001b[0m\u001b[0m_tfidf\u001b[0m\u001b[0;34m.\u001b[0m\u001b[0mfit\u001b[0m\u001b[0;34m(\u001b[0m\u001b[0mX\u001b[0m\u001b[0;34m)\u001b[0m\u001b[0;34m\u001b[0m\u001b[0;34m\u001b[0m\u001b[0m\n\u001b[1;32m   2135\u001b[0m         \u001b[0;31m# X is already a transformed view of raw_documents so\u001b[0m\u001b[0;34m\u001b[0m\u001b[0;34m\u001b[0m\u001b[0m\n",
            "\u001b[0;32m/usr/local/lib/python3.10/dist-packages/sklearn/feature_extraction/text.py\u001b[0m in \u001b[0;36mfit_transform\u001b[0;34m(self, raw_documents, y)\u001b[0m\n\u001b[1;32m   1386\u001b[0m                     \u001b[0;32mbreak\u001b[0m\u001b[0;34m\u001b[0m\u001b[0;34m\u001b[0m\u001b[0m\n\u001b[1;32m   1387\u001b[0m \u001b[0;34m\u001b[0m\u001b[0m\n\u001b[0;32m-> 1388\u001b[0;31m         \u001b[0mvocabulary\u001b[0m\u001b[0;34m,\u001b[0m \u001b[0mX\u001b[0m \u001b[0;34m=\u001b[0m \u001b[0mself\u001b[0m\u001b[0;34m.\u001b[0m\u001b[0m_count_vocab\u001b[0m\u001b[0;34m(\u001b[0m\u001b[0mraw_documents\u001b[0m\u001b[0;34m,\u001b[0m \u001b[0mself\u001b[0m\u001b[0;34m.\u001b[0m\u001b[0mfixed_vocabulary_\u001b[0m\u001b[0;34m)\u001b[0m\u001b[0;34m\u001b[0m\u001b[0;34m\u001b[0m\u001b[0m\n\u001b[0m\u001b[1;32m   1389\u001b[0m \u001b[0;34m\u001b[0m\u001b[0m\n\u001b[1;32m   1390\u001b[0m         \u001b[0;32mif\u001b[0m \u001b[0mself\u001b[0m\u001b[0;34m.\u001b[0m\u001b[0mbinary\u001b[0m\u001b[0;34m:\u001b[0m\u001b[0;34m\u001b[0m\u001b[0;34m\u001b[0m\u001b[0m\n",
            "\u001b[0;32m/usr/local/lib/python3.10/dist-packages/sklearn/feature_extraction/text.py\u001b[0m in \u001b[0;36m_count_vocab\u001b[0;34m(self, raw_documents, fixed_vocab)\u001b[0m\n\u001b[1;32m   1292\u001b[0m             \u001b[0mvocabulary\u001b[0m \u001b[0;34m=\u001b[0m \u001b[0mdict\u001b[0m\u001b[0;34m(\u001b[0m\u001b[0mvocabulary\u001b[0m\u001b[0;34m)\u001b[0m\u001b[0;34m\u001b[0m\u001b[0;34m\u001b[0m\u001b[0m\n\u001b[1;32m   1293\u001b[0m             \u001b[0;32mif\u001b[0m \u001b[0;32mnot\u001b[0m \u001b[0mvocabulary\u001b[0m\u001b[0;34m:\u001b[0m\u001b[0;34m\u001b[0m\u001b[0;34m\u001b[0m\u001b[0m\n\u001b[0;32m-> 1294\u001b[0;31m                 raise ValueError(\n\u001b[0m\u001b[1;32m   1295\u001b[0m                     \u001b[0;34m\"empty vocabulary; perhaps the documents only contain stop words\"\u001b[0m\u001b[0;34m\u001b[0m\u001b[0;34m\u001b[0m\u001b[0m\n\u001b[1;32m   1296\u001b[0m                 )\n",
            "\u001b[0;31mValueError\u001b[0m: empty vocabulary; perhaps the documents only contain stop words"
          ]
        }
      ]
    },
    {
      "cell_type": "code",
      "source": [
        "# Rank 인스턴스 생성\n",
        "rank = Rank()\n",
        "\n",
        "# 랭킹 계산\n",
        "ranks = rank.get_ranks(words_graph)\n",
        "sorted_ranks = {idx_to_word[idx]: rank for idx, rank in sorted(ranks.items(), key=lambda item: item[1], reverse=True)}\n",
        "\n",
        "# 결과 출력\n",
        "print(\"Word Ranks:\")\n",
        "for word, rank in sorted_ranks.items():\n",
        "    print(f\"{word}: {rank:.4f}\")"
      ],
      "metadata": {
        "id": "KzqZ5732CO7Z",
        "colab": {
          "base_uri": "https://localhost:8080/",
          "height": 373
        },
        "outputId": "9bc40407-8d55-40d5-9e20-7fec51cc8964"
      },
      "execution_count": null,
      "outputs": [
        {
          "output_type": "error",
          "ename": "KeyboardInterrupt",
          "evalue": "",
          "traceback": [
            "\u001b[0;31m---------------------------------------------------------------------------\u001b[0m",
            "\u001b[0;31mKeyboardInterrupt\u001b[0m                         Traceback (most recent call last)",
            "\u001b[0;32m<ipython-input-30-39a5f4d7bef0>\u001b[0m in \u001b[0;36m<cell line: 5>\u001b[0;34m()\u001b[0m\n\u001b[1;32m      3\u001b[0m \u001b[0;34m\u001b[0m\u001b[0m\n\u001b[1;32m      4\u001b[0m \u001b[0;31m# 랭킹 계산\u001b[0m\u001b[0;34m\u001b[0m\u001b[0;34m\u001b[0m\u001b[0m\n\u001b[0;32m----> 5\u001b[0;31m \u001b[0mranks\u001b[0m \u001b[0;34m=\u001b[0m \u001b[0mrank\u001b[0m\u001b[0;34m.\u001b[0m\u001b[0mget_ranks\u001b[0m\u001b[0;34m(\u001b[0m\u001b[0mwords_graph\u001b[0m\u001b[0;34m)\u001b[0m\u001b[0;34m\u001b[0m\u001b[0;34m\u001b[0m\u001b[0m\n\u001b[0m\u001b[1;32m      6\u001b[0m \u001b[0msorted_ranks\u001b[0m \u001b[0;34m=\u001b[0m \u001b[0;34m{\u001b[0m\u001b[0midx_to_word\u001b[0m\u001b[0;34m[\u001b[0m\u001b[0midx\u001b[0m\u001b[0;34m]\u001b[0m\u001b[0;34m:\u001b[0m \u001b[0mrank\u001b[0m \u001b[0;32mfor\u001b[0m \u001b[0midx\u001b[0m\u001b[0;34m,\u001b[0m \u001b[0mrank\u001b[0m \u001b[0;32min\u001b[0m \u001b[0msorted\u001b[0m\u001b[0;34m(\u001b[0m\u001b[0mranks\u001b[0m\u001b[0;34m.\u001b[0m\u001b[0mitems\u001b[0m\u001b[0;34m(\u001b[0m\u001b[0;34m)\u001b[0m\u001b[0;34m,\u001b[0m \u001b[0mkey\u001b[0m\u001b[0;34m=\u001b[0m\u001b[0;32mlambda\u001b[0m \u001b[0mitem\u001b[0m\u001b[0;34m:\u001b[0m \u001b[0mitem\u001b[0m\u001b[0;34m[\u001b[0m\u001b[0;36m1\u001b[0m\u001b[0;34m]\u001b[0m\u001b[0;34m,\u001b[0m \u001b[0mreverse\u001b[0m\u001b[0;34m=\u001b[0m\u001b[0;32mTrue\u001b[0m\u001b[0;34m)\u001b[0m\u001b[0;34m}\u001b[0m\u001b[0;34m\u001b[0m\u001b[0;34m\u001b[0m\u001b[0m\n\u001b[1;32m      7\u001b[0m \u001b[0;34m\u001b[0m\u001b[0m\n",
            "\u001b[0;32m<ipython-input-29-e24ad5090197>\u001b[0m in \u001b[0;36mget_ranks\u001b[0;34m(self, graph, d)\u001b[0m\n\u001b[1;32m     17\u001b[0m                 \u001b[0mA\u001b[0m\u001b[0;34m[\u001b[0m\u001b[0;34m:\u001b[0m\u001b[0;34m,\u001b[0m \u001b[0mid\u001b[0m\u001b[0;34m]\u001b[0m \u001b[0;34m/=\u001b[0m \u001b[0mlink_sum\u001b[0m  \u001b[0;31m# 정규화\u001b[0m\u001b[0;34m\u001b[0m\u001b[0;34m\u001b[0m\u001b[0m\n\u001b[1;32m     18\u001b[0m             \u001b[0mA\u001b[0m\u001b[0;34m[\u001b[0m\u001b[0;34m:\u001b[0m\u001b[0;34m,\u001b[0m \u001b[0mid\u001b[0m\u001b[0;34m]\u001b[0m \u001b[0;34m*=\u001b[0m \u001b[0;34m-\u001b[0m\u001b[0md\u001b[0m  \u001b[0;31m# -d 곱하기\u001b[0m\u001b[0;34m\u001b[0m\u001b[0;34m\u001b[0m\u001b[0m\n\u001b[0;32m---> 19\u001b[0;31m             \u001b[0mA\u001b[0m\u001b[0;34m[\u001b[0m\u001b[0mid\u001b[0m\u001b[0;34m,\u001b[0m \u001b[0mid\u001b[0m\u001b[0;34m]\u001b[0m \u001b[0;34m=\u001b[0m \u001b[0;36m1\u001b[0m  \u001b[0;31m# 대각선 요소를 다시 1로 설정\u001b[0m\u001b[0;34m\u001b[0m\u001b[0;34m\u001b[0m\u001b[0m\n\u001b[0m\u001b[1;32m     20\u001b[0m \u001b[0;34m\u001b[0m\u001b[0m\n\u001b[1;32m     21\u001b[0m         \u001b[0mB\u001b[0m \u001b[0;34m=\u001b[0m \u001b[0;34m(\u001b[0m\u001b[0;36m1\u001b[0m \u001b[0;34m-\u001b[0m \u001b[0md\u001b[0m\u001b[0;34m)\u001b[0m \u001b[0;34m*\u001b[0m \u001b[0mnp\u001b[0m\u001b[0;34m.\u001b[0m\u001b[0mones\u001b[0m\u001b[0;34m(\u001b[0m\u001b[0;34m(\u001b[0m\u001b[0mmatrix_size\u001b[0m\u001b[0;34m,\u001b[0m \u001b[0;36m1\u001b[0m\u001b[0;34m)\u001b[0m\u001b[0;34m)\u001b[0m\u001b[0;34m\u001b[0m\u001b[0;34m\u001b[0m\u001b[0m\n",
            "\u001b[0;32m/usr/local/lib/python3.10/dist-packages/scipy/sparse/_index.py\u001b[0m in \u001b[0;36m__setitem__\u001b[0;34m(self, key, x)\u001b[0m\n\u001b[1;32m     98\u001b[0m             \u001b[0;32mif\u001b[0m \u001b[0mx\u001b[0m\u001b[0;34m.\u001b[0m\u001b[0msize\u001b[0m \u001b[0;34m!=\u001b[0m \u001b[0;36m1\u001b[0m\u001b[0;34m:\u001b[0m\u001b[0;34m\u001b[0m\u001b[0;34m\u001b[0m\u001b[0m\n\u001b[1;32m     99\u001b[0m                 \u001b[0;32mraise\u001b[0m \u001b[0mValueError\u001b[0m\u001b[0;34m(\u001b[0m\u001b[0;34m'Trying to assign a sequence to an item'\u001b[0m\u001b[0;34m)\u001b[0m\u001b[0;34m\u001b[0m\u001b[0;34m\u001b[0m\u001b[0m\n\u001b[0;32m--> 100\u001b[0;31m             \u001b[0mself\u001b[0m\u001b[0;34m.\u001b[0m\u001b[0m_set_intXint\u001b[0m\u001b[0;34m(\u001b[0m\u001b[0mrow\u001b[0m\u001b[0;34m,\u001b[0m \u001b[0mcol\u001b[0m\u001b[0;34m,\u001b[0m \u001b[0mx\u001b[0m\u001b[0;34m.\u001b[0m\u001b[0mflat\u001b[0m\u001b[0;34m[\u001b[0m\u001b[0;36m0\u001b[0m\u001b[0;34m]\u001b[0m\u001b[0;34m)\u001b[0m\u001b[0;34m\u001b[0m\u001b[0;34m\u001b[0m\u001b[0m\n\u001b[0m\u001b[1;32m    101\u001b[0m             \u001b[0;32mreturn\u001b[0m\u001b[0;34m\u001b[0m\u001b[0;34m\u001b[0m\u001b[0m\n\u001b[1;32m    102\u001b[0m \u001b[0;34m\u001b[0m\u001b[0m\n",
            "\u001b[0;32m/usr/local/lib/python3.10/dist-packages/scipy/sparse/_compressed.py\u001b[0m in \u001b[0;36m_set_intXint\u001b[0;34m(self, row, col, x)\u001b[0m\n\u001b[1;32m    816\u001b[0m     \u001b[0;32mdef\u001b[0m \u001b[0m_set_intXint\u001b[0m\u001b[0;34m(\u001b[0m\u001b[0mself\u001b[0m\u001b[0;34m,\u001b[0m \u001b[0mrow\u001b[0m\u001b[0;34m,\u001b[0m \u001b[0mcol\u001b[0m\u001b[0;34m,\u001b[0m \u001b[0mx\u001b[0m\u001b[0;34m)\u001b[0m\u001b[0;34m:\u001b[0m\u001b[0;34m\u001b[0m\u001b[0;34m\u001b[0m\u001b[0m\n\u001b[1;32m    817\u001b[0m         \u001b[0mi\u001b[0m\u001b[0;34m,\u001b[0m \u001b[0mj\u001b[0m \u001b[0;34m=\u001b[0m \u001b[0mself\u001b[0m\u001b[0;34m.\u001b[0m\u001b[0m_swap\u001b[0m\u001b[0;34m(\u001b[0m\u001b[0;34m(\u001b[0m\u001b[0mrow\u001b[0m\u001b[0;34m,\u001b[0m \u001b[0mcol\u001b[0m\u001b[0;34m)\u001b[0m\u001b[0;34m)\u001b[0m\u001b[0;34m\u001b[0m\u001b[0;34m\u001b[0m\u001b[0m\n\u001b[0;32m--> 818\u001b[0;31m         \u001b[0mself\u001b[0m\u001b[0;34m.\u001b[0m\u001b[0m_set_many\u001b[0m\u001b[0;34m(\u001b[0m\u001b[0mi\u001b[0m\u001b[0;34m,\u001b[0m \u001b[0mj\u001b[0m\u001b[0;34m,\u001b[0m \u001b[0mx\u001b[0m\u001b[0;34m)\u001b[0m\u001b[0;34m\u001b[0m\u001b[0;34m\u001b[0m\u001b[0m\n\u001b[0m\u001b[1;32m    819\u001b[0m \u001b[0;34m\u001b[0m\u001b[0m\n\u001b[1;32m    820\u001b[0m     \u001b[0;32mdef\u001b[0m \u001b[0m_set_arrayXarray\u001b[0m\u001b[0;34m(\u001b[0m\u001b[0mself\u001b[0m\u001b[0;34m,\u001b[0m \u001b[0mrow\u001b[0m\u001b[0;34m,\u001b[0m \u001b[0mcol\u001b[0m\u001b[0;34m,\u001b[0m \u001b[0mx\u001b[0m\u001b[0;34m)\u001b[0m\u001b[0;34m:\u001b[0m\u001b[0;34m\u001b[0m\u001b[0;34m\u001b[0m\u001b[0m\n",
            "\u001b[0;32m/usr/local/lib/python3.10/dist-packages/scipy/sparse/_compressed.py\u001b[0m in \u001b[0;36m_set_many\u001b[0;34m(self, i, j, x)\u001b[0m\n\u001b[1;32m    902\u001b[0m         \u001b[0mduplicate\u001b[0m \u001b[0mentries\u001b[0m\u001b[0;34m.\u001b[0m\u001b[0;34m\u001b[0m\u001b[0;34m\u001b[0m\u001b[0m\n\u001b[1;32m    903\u001b[0m         \"\"\"\n\u001b[0;32m--> 904\u001b[0;31m         \u001b[0mi\u001b[0m\u001b[0;34m,\u001b[0m \u001b[0mj\u001b[0m\u001b[0;34m,\u001b[0m \u001b[0mM\u001b[0m\u001b[0;34m,\u001b[0m \u001b[0mN\u001b[0m \u001b[0;34m=\u001b[0m \u001b[0mself\u001b[0m\u001b[0;34m.\u001b[0m\u001b[0m_prepare_indices\u001b[0m\u001b[0;34m(\u001b[0m\u001b[0mi\u001b[0m\u001b[0;34m,\u001b[0m \u001b[0mj\u001b[0m\u001b[0;34m)\u001b[0m\u001b[0;34m\u001b[0m\u001b[0;34m\u001b[0m\u001b[0m\n\u001b[0m\u001b[1;32m    905\u001b[0m         \u001b[0mx\u001b[0m \u001b[0;34m=\u001b[0m \u001b[0mnp\u001b[0m\u001b[0;34m.\u001b[0m\u001b[0marray\u001b[0m\u001b[0;34m(\u001b[0m\u001b[0mx\u001b[0m\u001b[0;34m,\u001b[0m \u001b[0mdtype\u001b[0m\u001b[0;34m=\u001b[0m\u001b[0mself\u001b[0m\u001b[0;34m.\u001b[0m\u001b[0mdtype\u001b[0m\u001b[0;34m,\u001b[0m \u001b[0mcopy\u001b[0m\u001b[0;34m=\u001b[0m\u001b[0;32mFalse\u001b[0m\u001b[0;34m,\u001b[0m \u001b[0mndmin\u001b[0m\u001b[0;34m=\u001b[0m\u001b[0;36m1\u001b[0m\u001b[0;34m)\u001b[0m\u001b[0;34m.\u001b[0m\u001b[0mravel\u001b[0m\u001b[0;34m(\u001b[0m\u001b[0;34m)\u001b[0m\u001b[0;34m\u001b[0m\u001b[0;34m\u001b[0m\u001b[0m\n\u001b[1;32m    906\u001b[0m \u001b[0;34m\u001b[0m\u001b[0m\n",
            "\u001b[0;32m/usr/local/lib/python3.10/dist-packages/scipy/sparse/_compressed.py\u001b[0m in \u001b[0;36m_prepare_indices\u001b[0;34m(self, i, j)\u001b[0m\n\u001b[1;32m    892\u001b[0m         \u001b[0mi\u001b[0m \u001b[0;34m=\u001b[0m \u001b[0mnp\u001b[0m\u001b[0;34m.\u001b[0m\u001b[0marray\u001b[0m\u001b[0;34m(\u001b[0m\u001b[0mi\u001b[0m\u001b[0;34m,\u001b[0m \u001b[0mdtype\u001b[0m\u001b[0;34m=\u001b[0m\u001b[0mself\u001b[0m\u001b[0;34m.\u001b[0m\u001b[0mindices\u001b[0m\u001b[0;34m.\u001b[0m\u001b[0mdtype\u001b[0m\u001b[0;34m,\u001b[0m \u001b[0mcopy\u001b[0m\u001b[0;34m=\u001b[0m\u001b[0;32mFalse\u001b[0m\u001b[0;34m,\u001b[0m \u001b[0mndmin\u001b[0m\u001b[0;34m=\u001b[0m\u001b[0;36m1\u001b[0m\u001b[0;34m)\u001b[0m\u001b[0;34m.\u001b[0m\u001b[0mravel\u001b[0m\u001b[0;34m(\u001b[0m\u001b[0;34m)\u001b[0m\u001b[0;34m\u001b[0m\u001b[0;34m\u001b[0m\u001b[0m\n\u001b[1;32m    893\u001b[0m         \u001b[0mj\u001b[0m \u001b[0;34m=\u001b[0m \u001b[0mnp\u001b[0m\u001b[0;34m.\u001b[0m\u001b[0marray\u001b[0m\u001b[0;34m(\u001b[0m\u001b[0mj\u001b[0m\u001b[0;34m,\u001b[0m \u001b[0mdtype\u001b[0m\u001b[0;34m=\u001b[0m\u001b[0mself\u001b[0m\u001b[0;34m.\u001b[0m\u001b[0mindices\u001b[0m\u001b[0;34m.\u001b[0m\u001b[0mdtype\u001b[0m\u001b[0;34m,\u001b[0m \u001b[0mcopy\u001b[0m\u001b[0;34m=\u001b[0m\u001b[0;32mFalse\u001b[0m\u001b[0;34m,\u001b[0m \u001b[0mndmin\u001b[0m\u001b[0;34m=\u001b[0m\u001b[0;36m1\u001b[0m\u001b[0;34m)\u001b[0m\u001b[0;34m.\u001b[0m\u001b[0mravel\u001b[0m\u001b[0;34m(\u001b[0m\u001b[0;34m)\u001b[0m\u001b[0;34m\u001b[0m\u001b[0;34m\u001b[0m\u001b[0m\n\u001b[0;32m--> 894\u001b[0;31m         \u001b[0mcheck_bounds\u001b[0m\u001b[0;34m(\u001b[0m\u001b[0mi\u001b[0m\u001b[0;34m,\u001b[0m \u001b[0mM\u001b[0m\u001b[0;34m)\u001b[0m\u001b[0;34m\u001b[0m\u001b[0;34m\u001b[0m\u001b[0m\n\u001b[0m\u001b[1;32m    895\u001b[0m         \u001b[0mcheck_bounds\u001b[0m\u001b[0;34m(\u001b[0m\u001b[0mj\u001b[0m\u001b[0;34m,\u001b[0m \u001b[0mN\u001b[0m\u001b[0;34m)\u001b[0m\u001b[0;34m\u001b[0m\u001b[0;34m\u001b[0m\u001b[0m\n\u001b[1;32m    896\u001b[0m         \u001b[0;32mreturn\u001b[0m \u001b[0mi\u001b[0m\u001b[0;34m,\u001b[0m \u001b[0mj\u001b[0m\u001b[0;34m,\u001b[0m \u001b[0mM\u001b[0m\u001b[0;34m,\u001b[0m \u001b[0mN\u001b[0m\u001b[0;34m\u001b[0m\u001b[0;34m\u001b[0m\u001b[0m\n",
            "\u001b[0;32m/usr/local/lib/python3.10/dist-packages/scipy/sparse/_compressed.py\u001b[0m in \u001b[0;36mcheck_bounds\u001b[0;34m(indices, bound)\u001b[0m\n\u001b[1;32m    881\u001b[0m \u001b[0;34m\u001b[0m\u001b[0m\n\u001b[1;32m    882\u001b[0m         \u001b[0;32mdef\u001b[0m \u001b[0mcheck_bounds\u001b[0m\u001b[0;34m(\u001b[0m\u001b[0mindices\u001b[0m\u001b[0;34m,\u001b[0m \u001b[0mbound\u001b[0m\u001b[0;34m)\u001b[0m\u001b[0;34m:\u001b[0m\u001b[0;34m\u001b[0m\u001b[0;34m\u001b[0m\u001b[0m\n\u001b[0;32m--> 883\u001b[0;31m             \u001b[0midx\u001b[0m \u001b[0;34m=\u001b[0m \u001b[0mindices\u001b[0m\u001b[0;34m.\u001b[0m\u001b[0mmax\u001b[0m\u001b[0;34m(\u001b[0m\u001b[0;34m)\u001b[0m\u001b[0;34m\u001b[0m\u001b[0;34m\u001b[0m\u001b[0m\n\u001b[0m\u001b[1;32m    884\u001b[0m             \u001b[0;32mif\u001b[0m \u001b[0midx\u001b[0m \u001b[0;34m>=\u001b[0m \u001b[0mbound\u001b[0m\u001b[0;34m:\u001b[0m\u001b[0;34m\u001b[0m\u001b[0;34m\u001b[0m\u001b[0m\n\u001b[1;32m    885\u001b[0m                 raise IndexError('index (%d) out of range (>= %d)' %\n",
            "\u001b[0;31mKeyboardInterrupt\u001b[0m: "
          ]
        }
      ]
    },
    {
      "cell_type": "code",
      "source": [
        "# 메모리 사용량을 줄이기 위한 분할 계산으로 코드 수정\n",
        "\n",
        "class Rank(object):\n",
        "    def get_ranks(self, graph, d=0.85): # d = damping factor\n",
        "        matrix_size = graph.shape[0]\n",
        "        ranks = np.zeros(matrix_size)\n",
        "\n",
        "        # 그래프를 작은 부분 그래프로 분할하여 처리\n",
        "        batch_size = 100  # 작은 배치 크기 지정\n",
        "        num_batches = matrix_size // batch_size + 1\n",
        "\n",
        "        for batch_idx in range(num_batches):\n",
        "            start_idx = batch_idx * batch_size\n",
        "            end_idx = min((batch_idx + 1) * batch_size, matrix_size)\n",
        "\n",
        "            sub_graph = graph[start_idx:end_idx, :]\n",
        "            sub_matrix_size = sub_graph.shape[0]\n",
        "\n",
        "            A = sub_graph.copy()\n",
        "            for id in range(sub_matrix_size):\n",
        "                A[id, id] = 0 # diagonal 부분을 0으로\n",
        "                link_sum = np.sum(A[:,id]) # A[:, id] = A[:][id]\n",
        "                if link_sum != 0:\n",
        "                    A[:, id] /= link_sum\n",
        "                A[:, id] *= -d\n",
        "                A[id, id] = 1\n",
        "\n",
        "            B = (1-d) * np.ones((sub_matrix_size, 1))\n",
        "            sub_ranks = np.linalg.solve(A, B) # 연립방정식 Ax = b\n",
        "            ranks[start_idx:end_idx] = sub_ranks.flatten()\n",
        "\n",
        "        return ranks\n",
        "\n",
        "\n",
        "# Rank 인스턴스 생성\n",
        "rank = Rank()\n",
        "\n",
        "# 랭킹 계산\n",
        "ranks = rank.get_ranks(words_graph)\n",
        "sorted_indices = np.argsort(ranks)[::-1]  # 랭킹이 높은 순으로 인덱스 정렬\n",
        "\n",
        "# 결과 출력\n",
        "print(\"Word Ranks:\")\n",
        "for idx in sorted_indices:\n",
        "    word = idx_to_word[idx]\n",
        "    rank_val = ranks[idx]\n",
        "    print(f\"{word}: {rank_val:.4f}\")"
      ],
      "metadata": {
        "id": "cnIJCeSxCO7Z",
        "colab": {
          "base_uri": "https://localhost:8080/",
          "height": 373
        },
        "outputId": "01808c08-f7a6-4b6f-94f5-646ccb38d646"
      },
      "execution_count": null,
      "outputs": [
        {
          "output_type": "error",
          "ename": "LinAlgError",
          "evalue": "Last 2 dimensions of the array must be square",
          "traceback": [
            "\u001b[0;31m---------------------------------------------------------------------------\u001b[0m",
            "\u001b[0;31mLinAlgError\u001b[0m                               Traceback (most recent call last)",
            "\u001b[0;32m<ipython-input-28-d28c911af25f>\u001b[0m in \u001b[0;36m<cell line: 39>\u001b[0;34m()\u001b[0m\n\u001b[1;32m     37\u001b[0m \u001b[0;34m\u001b[0m\u001b[0m\n\u001b[1;32m     38\u001b[0m \u001b[0;31m# 랭킹 계산\u001b[0m\u001b[0;34m\u001b[0m\u001b[0;34m\u001b[0m\u001b[0m\n\u001b[0;32m---> 39\u001b[0;31m \u001b[0mranks\u001b[0m \u001b[0;34m=\u001b[0m \u001b[0mrank\u001b[0m\u001b[0;34m.\u001b[0m\u001b[0mget_ranks\u001b[0m\u001b[0;34m(\u001b[0m\u001b[0mwords_graph\u001b[0m\u001b[0;34m)\u001b[0m\u001b[0;34m\u001b[0m\u001b[0;34m\u001b[0m\u001b[0m\n\u001b[0m\u001b[1;32m     40\u001b[0m \u001b[0msorted_indices\u001b[0m \u001b[0;34m=\u001b[0m \u001b[0mnp\u001b[0m\u001b[0;34m.\u001b[0m\u001b[0margsort\u001b[0m\u001b[0;34m(\u001b[0m\u001b[0mranks\u001b[0m\u001b[0;34m)\u001b[0m\u001b[0;34m[\u001b[0m\u001b[0;34m:\u001b[0m\u001b[0;34m:\u001b[0m\u001b[0;34m-\u001b[0m\u001b[0;36m1\u001b[0m\u001b[0;34m]\u001b[0m  \u001b[0;31m# 랭킹이 높은 순으로 인덱스 정렬\u001b[0m\u001b[0;34m\u001b[0m\u001b[0;34m\u001b[0m\u001b[0m\n\u001b[1;32m     41\u001b[0m \u001b[0;34m\u001b[0m\u001b[0m\n",
            "\u001b[0;32m<ipython-input-28-d28c911af25f>\u001b[0m in \u001b[0;36mget_ranks\u001b[0;34m(self, graph, d)\u001b[0m\n\u001b[1;32m     27\u001b[0m \u001b[0;34m\u001b[0m\u001b[0m\n\u001b[1;32m     28\u001b[0m             \u001b[0mB\u001b[0m \u001b[0;34m=\u001b[0m \u001b[0;34m(\u001b[0m\u001b[0;36m1\u001b[0m\u001b[0;34m-\u001b[0m\u001b[0md\u001b[0m\u001b[0;34m)\u001b[0m \u001b[0;34m*\u001b[0m \u001b[0mnp\u001b[0m\u001b[0;34m.\u001b[0m\u001b[0mones\u001b[0m\u001b[0;34m(\u001b[0m\u001b[0;34m(\u001b[0m\u001b[0msub_matrix_size\u001b[0m\u001b[0;34m,\u001b[0m \u001b[0;36m1\u001b[0m\u001b[0;34m)\u001b[0m\u001b[0;34m)\u001b[0m\u001b[0;34m\u001b[0m\u001b[0;34m\u001b[0m\u001b[0m\n\u001b[0;32m---> 29\u001b[0;31m             \u001b[0msub_ranks\u001b[0m \u001b[0;34m=\u001b[0m \u001b[0mnp\u001b[0m\u001b[0;34m.\u001b[0m\u001b[0mlinalg\u001b[0m\u001b[0;34m.\u001b[0m\u001b[0msolve\u001b[0m\u001b[0;34m(\u001b[0m\u001b[0mA\u001b[0m\u001b[0;34m,\u001b[0m \u001b[0mB\u001b[0m\u001b[0;34m)\u001b[0m \u001b[0;31m# 연립방정식 Ax = b\u001b[0m\u001b[0;34m\u001b[0m\u001b[0;34m\u001b[0m\u001b[0m\n\u001b[0m\u001b[1;32m     30\u001b[0m             \u001b[0mranks\u001b[0m\u001b[0;34m[\u001b[0m\u001b[0mstart_idx\u001b[0m\u001b[0;34m:\u001b[0m\u001b[0mend_idx\u001b[0m\u001b[0;34m]\u001b[0m \u001b[0;34m=\u001b[0m \u001b[0msub_ranks\u001b[0m\u001b[0;34m.\u001b[0m\u001b[0mflatten\u001b[0m\u001b[0;34m(\u001b[0m\u001b[0;34m)\u001b[0m\u001b[0;34m\u001b[0m\u001b[0;34m\u001b[0m\u001b[0m\n\u001b[1;32m     31\u001b[0m \u001b[0;34m\u001b[0m\u001b[0m\n",
            "\u001b[0;32m/usr/local/lib/python3.10/dist-packages/numpy/linalg/linalg.py\u001b[0m in \u001b[0;36msolve\u001b[0;34m(a, b)\u001b[0m\n\u001b[1;32m    394\u001b[0m     \u001b[0ma\u001b[0m\u001b[0;34m,\u001b[0m \u001b[0m_\u001b[0m \u001b[0;34m=\u001b[0m \u001b[0m_makearray\u001b[0m\u001b[0;34m(\u001b[0m\u001b[0ma\u001b[0m\u001b[0;34m)\u001b[0m\u001b[0;34m\u001b[0m\u001b[0;34m\u001b[0m\u001b[0m\n\u001b[1;32m    395\u001b[0m     \u001b[0m_assert_stacked_2d\u001b[0m\u001b[0;34m(\u001b[0m\u001b[0ma\u001b[0m\u001b[0;34m)\u001b[0m\u001b[0;34m\u001b[0m\u001b[0;34m\u001b[0m\u001b[0m\n\u001b[0;32m--> 396\u001b[0;31m     \u001b[0m_assert_stacked_square\u001b[0m\u001b[0;34m(\u001b[0m\u001b[0ma\u001b[0m\u001b[0;34m)\u001b[0m\u001b[0;34m\u001b[0m\u001b[0;34m\u001b[0m\u001b[0m\n\u001b[0m\u001b[1;32m    397\u001b[0m     \u001b[0mb\u001b[0m\u001b[0;34m,\u001b[0m \u001b[0mwrap\u001b[0m \u001b[0;34m=\u001b[0m \u001b[0m_makearray\u001b[0m\u001b[0;34m(\u001b[0m\u001b[0mb\u001b[0m\u001b[0;34m)\u001b[0m\u001b[0;34m\u001b[0m\u001b[0;34m\u001b[0m\u001b[0m\n\u001b[1;32m    398\u001b[0m     \u001b[0mt\u001b[0m\u001b[0;34m,\u001b[0m \u001b[0mresult_t\u001b[0m \u001b[0;34m=\u001b[0m \u001b[0m_commonType\u001b[0m\u001b[0;34m(\u001b[0m\u001b[0ma\u001b[0m\u001b[0;34m,\u001b[0m \u001b[0mb\u001b[0m\u001b[0;34m)\u001b[0m\u001b[0;34m\u001b[0m\u001b[0;34m\u001b[0m\u001b[0m\n",
            "\u001b[0;32m/usr/local/lib/python3.10/dist-packages/numpy/linalg/linalg.py\u001b[0m in \u001b[0;36m_assert_stacked_square\u001b[0;34m(*arrays)\u001b[0m\n\u001b[1;32m    211\u001b[0m         \u001b[0mm\u001b[0m\u001b[0;34m,\u001b[0m \u001b[0mn\u001b[0m \u001b[0;34m=\u001b[0m \u001b[0ma\u001b[0m\u001b[0;34m.\u001b[0m\u001b[0mshape\u001b[0m\u001b[0;34m[\u001b[0m\u001b[0;34m-\u001b[0m\u001b[0;36m2\u001b[0m\u001b[0;34m:\u001b[0m\u001b[0;34m]\u001b[0m\u001b[0;34m\u001b[0m\u001b[0;34m\u001b[0m\u001b[0m\n\u001b[1;32m    212\u001b[0m         \u001b[0;32mif\u001b[0m \u001b[0mm\u001b[0m \u001b[0;34m!=\u001b[0m \u001b[0mn\u001b[0m\u001b[0;34m:\u001b[0m\u001b[0;34m\u001b[0m\u001b[0;34m\u001b[0m\u001b[0m\n\u001b[0;32m--> 213\u001b[0;31m             \u001b[0;32mraise\u001b[0m \u001b[0mLinAlgError\u001b[0m\u001b[0;34m(\u001b[0m\u001b[0;34m'Last 2 dimensions of the array must be square'\u001b[0m\u001b[0;34m)\u001b[0m\u001b[0;34m\u001b[0m\u001b[0;34m\u001b[0m\u001b[0m\n\u001b[0m\u001b[1;32m    214\u001b[0m \u001b[0;34m\u001b[0m\u001b[0m\n\u001b[1;32m    215\u001b[0m \u001b[0;32mdef\u001b[0m \u001b[0m_assert_finite\u001b[0m\u001b[0;34m(\u001b[0m\u001b[0;34m*\u001b[0m\u001b[0marrays\u001b[0m\u001b[0;34m)\u001b[0m\u001b[0;34m:\u001b[0m\u001b[0;34m\u001b[0m\u001b[0;34m\u001b[0m\u001b[0m\n",
            "\u001b[0;31mLinAlgError\u001b[0m: Last 2 dimensions of the array must be square"
          ]
        }
      ]
    },
    {
      "cell_type": "code",
      "source": [
        "import numpy as np\n",
        "\n",
        "class Rank(object):\n",
        "    def get_ranks(self, graph, d=0.85, batch_size=50): # d = damping factor\n",
        "        matrix_size = graph.shape[0]\n",
        "        ranks = np.zeros(matrix_size)\n",
        "\n",
        "        # 그래프를 작은 부분 그래프로 분할하여 처리\n",
        "        batch_size = 100  # 작은 배치 크기 지정\n",
        "        num_batches = (matrix_size + batch_size - 1) // batch_size  # 올림을 사용하여 배치 수 계산\n",
        "\n",
        "        for batch_idx in range(num_batches):\n",
        "            start_idx = batch_idx * batch_size\n",
        "            end_idx = min((batch_idx + 1) * batch_size, matrix_size)\n",
        "\n",
        "            # 정사각 행렬을 위해 끝부분 조정\n",
        "            sub_graph = graph[start_idx:end_idx, start_idx:end_idx]\n",
        "            sub_matrix_size = sub_graph.shape[0]\n",
        "\n",
        "            A = sub_graph.copy()\n",
        "            for id in range(sub_matrix_size):\n",
        "                A[id, id] = 0 # diagonal 부분을 0으로\n",
        "                link_sum = np.sum(A[:,id]) # A[:, id] = A[:][id]\n",
        "                if link_sum != 0:\n",
        "                    A[:, id] /= link_sum\n",
        "                A[:, id] *= -d\n",
        "                A[id, id] = 1\n",
        "\n",
        "            B = (1-d) * np.ones((sub_matrix_size, 1))\n",
        "            sub_ranks = np.linalg.solve(A, B) # 연립방정식 Ax = b\n",
        "            ranks[start_idx:end_idx] = sub_ranks.flatten()\n",
        "\n",
        "        return ranks\n",
        "\n",
        "# 예제 사용법 (사용하려는 그래프를 정의하고 실행)\n",
        "# words_graph = ... (그래프 데이터 정의)\n",
        "# idx_to_word = ... (인덱스와 단어 매핑)\n",
        "\n",
        "# Rank 인스턴스 생성\n",
        "rank = Rank()\n",
        "\n",
        "# 랭킹 계산\n",
        "ranks = rank.get_ranks(words_graph)\n",
        "sorted_indices = np.argsort(ranks)[::-1]  # 랭킹이 높은 순으로 인덱스 정렬\n",
        "\n",
        "# 결과 출력\n",
        "print(\"Word Ranks:\")\n",
        "for idx in sorted_indices:\n",
        "    word = idx_to_word[idx]\n",
        "    rank_val = ranks[idx]\n",
        "    print(f\"{word}: {rank_val:.4f}\")\n"
      ],
      "metadata": {
        "id": "j-HvD_LUCO7b"
      },
      "execution_count": null,
      "outputs": []
    },
    {
      "cell_type": "markdown",
      "source": [
        "# 형태소 분석 & 토크나이징 (공지)\n"
      ],
      "metadata": {
        "id": "WOqdNWfGFCy8"
      }
    },
    {
      "cell_type": "code",
      "source": [
        "# 형태소 토큰화 - okt분석기 생성\n",
        "from konlpy.tag import Okt\n",
        "okt = Okt()"
      ],
      "metadata": {
        "id": "aCtFCPp8D7F6"
      },
      "execution_count": null,
      "outputs": []
    },
    {
      "cell_type": "code",
      "source": [
        "# 공지1 한국어, 영어만 남기기\n",
        "first_part['content_filter_text'] = first_part['content_cleaned'].apply(clean_text)"
      ],
      "metadata": {
        "id": "uutxjFVAFFn3"
      },
      "execution_count": null,
      "outputs": []
    },
    {
      "cell_type": "code",
      "source": [
        "word_gongji1 = []\n",
        "\n",
        "for i in range(len(first_part)):\n",
        "    okt_pos = okt.pos(first_part['content_filter_text'].iloc[i], norm=True, stem=True)\n",
        "\n",
        "    word_list = [word[0] for word in okt_pos if word[1] not in ['Josa', 'Eomi', 'Punctuation', 'Suffix']]\n",
        "    word_gongji1.extend(word_list)"
      ],
      "metadata": {
        "id": "7YwOz-IQFpcF"
      },
      "execution_count": null,
      "outputs": []
    },
    {
      "cell_type": "code",
      "source": [
        "\n",
        "from konlpy.tag import Okt\n",
        "\n",
        "# 형태소 분석기 초기화\n",
        "okt = Okt()\n",
        "\n",
        "# 빈 리스트 초기화\n",
        "word_gongji1 = []\n",
        "\n",
        "# 각 행에 대해 형태소 분석 수행하여 리스트에 추가\n",
        "for content in first_part['content_filter_text']:\n",
        "    okt_pos = okt.pos(content, norm=True, stem=True)\n",
        "    word_list = [word[0] for word in okt_pos if word[1] not in ['Josa', 'Eomi', 'Punctuation', 'Suffix']]\n",
        "    word_gongji1.append(word_list)\n",
        "\n",
        "# 'tokenize' 컬럼에 word_gongji1 리스트 할당\n",
        "first_part['tokenize'] = word_gongji1"
      ],
      "metadata": {
        "id": "uo9khDJYOUsZ"
      },
      "execution_count": null,
      "outputs": []
    },
    {
      "cell_type": "code",
      "source": [
        "# 문자열 ver\n",
        "from konlpy.tag import Okt\n",
        "\n",
        "# 형태소 분석기 초기화\n",
        "okt = Okt()\n",
        "\n",
        "# 빈 리스트 초기화\n",
        "word_gongji1 = []\n",
        "\n",
        "# 각 행에 대해 형태소 분석 수행하여 리스트에 추가\n",
        "for content in first_part['content_filter_text']:\n",
        "    okt_pos = okt.pos(content, norm=True, stem=True)\n",
        "    word_list = [word[0] for word in okt_pos if word[1] not in ['Josa', 'Eomi', 'Punctuation', 'Suffix']]\n",
        "    word_gongji1.append(', '.join(word_list))  # 리스트를 쉼표로 구분하여 문자열로 변환하여 추가\n",
        "\n",
        "# 'tokenize' 컬럼에 word_gongji1 리스트 할당\n",
        "first_part['tokenize'] = word_gongji1\n",
        "first_part['tokenize'].head()"
      ],
      "metadata": {
        "id": "dXNSYBImS7mp"
      },
      "execution_count": null,
      "outputs": []
    },
    {
      "cell_type": "code",
      "source": [
        "first_part['tokenize'].head()"
      ],
      "metadata": {
        "id": "rtJSOJwlO-ER"
      },
      "execution_count": null,
      "outputs": []
    },
    {
      "cell_type": "code",
      "source": [
        "len(first_part['tokenize'])"
      ],
      "metadata": {
        "id": "INnteZ1uQWe2"
      },
      "execution_count": null,
      "outputs": []
    },
    {
      "cell_type": "code",
      "source": [
        "\n",
        "# # 'tokenize' 컬럼에서 한 글자 제거\n",
        "# first_part['tokenize'] = first_part['tokenize'].apply(lambda x: [word for word in x if len(word) > 1])\n",
        "\n",
        "# first_part['tokenize']"
      ],
      "metadata": {
        "id": "3KUbG1FuRkY1"
      },
      "execution_count": null,
      "outputs": []
    },
    {
      "cell_type": "code",
      "source": [
        "# 문자열 버전\n",
        "# 'tokenize' 컬럼에서 한 글자 제거\n",
        "first_part['tokenize'] = first_part['tokenize'].apply(lambda x: ', '.join([word for word in x.split(', ') if len(word) > 1]))\n",
        "\n",
        "first_part['tokenize']\n"
      ],
      "metadata": {
        "id": "65HP3owAUxeu"
      },
      "execution_count": null,
      "outputs": []
    },
    {
      "cell_type": "code",
      "source": [
        "f = open('/content/drive/MyDrive/HUFS_2024_1/Modeling/데이터 수집/stopwords_list.txt', 'r')\n",
        "lines = f.readlines()\n",
        "stopwords = []\n",
        "for line in lines:\n",
        "    line = line.replace('\\n', '')\n",
        "    stopwords.append(line)\n",
        "f.close()"
      ],
      "metadata": {
        "id": "FU2wCBKpGoo1"
      },
      "execution_count": null,
      "outputs": []
    },
    {
      "cell_type": "code",
      "source": [
        "# # 불용어 제거 함수 정의\n",
        "# def remove_stopwords(text_list, stopwords):\n",
        "#     return [word for word in text_list if word not in stopwords]\n",
        "\n",
        "# # 불용어 제거\n",
        "# first_part['tokenize'] = first_part['tokenize'].apply(lambda x: remove_stopwords(x, stopwords))\n",
        "\n",
        "# first_part['tokenize']"
      ],
      "metadata": {
        "id": "6mckIIXlR5IO"
      },
      "execution_count": null,
      "outputs": []
    },
    {
      "cell_type": "code",
      "source": [
        "# 문자열 ver.\n",
        "# 불용어 제거 함수 정의\n",
        "def remove_stopwords(text, stopwords):\n",
        "    return ', '.join([word for word in text.split(', ') if word not in stopwords])\n",
        "\n",
        "# 불용어 제거\n",
        "first_part['tokenize'] = first_part['tokenize'].apply(lambda x: remove_stopwords(x, stopwords))\n"
      ],
      "metadata": {
        "id": "HDWNrsXNVqHm"
      },
      "execution_count": null,
      "outputs": []
    },
    {
      "cell_type": "code",
      "source": [],
      "metadata": {
        "id": "MXaA45UnVs4o"
      },
      "execution_count": null,
      "outputs": []
    },
    {
      "cell_type": "code",
      "source": [
        "# 한 글자 제거\n",
        "remove_one_word_gongji1 = [x for x in word_gongji1 if len(x) > 1]\n",
        "len(remove_one_word_gongji1)"
      ],
      "metadata": {
        "id": "N5mQOBSHGoEE"
      },
      "execution_count": null,
      "outputs": []
    },
    {
      "cell_type": "code",
      "source": [
        "remove_stopwords_gongji1 = [x for x in remove_one_word_gongji1 if x not in stopwords]"
      ],
      "metadata": {
        "id": "IwEnFEtMGsK4"
      },
      "execution_count": null,
      "outputs": []
    },
    {
      "cell_type": "code",
      "source": [
        "len(remove_stopwords_gongji1)"
      ],
      "metadata": {
        "id": "aaGvxo69GvWb"
      },
      "execution_count": null,
      "outputs": []
    },
    {
      "cell_type": "code",
      "source": [
        "remove_stopwords_gongji1"
      ],
      "metadata": {
        "id": "3c1UsHYNLxda"
      },
      "execution_count": null,
      "outputs": []
    },
    {
      "cell_type": "markdown",
      "source": [
        "## TFIDF"
      ],
      "metadata": {
        "id": "EZFXBIYEG3BN"
      }
    },
    {
      "cell_type": "code",
      "source": [
        "from sklearn.feature_extraction.text import TfidfVectorizer"
      ],
      "metadata": {
        "id": "m4WbU4NzG0lx"
      },
      "execution_count": null,
      "outputs": []
    },
    {
      "cell_type": "code",
      "source": [
        "vectorizer = TfidfVectorizer()\n",
        "gongji1_vec = vectorizer.fit(remove_stopwords_gongji1)  # 텍스트 문서 모음을 토큰 수의 행렬로 변환\n",
        "#tfidf_matrix = vectorizer.fit_transform(remove_stopwords_gongji1) # 문서 데이터셋에 대해 fit 및 transform 수행\n",
        "\n",
        "print(gongji1_vec.vocabulary_)       # 텍스트 문서에 나타난 어휘의 집합을 출력\n",
        "print(len(gongji1_vec.vocabulary_))  # 텍스트 문서에 나타난 어휘 집합의 길이를 출력"
      ],
      "metadata": {
        "colab": {
          "base_uri": "https://localhost:8080/",
          "height": 211
        },
        "id": "HAV4IJ8IG46p",
        "outputId": "8f3f3ce7-45f9-4afd-fc1d-4ff594a19760"
      },
      "execution_count": null,
      "outputs": [
        {
          "output_type": "error",
          "ename": "NameError",
          "evalue": "name 'remove_stopwords_gongji1' is not defined",
          "traceback": [
            "\u001b[0;31m---------------------------------------------------------------------------\u001b[0m",
            "\u001b[0;31mNameError\u001b[0m                                 Traceback (most recent call last)",
            "\u001b[0;32m<ipython-input-15-0fab8cc0297c>\u001b[0m in \u001b[0;36m<cell line: 2>\u001b[0;34m()\u001b[0m\n\u001b[1;32m      1\u001b[0m \u001b[0mvectorizer\u001b[0m \u001b[0;34m=\u001b[0m \u001b[0mTfidfVectorizer\u001b[0m\u001b[0;34m(\u001b[0m\u001b[0;34m)\u001b[0m\u001b[0;34m\u001b[0m\u001b[0;34m\u001b[0m\u001b[0m\n\u001b[0;32m----> 2\u001b[0;31m \u001b[0mgongji1_vec\u001b[0m \u001b[0;34m=\u001b[0m \u001b[0mvectorizer\u001b[0m\u001b[0;34m.\u001b[0m\u001b[0mfit\u001b[0m\u001b[0;34m(\u001b[0m\u001b[0mremove_stopwords_gongji1\u001b[0m\u001b[0;34m)\u001b[0m  \u001b[0;31m# 텍스트 문서 모음을 토큰 수의 행렬로 변환\u001b[0m\u001b[0;34m\u001b[0m\u001b[0;34m\u001b[0m\u001b[0m\n\u001b[0m\u001b[1;32m      3\u001b[0m \u001b[0;31m#tfidf_matrix = vectorizer.fit_transform(remove_stopwords_gongji1) # 문서 데이터셋에 대해 fit 및 transform 수행\u001b[0m\u001b[0;34m\u001b[0m\u001b[0;34m\u001b[0m\u001b[0m\n\u001b[1;32m      4\u001b[0m \u001b[0;34m\u001b[0m\u001b[0m\n\u001b[1;32m      5\u001b[0m \u001b[0mprint\u001b[0m\u001b[0;34m(\u001b[0m\u001b[0mgongji1_vec\u001b[0m\u001b[0;34m.\u001b[0m\u001b[0mvocabulary_\u001b[0m\u001b[0;34m)\u001b[0m       \u001b[0;31m# 텍스트 문서에 나타난 어휘의 집합을 출력\u001b[0m\u001b[0;34m\u001b[0m\u001b[0;34m\u001b[0m\u001b[0m\n",
            "\u001b[0;31mNameError\u001b[0m: name 'remove_stopwords_gongji1' is not defined"
          ]
        }
      ]
    },
    {
      "cell_type": "code",
      "source": [
        "vectorizer = TfidfVectorizer()"
      ],
      "metadata": {
        "id": "qdbAcX1bSa8M"
      },
      "execution_count": null,
      "outputs": []
    },
    {
      "cell_type": "code",
      "source": [
        "# # 단어 목록\n",
        "# words = vectorizer.get_feature_names_out()\n",
        "\n",
        "# # 각 단어별 TF-IDF 값을 저장할 딕셔너리 생성\n",
        "# word_tfidf = {}\n",
        "\n",
        "# # 각 단어의 중요도 계산\n",
        "# for i, word in enumerate(words):\n",
        "#     # 해당 단어의 TF-IDF 값을 각 문서에 대해 합산하여 평균을 구함\n",
        "#     tfidf_value = tfidf_matrix[:, i].mean()\n",
        "#     word_tfidf[word] = tfidf_value\n",
        "\n",
        "# # 중요도가 높은 순으로 정렬\n",
        "# sorted_word_tfidf = sorted(word_tfidf.items(), key=lambda x: x[1], reverse=True)\n",
        "\n",
        "# # 상위 20개 단어 출력\n",
        "# top_n = 20\n",
        "# print(\"Top {} words by TF-IDF:\".format(top_n))\n",
        "# for word, tfidf in sorted_word_tfidf[:top_n]:\n",
        "#     print(f\"{word}: {tfidf:.5f}\")"
      ],
      "metadata": {
        "id": "F0yp8Uh9HzT0"
      },
      "execution_count": null,
      "outputs": []
    },
    {
      "cell_type": "markdown",
      "source": [
        "## TFIDF모델 기반 방향 그래프 생성"
      ],
      "metadata": {
        "id": "mbY1EfPnIEGm"
      }
    },
    {
      "cell_type": "code",
      "source": [
        "from sklearn.feature_extraction.text import TfidfVectorizer\n",
        "from sklearn.feature_extraction.text import CountVectorizer\n",
        "from sklearn.preprocessing import normalize\n",
        "from scipy.sparse import csr_matrix\n",
        "import numpy as np"
      ],
      "metadata": {
        "id": "BZz4Csi6H1aB"
      },
      "execution_count": null,
      "outputs": []
    },
    {
      "cell_type": "code",
      "source": [
        "class GraphMatrix(object):\n",
        "    def __init__(self):\n",
        "        self.tfidf = TfidfVectorizer()\n",
        "        self.cnt_vec = CountVectorizer()\n",
        "        self.graph_sentence = []\n",
        "\n",
        "    def build_sent_graph(self, sentence):\n",
        "        tfidf_mat = self.tfidf.fit_transform(sentence).toarray()\n",
        "        self.graph_sentence = np.dot(tfidf_mat, tfidf_mat.T)\n",
        "        return  self.graph_sentence\n",
        "\n",
        "    def build_words_graph(self, sentence):\n",
        "        cnt_vec_mat = self.cnt_vec.fit_transform(sentence).toarray().astype(float)\n",
        "        cnt_vec_mat = normalize(cnt_vec_mat, axis=0)  # 열에 대해 정규화\n",
        "        cnt_vec_mat_sparse = csr_matrix(cnt_vec_mat)\n",
        "        graph = cnt_vec_mat_sparse.T.dot(cnt_vec_mat_sparse).toarray()\n",
        "        return graph, {idx: word for word, idx in self.cnt_vec.vocabulary_.items()}"
      ],
      "metadata": {
        "id": "1fle8-rLIIq-"
      },
      "execution_count": null,
      "outputs": []
    },
    {
      "cell_type": "code",
      "source": [
        "# 데이터프레임에서 'content' 열 데이터 추출\n",
        "content_data = first_part['tokenize']\n",
        "\n",
        "# GraphMatrix 인스턴스 생성\n",
        "graph_matrix = GraphMatrix()\n",
        "\n",
        "# 문장 그래프 구축\n",
        "sentence_graph = graph_matrix.build_sent_graph(content_data)\n",
        "print(\"Sentence Graph:\")\n",
        "print(sentence_graph)\n",
        "\n",
        "# 단어 그래프 및 인덱스-단어 매핑 구축\n",
        "words_graph, idx_to_word = graph_matrix.build_words_graph(content_data)\n",
        "print(\"Words Graph:\")\n",
        "print(words_graph)\n",
        "print(\"Index to Word Mapping:\")\n",
        "print(idx_to_word)"
      ],
      "metadata": {
        "id": "4rqlSSXVINNb"
      },
      "execution_count": null,
      "outputs": []
    },
    {
      "cell_type": "code",
      "source": [
        "# 수정: 각 행마다 개별적으로 문장그래프 그릴 수 있도록\n",
        "content_data = first_part['tokenize']\n",
        "\n",
        "# GraphMatrix 인스턴스 생성\n",
        "graph_matrix = GraphMatrix()\n",
        "\n",
        "# 데이터프레임의 각 행에 대해 문장 그래프를 생성\n",
        "for idx, content in first_part['tokenize'].items():\n",
        "    sentence_graph = graph_matrix.build_sent_graph([content])  # 각 행의 내용을 리스트로 전달\n",
        "    print(f\"Sentence Graph for row {idx}:\")\n",
        "    print(sentence_graph)# 수정: 각 행마다 개별적으로 문장그래프 그릴 수 있도록\n",
        "content_data = first_part['tokenize']\n",
        "\n",
        "# GraphMatrix 인스턴스 생성\n",
        "graph_matrix = GraphMatrix()\n",
        "\n",
        "# 데이터프레임의 각 행에 대해 문장 그래프를 생성\n",
        "for idx, content in first_part['tokenize'].items():\n",
        "    sentence_graph = graph_matrix.build_sent_graph([content])  # 각 행의 내용을 리스트로 전달\n",
        "    print(f\"Sentence Graph for row {idx}:\")\n",
        "    print(sentence_graph)# 수정: 각 행마다 개별적으로 문장그래프 그릴 수 있도록\n",
        "content_data = first_part['tokenize']\n",
        "\n",
        "# GraphMatrix 인스턴스 생성\n",
        "graph_matrix = GraphMatrix()\n",
        "\n",
        "# 데이터프레임의 각 행에 대해 문장 그래프를 생성\n",
        "for idx, content in first_part['tokenize'].items():\n",
        "    sentence_graph = graph_matrix.build_sent_graph([content])  # 각 행의 내용을 리스트로 전달\n",
        "    print(f\"Sentence Graph for row {idx}:\")\n",
        "    print(sentence_graph)# 수정: 각 행마다 개별적으로 문장그래프 그릴 수 있도록\n",
        "content_data = first_part['tokenize']\n",
        "\n",
        "# GraphMatrix 인스턴스 생성\n",
        "graph_matrix = GraphMatrix()\n",
        "\n",
        "# 데이터프레임의 각 행에 대해 문장 그래프를 생성\n",
        "for idx, content in first_part['tokenize'].items():\n",
        "    sentence_graph = graph_matrix.build_sent_graph([content])  # 각 행의 내용을 리스트로 전달\n",
        "    print(f\"Sentence Graph for row {idx}:\")\n",
        "    print(sentence_graph)# 수정: 각 행마다 개별적으로 문장그래프 그릴 수 있도록\n",
        "content_data = first_part['tokenize']\n",
        "\n",
        "# GraphMatrix 인스턴스 생성\n",
        "graph_matrix = GraphMatrix()\n",
        "\n",
        "# 데이터프레임의 각 행에 대해 문장 그래프를 생성\n",
        "for idx, content in first_part['tokenize'].items():\n",
        "    sentence_graph = graph_matrix.build_sent_graph([content])  # 각 행의 내용을 리스트로 전달\n",
        "    print(f\"Sentence Graph for row {idx}:\")\n",
        "    print(sentence_graph)# 수정: 각 행마다 개별적으로 문장그래프 그릴 수 있도록\n",
        "content_data = first_part['tokenize']\n",
        "\n",
        "# GraphMatrix 인스턴스 생성\n",
        "graph_matrix = GraphMatrix()\n",
        "\n",
        "# 데이터프레임의 각 행에 대해 문장 그래프를 생성\n",
        "for idx, content in first_part['tokenize'].items():\n",
        "    sentence_graph = graph_matrix.build_sent_graph([content])  # 각 행의 내용을 리스트로 전달\n",
        "    print(f\"Sentence Graph for row {idx}:\")\n",
        "    print(sentence_graph)"
      ],
      "metadata": {
        "id": "ZpgLSqFbicxa"
      },
      "execution_count": null,
      "outputs": []
    },
    {
      "cell_type": "markdown",
      "source": [
        "## Rank 알고리즘"
      ],
      "metadata": {
        "id": "2V3h3HfjW0H2"
      }
    },
    {
      "cell_type": "code",
      "source": [
        "class Rank(object):\n",
        "    def get_ranks(self, graph, d=0.85): # d = damping factor\n",
        "        A = graph\n",
        "        matrix_size = A.shape[0]\n",
        "        for id in range(matrix_size):\n",
        "            A[id, id] = 0 # diagonal 부분을 0으로\n",
        "            link_sum = np.sum(A[:,id]) # A[:, id] = A[:][id]\n",
        "            if link_sum != 0:\n",
        "                A[:, id] /= link_sum\n",
        "            A[:, id] *= -d\n",
        "            A[id, id] = 1\n",
        "\n",
        "        B = (1-d) * np.ones((matrix_size, 1))\n",
        "        ranks = np.linalg.solve(A, B) # 연립방정식 Ax = b\n",
        "        return {idx: r[0] for idx, r in enumerate(ranks)}"
      ],
      "metadata": {
        "id": "Y7i9eCPHKnWA"
      },
      "execution_count": null,
      "outputs": []
    },
    {
      "cell_type": "code",
      "source": [
        "# Rank 인스턴스 생성\n",
        "rank = Rank()\n",
        "\n",
        "# 랭킹 계산\n",
        "ranks = rank.get_ranks(words_graph)\n",
        "sorted_ranks = {idx_to_word[idx]: rank for idx, rank in sorted(ranks.items(), key=lambda item: item[1], reverse=True)}\n",
        "\n",
        "# 결과 출력\n",
        "print(\"Word Ranks:\")\n",
        "for word, rank in sorted_ranks.items():\n",
        "    print(f\"{word}: {rank:.4f}\")"
      ],
      "metadata": {
        "id": "w9ORNGr8W8mV"
      },
      "execution_count": null,
      "outputs": []
    },
    {
      "cell_type": "code",
      "source": [
        "# 메모리 사용량을 줄이기 위한 분할 계산으로 코드 수정\n",
        "\n",
        "class Rank(object):\n",
        "    def get_ranks(self, graph, d=0.85): # d = damping factor\n",
        "        matrix_size = graph.shape[0]\n",
        "        ranks = np.zeros(matrix_size)\n",
        "\n",
        "        # 그래프를 작은 부분 그래프로 분할하여 처리\n",
        "        batch_size = 100  # 작은 배치 크기 지정\n",
        "        num_batches = matrix_size // batch_size + 1\n",
        "\n",
        "        for batch_idx in range(num_batches):\n",
        "            start_idx = batch_idx * batch_size\n",
        "            end_idx = min((batch_idx + 1) * batch_size, matrix_size)\n",
        "\n",
        "            sub_graph = graph[start_idx:end_idx, :]\n",
        "            sub_matrix_size = sub_graph.shape[0]\n",
        "\n",
        "            A = sub_graph.copy()\n",
        "            for id in range(sub_matrix_size):\n",
        "                A[id, id] = 0 # diagonal 부분을 0으로\n",
        "                link_sum = np.sum(A[:,id]) # A[:, id] = A[:][id]\n",
        "                if link_sum != 0:\n",
        "                    A[:, id] /= link_sum\n",
        "                A[:, id] *= -d\n",
        "                A[id, id] = 1\n",
        "\n",
        "            B = (1-d) * np.ones((sub_matrix_size, 1))\n",
        "            sub_ranks = np.linalg.solve(A, B) # 연립방정식 Ax = b\n",
        "            ranks[start_idx:end_idx] = sub_ranks.flatten()\n",
        "\n",
        "        return ranks\n",
        "\n",
        "\n",
        "# Rank 인스턴스 생성\n",
        "rank = Rank()\n",
        "\n",
        "# 랭킹 계산\n",
        "ranks = rank.get_ranks(words_graph)\n",
        "sorted_indices = np.argsort(ranks)[::-1]  # 랭킹이 높은 순으로 인덱스 정렬\n",
        "\n",
        "# 결과 출력\n",
        "print(\"Word Ranks:\")\n",
        "for idx in sorted_indices:\n",
        "    word = idx_to_word[idx]\n",
        "    rank_val = ranks[idx]\n",
        "    print(f\"{word}: {rank_val:.4f}\")"
      ],
      "metadata": {
        "id": "NsYcdYM6o-YM"
      },
      "execution_count": null,
      "outputs": []
    },
    {
      "cell_type": "code",
      "source": [
        "import numpy as np\n",
        "\n",
        "class Rank(object):\n",
        "    def get_ranks(self, graph, d=0.85, batch_size=50): # d = damping factor\n",
        "        matrix_size = graph.shape[0]\n",
        "        ranks = np.zeros(matrix_size)\n",
        "\n",
        "        # 그래프를 작은 부분 그래프로 분할하여 처리\n",
        "        batch_size = 100  # 작은 배치 크기 지정\n",
        "        num_batches = (matrix_size + batch_size - 1) // batch_size  # 올림을 사용하여 배치 수 계산\n",
        "\n",
        "        for batch_idx in range(num_batches):\n",
        "            start_idx = batch_idx * batch_size\n",
        "            end_idx = min((batch_idx + 1) * batch_size, matrix_size)\n",
        "\n",
        "            # 정사각 행렬을 위해 끝부분 조정\n",
        "            sub_graph = graph[start_idx:end_idx, start_idx:end_idx]\n",
        "            sub_matrix_size = sub_graph.shape[0]\n",
        "\n",
        "            A = sub_graph.copy()\n",
        "            for id in range(sub_matrix_size):\n",
        "                A[id, id] = 0 # diagonal 부분을 0으로\n",
        "                link_sum = np.sum(A[:,id]) # A[:, id] = A[:][id]\n",
        "                if link_sum != 0:\n",
        "                    A[:, id] /= link_sum\n",
        "                A[:, id] *= -d\n",
        "                A[id, id] = 1\n",
        "\n",
        "            B = (1-d) * np.ones((sub_matrix_size, 1))\n",
        "            sub_ranks = np.linalg.solve(A, B) # 연립방정식 Ax = b\n",
        "            ranks[start_idx:end_idx] = sub_ranks.flatten()\n",
        "\n",
        "        return ranks\n",
        "\n",
        "# 예제 사용법 (사용하려는 그래프를 정의하고 실행)\n",
        "# words_graph = ... (그래프 데이터 정의)\n",
        "# idx_to_word = ... (인덱스와 단어 매핑)\n",
        "\n",
        "# Rank 인스턴스 생성\n",
        "rank = Rank()\n",
        "\n",
        "# 랭킹 계산\n",
        "ranks = rank.get_ranks(words_graph)\n",
        "sorted_indices = np.argsort(ranks)[::-1]  # 랭킹이 높은 순으로 인덱스 정렬\n",
        "\n",
        "# 결과 출력\n",
        "print(\"Word Ranks:\")\n",
        "for idx in sorted_indices:\n",
        "    word = idx_to_word[idx]\n",
        "    rank_val = ranks[idx]\n",
        "    print(f\"{word}: {rank_val:.4f}\")\n"
      ],
      "metadata": {
        "id": "1my1CRN9V1QO",
        "colab": {
          "base_uri": "https://localhost:8080/",
          "height": 221
        },
        "outputId": "a0aa10d0-5c9d-4a9d-d28b-7ab7f7f2172f"
      },
      "execution_count": null,
      "outputs": [
        {
          "output_type": "error",
          "ename": "NameError",
          "evalue": "name 'words_graph' is not defined",
          "traceback": [
            "\u001b[0;31m---------------------------------------------------------------------------\u001b[0m",
            "\u001b[0;31mNameError\u001b[0m                                 Traceback (most recent call last)",
            "\u001b[0;32m<ipython-input-1-308e03d60618>\u001b[0m in \u001b[0;36m<cell line: 43>\u001b[0;34m()\u001b[0m\n\u001b[1;32m     41\u001b[0m \u001b[0;34m\u001b[0m\u001b[0m\n\u001b[1;32m     42\u001b[0m \u001b[0;31m# 랭킹 계산\u001b[0m\u001b[0;34m\u001b[0m\u001b[0;34m\u001b[0m\u001b[0m\n\u001b[0;32m---> 43\u001b[0;31m \u001b[0mranks\u001b[0m \u001b[0;34m=\u001b[0m \u001b[0mrank\u001b[0m\u001b[0;34m.\u001b[0m\u001b[0mget_ranks\u001b[0m\u001b[0;34m(\u001b[0m\u001b[0mwords_graph\u001b[0m\u001b[0;34m)\u001b[0m\u001b[0;34m\u001b[0m\u001b[0;34m\u001b[0m\u001b[0m\n\u001b[0m\u001b[1;32m     44\u001b[0m \u001b[0msorted_indices\u001b[0m \u001b[0;34m=\u001b[0m \u001b[0mnp\u001b[0m\u001b[0;34m.\u001b[0m\u001b[0margsort\u001b[0m\u001b[0;34m(\u001b[0m\u001b[0mranks\u001b[0m\u001b[0;34m)\u001b[0m\u001b[0;34m[\u001b[0m\u001b[0;34m:\u001b[0m\u001b[0;34m:\u001b[0m\u001b[0;34m-\u001b[0m\u001b[0;36m1\u001b[0m\u001b[0;34m]\u001b[0m  \u001b[0;31m# 랭킹이 높은 순으로 인덱스 정렬\u001b[0m\u001b[0;34m\u001b[0m\u001b[0;34m\u001b[0m\u001b[0m\n\u001b[1;32m     45\u001b[0m \u001b[0;34m\u001b[0m\u001b[0m\n",
            "\u001b[0;31mNameError\u001b[0m: name 'words_graph' is not defined"
          ]
        }
      ]
    },
    {
      "cell_type": "code",
      "source": [
        "!nvidia-smi"
      ],
      "metadata": {
        "id": "U0uIAQCdc_yo"
      },
      "execution_count": null,
      "outputs": []
    },
    {
      "cell_type": "markdown",
      "source": [
        "## TextRank"
      ],
      "metadata": {
        "id": "nPGwqsS8XDKt"
      }
    },
    {
      "cell_type": "markdown",
      "source": [
        "- 전처리와 토크나이징도 클래스로 묶기"
      ],
      "metadata": {
        "id": "J-a11vCxXMuO"
      }
    },
    {
      "cell_type": "code",
      "source": [
        "class TextRank(object):\n",
        "    def __init__(self, text):\n",
        "        self.sent_tokenize = SentenceTokenizer()\n",
        "\n",
        "        if text[:5] in ('http:', 'https'):\n",
        "            self.sentences = self.sent_tokenize.url2sentences(text)\n",
        "        else:\n",
        "            self.sentences = self.sent_tokenize.text2sentences(text)\n",
        "\n",
        "        self.nouns = self.sent_tokenize.get_nouns(self.sentences)\n",
        "\n",
        "        self.graph_matrix = GraphMatrix()\n",
        "        self.sent_graph = self.graph_matrix.build_sent_graph(self.nouns)\n",
        "        self.words_graph, self.idx2word = self.graph_matrix.build_words_graph(self.nouns)\n",
        "\n",
        "        self.rank = Rank()\n",
        "        self.sent_rank_idx = self.rank.get_ranks(self.sent_graph)\n",
        "        self.sorted_sent_rank_idx = sorted(self.sent_rank_idx, key=lambda k: self.sent_rank_idx[k], reverse=True)\n",
        "\n",
        "        self.word_rank_idx =  self.rank.get_ranks(self.words_graph)\n",
        "        self.sorted_word_rank_idx = sorted(self.word_rank_idx, key=lambda k: self.word_rank_idx[k], reverse=True)\n",
        "\n",
        "\n",
        "    def summarize(self, sent_num=3):\n",
        "        summary = []\n",
        "        index=[]\n",
        "        for idx in self.sorted_sent_rank_idx[:sent_num]:\n",
        "            index.append(idx)\n",
        "\n",
        "        index.sort()\n",
        "        for idx in index:\n",
        "            summary.append(self.sentences[idx])\n",
        "\n",
        "        return summary\n",
        "\n",
        "    def keywords(self, word_num=10):\n",
        "        rank = Rank()\n",
        "        rank_idx = rank.get_ranks(self.words_graph)\n",
        "        sorted_rank_idx = sorted(rank_idx, key=lambda k: rank_idx[k], reverse=True)\n",
        "\n",
        "        keywords = []\n",
        "        index=[]\n",
        "        for idx in sorted_rank_idx[:word_num]:\n",
        "            index.append(idx)\n",
        "\n",
        "        #index.sort()\n",
        "        for idx in index:\n",
        "            keywords.append(self.idx2word[idx])\n",
        "\n",
        "        return keywords"
      ],
      "metadata": {
        "id": "vMpaKDaGW-o2"
      },
      "execution_count": null,
      "outputs": []
    }
  ]
}