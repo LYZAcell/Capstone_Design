{
 "cells": [
  {
   "cell_type": "code",
   "execution_count": 3,
   "metadata": {
    "collapsed": true,
    "jupyter": {
     "outputs_hidden": true
    }
   },
   "outputs": [
    {
     "name": "stdout",
     "output_type": "stream",
     "text": [
      "Collecting nltk==3.5\n",
      "  Downloading nltk-3.5.zip (1.4 MB)\n",
      "Requirement already satisfied: click in c:\\users\\bestl\\anaconda3\\lib\\site-packages (from nltk==3.5) (7.0)\n",
      "Requirement already satisfied: joblib in c:\\users\\bestl\\anaconda3\\lib\\site-packages (from nltk==3.5) (0.14.1)\n",
      "Collecting regex\n",
      "  Downloading regex-2023.12.25-cp37-cp37m-win_amd64.whl (270 kB)\n",
      "Requirement already satisfied: tqdm in c:\\users\\bestl\\anaconda3\\lib\\site-packages (from nltk==3.5) (4.42.1)\n",
      "Building wheels for collected packages: nltk\n",
      "  Building wheel for nltk (setup.py): started\n",
      "  Building wheel for nltk (setup.py): finished with status 'done'\n",
      "  Created wheel for nltk: filename=nltk-3.5-py3-none-any.whl size=1434680 sha256=e9eef77fc40ae59c17f6826189446eece6e663107516f294221448be9cff31c4\n",
      "  Stored in directory: c:\\users\\bestl\\appdata\\local\\pip\\cache\\wheels\\45\\6c\\46\\a1865e7ba706b3817f5d1b2ff7ce8996aabdd0d03d47ba0266\n",
      "Successfully built nltk\n",
      "Installing collected packages: regex, nltk\n",
      "  Attempting uninstall: nltk\n",
      "    Found existing installation: nltk 3.4.5\n",
      "    Uninstalling nltk-3.4.5:\n",
      "      Successfully uninstalled nltk-3.4.5\n",
      "Successfully installed nltk-3.5 regex-2023.12.25\n"
     ]
    }
   ],
   "source": [
    "# 아래import 안되면 확인해주세요!\n",
    "!pip install nltk==3.5"
   ]
  },
  {
   "cell_type": "markdown",
   "metadata": {},
   "source": [
    "### 변수 정리\n",
    "- rouge 중에서는 rouge-n이 많이 사용됨.n-gram할 때 그 n맞음\n",
    "- rouge-1: 단일단어 일치도. \n",
    "- rouuge-2: 연속 두단어 일치도\n",
    "- reference summary: 참조요약. 사람이 작성한 자동요약 모델에 의해 생성된 요약\n",
    "- hypothesis sentence: 모델링을 통해 나온 요약"
   ]
  },
  {
   "cell_type": "code",
   "execution_count": 1,
   "metadata": {},
   "outputs": [
    {
     "name": "stdout",
     "output_type": "stream",
     "text": [
      "ROUGE-1 Score: 0.8888888888888888\n",
      "ROUGE-2 Score: 0.75\n"
     ]
    }
   ],
   "source": [
    "from nltk.util import ngrams\n",
    "\n",
    "def rouge(reference, hypothesis, n):\n",
    "    reference_ngrams = list(ngrams(reference, n))\n",
    "    hypothesis_ngrams = list(ngrams(hypothesis, n))\n",
    "    \n",
    "    # 겹치는 n-gram 개수 계산\n",
    "    intersection = len(set(reference_ngrams) & set(hypothesis_ngrams))\n",
    "    \n",
    "    # reference 문장에 있는 n-gram 개수 계산\n",
    "    reference_count = len(reference_ngrams)\n",
    "    \n",
    "    # hypothesis 문장에 있는 n-gram 개수 계산\n",
    "    hypothesis_count = len(hypothesis_ngrams)\n",
    "    \n",
    "    # ROUGE-N 점수 계산\n",
    "    rouge_score = intersection / max(reference_count, hypothesis_count)\n",
    "    \n",
    "    return rouge_score\n",
    "\n",
    "# 예시 문장\n",
    "reference_sentence = \"The quick brown fox jumps over the lazy dog\"\n",
    "hypothesis_sentence = \"The fast brown fox jumps over the lazy dog\"\n",
    "\n",
    "# ROUGE-1 점수 계산\n",
    "rouge_1_score = rouge(reference_sentence.split(), hypothesis_sentence.split(), 1)\n",
    "print(\"ROUGE-1 Score:\", rouge_1_score)\n",
    "\n",
    "# ROUGE-2 점수 계산\n",
    "rouge_2_score = rouge(reference_sentence.split(), hypothesis_sentence.split(), 2)\n",
    "print(\"ROUGE-2 Score:\", rouge_2_score)\n",
    "\n"
   ]
  },
  {
   "cell_type": "code",
   "execution_count": null,
   "metadata": {},
   "outputs": [],
   "source": []
  }
 ],
 "metadata": {
  "kernelspec": {
   "display_name": "Python 3",
   "language": "python",
   "name": "python3"
  },
  "language_info": {
   "codemirror_mode": {
    "name": "ipython",
    "version": 3
   },
   "file_extension": ".py",
   "mimetype": "text/x-python",
   "name": "python",
   "nbconvert_exporter": "python",
   "pygments_lexer": "ipython3",
   "version": "3.7.6"
  }
 },
 "nbformat": 4,
 "nbformat_minor": 4
}
