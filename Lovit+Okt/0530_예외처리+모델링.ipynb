{
  "nbformat": 4,
  "nbformat_minor": 0,
  "metadata": {
    "colab": {
      "provenance": [],
      "collapsed_sections": [
        "O_7i_oQKwLoS",
        "A9VMZppBcZB-",
        "lGIakClFy_fu",
        "TwmPtKBOvK4-",
        "OScF9DEDtZ5R"
      ]
    },
    "kernelspec": {
      "name": "python3",
      "display_name": "Python 3"
    },
    "language_info": {
      "name": "python"
    }
  },
  "cells": [
    {
      "cell_type": "markdown",
      "source": [
        "# 수연님 파일 사본\n",
        "- 이가영 복사"
      ],
      "metadata": {
        "id": "W0BIqLxJMDJr"
      }
    },
    {
      "cell_type": "code",
      "source": [
        "from google.colab import drive\n",
        "drive.mount('/content/drive')"
      ],
      "metadata": {
        "colab": {
          "base_uri": "https://localhost:8080/"
        },
        "id": "_cJEd1Yalsya",
        "outputId": "8b325200-9eb9-426b-f84b-cd11bc259cff"
      },
      "execution_count": null,
      "outputs": [
        {
          "output_type": "stream",
          "name": "stdout",
          "text": [
            "Drive already mounted at /content/drive; to attempt to forcibly remount, call drive.mount(\"/content/drive\", force_remount=True).\n"
          ]
        }
      ]
    },
    {
      "cell_type": "markdown",
      "source": [
        "# OKT 사용자 사전"
      ],
      "metadata": {
        "id": "gTeZQ43OmZ4Y"
      }
    },
    {
      "cell_type": "code",
      "source": [
        "import os\n",
        "#마운트\n",
        "from google.colab import drive\n",
        "drive.mount('/content/drive')"
      ],
      "metadata": {
        "id": "avn4VT_Dtcee",
        "colab": {
          "base_uri": "https://localhost:8080/"
        },
        "outputId": "cf6119b4-fae0-4cc7-89e3-36c898eefc6a"
      },
      "execution_count": null,
      "outputs": [
        {
          "output_type": "stream",
          "name": "stdout",
          "text": [
            "Drive already mounted at /content/drive; to attempt to forcibly remount, call drive.mount(\"/content/drive\", force_remount=True).\n"
          ]
        }
      ]
    },
    {
      "cell_type": "code",
      "source": [
        "pwd"
      ],
      "metadata": {
        "colab": {
          "base_uri": "https://localhost:8080/",
          "height": 36
        },
        "id": "4qDbnNUWMSZV",
        "outputId": "0d0c220c-6f79-4aba-92ec-c844c2c151d9"
      },
      "execution_count": null,
      "outputs": [
        {
          "output_type": "execute_result",
          "data": {
            "text/plain": [
              "'/content/drive/My Drive/csv모음'"
            ],
            "application/vnd.google.colaboratory.intrinsic+json": {
              "type": "string"
            }
          },
          "metadata": {},
          "execution_count": 8
        }
      ]
    },
    {
      "cell_type": "code",
      "source": [
        "#현재 경로. 보통 ./content일거에요!\n",
        "os.getcwd()\n",
        "#os.chdir('..')\n",
        "os.chdir(\"./drive/MyDrive/csv모음\")\n",
        "#os.getcwd()"
      ],
      "metadata": {
        "id": "btQD6QFCtc5O",
        "colab": {
          "base_uri": "https://localhost:8080/",
          "height": 205
        },
        "outputId": "261bb3d0-8199-4626-d5ed-3d07b6027c58"
      },
      "execution_count": null,
      "outputs": [
        {
          "output_type": "error",
          "ename": "FileNotFoundError",
          "evalue": "[Errno 2] No such file or directory: './drive/MyDrive/csv모음'",
          "traceback": [
            "\u001b[0;31m---------------------------------------------------------------------------\u001b[0m",
            "\u001b[0;31mFileNotFoundError\u001b[0m                         Traceback (most recent call last)",
            "\u001b[0;32m<ipython-input-9-08ced8daba4b>\u001b[0m in \u001b[0;36m<cell line: 4>\u001b[0;34m()\u001b[0m\n\u001b[1;32m      2\u001b[0m \u001b[0mos\u001b[0m\u001b[0;34m.\u001b[0m\u001b[0mgetcwd\u001b[0m\u001b[0;34m(\u001b[0m\u001b[0;34m)\u001b[0m\u001b[0;34m\u001b[0m\u001b[0;34m\u001b[0m\u001b[0m\n\u001b[1;32m      3\u001b[0m \u001b[0;31m#os.chdir('..')\u001b[0m\u001b[0;34m\u001b[0m\u001b[0;34m\u001b[0m\u001b[0m\n\u001b[0;32m----> 4\u001b[0;31m \u001b[0mos\u001b[0m\u001b[0;34m.\u001b[0m\u001b[0mchdir\u001b[0m\u001b[0;34m(\u001b[0m\u001b[0;34m\"./drive/MyDrive/csv모음\"\u001b[0m\u001b[0;34m)\u001b[0m\u001b[0;34m\u001b[0m\u001b[0;34m\u001b[0m\u001b[0m\n\u001b[0m\u001b[1;32m      5\u001b[0m \u001b[0;31m#os.getcwd()\u001b[0m\u001b[0;34m\u001b[0m\u001b[0;34m\u001b[0m\u001b[0m\n",
            "\u001b[0;31mFileNotFoundError\u001b[0m: [Errno 2] No such file or directory: './drive/MyDrive/csv모음'"
          ]
        }
      ]
    },
    {
      "cell_type": "code",
      "source": [
        "#konlpy 다운 및 호출\n",
        "#1. Konlpy에서 Okt\n",
        "!pip install konlpy\n",
        "#2. konlpy 실행을 위한 자바어쩌구 다운\n",
        "!apt-get install openjdk-8-jdk-headless -qq > /dev/null\n",
        "#3. 필요한 설정\n",
        "import os\n",
        "os.environ[\"JAVA_HOME\"] = \"/usr/lib/jvm/java-8-openjdk-amd64\"\n",
        "from konlpy.tag import Okt"
      ],
      "metadata": {
        "colab": {
          "base_uri": "https://localhost:8080/"
        },
        "id": "gfHulj0wtc7W",
        "outputId": "95dd0f5c-f0af-4079-8a6b-353dbbdd0d00"
      },
      "execution_count": null,
      "outputs": [
        {
          "output_type": "stream",
          "name": "stdout",
          "text": [
            "Requirement already satisfied: konlpy in /usr/local/lib/python3.10/dist-packages (0.6.0)\n",
            "Requirement already satisfied: JPype1>=0.7.0 in /usr/local/lib/python3.10/dist-packages (from konlpy) (1.5.0)\n",
            "Requirement already satisfied: lxml>=4.1.0 in /usr/local/lib/python3.10/dist-packages (from konlpy) (4.9.4)\n",
            "Requirement already satisfied: numpy>=1.6 in /usr/local/lib/python3.10/dist-packages (from konlpy) (1.25.2)\n",
            "Requirement already satisfied: packaging in /usr/local/lib/python3.10/dist-packages (from JPype1>=0.7.0->konlpy) (24.0)\n"
          ]
        }
      ]
    },
    {
      "cell_type": "code",
      "source": [
        "okt = Okt()"
      ],
      "metadata": {
        "id": "BmpHnw45tc-F"
      },
      "execution_count": null,
      "outputs": []
    },
    {
      "cell_type": "code",
      "source": [
        "# 사용자 사전 찾아가기 및 경로 설정 _ 여기서 오류가 날 시 코랩에서 폴더 열어서 usr,local 찾아가보시며 폴더명이 일치하는지 확인해보세요! 보통 파이썬 버전이 다릅니다.\n",
        "os.chdir('/usr/local/lib/python3.10/dist-packages/konlpy/java')\n",
        "os.getcwd()"
      ],
      "metadata": {
        "colab": {
          "base_uri": "https://localhost:8080/",
          "height": 36
        },
        "id": "5oGI1OAKtdBm",
        "outputId": "5fa6a690-b7c8-4c9d-9b55-7218cb3dee68"
      },
      "execution_count": null,
      "outputs": [
        {
          "output_type": "execute_result",
          "data": {
            "text/plain": [
              "'/usr/local/lib/python3.10/dist-packages/konlpy/java'"
            ],
            "application/vnd.google.colaboratory.intrinsic+json": {
              "type": "string"
            }
          },
          "metadata": {},
          "execution_count": 12
        }
      ]
    },
    {
      "cell_type": "code",
      "source": [
        "pwd"
      ],
      "metadata": {
        "colab": {
          "base_uri": "https://localhost:8080/",
          "height": 36
        },
        "id": "maHxkibQV3_m",
        "outputId": "e1201704-6220-431e-e705-92f2998f8616"
      },
      "execution_count": null,
      "outputs": [
        {
          "output_type": "execute_result",
          "data": {
            "text/plain": [
              "'/usr/local/lib/python3.10/dist-packages/konlpy/java'"
            ],
            "application/vnd.google.colaboratory.intrinsic+json": {
              "type": "string"
            }
          },
          "metadata": {},
          "execution_count": 13
        }
      ]
    },
    {
      "cell_type": "code",
      "source": [
        "#jar파일을 풀어줄 폴더이름을 정합니다. 저는 temp_fix로 했어요!\n",
        "os.makedirs('./temp_fix')\n",
        "os.chdir('./temp_fix')\n",
        "os.getcwd()"
      ],
      "metadata": {
        "colab": {
          "base_uri": "https://localhost:8080/",
          "height": 36
        },
        "id": "Oi6tN-WjtdD4",
        "outputId": "efad63d3-0377-44d4-acf9-190023e64e0b"
      },
      "execution_count": null,
      "outputs": [
        {
          "output_type": "execute_result",
          "data": {
            "text/plain": [
              "'/usr/local/lib/python3.10/dist-packages/konlpy/java/temp_fix'"
            ],
            "application/vnd.google.colaboratory.intrinsic+json": {
              "type": "string"
            }
          },
          "metadata": {},
          "execution_count": 14
        }
      ]
    },
    {
      "cell_type": "code",
      "source": [
        "#inflated어쩌고 쭉뜨고 맨끝에 에러 없으면 잘된겁니다!\n",
        "!jar xvf ../open-korean-text-2.1.0.jar"
      ],
      "metadata": {
        "colab": {
          "base_uri": "https://localhost:8080/"
        },
        "id": "NBMYB5JbtdFa",
        "outputId": "30dfe63f-3c14-444c-c17a-731a5ef85667"
      },
      "execution_count": null,
      "outputs": [
        {
          "output_type": "stream",
          "name": "stdout",
          "text": [
            "  created: META-INF/\n",
            " inflated: META-INF/MANIFEST.MF\n",
            "  created: org/\n",
            "  created: org/openkoreantext/\n",
            "  created: org/openkoreantext/processor/\n",
            "  created: org/openkoreantext/processor/normalizer/\n",
            "  created: org/openkoreantext/processor/phrase_extractor/\n",
            "  created: org/openkoreantext/processor/qa/\n",
            "  created: org/openkoreantext/processor/stemmer/\n",
            "  created: org/openkoreantext/processor/tokenizer/\n",
            "  created: org/openkoreantext/processor/tools/\n",
            "  created: org/openkoreantext/processor/util/\n",
            "  created: org/openkoreantext/processor/util/adjective/\n",
            "  created: org/openkoreantext/processor/util/adverb/\n",
            "  created: org/openkoreantext/processor/util/auxiliary/\n",
            "  created: org/openkoreantext/processor/util/freq/\n",
            "  created: org/openkoreantext/processor/util/josa/\n",
            "  created: org/openkoreantext/processor/util/noun/\n",
            "  created: org/openkoreantext/processor/util/substantives/\n",
            "  created: org/openkoreantext/processor/util/typos/\n",
            "  created: org/openkoreantext/processor/util/verb/\n",
            " inflated: org/openkoreantext/processor/KoreanPosJava.class\n",
            " inflated: org/openkoreantext/processor/KoreanTokenJava.class\n",
            " inflated: org/openkoreantext/processor/normalizer/KoreanNormalizer$.class\n",
            " inflated: org/openkoreantext/processor/normalizer/KoreanNormalizer$Segment$.class\n",
            " inflated: org/openkoreantext/processor/normalizer/KoreanNormalizer$Segment.class\n",
            " inflated: org/openkoreantext/processor/normalizer/KoreanNormalizer.class\n",
            " inflated: org/openkoreantext/processor/OpenKoreanTextProcessor$.class\n",
            " inflated: org/openkoreantext/processor/OpenKoreanTextProcessor.class\n",
            " inflated: org/openkoreantext/processor/OpenKoreanTextProcessorJava.class\n",
            " inflated: org/openkoreantext/processor/phrase_extractor/KoreanPhraseExtractor$.class\n",
            " inflated: org/openkoreantext/processor/phrase_extractor/KoreanPhraseExtractor$KoreanPhrase$.class\n",
            " inflated: org/openkoreantext/processor/phrase_extractor/KoreanPhraseExtractor$KoreanPhrase.class\n",
            " inflated: org/openkoreantext/processor/phrase_extractor/KoreanPhraseExtractor$PhraseBuffer$.class\n",
            " inflated: org/openkoreantext/processor/phrase_extractor/KoreanPhraseExtractor$PhraseBuffer.class\n",
            " inflated: org/openkoreantext/processor/phrase_extractor/KoreanPhraseExtractor.class\n",
            " inflated: org/openkoreantext/processor/qa/BatchGetUnknownNouns$.class\n",
            " inflated: org/openkoreantext/processor/qa/BatchGetUnknownNouns$ChunkWithTweet$.class\n",
            " inflated: org/openkoreantext/processor/qa/BatchGetUnknownNouns$ChunkWithTweet.class\n",
            " inflated: org/openkoreantext/processor/qa/BatchGetUnknownNouns.class\n",
            " inflated: org/openkoreantext/processor/qa/BatchTokenizeTweets$.class\n",
            " inflated: org/openkoreantext/processor/qa/BatchTokenizeTweets$ParseTime$.class\n",
            " inflated: org/openkoreantext/processor/qa/BatchTokenizeTweets$ParseTime.class\n",
            " inflated: org/openkoreantext/processor/qa/BatchTokenizeTweets.class\n",
            " inflated: org/openkoreantext/processor/qa/KoreanProcessorSandbox$.class\n",
            " inflated: org/openkoreantext/processor/qa/KoreanProcessorSandbox.class\n",
            " inflated: org/openkoreantext/processor/stemmer/KoreanStemmer$.class\n",
            " inflated: org/openkoreantext/processor/stemmer/KoreanStemmer.class\n",
            " inflated: org/openkoreantext/processor/tokenizer/KoreanChunk$.class\n",
            " inflated: org/openkoreantext/processor/tokenizer/KoreanChunk.class\n",
            " inflated: org/openkoreantext/processor/tokenizer/KoreanChunker$.class\n",
            " inflated: org/openkoreantext/processor/tokenizer/KoreanChunker$ChunkMatch$.class\n",
            " inflated: org/openkoreantext/processor/tokenizer/KoreanChunker$ChunkMatch.class\n",
            " inflated: org/openkoreantext/processor/tokenizer/KoreanChunker.class\n",
            " inflated: org/openkoreantext/processor/tokenizer/KoreanDetokenizer$.class\n",
            " inflated: org/openkoreantext/processor/tokenizer/KoreanDetokenizer.class\n",
            " inflated: org/openkoreantext/processor/tokenizer/KoreanSentenceSplitter$.class\n",
            " inflated: org/openkoreantext/processor/tokenizer/KoreanSentenceSplitter.class\n",
            " inflated: org/openkoreantext/processor/tokenizer/KoreanTokenizer$.class\n",
            " inflated: org/openkoreantext/processor/tokenizer/KoreanTokenizer$CandidateParse$.class\n",
            " inflated: org/openkoreantext/processor/tokenizer/KoreanTokenizer$CandidateParse.class\n",
            " inflated: org/openkoreantext/processor/tokenizer/KoreanTokenizer$KoreanToken$.class\n",
            " inflated: org/openkoreantext/processor/tokenizer/KoreanTokenizer$KoreanToken.class\n",
            " inflated: org/openkoreantext/processor/tokenizer/KoreanTokenizer$PossibleTrie$.class\n",
            " inflated: org/openkoreantext/processor/tokenizer/KoreanTokenizer$PossibleTrie.class\n",
            " inflated: org/openkoreantext/processor/tokenizer/KoreanTokenizer.class\n",
            " inflated: org/openkoreantext/processor/tokenizer/ParsedChunk$.class\n",
            " inflated: org/openkoreantext/processor/tokenizer/ParsedChunk.class\n",
            " inflated: org/openkoreantext/processor/tokenizer/Sentence$.class\n",
            " inflated: org/openkoreantext/processor/tokenizer/Sentence.class\n",
            " inflated: org/openkoreantext/processor/tokenizer/TokenizerProfile$.class\n",
            " inflated: org/openkoreantext/processor/tokenizer/TokenizerProfile.class\n",
            " inflated: org/openkoreantext/processor/tools/CreateChunkParsingCandidates$.class\n",
            " inflated: org/openkoreantext/processor/tools/CreateChunkParsingCandidates.class\n",
            " inflated: org/openkoreantext/processor/tools/CreateConjugationExamples$.class\n",
            " inflated: org/openkoreantext/processor/tools/CreateConjugationExamples$ConjugationExample$.class\n",
            " inflated: org/openkoreantext/processor/tools/CreateConjugationExamples$ConjugationExample.class\n",
            " inflated: org/openkoreantext/processor/tools/CreateConjugationExamples.class\n",
            " inflated: org/openkoreantext/processor/tools/CreateParsingExamples$.class\n",
            " inflated: org/openkoreantext/processor/tools/CreateParsingExamples$ParsingExample$.class\n",
            " inflated: org/openkoreantext/processor/tools/CreateParsingExamples$ParsingExample.class\n",
            " inflated: org/openkoreantext/processor/tools/CreateParsingExamples.class\n",
            " inflated: org/openkoreantext/processor/tools/CreatePhraseExtractionExamples$.class\n",
            " inflated: org/openkoreantext/processor/tools/CreatePhraseExtractionExamples$PhraseExample$.class\n",
            " inflated: org/openkoreantext/processor/tools/CreatePhraseExtractionExamples$PhraseExample.class\n",
            " inflated: org/openkoreantext/processor/tools/CreatePhraseExtractionExamples.class\n",
            " inflated: org/openkoreantext/processor/tools/DeduplicateAndSortDictionaries$.class\n",
            " inflated: org/openkoreantext/processor/tools/DeduplicateAndSortDictionaries.class\n",
            " inflated: org/openkoreantext/processor/tools/Runnable.class\n",
            " inflated: org/openkoreantext/processor/tools/UpdateAllTheExamples$.class\n",
            " inflated: org/openkoreantext/processor/tools/UpdateAllTheExamples.class\n",
            " inflated: org/openkoreantext/processor/util/adjective/adjective.txt\n",
            " inflated: org/openkoreantext/processor/util/adverb/adverb.txt\n",
            " inflated: org/openkoreantext/processor/util/auxiliary/conjunctions.txt\n",
            " inflated: org/openkoreantext/processor/util/auxiliary/determiner.txt\n",
            " inflated: org/openkoreantext/processor/util/auxiliary/exclamation.txt\n",
            " inflated: org/openkoreantext/processor/util/CharacterUtils$CharacterBuffer.class\n",
            " inflated: org/openkoreantext/processor/util/CharacterUtils$Java4CharacterUtils.class\n",
            " inflated: org/openkoreantext/processor/util/CharacterUtils$Java5CharacterUtils.class\n",
            " inflated: org/openkoreantext/processor/util/CharacterUtils.class\n",
            " inflated: org/openkoreantext/processor/util/CharArrayMap$1.class\n",
            " inflated: org/openkoreantext/processor/util/CharArrayMap$EmptyCharArrayMap.class\n",
            " inflated: org/openkoreantext/processor/util/CharArrayMap$EntryIterator.class\n",
            " inflated: org/openkoreantext/processor/util/CharArrayMap$EntrySet.class\n",
            " inflated: org/openkoreantext/processor/util/CharArrayMap$MapEntry.class\n",
            " inflated: org/openkoreantext/processor/util/CharArrayMap$UnmodifiableCharArrayMap.class\n",
            " inflated: org/openkoreantext/processor/util/CharArrayMap.class\n",
            " inflated: org/openkoreantext/processor/util/CharArraySet.class\n",
            " inflated: org/openkoreantext/processor/util/example_chunks.txt\n",
            " inflated: org/openkoreantext/processor/util/example_tweets.txt\n",
            " inflated: org/openkoreantext/processor/util/freq/entity-freq.txt.gz\n",
            " inflated: org/openkoreantext/processor/util/Hangul$.class\n",
            " inflated: org/openkoreantext/processor/util/Hangul$DoubleCoda$.class\n",
            " inflated: org/openkoreantext/processor/util/Hangul$DoubleCoda.class\n",
            " inflated: org/openkoreantext/processor/util/Hangul$HangulChar$.class\n",
            " inflated: org/openkoreantext/processor/util/Hangul$HangulChar.class\n",
            " inflated: org/openkoreantext/processor/util/Hangul.class\n",
            " inflated: org/openkoreantext/processor/util/josa/josa.txt\n",
            " inflated: org/openkoreantext/processor/util/KoreanConjugation$.class\n",
            " inflated: org/openkoreantext/processor/util/KoreanConjugation.class\n",
            " inflated: org/openkoreantext/processor/util/KoreanDictionaryProvider$.class\n",
            " inflated: org/openkoreantext/processor/util/KoreanDictionaryProvider.class\n",
            " inflated: org/openkoreantext/processor/util/KoreanPos$.class\n",
            " inflated: org/openkoreantext/processor/util/KoreanPos$KoreanPosTrie$.class\n",
            " inflated: org/openkoreantext/processor/util/KoreanPos$KoreanPosTrie.class\n",
            " inflated: org/openkoreantext/processor/util/KoreanPos.class\n",
            " inflated: org/openkoreantext/processor/util/KoreanSubstantive$.class\n",
            " inflated: org/openkoreantext/processor/util/KoreanSubstantive.class\n",
            " inflated: org/openkoreantext/processor/util/noun/bible.txt\n",
            " inflated: org/openkoreantext/processor/util/noun/company_names.txt\n",
            " inflated: org/openkoreantext/processor/util/noun/congress.txt\n",
            " inflated: org/openkoreantext/processor/util/noun/entities.txt\n",
            " inflated: org/openkoreantext/processor/util/noun/foreign.txt\n",
            " inflated: org/openkoreantext/processor/util/noun/geolocations.txt\n",
            " inflated: org/openkoreantext/processor/util/noun/kpop.txt\n",
            " inflated: org/openkoreantext/processor/util/noun/lol.txt\n",
            " inflated: org/openkoreantext/processor/util/noun/names.txt\n",
            " inflated: org/openkoreantext/processor/util/noun/nouns.txt\n",
            " inflated: org/openkoreantext/processor/util/noun/pokemon.txt\n",
            " inflated: org/openkoreantext/processor/util/noun/profane.txt\n",
            " inflated: org/openkoreantext/processor/util/noun/slangs.txt\n",
            " inflated: org/openkoreantext/processor/util/noun/spam.txt\n",
            " inflated: org/openkoreantext/processor/util/noun/twitter.txt\n",
            " inflated: org/openkoreantext/processor/util/noun/wikipedia_title_nouns.txt\n",
            " inflated: org/openkoreantext/processor/util/substantives/family_names.txt\n",
            " inflated: org/openkoreantext/processor/util/substantives/given_names.txt\n",
            " inflated: org/openkoreantext/processor/util/substantives/modifier.txt\n",
            " inflated: org/openkoreantext/processor/util/substantives/suffix.txt\n",
            " inflated: org/openkoreantext/processor/util/typos/typos.txt\n",
            " inflated: org/openkoreantext/processor/util/verb/eomi.txt\n",
            " inflated: org/openkoreantext/processor/util/verb/pre_eomi.txt\n",
            " inflated: org/openkoreantext/processor/util/verb/verb.txt\n",
            " inflated: org/openkoreantext/processor/util/verb/verb_prefix.txt\n",
            "  created: META-INF/maven/\n",
            "  created: META-INF/maven/org.openkoreantext/\n",
            "  created: META-INF/maven/org.openkoreantext/open-korean-text/\n",
            " inflated: META-INF/maven/org.openkoreantext/open-korean-text/pom.xml\n",
            " inflated: META-INF/maven/org.openkoreantext/open-korean-text/pom.properties\n"
          ]
        }
      ]
    },
    {
      "cell_type": "code",
      "source": [
        "# 사용자 사전 열기\n",
        "with open(f\"/usr/local/lib/python3.10/dist-packages/konlpy/java/temp_fix/org/openkoreantext/processor/util/noun/names.txt\") as f:\n",
        "    data = f.read()\n",
        "data"
      ],
      "metadata": {
        "colab": {
          "base_uri": "https://localhost:8080/",
          "height": 110
        },
        "id": "29CLbx7HtdH7",
        "outputId": "60b6a247-ac94-48e5-d6ef-627713f66024"
      },
      "execution_count": null,
      "outputs": [
        {
          "output_type": "execute_result",
          "data": {
            "text/plain": [
              "'가몽\\n가온\\n갓세븐\\n강새이\\n게임닉가\\n관우\\n귀여미\\n규\\n김유이\\n김준면\\n까까런\\n노컷\\n누너예\\n니노\\n다마고치\\n다이무스\\n대학생\\n데이브\\n도요토미\\n동운\\n동이\\n두주니\\n디시인사이드\\n디오\\n라몹\\n라스\\n라옵\\n멍구\\n메이든\\n명덕\\n명량\\n문민정부\\n미네\\n방엘리\\n병헌\\n붓다\\n비정상회담\\n빼빼로\\n삼풍\\n샤인온미\\n성식\\n성열\\n세라문\\n세라복\\n세종대왕\\n손권\\n손책\\n쇼미더머니\\n쇼챔\\n순규\\n스라소니\\n신동아\\n신쓰패밀리\\n신아라\\n아베\\n안상홍\\n안홍준\\n여누\\n여랑\\n여포\\n연합\\n오꾸닭\\n요섭\\n웃찾사\\n원식\\n유병언\\n유비\\n유이\\n윤기형\\n이나단\\n이명박\\n이완용\\n임창용\\n자괴\\n자니윤\\n자대련\\n자유\\n재중이\\n전교조\\n정윤회\\n제갈량\\n조자룡\\n조조\\n준면\\n지오디\\n지존파\\n진영오\\n차작가\\n차트\\n창섭\\n챠트\\n첸\\n코르사주\\n하무열\\n하용파쿠\\n혁재\\n현이\\n현태\\n혜미\\n'"
            ],
            "application/vnd.google.colaboratory.intrinsic+json": {
              "type": "string"
            }
          },
          "metadata": {},
          "execution_count": 16
        }
      ]
    },
    {
      "cell_type": "code",
      "source": [
        "#gongji\n",
        "data += \"한국외국어대학교\\n한국외대\\n안내\\종합정보시스템\\공고\\n이수\\n학기\\n대하여\\n아래\\n수강편람\\n이중전공\\n수강신청함\\n수강신청\\n예비수강신청\\n교무처장\\n수강료\\n등록기간\\n수강신청자\\n한하다\\n미수강신청자\\n납부불가\\n핫링크\\n고지서출력\\n가상계좌\\n붙임파일\\n모바일앱\\n내역\\n인터넷뱅킹\\n텔레뱅킹\\n개시일\\n신청\\n마감\\n마감일\\n수강취소\\n수강변경\\종합정보화면\\n계절학기\\n부분환불\\n계절학기\\학년도\\n접수일\\n학석사\\n학사\\n석사\\n연계\\n과정생\\n접수처\\n학사종합지원센터\\n양캠퍼스\\n통번역\\n이수\\n미배정\\n부전공\\여석\\n이수\\n지원\\n학사종합지원센터\\n한국예술종합학교\\n특성화\\n수강편람\\n실용외국어\\n공동교양\\n여석\\졸업\\n사정\\n결과\\n확정자\\n불가자\\n개강일\\n우리대학교\\n우리대학\\n안내문\\n학위\\n학위증\\n코로나바이러스\\n신종코로나바이러스\\nHUFS\\n양캠퍼스\\n서울캠퍼스\\n글로벌캠퍼스\\n서울글로벌캠퍼스\\n서울·글로벌캠퍼스\\n우리은행\\n단과대학\\n졸업시험\\n논문\\n제적\\n졸업요건\\n지역학사\\n지역전문가과정\\n수료졸업대기\\nELLT학과\\n영어학과\\n아랍어과\\n미디어커뮤니케이션학부\\n영어전공\\n영미문학문화학과\\n태국어과\\n경제학부\\nEICC학과\\n영어통번역학과\\n베트남어과\\n국제통상학과\\이란어과\\n경영학부\\n프랑스어학부\\n인도어과\\n영어교육과\\n독일어과\\n터키아제르바이잔어과\\n프랑스어교육과\\n노어과\\n몽골어과\\n독일어교육과\\n스페인어과\\n중국언어문화학부\\n한국어교육과\\n이탈리아어과\\n중국외교통상학부\\n국제학부\\n포르투갈어과\\n그리스불가리아학과\\n일본언어문화학부\\n사회과학전공\\n네덜란드어과\\n융합일본지역학부\\nLD전공\\n스칸디나비아어과\\n정치외교학과\\nLT전공\\n말레이인도네시아어과\\n행정학과\\n서양어대학\\n아시아언어문화대학\\n중국어대학\\n일본어대학\\n사회과학\\n상경\\n경영\\n국제학부\\n사회과학전공\\n사범대학\\n교직\\\n",
        "n실용외국어\\n군입대\\n입영통지서\\n미비\\n미충족\\n등록휴학\\n휴학\\n전역일\\n증빙서류\\n1학기\\n2학기\\n개강\\n종강\\n학사일정\\n행사명\\n조치사항\\n참고사항\\n공고\\n부서명\\n학년도\\n개설학과\\n학수번호\\교과목명\\시간\\n교강사명\\n강의시간\\n폐강공고\\n일정\\n단과대\\n배부처\\n문의\\n동유럽학대학\\n국제지역대학\\n어문학관\\n통번역대학\\n인문대학\\n경상대학\\n자연과학대학\\n학생회관\\n공과대학\\n바이오메디컬공학부\\n졸업증명서\\n문의\\n전화\\문의전화\\n원스톱서비스센터\\n졸업예정증명서\\n편입생\\n신입생\\n신편입생\\n아래\\nQR코드\\n지양하다\\n투명성\\n공정성\\n외국인교환학생\\n외국인방문학생\\n첫학기\\n영어진단평가\\n원격\\n비대면\\ne-Class\\neclass\\n이클래스\\n안내하다\\n전자출결\\n전자출결시스템\\n체계적인\\n엄정성\\n공고\\n코로나19\\n일반휴학\\n신청\\n별도문의\\nCOVID-19\\nCovid19\\covid19\\n중간시험\\기말시험\\n응시인원\\nCommunicativeEnglish\\nLS\\nL/S\\n우리대학\\n콜로키움\\nEU연구소\\n인문사회연구사업단\\n온·오프라인\\n온오프라인\\nHK+사업단\\n국제관\\n인도연구소\\n패널티\\n수습국원\\n추가모집\\n게시물\\n외대교육방송국\\n교수학습개발원\\nFBS\\주한브라질대사관\\n세계여성의날\\스마트도서관\\n휠라아쿠쉬네트홀\\n영화\\n상영\\n한국어자막\\대학혁신지원사업\\n아이디어톤\\n수도권역\\n미래대학투모로우솔루션\\n미네르바헬스장\\n교육생\\n휴관\\n금모닝\\n글로벌캠퍼스\\n누구나\\n회차별\\n보건실\\n대한적십자사\\n헌혈증\\n헌혈자\\n성격유형검사\\n핵심역량통합관리시스템\\nHufsability\\n교과\\n비교과\\n서울학생상담센터\\n추후공지\\n청년몽땅정보통\\n마이페이지\\n문의처\\n다산콜센터\\특별전형\\n일반전형\\n면접전형\\n등록예치금\\n예치금\\n모집\\n학과\\n전공\\nTESOL대학원\\n세미오시스연구센터\\n서울학생상담센터\\n전문\\n경영대학원\\n해당일\\n접수마감일\\n해당학기\\n졸업자\\n졸업예정자\\n외국대학\\\n",
        "n소지자\\n한국어능력시험\\n입증서류\\n출신학교\\n주한공관영사\\n입증서류\\n학사학위\\n학사\\n최종학력\\n증명\\n학위증서\\n개인정보이용및제공동의서\\n기타서류\\n해당자\\n추천서\\n경력증명서\\n외국국적지원자\\n성적증명서\\n총점\\n사이버외대\\n군인공제회직원\\n학교교직원\\n첫학기\\n입학금\\n운영위원회\\n전형료\\n우편접수\\n입학원서\\n본인날인\\n서명함\\n수험표\\n지참\\n제출서류\\n외국어교육센터\\nK-Zone\\nNoshow\\n출석차감\\n1교시\\n2교시\\n3교시\\n4교시\\n5교시\\n6교시\\n7교시\\n8교시\\n9교시\\n10교시\\n11교시\\n12교시\\n작문\\n대학영어\\n중간시험\\n보충수업\\n추가모집\\n창업자\\nAI/SW\\n모집공고\\n모집분야\\n일반창업\\n스펙업\\n졸업대기자\\n수료생\\nSW중심대학사업단\\nAI교육원\\nSW관련학과\\n컴퓨터공학부\\n정보통신공학부\\nGBT전공\\nELLT학과\\nAI융합전공\\n데이터사이언스전공\\n바이오데이터사이언스전공\\nICT&AI세부모듈\\n수혜제외\\n초과학기생\\n초과학기\\n9학기\\n1학기\\n2학기\\n3학기\\n4학기\\n5학기\\n6학기\\n7학기\\n8학기\\n지원사항\\n팀별\\n개인별\\n사업자등록증\\\n",
        "n최종보고서\\n학기말\\n학기초\\n전세계\\n삼성그룹\\nLG그룹\\n주기적\\n인증테스트\\n비교과\\n굿즈\\n코로나19\\n경제적\\n지원\\n타지역\\n이에\\n랜선나눔캠퍼스\\n활동개요\\n신청기간\\n비합격\\n비선발자\\n최종합격자\\n활동불가자\\n활동혜택\\n자기소개서\\n1부\\n학습계획서\\n증빙자료\\n재학증명서\\n1차합격\\n2차합격\\n스캔\\n활동비\\소득세\\n지방소득세\\n문의처\\n추후공지\\n공공인재개발원\\n개인사물함\\n행정입법고시\\n2차모의고사\\n수험서적\\n사민재\\n세미나실\\n국제학생회\\n본교생\\n외국인교환학생\\n정기총회\\n뵨교재학생\\n버디프로그램\\n홍보팀\\n 기획컬처팀\\n국제교류처\\n국제교류처장\\n불합격자\\n코로나-19\\n양성판정\\n음성판정\\n양성\\n음성\\n최종합격자\\nQ&A\\n필참\\n퇴출\\n정기활동\\n이메일접수\\n시험일정\\n구분\\n시간\\n비고\\n시험장소\\n입실완료\\n인문과학관\\n졸업유예생\\n학부생들\\n코로나-19\\n글로벌캠퍼스\\n보건실\\n학생부종합전형\\n합격수기\\n선배들\\n글로벌창업지원단\\n창업인재양성센터\\n창업동아리\\n미디어커뮤니케이션대학원\\n대학원장\\nCulture&Technology융합대학\\\n",
        "n지원자격\\n지원서\\n접수\\n평가요소\\n영자신문사\\nTheArgus\\n수습기자\\n디아거스\\n공식홈페이지\\n공식인스타그램\\n사회봉사센터\\n국제학사\\n우편접수\\n서울시동대문구이문로107\\n대학안전관리계획\\n붙임팡리\\n안전보건관리팀\\n동원번역상\\n\""
      ],
      "metadata": {
        "id": "flSfR0Zy_COQ"
      },
      "execution_count": null,
      "outputs": []
    },
    {
      "cell_type": "code",
      "source": [
        "# janhak\n",
        "\"\"\" data += '한국외국어대학교\\n한국외대\\n안내\\종합정보시스템\\공고\\n이수\\n학기\\n대하여\\장학재단\\n장학생\\n지원불가\\n자녀학자금\\n다자녀\\n지자체\\nHUFS앱\\n한국외대앱\\n부모\\n인문사회계열\\n제출서류\\n장학생신청서\\n추천서\\n추천소견\\n총장직인\\n자기소개서\\n전공분야\\n학습계획\\n졸업후진로\\n자유양식\\nA4\\n이내\\n주민등록등본\\n개인정보\\n기초생활수급권자\\n기초생활수급자증명서\\n기초생활수급자\\차상위계층\\n모자가정\\n부자가정\\n주민센터\\n한부모가정\\n건강보험증\\n건강보험자격확인서\\n과세자\\n급여생활자\\n원천징수\\n근로소득\\근무처\\n비사업자\\n수상내역\\n어학성적\\n입상경력증명서\\n봉사활동내역확인서\\n심신장애증명서\\n장애인등록수첩\\n장애인카드\\n직계가족\\n임대차계약서\\n학생지원팀\\n무이자\\n농어업인\\n농어업\\n융자금\\n정규학기\\n건강보험료\\n한국장학재단\\n학자금대출\\n지원자격\\n직전학기\\n학부모\\n1구간\\n2구간\\n3구간\\4구간\\n5구간\\n6구간\\n7구간\\n8구간\\n9구간\\n10구간\\n지원대상\\n다문화가족\\n다자녀가구\\n소득구간\\n거주자\\n4년제\\n정규대학\\n중증\\n석박사\\n이공계\\n직전학기\\n등록금납입영수증\\n등록금납입\\n통장사본\\n기획홍보팀\\n사회복지사\\n학생인재개발처\\n추가등록\\n등록기간\\n\\n법인사무처\\n사업관리팀\\\n",
        "n서울시 동대문구 이문로 107\\n등기부등본\\n인감 도장\\n설명회\\n제고\\n임대환경\\n관리비\\n전세\\n가감율\\\n",
        "n수수료율\\n총액\\n전후\\n점수\\n기타사항\\n발주처\\n제3자\\n대원빌딩\\n서울특별시 테헤란로 98길 11\\n근린 생활 시설\\\n",
        "n리모델링\\nBRICs(브릭스)전공\\nEU(유럽연합)전공\\n동북아외교통상전공\\n문화콘텐츠학전공\\n국가리더전공\\n세계문화예술경영전공\\n디지털인문한국학전공\\nAI융합전공\\n데이터사이언스전공\\n바이오데이터사이언스전공\\n상담·UX심리 융합전공\\n지역경제개발협력전공\\n보험계리학전공\\nCulture & Technology융합대학\\n바이오메디컬공학부\\n글로벌자유전공학부\\n기후변화융합학부\\n전략기획팀\\n예산조정팀\\n평가감사팀\\n국책사업통합추진단\\nIT개발팀(서울)\\nIT인프라팀(서울)\\n정보통신팀(글로벌)\\n디지털서비스팀(서울∙글로벌)\\n지식출판콘텐츠팀\\n혁신지원팀수강자\\n재무회계팀\\n학부생\\n재입학생\\n분할납부자\\n분할납부\\n졸업유예\\n졸업\\n장학팀\\n미취업자\\n건강보험\\n특별승인\\n자격요건\\n학생지원팀\\n동문\\n장학회\\n장학금명\\n학비조달\\n조달\\n소득구간확인서\\n봉사활동확인서\\n개인정보수집이용동의서\\n지원기간\\n제출방법\\n방문접수\\n장학팀\\n모현읍\\n외대로\\n수혜내역\\n수혜액\\n수혜\\n등록휴학생\\n재학증명서\\n건강보험료납부확인서\\n양식없음\\n종료일\\n국가근로\\n타대학생\\n백분위\\n학자금\\n지원구간\\n신청유형\\n상반기\\n하반기\\n운영\\n위원회\\n장학금\\n진흥원\\n울산시\\nHUFS\\n양캠퍼스\\n서울캠퍼스\\n글로벌캠퍼스\\n서울글로벌캠퍼스\\n서울·글로벌캠퍼스\\n우리은행\\n단과대학\\n졸업시험\\n논문\\n제적\\n졸업요건\\n지역학사\\n지역전문가과정\\n수료졸업대기\\nELLT학과\\n영어학과\\n아랍어과\\n미디어커뮤니케이션학부\\n영어전공\\n영미문학문화학과\\n태국어과\\n경제학부\\nEICC학과\\n영어통번역학과\\n베트남어과\\n국제통상학과\\이란어과\\n경영학부\\n프랑스어학부\\n인도어과\\n영어교육과\\n독일어과\\n터키아제르바이잔어과\\n프랑스어교육과\\n노어과\\n몽골어과\\n독일어교육과\\n스페인어과\\n중국언어문화학부\\n한국어교육과\\n이탈리아어과\\n중국외교통상학부\\n국제학부\\n포르투갈어과\\n그리스불가리아학과\\n일본언어문화학부\\n사회과학전공\\n네덜란드어과\\n융합일본지역학부\\nLD전공\\n스칸디나비아어과\\n정치외교학과\\nLT전공\\n말레이인도네시아어과\\n행정학과\\n서양어대학\\n아시아언어문화대학\\n중국어대학\\n일본어대학\\n사회과학\\n상경\\n경영\\n국제학부\\n사회과학전공\\n사범대학\\n교직\\n실용외국어\\n군입대\\n입영통지서\\n미비\\n미충족\\n등록휴학\\n휴학\\n전역일\\n증빙서류\\n1학기\\n2학기\\n개강\\n종강\\n학사일정\\n행사명\\n조치사항\\n참고사항\\n공고\\n부서명\\n학년도\\n개설학과\\n학수번호\\교과목명\\시간\\n교강사명\\n강의시간\\n폐강공고\\n일정\\n단과대\\n배부처\\n문의\\n동유럽학대학\\n국제지역대학\\n어문학관\\n통번역대학\\n인문대학\\n경상대학\\n자연과학대학\\n학생회관\\n공과대학\\n바이오메디컬공학부\\n졸업증명서\\n문의\\n전화\\문의전화\\n원스톱서비스센터\\n졸업예정증명서\\n편입생\\n신입생\\n신편입생\\n아래\\nQR코드\\n지양하다\\n비고\\n입학금\\n기타\\n코딩존\\n기초과학연구소\\n정보산업공학연구소\\n' \"\"\""
      ],
      "metadata": {
        "id": "lo7kqSJ4z5TT",
        "colab": {
          "base_uri": "https://localhost:8080/",
          "height": 223
        },
        "outputId": "ef1fa558-732e-4fe2-e69a-dd9bf70b5a7f"
      },
      "execution_count": null,
      "outputs": [
        {
          "output_type": "execute_result",
          "data": {
            "text/plain": [
              "\" data += '한국외국어대학교\\n한국외대\\n안내\\\\종합정보시스템\\\\공고\\n이수\\n학기\\n대하여\\\\장학재단\\n장학생\\n지원불가\\n자녀학자금\\n다자녀\\n지자체\\nHUFS앱\\n한국외대앱\\n부모\\n인문사회계열\\n제출서류\\n장학생신청서\\n추천서\\n추천소견\\n총장직인\\n자기소개서\\n전공분야\\n학습계획\\n졸업후진로\\n자유양식\\nA4\\n이내\\n주민등록등본\\n개인정보\\n기초생활수급권자\\n기초생활수급자증명서\\n기초생활수급자\\\\차상위계층\\n모자가정\\n부자가정\\n주민센터\\n한부모가정\\n건강보험증\\n건강보험자격확인서\\n과세자\\n급여생활자\\n원천징수\\n근로소득\\\\근무처\\n비사업자\\n수상내역\\n어학성적\\n입상경력증명서\\n봉사활동내역확인서\\n심신장애증명서\\n장애인등록수첩\\n장애인카드\\n직계가족\\n임대차계약서\\n학생지원팀\\n무이자\\n농어업인\\n농어업\\n융자금\\n정규학기\\n건강보험료\\n한국장학재단\\n학자금대출\\n지원자격\\n직전학기\\n학부모\\n1구간\\n2구간\\n3구간\\x04구간\\n5구간\\n6구간\\n7구간\\n8구간\\n9구간\\n10구간\\n지원대상\\n다문화가족\\n다자녀가구\\n소득구간\\n거주자\\n4년제\\n정규대학\\n중증\\n석박사\\n이공계\\n직전학기\\n등록금납입영수증\\n등록금납입\\n통장사본\\n기획홍보팀\\n사회복지사\\n학생인재개발처\\n추가등록\\n등록기간\\n\\n법인사무처\\n사업관리팀n서울시 동대문구 이문로 107\\n등기부등본\\n인감 도장\\n설명회\\n제고\\n임대환경\\n관리비\\n전세\\n가감율n수수료율\\n총액\\n전후\\n점수\\n기타사항\\n발주처\\n제3자\\n대원빌딩\\n서울특별시 테헤란로 98길 11\\n근린 생활 시설n리모델링\\nBRICs(브릭스)전공\\nEU(유럽연합)전공\\n동북아외교통상전공\\n문화콘텐츠학전공\\n국가리더전공\\n세계문화예술경영전공\\n디지털인문한국학전공\\nAI융합전공\\n데이터사이언스전공\\n바이오데이터사이언스전공\\n상담·UX심리 융합전공\\n지역경제개발협력전공\\n보험계리학전공\\nCulture & Technology융합대학\\n바이오메디컬공학부\\n글로벌자유전공학부\\n기후변화융합학부\\n전략기획팀\\n예산조정팀\\n평가감사팀\\n국책사업통합추진단\\nIT개발팀(서울)\\nIT인프라팀(서울)\\n정보통신팀(글로벌)\\n디지털서비스팀(서울∙글로벌)\\n지식출판콘텐츠팀\\n혁신지원팀수강자\\n재무회계팀\\n학부생\\n재입학생\\n분할납부자\\n분할납부\\n졸업유예\\n졸업\\n장학팀\\n미취업자\\n건강보험\\n특별승인\\n자격요건\\n학생지원팀\\n동문\\n장학회\\n장학금명\\n학비조달\\n조달\\n소득구간확인서\\n봉사활동확인서\\n개인정보수집이용동의서\\n지원기간\\n제출방법\\n방문접수\\n장학팀\\n모현읍\\n외대로\\n수혜내역\\n수혜액\\n수혜\\n등록휴학생\\n재학증명서\\n건강보험료납부확인서\\n양식없음\\n종료일\\n국가근로\\n타대학생\\n백분위\\n학자금\\n지원구간\\n신청유형\\n상반기\\n하반기\\n운영\\n위원회\\n장학금\\n진흥원\\n울산시\\nHUFS\\n양캠퍼스\\n서울캠퍼스\\n글로벌캠퍼스\\n서울글로벌캠퍼스\\n서울·글로벌캠퍼스\\n우리은행\\n단과대학\\n졸업시험\\n논문\\n제적\\n졸업요건\\n지역학사\\n지역전문가과정\\n수료졸업대기\\nELLT학과\\n영어학과\\n아랍어과\\n미디어커뮤니케이션학부\\n영어전공\\n영미문학문화학과\\n태국어과\\n경제학부\\nEICC학과\\n영어통번역학과\\n베트남어과\\n국제통상학과\\\\이란어과\\n경영학부\\n프랑스어학부\\n인도어과\\n영어교육과\\n독일어과\\n터키아제르바이잔어과\\n프랑스어교육과\\n노어과\\n몽골어과\\n독일어교육과\\n스페인어과\\n중국언어문화학부\\n한국어교육과\\n이탈리아어과\\n중국외교통상학부\\n국제학부\\n포르투갈어과\\n그리스불가리아학과\\n일본언어문화학부\\n사회과학전공\\n네덜란드어과\\n융합일본지역학부\\nLD전공\\n스칸디나비아어과\\n정치외교학과\\nLT전공\\n말레이인도네시아어과\\n행정학과\\n서양어대학\\n아시아언어문화대학\\n중국어대학\\n일본어대학\\n사회과학\\n상경\\n경영\\n국제학부\\n사회과학전공\\n사범대학\\n교직\\n실용외국어\\n군입대\\n입영통지서\\n미비\\n미충족\\n등록휴학\\n휴학\\n전역일\\n증빙서류\\n1학기\\n2학기\\n개강\\n종강\\n학사일정\\n행사명\\n조치사항\\n참고사항\\n공고\\n부서명\\n학년도\\n개설학과\\n학수번호\\\\교과목명\\\\시간\\n교강사명\\n강의시간\\n폐강공고\\n일정\\n단과대\\n배부처\\n문의\\n동유럽학대학\\n국제지역대학\\n어문학관\\n통번역대학\\n인문대학\\n경상대학\\n자연과학대학\\n학생회관\\n공과대학\\n바이오메디컬공학부\\n졸업증명서\\n문의\\n전화\\\\문의전화\\n원스톱서비스센터\\n졸업예정증명서\\n편입생\\n신입생\\n신편입생\\n아래\\nQR코드\\n지양하다\\n비고\\n입학금\\n기타\\n코딩존\\n기초과학연구소\\n정보산업공학연구소\\n' \""
            ],
            "application/vnd.google.colaboratory.intrinsic+json": {
              "type": "string"
            }
          },
          "metadata": {},
          "execution_count": 18
        }
      ]
    },
    {
      "cell_type": "code",
      "source": [
        "# haksa\n",
        "data += \"한국외국어대학교\\n한국외대\\n안내\\종합정보시스템\\공고\\n이수\\n학기\\n대하여\\장학재단\\n장학생\\n지원불가\\n자녀학자금\\n다자녀\\n지자체\\nHUFS앱\\n한국외대앱\\n부모\\n인문사회계열\\n제출서류\\n장학생신청서\\n추천서\\n추천소견\\n총장직인\\n자기소개서\\n전공분야\\n학습계획\\n졸업후진로\\n자유양식\\nA4\\n이내\\n주민등록등본\\n개인정보\\n기초생활수급권자\\n기초생활수급자증명서\\n기초생활수급자\\차상위계층\\n모자가정\\n부자가정\\n주민센터\\n한부모가정\\n건강보험증\\n건강보험자격확인서\\n과세자\\n급여생활자\\n원천징수\\n근로소득\\근무처\\n비사업자\\n수상내역\\n어학성적\\n입상경력증명서\\n봉사활동내역확인서\\n심신장애증명서\\n장애인등록수첩\\n장애인카드\\n직계가족\\n임대차계약서\\n학생지원팀\\n무이자\\n농어업인\\n농어업\\n융자금\\n정규학기\\n건강보험료\\n한국장학재단\\n학자금대출\\n지원자격\\n직전학기\\n학부모\\n1구간\\n2구간\\n3구간\\4구간\\n5구간\\n6구간\\n7구간\\n8구간\\n9구간\\n10구간\\n지원대상\\n다문화가족\\n다자녀가구\\n소득구간\\n거주자\\n4년제\\n정규대학\\n중증\\n석박사\\n이공계\\n직전학기\\n등록금납입영수증\\n등록금납입\\n통장사본\\n기획홍보팀\\n사회복지사\\n학생인재개발처\\n추가등록\\n등록기간\\n\\n법인사무처\\n사업관리팀\\\n",
        "n서울시 동대문구 이문로 107\\n등기부등본\\n인감 도장\\n설명회\\n제고\\n임대환경\\n관리비\\n전세\\n가감율\\\n",
        "n수수료율\\n총액\\n전후\\n점수\\n기타사항\\n발주처\\n제3자\\n대원빌딩\\n서울특별시 테헤란로 98길 11\\n근린 생활 시설\\\n",
        "n리모델링\\nBRICs(브릭스)전공\\nEU(유럽연합)전공\\n동북아외교통상전공\\n문화콘텐츠학전공\\n국가리더전공\\n세계문화예술경영전공\\n디지털인문한국학전공\\nAI융합전공\\n데이터사이언스전공\\n바이오데이터사이언스전공\\n상담·UX심리 융합전공\\n지역경제개발협력전공\\n보험계리학전공\\nCulture & Technology융합대학\\n바이오메디컬공학부\\n글로벌자유전공학부\\n기후변화융합학부\\n전략기획팀\\n예산조정팀\\n평가감사팀\\n국책사업통합추진단\\nIT개발팀(서울)\\nIT인프라팀(서울)\\n정보통신팀(글로벌)\\n디지털서비스팀(서울∙글로벌)\\n지식출판콘텐츠팀\\n혁신지원팀수강자\\n재무회계팀\\n학부생\\n재입학생\\n분할납부자\\n분할납부\\n졸업유예\\n졸업\\n장학팀\\n미취업자\\n건강보험\\n특별승인\\n자격요건\\n학생지원팀\\n동문\\n장학회\\n장학금명\\n학비조달\\n조달\\n소득구간확인서\\n봉사활동확인서\\n개인정보수집이용동의서\\n지원기간\\n제출방법\\n방문접수\\n장학팀\\n모현읍\\n외대로\\n수혜내역\\n수혜액\\n수혜\\n등록휴학생\\n재학증명서\\n건강보험료납부확인서\\n양식없음\\n종료일\\n국가근로\\n타대학생\\n백분위\\n학자금\\n지원구간\\n신청유형\\n상반기\\n하반기\\n운영\\n위원회\\n장학금\\n진흥원\\n울산시\\nHUFS\\n양캠퍼스\\n서울캠퍼스\\n글로벌캠퍼스\\n서울글로벌캠퍼스\\n서울·글로벌캠퍼스\\n우리은행\\n단과대학\\n졸업시험\\n논문\\n제적\\n졸업요건\\n지역학사\\n지역전문가과정\\n수료졸업대기\\nELLT학과\\n영어학과\\n아랍어과\\n미디어커뮤니케이션학부\\n영어전공\\n영미문학문화학과\\n태국어과\\n경제학부\\nEICC학과\\n영어통번역학과\\n베트남어과\\n국제통상학과\\이란어과\\n경영학부\\n프랑스어학부\\n인도어과\\n영어교육과\\n독일어과\\n터키아제르바이잔어과\\n프랑스어교육과\\n노어과\\n몽골어과\\n독일어교육과\\n스페인어과\\n중국언어문화학부\\n한국어교육과\\n이탈리아어과\\n중국외교통상학부\\n국제학부\\n포르투갈어과\\n그리스불가리아학과\\n일본언어문화학부\\n사회과학전공\\n네덜란드어과\\n융합일본지역학부\\nLD전공\\n스칸디나비아어과\\n정치외교학과\\nLT전공\\n말레이인도네시아어과\\n행정학과\\n서양어대학\\n아시아언어문화대학\\n중국어대학\\n일본어대학\\n사회과학\\n상경\\n경영\\n국제학부\\n사회과학전공\\n사범대학\\n교직\\n실용외국어\\n군입대\\n입영통지서\\n미비\\n미충족\\n등록휴학\\n휴학\\n전역일\\n증빙서류\\n1학기\\n2학기\\n개강\\n종강\\n학사일정\\n행사명\\n조치사항\\n참고사항\\n공고\\n부서명\\n학년도\\n개설학과\\n학수번호\\교과목명\\시간\\n교강사명\\n강의시간\\n폐강공고\\n일정\\n단과대\\n배부처\\n문의\\n동유럽학대학\\n국제지역대학\\n어문학관\\n통번역대학\\n인문대학\\n경상대학\\n자연과학대학\\n학생회관\\n공과대학\\n바이오메디컬공학부\\n졸업증명서\\n문의\\n전화\\문의전화\\n원스톱서비스센터\\n졸업예정증명서\\n편입생\\n신입생\\n신편입생\\n아래\\nQR코드\\n지양하다\\n비고\\n입학금\\n기타\\n코딩존\\n기초과학연구소\\n정보산업공학연구소\\n\""
      ],
      "metadata": {
        "id": "5zRT8Cx7a55T"
      },
      "execution_count": null,
      "outputs": []
    },
    {
      "cell_type": "code",
      "source": [
        "# hiring\n",
        "data += \"모집공고\\n지원자격\\n일반사항\\n국제학사장\\n영어학부\\n전임조교\\n사이버외대\\n사이버한국외국어대학교\\n주요업무\\n행정업무\\n신청기한\\n개인정보수집이용제공동의서\\유첨파일\\n지원사업\\n모집분야\\n사회\\n문화\\n역사\\n4대보험\\n급여조건\\n근무시간\\n근무조건\\n채용\\n채용예정일\\n적격자\\n인사팀\\n구직자\\n공정화\\n시행규칙\\n근무\\n여름학기\\n겨울학기\\n기재내용\\n행정지원처장\\n결격사유\\n서류전형\\n학술정보팀\\n근무지\\n적임자\\n계약직\\n학생인재개발처\\n진로취업센터\\n개별연락\\n풀근무\\n선발\\n우선선발\\n외국어연수평가원\\n국제교육원\\n인력풀\\n시수\\n행정지원처장\\n인사팀\\n계약직\\n허위사실\\n기타문의\\n입사지원서\\n행정지원처장\\n서울런\\n캠프\\n한국인\\n보조교사\\n서류합격자\\n합격자\\n면접\\n한국외국어대학교\\n한국외대\\n계약직\\n사업본부운영1팀\\n외국어연수평가원\\n세르반테스문화원\\n사업지원팀\\n국제입학관리팀\\nFULLTIME\\n근무 학기\\n기숙사생\\n기숙사비품\\n소모품\\n공과금고지서\\n민원\\n담당 업무\\n근무 기간\\n근무 혜택\\n기숙사비\\n선 납부\\n근무 종료\\n장학금\\n지원서\\n기타\\n문의사항\\n한국어문화교육원\\n인사팀\\n학생상담센터\\n인문데이터연구센터\\n중남미연구소\\n산업경영공학과\\n공통지원자격\\n직원인사규정\\n결격사유\\n채용 조건\\n글로벌 캠퍼스\\n학사종합지원센터\\n용인시 처인구\\n단축근무\\n계약연장\\n계약기간\\n만료\\n근무성적평가\\n일정기간\\n통근버스\\n버스탑승\\n서류전형\\n심층면접\\n소정양식\\n인터넷 접수\\n입사지원서\\n자기소개서\\n자격증\\n경력사항\\n취업보호대상자\\n해당자\\n본교\\본교 홈페이지\\n채용시스템\\n공고문\\n바로가기 배너\\n피성년후견인\\n금고 이상의 형\\n병역기피자\\n신체검사결과\\n부적당\\n부적합\\n기재내용\\n허위 사실\\n허위사실\\n기타 문의\\n인사팀\\n행정지원처장\\n전임강사\\n채용분야\\n인원\\n한국어문화교육원\\n전임강사\\n외국어로서의한국어교육\\n공통지원자격\\n사업본부\\n임용기준\\n성 관련 범죄\\n박사학위\\n외국어로서의 한국어교육전공\\n부속기관\\한국어교원자격증\\n자격증\\n발행기관\\n책임시간\\n서울캠퍼스\\n채용일\\n추후 협의\\n증빙서류\\n제출목록\\n지원서\\n온라인지원\\n졸업증명서\\n성적증명서\\n학사\\n석사\\n박사\\n업로드\\n성범죄 경력조회서\\n경력증명서\\n발급본\\n지원 기간\\n접수 방법\\n사업본부\\n개별 통보\\n개별 통지\\n연구보조원\\n숙련자\\n웹페이지\\nKMOOC\\n인문사회계열\\n전형방법\\n서류전형\\n면접대상자\\n줌주소\\n실습데이터\\nZOOM데스크탑앱\\n포트폴리오\\n지원서 접수\\n압축파일\\nzip\\n학생상담센터\\n개인상담\\n집단상담\\n대학혁신지원사업\\n상담센터\\n석사학위\\n소지자\\n경력(재직)증명서\\n개인정보동의서\\n별첨양식\\n교직원 출퇴근 셔틀버스\\n출퇴근\\n교직원\\n이문동\\n잠실\\n분당\\n노선\\n오피스\\n스페인어\\n포르투갈어\\n석사\\n재학생\\nHK연구소\\n중남미연구소\\n내부규정\\n급여\\n계약기간\\n교내외장학금\\n사회 배려계층\\n교무행정팀\\n객원상담원\\n겸임교수\\n초빙교수\\n초빙공고\\n정보통신공학과\\n재공고\\n시설관리팀\\n수목관리\\n직원인사규정\\n제11조\\n임용결격사유\\n1종보통 운전면허\\n외국인학생\\n여름방학\\n민원응대\\n봉사장학금\\n장학금지급규정\\n등록금 범위내\\n국제학사\\nGlobeeDorm\\n학사운영팀\\n중국연구소\\n전임연구원\\n최종학위증명서\\n이력서\\n자율양식\\n경력증명서\\n채용예정일\\n지식출판콘텐츠원\\n채용공고\\n경영기획팀\\n행정\\n학사학위\\n국고사업\\n관련법\\n연구산학협력단\\n러시아연구소\\n초빙분야\\n세부전공\\n인센티브\\n4대 보험\\n한국연구재단\\n인문한국플로스지원사업\\n사립학교\\n해당 분야\\n기초심사\\n전공면접\\n경기도 용인시 처인구 모현면 외대로 81\\n국제사회교육원\\n러시아연구소\\n육아휴직\\n학술정보팀\\n퇴직금\\nTESOL\\nFLEX센터\\n능숙자\\nOA프로그램\\n영어회화\\n관련업무\\n유경험자\\n근무 가능자\\근무 가능\\n장학생\\n재학생\\n언어 능력\\n설명회\\n선착순\\n국제입학관리팀\\n\""
      ],
      "metadata": {
        "id": "-oxU8FShMm66"
      },
      "execution_count": null,
      "outputs": []
    },
    {
      "cell_type": "code",
      "source": [
        "# 파일 새롭게 저장\n",
        "with open(\"/usr/local/lib/python3.10/dist-packages/konlpy/java/temp_fix/org/openkoreantext/processor/util/noun/names.txt\", 'w') as f:\n",
        "    f.write(data)\n",
        "data"
      ],
      "metadata": {
        "colab": {
          "base_uri": "https://localhost:8080/",
          "height": 223
        },
        "id": "7R5pWNsGtdKd",
        "outputId": "ef189f57-2550-48e5-8d00-12db36aa0cf4"
      },
      "execution_count": null,
      "outputs": [
        {
          "output_type": "execute_result",
          "data": {
            "text/plain": [
              "'가몽\\n가온\\n갓세븐\\n강새이\\n게임닉가\\n관우\\n귀여미\\n규\\n김유이\\n김준면\\n까까런\\n노컷\\n누너예\\n니노\\n다마고치\\n다이무스\\n대학생\\n데이브\\n도요토미\\n동운\\n동이\\n두주니\\n디시인사이드\\n디오\\n라몹\\n라스\\n라옵\\n멍구\\n메이든\\n명덕\\n명량\\n문민정부\\n미네\\n방엘리\\n병헌\\n붓다\\n비정상회담\\n빼빼로\\n삼풍\\n샤인온미\\n성식\\n성열\\n세라문\\n세라복\\n세종대왕\\n손권\\n손책\\n쇼미더머니\\n쇼챔\\n순규\\n스라소니\\n신동아\\n신쓰패밀리\\n신아라\\n아베\\n안상홍\\n안홍준\\n여누\\n여랑\\n여포\\n연합\\n오꾸닭\\n요섭\\n웃찾사\\n원식\\n유병언\\n유비\\n유이\\n윤기형\\n이나단\\n이명박\\n이완용\\n임창용\\n자괴\\n자니윤\\n자대련\\n자유\\n재중이\\n전교조\\n정윤회\\n제갈량\\n조자룡\\n조조\\n준면\\n지오디\\n지존파\\n진영오\\n차작가\\n차트\\n창섭\\n챠트\\n첸\\n코르사주\\n하무열\\n하용파쿠\\n혁재\\n현이\\n현태\\n혜미\\n한국외국어대학교\\n한국외대\\n안내\\\\종합정보시스템\\\\공고\\n이수\\n학기\\n대하여\\n아래\\n수강편람\\n이중전공\\n수강신청함\\n수강신청\\n예비수강신청\\n교무처장\\n수강료\\n등록기간\\n수강신청자\\n한하다\\n미수강신청자\\n납부불가\\n핫링크\\n고지서출력\\n가상계좌\\n붙임파일\\n모바일앱\\n내역\\n인터넷뱅킹\\n텔레뱅킹\\n개시일\\n신청\\n마감\\n마감일\\n수강취소\\n수강변경\\\\종합정보화면\\n계절학기\\n부분환불\\n계절학기\\\\학년도\\n접수일\\n학석사\\n학사\\n석사\\n연계\\n과정생\\n접수처\\n학사종합지원센터\\n양캠퍼스\\n통번역\\n이수\\n미배정\\n부전공\\\\여석\\n이수\\n지원\\n학사종합지원센터\\n한국예술종합학교\\n특성화\\n수강편람\\n실용외국어\\n공동교양\\n여석\\\\졸업\\n사정\\n결과\\n확정자\\n불가자\\n개강일\\n우리대학교\\n우리대학\\n안내문\\n학위\\n학위증\\n코로나바이러스\\n신종코로나바이러스\\nHUFS\\n양캠퍼스\\n서울캠퍼스\\n글로벌캠퍼스\\n서울글로벌캠퍼스\\n서울·글로벌캠퍼스\\n우리은행\\n단과대학\\n졸업시험\\n논문\\n제적\\n졸업요건\\n지역학사\\n지역전문가과정\\n수료졸업대기\\nELLT학과\\n영어학과\\n아랍어과\\n미디어커뮤니케이션학부\\n영어전공\\n영미문학문화학과\\n태국어과\\n경제학부\\nEICC학과\\n영어통번역학과\\n베트남어과\\n국제통상학과\\\\이란어과\\n경영학부\\n프랑스어학부\\n인도어과\\n영어교육과\\n독일어과\\n터키아제르바이잔어과\\n프랑스어교육과\\n노어과\\n몽골어과\\n독일어교육과\\n스페인어과\\n중국언어문화학부\\n한국어교육과\\n이탈리아어과\\n중국외교통상학부\\n국제학부\\n포르투갈어과\\n그리스불가리아학과\\n일본언어문화학부\\n사회과학전공\\n네덜란드어과\\n융합일본지역학부\\nLD전공\\n스칸디나비아어과\\n정치외교학과\\nLT전공\\n말레이인도네시아어과\\n행정학과\\n서양어대학\\n아시아언어문화대학\\n중국어대학\\n일본어대학\\n사회과학\\n상경\\n경영\\n국제학부\\n사회과학전공\\n사범대학\\n교직n실용외국어\\n군입대\\n입영통지서\\n미비\\n미충족\\n등록휴학\\n휴학\\n전역일\\n증빙서류\\n1학기\\n2학기\\n개강\\n종강\\n학사일정\\n행사명\\n조치사항\\n참고사항\\n공고\\n부서명\\n학년도\\n개설학과\\n학수번호\\\\교과목명\\\\시간\\n교강사명\\n강의시간\\n폐강공고\\n일정\\n단과대\\n배부처\\n문의\\n동유럽학대학\\n국제지역대학\\n어문학관\\n통번역대학\\n인문대학\\n경상대학\\n자연과학대학\\n학생회관\\n공과대학\\n바이오메디컬공학부\\n졸업증명서\\n문의\\n전화\\\\문의전화\\n원스톱서비스센터\\n졸업예정증명서\\n편입생\\n신입생\\n신편입생\\n아래\\nQR코드\\n지양하다\\n투명성\\n공정성\\n외국인교환학생\\n외국인방문학생\\n첫학기\\n영어진단평가\\n원격\\n비대면\\ne-Class\\neclass\\n이클래스\\n안내하다\\n전자출결\\n전자출결시스템\\n체계적인\\n엄정성\\n공고\\n코로나19\\n일반휴학\\n신청\\n별도문의\\nCOVID-19\\nCovid19\\\\covid19\\n중간시험\\\\기말시험\\n응시인원\\nCommunicativeEnglish\\nLS\\nL/S\\n우리대학\\n콜로키움\\nEU연구소\\n인문사회연구사업단\\n온·오프라인\\n온오프라인\\nHK+사업단\\n국제관\\n인도연구소\\n패널티\\n수습국원\\n추가모집\\n게시물\\n외대교육방송국\\n교수학습개발원\\nFBS\\\\주한브라질대사관\\n세계여성의날\\\\스마트도서관\\n휠라아쿠쉬네트홀\\n영화\\n상영\\n한국어자막\\\\대학혁신지원사업\\n아이디어톤\\n수도권역\\n미래대학투모로우솔루션\\n미네르바헬스장\\n교육생\\n휴관\\n금모닝\\n글로벌캠퍼스\\n누구나\\n회차별\\n보건실\\n대한적십자사\\n헌혈증\\n헌혈자\\n성격유형검사\\n핵심역량통합관리시스템\\nHufsability\\n교과\\n비교과\\n서울학생상담센터\\n추후공지\\n청년몽땅정보통\\n마이페이지\\n문의처\\n다산콜센터\\\\특별전형\\n일반전형\\n면접전형\\n등록예치금\\n예치금\\n모집\\n학과\\n전공\\nTESOL대학원\\n세미오시스연구센터\\n서울학생상담센터\\n전문\\n경영대학원\\n해당일\\n접수마감일\\n해당학기\\n졸업자\\n졸업예정자\\n외국대학n소지자\\n한국어능력시험\\n입증서류\\n출신학교\\n주한공관영사\\n입증서류\\n학사학위\\n학사\\n최종학력\\n증명\\n학위증서\\n개인정보이용및제공동의서\\n기타서류\\n해당자\\n추천서\\n경력증명서\\n외국국적지원자\\n성적증명서\\n총점\\n사이버외대\\n군인공제회직원\\n학교교직원\\n첫학기\\n입학금\\n운영위원회\\n전형료\\n우편접수\\n입학원서\\n본인날인\\n서명함\\n수험표\\n지참\\n제출서류\\n외국어교육센터\\nK-Zone\\nNoshow\\n출석차감\\n1교시\\n2교시\\n3교시\\n4교시\\n5교시\\n6교시\\n7교시\\n8교시\\n9교시\\n10교시\\n11교시\\n12교시\\n작문\\n대학영어\\n중간시험\\n보충수업\\n추가모집\\n창업자\\nAI/SW\\n모집공고\\n모집분야\\n일반창업\\n스펙업\\n졸업대기자\\n수료생\\nSW중심대학사업단\\nAI교육원\\nSW관련학과\\n컴퓨터공학부\\n정보통신공학부\\nGBT전공\\nELLT학과\\nAI융합전공\\n데이터사이언스전공\\n바이오데이터사이언스전공\\nICT&AI세부모듈\\n수혜제외\\n초과학기생\\n초과학기\\n9학기\\n1학기\\n2학기\\n3학기\\n4학기\\n5학기\\n6학기\\n7학기\\n8학기\\n지원사항\\n팀별\\n개인별\\n사업자등록증n최종보고서\\n학기말\\n학기초\\n전세계\\n삼성그룹\\nLG그룹\\n주기적\\n인증테스트\\n비교과\\n굿즈\\n코로나19\\n경제적\\n지원\\n타지역\\n이에\\n랜선나눔캠퍼스\\n활동개요\\n신청기간\\n비합격\\n비선발자\\n최종합격자\\n활동불가자\\n활동혜택\\n자기소개서\\n1부\\n학습계획서\\n증빙자료\\n재학증명서\\n1차합격\\n2차합격\\n스캔\\n활동비\\\\소득세\\n지방소득세\\n문의처\\n추후공지\\n공공인재개발원\\n개인사물함\\n행정입법고시\\n2차모의고사\\n수험서적\\n사민재\\n세미나실\\n국제학생회\\n본교생\\n외국인교환학생\\n정기총회\\n뵨교재학생\\n버디프로그램\\n홍보팀\\n 기획컬처팀\\n국제교류처\\n국제교류처장\\n불합격자\\n코로나-19\\n양성판정\\n음성판정\\n양성\\n음성\\n최종합격자\\nQ&A\\n필참\\n퇴출\\n정기활동\\n이메일접수\\n시험일정\\n구분\\n시간\\n비고\\n시험장소\\n입실완료\\n인문과학관\\n졸업유예생\\n학부생들\\n코로나-19\\n글로벌캠퍼스\\n보건실\\n학생부종합전형\\n합격수기\\n선배들\\n글로벌창업지원단\\n창업인재양성센터\\n창업동아리\\n미디어커뮤니케이션대학원\\n대학원장\\nCulture&Technology융합대학n지원자격\\n지원서\\n접수\\n평가요소\\n영자신문사\\nTheArgus\\n수습기자\\n디아거스\\n공식홈페이지\\n공식인스타그램\\n사회봉사센터\\n국제학사\\n우편접수\\n서울시동대문구이문로107\\n대학안전관리계획\\n붙임팡리\\n안전보건관리팀\\n동원번역상\\n한국외국어대학교\\n한국외대\\n안내\\\\종합정보시스템\\\\공고\\n이수\\n학기\\n대하여\\\\장학재단\\n장학생\\n지원불가\\n자녀학자금\\n다자녀\\n지자체\\nHUFS앱\\n한국외대앱\\n부모\\n인문사회계열\\n제출서류\\n장학생신청서\\n추천서\\n추천소견\\n총장직인\\n자기소개서\\n전공분야\\n학습계획\\n졸업후진로\\n자유양식\\nA4\\n이내\\n주민등록등본\\n개인정보\\n기초생활수급권자\\n기초생활수급자증명서\\n기초생활수급자\\\\차상위계층\\n모자가정\\n부자가정\\n주민센터\\n한부모가정\\n건강보험증\\n건강보험자격확인서\\n과세자\\n급여생활자\\n원천징수\\n근로소득\\\\근무처\\n비사업자\\n수상내역\\n어학성적\\n입상경력증명서\\n봉사활동내역확인서\\n심신장애증명서\\n장애인등록수첩\\n장애인카드\\n직계가족\\n임대차계약서\\n학생지원팀\\n무이자\\n농어업인\\n농어업\\n융자금\\n정규학기\\n건강보험료\\n한국장학재단\\n학자금대출\\n지원자격\\n직전학기\\n학부모\\n1구간\\n2구간\\n3구간\\x04구간\\n5구간\\n6구간\\n7구간\\n8구간\\n9구간\\n10구간\\n지원대상\\n다문화가족\\n다자녀가구\\n소득구간\\n거주자\\n4년제\\n정규대학\\n중증\\n석박사\\n이공계\\n직전학기\\n등록금납입영수증\\n등록금납입\\n통장사본\\n기획홍보팀\\n사회복지사\\n학생인재개발처\\n추가등록\\n등록기간\\n\\n법인사무처\\n사업관리팀n서울시 동대문구 이문로 107\\n등기부등본\\n인감 도장\\n설명회\\n제고\\n임대환경\\n관리비\\n전세\\n가감율n수수료율\\n총액\\n전후\\n점수\\n기타사항\\n발주처\\n제3자\\n대원빌딩\\n서울특별시 테헤란로 98길 11\\n근린 생활 시설n리모델링\\nBRICs(브릭스)전공\\nEU(유럽연합)전공\\n동북아외교통상전공\\n문화콘텐츠학전공\\n국가리더전공\\n세계문화예술경영전공\\n디지털인문한국학전공\\nAI융합전공\\n데이터사이언스전공\\n바이오데이터사이언스전공\\n상담·UX심리 융합전공\\n지역경제개발협력전공\\n보험계리학전공\\nCulture & Technology융합대학\\n바이오메디컬공학부\\n글로벌자유전공학부\\n기후변화융합학부\\n전략기획팀\\n예산조정팀\\n평가감사팀\\n국책사업통합추진단\\nIT개발팀(서울)\\nIT인프라팀(서울)\\n정보통신팀(글로벌)\\n디지털서비스팀(서울∙글로벌)\\n지식출판콘텐츠팀\\n혁신지원팀수강자\\n재무회계팀\\n학부생\\n재입학생\\n분할납부자\\n분할납부\\n졸업유예\\n졸업\\n장학팀\\n미취업자\\n건강보험\\n특별승인\\n자격요건\\n학생지원팀\\n동문\\n장학회\\n장학금명\\n학비조달\\n조달\\n소득구간확인서\\n봉사활동확인서\\n개인정보수집이용동의서\\n지원기간\\n제출방법\\n방문접수\\n장학팀\\n모현읍\\n외대로\\n수혜내역\\n수혜액\\n수혜\\n등록휴학생\\n재학증명서\\n건강보험료납부확인서\\n양식없음\\n종료일\\n국가근로\\n타대학생\\n백분위\\n학자금\\n지원구간\\n신청유형\\n상반기\\n하반기\\n운영\\n위원회\\n장학금\\n진흥원\\n울산시\\nHUFS\\n양캠퍼스\\n서울캠퍼스\\n글로벌캠퍼스\\n서울글로벌캠퍼스\\n서울·글로벌캠퍼스\\n우리은행\\n단과대학\\n졸업시험\\n논문\\n제적\\n졸업요건\\n지역학사\\n지역전문가과정\\n수료졸업대기\\nELLT학과\\n영어학과\\n아랍어과\\n미디어커뮤니케이션학부\\n영어전공\\n영미문학문화학과\\n태국어과\\n경제학부\\nEICC학과\\n영어통번역학과\\n베트남어과\\n국제통상학과\\\\이란어과\\n경영학부\\n프랑스어학부\\n인도어과\\n영어교육과\\n독일어과\\n터키아제르바이잔어과\\n프랑스어교육과\\n노어과\\n몽골어과\\n독일어교육과\\n스페인어과\\n중국언어문화학부\\n한국어교육과\\n이탈리아어과\\n중국외교통상학부\\n국제학부\\n포르투갈어과\\n그리스불가리아학과\\n일본언어문화학부\\n사회과학전공\\n네덜란드어과\\n융합일본지역학부\\nLD전공\\n스칸디나비아어과\\n정치외교학과\\nLT전공\\n말레이인도네시아어과\\n행정학과\\n서양어대학\\n아시아언어문화대학\\n중국어대학\\n일본어대학\\n사회과학\\n상경\\n경영\\n국제학부\\n사회과학전공\\n사범대학\\n교직\\n실용외국어\\n군입대\\n입영통지서\\n미비\\n미충족\\n등록휴학\\n휴학\\n전역일\\n증빙서류\\n1학기\\n2학기\\n개강\\n종강\\n학사일정\\n행사명\\n조치사항\\n참고사항\\n공고\\n부서명\\n학년도\\n개설학과\\n학수번호\\\\교과목명\\\\시간\\n교강사명\\n강의시간\\n폐강공고\\n일정\\n단과대\\n배부처\\n문의\\n동유럽학대학\\n국제지역대학\\n어문학관\\n통번역대학\\n인문대학\\n경상대학\\n자연과학대학\\n학생회관\\n공과대학\\n바이오메디컬공학부\\n졸업증명서\\n문의\\n전화\\\\문의전화\\n원스톱서비스센터\\n졸업예정증명서\\n편입생\\n신입생\\n신편입생\\n아래\\nQR코드\\n지양하다\\n비고\\n입학금\\n기타\\n코딩존\\n기초과학연구소\\n정보산업공학연구소\\n모집공고\\n지원자격\\n일반사항\\n국제학사장\\n영어학부\\n전임조교\\n사이버외대\\n사이버한국외국어대학교\\n주요업무\\n행정업무\\n신청기한\\n개인정보수집이용제공동의서\\\\유첨파일\\n지원사업\\n모집분야\\n사회\\n문화\\n역사\\n4대보험\\n급여조건\\n근무시간\\n근무조건\\n채용\\n채용예정일\\n적격자\\n인사팀\\n구직자\\n공정화\\n시행규칙\\n근무\\n여름학기\\n겨울학기\\n기재내용\\n행정지원처장\\n결격사유\\n서류전형\\n학술정보팀\\n근무지\\n적임자\\n계약직\\n학생인재개발처\\n진로취업센터\\n개별연락\\n풀근무\\n선발\\n우선선발\\n외국어연수평가원\\n국제교육원\\n인력풀\\n시수\\n행정지원처장\\n인사팀\\n계약직\\n허위사실\\n기타문의\\n입사지원서\\n행정지원처장\\n서울런\\n캠프\\n한국인\\n보조교사\\n서류합격자\\n합격자\\n면접\\n한국외국어대학교\\n한국외대\\n계약직\\n사업본부운영1팀\\n외국어연수평가원\\n세르반테스문화원\\n사업지원팀\\n국제입학관리팀\\nFULLTIME\\n근무 학기\\n기숙사생\\n기숙사비품\\n소모품\\n공과금고지서\\n민원\\n담당 업무\\n근무 기간\\n근무 혜택\\n기숙사비\\n선 납부\\n근무 종료\\n장학금\\n지원서\\n기타\\n문의사항\\n한국어문화교육원\\n인사팀\\n학생상담센터\\n인문데이터연구센터\\n중남미연구소\\n산업경영공학과\\n공통지원자격\\n직원인사규정\\n결격사유\\n채용 조건\\n글로벌 캠퍼스\\n학사종합지원센터\\n용인시 처인구\\n단축근무\\n계약연장\\n계약기간\\n만료\\n근무성적평가\\n일정기간\\n통근버스\\n버스탑승\\n서류전형\\n심층면접\\n소정양식\\n인터넷 접수\\n입사지원서\\n자기소개서\\n자격증\\n경력사항\\n취업보호대상자\\n해당자\\n본교\\\\본교 홈페이지\\n채용시스템\\n공고문\\n바로가기 배너\\n피성년후견인\\n금고 이상의 형\\n병역기피자\\n신체검사결과\\n부적당\\n부적합\\n기재내용\\n허위 사실\\n허위사실\\n기타 문의\\n인사팀\\n행정지원처장\\n전임강사\\n채용분야\\n인원\\n한국어문화교육원\\n전임강사\\n외국어로서의한국어교육\\n공통지원자격\\n사업본부\\n임용기준\\n성 관련 범죄\\n박사학위\\n외국어로서의 한국어교육전공\\n부속기관\\\\한국어교원자격증\\n자격증\\n발행기관\\n책임시간\\n서울캠퍼스\\n채용일\\n추후 협의\\n증빙서류\\n제출목록\\n지원서\\n온라인지원\\n졸업증명서\\n성적증명서\\n학사\\n석사\\n박사\\n업로드\\n성범죄 경력조회서\\n경력증명서\\n발급본\\n지원 기간\\n접수 방법\\n사업본부\\n개별 통보\\n개별 통지\\n연구보조원\\n숙련자\\n웹페이지\\nKMOOC\\n인문사회계열\\n전형방법\\n서류전형\\n면접대상자\\n줌주소\\n실습데이터\\nZOOM데스크탑앱\\n포트폴리오\\n지원서 접수\\n압축파일\\nzip\\n학생상담센터\\n개인상담\\n집단상담\\n대학혁신지원사업\\n상담센터\\n석사학위\\n소지자\\n경력(재직)증명서\\n개인정보동의서\\n별첨양식\\n교직원 출퇴근 셔틀버스\\n출퇴근\\n교직원\\n이문동\\n잠실\\n분당\\n노선\\n오피스\\n스페인어\\n포르투갈어\\n석사\\n재학생\\nHK연구소\\n중남미연구소\\n내부규정\\n급여\\n계약기간\\n교내외장학금\\n사회 배려계층\\n교무행정팀\\n객원상담원\\n겸임교수\\n초빙교수\\n초빙공고\\n정보통신공학과\\n재공고\\n시설관리팀\\n수목관리\\n직원인사규정\\n제11조\\n임용결격사유\\n1종보통 운전면허\\n외국인학생\\n여름방학\\n민원응대\\n봉사장학금\\n장학금지급규정\\n등록금 범위내\\n국제학사\\nGlobeeDorm\\n학사운영팀\\n중국연구소\\n전임연구원\\n최종학위증명서\\n이력서\\n자율양식\\n경력증명서\\n채용예정일\\n지식출판콘텐츠원\\n채용공고\\n경영기획팀\\n행정\\n학사학위\\n국고사업\\n관련법\\n연구산학협력단\\n러시아연구소\\n초빙분야\\n세부전공\\n인센티브\\n4대 보험\\n한국연구재단\\n인문한국플로스지원사업\\n사립학교\\n해당 분야\\n기초심사\\n전공면접\\n경기도 용인시 처인구 모현면 외대로 81\\n국제사회교육원\\n러시아연구소\\n육아휴직\\n학술정보팀\\n퇴직금\\nTESOL\\nFLEX센터\\n능숙자\\nOA프로그램\\n영어회화\\n관련업무\\n유경험자\\n근무 가능자\\\\근무 가능\\n장학생\\n재학생\\n언어 능력\\n설명회\\n선착순\\n국제입학관리팀\\n'"
            ],
            "application/vnd.google.colaboratory.intrinsic+json": {
              "type": "string"
            }
          },
          "metadata": {},
          "execution_count": 21
        }
      ]
    },
    {
      "cell_type": "code",
      "source": [
        "#다시압축해주기. 마찬가지로 끝에 notfoundfile에러같은거 없으면 잘된겁니다!\n",
        "#안되면 pwd로 현재 경로가 temp_fix가 맞는지 확인해주세요\n",
        "!jar cvf ../open-korean-text-2.1.0.jar *"
      ],
      "metadata": {
        "colab": {
          "base_uri": "https://localhost:8080/"
        },
        "id": "8bn1KS36ug_X",
        "outputId": "a68182df-156c-4a7f-cbe5-58ae33c67dc8"
      },
      "execution_count": null,
      "outputs": [
        {
          "output_type": "stream",
          "name": "stdout",
          "text": [
            "added manifest\n",
            "ignoring entry META-INF/\n",
            "ignoring entry META-INF/MANIFEST.MF\n",
            "adding: META-INF/maven/(in = 0) (out= 0)(stored 0%)\n",
            "adding: META-INF/maven/org.openkoreantext/(in = 0) (out= 0)(stored 0%)\n",
            "adding: META-INF/maven/org.openkoreantext/open-korean-text/(in = 0) (out= 0)(stored 0%)\n",
            "adding: META-INF/maven/org.openkoreantext/open-korean-text/pom.xml(in = 9127) (out= 2208)(deflated 75%)\n",
            "adding: META-INF/maven/org.openkoreantext/open-korean-text/pom.properties(in = 119) (out= 110)(deflated 7%)\n",
            "adding: org/(in = 0) (out= 0)(stored 0%)\n",
            "adding: org/openkoreantext/(in = 0) (out= 0)(stored 0%)\n",
            "adding: org/openkoreantext/processor/(in = 0) (out= 0)(stored 0%)\n",
            "adding: org/openkoreantext/processor/tools/(in = 0) (out= 0)(stored 0%)\n",
            "adding: org/openkoreantext/processor/tools/CreatePhraseExtractionExamples$PhraseExample$.class(in = 2974) (out= 1020)(deflated 65%)\n",
            "adding: org/openkoreantext/processor/tools/CreateParsingExamples$.class(in = 5517) (out= 2327)(deflated 57%)\n",
            "adding: org/openkoreantext/processor/tools/CreateParsingExamples$ParsingExample.class(in = 3718) (out= 1429)(deflated 61%)\n",
            "adding: org/openkoreantext/processor/tools/CreatePhraseExtractionExamples$PhraseExample.class(in = 3825) (out= 1443)(deflated 62%)\n",
            "adding: org/openkoreantext/processor/tools/CreateChunkParsingCandidates$.class(in = 5487) (out= 2305)(deflated 57%)\n",
            "adding: org/openkoreantext/processor/tools/Runnable.class(in = 964) (out= 694)(deflated 28%)\n",
            "adding: org/openkoreantext/processor/tools/CreateConjugationExamples$ConjugationExample.class(in = 3569) (out= 1415)(deflated 60%)\n",
            "adding: org/openkoreantext/processor/tools/DeduplicateAndSortDictionaries$.class(in = 7154) (out= 3133)(deflated 56%)\n",
            "adding: org/openkoreantext/processor/tools/CreateParsingExamples$ParsingExample$.class(in = 2842) (out= 1010)(deflated 64%)\n",
            "adding: org/openkoreantext/processor/tools/UpdateAllTheExamples$.class(in = 4383) (out= 1794)(deflated 59%)\n",
            "adding: org/openkoreantext/processor/tools/CreateConjugationExamples$.class(in = 5881) (out= 2385)(deflated 59%)\n",
            "adding: org/openkoreantext/processor/tools/CreatePhraseExtractionExamples$.class(in = 5989) (out= 2472)(deflated 58%)\n",
            "adding: org/openkoreantext/processor/tools/CreateConjugationExamples$ConjugationExample$.class(in = 2787) (out= 997)(deflated 64%)\n",
            "adding: org/openkoreantext/processor/tools/CreatePhraseExtractionExamples.class(in = 2516) (out= 1784)(deflated 29%)\n",
            "adding: org/openkoreantext/processor/tools/UpdateAllTheExamples.class(in = 1089) (out= 756)(deflated 30%)\n",
            "adding: org/openkoreantext/processor/tools/CreateParsingExamples.class(in = 2427) (out= 1732)(deflated 28%)\n",
            "adding: org/openkoreantext/processor/tools/DeduplicateAndSortDictionaries.class(in = 1117) (out= 823)(deflated 26%)\n",
            "adding: org/openkoreantext/processor/tools/CreateConjugationExamples.class(in = 2367) (out= 1659)(deflated 29%)\n",
            "adding: org/openkoreantext/processor/tools/CreateChunkParsingCandidates.class(in = 833) (out= 566)(deflated 32%)\n",
            "adding: org/openkoreantext/processor/OpenKoreanTextProcessor$.class(in = 7716) (out= 2400)(deflated 68%)\n",
            "adding: org/openkoreantext/processor/phrase_extractor/(in = 0) (out= 0)(stored 0%)\n",
            "adding: org/openkoreantext/processor/phrase_extractor/KoreanPhraseExtractor$.class(in = 37855) (out= 12404)(deflated 67%)\n",
            "adding: org/openkoreantext/processor/phrase_extractor/KoreanPhraseExtractor$PhraseBuffer.class(in = 4857) (out= 1609)(deflated 66%)\n",
            "adding: org/openkoreantext/processor/phrase_extractor/KoreanPhraseExtractor$KoreanPhrase.class(in = 6942) (out= 2591)(deflated 62%)\n",
            "adding: org/openkoreantext/processor/phrase_extractor/KoreanPhraseExtractor$PhraseBuffer$.class(in = 3564) (out= 1087)(deflated 69%)\n",
            "adding: org/openkoreantext/processor/phrase_extractor/KoreanPhraseExtractor$KoreanPhrase$.class(in = 3358) (out= 1148)(deflated 65%)\n",
            "adding: org/openkoreantext/processor/phrase_extractor/KoreanPhraseExtractor.class(in = 6005) (out= 3967)(deflated 33%)\n",
            "adding: org/openkoreantext/processor/tokenizer/(in = 0) (out= 0)(stored 0%)\n",
            "adding: org/openkoreantext/processor/tokenizer/ParsedChunk.class(in = 20517) (out= 8914)(deflated 56%)\n",
            "adding: org/openkoreantext/processor/tokenizer/KoreanSentenceSplitter$.class(in = 3359) (out= 1497)(deflated 55%)\n",
            "adding: org/openkoreantext/processor/tokenizer/KoreanDetokenizer$.class(in = 9889) (out= 4174)(deflated 57%)\n",
            "adding: org/openkoreantext/processor/tokenizer/TokenizerProfile.class(in = 16403) (out= 6666)(deflated 59%)\n",
            "adding: org/openkoreantext/processor/tokenizer/KoreanTokenizer$.class(in = 25564) (out= 8451)(deflated 66%)\n",
            "adding: org/openkoreantext/processor/tokenizer/KoreanChunker$.class(in = 17975) (out= 6790)(deflated 62%)\n",
            "adding: org/openkoreantext/processor/tokenizer/Sentence$.class(in = 2339) (out= 1012)(deflated 56%)\n",
            "adding: org/openkoreantext/processor/tokenizer/ParsedChunk$.class(in = 3973) (out= 1500)(deflated 62%)\n",
            "adding: org/openkoreantext/processor/tokenizer/KoreanTokenizer$CandidateParse.class(in = 4616) (out= 1645)(deflated 64%)\n",
            "adding: org/openkoreantext/processor/tokenizer/TokenizerProfile$.class(in = 8169) (out= 2408)(deflated 70%)\n",
            "adding: org/openkoreantext/processor/tokenizer/KoreanTokenizer$CandidateParse$.class(in = 3459) (out= 1111)(deflated 67%)\n",
            "adding: org/openkoreantext/processor/tokenizer/KoreanTokenizer.class(in = 6968) (out= 4384)(deflated 37%)\n",
            "adding: org/openkoreantext/processor/tokenizer/KoreanTokenizer$PossibleTrie.class(in = 3399) (out= 1429)(deflated 57%)\n",
            "adding: org/openkoreantext/processor/tokenizer/KoreanTokenizer$KoreanToken$.class(in = 3976) (out= 1402)(deflated 64%)\n",
            "adding: org/openkoreantext/processor/tokenizer/Sentence.class(in = 5985) (out= 3125)(deflated 47%)\n",
            "adding: org/openkoreantext/processor/tokenizer/KoreanSentenceSplitter.class(in = 1092) (out= 712)(deflated 34%)\n",
            "adding: org/openkoreantext/processor/tokenizer/KoreanChunk.class(in = 5611) (out= 2907)(deflated 48%)\n",
            "adding: org/openkoreantext/processor/tokenizer/KoreanChunker$ChunkMatch.class(in = 4043) (out= 1704)(deflated 57%)\n",
            "adding: org/openkoreantext/processor/tokenizer/KoreanChunker.class(in = 4232) (out= 2887)(deflated 31%)\n",
            "adding: org/openkoreantext/processor/tokenizer/KoreanTokenizer$KoreanToken.class(in = 6336) (out= 2633)(deflated 58%)\n",
            "adding: org/openkoreantext/processor/tokenizer/KoreanChunker$ChunkMatch$.class(in = 2893) (out= 1136)(deflated 60%)\n",
            "adding: org/openkoreantext/processor/tokenizer/KoreanDetokenizer.class(in = 1660) (out= 1133)(deflated 31%)\n",
            "adding: org/openkoreantext/processor/tokenizer/KoreanTokenizer$PossibleTrie$.class(in = 2862) (out= 1067)(deflated 62%)\n",
            "adding: org/openkoreantext/processor/tokenizer/KoreanChunk$.class(in = 2361) (out= 1010)(deflated 57%)\n",
            "adding: org/openkoreantext/processor/KoreanTokenJava.class(in = 1976) (out= 931)(deflated 52%)\n",
            "adding: org/openkoreantext/processor/KoreanPosJava.class(in = 2457) (out= 1241)(deflated 49%)\n",
            "adding: org/openkoreantext/processor/normalizer/(in = 0) (out= 0)(stored 0%)\n",
            "adding: org/openkoreantext/processor/normalizer/KoreanNormalizer$Segment.class(in = 3470) (out= 1422)(deflated 59%)\n",
            "adding: org/openkoreantext/processor/normalizer/KoreanNormalizer.class(in = 2980) (out= 2181)(deflated 26%)\n",
            "adding: org/openkoreantext/processor/normalizer/KoreanNormalizer$.class(in = 11553) (out= 5102)(deflated 55%)\n",
            "adding: org/openkoreantext/processor/normalizer/KoreanNormalizer$Segment$.class(in = 2577) (out= 989)(deflated 61%)\n",
            "adding: org/openkoreantext/processor/OpenKoreanTextProcessor.class(in = 4428) (out= 1997)(deflated 54%)\n",
            "adding: org/openkoreantext/processor/OpenKoreanTextProcessorJava.class(in = 5901) (out= 1995)(deflated 66%)\n",
            "adding: org/openkoreantext/processor/stemmer/(in = 0) (out= 0)(stored 0%)\n",
            "adding: org/openkoreantext/processor/stemmer/KoreanStemmer.class(in = 1439) (out= 972)(deflated 32%)\n",
            "adding: org/openkoreantext/processor/stemmer/KoreanStemmer$.class(in = 7044) (out= 2892)(deflated 58%)\n",
            "adding: org/openkoreantext/processor/qa/(in = 0) (out= 0)(stored 0%)\n",
            "adding: org/openkoreantext/processor/qa/BatchTokenizeTweets$ParseTime$.class(in = 2418) (out= 1015)(deflated 58%)\n",
            "adding: org/openkoreantext/processor/qa/BatchGetUnknownNouns$.class(in = 8751) (out= 3532)(deflated 59%)\n",
            "adding: org/openkoreantext/processor/qa/KoreanProcessorSandbox$.class(in = 1464) (out= 823)(deflated 43%)\n",
            "adding: org/openkoreantext/processor/qa/KoreanProcessorSandbox.class(in = 824) (out= 575)(deflated 30%)\n",
            "adding: org/openkoreantext/processor/qa/BatchGetUnknownNouns.class(in = 2307) (out= 1702)(deflated 26%)\n",
            "adding: org/openkoreantext/processor/qa/BatchTokenizeTweets$.class(in = 10867) (out= 4401)(deflated 59%)\n",
            "adding: org/openkoreantext/processor/qa/BatchGetUnknownNouns$ChunkWithTweet$.class(in = 2376) (out= 952)(deflated 59%)\n",
            "adding: org/openkoreantext/processor/qa/BatchTokenizeTweets$ParseTime.class(in = 3153) (out= 1446)(deflated 54%)\n",
            "adding: org/openkoreantext/processor/qa/BatchTokenizeTweets.class(in = 2720) (out= 2031)(deflated 25%)\n",
            "adding: org/openkoreantext/processor/qa/BatchGetUnknownNouns$ChunkWithTweet.class(in = 3080) (out= 1338)(deflated 56%)\n",
            "adding: org/openkoreantext/processor/util/(in = 0) (out= 0)(stored 0%)\n",
            "adding: org/openkoreantext/processor/util/Hangul$DoubleCoda$.class(in = 2155) (out= 963)(deflated 55%)\n",
            "adding: org/openkoreantext/processor/util/CharacterUtils$CharacterBuffer.class(in = 1634) (out= 659)(deflated 59%)\n",
            "adding: org/openkoreantext/processor/util/CharArrayMap$EntrySet.class(in = 2788) (out= 1181)(deflated 57%)\n",
            "adding: org/openkoreantext/processor/util/KoreanPos$.class(in = 12173) (out= 4669)(deflated 61%)\n",
            "adding: org/openkoreantext/processor/util/typos/(in = 0) (out= 0)(stored 0%)\n",
            "adding: org/openkoreantext/processor/util/typos/typos.txt(in = 5146) (out= 2300)(deflated 55%)\n",
            "adding: org/openkoreantext/processor/util/CharArrayMap$UnmodifiableCharArrayMap.class(in = 3062) (out= 859)(deflated 71%)\n",
            "adding: org/openkoreantext/processor/util/CharArrayMap$1.class(in = 1531) (out= 571)(deflated 62%)\n",
            "adding: org/openkoreantext/processor/util/KoreanSubstantive.class(in = 1336) (out= 1087)(deflated 18%)\n",
            "adding: org/openkoreantext/processor/util/CharArrayMap$MapEntry.class(in = 2433) (out= 1078)(deflated 55%)\n",
            "adding: org/openkoreantext/processor/util/example_chunks.txt(in = 522978) (out= 163253)(deflated 68%)\n",
            "adding: org/openkoreantext/processor/util/Hangul$.class(in = 7625) (out= 3114)(deflated 59%)\n",
            "adding: org/openkoreantext/processor/util/KoreanConjugation$.class(in = 22440) (out= 7972)(deflated 64%)\n",
            "adding: org/openkoreantext/processor/util/Hangul$HangulChar.class(in = 3185) (out= 1421)(deflated 55%)\n",
            "adding: org/openkoreantext/processor/util/noun/(in = 0) (out= 0)(stored 0%)\n",
            "adding: org/openkoreantext/processor/util/noun/twitter.txt(in = 254) (out= 162)(deflated 36%)\n",
            "adding: org/openkoreantext/processor/util/noun/geolocations.txt(in = 5423) (out= 2267)(deflated 58%)\n",
            "adding: org/openkoreantext/processor/util/noun/entities.txt(in = 108142) (out= 44095)(deflated 59%)\n",
            "adding: org/openkoreantext/processor/util/noun/foreign.txt(in = 10485) (out= 4686)(deflated 55%)\n",
            "adding: org/openkoreantext/processor/util/noun/lol.txt(in = 1337) (out= 744)(deflated 44%)\n",
            "adding: org/openkoreantext/processor/util/noun/company_names.txt(in = 1631) (out= 905)(deflated 44%)\n",
            "adding: org/openkoreantext/processor/util/noun/wikipedia_title_nouns.txt(in = 1971964) (out= 686708)(deflated 65%)\n",
            "adding: org/openkoreantext/processor/util/noun/bible.txt(in = 2032) (out= 1005)(deflated 50%)\n",
            "adding: org/openkoreantext/processor/util/noun/pokemon.txt(in = 1781) (out= 965)(deflated 45%)\n",
            "adding: org/openkoreantext/processor/util/noun/profane.txt(in = 569) (out= 337)(deflated 40%)\n",
            "adding: org/openkoreantext/processor/util/noun/kpop.txt(in = 5371) (out= 2495)(deflated 53%)\n",
            "adding: org/openkoreantext/processor/util/noun/nouns.txt(in = 219319) (out= 84134)(deflated 61%)\n",
            "adding: org/openkoreantext/processor/util/noun/spam.txt(in = 202) (out= 157)(deflated 22%)\n",
            "adding: org/openkoreantext/processor/util/noun/names.txt(in = 16570) (out= 6301)(deflated 61%)\n",
            "adding: org/openkoreantext/processor/util/noun/congress.txt(in = 26494) (out= 9351)(deflated 64%)\n",
            "adding: org/openkoreantext/processor/util/noun/slangs.txt(in = 1565) (out= 921)(deflated 41%)\n",
            "adding: org/openkoreantext/processor/util/KoreanDictionaryProvider.class(in = 3430) (out= 2003)(deflated 41%)\n",
            "adding: org/openkoreantext/processor/util/CharacterUtils.class(in = 3703) (out= 1716)(deflated 53%)\n",
            "adding: org/openkoreantext/processor/util/KoreanConjugation.class(in = 1550) (out= 1237)(deflated 20%)\n",
            "adding: org/openkoreantext/processor/util/KoreanDictionaryProvider$.class(in = 20197) (out= 7488)(deflated 62%)\n",
            "adding: org/openkoreantext/processor/util/CharArrayMap.class(in = 11923) (out= 4878)(deflated 59%)\n",
            "adding: org/openkoreantext/processor/util/adjective/(in = 0) (out= 0)(stored 0%)\n",
            "adding: org/openkoreantext/processor/util/adjective/adjective.txt(in = 27250) (out= 9357)(deflated 65%)\n",
            "adding: org/openkoreantext/processor/util/verb/(in = 0) (out= 0)(stored 0%)\n",
            "adding: org/openkoreantext/processor/util/verb/verb.txt(in = 32758) (out= 10723)(deflated 67%)\n",
            "adding: org/openkoreantext/processor/util/verb/pre_eomi.txt(in = 285) (out= 185)(deflated 35%)\n",
            "adding: org/openkoreantext/processor/util/verb/verb_prefix.txt(in = 47) (out= 52)(deflated -10%)\n",
            "adding: org/openkoreantext/processor/util/verb/eomi.txt(in = 12618) (out= 3556)(deflated 71%)\n",
            "adding: org/openkoreantext/processor/util/KoreanPos$KoreanPosTrie.class(in = 4390) (out= 1610)(deflated 63%)\n",
            "adding: org/openkoreantext/processor/util/KoreanPos.class(in = 6890) (out= 3877)(deflated 43%)\n",
            "adding: org/openkoreantext/processor/util/auxiliary/(in = 0) (out= 0)(stored 0%)\n",
            "adding: org/openkoreantext/processor/util/auxiliary/conjunctions.txt(in = 398) (out= 189)(deflated 52%)\n",
            "adding: org/openkoreantext/processor/util/auxiliary/determiner.txt(in = 63) (out= 63)(deflated 0%)\n",
            "adding: org/openkoreantext/processor/util/auxiliary/exclamation.txt(in = 1759) (out= 757)(deflated 56%)\n",
            "adding: org/openkoreantext/processor/util/Hangul.class(in = 3981) (out= 2731)(deflated 31%)\n",
            "adding: org/openkoreantext/processor/util/CharArrayMap$EmptyCharArrayMap.class(in = 2053) (out= 725)(deflated 64%)\n",
            "adding: org/openkoreantext/processor/util/CharacterUtils$Java5CharacterUtils.class(in = 2824) (out= 1393)(deflated 50%)\n",
            "adding: org/openkoreantext/processor/util/josa/(in = 0) (out= 0)(stored 0%)\n",
            "adding: org/openkoreantext/processor/util/josa/josa.txt(in = 5219) (out= 1476)(deflated 71%)\n",
            "adding: org/openkoreantext/processor/util/substantives/(in = 0) (out= 0)(stored 0%)\n",
            "adding: org/openkoreantext/processor/util/substantives/family_names.txt(in = 299) (out= 197)(deflated 34%)\n",
            "adding: org/openkoreantext/processor/util/substantives/given_names.txt(in = 1407) (out= 609)(deflated 56%)\n",
            "adding: org/openkoreantext/processor/util/substantives/suffix.txt(in = 325) (out= 224)(deflated 31%)\n",
            "adding: org/openkoreantext/processor/util/substantives/modifier.txt(in = 3395) (out= 1346)(deflated 60%)\n",
            "adding: org/openkoreantext/processor/util/KoreanPos$KoreanPosTrie$.class(in = 3157) (out= 1089)(deflated 65%)\n",
            "adding: org/openkoreantext/processor/util/adverb/(in = 0) (out= 0)(stored 0%)\n",
            "adding: org/openkoreantext/processor/util/adverb/adverb.txt(in = 65572) (out= 18741)(deflated 71%)\n",
            "adding: org/openkoreantext/processor/util/Hangul$DoubleCoda.class(in = 2930) (out= 1348)(deflated 53%)\n",
            "adding: org/openkoreantext/processor/util/example_tweets.txt(in = 86271) (out= 38336)(deflated 55%)\n",
            "adding: org/openkoreantext/processor/util/CharacterUtils$Java4CharacterUtils.class(in = 2577) (out= 1282)(deflated 50%)\n",
            "adding: org/openkoreantext/processor/util/KoreanSubstantive$.class(in = 14990) (out= 6195)(deflated 58%)\n",
            "adding: org/openkoreantext/processor/util/Hangul$HangulChar$.class(in = 2389) (out= 1022)(deflated 57%)\n",
            "adding: org/openkoreantext/processor/util/freq/(in = 0) (out= 0)(stored 0%)\n",
            "adding: org/openkoreantext/processor/util/freq/entity-freq.txt.gz(in = 385753) (out= 385873)(deflated 0%)\n",
            "adding: org/openkoreantext/processor/util/CharArrayMap$EntryIterator.class(in = 3118) (out= 1270)(deflated 59%)\n",
            "adding: org/openkoreantext/processor/util/CharArraySet.class(in = 4886) (out= 1944)(deflated 60%)\n"
          ]
        }
      ]
    },
    {
      "cell_type": "markdown",
      "source": [
        "# 세션 다시 시작하기"
      ],
      "metadata": {
        "id": "iFooGV0CEl-S"
      }
    },
    {
      "cell_type": "code",
      "source": [],
      "metadata": {
        "id": "80iwFicWmbeq"
      },
      "execution_count": null,
      "outputs": []
    },
    {
      "cell_type": "code",
      "source": [],
      "metadata": {
        "id": "GZHjLopimbhi"
      },
      "execution_count": null,
      "outputs": []
    },
    {
      "cell_type": "code",
      "source": [],
      "metadata": {
        "id": "JG8WthaombrP"
      },
      "execution_count": null,
      "outputs": []
    },
    {
      "cell_type": "markdown",
      "source": [
        "# 파일 가져오기"
      ],
      "metadata": {
        "id": "uqhcSUUQn3al"
      }
    },
    {
      "cell_type": "code",
      "source": [
        "import os\n",
        "#os.chdir('..')\n",
        "os.getcwd()"
      ],
      "metadata": {
        "colab": {
          "base_uri": "https://localhost:8080/",
          "height": 36
        },
        "id": "I_RCkmbJcX32",
        "outputId": "5db72eeb-c893-4c2b-a9fd-54becaa33615"
      },
      "execution_count": null,
      "outputs": [
        {
          "output_type": "execute_result",
          "data": {
            "text/plain": [
              "'/content'"
            ],
            "application/vnd.google.colaboratory.intrinsic+json": {
              "type": "string"
            }
          },
          "metadata": {},
          "execution_count": 1
        }
      ]
    },
    {
      "cell_type": "code",
      "source": [
        "import pandas as pd"
      ],
      "metadata": {
        "id": "icvrrr77mEBp"
      },
      "execution_count": null,
      "outputs": []
    },
    {
      "cell_type": "code",
      "execution_count": null,
      "metadata": {
        "id": "V1miStNVli3M"
      },
      "outputs": [],
      "source": [
        "gongji = pd.read_csv('./drive/MyDrive/csv모음/final_merged_gongji(0501).csv')\n",
        "haksa = pd.read_csv('./drive/MyDrive/csv모음/merged_haksa.csv')\n",
        "hiring = pd.read_csv('./drive/MyDrive/csv모음/merged_hire.csv')\n",
        "janghak = pd.read_csv('./drive/MyDrive/csv모음/merged_janghak.csv')\n",
        "\n",
        "\n",
        "#파일복사\n",
        "# 원본 데이터 보존 위해 copy 데이터 생성\n",
        "gongji_copy = gongji.copy()\n",
        "haksa_copy = haksa.copy()\n",
        "hiring_copy = hiring.copy()\n",
        "janghak_copy = janghak.copy()"
      ]
    },
    {
      "cell_type": "markdown",
      "source": [
        "### 러시아 CIS 등 오류 관련"
      ],
      "metadata": {
        "id": "Z7OGJ-A4ZbqM"
      }
    },
    {
      "cell_type": "code",
      "source": [
        "# 인덱스 번호 검색하기\n",
        "index = gongji_copy[gongji_copy['title'] == \"명사 특강 안내 [SNS 유명 여행작가 청춘유리]\"]\n",
        "print(index)"
      ],
      "metadata": {
        "colab": {
          "base_uri": "https://localhost:8080/"
        },
        "id": "0mfAXaRCWnAt",
        "outputId": "6b47b89d-d42a-4f0d-d39a-8eeb3acbf5db"
      },
      "execution_count": null,
      "outputs": [
        {
          "output_type": "stream",
          "name": "stdout",
          "text": [
            "      index        date                        title  \\\n",
            "3961    625  2018.11.12  명사 특강 안내 [SNS 유명 여행작가 청춘유리]   \n",
            "6092    625  2018-11-12  명사 특강 안내 [SNS 유명 여행작가 청춘유리]   \n",
            "\n",
            "                                                content  \n",
            "3961                                               \\n\\n  \n",
            "6092  \\nSNS 유명작가\\n청춘유리 ★\\n한국외대에 떴다!!!!!\\n강연 내용:\\n\"내가...  \n"
          ]
        }
      ]
    },
    {
      "cell_type": "code",
      "source": [
        "gongji_copy.loc[6092,'content']"
      ],
      "metadata": {
        "colab": {
          "base_uri": "https://localhost:8080/",
          "height": 54
        },
        "id": "1lcHf0izarPD",
        "outputId": "a0a6349e-ef05-4e77-e8ab-ca886f478c92"
      },
      "execution_count": null,
      "outputs": [
        {
          "output_type": "execute_result",
          "data": {
            "text/plain": [
              "'\\nSNS 유명작가\\n청춘유리 ★\\n한국외대에 떴다!!!!!\\n강연 내용:\\n\"내가 8년간 쉬지 않고 여행 다닌 이유\"\\n\\n일시: 2018년 11월 20일 화요일 오후 6시 30분\\n대상: 한국외국어대학교\\n글로벌캠퍼스 학생이라면 누구든!\\n장소: 백년관 국제 세미나실\\n사전 신청 시 간식 제공\\n★신청 사이트★\\nhttp://naver.me/F5f8b6ca\\n\\n'"
            ],
            "application/vnd.google.colaboratory.intrinsic+json": {
              "type": "string"
            }
          },
          "metadata": {},
          "execution_count": 32
        }
      ]
    },
    {
      "cell_type": "code",
      "source": [
        "#Index([3348, 5479], dtype='int64')\n",
        "gongji_copy.loc[5479,'content']"
      ],
      "metadata": {
        "colab": {
          "base_uri": "https://localhost:8080/",
          "height": 110
        },
        "id": "DKvkKmP7aHdJ",
        "outputId": "4cde3a59-1d5d-483c-e725-2a6ea2c5533a"
      },
      "execution_count": null,
      "outputs": [
        {
          "output_type": "execute_result",
          "data": {
            "text/plain": [
              "'제5차 러시아-CIS 전문가 초청 특강\\n[제5차 러시아·CIS 전문가 초청 특강]\\n2019-2학기\\n한국외대 국제지역대학원은 대외경제정책연구원(KIEP)과 한국외대 러시아 연구소 HK+ 사업단이 후원하는 러시아·CIS 지역전문가 초청 특강을 아래와 같이 개최합니다.\\n관심있는 동학제현 여러분들의 많은 관심과 참여를 부탁드립니다.\\n주제\\n제1강 : 러시아 언론에 비친 한국 제2강: 한국 언론에 비친 러시아\\n연사 OLEG KIRIYANOV (Rossiyskaya Gazeta 서울 특파원)\\n일 시\\n2019년 10월 11일(금), 15:00~18:00\\n장소\\n일반대학원 411호\\n한국외대 국제지역대학원 러시아-CIS 학과,\\n주최\\n한국외대 통번역대학원 한노과\\n후원\\n대외경제정책연구원(KIEP), 한국외대 러시아연구소\\n\\n'"
            ],
            "application/vnd.google.colaboratory.intrinsic+json": {
              "type": "string"
            }
          },
          "metadata": {},
          "execution_count": 29
        }
      ]
    },
    {
      "cell_type": "code",
      "source": [
        "# 11차 CIS : Index([3229, 3566, 5360, 5697], dtype='int64')\n",
        "gongji_copy.loc[5697,'content']"
      ],
      "metadata": {
        "colab": {
          "base_uri": "https://localhost:8080/",
          "height": 92
        },
        "id": "94qNwl4rY6CO",
        "outputId": "2480de0b-9e51-45d5-f5e5-a6b52d4887ab"
      },
      "execution_count": null,
      "outputs": [
        {
          "output_type": "execute_result",
          "data": {
            "text/plain": [
              "'\\n제11차 러시아-CIS 전문가 초청 특강\\n[제 11차 러시아 · CIS 전문가 초청 특강]\\n2019-1학기\\n한국외대 국제지역대학원은 한국연구재단이 후원하고 한국외대 러시아 연구소 HK(인문한국) 연구사업단이 기획하는 러시아·CIS 지역전문가 초청 특강을 아래와 같이 개최합니다. 관심있는 동학제현 여러분들의 많 은 관심과 참여를 부탁드립니다.\\n제1강 : 러시아 영화의 이해 1\\n주제\\n제2강: 러시아 영화의 이해 2\\n◆연사\\n홍완석(한국외대 교수)\\n◆일시\\n2019년 5월 31일(금), 15:00~18:00\\n장소\\n일반대학원 411호\\n주최\\n한국외대 국제지역대학원 러시아-CIS 학과, 한국외대 통번역대학원 한노과\\n후원 한국연구재단, 한국외대 러시아연구소\\n\\n'"
            ],
            "application/vnd.google.colaboratory.intrinsic+json": {
              "type": "string"
            }
          },
          "metadata": {},
          "execution_count": 22
        }
      ]
    },
    {
      "cell_type": "code",
      "source": [
        "#10차 CIS Index([3242, 3609, 5373, 5740], dtype='int64')\n",
        "gongji_copy.loc[5373,'content']"
      ],
      "metadata": {
        "colab": {
          "base_uri": "https://localhost:8080/",
          "height": 92
        },
        "id": "sZuoG8qXW1_o",
        "outputId": "8bae1072-0aae-4ad1-d4ce-0607fbb2233c"
      },
      "execution_count": null,
      "outputs": [
        {
          "output_type": "execute_result",
          "data": {
            "text/plain": [
              "'\\n제10차 러시아-CIS 전문가 초청 특강\\n2019-2학기\\n한국외대 국제지역대학원(주임교수 홍완석)은 대외경제정책연구원(KIEP)과 한국외대 러시아연구소 HK+ 사업단이 후원하는 러시아·CIS 지역전문가 초청 특강을 아래와 같이 개최합니다.\\n관심있는 동학제현 여러분들의 많은 관심과 참여를 부탁드립니다.\\n제1강 : 역사 속의 러시아-폴란드 관계\\n주 제\\n제2강 : 러-폴란드 관계의 현재와 미래\\n연사\\n이시형 (전 한국국제교류재단 이사장, 전 OECD/폴란드 대사)\\n◆일시\\n2019년 11월 22일(금), 15:00~18:00\\n장소\\n일반대학원 411호\\n한국외대 국제지역대학원 러시아-CIS 학과,\\n주최\\n한국외대 통번역대학원 한노과\\n\\n'"
            ],
            "application/vnd.google.colaboratory.intrinsic+json": {
              "type": "string"
            }
          },
          "metadata": {},
          "execution_count": 53
        }
      ]
    },
    {
      "cell_type": "code",
      "source": [
        "text = gongji_copy.loc[5740, 'content']\n",
        "summarized_content = summarize_content(gongji_copy.loc[5740, 'title'], text)\n",
        "print(summarized_content)"
      ],
      "metadata": {
        "colab": {
          "base_uri": "https://localhost:8080/"
        },
        "id": "X5QOX295cxgL",
        "outputId": "0fc2e664-b2a0-4ab7-ec65-05688d3f3de3"
      },
      "execution_count": null,
      "outputs": [
        {
          "output_type": "stream",
          "name": "stdout",
          "text": [
            "['한국외대 국제지역대학원은 한국연구재단이 후원하고 한국외대 러시아 연구소 HK(인문한국) 연구사업단이 기획하는 러시아·CIS 지역전문가 초청 특강을 아래와 같이 개최합니다', '제10차 러시아-CIS 전문가 초청 특강', '[제 10차 러시아 CIS 전문가 초청 특강]']\n"
          ]
        }
      ]
    },
    {
      "cell_type": "code",
      "source": [
        "# 한글이 0.3이하면 True반환\n",
        "def is_foreign_language(text, korean_threshold=0.3):\n",
        "    if isinstance(text, list):\n",
        "        text = ' '.join(text)\n",
        "\n",
        "    text = text.strip()\n",
        "    if not text:\n",
        "        return False\n",
        "\n",
        "    total_chars = len(text)\n",
        "    korean_chars = len(re.findall('[가-힣]', text))\n",
        "\n",
        "    # 한국어 비율이 일정 수준 미만인 경우 True 반환\n",
        "    return korean_chars / total_chars < korean_threshold\n",
        "\n",
        "\n",
        "# 요약 함수 정의\n",
        "def summarize_content(title, content):\n",
        "    global cnt_error  # 전역 변수로 cnt_error를 사용\n",
        "\n",
        "    '''\n",
        "    # 영어로만 이루어진 게시글을 필터링\n",
        "    if is_mostly_english(content):\n",
        "        return []'''\n",
        "    # 한국어 비율이 0.3 이하일 경우 외국어공지로 취급하여 [] 반환\n",
        "    if is_foreign_language(content):\n",
        "        return []\n",
        "\n",
        "    if not content:\n",
        "        return []\n",
        "\n",
        "    if isinstance(content, list):\n",
        "        content = ' '.join(content)\n",
        "\n",
        "    if not content.strip():\n",
        "        return []\n",
        "\n",
        "    sents = re.split(r'\\n|\\.', content)\n",
        "\n",
        "    sents = list(filter(None, sents))\n",
        "\n",
        "    sents = [sent for sent in sents if sent.strip()]\n",
        "\n",
        "    if not sents:\n",
        "        return []\n",
        "\n",
        "    # 문장 길이 제한을 5로 늘림. 리스트에 split하고도 요소가 5개 미만이면 그냥 반환 (사진으로 문장 적은애들이 에러까지 안가게)\n",
        "    if len(sents) < 5:\n",
        "        return sents\n",
        "\n",
        "    # 요약 수행\n",
        "    try:\n",
        "        keysents = summarizer.summarize(sents, topk=3)\n",
        "    except ValueError as e:\n",
        "        # 요약 도중 에러 발생시 빈 리스트 반환\n",
        "        cnt_error += 1\n",
        "        print(f\"{cnt_error}. {title}, Summarizer error: {e}\")\n",
        "\n",
        "        # 문장으로 반환해주되, 3줄 아래면 그대로 반환하고 그 이상이면 3줄까지만 반환?\n",
        "        if len(sents) < 3:\n",
        "            return sents\n",
        "        else:\n",
        "            return sents[:3]\n",
        "\n",
        "    return [item[2] for item in keysents]\n",
        "\n",
        "\n",
        "cnt_error = 0\n",
        "\n"
      ],
      "metadata": {
        "colab": {
          "base_uri": "https://localhost:8080/"
        },
        "id": "wl7LwsptbG2f",
        "outputId": "8970bd1e-df0f-4114-dbd3-a349e44493c6"
      },
      "execution_count": null,
      "outputs": [
        {
          "output_type": "stream",
          "name": "stdout",
          "text": [
            "['제10차 러시아-CIS 전문가 초청 특강', '2019', ' 11', '한국외대 국제지역대학원 러시아-CIS학과']\n"
          ]
        }
      ]
    },
    {
      "cell_type": "markdown",
      "source": [
        "# 패키지 가져오기"
      ],
      "metadata": {
        "id": "YmR9u3xRn477"
      }
    },
    {
      "cell_type": "code",
      "source": [
        "# 패키지\n",
        "!pip install git+https://github.com/lovit/textrank.git"
      ],
      "metadata": {
        "colab": {
          "base_uri": "https://localhost:8080/"
        },
        "id": "10nfl0_FmFSl",
        "outputId": "c76909c3-437c-46b1-bb74-20f03eca59f6"
      },
      "execution_count": null,
      "outputs": [
        {
          "output_type": "stream",
          "name": "stdout",
          "text": [
            "Collecting git+https://github.com/lovit/textrank.git\n",
            "  Cloning https://github.com/lovit/textrank.git to /tmp/pip-req-build-yedlv_0j\n",
            "  Running command git clone --filter=blob:none --quiet https://github.com/lovit/textrank.git /tmp/pip-req-build-yedlv_0j\n",
            "  Resolved https://github.com/lovit/textrank.git to commit 578c7fbbb22b24561b1bd4bab9a9ecc2dc9515e1\n",
            "  Preparing metadata (setup.py) ... \u001b[?25l\u001b[?25hdone\n",
            "Building wheels for collected packages: textrank\n",
            "  Building wheel for textrank (setup.py) ... \u001b[?25l\u001b[?25hdone\n",
            "  Created wheel for textrank: filename=textrank-0.1.2-py3-none-any.whl size=11142 sha256=090ef71c744077bc148fb1aabb09869f7272e835b09c65820bb3b73d7ba6de58\n",
            "  Stored in directory: /tmp/pip-ephem-wheel-cache-r914sp3e/wheels/8d/d1/ef/7c6abc0d5bbb64f01bd86b0ad967911d4b7f21bb44813b3239\n",
            "Successfully built textrank\n",
            "Installing collected packages: textrank\n",
            "Successfully installed textrank-0.1.2\n"
          ]
        }
      ]
    },
    {
      "cell_type": "code",
      "source": [
        "# 깃 클론\n",
        "!git clone https://github.com/lovit/textrank.git"
      ],
      "metadata": {
        "colab": {
          "base_uri": "https://localhost:8080/"
        },
        "id": "hXC14fAFn7OK",
        "outputId": "b41b74f2-71cc-466c-c6ba-7c847f73dfb3"
      },
      "execution_count": null,
      "outputs": [
        {
          "output_type": "stream",
          "name": "stdout",
          "text": [
            "Cloning into 'textrank'...\n",
            "remote: Enumerating objects: 232, done.\u001b[K\n",
            "remote: Counting objects: 100% (7/7), done.\u001b[K\n",
            "remote: Compressing objects: 100% (7/7), done.\u001b[K\n",
            "remote: Total 232 (delta 1), reused 1 (delta 0), pack-reused 225\u001b[K\n",
            "Receiving objects: 100% (232/232), 1.21 MiB | 3.23 MiB/s, done.\n",
            "Resolving deltas: 100% (133/133), done.\n"
          ]
        }
      ]
    },
    {
      "cell_type": "code",
      "source": [
        "%cd textrank"
      ],
      "metadata": {
        "colab": {
          "base_uri": "https://localhost:8080/"
        },
        "id": "TTNL8jIxn_Gj",
        "outputId": "8b180534-ec3c-4b1c-a2f7-0b2f5238413b"
      },
      "execution_count": null,
      "outputs": [
        {
          "output_type": "stream",
          "name": "stdout",
          "text": [
            "/content/textrank\n"
          ]
        }
      ]
    },
    {
      "cell_type": "code",
      "source": [
        "# 이제 리포지토리의 코드를 사용할 수 있습니다.\n",
        "from textrank import KeywordSummarizer, KeysentenceSummarizer\n",
        "\n",
        "# 예시 코드\n",
        "def example_tokenize(sentence):\n",
        "    return sentence.split()"
      ],
      "metadata": {
        "id": "mpuSuZ14oDdk"
      },
      "execution_count": null,
      "outputs": []
    },
    {
      "cell_type": "code",
      "source": [
        "import re\n",
        "\n",
        "# 'janghak' 첫 번째 행 'content' 추출\n",
        "str2 = janghak_copy.loc[300, 'content']\n",
        "str2 = str2 + \"시범 추가\"\n",
        "print(str2)\n",
        "\n",
        "# 줄바꿈을 기준으로 문자열 분리하여 리스트에 저장\n",
        "sents = re.split(r'\\n|\\.', str2)\n",
        "print(sents)\n",
        "# 빈 문자열 제거\n",
        "sents = list(filter(None, sents))\n",
        "print(sents)\n",
        "\n",
        "# 공백만 있는 문자열 제거\n",
        "sents = [sent for sent in sents if sent.strip()]\n",
        "print(sents)"
      ],
      "metadata": {
        "colab": {
          "base_uri": "https://localhost:8080/"
        },
        "id": "hGmA_-bBosHO",
        "outputId": "c3804162-1b60-4d5f-a3d0-7ef0cde24282"
      },
      "execution_count": null,
      "outputs": [
        {
          "output_type": "stream",
          "name": "stdout",
          "text": [
            "\n",
            "2021년 대학생 청소년교육지원장학금 멘토모집 안내 \n",
            "\n",
            "아래와 같이 2021학년도 대학생 청소년교육지원장학금멘토 학생을 모집하니 관심있는 외대 학생들의많은 지원 바랍니다.\n",
            "\n",
            "- 아 래 -\n",
            "\n",
            "1. 모집기간 : 2021. 3. 2(화) ~ 3. 21(일)(* 3월 22일이후 신청자의 경우 선발 심사에 반영되지 않을 수 있음)\n",
            "\n",
            "2. 신청유형 : B형(멘토 발굴형)\n",
            "\n",
            "3. 선발기준\n",
            " 가. 직전학기 성적 백분위 70점 이상인 자(학자금 지원구간 무관/신.편입생 성적기준 제외)\n",
            "나.봉사역량 우수자 우대(봉사기간, 지속성)\n",
            " 다. 자기소개, 지원동기, 성적 및 전공 관련 등을 종합적으로 평가하여 선발\n",
            " 라. 초과학기자(9학기 이상), 휴학생 참여 불가, 타 대학생 근로장학사업(국가근로장학금, 다문화⦁탈북학생 멘토링장학금)과 중복 참여 불가\n",
            "\n",
            "4. 선발 인원 :5명내외\n",
            "\n",
            "5. 활동가능기간 :2021. 4. 1(목) ~ 2022. 1. 31(월)\n",
            "*상황에 따라 활동 시작/종료일 상이, 2학기 재모집 가능\n",
            "\n",
            "6. 활동가능시간 : 학기 중 주당 최대 10시간, 방학 중 주당 최대 25시간\n",
            " * 활동인원에 따라 활동시간 변동 가능.\n",
            "\n",
            "7. 활동비 : 시간 당 11,150원(*최소활동 시간이 10시간 이상일 때 지급 가능)\n",
            "\n",
            "8.신청방법 및 제출서류\n",
            "\n",
            " 가.신청방법 : 한국장학재단 홈페이지 신청(첨부 참조)\n",
            "\n",
            " 나. 제출서류 : 봉사활동증명서 등(해당자, 별도양식 없음)\n",
            "\n",
            "9. 선발결과 :3월 27일 이전 선발자 대상으로 개별연락\n",
            "\n",
            "10. 유의사항\n",
            " 가. 우리 대학은 멘토 발굴형으로 학생이 직접 기관을 발굴하여 활동해야 하오니 사전에 협의 요망(첨부 참조:20년 자료 동일 함.)\n",
            " 나. 대학생 청소년교육지원장학금 또한 장학금으로 교육비납입증명서에 반영, 해당 장학수혜금액만큼 교육비공제를 받을 수 없습니다.\n",
            " \n",
            "\n",
            "2021. 3\n",
            "\n",
            "장학팀\n",
            "시범 추가\n",
            "['', '2021년 대학생 청소년교육지원장학금 멘토모집 안내 ', '', '아래와 같이 2021학년도 대학생 청소년교육지원장학금멘토 학생을 모집하니 관심있는 외대 학생들의많은 지원 바랍니다', '', '', '- 아 래 -', '', '1', ' 모집기간 : 2021', ' 3', ' 2(화) ~ 3', ' 21(일)(* 3월 22일이후 신청자의 경우 선발 심사에 반영되지 않을 수 있음)', '', '2', ' 신청유형 : B형(멘토 발굴형)', '', '3', ' 선발기준', ' 가', ' 직전학기 성적 백분위 70점 이상인 자(학자금 지원구간 무관/신', '편입생 성적기준 제외)', '나', '봉사역량 우수자 우대(봉사기간, 지속성)', ' 다', ' 자기소개, 지원동기, 성적 및 전공 관련 등을 종합적으로 평가하여 선발', ' 라', ' 초과학기자(9학기 이상), 휴학생 참여 불가, 타 대학생 근로장학사업(국가근로장학금, 다문화⦁탈북학생 멘토링장학금)과 중복 참여 불가', '', '4', ' 선발 인원 :5명내외', '', '5', ' 활동가능기간 :2021', ' 4', ' 1(목) ~ 2022', ' 1', ' 31(월)', '*상황에 따라 활동 시작/종료일 상이, 2학기 재모집 가능', '', '6', ' 활동가능시간 : 학기 중 주당 최대 10시간, 방학 중 주당 최대 25시간', ' * 활동인원에 따라 활동시간 변동 가능', '', '', '7', ' 활동비 : 시간 당 11,150원(*최소활동 시간이 10시간 이상일 때 지급 가능)', '', '8', '신청방법 및 제출서류', '', ' 가', '신청방법 : 한국장학재단 홈페이지 신청(첨부 참조)', '', ' 나', ' 제출서류 : 봉사활동증명서 등(해당자, 별도양식 없음)', '', '9', ' 선발결과 :3월 27일 이전 선발자 대상으로 개별연락', '', '10', ' 유의사항', ' 가', ' 우리 대학은 멘토 발굴형으로 학생이 직접 기관을 발굴하여 활동해야 하오니 사전에 협의 요망(첨부 참조:20년 자료 동일 함', ')', ' 나', ' 대학생 청소년교육지원장학금 또한 장학금으로 교육비납입증명서에 반영, 해당 장학수혜금액만큼 교육비공제를 받을 수 없습니다', '', ' ', '', '2021', ' 3', '', '장학팀', '시범 추가']\n",
            "['2021년 대학생 청소년교육지원장학금 멘토모집 안내 ', '아래와 같이 2021학년도 대학생 청소년교육지원장학금멘토 학생을 모집하니 관심있는 외대 학생들의많은 지원 바랍니다', '- 아 래 -', '1', ' 모집기간 : 2021', ' 3', ' 2(화) ~ 3', ' 21(일)(* 3월 22일이후 신청자의 경우 선발 심사에 반영되지 않을 수 있음)', '2', ' 신청유형 : B형(멘토 발굴형)', '3', ' 선발기준', ' 가', ' 직전학기 성적 백분위 70점 이상인 자(학자금 지원구간 무관/신', '편입생 성적기준 제외)', '나', '봉사역량 우수자 우대(봉사기간, 지속성)', ' 다', ' 자기소개, 지원동기, 성적 및 전공 관련 등을 종합적으로 평가하여 선발', ' 라', ' 초과학기자(9학기 이상), 휴학생 참여 불가, 타 대학생 근로장학사업(국가근로장학금, 다문화⦁탈북학생 멘토링장학금)과 중복 참여 불가', '4', ' 선발 인원 :5명내외', '5', ' 활동가능기간 :2021', ' 4', ' 1(목) ~ 2022', ' 1', ' 31(월)', '*상황에 따라 활동 시작/종료일 상이, 2학기 재모집 가능', '6', ' 활동가능시간 : 학기 중 주당 최대 10시간, 방학 중 주당 최대 25시간', ' * 활동인원에 따라 활동시간 변동 가능', '7', ' 활동비 : 시간 당 11,150원(*최소활동 시간이 10시간 이상일 때 지급 가능)', '8', '신청방법 및 제출서류', ' 가', '신청방법 : 한국장학재단 홈페이지 신청(첨부 참조)', ' 나', ' 제출서류 : 봉사활동증명서 등(해당자, 별도양식 없음)', '9', ' 선발결과 :3월 27일 이전 선발자 대상으로 개별연락', '10', ' 유의사항', ' 가', ' 우리 대학은 멘토 발굴형으로 학생이 직접 기관을 발굴하여 활동해야 하오니 사전에 협의 요망(첨부 참조:20년 자료 동일 함', ')', ' 나', ' 대학생 청소년교육지원장학금 또한 장학금으로 교육비납입증명서에 반영, 해당 장학수혜금액만큼 교육비공제를 받을 수 없습니다', ' ', '2021', ' 3', '장학팀', '시범 추가']\n",
            "['2021년 대학생 청소년교육지원장학금 멘토모집 안내 ', '아래와 같이 2021학년도 대학생 청소년교육지원장학금멘토 학생을 모집하니 관심있는 외대 학생들의많은 지원 바랍니다', '- 아 래 -', '1', ' 모집기간 : 2021', ' 3', ' 2(화) ~ 3', ' 21(일)(* 3월 22일이후 신청자의 경우 선발 심사에 반영되지 않을 수 있음)', '2', ' 신청유형 : B형(멘토 발굴형)', '3', ' 선발기준', ' 가', ' 직전학기 성적 백분위 70점 이상인 자(학자금 지원구간 무관/신', '편입생 성적기준 제외)', '나', '봉사역량 우수자 우대(봉사기간, 지속성)', ' 다', ' 자기소개, 지원동기, 성적 및 전공 관련 등을 종합적으로 평가하여 선발', ' 라', ' 초과학기자(9학기 이상), 휴학생 참여 불가, 타 대학생 근로장학사업(국가근로장학금, 다문화⦁탈북학생 멘토링장학금)과 중복 참여 불가', '4', ' 선발 인원 :5명내외', '5', ' 활동가능기간 :2021', ' 4', ' 1(목) ~ 2022', ' 1', ' 31(월)', '*상황에 따라 활동 시작/종료일 상이, 2학기 재모집 가능', '6', ' 활동가능시간 : 학기 중 주당 최대 10시간, 방학 중 주당 최대 25시간', ' * 활동인원에 따라 활동시간 변동 가능', '7', ' 활동비 : 시간 당 11,150원(*최소활동 시간이 10시간 이상일 때 지급 가능)', '8', '신청방법 및 제출서류', ' 가', '신청방법 : 한국장학재단 홈페이지 신청(첨부 참조)', ' 나', ' 제출서류 : 봉사활동증명서 등(해당자, 별도양식 없음)', '9', ' 선발결과 :3월 27일 이전 선발자 대상으로 개별연락', '10', ' 유의사항', ' 가', ' 우리 대학은 멘토 발굴형으로 학생이 직접 기관을 발굴하여 활동해야 하오니 사전에 협의 요망(첨부 참조:20년 자료 동일 함', ')', ' 나', ' 대학생 청소년교육지원장학금 또한 장학금으로 교육비납입증명서에 반영, 해당 장학수혜금액만큼 교육비공제를 받을 수 없습니다', '2021', ' 3', '장학팀', '시범 추가']\n"
          ]
        }
      ]
    },
    {
      "cell_type": "code",
      "source": [
        "# 키워드 요약----------------------\n",
        "\n",
        "# 문장수가 문제가 아님 -> 4개여도 요약 안됨 .벡터화에서 문제\n",
        "\n",
        "# KeywordSummarizer 인스턴스 생성\n",
        "summarizer = KeywordSummarizer(tokenize=example_tokenize, verbose=True)\n",
        "\n",
        "# 키워드 요약 실행\n",
        "keywords = summarizer.summarize(sents)\n",
        "\n",
        "# 출력\n",
        "print(keywords)"
      ],
      "metadata": {
        "colab": {
          "base_uri": "https://localhost:8080/"
        },
        "id": "WYZ74ajApDTo",
        "outputId": "a9eba2a2-e141-4f51-97ee-72dc16ab358e"
      },
      "execution_count": null,
      "outputs": [
        {
          "output_type": "stream",
          "name": "stdout",
          "text": [
            "\rword cooccurrence counting 0\rword cooccurrence counting from 54 sents was done\n",
            "trained TextRank. n words = 23\n",
            "[('최대', 1.4176371976939008), ('주당', 1.4176371976939004), ('중', 1.4176371976939004), (':', 1.3951311473391197), ('대학생', 1.311622330435965), ('및', 1.073545580138466), ('참여', 1.0365091497724506), ('-', 1.0), ('가능', 1.0), ('따라', 1.0), ('3', 1.0), ('~', 1.0), ('선발', 0.8908000610728656), ('수', 0.8635818923870555), ('청소년교육지원장학금', 0.8406619384437963), ('신청방법', 0.7114738696497755), ('제출서류', 0.7114738696497755), ('성적', 0.6305294310319025), ('2021', 0.28175913699712085), ('1', 0.15000000000000002), ('나', 0.15000000000000002), ('가', 0.15000000000000002), ('4', 0.15000000000000002)]\n"
          ]
        }
      ]
    },
    {
      "cell_type": "markdown",
      "source": [
        "# Okt"
      ],
      "metadata": {
        "id": "8_ZIAWpZpZW8"
      }
    },
    {
      "cell_type": "code",
      "source": [
        "from konlpy.tag import Okt\n",
        "\n",
        "okt = Okt()\n",
        "\n",
        "def okt_tokenize(sent):\n",
        "    words = okt.pos(sent, join=True)\n",
        "    words = [w for w in words if ('/Noun' in w or '/Adjective' in w or '/Verb' in w)]\n",
        "    return words"
      ],
      "metadata": {
        "id": "CwfXL4mrpYwz"
      },
      "execution_count": null,
      "outputs": []
    },
    {
      "cell_type": "code",
      "source": [
        "sents= hiring.loc[5,'content']\n",
        "sents"
      ],
      "metadata": {
        "colab": {
          "base_uri": "https://localhost:8080/",
          "height": 204
        },
        "id": "afEI3NK2WLoX",
        "outputId": "f124ecb4-7e83-4345-ea5f-375829838434"
      },
      "execution_count": null,
      "outputs": [
        {
          "output_type": "execute_result",
          "data": {
            "text/plain": [
              "'\\n한국외국어대학교 육아휴직 대체 계약직 채용공고_학술정보팀(서울)\\n\\n1. 채용부서 및 인원\\n\\n\\n\\n\\n\\n채용부서\\n\\n인원\\n\\n담당업무\\n\\n지원자격 및 우대사항\\n\\n\\n\\n도서관\\n학술정보팀\\n(서울캠퍼스)\\n\\n1\\n\\n1. 도서관인수자료 검수 및 Solars8 시스템 도서정보 입력\\n (Kormarc, Marc21)\\n2. 도서관 열람 업무\\n3. 기타 행정 업무 및 민원 응대 등\\n\\n1. 지원자격\\n- 전문학사학위 이상자\\n-2급 정사서 자격증 이상 소지자\\n\\n2. 우대사항\\n- 문헌정보학 전공자\\n- 즉시 근무 가능자\\n\\n\\n \\n※ 공통지원자격\\n- 학교 직원인사규정 제11조 임용 결격사유에 해당하지 않는 자\\n- 성 관련 범죄 전력이 없는 자\\n※ 적임자가 없을 경우 채용하지 않으며, 국가보훈대상자 및 장애인은 관련법에 따라 우대\\n\\n2. 채용조건\\n가. 근 무 지 : 서울캠퍼스 도서관 학술정보팀\\n나. 근무시간 : 09:00 ~ 17:00(주 5일 : 월~금) / 휴게시간 : 12:00 ~ 13:00\\n다. 계약기간 : 채용일 ~ 2025.07.31.(육아휴직 대체로 별도 계약연장 없음)\\n라. 급 여 : 월 2,210,200원(퇴직금 별도)\\n\\n3. 전형방법\\n가. 1차 : 서류전형\\n나. 2차 : 심층면접\\n ※ 면접일은 서류전형 합격자에 한하여 통지 예정\\n\\n4. 제출서류: 자체 소정양식(인터넷 접수)\\n가. 입사지원서(인터넷 접수)\\n나. 자기소개서(인터넷 접수)\\n다. 자격증 및 경력사항(인터넷 접수)\\n라. 취업보호대상자(인터넷 접수_해당자만 명시)\\n※ 증빙서류는 최종합격자에 한하여 제출\\n\\n\\n5. 지원서 접수기간\\n가. 접수기간 : 2024.03.22.(금) 12:00부터03. 28.(목) 12:00까지\\n나. 제출방법 : 본교 홈페이지 채용시스템(인터넷)에서 접수\\n         공고문 하단 채용 바로가기 배너 참조\\n       (https://wis.hufs.ac.kr/jsp/HUFS/staff/se_login.jsp)\\n\\n6. 직원인사규정의 임용 결격사유\\n\\n\\n\\n\\n직원인사규정 제11조 (결격사유) 다음 각 호의 1에 해당하는 자는 직원에 임용할 수 없다.\\n1. 피성년후견인 또는 피한정후견인\\n2. 파산자로서 복권되지 아니한 자\\n3. 금고 이상의 형을 받은 자 또는 집행을 받지 않기로 결정된 후 5년이 경과되지 아니한 자\\n4. 금고 이상의 형을 받고 그 집행유예의 기간이 완료된 날로부터 2년을 경과하지 아니한 자\\n5. 금고 이상의 형의 선고유예를 받은 경우에 그 선고 유예기간중에 있는 자\\n6. 법률에 의하여 공민권이 정지 또는 박탈된 자\\n7. 본 대학교에서 징계에 의하여 파면의 처분을 받은 때로부터 5년을 경과하지 아니한 자와 해임 처분을 받은 때로부터 3년을 경과하지 아니한 자. 다만, 업무상 또는 업무와 상병으로 상해를 입어 불가피하게 퇴직한 직원이 완쾌되었을 경우 그 직원의 요구가 있을 시는 이를 우선 채용토록 배려한다.\\n8. 병역기피자\\n9. 신체검사결과 부적당하다고 판정된 자\\n\\n\\n\\n\\n7. 기 타\\n가. 입사지원서의 기재내용이 사실과 다르거나 합격 후 허위 사실이 발견될 경우 합격이 취소됨\\n나. 기타 문의 : 인사팀 (02-2173-2171,ymlee@hufs.ac.kr)\\n\\n계약직 채용 접수 사이트 바로가기\\n\\n2024.03.22.\\n행 정 지 원 처 장\\n\\n\\n'"
            ],
            "application/vnd.google.colaboratory.intrinsic+json": {
              "type": "string"
            }
          },
          "metadata": {},
          "execution_count": 40
        }
      ]
    },
    {
      "cell_type": "code",
      "source": [
        "# 문장 요약-----------------------\n",
        "\n",
        "\n",
        "# KeywordSummarizer 인스턴스 생성\n",
        "summarizer = KeysentenceSummarizer(tokenize = okt_tokenize, min_sim = 0.3)\n",
        "\n",
        "# 핵심 3문장 요약 실행\n",
        "keysents = summarizer.summarize(sents, topk=3)\n",
        "\n",
        "# 출력\n",
        "print(keysents)"
      ],
      "metadata": {
        "colab": {
          "base_uri": "https://localhost:8080/",
          "height": 379
        },
        "id": "kB2JqH6UpMVG",
        "outputId": "e63279d5-3c10-4224-99c6-98b2f6a4d807"
      },
      "execution_count": null,
      "outputs": [
        {
          "output_type": "error",
          "ename": "ValueError",
          "evalue": "object dtype is not supported by sparse matrices",
          "traceback": [
            "\u001b[0;31m---------------------------------------------------------------------------\u001b[0m",
            "\u001b[0;31mValueError\u001b[0m                                Traceback (most recent call last)",
            "\u001b[0;32m<ipython-input-41-7fb723eb42e1>\u001b[0m in \u001b[0;36m<cell line: 8>\u001b[0;34m()\u001b[0m\n\u001b[1;32m      6\u001b[0m \u001b[0;34m\u001b[0m\u001b[0m\n\u001b[1;32m      7\u001b[0m \u001b[0;31m# 핵심 3문장 요약 실행\u001b[0m\u001b[0;34m\u001b[0m\u001b[0;34m\u001b[0m\u001b[0m\n\u001b[0;32m----> 8\u001b[0;31m \u001b[0mkeysents\u001b[0m \u001b[0;34m=\u001b[0m \u001b[0msummarizer\u001b[0m\u001b[0;34m.\u001b[0m\u001b[0msummarize\u001b[0m\u001b[0;34m(\u001b[0m\u001b[0msents\u001b[0m\u001b[0;34m,\u001b[0m \u001b[0mtopk\u001b[0m\u001b[0;34m=\u001b[0m\u001b[0;36m3\u001b[0m\u001b[0;34m)\u001b[0m\u001b[0;34m\u001b[0m\u001b[0;34m\u001b[0m\u001b[0m\n\u001b[0m\u001b[1;32m      9\u001b[0m \u001b[0;34m\u001b[0m\u001b[0m\n\u001b[1;32m     10\u001b[0m \u001b[0;31m# 출력\u001b[0m\u001b[0;34m\u001b[0m\u001b[0;34m\u001b[0m\u001b[0m\n",
            "\u001b[0;32m/content/textrank/textrank/summarizer.py\u001b[0m in \u001b[0;36msummarize\u001b[0;34m(self, sents, topk, bias)\u001b[0m\n\u001b[1;32m    192\u001b[0m             \u001b[0;32mraise\u001b[0m \u001b[0mValueError\u001b[0m\u001b[0;34m(\u001b[0m\u001b[0;34m'The type of bias must be None or numpy.ndarray but the type is {}'\u001b[0m\u001b[0;34m.\u001b[0m\u001b[0mformat\u001b[0m\u001b[0;34m(\u001b[0m\u001b[0mtype\u001b[0m\u001b[0;34m(\u001b[0m\u001b[0mbias\u001b[0m\u001b[0;34m)\u001b[0m\u001b[0;34m)\u001b[0m\u001b[0;34m)\u001b[0m\u001b[0;34m\u001b[0m\u001b[0;34m\u001b[0m\u001b[0m\n\u001b[1;32m    193\u001b[0m \u001b[0;34m\u001b[0m\u001b[0m\n\u001b[0;32m--> 194\u001b[0;31m         \u001b[0mself\u001b[0m\u001b[0;34m.\u001b[0m\u001b[0mtrain_textrank\u001b[0m\u001b[0;34m(\u001b[0m\u001b[0msents\u001b[0m\u001b[0;34m,\u001b[0m \u001b[0mbias\u001b[0m\u001b[0;34m)\u001b[0m\u001b[0;34m\u001b[0m\u001b[0;34m\u001b[0m\u001b[0m\n\u001b[0m\u001b[1;32m    195\u001b[0m         \u001b[0midxs\u001b[0m \u001b[0;34m=\u001b[0m \u001b[0mself\u001b[0m\u001b[0;34m.\u001b[0m\u001b[0mR\u001b[0m\u001b[0;34m.\u001b[0m\u001b[0margsort\u001b[0m\u001b[0;34m(\u001b[0m\u001b[0;34m)\u001b[0m\u001b[0;34m[\u001b[0m\u001b[0;34m-\u001b[0m\u001b[0mtopk\u001b[0m\u001b[0;34m:\u001b[0m\u001b[0;34m]\u001b[0m\u001b[0;34m\u001b[0m\u001b[0;34m\u001b[0m\u001b[0m\n\u001b[1;32m    196\u001b[0m         \u001b[0mkeysents\u001b[0m \u001b[0;34m=\u001b[0m \u001b[0;34m[\u001b[0m\u001b[0;34m(\u001b[0m\u001b[0midx\u001b[0m\u001b[0;34m,\u001b[0m \u001b[0mself\u001b[0m\u001b[0;34m.\u001b[0m\u001b[0mR\u001b[0m\u001b[0;34m[\u001b[0m\u001b[0midx\u001b[0m\u001b[0;34m]\u001b[0m\u001b[0;34m,\u001b[0m \u001b[0msents\u001b[0m\u001b[0;34m[\u001b[0m\u001b[0midx\u001b[0m\u001b[0;34m]\u001b[0m\u001b[0;34m)\u001b[0m \u001b[0;32mfor\u001b[0m \u001b[0midx\u001b[0m \u001b[0;32min\u001b[0m \u001b[0mreversed\u001b[0m\u001b[0;34m(\u001b[0m\u001b[0midxs\u001b[0m\u001b[0;34m)\u001b[0m\u001b[0;34m]\u001b[0m\u001b[0;34m\u001b[0m\u001b[0;34m\u001b[0m\u001b[0m\n",
            "\u001b[0;32m/content/textrank/textrank/summarizer.py\u001b[0m in \u001b[0;36mtrain_textrank\u001b[0;34m(self, sents, bias)\u001b[0m\n\u001b[1;32m    155\u001b[0m         \u001b[0;32mNone\u001b[0m\u001b[0;34m\u001b[0m\u001b[0;34m\u001b[0m\u001b[0m\n\u001b[1;32m    156\u001b[0m         \"\"\"\n\u001b[0;32m--> 157\u001b[0;31m         g = sent_graph(sents, self.tokenize, self.min_count,\n\u001b[0m\u001b[1;32m    158\u001b[0m             self.min_sim, self.similarity, self.vocab_to_idx, self.verbose)\n\u001b[1;32m    159\u001b[0m         \u001b[0mself\u001b[0m\u001b[0;34m.\u001b[0m\u001b[0mR\u001b[0m \u001b[0;34m=\u001b[0m \u001b[0mpagerank\u001b[0m\u001b[0;34m(\u001b[0m\u001b[0mg\u001b[0m\u001b[0;34m,\u001b[0m \u001b[0mself\u001b[0m\u001b[0;34m.\u001b[0m\u001b[0mdf\u001b[0m\u001b[0;34m,\u001b[0m \u001b[0mself\u001b[0m\u001b[0;34m.\u001b[0m\u001b[0mmax_iter\u001b[0m\u001b[0;34m,\u001b[0m \u001b[0mbias\u001b[0m\u001b[0;34m)\u001b[0m\u001b[0;34m.\u001b[0m\u001b[0mreshape\u001b[0m\u001b[0;34m(\u001b[0m\u001b[0;34m-\u001b[0m\u001b[0;36m1\u001b[0m\u001b[0;34m)\u001b[0m\u001b[0;34m\u001b[0m\u001b[0;34m\u001b[0m\u001b[0m\n",
            "\u001b[0;32m/content/textrank/textrank/sentence.py\u001b[0m in \u001b[0;36msent_graph\u001b[0;34m(sents, tokenize, min_count, min_sim, similarity, vocab_to_idx, verbose)\u001b[0m\n\u001b[1;32m     48\u001b[0m         \u001b[0mx\u001b[0m \u001b[0;34m=\u001b[0m \u001b[0mnumpy_cosine_similarity_matrix\u001b[0m\u001b[0;34m(\u001b[0m\u001b[0mx\u001b[0m\u001b[0;34m,\u001b[0m \u001b[0mmin_sim\u001b[0m\u001b[0;34m,\u001b[0m \u001b[0mverbose\u001b[0m\u001b[0;34m,\u001b[0m \u001b[0mbatch_size\u001b[0m\u001b[0;34m=\u001b[0m\u001b[0;36m1000\u001b[0m\u001b[0;34m)\u001b[0m\u001b[0;34m\u001b[0m\u001b[0;34m\u001b[0m\u001b[0m\n\u001b[1;32m     49\u001b[0m     \u001b[0;32melse\u001b[0m\u001b[0;34m:\u001b[0m\u001b[0;34m\u001b[0m\u001b[0;34m\u001b[0m\u001b[0m\n\u001b[0;32m---> 50\u001b[0;31m         \u001b[0mx\u001b[0m \u001b[0;34m=\u001b[0m \u001b[0mnumpy_textrank_similarity_matrix\u001b[0m\u001b[0;34m(\u001b[0m\u001b[0mx\u001b[0m\u001b[0;34m,\u001b[0m \u001b[0mmin_sim\u001b[0m\u001b[0;34m,\u001b[0m \u001b[0mverbose\u001b[0m\u001b[0;34m,\u001b[0m \u001b[0mbatch_size\u001b[0m\u001b[0;34m=\u001b[0m\u001b[0;36m1000\u001b[0m\u001b[0;34m)\u001b[0m\u001b[0;34m\u001b[0m\u001b[0;34m\u001b[0m\u001b[0m\n\u001b[0m\u001b[1;32m     51\u001b[0m     \u001b[0;32mreturn\u001b[0m \u001b[0mx\u001b[0m\u001b[0;34m\u001b[0m\u001b[0;34m\u001b[0m\u001b[0m\n\u001b[1;32m     52\u001b[0m \u001b[0;34m\u001b[0m\u001b[0m\n",
            "\u001b[0;32m/content/textrank/textrank/sentence.py\u001b[0m in \u001b[0;36mnumpy_textrank_similarity_matrix\u001b[0;34m(x, min_sim, verbose, min_length, batch_size)\u001b[0m\n\u001b[1;32m    117\u001b[0m \u001b[0;34m\u001b[0m\u001b[0m\n\u001b[1;32m    118\u001b[0m         \u001b[0;31m# append\u001b[0m\u001b[0;34m\u001b[0m\u001b[0;34m\u001b[0m\u001b[0m\n\u001b[0;32m--> 119\u001b[0;31m         \u001b[0mmat\u001b[0m\u001b[0;34m.\u001b[0m\u001b[0mappend\u001b[0m\u001b[0;34m(\u001b[0m\u001b[0mcsr_matrix\u001b[0m\u001b[0;34m(\u001b[0m\u001b[0;34m(\u001b[0m\u001b[0mdata\u001b[0m\u001b[0;34m,\u001b[0m \u001b[0;34m(\u001b[0m\u001b[0mrows\u001b[0m\u001b[0;34m,\u001b[0m \u001b[0mcols\u001b[0m\u001b[0;34m)\u001b[0m\u001b[0;34m)\u001b[0m\u001b[0;34m,\u001b[0m \u001b[0mshape\u001b[0m\u001b[0;34m=\u001b[0m\u001b[0;34m(\u001b[0m\u001b[0me\u001b[0m\u001b[0;34m-\u001b[0m\u001b[0mb\u001b[0m\u001b[0;34m,\u001b[0m \u001b[0mn_rows\u001b[0m\u001b[0;34m)\u001b[0m\u001b[0;34m)\u001b[0m\u001b[0;34m)\u001b[0m\u001b[0;34m\u001b[0m\u001b[0;34m\u001b[0m\u001b[0m\n\u001b[0m\u001b[1;32m    120\u001b[0m \u001b[0;34m\u001b[0m\u001b[0m\n\u001b[1;32m    121\u001b[0m         \u001b[0;32mif\u001b[0m \u001b[0mverbose\u001b[0m\u001b[0;34m:\u001b[0m\u001b[0;34m\u001b[0m\u001b[0;34m\u001b[0m\u001b[0m\n",
            "\u001b[0;32m/usr/local/lib/python3.10/dist-packages/scipy/sparse/_compressed.py\u001b[0m in \u001b[0;36m__init__\u001b[0;34m(self, arg1, shape, dtype, copy)\u001b[0m\n\u001b[1;32m     50\u001b[0m                     \u001b[0;31m# (data, ij) format\u001b[0m\u001b[0;34m\u001b[0m\u001b[0;34m\u001b[0m\u001b[0m\n\u001b[1;32m     51\u001b[0m                     other = self.__class__(\n\u001b[0;32m---> 52\u001b[0;31m                         \u001b[0mself\u001b[0m\u001b[0;34m.\u001b[0m\u001b[0m_coo_container\u001b[0m\u001b[0;34m(\u001b[0m\u001b[0marg1\u001b[0m\u001b[0;34m,\u001b[0m \u001b[0mshape\u001b[0m\u001b[0;34m=\u001b[0m\u001b[0mshape\u001b[0m\u001b[0;34m,\u001b[0m \u001b[0mdtype\u001b[0m\u001b[0;34m=\u001b[0m\u001b[0mdtype\u001b[0m\u001b[0;34m)\u001b[0m\u001b[0;34m\u001b[0m\u001b[0;34m\u001b[0m\u001b[0m\n\u001b[0m\u001b[1;32m     53\u001b[0m                     )\n\u001b[1;32m     54\u001b[0m                     \u001b[0mself\u001b[0m\u001b[0;34m.\u001b[0m\u001b[0m_set_self\u001b[0m\u001b[0;34m(\u001b[0m\u001b[0mother\u001b[0m\u001b[0;34m)\u001b[0m\u001b[0;34m\u001b[0m\u001b[0;34m\u001b[0m\u001b[0m\n",
            "\u001b[0;32m/usr/local/lib/python3.10/dist-packages/scipy/sparse/_coo.py\u001b[0m in \u001b[0;36m__init__\u001b[0;34m(self, arg1, shape, dtype, copy)\u001b[0m\n\u001b[1;32m    164\u001b[0m                 \u001b[0mself\u001b[0m\u001b[0;34m.\u001b[0m\u001b[0mrow\u001b[0m \u001b[0;34m=\u001b[0m \u001b[0mnp\u001b[0m\u001b[0;34m.\u001b[0m\u001b[0marray\u001b[0m\u001b[0;34m(\u001b[0m\u001b[0mrow\u001b[0m\u001b[0;34m,\u001b[0m \u001b[0mcopy\u001b[0m\u001b[0;34m=\u001b[0m\u001b[0mcopy\u001b[0m\u001b[0;34m,\u001b[0m \u001b[0mdtype\u001b[0m\u001b[0;34m=\u001b[0m\u001b[0midx_dtype\u001b[0m\u001b[0;34m)\u001b[0m\u001b[0;34m\u001b[0m\u001b[0;34m\u001b[0m\u001b[0m\n\u001b[1;32m    165\u001b[0m                 \u001b[0mself\u001b[0m\u001b[0;34m.\u001b[0m\u001b[0mcol\u001b[0m \u001b[0;34m=\u001b[0m \u001b[0mnp\u001b[0m\u001b[0;34m.\u001b[0m\u001b[0marray\u001b[0m\u001b[0;34m(\u001b[0m\u001b[0mcol\u001b[0m\u001b[0;34m,\u001b[0m \u001b[0mcopy\u001b[0m\u001b[0;34m=\u001b[0m\u001b[0mcopy\u001b[0m\u001b[0;34m,\u001b[0m \u001b[0mdtype\u001b[0m\u001b[0;34m=\u001b[0m\u001b[0midx_dtype\u001b[0m\u001b[0;34m)\u001b[0m\u001b[0;34m\u001b[0m\u001b[0;34m\u001b[0m\u001b[0m\n\u001b[0;32m--> 166\u001b[0;31m                 \u001b[0mself\u001b[0m\u001b[0;34m.\u001b[0m\u001b[0mdata\u001b[0m \u001b[0;34m=\u001b[0m \u001b[0mgetdata\u001b[0m\u001b[0;34m(\u001b[0m\u001b[0mobj\u001b[0m\u001b[0;34m,\u001b[0m \u001b[0mcopy\u001b[0m\u001b[0;34m=\u001b[0m\u001b[0mcopy\u001b[0m\u001b[0;34m,\u001b[0m \u001b[0mdtype\u001b[0m\u001b[0;34m=\u001b[0m\u001b[0mdtype\u001b[0m\u001b[0;34m)\u001b[0m\u001b[0;34m\u001b[0m\u001b[0;34m\u001b[0m\u001b[0m\n\u001b[0m\u001b[1;32m    167\u001b[0m                 \u001b[0mself\u001b[0m\u001b[0;34m.\u001b[0m\u001b[0mhas_canonical_format\u001b[0m \u001b[0;34m=\u001b[0m \u001b[0;32mFalse\u001b[0m\u001b[0;34m\u001b[0m\u001b[0;34m\u001b[0m\u001b[0m\n\u001b[1;32m    168\u001b[0m         \u001b[0;32melse\u001b[0m\u001b[0;34m:\u001b[0m\u001b[0;34m\u001b[0m\u001b[0;34m\u001b[0m\u001b[0m\n",
            "\u001b[0;32m/usr/local/lib/python3.10/dist-packages/scipy/sparse/_sputils.py\u001b[0m in \u001b[0;36mgetdata\u001b[0;34m(obj, dtype, copy)\u001b[0m\n\u001b[1;32m    141\u001b[0m     \u001b[0;31m# Defer to getdtype for checking that the dtype is OK.\u001b[0m\u001b[0;34m\u001b[0m\u001b[0;34m\u001b[0m\u001b[0m\n\u001b[1;32m    142\u001b[0m     \u001b[0;31m# This is called for the validation only; we don't need the return value.\u001b[0m\u001b[0;34m\u001b[0m\u001b[0;34m\u001b[0m\u001b[0m\n\u001b[0;32m--> 143\u001b[0;31m     \u001b[0mgetdtype\u001b[0m\u001b[0;34m(\u001b[0m\u001b[0mdata\u001b[0m\u001b[0;34m.\u001b[0m\u001b[0mdtype\u001b[0m\u001b[0;34m)\u001b[0m\u001b[0;34m\u001b[0m\u001b[0;34m\u001b[0m\u001b[0m\n\u001b[0m\u001b[1;32m    144\u001b[0m     \u001b[0;32mreturn\u001b[0m \u001b[0mdata\u001b[0m\u001b[0;34m\u001b[0m\u001b[0;34m\u001b[0m\u001b[0m\n\u001b[1;32m    145\u001b[0m \u001b[0;34m\u001b[0m\u001b[0m\n",
            "\u001b[0;32m/usr/local/lib/python3.10/dist-packages/scipy/sparse/_sputils.py\u001b[0m in \u001b[0;36mgetdtype\u001b[0;34m(dtype, a, default)\u001b[0m\n\u001b[1;32m    126\u001b[0m         \u001b[0mnewdtype\u001b[0m \u001b[0;34m=\u001b[0m \u001b[0mnp\u001b[0m\u001b[0;34m.\u001b[0m\u001b[0mdtype\u001b[0m\u001b[0;34m(\u001b[0m\u001b[0mdtype\u001b[0m\u001b[0;34m)\u001b[0m\u001b[0;34m\u001b[0m\u001b[0;34m\u001b[0m\u001b[0m\n\u001b[1;32m    127\u001b[0m         \u001b[0;32mif\u001b[0m \u001b[0mnewdtype\u001b[0m \u001b[0;34m==\u001b[0m \u001b[0mnp\u001b[0m\u001b[0;34m.\u001b[0m\u001b[0mobject_\u001b[0m\u001b[0;34m:\u001b[0m\u001b[0;34m\u001b[0m\u001b[0;34m\u001b[0m\u001b[0m\n\u001b[0;32m--> 128\u001b[0;31m             raise ValueError(\n\u001b[0m\u001b[1;32m    129\u001b[0m                 \u001b[0;34m\"object dtype is not supported by sparse matrices\"\u001b[0m\u001b[0;34m\u001b[0m\u001b[0;34m\u001b[0m\u001b[0m\n\u001b[1;32m    130\u001b[0m             )\n",
            "\u001b[0;31mValueError\u001b[0m: object dtype is not supported by sparse matrices"
          ]
        }
      ]
    },
    {
      "cell_type": "code",
      "source": [
        "janghak_copy"
      ],
      "metadata": {
        "id": "zcQgcRXlSwHN"
      },
      "execution_count": null,
      "outputs": []
    },
    {
      "cell_type": "code",
      "source": [
        "janghak_copy['content'].dtype"
      ],
      "metadata": {
        "colab": {
          "base_uri": "https://localhost:8080/"
        },
        "id": "h6rj9GsiTC3Y",
        "outputId": "7baa09c5-af4d-41c7-a106-86d1c27bee86"
      },
      "execution_count": null,
      "outputs": [
        {
          "output_type": "execute_result",
          "data": {
            "text/plain": [
              "dtype('O')"
            ]
          },
          "metadata": {},
          "execution_count": 16
        }
      ]
    },
    {
      "cell_type": "code",
      "source": [],
      "metadata": {
        "id": "yYmWOPdCWH7l"
      },
      "execution_count": null,
      "outputs": []
    },
    {
      "cell_type": "markdown",
      "source": [
        "#### 요약함수 정의\n",
        "- 아래 함수 실행 시 쭉 길게 모든 행에 summarize content 추가"
      ],
      "metadata": {
        "id": "TbZjjjzATKfV"
      }
    },
    {
      "cell_type": "code",
      "source": [
        "# 요약 함수 정의 _ 쭉 길게 summarizecontent만들어주는 함수\n",
        "def summarize_content(content):\n",
        "    # 'content'가 비어있는지 확인\n",
        "    if not content.strip():\n",
        "        return []  # 빈 리스트 반환\n",
        "\n",
        "    # 줄바꿈과 온점을 기준으로 문자열 분리하여 리스트에 저장\n",
        "    sents = re.split(r'\\n|\\.', content)\n",
        "\n",
        "    # 빈 문자열 제거\n",
        "    sents = list(filter(None, sents))\n",
        "\n",
        "    # 공백만 있는 문자열 제거\n",
        "    sents = [sent for sent in sents if sent.strip()]\n",
        "\n",
        "    # 한 줄만 존재하는 문장이면 빈 리스트 반환\n",
        "    if len(sents) == 1:\n",
        "        return []\n",
        "    # 요약 수행\n",
        "    keysents = summarizer.summarize(sents, topk=3)\n",
        "\n",
        "    # 요약된 문장 리스트로 반환\n",
        "    print([item[2] for item in keysents])\n",
        "    return keysents\n",
        "\n",
        "# 'content' 컬럼을 문자열로 변환 (필요한 경우)\n",
        "janghak_copy['content'] = janghak_copy['content'].astype(str)\n",
        "\n",
        "# 'summarize_content' 컬럼 생성\n",
        "janghak_copy['summarize_content'] = janghak_copy['content'].apply(summarize_content)\n",
        "\n",
        "# 결과 출력\n",
        "print(janghak_copy['summarize_content'].head())\n",
        "\n",
        "# 데이터 타입 확인\n",
        "print(janghak_copy['summarize_content'].dtype)"
      ],
      "metadata": {
        "colab": {
          "base_uri": "https://localhost:8080/",
          "height": 1000
        },
        "id": "zfVG5f04WIss",
        "outputId": "bb0d965a-575d-464c-e97f-1157433151e4"
      },
      "execution_count": null,
      "outputs": [
        {
          "output_type": "stream",
          "name": "stdout",
          "text": [
            "[' 장학생 추천서(붙임파일 참조, 남정장학재단 홈페이지 다운로드 가능, 추천소견 및 총장 직인공란으로 두고본인 작성 부분만 작성 후 제출)다', '1) 재산세 납세증명서(2018, 2019년) : 지방세 세목별 과세증명서 부, 모 각 1통(납부분 없을 경우, 납부분 없음 기재하여 발급 요청)2) 건강보험료 납부확인서(2018, 2019년) : 부, 모 각 1통(한 분만 납부하실 경우, 건강보험증 사본 또는 건강보험 자격확인서 함께 제출 요망)3) 소득세관련서류가) 소득세 과세자 중 급여 생활자의 경우: 근로소득 원천징수 영수증 부,모 각 1통(근무처 발행)나) 소득세 과세자 중 자영업자 등의 경우: 소득금액증명원 부,모 각 1통(세무서 발행)다) 소득세 미과세 자인 경우: 비사업자 사실증명 부,모 각 1통(세무서 발행)6', ' 어학성적사본, 전국대회 입상경력증명서 등)- 자원봉사활동내역 확인서- 심신장애증명서, 장애인 등록수첩 사본, 장애인 카드 사본(본인, 직계가족)- 직계가족의 장기입원 및 요양 시 병원에서 발급하는 입원확인 증명원 또는 진단서- 파산선고 결정문 및 경매(등기부등본) 증명(법원 발행)- 전월세 임대차계약서 사본7']\n",
            "[' ※ 1차 신청기간 중 군에 있어 융자신청을 못한 군 제대 복학자의 경우, 재학생이어도 2차 신청기간 중 신청 가능(단, 병적증명서 등 증빙서류 제출 필요)', ' ※ 농어업에 종사하지 않고 농어촌지역에 6개월(180일)이상 단순 거주하는 학부모(보호자)의 자녀(대학생)인 경우 8구간이하만 융자 지원대상임', ' - 재학생 및 신입생군(1차) 신청자 실행기간: ’20']\n",
            "[' 제출서류  1) 1차 서류(실로암시각장애인복지관 홈페이지에서 양식 다운이 가능합니다) ① 2020년 상반기 효명장학금 신청서 1부 ② 자기소개서 1부  (분량 A4 2~3P 내외, 모든 항목을 빠짐없이 기록하여 제출) ③ 개인정보 수집·활용 동의서 1부    ④ 2019년 2학기 성적증명서 1부 ⑤ 주민등록등본 1부    ⑥ 장애인복지카드 사본 1부 (※①~⑥ 우편 및 내방 접수 후, ①~②는 이메일로 추가 제출)2) 2차 서류 : 장학생으로 선발된 후 제출 ① 2020년 1학기 등록금납입영수증 1부    ② 개인 통장 사본 1부5', ' 선발기준 (※1~3 모두 해당할 경우, 신청 가능)1) 2020년 1학기 등록 예정자 (학사 8학기, 석․박사 6학기까지 지원 가능)2) 성적이 우수하고 인성과 품성이 반듯한 시각장애대학생3) 직전 학기 성적이 있는 시각장애대학생 (2020년 신입생은 지원 불가)- 학점 기준 : 4년제 정규대학(15학점 이상 이수자, 단 졸업학기 신청자에 한해서 12학점 이상 이수자도 가능), 로스쿨(9학점 이상), 석․박사 과정의 해외유학생(9학점 이상) ※ 본 효명장학금은 시각장애 대학생들이 학업에 필요한 추가비용을 지원하는 것임으로 대학교에서 장학금을 지원받았더라도 중복수령이 가능함', ' 기타사항 : 면접심사 및 수여식에 필수로 참석해야하며, 추후 장학금 선정 분야에 따라 추가서류(교수 추천서 등)를 제출할 수 있음']\n",
            "['(1차 등록기간에 대출 실행 시 등록금 전액으로 대출되므로 9학기 이하 수강자의 경우, 재무회계팀에 환불 신청 등의 절차필요함', '2) 졸업유예자는 등록금 생활비 대출 실행 불가', '【성적 및 이수학점 예외 기준】']\n",
            "['- 온라인(24일 18시까지 신청 가능) : 천안시 홈페이지 > 분야별 정보 > 교육 > 학자금 대출이자 지원', '제출신청서[천안시 홈페이지 > 분야별 정보 > 교육 > 학자금 대출이자 지원]', '★ 본인과 직계존속의 관계를 확인할 수 있도록 발급초본★ 본인 주소가 천안시 아닌 경우에만 제출']\n",
            "['【특별승인 진행 절차】', '2019학년도 2학기부터 한국장학재단 학자금대출 특별추천제도가 특별승인제도로 변경되었습니다', '※ 재학생 기등록자/기납부자 특별승인 추천의 경우 양 캠퍼스 담당자에게 연락바랍니다']\n",
            "[' 학습계획서 및 사진파일 제출(첨부파일 참조, 학습계획서 및 사진 파일은 최종선발자에 한하여 개별 연락드리면 해당 자만 제출바랍니다', ' 2020-1학기 교내외 타장학금(성적 및 국가 등) 대상자는 추후 정수장학회 장학생 선발 시 타장학금 반환해야 함', ' 학습계획서 및 사진파일 제출(첨부파일 참조, 학습계획서 및 사진 파일은 최종선발자에 한하여 제출 예정입니다']\n",
            "[' 장학금 신청서 접수처: 직접방문 및 등기접수 가능 글로벌캠퍼스 학생', ' 문숙장학금을 포함한 모든 장학금 수혜금액이 등록금을 초과하지 않는 학생', ' 장학생 지원 신청서 (반명함판 사진 부착) 1부 - 재단 소정양식(첨부양식)  - 장학증서가 우편으로 발송되므로 신청서의 주소를 정확하게 기재해 주십시오']\n",
            "[' 성옥장학생 신상카드 1부(첨부서류) 나', ' 추가서류1) 거주지 기준지원: 주민등록등본 1부 - 현재기준으로 5년이상 거주기록이 확인 되어야 함', ' - 부모와 학생이 등본에 같이 등재되어 있지 않는 경우 가족관계증명서 추가첨부2) 본적 기준지원: 가족관계증명서 1부     5']\n",
            "['대학 재학생(휴학생 포함) 또는 졸업 후 5년 이내 서울시 거주자에게 한국장학재단 학자금대출에 대한 2019년 7월~12월(하반기)에 발생한 이자액을 지원합니다', '2019년 하반기 서울시 학자금대출 이자지원', 'U 서울특별시']\n",
            "[' 건강보험료납부확인서(2019년) 각 1부* 한분이 납부 하실 경우, 건강보험증 사본 또는 건강보험자격확인서 제출바', ' 제출기간 및 제출처: 2020', ' 제출 및 문의처: 국제학사 101호 장학팀(02-2173-2795)2020']\n",
            "['[공통][교외] 2020 은평구민장학재단 지역사회기여 장학생 선발 공고(~1/29)지역사회기여장학생을아래와같이선발하니많은신청바랍니다', ' ○선발분야:지역사회기여장학생 ○선발인원:25명 ○활동기간:2020', '(최대150시간) ○장학금:연최대150만원 ○활동기관:은평구지역아동센터,은평구학교밖지원센터등 ○활동내용 -초,중,고등학생의학습,특기,예능지도등 -진로지도및고민상담,자기주도학습법및학습동기부여활동등 ○신청자격:공고일현재은평구에계속거주(주민등록기준)하고있는 서울및인근수도권소재대학교재학생 ○신청서접수:2020']\n",
            "['국가장학금지원서교부․ 학교 장학담당부서구비서류․ 장학생 공개선발 지원서 (소정양식)․ 개인정보동의서 (소정양식)․ 자기소개서 (A4 2매 이내) - 자기소개, 가정형편, 인생관, 장학금 신청사유 등․ 학업 및 자기발전 계획서 (A4 2매 이내) - 향후 진로 및 자기발전 계획 등을 구체적으로 작성․ 전체 학년 성적증명서․ 주민등록등본 (가족관계 확인이 힘들 경우, 가족관계증명서 추가 첨부)․ 지방세 세목별 과세증명서 - 주민센터 발급 (전국∙전체세목) (전국∙전체세목에 대하여 양친 각각 준비, 과세사실이 없는 경우 미과세증명서)※제출된 서류는 반환하지 않으며 불필요성이 인식될 경우 즉시 파기합니다', '[공통][교외] 2020 신라문화장학재단 장학생 공개 선발(~2/5)대상․ 서울∙글로벌캠퍼스 ․ 2020년도 2학년 예정자, 5년제는 3학년, 6년제는 본과 2학년․ 32학점 이상 이수하고  3', ' 5  (등기우편, 우체국소인 2월 5일까지 유효)전형방법․ 서류전형전형일정․ 신청서 접수 : 2020']\n",
            "['[공통][교외] 2020년 푸드스마일즈 우양재단 장학생 선발 안내(~1/21) 자세한 내용은 우양재단 홈페이지 공지를 참조 바랍니다', '푸드스마일즈 우양재단에서는 신규 장학생을 선발함에 있어서 경제적으로 어려운 학생들과 학업성적이 우수하여 장래 차세대 리더로서 성장가능성이 있는 우수 인재를 선정하여 학업장려금 및 장학금을 지원하고자 합니다', '우양재단 푸드스마일즈']\n",
            "['본 법인은 2020학년도 1학기 장학생을 다음과 같이 선발합니다', '3 제출서류 : 입사원서 참조 (법인 홈페이지 www', '-기숙사 공동생활 가능자']\n",
            "[' 공모전 상장, 입상 증명서, 단체활동 확인서 등(해당자에 한함)사', ' 장학금 수혜를 위해 신청자 본인이 필요하다고 판단하는 각종 증명서    5', ' 글로벌캠퍼스 재학생: 학생회관 108호 학생지원팀(031-330-4037)* 본 장학금은 2019-2학기 장학금임']\n",
            "[' 소정의 자격을 갖춘 대학생을 홀트 장학생으로 선발하여 1년간 홀트장학금을 지원하고,  나', ' 사 업 명: 2020년 홀트 장학생 선발2', '[공통][교외] 2020년 홀트 장학생 모집 안내(~2/4)1']\n",
            "[' 학생이 온라인 출근부 입력을 하였으나 부서담당자가 기한 내에 대학 제출하지 않은 경우 해당 월 근로장학금 지급 불가', '2019학년도 2학기 국가근로장학생 2020년1월 출근부 입력 마감 및 담당자 대학제출 안내', ' 온라인 출근부 입력기한 내에 입력 누락된 근로시간은 추가 입력 및 근로장학금 지급 불가']\n",
            "['kr)로 제출구비서류제출대상구비서류 요건주민등록초본모두‣부모 또는 본인 기준 최근5년간 주소변동이력, 전입   일자 포함하여 발급‣부모의 초본 제출 시에는 가족관계증명서도 함께 제출대학(교)재학(휴학)증명서또는 졸업증명서모두‣2019년 2학기 재학·휴학·졸업생임을 증명‣졸업생의 경우 졸업 후 2년 이내 미취업자가족관계증명서다자녀‣부모님(부 또는 모) 기준으로 발급(3자녀 이상 확인용)고용보험피보험자격 이력내역서(상용)졸업생‣출력방법 : https://www', '2019년 하반기 인천시 대학생 학자금대출 이자 지원 신청안내❍ 지원대상 · 부모 또는 본인이 신청기준일 현재 1년 이상 인천광역시에 주민등록이 되어 있는 한국장학재단에서 산정하는 소득 8분위 이하의대학(교) 재학(휴학)생 및 졸업생(졸업 후 2년 이내 미취업자) · 다자녀 가구(3자녀 이상) 대학생은 소득제한 없음❍ 지원내용 : 2019년 1학기부터 한국장학재단을 통해 대출받은  학자금(생활비)의 2019년 하반기(7~12월) 발생이자 지원 ※ 다른 기관과 중복지원불가, 한국장학재단에서 대출정보 추출 시 대출 전액 상환자는 지원 불가❍ 지원방법 : 한국장학재단 대출계좌에서 상환(개인계좌 입금 없음)❍ 신청기간 : 2020', 'kr) 제출❍ 구비서류 ※ 서류는 ‘주민등록번호 뒷자리 미표기’로 발급하거나, 가림 처리 후 사진으로 찍거나 스캔하여 이메일(ljy3025@korea']\n",
            "[' 장학생은 학기당 최소 12학점 이상 신청해야 함 나', ' 19-2학기한국장학재단 산정 기준 소득분위 7분위 이하인 학생4', '[교외]20-1 미래의동반자재단 신규장학생 모집안내아래와 같이 2020-1학기 미래의 동반자재단 신규장학생 모집안내를 하니 외대 학생들의 많은 지원 바랍니다']\n",
            "['2020년 1학기 2차 국가근로장학금 학생시청기간 및 신청 방법을 안내드립니다', ' - 국가근로장학금은 소속대학이 확정된 학생만 신청할 수 있으며, 소속대학이 미정인 신(편)입생은참고바랍니다', ' - 2020년도 하계방학 집중근로 프로그램에 참여하고자 하는 경우, 반드시 학생신청기간(1차 또는 2차)에 국가근로장학금을 신청해야합니다']\n",
            "['2020년 1학기 푸른등대 기부장학금 신규장학생을 아래와 같이 선발하오니 관심 있는 대학생들의 많은 신청 바랍니다', '(장학금> 기부장학금> 푸른등대 기부장학금> 신청자격 및 제출서류 등)', '<2020년 1학기 푸른등대 기부장학금 신규장학생 선발 안내>']\n",
            "[' 2글로벌캠퍼스 학생지원팀', ' 2019년도 부/모의 재산세과세(납세)증명서 혹은 미과세증명서 각 1부아', ' 제출처: 글로벌캠퍼스 학생지원팀(글로벌:031-330-4037)                    2020']\n",
            "[' 개인정보 수집∙이용 및 제공∙조회 동의서 1부(별첨양식)', ' 소득분위 확인서 1부 ', ' 본인소개서 1부 (별첨양식)']\n",
            "['[공통][교외] 20-1 성보장학회 장학생 신규 선발 안내', ' 장학금수혜지원서(사진부착)- 붙임 참조', '아래와 같이, 20-1학기 성보장학회 신규 장학생을 선발하오니 관심있는 학생들의 많은 신청 바랍니다']\n",
            "['※ 1차 신청기간 중 군에 있어 융자신청을 못한 군 제대 복학자의 경우, 재학생이어도 2차 신청기간 중 신청 가능(단, 병적증명서 등 증빙서류 제출 필요)', '- 재학생 및 신입생군(1차) 신청자 실행기간: ’20', '※ 농어업에 종사하지 않고 농어촌지역에 6개월(180일)이상 단순 거주하는 학부모(보호자)의 자녀(대학생)인 경우 8구간이하만 융자 지원대상임']\n",
            "[' (이메일 접수) samdasoo@jpdc', ' - 제주특별자치도내에 1년 이상(연속) 주소지 등록자로, 사실상 거주하고 있는 제주도민 또는 제주도민의 자녀', ' 접수방법 : 방문 및 이메일 접수']\n",
            "['*각 부서별 학생 선발 기준이 상이하며(전공, 외국어, 컴퓨터 능력 등) 부서에서 특별한 요구 사항이 없는 경우 소득수준, 직전학기 성적 등이 우선 요소로 고려됨', '희망부서로 작성하지 않은 부서도 소득, 성적, 전공 등에 따라 선발 고려 가능 ', '영어사용부서의 경우 영어관련전공학과 우선 선발 등']\n",
            "['아래와 같이 2020-1학기 HK Produce Group 장학생 모집 안내를 하오니 해당되는 서울캠퍼스 외대 학생들의 많은 지원 바랍니다', ' 2020-1학기 서울캠퍼스 재학생(8학기 이내, 등록휴학생 지원 불가, 신입생 지원불가) ', ' 장학금 지원서(첨부파일) ']\n",
            "[' 학생이 온라인 출근부 입력을 하였으나 부서담당자가 기한 내에 대학 제출하지 않은 경우 해당 월 근로장학금 지급 불가', '2019학년도 2학기 국가근로장학생 2020년 2월 출근부 입력 마감 및 담당자 대학제출 안내', ' 온라인 출근부 입력기한 내에 입력 누락된 근로시간은 추가 입력 및 근로장학금 지급 불가']\n",
            "['2020년도 하림장학재단 장학생 선발 안내', ' 이용동의서 1부 (첨부서류) ', '5)이상으로 가정형편이 어려운 학생']\n",
            "['울산시에서는 울산 시의 우수한 인재를 발굴․육성하여 지역발전에 기여하고자 울산인재평생교육진흥원에서는 2020년 상반기 장학생 선발 계획을 붙임과 같이 공고합니다', ' 2020년 운산인재평생교육진흥원 상반기 장학생 선발 공고', '「2020 상반기 장학생 선발계획」공고 ']\n",
            "['익명의 독지가가 지급하는 백미장학금 수혜에 대하여 다음과 같이 공고하니 관심 있는 학생들의 신청을 바랍니다', '2020학년도 1학기 백미장학금 신청 안내', ' 장 학 금 : 300만원(등록금 초과 수혜 가능 장학금임)']\n",
            "['2019학년도 2학기 국가근로장학생 2020년 2월 출근부 입력 마감 및 담당자 대학제출 안내★ 해외 출국일, 입국일, 해외 체류기간, 군복무 기간, 병원 내원 시간에는 출근부 입력 금지!★ 기한 내 담당자 미확인 시 장학금 지급이 지연될 수 있음', ' 학생이 온라인 출근부 입력을 하였으나 부서담당자가 기한 내에 대학 제출하지 않은 경우 해당 월 근로장학금 지급 불가  다', 'kr) * 학생의 출근부 입력 확인 후 부서 담당자가 \"대학제출\" 버튼 클릭요망 * 근로지담당자가 대학제출 이후 학생은 출근부 수정 불가 * 모든 근로지 담당자가 \"대학제출\"을 완료하여야 장학생 전원의 근로장학금 지급이 가능하므로 기한 준수 요망! 3']\n",
            "[' 지원대상(아래 사항을 모두 충족한 자)1) 2020년도 대학 신입생2) 법정빈곤세대 및 일반저소득세대 - 수급자, 차상위, 일반저소득 가정(중위소득 70% 내외) 3) 연 1회 발대식 및 유스리더십캠프(1박 2일)에 필수 참여 가능한 학생4) 연 4회 이상 멘토링 프로그램에 필수 참여 가능한 학생5) 월 평균 2회 스타벅스 커뮤니티 스토어(서울 종로구 소재) 등에서 진행되는 청년인재 양성 프로그램 활동에 필수 참여 가능한 학생', '2020 스타벅스 청년인재 양성 프로그램(6기) 모집 안내', '기타 자세한 내용은 첨부문서 확인바랍니다']\n",
            "['2020년도 글로벌탐방장학생 선발 공고', '2020년도 글로벌탐방장학생을 선발합니다', ' 2020년도 상반기 장학생 선발 공고(충남인재육성재단)']\n",
            "['kr) ▶ 장학금 ▶ 국가근로 및취업연계 장학금 ▶ 국가근로장학금 ▶ 근로장학관리 ▶ 대학자체선발기준 및 선발 현황 ▶2020년 1학기 근로유형 ‘학기중’으로 선택 후 조회 ▶ 선발자에 한하여 선발된 기관 정보 조회 가능 - 선발자 : 선발 부서 및 해당 부서 담당자 연락처가 표기됨 * 2020-1학기 휴학 시 국가근로 활동이 불가하므로 선발자 중 휴학하게 되는 경우 즉시 근로중단하고 장학팀으로 연락요망 2', ' 코로나-19 바이러스위험지역방문이력이 있는 학생 - 근로 시작 전 반드시 근로지 담당자님께 알리고근로 진행 협의 바랍니다', ' - 코로나-19 바이러스 관련 증상이 있을 시 즉시 질병관리본부 콜센터 1339에 상담바랍니다']\n",
            "['2020-1 시현장학금(EICC학과 재학생) 장학생 선발 공고1', ' 교내외 활동 관련 증빙서류 각 1부6', ' 교내 활동 및 교외 활동에 꾸준히 참여한 학생 (학생회, 동아리, 교내외 봉사활동 등)다']\n",
            "['kr) ▶ 장학금 ▶ 국가근로 및취업연계 장학금 ▶ 국가근로장학금 ▶ 근로장학관리 ▶ 대학자체선발기준 및 선발 현황 ▶2020년 1학기 근로유형 ‘학기중’으로 선택 후 조회 ▶ 선발자에 한하여 선발된 기관 정보 조회 가능 - 선발자확정자 : 28일 까지 유선 안내 및 장학재단 조회가능( 근무지 상황에 따라 선발이 늦어질 경우 2월 28일 이후에 유선으로 선발 결과 안내예정) * 2020-1학기 휴학 시 국가근로 활동이 불가하므로 선발자 중 휴학하게 되는 경우 즉시 근로중단하고 장학팀으로 연락요망 2', ' 코로나-19 바이러스위험지역방문이력이 있는 학생 - 근로 시작 전 반드시 근로지 담당자님께 알리고근로 진행 협의 바랍니다', ' - 코로나-19 바이러스 관련 증상이 있을 시 즉시 질병관리본부 콜센터 1339에 상담바랍니다']\n",
            "[' 방문 및 제출처 : 통영시청 교육체육지원과 평생학습팀(우 53040 경남 통영시 통영해안로 515, 통영시청 제1청사 3층)7', ' 제출서류 ⓛ 신청서 및 개인정보수집활용동의확인서 등1부(양식 통영시 홈페이지 www', '2020년 통영시 저소득 대학생 장학금 지원대상자 선발 공고 통영시 인재육성기금 설치 및 운용조례에 따라 균등한 교육기회 제공을 위한 통영시 저소득 대학생 장학금 지원대상자 선발계획을 다음과 같이 공고합니다']\n",
            "[' 정산장학생 추천서(첨부서류)- 재적학교까지만 기입후 제출나', ' 장학생 추천사유서(첨부서류)- 학과장 및 지도교수님께 받아서 올 것라', ' 외국어 우수자 및 봉사활동 참여자(선택)4']\n",
            "['2학기) 동 장학금을 수혜받은 자○ 직전학기 성적(백분위 점수) 70점, 12학점 이상 이수한 자○ 의무교육 30시간이상 이수한 자 □ 선발규모 : 총 200명 내외 □ 최대지원학기 : 최초 선발 후 졸업 시 까지 계속지원(매학기 지원요건 충족 시)○ 일반대 : 최대 4개 학기 ○ 전문대 : 최대 3개 학기(전공심화과정 진학 시 최대 4개 학기) □ 지원조건○ 졸업 후 장학금 수혜 횟수에 해당하는 기간만큼(수혜 학기당 6개월) 영농 및 농림축산식품분야에 취업 또는 창업 이행 □ 심사·선발 절차 : 신청 → 서류심사 → 보증보험가입 → 최종선발 □ 신청기간 : ‘20', '(월) 예정(재단 홈페이지에서 개별 확인)', '(화) 17:00  □ 신청방법 : 농어촌희망재단 홈페이지(www']\n",
            "[' 신청절차 : 신청서 작성 → (추천권자 취합) → 용인시 인재육성재단 제출 6', '2020년도 (재)용인시 인재육성재단 장학금 선발 안내아래와 같이 (재)용인시 인재육성재단 장학생을 선발하오니 해당자는 신청하여 주시기 바랍니다', ' 구비서류 : 첨부서류 참조(* 학생들의 편의를 위하여 학교에서 제출서류를 취합하여 재단으로 제출하므로 제출 서류를 꼼꼼히 준비하여 제출할 것) 5']\n",
            "['< 2020년 1학기 국가장학금 2차 신청 안내 >1', ' 신청 방법- 한국장학재단 홈페이지(http://www', '(월)18시(주말, 공휴일 포함 24시간 신청 가능, 마지막 날은 18시 마감) * 신청기한이 기존 3/10 -> 3/23로 변경되었습니다']\n",
            "['2020년도 한국선원복지고용센터 선원가족 장학생 선발 요강1', ' 선발대상 : 선원 및 선원가족2', ' 신청기간 : 1학기) 3월9일 ~ 4월 10일 2학기) 9월1일 ~ 9월 30일자세한 내용은 첨부된 선발요강 참조바랍니다']\n",
            "['￭ 대리근로: 근로장학생 장학금 환수 및 근로장학생과 대리근로자 모두 확정일로부터 해당학기를 포함하여 2개 학기 근로 참여 제한', '￭ 허위근로: 장학금 환수 및 확정일로부터 해당학기를 포함하여 4개 학기 근로 참여 제한', ' 예, 국가근로장학금은근로활동에 대한 장학금으로 등록금 범위를 초과하여 수혜가능합니다']\n",
            "['아래와 같이 2020학년도 대학생 청소년교육지원장학금멘토 학생을 모집하니 관심있는 외대 학생들의많은 지원 바랍니다', '2020년 대학생 청소년교육지원장학금 멘토모집 안내 ', ' 선발기준']\n",
            "[' 신청 방법 : 면학장학금 신청서 1부를 작성하여 각 캠퍼스 서울(장학팀), 글로벌(학생지원팀)방문접수 및 등기우편 (팩스/이메일 제출 불가) ※ 장학금 수령 계좌 입력 : 온라인 입력 필수 – 종합정보시스템 로그인 > 등록/장학 > 계좌번호 입력 > 저장 (반드시 예금주는 본인의 이름과 일치해야 함)    5', ' 추가 자격요건 : 장애학생(1~6급)은 면학장학금 신청서 1부, 장애등급 증명서 1부를 지참하여 각 캠퍼스 서울(장학팀), 글로벌(학생지원팀)제출 ＊   2020학년도 2학기부터 면학장학금 수혜 기준 : 직전 정규학기 취득학점 12학점 이상, 평점평균 2', '2020학년도 1학기 면학장학금(신·편입생) 신청 안내  2020학년도 제1학기 교내 면학장학금 신청을 다음과 같이 안내하오니 장학금을 수혜하고자 하는 학생은 반드시 정해진 기일 내에 신청하시기 바랍니다']\n",
            "['한국장학재단 장학금(국가우수, 희망사다리, 등] 수혜선발]자등 ※ 인문100년 및 예술체육비전장학금 지원 가능 대학 및 지원자격 등 세부사항은 한국장학재단 홈페이지를 참조하시기 바랍니다', '인문학 분야 학문후속세대 및 예술·체육분야를 선도할 수 있는 우수인재를 육성하기 위하여 아래와 같이 2020년도 인문100년장학금 및 예술체육비전장학금 신규 장학생 선발 계획을 안내합니다', '학업성적 및 학생역량, 경제적 수준*을 고려하여 대학이 자체 선발']\n",
            "[' 상반기 은평구민 장학생 선발계획 공고은평구 교육환경 개선과 우수한 인재를 발굴․육성하기 위하여 설립된 (재)은평구민장학재단에서 『2020', ' 상반기 은평구민장학생 선발 계획』을 다음과 같이 공고합니다', ' 상반기 은평구민장학생 선발계획 공고문 ']\n",
            "[' 장학금명: 누리회(여교수회) 장학금    2', '2020년도 한국외국어대학교 누리회(여교수회) 장학생 선발 안내        한국외국어대학교 누리회(여교수회)에서 아래와 같이 장학생을 선발하오니 해당되는 학생들의 많은 신청 바랍니다', ' 장학금 신청서(첨부서류) 1부 나']\n",
            "[' 장학생 추천서(첨부양식) 1부※ 학교 추천부분을 제외한 나머지 부분들을 꼼꼼히 작성하여 제출 할 것나', ' 서울/글로벌 학생', ' 2019년도 기준 부/모의 건강보험료 납부확인서 각 1부※ 부/모 중 1명이 납부하실 경우 건강보험증 사본 추가 제출※ 사본 및 팩스본 제출 가능하나, 다른 서류와 취합 후 직접 제출해야 함아']\n",
            "['아래와같이 2020년 서울희망공익인재장학금 장학생 선발을 공고하오니 많은 학생들의 지원 바랍니다', '2020년 서울희망공익인재장학생 선발 공고', ' *당해연도 서울장학재단의 학업장려금 간 중복수혜 불가(국가장학금 및 교내외 장학금 중복수혜 가능)4']\n",
            "[' 상기 제출서류를 모두 충족하여 제출한 학생에 한하여 추천 함', ' 제출기간 및 제출처: 2020', ' 지원자격: 가 - 다 모든 항목을 충족해야함']\n",
            "['2020년 1학기「청년창업농육성장학생」추가모집 안내 □ 지원금액ㅇ 등록금 전액과 학업장려금 200만원 (한 학기 1인 기준) - 장학금(등록금+학업장려금)은 전액 지급이 원칙이나, 타 장학금을 이미 수혜받은 경우, 등록금 범위 내에서 그 금액을 제외하고 지원□ 자격요건 (신규·계속자 모두 해당)ㅇ 성적 : 직전학기(2019', '2학기) 백분위 점수 70점 이상  * 정규학기 기준, F학점 포함ㅇ 학점 : 직전학기 12학점 이상 이수* 단, 대학 학칙에 최소 이수학점을 12학점 미만으로 명시하는 경우 해당 대학의 최소 이수학점 기준을 적용* 졸업학기 학생은 직전학기 최소 이수학점 적용 예외 인정* 복학예정자의 경우 휴학 전 마지막으로 산정된 성적 및 이수학점 적용기타 자세한 내용은 붙임의 모집요강 참조바람']\n",
            "['※ 선발자는 반드시 성적을 유지해야하며, 휴학시 장학금은 지급되지 않음', '2020년 국가우수장학금(이공계) 2년지원 유형의 장학생을 아래와 같이 선발하고자 하니 많은 신청 바랍니다', '2020년 국가우수장학금(이공계) 재학중우수자(2년지원)유형 장학생 선발 안내']\n",
            "[' 장학생 신청서 1부(첨부양식)나', ' 2020학년도 1학기 기준으로 2학기 이상, 7학기 이하 재학생나', ' 글로벌캠퍼스 재학생: 학생회관 108호 학생지원팀(031-330-4037)']\n",
            "['2020학년도 윤강로장학금 장학생을 아래와 같이 선발하고자 하오니 해당되는 외대학생들의 많은 지원 바랍니다', ' 영어능력평가시험(TOEIC, TOEFL, FLEX 중 택 1) 성적증명서 1부', ' 장학금 지원서 1부(첨부파일)']\n",
            "['이덕선 동문(독일어58)께서 기탁하신 이덕선 장학금 장학생을 아래와 같이 선발하오니 학생 여러분의 많은 신청바랍니다', ' 글로벌캠퍼스 재학생: 학생회관 108호 학생지원팀(031-330-4037)', ' 2020학년도 1학기 기준으로 3학기 이상, 7학기 이하 재학생나']\n",
            "[' 학생이 온라인 출근부 입력을 하였으나 부서담당자가 기한 내에 대학 제출하지 않은 경우 해당 월 근로장학금 지급 불가', '2020학년도 1학기 국가근로장학생3월 출근부 입력 마감 및 담당자 대학제출 안내', ' 온라인 출근부 입력기한 내에 입력 누락된 근로시간은 추가 입력 및 근로장학금 지급 불가']\n",
            "[' 신청방법 : 온라인 신청 후 서류 등기우편 제출', ' 서울장학재단 2020년 [서울 우수인재 장학금] 장학생 선발안내', '장학금명 : 서울 우수인재 장학금']\n",
            "['2020학년도 제1학기 가족장학금 대상자를 아래와 같이 선발하오니 많은 신청 바랍니다', '아울러 국가장학금 및 교외장학금 역시 등록금 범위 내에서 교내장학금과 중복 수혜 가능합니다', ' 장학금 신청 방법']\n",
            "['붙임 : 장학생 선발개요, 신청자격, 구비서류', ' 장학생 선발 및 지급', ' ☞ 장학생 선발 신청서류는 반드시 붙임의 첨부자료를 참고하시기 바랍니다']\n",
            "[' 이용동의서 1부 (첨부양식)', ' 선발기준 및 세부 선발인원 (장학금액: 1인당 일백만원 내외)', ' 부 또는 모 기준의 가족관계증명서']\n",
            "[' 우리 대학은 멘토 발굴형으로 학생이 직접 기관을 발굴하여 활동해야 하오니 사전에 협의 요망,', ' 신청방법 : 우리 대학은 멘토발굴형으로 직접 기관을 발굴하여 활동해야 하오니 사전에 연간 활동관련 기관문의 및 협의 필수', ' 선발결과 (대학추천)확인 방법 : 한국장학재단사이트 대학생 청소년교육지원사업 활동계획서관리에서 검색 조건 및 정보확인 ']\n",
            "['소상공인확인서, 가족관계증명서, 긴급지원 기부장학금 신청서 ※ 신청자격 및 제출사항 관련 상세 내용은 반드시 재단 홈페이지 공고 확인', '한국장학재단 푸른등대 긴급지원 (코로나19) 기부장학금 안내', '코로나19로 경제적 피해를 입은 특별재난지역* (대구광역시, 경북 경산시· 청도군·봉화군)의 학자금지원구간 8구간 이하인 소상공인 가정의 대학생** *특별재난지역 대상자 여부는 소상공인 확인서 주소를 기준으로 함']\n",
            "['* 타 장학금 수혜내역이 있는 학생의 경우, 선발 후 정은아 장학금 수혜액과 합쳐서 등록금 범위 초과 수혜 불가능함', '[교외] 2020-1 정은아장학금 장학생 모집 안내 ', ' 장학금명: 정은아 장학금2']\n",
            "[' 장학금 계속 지급 조건 : 장학생으로 선발된 자가 결격사유(성적미달, 징계 등)에 해당하지 않을 경우에는 8학기(정규학기)까지 계속하여 지급함 ', ' 목적 : 재단법인 동원그룹리더십장학재단의 설립 취지에 따라 섬김과 봉사정신, 자아개념, 성취욕이 투철하고 국가와 사회 발전에 기여할 수 있는 우수 인재에게 장학금을 지원하여 미래 사회를 이끌어갈 리더를 양성하고자 합니다', '- 장학생으로 선발되면 동원그룹리더십장학재단 장학생으로서 학기당 10시간 이상의 봉사활동을 수행하고증명서를 제출해야 함(차학기 개강일 전까지)']\n",
            "[' 장학증서 수여식 장소 : 맑고 향기롭게 근본도량 길상사(서울 성북구 성북동)', ' 2020년 \"맑고 향기롭게 - 대학생 장학사업\" 장학생 모집안내', ' *접수된 서류는 일체 반환하지 않습니다']\n",
            "['아래와같이 2020년 서울희망 대학 장학금 장학생 선발을 공고하오니 많은 학생들의 지원 바랍니다', '2020년 서울희망 대학 장학금 장학생 선발 공고', ' 사 업 명 : 2020년 서울 희망 대학 장학금2']\n",
            "[\" 장학금 계속 지급 조건 : 장학생으로 선발된 자가 결격사유에 해당하지 않고, 활동보고서 성실 제출자는 '20-2학기까지 계속하여 지급함 \", '- 장학생으로 선발되면 동원그룹리더십장학재단 동원IDS장학생으로서활동보고서(활동증명서)를 제출해야 함(차학기 개강일 전까지)', '2020-1학기 재단법인 동원그룹리더십장학재단 동원IDS장학생 선발 안내']\n",
            "[' 지원방법 : 한국장학재단 대출이자 상환', '2020년 상반기 김제시 대학생 학자금 대출이자 지원', ' 4월에 한국장학재단에서 받은 학자금 대출이자']\n",
            "[' 학생이 온라인 출근부 입력을 하였으나 부서담당자가 기한 내에 대학 제출하지 않은 경우 해당 월 근로장학금 지급 불가', '2020학년도 1학기 국가근로장학생4월 출근부 입력 마감 및 담당자 대학제출 안내', ' 온라인 출근부 입력기한 내에 입력 누락된 근로시간은 추가 입력 및 근로장학금 지급 불가']\n",
            "['22020년 「전주시 대학생 학자금 대출이자 지원 사업」 신청안내', '※ 지원 제외 : 타기관 중복 지원(장학금 또는 학자금대출이자), 전주시 외 지역 전출, 고등 교육기관 제적·수료·졸업, 기타 학자금 이자지원이 부적정한 경우', '□ 사업내용 : 2016년부터 한국장학재단에서 받은 학자금대출의 학기별 발생이자 지원']\n",
            "['사회적 배려계층 가정 대학생들의 생활비를 지원하는 2020년도 1학기 푸른등대 삼성기부장학금신청을 아래와 같이 안내하오니 관심 있는 학생들의 신청바랍니다', '-> ’20년 2학기 장학금 계속지원 중단 및 장학생 자격상실', '• ‘19년도 동일 장학 기수혜자는 제외함• ‘20년 1학기 푸른등대 기부장학금 장학생은 추천 불가']\n",
            "[' 장학금 지원서 1부(첨부파일) 나', ' 2020-1학기 서울 및 글로벌캠퍼스 재학생 나', ' 재학중명서 1부 라']\n",
            "['2020-1학기 글로벌비전(신우회) 장학금 신청안내', '글로벌캠퍼스 신우회에서 아래와 같이 장학생을 모집하니 해당되는 학생들의 많은 신청 바랍니다', ' 자기소개서 (A4 1매 이내/경제적 형편, 장래 비전 등을 자유롭게 서술)']\n",
            "[' 2020학년도 여름방학 외국인 유학생 외부 숙소 업무를 지원해 줄 한국인 기숙사생 사감을 모집하오니, 관심 있는 학생들의 많은 지원 바랍니다', ' 근무 기간 및 시간- 2020학년도 여름방학 입사 기간(2020', ' 지원 자격- 외국어 소통 가능자- FULL TIME 근무 가능자(기숙사 거주 및 공휴일/주말 포함)3']\n",
            "['아래와 같이 2020-1학기 대우건설동문회 장학금 모집 안내를 하오니 해당되는 학생들의 많은 지원 바랍니다', '* 타 장학금 수혜내역이 있는 학생의 경우, 선발 후 대우건설동문회 장학금 수혜액과 합쳐서 등록금 범위 초과 수혜 불가능함', '[교외] 2020-1 대우건설동문회 장학금 모집 안내 ']\n",
            "['한국장학재단에서는 코로나19로 인한 실직‧폐업자 지원을 위해 일반상환 학자금대출을 상환유예(최장 1년)하는 특별상환유예대출을 시행합니다', '(단, 국세청 의무상환유예자는 신청가능)', '▣ 코로나19 실직‧폐업자 지원을 위한 일반상환학자금 특별상환유예대출 시행 안내 ▣']\n",
            "['  ⇒ 홈페이지 → 회원가입 → 로그인 → 대학생 학자금 대출이자 지원신청', ' 사 업 명 : 군산시 대학생 학자금 대출이자 지원', '※ 온라인 신청시 구비서류의 주민등록번호 뒷자리를 보이지 않게 처리 후 스캔파일 업로드']\n",
            "['- 선발유형 및 생활비 지원기준 충족여부와 관계없이 계속장학생 등록금 지원 기준 충족 ', \"○ '20년 인문100년장학생 선발자 중 기초생활수급자 생활비 추가지원\", '○ 생활비 계속지원 기준(Ⅰ유형만 해당)']\n",
            "['- 선발유형 및 생활비 지원기준 충족여부와 관계없이 계속장학생 등록금 지원 기준 충족 시 지원', '- 인문100년장학생으로 선발되어 동일 대학의 인문사회계열 학과(부) 정규학기에 재학 중인 1~4학년 계속장학생(장학생 자격 유지자)으로 직전학기 취득 성적 및 이수학점 기준을 모두 충족한 자(직전학기 12학점 이상 이수, 백분위 87점 이상 또는 평점 3', \"- '20년 인문100년장학생 Ⅰ유형으로 선발된 계속장학생으로 계속지원기준 충족자 중 직전학기 취득 성적이 백분위 90점 이상인 자를 대상으로 지원\"]\n",
            "['❍ 지원결과확인 : 한국장학재단 홈페이지 → 로그인 → 학자금대출 → 학자금뱅킹 → 학자금대출 상환 → 대출내역 → 해당 대출계좌번호 클릭 확인(비고란에 ‘지자체 이자지원’으로 표기) ', ' ※ 신청접수 결과, 이자지원 대상액이 예산 초과 시「울산광역시 대학생 학자금대출 이자지원에 관한 조례」제4조의2(지원 우선순위)에 따라 지원할 수 있음', '❍ 지원범위 : 2017년 이후 한국장학재단으로부터 신규대출 받은 취업 후 상환학자금 및 일반상환학자금의 2020년 상반기에 발생한 본인 부담 이자액']\n",
            "['익산시 대학생 학자금 이자 지원 신청', '코로나-19 사태에 따른 경제침체와 고용불안이 현실화 된 상황에서 경제적으로 어려움을 겪는 대학생들을 위해 익산시가 학자금 대출이자를 지원합니다', '□ 지원내용 : 2017년부터 한국장학재단에서 대출받은 학자금의 1학기 대출이자 ']\n",
            "['2020-1학기 국가근로장학사업 학기당 최대근로시간 운영기준 및 증빙서류 제출 안내', '다음과 같이 국가근로장학사업 최대근로시간 세부운영 기준을 안내해 드리며, 해당되는 학생은 각 캠퍼스 담당부서로 신청바랍니다', ' 증빙서류 제출 기간 : 2020']\n",
            "['2020년 2학기 1차 국가근로장학금 학생시청기간 및 신청 방법을 안내드립니다', ' - 2020년도 동계방학 집중근로 프로그램에 참여하고자 하는 경우, 반드시 학생신청기간(1차 또는 2차)에 국가근로장학금을 신청해야합니다', ' - 국가근로장학금은 소속대학이 확정된 학생만 신청할 수 있으며, 소속대학이 미정인 신(편)입생을 2차 학생신청기간을 이용하여 주시기 바랍니다']\n",
            "['* 국가장학금을 신청하였으나 소득구간이 산정되지 않은 학생은 지원 불가', '* 국가장학금 미신청자는 교내(HUFS Dream)장학금 신청 공지 참조', ' 신청서류 접수 기간 및 방법:']\n",
            "[' 신청대상 : 2020학년도 1학기 글로벌캠퍼스 재학생', ' - 2020학년도 1학기 국가장학금 미신청자로 “코로나19” 긴급 경제사정 곤란자', ' - 폐업사실증명서(정부24 홈페이지 온라인 발급)']\n",
            "['2020년 1학기 국가근로장학금 하계방학 집중근로 프로그램 신청 안내', '-현재 학기 중으로 근로를 종료하는 부서가 있음으로 담당선생님께 문의하여 방학 중 계속 근로가 불가하거나 외부근로를 희망할 경우 반드시 신청해야 함', '- 현재 학기 중 일반근로를 진행하고 있는 학생의 경우, 현 근로지에서 계속 근로가 가능하면 별도로 신청하지 않아도 됨']\n",
            "['HUFS Dream 장학금은 장학 사각지대에 놓인 (코로나 19긴급) 가계곤란학생과 1학기 면학장학금 미수혜자에게 지원하고자 하는 장학금입니다', \" 코로나 19 긴급 경제사정 곤란자(지원자격 '나' 해당자)\", ' HUFS Dream ‘코로나 19’ 긴급 경제사정 장학금 신청서(붙임) 1부 (공통)']\n",
            "[' 장학금명: 한국외대 동문장학회 장학금', ' 장학금 신청서(첨부파일)', '글로벌캠퍼스: 학생지원팀 (학생회관 108호, 031-330-4037)']\n",
            "[' (5) 기타 장학금의 지급을 중지할 필요가 있다고 인정될 때', ' (3) 장학금을 목적외에 사용하였을 때', ' (4) 장학금을 필요로 하지 않는 사유가 발생하였을 때']\n",
            "['아래와 같이 2020-1학기 인당 장학금장학생을 모집하오니해당되는 학생들의 많은 지원 바랍니다', ' * 타 장학금 수혜내역이 있는 학생의 경우,등록금 범위 내에서만 중복 수혜 가능', '[서울][교외] 2020-1 인당장학금 장학생 선발 안내(포르투갈어과 재학생)']\n",
            "[' 지원성격 : 학업장려금 (타장학금과 중복수혜 가능)5', ' 사업명 : 청춘Start 장학금2', ' 2020년 청춘Start 장학금 장학생 선발공고1']\n",
            "[' 장학금액 및 지원기간: 등록금 전액 or 생활비(학습보조비) 300만원/학기 中 택1, 두개 학기 지원', '2020-2학기 롯데장학재단 \"롯데 37기 희망멘토링\"장학생 모집 안내', '롯데장학재단에서 롯데 37기 희망멘토링 장학생을 아래와 같이 모집하오니, 학생 여러분들의 많은 신청바랍니다']\n",
            "[' 학생이 온라인 출근부 입력을 하였으나 부서담당자가 기한 내에 대학 제출하지 않은 경우 해당 월 근로장학금 지급 불가', ' 온라인 출근부 입력기한 내에 입력 누락된 근로시간은 추가 입력 및 근로장학금 지급 불가', '2020학년도 1학기 국가근로장학생5월 출근부 입력 마감 및 담당자 대학제출 안내']\n",
            "['아래와 같이 2020-1학기 재직동문교수회 장학금 신청안내를 하오니해당되는 학생들의 많은 지원 바랍니다', ' 글로벌캠퍼스: 학생지원팀 (학생회관 108호, 031-330-4037)', ' 장학금명: 재직동문교수회 장학금']\n",
            "['- 천안시 홈페이지 > 분야별정보 > 교육 > 학자금 대출이자 지원', '- 온라인 : 천안시 홈페이지 > 분야별정보 > 교육 > 학자금 대출이자 지원 ', '천안시 홈페이지 > 분야별정보 > 교육 > 학자금 대출이자 지원']\n",
            "['※ 추천자의 중도포기 또는, 대만 어학연수 기관의 입학허가를 받지 못하는 등의 경우를 고려하여, 예비후보자 2명을 추가로 추천할 수 있음', ' 과거 화어문장학금 또는 대만장학금(臺灣獎學金) 수혜 이력이 없는 자', ' 수혜 기간 동안 대만 소재 대학과 해외 대학 간의 학술협력협정 등에 의거하여 모집된 교환학생 신분이 아닌 자']\n",
            "['아래와 같이 2020학년도 인송 장학생을 모집하니 외대 학생들의 많은 지원 바랍니다', '2020학년도 인송문화재단 장학생 모집안내', ' 2019년 건강보험납부확인서 부/모 각 1부']\n",
            "[' 자기소개 및 학업계획서(첨부양식) 1부', ' 장학생 서약서(첨부양식) 1부', ' 장학금 지원신청서(첨부양식) 1부']\n",
            "[' 3)장애증명서(경증·중증) 발급 가능자- 온라인 신청 후 반드시 소속캠퍼스 장학부서에 제출(서울 장학팀 / 글로벌 학생지원팀)', '2020학년도 제2학기 교내 면학장학금 신청을 다음과 같이 안내하오니 ', ' 신청 방법: 종합정보시스템 로그인 – 등록/장학정보 – 면학장학금 신청']\n",
            "['재단법인 광산장학회에서는 코로나19로 어려움에 처한 우리 지역의 학생들이 코로나19 사태에 위축됨 없이 안정된 분위기에서 지속적인 학업을 이어 나갈 수 있도록 「코로나19 특별장학생」 선발계획을 아래와 같이 공고합니다', 'o 인 원: 대학생 100명', '「코로나19 특별장학생」 선발공고']\n",
            "['면학장학금 미지급 대상자 지급', ' 글로벌캠퍼스 국가장학금Ⅱ유형 지급대상자', '국가장학금Ⅱ유형의 경우 매학기 지급액이 상이하며, 소득분위가 낮은 순서대로 지급됩니다']\n",
            "[' 한국장학재단 및 공무원연금공단 외 학자금대출자(사학연금, 국군재정관리단 등)의 경우, 학생 계좌로 지급받은 해당 금액을 반드시 직접 대출 상환 바랍니다', ' 한국장학재단 학자금대출자, 공무원연금공단 학자금대출자의 경우, 대학에서 해당 기관으로 이중지원에 해당되는 금액에 대하여 직접 상환될 예정입니다', '(대출잔액보다 지급금액이 많은 경우에는 학생 계좌로 지급하며, 수령 후 상환처리해야 함)']\n",
            "['KT그룹희망나눔재단에서는 창의혁신리더[미래창조 인재부문] 장학생을 아래와 같이 선발하오니 공과대학 재학생들의 많은 지원바랍니다', '※ 등록금 본인 납부금액이 반액 이상인 학생만 지원 가능(등록금 범위내에서만 중복가', ' IT 관련 학과(컴퓨터, 전자, 전기, 전산, 정보통신, 산업공학 등 IT 계열)']\n",
            "[' 학생이 온라인 출근부 입력을 하였으나 부서담당자가 기한 내에 대학 제출하지 않은 경우 해당 월 근로장학금 지급 불가', ' 온라인 출근부 입력기한 내에 입력 누락된 근로시간은 추가 입력 및 근로장학금 지급 불가', '2020학년도 1학기 국가근로장학생6월 출근부 입력 마감 및 담당자 대학제출 안내']\n",
            "[' 장학금 신청서 및자기소개서(첨부양식)', '2020년 헝가리어과 한세진 동문장학금 장학생 선발 안내 ', '- 제출방법: 등기우편 접수(권장) 및 방문접수']\n",
            "['2020년 2학기 푸른등대 기부장학금 신규장학생을 아래와 같이 선발하오니 관심 있는 대학생들의 많은 신청 바랍니다', ' (장학금> 기부장학금> 푸른등대 기부장학금> 신청자격 및 제출서류 등)', ' ※ 신청 및 심사 상황에 따라 변동 가능함']\n",
            "[' 지원서 접수기간 : 2020', ' * 소나무 아카데미를 성실하게 참여하는 원생들에게 한 학기 250만원씩, 1년 총 500만원의 소나무장학금을후원', ' 소나무 아카데미 지원자격 : 적어도 1년 동안 모든 아카데미 프로그램에 참여가 가능한20대 청년 누구나! -시간 : 매주 토요일 오후 2시에서 6시까지 -장소 : 서울특별시 서초구 서초동 1349-13 / 양재역 1번 출구 도보 10분 -오리엔테이션 워크샵 : 8']\n",
            "['※ 농어업에 종사하지 않고 농어촌지역에 6개월(180일)이상 단순 거주하는 학부모(보호자)의 자녀(대학생)인 경우8구간이하만 융자 지원대상임', 'kr) ⇒ 학자금대출 신청 ⇒ 농어촌융자 신청 및 서류제출 ⇒ 가구원동의 완료', 'ㅇ 재단 홈페이지에서 농어촌융자 신청 후 [신청현황]화면에서 제출하여야 할 서류 확인 후 제출']\n",
            "['(1차 등록기간에 대출 실행 시 등록금 전액으로 대출되므로 9학기 이하 수강자의 경우, 재무회계팀에 환불 신청 등의 절차필요함', '구분신청기간실행기간등록금대출7', '2) 졸업유예자(졸업대기자)는 등록금, 생활비 대출 실행 불가']\n",
            "['특별승인 대상 심사 및 추천', '대출심사 및 승인', '대출심사 및 승인']\n",
            "[' 장학생 지원 신청서 (반명함판 사진 부착) 1부 - 재단 소정양식(첨부양식) ', ' 문숙장학금을 포함한 모든 장학금 수혜금액이 등록금을 초과하지 않는 학생', '재단법인 문숙장학재단에서 아래와 같이 2020학년도 장학생을 모집하니 학생들의 많은']\n",
            "['▶ 선발전형 : 서류심사 후 면접', ' 장학생선발 지원서 1부 (지원서 홈페이지 다운로드 : 대정장학재단＞사업소개＞장학사업)', ' 건강보험증 사본 및 보호자의 건강보험료 납부확인서(2019년도 분)']\n",
            "[' 장학금 신청서(붙임 참조)', ' 공모전 상장, 입상 증명서, 단체활동 확인서 등(해당자에 한함)', '아래와 같이 2020-1학기제9회 외대재직직원장학금(씨앗) 장학생을 모집하오니 많은 지원 바랍니다']\n",
            "[' 제출처 및 문의처: 글로벌캠퍼스 학생지원팀 (031-330-4037)', ' 개인정보 수집∙이용 및 제공∙조회 동의서 1부(별첨양식)', ' 2020학년도 2학기 재학예정중인 자']\n",
            "['아래와 같이 2020-2학기 가송재단 장학생 모집안내를 하니 해당되는 학생들의 많은 지원 바랍니다', ' 장학생추천서(붙임파일)-본교 추천자로 선발된 학생에 한해 추후 진행예정이므로, 지원당시 ', ' 20-2학기 서울캠퍼스 재학예정(8학기 이내) 학생']\n",
            "['재단법인 경산시장학회 2020년도 장학금 지원 계획을 아래와 같이 공고합니다', ' 장학금 지원 신청', '(신청자->추천기관)']\n",
            "[' 학생이 온라인 출근부 입력을 하였으나 부서담당자가 기한 내에 대학 제출하지 않은 경우 해당 월 근로장학금 지급 불가', ' 온라인 출근부 입력기한 내에 입력 누락된 근로시간은 추가 입력 및 근로장학금 지급 불가', '2020학년도 1학기 국가근로장학생7월 출근부 입력 마감 및 담당자 대학제출 안내']\n",
            "['자격기준□ 공통기준 ❍ 공고일 현재 정읍시에 1년 이상 주소를 두고 있는 부 또는 모의  자녀로 관내 고등학교 재학생이거나 관내·외 대학교 재학생 □ 성적기준❍ 대학생- 신입생 : 당해연도 1학기 평점평균이 (백분위 환산)85점 이상인 자 - 재학생 : 2019년 2학기와 2020년 1학기 평점평균이 (백분위 환산) 85점 이상인 자 ▶ 학년제 성적을 산출하는 대학 재학생의 경우에 한하여,  2019학년도 1년 성적을 기준으로 평가- 학기별(전년도 2학기, 당해연도 1학기) 최소 9학점 이상 이수한 자▶ 복학생 및 편입생의 경우 : 당해연도 1학기 성적 적용- 정기학기의 성적 및 학점 기준으로 하며 계절학기는 제외관련 자세한 내용은 붙임 참조', '2020년도 정읍시민장학재단 장학생 선발 공고 『정읍시민장학재단 운영규정』에 의거 정읍의 미래를 이끌어갈 우수인재 발굴 육성과 지역사회 발전에 기여할 2020년도 정읍시민장학재단 장학생을 선발하고자붙임과 같이 공고합니다']\n",
            "['*각 근로지별 학생 선발 기준이 상이하며(전공, 외국어, 컴퓨터 능력 등) 부서에서 특별한 요구 사항이 없는 경우 소득수준, 직전학기 성적 등이 우선 요소로 고려됨', '희망부서로 작성하지 않은 부서도 소득, 성적, 전공 등에 따라 선발 고려 가능 ', ' (국가근로장학금미신청자는 희망근로지 신청 불가)']\n",
            "['2020년 [희망플러스 장학금] 장학생 선발공고', ' 선발절차 : 신청서 접수(온라인 신청 및관련서류 우편제출)➠1차 심사(재단 심사)➠2차 심사(장학생 선정위원회)➠최종 선발 (선정결과 발표 ·장학금 지급(재학 여부 확인))', ' 사업명 : 희망플러스 장학금']\n",
            "[' 글로벌캠퍼스 국가장학금Ⅱ유형 지급대상자소득분위국가장학금 1유형 지급액국가장학금 2유형 지급액비고2분위2,600,000면학장학금미신청자760,500 ~ 1,000,0001', ' 면학장학금 미신청자는 국가2유형으로 지급3분위2,600,000면학장학금 신청자 및 미신청자760,500 ~ 1,000,000면학장학금 신청자 및 미신청자 모두 국가2유형으로 지급 * 타장학금 포함 등록금 범위 이내 지급 * 지급 가능금액이 10만원 미만인 경우 지급제외 (국가장학금2유형 최소 지급 가능액이  10만원 이상임) * 국가장학금 1유형을 지급받은 학생만 국가장학금 2유형을 지급 받을 수 있음 * 초과학기자는 지급하지 않음 * 국가장학금 1유형 2020', ' 2020-2학기 내역에 (2020학년도 2학기, 장학종별(국가장학금 2유형, ***원)이 표시되 어 있으면, 장학생으로 선발        2020']\n",
            "['2020-2학기 국가장학금 Ⅱ유형 및 면학장학금 고지서 감면 안내(서울캠퍼스)', ' 서울캠퍼스 국가장학금Ⅱ유형 및 면학장학금 고지서 감면 대상자(기준일 : 2020', '아래와 같이국가장학금Ⅱ유형 및 면학장학금 지급에 관하여 안내하오니 확인하시기 바랍니다']\n",
            "['■ 장학금 수혜 계좌등록 마감 : 2020', '■ 2020-2학기 성적장학금', '■ 2020-1학기 HUFS Dream 장학금']\n",
            "['2020년 포항시장학생 선발일정을 아래와 같이 안내하오니 해당되는 학생은 기한내 신청바랍니다', ' 신청방법 : 포항시장학회 홈페이지 온라인 접수* 재단의 사정에 따라 일정은 변경 될 수 있음', ' 24(월) (포항시장학회 홈페이지 회원가입 -> 사전등록 신청)3']\n",
            "[' 개인정보 수집∙이용 및 제공∙조회 동의서 1부(첨부양식)        4', ' 서약서(첨부양식) 다', ' 장학금 신청서(첨부양식, 반드시 사진부착) 나']\n",
            "[' 2020년도 하반기 충남뿌리내림 장학생 선발공고', '2020년도 하반기 충남뿌리내림 장학생 선발 공고충청남도인재육성재단에서는 졸업 후 창업, 취업, 가업계승 등 충남에 정착하고자 하는 학생들을 선발하기 위해『2020년도 하반기 충남뿌리내림장학생』을 선발합니다', ' 충남에서 자신의 꿈을 이루고자 하는 대학교졸업예정자 여러분의 적극적인 지원바랍니다']\n",
            "['2020학년도 2학기 백미장학금 신청 안내(아시아어문대학 말레이-인도네시아어과)    익명의 독지가가 지급하는 백미장학금 수혜에 대하여 다음과 같이 공고하니 관심 있는 학생들의 신청을 바랍니다', ' 장 학 금 : 300만원(등록금 초과 수혜 가능 장학금임)    3', ' 제출서류 :  1) 백미장학금 신청서(소정 양식)  2) 자기소개서(장학금 신청 이유 포함)  3) 부모님 재산세 납부증명서  4) 성적증명서 5']\n",
            "[' 신청 대상: 재학생· 신입생 · 편입생 · 복학생 · 재입학생 ※ 재학생은 1차 신청이 원칙이나, 재학 중 2회에 한하여 구제신청서 제출 후 2차 신청 가능 ※ 2020학년도 1학기 신/편입/재입학한 학생은2학기에는 \"재학생\"으로 신청할 것★ 교내장학금(면학 등)을 받고자 하는 학생은학자금 지원구간(소득분위) 확인을 위해반드시 국가장학금을 신청하시기 바랍니다', \" 주요 제도 개편 사항('19-2학기부터)① 재학생 2차 신청자에 대한 구제 기회 확대(1회 → 2회)② 다자녀 국가장학금 연령 제한 폐지('88년 이후 출생 → 연령 무관(단, 미혼에 한함))※ 초과학기생 국가장학금 지급 안내 - 등록금 우선감면 대상이 아니므로 자비로 등록해야 함 - 수강신청 변경기간 이후 국가장학금 1유형 금액 개별지급(11월 말 예정) 예정※ 휴학 중인 학생은 복학(귀) 신청을 해야 국가장학금 심사가 가능하므로,신속하게 2학기 복학 신청을완료하여 주시기 바랍니다\", '(월) 18시 ※국가장학금 신청 및 서류확인(서류제출은 대상자에 한함), 가구원 동의가 반드시 완료되어야    2020년 2학기 국가장학금 수혜가 가능합니다']\n",
            "[' 온라인 응모 서류 접수(재단 홈페이지에 직접 지원) 나', ' 장학금액 : 등록금 전액 및 봉사활동비 월 350,000원(계속지원자격 충족하는 경우 졸업 시까지)3', '2020년도 서암윤세영재단 신규장학생 선발 안내1']\n",
            "[' 이상 위 3개항 모두에 해당하는 자에 한함 ▶ 장학금 혜택 : 등록금 전액 + 면학보조금(매월 35만원)  - 2021년 1학기부터 (총6개 학기 지급) ▶ 선발 절차 : 1차 서류 전형 → 2차 면접  ※ 면접 일정은 서류 전형 합격자에 한하여 개별 통보 ▶ 구비 서류 1', '※ 법령 등에 의하여 등록금 전액을 면제 받는 자는 선발에서 제외됩니다', '※ 기타 자세한 사항은 본 재단 사무국(02-508-2168)으로 문의 바랍니다']\n",
            "['코로나-19로 인한 부모의 실직·폐업, 근로중단 등으로 인해 긴급한 경제적 지원이 필요한 학생들의 안정적인 학업 여건 조성을 위해 다음과 같이 코로나19 특별 긴급구호 장학금을 지급하고자 하오니 신청하여 주시기 바랍니다', ' 선발방법: (1단계) 필수서류 제출여부 및 적격여부 확인 -> (2단계) 양 캠퍼스 학생·인재개발처에서 최종 심사 후 대상자 ', '- 코로나 19로 인한 부모의 실직·폐업 및 근로 중단에 따른 가계 곤란자 우선 선발']\n",
            "['kr) ▶ 장학금 ▶ 국가근로 및취업연계 장학금 ▶ 국가근로장학금 ▶ 근로장학관리 ▶ 대학자체선발기준 및 선발 현황 ▶2020년 1학기 근로유형 ‘학기중’으로 선택 후 조회 ▶ 선발자에 한하여 선발된 기관 정보 조회 가능- 최종 선발자 : 한국장학재단 홈페이지에서 근로진행으로 조회 가능 * 2020-2학기 휴학 시 국가근로 활동이 불가하므로 선발자 중 휴학하게 되는 경우 즉시 근로중단하고 장학팀으로 연락요망  2', ' (예- 근로지담당자의 재택근무, 근로지 폐쇄 등이 발생할 경우 국가근로장학생도 근로불가', ' 코로나-19 바이러스위험지역방문이력이 있는 학생- 근로 시작 전 반드시 근로지 담당자님께 알리고근로 진행 협의 바랍니다']\n",
            "['2020학년도 1학기 국가근로장학생8월 출근부 입력 마감 및 담당자 대학제출 안내★ 해외 출국일, 입국일, 해외 체류기간, 군복무 기간, 병원 내원 시간에는 출근부 입력 금지!★학기 중 학적 변동자(휴학, 자퇴, 제적 등)는 즉시 장학팀/학생지원팀으로 연락!★ 기한 내 담당자 미확인 시 장학금 지급이 지연될 수 있음', ' 학생이 온라인 출근부 입력을 하였으나 부서담당자가 기한 내에 대학 제출하지 않은 경우 해당 월 근로장학금 지급 불가 다', 'kr) * 학생의 출근부 입력 확인 후 부서 담당자가 \"대학제출\" 버튼 클릭요망 * 근로지담당자가 대학제출 이후 학생은 출근부 수정 불가 * 모든근로지 담당자가 \"대학제출\"을 완료하여야 장학생 전원의 근로장학금 지급이 가능하므로 기한 준수 요망!  3']\n",
            "['kr/iUzNLA)※ 지원 자격요건, 지원내용, 제출서류는 붙임 선발안내(학생용) 참고※ 안내전화 : 콜센터 02-509-2114 ', '(수) 17:00 까지□ 신청방법 : 온라인 신청(https://url', '□ 장학금 지원금액 : 등록금 + 학업장려금 200만원 ※ 등록금은 타 장학금 수혜금액을 제외하고 지원□ 신청기간 : ‘20']\n",
            "['2020학년도 제2학기 가족장학금 대상자를 아래와 같이 선발하오니 많은 신청 바랍니다', '가족 장학금 신청 안내', ' 장학금 신청 자격']\n",
            "['<민영 장학금 신청 안내 (미디어커뮤니케이션 학부)>익명의 독지가가 지급하는 민영장학금에 ', '자기소개서(장학금 수혜실적 및 직전 학기 성적 ', '미디어커뮤니케이션 학부 ']\n",
            "['2020년  9월  1일 울산인재평생교육진흥원장  Ⅰ선발개요  □ 선발분야 : 드림 ․ 희망 ․ 다자녀 ․ 생활장학생□ 선발 예정인원 및 지급금액 : 317명 / 426백만원구    분지원규모1인당 최대 지원금액지원대상인 원지급금액합    계317명42,600만원--드림장학금83명12,500만원150만원대학생희망장학금67명10,100만원150만원다자녀장학금117명17,500만원150만원생활장학금50명2,500만원50만원※ 선발인원은 장학금 최대지원 금액에서 본인이 부담한 금액(등록금 범위 내)을 지원함으로 변동될 수 있음※ 단, 생활 장학금의 경우 타 기관 등록금성 장학금과 중복수혜 가능관련 자세한 내용은 첨부문서 확인바랍니다', '[울산인재평생교육진흥원 공고 제2020–25호]- 재단법인 울산인재평생교육진흥원 -「2020 하반기 장학생 선발계획」공고 우리 시의 우수한 인재를 발굴․육성하여 지역발전에 기여하고자 울산인재평생교육진흥원에서는 2020년 하반기 장학생 선발 계획을 다음과 같이 공고합니다']\n",
            "['관심있는 학생들의 지원바랍니다', ' 2020년도 학자금대출 이자지원 장학생 선발 공고', '2020년도 학자금대출 이자지원 장학생 선발 공고충청남도인재육성재단은 한국장학재단으로부터 학자금대출을 받은 대학생들의 대출이자를 지원하여 학업에 정진하도록 도움을 주고자 [2020년도 학자금대출 이자지원 장학생]을선발합니다']\n",
            "['한국도로공사는 고속도로를 이용하다가 불의의 교통사고로 인하여 사망한 분의 자녀와 장애를 입은 본인 또는 유자녀에게 꿈과 희망을 주고자 (재)고속도로장학재단을 설립', \"2020년도 '고속도로 장학생'을 다음과 같이 선발하오니 해당되는 분은 신청하여 주시기 바랍니다\", ' 신청서 제출 - 제출서류 안내 및 접수처 * 교부 : (재)고속도로장학재단 홈페이지(www']\n",
            "['KT는 코로나 19로 인한 경기 악화로 경제적 어려움을 겪고 있는 대학생과 초·중·고 원격 교육 전면 전환 등으로 인해 발생하는 청소년의 ‘학습결손’과 ‘교육격차’ 문제를 해소하고자 대학생과 청소년을 매칭하여 경제활동과 교육지원을 동시에 진행하는 비대면 학습 멘토링 “KT랜선야학” 프로그램을 추진합니다', '○ 활동안내', '- 학자금지원구간통지서 1부(해당자) 1개의 첨부파일로 압축 후 이메일 제출2차']\n",
            "[' 선발요강○ 신청자격: 2020학년도 2학기 한국외대 재학생 중 북한이탈주민○ 지원내용: 교재비, 프로젝트비, 참가비, 수강비 등의 학비보조금○ 지원금액: 20만원/인○ 선발인원: 5인○ 선발절차: 서류심사 → 선발자 발표 → 추가정보 제출 → 최종선발 완료○ 제출서류(온라인 신청)① 장학금 신청서(신청 학생 개인정보 제공∙이용 동의서 포함)② 자기소개서, 학업계획서③ 증빙서류(신청 시): 성적증명서, 재학증명서④ 증빙서류(선발 후): 북한이탈주민확인서※ 증빙서류는 제출일로부터 10일 이내에 발급한 서류만 유효함', '‘송경진 K-HOPE 장학금: 북한이탈주민’ 공고문송경진 K-HOPE 북한이탈주민 장학금은 한국외대 학부생 중 장학생을 선발하여 교재비, 프로젝트비, 참가비, 수강비 등으로 사용할 수 있는 학비보조금을 지원하는 장학금입니다', ' 선발일정○ 서류심사: 2020년 9월 18일 (금) 2:00 PM ~ 9월 22일 (화) 10:00 AM○ 선발자 발표: 2020년 9월 22일 (화) 2:00 PM (예정)○ 선발자 추가정보 제출: 2020년 9월 22일 (화) 2:00 PM ~ 2020년 9월 24일 (목) 10:00 AM○ 장학금 지급: 2020년 10월 12일 (예정)※ 장학금 지급일은 학교 사정에 의해 변경 가능하지만, 10월 중 지급 예정']\n",
            "[' 선발요강○ 신청자격: 2020학년도 2학기 한국외대 재학생○ 지원내용: 기타학비보조금○ 지원금액: 10만원/인○ 선발인원: 10인○ 선발절차: 서류심사 → 선발자 발표 → 추가정보 제출 → 최종선발 완료○ 제출서류(온라인 신청)○ 심사방법(온라인 평가)- 전문 심사위원의 무작위 배정 및 블라인드 심사평가', ' 선발일정○ 서류심사: 2020년 9월 18일 (금) 2:00 PM ~ 9월 22일 (화) 10:00 AM○ 선발자 발표: 2020년 9월 22일 (화) 2:00 PM (예정)○ 선발자 추가정보 제출: 2020년 9월 22일 (화) 2:00 PM ~ 2020년 9월 24일 (목) 10:00 AM○ 장학금 지급: 2020년 10월 12일 (예정)※ 장학금 지급일은 학교 사정에 의해 변경 가능하지만, 10월 중 지급 예정', '- 선발자는 추가정보 제출기간에 증빙서류, 계좌번호 및 주민등록번호 제출 시 선발이 완료되고, 미제출 시 선발 포기로 간주함(개인정보는 장학금 세무신고 목적으로만 사용)']\n",
            "[' 소득분위확인서(한국장학재단 학자금 지원구간 통지서(2학기기준) 등) 1부마', '이용 동의서 (첨부양식)    4', ' 자기소개서(첨부양식) 1부다']\n",
            "['kr) 가입 후 온라인 신청서 작성 및 온라인 서류제출 -> 서류심사 -> 장학생 선발심사위원회 심의 -> 장학생 선발 -> 장학금 지급기타 관련 세부내용은 모집공고문 및 해당 장학금별 선발내용을 확인하여 지원해주시기 바랍니다', ' 선발인원 및 자격요건 : 첨부된 공고문 확인4', ' 접수 및 선발절차 : 홈페이지(www']\n",
            "[' 장학생선발 지원서 1부 (첨부참조)2', ' 국가장학금 또는 타 재단 장학금 수혜자 제외▶ 장학금 : 등록금 전액 (학생회비 포함)▶ 구비서류(필수 제출서류)1', ' 보호자의 건강보험료 납부확인서(2020년도 분) - 부모가 각각 건강보험료를 납부할 경우 양쪽 다 제출 - 건강보험공단 홈페지에서 출력가능 / 동사무소 팩스민원 가능▶ 접수기간 : 2020년 9월 21일 ~ 9월 23일 (기한 내 도착분에 한함) ▶ 접수방법 : 우편 및 방문접수▶ 접수처 및 문의 :  02450/ 서울시 동대문구 이문로107 장학팀(국제학사 101호) ☎문의 : 02-2173-2795 2020']\n",
            "['2020년 하반기 김제시 대학생 학자금 대출이자 지원 신청 안내▣ 지원대상 : 공고일(2020', ' 단, 생활비 대출은 제외 • 하반기 신청자 : 7월 ~ 12월까지 발생한 이자 지원(12월 지급) ▣ 지원방법 : 한국장학재단 대출이자 상환 ▣ 신청기간 : ‘20', 'kr)  ➲ ① 홈페이지 접속 ② 배너 클릭 신청(신청기간에만 신청 가능) ▣ 문 의 처 : 김제시 인재양성과(☎063-540-3585)']\n",
            "['  본인부담경감대상자 증명서• 국민건강보험공단 발급③차상위계층 확인서④한부모가족 증명서⑤자활근로자 확인서⑥사회보장급여 신청(변경) 결과통보서• 구청, 주민센터 발급3대학생학자금 지원구간 통지서(4구간 이내)•', '  한국장학재단 발급4그 외 지원자*①~③모두 제출★누락 시 심사제외①보호자(부모)의 2020년도건강·장기요양보험료 납부확인서• 국민건강보험공단 발급②건강보험 자격확인(통보)서또는 건강보험증 사본•', '  납세증명서, 근로소득 원천징수 영수증 등은 인정되지 않음*4번 그 외 지원자: ①~③ 모든 서류는 반드시 부모 각각에 대하여 모두 제출Ⅳ']\n",
            "[\"(사)김대중평화센터에서는 인류의 평화와 소외된 이웃의 인권 증진을 위한 노력, 사회정의를 위한 다양한 활동을 실천하고 있는대학생의 공익활동을 장려하기 위하여 서울장학재단과 함께 '서울평화희망장학금'장학생을 선발하오니 대학생들의 많은 지원을 바랍니다\", ' 사업명 : 서울평화희망장학금2', ' 장학금 신청 : 2020']\n",
            "[' 선발절차: 선발공고 및신청접수\\uf0e8장학생 선발심사\\uf0e8심사위원회개최\\uf0e8이사회 의결\\uf0e8최종선정발표 9', '(재)광산장학회 공고 제2020-3호2020년도 (재)광산장학회 장학생 선발공고재단법인 광산장학회에서는 우리 지역의 우수한 인재를 발굴·육성하고 학생들이 안정된 분위기에서 지속적인 학업을 이어 나갈 수 있도록 지원하고자 「2020년도 장학생」 선발계획을 아래와 같이 공고합니다', ' 선발인원: 95명(예정)구  분계중·고전문대종합대계956881우수장학생40-436일반장학생37-235특기장학생66--특정장학생12-210 * 일반장학생 중 23명은 “미래에셋희망재단”에서 지원 (1인 150만원 / 종합대에 한함)나']\n",
            "['2020학년도 2학기 국가근로장학생 9월 출근부 입력 마감 및 담당자 대학제출 안내★해외 출국일,입국일,해외 체류기간,군복무 기간,병원 내원 시간에는 출근부 입력 금지!★학기 중 학적 변동자(휴학, 자퇴, 제적 등)는 즉시 장학팀/학생지원팀으로 연락!★기한 내 담당자 미확인 시 장학금 지급이 지연될 수 있음', '학생이 온라인 출근부 입력을 하였으나 부서담당자가 기한 내에 대학 제출하지 않은 경우 해당 월 근로장학금 지급 불가 다', 'kr) *학생의 출근부 입력 확인 후 부서 담당자가\"대학제출\"버튼 클릭요망 * 근로지담당자가 대학제출 이후 학생은 출근부 수정 불가 *모든근로지 담당자가\"대학제출\"을 완료하여야 장학생 전원의 근로장학금 지급이 가능하므로 기한 준수 요망!3']\n",
            "[' 접수처  - 주소: 서울시 마포구 성산로 128, 마포중앙도서관 4층 마포인재육성장학재단 - 이메일 : 2015090228@mapo', '2020년도 마포인재육성장학재단 장학생 선발공고1', ' 접수방법 : 우편 또는 이메일(코로나19로 인하여 방문접수 불가)4']\n",
            "['kr▪ 접수장소    거주지 동 주민센터서구청 4층 교육지원과▪ 문의전화 062-360-7245※재단 사정에 따라 선발일정은 변경될 수 있습니다', '(재)광주광역시 서구 장학재단 2020년도 하반기 정기 장학생 선발접 수 기 간2020', '선발인원 총 80명▪ 지원자격    공고일 현재 광주광역시 서구에 6개월이상 주소를 둔 주민과 그 자녀로서 유형별 요건을 갖춘 자▪ 1인당지원금액    고등학생(저소득만 선발) 50만원,학교 밖 청소년 50만원 대학생 150만원※ 단, 대학교 생활비지원 100만원        ▪ 장학생 선발유형        성적우수, 행복(저소득), 특기, 특별(다자녀, 봉사·효행·선행)※ 행복(저소득) : 일반, 생활비지원※ 자격요건은 유형별로 상이합니다']\n",
            "['kr/)에 로그인 접속하여“장학금지원사업”메뉴의 “장학금 지원 신청”에서온라인을통해 구비서류 제출 (우편 및 방문 제출 불가)※ 제출한 서류는 반환하지 않음○ 선발방법  - 서류심사 : 가정형편 지원기준과 학교 성적기준을 충족한 학생 중성적 고득점자 9명 선발 - 최종선발 : 2020년도 장학생 선발 심사위원회 심의○ 문의처 :032) 831-9409    ※구비서류 및 기타사항은 첨부파일 반드시 참조 요망    ', '4(일)➡장학생 선발 서류 접수9', ' 장학생 선발개요○선발대상  -영종동, 영종1동, 용유동, 운서동에 거주하고 있는 관내 고등학생,관내․외 대학교 정규학 재학생 ·고등학생은 인천소재 중학교를 졸업한 관내 고등학교 재학생 ·대학생은 인천 소재 고등학교를 졸업한 관내‧외 대학교 정규학기 재학생 (단, 인천 관내 고등학교에 학과가 없어 타시ㆍ도 고등학교를 졸업한학생의 경우도 선발대상에 포함)-아래의 가정형편 지원기준과 학교 성적 기준을 충족한 학생구 분자격기준가정형편국민기초생활보장법상 중위소득 100분의 50이하에 속하는 가정의 학생 또는 법정보호대상 가정의 학생학교성적고등학생직전학기 전 과목 성적평균이 상위 6등급(77%)이내대 학 생직전학기 성적이 학점 4']\n",
            "['※ 공통 : 신청서, 개인정보의 수집이용 및 제3자 제공 조회 동의서① 공고일 현재 본인이 1년 이상 또는 직계존속이 3년 이상 통영시에 주민등록이 되어 있고, 통영시 소재 고등학교를졸업한 사람인 사람② 공고일 현재 통영시 소재 대학에 재(휴)학 중인 학생으로서1학년의 경우 3개월 이상, 그 외의 경우 1년 이상 통영시에 주민등록이 되어 있는 사람구분①통영시 소재 고등학교 졸업생②통영시 소재 대학교 재(휴)학생구비서류1', '이후 발급한 서류만 인정◌휴학생의 경우, 휴학일자가 표기 되어야 함(휴학생은 최대 6학기까지만 지원)◌개명 시 주민등록초본에 개인인적사항 포함하여 발급․제출하고 신청서에 개명사실 표기◌주민등록번호 뒷자리 미표기 또는 가려서 제출 5', ' 통영시 소재 대학에 재(휴)학 중인 학생으로서1학년의 경우 3개월 이상, 그 외의 경우 1년 이상 통영시에 주민등록이 되어 있는 사람4']\n",
            "[' 선발일정 가', ' 금액 : 학기당 등록금 300만원 한도 + 학업보조금 월 50만원(1인 연간 최대 1,200만원 지원) 나', ' 지원기간 : 최대 2년까지(조기 졸업 시 지원종료) * 매학기 성적 및 결격사유 등을 심사하여 계속 지원여부 결정4']\n",
            "['[공통][국가] 20-2 국가장학금 2차 신청 재학생 구제신청서 제출 안내', '- 2차 신청한 재학생은 재학중 2회에 한해“재학생 신청기간 미준수자 구제신청서”를 제출한 경우 재심사 후 지원 가능', ' 제출 방법 :한국장학재단 홈페이지(모바일 포함) 로그인 → 장학금 신청현황에서 구제신청서 제출현황(구제신청서 사용 횟수) 및 선발결과 탈락(사유: 재학생 신청기간 미준수) 확인 → ‘재학생 신청기간 미준수자 구제신청서’에 공인인증서 서명하여 제출']\n",
            "['0 이상 가능)고등학생 : 성적무관소득기준구 분기준금액2학기월 4,737,000원 미만(2019년도 선원월평균임금 기준)※ 단, 선원가족 중 2인이상 고등학교 또는 대학생에 재학중인 경우 기준금액에 10%씩 가산 적용신청기간구  분접 수선발시기선발횟수2학기9월 1일 ∼ 9월 29일※ 추가접수( 10월 5일 ~ 10월 16일)10월말 ~ 11월초당해연도 1학생당 1회 선발선발인원 및 금액구  분지급금액2학기비  고고등학생120만원30명선발인원은 예산범위 내에서 조정될 수 있음대 학 생본인 부담액 기준 최대 300만원78명선    발제외대상 ○ 학비(수업료)를 면제 받는 경우○ 고등학생 : 연간 120만원이상 사내 학자금 및 타 기관 장학금을 지원받는 경우○ 대 학 생 : 해당학기 등록금 범위를 초과하여 사내 학자금 및 타 기관 장학금을 지원 받는 경우○ 선원법(제3조) 적용 제외 선박- 총톤수 5톤 미만의 선박으로서 항해선이 아닌 선박- 호수, 강 또는 항내(港內)만을 항행하는 선박(항만법 제32조에 따른 예선은 제외한다)- 총톤수 20톤 미만인 어선으로서 해양수산부령으로 정하는 선박- 선박법 제1조의2제1항제3호에 따른 부선(艀船)(다만, 해운법 제24조제1항 또는 제2항에 따라 해상화물운송사업을 하기 위하여 등록한 부선은 제외한다)○ 선박소유자○ 관공선, 국가기관 혹은 지방자치단체 등에서 보조금을 지원받는 비영리법인 소유선박 등의 선원 ※ 단, 선원관리업체를 통해 위탁(용역)계약으로 승선중인 선원은 제외유의사항 ○ 신청시 이중지원으로 인한 불이익(장학금 반환)이 발생하지 않도록 주의하여 주시기 바랍니다', '2020년2학기제출서류○ 소정양식(우리센터 홈페이지에서 다운로드 가능) 각 1부① 장학생선발신청서(학생용)② 장학생선발신청서(사업장확인용) ③ 개인정보 수집․ 이용 및 제공 동의서④ 서약서○ 월평균급여증명서류 : 1부- 2019년도 원천징수영수증 : 외항상선, 원양어선, 해외취업상·어선(회사 직인 필)- 2019년도 소득금액증명원 : 내항상선, 연근해어선(정부 24를 통해 인터넷 발급가능) ※ 순직 ․ 장해선원 및 연근해어선 부원의 경우 하선 후 6개월이 경과한 선원은 생략가능○ 승무경력증명서(연근해어선 부원에 한함) : 1부- 연근해어선 부원 : 선원승선신고사실확인서(해양경찰서 발급) ※ 순직․ 장해선원 및 해양수산청의 승․ 하선 공인을 받을 경우 생략가능○ 가족관계증명서 : 1부(신청일로부터 3개월 이내) ※ 재혼선원 배우자의 자녀일 경우 주민등록등본 추가 1부○ 재학증명서 : 1부(2020년도 9월 이후 발급분)○ 등록금 납부내역서 또는 등록금 고지서 : 1부(2020년도 2학기 발급분)○ 성적증명서 : 1부(직전학기 성적 / 대학생만 해당) ※ 대학생 신입생의 경우 생략○ 기타서류(해당자에 한함)- 순직사실확인서류(순직선원만 해당) - 장해등급증명서류(장해선원만 해당)- 기타: 기초수급자증명서, 차상위계층증명서, 한부모가정증명서선발순위○ 제1순위 : 순직선원 유가족○ 제2순위 : 장해선원 가족○ 제3순위 : 신규 신청 선원가족○ 제4순위 : 20년 이상의 장기 승선 선원가족○ 제5순위 : 다자녀가정의 셋째이상 선원가족○ 제6순위 : 기초수급자 선원가족○ 제7순위 : 차상위계층 선원가족○ 제8순위 : 한부모가정 선원가족○ 제9순위 : 그 밖의 선원가족 ※ 동일순위인 경우 선발횟수↓, 월평균급여↓, 승선경력↑, 고학년 순으로 선발접수방법○ 방문 및 우편 접수 (전화: 051-996-3647, 팩스: 051-463-8124)- 부산: 부산광역시 중구 충장대로 9번길 66(한국선원복지고용센터 복지사업부)- 포항: 경북 포항시 북구 해동로 376, 포항지방해양수산청 1층(한국선원복지고용센터 포항사무소)- 제주: 제주특별자치도 제주시 한림해안로 139, 한림항선원회관 2층(한국선원복지고용센터 제주사무소)- 목포: 전남 목포시 해안로 182, 목포항연안여객터미널 318호(한국선원복지고용센터 목포사무소)', '구  분선  발  기  준선발대상○ (대     상) 선원법 제3조 적용선박의 승 ․ 하선 선원 및 선원가족(고등학생 혹은 대학생) ※ 선원가족의 범위: 배우자, 자녀, 부모단, 선원이 손자·손녀를 직접 부양할 경우에도 포함(부모가 없는 경우에 한함)○ (승무경력) 총 경력 3년 이상으로 하선 후 1년 이내(연근해어선 부원은 1년 이상)○ (성적기준) 대 학 생 : 직전학기 성적이 평점 2']\n",
            "['- 2020년 하반기 -익산시 대학생 학자금 이자 지원 신청□ 지원대상 : 공고일(’20', '29) 이전 익산시에 주민등록 주소를 둔 전국대학생 ※ 전국 어느 대학에 다니든지 모두 지원가능(휴학생·졸업생·대학원생 제외) □ 지원내용 : 2017년부터 한국장학재단에서 대출받은 학자금의 2학기 대출이자 ○ 학자금(등록금) : 취업후상환 학자금, 일반상환 학자금 ※생활비 제외○ 2학기 : 2020', ' 31일까지 발생이자□ 지원우선순위(2020년 예산범위 내 지원)○ 1순위-기초생활수급자 및 차상위계층○ 2순위-한국장학재단 소득분위 낮은 단계순□ 지원방법 : 한국장학재단을 통한 대출 상환 (12월 지급) ※ 학생 개인계좌에 입금 아님□ 신청접수 : 2020']\n",
            "[' 장학생 신상카드(첨부양식) 1부 ※신청학생 친필작성나', ' 제출처 및 문의처경기도 용인시 처인구 모현읍 외대로 81 한국외국어대학교 학생회관 108호 학생지원팀글로벌캠퍼스 학생지원팀 (031-330-4037)※ 방문 및 우편제출   2020', ' 5학기 이상 수료자(*4년제 기준 3학년 1학기 이상 수료 학생 / 초과학기 불가)나']\n",
            "[' 신청자격: 아래의 조건을 모두 충족해야 하며, 세부 신청 자격은 공고문 참조구분신 청 자 격가대한민국 국적자로서 학적이 아래 ⓐ, ⓑ 중 하나에 해당하는 자ⓐ2020년 2학기 기준 서울 소재 대학교 마지막 정규학기 재학생ⓑ2020년 2학기 기준 서울 시민 중 비서울 소재 대학교 마지막 정규학기 재학생 └서울 시민 : 주민등록등본상 거주지가 서울인 자  └서울 시민 자격 인정 범위 : 미혼 ? 본인, 부모 / 기혼 ? 본인, 배우자- 2020년 2학기 기준 마지막 정규학기란? [예시] 4년제:8차학기생, 3년제: 6차학기생, 2년제: 4차학기생- 지원 가능 대학교 목록 및 대학 소재지(서울·비서울)의 구분은 [붙임파일]에서 확인 - 대학 소재지는 캠퍼스별로 구분하며, 원격대학(사이버대/방송통신대)은 비서울 소재 대학교에 해당나기초생활수급자 또는 법정차상위계층으로 증빙서류 발급이 가능한 자 ※ 온라인 신청 후 우편(등기) 제출 시 해당하는 증빙서류를 출력하여 제출※ 공고문에 기재된 증빙서류만 인정하며, 한국장학재단 소득구간 확인서는 인정되지 않음', '재단법인 서울장학재단     서울장학재단은 코로나19로 인한 경제침체 상황에서 취업준비 및 학업지속을 위한 생활비 마련에 어려움을 겪는 대학교 마지막 정규학기 재학생(20-2학기 기준)을 대상으로 경제적인 이유로 취업 준비 및 학업 수행에 어려움을 겪지 않도록 장학금을 지원하고자 하니 학생들의 많은 지원 바랍니다', ' 신청방법: 서울장학재단 홈페이지 온라인 신청 후 서류 등기우편 제출 사']\n",
            "[' 제출서류 : 제출양식은 첨부파일 참조대 상 제출서류필수제출서류◦ 장학생 지원신청서 및 자기소개서 각 1부(양식 별지 제1호)◦ 장학생 후보자 학력 및 주요활동내역서 1부 (양식 별지 제2호)◦ 재학증명서 1부◦ 성적증명서 1부 ◦ 개인정보 수집‧이용 및 제공 동의서 1부 (양식 별지 제3호)해당자제출서류◦ 장학생 후보자 추천서(학교/기관/단체) 1부 (양식 별지 제4호)◦ 기타 활동 증빙 서류(외국어성적, 봉사활동, 발굴현장 경험, 보유 자격증, 표창사본 등)◦ 장애인, 국민기초생활수급 관련 증명서  각 1부 ※ 기타 활동 증빙 서류는 2020', ' 유의사항○ 지원신청서에 기재된 사항이 허위정보이거나 제출된 증빙자료와 일치하지 않은 경우 또한 제출한 서류가 미비한 경우에는 장학금 지원결정 취소, 장학금 지급 정지 또는 환수조치 할 수 있음○ 외국어로 발급된 증명서의 경우 번역본으로 제출○ 제출시 타양식 및 변형된 지원신청서는 접수되지 않으며, 제출된 모든 서류는 장학금 선발 절차 종료 후 즉시 파기됩니다', ' 우대사항○ 문화재발굴조사 현장 경험이 있는 학생○ 문화재관련 기관(단체) 추천 학생○ 사회봉사활동에 적극적으로 참여한 학생○ 국가 또는 공공기관, 단체 등에서 표창이나 상장을 수여받은 학생○ 외국어(영어, 일어, 중국어 등) 능력이 우수한 학생○「국민기초생활 보장법」에 따른 국민기초생활 수급자 ○「장애인복지법」제32조에 따른 등록장애인    2']\n",
            "[' 까지) 학자금의 2020년 상반기부터 2020년 하반기까지의 발생이자 ○ 지원 학자금 : 취업 후 상환 학자금, 일반상환 학자금(등록금 및 생활비) ※ 예산초과 시 소득분위별 차등 지원 (지원범위는 당해 연도 예산 내에서 영주시 대학생 학자금대출 이자 지원 심의위원회에서 결정) ※ 대출이자 지원금 지급일까지 대출 전액이 상환된 대학생은 지원 불가, 타 지자체와 중복지원 불가신청기간 ○ 2020년 10월 5일(월) 09:00 ～ 2020년 10월 30일(금) 18:00신청방법 ○ 영주시청 홈페이지(http://www', 'kr) ▷학자금대출이자지원 온라인 접수 ○ 방문 또는 우편접수 ※ 영주시청 홈페이지 고시/공고 참조지급일 : 2020년 12월 예정지원방법 ○ 한국장학재단 학자금대출 상환(지원 후 SMS결과 통보)학자금 대출 이자 지원 확인 방법(한국장학재단 홈페이지) ○ 한국장학재단 홈페이지 ⇒ 학자금대출 ⇒ 학자금뱅킹 ⇒ 학자금 대출상환 ⇒ 대출내역 ⇒ 대출계좌번호 클릭 ⇒ 오른쪽 비고란에 ‘지자체 이자지원’  ※ 학자금대출 이자 지원 결과 발표 후 확인 가능자세한 내용은 첨부파일 확인 바랍니다', '2020년 영주시 대학생 대출이자 지원 신청안내지원대상 ○ 공고일 기준으로 본인 또는 직계존속이 영주시에 주민등록주소 를 둔 대·휴학생 ○ 시 소재 고등교육기관에 다니면서 시에 주민등록(1학년의 경우 3개월 이상, 그 외의 경우 1년 이상)을 두고 있는 대·휴학생 ※ 졸업생과 대학원생은 제외지원내용 ○ 2016년 하반기부터 한국장학재단에서 대출받은(2020']\n",
            "[' 제출기간 및 접수처 가', ' 자기소개서 (탈북과정 등 자세히) 1부 라', ' 장학생 지원서 1부(첨부참조) 나']\n",
            "[' 장학금액 : 2,500,000원 * 타 장학금 수혜내역이 있는 학생의 경우,등록금 범위 내에서만 중복 수혜 가능3', '[서울][교외] 2020-2 인당장학금 장학생 선발 안내(포르투갈어과 재학생)2020-2학기 인당 장학금장학생을 아래와 같이 모집하오니해당되는 학생들의 많은 지원 바랍니다', ' 장학금명 : 인당 장학금2']\n",
            "[' 영어능력평가시험(TOEIC, TOEFL, FLEX 중 택 1) 성적증명서 1부 아', ' 장학금 지원서 1부(첨부파일) 나', ' 2020-2학기 서울 및 글로벌캠퍼스 재학생(2학기 이상 7학기 이하 재학생) 나']\n",
            "[' 이용동의서 1부 (첨부양식)    7', ' 제출문의: 학생지원팀 031-330-4037                    글로벌캠퍼스 영어통번역학부 TESOL영어학 전공 주임교수', ' 부 또는 모 기준의 가족관계증명서사']\n",
            "['○ 한국장학재단 홈페이지 → 로그인 → 학자금대출 → 학자금뱅킹 → 학자금대출 상환 → 대출내역 → 해당 대출계좌번호 클릭 확인(비고란에 ‘지자체 이자지원’으로 표기) ', '- 구비서류는 지원 자격요건을 확인하기 위함이며, 신청서와 구비서류의 기재착오, 누락, 착오제출, 내용식별 불가능 등으로 인한 불이익의 책임은 신청자 본인에게 있음 ', ' ※ 한국장학재단 홈페이지를 통하여 본인의 학자금대출 잔액 확인 후 신청']\n",
            "['⇒ 홈페이지 → 회원가입 → 로그인 → 생활복지 → 교육 → 학자금 대출이자 지원신청', ' 사 업 명 : 군산시 대학생 학자금 대출이자 지원', '※ 온라인 신청시 구비서류의 주민등록번호 뒷자리를 보이지 않게 처리 후 스캔파일 업로드']\n",
            "['의생명과학분야 대학원 장학생', '경제적으로 어려운 다문화· 학생 조손가정', '학기당 봉사활동비 최대 50만원 별도 지원']\n",
            "['2020학년도 2학기 국가근로장학생 10월 출근부 입력 마감 및 담당자 대학제출 안내★해외 출국일,입국일,해외 체류기간,군복무 기간,병원 내원 시간에는 출근부 입력 금지!★학기 중 학적 변동자(휴학, 자퇴, 제적 등)는 즉시 장학팀/학생지원팀으로 연락!★기한 내 담당자 미확인 시 장학금 지급이 지연될 수 있음', '학생이 온라인 출근부 입력을 하였으나 부서담당자가 기한 내에 대학 제출하지 않은 경우 해당 월 근로장학금 지급 불가 다', 'kr) *학생의 출근부 입력 확인 후 부서 담당자가\"대학제출\"버튼 클릭요망 * 근로지담당자가 대학제출 이후 학생은 출근부 수정 불가 *모든근로지 담당자가\"대학제출\"을 완료하여야 장학생 전원의 근로장학금 지급이 가능하므로 기한 준수 요망!3']\n",
            "['2020학년도 2학기 이덕선 장학생 모집 이덕선 동문(독일어58)께서 기탁하신 이덕선 장학금 장학생을 아래와 같이 선발하오니 학생 여러분의 많은 신청바랍니다', ' 2020학년도 2학기 기준으로 3학기 이상, 7학기 이하 서울캠퍼스 재학생나', ' 장학생 신청서 1부(첨부양식)나']\n",
            "['국내대표 주류 전문 기업 하이트진로 그룹의 지주회사인 하이트진로홀딩스㈜는 요식업주 및 휴·폐업 자영업자의 대학생 자녀에 대한 장학금 지원을 통해 국가와 사회에 이바지 할 우수한 인재를 양성하며, 학업에 전념할 수 있도록 하기 위해 ‘2021학년도 하이트진로 장학생’을 모집합니다', ' 접수방법: 신청서 및 붙임자료 첨부하여 등기우편 접수  ※ 등기우편 발송처   서울특별시 서초구 서초중앙로 14 하이트진로빌딩 10층하이트진로홀딩스㈜ 경영기획팀 (우)06720 (2020', '지원금액: 연간 국립대 100만원, 사립대 150만원(1학기 50%, 2학기 50%) → 하이트진로 장학금은 학업장려비(생활비 형식)로 등록금 액수와 상관없이 정액 지급되며,국가 장학금 및 교내 성적우수 장학금과 중복 수혜 가능함']\n",
            "[' 제출 서류(양식은 아래 첨부파일 다운로드)-추천서(재단 양식) : 소속 학과 학과장 또는 지도교수 작성 및 날인-재학(휴학)증명서-성적 증명서-2020년 2학기 한국장학재단 소득구간(분위) 통지서-가계곤란 증빙서류(수급자 또는 한부모가족 증명서, 장애수당 대상자 확인서 등 해당자만 제출)-가족관계증명서', '- 모든 서류는 반드시 스캔파일로 제출(사진파일 등 제출 금지)-미선발자의 서류는 최종선발 완료 후 1개월 이내 파기 예정-타 재단 장학금과 중복 수혜 불가', '-한국장학재단 소득분위(2020년 2학기 기준) 6분위 이내(군 복무, 휴학 등으로 2020년 2학기 소득분위가 없을 경우 대체 서류 제출)-수여식 등 재단에서 주최하는 행사에 참석이 가능한 자']\n",
            "[' 장학금 신청서 1부(첨부파일 참조)나', ' 선발인원: 2명(서울 및 글로벌캠퍼스 각 1명씩)4', ' 글로벌캠퍼스 재학생: 학생회관 108호 학생지원팀(031-330-4037)    2020']\n",
            "[' 제출서류(아래 제시된 순서대로 제출) ① 지원서 : 지원서 원본 1부 및 사본 2부 - 서식 : ‘재단홈페이지-장학생선발-선발게시판-자료실’에서 다운로드 ② 자기소개서 1부 - 서식 : ‘재단홈페이지-장학생선발-선발게시판-자료실’에서 다운로드 - 분량 : ‘작성 안내’ 제외하고 최대 3매(폰트 바탕, 크기 11, 줄 간격 160%) - 주어진 항목에 대하여 구체적으로 기술 ③ 지도교수 추천서 1부 -학교에제출 - 서식 : ‘재단홈페이지-장학생선발-선발게시판-자료실’에서 다운로드 - 추천자가 직접 봉인하여 날인 후 제출 - 부득이한 경우 지도교수 이외의 추천서 대체 가능', ' ⑥ 각종 활동 및 자격에 대한 증빙서류 각 1부  - 지원서에 기재한 모든 활동 및 자격 등에 대한 증빙서류 제출 - 증빙자료 필수 제출 항목 : 장학금 수혜내역, 수학능력, 자격사항, 교내·외 각종활동, 수상내역, 연구내역 (*학점이수와 연계된 활동은 제외) - 지원서에 기재한 순서대로 증빙자료 제출 - 그 외 자신의 진로, 생각, 가치관 등에 크게 영향을 주었다고 판단되는활동에 대한 자료 제출 가능  ⑦ 주민등록 등본 1부  ⑧ 가족관계 증명서 1부 ⑨ 개인정보 수집·이용 동의서 1부 - 동의서 : ‘재단홈페이지-장학생선발-선발게시판-자료실’에서 다운로드 2', ' 공통① 대한민국 국적 보유자로서 대한민국에서 고등학교를 졸업한 자(단, 주재원파견 등 학부모 국외근무로 부득이 국외에서 고등학교 과정을 수학한 경우와 검정고시 합격자는 지원가능']\n",
            "[' 지원성격 : 학업장려금 (등록금성 장학금과 이중수혜 가능)4', ' 사 업 명 : 유영아 학업 장학금2', '[서울][교외] 2020년 서울장학재단 유영아 학업장학금 장학생 선발 공고']\n",
            "[' 장학금 수혜기간 중 졸업, 휴학, 자퇴, 학칙에 의한 징계처분 등의 사유로 학업을 중단 시 (상급학교 진학한 경우는 제외)나', ' 장학사업의 취지 및 학생의 본분에 어긋나는 행위를 한 경우', ' 본 장학금 지급 자격요건을 상실한 경우 (성적 미달 등)다']\n",
            "[' 장학금 신청서(별첨)나', ' 장학금 목적 : 경제적 어려움을 겪고 있는 유망한 대학생들의 미래를 위한 자기 개발 지원2', ' 장학금 전달식 진행 시 에이스손해보험(CHUBB in Korea) 본사 투어 진행 나']\n",
            "['[서울] 2020-2 대우건설동문회 장학금 장학생 모집공고아래와 같이 2020-2학기 대우건설동문회 장학금 모집 안내를 하오니 해당되는 학생들의 많은 지원 바랍니다', ' 선발인원 및 장학금액 :3명 /1인당 1,643,867원* 타 장학금 수혜내역이 있는 학생의 경우, 선발 후 대우건설동문회 장학금 수혜액과 합쳐서 등록금 범위 초과 수혜 불가능함', ' 장학금명 : 대우건설동문회 장학금2']\n",
            "[' 글로벌캠퍼스 재학생: 학생회관 108호 학생지원팀(031-330-4037)* 선발된 장학생은 11월 28일 여성동문회 정기총회에 반드시 참석해야 함 2020', ' 선발 인원 : 2명(서울 및 글로벌캠퍼스 각 1명 씩) 2', '이용 동의서 1부(첨부파일)5']\n",
            "[\" 선발대상 □ 지원 자격 1) 국가우수장학생(이공계)으로 선발된 이력이 없는 자연과학 및 공학계열학과(부) 3학년 이상 재학생 중 해당 대학의 추천을 받은 자 ※ 재학중우수자(한 학기 지원) 유형으로 선발이력이 있는 자는 선발 가능 ※선발 이력이 있으나 동 대학 자퇴 후 신입학, 타 대학에서 신ㆍ편입학 등의 경우선발 가능 2) 선발 자격('20년도 정규 1학기 취득 성적) - 성적기준: 직전학기 백분위 87점 이상 또는 3\", ' 2020년도 2학기 현재까지 국가우수장학금(이공계) 영구탈락자(자퇴, 제적, 성적미달 누적 2회, 장학생 중간평가(2+2) 탈락자 등)□ 선발 방법- 선발자격을 충족하는 학생 중 대학별 자체선발기준에 따라 추천3', ' 2020년도 2학기 현재까지 국가우수장학금(이공계) 지원 종료된 자(조기졸업, 정규졸업, 지급종료)로 복수전공 또는 未졸업 등의 사유로 재학 중인 학생(정규 수업연한 초과 이수자) 다']\n",
            "['* 국가장학금 Ⅱ유형 지침 상 등록금 범위내 장학금 수헤 가능액 10만원 미만 시 지원 불가', '* 국가장학금을 신청하였으나 소득구간이 산정되지 않은 학생은 지원 불가', '2020-2학기 코로나19로 인한 긴급 경제사정 곤란자 국가장학금Ⅱ유형 신청 안내']\n",
            "[' 신청방법 및 일정1) 신청방법: 재단 홈페이지(www', '(금) 18:00(신청기간 내 24시간 신청가능, 단 마감일 제외)마', ' 신청자격: 하단 요건 모두 충족1) 대한민국 국적의 국내 4년제 및 전문 대학교 재학생2) 학자금지원구간 3구간 이하인 자3) 직전 정규학기 성적 백분위 70점 이상, 최소 12학점 이상 이수나']\n",
            "[' 장학금명: 재직동문교수회 장학금2', '2020-2학기 재직동문교수회 장학생 모집 아래와 같이 2020-2학기 재직동문교수회 장학금 신청안내를 하오니해당되는 학생들의 많은 지원 바랍니다', ' 인원: 4명 (서울 및 글로벌캠퍼스 각 2명 씩)3']\n",
            "[': 본 교에서는 많은 학생들이 글로벌 인재로 성장할 수 있도록, 국제 교류제도(7+1전형, 교환학생제도)를 시행하고 있습니다', '한국외대 복지장학금은 단순히 소득분위로만 측정될 수 없는 학생 여러분들의 고충 경감을 목표로 다양하고 현실적인 기준으로 수혜자를 선정합니다', '※ 아래의 건강보험관련 서류 제출 시 유의사항을 반드시 참고하여 제출할 것']\n",
            "['(단, 학자금 대출을 받은 학생이 학자금 대출을 상환하는 경우 국세청 홈택스 연말정산간소화서비스를 통해 원금 및 이자상환액에 대한 교육비 공제를 받을 수 있습니다', ' 연말정산용 교육비납입증명서가 필요한 경우, (매년) 1월 15일(예정) 이후 국세청 홈택스 연말정산 간소화 서비스를 이용하시면 별도의 발급 절차 없이 교육비 납입 내역 조회 및 출력이 가능합니다', ' 소득세법 제 59조의 4(특별세액 공제)에 따라 직계비속 등(학생)이 학자금 대출을 받아 납부하는 교육비는 교육비 공제 대상에서 제외됩니다']\n",
            "[' 지원대상  ○ 한국장학재단 학자금 대출을 보유하고 있는 사람 중 ○ 신청공고일 기준 본인 혹은 직계존속의 주민등록상 주소가 울산으로 되어 있는 대학교 재학(휴학)생  단, 휴학기간(군복무로 인한 휴학기간은 제외)이 6학기 이하일 것【 주의사항 】 - 대학원생, 졸업생은 지원 대상이 아님 - 대출 당시, 소득분위 8분위 이내이어야 함 ※ 신청자 중 소득분위가 확인되지 않을 경우에 한하여 최근소득분위로 대체하여 심사 - 한국장학재단 대출자료 추출일 기준 완제자 지원불가 ※ 한국장학재단 홈페이지를 통하여 본인의 학자금대출 잔액 확인 후 신청 - 타 지자체, 기관 등과 중복지원 불가    3', ' 지원내용 ○ 2017년 이후 한국장학재단으로부터 신규대출 받은 취업 후 상환학자금 및 일반상환학자금의 2020년 하반기에 발생한 본인 부담 이자액 ※ 이자지원 신청액이 확보된 예산을 초과할 경우, 저소득분위 순으로 제한 지원될 수 있음    4', ' 지원결과확인  ○ 한국장학재단 홈페이지 → 로그인 → 학자금대출 → 학자금뱅킹 → 학자금대출 상환 → 대출내역 → 해당 대출계좌번호 클릭 확인(비고란에 ‘지자체 이자지원’으로 표기)     8']\n",
            "['(대출잔액보다 지급금액이 많은 경우에는 학생 계좌로 지급하며, 수령 후 상환처리해야 함) * 등록금 대비 장학금+대출금 초과액은 대출상환이 우선이니 모든 교내외 장학금 수혜 시 대출상환 필수라', ' 사학연금관리공단, 국군재정관리단, 기타기업체 학자금대출의 경우, 학생 계좌로 지급받은 해당 금액을 반드시 직접 대출 상환 바랍니다', ' 장학금액 * 타장학금 수혜자의 경우 등록금 범위 내 지급학자금지원구간II유형 지급액0~3구간760,500원 ~ 827,500원4']\n",
            "[' 기술보국장학금- 현재학기 재학생(1,2,3학년)- 이공계 전공자- 학업성적우수자(평점평균4', ' 미래지향장학금- 현재학기 재학생(1,2,3학년)- 학업성적우수자(평점평균4', ' 장학금 지원사항- 등록금 및 생활비- 1인당 800만원/년        3']\n",
            "[' 급작스런 사고를 당하거나 자연재해로 피해를 받아 경제적 지원이 필요한 학생', ' 경제적 어려움에 처하여 지원이 필요한 학생', 'HUFS Dream 장학금은 장학 사각지대에 놓인 가계 곤란 학생들에게 지원하고자 하는 장학금입니다']\n",
            "['2020-2학기 인문100년장학금 일시지원 유형 신청 안내(한학기 지원)한국장학재단에서는 2020-2학기 인문100년장학금일시지원 유형(한학기 지원)장학생을 아래와 같이 선발하오니 관심 있는 학생들의 많은 지원 바랍니다', ' 지원서류제출(학생→학교)  나', ' 인문100년 장학금(한학기 지원) 신청서(첨부서류) 1부나']\n",
            "[' 신청대상 : 2020학년도 2학기 글로벌캠퍼스 재학생', ' - 2020학년도 2학기 국가장학금 미신청자로 “코로나19” 긴급 경제사정 곤란자', ' - 폐업사실증명서(정부24 홈페이지 온라인 발급)']\n",
            "[' 29(화) 18시까지 * 주말 및 공휴일 포함 신청기간 내 24시간 신청가능(단, 마감일 제외)▶신청방법: 한국장학재단 홈페이지 및 모바일 어플을 이용하여 신청(붙임 학생신청 매뉴얼 참고)▶안내(유의)사항 - 2021년도 하계방학 집중근로 프로그램에 참여하고자 하는 경우, 반드시 학생신청기간에 국가근로장학 학금을 신청해야 함 - 국가근로장학금은 소속대학이 확정된 학생만 신청할 수 있으며, 소속대학이 미정인 신(편)입생을 2차 학생신청기간을 이용 - 본교의 경우 대부분의 국가근로장학생은 1차 신청학생 중에서 선발되므로 국가근로를 희망하는 학생은 1차 신청기간에 신청 - 희망근로기관 신청은 2월 중 예정이며, 해당 내용 재공지 예정 - 국가근로장학금 또한 장학금으로 교육비납입증명서에 반영됩니다', '2021년 1학기 1차 국가근로장학금 신청 안내2021년 1학기 1차 국가근로장학금 학생시청기간 및 신청 방법을 안내드립니다', '▶학생신청 기간: 2020']\n",
            "['2020년 2학기 국가근로장학금 동계방학 집중근로 프로그램 신청 안내', '-현재 학기 중으로 근로를 종료하는 부서가 있음으로 담당선생님께 문의하여 방학 중 계속 근로가 불가하거나 외부근로를 희망할 경우 반드시 신청해야 함', '-현재 학기 중 일반근로를 진행하고 있는 학생의 경우,현 근로지에서 계속 근로가 가능하면 별도로 신청하지 않아도 됨']\n",
            "['학생이 온라인 출근부 입력을 하였으나 부서담당자가 기한 내에 대학 제출하지 않은 경우 해당 월 근로장학금 지급 불가', '온라인 출근부 입력기한 내에 입력 누락된 근로시간은 추가 입력 및 근로장학금 지급 불가', '2020학년도 2학기 국가근로장학생 11월 출근부 입력 마감 및 담당자 대학제출 안내']\n",
            "[' 장학금명: 한국외대 동문장학회 장학금     2', ' 장학금 신청서(첨부파일)나', '2020-2 한국외대 동문장학회 장학생 모집안내    아래와 같이 2020-2학기 한국외대 동문장학회 장학생 모집 안내를 하니 해당되는 외대 학생들의 많은 지원 바랍니다']\n",
            "[' 2020-2학기 내역에 (2020학년도 2학기, 장학종별(국가장학금 2유형, ***원)이 표시되 어 있으면, 장학생으로 선발 ※ 종합정보시스템 상 장학금 조회 가능 시점으로부터 1~2주 이내 계좌입금 및 대출상환처리 됨     3', ' 글로벌캠퍼스 국가장학금Ⅱ유형 지급대상자소득분위국가장학금 1유형지급액(원)국가장학금 Ⅱ유형 지급액(원)비고0-1분위2,600,000등록금범위 전액(타장학 포함)국가장학금1유형 수혜자 중백분위점수 70점이상 74점미만자 및 재입학자(면학미수혜자)2분위~3분위2,600,000등록금범위 전액(타장학 포함)국가장학금1유형 수혜자 중교내저소득층 우선감면우선감면과 별도로 등록금범위 전액4분위1,950,000(다자녀 2,250,000)450,000(타장학 수혜자의 경우 등록금범위 내 지급)국가장학금1유형 수혜자 중면학미신청자 * 타장학금 포함 등록금 범위 이내 지급 * 지급 가능금액이 10만원 미만인 경우 지급제외 (국가장학금2유형 최소 지급 가능액이  10만원 이상임) * 이번학기 국가장학금 1유형을 지급받은 학생만 국가장학금 2유형을 지급 받을 수 있음 * 초과학기자는 지급하지 않음 * 국가장학금 1유형 2020', ' 학자금대출자의 경우 국가장학금 2유형 장학금이 지급 및 상환될 때까지 2021년 국가장학금 신청이 불가하므로(중복지원사유) 국가장학금2유형 지급완료 후 21년 장학금을 신청하시기 바랍니다']\n",
            "['(재)OK 배·정장학회의 장학증서 수여식에 반드시 참여해야 하며 불참시 장학금 지급 취소 및 장학생 자격이 상실될 수 있습니다', '재일한국인사회의 리더 및 국가의 인재로 성장할 수 있도록 하기와 같이 「2021년도 장학생」을 모집합니다', ' - 선정된 장학생은 당 협회의 장학증서 수여식(2020년 3월 24일(수) 예정)']\n",
            "['(대출잔액보다 지급금액이 많은 경우에는 학생 계좌로 지급하며, 수령 후 상환처리해야 함) * 등록금 대비 장학금+대출금 초과액은 대출상환이 우선이니 모든 교내외 장학금 수혜 시 대출상환 필수 * 한국장학재단 대출상환 예정일 : 2020', ' 사학연금관리공단, 국군재정관리단, 기타기업체 학자금대출의 경우, 학생 계좌로 지급받은 해당 금액을 반드시 직접 대출 상환 바랍니다', ' 17(목) 예정 * 국가장학금 2유형 장학금이 지급 및 상환될 때까지 2021년 국가장학금 신청이 불가하므로(중복지원사유) 국가장학금2유형 지급완료 후 2021년 국가장학금을 신청하시기 바랍니다']\n",
            "['※단, 이후 학기별로 이루어지는 [협성장학생 유지기준]의 심사를 거쳐 충족되는 자에 한해서 계속해서 장학금이 지금됨', '협성문화재단에서 『2021년 건설근로자 자녀 대학생 신규 협성장학생』을 선발합니다', ' ▶재학생 : 2021학년도 1학기 ~ 졸업 시까지(재학기간을 포함한 8학기 기준)']\n",
            "[' 장학금 신청서(첨부양식) 1부 나', '2020년 2학기 헝가리어과 제자사랑 장학금 장학생 선발 안내        1', ' 2020년도 1월-10월 건강보험료 납부확인서(부/모 모두 제출)마']\n",
            "['14부터 사업안내가능)', '21(월), 10시 오픈)바로안내 : 콜센터 02-509-2114 (12', '2021-1 농림축산식품부 대학 장학생 선발 안내']\n",
            "[' 장학금 신청서,자기소개서(첨부양식) 나', ' 장학금 추천서 (첨부양식)  다', '2020-2학기 외대비전 HUFS Dorm장학금 신청 안내외대비전 HUFS Dorm 장학생을 아래와같이 선발하오니 많은 신청 바랍니다 - 아 래 -1']\n",
            "[' 접수장소 : (06023) 서울특별시 강남구 압구정로 36길 55(신사동) 소망교회 사무실(소망장학부)  * 우편으로만 접수 다', '2021학년도 소망교회 소망장학생 모집 안내소망교회는 그리스도 안에서 변화된 탁월하고 성숙한 신앙인격의 사람들을 발굴하여, 어려운 재정 상황이 꿈과 포부를 펼치는데 걸림돌이 되지 않도록 실질적인 도움을 주고, 하나님 사랑과 나라 사랑의 비전을 공유함을 통해, 하나님 나라 확장과 국가사회에 공헌할 책임지는 리더 양성을 목적으로 소망장학생을 다음과 같이 선발하고자 합니다', ' 선발과정 : 서류심사 - 면접심사 - 최종선발※ 자세한 사항은 첨부파일을 참고하시기 바랍니다']\n",
            "['2021학년도 1학기 면학장학금 신청 안내     2021학년도 제1학기 교내 면학장학금 신청을 다음과 같이 안내하오니 장학금을 수혜하고자 하는 학생은 반드시 정해진 기일 내에 신청하시기 바랍니다', ' 이중수혜 관련 안내     한국장학재단에서는 등록금 지원 목적으로 수혜한 학자금(든든학자금, 일반학자금, 농어촌무이자융자, 공무원연금관리공단학자금, 사학연금관리공단학자금 등)과 국가 및 교내·외장학금을 합산하여 입학금 및 등록금 총액 초과 수혜여부를 지속적으로 점검하고 있으며, 이중수혜로 확인되는 경우 다음 학기 학자금 및 국가장학금 수혜가 불가합니 다', ' ※ 학자금대출자 유의사항(필독!)2021학년도 1학기 한국장학재단, 공무원연금공단 등 학자금대출로 등록금을 납부한 학생은 이번학기 총 수혜 장학        금액과 대출 잔액을 합하여 등록금총액을 초과하는 금액을“2021학년도 1학기 학자금(등록금) 대출상환”하여야함 (미상환시 한국장학재단 이중수혜 지침에 의거 다음 학기 한국장학재단 장학자금대출 및 국가장학금 거절)    나']\n",
            "[' 2020-2학기 내역에 [2020학년도 2학기, 장학종별(국가장학금 2유형, ***원)]이 표시되어 있으면, 장학생으로 선발 ※ 종합정보시스템 상 장학금 조회 가능 시점으로부터 1~2주 이내 계좌입금 및 대출상환처리 됨 자세한 대출상환내역은 장학재단 사이트 로그인하여 확인가능   3', ' 학자금대출자의 경우 국가장학금 2유형 장학금이 지급 및 상환될 때까지 2021년 국가장학금 신청이 불가하므로(중복지원사유)  국가장학금2유형 지급완료(12/23수) 후 21년 장학금을 신청하시기 바랍니다', ' 기타 기관 학자금대출의 경우 학생계좌로 장학금 지급 예정이며 즉시 대출상환 필수다']\n",
            "['※ 단, 장학재단 심의위원회에서 매 학기 소정의 심사를 통해 장학금 계속 지급여부 결정', '용운장학재단 장학생 선발 안내', ' 본 장학재단 장학심의위원회의 서류심사(동영상포함)로 1차 선발 ']\n",
            "['com) 제출 구비서류 일체 더 라이트핸즈 홈페이지(www', '※ 문의 : 더 라이트 핸즈 대학사업담당자 02-866-0126 서울시 금천구 가산디지털1로 233(가산동, 에이스하이앤드9차) 1102호 ', ' 신청방법 제출 서류 일체 1개의 PDF파일로 변환하여 [접수년월일_이름_학교]으로 담당자 이메일(scholar']\n",
            "[' 면접심사 및 최종선발2021', '설립한 자본시장 대표 공익재단으로서, 저소득·취약계층 대학생들의 경제적 부담 해소 및 미래 인재 육성을 위하여', ' 신청서 및 서류제출 마감 2021']\n",
            "['2021학년도 한국지도자육성장학재단 장학생 모집 한국지도자육성장학재단의 장학금은우리 사회의 지도자를육성하기 위한 장학금으로서, 창의력과 봉사정신을 겸비한 리더십을갖춘학생을 선발하여 장학금을 지원하고 있습니다', ' 자기소개서 3부 (재단양식)라', ' 장학지원서 1부 (재단양식)나']\n",
            "[' (서류는 직접 또는 우편 접수 가능)', ' 문의처 : (재)함경북도장학회 02-533-4532', ' 재단법인 함경북도 장학회']\n",
            "['2020학년도 2학기 국가근로장학생 12월 출근부 입력 마감 및 담당자 대학제출 안내★해외 출국일,입국일,해외 체류기간,군복무 기간,병원 내원 시간에는 출근부 입력 금지!★학기 중 학적 변동자(휴학, 자퇴, 제적 등)는 즉시 장학팀/학생지원팀으로 연락!★기한 내 담당자 미확인 시 장학금 지급이 지연될 수 있음', '학생이 온라인 출근부 입력을 하였으나 부서담당자가 기한 내에 대학 제출하지 않은 경우 해당 월 근로장학금 지급 불가 다', 'kr) *학생의 출근부 입력 확인 후 부서 담당자가\"대학제출\"버튼 클릭요망 * 근로지담당자가 대학제출 이후 학생은 출근부 수정 불가 *모든근로지 담당자가\"대학제출\"을 완료하여야 장학생 전원의 근로장학금 지급이 가능하므로 기한 준수 요망!3']\n",
            "['2020-2학기 글로벌비전(신우회) 장학금 신청안내글로벌캠퍼스 신우회에서 아래와 같이 장학생을', ' 신청자격 및', '등기우편에 한하며, 마감일 도착분까지 유효)- 글로벌캠퍼스: 경기도 용인시 처인구 모현읍 외대로81 한국외국어대학교 학생회관 108호 학생지원팀 ☎ 031-330-40372020']\n",
            "['종근당고촌재단에서는 생활비 마련에 고충을 겪고 있는 대학생을 대상으로 ', '4) 타 기관으로부터 생활비를 지원받지 않는 자', '2021년 생활비 장학생과 종근당고촌학사의 2021년 신규 입사생을 선발합니다']\n",
            "[' 성옥장학생으로 선정된 이후 휴학 및 자퇴 할 경우 장학금은 재단으로 반환 처리됨', ' 성옥장학생 신상카드 1부 (첨부파일 다운로드)', ' 성옥장학금 전달식 : 2021년 3월 5일(금) 14:00 (예정)']\n",
            "['※ 부/모 중 1명이 납부하실 경우 건강보험증 사본 또는 건강보험 자격확인서 추가제출', ' 서울캠퍼스: 장학팀 (국제학사 101호, 02-2173-2795)', ' 3) 2020년도 기준 건강보험납부확인서(부,모) 1부']\n",
            "[\" 문의는 '백암복지재단 주거지원 학생 선발 FAQ' 파일을 확인 후 연락바랍니다\", '2021년 백암복지재단 주거지원 장학생 선발 공고', '서류접수→서류심사→면접심사→최종합격→입소 전 사전교육 ']\n",
            "[' 지원기간 : 대학 졸업(수료) 후 5년, 대학원 졸업(수료) 후 2년까지 지원', ' 이전부터 현재까지 거주한 대학․대학원 재학(휴학)생, 미취업 졸업(수료)생', ' 지원내용 : 한국장학재단에서 2010년 2학기 이후 2020년 2학기까지 대출받은 학자금']\n",
            "[' ※의대·약대·한의대는 8학기 지원 후 심사를 거쳐 계속 지원 여부 결정 ', ' 지원 기간 대학 학업 종료 시까지 장학금 지원 ', ' 1) 입학금 : 전액(수시합격에 따라 기 납부한 입학예치금 지원) ']\n",
            "[' 나) 소득세 과세자 중 자영업자 등의 경우: 소득금액증명원 부,모 각 1통(세무서 발행)', ' 다) 소득세 미과세 자인 경우: 비사업자 사실증명 부,모 각 1통(세무서 발행)', ' 가) 소득세 과세자 중 급여 생활자의 경우: 근로소득 원천징수 영수증 부,모 각 1통(근무처 발행)']\n",
            "['아래와 같이 장학금을 지원하고자 강민성장학재단 10기 장학생을 모집합니다', 'com）(파일명 양식 : 강민성장학재단 10기 장학생 지원서_홍길동)', '2) 1차 서류(지원서) 심사결과 및 면접일정 발표 : 2021년 1월 셋째 주 ']\n",
            "['대은강완석장학재단은 미래 사회 발전에 기여할 인재를 발굴하여 학업에 충실할 수 있는 여건을 지원하고자 [2021년 장학생 선발 계획]을 다음과 같이 공고합니다', ' 결격사유 - 장학생 추천서 및 관련 증빙자료를 허위로 작성하여 제출한 경우 - 휴학, 전학, 퇴학, 질병 등의 이유로 학업을 계속할 수 없게 될 경우 - 기타 장학금 지급이 부적절하다고 판단될 경우', ' 제출서류 - 장학금 지원 신청서 [별첨]  - 자기소개서 [별첨]  - 개인정보 수집·이용제공 및 조회 동의서 [별첨]  - 학자금 중복지원방지 동의서 [별첨]  - 성적증명서(전학년), 재학증명서 - 장학생 추천서[별첨] *추천서는 지원자 중 학교추천대상자에 한하여 학교에서 별도 작성예정']\n",
            "['0 이상 1학기 300만원 한도 장학금', '- 2021년 선발시 한학기당 100만원 지급(2학기)', '- 졸업 시까지 4학기 지급 / 이중수혜 불가']\n",
            "[' 지원자격: 유럽어문학 및 유럽문화학 등 이와 연관된 강의를 (영어/영문학제외)  1개 강좌 이상 이수한 2, 3학년 재학생  ※전공무관, 2021년 1학기 기준    3', '2021-1학기 김희경유럽정신문화장학재단 장학금 신청안내    아래와 같이 장학생을 모집하오니 해당되는 학생들의 많은 신청 바랍니다', ' 장학금: 500만원 (유럽어학연수/교환학생 프로그램 등 재단의 연계 장학사업 선발 우대)    4']\n",
            "['모집기간 2021년 1월 4일(월) ~ 1월 29일(금) 오후 6시 * 단, 선착순 500명까지만 서류전형 대상자로 선정', '코로나 19 페퍼 희망장학생 모집', '5점 기준, 백분위 환산 79점 이상)']\n",
            "['※ 상기 일정은 추진상황에 따라 변동가능※ 신청은 시작일 09:00부터 24:00까지 가능(주말 및 공휴일 제외) 단, 신청마감일은 18:00까지 신청가능 ※ 실행은 실행기간 중 09:00∼17:00까지 가능(주말 및 공휴일 제외) 단, 대학별 수납마감 시간 이내에만 가능 ※ ’18년 2학기부터 지급방식 변경에 따라 융자 약정은 융자 실행 시 체결 ※ 재학생 및 신입생군 신청기간(1차) 중 군에 있어 융자신청을 못한 군 제대 복학자의 경우 재학생이어도 신입생군 신청기간(2차)에 신청 가능(단, 병적증명서 등 증빙서류를 제출해야함)※ 신청 마감일은 서버폭주 등 문제 우려되므로 17:00 이전까지 신청 안내 요망 ', '재단 홈페이지', '재단 홈페이지']\n",
            "['(화)※ 학부생의 경우 학자금 지원구간 산정 및 통지 기간을 감안하여 등록마감일로부터약 8주 전 신청 권장※ 9학기 이상 등록대상자(초과학기자) : 수강신청 완료 후 반드시 추가등록기간(3월 중)에 대출 실행할 것(1차 등록기간에 대출 실행 시 등록금 전액으로 대출되므로 9학기 이상 수강자의 경우, 재무회계팀에 환불 신청 등의 절차필요함', \"2021년 학자금대출 제도 변경사항 1) '21년 1학기부터 대출 실행 시까지 학자금 지원구간이 4구간 이하로 산정된 신청자는 취업후상환 학자금대출만 대출 실행 가능 단, 대출 실행시까지 학자금 지원구간이 산정되지 않은 신청자는 일반상환학자금대출로 사전승인 대출 가능\", ' 향후 지원구간이 산정된 경우, 자동으로 취업후상환 학자금대출로 전환되지 않으며 ‘취업후상환 학자금 전환대출’ 신청 및 실행을 통해서만 전환 가능합니다']\n",
            "['3) 부, 모 모두 피부양자로 등록되어있는 경우 해당 가입자 건강보험 납부확인서와 부, 모의 자격득실확인서 제출', ' 공모전 상장, 입상 증명서, 단체활동 확인서 등(해당자에 한함)', ' 장학금 신청서(붙임 참조)']\n",
            "[' 최종 합격자 발표 : 2021년 2월 22일(월) 개별통보 및 재단 홈페이지(http://hyunmaedu', ' 서류접수 ', ' ※ 상기 일정은 재단 사정에 따라 변경될 수 있음']\n",
            "['- 천안시 홈페이지 – 분야별정보 – 교육 – 학자금 대출이자 지원 ', '천안시 홈페이지 - 분야별정보 - 교육 - 학자금 대출이자 지원에서 다운로드 ', '- 온라인 : 천안시 홈페이지 – 분야별정보 – 교육 – 학자금 대출이자 지원']\n",
            "['신청대상 모든 대학, 전공 무관 등록금 전액+학업장려금 200만원 지원', ' 졸업 후, 농림축산식품산업분야에서 취업 또는 창업 조건 이행 *이행기간 : 장학금 수혜횟수X6개월', '지원금액 학기당 등록금 전액+학업장려금 200만원']\n",
            "['2021-1학기 하영호장학재단 신규장학생을 모집하오니 많은 지원바랍니다', ' * 선발된 장학생은 별도 결격사유가 없는 한 졸업 시까지 매 학기 장학금 지급', ' 2020-2학기 국가장학금 소득분위 5분위 - 8분위 학생']\n",
            "[' 장학금 지급 (재단 → 학교 → 학생계좌 )', ' 학교 → 재단 (재추천 대상자 재학 , 성적 등 기타 재단에서 요구하는 서류 제출 )', ' *휴학 후 복학 시 계속장학생 자격이 취소되는 재단도 있으니 휴학 전 해당 재단 또는 학교에 확인바람']\n",
            "[' 장학금 지원사항- 등록금 및 생활비- 1인당 800만원/년3', ' 자기소개서 및 학업계획서다', '  1     글로벌캠퍼스 학생']\n",
            "['유의사항:보훈장학생(통일,국가유공자)중2021학년도1학기 휴학예정자는 등록금고지서에 장학금액 감액되더라도 등록 처리하지 않고“일반휴학”한 후 복학하는 학기에 계속 장학금 신청할 것4', '2021학년도1학기교내계속장학금(우수입학,외대복지,보훈,고시등)신청안내(2020-2학기계속장학금대상자중미수혜자만 신청)재학생(휴학생 중 복학예정자 포함)중 우수입학,외대 교직원 자녀,보훈(통일/유공자),고시 장학생 등2개 학기 이상 지급하는 다년 장학금 수혜대상자 중신청대상에 해당하는 자는 기한 내에 신청하시기 바랍니다', '결과확인:별도 신청 없이 해당 장학금 지급 규정에 의거하여 심사 후2월 중순 등록금 고지서 내 자동 반영(2월 종합정보시스템 장학내역에서 확인 가능)나']\n",
            "[' 선발 절차 및 장학금 지급 시기 ', ' 모집기간 및 제출처 : 2021', ' 2021-1학기 2, 3학년 재학 예정자 및 인문계 전공생']\n",
            "[\"대학/대학원생(휴학생 포함) 또는 졸업 후 5년 이내 서울시 거주자에게 한국장학재단 학자금대출에 대한 '2020년 7-12월(하반기)'에 발생한 '이자액'을 지원합니다\", '서울시 청년정책 2020년 하반기 서울시 학자금대출 이자지원', 'I SEOUL U 너와 나의 서울 서울특별시']\n",
            "['*차상위복지급여수급자의경우,해당서류1부제', '차상위본인부담경감대상자증명서', '차상위계층확인서']\n",
            "['(3) 인문 활동을 위한 서적전권', ' 온라인 서류접수: 2021년 1월 18일(월) ~ 29일(금) 자정까지 (- 재단 홈페이지에서 지원서 다운로드 가능)', ' 활동지원서 및 에세이 (재단 홈페이지에서 양식 다운로드)']\n",
            "[' 본 법인은 학생 기숙사인 숭덕학사를 유지 경영하고 있습니다', ' 남학생의 경우는 숭덕학사에 입사(기숙사 공동생활)하며, 서울에서의 지방 대학생들의 생활비(숙식비)의 30% 정도를 ', ' 숭덕학사에는 전국 각 지방(광역시, 도 단위) 학생, 서울시내 각 대학(대학원) 재학생을 가능한 고루 만나게 하고 있습니다']\n",
            "[' 전자시스템공학부(전공), 디지털정보공학과,전자공학과, 정보통신공학과 2021학년도 1학기 재학생(재학예정인 학생도 지원가능)나', '글로벌캠퍼스 학생지원팀', ' 2020년 2학기 한국장학재단 국가장학금 소득분위 5분위 이내인 자  2']\n",
            "[' 2020년도 양친 지방세 세목별 과세증명서(주민등록번호 뒷자리 미표기)', ' * 전국, 전체 세목에 대하여 양친 각각 준비, 과세사실이 없을 경우 미과세 증명서', ' 장학생 공개선발지원서(재단양식) 1부']\n",
            "['- 활동기간 : 2021', '- 활동내용 : 초,중,고등학생 대상 학습지도 및 정서지원', ' - 멘토링 활동기간(1년동안) 지속적으로 활동 가능한 자']\n",
            "['2020년 하반기 인천시 대학생 학자금대출 이자 지원 신청안내❍ 지원대상 : 한국장학재단 학자금대출을 보유하고 있는 사람      · 한국장학재단에서 산정하는 소득 10분위 중 8분위 이하에 해당되며, 부모또는 본인이 신청기준일        현재 1년 이상 인천광역시에 주민등록이되어 있는 국내 대학(교)에 재학 또는 휴학 중인 대학생과 공고일 기준졸업 후 2년 이내 미취업 졸업생 · 다자녀 가구(3자녀 이상) 대학생은 소득제한 없음 ❍ 지원내용 : 2019년 1학기부터 한국장학재단을 통해 대출받은  학자금의 2020년 하반기(7월~12월) 발생이자 지원 * 다른 기관과 중복지원 불가, 한국장학재단에서 대출정보 추출 시 전액 상환자는 지원 불가 ❍ 지원방법 : 한국장학재단 대출 원리금에서 상환(개인계좌 입금 없음) ❍ 신청기간 : 2021', 'kr/)에서 발급‣ 재학·휴학·졸업증명서 : 공고일 기준     재학·휴학·졸업생임을 증명‣ 가족관계증명서 : 부모님(부 또는 모)   기준으로 발급(3자녀 이상 확인용)‣ 건강보험자격득실확인서 발급방법-국민건강보험사이버민원센터 (minwon', ' 제출대상구비서류구비서류 요건재학(휴학)생주민등록초본재학(휴학)증명서‣ 초본 : 부모 또는 본인 기준 최근     5년간 주소변동이력, 전입일(신고일)포함하여 발급※부모 초본 제출시 가족관계증명서 첨부※정부24(https://www']\n",
            "['2021년 2학기 푸른등대 기부장학금 신규장학생을 아래와 같이 선발하오니 관심 있는 대학생들의 많은 신청 바랍니다', '차상위계층 가정의 대학생', '전공 대학생']\n",
            "[' 장학생 지원 요건 1) 성적우수장학생 : 누적학점과 직전 학기 학점 모두 B+학점 이상인 학생 2) 생활장학생  - 누적학점과 직전 학기 학점 모두 B학점 이상인 학생으로  - 부모나 본인이 아래 항목 중 1개 이상에 해당하는 자  · 기초생활 보장 수급자 또는 차상위계층 · 세대 건강보험료 월간 납부금액이 100,000원 이하인 자 · 직전년도 부모합산 연간 재산세 납부금액이 70,000원 이하인 자 3) 생활장학생은 생활비 명목으로 지급함', ' 성적우수장학생 : ○○명 나', '재단법인 동암장학회(이사장 손경호)는 정관에 따라 2021년도 장학생 선발에 관한 사항을 아래와 같이 공고합니다']\n",
            "['기타 문의 사항은 홈페이지 참조 및경기푸른미래관 생활지도부 (02-998-1003, 996-8505)', '경기도에서는 경기도 및 서울 소재 대학에 진학하는 도내 대학생들을 위해 경기푸른미래관을 운영하고 있으며, ', '2021 경기푸른미래관 입사생 선발 안내']\n",
            "['2020학년도 2학기 국가근로장학생 1월 출근부 입력 마감 및 담당자 대학제출 안내★해외 출국일,입국일,해외 체류기간,군복무 기간,병원 내원 시간에는 출근부 입력 금지!★학기 중 학적 변동자(휴학, 자퇴, 제적 등)는 즉시 장학팀/학생지원팀으로 연락!★기한 내 담당자 미확인 시 장학금 지급이 지연될 수 있음', '학생이 온라인 출근부 입력을 하였으나 부서담당자가 기한 내에 대학 제출하지 않은 경우 해당 월 근로장학금 지급 불가 다', 'kr) *학생의 출근부 입력 확인 후 부서 담당자가\"대학제출\"버튼 클릭요망 * 근로지담당자가 대학제출 이후 학생은 출근부 수정 불가 *모든근로지 담당자가\"대학제출\"을 완료하여야 장학생 전원의 근로장학금 지급이 가능하므로 기한 준수 요망!3']\n",
            "['(목)15:004)비고-신청자에한하여장학금액이등록금고지서에우선반영예정-미신청자의경우등록금을자비로납부한후개강이후장학당담부서를직접방문하여신청-우수입학장학금의경우개별신청절차없이우선감면처리예정5)문의:서울캠퍼스장학팀02-2173-2135,2136,2138,2795글로벌캠퍼스학생지원팀031-330-4034,4037~82021', '2021학년도 신입생 등록금 우선감면 신청 안내우리장학팀에서는2021학년도신입생해당자에한하여등록금우선감면을진행하고있습니다', '이에따라,해당학생들은다음과같이등록금우선감면을신청하여주시기바랍니다']\n",
            "['아래와 같이 2021-1학기 미래의 동반자재단 신규장학생 모집안내를 하니 외대 학생들의 많은 지원 바랍니다', ' 20-2학기한국장학재단 산정 기준 소득분위 7분위 이하인 학생', ' 장학생은 학기당 최소 12학점 이상 신청해야 함']\n",
            "[' ⓛ 신청서 및 개인정보수집활용동의서 등 1부(양식 통영시 홈페이지 www', ' 방문 및 제출처 : 통영시청 교육체육지원과 평생학습팀', ' 2021년 공고일 현재 통영시 소재 고등학교 졸업(예정자)로 대학에 입학하였거나 재학중인 학생']\n",
            "[' 신청 대상: 재학생· 신입생 · 편입생 · 복학생 · 재입학생 ※ 재학생은 1차 신청이 원칙이나, 재학 중 2회에 한하여 구제신청서 제출 후 2차 신청 가능 ★ 교내장학금(면학 등)을 받고자 하는 학생은학자금 지원구간(소득분위) 확인을 위해반드시 국가장학금을 신청하시기 바랍니다', '18(목) 18시 ※ 국가장학금 신청 및 서류확인(서류제출은 대상자에 한함)', '1학기 2차 국가장학금 신청하세요']\n",
            "['최종 선발 안내는 2월말학교홈페이지에공지 예정*선발공지 후 한국장학재단 홈페이지에서 선발여부 및 근로지 확인가능*각 근로지별 학생 선발 기준이 상이하며(전공,외국어,컴퓨터 능력 등)부서에서 특별한 요구 사항이 없는 경우 소득수준,직전학기 성적 등이 우선 요소로 고려됨4', ' 2021-1학기 국가근로장학생 선발 고려 요건(자세한 사항은 대학자체선발기준참조)선발기준최저자격비고소득순위1순위~ 3순위(8분위 이하)1순위~ 3순위(8분위 이하) 소득순위 순으로 선발성적기준직전학기 백분위 성적70점 이상*장학선발 성적 반영(계절,교류,인정학점 제외 등)성적상위자 우선 고려전공부서 요청 시 우선 고려영어사용부서의 경우 영어관련전공학과 우선 선발 등', '학년부서 요청 시 우선 고려부서 요청 시 우선 고려근로경력부서 요청 시 우선 고려부서 요청 시 우선 고려희망부서및 자기소개★희망근로지 미신청자는 자동탈락아래 능력 해당 시자기소개에 기재할 것:*엑셀,워드 활용능력*외국어능통자*교내외 근로 경험 등*근로가능시간 등★희망근로지 미신청자는 자동탈락자기소개 내용 고려도는 부서별 상이']\n",
            "['    ☐ 학자금대출 신청 및 실행 안내 사항ㅇ 대학합격이 발표가 나기 전이라도 ‘소속대학미정’으로 신청가능하며, 합격 후 소속대학에서 업로드 된 학적정보 기준으로 대출심사 진행됨※ 국가장학금 통합신청 시 학자금대출을 포함하여 신청한 경우 별도 신청 필요 없음ㅇ 학자금대출 신청 및 실행 방법1', ' 신청서* 작성* 총 5단계로 금융교육이수 포함※ 세부신청 방법은 학자금대출 > 학자금대출신청가이드 상단의 신청메뉴얼 보기 클릭 > 설명 PDF 파일 참조   ※ 학자금대출 신청 후 등록기간에 반드시 대출실행 완료해야 함ㅇ 세부 신청 방법 문의는 한국장학재단 상담센터(☏1599-2000)로 문의', '납부마감일에 신청할 경우 서류심사 및 대출심사를 진행하는데 촉박하여 대출실행이 불가능 할 수 있으므로, 아래 안내 내용에 따라 미리 신청하시기 바랍니다']\n",
            "['강철은 동문 장학금은1년에 총2번 신청이 이루어지며,한 학기에1명 최종 선발될 예정입니다', '  \"강철은 동문 장학금 신청 / 전형 / 학번(9자리) / 학년 / 이름 / 전화번호\"', '정치외교학과 강철은 동문 장학금 신청 일정 관련해서 안내드립니다']\n",
            "[' 추천서(첨부서류) 1부- 주소부분까지만 본인이 기입다', ' 이용동의서 1부(첨부서류) 4', ' 서약서(첨부서류) 1부바']\n",
            "[' 신청방법 - 신청절차 : 없음 - 2021학년도에 입학하는 모든 신,편입학 및 재입학생에게 동일하게 지원되는 국가장학금으로 학생의 별도 신청이 필요 없음', ' 지원금액 및 지원횟수 - 2017년 입학금(재입학금)의 20%( 199,600원) - 입학유형(신,편입학, 재입학) - 입학 당해학기(2021학년도 1학기) 1회성 지급3', ' 지원대상 - 2021학년도 신']\n",
            "['기타사항①접수마감일까지미비된서류가있을시접수대상에서제외②장학생선발취소및장학금지급중지  -구비서류등을허위로작성하여제출한경우(선발취소,장학금환수조치)-학칙에의해징계처분을받는경우나학적을이탈하는경우(제적,자퇴,편입학,학기등록전휴학,유학,조기졸업등)   당해학기장학금환수조치-선발된자가추후품행이극히불량하다고재단이사회에서판단한경우-2021년도1학기성적이신청요건학업성적기준에미달한경우2021년도2학기장학금지급이취소됨-2021년도본재단장학생으로서서약한사항에위배되었을경우  ③장학금은등록금을초과하지않는범위내에서만지급-등록금중일부를타장학금(국가,교내등)으로수혜한경우등록금범위내에서타장학금을차감한금액지급    *등록금전액타장학금수혜한경우본재단장학금지급중지    ※타장학금수혜합계금액이등록금범위를초과한경우한국장학재단,각학교및본재단에서환수조치  ④제출된서류는일체반환불가함    ※기타문의사항은제주특별자치도개발공사사회공헌팀(☎064-780-3406)으로문의', '각종학교    ※대학원,해외대학교제외③학업요건(신입생및재학생)구분자격요건대학생신입생⋅2021학년도대학수학능력시험성적또는고3내신성적이등급합산 평균3등급이상-과목:국어ㆍ수학ㆍ영어ㆍ탐구(택2과목)영역,총5과목※이중해당(과목)성적이없는경우직전학년해당(과목)성적으로적용재학생⋅직전학기12학점이상이수자(계절학기제외)⋅직전학기학업성적평점평균기준백분위환산점수77점이상※재학생中8학기초과한자(5학년이상)의경우4학년학생과동일하게봄※복학생·해외교환학생등은휴학·교환전직전학기성적기준으로적용④학칙에의한징계사실(학사징계포함)이없는자3', '(직전학기평점평균에대한백점환산점수표기)  ※주의사항:성적증명서에기재된한학년및전체학년평점평균에대한백점환산점수를    직전학기백점환산점수로혼동하는것에주의      →성적증명서에직전학기평점평균에대한백점환산점수가없을경우백점환산표등             의증빙서류첨부※복학·교환학생등은휴학·교환직전학기성적증명서및휴학사실증빙서류제출②도민및가족관계확인서류 *첨부파일 5~6page참조구분제출 서류공통㉠주민등록초본(상세)1부']\n",
            "[' 면학장학금  - 소득구간 0~1구간 재학생들에게는 면학장학금 자동 지급 - 면학장학금 신청자(2~8분위) 중 국가장학금1유형 고지서 감면자는 면학장학금도 고지서 감면  - 2021', ' 6(토) 이후 국가장학금1유형 수혜자 중 면학장학금 신청자는 개인 계좌지급5', '2021학년도 1학기 재학생 고지서 감면 안내(글로벌캠퍼스) 국가장학금1유형 및 교내장학금의 고지서 선감면에 대한 내용을 아래와 같이 안내하오니 참고하시기 바랍니다']\n",
            "[' 감면금액학자금 지원구간국가장학금 1유형면학장학금비고0~3구간 (다자녀)2,600,000760,500 ~ 827,500학자금 지원구간 0~3구간 대상자 중 면학장학금 미신청자의 경우 국가장학금 II유형으로 추후 별도 계좌지급 예정4구간1,950,00005구간1,840,0006구간1,840,0007구간600,0008구간337,5004~8구간(다자녀)2,250,000* 단, 초과학기생은 고지서 미반영다', ' 5(금) 까지 학자금지원구간 추가 승인 완료자 : 2차 등록금 고지서 감면(단, 등록완료자, 분납신청자, 초과학기생은 제외)- 한국장학재단 학자금지원구간 산출 확정이 지연된 관계로 고지서 감면 대상자가 지난학기 대비 감소하였습니다', ' 중복지원 해제 처리방법 : 당해학기 장학금과 대출금의 총액이 등록금 범위를 초과한 대상자는 초과된 금액만큼 당해학기 장학금 반환 또는 학자금 대출을 즉시 상환하여야 함 라']\n",
            "[' 공통신청자격 (구분별 세부 자격은첨부된 공고문 파일 확인 바람)가', ' 접수방법: 논산시청 평생교육과로 개별 방문접수 또는 우편접수  ※ 우편 발송처 논산시 시민로 210번길 9 (내동) 우:32987 (2021', ' 공통제출서류(구분별 제출 서류는 첨부된 공고문 파일 확인 바람)가']\n",
            "['아래와 같이 2021-1학기 HK Produce Group 장학생 모집 안내를 하오니 해당되는 서울캠퍼스 외대 학생들의 많은 지원 바랍니다', ' * 장학금 전달식 및 장학생 간담회 개최시 참석 필수(코로나-19 상황에 따라 일정 변동 가능)', ' 졸업 후 해외취업(미국)에 관심이 있는 학생']\n",
            "['2020학년도 2학기 국가근로장학생 2월 출근부 입력 마감 및 담당자 대학제출 안내★해외 출국일,입국일,해외 체류기간,군복무 기간,병원 내원 시간에는 출근부 입력 금지!★학기 중 학적 변동자(휴학, 자퇴, 제적 등)는 즉시 장학팀/학생지원팀으로 연락!★기한 내 담당자 미확인 시 장학금 지급이 지연될 수 있음', 'kr) *학생의 출근부 입력 확인 후 부서 담당자가\"대학제출\"버튼 클릭요망 * 근로지담당자가 대학제출 이후 학생은 출근부 수정 불가 *모든근로지 담당자가\"대학제출\"을 완료하여야 장학생 전원의 근로장학금 지급이 가능하므로 기한 준수 요망!* 17시 이후 야간 근무 또는 익일 휴일 근무 학생이 있을 시 장학팀으로 통보 바람3', '학생이 온라인 출근부 입력을 하였으나 부서담당자가 기한 내에 대학 제출하지 않은 경우 해당 월 근로장학금 지급 불가 다']\n",
            "[' 글로벌캠퍼스 재학생: 학생회관 108호 학생지원팀(031-330-4037)        2021', ' 서울캠퍼스 재학생: 국제학사 101호 장학팀(02-2173-2136)나', ' 장학금수혜지원서(사진부착) - 붙임 참조나']\n",
            "[' 예체능 공연활동지원 장학생2', ' 충남뿌리내림 장학생  라', ' 문의처: (재)충남인재육성재단 인재육성팀 가']\n",
            "['익명의 독지가가 지급하는 백미장학금 수혜에 대하여 다음과 같이 공고하니 관심 있는 학생들의 신청을 바랍니다', '2021학년도 1학기 백미장학금 신청 안내', ' 장 학 금 : 300만원(등록금 초과 수혜 가능 장학금임) ']\n",
            "['2021학년도 1학기 면학장학금(신·편입생) 신청 안내  2021학년도 제1학기 교내 면학장학금 신청을 다음과 같이 안내하오니 장학금을 수혜하고자 하는 학생은 반드시 정해진 기일 내에 신청하시기 바랍니다', ' 학자금 중복지원 :2021학년도 1학기 한국장학재단에서는 등록금 지원 목적으로 수혜한 학자금(든든학자금, 일반학자금, 농어촌무이자융자, 공무원연금관리공단학자금, 사학연금관리공단학자금 등)과 국가 및 교내·외장학금을 합산하여 입학금 및 등록금 총액 초과 수혜여부를 지속적으로 점검하고 있으며, 이중수혜로 확인되는 경우 다음 학기 학자금 및 국가장학금 수혜가 불가합니다', ' 제출 서류 : 면학장학금 신청서 1부(장애학생은 장애등급 증명서)나']\n",
            "[' 장학생 추천서(첨부양식) 1부', '우덕재단에서 신규장학생을 아래와 같이 모집하오니, 학생여러분들의 많은 신청바랍니다', '2021-1 우덕재단 신규 장학생 모집 안내']\n",
            "['kr)▶장학금▶국가근로 및취업연계 장학금▶국가근로장학금▶ 근로장학관리▶대학자체선발기준 및 선발 현황▶2021년 1학기 근로유형‘학기중’으로 선택 후 조회▶선발자에 한하여 선발된 기관 정보 조회 가능- 최종선발자: 한국장학재단 홈페이지에서근로진행으로 조회 가능*2021-1학기 휴학 시 국가근로 활동이 불가하므로 선발자 중 휴학하게 되는 경우 즉시 근로중단하고 장학팀으로 연락요망2', ' 코로나-19 바이러스위험지역방문이력이 있는 학생- 근로 시작 전 반드시 근로지 담당자님께 알리고근로 진행 협의 바랍니다', '- 코로나-19 바이러스 관련 증상이 있을 시 즉시 질병관리본부 콜센터 1339에 상담바랍니다']\n",
            "['2021년 1학기 농림축산식품부 장학금 중 「청년창업농육성장학생」을 다음과 같이 선발하고자 하니 대학생 여러분의 많은 참여를 바랍니다', '□ 지원내용 : 매학기 장학금(등록금 전액 + 학업장려금 200만원) ', '○ 신청 전 반드시 선발안내문을 통해 장학생 선발요건 및 신청 방법, 제출서류 등 세부사항 확인 요망']\n"
          ]
        },
        {
          "output_type": "error",
          "ename": "ValueError",
          "evalue": "object dtype is not supported by sparse matrices",
          "traceback": [
            "\u001b[0;31m---------------------------------------------------------------------------\u001b[0m",
            "\u001b[0;31mValueError\u001b[0m                                Traceback (most recent call last)",
            "\u001b[0;32m<ipython-input-25-7ffd8d16ef93>\u001b[0m in \u001b[0;36m<cell line: 30>\u001b[0;34m()\u001b[0m\n\u001b[1;32m     28\u001b[0m \u001b[0;34m\u001b[0m\u001b[0m\n\u001b[1;32m     29\u001b[0m \u001b[0;31m# 'summarize_content' 컬럼 생성\u001b[0m\u001b[0;34m\u001b[0m\u001b[0;34m\u001b[0m\u001b[0m\n\u001b[0;32m---> 30\u001b[0;31m \u001b[0mjanghak_copy\u001b[0m\u001b[0;34m[\u001b[0m\u001b[0;34m'summarize_content'\u001b[0m\u001b[0;34m]\u001b[0m \u001b[0;34m=\u001b[0m \u001b[0mjanghak_copy\u001b[0m\u001b[0;34m[\u001b[0m\u001b[0;34m'content'\u001b[0m\u001b[0;34m]\u001b[0m\u001b[0;34m.\u001b[0m\u001b[0mapply\u001b[0m\u001b[0;34m(\u001b[0m\u001b[0msummarize_content\u001b[0m\u001b[0;34m)\u001b[0m\u001b[0;34m\u001b[0m\u001b[0;34m\u001b[0m\u001b[0m\n\u001b[0m\u001b[1;32m     31\u001b[0m \u001b[0;34m\u001b[0m\u001b[0m\n\u001b[1;32m     32\u001b[0m \u001b[0;31m# 결과 출력\u001b[0m\u001b[0;34m\u001b[0m\u001b[0;34m\u001b[0m\u001b[0m\n",
            "\u001b[0;32m/usr/local/lib/python3.10/dist-packages/pandas/core/series.py\u001b[0m in \u001b[0;36mapply\u001b[0;34m(self, func, convert_dtype, args, **kwargs)\u001b[0m\n\u001b[1;32m   4628\u001b[0m         \u001b[0mdtype\u001b[0m\u001b[0;34m:\u001b[0m \u001b[0mfloat64\u001b[0m\u001b[0;34m\u001b[0m\u001b[0;34m\u001b[0m\u001b[0m\n\u001b[1;32m   4629\u001b[0m         \"\"\"\n\u001b[0;32m-> 4630\u001b[0;31m         \u001b[0;32mreturn\u001b[0m \u001b[0mSeriesApply\u001b[0m\u001b[0;34m(\u001b[0m\u001b[0mself\u001b[0m\u001b[0;34m,\u001b[0m \u001b[0mfunc\u001b[0m\u001b[0;34m,\u001b[0m \u001b[0mconvert_dtype\u001b[0m\u001b[0;34m,\u001b[0m \u001b[0margs\u001b[0m\u001b[0;34m,\u001b[0m \u001b[0mkwargs\u001b[0m\u001b[0;34m)\u001b[0m\u001b[0;34m.\u001b[0m\u001b[0mapply\u001b[0m\u001b[0;34m(\u001b[0m\u001b[0;34m)\u001b[0m\u001b[0;34m\u001b[0m\u001b[0;34m\u001b[0m\u001b[0m\n\u001b[0m\u001b[1;32m   4631\u001b[0m \u001b[0;34m\u001b[0m\u001b[0m\n\u001b[1;32m   4632\u001b[0m     def _reduce(\n",
            "\u001b[0;32m/usr/local/lib/python3.10/dist-packages/pandas/core/apply.py\u001b[0m in \u001b[0;36mapply\u001b[0;34m(self)\u001b[0m\n\u001b[1;32m   1023\u001b[0m \u001b[0;34m\u001b[0m\u001b[0m\n\u001b[1;32m   1024\u001b[0m         \u001b[0;31m# self.f is Callable\u001b[0m\u001b[0;34m\u001b[0m\u001b[0;34m\u001b[0m\u001b[0m\n\u001b[0;32m-> 1025\u001b[0;31m         \u001b[0;32mreturn\u001b[0m \u001b[0mself\u001b[0m\u001b[0;34m.\u001b[0m\u001b[0mapply_standard\u001b[0m\u001b[0;34m(\u001b[0m\u001b[0;34m)\u001b[0m\u001b[0;34m\u001b[0m\u001b[0;34m\u001b[0m\u001b[0m\n\u001b[0m\u001b[1;32m   1026\u001b[0m \u001b[0;34m\u001b[0m\u001b[0m\n\u001b[1;32m   1027\u001b[0m     \u001b[0;32mdef\u001b[0m \u001b[0magg\u001b[0m\u001b[0;34m(\u001b[0m\u001b[0mself\u001b[0m\u001b[0;34m)\u001b[0m\u001b[0;34m:\u001b[0m\u001b[0;34m\u001b[0m\u001b[0;34m\u001b[0m\u001b[0m\n",
            "\u001b[0;32m/usr/local/lib/python3.10/dist-packages/pandas/core/apply.py\u001b[0m in \u001b[0;36mapply_standard\u001b[0;34m(self)\u001b[0m\n\u001b[1;32m   1074\u001b[0m             \u001b[0;32melse\u001b[0m\u001b[0;34m:\u001b[0m\u001b[0;34m\u001b[0m\u001b[0;34m\u001b[0m\u001b[0m\n\u001b[1;32m   1075\u001b[0m                 \u001b[0mvalues\u001b[0m \u001b[0;34m=\u001b[0m \u001b[0mobj\u001b[0m\u001b[0;34m.\u001b[0m\u001b[0mastype\u001b[0m\u001b[0;34m(\u001b[0m\u001b[0mobject\u001b[0m\u001b[0;34m)\u001b[0m\u001b[0;34m.\u001b[0m\u001b[0m_values\u001b[0m\u001b[0;34m\u001b[0m\u001b[0;34m\u001b[0m\u001b[0m\n\u001b[0;32m-> 1076\u001b[0;31m                 mapped = lib.map_infer(\n\u001b[0m\u001b[1;32m   1077\u001b[0m                     \u001b[0mvalues\u001b[0m\u001b[0;34m,\u001b[0m\u001b[0;34m\u001b[0m\u001b[0;34m\u001b[0m\u001b[0m\n\u001b[1;32m   1078\u001b[0m                     \u001b[0mf\u001b[0m\u001b[0;34m,\u001b[0m\u001b[0;34m\u001b[0m\u001b[0;34m\u001b[0m\u001b[0m\n",
            "\u001b[0;32m/usr/local/lib/python3.10/dist-packages/pandas/_libs/lib.pyx\u001b[0m in \u001b[0;36mpandas._libs.lib.map_infer\u001b[0;34m()\u001b[0m\n",
            "\u001b[0;32m<ipython-input-25-7ffd8d16ef93>\u001b[0m in \u001b[0;36msummarize_content\u001b[0;34m(content)\u001b[0m\n\u001b[1;32m     18\u001b[0m         \u001b[0;32mreturn\u001b[0m \u001b[0;34m[\u001b[0m\u001b[0;34m]\u001b[0m\u001b[0;34m\u001b[0m\u001b[0;34m\u001b[0m\u001b[0m\n\u001b[1;32m     19\u001b[0m     \u001b[0;31m# 요약 수행\u001b[0m\u001b[0;34m\u001b[0m\u001b[0;34m\u001b[0m\u001b[0m\n\u001b[0;32m---> 20\u001b[0;31m     \u001b[0mkeysents\u001b[0m \u001b[0;34m=\u001b[0m \u001b[0msummarizer\u001b[0m\u001b[0;34m.\u001b[0m\u001b[0msummarize\u001b[0m\u001b[0;34m(\u001b[0m\u001b[0msents\u001b[0m\u001b[0;34m,\u001b[0m \u001b[0mtopk\u001b[0m\u001b[0;34m=\u001b[0m\u001b[0;36m3\u001b[0m\u001b[0;34m)\u001b[0m\u001b[0;34m\u001b[0m\u001b[0;34m\u001b[0m\u001b[0m\n\u001b[0m\u001b[1;32m     21\u001b[0m \u001b[0;34m\u001b[0m\u001b[0m\n\u001b[1;32m     22\u001b[0m     \u001b[0;31m# 요약된 문장 리스트로 반환\u001b[0m\u001b[0;34m\u001b[0m\u001b[0;34m\u001b[0m\u001b[0m\n",
            "\u001b[0;32m/content/textrank/textrank/summarizer.py\u001b[0m in \u001b[0;36msummarize\u001b[0;34m(self, sents, topk, bias)\u001b[0m\n\u001b[1;32m    192\u001b[0m             \u001b[0;32mraise\u001b[0m \u001b[0mValueError\u001b[0m\u001b[0;34m(\u001b[0m\u001b[0;34m'The type of bias must be None or numpy.ndarray but the type is {}'\u001b[0m\u001b[0;34m.\u001b[0m\u001b[0mformat\u001b[0m\u001b[0;34m(\u001b[0m\u001b[0mtype\u001b[0m\u001b[0;34m(\u001b[0m\u001b[0mbias\u001b[0m\u001b[0;34m)\u001b[0m\u001b[0;34m)\u001b[0m\u001b[0;34m)\u001b[0m\u001b[0;34m\u001b[0m\u001b[0;34m\u001b[0m\u001b[0m\n\u001b[1;32m    193\u001b[0m \u001b[0;34m\u001b[0m\u001b[0m\n\u001b[0;32m--> 194\u001b[0;31m         \u001b[0mself\u001b[0m\u001b[0;34m.\u001b[0m\u001b[0mtrain_textrank\u001b[0m\u001b[0;34m(\u001b[0m\u001b[0msents\u001b[0m\u001b[0;34m,\u001b[0m \u001b[0mbias\u001b[0m\u001b[0;34m)\u001b[0m\u001b[0;34m\u001b[0m\u001b[0;34m\u001b[0m\u001b[0m\n\u001b[0m\u001b[1;32m    195\u001b[0m         \u001b[0midxs\u001b[0m \u001b[0;34m=\u001b[0m \u001b[0mself\u001b[0m\u001b[0;34m.\u001b[0m\u001b[0mR\u001b[0m\u001b[0;34m.\u001b[0m\u001b[0margsort\u001b[0m\u001b[0;34m(\u001b[0m\u001b[0;34m)\u001b[0m\u001b[0;34m[\u001b[0m\u001b[0;34m-\u001b[0m\u001b[0mtopk\u001b[0m\u001b[0;34m:\u001b[0m\u001b[0;34m]\u001b[0m\u001b[0;34m\u001b[0m\u001b[0;34m\u001b[0m\u001b[0m\n\u001b[1;32m    196\u001b[0m         \u001b[0mkeysents\u001b[0m \u001b[0;34m=\u001b[0m \u001b[0;34m[\u001b[0m\u001b[0;34m(\u001b[0m\u001b[0midx\u001b[0m\u001b[0;34m,\u001b[0m \u001b[0mself\u001b[0m\u001b[0;34m.\u001b[0m\u001b[0mR\u001b[0m\u001b[0;34m[\u001b[0m\u001b[0midx\u001b[0m\u001b[0;34m]\u001b[0m\u001b[0;34m,\u001b[0m \u001b[0msents\u001b[0m\u001b[0;34m[\u001b[0m\u001b[0midx\u001b[0m\u001b[0;34m]\u001b[0m\u001b[0;34m)\u001b[0m \u001b[0;32mfor\u001b[0m \u001b[0midx\u001b[0m \u001b[0;32min\u001b[0m \u001b[0mreversed\u001b[0m\u001b[0;34m(\u001b[0m\u001b[0midxs\u001b[0m\u001b[0;34m)\u001b[0m\u001b[0;34m]\u001b[0m\u001b[0;34m\u001b[0m\u001b[0;34m\u001b[0m\u001b[0m\n",
            "\u001b[0;32m/content/textrank/textrank/summarizer.py\u001b[0m in \u001b[0;36mtrain_textrank\u001b[0;34m(self, sents, bias)\u001b[0m\n\u001b[1;32m    155\u001b[0m         \u001b[0;32mNone\u001b[0m\u001b[0;34m\u001b[0m\u001b[0;34m\u001b[0m\u001b[0m\n\u001b[1;32m    156\u001b[0m         \"\"\"\n\u001b[0;32m--> 157\u001b[0;31m         g = sent_graph(sents, self.tokenize, self.min_count,\n\u001b[0m\u001b[1;32m    158\u001b[0m             self.min_sim, self.similarity, self.vocab_to_idx, self.verbose)\n\u001b[1;32m    159\u001b[0m         \u001b[0mself\u001b[0m\u001b[0;34m.\u001b[0m\u001b[0mR\u001b[0m \u001b[0;34m=\u001b[0m \u001b[0mpagerank\u001b[0m\u001b[0;34m(\u001b[0m\u001b[0mg\u001b[0m\u001b[0;34m,\u001b[0m \u001b[0mself\u001b[0m\u001b[0;34m.\u001b[0m\u001b[0mdf\u001b[0m\u001b[0;34m,\u001b[0m \u001b[0mself\u001b[0m\u001b[0;34m.\u001b[0m\u001b[0mmax_iter\u001b[0m\u001b[0;34m,\u001b[0m \u001b[0mbias\u001b[0m\u001b[0;34m)\u001b[0m\u001b[0;34m.\u001b[0m\u001b[0mreshape\u001b[0m\u001b[0;34m(\u001b[0m\u001b[0;34m-\u001b[0m\u001b[0;36m1\u001b[0m\u001b[0;34m)\u001b[0m\u001b[0;34m\u001b[0m\u001b[0;34m\u001b[0m\u001b[0m\n",
            "\u001b[0;32m/content/textrank/textrank/sentence.py\u001b[0m in \u001b[0;36msent_graph\u001b[0;34m(sents, tokenize, min_count, min_sim, similarity, vocab_to_idx, verbose)\u001b[0m\n\u001b[1;32m     48\u001b[0m         \u001b[0mx\u001b[0m \u001b[0;34m=\u001b[0m \u001b[0mnumpy_cosine_similarity_matrix\u001b[0m\u001b[0;34m(\u001b[0m\u001b[0mx\u001b[0m\u001b[0;34m,\u001b[0m \u001b[0mmin_sim\u001b[0m\u001b[0;34m,\u001b[0m \u001b[0mverbose\u001b[0m\u001b[0;34m,\u001b[0m \u001b[0mbatch_size\u001b[0m\u001b[0;34m=\u001b[0m\u001b[0;36m1000\u001b[0m\u001b[0;34m)\u001b[0m\u001b[0;34m\u001b[0m\u001b[0;34m\u001b[0m\u001b[0m\n\u001b[1;32m     49\u001b[0m     \u001b[0;32melse\u001b[0m\u001b[0;34m:\u001b[0m\u001b[0;34m\u001b[0m\u001b[0;34m\u001b[0m\u001b[0m\n\u001b[0;32m---> 50\u001b[0;31m         \u001b[0mx\u001b[0m \u001b[0;34m=\u001b[0m \u001b[0mnumpy_textrank_similarity_matrix\u001b[0m\u001b[0;34m(\u001b[0m\u001b[0mx\u001b[0m\u001b[0;34m,\u001b[0m \u001b[0mmin_sim\u001b[0m\u001b[0;34m,\u001b[0m \u001b[0mverbose\u001b[0m\u001b[0;34m,\u001b[0m \u001b[0mbatch_size\u001b[0m\u001b[0;34m=\u001b[0m\u001b[0;36m1000\u001b[0m\u001b[0;34m)\u001b[0m\u001b[0;34m\u001b[0m\u001b[0;34m\u001b[0m\u001b[0m\n\u001b[0m\u001b[1;32m     51\u001b[0m     \u001b[0;32mreturn\u001b[0m \u001b[0mx\u001b[0m\u001b[0;34m\u001b[0m\u001b[0;34m\u001b[0m\u001b[0m\n\u001b[1;32m     52\u001b[0m \u001b[0;34m\u001b[0m\u001b[0m\n",
            "\u001b[0;32m/content/textrank/textrank/sentence.py\u001b[0m in \u001b[0;36mnumpy_textrank_similarity_matrix\u001b[0;34m(x, min_sim, verbose, min_length, batch_size)\u001b[0m\n\u001b[1;32m    117\u001b[0m \u001b[0;34m\u001b[0m\u001b[0m\n\u001b[1;32m    118\u001b[0m         \u001b[0;31m# append\u001b[0m\u001b[0;34m\u001b[0m\u001b[0;34m\u001b[0m\u001b[0m\n\u001b[0;32m--> 119\u001b[0;31m         \u001b[0mmat\u001b[0m\u001b[0;34m.\u001b[0m\u001b[0mappend\u001b[0m\u001b[0;34m(\u001b[0m\u001b[0mcsr_matrix\u001b[0m\u001b[0;34m(\u001b[0m\u001b[0;34m(\u001b[0m\u001b[0mdata\u001b[0m\u001b[0;34m,\u001b[0m \u001b[0;34m(\u001b[0m\u001b[0mrows\u001b[0m\u001b[0;34m,\u001b[0m \u001b[0mcols\u001b[0m\u001b[0;34m)\u001b[0m\u001b[0;34m)\u001b[0m\u001b[0;34m,\u001b[0m \u001b[0mshape\u001b[0m\u001b[0;34m=\u001b[0m\u001b[0;34m(\u001b[0m\u001b[0me\u001b[0m\u001b[0;34m-\u001b[0m\u001b[0mb\u001b[0m\u001b[0;34m,\u001b[0m \u001b[0mn_rows\u001b[0m\u001b[0;34m)\u001b[0m\u001b[0;34m)\u001b[0m\u001b[0;34m)\u001b[0m\u001b[0;34m\u001b[0m\u001b[0;34m\u001b[0m\u001b[0m\n\u001b[0m\u001b[1;32m    120\u001b[0m \u001b[0;34m\u001b[0m\u001b[0m\n\u001b[1;32m    121\u001b[0m         \u001b[0;32mif\u001b[0m \u001b[0mverbose\u001b[0m\u001b[0;34m:\u001b[0m\u001b[0;34m\u001b[0m\u001b[0;34m\u001b[0m\u001b[0m\n",
            "\u001b[0;32m/usr/local/lib/python3.10/dist-packages/scipy/sparse/_compressed.py\u001b[0m in \u001b[0;36m__init__\u001b[0;34m(self, arg1, shape, dtype, copy)\u001b[0m\n\u001b[1;32m     50\u001b[0m                     \u001b[0;31m# (data, ij) format\u001b[0m\u001b[0;34m\u001b[0m\u001b[0;34m\u001b[0m\u001b[0m\n\u001b[1;32m     51\u001b[0m                     other = self.__class__(\n\u001b[0;32m---> 52\u001b[0;31m                         \u001b[0mself\u001b[0m\u001b[0;34m.\u001b[0m\u001b[0m_coo_container\u001b[0m\u001b[0;34m(\u001b[0m\u001b[0marg1\u001b[0m\u001b[0;34m,\u001b[0m \u001b[0mshape\u001b[0m\u001b[0;34m=\u001b[0m\u001b[0mshape\u001b[0m\u001b[0;34m,\u001b[0m \u001b[0mdtype\u001b[0m\u001b[0;34m=\u001b[0m\u001b[0mdtype\u001b[0m\u001b[0;34m)\u001b[0m\u001b[0;34m\u001b[0m\u001b[0;34m\u001b[0m\u001b[0m\n\u001b[0m\u001b[1;32m     53\u001b[0m                     )\n\u001b[1;32m     54\u001b[0m                     \u001b[0mself\u001b[0m\u001b[0;34m.\u001b[0m\u001b[0m_set_self\u001b[0m\u001b[0;34m(\u001b[0m\u001b[0mother\u001b[0m\u001b[0;34m)\u001b[0m\u001b[0;34m\u001b[0m\u001b[0;34m\u001b[0m\u001b[0m\n",
            "\u001b[0;32m/usr/local/lib/python3.10/dist-packages/scipy/sparse/_coo.py\u001b[0m in \u001b[0;36m__init__\u001b[0;34m(self, arg1, shape, dtype, copy)\u001b[0m\n\u001b[1;32m    164\u001b[0m                 \u001b[0mself\u001b[0m\u001b[0;34m.\u001b[0m\u001b[0mrow\u001b[0m \u001b[0;34m=\u001b[0m \u001b[0mnp\u001b[0m\u001b[0;34m.\u001b[0m\u001b[0marray\u001b[0m\u001b[0;34m(\u001b[0m\u001b[0mrow\u001b[0m\u001b[0;34m,\u001b[0m \u001b[0mcopy\u001b[0m\u001b[0;34m=\u001b[0m\u001b[0mcopy\u001b[0m\u001b[0;34m,\u001b[0m \u001b[0mdtype\u001b[0m\u001b[0;34m=\u001b[0m\u001b[0midx_dtype\u001b[0m\u001b[0;34m)\u001b[0m\u001b[0;34m\u001b[0m\u001b[0;34m\u001b[0m\u001b[0m\n\u001b[1;32m    165\u001b[0m                 \u001b[0mself\u001b[0m\u001b[0;34m.\u001b[0m\u001b[0mcol\u001b[0m \u001b[0;34m=\u001b[0m \u001b[0mnp\u001b[0m\u001b[0;34m.\u001b[0m\u001b[0marray\u001b[0m\u001b[0;34m(\u001b[0m\u001b[0mcol\u001b[0m\u001b[0;34m,\u001b[0m \u001b[0mcopy\u001b[0m\u001b[0;34m=\u001b[0m\u001b[0mcopy\u001b[0m\u001b[0;34m,\u001b[0m \u001b[0mdtype\u001b[0m\u001b[0;34m=\u001b[0m\u001b[0midx_dtype\u001b[0m\u001b[0;34m)\u001b[0m\u001b[0;34m\u001b[0m\u001b[0;34m\u001b[0m\u001b[0m\n\u001b[0;32m--> 166\u001b[0;31m                 \u001b[0mself\u001b[0m\u001b[0;34m.\u001b[0m\u001b[0mdata\u001b[0m \u001b[0;34m=\u001b[0m \u001b[0mgetdata\u001b[0m\u001b[0;34m(\u001b[0m\u001b[0mobj\u001b[0m\u001b[0;34m,\u001b[0m \u001b[0mcopy\u001b[0m\u001b[0;34m=\u001b[0m\u001b[0mcopy\u001b[0m\u001b[0;34m,\u001b[0m \u001b[0mdtype\u001b[0m\u001b[0;34m=\u001b[0m\u001b[0mdtype\u001b[0m\u001b[0;34m)\u001b[0m\u001b[0;34m\u001b[0m\u001b[0;34m\u001b[0m\u001b[0m\n\u001b[0m\u001b[1;32m    167\u001b[0m                 \u001b[0mself\u001b[0m\u001b[0;34m.\u001b[0m\u001b[0mhas_canonical_format\u001b[0m \u001b[0;34m=\u001b[0m \u001b[0;32mFalse\u001b[0m\u001b[0;34m\u001b[0m\u001b[0;34m\u001b[0m\u001b[0m\n\u001b[1;32m    168\u001b[0m         \u001b[0;32melse\u001b[0m\u001b[0;34m:\u001b[0m\u001b[0;34m\u001b[0m\u001b[0;34m\u001b[0m\u001b[0m\n",
            "\u001b[0;32m/usr/local/lib/python3.10/dist-packages/scipy/sparse/_sputils.py\u001b[0m in \u001b[0;36mgetdata\u001b[0;34m(obj, dtype, copy)\u001b[0m\n\u001b[1;32m    141\u001b[0m     \u001b[0;31m# Defer to getdtype for checking that the dtype is OK.\u001b[0m\u001b[0;34m\u001b[0m\u001b[0;34m\u001b[0m\u001b[0m\n\u001b[1;32m    142\u001b[0m     \u001b[0;31m# This is called for the validation only; we don't need the return value.\u001b[0m\u001b[0;34m\u001b[0m\u001b[0;34m\u001b[0m\u001b[0m\n\u001b[0;32m--> 143\u001b[0;31m     \u001b[0mgetdtype\u001b[0m\u001b[0;34m(\u001b[0m\u001b[0mdata\u001b[0m\u001b[0;34m.\u001b[0m\u001b[0mdtype\u001b[0m\u001b[0;34m)\u001b[0m\u001b[0;34m\u001b[0m\u001b[0;34m\u001b[0m\u001b[0m\n\u001b[0m\u001b[1;32m    144\u001b[0m     \u001b[0;32mreturn\u001b[0m \u001b[0mdata\u001b[0m\u001b[0;34m\u001b[0m\u001b[0;34m\u001b[0m\u001b[0m\n\u001b[1;32m    145\u001b[0m \u001b[0;34m\u001b[0m\u001b[0m\n",
            "\u001b[0;32m/usr/local/lib/python3.10/dist-packages/scipy/sparse/_sputils.py\u001b[0m in \u001b[0;36mgetdtype\u001b[0;34m(dtype, a, default)\u001b[0m\n\u001b[1;32m    126\u001b[0m         \u001b[0mnewdtype\u001b[0m \u001b[0;34m=\u001b[0m \u001b[0mnp\u001b[0m\u001b[0;34m.\u001b[0m\u001b[0mdtype\u001b[0m\u001b[0;34m(\u001b[0m\u001b[0mdtype\u001b[0m\u001b[0;34m)\u001b[0m\u001b[0;34m\u001b[0m\u001b[0;34m\u001b[0m\u001b[0m\n\u001b[1;32m    127\u001b[0m         \u001b[0;32mif\u001b[0m \u001b[0mnewdtype\u001b[0m \u001b[0;34m==\u001b[0m \u001b[0mnp\u001b[0m\u001b[0;34m.\u001b[0m\u001b[0mobject_\u001b[0m\u001b[0;34m:\u001b[0m\u001b[0;34m\u001b[0m\u001b[0;34m\u001b[0m\u001b[0m\n\u001b[0;32m--> 128\u001b[0;31m             raise ValueError(\n\u001b[0m\u001b[1;32m    129\u001b[0m                 \u001b[0;34m\"object dtype is not supported by sparse matrices\"\u001b[0m\u001b[0;34m\u001b[0m\u001b[0;34m\u001b[0m\u001b[0m\n\u001b[1;32m    130\u001b[0m             )\n",
            "\u001b[0;31mValueError\u001b[0m: object dtype is not supported by sparse matrices"
          ]
        }
      ]
    },
    {
      "cell_type": "code",
      "source": [
        "print(janghak_copy.loc[299, 'content'])"
      ],
      "metadata": {
        "id": "U1zJ_i4gVADI"
      },
      "execution_count": null,
      "outputs": []
    },
    {
      "cell_type": "code",
      "source": [
        "# 요약 함수 정의 _ 문장 하나만 실행하기\n",
        "def summarize_content(content):\n",
        "    # 'content'가 비어있는지 확인\n",
        "    if not content.strip():\n",
        "        return []  # 빈 리스트 반환\n",
        "\n",
        "    # 줄바꿈과 온점을 기준으로 문자열 분리하여 리스트에 저장\n",
        "    sents = re.split(r'\\n|\\.', content)\n",
        "\n",
        "    # 빈 문자열 제거\n",
        "    sents = list(filter(None, sents))\n",
        "\n",
        "    # 공백만 있는 문자열 제거\n",
        "    sents = [sent for sent in sents if sent.strip()]\n",
        "\n",
        "    # 한 줄만 존재하는 문장이면 빈 리스트 반환\n",
        "    if len(sents) == 1:\n",
        "        return []\n",
        "\n",
        "    # 요약 수행\n",
        "    keysents = summarizer.summarize(sents, topk=3)\n",
        "\n",
        "    # 요약된 문장 리스트로 반환\n",
        "    return [item[2] for item in keysents]  # keysents의 3번째 요소가 문장이라고 가정\n",
        "\n",
        "# 특정 셀에 함수 적용\n",
        "content = janghak_copy.loc[298, 'content']\n",
        "summarized_content = summarize_content(content)\n",
        "\n",
        "# 결과 출력\n",
        "print(summarized_content)"
      ],
      "metadata": {
        "id": "H33_Cwmfylki",
        "colab": {
          "base_uri": "https://localhost:8080/"
        },
        "outputId": "58dcafd1-406e-4eb5-facc-bc1beeee54c3"
      },
      "execution_count": null,
      "outputs": [
        {
          "output_type": "stream",
          "name": "stdout",
          "text": [
            "['2021년 1학기 농림축산식품부 장학금 중 「청년창업농육성장학생」을 다음과 같이 선발하고자 하니 대학생 여러분의 많은 참여를 바랍니다', '□ 지원내용 : 매학기 장학금(등록금 전액 + 학업장려금 200만원) ', '○ 신청 전 반드시 선발안내문을 통해 장학생 선발요건 및 신청 방법, 제출서류 등 세부사항 확인 요망']\n"
          ]
        }
      ]
    },
    {
      "cell_type": "markdown",
      "source": [
        "#### 요약 함수 출력 끗"
      ],
      "metadata": {
        "id": "ruXhbiMVTSzV"
      }
    },
    {
      "cell_type": "code",
      "source": [
        "content = janghak_copy.loc[300, 'content']"
      ],
      "metadata": {
        "id": "O_Jz-TDoV7I4"
      },
      "execution_count": null,
      "outputs": []
    },
    {
      "cell_type": "code",
      "source": [
        "# 에러 방지를 위한 빈 문자열 제거\n",
        "\n",
        "sents = re.split(r'\\n|\\.', content)\n",
        "# 빈 문자열 제거\n",
        "sents = list(filter(None, sents))\n",
        "\n",
        "# 공백만 있는 문자열 제거\n",
        "sents = [sent for sent in sents if sent.strip()]\n",
        "\n",
        "# 공백만 있는 문자열 제거\n",
        "sents = [sent for sent in sents if sent.strip()]\n",
        "\n",
        "# 한 줄만 존재하는 문장이면 빈 리스트 반환\n",
        "if len(sents) == 1:\n",
        "  sents =[]\n",
        "# 요약 수행\n",
        "keysents = summarizer.summarize(sents, topk=1)\n",
        "keysents"
      ],
      "metadata": {
        "id": "FJMhzKbuW0BY",
        "colab": {
          "base_uri": "https://localhost:8080/"
        },
        "outputId": "9dc90648-19c4-4939-8fa3-f649ac380253"
      },
      "execution_count": null,
      "outputs": [
        {
          "output_type": "execute_result",
          "data": {
            "text/plain": [
              "[(1,\n",
              "  1.3522548323550878,\n",
              "  '아래와 같이 2021학년도 대학생 청소년교육지원장학금멘토 학생을 모집하니 관심있는 외대 학생들의많은 지원 바랍니다')]"
            ]
          },
          "metadata": {},
          "execution_count": 22
        }
      ]
    },
    {
      "cell_type": "code",
      "source": [
        "sents\n"
      ],
      "metadata": {
        "id": "7mwUSFmvW8RI",
        "colab": {
          "base_uri": "https://localhost:8080/"
        },
        "outputId": "57fe9fde-0ed2-45de-dc83-8027d2591b57"
      },
      "execution_count": null,
      "outputs": [
        {
          "output_type": "execute_result",
          "data": {
            "text/plain": [
              "['2021년 대학생 청소년교육지원장학금 멘토모집 안내 ',\n",
              " '아래와 같이 2021학년도 대학생 청소년교육지원장학금멘토 학생을 모집하니 관심있는 외대 학생들의많은 지원 바랍니다',\n",
              " '- 아 래 -',\n",
              " '1',\n",
              " ' 모집기간 : 2021',\n",
              " ' 3',\n",
              " ' 2(화) ~ 3',\n",
              " ' 21(일)(* 3월 22일이후 신청자의 경우 선발 심사에 반영되지 않을 수 있음)',\n",
              " '2',\n",
              " ' 신청유형 : B형(멘토 발굴형)',\n",
              " '3',\n",
              " ' 선발기준',\n",
              " ' 가',\n",
              " ' 직전학기 성적 백분위 70점 이상인 자(학자금 지원구간 무관/신',\n",
              " '편입생 성적기준 제외)',\n",
              " '나',\n",
              " '봉사역량 우수자 우대(봉사기간, 지속성)',\n",
              " ' 다',\n",
              " ' 자기소개, 지원동기, 성적 및 전공 관련 등을 종합적으로 평가하여 선발',\n",
              " ' 라',\n",
              " ' 초과학기자(9학기 이상), 휴학생 참여 불가, 타 대학생 근로장학사업(국가근로장학금, 다문화⦁탈북학생 멘토링장학금)과 중복 참여 불가',\n",
              " '4',\n",
              " ' 선발 인원 :5명내외',\n",
              " '5',\n",
              " ' 활동가능기간 :2021',\n",
              " ' 4',\n",
              " ' 1(목) ~ 2022',\n",
              " ' 1',\n",
              " ' 31(월)',\n",
              " '*상황에 따라 활동 시작/종료일 상이, 2학기 재모집 가능',\n",
              " '6',\n",
              " ' 활동가능시간 : 학기 중 주당 최대 10시간, 방학 중 주당 최대 25시간',\n",
              " ' * 활동인원에 따라 활동시간 변동 가능',\n",
              " '7',\n",
              " ' 활동비 : 시간 당 11,150원(*최소활동 시간이 10시간 이상일 때 지급 가능)',\n",
              " '8',\n",
              " '신청방법 및 제출서류',\n",
              " ' 가',\n",
              " '신청방법 : 한국장학재단 홈페이지 신청(첨부 참조)',\n",
              " ' 나',\n",
              " ' 제출서류 : 봉사활동증명서 등(해당자, 별도양식 없음)',\n",
              " '9',\n",
              " ' 선발결과 :3월 27일 이전 선발자 대상으로 개별연락',\n",
              " '10',\n",
              " ' 유의사항',\n",
              " ' 가',\n",
              " ' 우리 대학은 멘토 발굴형으로 학생이 직접 기관을 발굴하여 활동해야 하오니 사전에 협의 요망(첨부 참조:20년 자료 동일 함',\n",
              " ')',\n",
              " ' 나',\n",
              " ' 대학생 청소년교육지원장학금 또한 장학금으로 교육비납입증명서에 반영, 해당 장학수혜금액만큼 교육비공제를 받을 수 없습니다',\n",
              " '2021',\n",
              " ' 3',\n",
              " '장학팀']"
            ]
          },
          "metadata": {},
          "execution_count": 27
        }
      ]
    },
    {
      "cell_type": "code",
      "source": [
        "\n",
        "# 요약 함수 정의\n",
        "def summarize_content(index, content):\n",
        "    # 'content'가 비어있는지 확인\n",
        "    if not content:\n",
        "        print(index, \"Content is empty or only whitespace.\")\n",
        "        return []  # 빈 리스트 반환\n",
        "\n",
        "    # 리스트의 항목들을 하나의 문자열로 결합\n",
        "    if isinstance(content, list):\n",
        "        content = ' '.join(content)\n",
        "\n",
        "    # 'content'가 비어있는지 다시 확인 (공백제거 후)\n",
        "    if not content.strip():\n",
        "        print(index, \"Content is empty or only whitespace after joining.\")\n",
        "        return []  # 빈 리스트 반환\n",
        "\n",
        "    # 줄바꿈과 온점을 기준으로 문자열 분리하여 리스트에 저장\n",
        "    sents = re.split(r'\\n|\\.', content)\n",
        "\n",
        "    # 빈 문자열 제거\n",
        "    sents = list(filter(None, sents))\n",
        "\n",
        "    # 공백만 있는 문자열 제거\n",
        "    sents = [sent for sent in sents if sent.strip()]\n",
        "\n",
        "    # 문장이 없으면 빈 리스트 반환\n",
        "    if not sents:\n",
        "        print(index, \"No valid sentences after splitting.\")\n",
        "        return []\n",
        "\n",
        "    # 한 줄만 존재하는 문장이면 빈 리스트 반환 _ 이거 하니 오류 안나고 다돌아가는 것 같기도\n",
        "    if len(sents) == 1:\n",
        "        print(index, \"Only one valid sentence.\")\n",
        "        return []\n",
        "\n",
        "    return sents\n",
        "\n",
        "# 특정 셀에 함수 적용\n",
        "index = 299\n",
        "content = janghak_copy.loc[index, 'content']\n",
        "summarized_content = summarize_content(index, content)\n",
        "\n",
        "# 결과 출력\n",
        "print(summarized_content)\n"
      ],
      "metadata": {
        "id": "X3BzXvnfeH9s",
        "colab": {
          "base_uri": "https://localhost:8080/"
        },
        "outputId": "277f3e0d-2800-4660-9de5-4c56b5f8c164"
      },
      "execution_count": null,
      "outputs": [
        {
          "output_type": "stream",
          "name": "stdout",
          "text": [
            "['붙임의 서류를 갖추어 21년도 제29기세아해암 학술장학재단 장학생 모집안내를 하외 외대 학생들의 많은 지원 바랍니다', '붙 임 모집요강 1부', ' 끝']\n"
          ]
        }
      ]
    },
    {
      "cell_type": "code",
      "source": [
        "keywordsents = ['붙임의 서류를 갖추어 21년도 제29기세아해암 학술장학재단 장학생 모집안내를 하외 외대 학생들의 많은 지원 바랍니다', '붙 임 모집요강 1부', ' 끝']\n",
        "\n",
        "# 각 요소가 문자열인지 확인하고 문자열로 변환\n",
        "keywordsents = [str(sent) for sent in keywordsents]\n",
        "\n",
        "# 변환된 데이터를 summarizer.summarize 함수에 전달\n",
        "keysents = summarizer.summarize(keywordsents, topk=1)\n"
      ],
      "metadata": {
        "id": "9AA4Aizfeqzc"
      },
      "execution_count": null,
      "outputs": []
    },
    {
      "cell_type": "code",
      "source": [],
      "metadata": {
        "id": "O84NzDtRfEl8"
      },
      "execution_count": null,
      "outputs": []
    },
    {
      "cell_type": "markdown",
      "source": [
        "# 에러나는 행 정리"
      ],
      "metadata": {
        "id": "oLzDgmqlgb74"
      }
    },
    {
      "cell_type": "markdown",
      "source": [
        "## 장학\n"
      ],
      "metadata": {
        "id": "qXh9PNrLVCi7"
      }
    },
    {
      "cell_type": "markdown",
      "source": [
        "#### 오류 리스트\n",
        "- 7 /1259"
      ],
      "metadata": {
        "id": "O_7i_oQKwLoS"
      }
    },
    {
      "cell_type": "markdown",
      "source": [
        "1. janghak_copy.loc[299]\n",
        "  - [공통][교외][교외]21학년도 제29기 세아해암 장학생 모집안내, Summarizer error: object dtype is not supported by sparse matrices\n",
        "\n",
        "2. janghak_copy.loc[531]\n",
        "  - [공통][국가]22-1 국가장학금 신청마감 D-7(12/30)까지, Summarizer error: object dtype is not supported by sparse matrices\n",
        "\n",
        "3. janghak_copy.loc[537]\n",
        "  - [공통][국가]22-1 국가장학금 신청마감 D-3(12/30)까지, Summarizer error: object dtype is not supported by sparse matrices\n",
        "\n",
        "4. janghak_copy.loc[1065]\n",
        "  - [공통][교외] 소나무 장학금 2023년 장학생 선발안내(7/17~7/25), Summarizer error: object dtype is not supported by sparse matrices\n",
        "\n",
        "5. janghak_copy.loc[1083]\n",
        "  - [공통][교외] 2023년 정읍시민장학재단 장학생 선발안내(7/17~7/26), Summarizer error: object dtype is not supported by sparse matrices\n",
        "\n",
        "6. janghak_copy.loc[1085]\n",
        "  - [공통][교외] 서울장학재단 2023년 서울희망 대학 진로 장학금 장학생 선발안내(7/24~7/31), Summarizer error: object dtype is not supported by sparse matrices\n",
        "\n",
        "7. janghak_copy.loc[1128]\n",
        "  - [공통][교외] 춘천시민장학재단 2023년도 하반기 장학생 선발공고, Summarizer error: object dtype is not supported by sparse matrices"
      ],
      "metadata": {
        "id": "d0STsRzKZ2FZ"
      }
    },
    {
      "cell_type": "markdown",
      "source": [
        "### 코드"
      ],
      "metadata": {
        "id": "V20HyJM5wOvp"
      }
    },
    {
      "cell_type": "code",
      "source": [
        "ex = janghak_copy.loc[1128,'content']\n",
        "print(ex)"
      ],
      "metadata": {
        "colab": {
          "base_uri": "https://localhost:8080/"
        },
        "id": "iB3QY9beoeFC",
        "outputId": "730136a8-cda6-492c-c0b5-690f4042efd9"
      },
      "execution_count": null,
      "outputs": [
        {
          "output_type": "stream",
          "name": "stdout",
          "text": [
            "\n",
            "붙임의 서류를 갖추어 재단법인 춘천시민장학재단의 2023년도 하반기 장학생 선발안내를 하니 한국외대 학생들의많은 지원 바랍니다.붙 임 선발 공고문 1부. 끝.\n",
            "\n"
          ]
        }
      ]
    },
    {
      "cell_type": "code",
      "source": [
        "import re\n",
        "import pandas as pd\n",
        "\n",
        "# 에러 카운트 변수 초기화\n",
        "cnt_error = 0\n",
        "\n",
        "# 요약 함수 정의\n",
        "def summarize_content(title, content):\n",
        "    global cnt_error  # 전역 변수로 cnt_error를 사용\n",
        "\n",
        "    if not content:\n",
        "        return []\n",
        "\n",
        "    if isinstance(content, list):\n",
        "        content = ' '.join(content)\n",
        "\n",
        "    if not content.strip():\n",
        "        return []\n",
        "\n",
        "    sents = re.split(r'\\n|\\.', content)\n",
        "\n",
        "    sents = list(filter(None, sents))\n",
        "\n",
        "    sents = [sent for sent in sents if sent.strip()]\n",
        "\n",
        "    if not sents:\n",
        "        return []\n",
        "\n",
        "    if len(sents) == 1:\n",
        "        return sents\n",
        "\n",
        "    # 요약 수행\n",
        "    try:\n",
        "        keysents = summarizer.summarize(sents, topk=3)\n",
        "    except ValueError as e:\n",
        "        # 요약 도중 에러 발생시 빈 리스트 반환\n",
        "        cnt_error += 1\n",
        "        print(f\"{cnt_error}. {title}, Summarizer error: {e}\")\n",
        "        return []\n",
        "\n",
        "    return [item[2] for item in keysents]\n",
        "\n",
        "#  코드 실행\n",
        "janghak_copy['summarize_content'] = janghak_copy.apply(lambda row: summarize_content(row['title'], row['content']), axis=1)\n",
        "\n",
        "# 결과 출력\n",
        "print(janghak_copy['summarize_content'])\n"
      ],
      "metadata": {
        "colab": {
          "base_uri": "https://localhost:8080/"
        },
        "id": "YTppI829C6vp",
        "outputId": "c15e7ccb-dde6-4502-cf73-71481084c073"
      },
      "execution_count": null,
      "outputs": [
        {
          "output_type": "stream",
          "name": "stdout",
          "text": [
            "1. [공통][교외][교외]21학년도 제29기 세아해암 장학생 모집안내, Summarizer error: object dtype is not supported by sparse matrices\n",
            "2. [공통][국가]22-1 국가장학금 신청마감 D-7(12/30)까지, Summarizer error: object dtype is not supported by sparse matrices\n",
            "3. [공통][국가]22-1 국가장학금 신청마감 D-3(12/30)까지, Summarizer error: object dtype is not supported by sparse matrices\n",
            "4. [공통][교외] 소나무 장학금 2023년 장학생 선발안내(7/17~7/25), Summarizer error: object dtype is not supported by sparse matrices\n",
            "5. [공통][교외] 2023년 정읍시민장학재단 장학생 선발안내(7/17~7/26), Summarizer error: object dtype is not supported by sparse matrices\n",
            "6. [공통][교외] 서울장학재단 2023년 서울희망 대학 진로 장학금 장학생 선발안내(7/24~7/31), Summarizer error: object dtype is not supported by sparse matrices\n",
            "7. [공통][교외] 춘천시민장학재단 2023년도 하반기 장학생 선발공고, Summarizer error: object dtype is not supported by sparse matrices\n",
            "0       [ 장학생 추천서(붙임파일 참조, 남정장학재단 홈페이지 다운로드 가능, 추천소견 및...\n",
            "1       [ ※ 1차 신청기간 중 군에 있어 융자신청을 못한 군 제대 복학자의 경우, 재학생...\n",
            "2       [ 제출서류  1) 1차 서류(실로암시각장애인복지관 홈페이지에서 양식 다운이 가능합...\n",
            "3       [(1차 등록기간에 대출 실행 시 등록금 전액으로 대출되므로 9학기 이하 수강자의 ...\n",
            "4       [- 온라인(24일 18시까지 신청 가능) : 천안시 홈페이지 > 분야별 정보 > ...\n",
            "                              ...                        \n",
            "1255    [*타 장학금 수혜내역이 있는 학생의 경우,선발 후 권순한 장학금 수혜액과 합쳐서 ...\n",
            "1256    [*선발시 기부자(이덕선 이사장님,캐서린 여사님)감사편지(자필)제출 필수/장학금 전...\n",
            "1257    [아래와 같이2024년 최언도(독일어59)장학금 장학생 모집을 하오니 해당되는 재학...\n",
            "1258    [*타 장학금 수혜내역이 있는 학생의 경우,선발 후 윤강로 장학금 수혜액과 합쳐서 ...\n",
            "1259    [아래와 같이2024-1학기故장경자 장학금 장학생 모집을 하오니 해당되는 재학생들의...\n",
            "Name: summarize_content, Length: 1260, dtype: object\n"
          ]
        }
      ]
    },
    {
      "cell_type": "code",
      "source": [
        "# 인덱스 번호 검색하기\n",
        "index = janghak_copy[janghak_copy['title'] == \"[공통][교외] 춘천시민장학재단 2023년도 하반기 장학생 선발공고\"].index\n",
        "print(index)\n"
      ],
      "metadata": {
        "colab": {
          "base_uri": "https://localhost:8080/"
        },
        "id": "4a6yTc5Lj4Eg",
        "outputId": "5d6b5af7-e79a-4bf0-de1d-896e16768e8e"
      },
      "execution_count": null,
      "outputs": [
        {
          "output_type": "stream",
          "name": "stdout",
          "text": [
            "Index([1128], dtype='int64')\n"
          ]
        }
      ]
    },
    {
      "cell_type": "code",
      "source": [
        "# 인덱스 확인\n",
        "janghak_copy.loc[1128]"
      ],
      "metadata": {
        "colab": {
          "base_uri": "https://localhost:8080/"
        },
        "id": "NiMhdamhmAah",
        "outputId": "b03348c7-00ee-4258-a369-5c631a5613d0"
      },
      "execution_count": null,
      "outputs": [
        {
          "output_type": "execute_result",
          "data": {
            "text/plain": [
              "index                                                             1131\n",
              "date                                                        2023-09-06\n",
              "title                            [공통][교외] 춘천시민장학재단 2023년도 하반기 장학생 선발공고\n",
              "content              \\n붙임의 서류를 갖추어 재단법인 춘천시민장학재단의 2023년도 하반기 장학생 선발...\n",
              "summarize_content                                                   []\n",
              "Name: 1128, dtype: object"
            ]
          },
          "metadata": {},
          "execution_count": 26
        }
      ]
    },
    {
      "cell_type": "code",
      "source": [
        "janghak_copy"
      ],
      "metadata": {
        "colab": {
          "base_uri": "https://localhost:8080/",
          "height": 597
        },
        "id": "KQqeU48OZmMT",
        "outputId": "6e0865e6-6dac-44a9-f734-6a202ea1c281"
      },
      "execution_count": null,
      "outputs": [
        {
          "output_type": "execute_result",
          "data": {
            "text/plain": [
              "      index        date                                              title  \\\n",
              "0         1  2020-01-02          [공통][교외] 2020-1학기 남정장학재단 장학생 모집 안내(~1/10)   \n",
              "1         2  2020-01-02       [공통] [대출] 2020년 1학기 농촌출신대학생 학자금융자(무이자) 지원 안내   \n",
              "2         3  2020-01-07  [공통][교외] 2020년 상반기 시각장애대학생을 위한 [효명장학사업] 안내(~1/23)   \n",
              "3         7  2020-01-08              [공통] [대출] 2020-1학기 한국장학재단 학자금대출 신청 안내   \n",
              "4         4  2020-01-08         [공통] [대출] 2019년 하반기 천안시 대학생 학자금 대출이자 지원 안내   \n",
              "...     ...         ...                                                ...   \n",
              "1255   1256  2024-03-28              [공통][교내]2024-1 권순한 장학금 장학생 모집안내(~4/5)   \n",
              "1256   1257  2024-03-28  [공통][교내]2024년 Matthew D. Lee & Katherine H. Le...   \n",
              "1257   1258  2024-03-28                [공통][교내]2024년 최언도 장학금 장학생 모집(~4/12)   \n",
              "1258   1260  2024-03-28            [공통][교내]2024-1 윤강로 장학금 장학생 모집 안내(~4/17)   \n",
              "1259   1259  2024-03-28           [공통][교내]2024-1 故장경자 장학금 장학생 모집 안내(~4/17)   \n",
              "\n",
              "                                                content  \\\n",
              "0     \\n[공통][교외] 2020-1학기 남정장학재단 장학생 모집 안내(~1/10)아래와...   \n",
              "1     \\n\\n2020년 1학기 농촌출신대학생 학자금융자(무이자) 지원 안내\\n\\n \\n사...   \n",
              "2     \\n2020년 상반기 시각장애대학생을 위한 [효명장학사업] 안내 실로암시각장애인복지...   \n",
              "3     \\n2020-1학기 한국장학재단 학자금대출 신청 안내\\n \\n1. 신청 및 실행 일...   \n",
              "4     \\n2019년 하반기 천안시 대학생 학자금 대출이자 지원 안내\\n\\n\\n✿ 신청 기...   \n",
              "...                                                 ...   \n",
              "1255  \\n2024년 권순한 장학금 장학생 모집 안내\\n\\n아래와 같이2024년 권순한(스...   \n",
              "1256  \\n2024년Matthew D. Lee & Katherine H. Lee장학금 장학...   \n",
              "1257  \\n2024년 최언도 장학금 장학생 모집 안내\\n\\n아래와 같이2024년 최언도(독...   \n",
              "1258  \\n2024-1윤강로 장학금 장학생 모집 안내\\n\\n아래와 같이2024-1학기 윤강...   \n",
              "1259  \\n2024-1故장경자 장학금 장학생 모집 안내\\n\\n아래와 같이2024-1학기故장...   \n",
              "\n",
              "                                      summarize_content  \n",
              "0     [ 장학생 추천서(붙임파일 참조, 남정장학재단 홈페이지 다운로드 가능, 추천소견 및...  \n",
              "1     [ ※ 1차 신청기간 중 군에 있어 융자신청을 못한 군 제대 복학자의 경우, 재학생...  \n",
              "2     [ 제출서류  1) 1차 서류(실로암시각장애인복지관 홈페이지에서 양식 다운이 가능합...  \n",
              "3     [(1차 등록기간에 대출 실행 시 등록금 전액으로 대출되므로 9학기 이하 수강자의 ...  \n",
              "4     [- 온라인(24일 18시까지 신청 가능) : 천안시 홈페이지 > 분야별 정보 > ...  \n",
              "...                                                 ...  \n",
              "1255  [*타 장학금 수혜내역이 있는 학생의 경우,선발 후 권순한 장학금 수혜액과 합쳐서 ...  \n",
              "1256  [장학금 지원서1부(HUFS Ability다운로드), *선발시 기부자(이덕선 이사장...  \n",
              "1257  [장학금 지원서1부(HUFS Ability다운로드), 아래와 같이2024년 최언도(...  \n",
              "1258  [아래와 같이2024-1학기 윤강로(인도어77)장학금 장학생 모집을 하오니 해당되는...  \n",
              "1259  [아래와 같이2024-1학기故장경자 장학금 장학생 모집을 하오니 해당되는 재학생들의...  \n",
              "\n",
              "[1260 rows x 5 columns]"
            ],
            "text/html": [
              "\n",
              "  <div id=\"df-c8c65175-a1db-4257-ba96-1eedacc76152\" class=\"colab-df-container\">\n",
              "    <div>\n",
              "<style scoped>\n",
              "    .dataframe tbody tr th:only-of-type {\n",
              "        vertical-align: middle;\n",
              "    }\n",
              "\n",
              "    .dataframe tbody tr th {\n",
              "        vertical-align: top;\n",
              "    }\n",
              "\n",
              "    .dataframe thead th {\n",
              "        text-align: right;\n",
              "    }\n",
              "</style>\n",
              "<table border=\"1\" class=\"dataframe\">\n",
              "  <thead>\n",
              "    <tr style=\"text-align: right;\">\n",
              "      <th></th>\n",
              "      <th>index</th>\n",
              "      <th>date</th>\n",
              "      <th>title</th>\n",
              "      <th>content</th>\n",
              "      <th>summarize_content</th>\n",
              "    </tr>\n",
              "  </thead>\n",
              "  <tbody>\n",
              "    <tr>\n",
              "      <th>0</th>\n",
              "      <td>1</td>\n",
              "      <td>2020-01-02</td>\n",
              "      <td>[공통][교외] 2020-1학기 남정장학재단 장학생 모집 안내(~1/10)</td>\n",
              "      <td>\\n[공통][교외] 2020-1학기 남정장학재단 장학생 모집 안내(~1/10)아래와...</td>\n",
              "      <td>[ 장학생 추천서(붙임파일 참조, 남정장학재단 홈페이지 다운로드 가능, 추천소견 및...</td>\n",
              "    </tr>\n",
              "    <tr>\n",
              "      <th>1</th>\n",
              "      <td>2</td>\n",
              "      <td>2020-01-02</td>\n",
              "      <td>[공통] [대출] 2020년 1학기 농촌출신대학생 학자금융자(무이자) 지원 안내</td>\n",
              "      <td>\\n\\n2020년 1학기 농촌출신대학생 학자금융자(무이자) 지원 안내\\n\\n \\n사...</td>\n",
              "      <td>[ ※ 1차 신청기간 중 군에 있어 융자신청을 못한 군 제대 복학자의 경우, 재학생...</td>\n",
              "    </tr>\n",
              "    <tr>\n",
              "      <th>2</th>\n",
              "      <td>3</td>\n",
              "      <td>2020-01-07</td>\n",
              "      <td>[공통][교외] 2020년 상반기 시각장애대학생을 위한 [효명장학사업] 안내(~1/23)</td>\n",
              "      <td>\\n2020년 상반기 시각장애대학생을 위한 [효명장학사업] 안내 실로암시각장애인복지...</td>\n",
              "      <td>[ 제출서류  1) 1차 서류(실로암시각장애인복지관 홈페이지에서 양식 다운이 가능합...</td>\n",
              "    </tr>\n",
              "    <tr>\n",
              "      <th>3</th>\n",
              "      <td>7</td>\n",
              "      <td>2020-01-08</td>\n",
              "      <td>[공통] [대출] 2020-1학기 한국장학재단 학자금대출 신청 안내</td>\n",
              "      <td>\\n2020-1학기 한국장학재단 학자금대출 신청 안내\\n \\n1. 신청 및 실행 일...</td>\n",
              "      <td>[(1차 등록기간에 대출 실행 시 등록금 전액으로 대출되므로 9학기 이하 수강자의 ...</td>\n",
              "    </tr>\n",
              "    <tr>\n",
              "      <th>4</th>\n",
              "      <td>4</td>\n",
              "      <td>2020-01-08</td>\n",
              "      <td>[공통] [대출] 2019년 하반기 천안시 대학생 학자금 대출이자 지원 안내</td>\n",
              "      <td>\\n2019년 하반기 천안시 대학생 학자금 대출이자 지원 안내\\n\\n\\n✿ 신청 기...</td>\n",
              "      <td>[- 온라인(24일 18시까지 신청 가능) : 천안시 홈페이지 &gt; 분야별 정보 &gt; ...</td>\n",
              "    </tr>\n",
              "    <tr>\n",
              "      <th>...</th>\n",
              "      <td>...</td>\n",
              "      <td>...</td>\n",
              "      <td>...</td>\n",
              "      <td>...</td>\n",
              "      <td>...</td>\n",
              "    </tr>\n",
              "    <tr>\n",
              "      <th>1255</th>\n",
              "      <td>1256</td>\n",
              "      <td>2024-03-28</td>\n",
              "      <td>[공통][교내]2024-1 권순한 장학금 장학생 모집안내(~4/5)</td>\n",
              "      <td>\\n2024년 권순한 장학금 장학생 모집 안내\\n\\n아래와 같이2024년 권순한(스...</td>\n",
              "      <td>[*타 장학금 수혜내역이 있는 학생의 경우,선발 후 권순한 장학금 수혜액과 합쳐서 ...</td>\n",
              "    </tr>\n",
              "    <tr>\n",
              "      <th>1256</th>\n",
              "      <td>1257</td>\n",
              "      <td>2024-03-28</td>\n",
              "      <td>[공통][교내]2024년 Matthew D. Lee &amp; Katherine H. Le...</td>\n",
              "      <td>\\n2024년Matthew D. Lee &amp; Katherine H. Lee장학금 장학...</td>\n",
              "      <td>[장학금 지원서1부(HUFS Ability다운로드), *선발시 기부자(이덕선 이사장...</td>\n",
              "    </tr>\n",
              "    <tr>\n",
              "      <th>1257</th>\n",
              "      <td>1258</td>\n",
              "      <td>2024-03-28</td>\n",
              "      <td>[공통][교내]2024년 최언도 장학금 장학생 모집(~4/12)</td>\n",
              "      <td>\\n2024년 최언도 장학금 장학생 모집 안내\\n\\n아래와 같이2024년 최언도(독...</td>\n",
              "      <td>[장학금 지원서1부(HUFS Ability다운로드), 아래와 같이2024년 최언도(...</td>\n",
              "    </tr>\n",
              "    <tr>\n",
              "      <th>1258</th>\n",
              "      <td>1260</td>\n",
              "      <td>2024-03-28</td>\n",
              "      <td>[공통][교내]2024-1 윤강로 장학금 장학생 모집 안내(~4/17)</td>\n",
              "      <td>\\n2024-1윤강로 장학금 장학생 모집 안내\\n\\n아래와 같이2024-1학기 윤강...</td>\n",
              "      <td>[아래와 같이2024-1학기 윤강로(인도어77)장학금 장학생 모집을 하오니 해당되는...</td>\n",
              "    </tr>\n",
              "    <tr>\n",
              "      <th>1259</th>\n",
              "      <td>1259</td>\n",
              "      <td>2024-03-28</td>\n",
              "      <td>[공통][교내]2024-1 故장경자 장학금 장학생 모집 안내(~4/17)</td>\n",
              "      <td>\\n2024-1故장경자 장학금 장학생 모집 안내\\n\\n아래와 같이2024-1학기故장...</td>\n",
              "      <td>[아래와 같이2024-1학기故장경자 장학금 장학생 모집을 하오니 해당되는 재학생들의...</td>\n",
              "    </tr>\n",
              "  </tbody>\n",
              "</table>\n",
              "<p>1260 rows × 5 columns</p>\n",
              "</div>\n",
              "    <div class=\"colab-df-buttons\">\n",
              "\n",
              "  <div class=\"colab-df-container\">\n",
              "    <button class=\"colab-df-convert\" onclick=\"convertToInteractive('df-c8c65175-a1db-4257-ba96-1eedacc76152')\"\n",
              "            title=\"Convert this dataframe to an interactive table.\"\n",
              "            style=\"display:none;\">\n",
              "\n",
              "  <svg xmlns=\"http://www.w3.org/2000/svg\" height=\"24px\" viewBox=\"0 -960 960 960\">\n",
              "    <path d=\"M120-120v-720h720v720H120Zm60-500h600v-160H180v160Zm220 220h160v-160H400v160Zm0 220h160v-160H400v160ZM180-400h160v-160H180v160Zm440 0h160v-160H620v160ZM180-180h160v-160H180v160Zm440 0h160v-160H620v160Z\"/>\n",
              "  </svg>\n",
              "    </button>\n",
              "\n",
              "  <style>\n",
              "    .colab-df-container {\n",
              "      display:flex;\n",
              "      gap: 12px;\n",
              "    }\n",
              "\n",
              "    .colab-df-convert {\n",
              "      background-color: #E8F0FE;\n",
              "      border: none;\n",
              "      border-radius: 50%;\n",
              "      cursor: pointer;\n",
              "      display: none;\n",
              "      fill: #1967D2;\n",
              "      height: 32px;\n",
              "      padding: 0 0 0 0;\n",
              "      width: 32px;\n",
              "    }\n",
              "\n",
              "    .colab-df-convert:hover {\n",
              "      background-color: #E2EBFA;\n",
              "      box-shadow: 0px 1px 2px rgba(60, 64, 67, 0.3), 0px 1px 3px 1px rgba(60, 64, 67, 0.15);\n",
              "      fill: #174EA6;\n",
              "    }\n",
              "\n",
              "    .colab-df-buttons div {\n",
              "      margin-bottom: 4px;\n",
              "    }\n",
              "\n",
              "    [theme=dark] .colab-df-convert {\n",
              "      background-color: #3B4455;\n",
              "      fill: #D2E3FC;\n",
              "    }\n",
              "\n",
              "    [theme=dark] .colab-df-convert:hover {\n",
              "      background-color: #434B5C;\n",
              "      box-shadow: 0px 1px 3px 1px rgba(0, 0, 0, 0.15);\n",
              "      filter: drop-shadow(0px 1px 2px rgba(0, 0, 0, 0.3));\n",
              "      fill: #FFFFFF;\n",
              "    }\n",
              "  </style>\n",
              "\n",
              "    <script>\n",
              "      const buttonEl =\n",
              "        document.querySelector('#df-c8c65175-a1db-4257-ba96-1eedacc76152 button.colab-df-convert');\n",
              "      buttonEl.style.display =\n",
              "        google.colab.kernel.accessAllowed ? 'block' : 'none';\n",
              "\n",
              "      async function convertToInteractive(key) {\n",
              "        const element = document.querySelector('#df-c8c65175-a1db-4257-ba96-1eedacc76152');\n",
              "        const dataTable =\n",
              "          await google.colab.kernel.invokeFunction('convertToInteractive',\n",
              "                                                    [key], {});\n",
              "        if (!dataTable) return;\n",
              "\n",
              "        const docLinkHtml = 'Like what you see? Visit the ' +\n",
              "          '<a target=\"_blank\" href=https://colab.research.google.com/notebooks/data_table.ipynb>data table notebook</a>'\n",
              "          + ' to learn more about interactive tables.';\n",
              "        element.innerHTML = '';\n",
              "        dataTable['output_type'] = 'display_data';\n",
              "        await google.colab.output.renderOutput(dataTable, element);\n",
              "        const docLink = document.createElement('div');\n",
              "        docLink.innerHTML = docLinkHtml;\n",
              "        element.appendChild(docLink);\n",
              "      }\n",
              "    </script>\n",
              "  </div>\n",
              "\n",
              "\n",
              "<div id=\"df-d4a11d5f-d897-4d71-9a72-1e79634e0e06\">\n",
              "  <button class=\"colab-df-quickchart\" onclick=\"quickchart('df-d4a11d5f-d897-4d71-9a72-1e79634e0e06')\"\n",
              "            title=\"Suggest charts\"\n",
              "            style=\"display:none;\">\n",
              "\n",
              "<svg xmlns=\"http://www.w3.org/2000/svg\" height=\"24px\"viewBox=\"0 0 24 24\"\n",
              "     width=\"24px\">\n",
              "    <g>\n",
              "        <path d=\"M19 3H5c-1.1 0-2 .9-2 2v14c0 1.1.9 2 2 2h14c1.1 0 2-.9 2-2V5c0-1.1-.9-2-2-2zM9 17H7v-7h2v7zm4 0h-2V7h2v10zm4 0h-2v-4h2v4z\"/>\n",
              "    </g>\n",
              "</svg>\n",
              "  </button>\n",
              "\n",
              "<style>\n",
              "  .colab-df-quickchart {\n",
              "      --bg-color: #E8F0FE;\n",
              "      --fill-color: #1967D2;\n",
              "      --hover-bg-color: #E2EBFA;\n",
              "      --hover-fill-color: #174EA6;\n",
              "      --disabled-fill-color: #AAA;\n",
              "      --disabled-bg-color: #DDD;\n",
              "  }\n",
              "\n",
              "  [theme=dark] .colab-df-quickchart {\n",
              "      --bg-color: #3B4455;\n",
              "      --fill-color: #D2E3FC;\n",
              "      --hover-bg-color: #434B5C;\n",
              "      --hover-fill-color: #FFFFFF;\n",
              "      --disabled-bg-color: #3B4455;\n",
              "      --disabled-fill-color: #666;\n",
              "  }\n",
              "\n",
              "  .colab-df-quickchart {\n",
              "    background-color: var(--bg-color);\n",
              "    border: none;\n",
              "    border-radius: 50%;\n",
              "    cursor: pointer;\n",
              "    display: none;\n",
              "    fill: var(--fill-color);\n",
              "    height: 32px;\n",
              "    padding: 0;\n",
              "    width: 32px;\n",
              "  }\n",
              "\n",
              "  .colab-df-quickchart:hover {\n",
              "    background-color: var(--hover-bg-color);\n",
              "    box-shadow: 0 1px 2px rgba(60, 64, 67, 0.3), 0 1px 3px 1px rgba(60, 64, 67, 0.15);\n",
              "    fill: var(--button-hover-fill-color);\n",
              "  }\n",
              "\n",
              "  .colab-df-quickchart-complete:disabled,\n",
              "  .colab-df-quickchart-complete:disabled:hover {\n",
              "    background-color: var(--disabled-bg-color);\n",
              "    fill: var(--disabled-fill-color);\n",
              "    box-shadow: none;\n",
              "  }\n",
              "\n",
              "  .colab-df-spinner {\n",
              "    border: 2px solid var(--fill-color);\n",
              "    border-color: transparent;\n",
              "    border-bottom-color: var(--fill-color);\n",
              "    animation:\n",
              "      spin 1s steps(1) infinite;\n",
              "  }\n",
              "\n",
              "  @keyframes spin {\n",
              "    0% {\n",
              "      border-color: transparent;\n",
              "      border-bottom-color: var(--fill-color);\n",
              "      border-left-color: var(--fill-color);\n",
              "    }\n",
              "    20% {\n",
              "      border-color: transparent;\n",
              "      border-left-color: var(--fill-color);\n",
              "      border-top-color: var(--fill-color);\n",
              "    }\n",
              "    30% {\n",
              "      border-color: transparent;\n",
              "      border-left-color: var(--fill-color);\n",
              "      border-top-color: var(--fill-color);\n",
              "      border-right-color: var(--fill-color);\n",
              "    }\n",
              "    40% {\n",
              "      border-color: transparent;\n",
              "      border-right-color: var(--fill-color);\n",
              "      border-top-color: var(--fill-color);\n",
              "    }\n",
              "    60% {\n",
              "      border-color: transparent;\n",
              "      border-right-color: var(--fill-color);\n",
              "    }\n",
              "    80% {\n",
              "      border-color: transparent;\n",
              "      border-right-color: var(--fill-color);\n",
              "      border-bottom-color: var(--fill-color);\n",
              "    }\n",
              "    90% {\n",
              "      border-color: transparent;\n",
              "      border-bottom-color: var(--fill-color);\n",
              "    }\n",
              "  }\n",
              "</style>\n",
              "\n",
              "  <script>\n",
              "    async function quickchart(key) {\n",
              "      const quickchartButtonEl =\n",
              "        document.querySelector('#' + key + ' button');\n",
              "      quickchartButtonEl.disabled = true;  // To prevent multiple clicks.\n",
              "      quickchartButtonEl.classList.add('colab-df-spinner');\n",
              "      try {\n",
              "        const charts = await google.colab.kernel.invokeFunction(\n",
              "            'suggestCharts', [key], {});\n",
              "      } catch (error) {\n",
              "        console.error('Error during call to suggestCharts:', error);\n",
              "      }\n",
              "      quickchartButtonEl.classList.remove('colab-df-spinner');\n",
              "      quickchartButtonEl.classList.add('colab-df-quickchart-complete');\n",
              "    }\n",
              "    (() => {\n",
              "      let quickchartButtonEl =\n",
              "        document.querySelector('#df-d4a11d5f-d897-4d71-9a72-1e79634e0e06 button');\n",
              "      quickchartButtonEl.style.display =\n",
              "        google.colab.kernel.accessAllowed ? 'block' : 'none';\n",
              "    })();\n",
              "  </script>\n",
              "</div>\n",
              "\n",
              "  <div id=\"id_4634b73c-713c-488a-a44b-3a0ace33df71\">\n",
              "    <style>\n",
              "      .colab-df-generate {\n",
              "        background-color: #E8F0FE;\n",
              "        border: none;\n",
              "        border-radius: 50%;\n",
              "        cursor: pointer;\n",
              "        display: none;\n",
              "        fill: #1967D2;\n",
              "        height: 32px;\n",
              "        padding: 0 0 0 0;\n",
              "        width: 32px;\n",
              "      }\n",
              "\n",
              "      .colab-df-generate:hover {\n",
              "        background-color: #E2EBFA;\n",
              "        box-shadow: 0px 1px 2px rgba(60, 64, 67, 0.3), 0px 1px 3px 1px rgba(60, 64, 67, 0.15);\n",
              "        fill: #174EA6;\n",
              "      }\n",
              "\n",
              "      [theme=dark] .colab-df-generate {\n",
              "        background-color: #3B4455;\n",
              "        fill: #D2E3FC;\n",
              "      }\n",
              "\n",
              "      [theme=dark] .colab-df-generate:hover {\n",
              "        background-color: #434B5C;\n",
              "        box-shadow: 0px 1px 3px 1px rgba(0, 0, 0, 0.15);\n",
              "        filter: drop-shadow(0px 1px 2px rgba(0, 0, 0, 0.3));\n",
              "        fill: #FFFFFF;\n",
              "      }\n",
              "    </style>\n",
              "    <button class=\"colab-df-generate\" onclick=\"generateWithVariable('janghak_copy')\"\n",
              "            title=\"Generate code using this dataframe.\"\n",
              "            style=\"display:none;\">\n",
              "\n",
              "  <svg xmlns=\"http://www.w3.org/2000/svg\" height=\"24px\"viewBox=\"0 0 24 24\"\n",
              "       width=\"24px\">\n",
              "    <path d=\"M7,19H8.4L18.45,9,17,7.55,7,17.6ZM5,21V16.75L18.45,3.32a2,2,0,0,1,2.83,0l1.4,1.43a1.91,1.91,0,0,1,.58,1.4,1.91,1.91,0,0,1-.58,1.4L9.25,21ZM18.45,9,17,7.55Zm-12,3A5.31,5.31,0,0,0,4.9,8.1,5.31,5.31,0,0,0,1,6.5,5.31,5.31,0,0,0,4.9,4.9,5.31,5.31,0,0,0,6.5,1,5.31,5.31,0,0,0,8.1,4.9,5.31,5.31,0,0,0,12,6.5,5.46,5.46,0,0,0,6.5,12Z\"/>\n",
              "  </svg>\n",
              "    </button>\n",
              "    <script>\n",
              "      (() => {\n",
              "      const buttonEl =\n",
              "        document.querySelector('#id_4634b73c-713c-488a-a44b-3a0ace33df71 button.colab-df-generate');\n",
              "      buttonEl.style.display =\n",
              "        google.colab.kernel.accessAllowed ? 'block' : 'none';\n",
              "\n",
              "      buttonEl.onclick = () => {\n",
              "        google.colab.notebook.generateWithVariable('janghak_copy');\n",
              "      }\n",
              "      })();\n",
              "    </script>\n",
              "  </div>\n",
              "\n",
              "    </div>\n",
              "  </div>\n"
            ],
            "application/vnd.google.colaboratory.intrinsic+json": {
              "type": "dataframe",
              "variable_name": "janghak_copy",
              "summary": "{\n  \"name\": \"janghak_copy\",\n  \"rows\": 1260,\n  \"fields\": [\n    {\n      \"column\": \"index\",\n      \"properties\": {\n        \"dtype\": \"number\",\n        \"std\": 363,\n        \"min\": 1,\n        \"max\": 1260,\n        \"num_unique_values\": 1259,\n        \"samples\": [\n          76,\n          1031,\n          44\n        ],\n        \"semantic_type\": \"\",\n        \"description\": \"\"\n      }\n    },\n    {\n      \"column\": \"date\",\n      \"properties\": {\n        \"dtype\": \"object\",\n        \"num_unique_values\": 663,\n        \"samples\": [\n          \"2022-02-07\",\n          \"2023-08-11\",\n          \"2023-03-29\"\n        ],\n        \"semantic_type\": \"\",\n        \"description\": \"\"\n      }\n    },\n    {\n      \"column\": \"title\",\n      \"properties\": {\n        \"dtype\": \"string\",\n        \"num_unique_values\": 1249,\n        \"samples\": [\n          \"[\\uacf5\\ud1b5][\\uad50\\ub0b4]2022\\ud559\\ub144\\ub3c4 2\\ud559\\uae30 \\uba74\\ud559\\uc7a5\\ud559\\uae08 \\uc2e0\\uccad \\uc548\\ub0b4\",\n          \"[\\uacf5\\ud1b5][\\uad50\\uc678] JB\\uc120\\ub3c4\\uc0ac\\uc5c5 \\uc721\\uc131\\ubc29\\uc548 \\ud0d0\\uad6c\\uc9c0\\uc6d0\\uc0ac\\uc5c5 \\ucc38\\uac00\\ud300 \\ubaa8\\uc9d1(~7/16)\",\n          \"[\\uacf5\\ud1b5][\\uad50\\uc678] \\uc678\\ubd80\\uc7a5\\ud559\\uc7ac\\ub2e8 \\uc7a5\\ud559\\uc0dd \\uc9c0\\uc6d0 \\uc804 \\uad6d\\uac00\\uc7a5\\ud559\\uae08 \\uc2e0\\uccad\"\n        ],\n        \"semantic_type\": \"\",\n        \"description\": \"\"\n      }\n    },\n    {\n      \"column\": \"content\",\n      \"properties\": {\n        \"dtype\": \"string\",\n        \"num_unique_values\": 1239,\n        \"samples\": [\n          \"\\n1.\\uad6d\\uac00\\uadfc\\ub85c\\uc7a5\\ud559\\uc0dd \\uc120\\ubc1c \\uacb0\\uacfc \\ud655\\uc778 \\uba54\\ub274: 2021. 8. 30(\\uc6d4)\\ubd80\\ud130 \\uc870\\ud68c \\uac00\\ub2a5(\\uc2dc\\uac04\\ud45c \\uc785\\ub825\\uc7409\\uc6d41\\uc77c \\uc790\\uc815\\ubd80\\ud130 \\uac00\\ub2a5\\ud558\\uba70 \\uadfc\\ub85c \\uc804 \\ud574\\ub2f9 \\uadfc\\ub85c\\uc9c0\\uc640 \\uc0ac\\uc804 \\uc870\\uc728 \\ud6c4 \\uadfc\\ub85c \\uc9c4\\ud589 \\ub2e8 \\uadfc\\ub85c \\uc804 \\ubc18\\ub4dc\\uc2dc \\uc2dc\\uac04\\ud45c \\uc785\\ub825 \\uc694\\uccad \\ub4dc\\ub9bc)\\ud55c\\uad6d\\uc7a5\\ud559\\uc7ac\\ub2e8\\uc0ac\\uc774\\ud2b8(http://www.kosaf.go.kr)\\u25b6\\uc7a5\\ud559\\uae08\\u25b6\\uad6d\\uac00\\uadfc\\ub85c \\ubc0f \\ucde8\\uc5c5\\uc5f0\\uacc4 \\uc7a5\\ud559\\uae08\\u25b6\\uad6d\\uac00\\uadfc\\ub85c\\uc7a5\\ud559\\uae08\\u25b6\\uadfc\\ub85c\\uc7a5\\ud559\\uad00\\ub9ac\\u25b6\\ub300\\ud559\\uc790\\uccb4\\uc120\\ubc1c\\uae30\\uc900 \\ubc0f \\uc120\\ubc1c \\ud604\\ud669\\u25b62021\\ub1442\\ud559\\uae30 \\uadfc\\ub85c\\uc720\\ud615'\\ud559\\uae30\\uc911'\\uc73c\\ub85c \\uc120\\ud0dd \\ud6c4 \\uc870\\ud68c(\\uadfc\\ubb34\\uc9c4\\ud589=>\\uc120\\ubc1c)-\\uc120\\ubc1c\\uc790:\\uc120\\ubc1c \\uadfc\\ub85c\\uc9c0 \\ubc0f \\ud574\\ub2f9 \\uadfc\\ub85c\\uc9c0 \\ub2f4\\ub2f9\\uc790 \\uc5f0\\ub77d\\ucc98\\uac00 \\ud45c\\uae30\\ub4282.\\uc2dc\\ud589\\uae30\\uac04: 2021. 9. 1. ~ 2022. 2. 16.-\\uc0c1\\uae30 \\uae30\\uac04 \\ub0b4\\uc5d0\\uc11c \\uadfc\\ub85c\\uc9c0 \\ubc0f \\ud559\\uc0dd \\uc0c1\\ud669\\uc5d0 \\ub530\\ub978 \\uadfc\\ubb34\\uc2dc\\uc791 \\ubc0f \\uc885\\ub8cc\\uc77c \\uc870\\uc815 \\uac00\\ub2a53.\\uadfc\\ub85c\\uc870\\uac74\\uac00.\\uc2dc\\uae09:\\uad50\\ub0b4- 9,000\\uc6d0/\\uad50\\uc678- 11,150\\uc6d0\\ub098.\\ud559\\uae30\\uc911 \\ucd5c\\ub300 \\uadfc\\ub85c\\uac00\\ub2a5\\uc2dc\\uac04:\\uc77c8\\uc2dc\\uac04 \\uc774\\ub0b4/\\uc8fc20\\uc2dc\\uac04 \\uc774\\ub0b4/\\ud559\\uae30\\ub2f9 \\ucd5c\\ub300450\\uc2dc\\uac04 \\uc774\\ub0b4(20\\ub144\\ub3c4 \\ucd5c\\ub300 \\uc2dc\\uac04\\uc73c\\ub85c21\\ub144\\ub3c4 \\ucd5c\\ub300 \\uc2dc\\uac04 \\ubcc0\\ub3d9 \\uc2dc \\ubcc4\\ub3c4 \\uacf5\\uc9c0 \\ud568.)**\\ucf54\\ub85c\\ub098 \\uc0ac\\ud68c\\uc801 \\uac70\\ub9ac \\ub450\\uae30\\uc5d0 \\ub530\\ub978 \\uadfc\\ubb34\\uc2dc\\uac04\\uacfc \\uadfc\\ub85c\\ub294 \\ud574\\ub2f9 \\uae30\\uad00\\uc758 \\uc9c0\\uce68\\uc744 \\ub530\\ub984\\uc608\\ub97c \\ub4e4\\uba74)\\uad50\\ub0b4\\uadfc\\ub85c\\uc9c0\\ub294 \\ubcf8\\uad50 \\uc778\\uc0ac\\ud300\\uc758 \\ucd9c\\ud1f4\\uadfc \\uc2dc\\uac04\\uacfc \\uae30\\uac04 \\uc900\\uc218.\\uad50\\uc678 \\uadfc\\ub85c\\uc9c0 \\uc911 \\ub300\\uc0ac\\uad00 \\ubc0f \\uad6d\\uc81c\\ud611\\ub825\\uae30\\uad00\\uc758 \\uadfc\\ub85c \\ud615\\ud0dc\\uac00 \\uc7ac\\ud0dd\\uadfc\\ub85c\\uc2dc\\uc5d0\\ub294 \\uc7ac\\ud0dd\\uadfc\\ub85c \\uc2e0\\uccad\\uc11c\\ub97c \\ud55c\\uad6d\\uc678\\uad6d\\uc5b4\\ub300\\ud559\\uad50 \\uc7a5\\ud559\\ud300\\uc73c\\ub85c \\uadfc\\ub85c \\uc804 \\uc2b9\\uc778 \\ub4dd\\ud55c \\ud6c4 \\uc7ac\\ud0dd\\uadfc\\ub85c \\uc9c4\\ud589 \\uc774\\uc5d0 \\ub300\\ud55c \\ud55c\\uad6d\\uc7a5\\ud559\\uc7ac\\ub2e8 \\uad00\\ub9ac \\uc9c0\\uce68 \\ucc38\\uc870(\\ud559\\uc0dd\\uc740 \\uc7ac\\ud0dd\\uadfc\\ub85c \\uc77c\\uc77c\\uc5c5\\ubb34\\uc77c\\uc9c0 \\uc791\\uc131,\\uadfc\\ub85c\\uc9c0 \\uae30\\uad00\\uc740 \\ud574\\ub2f9 \\uc77c\\uc77c\\uc5c5\\ubb34\\uc77c\\uc9c0 \\uc218\\uae30\\ucd9c\\uadfc\\ubd80 \\uc5c5\\ub85c\\ub4dc)4.\\uad6d\\uac00\\uadfc\\ub85c\\uc7a5\\ud559\\uc0dd \\uc720\\uc758\\uc0ac\\ud56d\\uac00.\\ucca8\\ubd80\\uc758 \\uc54c\\ub9bc\\uc7a5 \\ubc0f \\uacf5\\uc9c0\\uc0ac\\ud56d(\\uc8fc\\uc694\\uc9c0\\uce68)\\ud544\\ub3c5(21\\ud559\\ub1441\\ud559\\uae30 \\uc790\\ub8cc)* \\uadfc\\ub85c \\ud559\\uc0dd\\uc740 \\ucd9c\\uadfc\\ubd80 \\ub2f9\\uc77c \\uc785\\ub825\\uc774 \\uc6d0\\uce59*\\ucd9c\\uadfc\\ubd803\\uc77c \\uc774\\ub0b4 \\ubbf8\\uc785\\ub825\\uc2dc \\ucd94\\uac00 \\uc785\\ub825\\uc774 \\uc808\\ub300 \\ubd88\\uac00\\ud558\\ubbc0\\ub85c(\\uc785\\ub825\\ub204\\ub77d \\uc0ac\\uc720\\uc11c \\uc81c\\ucd9c \\ud3d0\\uc9c0)\\ubc18\\ub4dc\\uc2dc3\\uc77c \\uc774\\ub0b4 \\ucd9c\\uadfc\\ubd80 \\uc785\\ub825\\ubc14\\ub78d\\ub2c8\\ub2e4.(\\uc774 \\uc0ac\\ud56d\\uc740 \\uadfc\\ub85c\\uc9c0 \\ub2f4\\ub2f9\\uc790 \\uc120\\uc0dd\\ub2d8\\uc758 \\uacbd\\uc6b0\\uc5d0 \\ud574\\ub2f9)(\\ucd9c\\uadfc\\ubd80 \\uc785\\ub825\\uac00\\ub2a5 \\uae30\\uac04 \\ubcc0\\uacbd: 5\\uc77c \\uc774\\ub0b4\\u25b63\\uc77c \\uc774\\ub0b4)\\ub098.\\uc810\\uc2ec\\uc2dc\\uac04\\uc740 \\uadfc\\ub85c\\uc2dc\\uac04 \\ubbf8\\ud3ec\\ud568(\\uad50\\ub0b4\\uadfc\\ub85c12~13\\uc2dc\\ub294 \\uc810\\uc2ec\\uc2dc\\uac04/\\uad50\\uc678\\uadfc\\ub85c\\uc9c0 \\uae30\\uad00\\ubcc4 \\uc0c1\\uc774)\\uc5f0\\uc18d\\uadfc\\ub85c\\uc2dc11\\uc2dc\\uc5d0\\uc11c14\\uc2dc \\uc0ac\\uc774 \\uc911\\uc5d0 \\ucd5c\\uc18c30\\ubd84 \\uc774\\uc0c1\\uc740 \\uc810\\uc2ec\\uc2dc\\uac04\\uc73c\\ub85c \\uc815\\ud558\\uc5ec \\uadfc\\ub85c \\uc2dc\\uac04\\uc5d0\\uc11c \\uc81c\\uc678\\ud560 \\uac83\\ub2e4.\\uc218\\uc5c5\\uc2dc\\uac04\\ud45c\\uc640 \\uc911\\ubcf5\\ub418\\ub294 \\uc2dc\\uac04\\uc5d0\\ub294 \\uc808\\ub300 \\uadfc\\ub85c\\ubd88\\uac00(\\uc784\\uc2dc \\ud734\\uac15\\uc2dc\\uac04\\uc5d0\\ub3c4 \\uadfc\\ub85c\\ubd88\\uac00\\u2013\\ud559\\uc0dd\\uc758 \\uc218\\uc5c5\\uc2dc\\uac04\\ud45c\\ub294 \\uad6d\\uac00\\uadfc\\ub85c\\uad00\\ub9ac \\ud3ec\\ud138(\\ud55c\\uad6d\\uc7a5\\ud559\\uc7ac\\ub2e8 \\ud648\\ud398\\uc774\\uc9c0www.kosaf.go.kr)\\uc5d0 \\ub4f1\\ub85d\\ud574\\uc57c \\ud558\\uba70,\\ud3ec\\ud138\\uc5d0 \\ub4f1\\ub85d\\ub41c \\uc218\\uc5c5\\uc2dc\\uac04\\uacfc \\uac19\\uc740 \\uc2dc\\uac04\\uc5d0\\ub294 \\uadfc\\ub85c \\uc785\\ub825\\uc774 \\ubd88\\uac00\\ud568)**\\ub300\\uc0ac\\uad00 \\ubc0f \\uad6d\\uc81c\\ud611\\ub825\\uae30\\uad00\\uc758 \\uc7ac\\ud0dd\\uadfc\\ub85c\\uc2dc\\uc5d0\\ub294 \\uc774\\uc5d0 \\ub300\\ud55c \\ub0b4\\uc6a9 \\uc0ac\\uc804 \\uc219\\uc9c0 \\uc694\\ud568\\ub77c. 2\\ud559\\uae30 \\uc815\\uaddc \\uc2dc\\uac04\\ud45c\\ub2949. 10(\\uae08)\\uae4c\\uc9c0 \\uc785\\ub825\\ub9c8.\\uc120\\ubc1c\\uae30\\uad00 \\ub2f4\\ub2f9\\uc790\\uc640 \\uac1c\\ubcc4\\uc801\\uc73c\\ub85c \\ud611\\uc758\\ud558\\uc5ec \\uadfc\\ub85c \\uc9c4\\ud589\\ubc14.\\uc7a5\\ud559\\ud300 \\uacf5\\uc9c0 \\ubc0f \\ud55c\\uad6d\\uc7a5\\ud559\\uc7ac\\ub2e8 \\ub9e4\\ub274\\uc5bc\\uc744 \\uc219\\uc9c0\\ud558\\uc9c0 \\uc54a\\uc544 \\ubc1c\\uc0dd\\ud558\\ub294 \\ubd88\\uc774\\uc775\\uc740 \\ud559\\uc0dd \\ubcf8\\uc778\\uc774 \\uac10\\uc218\\ud558\\uc5ec\\uc57c \\ud558\\ubbc0\\ub85c \\ucd9c\\uadfc\\ubd80 \\uad00\\ub9ac \\ubc0f \\uc81c\\ucd9c \\uad00\\ub828 \\uc0ac\\ud56d \\uaf3c\\uaf3c\\ud558\\uac8c \\ud655\\uc778\\ud560 \\uac83.\\uc0ac.\\uc120\\ubc1c\\uc790 \\uba85\\ub2e8 \\ub4f1 \\uc120\\ubc1c \\uacb0\\uacfc\\ub294 \\uac1c\\uc778\\uc815\\ubcf4\\ubcf4\\ud638 \\uad00\\ub828 \\ubbfc\\uc6d0 \\uad00\\uacc4\\ub85c \\uacf5\\uac1c\\uac00 \\ubd88\\uac00\\ud558\\uc5ec \\uac1c\\ubcc4 \\ud1b5\\ubcf4\\ud558\\uc624\\ub2c8 \\uc774\\uc810 \\uc591\\ud574\\ubc14\\ub78d\\ub2c8\\ub2e4.\\uc544.\\ube44\\ub300\\uba74/\\ub179\\ud654\\uac15\\uc758 \\ud559\\uc5c5\\uc2dc\\uac04\\ud45c\\uc5d0 \\uc2dc\\uac04\\uc774 \\ubc30\\uc815\\ub418\\uc5b4 \\uc788\\uc744 \\uacbd\\uc6b0 \\ud574\\ub2f9 \\uc2dc\\uac04 \\uadfc\\ub85c \\ubd88\\uac00.\\ubcf8\\uc778\\uc758 \\uc21c\\uc218 \\uacf5\\uac15\\uc2dc\\uac04\\ub9cc \\uadfc\\ub85c\\ub85c \\uc778\\uc815 \\ub429\\ub2c8\\ub2e4.\\ucc28.\\uadfc\\ub85c\\uc7a5\\ud559\\uc0dd\\ub4e4\\uc740 \\uadfc\\ub85c\\uc7a5\\ud559\\uc0dd \\uc0ac\\uc804 \\uc900\\ube44\\uc0ac\\ud56d\\uadfc\\ub85c\\ud559\\uc0dd:\\ud65c\\ub3d9 \\uc2dc\\uc791\\uc804 \\uc11c\\uc57d\\uc11c \\ub3d9\\uc758(\\ud55c\\uad6d\\uc7a5\\ud559\\uc7ac\\ub2e8 \\ubcc4\\ucca83),\\uc0ac\\uc774\\ubc84\\uc624\\ub9ac\\uc5d4\\ud14c\\uc774\\uc158\\uc218\\uac15,\\uad50\\uc218\\uc774\\uc218\\ubcf4\\uace0\\uc11c \\uc81c\\ucd9c \\ubc0f \\uc5c5\\ubb34\\uc2a4\\ucf00\\uc974 \\ub4f1\\ub85d \\ud544\\uc218(\\uadfc\\ub85c\\uc9c0\\uc640 \\uc870\\uc728 \\ud6c4)\\uadfc\\ub85c4\\uc77c \\ud6c4 \\uadfc\\ub85c\\uc9c0\\ud3c9\\uac00\\uadfc\\ub85c\\uc9c0 \\ub2f4\\ub2f9\\uc790:\\uad50\\uc721\\ub3d9\\uc601\\uc0c1 \\uc2dc\\uccad(\\ud55c\\uad6d\\uc7a5\\ud559\\uc7ac\\ub2e8 \\ud3ec\\ud138 \\ub85c\\uae34->\\uad6d\\uac00\\uadfc\\ub85c\\uc7a5\\ud559\\uae08->\\uad50\\uc721\\ub3d9\\uc601\\uc0c1*\\uadfc\\ub85c4\\uc77c \\uc774\\ub0b4 \\uadfc\\ub85c\\uc7a5\\ud559\\uc0dd\\ud3c9\\uac00 \\uc694\\ud568\\u203b\\ubd99\\uc784\\uc758 \\uc54c\\ub9bc\\uc7a5 \\ubc0f \\uc548\\ub0b4\\uc0ac\\ud56d\\uc744 \\ubc18\\ub4dc\\uc2dc \\uc219\\uc9c0\\ud558\\uc2dc\\uae30 \\ubc14\\ub78d\\ub2c8\\ub2e4.\\uae30\\ud0c0 \\uad81\\uae08\\ud55c \\uc0ac\\ud56d\\uc740 \\uc5f0\\ub77d\\ubc14\\ub78d\\ub2c8\\ub2e4. (02-2173-2136)<\\ucd5c\\uadfc \\ucf54\\ub85c\\ub098-19\\ubc14\\uc774\\ub7ec\\uc2a4 \\uad00\\ub828,\\ub2e4\\uc591\\ud55c \\ubb38\\uc758\\uac00 \\uc788\\uc2b5\\ub2c8\\ub2e4.>1.\\uadfc\\ub85c\\uc778\\uc815\\uc5ec\\ubd80-\\uadfc\\ub85c\\uc7a5\\ud559\\uc0dd\\uc740 \\ubc18\\ub4dc\\uc2dc \\uadfc\\ub85c\\uc9c0\\uad00\\ub9ac\\uc790(\\ub610\\ub294 \\ub2f4\\ub2f9\\uc790)\\uac00 \\uadfc\\ud0dc\\uad00\\ub9ac\\ud560 \\uc218 \\uc788\\uc73c\\uba70,\\ubc30\\uc815\\ub41c \\uadfc\\ub85c\\uc9c0\\uc5d0\\uc11c \\uadfc\\ub85c\\ud558\\uc5ec\\uc57c \\ud569\\ub2c8\\ub2e4.\\uc7ac\\ud0dd\\uadfc\\ubb34,\\uc628\\ub77c\\uc778 \\uadfc\\ub85c,\\uc6d0\\uaca9 \\uad00\\ub9ac \\ub4f1 \\uadfc\\ub85c\\uc7a5\\ud559\\uc0dd\\uc758 \\uadfc\\ud0dc\\uad00\\ub9ac\\uac00 \\ubd88\\uac00\\ub2a5\\ud55c \\uacbd\\uc6b0 \\uadfc\\ub85c\\uc2dc\\uac04 \\ubd88\\uc778\\uc815\\ub428\\uc744 \\uc548\\ub0b4\\ub4dc\\ub9bd\\ub2c8\\ub2e4.(\\ub2e8,\\ub300\\uc0ac\\uad00 \\ubc0f \\uad6d\\uc81c\\ud611\\ub825\\uae30\\uad00 \\uc608\\uc678)(\\uc608-\\uadfc\\ub85c\\uc9c0\\ub2f4\\ub2f9\\uc790\\uc758 \\uc7ac\\ud0dd\\uadfc\\ubb34,\\uadfc\\ub85c\\uc9c0 \\ud3d0\\uc1c4 \\ub4f1\\uc774 \\ubc1c\\uc0dd\\ud560 \\uacbd\\uc6b0 \\uad6d\\uac00\\uadfc\\ub85c\\uc7a5\\ud559\\uc0dd\\ub3c4 \\uadfc\\ub85c\\ubd88\\uac00.\\uad6d\\uac00\\uadfc\\ub85c\\uc7a5\\ud559\\uc0dd\\uc758 \\uc7ac\\ud0dd\\uadfc\\ubb34,\\uc628\\ub77c\\uc778 \\uadfc\\ub85c \\ub4f1 \\ubc30\\uc815\\ub41c \\uadfc\\ub85c\\uc9c0\\ub97c \\ubc97\\uc5b4\\ub098\\uc11c \\uadfc\\ub85c\\ubd88\\uac00.\\ub4f1)2.\\ucf54\\ub85c\\ub098-19\\ubc14\\uc774\\ub7ec\\uc2a4 \\uad00\\ub828 \\uc790\\uac00\\uaca9\\ub9ac\\uc790/\\uc720\\uc99d\\uc0c1\\uc790-\\ucf54\\ub85c\\ub098-19\\ubc14\\uc774\\ub7ec\\uc2a4 \\uad00\\ub828\\uc790\\uc758 \\uacbd\\uc6b0(\\uc790\\uac00\\uaca9\\ub9ac,\\uc720\\uc99d\\uc0c1 \\ub4f1)\\uc228\\uae30\\uc9c0 \\ub9c8\\uc2dc\\uace0 \\uc5f0\\ub77d\\ubc14\\ub78d\\ub2c8\\ub2e4.-\\uc790\\uac00\\uaca9\\ub9ac\\ub85c \\uc778\\ud558\\uc5ec \\uadfc\\ub85c\\ud558\\uc9c0 \\ubabb\\ud558\\uc600\\uc744 \\uacbd\\uc6b0 \\uc774\\uc5d0 \\ub300\\ud55c \\uadfc\\ub85c\\uc7a5\\ud559\\uae08\\uc740 \\uc9c0\\uae09\\ub418\\uc9c0 \\uc54a\\uc2b5\\ub2c8\\ub2e4.-\\ucf54\\ub85c\\ub098-19\\ubc14\\uc774\\ub7ec\\uc2a4 \\uad00\\ub828 \\uc99d\\uc0c1\\uc774 \\uc788\\uc744 \\uc2dc \\uc989\\uc2dc \\uc9c8\\ubcd1\\uad00\\ub9ac\\ubcf8\\ubd80 \\ucf5c\\uc13c\\ud1301339\\uc5d0 \\uc0c1\\ub2f4\\ubc14\\ub78d\\ub2c8\\ub2e4.3.\\uadfc\\ub85c\\uc2dc\\uc791\\uc77c \\uc900\\uc218\\uc5ec\\ubd80-\\uadfc\\ub85c\\uc2dc\\uc791\\uc77c\\uc740 \\ubc18\\ub4dc\\uc2dc \\ubaa8\\ub450\\uac00 \\ub3d9\\uc77c\\ud558\\uac8c \\uc2dc\\uc791\\ud558\\ub294 \\uac83\\uc774 \\uc544\\ub2d9\\ub2c8\\ub2e4.\\uadfc\\ub85c\\uc9c0\\uc640 \\ud559\\uc0dd \\uc0c1\\ud638 \\ud611\\uc758 \\ud558\\uc5d0 \\uc5f0\\uae30 \\uac00\\ub2a5\\ud558\\uc624\\ub2c8 \\ubc29\\ubb38\\uc790\\uac00 \\ub9ce\\uc740 \\uadfc\\ub85c\\uc9c0 \\ub4f1 \\uc704\\ud5d8\\uc694\\uc18c\\uac00 \\uc788\\ub2e4\\uace0 \\ud310\\ub2e8\\ub418\\ub294 \\uadfc\\ub85c\\uc9c0\\uc640 \\uc0ac\\uc804\\uc5d0 \\uc870\\uc728\\ubc14\\ub78d\\ub2c8\\ub2e4.4.\\ucf54\\ub85c\\ub098-19\\ubc14\\uc774\\ub7ec\\uc2a4 \\uc704\\ud5d8\\uc9c0\\uc5ed \\ubc29\\ubb38\\uc774\\ub825\\uc774 \\uc788\\ub294 \\ud559\\uc0dd-\\uadfc\\ub85c \\uc2dc\\uc791 \\uc804 \\ubc18\\ub4dc\\uc2dc \\uadfc\\ub85c\\uc9c0 \\ub2f4\\ub2f9\\uc790\\ub2d8\\uaed8 \\uc54c\\ub9ac\\uace0 \\uadfc\\ub85c \\uc9c4\\ud589 \\ud611\\uc758 \\ubc14\\ub78d\\ub2c8\\ub2e4.\\ubaa8\\ucabc\\ub85d \\uc608\\ubc29\\uc5d0 \\ud798\\uc368\\uc8fc\\uc2dc\\uae38 \\ubc14\\ub77c\\uba70,\\uc704\\uc640 \\uac19\\uc740 \\uc0c1\\ud669 \\ubc1c\\uc0dd \\uc2dc \\uc989\\uc2dc \\uc5f0\\ub77d\\ubc14\\ub78d\\ub2c8\\ub2e4.\\ubd99\\uc784:1. 2021-2\\uad6d\\uac00\\uadfc\\ub85c \\uc54c\\ub9bc\\uc7a5(\\uc548\\uc804\\uad50\\uc721\\uc790\\ub8cc \\ubc0f \\uad50\\uc721\\uc774\\uc218\\uc11c \\uc591\\uc2dd)\\uac011\\ubd80(21-1\\ud559\\uae30 \\ub0b4\\uc6a9 \\ub3d9\\uc77c)2.\\ud55c\\uad6d\\uc7a5\\ud559\\uc7ac\\ub2e8 \\uc7a5\\ud559\\uc0dd \\uac00\\uc774\\ub4dc\\ubd81(21-1\\ud559\\uae30 \\uc790\\ub8cc2\\ud559\\uae30\\uc640 \\ub3d9\\uc77c \\ud568.)\\n\",\n          \"\\n\\n\\uc544\\ub798\\uc640 \\uac19\\uc774 2021-1\\ud559\\uae30 \\ubbf8\\ub798\\uc758 \\ub3d9\\ubc18\\uc790\\uc7ac\\ub2e8 \\uc2e0\\uaddc\\uc7a5\\ud559\\uc0dd \\ubaa8\\uc9d1\\uc548\\ub0b4\\ub97c \\ud558\\ub2c8 \\uc678\\ub300 \\ud559\\uc0dd\\ub4e4\\uc758 \\ub9ce\\uc740 \\uc9c0\\uc6d0 \\ubc14\\ub78d\\ub2c8\\ub2e4.\\n\\n- \\uc544 \\ub798 -\\n\\n1. \\uc7ac\\ub2e8\\uba85: \\ubbf8\\ub798\\uc758 \\ub3d9\\ubc18\\uc790\\uc7ac\\ub2e8\\n\\n2. \\uc7a5\\ud559\\uae08\\uc561: \\ub4f1\\ub85d\\uae08 \\uc804\\uc561(\\ud0c0\\uc7a5\\ud559\\uae08\\uacfc \\uc911\\ubcf5\\uc218\\ud61c \\ubd88\\uac00)\\n\\n3. \\uc9c0\\uc6d0\\uc790\\uaca9(\\uac00~\\ub77c\\ud56d\\ubaa9\\uc744 \\ubaa8\\ub450 \\ucda9\\uc871\\ud574\\uc57c \\ud568)\\n \\uac00.\\uc11c\\uc6b8\\ucea0\\ud37c\\uc2a4 \\uc7ac\\ud559\\uc0dd(\\ucd08\\uacfc\\ud559\\uae30, \\ud734\\ud559\\uc0dd \\ubc0f \\ud734\\ud559\\uc608\\uc815\\uc790\\uc9c0\\uc6d0\\ubd88\\uac00)\\n *\\ub4f1\\ub85d \\ud6c4 \\ud734\\ud559\\ud558\\ub294 \\ud559\\uc0dd\\uc740 \\uc790\\uaca9 \\uc0c1\\uc2e4 \\ub428.\\n \\ub098. \\uc778\\ubb38 \\ubc0f \\uc0c1\\uacbd\\uacc4\\uc5f4 \\uc81c1\\uc804\\uacf5\\uc790\\n \\ub2e4. 20-2\\ud559\\uae30 \\ud3c9\\uc810 \\ubc0f \\ubcf8\\uad50 \\uc804\\uccb4\\ud3c9\\uc810\\uc774 3.5/4.5 \\uc774\\uc0c1\\uc778 \\ud559\\uc0dd\\n \\ub77c. 20-2\\ud559\\uae30\\ud55c\\uad6d\\uc7a5\\ud559\\uc7ac\\ub2e8 \\uc0b0\\uc815 \\uae30\\uc900 \\uc18c\\ub4dd\\ubd84\\uc704 7\\ubd84\\uc704 \\uc774\\ud558\\uc778 \\ud559\\uc0dd\\n\\n4. \\uc9c0\\uc6d0\\uc11c\\ub958\\n \\uac00. \\uc7a5\\ud559\\uae08 \\uc2e0\\uccad\\uc11c(\\ubd99\\uc784\\ud30c\\uc77c)\\n \\ub098. \\ubcf8\\uad50\\uc131\\uc801\\uc99d\\uba85\\uc11c \\uc6d0\\ubcf8 1\\ubd80\\n \\ub2e4. \\ubcf8\\uad50\\uc7ac\\ud559\\uc99d\\uba85\\uc11c \\uc6d0\\ubcf8 1\\ubd80\\n \\ub77c. \\ud55c\\uad6d\\uc7a5\\ud559\\uc7ac\\ub2e8 \\uc18c\\ub4dd\\ubd84\\uc704\\ud655\\uc778\\uc11c 1\\ubd80\\n \\ub9c8. \\uc8fc\\ubbfc\\ub4f1\\ub85d\\ub4f1\\ubcf8 1\\ubd80\\n\\n5. \\uc81c\\ucd9c\\uae30\\uac04: 2021. 2. 4(\\ubaa9) \\uc624\\uc804 11\\uc2dc\\n\\n6. \\uc81c\\ucd9c\\ucc98:\\ub4f1\\uae30\\uc6b0\\ud3b8 \\uc811\\uc218\\n02450 \\uc11c\\uc6b8\\uc2dc \\ub3d9\\ub300\\ubb38\\uad6c \\uc774\\ubb38\\ub85c 107 \\n \\ud55c\\uad6d\\uc678\\ub300\\uad6d\\uc81c\\ud559\\uc0ac 101\\ud638,\\uc7a5\\ud559\\ud300 (02-2173-2795)\\n\\n\\n7. \\uc720\\uc758\\uc0ac\\ud56d \\n \\uac00. \\uc7a5\\ud559\\uc0dd\\uc740 \\ud559\\uae30\\ub2f9 \\ucd5c\\uc18c 12\\ud559\\uc810 \\uc774\\uc0c1 \\uc2e0\\uccad\\ud574\\uc57c \\ud568\\n \\ub098. \\uc7ac\\ub2e8\\uc758 \\uc694\\uccad\\uc774 \\uc788\\uc744 \\uc2dc \\uc7ac\\ub2e8 \\ud589\\uc0ac\\uc5d0 \\ucc38\\uc11d\\ud574 \\ubcf8\\uc778\\uc758 \\uc218\\ud61c \\uc0ac\\ub840 \\ub4f1\\uc744 \\ubc1c\\ud45c\\ud560 \\uc218 \\uc788\\uc74c.\\n \\ub2e4. \\ud6c4\\uc6d0\\uae30\\uc5c5/\\ud6c4\\uc6d0\\uc778\\uc5d0\\uac8c \\ubcf4\\uace0\\uc790\\ub8cc\\ub85c \\uc0ac\\uc6a9\\ud560 \\uac10\\uc0ac\\ud3b8\\uc9c0(MS\\uc6cc\\ub4dc)\\uc640 \\uc7a5\\ud559\\uc99d\\uc11c \\uc804\\ub2ec\\uc2dd \\uc0ac\\uc9c4\\uc790\\ub8cc \\ub4f1\\uc744 \\uc81c\\ucd9c\\ud574\\uc57c \\ud568\\n \\n\\n\\n\\n\",\n          \"\\n \\ucf54\\ub85c\\ub09819\\ub85c \\uc778\\ud55c \\ud2b9\\ubcc4\\uadfc\\ub85c \\uc7a5\\ud559\\uc0dd\\uc744 \\uc544\\ub798\\uc640 \\uac19\\uc774 \\ubaa8\\uc9d1\\ud558\\ub2c8 \\uad00\\uc2ec\\uc788\\ub294 \\ud559\\uc0dd\\ub4e4\\uc758 \\uc2e0\\uccad\\uc744 \\ubc14\\ub78d\\ub2c8\\ub2e4.- \\uc544    \\ub798 -1. \\uc2e0\\uccad \\uc790\\uaca9\\uac00. \\uc7ac\\ub2e8\\uc73c\\ub85c\\ubd80\\ud130 \\ud574\\ub2f9\\ud559\\uc0dd\\uc774\\ub77c\\ub294 \\u2018\\ubb38\\uc790\\u2019\\ub97c \\ubc1b\\uc740\\uc790\\ub098. \\uc7ac\\ub2e8\\uc73c\\ub85c\\ubd80\\ud130 \\ud574\\ub2f9\\ud559\\uc0dd\\uc774\\ub77c\\ub294 \\u2018\\ubb38\\uc790\\u2019\\ub97c \\ubc1b\\uc9c0 \\uc54a\\uc740\\uc790 \\uc911 \\uac00\\uacc4\\uac00\\ub9ce\\uc774\\uace4\\ub780\\ud558\\ub2e4\\uace0 \\uc0dd\\uac01\\ud558\\ub294 \\uc790- \\uc7ac\\ub2e8 \\ud648\\ud398\\uc774\\uc9c0\\uc5d0 \\uc811\\uc18d\\ud558\\uc5ec 2021\\ub144 4\\uc6d4 30(\\uae08) 18\\uc2dc \\uae4c\\uc9c0 \\uac01\\uc885 \\uac00\\uacc4\\uace4\\ub780\\uc744 \\uc99d\\uba85\\ud560 \\uc218 \\uc788\\ub294 \\uc11c\\ub958 \\uc5c5\\ub85c\\ub4dc \\ud560 \\uac83\\u203b \\uacf5\\ud1b5\\uc0ac\\ud56d : \\uc2e0\\uccad\\uc11c(\\ucca8\\ubd80\\uc11c\\ub958) \\uc791\\uc131\\ud558\\uc5ec 2021\\ub144 4\\uc6d4 30(\\uae08) 16\\uc2dc30\\ubd84 \\uae4c\\uc9c0 \\uae00\\ub85c\\ubc8c\\ucea0\\ud37c\\uc2a4 \\ud559\\uc0dd\\uc9c0\\uc6d0\\ud300\\uc5d0 \\uc9c1\\uc811 \\uc81c\\ucd9c \\ud560 \\uac83(\\ub2e8, \\uc6b0\\ud3b8 \\uc811\\uc218 \\uac00\\ub2a5\\ud558\\uba70 4\\uc6d430\\uc77c(\\uae08) \\uae4c\\uc9c0 \\ub3c4\\ucc29\\ud558\\uc5ec\\uc57c \\ud568)2. \\uc120\\ubc1c \\uae30\\uc900\\uac00. 0\\uc21c\\uc704 : \\uc7ac\\ub2e8\\uc73c\\ub85c\\ubd80\\ud130 \\ud574\\ub2f9\\ud559\\uc0dd\\uc774\\ub77c\\ub294 \\ubb38\\uc790\\ub97c \\ubc1b\\uc740 \\uc790(\\uc774 \\uacbd\\uc6b0\\ub3c4\\\"2-\\uac00\\\", \\\"2-\\ub098\\\", 2-\\ub2e4\\\" \\uae30\\uc900\\uc5d0 \\uc758\\ud574 \\uc120\\ubc1c\\ud568)\\ub098. 1\\uc21c\\uc704 : \\ubd80\\ubaa8\\uc758 \\uc2e4\\uc9c1 \\ubc0f \\ud3d0\\uc5c5\\ub2e4. 2\\uc21c\\uc704 : \\uc9c1\\uc804\\ud559\\uae30 \\ud559\\uc5c5\\uc131\\uc801\\ub77c. 3\\uc21c\\uc704 : \\uae30\\ud0c0 \\uac00\\uacc4 \\uace4\\ub780\\uc744 \\uc99d\\uba85\\ud560 \\uc218 \\uc788\\ub294 \\uac01\\uc885 \\uc11c\\ub9583. \\ucc38\\uace0\\uc0ac\\ud56d- \\ud3d0\\uc5c5 \\ubc0f \\uc2e4\\uc9c1 \\uc778\\uc815 \\uae30\\uac04 : 2020.01.20.~2021.04.30. - \\ubcf8\\uc778 \\ud3d0\\uc5c5 \\ubc0f \\uc2e4\\uc9c1 \\uc81c\\uc678- \\uc7a5\\ud559\\uae08 \\uc2dc\\uae09 : \\uad50\\ub0b4 9,000\\uc6d0 / \\uad50\\uc678 11,150\\uc6d0(\\uae30\\uc874 \\uad6d\\uac00\\uadfc\\ub85c\\uc7a5\\ud559\\uae08 \\uc2dc\\uae09\\uacfc \\ub3d9\\uc77c\\ud568)- \\uc120\\ubc1c \\ud655\\uc815 : 2021\\ub144 5\\uc6d4 \\uc911(\\uc7a5\\ud559 \\uacf5\\uc9c0 \\uc0ac\\ud56d \\ubc0f \\ubb38\\uc790 \\uba54\\uc2dc\\uc9c0\\ub85c \\uc548\\ub0b4 \\uc608\\uc815)- \\uadfc\\ubb34 \\uae30\\uac04 : 2021.05\\uc6d4(\\ub0a0\\uc9dc \\ubbf8\\uc815)~2021.09\\uc6d4.4. \\uc720\\uc758\\uc0ac\\ud56d(\\ucca8\\ubd80\\ub41c \\ub9e4\\ub274\\uc5bc \\ubc18\\ub4dc\\uc2dc \\uc219\\uc9c0\\ud560 \\uac83)-\\uad6d\\ubbfc\\uad8c\\uc775\\uc704\\uc6d0\\ud68c\\uc5d0\\uc11c \\uacf5\\uacf5\\uc7ac\\uc815 \\ubd80\\uc815\\uc218\\uae09 \\ubc29\\uc9c0\\ub97c \\uc704\\ud55c \\u300c\\uacf5\\uacf5\\uc7ac\\uc815\\ud658\\uc218\\ubc95\\u300d\\uc744 \\uc2dc\\ud589\\ud558\\uc600\\uc73c\\uba70 2020\\ub144 1\\uc6d4 1\\uc77c \\uc774\\ud6c4 \\ub300\\ud559\\uc0dd \\uadfc\\ub85c\\uc7a5\\ud559\\uc0ac\\uc5c5 \\uc7a5\\ud559\\uae08\\uc774 \\uc9c0\\uae09\\ub41c \\uc0ac\\ud56d\\uc5d0 \\uc801\\uc6a9\\ub418\\uc5c8\\uc2b5\\ub2c8\\ub2e4. \\uc774\\uc5d0 \\ub530\\ub77c \\ud5c8\\uc704\\uadfc\\ub85c \\ubc0f \\ub300\\ub9ac\\uadfc\\ub85c \\uc2dc \\ud658\\uc218\\uae08\\uc561(\\ubd80\\uc815\\uc774\\uc775+\\uc774\\uc790+\\uc81c\\uc7ac\\ubd80\\uac00\\uae08+\\uac00\\uc0b0\\uae08)\\uc774 \\ubc1c\\uc0dd\\ud558\\ubbc0\\ub85c \\uc7a5\\ud559\\uc0dd \\ubd80\\uc815\\uadfc\\ub85c\\uac00 \\ubc1c\\uc0dd\\ud558\\uc9c0 \\uc54a\\ub3c4\\ub85d \\uc720\\uc758\\ubc14\\ub78c.-\\uc218\\uc5c5\\uc2dc\\uac04\\ud45c\\uc640 \\uc911\\ubcf5\\ub41c \\uadfc\\ub85c\\uc2dc\\uac04\\uc5d0\\ub294 \\uc808\\ub300 \\uadfc\\ub85c \\ubd88\\uac00(\\ube44\\ub300\\uba74 \\uc218\\uc5c5 \\uc2dc\\uac04\\ub3c4 \\ub300\\uba74 \\uc218\\uc5c5\\uc2dc\\uac04\\uacfc \\ub3d9\\uc77c\\ud558\\uac8c \\uc801\\uc6a9\\ub418\\uba70 \\uc774\\ub97c \\uc5b4\\uae38 \\uacbd\\uc6b0 \\ubd80\\uc815\\uadfc\\ub85c\\ub85c \\uac04\\uc8fc\\ud568)- \\ud559\\uc801 \\uc0c1\\ud0dc\\uac00 \\u201c\\uc7ac\\ud559\\u201d\\uc5d0\\uc11c \\ud734\\ud559, \\uc790\\ud1f4, \\uc878\\uc5c5 \\ub4f1\\uc73c\\ub85c \\ubcc0\\ub3d9\\ub420 \\uacbd\\uc6b0 \\uadfc\\ub85c \\ubd88\\uac00\\u203b \\ud559\\uc801\\uc774 \\ubcc0\\ub3d9\\ub420 \\uacbd\\uc6b0 \\ubcc0\\ub3d9 \\ub2f9\\uc77c\\uc758 \\ud65c\\ub3d9\\uae4c\\uc9c0\\ub9cc \\uc778\\uc815\\u203b \\ud734\\ud559 \\uc2dc \\ud734\\ud559 \\uc77c\\uc790 \\uc774\\ud6c4 \\uadfc\\ub85c\\ub294 \\uc778\\uc815\\uc774 \\ub418\\uc9c0 \\uc54a\\uc2b5\\ub2c8\\ub2e4.\\u203b \\uc790\\ud1f4 \\ubc0f \\uc81c\\uc801 \\uc2dc \\ud574\\ub2f9 \\uc77c\\uc790 \\uc774\\ud6c4 \\uadfc\\ub85c\\uac00 \\uc778\\uc815\\ub418\\uc9c0 \\uc54a\\uc2b5\\ub2c8\\ub2e4.\\u203b \\ud574\\uc678 \\ucd9c\\uc785\\uad6d \\uae30\\uac04, \\ubcd1\\uc6d0\\uc9c4\\ub8cc \\uae30\\uac04, \\uc878\\uc5c5 \\ud6c4\\uc5d0\\ub294 \\uadfc\\ub85c\\uac00 \\uc778\\uc815\\ub418\\uc9c0 \\uc54a\\uc2b5\\ub2c8\\ub2e4.\\u203b \\uadfc\\ub85c\\uac00 \\uc778\\uc815\\ub418\\uc9c0 \\uc54a\\ub294 \\uae30\\uac04\\uc5d0 \\uadfc\\ub85c\\uc7a5\\ud559\\uae08\\uc774 \\uc785\\uae08 \\ub418\\uc5c8\\uc744 \\uc2dc, \\ud658\\uc218 \\ucc98\\ub9ac\\ub429\\ub2c8\\ub2e4.5. \\ubb38\\uc758: \\ud559\\uc0dd\\uc9c0\\uc6d0\\ud300 \\uad6d\\uac00\\uadfc\\ub85c \\ub2f4\\ub2f9(031-330-4034)\\ubd99\\uc784 1. \\ud2b9\\ubcc4\\uadfc\\ub85c\\uc7a5\\ud559\\uae08 \\ud559\\uc0dd \\uc2e0\\uccad \\ub9e4\\ub274\\uc5bc(\\ud55c\\uad6d\\uc7a5\\ud559\\uc7ac\\ub2e8)2. \\ucf54\\ub85c\\ub09819 \\ud2b9\\ubcc4\\uad6d\\uac00\\uadfc\\ub85c\\uc7a5\\ud559\\uae08 \\uc2e0\\uccad\\uc11c(\\ud559\\uc0dd\\uc9c0\\uc6d0\\ud300) 2021. 04. 26\\ud559\\uc0dd\\uc9c0\\uc6d0\\ud300(\\uae00\\ub85c\\ubc8c) \\n\"\n        ],\n        \"semantic_type\": \"\",\n        \"description\": \"\"\n      }\n    },\n    {\n      \"column\": \"summarize_content\",\n      \"properties\": {\n        \"dtype\": \"object\",\n        \"semantic_type\": \"\",\n        \"description\": \"\"\n      }\n    }\n  ]\n}"
            }
          },
          "metadata": {},
          "execution_count": 33
        }
      ]
    },
    {
      "cell_type": "markdown",
      "source": [
        "## 학사"
      ],
      "metadata": {
        "id": "fwp0sqknZ4yC"
      }
    },
    {
      "cell_type": "markdown",
      "source": [
        "- 2 / 621\n",
        "\n",
        "- haksa_copy.loc[115]\n",
        "  - [서울] 강의실 호실 안내, Summarizer error: object dtype is not supported by sparse matrices\n",
        "\n",
        "- haksa_copy.loc[133]\n",
        "  - 2021년 1학기 EU융합전공 개편/신설 안내 (카드뉴스), Summarizer error: object dtype is not supported by sparse matrices"
      ],
      "metadata": {
        "id": "JlNKvvtYemkb"
      }
    },
    {
      "cell_type": "code",
      "source": [
        "haksa_copy"
      ],
      "metadata": {
        "colab": {
          "base_uri": "https://localhost:8080/",
          "height": 424
        },
        "id": "WJ3hEQZMbvTi",
        "outputId": "810aab38-fe63-4213-82b1-f35d352b748d"
      },
      "execution_count": null,
      "outputs": [
        {
          "output_type": "execute_result",
          "data": {
            "text/plain": [
              "     index        date                                     title  \\\n",
              "0        1  2020-01-06            [공통] 2019-2학기 이중전공 변경 배정 확정 공고   \n",
              "1        2  2020-01-13                  [공통] 2020학년도 1학기 수강신청 공고   \n",
              "2        3  2020-01-13     [공통] 2020학년도 전기 국제지역대학원 학석사연계과정 모집 안내   \n",
              "3        4  2020-01-13       [공통] 2020학년도 전기 일반대학원 학석사연계과정 모집 안내   \n",
              "4        5  2020-01-15                        [글로벌]졸업 예비사정 결과 조회   \n",
              "..     ...         ...                                       ...   \n",
              "617    618  2024-03-13                          [공통] 생리 유고 신청 안내   \n",
              "618    619  2024-03-13  [공통] 졸업예정자(해당학기 졸업가능자)의 조기취업  유고결석 신청 안내   \n",
              "619    621  2024-03-15           [글로벌]2024-1학기 폐강(2차) 공고(글로벌캠퍼스)   \n",
              "620    620  2024-03-15            [서울] 2024-1학기 폐강(2차) 공고(서울캠퍼스)   \n",
              "621    622  2024-03-26       [공통]2024-여름계절학기 개설희망 교과목 수요조사 실시 공고   \n",
              "\n",
              "                                               content  \n",
              "0    \\n\\n\\n\\n\\n\\n[공통]이중전공변경 배정 확정 공고\\n \\n2019학년도 제2...  \n",
              "1    \\n2020학년도 1학기 수강신청 공고 2020학년도 제1학기 수강신청에 대하여 아...  \n",
              "2    \\n2020학년도 전기 국제지역대학원 학석사연계과정 모집 안내\\n \\n2020학년도...  \n",
              "3    \\n2020학년도 전기 일반대학원 학석사연계과정 모집 안내\\n\\n2020학년도 전기...  \n",
              "4    \\n[글로벌] 졸업 예비사정 결과 조회글로벌캠퍼스 졸업(2020년 2월) 예비사정 ...  \n",
              "..                                                 ...  \n",
              "617  \\n\\n\\n\\n\\n\\n생리 유고 신청 안내\\n\\n\\n\\n\\n\\n  생리로 인한 유고...  \n",
              "618  \\n\\n\\n\\n\\n\\n졸업예정자(해당학기 졸업가능자)의 조기취업유고결석 신청 안내\\...  \n",
              "619  \\n\\n\\n\\n\\n\\n2024-1학기 폐강(2차) 공고(글로벌캠퍼스)\\n\\n\\n\\n...  \n",
              "620  \\n\\n\\n\\n\\n\\n2024-1학기 폐강(2차) 공고(서울캠퍼스)\\n\\n\\n\\n\\...  \n",
              "621  \\n계절학기 개설희망 교과목 수요조사 실시 공고\\n\\n2024학년도여름계절학기 개설...  \n",
              "\n",
              "[622 rows x 4 columns]"
            ],
            "text/html": [
              "\n",
              "  <div id=\"df-532bbd7e-5e3a-4d2a-a182-6ecffa3c192a\" class=\"colab-df-container\">\n",
              "    <div>\n",
              "<style scoped>\n",
              "    .dataframe tbody tr th:only-of-type {\n",
              "        vertical-align: middle;\n",
              "    }\n",
              "\n",
              "    .dataframe tbody tr th {\n",
              "        vertical-align: top;\n",
              "    }\n",
              "\n",
              "    .dataframe thead th {\n",
              "        text-align: right;\n",
              "    }\n",
              "</style>\n",
              "<table border=\"1\" class=\"dataframe\">\n",
              "  <thead>\n",
              "    <tr style=\"text-align: right;\">\n",
              "      <th></th>\n",
              "      <th>index</th>\n",
              "      <th>date</th>\n",
              "      <th>title</th>\n",
              "      <th>content</th>\n",
              "    </tr>\n",
              "  </thead>\n",
              "  <tbody>\n",
              "    <tr>\n",
              "      <th>0</th>\n",
              "      <td>1</td>\n",
              "      <td>2020-01-06</td>\n",
              "      <td>[공통] 2019-2학기 이중전공 변경 배정 확정 공고</td>\n",
              "      <td>\\n\\n\\n\\n\\n\\n[공통]이중전공변경 배정 확정 공고\\n \\n2019학년도 제2...</td>\n",
              "    </tr>\n",
              "    <tr>\n",
              "      <th>1</th>\n",
              "      <td>2</td>\n",
              "      <td>2020-01-13</td>\n",
              "      <td>[공통] 2020학년도 1학기 수강신청 공고</td>\n",
              "      <td>\\n2020학년도 1학기 수강신청 공고 2020학년도 제1학기 수강신청에 대하여 아...</td>\n",
              "    </tr>\n",
              "    <tr>\n",
              "      <th>2</th>\n",
              "      <td>3</td>\n",
              "      <td>2020-01-13</td>\n",
              "      <td>[공통] 2020학년도 전기 국제지역대학원 학석사연계과정 모집 안내</td>\n",
              "      <td>\\n2020학년도 전기 국제지역대학원 학석사연계과정 모집 안내\\n \\n2020학년도...</td>\n",
              "    </tr>\n",
              "    <tr>\n",
              "      <th>3</th>\n",
              "      <td>4</td>\n",
              "      <td>2020-01-13</td>\n",
              "      <td>[공통] 2020학년도 전기 일반대학원 학석사연계과정 모집 안내</td>\n",
              "      <td>\\n2020학년도 전기 일반대학원 학석사연계과정 모집 안내\\n\\n2020학년도 전기...</td>\n",
              "    </tr>\n",
              "    <tr>\n",
              "      <th>4</th>\n",
              "      <td>5</td>\n",
              "      <td>2020-01-15</td>\n",
              "      <td>[글로벌]졸업 예비사정 결과 조회</td>\n",
              "      <td>\\n[글로벌] 졸업 예비사정 결과 조회글로벌캠퍼스 졸업(2020년 2월) 예비사정 ...</td>\n",
              "    </tr>\n",
              "    <tr>\n",
              "      <th>...</th>\n",
              "      <td>...</td>\n",
              "      <td>...</td>\n",
              "      <td>...</td>\n",
              "      <td>...</td>\n",
              "    </tr>\n",
              "    <tr>\n",
              "      <th>617</th>\n",
              "      <td>618</td>\n",
              "      <td>2024-03-13</td>\n",
              "      <td>[공통] 생리 유고 신청 안내</td>\n",
              "      <td>\\n\\n\\n\\n\\n\\n생리 유고 신청 안내\\n\\n\\n\\n\\n\\n  생리로 인한 유고...</td>\n",
              "    </tr>\n",
              "    <tr>\n",
              "      <th>618</th>\n",
              "      <td>619</td>\n",
              "      <td>2024-03-13</td>\n",
              "      <td>[공통] 졸업예정자(해당학기 졸업가능자)의 조기취업  유고결석 신청 안내</td>\n",
              "      <td>\\n\\n\\n\\n\\n\\n졸업예정자(해당학기 졸업가능자)의 조기취업유고결석 신청 안내\\...</td>\n",
              "    </tr>\n",
              "    <tr>\n",
              "      <th>619</th>\n",
              "      <td>621</td>\n",
              "      <td>2024-03-15</td>\n",
              "      <td>[글로벌]2024-1학기 폐강(2차) 공고(글로벌캠퍼스)</td>\n",
              "      <td>\\n\\n\\n\\n\\n\\n2024-1학기 폐강(2차) 공고(글로벌캠퍼스)\\n\\n\\n\\n...</td>\n",
              "    </tr>\n",
              "    <tr>\n",
              "      <th>620</th>\n",
              "      <td>620</td>\n",
              "      <td>2024-03-15</td>\n",
              "      <td>[서울] 2024-1학기 폐강(2차) 공고(서울캠퍼스)</td>\n",
              "      <td>\\n\\n\\n\\n\\n\\n2024-1학기 폐강(2차) 공고(서울캠퍼스)\\n\\n\\n\\n\\...</td>\n",
              "    </tr>\n",
              "    <tr>\n",
              "      <th>621</th>\n",
              "      <td>622</td>\n",
              "      <td>2024-03-26</td>\n",
              "      <td>[공통]2024-여름계절학기 개설희망 교과목 수요조사 실시 공고</td>\n",
              "      <td>\\n계절학기 개설희망 교과목 수요조사 실시 공고\\n\\n2024학년도여름계절학기 개설...</td>\n",
              "    </tr>\n",
              "  </tbody>\n",
              "</table>\n",
              "<p>622 rows × 4 columns</p>\n",
              "</div>\n",
              "    <div class=\"colab-df-buttons\">\n",
              "\n",
              "  <div class=\"colab-df-container\">\n",
              "    <button class=\"colab-df-convert\" onclick=\"convertToInteractive('df-532bbd7e-5e3a-4d2a-a182-6ecffa3c192a')\"\n",
              "            title=\"Convert this dataframe to an interactive table.\"\n",
              "            style=\"display:none;\">\n",
              "\n",
              "  <svg xmlns=\"http://www.w3.org/2000/svg\" height=\"24px\" viewBox=\"0 -960 960 960\">\n",
              "    <path d=\"M120-120v-720h720v720H120Zm60-500h600v-160H180v160Zm220 220h160v-160H400v160Zm0 220h160v-160H400v160ZM180-400h160v-160H180v160Zm440 0h160v-160H620v160ZM180-180h160v-160H180v160Zm440 0h160v-160H620v160Z\"/>\n",
              "  </svg>\n",
              "    </button>\n",
              "\n",
              "  <style>\n",
              "    .colab-df-container {\n",
              "      display:flex;\n",
              "      gap: 12px;\n",
              "    }\n",
              "\n",
              "    .colab-df-convert {\n",
              "      background-color: #E8F0FE;\n",
              "      border: none;\n",
              "      border-radius: 50%;\n",
              "      cursor: pointer;\n",
              "      display: none;\n",
              "      fill: #1967D2;\n",
              "      height: 32px;\n",
              "      padding: 0 0 0 0;\n",
              "      width: 32px;\n",
              "    }\n",
              "\n",
              "    .colab-df-convert:hover {\n",
              "      background-color: #E2EBFA;\n",
              "      box-shadow: 0px 1px 2px rgba(60, 64, 67, 0.3), 0px 1px 3px 1px rgba(60, 64, 67, 0.15);\n",
              "      fill: #174EA6;\n",
              "    }\n",
              "\n",
              "    .colab-df-buttons div {\n",
              "      margin-bottom: 4px;\n",
              "    }\n",
              "\n",
              "    [theme=dark] .colab-df-convert {\n",
              "      background-color: #3B4455;\n",
              "      fill: #D2E3FC;\n",
              "    }\n",
              "\n",
              "    [theme=dark] .colab-df-convert:hover {\n",
              "      background-color: #434B5C;\n",
              "      box-shadow: 0px 1px 3px 1px rgba(0, 0, 0, 0.15);\n",
              "      filter: drop-shadow(0px 1px 2px rgba(0, 0, 0, 0.3));\n",
              "      fill: #FFFFFF;\n",
              "    }\n",
              "  </style>\n",
              "\n",
              "    <script>\n",
              "      const buttonEl =\n",
              "        document.querySelector('#df-532bbd7e-5e3a-4d2a-a182-6ecffa3c192a button.colab-df-convert');\n",
              "      buttonEl.style.display =\n",
              "        google.colab.kernel.accessAllowed ? 'block' : 'none';\n",
              "\n",
              "      async function convertToInteractive(key) {\n",
              "        const element = document.querySelector('#df-532bbd7e-5e3a-4d2a-a182-6ecffa3c192a');\n",
              "        const dataTable =\n",
              "          await google.colab.kernel.invokeFunction('convertToInteractive',\n",
              "                                                    [key], {});\n",
              "        if (!dataTable) return;\n",
              "\n",
              "        const docLinkHtml = 'Like what you see? Visit the ' +\n",
              "          '<a target=\"_blank\" href=https://colab.research.google.com/notebooks/data_table.ipynb>data table notebook</a>'\n",
              "          + ' to learn more about interactive tables.';\n",
              "        element.innerHTML = '';\n",
              "        dataTable['output_type'] = 'display_data';\n",
              "        await google.colab.output.renderOutput(dataTable, element);\n",
              "        const docLink = document.createElement('div');\n",
              "        docLink.innerHTML = docLinkHtml;\n",
              "        element.appendChild(docLink);\n",
              "      }\n",
              "    </script>\n",
              "  </div>\n",
              "\n",
              "\n",
              "<div id=\"df-3b03193f-95fd-4e20-9c94-036d3f4e6930\">\n",
              "  <button class=\"colab-df-quickchart\" onclick=\"quickchart('df-3b03193f-95fd-4e20-9c94-036d3f4e6930')\"\n",
              "            title=\"Suggest charts\"\n",
              "            style=\"display:none;\">\n",
              "\n",
              "<svg xmlns=\"http://www.w3.org/2000/svg\" height=\"24px\"viewBox=\"0 0 24 24\"\n",
              "     width=\"24px\">\n",
              "    <g>\n",
              "        <path d=\"M19 3H5c-1.1 0-2 .9-2 2v14c0 1.1.9 2 2 2h14c1.1 0 2-.9 2-2V5c0-1.1-.9-2-2-2zM9 17H7v-7h2v7zm4 0h-2V7h2v10zm4 0h-2v-4h2v4z\"/>\n",
              "    </g>\n",
              "</svg>\n",
              "  </button>\n",
              "\n",
              "<style>\n",
              "  .colab-df-quickchart {\n",
              "      --bg-color: #E8F0FE;\n",
              "      --fill-color: #1967D2;\n",
              "      --hover-bg-color: #E2EBFA;\n",
              "      --hover-fill-color: #174EA6;\n",
              "      --disabled-fill-color: #AAA;\n",
              "      --disabled-bg-color: #DDD;\n",
              "  }\n",
              "\n",
              "  [theme=dark] .colab-df-quickchart {\n",
              "      --bg-color: #3B4455;\n",
              "      --fill-color: #D2E3FC;\n",
              "      --hover-bg-color: #434B5C;\n",
              "      --hover-fill-color: #FFFFFF;\n",
              "      --disabled-bg-color: #3B4455;\n",
              "      --disabled-fill-color: #666;\n",
              "  }\n",
              "\n",
              "  .colab-df-quickchart {\n",
              "    background-color: var(--bg-color);\n",
              "    border: none;\n",
              "    border-radius: 50%;\n",
              "    cursor: pointer;\n",
              "    display: none;\n",
              "    fill: var(--fill-color);\n",
              "    height: 32px;\n",
              "    padding: 0;\n",
              "    width: 32px;\n",
              "  }\n",
              "\n",
              "  .colab-df-quickchart:hover {\n",
              "    background-color: var(--hover-bg-color);\n",
              "    box-shadow: 0 1px 2px rgba(60, 64, 67, 0.3), 0 1px 3px 1px rgba(60, 64, 67, 0.15);\n",
              "    fill: var(--button-hover-fill-color);\n",
              "  }\n",
              "\n",
              "  .colab-df-quickchart-complete:disabled,\n",
              "  .colab-df-quickchart-complete:disabled:hover {\n",
              "    background-color: var(--disabled-bg-color);\n",
              "    fill: var(--disabled-fill-color);\n",
              "    box-shadow: none;\n",
              "  }\n",
              "\n",
              "  .colab-df-spinner {\n",
              "    border: 2px solid var(--fill-color);\n",
              "    border-color: transparent;\n",
              "    border-bottom-color: var(--fill-color);\n",
              "    animation:\n",
              "      spin 1s steps(1) infinite;\n",
              "  }\n",
              "\n",
              "  @keyframes spin {\n",
              "    0% {\n",
              "      border-color: transparent;\n",
              "      border-bottom-color: var(--fill-color);\n",
              "      border-left-color: var(--fill-color);\n",
              "    }\n",
              "    20% {\n",
              "      border-color: transparent;\n",
              "      border-left-color: var(--fill-color);\n",
              "      border-top-color: var(--fill-color);\n",
              "    }\n",
              "    30% {\n",
              "      border-color: transparent;\n",
              "      border-left-color: var(--fill-color);\n",
              "      border-top-color: var(--fill-color);\n",
              "      border-right-color: var(--fill-color);\n",
              "    }\n",
              "    40% {\n",
              "      border-color: transparent;\n",
              "      border-right-color: var(--fill-color);\n",
              "      border-top-color: var(--fill-color);\n",
              "    }\n",
              "    60% {\n",
              "      border-color: transparent;\n",
              "      border-right-color: var(--fill-color);\n",
              "    }\n",
              "    80% {\n",
              "      border-color: transparent;\n",
              "      border-right-color: var(--fill-color);\n",
              "      border-bottom-color: var(--fill-color);\n",
              "    }\n",
              "    90% {\n",
              "      border-color: transparent;\n",
              "      border-bottom-color: var(--fill-color);\n",
              "    }\n",
              "  }\n",
              "</style>\n",
              "\n",
              "  <script>\n",
              "    async function quickchart(key) {\n",
              "      const quickchartButtonEl =\n",
              "        document.querySelector('#' + key + ' button');\n",
              "      quickchartButtonEl.disabled = true;  // To prevent multiple clicks.\n",
              "      quickchartButtonEl.classList.add('colab-df-spinner');\n",
              "      try {\n",
              "        const charts = await google.colab.kernel.invokeFunction(\n",
              "            'suggestCharts', [key], {});\n",
              "      } catch (error) {\n",
              "        console.error('Error during call to suggestCharts:', error);\n",
              "      }\n",
              "      quickchartButtonEl.classList.remove('colab-df-spinner');\n",
              "      quickchartButtonEl.classList.add('colab-df-quickchart-complete');\n",
              "    }\n",
              "    (() => {\n",
              "      let quickchartButtonEl =\n",
              "        document.querySelector('#df-3b03193f-95fd-4e20-9c94-036d3f4e6930 button');\n",
              "      quickchartButtonEl.style.display =\n",
              "        google.colab.kernel.accessAllowed ? 'block' : 'none';\n",
              "    })();\n",
              "  </script>\n",
              "</div>\n",
              "\n",
              "  <div id=\"id_3633a9ee-9265-49ac-b749-80027d4543c2\">\n",
              "    <style>\n",
              "      .colab-df-generate {\n",
              "        background-color: #E8F0FE;\n",
              "        border: none;\n",
              "        border-radius: 50%;\n",
              "        cursor: pointer;\n",
              "        display: none;\n",
              "        fill: #1967D2;\n",
              "        height: 32px;\n",
              "        padding: 0 0 0 0;\n",
              "        width: 32px;\n",
              "      }\n",
              "\n",
              "      .colab-df-generate:hover {\n",
              "        background-color: #E2EBFA;\n",
              "        box-shadow: 0px 1px 2px rgba(60, 64, 67, 0.3), 0px 1px 3px 1px rgba(60, 64, 67, 0.15);\n",
              "        fill: #174EA6;\n",
              "      }\n",
              "\n",
              "      [theme=dark] .colab-df-generate {\n",
              "        background-color: #3B4455;\n",
              "        fill: #D2E3FC;\n",
              "      }\n",
              "\n",
              "      [theme=dark] .colab-df-generate:hover {\n",
              "        background-color: #434B5C;\n",
              "        box-shadow: 0px 1px 3px 1px rgba(0, 0, 0, 0.15);\n",
              "        filter: drop-shadow(0px 1px 2px rgba(0, 0, 0, 0.3));\n",
              "        fill: #FFFFFF;\n",
              "      }\n",
              "    </style>\n",
              "    <button class=\"colab-df-generate\" onclick=\"generateWithVariable('haksa_copy')\"\n",
              "            title=\"Generate code using this dataframe.\"\n",
              "            style=\"display:none;\">\n",
              "\n",
              "  <svg xmlns=\"http://www.w3.org/2000/svg\" height=\"24px\"viewBox=\"0 0 24 24\"\n",
              "       width=\"24px\">\n",
              "    <path d=\"M7,19H8.4L18.45,9,17,7.55,7,17.6ZM5,21V16.75L18.45,3.32a2,2,0,0,1,2.83,0l1.4,1.43a1.91,1.91,0,0,1,.58,1.4,1.91,1.91,0,0,1-.58,1.4L9.25,21ZM18.45,9,17,7.55Zm-12,3A5.31,5.31,0,0,0,4.9,8.1,5.31,5.31,0,0,0,1,6.5,5.31,5.31,0,0,0,4.9,4.9,5.31,5.31,0,0,0,6.5,1,5.31,5.31,0,0,0,8.1,4.9,5.31,5.31,0,0,0,12,6.5,5.46,5.46,0,0,0,6.5,12Z\"/>\n",
              "  </svg>\n",
              "    </button>\n",
              "    <script>\n",
              "      (() => {\n",
              "      const buttonEl =\n",
              "        document.querySelector('#id_3633a9ee-9265-49ac-b749-80027d4543c2 button.colab-df-generate');\n",
              "      buttonEl.style.display =\n",
              "        google.colab.kernel.accessAllowed ? 'block' : 'none';\n",
              "\n",
              "      buttonEl.onclick = () => {\n",
              "        google.colab.notebook.generateWithVariable('haksa_copy');\n",
              "      }\n",
              "      })();\n",
              "    </script>\n",
              "  </div>\n",
              "\n",
              "    </div>\n",
              "  </div>\n"
            ],
            "application/vnd.google.colaboratory.intrinsic+json": {
              "type": "dataframe",
              "variable_name": "haksa_copy",
              "summary": "{\n  \"name\": \"haksa_copy\",\n  \"rows\": 622,\n  \"fields\": [\n    {\n      \"column\": \"index\",\n      \"properties\": {\n        \"dtype\": \"number\",\n        \"std\": 179,\n        \"min\": 1,\n        \"max\": 622,\n        \"num_unique_values\": 622,\n        \"samples\": [\n          249,\n          398,\n          176\n        ],\n        \"semantic_type\": \"\",\n        \"description\": \"\"\n      }\n    },\n    {\n      \"column\": \"date\",\n      \"properties\": {\n        \"dtype\": \"object\",\n        \"num_unique_values\": 414,\n        \"samples\": [\n          \"2023-08-16\",\n          \"2023-07-11\",\n          \"2023-10-27\"\n        ],\n        \"semantic_type\": \"\",\n        \"description\": \"\"\n      }\n    },\n    {\n      \"column\": \"title\",\n      \"properties\": {\n        \"dtype\": \"string\",\n        \"num_unique_values\": 592,\n        \"samples\": [\n          \"[\\uc11c\\uc6b8] \\ud559\\ubd80 \\uc138\\ubd80\\uc804\\uacf5 \\ubc30\\uc815\\ud655\\uc815(\\ud504\\ub791\\uc2a4/\\ubbf8\\ub514\\uc5b4/\\uc911\\uad6d\\uc5b8\\uc5b4\\ubb38\\ud654/KFL\\ud559\\ubd80 \\ud574\\ub2f9)\",\n          \"[\\uacf5\\ud1b5] \\uc0dd\\ub9ac \\uc720\\uace0 \\uc2e0\\uccad \\uc548\\ub0b4\",\n          \"[\\uc11c\\uc6b8] 2021-1\\ud559\\uae30 \\uc774\\uc911\\uc804\\uacf5 \\ubcc0\\uacbd \\uc2e0\\uccad \\uacf5\\uace0\"\n        ],\n        \"semantic_type\": \"\",\n        \"description\": \"\"\n      }\n    },\n    {\n      \"column\": \"content\",\n      \"properties\": {\n        \"dtype\": \"string\",\n        \"num_unique_values\": 622,\n        \"samples\": [\n          \"\\n\\uae00\\ub85c\\ubc8c \\uc9c0\\uc5ed\\ud559 \\uacfc\\uc815 \\uc2e0\\uccad \\uc548\\ub0b42021-2\\ud559\\uae30 \\uae00\\ub85c\\ubc8c \\uc9c0\\uc5ed\\ud559 \\uacfc\\uc815(\\uc9c0\\uc5ed\\uc804\\ubb38\\uac00\\uacfc\\uc815, \\uc9c0\\uc5ed\\ud559\\uc0ac\\uacfc\\uc815) \\uc2e0\\uccad(\\ubcc0\\uacbd \\ubc0f \\ucde8\\uc18c \\ud3ec\\ud568) \\uc77c\\uc815\\uc744 \\uc544\\ub798\\uc640 \\uac19\\uc774 \\uc548\\ub0b4\\ud569\\ub2c8\\ub2e4. \\uc2e0\\uccad\\uae30\\uac04: 2021. 8. 6(\\uae08) ~ 9. 10(\\uae08)\\u203b \\uae00\\ub85c\\ubc8c \\uc9c0\\uc5ed\\ud559 \\uacfc\\uc815\\uc774\\ub780? \\uc138\\uacc4 \\uac01 \\uc9c0\\uc5ed\\uc5d0 \\ub300\\ud55c \\ucd1d\\uccb4\\uc801\\uc774\\uace0 \\ub2e4\\uba74\\uc801\\uc778 \\uc774\\ud574 \\ub2a5\\ub825\\uc744  \\ubc30\\uc591\\ud558\\uc5ec \\uad6d\\uac00\\uacbd\\uc601\\uc804\\ub7b5 \\ubc0f \\uae30\\uc5c5\\uc758 \\ud574\\uc678\\uc2dc\\uc7a5\\uc9c4\\ucd9c\\uacfc \\uad6d\\uc81c \\ube44\\uc988\\ub2c8\\uc2a4 \\uc218\\ud589\\uc5d0 \\ud544\\uc694\\ud55c  \\uc804\\ubb38\\uac00 \\uc591\\uc131\\uc744 \\ubaa9\\ud45c\\ub85c \\uc6b4\\uc601\\ub418\\ub294 \\uad50\\uc721\\uacfc\\uc815\\uc73c\\ub85c \\uc878\\uc5c5\\uc2dc \\ud559\\uc704\\uac00  \\u2018\\ubb38\\ud559\\uc0ac(\\uc9c0\\uc5ed\\uc804\\ubb38\\uac00\\uacfc\\uc815 \\uc774\\uc218)\\u2019, \\u2018\\uc9c0\\uc5ed\\ud559\\uc0ac\\u2019\\ub4f1\\uc73c\\ub85c \\ud45c\\uae30\\ub429\\ub2c8\\ub2e4. \\uc790\\uc138\\ud55c \\uc0ac\\ud56d\\uc740 \\uc544\\ub798 \\ub9c1\\ud06c\\ub97c \\ud074\\ub9ad\\ud558\\uc5ec \\ucc38\\uace0\\ud558\\uc2dc\\uae30 \\ubc14\\ub78d\\ub2c8\\ub2e4. 2021-2\\ud559\\uae30 \\uc218\\uac15\\ud3b8\\ub78c \\uc11c\\uc6b8\\ucea0\\ud37c\\uc2a4 \\uc81c70\\ucabd \\uc774\\ud558, \\uae00\\ub85c\\ubc8c\\ucea0\\ud37c\\uc2a4 \\uc81c68\\ucabd \\uc774\\ud5581. \\uc2e0\\uccad\\uc790\\uaca9: \\uc544\\ub798 \\ud559\\uacfc\\uc758 \\uc804\\uacf5 \\ub610\\ub294 \\uc774\\uc911\\uc804\\uacf5 \\ud559\\uc0dd(\\ud734\\ud559\\uc0dd \\ud3ec\\ud568)\\u203b \\uc9c0\\uc5ed\\ud559\\uacfc\\uc815 \\uac1c\\uc124 \\ud559\\uacfc(\\uc11c\\uc6b8\\ucea0\\ud37c\\uc2a4 \\ud559\\uacfc)? EU \\uc9c0\\uc5ed: \\ud504\\ub791\\uc2a4\\uc5b4\\ud559\\ubd80, \\ub3c5\\uc77c\\uc5b4\\uacfc, \\uc774\\ud0c8\\ub9ac\\uc544\\uc5b4\\uacfc, \\ub124\\ub35c\\ub780\\ub4dc\\uc5b4\\uacfc,\\uc2a4\\uce78\\ub514\\ub098\\ube44\\uc544\\uc5b4\\uacfc? \\ub7ec\\uc2dc\\uc544\\u00b7\\uc911\\uc559\\uc544\\uc2dc\\uc544 \\uc9c0\\uc5ed: \\ub178\\uc5b4\\uacfc, \\ud130\\ud0a4\\u00b7\\uc544\\uc81c\\ub974\\ubc14\\uc774\\uc794\\uc5b4\\uacfc, \\ubabd\\uace8\\uc5b4\\uacfc? \\uc911\\ub0a8\\ubbf8 \\uc9c0\\uc5ed: \\uc2a4\\ud398\\uc778\\uc5b4\\uacfc, \\ud3ec\\ub974\\ud22c\\uac08\\uc5b4\\uacfc? \\uc778\\ub3c4\\u00b7\\ub3d9\\ub0a8\\uc544 \\uc9c0\\uc5ed: \\ub9d0\\ub808\\uc774?\\uc778\\ub3c4\\ub124\\uc2dc\\uc544\\uc5b4\\uacfc, \\ubca0\\ud2b8\\ub0a8\\uc5b4\\uacfc, \\ud0dc\\uad6d\\uc5b4\\uacfc,\\uc778\\ub3c4\\uc5b4\\uacfc? \\uc911\\ub3d9\\u00b7\\ubd81\\uc544\\ud504\\ub9ac\\uce74 \\uc9c0\\uc5ed: \\uc544\\ub78d\\uc5b4\\uacfc, \\ud398\\ub974\\uc2dc\\uc544\\uc5b4?\\uc774\\ub780\\uc5b4\\uacfc(\\uae00\\ub85c\\ubc8c\\ucea0\\ud37c\\uc2a4 \\ud559\\uacfc)? EU \\uc9c0\\uc5ed: \\uadf8\\ub9ac\\uc2a4?\\ubd88\\uac00\\ub9ac\\uc544\\ud559\\uacfc? \\ub3d9\\uc720\\ub7fd\\uc9c0\\uc5ed: \\ub3d9\\uc720\\ub7fd\\ud559\\ub300\\ud559 \\uc18c\\uc18d \\uc804\\ud559\\uacfc? \\uc911\\ub0a8\\ubbf8 \\uc9c0\\uc5ed: \\uc2a4\\ud398\\uc778\\uc5b4\\ud1b5\\ubc88\\uc5ed\\ud559\\uacfc? \\uc911\\ub3d9\\u00b7\\ubd81\\uc544\\ud504\\ub9ac\\uce74 \\uc9c0\\uc5ed: \\uc544\\ub78d\\uc5b4\\ud1b5\\ubc88\\uc5ed\\ud559\\uacfc2. \\uc2e0\\uccad\\uae30\\uac04: 2021. 8. 6(\\uae08) ~ 9. 10(\\uae08) 3. \\ubc29\\ubc95: \\uc885\\ud569\\uc815\\ubcf4\\uc2dc\\uc2a4\\ud15c -> \\uc804\\uacf5/\\uad50\\uc9c1\\uad00\\ub9ac -> \\uc9c0\\uc5ed\\ud559\\uacfc\\uc815 \\uc2e0\\uccad\\ucde8\\uc18c \\uad00\\ub9ac       \\uc9c0\\uc5ed\\ud559\\uacfc\\uc815 \\uc2e0\\uccad \\ubc14\\ub85c\\uac00\\uae304. \\uae30\\ud0c0\\uac00. \\uc9c0\\uc5ed\\uc804\\ubb38\\uac00\\uacfc\\uc815:\\u2018\\ubb38\\ud559\\uc0ac(\\uc9c0\\uc5ed\\uc804\\ubb38\\uac00\\uacfc\\uc815 \\uc774\\uc218)\\u2019\\ub85c \\ud559\\uc704\\uac00 \\ud45c\\uae30\\ub428.\\ub098. \\uc9c0\\uc5ed\\ud559\\uc0ac\\uacfc\\uc815: \\ubb38\\ud559\\uc0ac \\ub300\\uc2e0\\u2018\\uc9c0\\uc5ed\\ud559\\uc0ac\\u2019\\ud559\\uc704\\uac00 \\uc218\\uc5ec\\ub428.\\ub2e4. \\uc878\\uc5c5\\ub17c\\ubb38, \\uc878\\uc5c5\\uc2dc\\ud5d8 \\ub4f1 \\uae30\\ud0c0 \\uc878\\uc5c5 \\uc694\\uac74\\uc740 \\ud559\\uacfc \\uad00\\ub828 \\uaddc\\uc815\\uc5d0 \\uc758\\ud568.2021. 8. 6.\\uad50\\ubb34\\ucc98\\uc7a5\\n\",\n          \"\\n[\\uacf5\\ud1b5]2022\\ud559\\ub144\\ub3c4 \\ud6c4\\uae30 (\\uc77c\\ubc18\\ub300\\ud559\\uc6d0)\\uc11d\\uc0ac\\uc608\\uc57d\\uc81c \\ubc0f \\ud559.\\uc11d\\uc0ac \\uc5f0\\uacc4\\uacfc\\uc815 \\ubaa8\\uc9d1 \\uc548\\ub0b4\\ud55c\\uad6d\\uc678\\uad6d\\uc5b4\\ub300\\ud559\\uad50 \\ub300\\ud559\\uc6d0 (https://gra.hufs.ac.kr/)\\n    \\ubc14\\ub85c\\uac00\\uae302022\\ud559\\ub144\\ub3c4(\\uc77c\\ubc18\\ub300\\ud559\\uc6d0)\\ud6c4\\uae30 \\uc11d\\uc0ac\\uc608\\uc57d\\uc81c \\ubc0f \\ud559.\\uc11d\\uc0ac \\uc5f0\\uacc4\\uacfc\\uc815\\uc0dd\\uc744 \\ubaa8\\uc9d1\\ud558\\uae30\\uc5d0 \\uad00\\uc2ec\\uc788\\ub294 \\ud559\\uc0dd\\ub4e4\\uc758 \\uc2e0\\uccad\\uc744 \\ubc14\\ub78d\\ub2c8\\ub2e4.1.\\uc9c0\\uc6d0\\uc2e0\\uccad\\uc11c \\uc811\\uc218\\uae30\\uac04: 2022. 8. 1(\\uc6d4) ~ 8. 5(\\uae08), 14:00\\uae4c\\uc9c02.\\uc811\\uc218\\ucc98\\uac00.\\uc11c\\uc6b8\\ucea0\\ud37c\\uc2a4: \\ud559\\uc0ac\\uc885\\ud569\\uc9c0\\uc6d0\\uc13c\\ud130(\\uc5ed\\uc0ac\\uad001\\uce35)\\uc5d0\\uc11c \\ud655\\uc778 \\ud6c4, \\ud574\\ub2f9 \\ub300\\ud559\\uc6d0\\uc5d0 \\ubc18\\ub4dc\\uc2dc                    \\uc9c1\\uc811\\uc81c\\ucd9c\\ub098.\\uae00\\ub85c\\ubc8c\\ucea0\\ud37c\\uc2a4: \\ud559\\uc0ac\\uc885\\ud569\\uc9c0\\uc6d0\\uc13c\\ud130(\\ud559\\uc0dd\\ud68c\\uad001\\uce35)3. \\uc11d\\uc0ac\\uc608\\uc57d\\uc81c\\uc640 \\ud559.\\uc11d\\uc0ac \\uc5f0\\uacc4\\uacfc\\uc815 \\ucc28\\uc774\\uc810\\uad6c\\ubd84\\uc11d\\uc0ac\\uc608\\uc57d\\uc81c\\n\\ud559.\\uc11d\\uc0ac\\uc5f0\\uacc4\\uacfc\\uc815\\uc9c0\\uc6d0\\uc2dc\\uae30\\ud559\\ubd80 6\\ud559\\uae30 \\uc774\\uc218 \\uc9c1\\ud6c4\\ud559\\ubd80 5\\ud559\\uae30 \\uc774\\uc218 \\uc9c1\\ud6c4\\ub2e8\\ucd95\\ud559\\uae30\\ub300\\ud559\\uc6d0 1\\uac1c \\ud559\\uae30(\\ucd1d 5.5\\ub144 \\uacfc\\uc815)\\ud559\\ubd80 1\\uac1c \\ud559\\uae30 \\ubc0f \\ub300\\ud559\\uc6d0 1\\uac1c \\ud559\\uae30(\\ucd1d 5\\ub144 \\uacfc\\uc815)\\uc9c0\\uc6d0\\uac00\\ub2a5 \\ud559\\uacfc\\ub300\\ud559\\uc6d0 \\uc804\\uccb4 \\ud559\\uacfc\\uc9c0\\uc6d0\\uc790 \\ud559\\ubd80\\uc640 \\uc5f0\\uacc4\\ub41c \\ub3d9\\uc77c\\uacc4\\uc5f4 \\ub300\\ud559\\uc6d0 \\ud559\\uacfc\\u203b\\uc790\\uc138\\ud55c \\uc0ac\\ud56d\\uc740 \\ud574\\ub2f9 \\uc77c\\ubc18\\ub300\\ud559\\uc6d0 \\ud648\\ud398\\uc774\\uc9c0 \\uacf5\\uc9c0\\uc0ac\\ud56d\\uc744 \\ucc38\\uace0\\ud558\\uc5ec \\uc8fc\\uc2dc\\uae30 \\ubc14\\ub78d\\ub2c8\\ub2e4.(\\uc77c\\ubc18\\ub300\\ud559\\uc6d0 \\ubb38\\uc758\\uc804\\ud654: 02-2173-2386)2022. 7.\\ud55c\\uad6d\\uc678\\uad6d\\uc5b4\\ub300\\ud559\\uad50 \\uc77c\\ubc18\\ub300\\ud559\\uc6d0\\n\",\n          \"\\n\\n\\n\\n\\n\\n\\n\\n\\n2021\\ud559\\ub144\\ub3c4 \\uc81c1\\ud559\\uae30 1\\ucc28 \\ud3d0\\uac15 \\uacf5\\uace0(\\uae00\\ub85c\\ubc8c\\ucea0\\ud37c\\uc2a4)\\n\\n\\n2021\\ud559\\ub144\\ub3c4 \\uc81c1\\ud559\\uae30 \\uc218\\uac15\\uc2e0\\uccad \\uae30\\uac04(2021\\ub144 2\\uc6d4 1\\uc77c[\\uc6d4]~5\\uc77c[\\uae08]) \\ub3d9\\uc548 \\n\\uc218\\uac15\\uc2e0\\uccad\\uc778\\uc6d0\\uc774 0\\uba85\\uc778 \\uac15\\uc88c\\uc5d0 \\ub300\\ud574\\uc11c \\uc544\\ub798\\uc640 \\uac19\\uc774 \\ud3d0\\uac15\\uc744 \\uacf5\\uace0\\ud569\\ub2c8\\ub2e4.\\n \\n- \\uc544 \\ub798 -\\n\\n\\u25a0 2021\\ud559\\ub144\\ub3c4 \\uc81c1\\ud559\\uae30 1\\ucc28 \\ud3d0\\uac15 \\uac15\\uc88c \\ud604\\ud669\\n\\n\\n\\n\\n\\n\\uac1c\\uc124\\ud559\\uacfc\\n\\n\\uc774\\uc218\\n\\uc601\\uc5ed\\n\\n\\ud559\\n\\ub144\\n\\n\\ud559\\uc218\\ubc88\\ud638\\n\\n\\uad50\\uacfc\\ubaa9\\uba85\\n\\n\\ud559\\uc810\\n\\n\\uc2dc\\uac04\\n\\n\\uad50\\uac15\\uc0ac\\uba85\\n\\n\\uac15\\uc758\\uc2dc\\uac04\\n\\n\\n\\uc601\\uc5b4\\ud1b5\\ubc88\\uc5ed\\ud559\\ubd80\\n\\n\\uc774\\uc911(\\ubd80)\\n\\n2\\n\\nN15105104\\n\\n\\ubbf8\\ub514\\uc5b4\\uc601\\uc5b4\\uccad\\ucde81\\n\\n3\\n\\n3\\n\\n\\uc724\\uc601\\uc625\\n\\n\\uc218 456\\n\\n\\n\\uc601\\uc5b4\\ud1b5\\ubc88\\uc5ed\\ud559\\uc804\\uacf5\\n\\n\\uc774\\uc911(\\uc8fc)\\n\\n3\\n\\nN01368103\\n\\n\\uba40\\ud2f0\\ubbf8\\ub514\\uc5b4\\ubc88\\uc5ed\\n\\n2\\n\\n2\\n\\n\\uae40\\ub355\\uc218\\n\\n\\uae08 56\\n\\n\\n\\uadf8\\ub9ac\\uc2a4?\\ubd88\\uac00\\ub9ac\\uc544\\ud559\\uacfc\\n\\n\\uc804\\uacf5\\n\\n4\\n\\nN08439201\\n\\n\\ubd88\\uac00\\ub9ac\\uc544\\uc640\\uc720\\ub7fd\\uc5f0\\ud569\\n\\n2\\n\\n2\\n\\nSpas Angelov Rangelov\\n\\n\\uc218 34\\n\\n\\n\\uc218\\ud559\\uacfc\\n\\n\\uc804\\uacf5\\n\\n4\\n\\nF01405101\\n\\n\\uc0b0\\uc5c5\\uc218\\ud559\\n\\n3\\n\\n3\\n\\n\\ucd5c\\uc77c\\uaddc\\n\\n\\uc6d423 \\uc2187\\n\\n2021. 2. 9.\\n\\n\\uae00\\ub85c\\ubc8c\\ucea0\\ud37c\\uc2a4 \\uad50\\ubb34\\ucc98\\uc7a5\\n\\n\\n\"\n        ],\n        \"semantic_type\": \"\",\n        \"description\": \"\"\n      }\n    }\n  ]\n}"
            }
          },
          "metadata": {},
          "execution_count": 13
        }
      ]
    },
    {
      "cell_type": "code",
      "source": [
        "import re\n",
        "import pandas as pd\n",
        "\n",
        "# 에러 카운트 변수 초기화\n",
        "cnt_error = 0\n",
        "\n",
        "# 요약 함수 정의\n",
        "def summarize_content(title, content):\n",
        "    global cnt_error  # 전역 변수로 cnt_error를 사용\n",
        "\n",
        "    if not content:\n",
        "        return []\n",
        "\n",
        "    if isinstance(content, list):\n",
        "        content = ' '.join(content)\n",
        "\n",
        "    if not content.strip():\n",
        "        return []\n",
        "\n",
        "    sents = re.split(r'\\n|\\.', content)\n",
        "\n",
        "    sents = list(filter(None, sents))\n",
        "\n",
        "    sents = [sent for sent in sents if sent.strip()]\n",
        "\n",
        "    if not sents:\n",
        "        return []\n",
        "\n",
        "    if len(sents) == 1:\n",
        "        return sents\n",
        "\n",
        "    # 요약 수행\n",
        "    try:\n",
        "        keysents = summarizer.summarize(sents, topk=3)\n",
        "    except ValueError as e:\n",
        "        # 요약 도중 에러 발생시 빈 리스트 반환\n",
        "        cnt_error += 1\n",
        "        print(f\"{cnt_error}. {title}, Summarizer error: {e}\")\n",
        "        return []\n",
        "\n",
        "    return [item[2] for item in keysents]\n",
        "\n",
        "# 'summarize_content' 컬럼 생성\n",
        "haksa_copy['summarize_content'] = haksa_copy.apply(lambda row: summarize_content(row['title'], row['content']), axis=1)\n",
        "\n",
        "\n",
        "# 결과 출력\n",
        "print(haksa_copy['summarize_content'])"
      ],
      "metadata": {
        "colab": {
          "base_uri": "https://localhost:8080/"
        },
        "id": "rpPFKDWaZ7JW",
        "outputId": "b9216ac0-0ea1-4cb1-9c39-37535e2196e3"
      },
      "execution_count": null,
      "outputs": [
        {
          "output_type": "stream",
          "name": "stdout",
          "text": [
            "1. [서울] 강의실 호실 안내, Summarizer error: object dtype is not supported by sparse matrices\n",
            "2. 2021년 1학기 EU융합전공 개편/신설 안내 (카드뉴스), Summarizer error: object dtype is not supported by sparse matrices\n",
            "0      [ 결과조회 : 종합정보시스템 → 전공/교직관리 → 이중전공 변경신청 → 안내사항,...\n",
            "1      [ 31(화) 매일 10:00~22:00방법학교 홈페이지 →  → “수강신청취소 바...\n",
            "2      [2020학년도 전기 국제지역대학원 학석사연계과정 모집 안내, 석사 연계과정생을 모...\n",
            "3      [2020학년도 전기 일반대학원 학석사연계과정 모집 안내,  글로벌캠퍼스: 학사종합...\n",
            "4      [ 23(목)까지 조치 요망 1) 이수구분 확인 및 수정(계절학기 포함) : 학사종...\n",
            "                             ...                        \n",
            "617    [  생리로 인한 유고결석 신청 방법을 아래와 같이 안내합니다,  생리로 인한 유고...\n",
            "618    [ 조기취업자는 기말고사 전일까지 재직증명서, 4대보험 가입내역 확인서를 담당교수에...\n",
            "619    [ 폐강 강좌를 수강하지 않은 학생은 이 기간에 수강신청 변경을 할 수없음, 영어통...\n",
            "620    [2024학년도 제1학기 서울캠퍼스 폐강(2차) 강좌를 아래와 같이 공고하오니해당 ...\n",
            "621    [계절학기는 2학기 개설 교과목 대상)으로 하며 캠퍼스·학과(부)간 수요조사 참여의...\n",
            "Name: summarize_content, Length: 622, dtype: object\n"
          ]
        }
      ]
    },
    {
      "cell_type": "code",
      "source": [
        "# 인덱스 번호 검색하기\n",
        "index = haksa_copy[haksa_copy['title'] == \"2021년 1학기 EU융합전공 개편/신설 안내 (카드뉴스)\"].index\n",
        "print(index)"
      ],
      "metadata": {
        "colab": {
          "base_uri": "https://localhost:8080/"
        },
        "id": "8Ux8A5IjbLOI",
        "outputId": "bde7a8e2-35d9-4ac2-ec13-66d7e2b27771"
      },
      "execution_count": null,
      "outputs": [
        {
          "output_type": "stream",
          "name": "stdout",
          "text": [
            "Index([133], dtype='int64')\n"
          ]
        }
      ]
    },
    {
      "cell_type": "code",
      "source": [
        "haksa_copy.loc[133]"
      ],
      "metadata": {
        "colab": {
          "base_uri": "https://localhost:8080/"
        },
        "id": "MfBAQ_1UeCBg",
        "outputId": "a790bc74-fb48-47f4-9719-8b58c5fe3823"
      },
      "execution_count": null,
      "outputs": [
        {
          "output_type": "execute_result",
          "data": {
            "text/plain": [
              "index                                                              134\n",
              "date                                                        2020-11-19\n",
              "title                                 2021년 1학기 EU융합전공 개편/신설 안내 (카드뉴스)\n",
              "content              \\n2021년 1학기부터 EU 융합전공의 과목들이 신설/개편됩니다.더 자세한 내용은...\n",
              "summarize_content                                                   []\n",
              "Name: 133, dtype: object"
            ]
          },
          "metadata": {},
          "execution_count": 28
        }
      ]
    },
    {
      "cell_type": "code",
      "source": [
        "haksa_copy.loc[133,'content']"
      ],
      "metadata": {
        "colab": {
          "base_uri": "https://localhost:8080/",
          "height": 35
        },
        "id": "ULDhdc22cl9n",
        "outputId": "79016e0d-7acf-4826-9fc1-45e8ef682b23"
      },
      "execution_count": null,
      "outputs": [
        {
          "output_type": "execute_result",
          "data": {
            "text/plain": [
              "'\\n2021년 1학기부터 EU 융합전공의 과목들이 신설/개편됩니다.더 자세한 내용은 아래의 그림카드 뉴스를 참조해주시기 바랍니다.\\n'"
            ],
            "application/vnd.google.colaboratory.intrinsic+json": {
              "type": "string"
            }
          },
          "metadata": {},
          "execution_count": 48
        }
      ]
    },
    {
      "cell_type": "code",
      "source": [
        "haksa_copy.loc[133,'summarize_content']"
      ],
      "metadata": {
        "colab": {
          "base_uri": "https://localhost:8080/"
        },
        "id": "A20i7RdkeIs1",
        "outputId": "541c2d96-a3fa-4fe5-d884-202997ae863c"
      },
      "execution_count": null,
      "outputs": [
        {
          "output_type": "execute_result",
          "data": {
            "text/plain": [
              "['2021년 1학기부터 EU 융합전공의 과목들이 신설/개편됩니다', '더 자세한 내용은 아래의 그림카드 뉴스를 참조해주시기 바랍니다']"
            ]
          },
          "metadata": {},
          "execution_count": 49
        }
      ]
    },
    {
      "cell_type": "code",
      "source": [],
      "metadata": {
        "id": "Fk6l5XWCcYlf"
      },
      "execution_count": null,
      "outputs": []
    },
    {
      "cell_type": "markdown",
      "source": [
        "### 영어 개선 공지 오류"
      ],
      "metadata": {
        "id": "A9VMZppBcZB-"
      }
    },
    {
      "cell_type": "markdown",
      "source": [
        "- 2 / 621\n",
        "\n",
        "- haksa_copy.loc[115]\n",
        "  - [서울] 강의실 호실 안내, Summarizer error: object dtype is not supported by sparse matrices\n",
        "\n",
        "- haksa_copy.loc[133]\n",
        "  - 2021년 1학기 EU융합전공 개편/신설 안내 (카드뉴스), Summarizer error: object dtype is not supported by sparse matrices"
      ],
      "metadata": {
        "id": "Sbs8ZvGpdaCL"
      }
    },
    {
      "cell_type": "code",
      "source": [
        "# 영어 불용어 처리 해주기\n",
        "\n",
        "import re\n",
        "import pandas as pd\n",
        "\n",
        "def summarize_content(title, content):\n",
        "    global cnt_error  # 전역 변수로 cnt_error를 사용\n",
        "\n",
        "    # 영어 게시글만 필터링 (장학금명 등이 지워지지 않도록)\n",
        "    if is_english_only(content):\n",
        "        return []\n",
        "\n",
        "    if not content:\n",
        "        return []\n",
        "\n",
        "    if isinstance(content, list):\n",
        "        content = ' '.join(content)\n",
        "\n",
        "    if not content.strip():\n",
        "        return []\n",
        "\n",
        "    sents = re.split(r'\\n|\\.', content)\n",
        "\n",
        "    sents = list(filter(None, sents))\n",
        "\n",
        "    sents = [sent for sent in sents if sent.strip()]\n",
        "\n",
        "    if not sents:\n",
        "        return []\n",
        "\n",
        "    if len(sents) == 1:\n",
        "        return sents\n",
        "\n",
        "    # 요약 수행\n",
        "    try:\n",
        "        keysents = summarizer.summarize(sents, topk=3)\n",
        "    except ValueError as e:\n",
        "        # 요약 도중 에러 발생시 빈 리스트 반환\n",
        "        cnt_error += 1\n",
        "        print(f\"{cnt_error}. {title}, Summarizer error: {e}\")\n",
        "        #return [] #빈리스트 반환에서 그냥 반환으로 바꿈\n",
        "        return sents\n",
        "\n",
        "    return [item[2] for item in keysents]\n",
        "\n",
        "# 완전히 영어로 된 글만 찾아내는 함수\n",
        "def is_english_only(text):\n",
        "    # 한글이 포함된 글을 제외\n",
        "    if re.search('[가-힣]', text):\n",
        "        return False\n",
        "    # 영어 이외의 다른 언어가 포함된 글을 제외\n",
        "    if not re.match('^[a-zA-Z\\s]*$', text):\n",
        "        return True\n",
        "    return False\n",
        "\n",
        "\n",
        "cnt_error = 0\n",
        "# 'summarize_content' 컬럼 생성\n",
        "haksa_copy['summarize_content'] = haksa_copy.apply(lambda row: summarize_content(row['title'], row['content']), axis=1)\n",
        "\n",
        "\n",
        "# 결과 출력\n",
        "print(haksa_copy['summarize_content'])"
      ],
      "metadata": {
        "colab": {
          "base_uri": "https://localhost:8080/"
        },
        "id": "bvsoOm-cd7sc",
        "outputId": "588e4822-0abf-4c03-825b-eaacce5ea8eb"
      },
      "execution_count": null,
      "outputs": [
        {
          "output_type": "stream",
          "name": "stdout",
          "text": [
            "1. [서울] 강의실 호실 안내, Summarizer error: object dtype is not supported by sparse matrices\n",
            "2. 2021년 1학기 EU융합전공 개편/신설 안내 (카드뉴스), Summarizer error: object dtype is not supported by sparse matrices\n",
            "0      [ 결과조회 : 종합정보시스템 → 전공/교직관리 → 이중전공 변경신청 → 안내사항,...\n",
            "1      [ 31(화) 매일 10:00~22:00방법학교 홈페이지 →  → “수강신청취소 바...\n",
            "2      [2020학년도 전기 국제지역대학원 학석사연계과정 모집 안내, 석사 연계과정생을 모...\n",
            "3      [2020학년도 전기 일반대학원 학석사연계과정 모집 안내,  글로벌캠퍼스: 학사종합...\n",
            "4      [ 23(목)까지 조치 요망 1) 이수구분 확인 및 수정(계절학기 포함) : 학사종...\n",
            "                             ...                        \n",
            "617    [  생리로 인한 유고결석 신청 방법을 아래와 같이 안내합니다,  생리로 인한 유고...\n",
            "618    [ 조기취업자는 기말고사 전일까지 재직증명서, 4대보험 가입내역 확인서를 담당교수에...\n",
            "619    [ 폐강 강좌를 수강하지 않은 학생은 이 기간에 수강신청 변경을 할 수없음, 영어통...\n",
            "620    [2024학년도 제1학기 서울캠퍼스 폐강(2차) 강좌를 아래와 같이 공고하오니해당 ...\n",
            "621    [계절학기는 2학기 개설 교과목 대상)으로 하며 캠퍼스·학과(부)간 수요조사 참여의...\n",
            "Name: summarize_content, Length: 622, dtype: object\n"
          ]
        }
      ]
    },
    {
      "cell_type": "code",
      "source": [],
      "metadata": {
        "id": "q44FR5QJeNUQ"
      },
      "execution_count": null,
      "outputs": []
    },
    {
      "cell_type": "markdown",
      "source": [
        "## 공지"
      ],
      "metadata": {
        "id": "zqan3NAPfjlF"
      }
    },
    {
      "cell_type": "markdown",
      "source": [
        "**코드 돌아가는데 25분 정도 걸림**\n",
        "\n",
        "**현재 적용 함수에는 외국어 제거랑 코로나 제거 까먹고 안해둔 상태....**\n",
        "\n"
      ],
      "metadata": {
        "id": "GzXE3eQQlzL-"
      }
    },
    {
      "cell_type": "markdown",
      "source": [
        "##### 오류 공지 목록\n",
        "\n",
        "- 94 / 6707"
      ],
      "metadata": {
        "id": "9C4rt-Bcs_cH"
      }
    },
    {
      "cell_type": "markdown",
      "source": [
        "1. gongji_copy.loc[129]:\n",
        "- 인도연구소 2024 국제학술대회 발표문 공모\n",
        "- Summarizer error: object dtype is not supported by sparse matrices\n",
        "\n",
        "2. gongji_copy.loc[208]:\n",
        "- 중국연구소 학술대회, [제18회 청년학자국제학술대회] 개최 안내\n",
        "- Summarizer error: object dtype is not supported by sparse matrices\n",
        "\n",
        "3. gongji_copy.loc[415]:\n",
        "- Online workshop for HUFS faculty-Technology for the language teacher\n",
        "- Summarizer error: object dtype is not supported by sparse matrices\n",
        "\n",
        "4. gongji_copy.loc[532]:\n",
        "- Celebrating Women＇s Month ＇EXTERIORES＇ Brazilian Women In Diplomacy\n",
        "- Summarizer error: object dtype is not supported by sparse matrices\n",
        "\n",
        "5. gongji_copy.loc[720]:\n",
        "- 제1회 바우하우스 콜로키움 안내\n",
        "- Summarizer error: object dtype is not supported by sparse matrices\n",
        "\n",
        "6. gongji_copy.loc[833]:\n",
        "- [SW중심대학] 산학협력 프로젝트 참여인력 합격자 공지\n",
        "- Summarizer error: object dtype is not supported by sparse matrices\n",
        "\n",
        "7. gongji_copy.loc[881]\n",
        "- **동일 공지 1992에도 있음 확인 필요 **\n",
        "- [서울] 학생상담센터 유학생 심리상담 프로그램 안내 / Psychological Counseling for International students / 海外留学生心理咨询\n",
        "- Summarizer error: object dtype is not supported by sparse matrices\n",
        "\n",
        "8. gongji_copy.loc[994]\n",
        "- [쌀람누리] 인턴채용 안내\n",
        "- Summarizer error: object dtype is not supported by sparse matrices\n",
        "\n",
        "9. gongji_copy.loc[1009]\n",
        "- 2022学年度后期硕士招生简章\n",
        "- Summarizer error: object dtype is not supported by sparse matrices\n",
        "\n",
        "10. gongji_copy.loc[1187]\n",
        "- 개교 68주년 기념식 안내\n",
        "- Summarizer error: object dtype is not supported by sparse matrices\n",
        "\n",
        "11. gongji_copy.loc[1413]\n",
        "- Year-end Tax Adjustment for Income Earned During 2021\n",
        "- Summarizer error: object dtype is not supported by sparse matrices\n",
        "\n",
        "12. gongji_copy.loc[1689]\n",
        "- [Call for Participation] The 3rd Korea-India 2030 Forum\n",
        "- Summarizer error: object dtype is not supported by sparse matrices\n",
        "\n",
        "13. gongji_copy.loc[2150]\n",
        "- 한반도-북방 문화전략 포럼 웹 초청장\n",
        "- Summarizer error: object dtype is not supported by sparse matrices\n",
        "\n",
        "14. gongji_copy.loc[2397]\n",
        "- 한국외대 전인교육프로그램 HUFS Life Academy 4기생 추가모집\n",
        "- Summarizer error: object dtype is not supported by sparse matrices\n",
        "\n",
        "15. gongji_copy.loc[2524]\n",
        "- **동일공지 4655에도 있음**\n",
        "- 러시아연구소, 이문일공칠과 인문강좌 공동 개최\n",
        "- Summarizer error: object dtype is not supported by sparse matrices\n",
        "\n",
        "16. gongji_copy.loc[2721]\n",
        "- **동일 공지 4852에 있음**\n",
        "- 독립출판 프로젝트 2기 모집 안내\n",
        "- Summarizer error: object dtype is not supported by sparse matrices\n",
        "\n",
        "17.\n",
        "제10회 전국 대학(원)생 러시아어 토론대회 온라인 개최, Summarizer error: object dtype is not supported by sparse matrices\n",
        "\n",
        "18.\n",
        "제10회 전국 대학(원)생 러시아어 토론대회 개최, Summarizer error: object dtype is not supported by sparse matrices\n",
        "\n",
        "19.\n",
        "Precautionary measures by department, Summarizer error: object dtype is not supported by sparse matrices\n",
        "\n",
        "20.\n",
        "'2019年新型冠状病毒疾病”（COVID-19）相关防治措施, Summarizer error: object dtype is not supported by sparse matrices\n",
        "\n",
        "21.\n",
        "신종 코로나바이러스감염증 예방행동수칙, Summarizer error: object dtype is not supported by sparse matrices\n",
        "\n",
        "22.\n",
        "글로벌홀과 함게하는 남예종 DIPMX 미니 콘서트, Summarizer error: object dtype is not supported by sparse matrices\n",
        "\n",
        "\n",
        "23.\n",
        "전자상거래중점대학지원사업 참여자 모집, Summarizer error: object dtype is not supported by sparse matrices\n",
        "\n",
        "24.\n",
        "2019년 '커리어를 부탁해' 진로개발 특강 안내, Summarizer error: object dtype is not supported by sparse matrices\n",
        "\n",
        "25.\n",
        "제11차 러시아-CIS 전문가 초청 특강, Summarizer error: object dtype is not supported by sparse matrices\n",
        "\n",
        "26.\n",
        "제10차 러시아-CIS 전문가 초청 특강, Summarizer error: object dtype is not supported by sparse matrices\n",
        "\n",
        "27.\n",
        "[글로벌] 2019-2 생명사랑 캠페인 안내, Summarizer error: object dtype is not supported by sparse matrices\n",
        "\n",
        "28.\n",
        "[서울] '2019 학생상담센터 심리검사 워크숍-내 안의 진로' 안내, Summarizer error: object dtype is not supported by sparse matrices\n",
        "\n",
        "29.\n",
        "제9차 러시아-CIS 전문가 초청 특강, Summarizer error: object dtype is not supported by sparse matrices\n",
        "\n",
        "30.\n",
        "2019년 동백도서관 『한국외대와 함께하는 인문학 특강』, Summarizer error: object dtype is not supported by sparse matrices\n",
        "\n",
        "31.\n",
        "제8차 러시아-CIS 전문가 초청 특강, Summarizer error: object dtype is not supported by sparse matrices\n",
        "\n",
        "32.\n",
        "[글로벌] 미술치료를 통한 STRESS OUT! 프로그램 안내, Summarizer error: object dtype is not supported by sparse matrices\n",
        "\n",
        "33.\n",
        "제7차 러시아-CIS 전문가 초청 특강, Summarizer error: object dtype is not supported by sparse matrices\n",
        "\n",
        "34.\n",
        "EU 10월 콜로키움 개최, Summarizer error: object dtype is not supported by sparse matrices\n",
        "\n",
        "35.\n",
        "제6차 러시아-CIS 전문가 초청 특강, Summarizer error: object dtype is not supported by sparse matrices\n",
        "\n",
        "36.\n",
        "제5차 러시아-CIS 전문가 초청 특강, Summarizer error: object dtype is not supported by sparse matrices\n",
        "\n",
        "37.\n",
        "제3차 러시아-CIS 전문가 초청 특강, Summarizer error: object dtype is not supported by sparse matrices\n",
        "\n",
        "38.\n",
        "2019 상반기 Start Up Camp 개최 안내, Summarizer error: object dtype is not supported by sparse matrices\n",
        "\n",
        "39.\n",
        "'한국외대와 함꼐하는 시민 인문학 특강' 개최, Summarizer error: object dtype is not supported by sparse matrices\n",
        "\n",
        "40.\n",
        "[글로벌] 2019학년도 정독상 독서감상문 원고모집, Summarizer error: object dtype is not supported by sparse matrices\n",
        "\n",
        "41.\n",
        "제13차 러시아-CIS 전문가 초청 특강, Summarizer error: object dtype is not supported by sparse matrices\n",
        "\n",
        "42.\n",
        "제12차 러시아-CIS 전문가 초청 특강, Summarizer error: object dtype is not supported by sparse matrices\n",
        "\n",
        "43.\n",
        "한국외대와 함께하는 시민 인문학 특강, Summarizer error: object dtype is not supported by sparse matrices\n",
        "\n",
        "44.\n",
        "제11차 러시아-CIS 전문가 초청 특강, Summarizer error: object dtype is not supported by sparse matrices\n",
        "\n",
        "45.\n",
        "제9회 전국 대학생 러시아어 토론대회 개최, Summarizer error: object dtype is not supported by sparse matrices\n",
        "\n",
        "46.\n",
        "2019 모의유럽연합 참관인 모집, Summarizer error: object dtype is not supported by sparse matrices\n",
        "\n",
        "47.\n",
        "제10차 러시아-CIS 전문가 초청 특강, Summarizer error: object dtype is not supported by sparse matrices\n",
        "\n",
        "48.\n",
        "[글로벌] 2019-1 진로 결정을 위한 자기탐색 프로그램, Summarizer error: object dtype is not supported by sparse matrices\n",
        "\n",
        "49.\n",
        "김종구 북콘서트 '기타와 글쓰기', Summarizer error: object dtype is not supported by sparse matrices\n",
        "\n",
        "50.\n",
        "[서울] 2019 현직 선배와 함께하는 JOB 코칭데이, Summarizer error: object dtype is not supported by sparse matrices\n",
        "\n",
        "51.\n",
        "제8차 러시아-CIS 전문가 초청 특강, Summarizer error: object dtype is not supported by sparse matrices\n",
        "\n",
        "52.\n",
        "제7차 러시아-CIS 전문가 초청 특강, Summarizer error: object dtype is not supported by sparse matrices\n",
        "\n",
        "53.\n",
        "제6차 러시아-CIS 전문가 초청 특강, Summarizer error: object dtype is not supported by sparse matrices\n",
        "\n",
        "54.\n",
        "제9회 전국 대학생 러시아어 토론대회 개최, Summarizer error: object dtype is not supported by sparse matrices\n",
        "\n",
        "55.\n",
        "9회 전국 대학생 러시아어 토론대회 - 예선 참가 안내 -, Summarizer error: object dtype is not supported by sparse matrices\n",
        "\n",
        "56.\n",
        "2009년 한국외대-실크로드대학생연합 새로운 회원 모집, Summarizer error: object dtype is not supported by sparse matrices\n",
        "\n",
        "57.\n",
        "[글로벌] 2019학년도 수시입학생 학점인정 AP프로그램 수강 안내, Summarizer error: object dtype is not supported by sparse matrices\n",
        "\n",
        "58.\n",
        "혈액관리본부 통·번역 서포터즈 모집 안내, Summarizer error: object dtype is not supported by sparse matrices\n",
        "\n",
        "59.\n",
        "[서울] 보건실과 함께하는 기말고사 비타민C 이벤트, Summarizer error: object dtype is not supported by sparse matrices\n",
        "\n",
        "60.\n",
        "[공통] 2019년 상반기 20주 주간 외국어교육과정 교육생 모집안내, Summarizer error: object dtype is not supported by sparse matrices\n",
        "\n",
        "61.\n",
        "2018년 동계방학 한국외대 IT자격증 특강, Summarizer error: object dtype is not supported by sparse matrices\n",
        "\n",
        "62.\n",
        "'2018년 중남미 보건의료산업 및 통역의 이해' 특강 개최, Summarizer error: object dtype is not supported by sparse matrices\n",
        "\n",
        "63.\n",
        "[글로벌] 특강 안내 [노래번역: 통번역가의 새로운 미래], Summarizer error: object dtype is not supported by sparse matrices\n",
        "\n",
        "64.\n",
        "[공통] 2018-2 창업아이디어 경진대회 참여신청 안내, Summarizer error: object dtype is not supported by sparse matrices\n",
        "\n",
        "65.\n",
        "[글로벌] 기업/산업분석(SWOT/3C/40분석법) 세미나, Summarizer error: object dtype is not supported by sparse matrices\n",
        "\n",
        "66.\n",
        "[공통] 2018 HUFS StartUp CAMP 신청 안내, Summarizer error: object dtype is not supported by sparse matrices\n",
        "\n",
        "67.\n",
        "[공통] 우리은행 대학생 홍보대사 모집 안내, Summarizer error: object dtype is not supported by sparse matrices\n",
        "\n",
        "68.\n",
        "[공통] [Instructor] 2018 Online Human Rights · Gender Equality Education (Violence Prevention Education), Summarizer error: object dtype is not supported by sparse matrices\n",
        "\n",
        "69.\n",
        "자양 라이프아카데미 3기 모집, Summarizer error: object dtype is not supported by sparse matrices\n",
        "\n",
        "70.\n",
        "2018년 대학도서관 이용자 만족도 조사 참여 안내, Summarizer error: object dtype is not supported by sparse matrices\n",
        "\n",
        "71.\n",
        "[글로벌] [18-2] 학점인정 방과후 프로그램(10주) 신청 안내, Summarizer error: object dtype is not supported by sparse matrices\n",
        "\n",
        "72.\n",
        "[공통] 2018학년도 하반기 창업동아리 모집, Summarizer error: object dtype is not supported by sparse matrices\n",
        "\n",
        "73.\n",
        "[서울] 2018년 여름방학 외대 IT자격증특강 안내, Summarizer error: object dtype is not supported by sparse matrices\n",
        "\n",
        "74.\n",
        "[마이나비코리아] 일본취업설명회 교내 개최 안내, Summarizer error: object dtype is not supported by sparse matrices\n",
        "\n",
        "75.\n",
        "2018년 제 3기 <꽃 보다 대만학교> 개최 안내, Summarizer error: object dtype is not supported by sparse matrices\n",
        "\n",
        "76.\n",
        "제8회 러시아어 토론대회 개최, Summarizer error: object dtype is not supported by sparse matrices\n",
        "\n",
        "77.\n",
        "[서울] 2018년 5월 한국외대 IT자격증특강 안내, Summarizer error: object dtype is not supported by sparse matrices\n",
        "\n",
        "78.\n",
        "2018년 러시아어 토론대회 - 예선참가 안내 -, Summarizer error: object dtype is not supported by sparse matrices\n",
        "\n",
        "79.\n",
        "학군사관(ROTC)59ㆍ60기 후보생모집안내, Summarizer error: object dtype is not supported by sparse matrices\n",
        "\n",
        "80.\n",
        "[글로벌] [18-1] 학점인정 방과후 프로그램(10주) 신청 안내, Summarizer error: object dtype is not supported by sparse matrices\n",
        "\n",
        "81.\n",
        "[서울] 2018년 3월 한국외대 IT자격증특강 안내, Summarizer error: object dtype is not supported by sparse matrices\n",
        "\n",
        "82.\n",
        "Joint Seminar organized by Human Science /.Information & Archival Science at HUFS Graduate School and Institution for Information & Archival Science\n",
        "Summarizer error: object dtype is not supported by sparse matrices\n",
        "\n",
        "83.\n",
        "VIETNAM ACADEMY OF SOCIAL SCIENCES\n",
        "VIETNAM INSTITUTE FOR INDIAN AND SOUTHWEST ASIAN STUDIES\n",
        "Summarizer error: object dtype is not supported by sparse matrices\n",
        "\n",
        "84.\n",
        "러시아연구소, 이문일공칠과 인문강좌 공동 개최, Summarizer error: object dtype is not supported by sparse matrices\n",
        "독립출판 프로젝트 2기 모집 안내, Summarizer error: object dtype is not supported by sparse matrices\n",
        "\n",
        "85.\n",
        "제10회 전국 대학(원)생 러시아어 토론대회 온라인 개최, Summarizer error: object dtype is not supported by sparse matrices\n",
        "\n",
        "86.\n",
        "Precautionary measures by department, Summarizer error: object dtype is not supported by sparse matrices\n",
        "\n",
        "87.\n",
        "'2019年新型冠?病毒疾病”（COVID-19）相?防治措施, Summarizer error: object dtype is not supported by sparse matrices\n",
        "\n",
        "88.\n",
        "제8차 러시아-CIS 전문가 초청 특강, Summarizer error: object dtype is not supported by sparse matrices\n",
        "\n",
        "89.\n",
        "[글로벌] 학생상담센터 마음돌보기 프로그램 안내, Summarizer error: object dtype is not supported by sparse matrices\n",
        "\n",
        "90.\n",
        "[글로벌] 2019학년도 수시입학생 학점인정 AP프로그램 수강 안내, Summarizer error: object dtype is not supported by sparse matrices\n",
        "\n",
        "91.\n",
        "혈액관리본부 통·번역 서포터즈 모집 안내, Summarizer error: object dtype is not supported by sparse matrices\n",
        "\n",
        "92.\n",
        "명사 특강 안내 [SNS 유명 여행작가 청춘유리], Summarizer error: object dtype is not supported by sparse matrices\n",
        "\n",
        "93.\n",
        "[공통] [Instructor] 2018 Online Human Rights · Gender Equality Education (Violence Prevention Education), Summarizer error: object dtype is not supported by sparse matrices\n",
        "\n",
        "94.\n",
        "[공통] 2018 국제심포지엄에 귀하를 초대합니다(노사발전재단), Summarizer error: object dtype is not supported by sparse matrices"
      ],
      "metadata": {
        "id": "hUOgpAvomOPK"
      }
    },
    {
      "cell_type": "markdown",
      "source": [
        "### 코드"
      ],
      "metadata": {
        "id": "vmIwxcURtJLl"
      }
    },
    {
      "cell_type": "code",
      "source": [
        "\n"
      ],
      "metadata": {
        "id": "L9FL_aKpqlLy"
      },
      "execution_count": null,
      "outputs": []
    },
    {
      "cell_type": "code",
      "source": [
        "gongji_copy.loc[129, 'content']"
      ],
      "metadata": {
        "colab": {
          "base_uri": "https://localhost:8080/",
          "height": 164
        },
        "id": "qK1smQj9foLv",
        "outputId": "fac70e4a-5c50-430c-95db-f02081001a0d"
      },
      "execution_count": null,
      "outputs": [
        {
          "output_type": "execute_result",
          "data": {
            "text/plain": [
              "\"\\n인도연구소 2024 국제학술대회 발표문 공모 Call for Papers “Great Transition in India: Retrospect and Prospect”\\n\\n\\n\\nDear Scholars,\\nGreetings!\\nGreat Transition in India: Retrospect and Prospect\\n16-17 May 2024\\n\\n\\nSince its establishment in 1995, the Institute of Indian Studies (IIS) at Hankuk University of Foreign Studies (HUFS), Seoul, South Korea, has conducted comprehensive and systematic research on India. In line with increased interest in India, the IIS has been conducting research on an agenda titled “Great Transition in India: A Korean Perspective on Indian Studies,” which is sponsored by the Humanities Korea Plus (HK+) Project of the National Research Foundation of Korea (NRF) since 2017. In this context, the IIS-HUFS, is pleased to announce its forthcoming annual international conference focusing on the great transition in India. This conference aims to facilitate discussions and explore fresh perspectives on issues related to Indian studies. We cordially invite papers from academics, research scholars (PhD degree awarded), and independent researchers.\\nPlease find the concept note attached with this email.\\n\\nWe look forward to your participation!\\n\\nMany thanks,\\nManju Shakya\\n Organizing Committee IIS-HUFS\\n\\n\\n\\n\\nGREAT TRANSITION IN INDIA: RETROSPECT AND PROSPECT\\nCALL FOR PAPERS\\n\\nTHEMES\\n- 'Threads of Time': India's Past, Present, and the Future \\n- Evolving Domestic Political Trajectories and India's Great Transition\\n- Shaping Global Strategies: Foreign Policy and International Relations\\n- Economic Transition and Demographic Boom: Mapping India's Present and Future\\n - Balancing Development and Conservation: Environmental Sustainability and Technological Innovations in India's Great Transition\\n- Cultural Plurality and the Indian Society: Change and Continuum\\n\\nIMPORTANT DATES\\nSubmission of Paper Title 31 December 2023\\nSubmission of Abstract 31 January 2024\\nSubmission of Full Paper 31 March 2024\\n\\nVenue: Hankuk University of Foreign Studies\\nDate: 16-17 May 2024\\n\\n\""
            ],
            "application/vnd.google.colaboratory.intrinsic+json": {
              "type": "string"
            }
          },
          "metadata": {},
          "execution_count": 66
        }
      ]
    },
    {
      "cell_type": "code",
      "source": [
        "import re\n",
        "import pandas as pd\n",
        "\n",
        "# 에러 카운트 변수 초기화\n",
        "cnt_error = 0\n",
        "\n",
        "# 요약 함수 정의\n",
        "def summarize_content(title, content):\n",
        "    global cnt_error  # 전역 변수로 cnt_error를 사용\n",
        "\n",
        "    if not content:\n",
        "        return []\n",
        "\n",
        "    if isinstance(content, list):\n",
        "        content = ' '.join(content)\n",
        "\n",
        "    if not content.strip():\n",
        "        return []\n",
        "\n",
        "    sents = re.split(r'\\n|\\.', content)\n",
        "\n",
        "    sents = list(filter(None, sents))\n",
        "\n",
        "    sents = [sent for sent in sents if sent.strip()]\n",
        "\n",
        "    if not sents:\n",
        "        return []\n",
        "\n",
        "    if len(sents) == 1:\n",
        "        return sents\n",
        "\n",
        "    # 요약 수행\n",
        "    try:\n",
        "        keysents = summarizer.summarize(sents, topk=3)\n",
        "    except ValueError as e:\n",
        "        # 요약 도중 에러 발생시 빈 리스트 반환\n",
        "        cnt_error += 1\n",
        "        print(f\"{cnt_error}. {title}, Summarizer error: {e}\")\n",
        "        return []\n",
        "\n",
        "    return [item[2] for item in keysents]\n",
        "# 'summarize_content' 컬럼 생성\n",
        "gongji_copy['summarize_content'] = gongji_copy.apply(lambda row: summarize_content(row['title'], row['content']), axis=1)\n",
        "\n",
        "\n",
        "# 결과 출력\n",
        "print(gongji_copy['summarize_content'])"
      ],
      "metadata": {
        "colab": {
          "base_uri": "https://localhost:8080/",
          "height": 373
        },
        "id": "ZgW5hhdXfkf9",
        "outputId": "e9f5901a-33d6-4103-e1a7-867cd3ac3331"
      },
      "execution_count": null,
      "outputs": [
        {
          "output_type": "error",
          "ename": "KeyboardInterrupt",
          "evalue": "",
          "traceback": [
            "\u001b[0;31m---------------------------------------------------------------------------\u001b[0m",
            "\u001b[0;31mKeyboardInterrupt\u001b[0m                         Traceback (most recent call last)",
            "\u001b[0;32m<ipython-input-81-977919cc0e24>\u001b[0m in \u001b[0;36m<cell line: 43>\u001b[0;34m()\u001b[0m\n\u001b[1;32m     41\u001b[0m     \u001b[0;32mreturn\u001b[0m \u001b[0;34m[\u001b[0m\u001b[0mitem\u001b[0m\u001b[0;34m[\u001b[0m\u001b[0;36m2\u001b[0m\u001b[0;34m]\u001b[0m \u001b[0;32mfor\u001b[0m \u001b[0mitem\u001b[0m \u001b[0;32min\u001b[0m \u001b[0mkeysents\u001b[0m\u001b[0;34m]\u001b[0m\u001b[0;34m\u001b[0m\u001b[0;34m\u001b[0m\u001b[0m\n\u001b[1;32m     42\u001b[0m \u001b[0;31m# 'summarize_content' 컬럼 생성\u001b[0m\u001b[0;34m\u001b[0m\u001b[0;34m\u001b[0m\u001b[0m\n\u001b[0;32m---> 43\u001b[0;31m \u001b[0mgongji_copy\u001b[0m\u001b[0;34m[\u001b[0m\u001b[0;34m'summarize_content'\u001b[0m\u001b[0;34m]\u001b[0m \u001b[0;34m=\u001b[0m \u001b[0mgongji_copy\u001b[0m\u001b[0;34m.\u001b[0m\u001b[0mapply\u001b[0m\u001b[0;34m(\u001b[0m\u001b[0;32mlambda\u001b[0m \u001b[0mrow\u001b[0m\u001b[0;34m:\u001b[0m \u001b[0msummarize_content\u001b[0m\u001b[0;34m(\u001b[0m\u001b[0mrow\u001b[0m\u001b[0;34m[\u001b[0m\u001b[0;34m'title'\u001b[0m\u001b[0;34m]\u001b[0m\u001b[0;34m,\u001b[0m \u001b[0mrow\u001b[0m\u001b[0;34m[\u001b[0m\u001b[0;34m'content'\u001b[0m\u001b[0;34m]\u001b[0m\u001b[0;34m)\u001b[0m\u001b[0;34m,\u001b[0m \u001b[0maxis\u001b[0m\u001b[0;34m=\u001b[0m\u001b[0;36m1\u001b[0m\u001b[0;34m)\u001b[0m\u001b[0;34m\u001b[0m\u001b[0;34m\u001b[0m\u001b[0m\n\u001b[0m\u001b[1;32m     44\u001b[0m \u001b[0;34m\u001b[0m\u001b[0m\n\u001b[1;32m     45\u001b[0m \u001b[0;34m\u001b[0m\u001b[0m\n",
            "\u001b[0;32m/usr/local/lib/python3.10/dist-packages/pandas/core/frame.py\u001b[0m in \u001b[0;36mapply\u001b[0;34m(self, func, axis, raw, result_type, args, **kwargs)\u001b[0m\n\u001b[1;32m   9421\u001b[0m             \u001b[0mkwargs\u001b[0m\u001b[0;34m=\u001b[0m\u001b[0mkwargs\u001b[0m\u001b[0;34m,\u001b[0m\u001b[0;34m\u001b[0m\u001b[0;34m\u001b[0m\u001b[0m\n\u001b[1;32m   9422\u001b[0m         )\n\u001b[0;32m-> 9423\u001b[0;31m         \u001b[0;32mreturn\u001b[0m \u001b[0mop\u001b[0m\u001b[0;34m.\u001b[0m\u001b[0mapply\u001b[0m\u001b[0;34m(\u001b[0m\u001b[0;34m)\u001b[0m\u001b[0;34m.\u001b[0m\u001b[0m__finalize__\u001b[0m\u001b[0;34m(\u001b[0m\u001b[0mself\u001b[0m\u001b[0;34m,\u001b[0m \u001b[0mmethod\u001b[0m\u001b[0;34m=\u001b[0m\u001b[0;34m\"apply\"\u001b[0m\u001b[0;34m)\u001b[0m\u001b[0;34m\u001b[0m\u001b[0;34m\u001b[0m\u001b[0m\n\u001b[0m\u001b[1;32m   9424\u001b[0m \u001b[0;34m\u001b[0m\u001b[0m\n\u001b[1;32m   9425\u001b[0m     def applymap(\n",
            "\u001b[0;32m/usr/local/lib/python3.10/dist-packages/pandas/core/apply.py\u001b[0m in \u001b[0;36mapply\u001b[0;34m(self)\u001b[0m\n\u001b[1;32m    676\u001b[0m             \u001b[0;32mreturn\u001b[0m \u001b[0mself\u001b[0m\u001b[0;34m.\u001b[0m\u001b[0mapply_raw\u001b[0m\u001b[0;34m(\u001b[0m\u001b[0;34m)\u001b[0m\u001b[0;34m\u001b[0m\u001b[0;34m\u001b[0m\u001b[0m\n\u001b[1;32m    677\u001b[0m \u001b[0;34m\u001b[0m\u001b[0m\n\u001b[0;32m--> 678\u001b[0;31m         \u001b[0;32mreturn\u001b[0m \u001b[0mself\u001b[0m\u001b[0;34m.\u001b[0m\u001b[0mapply_standard\u001b[0m\u001b[0;34m(\u001b[0m\u001b[0;34m)\u001b[0m\u001b[0;34m\u001b[0m\u001b[0;34m\u001b[0m\u001b[0m\n\u001b[0m\u001b[1;32m    679\u001b[0m \u001b[0;34m\u001b[0m\u001b[0m\n\u001b[1;32m    680\u001b[0m     \u001b[0;32mdef\u001b[0m \u001b[0magg\u001b[0m\u001b[0;34m(\u001b[0m\u001b[0mself\u001b[0m\u001b[0;34m)\u001b[0m\u001b[0;34m:\u001b[0m\u001b[0;34m\u001b[0m\u001b[0;34m\u001b[0m\u001b[0m\n",
            "\u001b[0;32m/usr/local/lib/python3.10/dist-packages/pandas/core/apply.py\u001b[0m in \u001b[0;36mapply_standard\u001b[0;34m(self)\u001b[0m\n\u001b[1;32m    796\u001b[0m \u001b[0;34m\u001b[0m\u001b[0m\n\u001b[1;32m    797\u001b[0m     \u001b[0;32mdef\u001b[0m \u001b[0mapply_standard\u001b[0m\u001b[0;34m(\u001b[0m\u001b[0mself\u001b[0m\u001b[0;34m)\u001b[0m\u001b[0;34m:\u001b[0m\u001b[0;34m\u001b[0m\u001b[0;34m\u001b[0m\u001b[0m\n\u001b[0;32m--> 798\u001b[0;31m         \u001b[0mresults\u001b[0m\u001b[0;34m,\u001b[0m \u001b[0mres_index\u001b[0m \u001b[0;34m=\u001b[0m \u001b[0mself\u001b[0m\u001b[0;34m.\u001b[0m\u001b[0mapply_series_generator\u001b[0m\u001b[0;34m(\u001b[0m\u001b[0;34m)\u001b[0m\u001b[0;34m\u001b[0m\u001b[0;34m\u001b[0m\u001b[0m\n\u001b[0m\u001b[1;32m    799\u001b[0m \u001b[0;34m\u001b[0m\u001b[0m\n\u001b[1;32m    800\u001b[0m         \u001b[0;31m# wrap results\u001b[0m\u001b[0;34m\u001b[0m\u001b[0;34m\u001b[0m\u001b[0m\n",
            "\u001b[0;32m/usr/local/lib/python3.10/dist-packages/pandas/core/apply.py\u001b[0m in \u001b[0;36mapply_series_generator\u001b[0;34m(self)\u001b[0m\n\u001b[1;32m    812\u001b[0m             \u001b[0;32mfor\u001b[0m \u001b[0mi\u001b[0m\u001b[0;34m,\u001b[0m \u001b[0mv\u001b[0m \u001b[0;32min\u001b[0m \u001b[0menumerate\u001b[0m\u001b[0;34m(\u001b[0m\u001b[0mseries_gen\u001b[0m\u001b[0;34m)\u001b[0m\u001b[0;34m:\u001b[0m\u001b[0;34m\u001b[0m\u001b[0;34m\u001b[0m\u001b[0m\n\u001b[1;32m    813\u001b[0m                 \u001b[0;31m# ignore SettingWithCopy here in case the user mutates\u001b[0m\u001b[0;34m\u001b[0m\u001b[0;34m\u001b[0m\u001b[0m\n\u001b[0;32m--> 814\u001b[0;31m                 \u001b[0mresults\u001b[0m\u001b[0;34m[\u001b[0m\u001b[0mi\u001b[0m\u001b[0;34m]\u001b[0m \u001b[0;34m=\u001b[0m \u001b[0mself\u001b[0m\u001b[0;34m.\u001b[0m\u001b[0mf\u001b[0m\u001b[0;34m(\u001b[0m\u001b[0mv\u001b[0m\u001b[0;34m)\u001b[0m\u001b[0;34m\u001b[0m\u001b[0;34m\u001b[0m\u001b[0m\n\u001b[0m\u001b[1;32m    815\u001b[0m                 \u001b[0;32mif\u001b[0m \u001b[0misinstance\u001b[0m\u001b[0;34m(\u001b[0m\u001b[0mresults\u001b[0m\u001b[0;34m[\u001b[0m\u001b[0mi\u001b[0m\u001b[0;34m]\u001b[0m\u001b[0;34m,\u001b[0m \u001b[0mABCSeries\u001b[0m\u001b[0;34m)\u001b[0m\u001b[0;34m:\u001b[0m\u001b[0;34m\u001b[0m\u001b[0;34m\u001b[0m\u001b[0m\n\u001b[1;32m    816\u001b[0m                     \u001b[0;31m# If we have a view on v, we need to make a copy because\u001b[0m\u001b[0;34m\u001b[0m\u001b[0;34m\u001b[0m\u001b[0m\n",
            "\u001b[0;32m<ipython-input-81-977919cc0e24>\u001b[0m in \u001b[0;36m<lambda>\u001b[0;34m(row)\u001b[0m\n\u001b[1;32m     41\u001b[0m     \u001b[0;32mreturn\u001b[0m \u001b[0;34m[\u001b[0m\u001b[0mitem\u001b[0m\u001b[0;34m[\u001b[0m\u001b[0;36m2\u001b[0m\u001b[0;34m]\u001b[0m \u001b[0;32mfor\u001b[0m \u001b[0mitem\u001b[0m \u001b[0;32min\u001b[0m \u001b[0mkeysents\u001b[0m\u001b[0;34m]\u001b[0m\u001b[0;34m\u001b[0m\u001b[0;34m\u001b[0m\u001b[0m\n\u001b[1;32m     42\u001b[0m \u001b[0;31m# 'summarize_content' 컬럼 생성\u001b[0m\u001b[0;34m\u001b[0m\u001b[0;34m\u001b[0m\u001b[0m\n\u001b[0;32m---> 43\u001b[0;31m \u001b[0mgongji_copy\u001b[0m\u001b[0;34m[\u001b[0m\u001b[0;34m'summarize_content'\u001b[0m\u001b[0;34m]\u001b[0m \u001b[0;34m=\u001b[0m \u001b[0mgongji_copy\u001b[0m\u001b[0;34m.\u001b[0m\u001b[0mapply\u001b[0m\u001b[0;34m(\u001b[0m\u001b[0;32mlambda\u001b[0m \u001b[0mrow\u001b[0m\u001b[0;34m:\u001b[0m \u001b[0msummarize_content\u001b[0m\u001b[0;34m(\u001b[0m\u001b[0mrow\u001b[0m\u001b[0;34m[\u001b[0m\u001b[0;34m'title'\u001b[0m\u001b[0;34m]\u001b[0m\u001b[0;34m,\u001b[0m \u001b[0mrow\u001b[0m\u001b[0;34m[\u001b[0m\u001b[0;34m'content'\u001b[0m\u001b[0;34m]\u001b[0m\u001b[0;34m)\u001b[0m\u001b[0;34m,\u001b[0m \u001b[0maxis\u001b[0m\u001b[0;34m=\u001b[0m\u001b[0;36m1\u001b[0m\u001b[0;34m)\u001b[0m\u001b[0;34m\u001b[0m\u001b[0;34m\u001b[0m\u001b[0m\n\u001b[0m\u001b[1;32m     44\u001b[0m \u001b[0;34m\u001b[0m\u001b[0m\n\u001b[1;32m     45\u001b[0m \u001b[0;34m\u001b[0m\u001b[0m\n",
            "\u001b[0;32m<ipython-input-81-977919cc0e24>\u001b[0m in \u001b[0;36msummarize_content\u001b[0;34m(title, content)\u001b[0m\n\u001b[1;32m     32\u001b[0m     \u001b[0;31m# 요약 수행\u001b[0m\u001b[0;34m\u001b[0m\u001b[0;34m\u001b[0m\u001b[0m\n\u001b[1;32m     33\u001b[0m     \u001b[0;32mtry\u001b[0m\u001b[0;34m:\u001b[0m\u001b[0;34m\u001b[0m\u001b[0;34m\u001b[0m\u001b[0m\n\u001b[0;32m---> 34\u001b[0;31m         \u001b[0mkeysents\u001b[0m \u001b[0;34m=\u001b[0m \u001b[0msummarizer\u001b[0m\u001b[0;34m.\u001b[0m\u001b[0msummarize\u001b[0m\u001b[0;34m(\u001b[0m\u001b[0msents\u001b[0m\u001b[0;34m,\u001b[0m \u001b[0mtopk\u001b[0m\u001b[0;34m=\u001b[0m\u001b[0;36m3\u001b[0m\u001b[0;34m)\u001b[0m\u001b[0;34m\u001b[0m\u001b[0;34m\u001b[0m\u001b[0m\n\u001b[0m\u001b[1;32m     35\u001b[0m     \u001b[0;32mexcept\u001b[0m \u001b[0mValueError\u001b[0m \u001b[0;32mas\u001b[0m \u001b[0me\u001b[0m\u001b[0;34m:\u001b[0m\u001b[0;34m\u001b[0m\u001b[0;34m\u001b[0m\u001b[0m\n\u001b[1;32m     36\u001b[0m         \u001b[0;31m# 요약 도중 에러 발생시 빈 리스트 반환\u001b[0m\u001b[0;34m\u001b[0m\u001b[0;34m\u001b[0m\u001b[0m\n",
            "\u001b[0;32m/content/textrank/textrank/summarizer.py\u001b[0m in \u001b[0;36msummarize\u001b[0;34m(self, sents, topk, bias)\u001b[0m\n\u001b[1;32m    192\u001b[0m             \u001b[0;32mraise\u001b[0m \u001b[0mValueError\u001b[0m\u001b[0;34m(\u001b[0m\u001b[0;34m'The type of bias must be None or numpy.ndarray but the type is {}'\u001b[0m\u001b[0;34m.\u001b[0m\u001b[0mformat\u001b[0m\u001b[0;34m(\u001b[0m\u001b[0mtype\u001b[0m\u001b[0;34m(\u001b[0m\u001b[0mbias\u001b[0m\u001b[0;34m)\u001b[0m\u001b[0;34m)\u001b[0m\u001b[0;34m)\u001b[0m\u001b[0;34m\u001b[0m\u001b[0;34m\u001b[0m\u001b[0m\n\u001b[1;32m    193\u001b[0m \u001b[0;34m\u001b[0m\u001b[0m\n\u001b[0;32m--> 194\u001b[0;31m         \u001b[0mself\u001b[0m\u001b[0;34m.\u001b[0m\u001b[0mtrain_textrank\u001b[0m\u001b[0;34m(\u001b[0m\u001b[0msents\u001b[0m\u001b[0;34m,\u001b[0m \u001b[0mbias\u001b[0m\u001b[0;34m)\u001b[0m\u001b[0;34m\u001b[0m\u001b[0;34m\u001b[0m\u001b[0m\n\u001b[0m\u001b[1;32m    195\u001b[0m         \u001b[0midxs\u001b[0m \u001b[0;34m=\u001b[0m \u001b[0mself\u001b[0m\u001b[0;34m.\u001b[0m\u001b[0mR\u001b[0m\u001b[0;34m.\u001b[0m\u001b[0margsort\u001b[0m\u001b[0;34m(\u001b[0m\u001b[0;34m)\u001b[0m\u001b[0;34m[\u001b[0m\u001b[0;34m-\u001b[0m\u001b[0mtopk\u001b[0m\u001b[0;34m:\u001b[0m\u001b[0;34m]\u001b[0m\u001b[0;34m\u001b[0m\u001b[0;34m\u001b[0m\u001b[0m\n\u001b[1;32m    196\u001b[0m         \u001b[0mkeysents\u001b[0m \u001b[0;34m=\u001b[0m \u001b[0;34m[\u001b[0m\u001b[0;34m(\u001b[0m\u001b[0midx\u001b[0m\u001b[0;34m,\u001b[0m \u001b[0mself\u001b[0m\u001b[0;34m.\u001b[0m\u001b[0mR\u001b[0m\u001b[0;34m[\u001b[0m\u001b[0midx\u001b[0m\u001b[0;34m]\u001b[0m\u001b[0;34m,\u001b[0m \u001b[0msents\u001b[0m\u001b[0;34m[\u001b[0m\u001b[0midx\u001b[0m\u001b[0;34m]\u001b[0m\u001b[0;34m)\u001b[0m \u001b[0;32mfor\u001b[0m \u001b[0midx\u001b[0m \u001b[0;32min\u001b[0m \u001b[0mreversed\u001b[0m\u001b[0;34m(\u001b[0m\u001b[0midxs\u001b[0m\u001b[0;34m)\u001b[0m\u001b[0;34m]\u001b[0m\u001b[0;34m\u001b[0m\u001b[0;34m\u001b[0m\u001b[0m\n",
            "\u001b[0;32m/content/textrank/textrank/summarizer.py\u001b[0m in \u001b[0;36mtrain_textrank\u001b[0;34m(self, sents, bias)\u001b[0m\n\u001b[1;32m    155\u001b[0m         \u001b[0;32mNone\u001b[0m\u001b[0;34m\u001b[0m\u001b[0;34m\u001b[0m\u001b[0m\n\u001b[1;32m    156\u001b[0m         \"\"\"\n\u001b[0;32m--> 157\u001b[0;31m         g = sent_graph(sents, self.tokenize, self.min_count,\n\u001b[0m\u001b[1;32m    158\u001b[0m             self.min_sim, self.similarity, self.vocab_to_idx, self.verbose)\n\u001b[1;32m    159\u001b[0m         \u001b[0mself\u001b[0m\u001b[0;34m.\u001b[0m\u001b[0mR\u001b[0m \u001b[0;34m=\u001b[0m \u001b[0mpagerank\u001b[0m\u001b[0;34m(\u001b[0m\u001b[0mg\u001b[0m\u001b[0;34m,\u001b[0m \u001b[0mself\u001b[0m\u001b[0;34m.\u001b[0m\u001b[0mdf\u001b[0m\u001b[0;34m,\u001b[0m \u001b[0mself\u001b[0m\u001b[0;34m.\u001b[0m\u001b[0mmax_iter\u001b[0m\u001b[0;34m,\u001b[0m \u001b[0mbias\u001b[0m\u001b[0;34m)\u001b[0m\u001b[0;34m.\u001b[0m\u001b[0mreshape\u001b[0m\u001b[0;34m(\u001b[0m\u001b[0;34m-\u001b[0m\u001b[0;36m1\u001b[0m\u001b[0;34m)\u001b[0m\u001b[0;34m\u001b[0m\u001b[0;34m\u001b[0m\u001b[0m\n",
            "\u001b[0;32m/content/textrank/textrank/sentence.py\u001b[0m in \u001b[0;36msent_graph\u001b[0;34m(sents, tokenize, min_count, min_sim, similarity, vocab_to_idx, verbose)\u001b[0m\n\u001b[1;32m     44\u001b[0m         \u001b[0midx_to_vocab\u001b[0m \u001b[0;34m=\u001b[0m \u001b[0;34m[\u001b[0m\u001b[0mvocab\u001b[0m \u001b[0;32mfor\u001b[0m \u001b[0mvocab\u001b[0m\u001b[0;34m,\u001b[0m \u001b[0m_\u001b[0m \u001b[0;32min\u001b[0m \u001b[0msorted\u001b[0m\u001b[0;34m(\u001b[0m\u001b[0mvocab_to_idx\u001b[0m\u001b[0;34m.\u001b[0m\u001b[0mitems\u001b[0m\u001b[0;34m(\u001b[0m\u001b[0;34m)\u001b[0m\u001b[0;34m,\u001b[0m \u001b[0mkey\u001b[0m\u001b[0;34m=\u001b[0m\u001b[0;32mlambda\u001b[0m \u001b[0mx\u001b[0m\u001b[0;34m:\u001b[0m\u001b[0mx\u001b[0m\u001b[0;34m[\u001b[0m\u001b[0;36m1\u001b[0m\u001b[0;34m]\u001b[0m\u001b[0;34m)\u001b[0m\u001b[0;34m]\u001b[0m\u001b[0;34m\u001b[0m\u001b[0;34m\u001b[0m\u001b[0m\n\u001b[1;32m     45\u001b[0m \u001b[0;34m\u001b[0m\u001b[0m\n\u001b[0;32m---> 46\u001b[0;31m     \u001b[0mx\u001b[0m \u001b[0;34m=\u001b[0m \u001b[0mvectorize_sents\u001b[0m\u001b[0;34m(\u001b[0m\u001b[0msents\u001b[0m\u001b[0;34m,\u001b[0m \u001b[0mtokenize\u001b[0m\u001b[0;34m,\u001b[0m \u001b[0mvocab_to_idx\u001b[0m\u001b[0;34m)\u001b[0m\u001b[0;34m\u001b[0m\u001b[0;34m\u001b[0m\u001b[0m\n\u001b[0m\u001b[1;32m     47\u001b[0m     \u001b[0;32mif\u001b[0m \u001b[0msimilarity\u001b[0m \u001b[0;34m==\u001b[0m \u001b[0;34m'cosine'\u001b[0m\u001b[0;34m:\u001b[0m\u001b[0;34m\u001b[0m\u001b[0;34m\u001b[0m\u001b[0m\n\u001b[1;32m     48\u001b[0m         \u001b[0mx\u001b[0m \u001b[0;34m=\u001b[0m \u001b[0mnumpy_cosine_similarity_matrix\u001b[0m\u001b[0;34m(\u001b[0m\u001b[0mx\u001b[0m\u001b[0;34m,\u001b[0m \u001b[0mmin_sim\u001b[0m\u001b[0;34m,\u001b[0m \u001b[0mverbose\u001b[0m\u001b[0;34m,\u001b[0m \u001b[0mbatch_size\u001b[0m\u001b[0;34m=\u001b[0m\u001b[0;36m1000\u001b[0m\u001b[0;34m)\u001b[0m\u001b[0;34m\u001b[0m\u001b[0;34m\u001b[0m\u001b[0m\n",
            "\u001b[0;32m/content/textrank/textrank/sentence.py\u001b[0m in \u001b[0;36mvectorize_sents\u001b[0;34m(sents, tokenize, vocab_to_idx)\u001b[0m\n\u001b[1;32m     54\u001b[0m     \u001b[0mrows\u001b[0m\u001b[0;34m,\u001b[0m \u001b[0mcols\u001b[0m\u001b[0;34m,\u001b[0m \u001b[0mdata\u001b[0m \u001b[0;34m=\u001b[0m \u001b[0;34m[\u001b[0m\u001b[0;34m]\u001b[0m\u001b[0;34m,\u001b[0m \u001b[0;34m[\u001b[0m\u001b[0;34m]\u001b[0m\u001b[0;34m,\u001b[0m \u001b[0;34m[\u001b[0m\u001b[0;34m]\u001b[0m\u001b[0;34m\u001b[0m\u001b[0;34m\u001b[0m\u001b[0m\n\u001b[1;32m     55\u001b[0m     \u001b[0;32mfor\u001b[0m \u001b[0mi\u001b[0m\u001b[0;34m,\u001b[0m \u001b[0msent\u001b[0m \u001b[0;32min\u001b[0m \u001b[0menumerate\u001b[0m\u001b[0;34m(\u001b[0m\u001b[0msents\u001b[0m\u001b[0;34m)\u001b[0m\u001b[0;34m:\u001b[0m\u001b[0;34m\u001b[0m\u001b[0;34m\u001b[0m\u001b[0m\n\u001b[0;32m---> 56\u001b[0;31m         \u001b[0mcounter\u001b[0m \u001b[0;34m=\u001b[0m \u001b[0mCounter\u001b[0m\u001b[0;34m(\u001b[0m\u001b[0mtokenize\u001b[0m\u001b[0;34m(\u001b[0m\u001b[0msent\u001b[0m\u001b[0;34m)\u001b[0m\u001b[0;34m)\u001b[0m\u001b[0;34m\u001b[0m\u001b[0;34m\u001b[0m\u001b[0m\n\u001b[0m\u001b[1;32m     57\u001b[0m         \u001b[0;32mfor\u001b[0m \u001b[0mtoken\u001b[0m\u001b[0;34m,\u001b[0m \u001b[0mcount\u001b[0m \u001b[0;32min\u001b[0m \u001b[0mcounter\u001b[0m\u001b[0;34m.\u001b[0m\u001b[0mitems\u001b[0m\u001b[0;34m(\u001b[0m\u001b[0;34m)\u001b[0m\u001b[0;34m:\u001b[0m\u001b[0;34m\u001b[0m\u001b[0;34m\u001b[0m\u001b[0m\n\u001b[1;32m     58\u001b[0m             \u001b[0mj\u001b[0m \u001b[0;34m=\u001b[0m \u001b[0mvocab_to_idx\u001b[0m\u001b[0;34m.\u001b[0m\u001b[0mget\u001b[0m\u001b[0;34m(\u001b[0m\u001b[0mtoken\u001b[0m\u001b[0;34m,\u001b[0m \u001b[0;34m-\u001b[0m\u001b[0;36m1\u001b[0m\u001b[0;34m)\u001b[0m\u001b[0;34m\u001b[0m\u001b[0;34m\u001b[0m\u001b[0m\n",
            "\u001b[0;32m<ipython-input-10-2ed784522e58>\u001b[0m in \u001b[0;36mokt_tokenize\u001b[0;34m(sent)\u001b[0m\n\u001b[1;32m      4\u001b[0m \u001b[0;34m\u001b[0m\u001b[0m\n\u001b[1;32m      5\u001b[0m \u001b[0;32mdef\u001b[0m \u001b[0mokt_tokenize\u001b[0m\u001b[0;34m(\u001b[0m\u001b[0msent\u001b[0m\u001b[0;34m)\u001b[0m\u001b[0;34m:\u001b[0m\u001b[0;34m\u001b[0m\u001b[0;34m\u001b[0m\u001b[0m\n\u001b[0;32m----> 6\u001b[0;31m     \u001b[0mwords\u001b[0m \u001b[0;34m=\u001b[0m \u001b[0mokt\u001b[0m\u001b[0;34m.\u001b[0m\u001b[0mpos\u001b[0m\u001b[0;34m(\u001b[0m\u001b[0msent\u001b[0m\u001b[0;34m,\u001b[0m \u001b[0mjoin\u001b[0m\u001b[0;34m=\u001b[0m\u001b[0;32mTrue\u001b[0m\u001b[0;34m)\u001b[0m\u001b[0;34m\u001b[0m\u001b[0;34m\u001b[0m\u001b[0m\n\u001b[0m\u001b[1;32m      7\u001b[0m     \u001b[0mwords\u001b[0m \u001b[0;34m=\u001b[0m \u001b[0;34m[\u001b[0m\u001b[0mw\u001b[0m \u001b[0;32mfor\u001b[0m \u001b[0mw\u001b[0m \u001b[0;32min\u001b[0m \u001b[0mwords\u001b[0m \u001b[0;32mif\u001b[0m \u001b[0;34m(\u001b[0m\u001b[0;34m'/Noun'\u001b[0m \u001b[0;32min\u001b[0m \u001b[0mw\u001b[0m \u001b[0;32mor\u001b[0m \u001b[0;34m'/Adjective'\u001b[0m \u001b[0;32min\u001b[0m \u001b[0mw\u001b[0m \u001b[0;32mor\u001b[0m \u001b[0;34m'/Verb'\u001b[0m \u001b[0;32min\u001b[0m \u001b[0mw\u001b[0m\u001b[0;34m)\u001b[0m\u001b[0;34m]\u001b[0m\u001b[0;34m\u001b[0m\u001b[0;34m\u001b[0m\u001b[0m\n\u001b[1;32m      8\u001b[0m     \u001b[0;32mreturn\u001b[0m \u001b[0mwords\u001b[0m\u001b[0;34m\u001b[0m\u001b[0;34m\u001b[0m\u001b[0m\n",
            "\u001b[0;32m/usr/local/lib/python3.10/dist-packages/konlpy/tag/_okt.py\u001b[0m in \u001b[0;36mpos\u001b[0;34m(self, phrase, norm, stem, join)\u001b[0m\n\u001b[1;32m     69\u001b[0m         \u001b[0mvalidate_phrase_inputs\u001b[0m\u001b[0;34m(\u001b[0m\u001b[0mphrase\u001b[0m\u001b[0;34m)\u001b[0m\u001b[0;34m\u001b[0m\u001b[0;34m\u001b[0m\u001b[0m\n\u001b[1;32m     70\u001b[0m \u001b[0;34m\u001b[0m\u001b[0m\n\u001b[0;32m---> 71\u001b[0;31m         tokens = self.jki.tokenize(\n\u001b[0m\u001b[1;32m     72\u001b[0m                     \u001b[0mphrase\u001b[0m\u001b[0;34m,\u001b[0m\u001b[0;34m\u001b[0m\u001b[0;34m\u001b[0m\u001b[0m\n\u001b[1;32m     73\u001b[0m                     \u001b[0mjpype\u001b[0m\u001b[0;34m.\u001b[0m\u001b[0mjava\u001b[0m\u001b[0;34m.\u001b[0m\u001b[0mlang\u001b[0m\u001b[0;34m.\u001b[0m\u001b[0mBoolean\u001b[0m\u001b[0;34m(\u001b[0m\u001b[0mnorm\u001b[0m\u001b[0;34m)\u001b[0m\u001b[0;34m,\u001b[0m\u001b[0;34m\u001b[0m\u001b[0;34m\u001b[0m\u001b[0m\n",
            "\u001b[0;31mKeyboardInterrupt\u001b[0m: "
          ]
        }
      ]
    },
    {
      "cell_type": "code",
      "source": [
        "# 인덱스 번호 검색하기\n",
        "index = gongji_copy[gongji_copy['title'] == \"2022学年度后期硕士招生简章\"].index\n",
        "print(index)"
      ],
      "metadata": {
        "colab": {
          "base_uri": "https://localhost:8080/"
        },
        "id": "XMNTEdq5fsOl",
        "outputId": "75cb8f5d-ddb1-4ebb-9443-b109d9532a83"
      },
      "execution_count": null,
      "outputs": [
        {
          "output_type": "stream",
          "name": "stdout",
          "text": [
            "Index([1009], dtype='int64')\n"
          ]
        }
      ]
    },
    {
      "cell_type": "code",
      "source": [
        "gongji_copy.loc[1009,'content']"
      ],
      "metadata": {
        "colab": {
          "base_uri": "https://localhost:8080/",
          "height": 182
        },
        "id": "m2Y_PAvpmOw6",
        "outputId": "c9d78eeb-2c9a-44da-cd2f-0e2913a1c9d1"
      },
      "execution_count": null,
      "outputs": [
        {
          "output_type": "execute_result",
          "data": {
            "text/plain": [
              "'\\n韩国外国语大学 政治行政言论大学院(夜间)2022学年度后期硕士招生简章1. 2022学年度后期招生日程补招材料提交2022.6.23.(周四) ~ 2022.7.11.(周一)考场通知2022.7.13.(周三) 14:00面试时间2022.7.16.(周六) 预计10:00 录取通知2022.7.21.(周四) 14:00缴纳全额学费2022-2学期 新生学费缴纳时间(预计2022.8月)2. 招生专业及学科公共监察-政策学科(公共政策，公共监察)外交安保学科（外交安保，北韩）媒体通讯学科（媒体通讯）文化娱乐产业学科（文化娱乐产业）3. 报名资格已在韩国境内外大学取得学士学位或预计在2022年8月取得学士学位的学生依照法律被认定具有同等以上学历的学生4. 报名方法• STEP 1 - 填写及提交网络申请书( www.uwayapply.com)• STEP 2 - 提交完网络申请书后，请将入学材料及其它材料一起提交至教学处* 在中国的大学毕业的情况（仅限于四年全日制本科毕业生）  - 中国教育部学历认证报告(http://www.chsi.com.cn) 或是 China Academic Degrees& Graduate Education Information(http://www.cdgdc.edu.cn)颁发的英文学位证书1份 - 毕业证书(预毕业证书) 的公证书 1份 - 学位证书的公证书(预毕业生在获得学位证书后提交) 1份 - 成绩证明的公证书1份※ 非韩国国籍的申请人 : 请务必提交以下文件 - 护照复印件, 外国人登陆证复印件(仅限于携带者) - 存款证明书(Financial Certification) - 韩国语能力考试(TOPIK) 3级以上成绩证明书(已报名截止时间为准2年内取得的成绩) 但是，如在申请时提交了3级topik成绩，需在毕业时提交4级以上的topik成绩。 - (合格后提交) 本人或者是父母名义办理的US $20,000以上的存款证明，或是同等金额的      本国货币所办理的存款证明(要求3个月内，且在韩国以外国家的银行中办理的情况，至少      冻结至2022年9月30日以后) 或是韩国的汇款兑换证明\\n* 请在有效期限内将所有材料通过邮寄，访问等方式提交 * 请务必在提交的期限内完成网络申请及材料提交5. 录取方法 : 材料审查及面试* 以参加面试为原则，不参加面试时视为不合格6. 招生地点 : 首尔校区（具体考场另行通知）7. 其它注意事项奖学金 (奖学生名单及金额将在入学后由奖学委员会决定)- 新生成绩优秀奖学金         - 成绩优秀奖学金          - 学生会委员奖学金- 功劳奖学金                 - 学费减免奖学金开设周末课程(周六)/ 平日课程19点开始- 本研究院系之间可以交叉授课8. 其它招生详情请参考政治行政言论大学院官网http://gsps.hufs.ac.kr 或参考招生简章 韩国外国语大学 大学院教学处事务2组(政治行政言论大学院)TEL. 02-2173-2428 FAX. 02-2173-3358(우)02450 서울특별시 동대문구 이문로 107(이문동 270)  \\n\\n'"
            ],
            "application/vnd.google.colaboratory.intrinsic+json": {
              "type": "string"
            }
          },
          "metadata": {},
          "execution_count": 73
        }
      ]
    },
    {
      "cell_type": "markdown",
      "source": [
        "### 영어 및 코로나 공지 제거\n",
        "- 공지의 경우 영어공지에 한국어가 섞인경우가 있어서 english 함수를 따로 지정\n",
        "- 중국어 처리 필요"
      ],
      "metadata": {
        "id": "wyK0SIMseC7w"
      }
    },
    {
      "cell_type": "markdown",
      "source": [
        "### 오류목록"
      ],
      "metadata": {
        "id": "lGIakClFy_fu"
      }
    },
    {
      "cell_type": "markdown",
      "source": [
        "1. 제1회 바우하우스 콜로키움 안내, Summarizer error: object dtype is not supported by sparse matrices\n",
        "2. [SW중심대학] 산학협력 프로젝트 참여인력 합격자 공지, Summarizer error: object dtype is not supported by sparse matrices\n",
        "3. [쌀람누리] 인턴채용 안내, Summarizer error: object dtype is not supported by sparse matrices\n",
        "4. 개교 68주년 기념식 안내, Summarizer error: object dtype is not supported by sparse matrices\n",
        "5. 한반도-북방 문화전략 포럼 웹 초청장, Summarizer error: object dtype is not supported by sparse matrices\n",
        "6. 러시아연구소, 2021 Russia Report 연례 세미나 개최, Summarizer error: object dtype is not supported by sparse matrices\n",
        "7. 한국외대 전인교육프로그램 HUFS Life Academy 4기생 추가모집, Summarizer error: object dtype is not supported by sparse matrices\n",
        "8. 러시아연구소, 이문일공칠과 인문강좌 공동 개최, Summarizer error: object dtype is not supported by sparse matrices\n",
        "9. [서울] [서울]학생상담센터 2학기 프로그램 안내, Summarizer error: object dtype is not supported by sparse matrices\n",
        "10. 독립출판 프로젝트 2기 모집 안내, Summarizer error: object dtype is not supported by sparse matrices\n",
        "11. 제10회 전국 대학(원)생 러시아어 토론대회 온라인 개최, Summarizer error: object dtype is not supported by sparse matrices\n",
        "12. 제10회 전국 대학(원)생 러시아어 토론대회 개최, Summarizer error: object dtype is not supported by sparse matrices\n",
        "13. [글로벌] 온라인 강의 기간 학생상담센터 이용안내, Summarizer error: object dtype is not supported by sparse matrices\n",
        "14. 신종 코로나바이러스감염증 예방행동수칙, Summarizer error: object dtype is not supported by sparse matrices\n",
        "15. 글로벌홀과 함게하는 남예종 DIPMX 미니 콘서트, Summarizer error: object dtype is not supported by sparse matrices\n",
        "16. 러시아연구소, 2019 Russia Report 연례 세미나 개최, Summarizer error: object dtype is not supported by sparse matrices\n",
        "17. 전자상거래중점대학지원사업 참여자 모집, Summarizer error: object dtype is not supported by sparse matrices\n",
        "18. [글로벌] 학생상담센터, 겨울방학 틈틈검사 안내, Summarizer error: object dtype is not supported by sparse matrices\n",
        "19. 러시아연구소, 한국슬라브유라시아학회와 공동 학술회의 개최, Summarizer error: object dtype is not supported by sparse matrices\n",
        "20. 러시아연구소, 제181차 콜로키움 개최, Summarizer error: object dtype is not supported by sparse matrices\n",
        "21. 제11차 러시아-CIS 전문가 초청 특강, Summarizer error: object dtype is not supported by sparse matrices\n",
        "22. 제10차 러시아-CIS 전문가 초청 특강, Summarizer error: object dtype is not supported by sparse matrices\n",
        "23. [글로벌] 2019-2 생명사랑 캠페인 안내, Summarizer error: object dtype is not supported by sparse matrices\n",
        "24. [서울] '2019 학생상담센터 심리검사 워크숍-내 안의 진로' 안내, Summarizer error: object dtype is not supported by sparse matrices\n",
        "25. 제9차 러시아-CIS 전문가 초청 특강, Summarizer error: object dtype is not supported by sparse matrices\n",
        "26. 2019년 동백도서관 『한국외대와 함께하는 인문학 특강』, Summarizer error: object dtype is not supported by sparse matrices\n",
        "27. 제8차 러시아-CIS 전문가 초청 특강, Summarizer error: object dtype is not supported by sparse matrices\n",
        "28. [글로벌] 미술치료를 통한 STRESS OUT! 프로그램 안내, Summarizer error: object dtype is not supported by sparse matrices\n",
        "29. 제7차 러시아-CIS 전문가 초청 특강, Summarizer error: object dtype is not supported by sparse matrices\n",
        "30. [글로벌] 학생상담센터 정서조절 코칭프로그램, Summarizer error: object dtype is not supported by sparse matrices\n",
        "31. [글로벌] 학생상담센터 마음돌보기 프로그램 안내, Summarizer error: object dtype is not supported by sparse matrices\n",
        "32. [글로벌] 학생상담센터 미술심리치료프로그램 안내, Summarizer error: object dtype is not supported by sparse matrices\n",
        "33. EU 10월 콜로키움 개최, Summarizer error: object dtype is not supported by sparse matrices\n",
        "34. 제6차 러시아-CIS 전문가 초청 특강, Summarizer error: object dtype is not supported by sparse matrices\n",
        "35. 제5차 러시아-CIS 전문가 초청 특강, Summarizer error: object dtype is not supported by sparse matrices\n",
        "36. [글로벌] 학생상담센터 2학기 프로그램 안내, Summarizer error: object dtype is not supported by sparse matrices\n",
        "37. 제3차 러시아-CIS 전문가 초청 특강, Summarizer error: object dtype is not supported by sparse matrices\n",
        "38. '한국외대와 함꼐하는 시민 인문학 특강' 개최, Summarizer error: object dtype is not supported by sparse matrices\n",
        "39. [글로벌] 2019학년도 정독상 독서감상문 원고모집, Summarizer error: object dtype is not supported by sparse matrices\n",
        "40. 제13차 러시아-CIS 전문가 초청 특강, Summarizer error: object dtype is not supported by sparse matrices\n",
        "41. 제12차 러시아-CIS 전문가 초청 특강, Summarizer error: object dtype is not supported by sparse matrices\n",
        "42. 한국외대와 함께하는 시민 인문학 특강, Summarizer error: object dtype is not supported by sparse matrices\n",
        "43. 제11차 러시아-CIS 전문가 초청 특강, Summarizer error: object dtype is not supported by sparse matrices\n",
        "44. 제9회 전국 대학생 러시아어 토론대회 개최, Summarizer error: object dtype is not supported by sparse matrices\n",
        "45. [서울] 2019 열린상담실 안내, Summarizer error: object dtype is not supported by sparse matrices\n",
        "46. 2019 모의유럽연합 참관인 모집, Summarizer error: object dtype is not supported by sparse matrices\n",
        "47. [글로벌] 학생상담센터 대인관계 향상 프로그램 안내, Summarizer error: object dtype is not supported by sparse matrices\n",
        "48. 제10차 러시아-CIS 전문가 초청 특강, Summarizer error: object dtype is not supported by sparse matrices\n",
        "49. [글로벌] 학생상담센터 발표불안 감소 프로그램 안내, Summarizer error: object dtype is not supported by sparse matrices\n",
        "50. [글로벌] 2019-1 진로 결정을 위한 자기탐색 프로그램, Summarizer error: object dtype is not supported by sparse matrices\n",
        "51. 김종구 북콘서트 '기타와 글쓰기', Summarizer error: object dtype is not supported by sparse matrices\n",
        "52. [서울] 2019 현직 선배와 함께하는 JOB 코칭데이, Summarizer error: object dtype is not supported by sparse matrices\n",
        "53. 제8차 러시아-CIS 전문가 초청 특강, Summarizer error: object dtype is not supported by sparse matrices\n",
        "54. [글로벌] 학생상담센터 심리검사 시리즈 1탄 : TCI 검사, Summarizer error: object dtype is not supported by sparse matrices\n",
        "55. 제7차 러시아-CIS 전문가 초청 특강, Summarizer error: object dtype is not supported by sparse matrices\n",
        "56. 제6차 러시아-CIS 전문가 초청 특강, Summarizer error: object dtype is not supported by sparse matrices\n",
        "57. 제9회 전국 대학생 러시아어 토론대회 개최, Summarizer error: object dtype is not supported by sparse matrices\n",
        "58. [글로벌] 2019-1 학생상담센터 황사마스크 나눔 행사 안내, Summarizer error: object dtype is not supported by sparse matrices\n",
        "59. [글로벌] 2019-1 학생상담센터 미술치료 프로그램 안내, Summarizer error: object dtype is not supported by sparse matrices\n",
        "60. [글로벌] 2019-1 학생상담센터 미술치료 프로그램 안내, Summarizer error: object dtype is not supported by sparse matrices\n",
        "61. 9회 전국 대학생 러시아어 토론대회 - 예선 참가 안내 -, Summarizer error: object dtype is not supported by sparse matrices\n",
        "62. [글로벌] 학생상담센터 새학기 홍보 이벤트 안내 (기념품 배포), Summarizer error: object dtype is not supported by sparse matrices\n",
        "63. [글로벌] 2019학년도 수시입학생 학점인정 AP프로그램 수강 안내, Summarizer error: object dtype is not supported by sparse matrices\n",
        "64. 혈액관리본부 통·번역 서포터즈 모집 안내, Summarizer error: object dtype is not supported by sparse matrices\n",
        "65. [서울] 보건실과 함께하는 기말고사 비타민C 이벤트, Summarizer error: object dtype is not supported by sparse matrices\n",
        "66. [공통] 2019년 상반기 20주 주간 외국어교육과정 교육생 모집안내, Summarizer error: object dtype is not supported by sparse matrices\n",
        "67. 2018년 동계방학 한국외대 IT자격증 특강, Summarizer error: object dtype is not supported by sparse matrices\n",
        "68. '2018년 중남미 보건의료산업 및 통역의 이해' 특강 개최, Summarizer error: object dtype is not supported by sparse matrices\n",
        "69. [글로벌] 특강 안내 [노래번역: 통번역가의 새로운 미래], Summarizer error: object dtype is not supported by sparse matrices\n",
        "70. [공통] 2018-2 창업아이디어 경진대회 참여신청 안내, Summarizer error: object dtype is not supported by sparse matrices\n",
        "71. [글로벌] 기업/산업분석(SWOT/3C/40분석법) 세미나, Summarizer error: object dtype is not supported by sparse matrices\n",
        "72. [공통] 우리은행 대학생 홍보대사 모집 안내, Summarizer error: object dtype is not supported by sparse matrices\n",
        "73. 자양 라이프아카데미 3기 모집, Summarizer error: object dtype is not supported by sparse matrices\n",
        "74. 2018년 대학도서관 이용자 만족도 조사 참여 안내, Summarizer error: object dtype is not supported by sparse matrices\n",
        "75. [글로벌] [18-2] 학점인정 방과후 프로그램(10주) 신청 안내, Summarizer error: object dtype is not supported by sparse matrices\n",
        "76. [공통] 2018학년도 하반기 창업동아리 모집, Summarizer error: object dtype is not supported by sparse matrices\n",
        "77. [서울] 2018년 여름방학 외대 IT자격증특강 안내, Summarizer error: object dtype is not supported by sparse matrices\n",
        "78. 러시아연구소, 오마이스쿨과 러시아 월드컵 관련 인문강좌 공동 개최, Summarizer error: object dtype is not supported by sparse matrices\n",
        "79. [마이나비코리아] 일본취업설명회 교내 개최 안내, Summarizer error: object dtype is not supported by sparse matrices\n",
        "80. 2018년 제 3기 <꽃 보다 대만학교> 개최 안내, Summarizer error: object dtype is not supported by sparse matrices\n",
        "81. 제8회 러시아어 토론대회 개최, Summarizer error: object dtype is not supported by sparse matrices\n",
        "82. [서울] 2018년 5월 한국외대 IT자격증특강 안내, Summarizer error: object dtype is not supported by sparse matrices\n",
        "83. 2018년 러시아어 토론대회 - 예선참가 안내 -, Summarizer error: object dtype is not supported by sparse matrices\n",
        "84. 학군사관(ROTC)59ㆍ60기 후보생모집안내, Summarizer error: object dtype is not supported by sparse matrices\n",
        "85. [글로벌] [18-1] 학점인정 방과후 프로그램(10주) 신청 안내, Summarizer error: object dtype is not supported by sparse matrices\n",
        "86. [서울] 2018년 3월 한국외대 IT자격증특강 안내, Summarizer error: object dtype is not supported by sparse matrices\n",
        "87. 러시아연구소, 이문일공칠과 인문강좌 공동 개최, Summarizer error: object dtype is not supported by sparse matrices\n",
        "88. [서울] [서울]학생상담센터 2학기 프로그램 안내, Summarizer error: object dtype is not supported by sparse matrices\n",
        "89. 독립출판 프로젝트 2기 모집 안내, Summarizer error: object dtype is not supported by sparse matrices\n",
        "90. 제10회 전국 대학(원)생 러시아어 토론대회 온라인 개최, Summarizer error: object dtype is not supported by sparse matrices\n",
        "91. 제8차 러시아-CIS 전문가 초청 특강, Summarizer error: object dtype is not supported by sparse matrices\n",
        "92. [글로벌] 학생상담센터 마음돌보기 프로그램 안내, Summarizer error: object dtype is not supported by sparse matrices\n",
        "93. [글로벌] 2019학년도 수시입학생 학점인정 AP프로그램 수강 안내, Summarizer error: object dtype is not supported by sparse matrices\n",
        "94. 혈액관리본부 통·번역 서포터즈 모집 안내, Summarizer error: object dtype is not supported by sparse matrices\n",
        "95. 명사 특강 안내 [SNS 유명 여행작가 청춘유리], Summarizer error: object dtype is not supported by sparse matrices\n",
        "96. [공통] 2018 국제심포지엄에 귀하를 초대합니다(노사발전재단), Summarizer error: object dtype is not supported by sparse matrices"
      ],
      "metadata": {
        "id": "euxVsJUjy7Cv"
      }
    },
    {
      "cell_type": "markdown",
      "source": [
        "### 2차 개선 _ sententence 리스트길이 5로 주기\n",
        "\n"
      ],
      "metadata": {
        "id": "JBOdrtDB9yCD"
      }
    },
    {
      "cell_type": "markdown",
      "source": [
        "1. 제1회 바우하우스 콜로키움 안내, Summarizer error: object dtype is not supported by sparse matrices\n",
        "2. [SW중심대학] 산학협력 프로젝트 참여인력 합격자 공지, Summarizer error: object dtype is not supported by sparse matrices\n",
        "3. 개교 68주년 기념식 안내, Summarizer error: object dtype is not supported by sparse matrices\n",
        "4. 한반도-북방 문화전략 포럼 웹 초청장, Summarizer error: object dtype is not supported by sparse matrices\n",
        "5. 전자상거래중점대학지원사업 참여자 모집, Summarizer error: object dtype is not supported by sparse matrices\n",
        "6. [서울] '2019 학생상담센터 심리검사 워크숍-내 안의 진로' 안내, Summarizer error: object dtype is not supported by sparse matrices\n",
        "7. [글로벌] 학생상담센터 마음돌보기 프로그램 안내, Summarizer error: object dtype is not supported by sparse matrices\n",
        "8. 명사 특강 안내 [SNS 유명 여행작가 청춘유리], Summarizer error: object dtype is not supported by sparse matrices\n",
        "9. [공통] 2018 국제심포지엄에 귀하를 초대합니다(노사발전재단), Summarizer error: object dtype is not supported by sparse matrices"
      ],
      "metadata": {
        "id": "KJmKUUK897uz"
      }
    },
    {
      "cell_type": "markdown",
      "source": [
        "### 외국어 개선 코드"
      ],
      "metadata": {
        "id": "9j4zdS8QzB-s"
      }
    },
    {
      "cell_type": "code",
      "source": [
        "# 원래 행개수 6707\n",
        "raw_nums_original = len(gongji_copy)\n",
        "raw_nums_original"
      ],
      "metadata": {
        "colab": {
          "base_uri": "https://localhost:8080/"
        },
        "id": "0oOvVb3ce0NO",
        "outputId": "8f8300ad-e91b-4e1e-de6b-d13a85a8fd3f"
      },
      "execution_count": null,
      "outputs": [
        {
          "output_type": "execute_result",
          "data": {
            "text/plain": [
              "6708"
            ]
          },
          "metadata": {},
          "execution_count": 56
        }
      ]
    },
    {
      "cell_type": "code",
      "source": [
        "# '코로나19 발병현황 및 행동지침'이 포함된 행을 찾고 제거\n",
        "gongji_copy = gongji_copy[~gongji_copy['title'].str.contains('코로나19 발병현황 및 행동지침')]\n",
        "# 발병현황 떨구고 6141개 됨\n",
        "len(gongji_copy)"
      ],
      "metadata": {
        "colab": {
          "base_uri": "https://localhost:8080/"
        },
        "id": "--1SNvwaenJE",
        "outputId": "9e076248-753b-48cb-e080-282b0a750adf"
      },
      "execution_count": null,
      "outputs": [
        {
          "output_type": "execute_result",
          "data": {
            "text/plain": [
              "6141"
            ]
          },
          "metadata": {},
          "execution_count": 57
        }
      ]
    },
    {
      "cell_type": "code",
      "source": [
        "def is_foreign_language(text, korean_threshold=0.3):\n",
        "    if isinstance(text, list):\n",
        "        text = ' '.join(text)\n",
        "\n",
        "    text = text.strip()\n",
        "    if not text:\n",
        "        return False\n",
        "\n",
        "    total_chars = len(text)\n",
        "    korean_chars = len(re.findall('[가-힣]', text))\n",
        "\n",
        "    # 한국어 비율이 일정 수준 미만인 경우 True 반환\n",
        "    return korean_chars / total_chars < korean_threshold\n",
        "\n",
        "text = \"\"\"韩国外国语大学 政治行政言论大学院(夜间)2022学年度后期硕士招生简章1. 2022学年度后期招生日程补招材料提交2022.6.23.(周四) ~ 2022.7.11.(周一)考场通知2022.7.13.(周三) 14:00面试时间2022.7.16.(周六) 预计10:00 录取通知2022.7.21.(周四) 14:00缴纳全额学费2022-2学期 新生学费缴纳时间(预计2022.8月)2. 招生专业及学科公共监察-政策学科(公共政策，公共监察)外交安保学科（外交安保，北韩）媒体通讯学科（媒体通讯）文化娱乐产业学科（文化娱乐产业）3. 报名资格已在韩国境内外大学取得学士学位或预计在2022年8月取得学士学位的学生依照法律被认定具有同等以上学历的学生4. 报名方法• STEP 1 - 填写及提交网络申请书( www.uwayapply.com)• STEP 2 - 提交完网络申请书后，请将入学材料及其它材料一起提交至教学处* 在中国的大学毕业的情况（仅限于四年全日制本科毕业生）  - 中国教育部学历认证报告(http://www.chsi.com.cn) 或是 China Academic Degrees& Graduate Education Information(http://www.cdgdc.edu.cn)颁发的英文学位证书1份 - 毕业证书(预毕业证书) 的公证书 1份 - 学位证书的公证书(预毕业生在获得学位证书后提交) 1份 - 成绩证明的公证书1份※ 非韩国国籍的申请人 : 请务必提交以下文件 - 护照复印件, 外国人登陆证复印件(仅限于携带者) - 存款证明书(Financial Certification) - 韩国语能力考试(TOPIK) 3级以上成绩证明书(已报名截止时间为准2年内取得的成绩) 但是，如在申请时提交了3级topik成绩，需在毕业时提交4级以上的topik成绩。 - (合格后提交) 本人或者是父母名义办理的US $20,000以上的存款证明，或是同等金额的      本国货币所办理的存款证明(要求3个月内，且在韩国以外国家的银行中办理的情况，至少      冻结至2022年9月30日以后) 或是韩国的汇款兑换证明\n",
        "* 请在有效期限内将所有材料通过邮寄，访问等方式提交 * 请务必在提交的期限内完成网络申请及材料提交5. 录取方法 : 材料审查及面试* 以参加面试为原则，不参加面试时视为不合格6. 招生地点 : 首尔校区（具体考场另行通知）7. 其它注意事项奖学金 (奖学生名单及金额将在入学后由奖学委员会决定)- 新生成绩优秀奖学金         - 成绩优秀奖学金          - 学生会委员奖学金- 功劳奖学金                 - 学费减免奖学金开设周末课程(周六)/ 平日课程19点开始- 本研究院系之间可以交叉授课8. 其它招生详情请参考政治行政言论大学院官网http://gsps.hufs.ac.kr 或参考招生简章 韩国外国语大学 大学院教学处事务2组(政治行政言论大学院)TEL. 02-2173-2428 FAX. 02-2173-3358(우)02450 서울특별시 동대문구 이문로 107(이문동 270)\n",
        "\"\"\"\n",
        "result = is_foreign_language(text)\n",
        "print(result)"
      ],
      "metadata": {
        "colab": {
          "base_uri": "https://localhost:8080/"
        },
        "id": "Kt8Y-hserw1K",
        "outputId": "94eb8b6d-0e3d-483d-fa8d-3c3aafc3e022"
      },
      "execution_count": null,
      "outputs": [
        {
          "output_type": "stream",
          "name": "stdout",
          "text": [
            "True\n"
          ]
        }
      ]
    },
    {
      "cell_type": "code",
      "source": [
        "# 영어 불용어 처리 해주기\n",
        "\n",
        "\n",
        "# 한글이 0.3이하면 True반환\n",
        "def is_foreign_language(text, korean_threshold=0.3):\n",
        "    if isinstance(text, list):\n",
        "        text = ' '.join(text)\n",
        "\n",
        "    text = text.strip()\n",
        "    if not text:\n",
        "        return False\n",
        "\n",
        "    total_chars = len(text)\n",
        "    korean_chars = len(re.findall('[가-힣]', text))\n",
        "\n",
        "    # 한국어 비율이 일정 수준 미만인 경우 True 반환\n",
        "    return korean_chars / total_chars < korean_threshold\n",
        "\n",
        "\n",
        "# 요약 함수 정의\n",
        "def summarize_content(title, content):\n",
        "    global cnt_error  # 전역 변수로 cnt_error를 사용\n",
        "\n",
        "    '''\n",
        "    # 영어로만 이루어진 게시글을 필터링\n",
        "    if is_mostly_english(content):\n",
        "        return []'''\n",
        "    # 한국어 비율이 0.3 이하일 경우 외국어공지로 취급하여 [] 반환\n",
        "    if is_foreign_language(content):\n",
        "        return []\n",
        "\n",
        "    if not content:\n",
        "        return []\n",
        "\n",
        "    if isinstance(content, list):\n",
        "        content = ' '.join(content)\n",
        "\n",
        "    if not content.strip():\n",
        "        return []\n",
        "\n",
        "    sents = re.split(r'\\n|\\.', content)\n",
        "\n",
        "    sents = list(filter(None, sents))\n",
        "\n",
        "    sents = [sent for sent in sents if sent.strip()]\n",
        "\n",
        "    if not sents:\n",
        "        return []\n",
        "\n",
        "    # 문장 길이 제한을 5로 늘림. 리스트에 split하고도 요소가 5개 미만이면 그냥 반환 (사진으로 문장 적은애들이 에러까지 안가게)\n",
        "    if len(sents) < 5:\n",
        "        return sents\n",
        "\n",
        "    # 요약 수행\n",
        "    try:\n",
        "        keysents = summarizer.summarize(sents, topk=3)\n",
        "    except ValueError as e:\n",
        "        # 요약 도중 에러 발생시 빈 리스트 반환\n",
        "        cnt_error += 1\n",
        "        print(f\"{cnt_error}. {title}, Summarizer error: {e}\")\n",
        "\n",
        "        # 문장으로 반환해주되, 3줄 아래면 그대로 반환하고 그 이상이면 3줄까지만 반환?\n",
        "        if len(sents) < 3:\n",
        "            return sents\n",
        "        else:\n",
        "            return sents[:3]\n",
        "\n",
        "    return [item[2] for item in keysents]\n",
        "\n",
        "\n",
        "cnt_error = 0\n",
        "# 'summarize_content' 컬럼 생성\n",
        "gongji_copy['summarize_content'] = gongji_copy.apply(lambda row: summarize_content(row['title'], row['content']), axis=1)\n",
        "\n",
        "\n",
        "# 결과 출력\n",
        "print(gongji_copy['summarize_content'])"
      ],
      "metadata": {
        "colab": {
          "base_uri": "https://localhost:8080/"
        },
        "id": "l7MwhsXNetmg",
        "outputId": "15ee9126-de30-4f88-c6c9-e1dd909bcf81"
      },
      "execution_count": null,
      "outputs": [
        {
          "output_type": "stream",
          "name": "stdout",
          "text": [
            "1. 제1회 바우하우스 콜로키움 안내, Summarizer error: object dtype is not supported by sparse matrices\n",
            "2. [SW중심대학] 산학협력 프로젝트 참여인력 합격자 공지, Summarizer error: object dtype is not supported by sparse matrices\n",
            "3. 개교 68주년 기념식 안내, Summarizer error: object dtype is not supported by sparse matrices\n",
            "4. 한반도-북방 문화전략 포럼 웹 초청장, Summarizer error: object dtype is not supported by sparse matrices\n",
            "5. 전자상거래중점대학지원사업 참여자 모집, Summarizer error: object dtype is not supported by sparse matrices\n",
            "6. [서울] '2019 학생상담센터 심리검사 워크숍-내 안의 진로' 안내, Summarizer error: object dtype is not supported by sparse matrices\n",
            "7. [글로벌] 학생상담센터 마음돌보기 프로그램 안내, Summarizer error: object dtype is not supported by sparse matrices\n",
            "8. 명사 특강 안내 [SNS 유명 여행작가 청춘유리], Summarizer error: object dtype is not supported by sparse matrices\n",
            "9. [공통] 2018 국제심포지엄에 귀하를 초대합니다(노사발전재단), Summarizer error: object dtype is not supported by sparse matrices\n",
            "0       [명상에 대해 배워보고 체험해볼 수 있는 <금모닝 마음챙김> 집단상담이 열립니다!,...\n",
            "1       [ 심폐소생술 교육일정 및 교육 신청 안내, 심폐소생술 교육일정 안내, 서울캠퍼스 ...\n",
            "2       [EU연구소 인문사회연구사업단에서 다가오는 4월 5일 금요일 16시, 교수회관 강연...\n",
            "3       [□한국외국어대학교 인도연구소(소장 김찬완)인문한국플러스(HK+)사업단은 오는4월5...\n",
            "4       [ 해당게시물에첨부된‘외대교육방송국78기수습국원지원서,  FBS 인스타그램페이지에서...\n",
            "                              ...                        \n",
            "6703    [                         2018학년도 전기 학생모집 안내￭ ...\n",
            "6704    [대원빌딩 철거공사 입찰 관련 질의 응답대원빌딩 철거공사 입찰과 관련한 질의사항에 ...\n",
            "6705    [주말 과정은 대학(원)생, 취업준비생, 해외연수 및 유학준비생, 인사혁신처 추천 ...\n",
            "6706    [‘FLC 외국어교육과정’은 대학(원)생, 취업준비생, 해외연수 및 유학준비생, 인...\n",
            "6707    [‘FLC 외국어교육과정’은 대학(원)생, 취업준비생, 해외연수 및 유학준비생, 인...\n",
            "Name: summarize_content, Length: 6141, dtype: object\n"
          ]
        },
        {
          "output_type": "stream",
          "name": "stderr",
          "text": [
            "<ipython-input-127-712baf403312>:73: SettingWithCopyWarning: \n",
            "A value is trying to be set on a copy of a slice from a DataFrame.\n",
            "Try using .loc[row_indexer,col_indexer] = value instead\n",
            "\n",
            "See the caveats in the documentation: https://pandas.pydata.org/pandas-docs/stable/user_guide/indexing.html#returning-a-view-versus-a-copy\n",
            "  gongji_copy['summarize_content'] = gongji_copy.apply(lambda row: summarize_content(row['title'], row['content']), axis=1)\n"
          ]
        }
      ]
    },
    {
      "cell_type": "code",
      "source": [
        "# 인덱스 번호 검색하기\n",
        "index = gongji_copy[gongji_copy['title'] == \"[공통] 2018 국제심포지엄에 귀하를 초대합니다(노사발전재단)\"].index\n",
        "print(index)"
      ],
      "metadata": {
        "colab": {
          "base_uri": "https://localhost:8080/"
        },
        "id": "cWRv2oedzl94",
        "outputId": "66f45382-ad1a-49f5-f493-e3969bab953c"
      },
      "execution_count": null,
      "outputs": [
        {
          "output_type": "stream",
          "name": "stdout",
          "text": [
            "Index([4200, 6331], dtype='int64')\n"
          ]
        }
      ]
    },
    {
      "cell_type": "code",
      "source": [
        "gongji_copy.loc[6331,'content']"
      ],
      "metadata": {
        "colab": {
          "base_uri": "https://localhost:8080/",
          "height": 35
        },
        "id": "Vg_Sz9okz5tY",
        "outputId": "38132c0d-1d08-4a5d-befe-7c4cffebfe0f"
      },
      "execution_count": null,
      "outputs": [
        {
          "output_type": "execute_result",
          "data": {
            "text/plain": [
              "'\\nWORLD ILERA 2018\\n2018 국제심포지엄\\n글로벌 공급망 내 인권보호와 CSR\\n일시 :2018년 7월 29일(월) 14:00~17:30\\n장소 : 코엑스 컨퍼런스룸 203호\\n참가신청하기\\n'"
            ],
            "application/vnd.google.colaboratory.intrinsic+json": {
              "type": "string"
            }
          },
          "metadata": {},
          "execution_count": 135
        }
      ]
    },
    {
      "cell_type": "code",
      "source": [
        "gongji_copy.loc[6331,'summarize_content']"
      ],
      "metadata": {
        "colab": {
          "base_uri": "https://localhost:8080/"
        },
        "id": "B-OGEadaz9j4",
        "outputId": "82b8c0f2-0d44-4761-bfd0-ff3fec21a8be"
      },
      "execution_count": null,
      "outputs": [
        {
          "output_type": "execute_result",
          "data": {
            "text/plain": [
              "['WORLD ILERA 2018', '2018 국제심포지엄', '글로벌 공급망 내 인권보호와 CSR']"
            ]
          },
          "metadata": {},
          "execution_count": 134
        }
      ]
    },
    {
      "cell_type": "markdown",
      "source": [
        "## 채용"
      ],
      "metadata": {
        "id": "LGYpHEYStRAe"
      }
    },
    {
      "cell_type": "markdown",
      "source": [
        "### 오류 리스트\n",
        "-  15 / 1268\n",
        "- 대부분 영어라 okt가 못인식한 것"
      ],
      "metadata": {
        "id": "TwmPtKBOvK4-"
      }
    },
    {
      "cell_type": "markdown",
      "source": [
        "1.\n",
        "Additioinal Faculty Position Announcement for Spring 2024 (Foreign Faculty), Summarizer error: object dtype is not supported by sparse matrices\n",
        "\n",
        "2.\n",
        "Faculty Position Announcement for Spring 2024 (Foreign Faculty), Summarizer error: object dtype is not supported by sparse matrices\n",
        "\n",
        "3.\n",
        "Faculty Position Announcement for Fall 2023(Foreign Faculty), Summarizer error: object dtype is not supported by sparse matrices\n",
        "\n",
        "4.\n",
        "Faculty Position Announcement for Spring 2023 (Foreign Faculty), Summarizer error: object dtype is not supported by sparse matrices\n",
        "\n",
        "5.\n",
        "[쌀람누리] 인턴채용 안내, Summarizer error: object dtype is not supported by sparse matrices\n",
        "\n",
        "6.\n",
        "Faculty Position Announcement for Fall 2022 (Foreign Faculty), Summarizer error: object dtype is not supported by sparse matrices\n",
        "\n",
        "7.\n",
        "Faculty Position Announcement for Spring 2022 (Foreign Faculty), Summarizer error: object dtype is not supported by sparse matrices\n",
        "\n",
        "8.\n",
        "Job Opening Announcement for HK Research Professor for HK+ ‘Great Transition in India’ Project at Institute of Indian Studies, H, Summarizer error: object dtype is not supported by sparse matrices\n",
        "\n",
        "9.\n",
        "Faculty Position Announcement for Fall 2021 (Foreign Faculty), Summarizer error: object dtype is not supported by sparse matrices\n",
        "\n",
        "10.\n",
        "한국외국어대학교 신입 직원 채용공고, Summarizer error: object dtype is not supported by sparse matrices\n",
        "\n",
        "11.\n",
        "한국외국어대학교 입학사정관 채용공고, Summarizer error: object dtype is not supported by sparse matrices\n",
        "\n",
        "12.\n",
        "2021 Online International Summer Session (ISS) Instructor Recruitment Annoucement, Summarizer error: object dtype is not supported by sparse matrices\n",
        "\n",
        "13.\n",
        "Faculty Position Announcement for Spring 2021 (Foreign Faculty), Summarizer error: object dtype is not supported by sparse matrices\n",
        "\n",
        "14.\n",
        "2020 International Youth Leader Exchange Support Program Participant Recruiting Announcement, Summarizer error: object dtype is not supported by sparse matrices\n",
        "\n",
        "15.\n",
        "Faculty Position Announcement for Fall 2020 (Foreign Faculty), Summarizer error: object dtype is not supported by sparse matrices"
      ],
      "metadata": {
        "id": "FK9M-bs6uyDX"
      }
    },
    {
      "cell_type": "markdown",
      "source": [
        "### 코드"
      ],
      "metadata": {
        "id": "OScF9DEDtZ5R"
      }
    },
    {
      "cell_type": "code",
      "source": [
        "import re\n",
        "import pandas as pd\n",
        "\n",
        "# 에러 카운트 변수 초기화\n",
        "cnt_error = 0\n",
        "\n",
        "# 요약 함수 정의\n",
        "def summarize_content(title, content):\n",
        "    global cnt_error  # 전역 변수로 cnt_error를 사용\n",
        "\n",
        "    if not content:\n",
        "        return []\n",
        "\n",
        "    if isinstance(content, list):\n",
        "        content = ' '.join(content)\n",
        "\n",
        "    if not content.strip():\n",
        "        return []\n",
        "\n",
        "    sents = re.split(r'\\n|\\.', content)\n",
        "\n",
        "    sents = list(filter(None, sents))\n",
        "\n",
        "    sents = [sent for sent in sents if sent.strip()]\n",
        "\n",
        "    if not sents:\n",
        "        return []\n",
        "\n",
        "    if len(sents) == 1:\n",
        "        return sents\n",
        "\n",
        "    # 요약 수행\n",
        "    try:\n",
        "        keysents = summarizer.summarize(sents, topk=3)\n",
        "    except ValueError as e:\n",
        "        # 요약 도중 에러 발생시 빈 리스트 반환\n",
        "        cnt_error += 1\n",
        "        print(f\"{cnt_error}. {title}, Summarizer error: {e}\")\n",
        "        return []\n",
        "\n",
        "    return [item[2] for item in keysents]\n",
        "\n",
        "# 'summarize_content' 컬럼 생성\n",
        "hiring_copy['summarize_content'] = hiring_copy.apply(lambda row: summarize_content(row['title'], row['content']), axis=1)\n",
        "\n",
        "\n",
        "# 결과 출력\n",
        "print(hiring_copy['summarize_content'])"
      ],
      "metadata": {
        "colab": {
          "base_uri": "https://localhost:8080/",
          "height": 669
        },
        "id": "fQ3iO7nCtUFJ",
        "outputId": "3372e651-c2eb-4a95-80a1-faf64b1c5baa"
      },
      "execution_count": null,
      "outputs": [
        {
          "output_type": "stream",
          "name": "stdout",
          "text": [
            "1. Additioinal Faculty Position Announcement for Spring 2024 (Foreign Faculty), Summarizer error: object dtype is not supported by sparse matrices\n",
            "2. Faculty Position Announcement for Spring 2024 (Foreign Faculty), Summarizer error: object dtype is not supported by sparse matrices\n",
            "3. Faculty Position Announcement for Fall 2023(Foreign Faculty), Summarizer error: object dtype is not supported by sparse matrices\n",
            "4. Faculty Position Announcement for Spring 2023 (Foreign Faculty), Summarizer error: object dtype is not supported by sparse matrices\n",
            "5. [쌀람누리] 인턴채용 안내, Summarizer error: object dtype is not supported by sparse matrices\n",
            "6. Faculty Position Announcement for Fall 2022 (Foreign Faculty), Summarizer error: object dtype is not supported by sparse matrices\n",
            "7. Faculty Position Announcement for Spring 2022 (Foreign Faculty), Summarizer error: object dtype is not supported by sparse matrices\n",
            "8. Job Opening Announcement for HK Research Professor for HK+ ‘Great Transition in India’ Project at Institute of Indian Studies, H, Summarizer error: object dtype is not supported by sparse matrices\n",
            "9. Faculty Position Announcement for Fall 2021 (Foreign Faculty), Summarizer error: object dtype is not supported by sparse matrices\n",
            "10. 한국외국어대학교 신입 직원 채용공고, Summarizer error: object dtype is not supported by sparse matrices\n",
            "11. 한국외국어대학교 입학사정관 채용공고, Summarizer error: object dtype is not supported by sparse matrices\n",
            "12. 2021 Online International Summer Session (ISS) Instructor Recruitment Annoucement, Summarizer error: object dtype is not supported by sparse matrices\n",
            "13. Faculty Position Announcement for Spring 2021 (Foreign Faculty), Summarizer error: object dtype is not supported by sparse matrices\n",
            "14. 2020 International Youth Leader Exchange Support Program Participant Recruiting Announcement, Summarizer error: object dtype is not supported by sparse matrices\n"
          ]
        },
        {
          "output_type": "error",
          "ename": "KeyboardInterrupt",
          "evalue": "",
          "traceback": [
            "\u001b[0;31m---------------------------------------------------------------------------\u001b[0m",
            "\u001b[0;31mKeyboardInterrupt\u001b[0m                         Traceback (most recent call last)",
            "\u001b[0;32m<ipython-input-26-c207a61f519d>\u001b[0m in \u001b[0;36m<cell line: 44>\u001b[0;34m()\u001b[0m\n\u001b[1;32m     42\u001b[0m \u001b[0;34m\u001b[0m\u001b[0m\n\u001b[1;32m     43\u001b[0m \u001b[0;31m# 'summarize_content' 컬럼 생성\u001b[0m\u001b[0;34m\u001b[0m\u001b[0;34m\u001b[0m\u001b[0m\n\u001b[0;32m---> 44\u001b[0;31m \u001b[0mhiring_copy\u001b[0m\u001b[0;34m[\u001b[0m\u001b[0;34m'summarize_content'\u001b[0m\u001b[0;34m]\u001b[0m \u001b[0;34m=\u001b[0m \u001b[0mhiring_copy\u001b[0m\u001b[0;34m.\u001b[0m\u001b[0mapply\u001b[0m\u001b[0;34m(\u001b[0m\u001b[0;32mlambda\u001b[0m \u001b[0mrow\u001b[0m\u001b[0;34m:\u001b[0m \u001b[0msummarize_content\u001b[0m\u001b[0;34m(\u001b[0m\u001b[0mrow\u001b[0m\u001b[0;34m[\u001b[0m\u001b[0;34m'title'\u001b[0m\u001b[0;34m]\u001b[0m\u001b[0;34m,\u001b[0m \u001b[0mrow\u001b[0m\u001b[0;34m[\u001b[0m\u001b[0;34m'content'\u001b[0m\u001b[0;34m]\u001b[0m\u001b[0;34m)\u001b[0m\u001b[0;34m,\u001b[0m \u001b[0maxis\u001b[0m\u001b[0;34m=\u001b[0m\u001b[0;36m1\u001b[0m\u001b[0;34m)\u001b[0m\u001b[0;34m\u001b[0m\u001b[0;34m\u001b[0m\u001b[0m\n\u001b[0m\u001b[1;32m     45\u001b[0m \u001b[0;34m\u001b[0m\u001b[0m\n\u001b[1;32m     46\u001b[0m \u001b[0;34m\u001b[0m\u001b[0m\n",
            "\u001b[0;32m/usr/local/lib/python3.10/dist-packages/pandas/core/frame.py\u001b[0m in \u001b[0;36mapply\u001b[0;34m(self, func, axis, raw, result_type, args, **kwargs)\u001b[0m\n\u001b[1;32m   9421\u001b[0m             \u001b[0mkwargs\u001b[0m\u001b[0;34m=\u001b[0m\u001b[0mkwargs\u001b[0m\u001b[0;34m,\u001b[0m\u001b[0;34m\u001b[0m\u001b[0;34m\u001b[0m\u001b[0m\n\u001b[1;32m   9422\u001b[0m         )\n\u001b[0;32m-> 9423\u001b[0;31m         \u001b[0;32mreturn\u001b[0m \u001b[0mop\u001b[0m\u001b[0;34m.\u001b[0m\u001b[0mapply\u001b[0m\u001b[0;34m(\u001b[0m\u001b[0;34m)\u001b[0m\u001b[0;34m.\u001b[0m\u001b[0m__finalize__\u001b[0m\u001b[0;34m(\u001b[0m\u001b[0mself\u001b[0m\u001b[0;34m,\u001b[0m \u001b[0mmethod\u001b[0m\u001b[0;34m=\u001b[0m\u001b[0;34m\"apply\"\u001b[0m\u001b[0;34m)\u001b[0m\u001b[0;34m\u001b[0m\u001b[0;34m\u001b[0m\u001b[0m\n\u001b[0m\u001b[1;32m   9424\u001b[0m \u001b[0;34m\u001b[0m\u001b[0m\n\u001b[1;32m   9425\u001b[0m     def applymap(\n",
            "\u001b[0;32m/usr/local/lib/python3.10/dist-packages/pandas/core/apply.py\u001b[0m in \u001b[0;36mapply\u001b[0;34m(self)\u001b[0m\n\u001b[1;32m    676\u001b[0m             \u001b[0;32mreturn\u001b[0m \u001b[0mself\u001b[0m\u001b[0;34m.\u001b[0m\u001b[0mapply_raw\u001b[0m\u001b[0;34m(\u001b[0m\u001b[0;34m)\u001b[0m\u001b[0;34m\u001b[0m\u001b[0;34m\u001b[0m\u001b[0m\n\u001b[1;32m    677\u001b[0m \u001b[0;34m\u001b[0m\u001b[0m\n\u001b[0;32m--> 678\u001b[0;31m         \u001b[0;32mreturn\u001b[0m \u001b[0mself\u001b[0m\u001b[0;34m.\u001b[0m\u001b[0mapply_standard\u001b[0m\u001b[0;34m(\u001b[0m\u001b[0;34m)\u001b[0m\u001b[0;34m\u001b[0m\u001b[0;34m\u001b[0m\u001b[0m\n\u001b[0m\u001b[1;32m    679\u001b[0m \u001b[0;34m\u001b[0m\u001b[0m\n\u001b[1;32m    680\u001b[0m     \u001b[0;32mdef\u001b[0m \u001b[0magg\u001b[0m\u001b[0;34m(\u001b[0m\u001b[0mself\u001b[0m\u001b[0;34m)\u001b[0m\u001b[0;34m:\u001b[0m\u001b[0;34m\u001b[0m\u001b[0;34m\u001b[0m\u001b[0m\n",
            "\u001b[0;32m/usr/local/lib/python3.10/dist-packages/pandas/core/apply.py\u001b[0m in \u001b[0;36mapply_standard\u001b[0;34m(self)\u001b[0m\n\u001b[1;32m    796\u001b[0m \u001b[0;34m\u001b[0m\u001b[0m\n\u001b[1;32m    797\u001b[0m     \u001b[0;32mdef\u001b[0m \u001b[0mapply_standard\u001b[0m\u001b[0;34m(\u001b[0m\u001b[0mself\u001b[0m\u001b[0;34m)\u001b[0m\u001b[0;34m:\u001b[0m\u001b[0;34m\u001b[0m\u001b[0;34m\u001b[0m\u001b[0m\n\u001b[0;32m--> 798\u001b[0;31m         \u001b[0mresults\u001b[0m\u001b[0;34m,\u001b[0m \u001b[0mres_index\u001b[0m \u001b[0;34m=\u001b[0m \u001b[0mself\u001b[0m\u001b[0;34m.\u001b[0m\u001b[0mapply_series_generator\u001b[0m\u001b[0;34m(\u001b[0m\u001b[0;34m)\u001b[0m\u001b[0;34m\u001b[0m\u001b[0;34m\u001b[0m\u001b[0m\n\u001b[0m\u001b[1;32m    799\u001b[0m \u001b[0;34m\u001b[0m\u001b[0m\n\u001b[1;32m    800\u001b[0m         \u001b[0;31m# wrap results\u001b[0m\u001b[0;34m\u001b[0m\u001b[0;34m\u001b[0m\u001b[0m\n",
            "\u001b[0;32m/usr/local/lib/python3.10/dist-packages/pandas/core/apply.py\u001b[0m in \u001b[0;36mapply_series_generator\u001b[0;34m(self)\u001b[0m\n\u001b[1;32m    812\u001b[0m             \u001b[0;32mfor\u001b[0m \u001b[0mi\u001b[0m\u001b[0;34m,\u001b[0m \u001b[0mv\u001b[0m \u001b[0;32min\u001b[0m \u001b[0menumerate\u001b[0m\u001b[0;34m(\u001b[0m\u001b[0mseries_gen\u001b[0m\u001b[0;34m)\u001b[0m\u001b[0;34m:\u001b[0m\u001b[0;34m\u001b[0m\u001b[0;34m\u001b[0m\u001b[0m\n\u001b[1;32m    813\u001b[0m                 \u001b[0;31m# ignore SettingWithCopy here in case the user mutates\u001b[0m\u001b[0;34m\u001b[0m\u001b[0;34m\u001b[0m\u001b[0m\n\u001b[0;32m--> 814\u001b[0;31m                 \u001b[0mresults\u001b[0m\u001b[0;34m[\u001b[0m\u001b[0mi\u001b[0m\u001b[0;34m]\u001b[0m \u001b[0;34m=\u001b[0m \u001b[0mself\u001b[0m\u001b[0;34m.\u001b[0m\u001b[0mf\u001b[0m\u001b[0;34m(\u001b[0m\u001b[0mv\u001b[0m\u001b[0;34m)\u001b[0m\u001b[0;34m\u001b[0m\u001b[0;34m\u001b[0m\u001b[0m\n\u001b[0m\u001b[1;32m    815\u001b[0m                 \u001b[0;32mif\u001b[0m \u001b[0misinstance\u001b[0m\u001b[0;34m(\u001b[0m\u001b[0mresults\u001b[0m\u001b[0;34m[\u001b[0m\u001b[0mi\u001b[0m\u001b[0;34m]\u001b[0m\u001b[0;34m,\u001b[0m \u001b[0mABCSeries\u001b[0m\u001b[0;34m)\u001b[0m\u001b[0;34m:\u001b[0m\u001b[0;34m\u001b[0m\u001b[0;34m\u001b[0m\u001b[0m\n\u001b[1;32m    816\u001b[0m                     \u001b[0;31m# If we have a view on v, we need to make a copy because\u001b[0m\u001b[0;34m\u001b[0m\u001b[0;34m\u001b[0m\u001b[0m\n",
            "\u001b[0;32m<ipython-input-26-c207a61f519d>\u001b[0m in \u001b[0;36m<lambda>\u001b[0;34m(row)\u001b[0m\n\u001b[1;32m     42\u001b[0m \u001b[0;34m\u001b[0m\u001b[0m\n\u001b[1;32m     43\u001b[0m \u001b[0;31m# 'summarize_content' 컬럼 생성\u001b[0m\u001b[0;34m\u001b[0m\u001b[0;34m\u001b[0m\u001b[0m\n\u001b[0;32m---> 44\u001b[0;31m \u001b[0mhiring_copy\u001b[0m\u001b[0;34m[\u001b[0m\u001b[0;34m'summarize_content'\u001b[0m\u001b[0;34m]\u001b[0m \u001b[0;34m=\u001b[0m \u001b[0mhiring_copy\u001b[0m\u001b[0;34m.\u001b[0m\u001b[0mapply\u001b[0m\u001b[0;34m(\u001b[0m\u001b[0;32mlambda\u001b[0m \u001b[0mrow\u001b[0m\u001b[0;34m:\u001b[0m \u001b[0msummarize_content\u001b[0m\u001b[0;34m(\u001b[0m\u001b[0mrow\u001b[0m\u001b[0;34m[\u001b[0m\u001b[0;34m'title'\u001b[0m\u001b[0;34m]\u001b[0m\u001b[0;34m,\u001b[0m \u001b[0mrow\u001b[0m\u001b[0;34m[\u001b[0m\u001b[0;34m'content'\u001b[0m\u001b[0;34m]\u001b[0m\u001b[0;34m)\u001b[0m\u001b[0;34m,\u001b[0m \u001b[0maxis\u001b[0m\u001b[0;34m=\u001b[0m\u001b[0;36m1\u001b[0m\u001b[0;34m)\u001b[0m\u001b[0;34m\u001b[0m\u001b[0;34m\u001b[0m\u001b[0m\n\u001b[0m\u001b[1;32m     45\u001b[0m \u001b[0;34m\u001b[0m\u001b[0m\n\u001b[1;32m     46\u001b[0m \u001b[0;34m\u001b[0m\u001b[0m\n",
            "\u001b[0;32m<ipython-input-26-c207a61f519d>\u001b[0m in \u001b[0;36msummarize_content\u001b[0;34m(title, content)\u001b[0m\n\u001b[1;32m     32\u001b[0m     \u001b[0;31m# 요약 수행\u001b[0m\u001b[0;34m\u001b[0m\u001b[0;34m\u001b[0m\u001b[0m\n\u001b[1;32m     33\u001b[0m     \u001b[0;32mtry\u001b[0m\u001b[0;34m:\u001b[0m\u001b[0;34m\u001b[0m\u001b[0;34m\u001b[0m\u001b[0m\n\u001b[0;32m---> 34\u001b[0;31m         \u001b[0mkeysents\u001b[0m \u001b[0;34m=\u001b[0m \u001b[0msummarizer\u001b[0m\u001b[0;34m.\u001b[0m\u001b[0msummarize\u001b[0m\u001b[0;34m(\u001b[0m\u001b[0msents\u001b[0m\u001b[0;34m,\u001b[0m \u001b[0mtopk\u001b[0m\u001b[0;34m=\u001b[0m\u001b[0;36m3\u001b[0m\u001b[0;34m)\u001b[0m\u001b[0;34m\u001b[0m\u001b[0;34m\u001b[0m\u001b[0m\n\u001b[0m\u001b[1;32m     35\u001b[0m     \u001b[0;32mexcept\u001b[0m \u001b[0mValueError\u001b[0m \u001b[0;32mas\u001b[0m \u001b[0me\u001b[0m\u001b[0;34m:\u001b[0m\u001b[0;34m\u001b[0m\u001b[0;34m\u001b[0m\u001b[0m\n\u001b[1;32m     36\u001b[0m         \u001b[0;31m# 요약 도중 에러 발생시 빈 리스트 반환\u001b[0m\u001b[0;34m\u001b[0m\u001b[0;34m\u001b[0m\u001b[0m\n",
            "\u001b[0;32m/content/textrank/textrank/summarizer.py\u001b[0m in \u001b[0;36msummarize\u001b[0;34m(self, sents, topk, bias)\u001b[0m\n\u001b[1;32m    192\u001b[0m             \u001b[0;32mraise\u001b[0m \u001b[0mValueError\u001b[0m\u001b[0;34m(\u001b[0m\u001b[0;34m'The type of bias must be None or numpy.ndarray but the type is {}'\u001b[0m\u001b[0;34m.\u001b[0m\u001b[0mformat\u001b[0m\u001b[0;34m(\u001b[0m\u001b[0mtype\u001b[0m\u001b[0;34m(\u001b[0m\u001b[0mbias\u001b[0m\u001b[0;34m)\u001b[0m\u001b[0;34m)\u001b[0m\u001b[0;34m)\u001b[0m\u001b[0;34m\u001b[0m\u001b[0;34m\u001b[0m\u001b[0m\n\u001b[1;32m    193\u001b[0m \u001b[0;34m\u001b[0m\u001b[0m\n\u001b[0;32m--> 194\u001b[0;31m         \u001b[0mself\u001b[0m\u001b[0;34m.\u001b[0m\u001b[0mtrain_textrank\u001b[0m\u001b[0;34m(\u001b[0m\u001b[0msents\u001b[0m\u001b[0;34m,\u001b[0m \u001b[0mbias\u001b[0m\u001b[0;34m)\u001b[0m\u001b[0;34m\u001b[0m\u001b[0;34m\u001b[0m\u001b[0m\n\u001b[0m\u001b[1;32m    195\u001b[0m         \u001b[0midxs\u001b[0m \u001b[0;34m=\u001b[0m \u001b[0mself\u001b[0m\u001b[0;34m.\u001b[0m\u001b[0mR\u001b[0m\u001b[0;34m.\u001b[0m\u001b[0margsort\u001b[0m\u001b[0;34m(\u001b[0m\u001b[0;34m)\u001b[0m\u001b[0;34m[\u001b[0m\u001b[0;34m-\u001b[0m\u001b[0mtopk\u001b[0m\u001b[0;34m:\u001b[0m\u001b[0;34m]\u001b[0m\u001b[0;34m\u001b[0m\u001b[0;34m\u001b[0m\u001b[0m\n\u001b[1;32m    196\u001b[0m         \u001b[0mkeysents\u001b[0m \u001b[0;34m=\u001b[0m \u001b[0;34m[\u001b[0m\u001b[0;34m(\u001b[0m\u001b[0midx\u001b[0m\u001b[0;34m,\u001b[0m \u001b[0mself\u001b[0m\u001b[0;34m.\u001b[0m\u001b[0mR\u001b[0m\u001b[0;34m[\u001b[0m\u001b[0midx\u001b[0m\u001b[0;34m]\u001b[0m\u001b[0;34m,\u001b[0m \u001b[0msents\u001b[0m\u001b[0;34m[\u001b[0m\u001b[0midx\u001b[0m\u001b[0;34m]\u001b[0m\u001b[0;34m)\u001b[0m \u001b[0;32mfor\u001b[0m \u001b[0midx\u001b[0m \u001b[0;32min\u001b[0m \u001b[0mreversed\u001b[0m\u001b[0;34m(\u001b[0m\u001b[0midxs\u001b[0m\u001b[0;34m)\u001b[0m\u001b[0;34m]\u001b[0m\u001b[0;34m\u001b[0m\u001b[0;34m\u001b[0m\u001b[0m\n",
            "\u001b[0;32m/content/textrank/textrank/summarizer.py\u001b[0m in \u001b[0;36mtrain_textrank\u001b[0;34m(self, sents, bias)\u001b[0m\n\u001b[1;32m    155\u001b[0m         \u001b[0;32mNone\u001b[0m\u001b[0;34m\u001b[0m\u001b[0;34m\u001b[0m\u001b[0m\n\u001b[1;32m    156\u001b[0m         \"\"\"\n\u001b[0;32m--> 157\u001b[0;31m         g = sent_graph(sents, self.tokenize, self.min_count,\n\u001b[0m\u001b[1;32m    158\u001b[0m             self.min_sim, self.similarity, self.vocab_to_idx, self.verbose)\n\u001b[1;32m    159\u001b[0m         \u001b[0mself\u001b[0m\u001b[0;34m.\u001b[0m\u001b[0mR\u001b[0m \u001b[0;34m=\u001b[0m \u001b[0mpagerank\u001b[0m\u001b[0;34m(\u001b[0m\u001b[0mg\u001b[0m\u001b[0;34m,\u001b[0m \u001b[0mself\u001b[0m\u001b[0;34m.\u001b[0m\u001b[0mdf\u001b[0m\u001b[0;34m,\u001b[0m \u001b[0mself\u001b[0m\u001b[0;34m.\u001b[0m\u001b[0mmax_iter\u001b[0m\u001b[0;34m,\u001b[0m \u001b[0mbias\u001b[0m\u001b[0;34m)\u001b[0m\u001b[0;34m.\u001b[0m\u001b[0mreshape\u001b[0m\u001b[0;34m(\u001b[0m\u001b[0;34m-\u001b[0m\u001b[0;36m1\u001b[0m\u001b[0;34m)\u001b[0m\u001b[0;34m\u001b[0m\u001b[0;34m\u001b[0m\u001b[0m\n",
            "\u001b[0;32m/content/textrank/textrank/sentence.py\u001b[0m in \u001b[0;36msent_graph\u001b[0;34m(sents, tokenize, min_count, min_sim, similarity, vocab_to_idx, verbose)\u001b[0m\n\u001b[1;32m     44\u001b[0m         \u001b[0midx_to_vocab\u001b[0m \u001b[0;34m=\u001b[0m \u001b[0;34m[\u001b[0m\u001b[0mvocab\u001b[0m \u001b[0;32mfor\u001b[0m \u001b[0mvocab\u001b[0m\u001b[0;34m,\u001b[0m \u001b[0m_\u001b[0m \u001b[0;32min\u001b[0m \u001b[0msorted\u001b[0m\u001b[0;34m(\u001b[0m\u001b[0mvocab_to_idx\u001b[0m\u001b[0;34m.\u001b[0m\u001b[0mitems\u001b[0m\u001b[0;34m(\u001b[0m\u001b[0;34m)\u001b[0m\u001b[0;34m,\u001b[0m \u001b[0mkey\u001b[0m\u001b[0;34m=\u001b[0m\u001b[0;32mlambda\u001b[0m \u001b[0mx\u001b[0m\u001b[0;34m:\u001b[0m\u001b[0mx\u001b[0m\u001b[0;34m[\u001b[0m\u001b[0;36m1\u001b[0m\u001b[0;34m]\u001b[0m\u001b[0;34m)\u001b[0m\u001b[0;34m]\u001b[0m\u001b[0;34m\u001b[0m\u001b[0;34m\u001b[0m\u001b[0m\n\u001b[1;32m     45\u001b[0m \u001b[0;34m\u001b[0m\u001b[0m\n\u001b[0;32m---> 46\u001b[0;31m     \u001b[0mx\u001b[0m \u001b[0;34m=\u001b[0m \u001b[0mvectorize_sents\u001b[0m\u001b[0;34m(\u001b[0m\u001b[0msents\u001b[0m\u001b[0;34m,\u001b[0m \u001b[0mtokenize\u001b[0m\u001b[0;34m,\u001b[0m \u001b[0mvocab_to_idx\u001b[0m\u001b[0;34m)\u001b[0m\u001b[0;34m\u001b[0m\u001b[0;34m\u001b[0m\u001b[0m\n\u001b[0m\u001b[1;32m     47\u001b[0m     \u001b[0;32mif\u001b[0m \u001b[0msimilarity\u001b[0m \u001b[0;34m==\u001b[0m \u001b[0;34m'cosine'\u001b[0m\u001b[0;34m:\u001b[0m\u001b[0;34m\u001b[0m\u001b[0;34m\u001b[0m\u001b[0m\n\u001b[1;32m     48\u001b[0m         \u001b[0mx\u001b[0m \u001b[0;34m=\u001b[0m \u001b[0mnumpy_cosine_similarity_matrix\u001b[0m\u001b[0;34m(\u001b[0m\u001b[0mx\u001b[0m\u001b[0;34m,\u001b[0m \u001b[0mmin_sim\u001b[0m\u001b[0;34m,\u001b[0m \u001b[0mverbose\u001b[0m\u001b[0;34m,\u001b[0m \u001b[0mbatch_size\u001b[0m\u001b[0;34m=\u001b[0m\u001b[0;36m1000\u001b[0m\u001b[0;34m)\u001b[0m\u001b[0;34m\u001b[0m\u001b[0;34m\u001b[0m\u001b[0m\n",
            "\u001b[0;32m/content/textrank/textrank/sentence.py\u001b[0m in \u001b[0;36mvectorize_sents\u001b[0;34m(sents, tokenize, vocab_to_idx)\u001b[0m\n\u001b[1;32m     54\u001b[0m     \u001b[0mrows\u001b[0m\u001b[0;34m,\u001b[0m \u001b[0mcols\u001b[0m\u001b[0;34m,\u001b[0m \u001b[0mdata\u001b[0m \u001b[0;34m=\u001b[0m \u001b[0;34m[\u001b[0m\u001b[0;34m]\u001b[0m\u001b[0;34m,\u001b[0m \u001b[0;34m[\u001b[0m\u001b[0;34m]\u001b[0m\u001b[0;34m,\u001b[0m \u001b[0;34m[\u001b[0m\u001b[0;34m]\u001b[0m\u001b[0;34m\u001b[0m\u001b[0;34m\u001b[0m\u001b[0m\n\u001b[1;32m     55\u001b[0m     \u001b[0;32mfor\u001b[0m \u001b[0mi\u001b[0m\u001b[0;34m,\u001b[0m \u001b[0msent\u001b[0m \u001b[0;32min\u001b[0m \u001b[0menumerate\u001b[0m\u001b[0;34m(\u001b[0m\u001b[0msents\u001b[0m\u001b[0;34m)\u001b[0m\u001b[0;34m:\u001b[0m\u001b[0;34m\u001b[0m\u001b[0;34m\u001b[0m\u001b[0m\n\u001b[0;32m---> 56\u001b[0;31m         \u001b[0mcounter\u001b[0m \u001b[0;34m=\u001b[0m \u001b[0mCounter\u001b[0m\u001b[0;34m(\u001b[0m\u001b[0mtokenize\u001b[0m\u001b[0;34m(\u001b[0m\u001b[0msent\u001b[0m\u001b[0;34m)\u001b[0m\u001b[0;34m)\u001b[0m\u001b[0;34m\u001b[0m\u001b[0;34m\u001b[0m\u001b[0m\n\u001b[0m\u001b[1;32m     57\u001b[0m         \u001b[0;32mfor\u001b[0m \u001b[0mtoken\u001b[0m\u001b[0;34m,\u001b[0m \u001b[0mcount\u001b[0m \u001b[0;32min\u001b[0m \u001b[0mcounter\u001b[0m\u001b[0;34m.\u001b[0m\u001b[0mitems\u001b[0m\u001b[0;34m(\u001b[0m\u001b[0;34m)\u001b[0m\u001b[0;34m:\u001b[0m\u001b[0;34m\u001b[0m\u001b[0;34m\u001b[0m\u001b[0m\n\u001b[1;32m     58\u001b[0m             \u001b[0mj\u001b[0m \u001b[0;34m=\u001b[0m \u001b[0mvocab_to_idx\u001b[0m\u001b[0;34m.\u001b[0m\u001b[0mget\u001b[0m\u001b[0;34m(\u001b[0m\u001b[0mtoken\u001b[0m\u001b[0;34m,\u001b[0m \u001b[0;34m-\u001b[0m\u001b[0;36m1\u001b[0m\u001b[0;34m)\u001b[0m\u001b[0;34m\u001b[0m\u001b[0;34m\u001b[0m\u001b[0m\n",
            "\u001b[0;32m<ipython-input-10-2ed784522e58>\u001b[0m in \u001b[0;36mokt_tokenize\u001b[0;34m(sent)\u001b[0m\n\u001b[1;32m      4\u001b[0m \u001b[0;34m\u001b[0m\u001b[0m\n\u001b[1;32m      5\u001b[0m \u001b[0;32mdef\u001b[0m \u001b[0mokt_tokenize\u001b[0m\u001b[0;34m(\u001b[0m\u001b[0msent\u001b[0m\u001b[0;34m)\u001b[0m\u001b[0;34m:\u001b[0m\u001b[0;34m\u001b[0m\u001b[0;34m\u001b[0m\u001b[0m\n\u001b[0;32m----> 6\u001b[0;31m     \u001b[0mwords\u001b[0m \u001b[0;34m=\u001b[0m \u001b[0mokt\u001b[0m\u001b[0;34m.\u001b[0m\u001b[0mpos\u001b[0m\u001b[0;34m(\u001b[0m\u001b[0msent\u001b[0m\u001b[0;34m,\u001b[0m \u001b[0mjoin\u001b[0m\u001b[0;34m=\u001b[0m\u001b[0;32mTrue\u001b[0m\u001b[0;34m)\u001b[0m\u001b[0;34m\u001b[0m\u001b[0;34m\u001b[0m\u001b[0m\n\u001b[0m\u001b[1;32m      7\u001b[0m     \u001b[0mwords\u001b[0m \u001b[0;34m=\u001b[0m \u001b[0;34m[\u001b[0m\u001b[0mw\u001b[0m \u001b[0;32mfor\u001b[0m \u001b[0mw\u001b[0m \u001b[0;32min\u001b[0m \u001b[0mwords\u001b[0m \u001b[0;32mif\u001b[0m \u001b[0;34m(\u001b[0m\u001b[0;34m'/Noun'\u001b[0m \u001b[0;32min\u001b[0m \u001b[0mw\u001b[0m \u001b[0;32mor\u001b[0m \u001b[0;34m'/Adjective'\u001b[0m \u001b[0;32min\u001b[0m \u001b[0mw\u001b[0m \u001b[0;32mor\u001b[0m \u001b[0;34m'/Verb'\u001b[0m \u001b[0;32min\u001b[0m \u001b[0mw\u001b[0m\u001b[0;34m)\u001b[0m\u001b[0;34m]\u001b[0m\u001b[0;34m\u001b[0m\u001b[0;34m\u001b[0m\u001b[0m\n\u001b[1;32m      8\u001b[0m     \u001b[0;32mreturn\u001b[0m \u001b[0mwords\u001b[0m\u001b[0;34m\u001b[0m\u001b[0;34m\u001b[0m\u001b[0m\n",
            "\u001b[0;32m/usr/local/lib/python3.10/dist-packages/konlpy/tag/_okt.py\u001b[0m in \u001b[0;36mpos\u001b[0;34m(self, phrase, norm, stem, join)\u001b[0m\n\u001b[1;32m     69\u001b[0m         \u001b[0mvalidate_phrase_inputs\u001b[0m\u001b[0;34m(\u001b[0m\u001b[0mphrase\u001b[0m\u001b[0;34m)\u001b[0m\u001b[0;34m\u001b[0m\u001b[0;34m\u001b[0m\u001b[0m\n\u001b[1;32m     70\u001b[0m \u001b[0;34m\u001b[0m\u001b[0m\n\u001b[0;32m---> 71\u001b[0;31m         tokens = self.jki.tokenize(\n\u001b[0m\u001b[1;32m     72\u001b[0m                     \u001b[0mphrase\u001b[0m\u001b[0;34m,\u001b[0m\u001b[0;34m\u001b[0m\u001b[0;34m\u001b[0m\u001b[0m\n\u001b[1;32m     73\u001b[0m                     \u001b[0mjpype\u001b[0m\u001b[0;34m.\u001b[0m\u001b[0mjava\u001b[0m\u001b[0;34m.\u001b[0m\u001b[0mlang\u001b[0m\u001b[0;34m.\u001b[0m\u001b[0mBoolean\u001b[0m\u001b[0;34m(\u001b[0m\u001b[0mnorm\u001b[0m\u001b[0;34m)\u001b[0m\u001b[0;34m,\u001b[0m\u001b[0;34m\u001b[0m\u001b[0;34m\u001b[0m\u001b[0m\n",
            "\u001b[0;31mKeyboardInterrupt\u001b[0m: "
          ]
        }
      ]
    },
    {
      "cell_type": "markdown",
      "source": [
        "### 영어 차단 후 오류 리스트\n",
        "- 3/1286"
      ],
      "metadata": {
        "id": "RuZieHO7Z9hG"
      }
    },
    {
      "cell_type": "markdown",
      "source": [
        "1. [쌀람누리] 인턴채용 안내, Summarizer error: object dtype is not supported by sparse matrices\n",
        "2. 한국외국어대학교 신입 직원 채용공고, Summarizer error: object dtype is not supported by sparse matrices\n",
        "- 동명 공지 중 1047만\n",
        "3. 한국외국어대학교 입학사정관 채용공고, Summarizer error: object dtype is not supported by sparse matrices\n"
      ],
      "metadata": {
        "id": "oFyjsFJIaGeu"
      }
    },
    {
      "cell_type": "code",
      "source": [
        "# 영어 불용어 처리 해주기\n",
        "\n",
        "import re\n",
        "import pandas as pd\n",
        "\n",
        "def summarize_content(title, content):\n",
        "    global cnt_error  # 전역 변수로 cnt_error를 사용\n",
        "\n",
        "    # 영어 게시글만 필터링 (장학금명 등이 지워지지 않도록)\n",
        "    if is_english_only(content):\n",
        "        return []\n",
        "\n",
        "    if not content:\n",
        "        return []\n",
        "\n",
        "    if isinstance(content, list):\n",
        "        content = ' '.join(content)\n",
        "\n",
        "    if not content.strip():\n",
        "        return []\n",
        "\n",
        "    sents = re.split(r'\\n|\\.', content)\n",
        "\n",
        "    sents = list(filter(None, sents))\n",
        "\n",
        "    sents = [sent for sent in sents if sent.strip()]\n",
        "\n",
        "    if not sents:\n",
        "        return []\n",
        "\n",
        "    if len(sents) == 1:\n",
        "        return sents\n",
        "\n",
        "    # 요약 수행\n",
        "    try:\n",
        "        keysents = summarizer.summarize(sents, topk=3)\n",
        "    except ValueError as e:\n",
        "        # 요약 도중 에러 발생시 빈 리스트 반환\n",
        "        cnt_error += 1\n",
        "        print(f\"{cnt_error}. {title}, Summarizer error: {e}\")\n",
        "        #return [] #빈리스트 반환에서 그냥 반환으로 바꿈\n",
        "        return sents\n",
        "\n",
        "    return [item[2] for item in keysents]\n",
        "\n",
        "# 완전히 영어로 된 글만 찾아내는 함수\n",
        "def is_english_only(text):\n",
        "    # 한글이 포함된 글을 제외\n",
        "    if re.search('[가-힣]', text):\n",
        "        return False\n",
        "    # 영어 이외의 다른 언어가 포함된 글을 제외\n",
        "    if not re.match('^[a-zA-Z\\s]*$', text):\n",
        "        return True\n",
        "    return False\n",
        "\n",
        "\n",
        "cnt_error = 0\n",
        "# 'summarize_content' 컬럼 생성\n",
        "hiring_copy['summarize_content'] = hiring_copy.apply(lambda row: summarize_content(row['title'], row['content']), axis=1)\n",
        "\n",
        "\n",
        "# 결과 출력\n",
        "print(hiring_copy['summarize_content'])"
      ],
      "metadata": {
        "colab": {
          "base_uri": "https://localhost:8080/"
        },
        "id": "Td6eYZj7XrPb",
        "outputId": "cbbba309-a424-40df-dbec-aa3915ca013a"
      },
      "execution_count": null,
      "outputs": [
        {
          "output_type": "stream",
          "name": "stdout",
          "text": [
            "1. [쌀람누리] 인턴채용 안내, Summarizer error: object dtype is not supported by sparse matrices\n",
            "2. 한국외국어대학교 신입 직원 채용공고, Summarizer error: object dtype is not supported by sparse matrices\n",
            "3. 한국외국어대학교 입학사정관 채용공고, Summarizer error: object dtype is not supported by sparse matrices\n",
            "0       [ 메일 제목 예시: [국제학사 사감 지원] XX대학원, 2020XXXXX, 홍길동...\n",
            "1       [사이버한국외국어대학교 영어학부에서는 전임조교를 아래와 같이 모집하고 있습니다, 모...\n",
            "2       [■서류제출 기간 및 방법, 본 과제 관련 연구 및 사업 수행계획서(자율양식) 1부...\n",
            "3       [1 최종합격자를 제외한 구직자가 전형단계별 채용여부가 확정된 날부터 30일이 되는...\n",
            "4       [활동 기간: 합격 즉시 ~ 8월 16일 업무 내용:홍보물 및 영상 기획,카드뉴스 ...\n",
            "                              ...                        \n",
            "1264    [kr 에서 인터넷으로 접수(홈페이지 좌측하단-채용)6,  취업보호대상자(인터넷 접...\n",
            "1265    [ 국제학부 학부장실에서 아래와 같이 대학원생 조교를 모집합니다, -  아  래  ...\n",
            "1266    [(22-1)외국어교육센터(글로벌)수직조교 2차 추가모집 공고글로벌캠퍼스 외국어교육...\n",
            "1267    [(22-1)외국어교육센터(글로벌)대학원조교 추가모집 공고글로벌캠퍼스 외국어교육센터...\n",
            "1268    [ 근무 조건- 근무 장소: 한국외대 사이버관 613호 사이버한국외국어대학교 한국어...\n",
            "Name: summarize_content, Length: 1269, dtype: object\n"
          ]
        }
      ]
    },
    {
      "cell_type": "code",
      "source": [
        "# 인덱스 번호 검색하기\n",
        "index = hiring_copy[hiring_copy['title'] == \"한국외국어대학교 입학사정관 채용공고\"].index\n",
        "print(index)"
      ],
      "metadata": {
        "colab": {
          "base_uri": "https://localhost:8080/"
        },
        "id": "YeAIQx4ntoEJ",
        "outputId": "bb183c17-0c3b-4858-fe18-a28cf5731a8e"
      },
      "execution_count": null,
      "outputs": [
        {
          "output_type": "stream",
          "name": "stdout",
          "text": [
            "Index([1048], dtype='int64')\n"
          ]
        }
      ]
    },
    {
      "cell_type": "code",
      "source": [
        "hiring_copy.loc[1048, 'content']"
      ],
      "metadata": {
        "colab": {
          "base_uri": "https://localhost:8080/",
          "height": 35
        },
        "id": "uBetV8Rdul8h",
        "outputId": "00d5582a-b704-42ac-979a-89fcf951175b"
      },
      "execution_count": null,
      "outputs": [
        {
          "output_type": "execute_result",
          "data": {
            "text/plain": [
              "'\\n 한국외국어대학교 입학사정관 채용 인터넷 접수  바로가기\\n2020. 12.행 정 지 원 처 장\\n'"
            ],
            "application/vnd.google.colaboratory.intrinsic+json": {
              "type": "string"
            }
          },
          "metadata": {},
          "execution_count": 43
        }
      ]
    },
    {
      "cell_type": "code",
      "source": [
        "hiring_copy.loc[1048, 'summarize_content']"
      ],
      "metadata": {
        "id": "pNbq57w0urgW",
        "colab": {
          "base_uri": "https://localhost:8080/"
        },
        "outputId": "398b65e0-2ecb-461c-ca6a-6e6ca400d51b"
      },
      "execution_count": null,
      "outputs": [
        {
          "output_type": "execute_result",
          "data": {
            "text/plain": [
              "[' 한국외국어대학교 입학사정관 채용 인터넷 접수  바로가기', '2020', ' 12', '행 정 지 원 처 장']"
            ]
          },
          "metadata": {},
          "execution_count": 44
        }
      ]
    },
    {
      "cell_type": "code",
      "source": [],
      "metadata": {
        "id": "RnPz2iRWbfMy"
      },
      "execution_count": null,
      "outputs": []
    },
    {
      "cell_type": "markdown",
      "source": [
        "# 0529(수) 업뎃사항\n",
        "- 외국어 필터링 함수 두개 기준 만들었음\n",
        "  - 채용의 is_english_only로 다른건 충분함\n",
        "  - 중국어 등이 섞인 공지파트의 경우 타언어 + 한국어라 그냥 외국어 처리를 한국어가 30% 미만인걸로 거름\n",
        "\n",
        "- 공지 코로나 공지 600개 지우고 전처리\n",
        "\n",
        "- 에러난 애들에 대해 sents로 그대로 return. 길이가 3이상인 애들은 3개까지만 문장 return\n",
        "\n",
        "- 문장길이를 5로 늘림 -> 짧아서 오류나는 애들 다 해결됨\n",
        "\n",
        "\n",
        "\n",
        "# 0530 (목) 회의 사항\n",
        "- tokenize에 전처리 과정 넣어주기\n",
        "  - 이메일 패턴, 전화번호를 re로 사용해줘야하는데\n",
        "    -> 차라리 사전을 등록해서 불용어처리? 불용어 사전을 re 패키지로 구축해서 전번 다 제거할까\n",
        "    \n",
        "    -> 숫자 제거시에는 요약 성능이 떨어짐 _ 전화번호, 이메일 제거 방향 고민해야함\n",
        "\n",
        "- 외국어 처리 고민 (threshold) _ api만들때 유지\n",
        "- 컨텐츠가비어있는지 none 말고 []에 대해서\n",
        "- 이메일 전처리가 효용이 떨어지는 것 같아서 토크나이징에 고민\n",
        "\n",
        "\n",
        "- colab에 fast api 깔아서 쓸 수는 있음\n",
        "- 배포 확인\n",
        "\n",
        "\n",
        "- 시연님 코드 오류가 안나는데 key_sents가 어디선가 걸리는것 같음. 참고해서 오류 줄여보기\n",
        "\n",
        "- 장학 코드도 고치기\n",
        "\n",
        "- fast api 하면서 모듈화 성능 생각하기 (특히 tokenize, 불용어 처리, 사용자 사전 살펴보면서 추가하면 좋을 것 업데이트)\n",
        "- textrank 함수 넣기\n",
        "- 출력할 때 세개의 문장을 출력. 파이썬 상에서는 리스트인데 api 배포할 때 어떻게 넣을지 고민\n",
        "\n",
        "- 모델 구현할 땐 error count 필요없고 자세한 사항은 본문확인 부탁드립니다. 출력 return\n",
        "\n",
        "- 일요일까지 배포 모델 한번 만들어보고 상황공유 _ 밤 9시반"
      ],
      "metadata": {
        "id": "x9-5J_f4CiNH"
      }
    },
    {
      "cell_type": "code",
      "source": [],
      "metadata": {
        "id": "QHG5ljyYDA0J"
      },
      "execution_count": null,
      "outputs": []
    }
  ]
}
