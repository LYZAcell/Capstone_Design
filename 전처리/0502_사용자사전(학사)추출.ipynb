{
  "nbformat": 4,
  "nbformat_minor": 0,
  "metadata": {
    "colab": {
      "provenance": [],
      "collapsed_sections": [
        "rRnZMdL62Gkf"
      ]
    },
    "kernelspec": {
      "name": "python3",
      "display_name": "Python 3"
    },
    "language_info": {
      "name": "python"
    }
  },
  "cells": [
    {
      "cell_type": "markdown",
      "source": [
        "# TextRank 알고리즘 적용 위한 스텝\n",
        "1. 텍스트 수집 (완)\n",
        "2. 전처리\n",
        "  - 불용어 처리 (re 사용)\n",
        "3. tf-idf 통해 문서 내 특정 단어의 중요도 분석\n",
        "  - 텍스트를 문장 단위로 분리\n",
        "  - koNLPY twitter 활용해 형태소 태깅 + 조사 및 어간 분리 통해 명사 반환\n",
        "  - TfidfVectorizer()와 CountVectorizer() 활용하여 tf, df 계산\n",
        "    - 이때 word2vec, doc2vec 등을 결합하여 문서 간 유사도 계산 가능한 점 참고하기\n",
        "\n",
        "4. tf-idf 과정을 통해 얻은 문장(단어) 중요도를 활용하여 ranking, 요약할 문장(단어) 수만큼 출력"
      ],
      "metadata": {
        "id": "01PZCURnHNpu"
      }
    },
    {
      "cell_type": "markdown",
      "source": [
        "공지 파일 결측치 41개 어떻게 처리할 것인가? --> 이미지의 손상으로 인해 데이터를 보완할 수 없기 때문에 삭제하기로 결정\n",
        "- 만약 HUFS 공지 검색을 통해 보완할 수 있다면 최대한 보완할 것인가? 논의하기\n",
        "- 보완 +로그 남기기 + 더이상 보완할 수 없을 경우 '직접 접속해서 확인해주세요.' 출력하기"
      ],
      "metadata": {
        "id": "ZZ7M8jI9zrA0"
      }
    },
    {
      "cell_type": "markdown",
      "source": [
        "2024.04.19\n",
        "- 공지 파일 결측치 중 보완 가능한 23개 내용 보충 완료 후 재업로드\n",
        "- 학사 인덱스 보충완료"
      ],
      "metadata": {
        "id": "rAw8YvJh4Irz"
      }
    },
    {
      "cell_type": "markdown",
      "source": [
        "### 할 순서(0425 회의 이후~)\n",
        "1. 전번 등 임의 전처리 해서 데이터 전처리\n",
        "- copy 시 코로나 관련 공지 빼기 (문법이 파괴되지 않는 한에서 한글 표현만 최대한 남기기)\n",
        "2. kospacing 적용 _ 띄어쓰기 적용\n",
        "3. 형태소 분석기 (Okt())로 형태소 단위 분리\n",
        "3-1. 한글자 제거?\n",
        "4. 불용어 리스트 가져와서 전처리(조사 등많이 제거될 것)\n",
        "5. 빈도 확인후 전처리\n",
        "- 최소이하 제거 or 빈도가 지나치게 높은 counter에 대해 임의 제거\n",
        "- 잘못 분리된 단어 확인하여 사용자단어에 추가\n",
        "6. TF-IDF 해보기\n",
        "7. 전처리 반복\n",
        "\n",
        "- 완벽한 전처리 결론이 목요일까지 나오는 것이 목표\n",
        "\n",
        "- 참고한 전처리\n",
        "https://haystar.tistory.com/11\n",
        "\n",
        "- hanspell 관련확인 _clone도 안됨. 해결 코드가 있긴한데 일단 후순위로 미루고 작업\n",
        "https://velog.io/@woalsgodqhr/%EB%84%A4%EC%9D%B4%EB%B2%84-%EB%A7%9E%EC%B6%A4%EB%B2%95-%EA%B2%80%EC%82%AC%EA%B8%B0-api-%EC%9C%A0%ED%9A%A8%ED%95%9C-%ED%82%A4%EA%B0%80-%EC%95%84%EB%8B%99%EB%8B%88%EB%8B%A4-%EC%98%A4%EB%A5%98-%ED%95%B4%EA%B2%B0%ED%95%98%EA%B8%B0"
      ],
      "metadata": {
        "id": "eAtrG86dI7zw"
      }
    },
    {
      "cell_type": "code",
      "source": [
        "# 공지 csv의 결측치 파악\n",
        "# df2[df2['content'] == '\\n\\n']"
      ],
      "metadata": {
        "id": "-_UESl6fzni0"
      },
      "execution_count": null,
      "outputs": []
    },
    {
      "cell_type": "code",
      "execution_count": null,
      "metadata": {
        "id": "m1YszIXcHB3o"
      },
      "outputs": [],
      "source": [
        "import pandas as pd\n",
        "import os"
      ]
    },
    {
      "cell_type": "code",
      "source": [
        "#경로확인\n",
        "print(os.getcwd())"
      ],
      "metadata": {
        "colab": {
          "base_uri": "https://localhost:8080/"
        },
        "id": "_lpQ0ur7CJTq",
        "outputId": "737c88d7-ecb4-4157-fae0-bcba0ef28016"
      },
      "execution_count": null,
      "outputs": [
        {
          "output_type": "stream",
          "name": "stdout",
          "text": [
            "/content\n"
          ]
        }
      ]
    },
    {
      "cell_type": "code",
      "source": [
        "new_dir = '/content'\n",
        "\n",
        "# 작업 디렉토리 변경\n",
        "os.chdir(new_dir)"
      ],
      "metadata": {
        "id": "m7plFJDPD-Ab"
      },
      "execution_count": null,
      "outputs": []
    },
    {
      "cell_type": "markdown",
      "source": [
        "### 마운트 및 파일 로드부터 시작하기 (경로 설정)"
      ],
      "metadata": {
        "id": "ktzMFMQhTDtZ"
      }
    },
    {
      "cell_type": "code",
      "source": [
        "from google.colab import drive\n",
        "drive.mount('/content/drive')"
      ],
      "metadata": {
        "colab": {
          "base_uri": "https://localhost:8080/"
        },
        "id": "5jS8PdSiSqpB",
        "outputId": "eb68610b-90fd-4377-ff74-c78593d32532"
      },
      "execution_count": null,
      "outputs": [
        {
          "output_type": "stream",
          "name": "stdout",
          "text": [
            "Drive already mounted at /content/drive; to attempt to forcibly remount, call drive.mount(\"/content/drive\", force_remount=True).\n"
          ]
        }
      ]
    },
    {
      "cell_type": "code",
      "source": [
        "#kospacing 받기\n",
        "!pip install git+https://github.com/haven-jeon/PyKoSpacing.git"
      ],
      "metadata": {
        "id": "phz9IQhMtmm3",
        "colab": {
          "base_uri": "https://localhost:8080/"
        },
        "outputId": "feb9c73c-9d61-4e17-e6ae-1f2b8410c9f6"
      },
      "execution_count": null,
      "outputs": [
        {
          "output_type": "stream",
          "name": "stdout",
          "text": [
            "Collecting git+https://github.com/haven-jeon/PyKoSpacing.git\n",
            "  Cloning https://github.com/haven-jeon/PyKoSpacing.git to /tmp/pip-req-build-0zv5napl\n",
            "  Running command git clone --filter=blob:none --quiet https://github.com/haven-jeon/PyKoSpacing.git /tmp/pip-req-build-0zv5napl\n",
            "  Resolved https://github.com/haven-jeon/PyKoSpacing.git to commit 103ff614a2edf6df87d289ccaf99822b9afa9a42\n",
            "  Preparing metadata (setup.py) ... \u001b[?25l\u001b[?25hdone\n",
            "Requirement already satisfied: tensorflow==2.15.1 in /usr/local/lib/python3.10/dist-packages (from pykospacing==0.5) (2.15.1)\n",
            "Requirement already satisfied: h5py==3.10.0 in /usr/local/lib/python3.10/dist-packages (from pykospacing==0.5) (3.10.0)\n"
          ]
        }
      ]
    },
    {
      "cell_type": "code",
      "source": [
        "#작동확인\n",
        "sent = '김철수는 극중 두 인격의 사나이 이광수 역을 맡았다. 철수는 한국 유일의 태권도 전승자를 가리는 결전의 날을 앞두고 10년간 함께 훈련한 사형인 유연재(김광수 분)를 찾으러 속세로 내려온 인물이다.'\n",
        "new_sent = sent.replace(\" \", '') # 띄어쓰기가 없는 문장 임의로 만들기\n",
        "print(new_sent)"
      ],
      "metadata": {
        "id": "jeXK9yW1udAT"
      },
      "execution_count": null,
      "outputs": []
    },
    {
      "cell_type": "code",
      "source": [
        "from pykospacing import Spacing\n",
        "spacing = Spacing()\n",
        "kospacing_sent = spacing(new_sent)\n",
        "#결과일치시 맞음\n",
        "print(sent)\n",
        "print(kospacing_sent)"
      ],
      "metadata": {
        "id": "cAcDYKVAuj4S"
      },
      "execution_count": null,
      "outputs": []
    },
    {
      "cell_type": "code",
      "source": [
        "#결과일치시 맞음\n",
        "print(sent)\n",
        "print(kospacing_sent)"
      ],
      "metadata": {
        "id": "bJNXmfXvukDL"
      },
      "execution_count": null,
      "outputs": []
    },
    {
      "cell_type": "code",
      "source": [
        "gongji = pd.read_csv('./drive/MyDrive/csv모음/merge_gongji.csv')\n",
        "haksa = pd.read_csv('./drive/MyDrive/csv모음/merged_haksa.csv')\n",
        "hiring = pd.read_csv('./drive/MyDrive/csv모음/merged_hire.csv')\n",
        "janghak = pd.read_csv('./drive/MyDrive/csv모음/merged_janghak.csv')\n",
        "#공지가 너무 커 세개로 나눔\n",
        "gongji_1 = pd.read_csv('./drive/MyDrive/csv모음/gongji_1.csv')\n",
        "gongji_2 = pd.read_csv('./drive/MyDrive/csv모음/gongji_2.csv', encoding = \"cp949\")\n",
        "gongji_3 = pd.read_csv('./drive/MyDrive/csv모음/gongji_3.csv')\n",
        "gongji.head(5)"
      ],
      "metadata": {
        "id": "sNHQoUOXMZ_e"
      },
      "execution_count": null,
      "outputs": []
    },
    {
      "cell_type": "markdown",
      "source": [
        "# re 이용해 특정 문자열 제거"
      ],
      "metadata": {
        "id": "j224Taac3UEy"
      }
    },
    {
      "cell_type": "code",
      "source": [
        "# 원본 데이터 보존 위해 copy 데이터 생성\n",
        "gongji_copy = gongji.copy()\n",
        "haksa_copy = haksa.copy()\n",
        "hiring_copy = hiring.copy()\n",
        "janghak_copy = janghak.copy()\n",
        "\n",
        "\n",
        "gongji1_copy = gongji_1.copy()\n",
        "gongji2_copy = gongji_2.copy()\n",
        "gongji3_copy = gongji_3.copy()"
      ],
      "metadata": {
        "id": "IWcYrAyWDcPk"
      },
      "execution_count": null,
      "outputs": []
    },
    {
      "cell_type": "code",
      "source": [
        "haksa_copy.loc[5,'content']"
      ],
      "metadata": {
        "id": "s-90PwtEGTbz"
      },
      "execution_count": null,
      "outputs": []
    },
    {
      "cell_type": "markdown",
      "source": [
        "### 전처리과정\n",
        "- 전번, 주소, 메일 등 정보 부터 지우는 중\n",
        "- 가독성 때문에 띄어쓰기 및 특수기호는 문자열 지운 이후에 마지막에 지울 듯 함\n",
        "- 현재 test만 지웠고 데이터 프레임에 적용하지 않았음"
      ],
      "metadata": {
        "id": "IsbLE1SVPgEL"
      }
    },
    {
      "cell_type": "code",
      "source": [
        "import re"
      ],
      "metadata": {
        "id": "IWhB16-r48qR"
      },
      "execution_count": null,
      "outputs": []
    },
    {
      "cell_type": "code",
      "source": [
        "gongji_copy.loc[0,'content']"
      ],
      "metadata": {
        "id": "SFOBveNXAdia"
      },
      "execution_count": null,
      "outputs": []
    },
    {
      "cell_type": "code",
      "source": [
        "# 전화번호를 포함하는 패턴\n",
        "tel_number = r'TEL\\.\\d{2}-?\\d{3,4}-\\d{4}'\n",
        "#전번 양식 (번호만 있는 경우대비)\n",
        "phone_number = r'\\d{2}-\\d{4}-\\d{4}'\n",
        "#팩스 양식\n",
        "fax_number = r'FAX\\.\\d{2}-\\d{3}-\\d{4}'\n",
        "#주소 양식\n",
        "address = r'서울시 동대문구 이문로 107'\n",
        "#이메일 양식\n",
        "email_pattern = r'\\b[A-Za-z0-9._%+-]+@[A-Za-z0-9.-]+\\.[A-Z|a-z]{2,}\\b'\n",
        "#링크 양식\n",
        "link_http = r'http://\\S+'\n",
        "link_www = r'\\bwww\\.\\S*'\n",
        "link_hufs = r'hufs\\.ac\\.kr'\n",
        "\n",
        "#문장부호 지우기\n",
        "punctuation_pattern = r'[,.:!?\\\\|※‘’”“→-]'"
      ],
      "metadata": {
        "id": "vOk3AfPpOYl_"
      },
      "execution_count": null,
      "outputs": []
    },
    {
      "cell_type": "code",
      "source": [
        "test = gongji_copy.loc[0,'content']\n",
        "print(test)"
      ],
      "metadata": {
        "id": "cZ3FAbkBHxB1"
      },
      "execution_count": null,
      "outputs": []
    },
    {
      "cell_type": "code",
      "source": [
        "# 각 패턴에 대해 검열 수행\n",
        "test = re.sub(tel_number, '', test)\n",
        "test = re.sub(phone_number, '', test)\n",
        "test = re.sub(fax_number, '', test)\n",
        "test = re.sub(address,'',test)\n",
        "test = re.sub(email_pattern,'',test)\n",
        "test = re.sub(link_http,'',test)\n",
        "test = re.sub(link_www,'',test)\n",
        "test = re.sub(link_hufs,'',test)\n",
        "test = re.sub(punctuation_pattern,'',test)\n",
        "print(test)"
      ],
      "metadata": {
        "id": "gaHVLgWEILCR"
      },
      "execution_count": null,
      "outputs": []
    },
    {
      "cell_type": "code",
      "source": [
        "def preprocess_text(text):\n",
        "    # 링크 제거 (http:// 또는 https:// 로 시작하는 링크)\n",
        "    text = re.sub(r'https?://\\S+', '', text)\n",
        "    # Zoom 회의 참가 ID 제거 _ 작동안함\n",
        "    #text = re.sub(r'Zoom 회의 참가 ID \\d{3} \\d{3} \\d{4}', '', text)\n",
        "    # 전화번호 제거 (괄호 선택적으로)\n",
        "    text = re.sub(r'\\(?0\\d{2,3}\\)?[- ]?\\d{3,4}[- ]?\\d{4}', '', text)\n",
        "    # 전번 제거\n",
        "    text = re.sub(r'\\d{2}-\\d{4}-\\d{4}', '', text)\n",
        "    # 팩스번호 제거\n",
        "    text = re.sub(r'FAX\\.\\d{2}-\\d{3}-\\d{4}', '', text)\n",
        "    # 주소 제거\n",
        "    text = re.sub(r'서울시 동대문구 이문로 107', '', text)\n",
        "    # 이메일 제거\n",
        "    text = re.sub(r'\\b[A-Za-z0-9._%+-]+@[A-Za-z0-9.-]+\\.[A-Z|a-z]{2,}\\b', '', text)\n",
        "    # www 링크 제거\n",
        "    text = re.sub(r'\\bwww\\.\\S*', '', text)\n",
        "    # hufs.ac.kr 링크 제거\n",
        "    text = re.sub(r'hufs\\.ac\\.kr', '', text)\n",
        "    # 문장부호 제거\n",
        "    text = re.sub(r'[,.:!?\\\\|※‘’”“→-○☏『』]', '', text)\n",
        "\n",
        "    return text\n",
        "\n",
        "\n",
        "# 'content' 열에 전처리 함수를 적용하여 새로운 열 생성\n",
        "gongji2_copy['cleaned_content'] = gongji2_copy['content'].apply(preprocess_text)"
      ],
      "metadata": {
        "id": "_vjVdJH3IYQD"
      },
      "execution_count": null,
      "outputs": []
    },
    {
      "cell_type": "code",
      "source": [
        "print(gongji2_copy.loc[300, 'cleaned_content'])"
      ],
      "metadata": {
        "id": "ptW6PeLUPqTA"
      },
      "execution_count": null,
      "outputs": []
    },
    {
      "cell_type": "code",
      "source": [
        "spacing = Spacing()\n",
        "\n",
        "# 띄어쓰기 함수 적용\n",
        "gongji2_copy['cleaned_content'] = gongji2_copy['cleaned_content'].apply(lambda x: spacing(x))\n",
        "\n",
        "# 결과 확인\n",
        "print( gongji2_copy.loc[300, 'cleaned_content'])\n",
        "print( gongji2_copy.loc[300, 'cleaned_content'])\n"
      ],
      "metadata": {
        "id": "ccDjufXOYXRR"
      },
      "execution_count": null,
      "outputs": []
    },
    {
      "cell_type": "code",
      "source": [
        "# 결과 확인\n",
        "print( gongji2_copy.loc[121, 'cleaned_content'])\n",
        "print( gongji2_copy.loc[121, 'cleaned_content'])\n"
      ],
      "metadata": {
        "id": "j4k9IJ69Yrg4"
      },
      "execution_count": null,
      "outputs": []
    },
    {
      "cell_type": "markdown",
      "source": [
        "### gongji2-> gongji_2_spacing.csv\n",
        "- 기본 전처리 후 띄어쓰기 적용한 것 저장해둔 상태\n",
        "- 전처리 좀 더 하고 품사태깅(okt)\n",
        "- 빈도확인 및 사용자 사전 만들기\n",
        "- TF_IDF 만들어보기"
      ],
      "metadata": {
        "id": "suwlz22vf50j"
      }
    },
    {
      "cell_type": "code",
      "source": [
        "# 결과를 CSV 파일로 저장\n",
        "gongji2_copy.to_csv('gongji_2_spacing.csv', index=False)\n",
        "\n",
        "# 저장된 파일 경로 확인\n",
        "print(\"File saved asgongji_2_spacing.csv\")"
      ],
      "metadata": {
        "id": "6sX0rEgafoGJ"
      },
      "execution_count": null,
      "outputs": []
    },
    {
      "cell_type": "code",
      "source": [
        "pwd"
      ],
      "metadata": {
        "id": "IbC2c1kogENl"
      },
      "execution_count": null,
      "outputs": []
    },
    {
      "cell_type": "code",
      "source": [
        "test = pd.read_csv('./drive/MyDrive/csv모음/gongji_2_spacing.csv')\n",
        "test.head(10)"
      ],
      "metadata": {
        "id": "ki-oMG54gGPi"
      },
      "execution_count": null,
      "outputs": []
    },
    {
      "cell_type": "code",
      "source": [
        "test.loc[5,'cleaned_content']"
      ],
      "metadata": {
        "id": "oyTGpWvMgqEe"
      },
      "execution_count": null,
      "outputs": []
    },
    {
      "cell_type": "code",
      "source": [
        "#복사\n",
        "pre_gongji2_copy = test.copy()\n",
        "print(pre_gongji2_copy.loc[501,'cleaned_content'])\n",
        "print(\"####################################\")\n",
        "print(pre_gongji2_copy.loc[501,'content'])"
      ],
      "metadata": {
        "id": "QUKdVYqNhWTT"
      },
      "execution_count": null,
      "outputs": []
    },
    {
      "cell_type": "code",
      "source": [],
      "metadata": {
        "id": "IlPylJ9fInuB"
      },
      "execution_count": null,
      "outputs": []
    },
    {
      "cell_type": "markdown",
      "source": [
        "### 0428~\n",
        "- 정제된 텍스트 바탕으로 Okt뽑기시작"
      ],
      "metadata": {
        "id": "r8WRTwGDIouA"
      }
    },
    {
      "cell_type": "code",
      "source": [
        "#1. Konlpy에서 Okt를 불러옵니다.\n",
        "!pip install konlpy\n",
        "#2. konlpy 실행을 위한 자바어쩌구 다운\n",
        "!apt-get install openjdk-8-jdk-headless -qq > /dev/null\n",
        "#3. 필요한 설정\n",
        "import os\n",
        "#os.environ[\"JAVA_HOME\"] = \"/usr/lib/jvm/java-8-openjdk-amd64\"\n",
        "from konlpy.tag import Okt\n",
        "\n",
        "okt = Okt()\n",
        "okt.morphs(\"한국외국어대학교에서 안내드립니다. 오늘은 학교수업이 없습니다.\", stem = True)"
      ],
      "metadata": {
        "id": "16qIhGG0hHYt"
      },
      "execution_count": null,
      "outputs": []
    },
    {
      "cell_type": "code",
      "source": [],
      "metadata": {
        "id": "k27YcT8Ji7eW"
      },
      "execution_count": null,
      "outputs": []
    },
    {
      "cell_type": "code",
      "source": [
        "#복사\n",
        "pre_gongji2_copy = test.copy()\n",
        "print(pre_gongji2_copy.loc[501,'cleaned_content'])\n",
        "print(\"####################################\")\n",
        "print(pre_gongji2_copy.loc[501,'content'])"
      ],
      "metadata": {
        "id": "HcDZHbpiIk0M"
      },
      "execution_count": null,
      "outputs": []
    },
    {
      "cell_type": "code",
      "source": [
        "# 부동 소수점 값을 문자열로 변환하여 데이터프레임 열의 모든 값이 문자열로 구성되도록 함\n",
        "pre_gongji2_copy['cleaned_content'] = pre_gongji2_copy['cleaned_content'].astype(str)\n",
        "\n",
        "# 변환된 문자열 값을 사용하여 단어 리스트 생성\n",
        "words = \" \".join(pre_gongji2_copy['cleaned_content'].tolist())\n",
        "words = okt.morphs(words, stem=True)\n",
        "print(len(words))"
      ],
      "metadata": {
        "id": "Lc0zdYzOhsM_"
      },
      "execution_count": null,
      "outputs": []
    },
    {
      "cell_type": "code",
      "source": [
        "from collections import Counter\n",
        "frequent = Counter(words).most_common()\n",
        "frequent\n"
      ],
      "metadata": {
        "id": "4OXSPGRwi8tH"
      },
      "execution_count": null,
      "outputs": []
    },
    {
      "cell_type": "code",
      "source": [
        "# 결과를 텍스트 파일로 저장\n",
        "with open('word_frequency.txt', 'w', encoding='utf-8') as f:\n",
        "    for word, count in frequent:\n",
        "        f.write(f'{word}: {count}\\n')\n",
        "from google.colab import files\n",
        "files.download('word_frequency.txt')\n"
      ],
      "metadata": {
        "id": "fL8C1KL_nNoA"
      },
      "execution_count": null,
      "outputs": []
    },
    {
      "cell_type": "code",
      "source": [],
      "metadata": {
        "id": "mSwcL0SRZvhO"
      },
      "execution_count": null,
      "outputs": []
    },
    {
      "cell_type": "markdown",
      "source": [
        "### 학사\n",
        "- 공지 프로세스 이해를 위한 전처리 및 Tf-IDF까지 일단 가보기\n",
        "- 전처리 리스트가 어느정도 완성될것이라 기대하며ㅠㅠ"
      ],
      "metadata": {
        "id": "ZJJwBpeRe4Di"
      }
    },
    {
      "cell_type": "code",
      "source": [
        "haksa_copy"
      ],
      "metadata": {
        "id": "JneY-Vffe_eV"
      },
      "execution_count": null,
      "outputs": []
    },
    {
      "cell_type": "code",
      "source": [
        "import re"
      ],
      "metadata": {
        "id": "u_GMcZ3HHA9U"
      },
      "execution_count": null,
      "outputs": []
    },
    {
      "cell_type": "markdown",
      "source": [
        "### 학사 전처리 유의사항 적는 곳\n",
        "- 이중전공 사전에 넣어줄 것: 이중전공을 잘 인식못함\n",
        "- 이수도 넣어주기 (이/수로 인식함) _ 이수, 이수구분\n",
        "- 미배정도 미/배정으로 끊김\n",
        "- 학년도를 학년/도(조사)로 인식함"
      ],
      "metadata": {
        "id": "TWiiJ6j3GyPm"
      }
    },
    {
      "cell_type": "code",
      "source": [],
      "metadata": {
        "id": "Umt3YtFgG7Cx"
      },
      "execution_count": null,
      "outputs": []
    },
    {
      "cell_type": "code",
      "source": [
        "from pykospacing import Spacing\n",
        "spacing = Spacing()\n",
        "kospacing_sent = spacing(haksa_copy.loc[0,'content'])\n",
        "print(haksa_copy.loc[0,'content'])\n",
        "print(kospacing_sent)"
      ],
      "metadata": {
        "id": "49lr2CL_fHcC"
      },
      "execution_count": null,
      "outputs": []
    },
    {
      "cell_type": "code",
      "source": [
        "def preprocess_text(text):\n",
        "    # 링크 제거 (http:// 또는 https:// 로 시작하는 링크)\n",
        "    text = re.sub(r'https?://\\S+', '', text)\n",
        "    # Zoom 회의 참가 ID 제거 _ 작동안함\n",
        "    #text = re.sub(r'Zoom 회의 참가 ID \\d{3} \\d{3} \\d{4}', '', text)\n",
        "    # 전화번호 제거 (괄호 선택적으로)\n",
        "    text = re.sub(r'\\(?0\\d{2,3}\\)?[- ]?\\d{3,4}[- ]?\\d{4}', '', text)\n",
        "    # 전번 제거\n",
        "    text = re.sub(r'\\d{2}-\\d{4}-\\d{4}', '', text)\n",
        "    # 팩스번호 제거\n",
        "    text = re.sub(r'FAX\\.\\d{2}-\\d{3}-\\d{4}', '', text)\n",
        "    # 주소 제거\n",
        "    text = re.sub(r'서울시 동대문구 이문로 107', '', text)\n",
        "    # 이메일 제거\n",
        "    text = re.sub(r'\\b[A-Za-z0-9._%+-]+@[A-Za-z0-9.-]+\\.[A-Z|a-z]{2,}\\b', '', text)\n",
        "    # www 링크 제거\n",
        "    text = re.sub(r'\\bwww\\.\\S*', '', text)\n",
        "    # hufs.ac.kr 링크 제거\n",
        "    text = re.sub(r'hufs\\.ac\\.kr', '', text)\n",
        "    #마지막 날짜 양식 변형\n",
        "    #text = re.sub(r'\\d{4}\\.\\s\\d{2}\\.\\s\\d{2}\\.', '', text)\n",
        "    #마지막 날짜\n",
        "    #text = re.sub(r'\\d{4}\\.\\s\\d{2}\\.', '', text) #과제 제출등에 유의\n",
        "    # 문장부호 제거\n",
        "    text = re.sub(r'[,.:!?\\\\|※‘’”“→-○☏『』)(]', '', text)\n",
        "    #학사한정: 교무처장 제거\n",
        "    text = re.sub(r'교무처장', '', text)\n",
        "    text = re.sub(r'\\n','',text)\n",
        "\n",
        "    return text\n",
        "\n",
        "\n",
        "# 'content' 열에 전처리 함수를 적용하여 새로운 열 생성\n",
        "haksa_copy['cleaned_content'] = haksa_copy['content'].apply(preprocess_text)\n",
        "haksa_copy.tail()"
      ],
      "metadata": {
        "id": "JV10xJFMGhRk"
      },
      "execution_count": null,
      "outputs": []
    },
    {
      "cell_type": "code",
      "source": [
        "print(haksa_copy.loc[118, 'cleaned_content'])\n",
        "print(\"________________________________________\")\n",
        "print(haksa_copy.loc[118, 'content'])"
      ],
      "metadata": {
        "id": "ikCT2ID2IBsH"
      },
      "execution_count": null,
      "outputs": []
    },
    {
      "cell_type": "code",
      "source": [
        "# kospacing 안하고 okt 넣어보기\n",
        "#1. Konlpy에서 Okt를 불러옵니다.\n",
        "!pip install konlpy\n",
        "#2. konlpy 실행을 위한 자바어쩌구 다운\n",
        "!apt-get install openjdk-8-jdk-headless -qq > /dev/null\n",
        "#3. 필요한 설정\n",
        "import os\n",
        "#os.environ[\"JAVA_HOME\"] = \"/usr/lib/jvm/java-8-openjdk-amd64\"\n",
        "from konlpy.tag import Okt\n",
        "\n",
        "okt = Okt()\n",
        "okt.morphs(\"한국외국어대학교에서 안내드립니다. 오늘은 학교수업이 없습니다.\", stem = True)"
      ],
      "metadata": {
        "id": "Gg4ktRKUIb7V"
      },
      "execution_count": null,
      "outputs": []
    },
    {
      "cell_type": "code",
      "source": [
        "#빈도확인용\n",
        "okt = Okt()\n",
        "words = \" \".join( haksa_copy['cleaned_content'].tolist())\n",
        "words = okt.morphs(words,stem=True)"
      ],
      "metadata": {
        "id": "xXvb5jJpVLqj"
      },
      "execution_count": null,
      "outputs": []
    },
    {
      "cell_type": "code",
      "source": [
        "#품사태그로 쪼개주기\n",
        "okt = Okt()\n",
        "tagged_words = []\n",
        "for sentence in haksa_copy['cleaned_content']:\n",
        "    tagged_sentence = okt.pos(sentence, stem=True)\n",
        "    tagged_words.append(tagged_sentence)\n",
        "\n",
        "tagged_words"
      ],
      "metadata": {
        "id": "E3kdMRC0P87f"
      },
      "execution_count": null,
      "outputs": []
    },
    {
      "cell_type": "code",
      "source": [
        "#품사 없이 단어만\n",
        "okt = Okt()\n",
        "words_list = []\n",
        "\n",
        "for sentence in haksa_copy['cleaned_content']:\n",
        "    words = okt.morphs(sentence, stem=True)\n",
        "    words_list.append(words)\n"
      ],
      "metadata": {
        "id": "9-O2idiTXvSK"
      },
      "execution_count": null,
      "outputs": []
    },
    {
      "cell_type": "code",
      "source": [
        "#태그된 단어 일단 메모장에넣어주기\n",
        "from google.colab import files\n",
        "\n",
        "with open('haksa_tagged_words.txt', 'w', encoding='utf-8') as file:\n",
        "    for sentence in tagged_words:\n",
        "        line = ' '.join([f'{word}/{tag}' for word, tag in sentence])\n",
        "        file.write(line + '\\n')\n",
        "\n",
        "files.download('haksa_tagged_words.txt')\n"
      ],
      "metadata": {
        "id": "kMj5Jv3CWmSr"
      },
      "execution_count": null,
      "outputs": []
    },
    {
      "cell_type": "code",
      "source": [
        "#품사없이 단어만 일단 메모장에넣어주기\n",
        "from google.colab import files\n",
        "\n",
        "# 파일을 쓰기 모드로 열고 데이터를 쓴 후 파일을 다운로드합니다.\n",
        "with open('haksa_words_list.txt', 'w', encoding='utf-8') as file:\n",
        "    for words in words_list:\n",
        "        line = ' '.join(words)\n",
        "        file.write(line + '\\n')\n",
        "\n",
        "# 다운로드할 파일을 지정합니다.\n",
        "files.download('haksa_words_list.txt')"
      ],
      "metadata": {
        "id": "7nsLc_0WX0pA"
      },
      "execution_count": null,
      "outputs": []
    },
    {
      "cell_type": "code",
      "source": [
        "words[4]"
      ],
      "metadata": {
        "id": "kYbGetGITgF5"
      },
      "execution_count": null,
      "outputs": []
    },
    {
      "cell_type": "code",
      "source": [
        "from collections import Counter\n",
        "frequent = Counter(words).most_common()\n",
        "frequent"
      ],
      "metadata": {
        "id": "WjNNyMFcREyo"
      },
      "execution_count": null,
      "outputs": []
    },
    {
      "cell_type": "markdown",
      "source": [
        "### tf-idf 참고링크\n",
        "https://heytech.tistory.com/337\n"
      ],
      "metadata": {
        "id": "j3DQJwVAe0L6"
      }
    },
    {
      "cell_type": "code",
      "source": [
        "#tf-idf 넣어줄 사이킷런다운\n",
        "!pip install -U scikit-learn"
      ],
      "metadata": {
        "id": "ymXovmIxRfxY"
      },
      "execution_count": null,
      "outputs": []
    },
    {
      "cell_type": "code",
      "source": [
        "import pandas as pd\n",
        "import numpy as np\n",
        "from sklearn.feature_extraction.text import CountVectorizer"
      ],
      "metadata": {
        "id": "9vlKqEi8Y7zS"
      },
      "execution_count": null,
      "outputs": []
    },
    {
      "cell_type": "code",
      "source": [
        "#판다스로열어줌\n",
        "documents = pd.read_csv(\"haksa_words_list.txt\")\n",
        "documents"
      ],
      "metadata": {
        "id": "pNDXSqH8ZOzd"
      },
      "execution_count": null,
      "outputs": []
    },
    {
      "cell_type": "code",
      "source": [
        "#공지 읽어오기\n",
        "with open(\"haksa_words_list.txt\",'r',encoding = 'utf-8') as file:\n",
        "  lines = file.readlines()\n",
        "  data = [line.strip() for line in lines]\n",
        "documents = data\n",
        "documents[1]"
      ],
      "metadata": {
        "id": "4mKgRy7cclWF"
      },
      "execution_count": null,
      "outputs": []
    },
    {
      "cell_type": "code",
      "source": [
        "vectorizer = CountVectorizer()\n",
        "# Document Term Matrix\n",
        "dtm = vectorizer.fit_transform(documents)\n",
        "\n",
        "# Term Freqeuncy\n",
        "tf = pd.DataFrame(dtm.toarray(), columns=vectorizer.get_feature_names_out())\n",
        "# Document Frequency\n",
        "df = tf.astype(bool).sum(axis = 0)\n",
        "# 문서 개수\n",
        "D = len(tf)\n",
        "\n",
        "# Inverse Document Frequency\n",
        "idf = np.log((D) / (df+1))\n",
        "# TF-IDF\n",
        "tfidf = tf * idf\n",
        "tfidf = tfidf / np.linalg.norm(tfidf, axis = 1, keepdims = True)\n",
        "tfidf"
      ],
      "metadata": {
        "id": "AJ635U-ZZmXG"
      },
      "execution_count": null,
      "outputs": []
    },
    {
      "cell_type": "code",
      "source": [],
      "metadata": {
        "id": "ePl9RiswZ4Z-"
      },
      "execution_count": null,
      "outputs": []
    },
    {
      "cell_type": "code",
      "source": [
        "tf"
      ],
      "metadata": {
        "id": "bVEheMpkaTbm"
      },
      "execution_count": null,
      "outputs": []
    },
    {
      "cell_type": "code",
      "source": [
        "df"
      ],
      "metadata": {
        "id": "lPbrSBFLaqU-"
      },
      "execution_count": null,
      "outputs": []
    },
    {
      "cell_type": "code",
      "source": [
        "D"
      ],
      "metadata": {
        "id": "uC5qPJ-Ja9Wm"
      },
      "execution_count": null,
      "outputs": []
    },
    {
      "cell_type": "code",
      "source": [
        "tfidf"
      ],
      "metadata": {
        "id": "YlgKD4rebBot"
      },
      "execution_count": null,
      "outputs": []
    },
    {
      "cell_type": "code",
      "source": [],
      "metadata": {
        "id": "7xgg1vK8db3Q"
      },
      "execution_count": null,
      "outputs": []
    },
    {
      "cell_type": "markdown",
      "source": [
        "# 코드 정리지점\n",
        "### 다시 공지 전처리 해보고 tf-idf 해보기"
      ],
      "metadata": {
        "id": "rDmqdioBhnne"
      }
    },
    {
      "cell_type": "code",
      "source": [
        "#호출코드모음\n",
        "import pandas as pd\n",
        "import os\n",
        "#마운트\n",
        "from google.colab import drive\n",
        "drive.mount('/content/drive')\n",
        "import re\n",
        "import numpy as np\n",
        "from sklearn.feature_extraction.text import CountVectorizer\n",
        "#단어 빈도셀 때\n",
        "from collections import Counter"
      ],
      "metadata": {
        "id": "Lhhfj5lLe4C4",
        "colab": {
          "base_uri": "https://localhost:8080/"
        },
        "outputId": "a4efd270-67c0-4ab5-d27b-ac1a115b8d01"
      },
      "execution_count": null,
      "outputs": [
        {
          "output_type": "stream",
          "name": "stdout",
          "text": [
            "Drive already mounted at /content/drive; to attempt to forcibly remount, call drive.mount(\"/content/drive\", force_remount=True).\n"
          ]
        }
      ]
    },
    {
      "cell_type": "code",
      "source": [
        "#kospacing 다운 및 호출\n",
        "#!pip install git+https://github.com/haven-jeon/PyKoSpacing.git\n",
        "#from pykospacing import Spacing\n",
        "#spacing = Spacing()\n",
        "#kospacing_sent = spacing(new_sent)"
      ],
      "metadata": {
        "id": "YcejQfgQiCmO"
      },
      "execution_count": null,
      "outputs": []
    },
    {
      "cell_type": "code",
      "source": [
        "#konlpy 다운 및 호출\n",
        "#1. Konlpy에서 Okt\n",
        "!pip install konlpy\n",
        "#2. konlpy 실행을 위한 자바어쩌구 다운\n",
        "!apt-get install openjdk-8-jdk-headless -qq > /dev/null\n",
        "#3. 필요한 설정\n",
        "import os\n",
        "os.environ[\"JAVA_HOME\"] = \"/usr/lib/jvm/java-8-openjdk-amd64\"\n",
        "from konlpy.tag import Okt\n",
        "\n",
        "okt = Okt()\n",
        "okt.morphs(\"한국외국어대학교에서 안내드립니다. 오늘은 학교수업이 없습니다.\", stem = True)\n"
      ],
      "metadata": {
        "id": "M7BrSyFPi9ka",
        "colab": {
          "base_uri": "https://localhost:8080/"
        },
        "outputId": "5245c9c8-d3eb-485e-a489-3d397cac8b99"
      },
      "execution_count": null,
      "outputs": [
        {
          "output_type": "stream",
          "name": "stdout",
          "text": [
            "Requirement already satisfied: konlpy in /usr/local/lib/python3.10/dist-packages (0.6.0)\n",
            "Requirement already satisfied: JPype1>=0.7.0 in /usr/local/lib/python3.10/dist-packages (from konlpy) (1.5.0)\n",
            "Requirement already satisfied: lxml>=4.1.0 in /usr/local/lib/python3.10/dist-packages (from konlpy) (4.9.4)\n",
            "Requirement already satisfied: numpy>=1.6 in /usr/local/lib/python3.10/dist-packages (from konlpy) (1.25.2)\n",
            "Requirement already satisfied: packaging in /usr/local/lib/python3.10/dist-packages (from JPype1>=0.7.0->konlpy) (24.0)\n"
          ]
        },
        {
          "output_type": "execute_result",
          "data": {
            "text/plain": [
              "['한국외국어대학교', '에서', '안', '내', '드리다', '.', '오늘', '은', '학교', '수업', '이', '없다', '.']"
            ]
          },
          "metadata": {},
          "execution_count": 2
        }
      ]
    },
    {
      "cell_type": "code",
      "source": [
        "okt.morphs(\"안내 합니다\")\n",
        "okt.morphs(\"안내 드립니다\")\n",
        "okt.morphs(\"안내드립니다\")"
      ],
      "metadata": {
        "colab": {
          "base_uri": "https://localhost:8080/"
        },
        "id": "Z9TUMWzh4Nhl",
        "outputId": "a19a6a4d-4045-4c8d-90a0-ed85c12d4d1f"
      },
      "execution_count": null,
      "outputs": [
        {
          "output_type": "execute_result",
          "data": {
            "text/plain": [
              "['안', '내', '드립니다']"
            ]
          },
          "metadata": {},
          "execution_count": 6
        }
      ]
    },
    {
      "cell_type": "code",
      "source": [
        "#각종 문서 저장\n",
        "\n",
        "gongji = pd.read_csv('./drive/MyDrive/csv모음/final_merged_gongji(0501).csv')\n",
        "haksa = pd.read_csv('./drive/MyDrive/csv모음/merged_haksa.csv')\n",
        "hiring = pd.read_csv('./drive/MyDrive/csv모음/merged_hire.csv')\n",
        "janghak = pd.read_csv('./drive/MyDrive/csv모음/merged_janghak.csv')\n",
        "\n",
        "#공지 분할 저장\n",
        "gongji_1 = pd.read_csv('./drive/MyDrive/csv모음/final_gongji_1.csv')\n",
        "gongji_2 = pd.read_csv('./drive/MyDrive/csv모음/final_gongji_2.csv')\n",
        "gongji_3 = pd.read_csv('./drive/MyDrive/csv모음/final_gongji_3.csv')\n",
        "gongji_4 = pd.read_csv('./drive/MyDrive/csv모음/final_gongji_4.csv')"
      ],
      "metadata": {
        "id": "rFrtRsiJiY6J"
      },
      "execution_count": null,
      "outputs": []
    },
    {
      "cell_type": "code",
      "source": [
        "#공지 4분할\n",
        "\n",
        "# DataFrame 분할\n",
        "'''splitted_dfs = np.array_split(gongji, 4)\n",
        "\n",
        "# 각각의 DataFrame을 따로 저장할 수도 있습니다\n",
        "for i, splitted_df in enumerate(splitted_dfs):\n",
        "    splitted_df.to_csv(f'final_gongji_{i+1}.csv', index=False)'''"
      ],
      "metadata": {
        "id": "JgsxbHLOyduq",
        "colab": {
          "base_uri": "https://localhost:8080/",
          "height": 54
        },
        "outputId": "c454b2ac-fbcc-4cf9-8d0b-ba2ccac0b96b"
      },
      "execution_count": null,
      "outputs": [
        {
          "output_type": "execute_result",
          "data": {
            "text/plain": [
              "\"splitted_dfs = np.array_split(gongji, 4)\\n\\n# 각각의 DataFrame을 따로 저장할 수도 있습니다\\nfor i, splitted_df in enumerate(splitted_dfs):\\n    splitted_df.to_csv(f'final_gongji_{i+1}.csv', index=False)\""
            ],
            "application/vnd.google.colaboratory.intrinsic+json": {
              "type": "string"
            }
          },
          "metadata": {},
          "execution_count": 10
        }
      ]
    },
    {
      "cell_type": "code",
      "source": [
        "#각 공지 1677개씩 있음\n",
        "len(gongji_4)"
      ],
      "metadata": {
        "id": "eFA_50lPz1_5",
        "colab": {
          "base_uri": "https://localhost:8080/"
        },
        "outputId": "5a2dc6a6-90b7-4c27-d087-fba49e62007a"
      },
      "execution_count": null,
      "outputs": [
        {
          "output_type": "execute_result",
          "data": {
            "text/plain": [
              "1677"
            ]
          },
          "metadata": {},
          "execution_count": 11
        }
      ]
    },
    {
      "cell_type": "code",
      "source": [
        "#파일복사\n",
        "# 원본 데이터 보존 위해 copy 데이터 생성\n",
        "gongji_copy = gongji.copy()\n",
        "haksa_copy = haksa.copy()\n",
        "hiring_copy = hiring.copy()\n",
        "janghak_copy = janghak.copy()\n",
        "\n",
        "\n",
        "gongji1_copy = gongji_1.copy()\n",
        "gongji2_copy = gongji_2.copy()\n",
        "gongji3_copy = gongji_3.copy()\n",
        "gongji4_copy = gongji_4.copy()"
      ],
      "metadata": {
        "id": "61A0NCtUirvG"
      },
      "execution_count": null,
      "outputs": []
    },
    {
      "cell_type": "code",
      "source": [
        "#전처리 함수(통일)\n",
        "def preprocess_text(text):\n",
        "    # 링크 제거 (http:// 또는 https:// 로 시작하는 링크)\n",
        "    text = re.sub(r'https?://\\S+', '', text)\n",
        "    # Zoom 회의 참가 ID 제거 _ 작동안함\n",
        "    #text = re.sub(r'Zoom 회의 참가 ID \\d{3} \\d{3} \\d{4}', '', text)\n",
        "    # 전화번호 제거 (괄호 선택적으로)\n",
        "    text = re.sub(r'\\(?0\\d{2,3}\\)?[- ]?\\d{3,4}[- ]?\\d{4}', '', text)\n",
        "    # 전번 제거\n",
        "    text = re.sub(r'\\d{2}-\\d{4}-\\d{4}', '', text)\n",
        "    # 팩스번호 제거\n",
        "    text = re.sub(r'FAX\\.\\d{2}-\\d{3}-\\d{4}', '', text)\n",
        "    # 주소 제거\n",
        "    text = re.sub(r'서울시 동대문구 이문로 107', '', text)\n",
        "    # 이메일 제거\n",
        "    text = re.sub(r'\\b[A-Za-z0-9._%+-]+@[A-Za-z0-9.-]+\\.[A-Z|a-z]{2,}\\b', '', text)\n",
        "    # www 링크 제거\n",
        "    text = re.sub(r'\\bwww\\.\\S*', '', text)\n",
        "    # hufs.ac.kr 링크 제거\n",
        "    text = re.sub(r'hufs\\.ac\\.kr', '', text)\n",
        "    # 문장부호 제거\n",
        "    text = re.sub(r'[,.:!?\\\\|※‘’”“→-○☏『』]', '', text)\n",
        "\n",
        "    return text"
      ],
      "metadata": {
        "id": "iHfMklbeitWM"
      },
      "execution_count": null,
      "outputs": []
    },
    {
      "cell_type": "markdown",
      "source": [
        "# 학사처리\n",
        "1. 기본 양식 re로 전처리\n",
        "2. 코로나 게시글 제거 (제거한 데이터프레임 따로저장?)\n",
        "3. 사용자 사전 추가\n",
        "4. 빈도수 확인 후 사용자 사전 추가\n",
        "5. 한글자 지우기\n",
        "6. 품사태깅해서 조사, 동사 등등 지우기\n",
        "7. TF-IDF 연산\n",
        "8. 다시 사용자 사전 추가\n"
      ],
      "metadata": {
        "id": "QnywVVDCNsZm"
      }
    },
    {
      "cell_type": "code",
      "source": [
        "haksa = pd.read_csv('./drive/MyDrive/csv모음/merged_haksa.csv')\n",
        "haksa_copy = haksa.copy()\n",
        "haksa_copy"
      ],
      "metadata": {
        "colab": {
          "base_uri": "https://localhost:8080/",
          "height": 597
        },
        "id": "7DSJYF6UOM7b",
        "outputId": "067aaf79-66fc-4a84-ac66-ff3ad8929f9d"
      },
      "execution_count": null,
      "outputs": [
        {
          "output_type": "execute_result",
          "data": {
            "text/plain": [
              "     index        date                                     title  \\\n",
              "0        1  2020-01-06            [공통] 2019-2학기 이중전공 변경 배정 확정 공고   \n",
              "1        2  2020-01-13                  [공통] 2020학년도 1학기 수강신청 공고   \n",
              "2        3  2020-01-13     [공통] 2020학년도 전기 국제지역대학원 학석사연계과정 모집 안내   \n",
              "3        4  2020-01-13       [공통] 2020학년도 전기 일반대학원 학석사연계과정 모집 안내   \n",
              "4        5  2020-01-15                        [글로벌]졸업 예비사정 결과 조회   \n",
              "..     ...         ...                                       ...   \n",
              "617    618  2024-03-13                          [공통] 생리 유고 신청 안내   \n",
              "618    619  2024-03-13  [공통] 졸업예정자(해당학기 졸업가능자)의 조기취업  유고결석 신청 안내   \n",
              "619    621  2024-03-15           [글로벌]2024-1학기 폐강(2차) 공고(글로벌캠퍼스)   \n",
              "620    620  2024-03-15            [서울] 2024-1학기 폐강(2차) 공고(서울캠퍼스)   \n",
              "621    622  2024-03-26       [공통]2024-여름계절학기 개설희망 교과목 수요조사 실시 공고   \n",
              "\n",
              "                                               content  \n",
              "0    \\n\\n\\n\\n\\n\\n[공통]이중전공변경 배정 확정 공고\\n \\n2019학년도 제2...  \n",
              "1    \\n2020학년도 1학기 수강신청 공고 2020학년도 제1학기 수강신청에 대하여 아...  \n",
              "2    \\n2020학년도 전기 국제지역대학원 학석사연계과정 모집 안내\\n \\n2020학년도...  \n",
              "3    \\n2020학년도 전기 일반대학원 학석사연계과정 모집 안내\\n\\n2020학년도 전기...  \n",
              "4    \\n[글로벌] 졸업 예비사정 결과 조회글로벌캠퍼스 졸업(2020년 2월) 예비사정 ...  \n",
              "..                                                 ...  \n",
              "617  \\n\\n\\n\\n\\n\\n생리 유고 신청 안내\\n\\n\\n\\n\\n\\n  생리로 인한 유고...  \n",
              "618  \\n\\n\\n\\n\\n\\n졸업예정자(해당학기 졸업가능자)의 조기취업유고결석 신청 안내\\...  \n",
              "619  \\n\\n\\n\\n\\n\\n2024-1학기 폐강(2차) 공고(글로벌캠퍼스)\\n\\n\\n\\n...  \n",
              "620  \\n\\n\\n\\n\\n\\n2024-1학기 폐강(2차) 공고(서울캠퍼스)\\n\\n\\n\\n\\...  \n",
              "621  \\n계절학기 개설희망 교과목 수요조사 실시 공고\\n\\n2024학년도여름계절학기 개설...  \n",
              "\n",
              "[622 rows x 4 columns]"
            ],
            "text/html": [
              "\n",
              "  <div id=\"df-390cca38-7bac-4a77-ad88-b02b86b33a91\" class=\"colab-df-container\">\n",
              "    <div>\n",
              "<style scoped>\n",
              "    .dataframe tbody tr th:only-of-type {\n",
              "        vertical-align: middle;\n",
              "    }\n",
              "\n",
              "    .dataframe tbody tr th {\n",
              "        vertical-align: top;\n",
              "    }\n",
              "\n",
              "    .dataframe thead th {\n",
              "        text-align: right;\n",
              "    }\n",
              "</style>\n",
              "<table border=\"1\" class=\"dataframe\">\n",
              "  <thead>\n",
              "    <tr style=\"text-align: right;\">\n",
              "      <th></th>\n",
              "      <th>index</th>\n",
              "      <th>date</th>\n",
              "      <th>title</th>\n",
              "      <th>content</th>\n",
              "    </tr>\n",
              "  </thead>\n",
              "  <tbody>\n",
              "    <tr>\n",
              "      <th>0</th>\n",
              "      <td>1</td>\n",
              "      <td>2020-01-06</td>\n",
              "      <td>[공통] 2019-2학기 이중전공 변경 배정 확정 공고</td>\n",
              "      <td>\\n\\n\\n\\n\\n\\n[공통]이중전공변경 배정 확정 공고\\n \\n2019학년도 제2...</td>\n",
              "    </tr>\n",
              "    <tr>\n",
              "      <th>1</th>\n",
              "      <td>2</td>\n",
              "      <td>2020-01-13</td>\n",
              "      <td>[공통] 2020학년도 1학기 수강신청 공고</td>\n",
              "      <td>\\n2020학년도 1학기 수강신청 공고 2020학년도 제1학기 수강신청에 대하여 아...</td>\n",
              "    </tr>\n",
              "    <tr>\n",
              "      <th>2</th>\n",
              "      <td>3</td>\n",
              "      <td>2020-01-13</td>\n",
              "      <td>[공통] 2020학년도 전기 국제지역대학원 학석사연계과정 모집 안내</td>\n",
              "      <td>\\n2020학년도 전기 국제지역대학원 학석사연계과정 모집 안내\\n \\n2020학년도...</td>\n",
              "    </tr>\n",
              "    <tr>\n",
              "      <th>3</th>\n",
              "      <td>4</td>\n",
              "      <td>2020-01-13</td>\n",
              "      <td>[공통] 2020학년도 전기 일반대학원 학석사연계과정 모집 안내</td>\n",
              "      <td>\\n2020학년도 전기 일반대학원 학석사연계과정 모집 안내\\n\\n2020학년도 전기...</td>\n",
              "    </tr>\n",
              "    <tr>\n",
              "      <th>4</th>\n",
              "      <td>5</td>\n",
              "      <td>2020-01-15</td>\n",
              "      <td>[글로벌]졸업 예비사정 결과 조회</td>\n",
              "      <td>\\n[글로벌] 졸업 예비사정 결과 조회글로벌캠퍼스 졸업(2020년 2월) 예비사정 ...</td>\n",
              "    </tr>\n",
              "    <tr>\n",
              "      <th>...</th>\n",
              "      <td>...</td>\n",
              "      <td>...</td>\n",
              "      <td>...</td>\n",
              "      <td>...</td>\n",
              "    </tr>\n",
              "    <tr>\n",
              "      <th>617</th>\n",
              "      <td>618</td>\n",
              "      <td>2024-03-13</td>\n",
              "      <td>[공통] 생리 유고 신청 안내</td>\n",
              "      <td>\\n\\n\\n\\n\\n\\n생리 유고 신청 안내\\n\\n\\n\\n\\n\\n  생리로 인한 유고...</td>\n",
              "    </tr>\n",
              "    <tr>\n",
              "      <th>618</th>\n",
              "      <td>619</td>\n",
              "      <td>2024-03-13</td>\n",
              "      <td>[공통] 졸업예정자(해당학기 졸업가능자)의 조기취업  유고결석 신청 안내</td>\n",
              "      <td>\\n\\n\\n\\n\\n\\n졸업예정자(해당학기 졸업가능자)의 조기취업유고결석 신청 안내\\...</td>\n",
              "    </tr>\n",
              "    <tr>\n",
              "      <th>619</th>\n",
              "      <td>621</td>\n",
              "      <td>2024-03-15</td>\n",
              "      <td>[글로벌]2024-1학기 폐강(2차) 공고(글로벌캠퍼스)</td>\n",
              "      <td>\\n\\n\\n\\n\\n\\n2024-1학기 폐강(2차) 공고(글로벌캠퍼스)\\n\\n\\n\\n...</td>\n",
              "    </tr>\n",
              "    <tr>\n",
              "      <th>620</th>\n",
              "      <td>620</td>\n",
              "      <td>2024-03-15</td>\n",
              "      <td>[서울] 2024-1학기 폐강(2차) 공고(서울캠퍼스)</td>\n",
              "      <td>\\n\\n\\n\\n\\n\\n2024-1학기 폐강(2차) 공고(서울캠퍼스)\\n\\n\\n\\n\\...</td>\n",
              "    </tr>\n",
              "    <tr>\n",
              "      <th>621</th>\n",
              "      <td>622</td>\n",
              "      <td>2024-03-26</td>\n",
              "      <td>[공통]2024-여름계절학기 개설희망 교과목 수요조사 실시 공고</td>\n",
              "      <td>\\n계절학기 개설희망 교과목 수요조사 실시 공고\\n\\n2024학년도여름계절학기 개설...</td>\n",
              "    </tr>\n",
              "  </tbody>\n",
              "</table>\n",
              "<p>622 rows × 4 columns</p>\n",
              "</div>\n",
              "    <div class=\"colab-df-buttons\">\n",
              "\n",
              "  <div class=\"colab-df-container\">\n",
              "    <button class=\"colab-df-convert\" onclick=\"convertToInteractive('df-390cca38-7bac-4a77-ad88-b02b86b33a91')\"\n",
              "            title=\"Convert this dataframe to an interactive table.\"\n",
              "            style=\"display:none;\">\n",
              "\n",
              "  <svg xmlns=\"http://www.w3.org/2000/svg\" height=\"24px\" viewBox=\"0 -960 960 960\">\n",
              "    <path d=\"M120-120v-720h720v720H120Zm60-500h600v-160H180v160Zm220 220h160v-160H400v160Zm0 220h160v-160H400v160ZM180-400h160v-160H180v160Zm440 0h160v-160H620v160ZM180-180h160v-160H180v160Zm440 0h160v-160H620v160Z\"/>\n",
              "  </svg>\n",
              "    </button>\n",
              "\n",
              "  <style>\n",
              "    .colab-df-container {\n",
              "      display:flex;\n",
              "      gap: 12px;\n",
              "    }\n",
              "\n",
              "    .colab-df-convert {\n",
              "      background-color: #E8F0FE;\n",
              "      border: none;\n",
              "      border-radius: 50%;\n",
              "      cursor: pointer;\n",
              "      display: none;\n",
              "      fill: #1967D2;\n",
              "      height: 32px;\n",
              "      padding: 0 0 0 0;\n",
              "      width: 32px;\n",
              "    }\n",
              "\n",
              "    .colab-df-convert:hover {\n",
              "      background-color: #E2EBFA;\n",
              "      box-shadow: 0px 1px 2px rgba(60, 64, 67, 0.3), 0px 1px 3px 1px rgba(60, 64, 67, 0.15);\n",
              "      fill: #174EA6;\n",
              "    }\n",
              "\n",
              "    .colab-df-buttons div {\n",
              "      margin-bottom: 4px;\n",
              "    }\n",
              "\n",
              "    [theme=dark] .colab-df-convert {\n",
              "      background-color: #3B4455;\n",
              "      fill: #D2E3FC;\n",
              "    }\n",
              "\n",
              "    [theme=dark] .colab-df-convert:hover {\n",
              "      background-color: #434B5C;\n",
              "      box-shadow: 0px 1px 3px 1px rgba(0, 0, 0, 0.15);\n",
              "      filter: drop-shadow(0px 1px 2px rgba(0, 0, 0, 0.3));\n",
              "      fill: #FFFFFF;\n",
              "    }\n",
              "  </style>\n",
              "\n",
              "    <script>\n",
              "      const buttonEl =\n",
              "        document.querySelector('#df-390cca38-7bac-4a77-ad88-b02b86b33a91 button.colab-df-convert');\n",
              "      buttonEl.style.display =\n",
              "        google.colab.kernel.accessAllowed ? 'block' : 'none';\n",
              "\n",
              "      async function convertToInteractive(key) {\n",
              "        const element = document.querySelector('#df-390cca38-7bac-4a77-ad88-b02b86b33a91');\n",
              "        const dataTable =\n",
              "          await google.colab.kernel.invokeFunction('convertToInteractive',\n",
              "                                                    [key], {});\n",
              "        if (!dataTable) return;\n",
              "\n",
              "        const docLinkHtml = 'Like what you see? Visit the ' +\n",
              "          '<a target=\"_blank\" href=https://colab.research.google.com/notebooks/data_table.ipynb>data table notebook</a>'\n",
              "          + ' to learn more about interactive tables.';\n",
              "        element.innerHTML = '';\n",
              "        dataTable['output_type'] = 'display_data';\n",
              "        await google.colab.output.renderOutput(dataTable, element);\n",
              "        const docLink = document.createElement('div');\n",
              "        docLink.innerHTML = docLinkHtml;\n",
              "        element.appendChild(docLink);\n",
              "      }\n",
              "    </script>\n",
              "  </div>\n",
              "\n",
              "\n",
              "<div id=\"df-f27e0751-9e47-4c83-86e5-df10e82a38e0\">\n",
              "  <button class=\"colab-df-quickchart\" onclick=\"quickchart('df-f27e0751-9e47-4c83-86e5-df10e82a38e0')\"\n",
              "            title=\"Suggest charts\"\n",
              "            style=\"display:none;\">\n",
              "\n",
              "<svg xmlns=\"http://www.w3.org/2000/svg\" height=\"24px\"viewBox=\"0 0 24 24\"\n",
              "     width=\"24px\">\n",
              "    <g>\n",
              "        <path d=\"M19 3H5c-1.1 0-2 .9-2 2v14c0 1.1.9 2 2 2h14c1.1 0 2-.9 2-2V5c0-1.1-.9-2-2-2zM9 17H7v-7h2v7zm4 0h-2V7h2v10zm4 0h-2v-4h2v4z\"/>\n",
              "    </g>\n",
              "</svg>\n",
              "  </button>\n",
              "\n",
              "<style>\n",
              "  .colab-df-quickchart {\n",
              "      --bg-color: #E8F0FE;\n",
              "      --fill-color: #1967D2;\n",
              "      --hover-bg-color: #E2EBFA;\n",
              "      --hover-fill-color: #174EA6;\n",
              "      --disabled-fill-color: #AAA;\n",
              "      --disabled-bg-color: #DDD;\n",
              "  }\n",
              "\n",
              "  [theme=dark] .colab-df-quickchart {\n",
              "      --bg-color: #3B4455;\n",
              "      --fill-color: #D2E3FC;\n",
              "      --hover-bg-color: #434B5C;\n",
              "      --hover-fill-color: #FFFFFF;\n",
              "      --disabled-bg-color: #3B4455;\n",
              "      --disabled-fill-color: #666;\n",
              "  }\n",
              "\n",
              "  .colab-df-quickchart {\n",
              "    background-color: var(--bg-color);\n",
              "    border: none;\n",
              "    border-radius: 50%;\n",
              "    cursor: pointer;\n",
              "    display: none;\n",
              "    fill: var(--fill-color);\n",
              "    height: 32px;\n",
              "    padding: 0;\n",
              "    width: 32px;\n",
              "  }\n",
              "\n",
              "  .colab-df-quickchart:hover {\n",
              "    background-color: var(--hover-bg-color);\n",
              "    box-shadow: 0 1px 2px rgba(60, 64, 67, 0.3), 0 1px 3px 1px rgba(60, 64, 67, 0.15);\n",
              "    fill: var(--button-hover-fill-color);\n",
              "  }\n",
              "\n",
              "  .colab-df-quickchart-complete:disabled,\n",
              "  .colab-df-quickchart-complete:disabled:hover {\n",
              "    background-color: var(--disabled-bg-color);\n",
              "    fill: var(--disabled-fill-color);\n",
              "    box-shadow: none;\n",
              "  }\n",
              "\n",
              "  .colab-df-spinner {\n",
              "    border: 2px solid var(--fill-color);\n",
              "    border-color: transparent;\n",
              "    border-bottom-color: var(--fill-color);\n",
              "    animation:\n",
              "      spin 1s steps(1) infinite;\n",
              "  }\n",
              "\n",
              "  @keyframes spin {\n",
              "    0% {\n",
              "      border-color: transparent;\n",
              "      border-bottom-color: var(--fill-color);\n",
              "      border-left-color: var(--fill-color);\n",
              "    }\n",
              "    20% {\n",
              "      border-color: transparent;\n",
              "      border-left-color: var(--fill-color);\n",
              "      border-top-color: var(--fill-color);\n",
              "    }\n",
              "    30% {\n",
              "      border-color: transparent;\n",
              "      border-left-color: var(--fill-color);\n",
              "      border-top-color: var(--fill-color);\n",
              "      border-right-color: var(--fill-color);\n",
              "    }\n",
              "    40% {\n",
              "      border-color: transparent;\n",
              "      border-right-color: var(--fill-color);\n",
              "      border-top-color: var(--fill-color);\n",
              "    }\n",
              "    60% {\n",
              "      border-color: transparent;\n",
              "      border-right-color: var(--fill-color);\n",
              "    }\n",
              "    80% {\n",
              "      border-color: transparent;\n",
              "      border-right-color: var(--fill-color);\n",
              "      border-bottom-color: var(--fill-color);\n",
              "    }\n",
              "    90% {\n",
              "      border-color: transparent;\n",
              "      border-bottom-color: var(--fill-color);\n",
              "    }\n",
              "  }\n",
              "</style>\n",
              "\n",
              "  <script>\n",
              "    async function quickchart(key) {\n",
              "      const quickchartButtonEl =\n",
              "        document.querySelector('#' + key + ' button');\n",
              "      quickchartButtonEl.disabled = true;  // To prevent multiple clicks.\n",
              "      quickchartButtonEl.classList.add('colab-df-spinner');\n",
              "      try {\n",
              "        const charts = await google.colab.kernel.invokeFunction(\n",
              "            'suggestCharts', [key], {});\n",
              "      } catch (error) {\n",
              "        console.error('Error during call to suggestCharts:', error);\n",
              "      }\n",
              "      quickchartButtonEl.classList.remove('colab-df-spinner');\n",
              "      quickchartButtonEl.classList.add('colab-df-quickchart-complete');\n",
              "    }\n",
              "    (() => {\n",
              "      let quickchartButtonEl =\n",
              "        document.querySelector('#df-f27e0751-9e47-4c83-86e5-df10e82a38e0 button');\n",
              "      quickchartButtonEl.style.display =\n",
              "        google.colab.kernel.accessAllowed ? 'block' : 'none';\n",
              "    })();\n",
              "  </script>\n",
              "</div>\n",
              "\n",
              "  <div id=\"id_5fb8778d-3ef0-4ff1-8758-05df1456e9c4\">\n",
              "    <style>\n",
              "      .colab-df-generate {\n",
              "        background-color: #E8F0FE;\n",
              "        border: none;\n",
              "        border-radius: 50%;\n",
              "        cursor: pointer;\n",
              "        display: none;\n",
              "        fill: #1967D2;\n",
              "        height: 32px;\n",
              "        padding: 0 0 0 0;\n",
              "        width: 32px;\n",
              "      }\n",
              "\n",
              "      .colab-df-generate:hover {\n",
              "        background-color: #E2EBFA;\n",
              "        box-shadow: 0px 1px 2px rgba(60, 64, 67, 0.3), 0px 1px 3px 1px rgba(60, 64, 67, 0.15);\n",
              "        fill: #174EA6;\n",
              "      }\n",
              "\n",
              "      [theme=dark] .colab-df-generate {\n",
              "        background-color: #3B4455;\n",
              "        fill: #D2E3FC;\n",
              "      }\n",
              "\n",
              "      [theme=dark] .colab-df-generate:hover {\n",
              "        background-color: #434B5C;\n",
              "        box-shadow: 0px 1px 3px 1px rgba(0, 0, 0, 0.15);\n",
              "        filter: drop-shadow(0px 1px 2px rgba(0, 0, 0, 0.3));\n",
              "        fill: #FFFFFF;\n",
              "      }\n",
              "    </style>\n",
              "    <button class=\"colab-df-generate\" onclick=\"generateWithVariable('haksa_copy')\"\n",
              "            title=\"Generate code using this dataframe.\"\n",
              "            style=\"display:none;\">\n",
              "\n",
              "  <svg xmlns=\"http://www.w3.org/2000/svg\" height=\"24px\"viewBox=\"0 0 24 24\"\n",
              "       width=\"24px\">\n",
              "    <path d=\"M7,19H8.4L18.45,9,17,7.55,7,17.6ZM5,21V16.75L18.45,3.32a2,2,0,0,1,2.83,0l1.4,1.43a1.91,1.91,0,0,1,.58,1.4,1.91,1.91,0,0,1-.58,1.4L9.25,21ZM18.45,9,17,7.55Zm-12,3A5.31,5.31,0,0,0,4.9,8.1,5.31,5.31,0,0,0,1,6.5,5.31,5.31,0,0,0,4.9,4.9,5.31,5.31,0,0,0,6.5,1,5.31,5.31,0,0,0,8.1,4.9,5.31,5.31,0,0,0,12,6.5,5.46,5.46,0,0,0,6.5,12Z\"/>\n",
              "  </svg>\n",
              "    </button>\n",
              "    <script>\n",
              "      (() => {\n",
              "      const buttonEl =\n",
              "        document.querySelector('#id_5fb8778d-3ef0-4ff1-8758-05df1456e9c4 button.colab-df-generate');\n",
              "      buttonEl.style.display =\n",
              "        google.colab.kernel.accessAllowed ? 'block' : 'none';\n",
              "\n",
              "      buttonEl.onclick = () => {\n",
              "        google.colab.notebook.generateWithVariable('haksa_copy');\n",
              "      }\n",
              "      })();\n",
              "    </script>\n",
              "  </div>\n",
              "\n",
              "    </div>\n",
              "  </div>\n"
            ],
            "application/vnd.google.colaboratory.intrinsic+json": {
              "type": "dataframe",
              "variable_name": "haksa_copy",
              "summary": "{\n  \"name\": \"haksa_copy\",\n  \"rows\": 622,\n  \"fields\": [\n    {\n      \"column\": \"index\",\n      \"properties\": {\n        \"dtype\": \"number\",\n        \"std\": 179,\n        \"min\": 1,\n        \"max\": 622,\n        \"num_unique_values\": 622,\n        \"samples\": [\n          249,\n          398,\n          176\n        ],\n        \"semantic_type\": \"\",\n        \"description\": \"\"\n      }\n    },\n    {\n      \"column\": \"date\",\n      \"properties\": {\n        \"dtype\": \"object\",\n        \"num_unique_values\": 414,\n        \"samples\": [\n          \"2023-08-16\",\n          \"2023-07-11\",\n          \"2023-10-27\"\n        ],\n        \"semantic_type\": \"\",\n        \"description\": \"\"\n      }\n    },\n    {\n      \"column\": \"title\",\n      \"properties\": {\n        \"dtype\": \"string\",\n        \"num_unique_values\": 592,\n        \"samples\": [\n          \"[\\uc11c\\uc6b8] \\ud559\\ubd80 \\uc138\\ubd80\\uc804\\uacf5 \\ubc30\\uc815\\ud655\\uc815(\\ud504\\ub791\\uc2a4/\\ubbf8\\ub514\\uc5b4/\\uc911\\uad6d\\uc5b8\\uc5b4\\ubb38\\ud654/KFL\\ud559\\ubd80 \\ud574\\ub2f9)\",\n          \"[\\uacf5\\ud1b5] \\uc0dd\\ub9ac \\uc720\\uace0 \\uc2e0\\uccad \\uc548\\ub0b4\",\n          \"[\\uc11c\\uc6b8] 2021-1\\ud559\\uae30 \\uc774\\uc911\\uc804\\uacf5 \\ubcc0\\uacbd \\uc2e0\\uccad \\uacf5\\uace0\"\n        ],\n        \"semantic_type\": \"\",\n        \"description\": \"\"\n      }\n    },\n    {\n      \"column\": \"content\",\n      \"properties\": {\n        \"dtype\": \"string\",\n        \"num_unique_values\": 622,\n        \"samples\": [\n          \"\\n\\uae00\\ub85c\\ubc8c \\uc9c0\\uc5ed\\ud559 \\uacfc\\uc815 \\uc2e0\\uccad \\uc548\\ub0b42021-2\\ud559\\uae30 \\uae00\\ub85c\\ubc8c \\uc9c0\\uc5ed\\ud559 \\uacfc\\uc815(\\uc9c0\\uc5ed\\uc804\\ubb38\\uac00\\uacfc\\uc815, \\uc9c0\\uc5ed\\ud559\\uc0ac\\uacfc\\uc815) \\uc2e0\\uccad(\\ubcc0\\uacbd \\ubc0f \\ucde8\\uc18c \\ud3ec\\ud568) \\uc77c\\uc815\\uc744 \\uc544\\ub798\\uc640 \\uac19\\uc774 \\uc548\\ub0b4\\ud569\\ub2c8\\ub2e4. \\uc2e0\\uccad\\uae30\\uac04: 2021. 8. 6(\\uae08) ~ 9. 10(\\uae08)\\u203b \\uae00\\ub85c\\ubc8c \\uc9c0\\uc5ed\\ud559 \\uacfc\\uc815\\uc774\\ub780? \\uc138\\uacc4 \\uac01 \\uc9c0\\uc5ed\\uc5d0 \\ub300\\ud55c \\ucd1d\\uccb4\\uc801\\uc774\\uace0 \\ub2e4\\uba74\\uc801\\uc778 \\uc774\\ud574 \\ub2a5\\ub825\\uc744  \\ubc30\\uc591\\ud558\\uc5ec \\uad6d\\uac00\\uacbd\\uc601\\uc804\\ub7b5 \\ubc0f \\uae30\\uc5c5\\uc758 \\ud574\\uc678\\uc2dc\\uc7a5\\uc9c4\\ucd9c\\uacfc \\uad6d\\uc81c \\ube44\\uc988\\ub2c8\\uc2a4 \\uc218\\ud589\\uc5d0 \\ud544\\uc694\\ud55c  \\uc804\\ubb38\\uac00 \\uc591\\uc131\\uc744 \\ubaa9\\ud45c\\ub85c \\uc6b4\\uc601\\ub418\\ub294 \\uad50\\uc721\\uacfc\\uc815\\uc73c\\ub85c \\uc878\\uc5c5\\uc2dc \\ud559\\uc704\\uac00  \\u2018\\ubb38\\ud559\\uc0ac(\\uc9c0\\uc5ed\\uc804\\ubb38\\uac00\\uacfc\\uc815 \\uc774\\uc218)\\u2019, \\u2018\\uc9c0\\uc5ed\\ud559\\uc0ac\\u2019\\ub4f1\\uc73c\\ub85c \\ud45c\\uae30\\ub429\\ub2c8\\ub2e4. \\uc790\\uc138\\ud55c \\uc0ac\\ud56d\\uc740 \\uc544\\ub798 \\ub9c1\\ud06c\\ub97c \\ud074\\ub9ad\\ud558\\uc5ec \\ucc38\\uace0\\ud558\\uc2dc\\uae30 \\ubc14\\ub78d\\ub2c8\\ub2e4. 2021-2\\ud559\\uae30 \\uc218\\uac15\\ud3b8\\ub78c \\uc11c\\uc6b8\\ucea0\\ud37c\\uc2a4 \\uc81c70\\ucabd \\uc774\\ud558, \\uae00\\ub85c\\ubc8c\\ucea0\\ud37c\\uc2a4 \\uc81c68\\ucabd \\uc774\\ud5581. \\uc2e0\\uccad\\uc790\\uaca9: \\uc544\\ub798 \\ud559\\uacfc\\uc758 \\uc804\\uacf5 \\ub610\\ub294 \\uc774\\uc911\\uc804\\uacf5 \\ud559\\uc0dd(\\ud734\\ud559\\uc0dd \\ud3ec\\ud568)\\u203b \\uc9c0\\uc5ed\\ud559\\uacfc\\uc815 \\uac1c\\uc124 \\ud559\\uacfc(\\uc11c\\uc6b8\\ucea0\\ud37c\\uc2a4 \\ud559\\uacfc)? EU \\uc9c0\\uc5ed: \\ud504\\ub791\\uc2a4\\uc5b4\\ud559\\ubd80, \\ub3c5\\uc77c\\uc5b4\\uacfc, \\uc774\\ud0c8\\ub9ac\\uc544\\uc5b4\\uacfc, \\ub124\\ub35c\\ub780\\ub4dc\\uc5b4\\uacfc,\\uc2a4\\uce78\\ub514\\ub098\\ube44\\uc544\\uc5b4\\uacfc? \\ub7ec\\uc2dc\\uc544\\u00b7\\uc911\\uc559\\uc544\\uc2dc\\uc544 \\uc9c0\\uc5ed: \\ub178\\uc5b4\\uacfc, \\ud130\\ud0a4\\u00b7\\uc544\\uc81c\\ub974\\ubc14\\uc774\\uc794\\uc5b4\\uacfc, \\ubabd\\uace8\\uc5b4\\uacfc? \\uc911\\ub0a8\\ubbf8 \\uc9c0\\uc5ed: \\uc2a4\\ud398\\uc778\\uc5b4\\uacfc, \\ud3ec\\ub974\\ud22c\\uac08\\uc5b4\\uacfc? \\uc778\\ub3c4\\u00b7\\ub3d9\\ub0a8\\uc544 \\uc9c0\\uc5ed: \\ub9d0\\ub808\\uc774?\\uc778\\ub3c4\\ub124\\uc2dc\\uc544\\uc5b4\\uacfc, \\ubca0\\ud2b8\\ub0a8\\uc5b4\\uacfc, \\ud0dc\\uad6d\\uc5b4\\uacfc,\\uc778\\ub3c4\\uc5b4\\uacfc? \\uc911\\ub3d9\\u00b7\\ubd81\\uc544\\ud504\\ub9ac\\uce74 \\uc9c0\\uc5ed: \\uc544\\ub78d\\uc5b4\\uacfc, \\ud398\\ub974\\uc2dc\\uc544\\uc5b4?\\uc774\\ub780\\uc5b4\\uacfc(\\uae00\\ub85c\\ubc8c\\ucea0\\ud37c\\uc2a4 \\ud559\\uacfc)? EU \\uc9c0\\uc5ed: \\uadf8\\ub9ac\\uc2a4?\\ubd88\\uac00\\ub9ac\\uc544\\ud559\\uacfc? \\ub3d9\\uc720\\ub7fd\\uc9c0\\uc5ed: \\ub3d9\\uc720\\ub7fd\\ud559\\ub300\\ud559 \\uc18c\\uc18d \\uc804\\ud559\\uacfc? \\uc911\\ub0a8\\ubbf8 \\uc9c0\\uc5ed: \\uc2a4\\ud398\\uc778\\uc5b4\\ud1b5\\ubc88\\uc5ed\\ud559\\uacfc? \\uc911\\ub3d9\\u00b7\\ubd81\\uc544\\ud504\\ub9ac\\uce74 \\uc9c0\\uc5ed: \\uc544\\ub78d\\uc5b4\\ud1b5\\ubc88\\uc5ed\\ud559\\uacfc2. \\uc2e0\\uccad\\uae30\\uac04: 2021. 8. 6(\\uae08) ~ 9. 10(\\uae08) 3. \\ubc29\\ubc95: \\uc885\\ud569\\uc815\\ubcf4\\uc2dc\\uc2a4\\ud15c -> \\uc804\\uacf5/\\uad50\\uc9c1\\uad00\\ub9ac -> \\uc9c0\\uc5ed\\ud559\\uacfc\\uc815 \\uc2e0\\uccad\\ucde8\\uc18c \\uad00\\ub9ac       \\uc9c0\\uc5ed\\ud559\\uacfc\\uc815 \\uc2e0\\uccad \\ubc14\\ub85c\\uac00\\uae304. \\uae30\\ud0c0\\uac00. \\uc9c0\\uc5ed\\uc804\\ubb38\\uac00\\uacfc\\uc815:\\u2018\\ubb38\\ud559\\uc0ac(\\uc9c0\\uc5ed\\uc804\\ubb38\\uac00\\uacfc\\uc815 \\uc774\\uc218)\\u2019\\ub85c \\ud559\\uc704\\uac00 \\ud45c\\uae30\\ub428.\\ub098. \\uc9c0\\uc5ed\\ud559\\uc0ac\\uacfc\\uc815: \\ubb38\\ud559\\uc0ac \\ub300\\uc2e0\\u2018\\uc9c0\\uc5ed\\ud559\\uc0ac\\u2019\\ud559\\uc704\\uac00 \\uc218\\uc5ec\\ub428.\\ub2e4. \\uc878\\uc5c5\\ub17c\\ubb38, \\uc878\\uc5c5\\uc2dc\\ud5d8 \\ub4f1 \\uae30\\ud0c0 \\uc878\\uc5c5 \\uc694\\uac74\\uc740 \\ud559\\uacfc \\uad00\\ub828 \\uaddc\\uc815\\uc5d0 \\uc758\\ud568.2021. 8. 6.\\uad50\\ubb34\\ucc98\\uc7a5\\n\",\n          \"\\n[\\uacf5\\ud1b5]2022\\ud559\\ub144\\ub3c4 \\ud6c4\\uae30 (\\uc77c\\ubc18\\ub300\\ud559\\uc6d0)\\uc11d\\uc0ac\\uc608\\uc57d\\uc81c \\ubc0f \\ud559.\\uc11d\\uc0ac \\uc5f0\\uacc4\\uacfc\\uc815 \\ubaa8\\uc9d1 \\uc548\\ub0b4\\ud55c\\uad6d\\uc678\\uad6d\\uc5b4\\ub300\\ud559\\uad50 \\ub300\\ud559\\uc6d0 (https://gra.hufs.ac.kr/)\\n    \\ubc14\\ub85c\\uac00\\uae302022\\ud559\\ub144\\ub3c4(\\uc77c\\ubc18\\ub300\\ud559\\uc6d0)\\ud6c4\\uae30 \\uc11d\\uc0ac\\uc608\\uc57d\\uc81c \\ubc0f \\ud559.\\uc11d\\uc0ac \\uc5f0\\uacc4\\uacfc\\uc815\\uc0dd\\uc744 \\ubaa8\\uc9d1\\ud558\\uae30\\uc5d0 \\uad00\\uc2ec\\uc788\\ub294 \\ud559\\uc0dd\\ub4e4\\uc758 \\uc2e0\\uccad\\uc744 \\ubc14\\ub78d\\ub2c8\\ub2e4.1.\\uc9c0\\uc6d0\\uc2e0\\uccad\\uc11c \\uc811\\uc218\\uae30\\uac04: 2022. 8. 1(\\uc6d4) ~ 8. 5(\\uae08), 14:00\\uae4c\\uc9c02.\\uc811\\uc218\\ucc98\\uac00.\\uc11c\\uc6b8\\ucea0\\ud37c\\uc2a4: \\ud559\\uc0ac\\uc885\\ud569\\uc9c0\\uc6d0\\uc13c\\ud130(\\uc5ed\\uc0ac\\uad001\\uce35)\\uc5d0\\uc11c \\ud655\\uc778 \\ud6c4, \\ud574\\ub2f9 \\ub300\\ud559\\uc6d0\\uc5d0 \\ubc18\\ub4dc\\uc2dc                    \\uc9c1\\uc811\\uc81c\\ucd9c\\ub098.\\uae00\\ub85c\\ubc8c\\ucea0\\ud37c\\uc2a4: \\ud559\\uc0ac\\uc885\\ud569\\uc9c0\\uc6d0\\uc13c\\ud130(\\ud559\\uc0dd\\ud68c\\uad001\\uce35)3. \\uc11d\\uc0ac\\uc608\\uc57d\\uc81c\\uc640 \\ud559.\\uc11d\\uc0ac \\uc5f0\\uacc4\\uacfc\\uc815 \\ucc28\\uc774\\uc810\\uad6c\\ubd84\\uc11d\\uc0ac\\uc608\\uc57d\\uc81c\\n\\ud559.\\uc11d\\uc0ac\\uc5f0\\uacc4\\uacfc\\uc815\\uc9c0\\uc6d0\\uc2dc\\uae30\\ud559\\ubd80 6\\ud559\\uae30 \\uc774\\uc218 \\uc9c1\\ud6c4\\ud559\\ubd80 5\\ud559\\uae30 \\uc774\\uc218 \\uc9c1\\ud6c4\\ub2e8\\ucd95\\ud559\\uae30\\ub300\\ud559\\uc6d0 1\\uac1c \\ud559\\uae30(\\ucd1d 5.5\\ub144 \\uacfc\\uc815)\\ud559\\ubd80 1\\uac1c \\ud559\\uae30 \\ubc0f \\ub300\\ud559\\uc6d0 1\\uac1c \\ud559\\uae30(\\ucd1d 5\\ub144 \\uacfc\\uc815)\\uc9c0\\uc6d0\\uac00\\ub2a5 \\ud559\\uacfc\\ub300\\ud559\\uc6d0 \\uc804\\uccb4 \\ud559\\uacfc\\uc9c0\\uc6d0\\uc790 \\ud559\\ubd80\\uc640 \\uc5f0\\uacc4\\ub41c \\ub3d9\\uc77c\\uacc4\\uc5f4 \\ub300\\ud559\\uc6d0 \\ud559\\uacfc\\u203b\\uc790\\uc138\\ud55c \\uc0ac\\ud56d\\uc740 \\ud574\\ub2f9 \\uc77c\\ubc18\\ub300\\ud559\\uc6d0 \\ud648\\ud398\\uc774\\uc9c0 \\uacf5\\uc9c0\\uc0ac\\ud56d\\uc744 \\ucc38\\uace0\\ud558\\uc5ec \\uc8fc\\uc2dc\\uae30 \\ubc14\\ub78d\\ub2c8\\ub2e4.(\\uc77c\\ubc18\\ub300\\ud559\\uc6d0 \\ubb38\\uc758\\uc804\\ud654: 02-2173-2386)2022. 7.\\ud55c\\uad6d\\uc678\\uad6d\\uc5b4\\ub300\\ud559\\uad50 \\uc77c\\ubc18\\ub300\\ud559\\uc6d0\\n\",\n          \"\\n\\n\\n\\n\\n\\n\\n\\n\\n2021\\ud559\\ub144\\ub3c4 \\uc81c1\\ud559\\uae30 1\\ucc28 \\ud3d0\\uac15 \\uacf5\\uace0(\\uae00\\ub85c\\ubc8c\\ucea0\\ud37c\\uc2a4)\\n\\n\\n2021\\ud559\\ub144\\ub3c4 \\uc81c1\\ud559\\uae30 \\uc218\\uac15\\uc2e0\\uccad \\uae30\\uac04(2021\\ub144 2\\uc6d4 1\\uc77c[\\uc6d4]~5\\uc77c[\\uae08]) \\ub3d9\\uc548 \\n\\uc218\\uac15\\uc2e0\\uccad\\uc778\\uc6d0\\uc774 0\\uba85\\uc778 \\uac15\\uc88c\\uc5d0 \\ub300\\ud574\\uc11c \\uc544\\ub798\\uc640 \\uac19\\uc774 \\ud3d0\\uac15\\uc744 \\uacf5\\uace0\\ud569\\ub2c8\\ub2e4.\\n \\n- \\uc544 \\ub798 -\\n\\n\\u25a0 2021\\ud559\\ub144\\ub3c4 \\uc81c1\\ud559\\uae30 1\\ucc28 \\ud3d0\\uac15 \\uac15\\uc88c \\ud604\\ud669\\n\\n\\n\\n\\n\\n\\uac1c\\uc124\\ud559\\uacfc\\n\\n\\uc774\\uc218\\n\\uc601\\uc5ed\\n\\n\\ud559\\n\\ub144\\n\\n\\ud559\\uc218\\ubc88\\ud638\\n\\n\\uad50\\uacfc\\ubaa9\\uba85\\n\\n\\ud559\\uc810\\n\\n\\uc2dc\\uac04\\n\\n\\uad50\\uac15\\uc0ac\\uba85\\n\\n\\uac15\\uc758\\uc2dc\\uac04\\n\\n\\n\\uc601\\uc5b4\\ud1b5\\ubc88\\uc5ed\\ud559\\ubd80\\n\\n\\uc774\\uc911(\\ubd80)\\n\\n2\\n\\nN15105104\\n\\n\\ubbf8\\ub514\\uc5b4\\uc601\\uc5b4\\uccad\\ucde81\\n\\n3\\n\\n3\\n\\n\\uc724\\uc601\\uc625\\n\\n\\uc218 456\\n\\n\\n\\uc601\\uc5b4\\ud1b5\\ubc88\\uc5ed\\ud559\\uc804\\uacf5\\n\\n\\uc774\\uc911(\\uc8fc)\\n\\n3\\n\\nN01368103\\n\\n\\uba40\\ud2f0\\ubbf8\\ub514\\uc5b4\\ubc88\\uc5ed\\n\\n2\\n\\n2\\n\\n\\uae40\\ub355\\uc218\\n\\n\\uae08 56\\n\\n\\n\\uadf8\\ub9ac\\uc2a4?\\ubd88\\uac00\\ub9ac\\uc544\\ud559\\uacfc\\n\\n\\uc804\\uacf5\\n\\n4\\n\\nN08439201\\n\\n\\ubd88\\uac00\\ub9ac\\uc544\\uc640\\uc720\\ub7fd\\uc5f0\\ud569\\n\\n2\\n\\n2\\n\\nSpas Angelov Rangelov\\n\\n\\uc218 34\\n\\n\\n\\uc218\\ud559\\uacfc\\n\\n\\uc804\\uacf5\\n\\n4\\n\\nF01405101\\n\\n\\uc0b0\\uc5c5\\uc218\\ud559\\n\\n3\\n\\n3\\n\\n\\ucd5c\\uc77c\\uaddc\\n\\n\\uc6d423 \\uc2187\\n\\n2021. 2. 9.\\n\\n\\uae00\\ub85c\\ubc8c\\ucea0\\ud37c\\uc2a4 \\uad50\\ubb34\\ucc98\\uc7a5\\n\\n\\n\"\n        ],\n        \"semantic_type\": \"\",\n        \"description\": \"\"\n      }\n    }\n  ]\n}"
            }
          },
          "metadata": {},
          "execution_count": 3
        }
      ]
    },
    {
      "cell_type": "code",
      "source": [
        "def preprocess_haksa(text):\n",
        "    # 링크 제거 (http:// 또는 https:// 로 시작하는 링크)\n",
        "    text = re.sub(r'https?://\\S+', '', text)\n",
        "    # Zoom 회의 참가 ID 제거 _ 작동안함\n",
        "    #text = re.sub(r'Zoom 회의 참가 ID \\d{3} \\d{3} \\d{4}', '', text)\n",
        "    # 전화번호 제거 (괄호 선택적으로)\n",
        "    text = re.sub(r'\\(?0\\d{2,3}\\)?[- ]?\\d{3,4}[- ]?\\d{4}', '', text)\n",
        "    # 전번 제거\n",
        "    text = re.sub(r'\\d{2}-\\d{4}-\\d{4}', '', text)\n",
        "    # 팩스번호 제거\n",
        "    text = re.sub(r'FAX\\.\\d{2}-\\d{3}-\\d{4}', '', text)\n",
        "    # 주소 제거\n",
        "    text = re.sub(r'서울시 동대문구 이문로 107', '', text)\n",
        "    # 이메일 제거\n",
        "    text = re.sub(r'\\b[A-Za-z0-9._%+-]+@[A-Za-z0-9.-]+\\.[A-Z|a-z]{2,}\\b', '', text)\n",
        "    # www 링크 제거\n",
        "    text = re.sub(r'\\bwww\\.\\S*', '', text)\n",
        "    # hufs.ac.kr 링크 제거\n",
        "    text = re.sub(r'hufs\\.ac\\.kr', '', text)\n",
        "    #마지막 날짜 양식 변형\n",
        "    #text = re.sub(r'\\d{4}\\.\\s\\d{2}\\.\\s\\d{2}\\.', '', text)\n",
        "    #마지막 날짜\n",
        "    #text = re.sub(r'\\d{4}\\.\\s\\d{2}\\.', '', text) #과제 제출등에 유의\n",
        "    # 문장부호 제거\n",
        "    text = re.sub(r'[,.:!?\\\\|※‘’”“→-○☏『』)(]', '', text)\n",
        "    text= re.sub(r'\\n','',text)\n",
        "    return text"
      ],
      "metadata": {
        "id": "9ynioJaFOMwu"
      },
      "execution_count": null,
      "outputs": []
    },
    {
      "cell_type": "code",
      "source": [
        "# 'content' 열에 전처리 함수를 적용하여 새로운 열 생성\n",
        "haksa_copy['cleaned_content'] = haksa_copy['content'].apply(preprocess_haksa)\n",
        "haksa_copy.loc[6,'cleaned_content']"
      ],
      "metadata": {
        "colab": {
          "base_uri": "https://localhost:8080/",
          "height": 276
        },
        "id": "WCdoxWVdOMgw",
        "outputId": "d2efb4e2-10b0-443d-95ed-ef8e73efae83"
      },
      "execution_count": null,
      "outputs": [
        {
          "output_type": "execute_result",
          "data": {
            "text/plain": [
              "'공    고 2020학년도 제1학기 휴·복학 신청 일정 및 방법 등을 공고합니다1 일정  2020 2 3월 ~ 2 7금2 방법  [종합정보시스템] 로그인  [휴/복학 신청]3 유의사항 가 일반 휴학 - 휴학은 1년 단위로 신청 단 1개 학기 이후 복학 가능 - 휴학기간 만료 후 다시 휴학신청 가능하며 재학 중 3년을 초과할 수 없음 단 2012년 2학기 이후 3학년으로 편입학한 학생은 2년을 초과할 수 없음  휴학기간 만료 후 복학하지 않을 경우 휴학기간초과제적됨 - 신·편입생 재입학생의 첫 학기 휴학 불가 단 질병으로 인해 4주 이상 치료를 요하는 경우에 한해서 일반휴학을 허가할 수 있음 별도문의 - 수업일수 1/4선 이후 아래의 경우에 한해서만 휴학을 허가하고 등록금 차액은 환불함  질병 또는 입원으로 인하여 4주 이상의 치료를 요하는 경우  3/4선까지만 허용 종합병원에서 발급받은 4주 이상 입원진단서 또는 4주 이상 수업참여가 어렵다는 의사소견진단서 제출  학업을 계속할 수 없는 명백한 사유가 있는 경우  중간고사 전 주 금요일까지만 허용 공식적인 서류로 사유를 증명할 수 있어야 함  증빙서류 미비 또는 요건 미충족 시 허가하지 않음 - 일반 휴학 중 입대할 경우 군입대 휴학으로 재신청하여야 함미처리 시 일반 휴학기간 종료 후 제적처리 됨 - 등록 휴학  휴학신청기간에 휴학 신청 후 등록기간에 등록금 납부 시 자동 처리됨 나 군입대 휴학 - 입대일 이전 학교 종합정보시스템에서 신청 후 입영통지서 사본 제출 이메일  군입대 휴학자 중 장기복무자는 입영통지서 제출 시 또는 장기확정 시 필히 구두로 신고하여야 함 - 휴학기간  입영일부터 전역일까지 귀향조치 시 관련 증빙서류 제출 후 조치 요망 - 전역일 이후 계속 휴학을 원하는 경우 복학예정일이 남아있더라도 일반 휴학으로 전환하여야 함 전역일이 기재되어있는 증빙서류 제출 - 1/4선 후~3/4선 이전 입대 예정자는 일반 휴학 신청 후 군입대 휴학으로 재신청 하여야 함 - 3/4선 후 입대 예정자가 금학기 재학할 경우 해당 학기 성적 인정 절차를 진행하고 입대하여야 함 인정 절차 미이행 시 당해학기 성적 000 및 학사경고 처리 - 3/4선 후 입대 예정자가 금학기 일반 휴학일 경우 일반 휴학은 사용한 것으로 처리됨 다 모성보호 휴학 - 임신출산육아 관련 휴학 희망자는 학사종합지원센터 별도 문의 바람 라 창업휴학 - 창업휴학 희망자는 창업교육센터로 별도 문의 바람 - 창업교육센터  서울  / 글로벌 ~2 마 복학 - 휴학 후 복학할 경우 반드시 복학신청을 하여야 함 1개 학기 휴학자도 복학신청 가능  일반휴학을 1년 사용하여 복학예정일이 2020학년도 1학기라고 하더라도 복학신청을      반드시 하여야 함자동 복학처리되지 않음 - 복학생은 소정의 기간 내에 등록금 납부등록휴학자 제외 및 수강신청을 하여야 함 - 군입대 휴학자는 신청기간에 인터넷으로 복학신청 후 전역 증빙서류전역자  전역증 사본 또는 병적증명서 또는 복무확인서 전역예정자  전역예정증명서 또는 전역예정일이 나와있는 복무확인서 이메일 제출스캔 또는 폰사진-입영일과 전역일이 잘 보이도록 촬영 바람수업일수 1/4선 이전 전역자 복학 가능 이후 전역자 별도 문의바람  학생예비군은 별도로 신청해야 함학교 종합정보시스템로그인복학 및 예비군대신청 작성  신청- 휴학 후 복학할때마다 다시 신청해야 함- 예비군연대  서울 / 글로벌 4119   바 기타사항 - 휴·복학 승인 후 취소 또는 변경 시에는 1/4선 이전 방문 신청만 가능하므로 신중하게 신청 할 것 - 금 학기 휴학 신청 시 기존 수강신청 데이터는 삭제됨 이후 수강신청 하지 말 것 - 서류제출  서울캠퍼스 글로벌캠퍼스   이메일 송부 시 첨부 서류입영통지서 및 전역일자 기재 된 증빙서류 빈공간에 반드시 학과 학번 연락처를 명기하기 바람  이메일 제목작성 방법  이름_학과_학번 - 등록금 납부 일정 및 등록관련 사항은 재무회계팀에 문의하기 바람2020 1교무처장'"
            ],
            "application/vnd.google.colaboratory.intrinsic+json": {
              "type": "string"
            }
          },
          "metadata": {},
          "execution_count": 13
        }
      ]
    },
    {
      "cell_type": "code",
      "source": [],
      "metadata": {
        "id": "3mf8ha4McikZ"
      },
      "execution_count": null,
      "outputs": []
    },
    {
      "cell_type": "code",
      "source": [
        "#어떻게조개지는지확인\n",
        "okt = Okt()\n",
        "words = haksa_copy.loc[17,'cleaned_content']\n",
        "words = okt.morphs(words,stem=True)\n",
        "print(words, end = \"\")"
      ],
      "metadata": {
        "colab": {
          "base_uri": "https://localhost:8080/"
        },
        "id": "oLLA32RRZt9l",
        "outputId": "156450e3-d387-4a78-d18d-58cb8132bfeb"
      },
      "execution_count": null,
      "outputs": [
        {
          "output_type": "stream",
          "name": "stdout",
          "text": [
            "['졸업', '대상자', '안내문', '1', '졸업식', '행사', '및', '학위증', '배부', '-', '졸업식', '행사', '는', '신종', '코로나바이러스', '로', '인하다', '취소', '확정', '되어다', '-', '학위증', '은', '졸업', '일자', '2020221', '당일', '오전', '10시', '부터', '학과', '사무실', '에서', '배부', '하다', '-', '졸업', '증명서', '는', '2020221', '오전', '부터', '발급', '가능하다', '문', '의전', '화', '0221732517', '인터넷', '종합정보시스템', '증명', '발급', '또는', '원스톱', '서비스', '센터', '발급', '-', '총학생회', '주관', '가운', '대여', '및', '기념', '사진', '촬영', '은', '총학생회', '에서', '별도', '공지', '예정', '이다', '문의', '전화', '02217327702', '졸업', '사정', '결과', '조회', '종합정보시스템', '로그인', '후', '첫', '화면', '의', '졸업', '사정', '정보', '-', '졸업', '확정', '되다', '학생', '[', '2020/02', '/', '21', ']', '졸업', '사정', '대상자', '/', '졸업', '확정자', '로', '나타남', '-', '졸업', '심사', '탈락', '학생', '[', '2020/02', '/', '21', ']', '졸업', '사정', '대상자', '/', '졸업', '사정', '탈락자', '로', '표기', '되다', '3', '참고', '사항', '-', '졸업', '사정', '탈락', '인', '학생', '의', '미비', '되다', '졸업요건', '은', '종합정보시스템', '->', '성적', '/', '학점', '/', '졸업', '관리', '->', '졸업', '예비', '사정', '결과', '조회', '에서', '확인', '-', '졸업', '예비', '사정', '결과', '조회', '내역', '졸업요건', '미비', '학생', '확', '인용', '최종', '판정', '수료', '->', '학점', '관련', '이', '수', '완료', '기타', '요건', '미비', '로', '졸업', '이', '미루다', '학생', '추가', '수강신청', '불가', '등록금', '납부', '없다', '재학', '연한', '내', '에', '졸업요건', '완료', '하다', '함', '최종', '판정', '추가', '학기', '수강신청', '대상', '학점', '관련', '사항', '미비', '로', '반드시', '추가', '적', '인', '학기', '수강', '및', '등록', '이', '필요하다', '학생', '2020-1', '학기', '휴학', '하다', '경우', '추후', '복학', '하다', '하다', '학기', '를', '이수', '하다', '함', '최종', '판정', '재학', '연', '한', '초과', '제', '적대', '상', '재학', '연한', '이', '완료', '되어다', '졸업요건', '이', '미비', '되어다', '제적', '예정', '인', '학생', '2월', '21일', '자로', '제적', '처리', '되다', '졸업', '예정', '증명서', '는', '이번', '2월', '졸업확정', '여부', '와', '관계없이', '졸업', '사정', '대상', '이다', '모든', '학생', '에게', '발급', '되다', '서류', '이다', '졸업', '예정', '증명서', '가', '발급', '되다', '졸업', '이', '확정', '되다', '것', '이라고', '판단', '하다', '안되다', '2020년', '8월', '졸업', '예정', '증명서', '는', '1', '학기', '개강', '시점', '부터', '발급', '가능하다', '2020년', '2월', '7일', '한국외국어대학교', '교무처장']"
          ]
        }
      ]
    },
    {
      "cell_type": "code",
      "source": [
        "#빈도확인용\n",
        "okt = Okt()\n",
        "words = \" \".join( haksa_copy['cleaned_content'].tolist())\n",
        "words = okt.morphs(words,stem=True)\n",
        "\n",
        "frequent = Counter(words).most_common()\n",
        "frequent"
      ],
      "metadata": {
        "colab": {
          "base_uri": "https://localhost:8080/"
        },
        "id": "u9pYBWYbZpGK",
        "outputId": "c9648058-9389-41c3-fa71-595d1a28b17b"
      },
      "execution_count": null,
      "outputs": [
        {
          "output_type": "execute_result",
          "data": {
            "text/plain": [
              "[('하다', 5271),\n",
              " ('전공', 3868),\n",
              " ('1', 3667),\n",
              " ('신청', 3648),\n",
              " ('2', 3400),\n",
              " ('에', 3313),\n",
              " ('-', 3214),\n",
              " ('을', 3171),\n",
              " ('학과', 2935),\n",
              " ('은', 2683),\n",
              " ('이', 2564),\n",
              " ('학기', 2513),\n",
              " ('수', 2473),\n",
              " ('의', 2453),\n",
              " ('/', 2303),\n",
              " ('및', 2269),\n",
              " ('대학', 2085),\n",
              " ('되다', 2056),\n",
              " ('3', 1943),\n",
              " ('학생', 1893),\n",
              " ('학점', 1789),\n",
              " ('수강신청', 1642),\n",
              " ('4', 1530),\n",
              " ('~', 1519),\n",
              " ('이중전공', 1515),\n",
              " ('경우', 1478),\n",
              " ('함', 1457),\n",
              " ('학년', 1453),\n",
              " ('으로', 1453),\n",
              " ('수강', 1425),\n",
              " ('변경', 1404),\n",
              " ('한', 1396),\n",
              " ('를', 1346),\n",
              " ('기간', 1322),\n",
              " ('졸업', 1294),\n",
              " ('에서', 1259),\n",
              " ('자', 1224),\n",
              " ('이수', 1196),\n",
              " ('6', 1150),\n",
              " ('후', 1149),\n",
              " ('과', 1132),\n",
              " ('가능', 1112),\n",
              " ('제출', 1098),\n",
              " ('불가', 1083),\n",
              " ('는', 1076),\n",
              " ('확인', 1064),\n",
              " ('도', 1030),\n",
              " ('금', 1013),\n",
              " ('시', 1002),\n",
              " ('통번역', 996),\n",
              " ('과목', 992),\n",
              " ('가', 988),\n",
              " ('중', 983),\n",
              " ('납부', 983),\n",
              " ('부', 978),\n",
              " ('5', 965),\n",
              " ('수업', 963),\n",
              " ('7', 904),\n",
              " ('로', 900),\n",
              " ('없다', 891),\n",
              " ('성적', 874),\n",
              " ('해당', 846),\n",
              " ('교과목', 825),\n",
              " ('배정', 818),\n",
              " ('제', 807),\n",
              " ('학부', 807),\n",
              " ('있다', 801),\n",
              " ('학교', 783),\n",
              " ('나', 775),\n",
              " ('까지', 767),\n",
              " ('글로벌캠퍼스', 765),\n",
              " ('취소', 745),\n",
              " ('8', 744),\n",
              " ('와', 725),\n",
              " ('일정', 705),\n",
              " ('글로벌', 704),\n",
              " ('목', 703),\n",
              " ('종합정보시스템', 699),\n",
              " ('사항', 693),\n",
              " ('화', 688),\n",
              " ('또는', 676),\n",
              " ('서울캠퍼스', 676),\n",
              " ('학번', 676),\n",
              " ('안내', 673),\n",
              " ('서울', 644),\n",
              " ('등록', 638),\n",
              " ('교양', 634),\n",
              " ('내', 631),\n",
              " ('휴학', 629),\n",
              " ('등', 628),\n",
              " ('2021', 628),\n",
              " ('1000', 619),\n",
              " ('간', 618),\n",
              " ('아래', 617),\n",
              " ('이상', 615),\n",
              " ('학사종합지원센터', 612),\n",
              " ('않다', 606),\n",
              " ('인정', 594),\n",
              " ('공고', 583),\n",
              " ('등록금', 582),\n",
              " ('영어', 576),\n",
              " ('전', 573),\n",
              " ('홈페이지', 567),\n",
              " ('2020', 558),\n",
              " ('이후', 558),\n",
              " ('·', 555),\n",
              " ('2022', 549),\n",
              " ('[', 533),\n",
              " ('공', 523),\n",
              " ('시험', 523),\n",
              " ('재수강', 519),\n",
              " ('계절학기', 517),\n",
              " ('반드시', 516),\n",
              " ('방법', 516),\n",
              " ('9', 511),\n",
              " ('세부', 510),\n",
              " (']', 502),\n",
              " ('명', 502),\n",
              " ('2023', 502),\n",
              " ('기준', 501),\n",
              " ('캠퍼스', 500),\n",
              " ('문의', 499),\n",
              " ('예정', 494),\n",
              " ('생', 488),\n",
              " ('A', 488),\n",
              " ('the', 488),\n",
              " ('희망', 478),\n",
              " ('받다', 476),\n",
              " ('인', 473),\n",
              " ('외국어', 470),\n",
              " ('가능하다', 468),\n",
              " ('다', 463),\n",
              " ('관련', 455),\n",
              " ('융합', 454),\n",
              " ('22', 452),\n",
              " ('교무처장', 449),\n",
              " ('교류', 449),\n",
              " ('같이', 444),\n",
              " ('시간', 439),\n",
              " ('서', 438),\n",
              " ('본인', 437),\n",
              " ('가다', 429),\n",
              " ('강의', 423),\n",
              " ('교육', 423),\n",
              " ('별', 413),\n",
              " ('12', 410),\n",
              " ('교직', 409),\n",
              " ('포함', 408),\n",
              " ('선택', 407),\n",
              " ('취득', 397),\n",
              " ('따르다', 391),\n",
              " ('재', 391),\n",
              " ('모듈', 391),\n",
              " ('바라다', 390),\n",
              " ('개설', 388),\n",
              " ('복학', 378),\n",
              " ('유의사항', 378),\n",
              " ('학점교류', 378),\n",
              " ('공지', 374),\n",
              " ('10', 368),\n",
              " ('구분', 367),\n",
              " ('추가', 365),\n",
              " ('원', 363),\n",
              " ('차', 363),\n",
              " ('소속', 361),\n",
              " ('참조', 358),\n",
              " ('입학', 354),\n",
              " ('대학교', 352),\n",
              " ('미네르바', 348),\n",
              " ('폐강', 347),\n",
              " ('결과', 338),\n",
              " ('일', 336),\n",
              " ('조회', 332),\n",
              " ('신청서', 332),\n",
              " ('환불', 332),\n",
              " ('과정', 331),\n",
              " ('우리대학', 329),\n",
              " ('각', 328),\n",
              " ('아', 327),\n",
              " ('제한', 326),\n",
              " ('선발', 326),\n",
              " ('만', 325),\n",
              " ('월', 321),\n",
              " ('대상', 319),\n",
              " ('11', 317),\n",
              " ('지', 317),\n",
              " ('of', 315),\n",
              " ('강좌', 314),\n",
              " ('서류', 314),\n",
              " ('바람', 311),\n",
              " ('예정자', 310),\n",
              " ('부터', 309),\n",
              " ('운영', 308),\n",
              " ('단', 305),\n",
              " ('별도', 300),\n",
              " ('to', 299),\n",
              " ('온라인', 298),\n",
              " ('중부', 294),\n",
              " ('접수', 293),\n",
              " ('논문', 292),\n",
              " ('처리', 291),\n",
              " ('33', 289),\n",
              " ('개', 288),\n",
              " ('진행', 287),\n",
              " ('고지서', 285),\n",
              " ('완료', 283),\n",
              " ('래', 281),\n",
              " ('사정', 280),\n",
              " ('O', 280),\n",
              " ('적', 277),\n",
              " ('타', 276),\n",
              " ('검사', 275),\n",
              " ('AI', 275),\n",
              " ('*', 274),\n",
              " ('평점', 272),\n",
              " ('우리은행', 272),\n",
              " ('편입', 270),\n",
              " ('라', 270),\n",
              " ('에는', 266),\n",
              " ('로그인', 264),\n",
              " ('재학생', 263),\n",
              " ('&', 263),\n",
              " ('->', 259),\n",
              " ('발급', 253),\n",
              " ('관리', 252),\n",
              " ('평균', 252),\n",
              " ('평가', 251),\n",
              " ('초과', 247),\n",
              " ('시행', 247),\n",
              " ('하고', 245),\n",
              " ('재학', 243),\n",
              " ('수강료', 243),\n",
              " ('>', 242),\n",
              " ('필수', 242),\n",
              " ('중국어', 240),\n",
              " ('15001일', 240),\n",
              " ('바로가기', 239),\n",
              " ('B', 239),\n",
              " ('되어다', 234),\n",
              " ('수강편람', 234),\n",
              " ('대면', 233),\n",
              " ('기존', 232),\n",
              " ('사범대학', 231),\n",
              " ('군', 231),\n",
              " ('참고', 229),\n",
              " ('기타', 228),\n",
              " ('하', 227),\n",
              " ('작성', 226),\n",
              " ('정보', 226),\n",
              " ('주', 226),\n",
              " ('이메일', 226),\n",
              " ('자격', 226),\n",
              " ('내역', 225),\n",
              " ('응시', 223),\n",
              " ('인원', 219),\n",
              " ('심화', 218),\n",
              " ('다음', 218),\n",
              " ('졸업시험', 218),\n",
              " ('단과대학', 216),\n",
              " ('선', 216),\n",
              " ('간서울', 216),\n",
              " ('담당', 214),\n",
              " ('지역', 212),\n",
              " ('제적', 212),\n",
              " ('기', 211),\n",
              " ('위', 211),\n",
              " ('증명서', 208),\n",
              " ('가상계좌', 208),\n",
              " ('전형', 207),\n",
              " ('반영', 205),\n",
              " ('English', 205),\n",
              " ('은행', 204),\n",
              " ('최대', 203),\n",
              " ('실시', 202),\n",
              " ('교수', 202),\n",
              " ('지망', 202),\n",
              " ('것', 201),\n",
              " ('확정', 197),\n",
              " ('학사', 197),\n",
              " ('계획', 197),\n",
              " ('인문', 193),\n",
              " ('국내', 193),\n",
              " ('여', 192),\n",
              " ('석', 192),\n",
              " ('첨부파일', 192),\n",
              " ('and', 191),\n",
              " ('액', 191),\n",
              " ('교육비', 191),\n",
              " ('<', 190),\n",
              " ('총', 190),\n",
              " ('방식', 190),\n",
              " ('분', 189),\n",
              " ('여부', 188),\n",
              " ('국제', 188),\n",
              " ('승인', 187),\n",
              " ('장', 186),\n",
              " ('19', 186),\n",
              " ('모든', 185),\n",
              " ('이전', 185),\n",
              " ('사무실', 185),\n",
              " ('제외', 185),\n",
              " ('시간표', 184),\n",
              " ('대학원', 184),\n",
              " ('반', 183),\n",
              " ('N', 182),\n",
              " ('Click', 180),\n",
              " ('모두', 179),\n",
              " ('불가하다', 177),\n",
              " ('아니다', 176),\n",
              " ('출력', 175),\n",
              " ('내용', 174),\n",
              " ('삭제', 173),\n",
              " ('클릭', 173),\n",
              " ('밉다', 173),\n",
              " ('오후', 173),\n",
              " ('문', 172),\n",
              " ('문화', 172),\n",
              " ('학', 171),\n",
              " ('호', 171),\n",
              " ('Y', 171),\n",
              " ('방문', 170),\n",
              " ('17', 170),\n",
              " ('정규', 170),\n",
              " ('15', 169),\n",
              " ('1회', 169),\n",
              " ('면', 169),\n",
              " ('신입생', 168),\n",
              " ('입력', 168),\n",
              " ('31', 167),\n",
              " ('발생', 167),\n",
              " ('이번', 166),\n",
              " ('프랑스어학부', 166),\n",
              " ('일반', 165),\n",
              " ('2024', 165),\n",
              " ('수료', 164),\n",
              " ('지원', 164),\n",
              " ('대상자', 164),\n",
              " ('대체', 161),\n",
              " ('한예종', 161),\n",
              " ('안', 161),\n",
              " ('추후', 157),\n",
              " ('들', 157),\n",
              " ('트랙', 156),\n",
              " ('시스템', 155),\n",
              " ('자세하다', 155),\n",
              " ('비고', 155),\n",
              " ('중복', 155),\n",
              " ('회화', 155),\n",
              " ('우리', 151),\n",
              " ('진급', 151),\n",
              " ('1700', 151),\n",
              " ('인하다', 150),\n",
              " ('비대', 150),\n",
              " ('출석', 150),\n",
              " ('규정', 149),\n",
              " ('성', 148),\n",
              " ('외', 148),\n",
              " ('1월', 147),\n",
              " ('사', 147),\n",
              " ('스페인어', 145),\n",
              " ('허가', 143),\n",
              " ('첨부', 143),\n",
              " ('참여', 143),\n",
              " ('10시', 143),\n",
              " ('번호', 141),\n",
              " ('관', 141),\n",
              " ('2월', 140),\n",
              " ('외국인', 140),\n",
              " ('진단', 140),\n",
              " ('조사', 140),\n",
              " ('공고함', 139),\n",
              " ('경영', 139),\n",
              " ('입금', 139),\n",
              " ('상', 139),\n",
              " ('7월', 139),\n",
              " ('마', 138),\n",
              " ('입학생', 137),\n",
              " ('대기', 136),\n",
              " ('전체', 136),\n",
              " ('아랍어', 136),\n",
              " ('수강생', 135),\n",
              " ('언어', 135),\n",
              " ('인증', 135),\n",
              " ('for', 135),\n",
              " ('파일', 134),\n",
              " ('수강취소', 134),\n",
              " ('대', 133),\n",
              " ('14001일', 133),\n",
              " ('독일어', 132),\n",
              " ('주차', 132),\n",
              " ('20', 131),\n",
              " ('이용', 131),\n",
              " ('～', 131),\n",
              " ('예', 130),\n",
              " ('미만', 130),\n",
              " ('현황', 130),\n",
              " ('OO', 130),\n",
              " ('말', 129),\n",
              " ('14', 129),\n",
              " ('분할', 129),\n",
              " ('격', 129),\n",
              " ('장학금', 129),\n",
              " ('30', 127),\n",
              " ('콘텐츠', 127),\n",
              " ('강의실', 127),\n",
              " ('34', 127),\n",
              " ('회관', 126),\n",
              " ('후기', 126),\n",
              " ('복무', 125),\n",
              " ('8월', 125),\n",
              " ('222', 125),\n",
              " ('사유', 124),\n",
              " ('층', 124),\n",
              " ('교', 124),\n",
              " ('로서', 124),\n",
              " ('계좌', 124),\n",
              " ('송금', 124),\n",
              " ('붙이다', 123),\n",
              " ('유의', 123),\n",
              " ('Communicative', 123),\n",
              " ('2022년', 123),\n",
              " ('이체', 123),\n",
              " ('R', 122),\n",
              " ('교직과정', 122),\n",
              " ('in', 121),\n",
              " ('your', 121),\n",
              " ('1000-14001일', 121),\n",
              " ('전과', 120),\n",
              " ('오전', 119),\n",
              " ('한국외대', 119),\n",
              " ('수정', 118),\n",
              " ('122', 118),\n",
              " ('보다', 117),\n",
              " ('실시간', 116),\n",
              " ('절차', 116),\n",
              " ('인재', 116),\n",
              " ('고', 115),\n",
              " ('1600', 115),\n",
              " ('필요', 115),\n",
              " ('대한', 115),\n",
              " ('on', 115),\n",
              " ('예비수강신청', 114),\n",
              " ('장소', 114),\n",
              " ('프랑스어', 114),\n",
              " ('수납', 114),\n",
              " ('에만', 112),\n",
              " ('비', 112),\n",
              " ('접속', 111),\n",
              " ('허용', 111),\n",
              " ('연결', 111),\n",
              " ('모집', 111),\n",
              " ('핫링크', 111),\n",
              " ('납', 111),\n",
              " ('부전', 110),\n",
              " ('종료', 110),\n",
              " ('금액', 110),\n",
              " ('교원', 109),\n",
              " ('초', 109),\n",
              " ('☎', 109),\n",
              " ('사용', 108),\n",
              " ('순', 108),\n",
              " ('동일', 107),\n",
              " ('임', 107),\n",
              " ('급', 106),\n",
              " ('시점', 106),\n",
              " ('학위', 106),\n",
              " ('회비', 106),\n",
              " ('18', 105),\n",
              " ('원칙', 105),\n",
              " ('원서', 105),\n",
              " ('109', 104),\n",
              " ('코로나', 104),\n",
              " ('말레이', 104),\n",
              " ('인도네시아어', 104),\n",
              " ('수학', 104),\n",
              " ('화면', 103),\n",
              " ('마감일', 103),\n",
              " ('2021년', 103),\n",
              " ('스페인어과', 102),\n",
              " ('개인', 102),\n",
              " ('U', 102),\n",
              " ('에게', 101),\n",
              " ('사이버', 101),\n",
              " ('필요하다', 100),\n",
              " ('서식', 100),\n",
              " ('결석', 100),\n",
              " ('겨울', 100),\n",
              " ('tuition', 100),\n",
              " ('신', 99),\n",
              " ('위해', 99),\n",
              " ('경상', 99),\n",
              " ('a', 99),\n",
              " ('결원', 99),\n",
              " ('센터', 98),\n",
              " ('국가', 98),\n",
              " ('개별', 98),\n",
              " ('여름', 98),\n",
              " ('or', 98),\n",
              " ('이수자', 97),\n",
              " ('대해', 97),\n",
              " ('2023년', 97),\n",
              " ('증원', 96),\n",
              " ('미비', 96),\n",
              " ('13301일', 96),\n",
              " ('자격증', 95),\n",
              " ('전략', 95),\n",
              " ('산업', 95),\n",
              " ('you', 95),\n",
              " ('e', 94),\n",
              " ('시기', 94),\n",
              " ('자료', 94),\n",
              " ('현재', 94),\n",
              " ('현', 94),\n",
              " ('당', 94),\n",
              " ('읽다', 93),\n",
              " ('학습', 93),\n",
              " ('장학', 93),\n",
              " ('한국외국어대학교', 92),\n",
              " ('동일하다', 92),\n",
              " ('서다', 92),\n",
              " ('본교', 92),\n",
              " ('최종', 91),\n",
              " ('통해', 91),\n",
              " ('표시', 91),\n",
              " ('입증', 91),\n",
              " ('음', 90),\n",
              " ('포르투갈어과', 90),\n",
              " ('\"', 90),\n",
              " ('is', 90),\n",
              " ('포털', 90),\n",
              " ('다시', 89),\n",
              " ('해외', 89),\n",
              " ('21', 89),\n",
              " ('나라', 89),\n",
              " ('사랑', 89),\n",
              " ('근로', 89),\n",
              " ('+', 88),\n",
              " ('매일', 88),\n",
              " ('횟수', 88),\n",
              " ('수요', 88),\n",
              " ('영역', 87),\n",
              " ('표기', 87),\n",
              " ('입대', 87),\n",
              " ('휴학생', 87),\n",
              " ('한국어', 87),\n",
              " ('정', 87),\n",
              " ('조치', 86),\n",
              " ('교학', 86),\n",
              " ('교양과목', 86),\n",
              " ('경제학', 86),\n",
              " ('일괄', 85),\n",
              " ('연', 85),\n",
              " ('이다', 85),\n",
              " ('전자', 85),\n",
              " ('우선', 85),\n",
              " ('will', 85),\n",
              " ('변동', 84),\n",
              " ('님', 84),\n",
              " ('프랑스', 84),\n",
              " ('자동', 83),\n",
              " ('바', 83),\n",
              " ('영', 83),\n",
              " ('이하', 83),\n",
              " ('일부', 83),\n",
              " ('대학생', 83),\n",
              " ('보강', 83),\n",
              " ('You', 83),\n",
              " ('전액', 83),\n",
              " ('학적', 82),\n",
              " ('3/4', 82),\n",
              " ('전역', 82),\n",
              " ('조기졸업', 82),\n",
              " ('연습', 82),\n",
              " ('양', 81),\n",
              " ('LD', 81),\n",
              " ('등록기간', 81),\n",
              " ('이내', 81),\n",
              " ('KFL', 81),\n",
              " ('매', 80),\n",
              " ('F', 80),\n",
              " ('점검', 80),\n",
              " ('공과대학', 80),\n",
              " ('LT', 80),\n",
              " ('러시아', 80),\n",
              " ('교내', 80),\n",
              " ('의거', 80),\n",
              " ('ELLT', 79),\n",
              " ('독일어과', 79),\n",
              " ('노어과', 79),\n",
              " ('요건', 79),\n",
              " ('처', 79),\n",
              " ('16', 79),\n",
              " ('지점', 79),\n",
              " ('연락처', 78),\n",
              " ('중국학', 78),\n",
              " ('계', 78),\n",
              " ('0', 77),\n",
              " ('아랍어과', 77),\n",
              " ('바이오', 77),\n",
              " ('동영상', 76),\n",
              " ('실용외국어', 76),\n",
              " ('일수', 76),\n",
              " ('HUFS', 76),\n",
              " ('따름', 76),\n",
              " ('예방', 76),\n",
              " ('징계', 75),\n",
              " ('원하다', 75),\n",
              " ('데이터', 75),\n",
              " ('EU', 75),\n",
              " ('강사', 75),\n",
              " ('사전', 74),\n",
              " ('담당자', 74),\n",
              " ('실', 74),\n",
              " ('단계', 74),\n",
              " ('이탈리아어', 74),\n",
              " ('classes', 74),\n",
              " ('검정', 74),\n",
              " ('17시', 74),\n",
              " ('의하다', 73),\n",
              " ('연계', 73),\n",
              " ('단일', 73),\n",
              " ('직접', 73),\n",
              " ('식', 73),\n",
              " ('중간', 73),\n",
              " ('be', 73),\n",
              " ('students', 73),\n",
              " ('사범대', 72),\n",
              " ('당일', 72),\n",
              " ('어', 72),\n",
              " ('일본어', 72),\n",
              " ('C', 72),\n",
              " ('13', 72),\n",
              " ('마감', 72),\n",
              " ('적성', 72),\n",
              " ('태국어', 72),\n",
              " ('are', 72),\n",
              " ('공과금', 72),\n",
              " ('EICC', 71),\n",
              " ('계속', 71),\n",
              " (\"'\", 71),\n",
              " ('판정', 71),\n",
              " ('02', 71),\n",
              " ('16시', 71),\n",
              " ('무', 71),\n",
              " ('_', 70),\n",
              " ('3시', 70),\n",
              " ('학업', 70),\n",
              " ('법', 70),\n",
              " ('기한', 70),\n",
              " ('발송', 70),\n",
              " ('Mon', 70),\n",
              " ('not', 70),\n",
              " ('11월', 70),\n",
              " ('공제', 70),\n",
              " ('][', 70),\n",
              " ('23', 69),\n",
              " ('인도어과', 69),\n",
              " ('융합일본지역학부', 69),\n",
              " ('자연과학', 69),\n",
              " ('Language', 69),\n",
              " ('토', 69),\n",
              " ('교육실습', 69),\n",
              " ('결정', 68),\n",
              " ('못', 68),\n",
              " ('인성', 68),\n",
              " ('face', 68),\n",
              " ('이중', 67),\n",
              " ('에도', 67),\n",
              " ('지역학사', 67),\n",
              " ('태국어과', 67),\n",
              " ('실습', 67),\n",
              " ('3월', 66),\n",
              " ('요청', 66),\n",
              " ('없이', 66),\n",
              " ('중앙', 66),\n",
              " ('6월', 66),\n",
              " ('양식', 66),\n",
              " ('경', 66),\n",
              " ('2020년', 65),\n",
              " ('공동', 65),\n",
              " ('다른', 65),\n",
              " ('점', 65),\n",
              " ('구', 65),\n",
              " ('그', 65),\n",
              " ('고급', 65),\n",
              " ('외대', 65),\n",
              " ('유고', 65),\n",
              " ('완납', 65),\n",
              " ('29', 64),\n",
              " ('지정', 64),\n",
              " ('27', 64),\n",
              " ('학위증', 64),\n",
              " ('국어교육', 64),\n",
              " ('주간', 64),\n",
              " ('전화', 64),\n",
              " ('공학', 64),\n",
              " ('메다', 64),\n",
              " ('연락', 64),\n",
              " ('일본학', 64),\n",
              " ('＋', 64),\n",
              " ('군입대', 63),\n",
              " ('2회', 63),\n",
              " ('브라질', 63),\n",
              " ('설치', 63),\n",
              " ('업로드', 63),\n",
              " ('번', 63),\n",
              " ('반환', 63),\n",
              " ('교원자격', 63),\n",
              " ('9월', 62),\n",
              " ('한국예술종합학교', 62),\n",
              " ('백분율', 62),\n",
              " ('W', 62),\n",
              " ('부장', 62),\n",
              " ('E', 62),\n",
              " ('1000~14001일', 62),\n",
              " ('창구', 61),\n",
              " ('첫', 61),\n",
              " ('용', 61),\n",
              " ('이탈리아어과', 61),\n",
              " ('역학', 61),\n",
              " ('실제', 61),\n",
              " ('소', 61),\n",
              " ('Software', 61),\n",
              " ('메뉴', 60),\n",
              " ('상이', 60),\n",
              " ('프로그램', 60),\n",
              " ('사회', 60),\n",
              " ('한국', 60),\n",
              " ('활용', 59),\n",
              " ('지역전문가과정', 59),\n",
              " ('수여', 59),\n",
              " ('목적', 59),\n",
              " ('정정', 59),\n",
              " ('등급', 59),\n",
              " ('컬', 59),\n",
              " ('S', 59),\n",
              " ('과제', 59),\n",
              " ('폐지', 59),\n",
              " ('작', 59),\n",
              " ('기초', 59),\n",
              " ('24', 59),\n",
              " ('간총장포럼협약교', 59),\n",
              " ('중순', 58),\n",
              " ('복학생', 58),\n",
              " ('예비군', 58),\n",
              " ('교육과정', 58),\n",
              " ('28', 58),\n",
              " ('주소', 58),\n",
              " ('속', 58),\n",
              " ('세미나', 58),\n",
              " ('25', 57),\n",
              " ('요망', 57),\n",
              " ('FLEX', 57),\n",
              " ('1/4', 57),\n",
              " ('학칙', 57),\n",
              " ('드리다', 57),\n",
              " ('영미문학', 57),\n",
              " ('집중', 57),\n",
              " ('다만', 57),\n",
              " ('등교', 57),\n",
              " ('복수', 57),\n",
              " ('별로', 56),\n",
              " ('Class', 56),\n",
              " ('상태', 56),\n",
              " ('의처', 56),\n",
              " ('경영학', 56),\n",
              " ('수령', 56),\n",
              " ('L', 56),\n",
              " ('대다', 56),\n",
              " ('0900', 56),\n",
              " ('거리', 56),\n",
              " ('발표', 56),\n",
              " ('작문', 56),\n",
              " ('2021-2', 56),\n",
              " ('2173', 56),\n",
              " ('증빙서류', 55),\n",
              " ('제도', 55),\n",
              " ('안내문', 55),\n",
              " ('course', 55),\n",
              " ('게시', 54),\n",
              " ('순번', 54),\n",
              " ('철학', 54),\n",
              " ('예비', 54),\n",
              " ('졸업요건', 54),\n",
              " ('불', 54),\n",
              " ('동안', 54),\n",
              " ('통한', 54),\n",
              " ('4일', 54),\n",
              " ('RC', 54),\n",
              " ('26', 54),\n",
              " ('두기', 54),\n",
              " ('BRICs', 54),\n",
              " ('소프트웨어', 54),\n",
              " ('전국', 54),\n",
              " ('필', 54),\n",
              " ('인터넷', 53),\n",
              " ('이해', 53),\n",
              " ('이며', 53),\n",
              " ('기본', 53),\n",
              " ('상황', 53),\n",
              " ('컴퓨터', 53),\n",
              " ('I', 53),\n",
              " ('사실', 53),\n",
              " ('2020-2', 53),\n",
              " ('방역', 53),\n",
              " ('절대', 52),\n",
              " ('비즈니스', 52),\n",
              " ('아프리카', 52),\n",
              " ('일자', 52),\n",
              " ('휴강', 52),\n",
              " ('class', 52),\n",
              " ('교외', 52),\n",
              " ('전공자', 52),\n",
              " ('문항', 52),\n",
              " ('공통', 51),\n",
              " ('개강', 51),\n",
              " ('동유럽', 51),\n",
              " ('팀', 51),\n",
              " ('8일', 51),\n",
              " ('강', 51),\n",
              " ('2023-1', 51),\n",
              " ('학석사', 50),\n",
              " ('국제학부', 50),\n",
              " ('서양어대학', 50),\n",
              " ('리더', 50),\n",
              " ('인도', 50),\n",
              " ('35', 50),\n",
              " ('시작', 50),\n",
              " ('토론', 50),\n",
              " ('서강대', 50),\n",
              " ('수수료', 50),\n",
              " ('앱', 49),\n",
              " ('역사관', 49),\n",
              " ('특별', 49),\n",
              " ('335', 49),\n",
              " ('체크', 49),\n",
              " ('이름', 49),\n",
              " ('과로', 49),\n",
              " ('학자금대출', 49),\n",
              " ('일본언어문화학부', 49),\n",
              " ('개시일', 49),\n",
              " ('통보', 49),\n",
              " ('물', 49),\n",
              " ('as', 49),\n",
              " ('청', 49),\n",
              " ('폭력', 49),\n",
              " ('상담', 49),\n",
              " ('0원', 49),\n",
              " ('상환', 49),\n",
              " ('프랑스어교육과', 48),\n",
              " ('42', 48),\n",
              " ('출결', 48),\n",
              " ('요', 48),\n",
              " ('홍익대학교', 48),\n",
              " ('미등록', 48),\n",
              " ('상기', 48),\n",
              " ('중국', 48),\n",
              " ('사이언스', 48),\n",
              " ('2022-2', 48),\n",
              " ('영문', 48),\n",
              " ('2023-2', 48),\n",
              " ('모의', 47),\n",
              " ('질병', 47),\n",
              " ('점수', 47),\n",
              " ('배부', 47),\n",
              " ('안되다', 47),\n",
              " ('형', 47),\n",
              " ('2021-1', 47),\n",
              " ('휴', 46),\n",
              " ('아시아', 46),\n",
              " ('종합', 46),\n",
              " ('★', 46),\n",
              " ('브릭스', 46),\n",
              " ('정확하다', 46),\n",
              " ('하나', 46),\n",
              " ('사범', 46),\n",
              " ('융', 46),\n",
              " ('th', 46),\n",
              " ('can', 46),\n",
              " ('up', 46),\n",
              " ('납입', 46),\n",
              " ('233', 46),\n",
              " ('설계', 46),\n",
              " ('payment', 46),\n",
              " ('5월', 45),\n",
              " ('Hot', 45),\n",
              " ('방', 45),\n",
              " ('금지', 45),\n",
              " ('통상', 45),\n",
              " ('듣기', 45),\n",
              " ('교육학', 45),\n",
              " ('적용', 45),\n",
              " ('부별', 45),\n",
              " ('료', 45),\n",
              " ('부분환불', 45),\n",
              " ('12월', 45),\n",
              " ('학자금', 45),\n",
              " ('유지', 44),\n",
              " ('늘다', 44),\n",
              " ('부여', 44),\n",
              " ('10월', 44),\n",
              " ('미완료', 44),\n",
              " ('당해', 44),\n",
              " ('순수', 44),\n",
              " ('하단', 44),\n",
              " ('확', 44),\n",
              " ('연구', 44),\n",
              " ('디지털', 44),\n",
              " ('복합', 44),\n",
              " ('강정원', 44),\n",
              " ('동문', 44),\n",
              " ('베트남어과', 43),\n",
              " ('사회과학', 43),\n",
              " ('중간고사', 43),\n",
              " ('증명', 43),\n",
              " ('쪽', 43),\n",
              " ('문제', 43),\n",
              " ('교과', 43),\n",
              " ('정원', 43),\n",
              " ('러닝', 43),\n",
              " ('12일', 43),\n",
              " ('pay', 43),\n",
              " ('불가리아', 42),\n",
              " ('확정자', 42),\n",
              " ('정해진', 42),\n",
              " ('활동', 42),\n",
              " ('정부', 42),\n",
              " ('공문', 42),\n",
              " ('업데이트', 42),\n",
              " ('kr', 42),\n",
              " ('online', 42),\n",
              " ('기관', 42),\n",
              " ('동점', 42),\n",
              " ('@', 42),\n",
              " ('Wed', 42),\n",
              " ('＇', 42),\n",
              " ('수중', 41),\n",
              " ('대하여', 41),\n",
              " ('서비스', 41),\n",
              " ('하므다', 41),\n",
              " ('창업', 41),\n",
              " ('행', 41),\n",
              " ('PC', 41),\n",
              " ('1일', 41),\n",
              " ('준수', 41),\n",
              " ('4시', 41),\n",
              " ('금융', 41),\n",
              " ('건국', 41),\n",
              " ('동국대학교', 41),\n",
              " ('숙명여자대', 41),\n",
              " ('이화여자대', 41),\n",
              " ('account', 41),\n",
              " ('스포츠', 41),\n",
              " ('학관', 40),\n",
              " ('X', 40),\n",
              " ('교직이수', 40),\n",
              " ('한해', 40),\n",
              " ('쓰기', 40),\n",
              " ('서울대학교', 40),\n",
              " ('창원', 40),\n",
              " ('Foreign', 40),\n",
              " ('make', 40),\n",
              " ('강인원', 39),\n",
              " ('에서만', 39),\n",
              " ('오니', 39),\n",
              " ('행사', 39),\n",
              " ('추다', 39),\n",
              " ('D', 39),\n",
              " ('미리', 39),\n",
              " ('재적', 39),\n",
              " ('충족', 39),\n",
              " ('양대', 39),\n",
              " ('【', 39),\n",
              " ('】', 39),\n",
              " ('this', 39),\n",
              " ('by', 39),\n",
              " ('중인', 39),\n",
              " ('장학생', 39),\n",
              " ('60', 39),\n",
              " ('2022-1', 39),\n",
              " ('록금의', 39),\n",
              " ('재발', 38),\n",
              " ('지다', 38),\n",
              " ('어문', 38),\n",
              " ('심사', 38),\n",
              " ('조건', 38),\n",
              " ('미디어커뮤니케이션학부', 38),\n",
              " ('중국외교통상학부', 38),\n",
              " ('스칸디나비아어과', 38),\n",
              " ('상경', 38),\n",
              " ('이란', 38),\n",
              " ('야하다', 38),\n",
              " ('연한', 38),\n",
              " ('번역', 38),\n",
              " ('고려대학교', 38),\n",
              " ('국민', 38),\n",
              " ('덕성여자대', 38),\n",
              " ('부산외국어대학교', 38),\n",
              " ('연세대학교', 38),\n",
              " ('울산', 38),\n",
              " ...]"
            ]
          },
          "metadata": {},
          "execution_count": 15
        }
      ]
    },
    {
      "cell_type": "code",
      "source": [],
      "metadata": {
        "id": "SDO7JZv7fwCI"
      },
      "execution_count": null,
      "outputs": []
    },
    {
      "cell_type": "markdown",
      "source": [
        "######################공통 구간#######################################\n",
        "\n",
        "이 아래로 공지 병합 코딩진행"
      ],
      "metadata": {
        "id": "LvqG7qZMl3fZ"
      }
    },
    {
      "cell_type": "code",
      "source": [
        "gongji2_copy['title']"
      ],
      "metadata": {
        "id": "__DUM_Hxjyri"
      },
      "execution_count": null,
      "outputs": []
    },
    {
      "cell_type": "code",
      "source": [
        "#코로나 개수확인\n",
        "corona_count = len(gongji2_copy[gongji2_copy['title'].str.contains('코로나19')])\n",
        "# 결과 출력\n",
        "print(\"코로나19가 포함된 데이터 개수:\", corona_count)\n",
        "print(\"삭제 전 데이터 개수:\", len(gongji2_copy))"
      ],
      "metadata": {
        "id": "P6asJeFymHs4"
      },
      "execution_count": null,
      "outputs": []
    },
    {
      "cell_type": "code",
      "source": [
        "#공지2 코로나 행 삭제\n",
        "drop_covid_2 = gongji2_copy[gongji2_copy['title'].str.contains('코로나19')]\n",
        "gongji2_copy.drop(drop_covid_2.index, inplace=True)\n",
        "print(\"삭제 후 데이터 개수:\", len(gongji2_copy))"
      ],
      "metadata": {
        "id": "4yQy6-_hmX_Y"
      },
      "execution_count": null,
      "outputs": []
    },
    {
      "cell_type": "code",
      "source": [
        "#공지1 코로나 행 삭제\n",
        "#코로나 개수확인\n",
        "corona_count = len(gongji1_copy[gongji1_copy['title'].str.contains('코로나19')])\n",
        "# 결과 출력\n",
        "print(\"코로나19가 포함된 데이터 개수:\", corona_count)\n",
        "print(\"삭제 전 데이터 개수:\", len(gongji1_copy))\n",
        "\n",
        "drop_covid_1 = gongji1_copy[gongji1_copy['title'].str.contains('코로나19')]\n",
        "gongji1_copy.drop(drop_covid_1.index, inplace=True)\n",
        "print(\"삭제 후 데이터 개수:\", len(gongji1_copy))"
      ],
      "metadata": {
        "id": "ZldXTpnQnPXi"
      },
      "execution_count": null,
      "outputs": []
    },
    {
      "cell_type": "code",
      "source": [
        "#'content' 열에 전처리 함수를 적용하여 새로운 열 생성\n",
        "gongji2_copy['cleaned_content'] = gongji2_copy['content'].apply(preprocess_text)\n",
        "gongji2_copy.tail()"
      ],
      "metadata": {
        "id": "4WVZ0s6EnWpA"
      },
      "execution_count": null,
      "outputs": []
    },
    {
      "cell_type": "code",
      "source": [
        "#빈도확인용\n",
        "okt = Okt()\n",
        "words = \" \".join( gongji2_copy['cleaned_content'].tolist())\n",
        "words = okt.morphs(words,stem=True)\n",
        "words"
      ],
      "metadata": {
        "id": "q-9O4itzpd_k"
      },
      "execution_count": null,
      "outputs": []
    },
    {
      "cell_type": "code",
      "source": [
        "frequent = Counter(words).most_common()\n",
        "frequent"
      ],
      "metadata": {
        "id": "kbaC2hH-qMsj"
      },
      "execution_count": null,
      "outputs": []
    },
    {
      "cell_type": "code",
      "source": [
        "pwd"
      ],
      "metadata": {
        "id": "xSi0-JlKqqmC"
      },
      "execution_count": null,
      "outputs": []
    },
    {
      "cell_type": "code",
      "source": [
        "#코로나 개수확인\n",
        "corona_count = len(haksa_copy[haksa_copy['title'].str.contains('코로나19')])\n",
        "# 결과 출력\n",
        "print(\"코로나19가 포함된 데이터 개수:\", corona_count)\n",
        "print(\"삭제 전 데이터 개수:\", len(haksa_copy))"
      ],
      "metadata": {
        "id": "oef3XFhk1_IO",
        "colab": {
          "base_uri": "https://localhost:8080/"
        },
        "outputId": "c3e5bbf6-9202-4a4b-eb06-b992f81278bf"
      },
      "execution_count": null,
      "outputs": [
        {
          "output_type": "stream",
          "name": "stdout",
          "text": [
            "코로나19가 포함된 데이터 개수: 6\n",
            "삭제 전 데이터 개수: 622\n"
          ]
        }
      ]
    },
    {
      "cell_type": "markdown",
      "source": [
        "# 사용자 사전 고치기\n",
        "- 아래의 절차 따르고 맨 아래 data write 쪽 정정해주기\n",
        "- - 사용자 사전 만들기 (colab)\n",
        "https://sirzzang.github.io/ai/AI-konlpy-userdic/"
      ],
      "metadata": {
        "id": "mPDhUnEj1_wg"
      }
    },
    {
      "cell_type": "code",
      "source": [
        "#사용자 사전 찾아가기\n",
        "os.chdir('/usr/local/lib/python3.10/dist-packages/konlpy/java')\n",
        "os.getcwd()"
      ],
      "metadata": {
        "id": "NKR9z76Nqtre",
        "colab": {
          "base_uri": "https://localhost:8080/",
          "height": 35
        },
        "outputId": "5ef9833e-210e-4c32-d4a1-537e020f8385"
      },
      "execution_count": null,
      "outputs": [
        {
          "output_type": "execute_result",
          "data": {
            "text/plain": [
              "'/usr/local/lib/python3.10/dist-packages/konlpy/java'"
            ],
            "application/vnd.google.colaboratory.intrinsic+json": {
              "type": "string"
            }
          },
          "metadata": {},
          "execution_count": 16
        }
      ]
    },
    {
      "cell_type": "code",
      "source": [
        "#os.makedirs('./temp_fix')\n",
        "os.chdir('./temp_fix')\n",
        "os.getcwd()"
      ],
      "metadata": {
        "id": "XL5BCMkSvOcS",
        "colab": {
          "base_uri": "https://localhost:8080/",
          "height": 35
        },
        "outputId": "ec2cbdc1-0f99-4b66-ca4c-bc6617330c4f"
      },
      "execution_count": null,
      "outputs": [
        {
          "output_type": "execute_result",
          "data": {
            "text/plain": [
              "'/usr/local/lib/python3.10/dist-packages/konlpy/java/temp_fix'"
            ],
            "application/vnd.google.colaboratory.intrinsic+json": {
              "type": "string"
            }
          },
          "metadata": {},
          "execution_count": 17
        }
      ]
    },
    {
      "cell_type": "code",
      "source": [
        "!jar xvf ../open-korean-text-2.1.0.jar"
      ],
      "metadata": {
        "id": "dWiBekagvcLa",
        "colab": {
          "base_uri": "https://localhost:8080/"
        },
        "outputId": "bfc23f78-1742-40c5-c18e-c9698c413b33"
      },
      "execution_count": null,
      "outputs": [
        {
          "output_type": "stream",
          "name": "stdout",
          "text": [
            "  created: META-INF/\n",
            " inflated: META-INF/MANIFEST.MF\n",
            "  created: META-INF/maven/\n",
            "  created: META-INF/maven/org.openkoreantext/\n",
            "  created: META-INF/maven/org.openkoreantext/open-korean-text/\n",
            " inflated: META-INF/maven/org.openkoreantext/open-korean-text/pom.properties\n",
            " inflated: META-INF/maven/org.openkoreantext/open-korean-text/pom.xml\n",
            "  created: org/\n",
            "  created: org/openkoreantext/\n",
            "  created: org/openkoreantext/processor/\n",
            "  created: org/openkoreantext/processor/tokenizer/\n",
            " inflated: org/openkoreantext/processor/tokenizer/Sentence.class\n",
            " inflated: org/openkoreantext/processor/tokenizer/KoreanSentenceSplitter.class\n",
            " inflated: org/openkoreantext/processor/tokenizer/KoreanDetokenizer.class\n",
            " inflated: org/openkoreantext/processor/tokenizer/KoreanChunker$ChunkMatch$.class\n",
            " inflated: org/openkoreantext/processor/tokenizer/KoreanTokenizer$.class\n",
            " inflated: org/openkoreantext/processor/tokenizer/KoreanSentenceSplitter$.class\n",
            " inflated: org/openkoreantext/processor/tokenizer/TokenizerProfile.class\n",
            " inflated: org/openkoreantext/processor/tokenizer/KoreanTokenizer.class\n",
            " inflated: org/openkoreantext/processor/tokenizer/TokenizerProfile$.class\n",
            " inflated: org/openkoreantext/processor/tokenizer/KoreanChunk.class\n",
            " inflated: org/openkoreantext/processor/tokenizer/ParsedChunk$.class\n",
            " inflated: org/openkoreantext/processor/tokenizer/KoreanChunker$.class\n",
            " inflated: org/openkoreantext/processor/tokenizer/KoreanTokenizer$KoreanToken$.class\n",
            " inflated: org/openkoreantext/processor/tokenizer/KoreanDetokenizer$.class\n",
            " inflated: org/openkoreantext/processor/tokenizer/Sentence$.class\n",
            " inflated: org/openkoreantext/processor/tokenizer/ParsedChunk.class\n",
            " inflated: org/openkoreantext/processor/tokenizer/KoreanTokenizer$PossibleTrie$.class\n",
            " inflated: org/openkoreantext/processor/tokenizer/KoreanChunker.class\n",
            " inflated: org/openkoreantext/processor/tokenizer/KoreanTokenizer$PossibleTrie.class\n",
            " inflated: org/openkoreantext/processor/tokenizer/KoreanChunker$ChunkMatch.class\n",
            " inflated: org/openkoreantext/processor/tokenizer/KoreanTokenizer$CandidateParse.class\n",
            " inflated: org/openkoreantext/processor/tokenizer/KoreanTokenizer$CandidateParse$.class\n",
            " inflated: org/openkoreantext/processor/tokenizer/KoreanTokenizer$KoreanToken.class\n",
            " inflated: org/openkoreantext/processor/tokenizer/KoreanChunk$.class\n",
            "  created: org/openkoreantext/processor/normalizer/\n",
            " inflated: org/openkoreantext/processor/normalizer/KoreanNormalizer$Segment.class\n",
            " inflated: org/openkoreantext/processor/normalizer/KoreanNormalizer$.class\n",
            " inflated: org/openkoreantext/processor/normalizer/KoreanNormalizer$Segment$.class\n",
            " inflated: org/openkoreantext/processor/normalizer/KoreanNormalizer.class\n",
            " inflated: org/openkoreantext/processor/KoreanTokenJava.class\n",
            "  created: org/openkoreantext/processor/qa/\n",
            " inflated: org/openkoreantext/processor/qa/BatchTokenizeTweets$ParseTime.class\n",
            " inflated: org/openkoreantext/processor/qa/BatchGetUnknownNouns.class\n",
            " inflated: org/openkoreantext/processor/qa/BatchTokenizeTweets$ParseTime$.class\n",
            " inflated: org/openkoreantext/processor/qa/KoreanProcessorSandbox.class\n",
            " inflated: org/openkoreantext/processor/qa/BatchGetUnknownNouns$.class\n",
            " inflated: org/openkoreantext/processor/qa/BatchGetUnknownNouns$ChunkWithTweet.class\n",
            " inflated: org/openkoreantext/processor/qa/BatchTokenizeTweets$.class\n",
            " inflated: org/openkoreantext/processor/qa/BatchGetUnknownNouns$ChunkWithTweet$.class\n",
            " inflated: org/openkoreantext/processor/qa/BatchTokenizeTweets.class\n",
            " inflated: org/openkoreantext/processor/qa/KoreanProcessorSandbox$.class\n",
            "  created: org/openkoreantext/processor/tools/\n",
            " inflated: org/openkoreantext/processor/tools/DeduplicateAndSortDictionaries$.class\n",
            " inflated: org/openkoreantext/processor/tools/CreateConjugationExamples$ConjugationExample$.class\n",
            " inflated: org/openkoreantext/processor/tools/CreateParsingExamples.class\n",
            " inflated: org/openkoreantext/processor/tools/CreateConjugationExamples$.class\n",
            " inflated: org/openkoreantext/processor/tools/CreatePhraseExtractionExamples$.class\n",
            " inflated: org/openkoreantext/processor/tools/UpdateAllTheExamples$.class\n",
            " inflated: org/openkoreantext/processor/tools/CreateConjugationExamples.class\n",
            " inflated: org/openkoreantext/processor/tools/CreateParsingExamples$ParsingExample.class\n",
            " inflated: org/openkoreantext/processor/tools/CreateParsingExamples$ParsingExample$.class\n",
            " inflated: org/openkoreantext/processor/tools/CreateConjugationExamples$ConjugationExample.class\n",
            " inflated: org/openkoreantext/processor/tools/CreateParsingExamples$.class\n",
            " inflated: org/openkoreantext/processor/tools/UpdateAllTheExamples.class\n",
            " inflated: org/openkoreantext/processor/tools/CreateChunkParsingCandidates.class\n",
            " inflated: org/openkoreantext/processor/tools/CreatePhraseExtractionExamples$PhraseExample.class\n",
            " inflated: org/openkoreantext/processor/tools/CreatePhraseExtractionExamples$PhraseExample$.class\n",
            " inflated: org/openkoreantext/processor/tools/DeduplicateAndSortDictionaries.class\n",
            " inflated: org/openkoreantext/processor/tools/CreatePhraseExtractionExamples.class\n",
            " inflated: org/openkoreantext/processor/tools/Runnable.class\n",
            " inflated: org/openkoreantext/processor/tools/CreateChunkParsingCandidates$.class\n",
            "  created: org/openkoreantext/processor/phrase_extractor/\n",
            " inflated: org/openkoreantext/processor/phrase_extractor/KoreanPhraseExtractor$KoreanPhrase.class\n",
            " inflated: org/openkoreantext/processor/phrase_extractor/KoreanPhraseExtractor.class\n",
            " inflated: org/openkoreantext/processor/phrase_extractor/KoreanPhraseExtractor$PhraseBuffer$.class\n",
            " inflated: org/openkoreantext/processor/phrase_extractor/KoreanPhraseExtractor$PhraseBuffer.class\n",
            " inflated: org/openkoreantext/processor/phrase_extractor/KoreanPhraseExtractor$.class\n",
            " inflated: org/openkoreantext/processor/phrase_extractor/KoreanPhraseExtractor$KoreanPhrase$.class\n",
            " inflated: org/openkoreantext/processor/OpenKoreanTextProcessor.class\n",
            " inflated: org/openkoreantext/processor/KoreanPosJava.class\n",
            " inflated: org/openkoreantext/processor/OpenKoreanTextProcessorJava.class\n",
            " inflated: org/openkoreantext/processor/OpenKoreanTextProcessor$.class\n",
            "  created: org/openkoreantext/processor/util/\n",
            " inflated: org/openkoreantext/processor/util/Hangul.class\n",
            " inflated: org/openkoreantext/processor/util/Hangul$DoubleCoda$.class\n",
            " inflated: org/openkoreantext/processor/util/CharacterUtils$Java4CharacterUtils.class\n",
            " inflated: org/openkoreantext/processor/util/CharArrayMap$UnmodifiableCharArrayMap.class\n",
            "  created: org/openkoreantext/processor/util/freq/\n",
            " inflated: org/openkoreantext/processor/util/freq/entity-freq.txt.gz\n",
            " inflated: org/openkoreantext/processor/util/KoreanSubstantive$.class\n",
            " inflated: org/openkoreantext/processor/util/Hangul$HangulChar.class\n",
            " inflated: org/openkoreantext/processor/util/KoreanConjugation$.class\n",
            " inflated: org/openkoreantext/processor/util/CharArrayMap$EntryIterator.class\n",
            " inflated: org/openkoreantext/processor/util/example_chunks.txt\n",
            " inflated: org/openkoreantext/processor/util/KoreanPos$.class\n",
            "  created: org/openkoreantext/processor/util/verb/\n",
            " inflated: org/openkoreantext/processor/util/verb/pre_eomi.txt\n",
            " inflated: org/openkoreantext/processor/util/verb/eomi.txt\n",
            " inflated: org/openkoreantext/processor/util/verb/verb_prefix.txt\n",
            " inflated: org/openkoreantext/processor/util/verb/verb.txt\n",
            "  created: org/openkoreantext/processor/util/adjective/\n",
            " inflated: org/openkoreantext/processor/util/adjective/adjective.txt\n",
            " inflated: org/openkoreantext/processor/util/Hangul$DoubleCoda.class\n",
            "  created: org/openkoreantext/processor/util/substantives/\n",
            " inflated: org/openkoreantext/processor/util/substantives/given_names.txt\n",
            " inflated: org/openkoreantext/processor/util/substantives/suffix.txt\n",
            " inflated: org/openkoreantext/processor/util/substantives/family_names.txt\n",
            " inflated: org/openkoreantext/processor/util/substantives/modifier.txt\n",
            " inflated: org/openkoreantext/processor/util/example_tweets.txt\n",
            " inflated: org/openkoreantext/processor/util/KoreanPos$KoreanPosTrie.class\n",
            " inflated: org/openkoreantext/processor/util/KoreanPos.class\n",
            " inflated: org/openkoreantext/processor/util/CharArrayMap$EmptyCharArrayMap.class\n",
            " inflated: org/openkoreantext/processor/util/CharArrayMap$EntrySet.class\n",
            " inflated: org/openkoreantext/processor/util/CharArrayMap$MapEntry.class\n",
            " inflated: org/openkoreantext/processor/util/CharArraySet.class\n",
            " inflated: org/openkoreantext/processor/util/KoreanPos$KoreanPosTrie$.class\n",
            " inflated: org/openkoreantext/processor/util/KoreanSubstantive.class\n",
            "  created: org/openkoreantext/processor/util/typos/\n",
            " inflated: org/openkoreantext/processor/util/typos/typos.txt\n",
            " inflated: org/openkoreantext/processor/util/CharacterUtils$Java5CharacterUtils.class\n",
            " inflated: org/openkoreantext/processor/util/KoreanDictionaryProvider$.class\n",
            "  created: org/openkoreantext/processor/util/adverb/\n",
            " inflated: org/openkoreantext/processor/util/adverb/adverb.txt\n",
            " inflated: org/openkoreantext/processor/util/KoreanConjugation.class\n",
            " inflated: org/openkoreantext/processor/util/CharArrayMap.class\n",
            " inflated: org/openkoreantext/processor/util/Hangul$.class\n",
            " inflated: org/openkoreantext/processor/util/CharArrayMap$1.class\n",
            " inflated: org/openkoreantext/processor/util/KoreanDictionaryProvider.class\n",
            " inflated: org/openkoreantext/processor/util/Hangul$HangulChar$.class\n",
            "  created: org/openkoreantext/processor/util/auxiliary/\n",
            " inflated: org/openkoreantext/processor/util/auxiliary/conjunctions.txt\n",
            " inflated: org/openkoreantext/processor/util/auxiliary/determiner.txt\n",
            " inflated: org/openkoreantext/processor/util/auxiliary/exclamation.txt\n",
            " inflated: org/openkoreantext/processor/util/CharacterUtils$CharacterBuffer.class\n",
            "  created: org/openkoreantext/processor/util/josa/\n",
            " inflated: org/openkoreantext/processor/util/josa/josa.txt\n",
            " inflated: org/openkoreantext/processor/util/CharacterUtils.class\n",
            "  created: org/openkoreantext/processor/util/noun/\n",
            " inflated: org/openkoreantext/processor/util/noun/slangs.txt\n",
            " inflated: org/openkoreantext/processor/util/noun/nouns.txt\n",
            " inflated: org/openkoreantext/processor/util/noun/names.txt\n",
            " inflated: org/openkoreantext/processor/util/noun/spam.txt\n",
            " inflated: org/openkoreantext/processor/util/noun/twitter.txt\n",
            " inflated: org/openkoreantext/processor/util/noun/congress.txt\n",
            " inflated: org/openkoreantext/processor/util/noun/kpop.txt\n",
            " inflated: org/openkoreantext/processor/util/noun/profane.txt\n",
            " inflated: org/openkoreantext/processor/util/noun/entities.txt\n",
            " inflated: org/openkoreantext/processor/util/noun/wikipedia_title_nouns.txt\n",
            " inflated: org/openkoreantext/processor/util/noun/company_names.txt\n",
            " inflated: org/openkoreantext/processor/util/noun/bible.txt\n",
            " inflated: org/openkoreantext/processor/util/noun/pokemon.txt\n",
            " inflated: org/openkoreantext/processor/util/noun/lol.txt\n",
            " inflated: org/openkoreantext/processor/util/noun/foreign.txt\n",
            " inflated: org/openkoreantext/processor/util/noun/geolocations.txt\n",
            "  created: org/openkoreantext/processor/stemmer/\n",
            " inflated: org/openkoreantext/processor/stemmer/KoreanStemmer$.class\n",
            " inflated: org/openkoreantext/processor/stemmer/KoreanStemmer.class\n"
          ]
        }
      ]
    },
    {
      "cell_type": "code",
      "source": [
        "pwd"
      ],
      "metadata": {
        "id": "k9k_9F1GwSru",
        "colab": {
          "base_uri": "https://localhost:8080/",
          "height": 35
        },
        "outputId": "9a3208a8-27b5-4398-8a95-39d63470b78c"
      },
      "execution_count": null,
      "outputs": [
        {
          "output_type": "execute_result",
          "data": {
            "text/plain": [
              "'/usr/local/lib/python3.10/dist-packages/konlpy/java/temp_fix'"
            ],
            "application/vnd.google.colaboratory.intrinsic+json": {
              "type": "string"
            }
          },
          "metadata": {},
          "execution_count": 19
        }
      ]
    },
    {
      "cell_type": "code",
      "source": [
        "# 사용자 사전 열기\n",
        "with open(f\"/usr/local/lib/python3.10/dist-packages/konlpy/java/temp_fix/org/openkoreantext/processor/util/noun/names.txt\") as f:\n",
        "    data = f.read()\n",
        "data"
      ],
      "metadata": {
        "id": "CMc9uFaywUD8",
        "colab": {
          "base_uri": "https://localhost:8080/",
          "height": 276
        },
        "outputId": "a19b7b1c-e623-4792-eceb-c9fead34beba"
      },
      "execution_count": null,
      "outputs": [
        {
          "output_type": "execute_result",
          "data": {
            "text/plain": [
              "'가몽\\n가온\\n갓세븐\\n강새이\\n게임닉가\\n관우\\n귀여미\\n규\\n김유이\\n김준면\\n까까런\\n노컷\\n누너예\\n니노\\n다마고치\\n다이무스\\n대학생\\n데이브\\n도요토미\\n동운\\n동이\\n두주니\\n디시인사이드\\n디오\\n라몹\\n라스\\n라옵\\n멍구\\n메이든\\n명덕\\n명량\\n문민정부\\n미네\\n방엘리\\n병헌\\n붓다\\n비정상회담\\n빼빼로\\n삼풍\\n샤인온미\\n성식\\n성열\\n세라문\\n세라복\\n세종대왕\\n손권\\n손책\\n쇼미더머니\\n쇼챔\\n순규\\n스라소니\\n신동아\\n신쓰패밀리\\n신아라\\n아베\\n안상홍\\n안홍준\\n여누\\n여랑\\n여포\\n연합\\n오꾸닭\\n요섭\\n웃찾사\\n원식\\n유병언\\n유비\\n유이\\n윤기형\\n이나단\\n이명박\\n이완용\\n임창용\\n자괴\\n자니윤\\n자대련\\n자유\\n재중이\\n전교조\\n정윤회\\n제갈량\\n조자룡\\n조조\\n준면\\n지오디\\n지존파\\n진영오\\n차작가\\n차트\\n창섭\\n챠트\\n첸\\n코르사주\\n하무열\\n하용파쿠\\n혁재\\n현이\\n현태\\n혜미\\n한국외국어대학교\\n한국외대\\n안내\\\\종합정보시스템\\\\공고\\n이수\\n학기\\n대하여\\n아래\\n수강편람\\n이중전공\\n수강신청함\\n수강신청\\n예비수강신청\\n교무처장\\n수강료\\n등록기간\\n수강신청자\\n한하다\\n미수강신청자\\n납부불가\\n핫링크\\n고지서출력\\n가상계좌\\n붙임파일\\n모바일앱\\n내역\\n인터넷뱅킹\\n텔레뱅킹\\n개시일\\n신청\\n마감\\n마감일\\n수강취소\\n수강변경\\\\종합정보화면\\n계절학기\\n부분환불\\n계절학기\\\\학년도\\n접수일\\n학석사\\n학사\\n석사\\n연계\\n과정생\\n접수처\\n학사종합지원센터\\n양캠퍼스\\n통번역\\n이수\\n미배정\\n부전공\\\\여석\\n이수\\n지원\\n학사종합지원센터\\n한국예술종합학교\\n특성화\\n수강편람\\n실용외국어\\n공동교양\\n여석\\\\졸업\\n사정\\n결과\\n확정자\\n불가자\\n개강일\\n우리대학교\\n우리대학\\n안내문\\n학위\\n학위증\\n코로나바이러스\\nHUFS\\n양캠퍼스\\n서울캠퍼스\\n글로벌캠퍼스\\n서울글로벌캠퍼스\\n서울·글로벌캠퍼스\\n우리은행\\n단과대학\\n졸업시험\\n논문\\n제적\\n졸업요건\\n지역학사\\n지역전문가과정\\n수료졸업대기\\nELLT학과\\n영어학과\\n아랍어과\\n미디어커뮤니케이션학부\\n영어전공\\n영미문학문화학과\\n태국어과\\n경제학부\\nEICC학과\\n영어통번역학과\\n베트남어과\\n국제통상학과\\\\이란어과\\n경영학부\\n프랑스어학부\\n인도어과\\n영어교육과\\n독일어과\\n터키아제르바이잔어과\\n프랑스어교육과\\n노어과\\n몽골어과\\n독일어교육과\\n스페인어과\\n중국언어문화학부\\n한국어교육과\\n이탈리아어과\\n중국외교통상학부\\n국제학부\\n포르투갈어과\\n일본언어문화학부\\n사회과학전공\\n네덜란드어과\\n융합일본지역학부\\nLD전공\\n스칸디나비아어과\\n정치외교학과\\nLT전공\\n말레이인도네시아어과\\n행정학과\\n서양어대학\\n아시아언어문화대학\\n중국어대학\\n일본어대학\\n사회과학\\n상경\\n경영\\n국제학부\\n사회과학전공\\n사범대학\\n교직\\n실용외국어\\n군입대\\n입영통지서\\n미비\\n미충족\\n등록휴학\\n휴학\\n전역일\\n증빙서류\\n'"
            ],
            "application/vnd.google.colaboratory.intrinsic+json": {
              "type": "string"
            }
          },
          "metadata": {},
          "execution_count": 20
        }
      ]
    },
    {
      "cell_type": "code",
      "source": [
        "data += \"서울·글로벌캠퍼스\\n우리은행\\n단과대학\\n졸업시험\\n논문\\n제적\\n졸업요건\\n지역학사\\n지역전문가과정\\n수료졸업대기\\nELLT학과\\n영어학과\\n아랍어과\\n미디어커뮤니케이션학부\\n영어전공\\n영미문학문화학과\\n태국어과\\n경제학부\\nEICC학과\\n영어통번역학과\\n베트남어과\\n국제통상학과\\이란어과\\n경영학부\\n프랑스어학부\\n인도어과\\n영어교육과\\n독일어과\\n터키아제르바이잔어과\\n프랑스어교육과\\n노어과\\n몽골어과\\n독일어교육과\\n스페인어과\\n중국언어문화학부\\n한국어교육과\\n이탈리아어과\\n중국외교통상학부\\n국제학부\\n포르투갈어과\\n일본언어문화학부\\n사회과학전공\\n네덜란드어과\\n융합일본지역학부\\nLD전공\\n스칸디나비아어과\\n정치외교학과\\nLT전공\\n말레이인도네시아어과\\n행정학과\\n서양어대학\\n아시아언어문화대학\\n중국어대학\\n일본어대학\\n사회과학\\n상경\\n경영\\n국제학부\\n사회과학전공\\n사범대학\\n교직\\n실용외국어\\n군입대\\n입영통지서\\n미비\\n미충족\\n등록휴학\\n휴학\\n전역일\\n증빙서류\\n\"\n",
        "# 파일 새롭게 저장\n",
        "with open(\"/usr/local/lib/python3.10/dist-packages/konlpy/java/temp_fix/org/openkoreantext/processor/util/noun/names.txt\", 'w') as f:\n",
        "    f.write(data)\n",
        "data"
      ],
      "metadata": {
        "id": "NSPTbmqQw2KU",
        "colab": {
          "base_uri": "https://localhost:8080/",
          "height": 276
        },
        "outputId": "d3df5719-47c4-4a49-e87f-15ad1fd9e5c4"
      },
      "execution_count": null,
      "outputs": [
        {
          "output_type": "execute_result",
          "data": {
            "text/plain": [
              "'가몽\\n가온\\n갓세븐\\n강새이\\n게임닉가\\n관우\\n귀여미\\n규\\n김유이\\n김준면\\n까까런\\n노컷\\n누너예\\n니노\\n다마고치\\n다이무스\\n대학생\\n데이브\\n도요토미\\n동운\\n동이\\n두주니\\n디시인사이드\\n디오\\n라몹\\n라스\\n라옵\\n멍구\\n메이든\\n명덕\\n명량\\n문민정부\\n미네\\n방엘리\\n병헌\\n붓다\\n비정상회담\\n빼빼로\\n삼풍\\n샤인온미\\n성식\\n성열\\n세라문\\n세라복\\n세종대왕\\n손권\\n손책\\n쇼미더머니\\n쇼챔\\n순규\\n스라소니\\n신동아\\n신쓰패밀리\\n신아라\\n아베\\n안상홍\\n안홍준\\n여누\\n여랑\\n여포\\n연합\\n오꾸닭\\n요섭\\n웃찾사\\n원식\\n유병언\\n유비\\n유이\\n윤기형\\n이나단\\n이명박\\n이완용\\n임창용\\n자괴\\n자니윤\\n자대련\\n자유\\n재중이\\n전교조\\n정윤회\\n제갈량\\n조자룡\\n조조\\n준면\\n지오디\\n지존파\\n진영오\\n차작가\\n차트\\n창섭\\n챠트\\n첸\\n코르사주\\n하무열\\n하용파쿠\\n혁재\\n현이\\n현태\\n혜미\\n한국외국어대학교\\n한국외대\\n안내\\\\종합정보시스템\\\\공고\\n이수\\n학기\\n대하여\\n아래\\n수강편람\\n이중전공\\n수강신청함\\n수강신청\\n예비수강신청\\n교무처장\\n수강료\\n등록기간\\n수강신청자\\n한하다\\n미수강신청자\\n납부불가\\n핫링크\\n고지서출력\\n가상계좌\\n붙임파일\\n모바일앱\\n내역\\n인터넷뱅킹\\n텔레뱅킹\\n개시일\\n신청\\n마감\\n마감일\\n수강취소\\n수강변경\\\\종합정보화면\\n계절학기\\n부분환불\\n계절학기\\\\학년도\\n접수일\\n학석사\\n학사\\n석사\\n연계\\n과정생\\n접수처\\n학사종합지원센터\\n양캠퍼스\\n통번역\\n이수\\n미배정\\n부전공\\\\여석\\n이수\\n지원\\n학사종합지원센터\\n한국예술종합학교\\n특성화\\n수강편람\\n실용외국어\\n공동교양\\n여석\\\\졸업\\n사정\\n결과\\n확정자\\n불가자\\n개강일\\n우리대학교\\n우리대학\\n안내문\\n학위\\n학위증\\n코로나바이러스\\nHUFS\\n양캠퍼스\\n서울캠퍼스\\n글로벌캠퍼스\\n서울글로벌캠퍼스\\n서울·글로벌캠퍼스\\n우리은행\\n단과대학\\n졸업시험\\n논문\\n제적\\n졸업요건\\n지역학사\\n지역전문가과정\\n수료졸업대기\\nELLT학과\\n영어학과\\n아랍어과\\n미디어커뮤니케이션학부\\n영어전공\\n영미문학문화학과\\n태국어과\\n경제학부\\nEICC학과\\n영어통번역학과\\n베트남어과\\n국제통상학과\\\\이란어과\\n경영학부\\n프랑스어학부\\n인도어과\\n영어교육과\\n독일어과\\n터키아제르바이잔어과\\n프랑스어교육과\\n노어과\\n몽골어과\\n독일어교육과\\n스페인어과\\n중국언어문화학부\\n한국어교육과\\n이탈리아어과\\n중국외교통상학부\\n국제학부\\n포르투갈어과\\n일본언어문화학부\\n사회과학전공\\n네덜란드어과\\n융합일본지역학부\\nLD전공\\n스칸디나비아어과\\n정치외교학과\\nLT전공\\n말레이인도네시아어과\\n행정학과\\n서양어대학\\n아시아언어문화대학\\n중국어대학\\n일본어대학\\n사회과학\\n상경\\n경영\\n국제학부\\n사회과학전공\\n사범대학\\n교직\\n실용외국어\\n군입대\\n입영통지서\\n미비\\n미충족\\n등록휴학\\n휴학\\n전역일\\n증빙서류\\n서울·글로벌캠퍼스\\n우리은행\\n단과대학\\n졸업시험\\n논문\\n제적\\n졸업요건\\n지역학사\\n지역전문가과정\\n수료졸업대기\\nELLT학과\\n영어학과\\n아랍어과\\n미디어커뮤니케이션학부\\n영어전공\\n영미문학문화학과\\n태국어과\\n경제학부\\nEICC학과\\n영어통번역학과\\n베트남어과\\n국제통상학과\\\\이란어과\\n경영학부\\n프랑스어학부\\n인도어과\\n영어교육과\\n독일어과\\n터키아제르바이잔어과\\n프랑스어교육과\\n노어과\\n몽골어과\\n독일어교육과\\n스페인어과\\n중국언어문화학부\\n한국어교육과\\n이탈리아어과\\n중국외교통상학부\\n국제학부\\n포르투갈어과\\n일본언어문화학부\\n사회과학전공\\n네덜란드어과\\n융합일본지역학부\\nLD전공\\n스칸디나비아어과\\n정치외교학과\\nLT전공\\n말레이인도네시아어과\\n행정학과\\n서양어대학\\n아시아언어문화대학\\n중국어대학\\n일본어대학\\n사회과학\\n상경\\n경영\\n국제학부\\n사회과학전공\\n사범대학\\n교직\\n실용외국어\\n군입대\\n입영통지서\\n미비\\n미충족\\n등록휴학\\n휴학\\n전역일\\n증빙서류\\n'"
            ],
            "application/vnd.google.colaboratory.intrinsic+json": {
              "type": "string"
            }
          },
          "metadata": {},
          "execution_count": 21
        }
      ]
    },
    {
      "cell_type": "code",
      "source": [
        "data"
      ],
      "metadata": {
        "id": "Eqf50wgK1JTo",
        "colab": {
          "base_uri": "https://localhost:8080/",
          "height": 516
        },
        "outputId": "22d1ad5e-f857-4478-feb7-8184eb5ae447"
      },
      "execution_count": null,
      "outputs": [
        {
          "output_type": "execute_result",
          "data": {
            "text/plain": [
              "'가몽\\n가온\\n갓세븐\\n강새이\\n게임닉가\\n관우\\n귀여미\\n규\\n김유이\\n김준면\\n까까런\\n노컷\\n누너예\\n니노\\n다마고치\\n다이무스\\n대학생\\n데이브\\n도요토미\\n동운\\n동이\\n두주니\\n디시인사이드\\n디오\\n라몹\\n라스\\n라옵\\n멍구\\n메이든\\n명덕\\n명량\\n문민정부\\n미네\\n방엘리\\n병헌\\n붓다\\n비정상회담\\n빼빼로\\n삼풍\\n샤인온미\\n성식\\n성열\\n세라문\\n세라복\\n세종대왕\\n손권\\n손책\\n쇼미더머니\\n쇼챔\\n순규\\n스라소니\\n신동아\\n신쓰패밀리\\n신아라\\n아베\\n안상홍\\n안홍준\\n여누\\n여랑\\n여포\\n연합\\n오꾸닭\\n요섭\\n웃찾사\\n원식\\n유병언\\n유비\\n유이\\n윤기형\\n이나단\\n이명박\\n이완용\\n임창용\\n자괴\\n자니윤\\n자대련\\n자유\\n재중이\\n전교조\\n정윤회\\n제갈량\\n조자룡\\n조조\\n준면\\n지오디\\n지존파\\n진영오\\n차작가\\n차트\\n창섭\\n챠트\\n첸\\n코르사주\\n하무열\\n하용파쿠\\n혁재\\n현이\\n현태\\n혜미\\n한국외국어대학교\\n한국외대\\n안내\\\\종합정보시스템\\\\공고\\n이수\\n학기\\n대하여\\n아래\\n수강편람\\n이중전공\\n수강신청함\\n수강신청\\n예비수강신청\\n교무처장\\n수강료\\n등록기간\\n수강신청자\\n한하다\\n미수강신청자\\n납부불가\\n핫링크\\n고지서출력\\n가상계좌\\n붙임파일\\n모바일앱\\n내역\\n인터넷뱅킹\\n텔레뱅킹\\n개시일\\n신청\\n마감\\n마감일\\n수강취소\\n수강변경\\\\종합정보화면\\n계절학기\\n부분환불\\n계절학기\\\\학년도\\n접수일\\n학석사\\n학사\\n석사\\n연계\\n과정생\\n접수처\\n학사종합지원센터\\n양캠퍼스\\n통번역\\n이수\\n미배정\\n부전공\\\\여석\\n이수\\n지원\\n학사종합지원센터\\n한국예술종합학교\\n특성화\\n수강편람\\n실용외국어\\n공동교양\\n여석\\\\졸업\\n사정\\n결과\\n확정자\\n불가자\\n개강일\\n우리대학교\\n우리대학\\n안내문\\n학위\\n학위증\\n코로나바이러스\\nHUFS\\n양캠퍼스\\n서울캠퍼스\\n글로벌캠퍼스\\n서울글로벌캠퍼스\\n서울·글로벌캠퍼스\\n우리은행\\n단과대학\\n졸업시험\\n논문\\n제적\\n졸업요건\\n지역학사\\n지역전문가과정\\n수료졸업대기\\nELLT학과\\n영어학과\\n아랍어과\\n미디어커뮤니케이션학부\\n영어전공\\n영미문학문화학과\\n태국어과\\n경제학부\\nEICC학과\\n영어통번역학과\\n베트남어과\\n국제통상학과\\\\이란어과\\n경영학부\\n프랑스어학부\\n인도어과\\n영어교육과\\n독일어과\\n터키아제르바이잔어과\\n프랑스어교육과\\n노어과\\n몽골어과\\n독일어교육과\\n스페인어과\\n중국언어문화학부\\n한국어교육과\\n이탈리아어과\\n중국외교통상학부\\n국제학부\\n포르투갈어과\\n일본언어문화학부\\n사회과학전공\\n네덜란드어과\\n융합일본지역학부\\nLD전공\\n스칸디나비아어과\\n정치외교학과\\nLT전공\\n말레이인도네시아어과\\n행정학과\\n서양어대학\\n아시아언어문화대학\\n중국어대학\\n일본어대학\\n사회과학\\n상경\\n경영\\n국제학부\\n사회과학전공\\n사범대학\\n교직\\n실용외국어\\n군입대\\n입영통지서\\n미비\\n미충족\\n등록휴학\\n휴학\\n전역일\\n증빙서류\\n서울·글로벌캠퍼스\\n우리은행\\n단과대학\\n졸업시험\\n논문\\n제적\\n졸업요건\\n지역학사\\n지역전문가과정\\n수료졸업대기\\nELLT학과\\n영어학과\\n아랍어과\\n미디어커뮤니케이션학부\\n영어전공\\n영미문학문화학과\\n태국어과\\n경제학부\\nEICC학과\\n영어통번역학과\\n베트남어과\\n국제통상학과\\\\이란어과\\n경영학부\\n프랑스어학부\\n인도어과\\n영어교육과\\n독일어과\\n터키아제르바이잔어과\\n프랑스어교육과\\n노어과\\n몽골어과\\n독일어교육과\\n스페인어과\\n중국언어문화학부\\n한국어교육과\\n이탈리아어과\\n중국외교통상학부\\n국제학부\\n포르투갈어과\\n일본언어문화학부\\n사회과학전공\\n네덜란드어과\\n융합일본지역학부\\nLD전공\\n스칸디나비아어과\\n정치외교학과\\nLT전공\\n말레이인도네시아어과\\n행정학과\\n서양어대학\\n아시아언어문화대학\\n중국어대학\\n일본어대학\\n사회과학\\n상경\\n경영\\n국제학부\\n사회과학전공\\n사범대학\\n교직\\n실용외국어\\n군입대\\n입영통지서\\n미비\\n미충족\\n등록휴학\\n휴학\\n전역일\\n증빙서류\\n'"
            ],
            "application/vnd.google.colaboratory.intrinsic+json": {
              "type": "string"
            }
          },
          "metadata": {},
          "execution_count": 22
        }
      ]
    },
    {
      "cell_type": "code",
      "source": [
        "!jar cvf ../open-korean-text-2.1.0.jar *"
      ],
      "metadata": {
        "id": "G3Zwecq30Kny",
        "colab": {
          "base_uri": "https://localhost:8080/"
        },
        "outputId": "b2339001-cbd0-4ded-bda5-c0232d0a9984"
      },
      "execution_count": null,
      "outputs": [
        {
          "output_type": "stream",
          "name": "stdout",
          "text": [
            "added manifest\n",
            "ignoring entry META-INF/\n",
            "ignoring entry META-INF/MANIFEST.MF\n",
            "adding: META-INF/maven/(in = 0) (out= 0)(stored 0%)\n",
            "adding: META-INF/maven/org.openkoreantext/(in = 0) (out= 0)(stored 0%)\n",
            "adding: META-INF/maven/org.openkoreantext/open-korean-text/(in = 0) (out= 0)(stored 0%)\n",
            "adding: META-INF/maven/org.openkoreantext/open-korean-text/pom.properties(in = 119) (out= 110)(deflated 7%)\n",
            "adding: META-INF/maven/org.openkoreantext/open-korean-text/pom.xml(in = 9127) (out= 2208)(deflated 75%)\n",
            "adding: org/(in = 0) (out= 0)(stored 0%)\n",
            "adding: org/openkoreantext/(in = 0) (out= 0)(stored 0%)\n",
            "adding: org/openkoreantext/processor/(in = 0) (out= 0)(stored 0%)\n",
            "adding: org/openkoreantext/processor/tokenizer/(in = 0) (out= 0)(stored 0%)\n",
            "adding: org/openkoreantext/processor/tokenizer/Sentence.class(in = 5985) (out= 3125)(deflated 47%)\n",
            "adding: org/openkoreantext/processor/tokenizer/KoreanSentenceSplitter.class(in = 1092) (out= 712)(deflated 34%)\n",
            "adding: org/openkoreantext/processor/tokenizer/KoreanDetokenizer.class(in = 1660) (out= 1133)(deflated 31%)\n",
            "adding: org/openkoreantext/processor/tokenizer/KoreanChunker$ChunkMatch$.class(in = 2893) (out= 1136)(deflated 60%)\n",
            "adding: org/openkoreantext/processor/tokenizer/KoreanTokenizer$.class(in = 25564) (out= 8451)(deflated 66%)\n",
            "adding: org/openkoreantext/processor/tokenizer/KoreanSentenceSplitter$.class(in = 3359) (out= 1497)(deflated 55%)\n",
            "adding: org/openkoreantext/processor/tokenizer/TokenizerProfile.class(in = 16403) (out= 6666)(deflated 59%)\n",
            "adding: org/openkoreantext/processor/tokenizer/KoreanTokenizer.class(in = 6968) (out= 4384)(deflated 37%)\n",
            "adding: org/openkoreantext/processor/tokenizer/TokenizerProfile$.class(in = 8169) (out= 2408)(deflated 70%)\n",
            "adding: org/openkoreantext/processor/tokenizer/KoreanChunk.class(in = 5611) (out= 2907)(deflated 48%)\n",
            "adding: org/openkoreantext/processor/tokenizer/ParsedChunk$.class(in = 3973) (out= 1500)(deflated 62%)\n",
            "adding: org/openkoreantext/processor/tokenizer/KoreanChunker$.class(in = 17975) (out= 6790)(deflated 62%)\n",
            "adding: org/openkoreantext/processor/tokenizer/KoreanTokenizer$KoreanToken$.class(in = 3976) (out= 1402)(deflated 64%)\n",
            "adding: org/openkoreantext/processor/tokenizer/KoreanDetokenizer$.class(in = 9889) (out= 4174)(deflated 57%)\n",
            "adding: org/openkoreantext/processor/tokenizer/Sentence$.class(in = 2339) (out= 1012)(deflated 56%)\n",
            "adding: org/openkoreantext/processor/tokenizer/ParsedChunk.class(in = 20517) (out= 8914)(deflated 56%)\n",
            "adding: org/openkoreantext/processor/tokenizer/KoreanTokenizer$PossibleTrie$.class(in = 2862) (out= 1067)(deflated 62%)\n",
            "adding: org/openkoreantext/processor/tokenizer/KoreanChunker.class(in = 4232) (out= 2887)(deflated 31%)\n",
            "adding: org/openkoreantext/processor/tokenizer/KoreanTokenizer$PossibleTrie.class(in = 3399) (out= 1429)(deflated 57%)\n",
            "adding: org/openkoreantext/processor/tokenizer/KoreanChunker$ChunkMatch.class(in = 4043) (out= 1704)(deflated 57%)\n",
            "adding: org/openkoreantext/processor/tokenizer/KoreanTokenizer$CandidateParse.class(in = 4616) (out= 1645)(deflated 64%)\n",
            "adding: org/openkoreantext/processor/tokenizer/KoreanTokenizer$CandidateParse$.class(in = 3459) (out= 1111)(deflated 67%)\n",
            "adding: org/openkoreantext/processor/tokenizer/KoreanTokenizer$KoreanToken.class(in = 6336) (out= 2633)(deflated 58%)\n",
            "adding: org/openkoreantext/processor/tokenizer/KoreanChunk$.class(in = 2361) (out= 1010)(deflated 57%)\n",
            "adding: org/openkoreantext/processor/normalizer/(in = 0) (out= 0)(stored 0%)\n",
            "adding: org/openkoreantext/processor/normalizer/KoreanNormalizer$Segment.class(in = 3470) (out= 1422)(deflated 59%)\n",
            "adding: org/openkoreantext/processor/normalizer/KoreanNormalizer$.class(in = 11553) (out= 5102)(deflated 55%)\n",
            "adding: org/openkoreantext/processor/normalizer/KoreanNormalizer$Segment$.class(in = 2577) (out= 989)(deflated 61%)\n",
            "adding: org/openkoreantext/processor/normalizer/KoreanNormalizer.class(in = 2980) (out= 2181)(deflated 26%)\n",
            "adding: org/openkoreantext/processor/KoreanTokenJava.class(in = 1976) (out= 931)(deflated 52%)\n",
            "adding: org/openkoreantext/processor/qa/(in = 0) (out= 0)(stored 0%)\n",
            "adding: org/openkoreantext/processor/qa/BatchTokenizeTweets$ParseTime.class(in = 3153) (out= 1446)(deflated 54%)\n",
            "adding: org/openkoreantext/processor/qa/BatchGetUnknownNouns.class(in = 2307) (out= 1702)(deflated 26%)\n",
            "adding: org/openkoreantext/processor/qa/BatchTokenizeTweets$ParseTime$.class(in = 2418) (out= 1015)(deflated 58%)\n",
            "adding: org/openkoreantext/processor/qa/KoreanProcessorSandbox.class(in = 824) (out= 575)(deflated 30%)\n",
            "adding: org/openkoreantext/processor/qa/BatchGetUnknownNouns$.class(in = 8751) (out= 3532)(deflated 59%)\n",
            "adding: org/openkoreantext/processor/qa/BatchGetUnknownNouns$ChunkWithTweet.class(in = 3080) (out= 1338)(deflated 56%)\n",
            "adding: org/openkoreantext/processor/qa/BatchTokenizeTweets$.class(in = 10867) (out= 4401)(deflated 59%)\n",
            "adding: org/openkoreantext/processor/qa/BatchGetUnknownNouns$ChunkWithTweet$.class(in = 2376) (out= 952)(deflated 59%)\n",
            "adding: org/openkoreantext/processor/qa/BatchTokenizeTweets.class(in = 2720) (out= 2031)(deflated 25%)\n",
            "adding: org/openkoreantext/processor/qa/KoreanProcessorSandbox$.class(in = 1464) (out= 823)(deflated 43%)\n",
            "adding: org/openkoreantext/processor/tools/(in = 0) (out= 0)(stored 0%)\n",
            "adding: org/openkoreantext/processor/tools/DeduplicateAndSortDictionaries$.class(in = 7154) (out= 3133)(deflated 56%)\n",
            "adding: org/openkoreantext/processor/tools/CreateConjugationExamples$ConjugationExample$.class(in = 2787) (out= 997)(deflated 64%)\n",
            "adding: org/openkoreantext/processor/tools/CreateParsingExamples.class(in = 2427) (out= 1732)(deflated 28%)\n",
            "adding: org/openkoreantext/processor/tools/CreateConjugationExamples$.class(in = 5881) (out= 2385)(deflated 59%)\n",
            "adding: org/openkoreantext/processor/tools/CreatePhraseExtractionExamples$.class(in = 5989) (out= 2472)(deflated 58%)\n",
            "adding: org/openkoreantext/processor/tools/UpdateAllTheExamples$.class(in = 4383) (out= 1794)(deflated 59%)\n",
            "adding: org/openkoreantext/processor/tools/CreateConjugationExamples.class(in = 2367) (out= 1659)(deflated 29%)\n",
            "adding: org/openkoreantext/processor/tools/CreateParsingExamples$ParsingExample.class(in = 3718) (out= 1429)(deflated 61%)\n",
            "adding: org/openkoreantext/processor/tools/CreateParsingExamples$ParsingExample$.class(in = 2842) (out= 1010)(deflated 64%)\n",
            "adding: org/openkoreantext/processor/tools/CreateConjugationExamples$ConjugationExample.class(in = 3569) (out= 1415)(deflated 60%)\n",
            "adding: org/openkoreantext/processor/tools/CreateParsingExamples$.class(in = 5517) (out= 2327)(deflated 57%)\n",
            "adding: org/openkoreantext/processor/tools/UpdateAllTheExamples.class(in = 1089) (out= 756)(deflated 30%)\n",
            "adding: org/openkoreantext/processor/tools/CreateChunkParsingCandidates.class(in = 833) (out= 566)(deflated 32%)\n",
            "adding: org/openkoreantext/processor/tools/CreatePhraseExtractionExamples$PhraseExample.class(in = 3825) (out= 1443)(deflated 62%)\n",
            "adding: org/openkoreantext/processor/tools/CreatePhraseExtractionExamples$PhraseExample$.class(in = 2974) (out= 1020)(deflated 65%)\n",
            "adding: org/openkoreantext/processor/tools/DeduplicateAndSortDictionaries.class(in = 1117) (out= 823)(deflated 26%)\n",
            "adding: org/openkoreantext/processor/tools/CreatePhraseExtractionExamples.class(in = 2516) (out= 1784)(deflated 29%)\n",
            "adding: org/openkoreantext/processor/tools/Runnable.class(in = 964) (out= 694)(deflated 28%)\n",
            "adding: org/openkoreantext/processor/tools/CreateChunkParsingCandidates$.class(in = 5487) (out= 2305)(deflated 57%)\n",
            "adding: org/openkoreantext/processor/phrase_extractor/(in = 0) (out= 0)(stored 0%)\n",
            "adding: org/openkoreantext/processor/phrase_extractor/KoreanPhraseExtractor$KoreanPhrase.class(in = 6942) (out= 2591)(deflated 62%)\n",
            "adding: org/openkoreantext/processor/phrase_extractor/KoreanPhraseExtractor.class(in = 6005) (out= 3967)(deflated 33%)\n",
            "adding: org/openkoreantext/processor/phrase_extractor/KoreanPhraseExtractor$PhraseBuffer$.class(in = 3564) (out= 1087)(deflated 69%)\n",
            "adding: org/openkoreantext/processor/phrase_extractor/KoreanPhraseExtractor$PhraseBuffer.class(in = 4857) (out= 1609)(deflated 66%)\n",
            "adding: org/openkoreantext/processor/phrase_extractor/KoreanPhraseExtractor$.class(in = 37855) (out= 12404)(deflated 67%)\n",
            "adding: org/openkoreantext/processor/phrase_extractor/KoreanPhraseExtractor$KoreanPhrase$.class(in = 3358) (out= 1148)(deflated 65%)\n",
            "adding: org/openkoreantext/processor/OpenKoreanTextProcessor.class(in = 4428) (out= 1997)(deflated 54%)\n",
            "adding: org/openkoreantext/processor/KoreanPosJava.class(in = 2457) (out= 1241)(deflated 49%)\n",
            "adding: org/openkoreantext/processor/OpenKoreanTextProcessorJava.class(in = 5901) (out= 1995)(deflated 66%)\n",
            "adding: org/openkoreantext/processor/OpenKoreanTextProcessor$.class(in = 7716) (out= 2400)(deflated 68%)\n",
            "adding: org/openkoreantext/processor/util/(in = 0) (out= 0)(stored 0%)\n",
            "adding: org/openkoreantext/processor/util/Hangul.class(in = 3981) (out= 2731)(deflated 31%)\n",
            "adding: org/openkoreantext/processor/util/Hangul$DoubleCoda$.class(in = 2155) (out= 963)(deflated 55%)\n",
            "adding: org/openkoreantext/processor/util/CharacterUtils$Java4CharacterUtils.class(in = 2577) (out= 1282)(deflated 50%)\n",
            "adding: org/openkoreantext/processor/util/CharArrayMap$UnmodifiableCharArrayMap.class(in = 3062) (out= 859)(deflated 71%)\n",
            "adding: org/openkoreantext/processor/util/freq/(in = 0) (out= 0)(stored 0%)\n",
            "adding: org/openkoreantext/processor/util/freq/entity-freq.txt.gz(in = 385753) (out= 385873)(deflated 0%)\n",
            "adding: org/openkoreantext/processor/util/KoreanSubstantive$.class(in = 14990) (out= 6195)(deflated 58%)\n",
            "adding: org/openkoreantext/processor/util/Hangul$HangulChar.class(in = 3185) (out= 1421)(deflated 55%)\n",
            "adding: org/openkoreantext/processor/util/KoreanConjugation$.class(in = 22440) (out= 7972)(deflated 64%)\n",
            "adding: org/openkoreantext/processor/util/CharArrayMap$EntryIterator.class(in = 3118) (out= 1270)(deflated 59%)\n",
            "adding: org/openkoreantext/processor/util/example_chunks.txt(in = 522978) (out= 163253)(deflated 68%)\n",
            "adding: org/openkoreantext/processor/util/KoreanPos$.class(in = 12173) (out= 4669)(deflated 61%)\n",
            "adding: org/openkoreantext/processor/util/verb/(in = 0) (out= 0)(stored 0%)\n",
            "adding: org/openkoreantext/processor/util/verb/pre_eomi.txt(in = 285) (out= 185)(deflated 35%)\n",
            "adding: org/openkoreantext/processor/util/verb/eomi.txt(in = 12618) (out= 3556)(deflated 71%)\n",
            "adding: org/openkoreantext/processor/util/verb/verb_prefix.txt(in = 47) (out= 52)(deflated -10%)\n",
            "adding: org/openkoreantext/processor/util/verb/verb.txt(in = 32758) (out= 10723)(deflated 67%)\n",
            "adding: org/openkoreantext/processor/util/adjective/(in = 0) (out= 0)(stored 0%)\n",
            "adding: org/openkoreantext/processor/util/adjective/adjective.txt(in = 27250) (out= 9357)(deflated 65%)\n",
            "adding: org/openkoreantext/processor/util/Hangul$DoubleCoda.class(in = 2930) (out= 1348)(deflated 53%)\n",
            "adding: org/openkoreantext/processor/util/substantives/(in = 0) (out= 0)(stored 0%)\n",
            "adding: org/openkoreantext/processor/util/substantives/given_names.txt(in = 1407) (out= 609)(deflated 56%)\n",
            "adding: org/openkoreantext/processor/util/substantives/suffix.txt(in = 325) (out= 224)(deflated 31%)\n",
            "adding: org/openkoreantext/processor/util/substantives/family_names.txt(in = 299) (out= 197)(deflated 34%)\n",
            "adding: org/openkoreantext/processor/util/substantives/modifier.txt(in = 3395) (out= 1346)(deflated 60%)\n",
            "adding: org/openkoreantext/processor/util/example_tweets.txt(in = 86271) (out= 38336)(deflated 55%)\n",
            "adding: org/openkoreantext/processor/util/KoreanPos$KoreanPosTrie.class(in = 4390) (out= 1610)(deflated 63%)\n",
            "adding: org/openkoreantext/processor/util/KoreanPos.class(in = 6890) (out= 3877)(deflated 43%)\n",
            "adding: org/openkoreantext/processor/util/CharArrayMap$EmptyCharArrayMap.class(in = 2053) (out= 725)(deflated 64%)\n",
            "adding: org/openkoreantext/processor/util/CharArrayMap$EntrySet.class(in = 2788) (out= 1181)(deflated 57%)\n",
            "adding: org/openkoreantext/processor/util/CharArrayMap$MapEntry.class(in = 2433) (out= 1078)(deflated 55%)\n",
            "adding: org/openkoreantext/processor/util/CharArraySet.class(in = 4886) (out= 1944)(deflated 60%)\n",
            "adding: org/openkoreantext/processor/util/KoreanPos$KoreanPosTrie$.class(in = 3157) (out= 1089)(deflated 65%)\n",
            "adding: org/openkoreantext/processor/util/KoreanSubstantive.class(in = 1336) (out= 1087)(deflated 18%)\n",
            "adding: org/openkoreantext/processor/util/typos/(in = 0) (out= 0)(stored 0%)\n",
            "adding: org/openkoreantext/processor/util/typos/typos.txt(in = 5146) (out= 2300)(deflated 55%)\n",
            "adding: org/openkoreantext/processor/util/CharacterUtils$Java5CharacterUtils.class(in = 2824) (out= 1393)(deflated 50%)\n",
            "adding: org/openkoreantext/processor/util/KoreanDictionaryProvider$.class(in = 20197) (out= 7488)(deflated 62%)\n",
            "adding: org/openkoreantext/processor/util/adverb/(in = 0) (out= 0)(stored 0%)\n",
            "adding: org/openkoreantext/processor/util/adverb/adverb.txt(in = 65572) (out= 18741)(deflated 71%)\n",
            "adding: org/openkoreantext/processor/util/KoreanConjugation.class(in = 1550) (out= 1237)(deflated 20%)\n",
            "adding: org/openkoreantext/processor/util/CharArrayMap.class(in = 11923) (out= 4878)(deflated 59%)\n",
            "adding: org/openkoreantext/processor/util/Hangul$.class(in = 7625) (out= 3114)(deflated 59%)\n",
            "adding: org/openkoreantext/processor/util/CharArrayMap$1.class(in = 1531) (out= 571)(deflated 62%)\n",
            "adding: org/openkoreantext/processor/util/KoreanDictionaryProvider.class(in = 3430) (out= 2003)(deflated 41%)\n",
            "adding: org/openkoreantext/processor/util/Hangul$HangulChar$.class(in = 2389) (out= 1022)(deflated 57%)\n",
            "adding: org/openkoreantext/processor/util/auxiliary/(in = 0) (out= 0)(stored 0%)\n",
            "adding: org/openkoreantext/processor/util/auxiliary/conjunctions.txt(in = 398) (out= 189)(deflated 52%)\n",
            "adding: org/openkoreantext/processor/util/auxiliary/determiner.txt(in = 63) (out= 63)(deflated 0%)\n",
            "adding: org/openkoreantext/processor/util/auxiliary/exclamation.txt(in = 1759) (out= 757)(deflated 56%)\n",
            "adding: org/openkoreantext/processor/util/CharacterUtils$CharacterBuffer.class(in = 1634) (out= 659)(deflated 59%)\n",
            "adding: org/openkoreantext/processor/util/josa/(in = 0) (out= 0)(stored 0%)\n",
            "adding: org/openkoreantext/processor/util/josa/josa.txt(in = 5219) (out= 1476)(deflated 71%)\n",
            "adding: org/openkoreantext/processor/util/CharacterUtils.class(in = 3703) (out= 1716)(deflated 53%)\n",
            "adding: org/openkoreantext/processor/util/noun/(in = 0) (out= 0)(stored 0%)\n",
            "adding: org/openkoreantext/processor/util/noun/slangs.txt(in = 1565) (out= 921)(deflated 41%)\n",
            "adding: org/openkoreantext/processor/util/noun/nouns.txt(in = 219319) (out= 84134)(deflated 61%)\n",
            "adding: org/openkoreantext/processor/util/noun/names.txt(in = 4116) (out= 1495)(deflated 63%)\n",
            "adding: org/openkoreantext/processor/util/noun/spam.txt(in = 202) (out= 157)(deflated 22%)\n",
            "adding: org/openkoreantext/processor/util/noun/twitter.txt(in = 254) (out= 162)(deflated 36%)\n",
            "adding: org/openkoreantext/processor/util/noun/congress.txt(in = 26494) (out= 9351)(deflated 64%)\n",
            "adding: org/openkoreantext/processor/util/noun/kpop.txt(in = 5371) (out= 2495)(deflated 53%)\n",
            "adding: org/openkoreantext/processor/util/noun/profane.txt(in = 569) (out= 337)(deflated 40%)\n",
            "adding: org/openkoreantext/processor/util/noun/entities.txt(in = 108142) (out= 44095)(deflated 59%)\n",
            "adding: org/openkoreantext/processor/util/noun/wikipedia_title_nouns.txt(in = 1971964) (out= 686708)(deflated 65%)\n",
            "adding: org/openkoreantext/processor/util/noun/company_names.txt(in = 1631) (out= 905)(deflated 44%)\n",
            "adding: org/openkoreantext/processor/util/noun/bible.txt(in = 2032) (out= 1005)(deflated 50%)\n",
            "adding: org/openkoreantext/processor/util/noun/pokemon.txt(in = 1781) (out= 965)(deflated 45%)\n",
            "adding: org/openkoreantext/processor/util/noun/lol.txt(in = 1337) (out= 744)(deflated 44%)\n",
            "adding: org/openkoreantext/processor/util/noun/foreign.txt(in = 10485) (out= 4686)(deflated 55%)\n",
            "adding: org/openkoreantext/processor/util/noun/geolocations.txt(in = 5423) (out= 2267)(deflated 58%)\n",
            "adding: org/openkoreantext/processor/stemmer/(in = 0) (out= 0)(stored 0%)\n",
            "adding: org/openkoreantext/processor/stemmer/KoreanStemmer$.class(in = 7044) (out= 2892)(deflated 58%)\n",
            "adding: org/openkoreantext/processor/stemmer/KoreanStemmer.class(in = 1439) (out= 972)(deflated 32%)\n"
          ]
        }
      ]
    },
    {
      "cell_type": "code",
      "source": [
        "import os\n",
        "from konlpy.tag import Okt\n",
        "new_dir = '/content'\n",
        "\n",
        "# 작업 디렉토리 변경\n",
        "os.chdir(new_dir)\n",
        "okt = Okt()\n",
        "print(okt.nouns('송이레만세')) # ['송이레만세']\n",
        "print(okt.morphs('김재경자경')) # ['김재경자경']\n",
        "print(okt.morphs(\"한국외국어대학교\"))"
      ],
      "metadata": {
        "id": "2_BqsD2Cw-V8",
        "colab": {
          "base_uri": "https://localhost:8080/"
        },
        "outputId": "e3a66e31-d523-451b-a11c-cadff594a6fc"
      },
      "execution_count": null,
      "outputs": [
        {
          "output_type": "stream",
          "name": "stdout",
          "text": [
            "['송이', '레만', '세']\n",
            "['김재경', '자', '경']\n",
            "['한국외국어대학교']\n"
          ]
        }
      ]
    },
    {
      "cell_type": "code",
      "source": [
        "pwd"
      ],
      "metadata": {
        "id": "ExjXuTg8zjmD",
        "colab": {
          "base_uri": "https://localhost:8080/",
          "height": 35
        },
        "outputId": "182754f6-34ba-4370-ba6d-46a21ece6fc7"
      },
      "execution_count": null,
      "outputs": [
        {
          "output_type": "execute_result",
          "data": {
            "text/plain": [
              "'/content'"
            ],
            "application/vnd.google.colaboratory.intrinsic+json": {
              "type": "string"
            }
          },
          "metadata": {},
          "execution_count": 25
        }
      ]
    },
    {
      "cell_type": "markdown",
      "source": [
        "# ---------------------------------------------------------- 사전 수정하는 법 --------------------------------------------------\n",
        "\n",
        "# ------------------------- 수연님 공지 병합하기 ----------------------\n",
        "- 하단 계속"
      ],
      "metadata": {
        "id": "rRnZMdL62Gkf"
      }
    },
    {
      "cell_type": "code",
      "source": [
        "import pandas as pd"
      ],
      "metadata": {
        "id": "DmAyMDdj0_wj"
      },
      "execution_count": null,
      "outputs": []
    },
    {
      "cell_type": "code",
      "source": [
        "gongji1_copy"
      ],
      "metadata": {
        "id": "bF8XGJfnZWUS"
      },
      "execution_count": null,
      "outputs": []
    },
    {
      "cell_type": "code",
      "source": [
        "len(gongji1_copy)"
      ],
      "metadata": {
        "colab": {
          "base_uri": "https://localhost:8080/"
        },
        "id": "p0WPIYpMZkAn",
        "outputId": "fa0dc5b0-3386-4a44-9427-7bd1920ad47d"
      },
      "execution_count": null,
      "outputs": [
        {
          "output_type": "execute_result",
          "data": {
            "text/plain": [
              "1677"
            ]
          },
          "metadata": {},
          "execution_count": 19
        }
      ]
    },
    {
      "cell_type": "code",
      "source": [],
      "metadata": {
        "id": "QARiUn1ieO9R"
      },
      "execution_count": null,
      "outputs": []
    },
    {
      "cell_type": "code",
      "source": [
        "gongji_2.loc[150]"
      ],
      "metadata": {
        "colab": {
          "base_uri": "https://localhost:8080/"
        },
        "id": "x0U-2ewjdI5U",
        "outputId": "314c71b0-9c5c-4f6d-c4fe-fc88af7678e8"
      },
      "execution_count": null,
      "outputs": [
        {
          "output_type": "execute_result",
          "data": {
            "text/plain": [
              "index                                                   1977\n",
              "date                                              2020-10-16\n",
              "title                          코로나19 발병현황 및 행동지침(2020.10.16)\n",
              "content    \\n코로나19 발병현황 및 행동지침(2020.10.16)1. 일일 확진자 현황 (2...\n",
              "Name: 150, dtype: object"
            ]
          },
          "metadata": {},
          "execution_count": 21
        }
      ]
    },
    {
      "cell_type": "code",
      "source": [
        "gongji_3 =  pd.read_csv('./drive/MyDrive/csv모음/gongji_fix/noti_gongji3.csv')\n",
        "len(gongji_3)"
      ],
      "metadata": {
        "colab": {
          "base_uri": "https://localhost:8080/"
        },
        "id": "CUPkezFxeS7K",
        "outputId": "e01826b4-d3fb-4645-953f-f917ab920d80"
      },
      "execution_count": null,
      "outputs": [
        {
          "output_type": "execute_result",
          "data": {
            "text/plain": [
              "352"
            ]
          },
          "metadata": {},
          "execution_count": 23
        }
      ]
    },
    {
      "cell_type": "code",
      "source": [
        "gongji_1 = pd.read_csv('./drive/MyDrive/csv모음/gongji_fix/merge_file_final(병합전).csv')\n",
        "len(gongji_1)"
      ],
      "metadata": {
        "colab": {
          "base_uri": "https://localhost:8080/"
        },
        "id": "p43OISp3ed5M",
        "outputId": "81ea6fe6-193a-4838-f49b-02fe18774450"
      },
      "execution_count": null,
      "outputs": [
        {
          "output_type": "execute_result",
          "data": {
            "text/plain": [
              "4590"
            ]
          },
          "metadata": {},
          "execution_count": 30
        }
      ]
    },
    {
      "cell_type": "code",
      "source": [
        "# 세 개의 DataFrame을 하나로 병합\n",
        "merged_df = pd.concat([gongji_1, gongji_2, gongji_3], ignore_index=True)\n",
        "\n",
        "# 병합된 DataFrame을 새로운 인코딩으로 저장\n",
        "merged_df.to_csv('merged_gongji_test.csv', encoding='utf-8-sig', index=False)\n",
        "\n",
        "len(merged_df)"
      ],
      "metadata": {
        "colab": {
          "base_uri": "https://localhost:8080/"
        },
        "id": "3eiBEZnXe32I",
        "outputId": "192f82ba-ae4f-459e-fe8c-f6bbf5c30210"
      },
      "execution_count": null,
      "outputs": [
        {
          "output_type": "execute_result",
          "data": {
            "text/plain": [
              "6708"
            ]
          },
          "metadata": {},
          "execution_count": 31
        }
      ]
    },
    {
      "cell_type": "code",
      "source": [
        "test = pd.read_csv(\"/content/merged_gongji_test.csv\")"
      ],
      "metadata": {
        "id": "-Xl2ujsGgCfx"
      },
      "execution_count": null,
      "outputs": []
    },
    {
      "cell_type": "code",
      "source": [
        "test.loc[5000]"
      ],
      "metadata": {
        "colab": {
          "base_uri": "https://localhost:8080/"
        },
        "id": "-LW_wqd2gIB_",
        "outputId": "d824cf20-29dd-4b1d-e6af-957c43f4ac7e"
      },
      "execution_count": null,
      "outputs": [
        {
          "output_type": "execute_result",
          "data": {
            "text/plain": [
              "index                                                   1717\n",
              "date                                              2020-06-16\n",
              "title                                  외국인유학생회(GSA) 신입 스탭 모집\n",
              "content    \\n\\n\\n외국인유학생회(GSA) 신입 스탭 모집\\n\\n\\n국제교류처 산하 외국인유...\n",
              "Name: 5000, dtype: object"
            ]
          },
          "metadata": {},
          "execution_count": 37
        }
      ]
    },
    {
      "cell_type": "markdown",
      "source": [
        "# 번역기 사용하여 외국어처리하기\n"
      ],
      "metadata": {
        "id": "sZoO8rVX8FJg"
      }
    },
    {
      "cell_type": "code",
      "source": [
        "!pip install googletrans==3.1.0a0\n",
        "\n",
        "# 한국어, 영어 문자만 남기기\n",
        "from googletrans import Translator\n",
        "\n",
        "def clean_text(text):\n",
        "    translator = Translator()\n",
        "    detected = translator.detect(text)\n",
        "    lang = detected.lang\n",
        "    if lang in ['ko', 'en']:\n",
        "        return text\n",
        "    else:\n",
        "        return ''"
      ],
      "metadata": {
        "id": "NXVph1oBgIob",
        "colab": {
          "base_uri": "https://localhost:8080/"
        },
        "outputId": "6f9efcea-3782-403d-fca6-ff1d5ac8435d"
      },
      "execution_count": null,
      "outputs": [
        {
          "output_type": "stream",
          "name": "stdout",
          "text": [
            "Collecting googletrans==3.1.0a0\n",
            "  Downloading googletrans-3.1.0a0.tar.gz (19 kB)\n",
            "  Preparing metadata (setup.py) ... \u001b[?25l\u001b[?25hdone\n",
            "Collecting httpx==0.13.3 (from googletrans==3.1.0a0)\n",
            "  Downloading httpx-0.13.3-py3-none-any.whl (55 kB)\n",
            "\u001b[2K     \u001b[90m━━━━━━━━━━━━━━━━━━━━━━━━━━━━━━━━━━━━━━━━\u001b[0m \u001b[32m55.1/55.1 kB\u001b[0m \u001b[31m1.5 MB/s\u001b[0m eta \u001b[36m0:00:00\u001b[0m\n",
            "\u001b[?25hRequirement already satisfied: certifi in /usr/local/lib/python3.10/dist-packages (from httpx==0.13.3->googletrans==3.1.0a0) (2024.2.2)\n",
            "Collecting hstspreload (from httpx==0.13.3->googletrans==3.1.0a0)\n",
            "  Downloading hstspreload-2024.5.1-py3-none-any.whl (1.1 MB)\n",
            "\u001b[2K     \u001b[90m━━━━━━━━━━━━━━━━━━━━━━━━━━━━━━━━━━━━━━━━\u001b[0m \u001b[32m1.1/1.1 MB\u001b[0m \u001b[31m20.2 MB/s\u001b[0m eta \u001b[36m0:00:00\u001b[0m\n",
            "\u001b[?25hRequirement already satisfied: sniffio in /usr/local/lib/python3.10/dist-packages (from httpx==0.13.3->googletrans==3.1.0a0) (1.3.1)\n",
            "Collecting chardet==3.* (from httpx==0.13.3->googletrans==3.1.0a0)\n",
            "  Downloading chardet-3.0.4-py2.py3-none-any.whl (133 kB)\n",
            "\u001b[2K     \u001b[90m━━━━━━━━━━━━━━━━━━━━━━━━━━━━━━━━━━━━━━━━\u001b[0m \u001b[32m133.4/133.4 kB\u001b[0m \u001b[31m12.2 MB/s\u001b[0m eta \u001b[36m0:00:00\u001b[0m\n",
            "\u001b[?25hCollecting idna==2.* (from httpx==0.13.3->googletrans==3.1.0a0)\n",
            "  Downloading idna-2.10-py2.py3-none-any.whl (58 kB)\n",
            "\u001b[2K     \u001b[90m━━━━━━━━━━━━━━━━━━━━━━━━━━━━━━━━━━━━━━━━\u001b[0m \u001b[32m58.8/58.8 kB\u001b[0m \u001b[31m6.1 MB/s\u001b[0m eta \u001b[36m0:00:00\u001b[0m\n",
            "\u001b[?25hCollecting rfc3986<2,>=1.3 (from httpx==0.13.3->googletrans==3.1.0a0)\n",
            "  Downloading rfc3986-1.5.0-py2.py3-none-any.whl (31 kB)\n",
            "Collecting httpcore==0.9.* (from httpx==0.13.3->googletrans==3.1.0a0)\n",
            "  Downloading httpcore-0.9.1-py3-none-any.whl (42 kB)\n",
            "\u001b[2K     \u001b[90m━━━━━━━━━━━━━━━━━━━━━━━━━━━━━━━━━━━━━━━━\u001b[0m \u001b[32m42.6/42.6 kB\u001b[0m \u001b[31m4.7 MB/s\u001b[0m eta \u001b[36m0:00:00\u001b[0m\n",
            "\u001b[?25hCollecting h11<0.10,>=0.8 (from httpcore==0.9.*->httpx==0.13.3->googletrans==3.1.0a0)\n",
            "  Downloading h11-0.9.0-py2.py3-none-any.whl (53 kB)\n",
            "\u001b[2K     \u001b[90m━━━━━━━━━━━━━━━━━━━━━━━━━━━━━━━━━━━━━━━━\u001b[0m \u001b[32m53.6/53.6 kB\u001b[0m \u001b[31m6.3 MB/s\u001b[0m eta \u001b[36m0:00:00\u001b[0m\n",
            "\u001b[?25hCollecting h2==3.* (from httpcore==0.9.*->httpx==0.13.3->googletrans==3.1.0a0)\n",
            "  Downloading h2-3.2.0-py2.py3-none-any.whl (65 kB)\n",
            "\u001b[2K     \u001b[90m━━━━━━━━━━━━━━━━━━━━━━━━━━━━━━━━━━━━━━━━\u001b[0m \u001b[32m65.0/65.0 kB\u001b[0m \u001b[31m8.6 MB/s\u001b[0m eta \u001b[36m0:00:00\u001b[0m\n",
            "\u001b[?25hCollecting hyperframe<6,>=5.2.0 (from h2==3.*->httpcore==0.9.*->httpx==0.13.3->googletrans==3.1.0a0)\n",
            "  Downloading hyperframe-5.2.0-py2.py3-none-any.whl (12 kB)\n",
            "Collecting hpack<4,>=3.0 (from h2==3.*->httpcore==0.9.*->httpx==0.13.3->googletrans==3.1.0a0)\n",
            "  Downloading hpack-3.0.0-py2.py3-none-any.whl (38 kB)\n",
            "Building wheels for collected packages: googletrans\n",
            "  Building wheel for googletrans (setup.py) ... \u001b[?25l\u001b[?25hdone\n",
            "  Created wheel for googletrans: filename=googletrans-3.1.0a0-py3-none-any.whl size=16353 sha256=b7caea3f3653e03523513809b9f8935483088e1dcc9b8ea50809fc23d84f87d1\n",
            "  Stored in directory: /root/.cache/pip/wheels/50/5d/3c/8477d0af4ca2b8b1308812c09f1930863caeebc762fe265a95\n",
            "Successfully built googletrans\n",
            "Installing collected packages: rfc3986, hyperframe, hpack, h11, chardet, idna, hstspreload, h2, httpcore, httpx, googletrans\n",
            "  Attempting uninstall: chardet\n",
            "    Found existing installation: chardet 5.2.0\n",
            "    Uninstalling chardet-5.2.0:\n",
            "      Successfully uninstalled chardet-5.2.0\n",
            "  Attempting uninstall: idna\n",
            "    Found existing installation: idna 3.7\n",
            "    Uninstalling idna-3.7:\n",
            "      Successfully uninstalled idna-3.7\n",
            "Successfully installed chardet-3.0.4 googletrans-3.1.0a0 h11-0.9.0 h2-3.2.0 hpack-3.0.0 hstspreload-2024.5.1 httpcore-0.9.1 httpx-0.13.3 hyperframe-5.2.0 idna-2.10 rfc3986-1.5.0\n"
          ]
        }
      ]
    },
    {
      "cell_type": "code",
      "source": [
        "gongji1_copy['content'] = gongji1_copy['content'].apply(clean_text)"
      ],
      "metadata": {
        "colab": {
          "base_uri": "https://localhost:8080/",
          "height": 301
        },
        "id": "N7Y7xcs8_BVe",
        "outputId": "e8697555-c8f1-48cd-fbe0-6ffa240c693f"
      },
      "execution_count": null,
      "outputs": [
        {
          "output_type": "error",
          "ename": "WriteError",
          "evalue": "EOF occurred in violation of protocol (_ssl.c:2426)",
          "traceback": [
            "\u001b[0;31m---------------------------------------------------------------------------\u001b[0m",
            "\u001b[0;31mWriteError\u001b[0m                                Traceback (most recent call last)",
            "\u001b[0;32m<ipython-input-12-76db3ebd6429>\u001b[0m in \u001b[0;36m<cell line: 1>\u001b[0;34m()\u001b[0m\n\u001b[0;32m----> 1\u001b[0;31m \u001b[0mgongji1_copy\u001b[0m\u001b[0;34m[\u001b[0m\u001b[0;34m'content'\u001b[0m\u001b[0;34m]\u001b[0m \u001b[0;34m=\u001b[0m \u001b[0mgongji1_copy\u001b[0m\u001b[0;34m[\u001b[0m\u001b[0;34m'content'\u001b[0m\u001b[0;34m]\u001b[0m\u001b[0;34m.\u001b[0m\u001b[0mapply\u001b[0m\u001b[0;34m(\u001b[0m\u001b[0mclean_text\u001b[0m\u001b[0;34m)\u001b[0m\u001b[0;34m\u001b[0m\u001b[0;34m\u001b[0m\u001b[0m\n\u001b[0m",
            "\u001b[0;32m/usr/local/lib/python3.10/dist-packages/pandas/core/series.py\u001b[0m in \u001b[0;36mapply\u001b[0;34m(self, func, convert_dtype, args, **kwargs)\u001b[0m\n\u001b[1;32m   4628\u001b[0m         \u001b[0mdtype\u001b[0m\u001b[0;34m:\u001b[0m \u001b[0mfloat64\u001b[0m\u001b[0;34m\u001b[0m\u001b[0;34m\u001b[0m\u001b[0m\n\u001b[1;32m   4629\u001b[0m         \"\"\"\n\u001b[0;32m-> 4630\u001b[0;31m         \u001b[0;32mreturn\u001b[0m \u001b[0mSeriesApply\u001b[0m\u001b[0;34m(\u001b[0m\u001b[0mself\u001b[0m\u001b[0;34m,\u001b[0m \u001b[0mfunc\u001b[0m\u001b[0;34m,\u001b[0m \u001b[0mconvert_dtype\u001b[0m\u001b[0;34m,\u001b[0m \u001b[0margs\u001b[0m\u001b[0;34m,\u001b[0m \u001b[0mkwargs\u001b[0m\u001b[0;34m)\u001b[0m\u001b[0;34m.\u001b[0m\u001b[0mapply\u001b[0m\u001b[0;34m(\u001b[0m\u001b[0;34m)\u001b[0m\u001b[0;34m\u001b[0m\u001b[0;34m\u001b[0m\u001b[0m\n\u001b[0m\u001b[1;32m   4631\u001b[0m \u001b[0;34m\u001b[0m\u001b[0m\n\u001b[1;32m   4632\u001b[0m     def _reduce(\n",
            "\u001b[0;32m/usr/local/lib/python3.10/dist-packages/pandas/core/apply.py\u001b[0m in \u001b[0;36mapply\u001b[0;34m(self)\u001b[0m\n\u001b[1;32m   1023\u001b[0m \u001b[0;34m\u001b[0m\u001b[0m\n\u001b[1;32m   1024\u001b[0m         \u001b[0;31m# self.f is Callable\u001b[0m\u001b[0;34m\u001b[0m\u001b[0;34m\u001b[0m\u001b[0m\n\u001b[0;32m-> 1025\u001b[0;31m         \u001b[0;32mreturn\u001b[0m \u001b[0mself\u001b[0m\u001b[0;34m.\u001b[0m\u001b[0mapply_standard\u001b[0m\u001b[0;34m(\u001b[0m\u001b[0;34m)\u001b[0m\u001b[0;34m\u001b[0m\u001b[0;34m\u001b[0m\u001b[0m\n\u001b[0m\u001b[1;32m   1026\u001b[0m \u001b[0;34m\u001b[0m\u001b[0m\n\u001b[1;32m   1027\u001b[0m     \u001b[0;32mdef\u001b[0m \u001b[0magg\u001b[0m\u001b[0;34m(\u001b[0m\u001b[0mself\u001b[0m\u001b[0;34m)\u001b[0m\u001b[0;34m:\u001b[0m\u001b[0;34m\u001b[0m\u001b[0;34m\u001b[0m\u001b[0m\n",
            "\u001b[0;32m/usr/local/lib/python3.10/dist-packages/pandas/core/apply.py\u001b[0m in \u001b[0;36mapply_standard\u001b[0;34m(self)\u001b[0m\n\u001b[1;32m   1074\u001b[0m             \u001b[0;32melse\u001b[0m\u001b[0;34m:\u001b[0m\u001b[0;34m\u001b[0m\u001b[0;34m\u001b[0m\u001b[0m\n\u001b[1;32m   1075\u001b[0m                 \u001b[0mvalues\u001b[0m \u001b[0;34m=\u001b[0m \u001b[0mobj\u001b[0m\u001b[0;34m.\u001b[0m\u001b[0mastype\u001b[0m\u001b[0;34m(\u001b[0m\u001b[0mobject\u001b[0m\u001b[0;34m)\u001b[0m\u001b[0;34m.\u001b[0m\u001b[0m_values\u001b[0m\u001b[0;34m\u001b[0m\u001b[0;34m\u001b[0m\u001b[0m\n\u001b[0;32m-> 1076\u001b[0;31m                 mapped = lib.map_infer(\n\u001b[0m\u001b[1;32m   1077\u001b[0m                     \u001b[0mvalues\u001b[0m\u001b[0;34m,\u001b[0m\u001b[0;34m\u001b[0m\u001b[0;34m\u001b[0m\u001b[0m\n\u001b[1;32m   1078\u001b[0m                     \u001b[0mf\u001b[0m\u001b[0;34m,\u001b[0m\u001b[0;34m\u001b[0m\u001b[0;34m\u001b[0m\u001b[0m\n",
            "\u001b[0;32m/usr/local/lib/python3.10/dist-packages/pandas/_libs/lib.pyx\u001b[0m in \u001b[0;36mpandas._libs.lib.map_infer\u001b[0;34m()\u001b[0m\n",
            "\u001b[0;32m<ipython-input-3-2792ddab2cd6>\u001b[0m in \u001b[0;36mclean_text\u001b[0;34m(text)\u001b[0m\n\u001b[1;32m      6\u001b[0m \u001b[0;32mdef\u001b[0m \u001b[0mclean_text\u001b[0m\u001b[0;34m(\u001b[0m\u001b[0mtext\u001b[0m\u001b[0;34m)\u001b[0m\u001b[0;34m:\u001b[0m\u001b[0;34m\u001b[0m\u001b[0;34m\u001b[0m\u001b[0m\n\u001b[1;32m      7\u001b[0m     \u001b[0mtranslator\u001b[0m \u001b[0;34m=\u001b[0m \u001b[0mTranslator\u001b[0m\u001b[0;34m(\u001b[0m\u001b[0;34m)\u001b[0m\u001b[0;34m\u001b[0m\u001b[0;34m\u001b[0m\u001b[0m\n\u001b[0;32m----> 8\u001b[0;31m     \u001b[0mdetected\u001b[0m \u001b[0;34m=\u001b[0m \u001b[0mtranslator\u001b[0m\u001b[0;34m.\u001b[0m\u001b[0mdetect\u001b[0m\u001b[0;34m(\u001b[0m\u001b[0mtext\u001b[0m\u001b[0;34m)\u001b[0m\u001b[0;34m\u001b[0m\u001b[0;34m\u001b[0m\u001b[0m\n\u001b[0m\u001b[1;32m      9\u001b[0m     \u001b[0mlang\u001b[0m \u001b[0;34m=\u001b[0m \u001b[0mdetected\u001b[0m\u001b[0;34m.\u001b[0m\u001b[0mlang\u001b[0m\u001b[0;34m\u001b[0m\u001b[0;34m\u001b[0m\u001b[0m\n\u001b[1;32m     10\u001b[0m     \u001b[0;32mif\u001b[0m \u001b[0mlang\u001b[0m \u001b[0;32min\u001b[0m \u001b[0;34m[\u001b[0m\u001b[0;34m'ko'\u001b[0m\u001b[0;34m,\u001b[0m \u001b[0;34m'en'\u001b[0m\u001b[0;34m]\u001b[0m\u001b[0;34m:\u001b[0m\u001b[0;34m\u001b[0m\u001b[0;34m\u001b[0m\u001b[0m\n",
            "\u001b[0;32m/usr/local/lib/python3.10/dist-packages/googletrans/client.py\u001b[0m in \u001b[0;36mdetect\u001b[0;34m(self, text, **kwargs)\u001b[0m\n\u001b[1;32m    283\u001b[0m             \u001b[0;32mreturn\u001b[0m \u001b[0mresult\u001b[0m\u001b[0;34m\u001b[0m\u001b[0;34m\u001b[0m\u001b[0m\n\u001b[1;32m    284\u001b[0m \u001b[0;34m\u001b[0m\u001b[0m\n\u001b[0;32m--> 285\u001b[0;31m         \u001b[0mdata\u001b[0m\u001b[0;34m,\u001b[0m \u001b[0mresponse\u001b[0m \u001b[0;34m=\u001b[0m \u001b[0mself\u001b[0m\u001b[0;34m.\u001b[0m\u001b[0m_translate\u001b[0m\u001b[0;34m(\u001b[0m\u001b[0mtext\u001b[0m\u001b[0;34m,\u001b[0m \u001b[0;34m'en'\u001b[0m\u001b[0;34m,\u001b[0m \u001b[0;34m'auto'\u001b[0m\u001b[0;34m,\u001b[0m \u001b[0mkwargs\u001b[0m\u001b[0;34m)\u001b[0m\u001b[0;34m\u001b[0m\u001b[0;34m\u001b[0m\u001b[0m\n\u001b[0m\u001b[1;32m    286\u001b[0m \u001b[0;34m\u001b[0m\u001b[0m\n\u001b[1;32m    287\u001b[0m         \u001b[0;31m# actual source language that will be recognized by Google Translator when the\u001b[0m\u001b[0;34m\u001b[0m\u001b[0;34m\u001b[0m\u001b[0m\n",
            "\u001b[0;32m/usr/local/lib/python3.10/dist-packages/googletrans/client.py\u001b[0m in \u001b[0;36m_translate\u001b[0;34m(self, text, dest, src, override)\u001b[0m\n\u001b[1;32m    106\u001b[0m \u001b[0;34m\u001b[0m\u001b[0m\n\u001b[1;32m    107\u001b[0m         \u001b[0murl\u001b[0m \u001b[0;34m=\u001b[0m \u001b[0murls\u001b[0m\u001b[0;34m.\u001b[0m\u001b[0mTRANSLATE\u001b[0m\u001b[0;34m.\u001b[0m\u001b[0mformat\u001b[0m\u001b[0;34m(\u001b[0m\u001b[0mhost\u001b[0m\u001b[0;34m=\u001b[0m\u001b[0mself\u001b[0m\u001b[0;34m.\u001b[0m\u001b[0m_pick_service_url\u001b[0m\u001b[0;34m(\u001b[0m\u001b[0;34m)\u001b[0m\u001b[0;34m)\u001b[0m\u001b[0;34m\u001b[0m\u001b[0;34m\u001b[0m\u001b[0m\n\u001b[0;32m--> 108\u001b[0;31m         \u001b[0mr\u001b[0m \u001b[0;34m=\u001b[0m \u001b[0mself\u001b[0m\u001b[0;34m.\u001b[0m\u001b[0mclient\u001b[0m\u001b[0;34m.\u001b[0m\u001b[0mget\u001b[0m\u001b[0;34m(\u001b[0m\u001b[0murl\u001b[0m\u001b[0;34m,\u001b[0m \u001b[0mparams\u001b[0m\u001b[0;34m=\u001b[0m\u001b[0mparams\u001b[0m\u001b[0;34m)\u001b[0m\u001b[0;34m\u001b[0m\u001b[0;34m\u001b[0m\u001b[0m\n\u001b[0m\u001b[1;32m    109\u001b[0m \u001b[0;34m\u001b[0m\u001b[0m\n\u001b[1;32m    110\u001b[0m         \u001b[0;32mif\u001b[0m \u001b[0mr\u001b[0m\u001b[0;34m.\u001b[0m\u001b[0mstatus_code\u001b[0m \u001b[0;34m==\u001b[0m \u001b[0;36m200\u001b[0m\u001b[0;34m:\u001b[0m\u001b[0;34m\u001b[0m\u001b[0;34m\u001b[0m\u001b[0m\n",
            "\u001b[0;32m/usr/local/lib/python3.10/dist-packages/httpx/_client.py\u001b[0m in \u001b[0;36mget\u001b[0;34m(self, url, params, headers, cookies, auth, allow_redirects, timeout)\u001b[0m\n\u001b[1;32m    753\u001b[0m         \u001b[0mtimeout\u001b[0m\u001b[0;34m:\u001b[0m \u001b[0mtyping\u001b[0m\u001b[0;34m.\u001b[0m\u001b[0mUnion\u001b[0m\u001b[0;34m[\u001b[0m\u001b[0mTimeoutTypes\u001b[0m\u001b[0;34m,\u001b[0m \u001b[0mUnsetType\u001b[0m\u001b[0;34m]\u001b[0m \u001b[0;34m=\u001b[0m \u001b[0mUNSET\u001b[0m\u001b[0;34m,\u001b[0m\u001b[0;34m\u001b[0m\u001b[0;34m\u001b[0m\u001b[0m\n\u001b[1;32m    754\u001b[0m     ) -> Response:\n\u001b[0;32m--> 755\u001b[0;31m         return self.request(\n\u001b[0m\u001b[1;32m    756\u001b[0m             \u001b[0;34m\"GET\"\u001b[0m\u001b[0;34m,\u001b[0m\u001b[0;34m\u001b[0m\u001b[0;34m\u001b[0m\u001b[0m\n\u001b[1;32m    757\u001b[0m             \u001b[0murl\u001b[0m\u001b[0;34m,\u001b[0m\u001b[0;34m\u001b[0m\u001b[0;34m\u001b[0m\u001b[0m\n",
            "\u001b[0;32m/usr/local/lib/python3.10/dist-packages/httpx/_client.py\u001b[0m in \u001b[0;36mrequest\u001b[0;34m(self, method, url, data, files, json, params, headers, cookies, auth, allow_redirects, timeout)\u001b[0m\n\u001b[1;32m    598\u001b[0m             \u001b[0mcookies\u001b[0m\u001b[0;34m=\u001b[0m\u001b[0mcookies\u001b[0m\u001b[0;34m,\u001b[0m\u001b[0;34m\u001b[0m\u001b[0;34m\u001b[0m\u001b[0m\n\u001b[1;32m    599\u001b[0m         )\n\u001b[0;32m--> 600\u001b[0;31m         return self.send(\n\u001b[0m\u001b[1;32m    601\u001b[0m             \u001b[0mrequest\u001b[0m\u001b[0;34m,\u001b[0m \u001b[0mauth\u001b[0m\u001b[0;34m=\u001b[0m\u001b[0mauth\u001b[0m\u001b[0;34m,\u001b[0m \u001b[0mallow_redirects\u001b[0m\u001b[0;34m=\u001b[0m\u001b[0mallow_redirects\u001b[0m\u001b[0;34m,\u001b[0m \u001b[0mtimeout\u001b[0m\u001b[0;34m=\u001b[0m\u001b[0mtimeout\u001b[0m\u001b[0;34m,\u001b[0m\u001b[0;34m\u001b[0m\u001b[0;34m\u001b[0m\u001b[0m\n\u001b[1;32m    602\u001b[0m         )\n",
            "\u001b[0;32m/usr/local/lib/python3.10/dist-packages/httpx/_client.py\u001b[0m in \u001b[0;36msend\u001b[0;34m(self, request, stream, auth, allow_redirects, timeout)\u001b[0m\n\u001b[1;32m    618\u001b[0m         \u001b[0mauth\u001b[0m \u001b[0;34m=\u001b[0m \u001b[0mself\u001b[0m\u001b[0;34m.\u001b[0m\u001b[0mbuild_auth\u001b[0m\u001b[0;34m(\u001b[0m\u001b[0mrequest\u001b[0m\u001b[0;34m,\u001b[0m \u001b[0mauth\u001b[0m\u001b[0;34m)\u001b[0m\u001b[0;34m\u001b[0m\u001b[0;34m\u001b[0m\u001b[0m\n\u001b[1;32m    619\u001b[0m \u001b[0;34m\u001b[0m\u001b[0m\n\u001b[0;32m--> 620\u001b[0;31m         response = self.send_handling_redirects(\n\u001b[0m\u001b[1;32m    621\u001b[0m             \u001b[0mrequest\u001b[0m\u001b[0;34m,\u001b[0m \u001b[0mauth\u001b[0m\u001b[0;34m=\u001b[0m\u001b[0mauth\u001b[0m\u001b[0;34m,\u001b[0m \u001b[0mtimeout\u001b[0m\u001b[0;34m=\u001b[0m\u001b[0mtimeout\u001b[0m\u001b[0;34m,\u001b[0m \u001b[0mallow_redirects\u001b[0m\u001b[0;34m=\u001b[0m\u001b[0mallow_redirects\u001b[0m\u001b[0;34m,\u001b[0m\u001b[0;34m\u001b[0m\u001b[0;34m\u001b[0m\u001b[0m\n\u001b[1;32m    622\u001b[0m         )\n",
            "\u001b[0;32m/usr/local/lib/python3.10/dist-packages/httpx/_client.py\u001b[0m in \u001b[0;36msend_handling_redirects\u001b[0;34m(self, request, auth, timeout, allow_redirects, history)\u001b[0m\n\u001b[1;32m    645\u001b[0m                 \u001b[0;32mraise\u001b[0m \u001b[0mTooManyRedirects\u001b[0m\u001b[0;34m(\u001b[0m\u001b[0;34m)\u001b[0m\u001b[0;34m\u001b[0m\u001b[0;34m\u001b[0m\u001b[0m\n\u001b[1;32m    646\u001b[0m \u001b[0;34m\u001b[0m\u001b[0m\n\u001b[0;32m--> 647\u001b[0;31m             response = self.send_handling_auth(\n\u001b[0m\u001b[1;32m    648\u001b[0m                 \u001b[0mrequest\u001b[0m\u001b[0;34m,\u001b[0m \u001b[0mauth\u001b[0m\u001b[0;34m=\u001b[0m\u001b[0mauth\u001b[0m\u001b[0;34m,\u001b[0m \u001b[0mtimeout\u001b[0m\u001b[0;34m=\u001b[0m\u001b[0mtimeout\u001b[0m\u001b[0;34m,\u001b[0m \u001b[0mhistory\u001b[0m\u001b[0;34m=\u001b[0m\u001b[0mhistory\u001b[0m\u001b[0;34m\u001b[0m\u001b[0;34m\u001b[0m\u001b[0m\n\u001b[1;32m    649\u001b[0m             )\n",
            "\u001b[0;32m/usr/local/lib/python3.10/dist-packages/httpx/_client.py\u001b[0m in \u001b[0;36msend_handling_auth\u001b[0;34m(self, request, history, auth, timeout)\u001b[0m\n\u001b[1;32m    682\u001b[0m         \u001b[0mrequest\u001b[0m \u001b[0;34m=\u001b[0m \u001b[0mnext\u001b[0m\u001b[0;34m(\u001b[0m\u001b[0mauth_flow\u001b[0m\u001b[0;34m)\u001b[0m\u001b[0;34m\u001b[0m\u001b[0;34m\u001b[0m\u001b[0m\n\u001b[1;32m    683\u001b[0m         \u001b[0;32mwhile\u001b[0m \u001b[0;32mTrue\u001b[0m\u001b[0;34m:\u001b[0m\u001b[0;34m\u001b[0m\u001b[0;34m\u001b[0m\u001b[0m\n\u001b[0;32m--> 684\u001b[0;31m             \u001b[0mresponse\u001b[0m \u001b[0;34m=\u001b[0m \u001b[0mself\u001b[0m\u001b[0;34m.\u001b[0m\u001b[0msend_single_request\u001b[0m\u001b[0;34m(\u001b[0m\u001b[0mrequest\u001b[0m\u001b[0;34m,\u001b[0m \u001b[0mtimeout\u001b[0m\u001b[0;34m)\u001b[0m\u001b[0;34m\u001b[0m\u001b[0;34m\u001b[0m\u001b[0m\n\u001b[0m\u001b[1;32m    685\u001b[0m             \u001b[0;32mif\u001b[0m \u001b[0mauth\u001b[0m\u001b[0;34m.\u001b[0m\u001b[0mrequires_response_body\u001b[0m\u001b[0;34m:\u001b[0m\u001b[0;34m\u001b[0m\u001b[0;34m\u001b[0m\u001b[0m\n\u001b[1;32m    686\u001b[0m                 \u001b[0mresponse\u001b[0m\u001b[0;34m.\u001b[0m\u001b[0mread\u001b[0m\u001b[0;34m(\u001b[0m\u001b[0;34m)\u001b[0m\u001b[0;34m\u001b[0m\u001b[0;34m\u001b[0m\u001b[0m\n",
            "\u001b[0;32m/usr/local/lib/python3.10/dist-packages/httpx/_client.py\u001b[0m in \u001b[0;36msend_single_request\u001b[0;34m(self, request, timeout)\u001b[0m\n\u001b[1;32m    712\u001b[0m                 \u001b[0mheaders\u001b[0m\u001b[0;34m,\u001b[0m\u001b[0;34m\u001b[0m\u001b[0;34m\u001b[0m\u001b[0m\n\u001b[1;32m    713\u001b[0m                 \u001b[0mstream\u001b[0m\u001b[0;34m,\u001b[0m\u001b[0;34m\u001b[0m\u001b[0;34m\u001b[0m\u001b[0m\n\u001b[0;32m--> 714\u001b[0;31m             \u001b[0;34m)\u001b[0m \u001b[0;34m=\u001b[0m \u001b[0mtransport\u001b[0m\u001b[0;34m.\u001b[0m\u001b[0mrequest\u001b[0m\u001b[0;34m(\u001b[0m\u001b[0;34m\u001b[0m\u001b[0;34m\u001b[0m\u001b[0m\n\u001b[0m\u001b[1;32m    715\u001b[0m                 \u001b[0mrequest\u001b[0m\u001b[0;34m.\u001b[0m\u001b[0mmethod\u001b[0m\u001b[0;34m.\u001b[0m\u001b[0mencode\u001b[0m\u001b[0;34m(\u001b[0m\u001b[0;34m)\u001b[0m\u001b[0;34m,\u001b[0m\u001b[0;34m\u001b[0m\u001b[0;34m\u001b[0m\u001b[0m\n\u001b[1;32m    716\u001b[0m                 \u001b[0mrequest\u001b[0m\u001b[0;34m.\u001b[0m\u001b[0murl\u001b[0m\u001b[0;34m.\u001b[0m\u001b[0mraw\u001b[0m\u001b[0;34m,\u001b[0m\u001b[0;34m\u001b[0m\u001b[0;34m\u001b[0m\u001b[0m\n",
            "\u001b[0;32m/usr/local/lib/python3.10/dist-packages/httpcore/_sync/connection_pool.py\u001b[0m in \u001b[0;36mrequest\u001b[0;34m(self, method, url, headers, stream, timeout)\u001b[0m\n\u001b[1;32m    150\u001b[0m \u001b[0;34m\u001b[0m\u001b[0m\n\u001b[1;32m    151\u001b[0m             \u001b[0;32mtry\u001b[0m\u001b[0;34m:\u001b[0m\u001b[0;34m\u001b[0m\u001b[0;34m\u001b[0m\u001b[0m\n\u001b[0;32m--> 152\u001b[0;31m                 response = connection.request(\n\u001b[0m\u001b[1;32m    153\u001b[0m                     \u001b[0mmethod\u001b[0m\u001b[0;34m,\u001b[0m \u001b[0murl\u001b[0m\u001b[0;34m,\u001b[0m \u001b[0mheaders\u001b[0m\u001b[0;34m=\u001b[0m\u001b[0mheaders\u001b[0m\u001b[0;34m,\u001b[0m \u001b[0mstream\u001b[0m\u001b[0;34m=\u001b[0m\u001b[0mstream\u001b[0m\u001b[0;34m,\u001b[0m \u001b[0mtimeout\u001b[0m\u001b[0;34m=\u001b[0m\u001b[0mtimeout\u001b[0m\u001b[0;34m\u001b[0m\u001b[0;34m\u001b[0m\u001b[0m\n\u001b[1;32m    154\u001b[0m                 )\n",
            "\u001b[0;32m/usr/local/lib/python3.10/dist-packages/httpcore/_sync/connection.py\u001b[0m in \u001b[0;36mrequest\u001b[0;34m(self, method, url, headers, stream, timeout)\u001b[0m\n\u001b[1;32m     76\u001b[0m             \u001b[0;34m\"connection.request method=%r url=%r headers=%r\"\u001b[0m\u001b[0;34m,\u001b[0m \u001b[0mmethod\u001b[0m\u001b[0;34m,\u001b[0m \u001b[0murl\u001b[0m\u001b[0;34m,\u001b[0m \u001b[0mheaders\u001b[0m\u001b[0;34m\u001b[0m\u001b[0;34m\u001b[0m\u001b[0m\n\u001b[1;32m     77\u001b[0m         )\n\u001b[0;32m---> 78\u001b[0;31m         \u001b[0;32mreturn\u001b[0m \u001b[0mself\u001b[0m\u001b[0;34m.\u001b[0m\u001b[0mconnection\u001b[0m\u001b[0;34m.\u001b[0m\u001b[0mrequest\u001b[0m\u001b[0;34m(\u001b[0m\u001b[0mmethod\u001b[0m\u001b[0;34m,\u001b[0m \u001b[0murl\u001b[0m\u001b[0;34m,\u001b[0m \u001b[0mheaders\u001b[0m\u001b[0;34m,\u001b[0m \u001b[0mstream\u001b[0m\u001b[0;34m,\u001b[0m \u001b[0mtimeout\u001b[0m\u001b[0;34m)\u001b[0m\u001b[0;34m\u001b[0m\u001b[0;34m\u001b[0m\u001b[0m\n\u001b[0m\u001b[1;32m     79\u001b[0m \u001b[0;34m\u001b[0m\u001b[0m\n\u001b[1;32m     80\u001b[0m     \u001b[0;32mdef\u001b[0m \u001b[0m_open_socket\u001b[0m\u001b[0;34m(\u001b[0m\u001b[0mself\u001b[0m\u001b[0;34m,\u001b[0m \u001b[0mtimeout\u001b[0m\u001b[0;34m:\u001b[0m \u001b[0mTimeoutDict\u001b[0m \u001b[0;34m=\u001b[0m \u001b[0;32mNone\u001b[0m\u001b[0;34m)\u001b[0m \u001b[0;34m->\u001b[0m \u001b[0mSyncSocketStream\u001b[0m\u001b[0;34m:\u001b[0m\u001b[0;34m\u001b[0m\u001b[0;34m\u001b[0m\u001b[0m\n",
            "\u001b[0;32m/usr/local/lib/python3.10/dist-packages/httpcore/_sync/http2.py\u001b[0m in \u001b[0;36mrequest\u001b[0;34m(self, method, url, headers, stream, timeout)\u001b[0m\n\u001b[1;32m    116\u001b[0m             \u001b[0mself\u001b[0m\u001b[0;34m.\u001b[0m\u001b[0mstreams\u001b[0m\u001b[0;34m[\u001b[0m\u001b[0mstream_id\u001b[0m\u001b[0;34m]\u001b[0m \u001b[0;34m=\u001b[0m \u001b[0mh2_stream\u001b[0m\u001b[0;34m\u001b[0m\u001b[0;34m\u001b[0m\u001b[0m\n\u001b[1;32m    117\u001b[0m             \u001b[0mself\u001b[0m\u001b[0;34m.\u001b[0m\u001b[0mevents\u001b[0m\u001b[0;34m[\u001b[0m\u001b[0mstream_id\u001b[0m\u001b[0;34m]\u001b[0m \u001b[0;34m=\u001b[0m \u001b[0;34m[\u001b[0m\u001b[0;34m]\u001b[0m\u001b[0;34m\u001b[0m\u001b[0;34m\u001b[0m\u001b[0m\n\u001b[0;32m--> 118\u001b[0;31m             \u001b[0;32mreturn\u001b[0m \u001b[0mh2_stream\u001b[0m\u001b[0;34m.\u001b[0m\u001b[0mrequest\u001b[0m\u001b[0;34m(\u001b[0m\u001b[0mmethod\u001b[0m\u001b[0;34m,\u001b[0m \u001b[0murl\u001b[0m\u001b[0;34m,\u001b[0m \u001b[0mheaders\u001b[0m\u001b[0;34m,\u001b[0m \u001b[0mstream\u001b[0m\u001b[0;34m,\u001b[0m \u001b[0mtimeout\u001b[0m\u001b[0;34m)\u001b[0m\u001b[0;34m\u001b[0m\u001b[0;34m\u001b[0m\u001b[0m\n\u001b[0m\u001b[1;32m    119\u001b[0m         \u001b[0;32mexcept\u001b[0m \u001b[0mException\u001b[0m\u001b[0;34m:\u001b[0m\u001b[0;34m\u001b[0m\u001b[0;34m\u001b[0m\u001b[0m\n\u001b[1;32m    120\u001b[0m             \u001b[0mself\u001b[0m\u001b[0;34m.\u001b[0m\u001b[0mmax_streams_semaphore\u001b[0m\u001b[0;34m.\u001b[0m\u001b[0mrelease\u001b[0m\u001b[0;34m(\u001b[0m\u001b[0;34m)\u001b[0m\u001b[0;34m\u001b[0m\u001b[0;34m\u001b[0m\u001b[0m\n",
            "\u001b[0;32m/usr/local/lib/python3.10/dist-packages/httpcore/_sync/http2.py\u001b[0m in \u001b[0;36mrequest\u001b[0;34m(self, method, url, headers, stream, timeout)\u001b[0m\n\u001b[1;32m    290\u001b[0m \u001b[0;34m\u001b[0m\u001b[0m\n\u001b[1;32m    291\u001b[0m         \u001b[0;31m# Receive the response.\u001b[0m\u001b[0;34m\u001b[0m\u001b[0;34m\u001b[0m\u001b[0m\n\u001b[0;32m--> 292\u001b[0;31m         \u001b[0mstatus_code\u001b[0m\u001b[0;34m,\u001b[0m \u001b[0mheaders\u001b[0m \u001b[0;34m=\u001b[0m \u001b[0mself\u001b[0m\u001b[0;34m.\u001b[0m\u001b[0mreceive_response\u001b[0m\u001b[0;34m(\u001b[0m\u001b[0mtimeout\u001b[0m\u001b[0;34m)\u001b[0m\u001b[0;34m\u001b[0m\u001b[0;34m\u001b[0m\u001b[0m\n\u001b[0m\u001b[1;32m    293\u001b[0m         \u001b[0mreason_phrase\u001b[0m \u001b[0;34m=\u001b[0m \u001b[0mget_reason_phrase\u001b[0m\u001b[0;34m(\u001b[0m\u001b[0mstatus_code\u001b[0m\u001b[0;34m)\u001b[0m\u001b[0;34m\u001b[0m\u001b[0;34m\u001b[0m\u001b[0m\n\u001b[1;32m    294\u001b[0m         stream = SyncByteStream(\n",
            "\u001b[0;32m/usr/local/lib/python3.10/dist-packages/httpcore/_sync/http2.py\u001b[0m in \u001b[0;36mreceive_response\u001b[0;34m(self, timeout)\u001b[0m\n\u001b[1;32m    342\u001b[0m         \"\"\"\n\u001b[1;32m    343\u001b[0m         \u001b[0;32mwhile\u001b[0m \u001b[0;32mTrue\u001b[0m\u001b[0;34m:\u001b[0m\u001b[0;34m\u001b[0m\u001b[0;34m\u001b[0m\u001b[0m\n\u001b[0;32m--> 344\u001b[0;31m             \u001b[0mevent\u001b[0m \u001b[0;34m=\u001b[0m \u001b[0mself\u001b[0m\u001b[0;34m.\u001b[0m\u001b[0mconnection\u001b[0m\u001b[0;34m.\u001b[0m\u001b[0mwait_for_event\u001b[0m\u001b[0;34m(\u001b[0m\u001b[0mself\u001b[0m\u001b[0;34m.\u001b[0m\u001b[0mstream_id\u001b[0m\u001b[0;34m,\u001b[0m \u001b[0mtimeout\u001b[0m\u001b[0;34m)\u001b[0m\u001b[0;34m\u001b[0m\u001b[0;34m\u001b[0m\u001b[0m\n\u001b[0m\u001b[1;32m    345\u001b[0m             \u001b[0;32mif\u001b[0m \u001b[0misinstance\u001b[0m\u001b[0;34m(\u001b[0m\u001b[0mevent\u001b[0m\u001b[0;34m,\u001b[0m \u001b[0mh2\u001b[0m\u001b[0;34m.\u001b[0m\u001b[0mevents\u001b[0m\u001b[0;34m.\u001b[0m\u001b[0mResponseReceived\u001b[0m\u001b[0;34m)\u001b[0m\u001b[0;34m:\u001b[0m\u001b[0;34m\u001b[0m\u001b[0;34m\u001b[0m\u001b[0m\n\u001b[1;32m    346\u001b[0m                 \u001b[0;32mbreak\u001b[0m\u001b[0;34m\u001b[0m\u001b[0;34m\u001b[0m\u001b[0m\n",
            "\u001b[0;32m/usr/local/lib/python3.10/dist-packages/httpcore/_sync/http2.py\u001b[0m in \u001b[0;36mwait_for_event\u001b[0;34m(self, stream_id, timeout)\u001b[0m\n\u001b[1;32m    195\u001b[0m         \u001b[0;32mwith\u001b[0m \u001b[0mself\u001b[0m\u001b[0;34m.\u001b[0m\u001b[0mread_lock\u001b[0m\u001b[0;34m:\u001b[0m\u001b[0;34m\u001b[0m\u001b[0;34m\u001b[0m\u001b[0m\n\u001b[1;32m    196\u001b[0m             \u001b[0;32mwhile\u001b[0m \u001b[0;32mnot\u001b[0m \u001b[0mself\u001b[0m\u001b[0;34m.\u001b[0m\u001b[0mevents\u001b[0m\u001b[0;34m[\u001b[0m\u001b[0mstream_id\u001b[0m\u001b[0;34m]\u001b[0m\u001b[0;34m:\u001b[0m\u001b[0;34m\u001b[0m\u001b[0;34m\u001b[0m\u001b[0m\n\u001b[0;32m--> 197\u001b[0;31m                 \u001b[0mself\u001b[0m\u001b[0;34m.\u001b[0m\u001b[0mreceive_events\u001b[0m\u001b[0;34m(\u001b[0m\u001b[0mtimeout\u001b[0m\u001b[0;34m)\u001b[0m\u001b[0;34m\u001b[0m\u001b[0;34m\u001b[0m\u001b[0m\n\u001b[0m\u001b[1;32m    198\u001b[0m         \u001b[0;32mreturn\u001b[0m \u001b[0mself\u001b[0m\u001b[0;34m.\u001b[0m\u001b[0mevents\u001b[0m\u001b[0;34m[\u001b[0m\u001b[0mstream_id\u001b[0m\u001b[0;34m]\u001b[0m\u001b[0;34m.\u001b[0m\u001b[0mpop\u001b[0m\u001b[0;34m(\u001b[0m\u001b[0;36m0\u001b[0m\u001b[0;34m)\u001b[0m\u001b[0;34m\u001b[0m\u001b[0;34m\u001b[0m\u001b[0m\n\u001b[1;32m    199\u001b[0m \u001b[0;34m\u001b[0m\u001b[0m\n",
            "\u001b[0;32m/usr/local/lib/python3.10/dist-packages/httpcore/_sync/http2.py\u001b[0m in \u001b[0;36mreceive_events\u001b[0;34m(self, timeout)\u001b[0m\n\u001b[1;32m    215\u001b[0m \u001b[0;34m\u001b[0m\u001b[0m\n\u001b[1;32m    216\u001b[0m         \u001b[0mdata_to_send\u001b[0m \u001b[0;34m=\u001b[0m \u001b[0mself\u001b[0m\u001b[0;34m.\u001b[0m\u001b[0mh2_state\u001b[0m\u001b[0;34m.\u001b[0m\u001b[0mdata_to_send\u001b[0m\u001b[0;34m(\u001b[0m\u001b[0;34m)\u001b[0m\u001b[0;34m\u001b[0m\u001b[0;34m\u001b[0m\u001b[0m\n\u001b[0;32m--> 217\u001b[0;31m         \u001b[0mself\u001b[0m\u001b[0;34m.\u001b[0m\u001b[0msocket\u001b[0m\u001b[0;34m.\u001b[0m\u001b[0mwrite\u001b[0m\u001b[0;34m(\u001b[0m\u001b[0mdata_to_send\u001b[0m\u001b[0;34m,\u001b[0m \u001b[0mtimeout\u001b[0m\u001b[0;34m)\u001b[0m\u001b[0;34m\u001b[0m\u001b[0;34m\u001b[0m\u001b[0m\n\u001b[0m\u001b[1;32m    218\u001b[0m \u001b[0;34m\u001b[0m\u001b[0m\n\u001b[1;32m    219\u001b[0m     def send_headers(\n",
            "\u001b[0;32m/usr/local/lib/python3.10/dist-packages/httpcore/_backends/sync.py\u001b[0m in \u001b[0;36mwrite\u001b[0;34m(self, data, timeout)\u001b[0m\n\u001b[1;32m     67\u001b[0m \u001b[0;34m\u001b[0m\u001b[0m\n\u001b[1;32m     68\u001b[0m         \u001b[0;32mwith\u001b[0m \u001b[0mself\u001b[0m\u001b[0;34m.\u001b[0m\u001b[0mwrite_lock\u001b[0m\u001b[0;34m:\u001b[0m\u001b[0;34m\u001b[0m\u001b[0;34m\u001b[0m\u001b[0m\n\u001b[0;32m---> 69\u001b[0;31m             \u001b[0;32mwith\u001b[0m \u001b[0mmap_exceptions\u001b[0m\u001b[0;34m(\u001b[0m\u001b[0mexc_map\u001b[0m\u001b[0;34m)\u001b[0m\u001b[0;34m:\u001b[0m\u001b[0;34m\u001b[0m\u001b[0;34m\u001b[0m\u001b[0m\n\u001b[0m\u001b[1;32m     70\u001b[0m                 \u001b[0;32mwhile\u001b[0m \u001b[0mdata\u001b[0m\u001b[0;34m:\u001b[0m\u001b[0;34m\u001b[0m\u001b[0;34m\u001b[0m\u001b[0m\n\u001b[1;32m     71\u001b[0m                     \u001b[0mself\u001b[0m\u001b[0;34m.\u001b[0m\u001b[0msock\u001b[0m\u001b[0;34m.\u001b[0m\u001b[0msettimeout\u001b[0m\u001b[0;34m(\u001b[0m\u001b[0mwrite_timeout\u001b[0m\u001b[0;34m)\u001b[0m\u001b[0;34m\u001b[0m\u001b[0;34m\u001b[0m\u001b[0m\n",
            "\u001b[0;32m/usr/lib/python3.10/contextlib.py\u001b[0m in \u001b[0;36m__exit__\u001b[0;34m(self, typ, value, traceback)\u001b[0m\n\u001b[1;32m    151\u001b[0m                 \u001b[0mvalue\u001b[0m \u001b[0;34m=\u001b[0m \u001b[0mtyp\u001b[0m\u001b[0;34m(\u001b[0m\u001b[0;34m)\u001b[0m\u001b[0;34m\u001b[0m\u001b[0;34m\u001b[0m\u001b[0m\n\u001b[1;32m    152\u001b[0m             \u001b[0;32mtry\u001b[0m\u001b[0;34m:\u001b[0m\u001b[0;34m\u001b[0m\u001b[0;34m\u001b[0m\u001b[0m\n\u001b[0;32m--> 153\u001b[0;31m                 \u001b[0mself\u001b[0m\u001b[0;34m.\u001b[0m\u001b[0mgen\u001b[0m\u001b[0;34m.\u001b[0m\u001b[0mthrow\u001b[0m\u001b[0;34m(\u001b[0m\u001b[0mtyp\u001b[0m\u001b[0;34m,\u001b[0m \u001b[0mvalue\u001b[0m\u001b[0;34m,\u001b[0m \u001b[0mtraceback\u001b[0m\u001b[0;34m)\u001b[0m\u001b[0;34m\u001b[0m\u001b[0;34m\u001b[0m\u001b[0m\n\u001b[0m\u001b[1;32m    154\u001b[0m             \u001b[0;32mexcept\u001b[0m \u001b[0mStopIteration\u001b[0m \u001b[0;32mas\u001b[0m \u001b[0mexc\u001b[0m\u001b[0;34m:\u001b[0m\u001b[0;34m\u001b[0m\u001b[0;34m\u001b[0m\u001b[0m\n\u001b[1;32m    155\u001b[0m                 \u001b[0;31m# Suppress StopIteration *unless* it's the same exception that\u001b[0m\u001b[0;34m\u001b[0m\u001b[0;34m\u001b[0m\u001b[0m\n",
            "\u001b[0;32m/usr/local/lib/python3.10/dist-packages/httpcore/_exceptions.py\u001b[0m in \u001b[0;36mmap_exceptions\u001b[0;34m(map)\u001b[0m\n\u001b[1;32m     10\u001b[0m         \u001b[0;32mfor\u001b[0m \u001b[0mfrom_exc\u001b[0m\u001b[0;34m,\u001b[0m \u001b[0mto_exc\u001b[0m \u001b[0;32min\u001b[0m \u001b[0mmap\u001b[0m\u001b[0;34m.\u001b[0m\u001b[0mitems\u001b[0m\u001b[0;34m(\u001b[0m\u001b[0;34m)\u001b[0m\u001b[0;34m:\u001b[0m\u001b[0;34m\u001b[0m\u001b[0;34m\u001b[0m\u001b[0m\n\u001b[1;32m     11\u001b[0m             \u001b[0;32mif\u001b[0m \u001b[0misinstance\u001b[0m\u001b[0;34m(\u001b[0m\u001b[0mexc\u001b[0m\u001b[0;34m,\u001b[0m \u001b[0mfrom_exc\u001b[0m\u001b[0;34m)\u001b[0m\u001b[0;34m:\u001b[0m\u001b[0;34m\u001b[0m\u001b[0;34m\u001b[0m\u001b[0m\n\u001b[0;32m---> 12\u001b[0;31m                 \u001b[0;32mraise\u001b[0m \u001b[0mto_exc\u001b[0m\u001b[0;34m(\u001b[0m\u001b[0mexc\u001b[0m\u001b[0;34m)\u001b[0m \u001b[0;32mfrom\u001b[0m \u001b[0;32mNone\u001b[0m\u001b[0;34m\u001b[0m\u001b[0;34m\u001b[0m\u001b[0m\n\u001b[0m\u001b[1;32m     13\u001b[0m         \u001b[0;32mraise\u001b[0m\u001b[0;34m\u001b[0m\u001b[0;34m\u001b[0m\u001b[0m\n\u001b[1;32m     14\u001b[0m \u001b[0;34m\u001b[0m\u001b[0m\n",
            "\u001b[0;31mWriteError\u001b[0m: EOF occurred in violation of protocol (_ssl.c:2426)"
          ]
        }
      ]
    },
    {
      "cell_type": "code",
      "source": [],
      "metadata": {
        "id": "CDsvuvKf_sS-"
      },
      "execution_count": null,
      "outputs": []
    }
  ]
}
